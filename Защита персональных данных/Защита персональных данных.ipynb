{
 "cells": [
  {
   "cell_type": "markdown",
   "metadata": {
    "toc": true
   },
   "source": [
    "<h1>Содержание<span class=\"tocSkip\"></span></h1>\n",
    "<div class=\"toc\"><ul class=\"toc-item\"><li><span><a href=\"#Загрузка-данных\" data-toc-modified-id=\"Загрузка-данных-1\"><span class=\"toc-item-num\">1&nbsp;&nbsp;</span>Загрузка данных</a></span></li><li><span><a href=\"#Умножение-матриц\" data-toc-modified-id=\"Умножение-матриц-2\"><span class=\"toc-item-num\">2&nbsp;&nbsp;</span>Умножение матриц</a></span></li><li><span><a href=\"#Алгоритм-преобразования\" data-toc-modified-id=\"Алгоритм-преобразования-3\"><span class=\"toc-item-num\">3&nbsp;&nbsp;</span>Алгоритм преобразования</a></span></li><li><span><a href=\"#Проверка-алгоритма\" data-toc-modified-id=\"Проверка-алгоритма-4\"><span class=\"toc-item-num\">4&nbsp;&nbsp;</span>Проверка алгоритма</a></span><ul class=\"toc-item\"><li><span><a href=\"#Вывод:\" data-toc-modified-id=\"Вывод:-4.1\"><span class=\"toc-item-num\">4.1&nbsp;&nbsp;</span>Вывод:</a></span></li></ul></li><li><span><a href=\"#Чек-лист-проверки\" data-toc-modified-id=\"Чек-лист-проверки-5\"><span class=\"toc-item-num\">5&nbsp;&nbsp;</span>Чек-лист проверки</a></span></li></ul></div>"
   ]
  },
  {
   "cell_type": "markdown",
   "metadata": {},
   "source": [
    "# Защита персональных данных клиентов"
   ]
  },
  {
   "cell_type": "markdown",
   "metadata": {},
   "source": [
    "Вам нужно защитить данные клиентов страховой компании «Хоть потоп». Разработайте такой метод преобразования данных, чтобы по ним было сложно восстановить персональную информацию. Обоснуйте корректность его работы.\n",
    "\n",
    "Нужно защитить данные, чтобы при преобразовании качество моделей машинного обучения не ухудшилось. Подбирать наилучшую модель не требуется."
   ]
  },
  {
   "cell_type": "markdown",
   "metadata": {},
   "source": [
    "## Загрузка данных"
   ]
  },
  {
   "cell_type": "code",
   "execution_count": 1,
   "metadata": {},
   "outputs": [],
   "source": [
    "import pandas as pd\n",
    "import numpy as np\n",
    "import matplotlib.pyplot as plt\n",
    "from sklearn.model_selection import train_test_split\n",
    "from sklearn.linear_model import LinearRegression\n",
    "from sklearn.metrics import accuracy_score\n",
    "from sklearn.metrics import r2_score\n",
    "from sklearn.metrics import mean_absolute_error\n",
    "from sklearn.metrics import roc_auc_score\n",
    "from sklearn.metrics import f1_score\n",
    "from sklearn.utils import shuffle\n",
    "from sklearn.metrics import roc_curve\n",
    "from sklearn.model_selection import cross_val_score\n",
    "from sklearn.metrics import mean_squared_error\n",
    "from sklearn.tree import DecisionTreeRegressor\n",
    "from sklearn.ensemble import RandomForestRegressor\n",
    "from sklearn.ensemble import RandomForestClassifier\n",
    "from sklearn.linear_model import LogisticRegression\n",
    "from sklearn.tree import DecisionTreeClassifier\n",
    "from collections import Counter\n",
    "from sklearn.metrics.scorer import make_scorer\n",
    "from sklearn.dummy import DummyRegressor"
   ]
  },
  {
   "cell_type": "code",
   "execution_count": 2,
   "metadata": {},
   "outputs": [
    {
     "name": "stdout",
     "output_type": "stream",
     "text": [
      "<class 'pandas.core.frame.DataFrame'>\n",
      "RangeIndex: 5000 entries, 0 to 4999\n",
      "Data columns (total 5 columns):\n",
      "Пол                  5000 non-null int64\n",
      "Возраст              5000 non-null float64\n",
      "Зарплата             5000 non-null float64\n",
      "Члены семьи          5000 non-null int64\n",
      "Страховые выплаты    5000 non-null int64\n",
      "dtypes: float64(2), int64(3)\n",
      "memory usage: 195.4 KB\n"
     ]
    }
   ],
   "source": [
    "df = pd.read_csv('/datasets/insurance.csv')\n",
    "df.info()"
   ]
  },
  {
   "cell_type": "code",
   "execution_count": 3,
   "metadata": {},
   "outputs": [
    {
     "data": {
      "text/html": [
       "<div>\n",
       "<style scoped>\n",
       "    .dataframe tbody tr th:only-of-type {\n",
       "        vertical-align: middle;\n",
       "    }\n",
       "\n",
       "    .dataframe tbody tr th {\n",
       "        vertical-align: top;\n",
       "    }\n",
       "\n",
       "    .dataframe thead th {\n",
       "        text-align: right;\n",
       "    }\n",
       "</style>\n",
       "<table border=\"1\" class=\"dataframe\">\n",
       "  <thead>\n",
       "    <tr style=\"text-align: right;\">\n",
       "      <th></th>\n",
       "      <th>Пол</th>\n",
       "      <th>Возраст</th>\n",
       "      <th>Зарплата</th>\n",
       "      <th>Члены семьи</th>\n",
       "      <th>Страховые выплаты</th>\n",
       "    </tr>\n",
       "  </thead>\n",
       "  <tbody>\n",
       "    <tr>\n",
       "      <td>0</td>\n",
       "      <td>1</td>\n",
       "      <td>41.0</td>\n",
       "      <td>49600.0</td>\n",
       "      <td>1</td>\n",
       "      <td>0</td>\n",
       "    </tr>\n",
       "    <tr>\n",
       "      <td>1</td>\n",
       "      <td>0</td>\n",
       "      <td>46.0</td>\n",
       "      <td>38000.0</td>\n",
       "      <td>1</td>\n",
       "      <td>1</td>\n",
       "    </tr>\n",
       "    <tr>\n",
       "      <td>2</td>\n",
       "      <td>0</td>\n",
       "      <td>29.0</td>\n",
       "      <td>21000.0</td>\n",
       "      <td>0</td>\n",
       "      <td>0</td>\n",
       "    </tr>\n",
       "    <tr>\n",
       "      <td>3</td>\n",
       "      <td>0</td>\n",
       "      <td>21.0</td>\n",
       "      <td>41700.0</td>\n",
       "      <td>2</td>\n",
       "      <td>0</td>\n",
       "    </tr>\n",
       "    <tr>\n",
       "      <td>4</td>\n",
       "      <td>1</td>\n",
       "      <td>28.0</td>\n",
       "      <td>26100.0</td>\n",
       "      <td>0</td>\n",
       "      <td>0</td>\n",
       "    </tr>\n",
       "  </tbody>\n",
       "</table>\n",
       "</div>"
      ],
      "text/plain": [
       "   Пол  Возраст  Зарплата  Члены семьи  Страховые выплаты\n",
       "0    1     41.0   49600.0            1                  0\n",
       "1    0     46.0   38000.0            1                  1\n",
       "2    0     29.0   21000.0            0                  0\n",
       "3    0     21.0   41700.0            2                  0\n",
       "4    1     28.0   26100.0            0                  0"
      ]
     },
     "execution_count": 3,
     "metadata": {},
     "output_type": "execute_result"
    }
   ],
   "source": [
    "df.head()"
   ]
  },
  {
   "cell_type": "code",
   "execution_count": 4,
   "metadata": {},
   "outputs": [
    {
     "data": {
      "text/html": [
       "<div>\n",
       "<style scoped>\n",
       "    .dataframe tbody tr th:only-of-type {\n",
       "        vertical-align: middle;\n",
       "    }\n",
       "\n",
       "    .dataframe tbody tr th {\n",
       "        vertical-align: top;\n",
       "    }\n",
       "\n",
       "    .dataframe thead th {\n",
       "        text-align: right;\n",
       "    }\n",
       "</style>\n",
       "<table border=\"1\" class=\"dataframe\">\n",
       "  <thead>\n",
       "    <tr style=\"text-align: right;\">\n",
       "      <th></th>\n",
       "      <th>Пол</th>\n",
       "      <th>Возраст</th>\n",
       "      <th>Зарплата</th>\n",
       "      <th>Члены семьи</th>\n",
       "      <th>Страховые выплаты</th>\n",
       "    </tr>\n",
       "  </thead>\n",
       "  <tbody>\n",
       "    <tr>\n",
       "      <td>count</td>\n",
       "      <td>5000.000000</td>\n",
       "      <td>5000.000000</td>\n",
       "      <td>5000.000000</td>\n",
       "      <td>5000.000000</td>\n",
       "      <td>5000.000000</td>\n",
       "    </tr>\n",
       "    <tr>\n",
       "      <td>mean</td>\n",
       "      <td>0.499000</td>\n",
       "      <td>30.952800</td>\n",
       "      <td>39916.360000</td>\n",
       "      <td>1.194200</td>\n",
       "      <td>0.148000</td>\n",
       "    </tr>\n",
       "    <tr>\n",
       "      <td>std</td>\n",
       "      <td>0.500049</td>\n",
       "      <td>8.440807</td>\n",
       "      <td>9900.083569</td>\n",
       "      <td>1.091387</td>\n",
       "      <td>0.463183</td>\n",
       "    </tr>\n",
       "    <tr>\n",
       "      <td>min</td>\n",
       "      <td>0.000000</td>\n",
       "      <td>18.000000</td>\n",
       "      <td>5300.000000</td>\n",
       "      <td>0.000000</td>\n",
       "      <td>0.000000</td>\n",
       "    </tr>\n",
       "    <tr>\n",
       "      <td>25%</td>\n",
       "      <td>0.000000</td>\n",
       "      <td>24.000000</td>\n",
       "      <td>33300.000000</td>\n",
       "      <td>0.000000</td>\n",
       "      <td>0.000000</td>\n",
       "    </tr>\n",
       "    <tr>\n",
       "      <td>50%</td>\n",
       "      <td>0.000000</td>\n",
       "      <td>30.000000</td>\n",
       "      <td>40200.000000</td>\n",
       "      <td>1.000000</td>\n",
       "      <td>0.000000</td>\n",
       "    </tr>\n",
       "    <tr>\n",
       "      <td>75%</td>\n",
       "      <td>1.000000</td>\n",
       "      <td>37.000000</td>\n",
       "      <td>46600.000000</td>\n",
       "      <td>2.000000</td>\n",
       "      <td>0.000000</td>\n",
       "    </tr>\n",
       "    <tr>\n",
       "      <td>max</td>\n",
       "      <td>1.000000</td>\n",
       "      <td>65.000000</td>\n",
       "      <td>79000.000000</td>\n",
       "      <td>6.000000</td>\n",
       "      <td>5.000000</td>\n",
       "    </tr>\n",
       "  </tbody>\n",
       "</table>\n",
       "</div>"
      ],
      "text/plain": [
       "               Пол      Возраст      Зарплата  Члены семьи  Страховые выплаты\n",
       "count  5000.000000  5000.000000   5000.000000  5000.000000        5000.000000\n",
       "mean      0.499000    30.952800  39916.360000     1.194200           0.148000\n",
       "std       0.500049     8.440807   9900.083569     1.091387           0.463183\n",
       "min       0.000000    18.000000   5300.000000     0.000000           0.000000\n",
       "25%       0.000000    24.000000  33300.000000     0.000000           0.000000\n",
       "50%       0.000000    30.000000  40200.000000     1.000000           0.000000\n",
       "75%       1.000000    37.000000  46600.000000     2.000000           0.000000\n",
       "max       1.000000    65.000000  79000.000000     6.000000           5.000000"
      ]
     },
     "execution_count": 4,
     "metadata": {},
     "output_type": "execute_result"
    }
   ],
   "source": [
    "df.describe()"
   ]
  },
  {
   "cell_type": "markdown",
   "metadata": {},
   "source": [
    "Данные загружены, все на месте, ничего не обычного, двигаемся дальше."
   ]
  },
  {
   "cell_type": "markdown",
   "metadata": {},
   "source": [
    "## Умножение матриц"
   ]
  },
  {
   "cell_type": "markdown",
   "metadata": {},
   "source": [
    "В этом задании вы можете записывать формулы в *Jupyter Notebook.*\n",
    "\n",
    "Чтобы записать формулу внутри текста, окружите её символами доллара \\\\$; если снаружи —  двойными символами \\\\$\\\\$. Эти формулы записываются на языке вёрстки *LaTeX.* \n",
    "\n",
    "Для примера мы записали формулы линейной регрессии. Можете их скопировать и отредактировать, чтобы решить задачу.\n",
    "\n",
    "Работать в *LaTeX* необязательно."
   ]
  },
  {
   "cell_type": "markdown",
   "metadata": {},
   "source": [
    "Обозначения:\n",
    "\n",
    "- $X$ — матрица признаков (нулевой столбец состоит из единиц)\n",
    "\n",
    "- $y$ — вектор целевого признака\n",
    "\n",
    "- $P$ — матрица, на которую умножаются признаки\n",
    "\n",
    "- $w$ — вектор весов линейной регрессии (нулевой элемент равен сдвигу)"
   ]
  },
  {
   "cell_type": "markdown",
   "metadata": {},
   "source": [
    "Предсказания:\n",
    "\n",
    "$$\n",
    "a = Xw\n",
    "$$\n",
    "\n",
    "Задача обучения:\n",
    "\n",
    "$$\n",
    "w = \\arg\\min_w MSE(Xw, y)\n",
    "$$\n",
    "\n",
    "Формула обучения:\n",
    "\n",
    "$$\n",
    "w = (X^T X)^{-1} X^T y\n",
    "$$"
   ]
  },
  {
   "cell_type": "markdown",
   "metadata": {},
   "source": [
    "**Вопрос:** Признаки умножают на обратимую матрицу. Изменится ли качество линейной регрессии? \n",
    "\n",
    "**Ответ:** Я считаю что качество измениться не должно.\n",
    "\n",
    "**Обоснование:** Лучшее обоснование это конечно эксперимент, но алгебраическое доказательство ниже.\n"
   ]
  },
  {
   "cell_type": "markdown",
   "metadata": {},
   "source": [
    "$$\n",
    "Xw = XEw = XPP^{-1}w = (XP)P^{-1}w = (XP)w'\n",
    "$$"
   ]
  },
  {
   "cell_type": "markdown",
   "metadata": {},
   "source": [
    "$$\n",
    "w' = ((XP)^T XP)^{-1} (XP)^T y\n",
    "$$\n",
    "$$\n",
    "w' = (P^T (X^T X) P)^{-1} (XP)^T y\n",
    "$$\n",
    "$$\n",
    "w' = (P^T ((X^T X) P))^{-1} P^T X^T y\n",
    "$$\n",
    "$$\n",
    "w' =  ((X^T X) P)^{-1} ((P^T)^{-1} P^T) X^T y\n",
    "$$\n",
    "$$\n",
    "w' =  ((X^T X) P)^{-1} E X^T y\n",
    "$$\n",
    "$$\n",
    "w' = P^{-1} (X^T X)^{-1} X^T y\n",
    "$$\n",
    "$$\n",
    "w' = P^{-1} w\n",
    "$$"
   ]
  },
  {
   "cell_type": "markdown",
   "metadata": {},
   "source": [
    "## Алгоритм преобразования"
   ]
  },
  {
   "cell_type": "markdown",
   "metadata": {},
   "source": [
    "**Алгоритм**\n",
    "\n",
    "1) Мы берем случайную матрицу. \n",
    "\n",
    "2) Проверяем ее на обратимость чтобы можно было с ее помощью вернуть изначальные значения признаков. \n",
    "\n",
    "3) Делим признаки на обучающую и валидационную выборки.\n",
    "\n",
    "4) Обучаем модель линейной регрессии, смотрим результат метрикой r2.\n",
    "\n",
    "5) Затем создаем новую переменную в которую мы записываем признаки и умножаем на нашу случайную обратимую матрицу.\n",
    "\n",
    "6) С помощью измененных признаков обучаем вторую модель, смотрим результат метрикой r2.\n",
    "\n",
    "7) Делаем вывод."
   ]
  },
  {
   "cell_type": "markdown",
   "metadata": {},
   "source": [
    "**Обоснование**\n",
    "\n",
    "Если при умножении любой случайной обратимой матрицы качество линейной регрессии не изменится, значит таким способом мы можем зашифровать данные, а потом вернуть их с помощью умножения на матрицу обратную случайной."
   ]
  },
  {
   "cell_type": "markdown",
   "metadata": {},
   "source": [
    "## Проверка алгоритма"
   ]
  },
  {
   "cell_type": "markdown",
   "metadata": {},
   "source": []
  },
  {
   "cell_type": "code",
   "execution_count": 5,
   "metadata": {},
   "outputs": [
    {
     "data": {
      "text/plain": [
       "array([[-0.57586712,  2.09442337, -0.3375425 ,  0.51657602],\n",
       "       [-0.52817254, -0.64251412, -0.17407295,  0.80356828],\n",
       "       [-0.85498276,  0.52756981,  0.49049313, -0.27391597],\n",
       "       [-0.55383492,  0.51445362, -0.48333966, -0.72406901]])"
      ]
     },
     "execution_count": 5,
     "metadata": {},
     "output_type": "execute_result"
    }
   ],
   "source": [
    "random_matrix = np.random.normal(size = (4, 4))\n",
    "random_matrix"
   ]
  },
  {
   "cell_type": "code",
   "execution_count": 6,
   "metadata": {},
   "outputs": [
    {
     "data": {
      "text/plain": [
       "array([[ 0.06015656, -0.60188091, -0.57411577, -0.40785822],\n",
       "       [ 0.39221588, -0.34947214,  0.0287292 , -0.11889032],\n",
       "       [-0.13627544, -0.40415881,  0.92057679, -0.89401217],\n",
       "       [ 0.32362579,  0.48186213, -0.15496599, -0.5568059 ]])"
      ]
     },
     "execution_count": 6,
     "metadata": {},
     "output_type": "execute_result"
    }
   ],
   "source": [
    "reverse_random_matrix = np.linalg.inv(random_matrix)\n",
    "reverse_random_matrix"
   ]
  },
  {
   "cell_type": "code",
   "execution_count": 7,
   "metadata": {},
   "outputs": [],
   "source": [
    "features = df.drop('Страховые выплаты', axis = 1)\n",
    "target = df['Страховые выплаты']"
   ]
  },
  {
   "cell_type": "markdown",
   "metadata": {},
   "source": []
  },
  {
   "cell_type": "code",
   "execution_count": 8,
   "metadata": {},
   "outputs": [
    {
     "data": {
      "text/html": [
       "<div>\n",
       "<style scoped>\n",
       "    .dataframe tbody tr th:only-of-type {\n",
       "        vertical-align: middle;\n",
       "    }\n",
       "\n",
       "    .dataframe tbody tr th {\n",
       "        vertical-align: top;\n",
       "    }\n",
       "\n",
       "    .dataframe thead th {\n",
       "        text-align: right;\n",
       "    }\n",
       "</style>\n",
       "<table border=\"1\" class=\"dataframe\">\n",
       "  <thead>\n",
       "    <tr style=\"text-align: right;\">\n",
       "      <th></th>\n",
       "      <th>0</th>\n",
       "      <th>1</th>\n",
       "      <th>2</th>\n",
       "      <th>3</th>\n",
       "    </tr>\n",
       "  </thead>\n",
       "  <tbody>\n",
       "    <tr>\n",
       "      <td>0</td>\n",
       "      <td>-42429.929880</td>\n",
       "      <td>26143.728582</td>\n",
       "      <td>24320.501334</td>\n",
       "      <td>-13553.493504</td>\n",
       "    </tr>\n",
       "    <tr>\n",
       "      <td>1</td>\n",
       "      <td>-32514.194811</td>\n",
       "      <td>20018.611743</td>\n",
       "      <td>18630.248213</td>\n",
       "      <td>-10372.566940</td>\n",
       "    </tr>\n",
       "    <tr>\n",
       "      <td>2</td>\n",
       "      <td>-17969.955052</td>\n",
       "      <td>11060.333188</td>\n",
       "      <td>10295.307597</td>\n",
       "      <td>-5728.931974</td>\n",
       "    </tr>\n",
       "    <tr>\n",
       "      <td>3</td>\n",
       "      <td>-35664.980560</td>\n",
       "      <td>21987.197362</td>\n",
       "      <td>20448.941275</td>\n",
       "      <td>-11406.869320</td>\n",
       "    </tr>\n",
       "    <tr>\n",
       "      <td>4</td>\n",
       "      <td>-22330.414844</td>\n",
       "      <td>13753.676178</td>\n",
       "      <td>12796.659086</td>\n",
       "      <td>-7126.190433</td>\n",
       "    </tr>\n",
       "    <tr>\n",
       "      <td>...</td>\n",
       "      <td>...</td>\n",
       "      <td>...</td>\n",
       "      <td>...</td>\n",
       "      <td>...</td>\n",
       "    </tr>\n",
       "    <tr>\n",
       "      <td>4995</td>\n",
       "      <td>-30538.781182</td>\n",
       "      <td>18817.280878</td>\n",
       "      <td>17504.763990</td>\n",
       "      <td>-9757.748498</td>\n",
       "    </tr>\n",
       "    <tr>\n",
       "      <td>4996</td>\n",
       "      <td>-44819.608545</td>\n",
       "      <td>27623.327237</td>\n",
       "      <td>25695.438149</td>\n",
       "      <td>-14326.599785</td>\n",
       "    </tr>\n",
       "    <tr>\n",
       "      <td>4997</td>\n",
       "      <td>-28995.586827</td>\n",
       "      <td>17872.795326</td>\n",
       "      <td>16623.268941</td>\n",
       "      <td>-9271.128291</td>\n",
       "    </tr>\n",
       "    <tr>\n",
       "      <td>4998</td>\n",
       "      <td>-27971.793557</td>\n",
       "      <td>17241.035397</td>\n",
       "      <td>16033.508158</td>\n",
       "      <td>-8941.029479</td>\n",
       "    </tr>\n",
       "    <tr>\n",
       "      <td>4999</td>\n",
       "      <td>-34728.218759</td>\n",
       "      <td>21403.952938</td>\n",
       "      <td>19908.326120</td>\n",
       "      <td>-11098.696125</td>\n",
       "    </tr>\n",
       "  </tbody>\n",
       "</table>\n",
       "<p>5000 rows × 4 columns</p>\n",
       "</div>"
      ],
      "text/plain": [
       "                 0             1             2             3\n",
       "0    -42429.929880  26143.728582  24320.501334 -13553.493504\n",
       "1    -32514.194811  20018.611743  18630.248213 -10372.566940\n",
       "2    -17969.955052  11060.333188  10295.307597  -5728.931974\n",
       "3    -35664.980560  21987.197362  20448.941275 -11406.869320\n",
       "4    -22330.414844  13753.676178  12796.659086  -7126.190433\n",
       "...            ...           ...           ...           ...\n",
       "4995 -30538.781182  18817.280878  17504.763990  -9757.748498\n",
       "4996 -44819.608545  27623.327237  25695.438149 -14326.599785\n",
       "4997 -28995.586827  17872.795326  16623.268941  -9271.128291\n",
       "4998 -27971.793557  17241.035397  16033.508158  -8941.029479\n",
       "4999 -34728.218759  21403.952938  19908.326120 -11098.696125\n",
       "\n",
       "[5000 rows x 4 columns]"
      ]
     },
     "execution_count": 8,
     "metadata": {},
     "output_type": "execute_result"
    }
   ],
   "source": [
    "features @ random_matrix"
   ]
  },
  {
   "cell_type": "code",
   "execution_count": 9,
   "metadata": {},
   "outputs": [
    {
     "data": {
      "text/html": [
       "<div>\n",
       "<style scoped>\n",
       "    .dataframe tbody tr th:only-of-type {\n",
       "        vertical-align: middle;\n",
       "    }\n",
       "\n",
       "    .dataframe tbody tr th {\n",
       "        vertical-align: top;\n",
       "    }\n",
       "\n",
       "    .dataframe thead th {\n",
       "        text-align: right;\n",
       "    }\n",
       "</style>\n",
       "<table border=\"1\" class=\"dataframe\">\n",
       "  <thead>\n",
       "    <tr style=\"text-align: right;\">\n",
       "      <th></th>\n",
       "      <th>0</th>\n",
       "      <th>1</th>\n",
       "      <th>2</th>\n",
       "      <th>3</th>\n",
       "    </tr>\n",
       "  </thead>\n",
       "  <tbody>\n",
       "    <tr>\n",
       "      <td>0</td>\n",
       "      <td>1.000000e+00</td>\n",
       "      <td>41.0</td>\n",
       "      <td>49600.0</td>\n",
       "      <td>1.000000e+00</td>\n",
       "    </tr>\n",
       "    <tr>\n",
       "      <td>1</td>\n",
       "      <td>-1.273083e-12</td>\n",
       "      <td>46.0</td>\n",
       "      <td>38000.0</td>\n",
       "      <td>1.000000e+00</td>\n",
       "    </tr>\n",
       "    <tr>\n",
       "      <td>2</td>\n",
       "      <td>2.123755e-13</td>\n",
       "      <td>29.0</td>\n",
       "      <td>21000.0</td>\n",
       "      <td>-1.178164e-12</td>\n",
       "    </tr>\n",
       "    <tr>\n",
       "      <td>3</td>\n",
       "      <td>-1.453131e-13</td>\n",
       "      <td>21.0</td>\n",
       "      <td>41700.0</td>\n",
       "      <td>2.000000e+00</td>\n",
       "    </tr>\n",
       "    <tr>\n",
       "      <td>4</td>\n",
       "      <td>1.000000e+00</td>\n",
       "      <td>28.0</td>\n",
       "      <td>26100.0</td>\n",
       "      <td>-1.796983e-12</td>\n",
       "    </tr>\n",
       "    <tr>\n",
       "      <td>...</td>\n",
       "      <td>...</td>\n",
       "      <td>...</td>\n",
       "      <td>...</td>\n",
       "      <td>...</td>\n",
       "    </tr>\n",
       "    <tr>\n",
       "      <td>4995</td>\n",
       "      <td>1.134388e-12</td>\n",
       "      <td>28.0</td>\n",
       "      <td>35700.0</td>\n",
       "      <td>2.000000e+00</td>\n",
       "    </tr>\n",
       "    <tr>\n",
       "      <td>4996</td>\n",
       "      <td>-1.455763e-12</td>\n",
       "      <td>34.0</td>\n",
       "      <td>52400.0</td>\n",
       "      <td>1.000000e+00</td>\n",
       "    </tr>\n",
       "    <tr>\n",
       "      <td>4997</td>\n",
       "      <td>-7.939378e-15</td>\n",
       "      <td>20.0</td>\n",
       "      <td>33900.0</td>\n",
       "      <td>2.000000e+00</td>\n",
       "    </tr>\n",
       "    <tr>\n",
       "      <td>4998</td>\n",
       "      <td>1.000000e+00</td>\n",
       "      <td>22.0</td>\n",
       "      <td>32700.0</td>\n",
       "      <td>3.000000e+00</td>\n",
       "    </tr>\n",
       "    <tr>\n",
       "      <td>4999</td>\n",
       "      <td>1.000000e+00</td>\n",
       "      <td>28.0</td>\n",
       "      <td>40600.0</td>\n",
       "      <td>1.000000e+00</td>\n",
       "    </tr>\n",
       "  </tbody>\n",
       "</table>\n",
       "<p>5000 rows × 4 columns</p>\n",
       "</div>"
      ],
      "text/plain": [
       "                 0     1        2             3\n",
       "0     1.000000e+00  41.0  49600.0  1.000000e+00\n",
       "1    -1.273083e-12  46.0  38000.0  1.000000e+00\n",
       "2     2.123755e-13  29.0  21000.0 -1.178164e-12\n",
       "3    -1.453131e-13  21.0  41700.0  2.000000e+00\n",
       "4     1.000000e+00  28.0  26100.0 -1.796983e-12\n",
       "...            ...   ...      ...           ...\n",
       "4995  1.134388e-12  28.0  35700.0  2.000000e+00\n",
       "4996 -1.455763e-12  34.0  52400.0  1.000000e+00\n",
       "4997 -7.939378e-15  20.0  33900.0  2.000000e+00\n",
       "4998  1.000000e+00  22.0  32700.0  3.000000e+00\n",
       "4999  1.000000e+00  28.0  40600.0  1.000000e+00\n",
       "\n",
       "[5000 rows x 4 columns]"
      ]
     },
     "execution_count": 9,
     "metadata": {},
     "output_type": "execute_result"
    }
   ],
   "source": [
    "(features @ random_matrix) @ reverse_random_matrix"
   ]
  },
  {
   "cell_type": "markdown",
   "metadata": {},
   "source": []
  },
  {
   "cell_type": "code",
   "execution_count": 10,
   "metadata": {},
   "outputs": [],
   "source": [
    "features_train, features_valid, target_train, target_valid = train_test_split(features, \n",
    "                                       target, test_size = 0.25, random_state=12345)"
   ]
  },
  {
   "cell_type": "code",
   "execution_count": 11,
   "metadata": {},
   "outputs": [
    {
     "data": {
      "text/plain": [
       "-0.2869270212348376"
      ]
     },
     "execution_count": 11,
     "metadata": {},
     "output_type": "execute_result"
    }
   ],
   "source": [
    "model = LinearRegression()\n",
    "model.fit(features_train, target_train)\n",
    "answer = model.predict(features_valid)\n",
    "r2_score(answer, target_valid)"
   ]
  },
  {
   "cell_type": "code",
   "execution_count": 12,
   "metadata": {},
   "outputs": [],
   "source": [
    "features_train2 = features_train @ random_matrix\n",
    "features_valid2 = features_valid @ random_matrix"
   ]
  },
  {
   "cell_type": "code",
   "execution_count": 13,
   "metadata": {},
   "outputs": [
    {
     "data": {
      "text/plain": [
       "-0.2869270212348052"
      ]
     },
     "execution_count": 13,
     "metadata": {},
     "output_type": "execute_result"
    }
   ],
   "source": [
    "model2 = LinearRegression()\n",
    "model2.fit(features_train2, target_train)\n",
    "answer2 = model2.predict(features_valid2)\n",
    "r2_score(answer2, target_valid)"
   ]
  },
  {
   "cell_type": "markdown",
   "metadata": {},
   "source": [
    "### Вывод: \n",
    "Мы видим что качество линейной регрессии не изменилось до 13го знака, и мы можем защифровать данные таким способом."
   ]
  },
  {
   "cell_type": "code",
   "execution_count": null,
   "metadata": {},
   "outputs": [],
   "source": []
  }
 ],
 "metadata": {
  "ExecuteTimeLog": [
   {
    "duration": 1551,
    "start_time": "2021-11-01T20:52:56.340Z"
   },
   {
    "duration": 25,
    "start_time": "2021-11-01T21:10:22.534Z"
   },
   {
    "duration": 18,
    "start_time": "2021-11-01T21:10:40.250Z"
   },
   {
    "duration": 49,
    "start_time": "2021-11-01T21:10:54.989Z"
   },
   {
    "duration": 418,
    "start_time": "2021-11-01T21:55:13.571Z"
   },
   {
    "duration": 5,
    "start_time": "2021-11-01T21:55:25.274Z"
   },
   {
    "duration": 5,
    "start_time": "2021-11-01T21:55:34.583Z"
   },
   {
    "duration": 5,
    "start_time": "2021-11-01T21:55:37.692Z"
   },
   {
    "duration": 7,
    "start_time": "2021-11-01T21:59:18.796Z"
   },
   {
    "duration": 6,
    "start_time": "2021-11-01T22:00:14.261Z"
   },
   {
    "duration": 6,
    "start_time": "2021-11-01T22:07:23.429Z"
   },
   {
    "duration": 9,
    "start_time": "2021-11-01T22:07:24.040Z"
   },
   {
    "duration": 1146,
    "start_time": "2021-11-04T13:53:44.654Z"
   },
   {
    "duration": 24,
    "start_time": "2021-11-04T13:53:45.802Z"
   },
   {
    "duration": 18,
    "start_time": "2021-11-04T13:53:45.829Z"
   },
   {
    "duration": 26,
    "start_time": "2021-11-04T13:53:45.849Z"
   },
   {
    "duration": 5,
    "start_time": "2021-11-04T13:53:45.878Z"
   },
   {
    "duration": 63,
    "start_time": "2021-11-04T13:53:45.885Z"
   },
   {
    "duration": 3,
    "start_time": "2021-11-04T13:53:58.667Z"
   },
   {
    "duration": 6,
    "start_time": "2021-11-04T13:56:05.098Z"
   },
   {
    "duration": 8,
    "start_time": "2021-11-04T13:58:55.545Z"
   },
   {
    "duration": 4,
    "start_time": "2021-11-04T13:59:43.897Z"
   },
   {
    "duration": 6,
    "start_time": "2021-11-04T13:59:44.426Z"
   },
   {
    "duration": 5,
    "start_time": "2021-11-04T14:04:29.435Z"
   },
   {
    "duration": 8,
    "start_time": "2021-11-04T14:04:30.461Z"
   },
   {
    "duration": 5,
    "start_time": "2021-11-04T14:17:39.764Z"
   },
   {
    "duration": 6,
    "start_time": "2021-11-04T14:17:40.179Z"
   },
   {
    "duration": 4,
    "start_time": "2021-11-04T14:17:40.680Z"
   },
   {
    "duration": 5,
    "start_time": "2021-11-04T14:17:41.168Z"
   },
   {
    "duration": 8,
    "start_time": "2021-11-04T14:17:41.572Z"
   },
   {
    "duration": 4,
    "start_time": "2021-11-04T14:17:42.024Z"
   },
   {
    "duration": 7,
    "start_time": "2021-11-04T14:17:42.908Z"
   },
   {
    "duration": 394,
    "start_time": "2021-11-04T14:21:08.343Z"
   },
   {
    "duration": 3,
    "start_time": "2021-11-04T14:21:16.712Z"
   },
   {
    "duration": 4,
    "start_time": "2021-11-04T14:21:17.426Z"
   },
   {
    "duration": 4,
    "start_time": "2021-11-04T14:21:49.040Z"
   },
   {
    "duration": 1454,
    "start_time": "2021-11-05T00:35:40.903Z"
   },
   {
    "duration": 27,
    "start_time": "2021-11-05T00:35:42.360Z"
   },
   {
    "duration": 15,
    "start_time": "2021-11-05T00:35:42.389Z"
   },
   {
    "duration": 36,
    "start_time": "2021-11-05T00:35:42.407Z"
   },
   {
    "duration": 6,
    "start_time": "2021-11-05T00:35:42.445Z"
   },
   {
    "duration": 30,
    "start_time": "2021-11-05T00:35:42.453Z"
   },
   {
    "duration": 6,
    "start_time": "2021-11-05T00:35:42.486Z"
   },
   {
    "duration": 6,
    "start_time": "2021-11-05T00:35:42.495Z"
   },
   {
    "duration": 10,
    "start_time": "2021-11-05T00:35:42.503Z"
   },
   {
    "duration": 73,
    "start_time": "2021-11-05T00:35:42.516Z"
   },
   {
    "duration": 9,
    "start_time": "2021-11-05T00:35:42.592Z"
   },
   {
    "duration": 12,
    "start_time": "2021-11-05T00:35:42.683Z"
   },
   {
    "duration": 5,
    "start_time": "2021-11-05T00:35:42.697Z"
   },
   {
    "duration": 10,
    "start_time": "2021-11-05T00:35:45.154Z"
   },
   {
    "duration": 16,
    "start_time": "2021-11-05T00:36:29.578Z"
   },
   {
    "duration": 17,
    "start_time": "2021-11-05T00:39:33.304Z"
   },
   {
    "duration": 17,
    "start_time": "2021-11-05T00:39:36.898Z"
   },
   {
    "duration": 16,
    "start_time": "2021-11-05T00:42:05.827Z"
   },
   {
    "duration": 19,
    "start_time": "2021-11-05T00:42:06.714Z"
   },
   {
    "duration": 6,
    "start_time": "2021-11-05T00:46:28.405Z"
   },
   {
    "duration": 6,
    "start_time": "2021-11-05T00:46:29.013Z"
   },
   {
    "duration": 7,
    "start_time": "2021-11-05T00:46:54.434Z"
   },
   {
    "duration": 7,
    "start_time": "2021-11-05T00:47:14.467Z"
   },
   {
    "duration": 9,
    "start_time": "2021-11-05T00:48:32.302Z"
   },
   {
    "duration": 620,
    "start_time": "2021-11-05T00:49:03.574Z"
   },
   {
    "duration": 6,
    "start_time": "2021-11-05T00:51:26.973Z"
   },
   {
    "duration": 6,
    "start_time": "2021-11-05T00:52:15.921Z"
   },
   {
    "duration": 499,
    "start_time": "2021-11-05T00:52:41.604Z"
   },
   {
    "duration": 6,
    "start_time": "2021-11-05T00:53:47.514Z"
   },
   {
    "duration": 6,
    "start_time": "2021-11-05T00:53:50.345Z"
   },
   {
    "duration": 8,
    "start_time": "2021-11-05T00:53:55.505Z"
   },
   {
    "duration": 9,
    "start_time": "2021-11-05T00:54:11.069Z"
   },
   {
    "duration": 10,
    "start_time": "2021-11-05T01:18:32.437Z"
   },
   {
    "duration": 6,
    "start_time": "2021-11-05T01:18:40.400Z"
   },
   {
    "duration": 7,
    "start_time": "2021-11-05T01:18:41.722Z"
   },
   {
    "duration": 9,
    "start_time": "2021-11-05T01:18:54.676Z"
   },
   {
    "duration": 6,
    "start_time": "2021-11-05T01:19:03.747Z"
   },
   {
    "duration": 1184,
    "start_time": "2021-11-05T01:20:47.381Z"
   },
   {
    "duration": 9,
    "start_time": "2021-11-05T01:22:37.032Z"
   },
   {
    "duration": 6,
    "start_time": "2021-11-05T01:22:37.566Z"
   },
   {
    "duration": 6,
    "start_time": "2021-11-05T01:22:38.082Z"
   },
   {
    "duration": 7,
    "start_time": "2021-11-05T01:22:44.145Z"
   },
   {
    "duration": 6,
    "start_time": "2021-11-05T01:23:00.940Z"
   },
   {
    "duration": 5,
    "start_time": "2021-11-05T01:24:29.670Z"
   },
   {
    "duration": 1479,
    "start_time": "2021-11-05T12:15:06.316Z"
   },
   {
    "duration": 29,
    "start_time": "2021-11-05T12:15:07.798Z"
   },
   {
    "duration": 26,
    "start_time": "2021-11-05T12:15:07.831Z"
   },
   {
    "duration": 68,
    "start_time": "2021-11-05T12:15:07.860Z"
   },
   {
    "duration": 8,
    "start_time": "2021-11-05T12:15:07.930Z"
   },
   {
    "duration": 8,
    "start_time": "2021-11-05T12:15:07.941Z"
   },
   {
    "duration": 6,
    "start_time": "2021-11-05T12:15:13.460Z"
   },
   {
    "duration": 7,
    "start_time": "2021-11-05T12:41:26.718Z"
   },
   {
    "duration": 7,
    "start_time": "2021-11-05T12:41:27.139Z"
   },
   {
    "duration": 5,
    "start_time": "2021-11-05T12:41:27.586Z"
   },
   {
    "duration": 15,
    "start_time": "2021-11-05T12:41:28.669Z"
   },
   {
    "duration": 16,
    "start_time": "2021-11-05T12:41:29.212Z"
   },
   {
    "duration": 8,
    "start_time": "2021-11-05T12:41:31.717Z"
   },
   {
    "duration": 14,
    "start_time": "2021-11-05T12:41:32.704Z"
   },
   {
    "duration": 5,
    "start_time": "2021-11-05T12:41:33.098Z"
   },
   {
    "duration": 12,
    "start_time": "2021-11-05T12:41:33.524Z"
   },
   {
    "duration": 7,
    "start_time": "2021-11-05T12:59:32.964Z"
   },
   {
    "duration": 7,
    "start_time": "2021-11-05T12:59:33.464Z"
   },
   {
    "duration": 92,
    "start_time": "2021-11-05T12:59:34.132Z"
   },
   {
    "duration": 395,
    "start_time": "2021-11-05T13:00:38.292Z"
   },
   {
    "duration": 277,
    "start_time": "2021-11-05T13:01:07.596Z"
   },
   {
    "duration": 271,
    "start_time": "2021-11-05T13:01:48.630Z"
   },
   {
    "duration": 7,
    "start_time": "2021-11-05T13:03:28.479Z"
   },
   {
    "duration": 30,
    "start_time": "2021-11-05T13:03:29.108Z"
   },
   {
    "duration": 592,
    "start_time": "2021-11-05T13:03:29.945Z"
   },
   {
    "duration": 13,
    "start_time": "2021-11-05T13:03:38.697Z"
   },
   {
    "duration": 363,
    "start_time": "2021-11-05T13:03:57.879Z"
   },
   {
    "duration": 533,
    "start_time": "2021-11-05T13:04:17.210Z"
   },
   {
    "duration": 103,
    "start_time": "2021-11-05T13:05:47.526Z"
   },
   {
    "duration": 1472,
    "start_time": "2021-11-05T13:06:34.887Z"
   },
   {
    "duration": 26,
    "start_time": "2021-11-05T13:06:36.361Z"
   },
   {
    "duration": 16,
    "start_time": "2021-11-05T13:06:36.390Z"
   },
   {
    "duration": 41,
    "start_time": "2021-11-05T13:06:36.409Z"
   },
   {
    "duration": 9,
    "start_time": "2021-11-05T13:06:36.452Z"
   },
   {
    "duration": 6,
    "start_time": "2021-11-05T13:06:36.464Z"
   },
   {
    "duration": 49,
    "start_time": "2021-11-05T13:06:36.473Z"
   },
   {
    "duration": 8,
    "start_time": "2021-11-05T13:06:36.525Z"
   },
   {
    "duration": 6,
    "start_time": "2021-11-05T13:06:39.477Z"
   },
   {
    "duration": 65,
    "start_time": "2021-11-05T13:06:41.564Z"
   },
   {
    "duration": 586,
    "start_time": "2021-11-05T13:06:43.319Z"
   },
   {
    "duration": 9,
    "start_time": "2021-11-05T13:10:18.781Z"
   },
   {
    "duration": 17,
    "start_time": "2021-11-05T13:10:19.299Z"
   },
   {
    "duration": 330,
    "start_time": "2021-11-05T13:10:20.032Z"
   },
   {
    "duration": 6,
    "start_time": "2021-11-05T13:10:41.619Z"
   },
   {
    "duration": 17,
    "start_time": "2021-11-05T13:10:41.882Z"
   },
   {
    "duration": 557,
    "start_time": "2021-11-05T13:10:42.255Z"
   },
   {
    "duration": 124,
    "start_time": "2021-11-05T13:10:42.691Z"
   },
   {
    "duration": 18,
    "start_time": "2021-11-05T13:10:52.165Z"
   },
   {
    "duration": 6,
    "start_time": "2021-11-05T13:11:47.277Z"
   },
   {
    "duration": 105,
    "start_time": "2021-11-05T13:11:48.018Z"
   },
   {
    "duration": 15,
    "start_time": "2021-11-05T13:11:49.069Z"
   },
   {
    "duration": 486,
    "start_time": "2021-11-05T13:14:22.127Z"
   },
   {
    "duration": 15,
    "start_time": "2021-11-05T13:15:06.431Z"
   },
   {
    "duration": 5,
    "start_time": "2021-11-05T13:15:16.630Z"
   },
   {
    "duration": 14,
    "start_time": "2021-11-05T13:15:17.115Z"
   },
   {
    "duration": 14,
    "start_time": "2021-11-05T13:15:18.024Z"
   },
   {
    "duration": 324,
    "start_time": "2021-11-05T13:19:38.583Z"
   },
   {
    "duration": 13,
    "start_time": "2021-11-05T13:19:53.925Z"
   },
   {
    "duration": 10,
    "start_time": "2021-11-05T13:25:51.703Z"
   },
   {
    "duration": 16,
    "start_time": "2021-11-05T13:25:53.038Z"
   },
   {
    "duration": 278,
    "start_time": "2021-11-05T13:25:56.160Z"
   },
   {
    "duration": 7,
    "start_time": "2021-11-05T13:26:09.131Z"
   },
   {
    "duration": 10,
    "start_time": "2021-11-05T13:26:09.647Z"
   },
   {
    "duration": 7,
    "start_time": "2021-11-05T13:26:10.307Z"
   },
   {
    "duration": 10,
    "start_time": "2021-11-05T13:27:11.511Z"
   },
   {
    "duration": 6,
    "start_time": "2021-11-05T13:29:17.281Z"
   },
   {
    "duration": 17,
    "start_time": "2021-11-05T13:29:21.124Z"
   },
   {
    "duration": 17,
    "start_time": "2021-11-05T13:29:24.402Z"
   },
   {
    "duration": 10,
    "start_time": "2021-11-05T13:41:24.889Z"
   },
   {
    "duration": 87,
    "start_time": "2021-11-05T13:41:25.834Z"
   },
   {
    "duration": 7,
    "start_time": "2021-11-05T13:42:01.593Z"
   },
   {
    "duration": 5,
    "start_time": "2021-11-05T13:42:05.582Z"
   },
   {
    "duration": 11,
    "start_time": "2021-11-05T13:42:06.539Z"
   },
   {
    "duration": 5,
    "start_time": "2021-11-05T13:42:10.040Z"
   },
   {
    "duration": 6,
    "start_time": "2021-11-05T13:50:40.224Z"
   },
   {
    "duration": 297,
    "start_time": "2021-11-05T13:50:40.829Z"
   },
   {
    "duration": 5,
    "start_time": "2021-11-05T13:51:02.058Z"
   },
   {
    "duration": 8,
    "start_time": "2021-11-05T13:51:02.722Z"
   },
   {
    "duration": 8,
    "start_time": "2021-11-05T13:51:05.738Z"
   },
   {
    "duration": 5,
    "start_time": "2021-11-05T13:51:08.424Z"
   },
   {
    "duration": 15,
    "start_time": "2021-11-05T13:51:10.687Z"
   },
   {
    "duration": 11,
    "start_time": "2021-11-05T13:51:12.361Z"
   },
   {
    "duration": 9,
    "start_time": "2021-11-05T13:51:14.337Z"
   },
   {
    "duration": 1624,
    "start_time": "2021-11-05T14:10:49.633Z"
   },
   {
    "duration": 28,
    "start_time": "2021-11-05T14:10:51.260Z"
   },
   {
    "duration": 34,
    "start_time": "2021-11-05T14:10:51.292Z"
   },
   {
    "duration": 56,
    "start_time": "2021-11-05T14:10:51.329Z"
   },
   {
    "duration": 8,
    "start_time": "2021-11-05T14:10:51.388Z"
   },
   {
    "duration": 8,
    "start_time": "2021-11-05T14:10:51.422Z"
   },
   {
    "duration": 7,
    "start_time": "2021-11-05T14:10:51.433Z"
   },
   {
    "duration": 181,
    "start_time": "2021-11-05T14:10:51.442Z"
   },
   {
    "duration": 17,
    "start_time": "2021-11-05T14:10:51.627Z"
   },
   {
    "duration": 11,
    "start_time": "2021-11-05T14:10:51.648Z"
   },
   {
    "duration": 15,
    "start_time": "2021-11-05T14:10:51.662Z"
   },
   {
    "duration": 43,
    "start_time": "2021-11-05T14:10:51.680Z"
   },
   {
    "duration": 16,
    "start_time": "2021-11-05T14:10:54.939Z"
   },
   {
    "duration": 90,
    "start_time": "2021-11-05T14:24:16.289Z"
   },
   {
    "duration": 99,
    "start_time": "2021-11-05T14:24:48.859Z"
   },
   {
    "duration": 1435,
    "start_time": "2021-11-06T09:46:03.826Z"
   },
   {
    "duration": 26,
    "start_time": "2021-11-06T09:46:05.264Z"
   },
   {
    "duration": 35,
    "start_time": "2021-11-06T09:46:05.294Z"
   },
   {
    "duration": 36,
    "start_time": "2021-11-06T09:46:05.332Z"
   },
   {
    "duration": 6,
    "start_time": "2021-11-06T09:48:36.587Z"
   },
   {
    "duration": 7,
    "start_time": "2021-11-06T09:48:37.119Z"
   },
   {
    "duration": 5,
    "start_time": "2021-11-06T09:48:37.292Z"
   },
   {
    "duration": 16,
    "start_time": "2021-11-06T09:48:37.634Z"
   },
   {
    "duration": 16,
    "start_time": "2021-11-06T09:48:37.823Z"
   },
   {
    "duration": 7,
    "start_time": "2021-11-06T09:48:38.348Z"
   },
   {
    "duration": 11,
    "start_time": "2021-11-06T09:48:38.523Z"
   },
   {
    "duration": 5,
    "start_time": "2021-11-06T09:48:38.729Z"
   },
   {
    "duration": 12,
    "start_time": "2021-11-06T09:48:38.895Z"
   },
   {
    "duration": 1542,
    "start_time": "2021-11-06T12:07:01.081Z"
   },
   {
    "duration": 26,
    "start_time": "2021-11-06T12:07:02.626Z"
   },
   {
    "duration": 27,
    "start_time": "2021-11-06T12:07:02.656Z"
   },
   {
    "duration": 42,
    "start_time": "2021-11-06T12:07:02.687Z"
   },
   {
    "duration": 35,
    "start_time": "2021-11-06T12:07:02.732Z"
   },
   {
    "duration": 8,
    "start_time": "2021-11-06T12:07:02.770Z"
   },
   {
    "duration": 7,
    "start_time": "2021-11-06T12:07:02.781Z"
   },
   {
    "duration": 16,
    "start_time": "2021-11-06T12:07:02.868Z"
   },
   {
    "duration": 94,
    "start_time": "2021-11-06T12:07:02.887Z"
   },
   {
    "duration": 7,
    "start_time": "2021-11-06T12:07:02.984Z"
   },
   {
    "duration": 13,
    "start_time": "2021-11-06T12:07:02.994Z"
   },
   {
    "duration": 6,
    "start_time": "2021-11-06T12:07:03.009Z"
   },
   {
    "duration": 11,
    "start_time": "2021-11-06T12:07:06.554Z"
   }
  ],
  "kernelspec": {
   "display_name": "Python 3 (ipykernel)",
   "language": "python",
   "name": "python3"
  },
  "language_info": {
   "codemirror_mode": {
    "name": "ipython",
    "version": 3
   },
   "file_extension": ".py",
   "mimetype": "text/x-python",
   "name": "python",
   "nbconvert_exporter": "python",
   "pygments_lexer": "ipython3",
   "version": "3.9.5"
  },
  "toc": {
   "base_numbering": 1,
   "nav_menu": {},
   "number_sections": true,
   "sideBar": true,
   "skip_h1_title": true,
   "title_cell": "Содержание",
   "title_sidebar": "Contents",
   "toc_cell": true,
   "toc_position": {},
   "toc_section_display": true,
   "toc_window_display": true
  }
 },
 "nbformat": 4,
 "nbformat_minor": 2
}
