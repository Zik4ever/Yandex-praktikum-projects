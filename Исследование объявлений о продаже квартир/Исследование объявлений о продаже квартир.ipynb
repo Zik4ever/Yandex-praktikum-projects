{
 "cells": [
  {
   "cell_type": "markdown",
   "metadata": {
    "toc": true
   },
   "source": [
    "<h1>Содержание<span class=\"tocSkip\"></span></h1>\n",
    "<div class=\"toc\"><ul class=\"toc-item\"><li><span><a href=\"#Изучение-данных-из-файла\" data-toc-modified-id=\"Изучение-данных-из-файла-1\"><span class=\"toc-item-num\">1&nbsp;&nbsp;</span>Изучение данных из файла</a></span><ul class=\"toc-item\"><li><span><a href=\"#Вывод\" data-toc-modified-id=\"Вывод-1.1\"><span class=\"toc-item-num\">1.1&nbsp;&nbsp;</span>Вывод</a></span></li></ul></li><li><span><a href=\"#Предобработка-данных\" data-toc-modified-id=\"Предобработка-данных-2\"><span class=\"toc-item-num\">2&nbsp;&nbsp;</span>Предобработка данных</a></span></li><li><span><a href=\"#Расчёты-и-добавление-результатов-в-таблицу\" data-toc-modified-id=\"Расчёты-и-добавление-результатов-в-таблицу-3\"><span class=\"toc-item-num\">3&nbsp;&nbsp;</span>Расчёты и добавление результатов в таблицу</a></span></li><li><span><a href=\"#Исследовательский-анализ-данных\" data-toc-modified-id=\"Исследовательский-анализ-данных-4\"><span class=\"toc-item-num\">4&nbsp;&nbsp;</span>Исследовательский анализ данных</a></span></li><li><span><a href=\"#Общий-вывод\" data-toc-modified-id=\"Общий-вывод-5\"><span class=\"toc-item-num\">5&nbsp;&nbsp;</span>Общий вывод</a></span></li><li><span><a href=\"#Чек-лист-готовности-проекта\" data-toc-modified-id=\"Чек-лист-готовности-проекта-6\"><span class=\"toc-item-num\">6&nbsp;&nbsp;</span>Чек-лист готовности проекта</a></span></li></ul></div>"
   ]
  },
  {
   "cell_type": "markdown",
   "metadata": {},
   "source": [
    "# Исследование объявлений о продаже квартир\n",
    "\n",
    "В вашем распоряжении данные сервиса Яндекс.Недвижимость — архив объявлений о продаже квартир в Санкт-Петербурге и соседних населённых пунктах за несколько лет. Нужно научиться определять рыночную стоимость объектов недвижимости. Ваша задача — установить параметры. Это позволит построить автоматизированную систему: она отследит аномалии и мошенническую деятельность. \n",
    "\n",
    "По каждой квартире на продажу доступны два вида данных. Первые вписаны пользователем, вторые получены автоматически на основе картографических данных. Например, расстояние до центра, аэропорта, ближайшего парка и водоёма. "
   ]
  },
  {
   "cell_type": "markdown",
   "metadata": {},
   "source": [
    "## Изучение данных из файла"
   ]
  },
  {
   "cell_type": "code",
   "execution_count": 1,
   "metadata": {},
   "outputs": [],
   "source": [
    "import pandas as pd\n",
    "import matplotlib.pyplot as plt"
   ]
  },
  {
   "cell_type": "code",
   "execution_count": 2,
   "metadata": {},
   "outputs": [
    {
     "data": {
      "text/html": [
       "<div>\n",
       "<style scoped>\n",
       "    .dataframe tbody tr th:only-of-type {\n",
       "        vertical-align: middle;\n",
       "    }\n",
       "\n",
       "    .dataframe tbody tr th {\n",
       "        vertical-align: top;\n",
       "    }\n",
       "\n",
       "    .dataframe thead th {\n",
       "        text-align: right;\n",
       "    }\n",
       "</style>\n",
       "<table border=\"1\" class=\"dataframe\">\n",
       "  <thead>\n",
       "    <tr style=\"text-align: right;\">\n",
       "      <th></th>\n",
       "      <th>total_images</th>\n",
       "      <th>last_price</th>\n",
       "      <th>total_area</th>\n",
       "      <th>first_day_exposition</th>\n",
       "      <th>rooms</th>\n",
       "      <th>ceiling_height</th>\n",
       "      <th>floors_total</th>\n",
       "      <th>living_area</th>\n",
       "      <th>floor</th>\n",
       "      <th>is_apartment</th>\n",
       "      <th>...</th>\n",
       "      <th>kitchen_area</th>\n",
       "      <th>balcony</th>\n",
       "      <th>locality_name</th>\n",
       "      <th>airports_nearest</th>\n",
       "      <th>cityCenters_nearest</th>\n",
       "      <th>parks_around3000</th>\n",
       "      <th>parks_nearest</th>\n",
       "      <th>ponds_around3000</th>\n",
       "      <th>ponds_nearest</th>\n",
       "      <th>days_exposition</th>\n",
       "    </tr>\n",
       "  </thead>\n",
       "  <tbody>\n",
       "    <tr>\n",
       "      <th>0</th>\n",
       "      <td>20</td>\n",
       "      <td>13000000.0</td>\n",
       "      <td>108.0</td>\n",
       "      <td>2019-03-07T00:00:00</td>\n",
       "      <td>3</td>\n",
       "      <td>2.70</td>\n",
       "      <td>16.0</td>\n",
       "      <td>51.0</td>\n",
       "      <td>8</td>\n",
       "      <td>NaN</td>\n",
       "      <td>...</td>\n",
       "      <td>25.0</td>\n",
       "      <td>NaN</td>\n",
       "      <td>Санкт-Петербург</td>\n",
       "      <td>18863.0</td>\n",
       "      <td>16028.0</td>\n",
       "      <td>1.0</td>\n",
       "      <td>482.0</td>\n",
       "      <td>2.0</td>\n",
       "      <td>755.0</td>\n",
       "      <td>NaN</td>\n",
       "    </tr>\n",
       "    <tr>\n",
       "      <th>1</th>\n",
       "      <td>7</td>\n",
       "      <td>3350000.0</td>\n",
       "      <td>40.4</td>\n",
       "      <td>2018-12-04T00:00:00</td>\n",
       "      <td>1</td>\n",
       "      <td>NaN</td>\n",
       "      <td>11.0</td>\n",
       "      <td>18.6</td>\n",
       "      <td>1</td>\n",
       "      <td>NaN</td>\n",
       "      <td>...</td>\n",
       "      <td>11.0</td>\n",
       "      <td>2.0</td>\n",
       "      <td>посёлок Шушары</td>\n",
       "      <td>12817.0</td>\n",
       "      <td>18603.0</td>\n",
       "      <td>0.0</td>\n",
       "      <td>NaN</td>\n",
       "      <td>0.0</td>\n",
       "      <td>NaN</td>\n",
       "      <td>81.0</td>\n",
       "    </tr>\n",
       "    <tr>\n",
       "      <th>2</th>\n",
       "      <td>10</td>\n",
       "      <td>5196000.0</td>\n",
       "      <td>56.0</td>\n",
       "      <td>2015-08-20T00:00:00</td>\n",
       "      <td>2</td>\n",
       "      <td>NaN</td>\n",
       "      <td>5.0</td>\n",
       "      <td>34.3</td>\n",
       "      <td>4</td>\n",
       "      <td>NaN</td>\n",
       "      <td>...</td>\n",
       "      <td>8.3</td>\n",
       "      <td>0.0</td>\n",
       "      <td>Санкт-Петербург</td>\n",
       "      <td>21741.0</td>\n",
       "      <td>13933.0</td>\n",
       "      <td>1.0</td>\n",
       "      <td>90.0</td>\n",
       "      <td>2.0</td>\n",
       "      <td>574.0</td>\n",
       "      <td>558.0</td>\n",
       "    </tr>\n",
       "    <tr>\n",
       "      <th>3</th>\n",
       "      <td>0</td>\n",
       "      <td>64900000.0</td>\n",
       "      <td>159.0</td>\n",
       "      <td>2015-07-24T00:00:00</td>\n",
       "      <td>3</td>\n",
       "      <td>NaN</td>\n",
       "      <td>14.0</td>\n",
       "      <td>NaN</td>\n",
       "      <td>9</td>\n",
       "      <td>NaN</td>\n",
       "      <td>...</td>\n",
       "      <td>NaN</td>\n",
       "      <td>0.0</td>\n",
       "      <td>Санкт-Петербург</td>\n",
       "      <td>28098.0</td>\n",
       "      <td>6800.0</td>\n",
       "      <td>2.0</td>\n",
       "      <td>84.0</td>\n",
       "      <td>3.0</td>\n",
       "      <td>234.0</td>\n",
       "      <td>424.0</td>\n",
       "    </tr>\n",
       "    <tr>\n",
       "      <th>4</th>\n",
       "      <td>2</td>\n",
       "      <td>10000000.0</td>\n",
       "      <td>100.0</td>\n",
       "      <td>2018-06-19T00:00:00</td>\n",
       "      <td>2</td>\n",
       "      <td>3.03</td>\n",
       "      <td>14.0</td>\n",
       "      <td>32.0</td>\n",
       "      <td>13</td>\n",
       "      <td>NaN</td>\n",
       "      <td>...</td>\n",
       "      <td>41.0</td>\n",
       "      <td>NaN</td>\n",
       "      <td>Санкт-Петербург</td>\n",
       "      <td>31856.0</td>\n",
       "      <td>8098.0</td>\n",
       "      <td>2.0</td>\n",
       "      <td>112.0</td>\n",
       "      <td>1.0</td>\n",
       "      <td>48.0</td>\n",
       "      <td>121.0</td>\n",
       "    </tr>\n",
       "  </tbody>\n",
       "</table>\n",
       "<p>5 rows × 22 columns</p>\n",
       "</div>"
      ],
      "text/plain": [
       "   total_images  last_price  total_area first_day_exposition  rooms  \\\n",
       "0            20  13000000.0       108.0  2019-03-07T00:00:00      3   \n",
       "1             7   3350000.0        40.4  2018-12-04T00:00:00      1   \n",
       "2            10   5196000.0        56.0  2015-08-20T00:00:00      2   \n",
       "3             0  64900000.0       159.0  2015-07-24T00:00:00      3   \n",
       "4             2  10000000.0       100.0  2018-06-19T00:00:00      2   \n",
       "\n",
       "   ceiling_height  floors_total  living_area  floor is_apartment  ...  \\\n",
       "0            2.70          16.0         51.0      8          NaN  ...   \n",
       "1             NaN          11.0         18.6      1          NaN  ...   \n",
       "2             NaN           5.0         34.3      4          NaN  ...   \n",
       "3             NaN          14.0          NaN      9          NaN  ...   \n",
       "4            3.03          14.0         32.0     13          NaN  ...   \n",
       "\n",
       "   kitchen_area  balcony    locality_name  airports_nearest  \\\n",
       "0          25.0      NaN  Санкт-Петербург           18863.0   \n",
       "1          11.0      2.0   посёлок Шушары           12817.0   \n",
       "2           8.3      0.0  Санкт-Петербург           21741.0   \n",
       "3           NaN      0.0  Санкт-Петербург           28098.0   \n",
       "4          41.0      NaN  Санкт-Петербург           31856.0   \n",
       "\n",
       "  cityCenters_nearest  parks_around3000  parks_nearest  ponds_around3000  \\\n",
       "0             16028.0               1.0          482.0               2.0   \n",
       "1             18603.0               0.0            NaN               0.0   \n",
       "2             13933.0               1.0           90.0               2.0   \n",
       "3              6800.0               2.0           84.0               3.0   \n",
       "4              8098.0               2.0          112.0               1.0   \n",
       "\n",
       "   ponds_nearest  days_exposition  \n",
       "0          755.0              NaN  \n",
       "1            NaN             81.0  \n",
       "2          574.0            558.0  \n",
       "3          234.0            424.0  \n",
       "4           48.0            121.0  \n",
       "\n",
       "[5 rows x 22 columns]"
      ]
     },
     "execution_count": 2,
     "metadata": {},
     "output_type": "execute_result"
    }
   ],
   "source": [
    "df = pd.read_csv('/datasets/real_estate_data.csv', sep = '\\t')\n",
    "df.head()"
   ]
  },
  {
   "cell_type": "code",
   "execution_count": 3,
   "metadata": {},
   "outputs": [
    {
     "name": "stdout",
     "output_type": "stream",
     "text": [
      "<class 'pandas.core.frame.DataFrame'>\n",
      "RangeIndex: 23699 entries, 0 to 23698\n",
      "Data columns (total 22 columns):\n",
      " #   Column                Non-Null Count  Dtype  \n",
      "---  ------                --------------  -----  \n",
      " 0   total_images          23699 non-null  int64  \n",
      " 1   last_price            23699 non-null  float64\n",
      " 2   total_area            23699 non-null  float64\n",
      " 3   first_day_exposition  23699 non-null  object \n",
      " 4   rooms                 23699 non-null  int64  \n",
      " 5   ceiling_height        14504 non-null  float64\n",
      " 6   floors_total          23613 non-null  float64\n",
      " 7   living_area           21796 non-null  float64\n",
      " 8   floor                 23699 non-null  int64  \n",
      " 9   is_apartment          2775 non-null   object \n",
      " 10  studio                23699 non-null  bool   \n",
      " 11  open_plan             23699 non-null  bool   \n",
      " 12  kitchen_area          21421 non-null  float64\n",
      " 13  balcony               12180 non-null  float64\n",
      " 14  locality_name         23650 non-null  object \n",
      " 15  airports_nearest      18157 non-null  float64\n",
      " 16  cityCenters_nearest   18180 non-null  float64\n",
      " 17  parks_around3000      18181 non-null  float64\n",
      " 18  parks_nearest         8079 non-null   float64\n",
      " 19  ponds_around3000      18181 non-null  float64\n",
      " 20  ponds_nearest         9110 non-null   float64\n",
      " 21  days_exposition       20518 non-null  float64\n",
      "dtypes: bool(2), float64(14), int64(3), object(3)\n",
      "memory usage: 3.7+ MB\n"
     ]
    }
   ],
   "source": [
    "df.info()"
   ]
  },
  {
   "cell_type": "code",
   "execution_count": 4,
   "metadata": {},
   "outputs": [
    {
     "data": {
      "text/html": [
       "<div>\n",
       "<style scoped>\n",
       "    .dataframe tbody tr th:only-of-type {\n",
       "        vertical-align: middle;\n",
       "    }\n",
       "\n",
       "    .dataframe tbody tr th {\n",
       "        vertical-align: top;\n",
       "    }\n",
       "\n",
       "    .dataframe thead th {\n",
       "        text-align: right;\n",
       "    }\n",
       "</style>\n",
       "<table border=\"1\" class=\"dataframe\">\n",
       "  <thead>\n",
       "    <tr style=\"text-align: right;\">\n",
       "      <th></th>\n",
       "      <th>total_images</th>\n",
       "      <th>last_price</th>\n",
       "      <th>total_area</th>\n",
       "      <th>rooms</th>\n",
       "      <th>ceiling_height</th>\n",
       "      <th>floors_total</th>\n",
       "      <th>living_area</th>\n",
       "      <th>floor</th>\n",
       "      <th>kitchen_area</th>\n",
       "      <th>balcony</th>\n",
       "      <th>airports_nearest</th>\n",
       "      <th>cityCenters_nearest</th>\n",
       "      <th>parks_around3000</th>\n",
       "      <th>parks_nearest</th>\n",
       "      <th>ponds_around3000</th>\n",
       "      <th>ponds_nearest</th>\n",
       "      <th>days_exposition</th>\n",
       "    </tr>\n",
       "  </thead>\n",
       "  <tbody>\n",
       "    <tr>\n",
       "      <th>count</th>\n",
       "      <td>23699.000000</td>\n",
       "      <td>2.369900e+04</td>\n",
       "      <td>23699.000000</td>\n",
       "      <td>23699.000000</td>\n",
       "      <td>14504.000000</td>\n",
       "      <td>23613.000000</td>\n",
       "      <td>21796.000000</td>\n",
       "      <td>23699.000000</td>\n",
       "      <td>21421.000000</td>\n",
       "      <td>12180.000000</td>\n",
       "      <td>18157.000000</td>\n",
       "      <td>18180.000000</td>\n",
       "      <td>18181.000000</td>\n",
       "      <td>8079.000000</td>\n",
       "      <td>18181.000000</td>\n",
       "      <td>9110.000000</td>\n",
       "      <td>20518.000000</td>\n",
       "    </tr>\n",
       "    <tr>\n",
       "      <th>mean</th>\n",
       "      <td>9.858475</td>\n",
       "      <td>6.541549e+06</td>\n",
       "      <td>60.348651</td>\n",
       "      <td>2.070636</td>\n",
       "      <td>2.771499</td>\n",
       "      <td>10.673824</td>\n",
       "      <td>34.457852</td>\n",
       "      <td>5.892358</td>\n",
       "      <td>10.569807</td>\n",
       "      <td>1.150082</td>\n",
       "      <td>28793.672193</td>\n",
       "      <td>14191.277833</td>\n",
       "      <td>0.611408</td>\n",
       "      <td>490.804555</td>\n",
       "      <td>0.770255</td>\n",
       "      <td>517.980900</td>\n",
       "      <td>180.888634</td>\n",
       "    </tr>\n",
       "    <tr>\n",
       "      <th>std</th>\n",
       "      <td>5.682529</td>\n",
       "      <td>1.088701e+07</td>\n",
       "      <td>35.654083</td>\n",
       "      <td>1.078405</td>\n",
       "      <td>1.261056</td>\n",
       "      <td>6.597173</td>\n",
       "      <td>22.030445</td>\n",
       "      <td>4.885249</td>\n",
       "      <td>5.905438</td>\n",
       "      <td>1.071300</td>\n",
       "      <td>12630.880622</td>\n",
       "      <td>8608.386210</td>\n",
       "      <td>0.802074</td>\n",
       "      <td>342.317995</td>\n",
       "      <td>0.938346</td>\n",
       "      <td>277.720643</td>\n",
       "      <td>219.727988</td>\n",
       "    </tr>\n",
       "    <tr>\n",
       "      <th>min</th>\n",
       "      <td>0.000000</td>\n",
       "      <td>1.219000e+04</td>\n",
       "      <td>12.000000</td>\n",
       "      <td>0.000000</td>\n",
       "      <td>1.000000</td>\n",
       "      <td>1.000000</td>\n",
       "      <td>2.000000</td>\n",
       "      <td>1.000000</td>\n",
       "      <td>1.300000</td>\n",
       "      <td>0.000000</td>\n",
       "      <td>0.000000</td>\n",
       "      <td>181.000000</td>\n",
       "      <td>0.000000</td>\n",
       "      <td>1.000000</td>\n",
       "      <td>0.000000</td>\n",
       "      <td>13.000000</td>\n",
       "      <td>1.000000</td>\n",
       "    </tr>\n",
       "    <tr>\n",
       "      <th>25%</th>\n",
       "      <td>6.000000</td>\n",
       "      <td>3.400000e+06</td>\n",
       "      <td>40.000000</td>\n",
       "      <td>1.000000</td>\n",
       "      <td>2.520000</td>\n",
       "      <td>5.000000</td>\n",
       "      <td>18.600000</td>\n",
       "      <td>2.000000</td>\n",
       "      <td>7.000000</td>\n",
       "      <td>0.000000</td>\n",
       "      <td>18585.000000</td>\n",
       "      <td>9238.000000</td>\n",
       "      <td>0.000000</td>\n",
       "      <td>288.000000</td>\n",
       "      <td>0.000000</td>\n",
       "      <td>294.000000</td>\n",
       "      <td>45.000000</td>\n",
       "    </tr>\n",
       "    <tr>\n",
       "      <th>50%</th>\n",
       "      <td>9.000000</td>\n",
       "      <td>4.650000e+06</td>\n",
       "      <td>52.000000</td>\n",
       "      <td>2.000000</td>\n",
       "      <td>2.650000</td>\n",
       "      <td>9.000000</td>\n",
       "      <td>30.000000</td>\n",
       "      <td>4.000000</td>\n",
       "      <td>9.100000</td>\n",
       "      <td>1.000000</td>\n",
       "      <td>26726.000000</td>\n",
       "      <td>13098.500000</td>\n",
       "      <td>0.000000</td>\n",
       "      <td>455.000000</td>\n",
       "      <td>1.000000</td>\n",
       "      <td>502.000000</td>\n",
       "      <td>95.000000</td>\n",
       "    </tr>\n",
       "    <tr>\n",
       "      <th>75%</th>\n",
       "      <td>14.000000</td>\n",
       "      <td>6.800000e+06</td>\n",
       "      <td>69.900000</td>\n",
       "      <td>3.000000</td>\n",
       "      <td>2.800000</td>\n",
       "      <td>16.000000</td>\n",
       "      <td>42.300000</td>\n",
       "      <td>8.000000</td>\n",
       "      <td>12.000000</td>\n",
       "      <td>2.000000</td>\n",
       "      <td>37273.000000</td>\n",
       "      <td>16293.000000</td>\n",
       "      <td>1.000000</td>\n",
       "      <td>612.000000</td>\n",
       "      <td>1.000000</td>\n",
       "      <td>729.000000</td>\n",
       "      <td>232.000000</td>\n",
       "    </tr>\n",
       "    <tr>\n",
       "      <th>max</th>\n",
       "      <td>50.000000</td>\n",
       "      <td>7.630000e+08</td>\n",
       "      <td>900.000000</td>\n",
       "      <td>19.000000</td>\n",
       "      <td>100.000000</td>\n",
       "      <td>60.000000</td>\n",
       "      <td>409.700000</td>\n",
       "      <td>33.000000</td>\n",
       "      <td>112.000000</td>\n",
       "      <td>5.000000</td>\n",
       "      <td>84869.000000</td>\n",
       "      <td>65968.000000</td>\n",
       "      <td>3.000000</td>\n",
       "      <td>3190.000000</td>\n",
       "      <td>3.000000</td>\n",
       "      <td>1344.000000</td>\n",
       "      <td>1580.000000</td>\n",
       "    </tr>\n",
       "  </tbody>\n",
       "</table>\n",
       "</div>"
      ],
      "text/plain": [
       "       total_images    last_price    total_area         rooms  ceiling_height  \\\n",
       "count  23699.000000  2.369900e+04  23699.000000  23699.000000    14504.000000   \n",
       "mean       9.858475  6.541549e+06     60.348651      2.070636        2.771499   \n",
       "std        5.682529  1.088701e+07     35.654083      1.078405        1.261056   \n",
       "min        0.000000  1.219000e+04     12.000000      0.000000        1.000000   \n",
       "25%        6.000000  3.400000e+06     40.000000      1.000000        2.520000   \n",
       "50%        9.000000  4.650000e+06     52.000000      2.000000        2.650000   \n",
       "75%       14.000000  6.800000e+06     69.900000      3.000000        2.800000   \n",
       "max       50.000000  7.630000e+08    900.000000     19.000000      100.000000   \n",
       "\n",
       "       floors_total   living_area         floor  kitchen_area       balcony  \\\n",
       "count  23613.000000  21796.000000  23699.000000  21421.000000  12180.000000   \n",
       "mean      10.673824     34.457852      5.892358     10.569807      1.150082   \n",
       "std        6.597173     22.030445      4.885249      5.905438      1.071300   \n",
       "min        1.000000      2.000000      1.000000      1.300000      0.000000   \n",
       "25%        5.000000     18.600000      2.000000      7.000000      0.000000   \n",
       "50%        9.000000     30.000000      4.000000      9.100000      1.000000   \n",
       "75%       16.000000     42.300000      8.000000     12.000000      2.000000   \n",
       "max       60.000000    409.700000     33.000000    112.000000      5.000000   \n",
       "\n",
       "       airports_nearest  cityCenters_nearest  parks_around3000  parks_nearest  \\\n",
       "count      18157.000000         18180.000000      18181.000000    8079.000000   \n",
       "mean       28793.672193         14191.277833          0.611408     490.804555   \n",
       "std        12630.880622          8608.386210          0.802074     342.317995   \n",
       "min            0.000000           181.000000          0.000000       1.000000   \n",
       "25%        18585.000000          9238.000000          0.000000     288.000000   \n",
       "50%        26726.000000         13098.500000          0.000000     455.000000   \n",
       "75%        37273.000000         16293.000000          1.000000     612.000000   \n",
       "max        84869.000000         65968.000000          3.000000    3190.000000   \n",
       "\n",
       "       ponds_around3000  ponds_nearest  days_exposition  \n",
       "count      18181.000000    9110.000000     20518.000000  \n",
       "mean           0.770255     517.980900       180.888634  \n",
       "std            0.938346     277.720643       219.727988  \n",
       "min            0.000000      13.000000         1.000000  \n",
       "25%            0.000000     294.000000        45.000000  \n",
       "50%            1.000000     502.000000        95.000000  \n",
       "75%            1.000000     729.000000       232.000000  \n",
       "max            3.000000    1344.000000      1580.000000  "
      ]
     },
     "execution_count": 4,
     "metadata": {},
     "output_type": "execute_result"
    }
   ],
   "source": [
    "df.describe()"
   ]
  },
  {
   "cell_type": "markdown",
   "metadata": {},
   "source": [
    "### Вывод"
   ]
  },
  {
   "cell_type": "markdown",
   "metadata": {},
   "source": [
    "На данный момент я вижу следующий план действий:\n",
    "\n",
    "1) Определить, какие из столбцов нам необходимы для исследования а от каких нам не будет толка чтобы не тратить на них время.\n",
    "\n",
    "2) Привести в порядок типы данных (last price, first_day_exposition)\n",
    "\n",
    "3) Разобраться с пропусками.\n",
    "\n",
    "4) Избавиться от дубликатов если такие будут"
   ]
  },
  {
   "cell_type": "markdown",
   "metadata": {},
   "source": [
    "## Предобработка данных"
   ]
  },
  {
   "cell_type": "markdown",
   "metadata": {},
   "source": [
    "1) Определить, какие из столбцов нам необходимы для исследования а от каких нам не будет толка чтобы не тратить на них время.\n",
    "\n",
    "После анализа поставленных целей в проекте, я сделал вывод что в данном исследовании нам не нужны столбцы 'airoport_nearest', 'balcony', 'is_appartment', 'open_plan' 'park_around3000', 'park_nearest', 'pounds_around3000', 'pounds_nearest', 'studio', 'total_images'. В теории можно было бы сделать какие то выводы и из этих столбцов, но это не входит в цели нашего исследования."
   ]
  },
  {
   "cell_type": "code",
   "execution_count": 5,
   "metadata": {},
   "outputs": [],
   "source": [
    "dframe = df.drop(['total_images', 'balcony', 'is_apartment', 'airports_nearest', 'open_plan', 'parks_around3000', 'parks_nearest', 'ponds_around3000', 'ponds_nearest', 'studio'], axis = 1)"
   ]
  },
  {
   "cell_type": "markdown",
   "metadata": {},
   "source": [
    "2) Привести в порядок типы данных (last price, first_day_exposition)\n",
    "\n",
    "Поскольку цены квартир измеряются в миллионах и сотнях тысяч, мы можем превратить тип данных у этого столбца в целочисленный,  копейки никак не повлияют на анализ данных таких больших цифр.\n",
    "\n",
    "Столбец с датой выставления объявления необходимо привести к формату даты, чтобы в дальнейшем мы могли вытащить из него информацию которую по проекту необходимо добавить в таблицу."
   ]
  },
  {
   "cell_type": "code",
   "execution_count": 6,
   "metadata": {},
   "outputs": [],
   "source": [
    "dframe['last_price'] = dframe['last_price'].astype('int')"
   ]
  },
  {
   "cell_type": "code",
   "execution_count": 7,
   "metadata": {
    "scrolled": false
   },
   "outputs": [
    {
     "name": "stdout",
     "output_type": "stream",
     "text": [
      "<class 'pandas.core.frame.DataFrame'>\n",
      "RangeIndex: 23699 entries, 0 to 23698\n",
      "Data columns (total 12 columns):\n",
      " #   Column                Non-Null Count  Dtype         \n",
      "---  ------                --------------  -----         \n",
      " 0   last_price            23699 non-null  int64         \n",
      " 1   total_area            23699 non-null  float64       \n",
      " 2   first_day_exposition  23699 non-null  datetime64[ns]\n",
      " 3   rooms                 23699 non-null  int64         \n",
      " 4   ceiling_height        14504 non-null  float64       \n",
      " 5   floors_total          23613 non-null  float64       \n",
      " 6   living_area           21796 non-null  float64       \n",
      " 7   floor                 23699 non-null  int64         \n",
      " 8   kitchen_area          21421 non-null  float64       \n",
      " 9   locality_name         23650 non-null  object        \n",
      " 10  cityCenters_nearest   18180 non-null  float64       \n",
      " 11  days_exposition       20518 non-null  float64       \n",
      "dtypes: datetime64[ns](1), float64(7), int64(3), object(1)\n",
      "memory usage: 2.2+ MB\n"
     ]
    }
   ],
   "source": [
    "dframe['first_day_exposition'] = pd.to_datetime(dframe['first_day_exposition'], format = '%Y-%m-%dT%H:%M:%S')\n",
    "dframe.info()"
   ]
  },
  {
   "cell_type": "markdown",
   "metadata": {},
   "source": [
    "3) Разобраться с пропусками.\n",
    "\n",
    "Пропуски по высоте потолка можно было бы заменить на 2,7 что соответствует рекомендациям СНиП 31-01-2003 с СП 54.13330.2011, но с учетом что у нас пропущенные значения составляют порядка 40%, это даст нам аномальный рост такой высоты при анализе, что будет не объективно. (к этому я пришел после вывода гистограммы)\n",
    "\n",
    "Пропуски по этажам заменить не на что, дома могут иметь любую этажность. Оставим как есть и при анализе этого столбца будем исключать строки без данных.\n",
    "\n",
    "Пропуски по жилой площади и площади кухни можно заменить на общую площадь квартиры умноженную на средний коэффицент какой % от площади квартиры занимают кухня и жилая площадь.\n",
    "\n",
    "Пропуски по названию города и расстоянием до центра мы вынуждены пропустить.\n",
    "\n",
    "И пропуски по столбцу с кол-вом дней сколько висит объявление мы также трогать не будем, полагаю пропуски показывают что объявление все еще висит."
   ]
  },
  {
   "cell_type": "code",
   "execution_count": 8,
   "metadata": {},
   "outputs": [],
   "source": [
    "k_living_area = dframe['living_area'].mean() / dframe['total_area'].mean()\n",
    "k_kitchen_area = dframe['kitchen_area'].mean() / dframe['total_area'].mean()"
   ]
  },
  {
   "cell_type": "code",
   "execution_count": 9,
   "metadata": {},
   "outputs": [],
   "source": [
    "dframe['living_area'] = dframe['living_area'].fillna(dframe['total_area'] * k_living_area)"
   ]
  },
  {
   "cell_type": "code",
   "execution_count": 10,
   "metadata": {},
   "outputs": [],
   "source": [
    "dframe['kitchen_area'] = dframe['kitchen_area'].fillna(dframe['total_area'] * k_kitchen_area)"
   ]
  },
  {
   "cell_type": "markdown",
   "metadata": {},
   "source": [
    "4) Избавиться от дубликатов если такие будут"
   ]
  },
  {
   "cell_type": "code",
   "execution_count": 11,
   "metadata": {},
   "outputs": [
    {
     "data": {
      "text/plain": [
       "0"
      ]
     },
     "execution_count": 11,
     "metadata": {},
     "output_type": "execute_result"
    }
   ],
   "source": [
    "dframe.duplicated().sum()"
   ]
  },
  {
   "cell_type": "markdown",
   "metadata": {},
   "source": [
    "## Расчёты и добавление результатов в таблицу"
   ]
  },
  {
   "cell_type": "code",
   "execution_count": 12,
   "metadata": {},
   "outputs": [],
   "source": [
    "#Добавляем столбец с ценой квадратного метра\n",
    "dframe['price_sqrt'] = dframe['last_price'] / dframe['total_area']\n",
    "dframe['price_sqrt'] = dframe['price_sqrt'].astype('int')"
   ]
  },
  {
   "cell_type": "code",
   "execution_count": 13,
   "metadata": {},
   "outputs": [],
   "source": [
    "#Добавляем столбцы с днем недели, месяцем и годом.\n",
    "dframe['weekday_exposition'] = dframe['first_day_exposition'].dt.weekday\n",
    "dframe['month_exposition'] = dframe['first_day_exposition'].dt.month\n",
    "dframe['year_exposition'] = dframe['first_day_exposition'].dt.year"
   ]
  },
  {
   "cell_type": "code",
   "execution_count": 14,
   "metadata": {},
   "outputs": [],
   "source": [
    "#Добавляем классификацию квартир по этажам\n",
    "def class_floor(row):\n",
    "    floor = row['floor']\n",
    "    floors_total = row['floors_total']\n",
    "    if floor == 1:\n",
    "        return('первый')\n",
    "    if floor == floors_total:\n",
    "        return('последний')\n",
    "    return('другой')"
   ]
  },
  {
   "cell_type": "code",
   "execution_count": 15,
   "metadata": {},
   "outputs": [
    {
     "data": {
      "text/plain": [
       "другой       17446\n",
       "последний     3336\n",
       "первый        2917\n",
       "Name: class_floor, dtype: int64"
      ]
     },
     "execution_count": 15,
     "metadata": {},
     "output_type": "execute_result"
    }
   ],
   "source": [
    "dframe['class_floor'] = dframe.apply(class_floor, axis = 1)\n",
    "dframe['class_floor'].value_counts()"
   ]
  },
  {
   "cell_type": "code",
   "execution_count": 16,
   "metadata": {},
   "outputs": [],
   "source": [
    "#Добавляем соотношение жилой и общей площади, а также отношение площади кухни к общей\n",
    "dframe['k_living_area'] = dframe['living_area'] / dframe['total_area']\n",
    "dframe['k_kitchen_area'] = dframe['kitchen_area'] / dframe['total_area']"
   ]
  },
  {
   "cell_type": "markdown",
   "metadata": {},
   "source": [
    "Мы рассчитали и добавили все необходимые столбцы в нашу таблицу, пора переходить к анализу данных."
   ]
  },
  {
   "cell_type": "markdown",
   "metadata": {},
   "source": [
    "## Исследовательский анализ данных"
   ]
  },
  {
   "cell_type": "code",
   "execution_count": 17,
   "metadata": {},
   "outputs": [
    {
     "data": {
      "text/plain": [
       "<AxesSubplot:>"
      ]
     },
     "execution_count": 17,
     "metadata": {},
     "output_type": "execute_result"
    },
    {
     "data": {
      "image/png": "[encoded data removed]",
      "text/plain": [
       "<Figure size 432x288 with 1 Axes>"
      ]
     },
     "metadata": {
      "needs_background": "light"
     },
     "output_type": "display_data"
    }
   ],
   "source": [
    "#При построении графика мы видим что большая часть значений находится в пределах 200 м2, поэтому ограничим гистограмму соответственно.\n",
    "dframe['total_area'].hist(bins = 100, range = (0, 200))"
   ]
  },
  {
   "cell_type": "code",
   "execution_count": 18,
   "metadata": {},
   "outputs": [
    {
     "data": {
      "text/plain": [
       "<AxesSubplot:>"
      ]
     },
     "execution_count": 18,
     "metadata": {},
     "output_type": "execute_result"
    },
    {
     "data": {
      "image/png": "[encoded data removed]",
      "text/plain": [
       "<Figure size 432x288 with 1 Axes>"
      ]
     },
     "metadata": {
      "needs_background": "light"
     },
     "output_type": "display_data"
    }
   ],
   "source": [
    "#Цены на квартиры могут варироваться очень сильно, самое большое значение 763кк, но основной диапазон попадает в пределы 200кк.\n",
    "#dframe['last_price'].max()\n",
    "dframe['last_price'].hist(bins = 100, range = (0, 20000000))"
   ]
  },
  {
   "cell_type": "code",
   "execution_count": 19,
   "metadata": {},
   "outputs": [
    {
     "data": {
      "text/plain": [
       "<AxesSubplot:>"
      ]
     },
     "execution_count": 19,
     "metadata": {},
     "output_type": "execute_result"
    },
    {
     "data": {
      "image/png": "[encoded data removed]",
      "text/plain": [
       "<Figure size 432x288 with 1 Axes>"
      ]
     },
     "metadata": {
      "needs_background": "light"
     },
     "output_type": "display_data"
    }
   ],
   "source": [
    "dframe['rooms'].hist(bins = 9, range = (0, 8))\n",
    "#dframe.query('rooms < 1').sort_values(by = 'total_area', ascending = True)\n",
    "#У нас в таблице есть 197 квартир у которых указано 0 комнат. \n",
    "#можно предположить что это студии или комнаты в общежитиях, однако в выборке также есть значения с площадью явно выше чем может быть у студии."
   ]
  },
  {
   "cell_type": "code",
   "execution_count": 20,
   "metadata": {},
   "outputs": [
    {
     "data": {
      "text/plain": [
       "<AxesSubplot:>"
      ]
     },
     "execution_count": 20,
     "metadata": {},
     "output_type": "execute_result"
    },
    {
     "data": {
      "image/png": "[encoded data removed]",
      "text/plain": [
       "<Figure size 432x288 with 1 Axes>"
      ]
     },
     "metadata": {
      "needs_background": "light"
     },
     "output_type": "display_data"
    }
   ],
   "source": [
    "dframe['ceiling_height'].hist(bins = 20, range = (2.4, 3.5))\n",
    "# Тут мы видим что высота потолков в большинстве квартир варируется в диапазоне от 2,5 до 3 метров"
   ]
  },
  {
   "cell_type": "markdown",
   "metadata": {},
   "source": [
    "Исходя из полученных данных можно сделать промежуточные выводы о продаже квартир:\n",
    "\n",
    "1) Большая часть продаваемых квартир находятся в диапазоне от 2,5 до 6 млн рублей\n",
    "\n",
    "2) Большая часть квартир имеют площадь от 25 до 70 м2 и от 1 до 3 комнат (что логично, и дает нам понимание что данные похожи на правду)\n",
    "\n",
    "3) У нас есть 197 квартир где не указано кол-во комнат и это нужно учитывать при дальнейшем анализе\n",
    "\n",
    "4) Исходя из данных о высоте потолков, а конкретно из того что самая частая высота составляет 2,5 метра, можно сделать вывод что люди в данной выборке чаще продают старые квартиры (панельные хрущевки имели высоту 2,5м и 3м - сталинки). Новые квартиры строятся чаще всего с высотой потолков около 2,7 м."
   ]
  },
  {
   "cell_type": "code",
   "execution_count": 21,
   "metadata": {
    "scrolled": true
   },
   "outputs": [
    {
     "data": {
      "text/plain": [
       "<AxesSubplot:>"
      ]
     },
     "execution_count": 21,
     "metadata": {},
     "output_type": "execute_result"
    },
    {
     "data": {
      "image/png": "[encoded data removed]",
      "text/plain": [
       "<Figure size 432x288 with 1 Axes>"
      ]
     },
     "metadata": {
      "needs_background": "light"
     },
     "output_type": "display_data"
    }
   ],
   "source": [
    "dframe['days_exposition'].hist(bins = 50, range = (0, 1000))"
   ]
  },
  {
   "cell_type": "markdown",
   "metadata": {},
   "source": [
    "Большая часть квартир уходит в промежуток от 0 до 200 дней, далее кол-во квартир уходящих за большее время идет на спад. Чтобы понять какие значения у нас являются аномальными нужно посмотреть как происходит распределение на квартили."
   ]
  },
  {
   "cell_type": "code",
   "execution_count": 22,
   "metadata": {},
   "outputs": [
    {
     "data": {
      "text/plain": [
       "count    20518.000000\n",
       "mean       180.888634\n",
       "std        219.727988\n",
       "min          1.000000\n",
       "25%         45.000000\n",
       "50%         95.000000\n",
       "75%        232.000000\n",
       "max       1580.000000\n",
       "Name: days_exposition, dtype: float64"
      ]
     },
     "execution_count": 22,
     "metadata": {},
     "output_type": "execute_result"
    }
   ],
   "source": [
    "dframe['days_exposition'].describe()"
   ]
  },
  {
   "cell_type": "markdown",
   "metadata": {},
   "source": [
    "Поскольку квартили попадают в диапазон когда уходит большая часть квартир, я предлагаю считать 10% самых быстро проданных квартир как аномально быстрые, а 10% самых долгих, аномально долгими соответственно. Это у нас диапазоны до 20 дней и от 426 дней соответственно. Также мы видим что квартиры которые продаются очень долго увеличивают среднее кол-во дней на продажу квартир почти в два раза. Давайте сравним что произойдет если мы уберем слишком быстрые и слишком медленные продажи."
   ]
  },
  {
   "cell_type": "code",
   "execution_count": 23,
   "metadata": {},
   "outputs": [
    {
     "data": {
      "text/plain": [
       "45.0    880\n",
       "60.0    538\n",
       "7.0     234\n",
       "30.0    208\n",
       "90.0    204\n",
       "4.0     176\n",
       "3.0     158\n",
       "5.0     152\n",
       "Name: days_exposition, dtype: int64"
      ]
     },
     "execution_count": 23,
     "metadata": {},
     "output_type": "execute_result"
    }
   ],
   "source": [
    "dframe['days_exposition'].value_counts().head(8)"
   ]
  },
  {
   "cell_type": "markdown",
   "metadata": {},
   "source": [
    "При исчезновении выбивающихся значений по дням выставления объявления, когда я взял отсев по 10% быстрых и медленных ничего существенно не изменилось ни в одном из графиков. Поэтому я попробовал сделать отсев по квартилям (и позже увеличил диапазон чтобы проверить 30), и в этом случае я увидел что у нас есть аномальные возрастания. При проверке оказалось что возрастания происходят на отсечках 30, 45, 60, и 90 дней, из чего можно сделать предположение что не все люди снимают объявления о продаже, т.к. такие отсечки характерны выбору на сколько дней выставлять объявление. Таких значений у нас около 7%, так что можно предположить что реальное среднее (и медианное) время продажи квартиры будет еще немного меньше чем мы видим."
   ]
  },
  {
   "cell_type": "markdown",
   "metadata": {},
   "source": [
    "При исчезновении выбивающихся значений по цене, никаких аномалий выявлено не было. Разве что подтверждаются очевидные закономерности что со срезом по цене уменьшается кол-во квартир где комнат больше 3 и происходит уменьшение площадей.\n",
    "Исследовать остальные столбцы таким же образом не вижу смысла, так как мы придем к таким же выводам."
   ]
  },
  {
   "cell_type": "markdown",
   "metadata": {},
   "source": [
    "Переходим к заданию определения факторов больше всего влияющих на стоимость квартиры."
   ]
  },
  {
   "cell_type": "code",
   "execution_count": 24,
   "metadata": {
    "scrolled": true
   },
   "outputs": [
    {
     "data": {
      "text/html": [
       "<div>\n",
       "<style scoped>\n",
       "    .dataframe tbody tr th:only-of-type {\n",
       "        vertical-align: middle;\n",
       "    }\n",
       "\n",
       "    .dataframe tbody tr th {\n",
       "        vertical-align: top;\n",
       "    }\n",
       "\n",
       "    .dataframe thead th {\n",
       "        text-align: right;\n",
       "    }\n",
       "</style>\n",
       "<table border=\"1\" class=\"dataframe\">\n",
       "  <thead>\n",
       "    <tr style=\"text-align: right;\">\n",
       "      <th></th>\n",
       "      <th>last_price</th>\n",
       "      <th>total_area</th>\n",
       "      <th>cityCenters_nearest</th>\n",
       "    </tr>\n",
       "  </thead>\n",
       "  <tbody>\n",
       "    <tr>\n",
       "      <th>0</th>\n",
       "      <td>13000000</td>\n",
       "      <td>108.0</td>\n",
       "      <td>16028.0</td>\n",
       "    </tr>\n",
       "    <tr>\n",
       "      <th>1</th>\n",
       "      <td>3350000</td>\n",
       "      <td>40.4</td>\n",
       "      <td>18603.0</td>\n",
       "    </tr>\n",
       "    <tr>\n",
       "      <th>2</th>\n",
       "      <td>5196000</td>\n",
       "      <td>56.0</td>\n",
       "      <td>13933.0</td>\n",
       "    </tr>\n",
       "    <tr>\n",
       "      <th>3</th>\n",
       "      <td>64900000</td>\n",
       "      <td>159.0</td>\n",
       "      <td>6800.0</td>\n",
       "    </tr>\n",
       "    <tr>\n",
       "      <th>4</th>\n",
       "      <td>10000000</td>\n",
       "      <td>100.0</td>\n",
       "      <td>8098.0</td>\n",
       "    </tr>\n",
       "  </tbody>\n",
       "</table>\n",
       "</div>"
      ],
      "text/plain": [
       "   last_price  total_area  cityCenters_nearest\n",
       "0    13000000       108.0              16028.0\n",
       "1     3350000        40.4              18603.0\n",
       "2     5196000        56.0              13933.0\n",
       "3    64900000       159.0               6800.0\n",
       "4    10000000       100.0               8098.0"
      ]
     },
     "execution_count": 24,
     "metadata": {},
     "output_type": "execute_result"
    }
   ],
   "source": [
    "df_correlation = dframe[['last_price', 'total_area', 'cityCenters_nearest']]\n",
    "df_correlation.head()"
   ]
  },
  {
   "cell_type": "code",
   "execution_count": 25,
   "metadata": {
    "scrolled": true
   },
   "outputs": [
    {
     "data": {
      "text/html": [
       "<div>\n",
       "<style scoped>\n",
       "    .dataframe tbody tr th:only-of-type {\n",
       "        vertical-align: middle;\n",
       "    }\n",
       "\n",
       "    .dataframe tbody tr th {\n",
       "        vertical-align: top;\n",
       "    }\n",
       "\n",
       "    .dataframe thead th {\n",
       "        text-align: right;\n",
       "    }\n",
       "</style>\n",
       "<table border=\"1\" class=\"dataframe\">\n",
       "  <thead>\n",
       "    <tr style=\"text-align: right;\">\n",
       "      <th></th>\n",
       "      <th>last_price</th>\n",
       "      <th>total_area</th>\n",
       "      <th>cityCenters_nearest</th>\n",
       "    </tr>\n",
       "  </thead>\n",
       "  <tbody>\n",
       "    <tr>\n",
       "      <th>last_price</th>\n",
       "      <td>1.000000</td>\n",
       "      <td>0.653675</td>\n",
       "      <td>-0.206747</td>\n",
       "    </tr>\n",
       "    <tr>\n",
       "      <th>total_area</th>\n",
       "      <td>0.653675</td>\n",
       "      <td>1.000000</td>\n",
       "      <td>-0.231446</td>\n",
       "    </tr>\n",
       "    <tr>\n",
       "      <th>cityCenters_nearest</th>\n",
       "      <td>-0.206747</td>\n",
       "      <td>-0.231446</td>\n",
       "      <td>1.000000</td>\n",
       "    </tr>\n",
       "  </tbody>\n",
       "</table>\n",
       "</div>"
      ],
      "text/plain": [
       "                     last_price  total_area  cityCenters_nearest\n",
       "last_price             1.000000    0.653675            -0.206747\n",
       "total_area             0.653675    1.000000            -0.231446\n",
       "cityCenters_nearest   -0.206747   -0.231446             1.000000"
      ]
     },
     "execution_count": 25,
     "metadata": {},
     "output_type": "execute_result"
    }
   ],
   "source": [
    "df_correlation.corr()"
   ]
  },
  {
   "cell_type": "code",
   "execution_count": 26,
   "metadata": {},
   "outputs": [
    {
     "data": {
      "text/plain": [
       "array([[<AxesSubplot:xlabel='last_price', ylabel='last_price'>,\n",
       "        <AxesSubplot:xlabel='total_area', ylabel='last_price'>,\n",
       "        <AxesSubplot:xlabel='cityCenters_nearest', ylabel='last_price'>],\n",
       "       [<AxesSubplot:xlabel='last_price', ylabel='total_area'>,\n",
       "        <AxesSubplot:xlabel='total_area', ylabel='total_area'>,\n",
       "        <AxesSubplot:xlabel='cityCenters_nearest', ylabel='total_area'>],\n",
       "       [<AxesSubplot:xlabel='last_price', ylabel='cityCenters_nearest'>,\n",
       "        <AxesSubplot:xlabel='total_area', ylabel='cityCenters_nearest'>,\n",
       "        <AxesSubplot:xlabel='cityCenters_nearest', ylabel='cityCenters_nearest'>]],\n",
       "      dtype=object)"
      ]
     },
     "execution_count": 26,
     "metadata": {},
     "output_type": "execute_result"
    },
    {
     "data": {
      "image/png": "[encoded data removed]",
      "text/plain": [
       "<Figure size 648x648 with 9 Axes>"
      ]
     },
     "metadata": {
      "needs_background": "light"
     },
     "output_type": "display_data"
    }
   ],
   "source": [
    "pd.plotting.scatter_matrix(df_correlation, figsize=(9, 9))"
   ]
  },
  {
   "cell_type": "markdown",
   "metadata": {},
   "source": [
    "Мы видим что корреляция между ценой и площадью, имеет высокую положительную зависимость, также положительная корреляция характерна соотношению цены и кол-ва комнат. А вот удаленность от центра снижает цену на недвижимость. Давайте уберем выбросы и посмотрим что получится."
   ]
  },
  {
   "cell_type": "code",
   "execution_count": 27,
   "metadata": {},
   "outputs": [
    {
     "data": {
      "text/html": [
       "<div>\n",
       "<style scoped>\n",
       "    .dataframe tbody tr th:only-of-type {\n",
       "        vertical-align: middle;\n",
       "    }\n",
       "\n",
       "    .dataframe tbody tr th {\n",
       "        vertical-align: top;\n",
       "    }\n",
       "\n",
       "    .dataframe thead th {\n",
       "        text-align: right;\n",
       "    }\n",
       "</style>\n",
       "<table border=\"1\" class=\"dataframe\">\n",
       "  <thead>\n",
       "    <tr style=\"text-align: right;\">\n",
       "      <th></th>\n",
       "      <th>last_price</th>\n",
       "      <th>total_area</th>\n",
       "      <th>cityCenters_nearest</th>\n",
       "    </tr>\n",
       "  </thead>\n",
       "  <tbody>\n",
       "    <tr>\n",
       "      <th>last_price</th>\n",
       "      <td>1.000000</td>\n",
       "      <td>0.768311</td>\n",
       "      <td>-0.32996</td>\n",
       "    </tr>\n",
       "    <tr>\n",
       "      <th>total_area</th>\n",
       "      <td>0.768311</td>\n",
       "      <td>1.000000</td>\n",
       "      <td>-0.23865</td>\n",
       "    </tr>\n",
       "    <tr>\n",
       "      <th>cityCenters_nearest</th>\n",
       "      <td>-0.329960</td>\n",
       "      <td>-0.238650</td>\n",
       "      <td>1.00000</td>\n",
       "    </tr>\n",
       "  </tbody>\n",
       "</table>\n",
       "</div>"
      ],
      "text/plain": [
       "                     last_price  total_area  cityCenters_nearest\n",
       "last_price             1.000000    0.768311             -0.32996\n",
       "total_area             0.768311    1.000000             -0.23865\n",
       "cityCenters_nearest   -0.329960   -0.238650              1.00000"
      ]
     },
     "execution_count": 27,
     "metadata": {},
     "output_type": "execute_result"
    }
   ],
   "source": [
    "df_correlation_middle = df_correlation.query('last_price < 60000000 and total_area < 250')\n",
    "df_correlation_middle.corr()"
   ]
  },
  {
   "cell_type": "code",
   "execution_count": 28,
   "metadata": {},
   "outputs": [
    {
     "data": {
      "text/plain": [
       "array([[<AxesSubplot:xlabel='last_price', ylabel='last_price'>,\n",
       "        <AxesSubplot:xlabel='total_area', ylabel='last_price'>,\n",
       "        <AxesSubplot:xlabel='cityCenters_nearest', ylabel='last_price'>],\n",
       "       [<AxesSubplot:xlabel='last_price', ylabel='total_area'>,\n",
       "        <AxesSubplot:xlabel='total_area', ylabel='total_area'>,\n",
       "        <AxesSubplot:xlabel='cityCenters_nearest', ylabel='total_area'>],\n",
       "       [<AxesSubplot:xlabel='last_price', ylabel='cityCenters_nearest'>,\n",
       "        <AxesSubplot:xlabel='total_area', ylabel='cityCenters_nearest'>,\n",
       "        <AxesSubplot:xlabel='cityCenters_nearest', ylabel='cityCenters_nearest'>]],\n",
       "      dtype=object)"
      ]
     },
     "execution_count": 28,
     "metadata": {},
     "output_type": "execute_result"
    },
    {
     "data": {
      "image/png": "[encoded data removed]",
      "text/plain": [
       "<Figure size 648x648 with 9 Axes>"
      ]
     },
     "metadata": {
      "needs_background": "light"
     },
     "output_type": "display_data"
    }
   ],
   "source": [
    "pd.plotting.scatter_matrix(df_correlation_middle, figsize=(9, 9))"
   ]
  },
  {
   "cell_type": "markdown",
   "metadata": {},
   "source": [
    "После того как мы убрали выбросы, корреляция стала более линейной как в большую так и в меньшую сторону, что подтверждает следующие выводы:\n",
    "\n",
    "1) Чем больше площадь тем больше цена.\n",
    "\n",
    "2) Чем квартира более удалена от центра тем она дешевле.\n",
    "\n",
    "3) Квартиры с большими площадями чаще встречаются не в самом центре, но вблизи от него. Что дает нам информацию о том что люди у которых много денег предпочитают иметь большие квартиры не далеко от центра. Люди не столь обеспеченные вынуждены жить далеко от центра, и при наличии возможности скорее переедут к центру чем захотят иметь большую квартиру вдали от инфраструктуры города.\n",
    "\n",
    "4) Выброс более 40 км я не убрал умышленно, так как это скорее не выброс, а один из пригородов находящийся в 20 км от города."
   ]
  },
  {
   "cell_type": "code",
   "execution_count": 29,
   "metadata": {
    "scrolled": true
   },
   "outputs": [
    {
     "data": {
      "text/plain": [
       "<AxesSubplot:xlabel='class_floor'>"
      ]
     },
     "execution_count": 29,
     "metadata": {},
     "output_type": "execute_result"
    },
    {
     "data": {
      "image/png": "[encoded data removed]",
      "text/plain": [
       "<Figure size 432x288 with 1 Axes>"
      ]
     },
     "metadata": {
      "needs_background": "light"
     },
     "output_type": "display_data"
    }
   ],
   "source": [
    "#поскольку у нас в данную выборку не попала зависимость по этажам - выведем ее отдельно.\n",
    "df_correlation_discret = dframe[['last_price', 'total_area', 'cityCenters_nearest', 'rooms', 'class_floor']]\n",
    "df_correlation_discret = df_correlation_discret.query('last_price < 60000000 and total_area < 250 and rooms < 10')\n",
    "df_correlation_discret.pivot_table(index = 'class_floor', values = 'last_price', aggfunc = 'median').plot(kind = 'bar')\n"
   ]
  },
  {
   "cell_type": "markdown",
   "metadata": {},
   "source": [
    "Мы видим что люди предпочитают не покупать квартиры на первом и последнем этажах, настолько, что квартиры на первом этаже стоят почти на 20% дешевле чем на других этажах. Это может объясняться тем что первый и последний этажи более холодные, а другие получает тепло от соседей сверху и снизу. Последние этажи не имеют такого падения, поскольку не смотря на то что нет соседей сверху, тепло имеет свойство подниматься вверх. Также это может быть связано с тем что первые этажи более чувствительны к проблемам дома с канализацией, а последние может заливать дождем и таянием снега при износе крыши. "
   ]
  },
  {
   "cell_type": "code",
   "execution_count": 30,
   "metadata": {},
   "outputs": [
    {
     "data": {
      "text/plain": [
       "<AxesSubplot:xlabel='rooms'>"
      ]
     },
     "execution_count": 30,
     "metadata": {},
     "output_type": "execute_result"
    },
    {
     "data": {
      "image/png": "[encoded data removed]",
      "text/plain": [
       "<Figure size 432x288 with 1 Axes>"
      ]
     },
     "metadata": {
      "needs_background": "light"
     },
     "output_type": "display_data"
    }
   ],
   "source": [
    "df_correlation_discret.pivot_table(index = 'rooms', values = 'last_price', aggfunc = 'median').plot(kind = 'bar')"
   ]
  },
  {
   "cell_type": "markdown",
   "metadata": {},
   "source": [
    "А по медианным ценам на квартиры в зависимости от кол-ва комнат все проще, больше комнат - больше цена. Это является логическим продолжением вывода о зависмости площади и цены. Мы видим что после 6 комнат цена на квартиры меняется не так сильно, вполне вероятно что площади квартир отличаются не сильно, но значительно отличается планировка. Также мы видим что значение \"0\" комнат которое мы уже выделяли ранее, по цене стоит ниже чем однокомнатные квартиры. Могу сделать предположение что как 0 комнат обозначают студии."
   ]
  },
  {
   "cell_type": "code",
   "execution_count": 31,
   "metadata": {},
   "outputs": [
    {
     "data": {
      "text/plain": [
       "<AxesSubplot:xlabel='year_exposition,month_exposition'>"
      ]
     },
     "execution_count": 31,
     "metadata": {},
     "output_type": "execute_result"
    },
    {
     "data": {
      "image/png": "[encoded data removed]",
      "text/plain": [
       "<Figure size 648x648 with 1 Axes>"
      ]
     },
     "metadata": {
      "needs_background": "light"
     },
     "output_type": "display_data"
    }
   ],
   "source": [
    "df_datetime = dframe[['last_price', 'weekday_exposition', 'month_exposition', 'year_exposition', 'total_area']]\n",
    "df_datetime = df_datetime.query('year_exposition > 2014')\n",
    "df_datetime.pivot_table(index = ('year_exposition', 'month_exposition'), values = 'last_price', aggfunc = 'median').plot(kind = 'bar', figsize = (9, 9))"
   ]
  },
  {
   "cell_type": "code",
   "execution_count": 32,
   "metadata": {},
   "outputs": [
    {
     "data": {
      "text/plain": [
       "<AxesSubplot:xlabel='year_exposition'>"
      ]
     },
     "execution_count": 32,
     "metadata": {},
     "output_type": "execute_result"
    },
    {
     "data": {
      "image/png": "[encoded data removed]",
      "text/plain": [
       "<Figure size 432x288 with 1 Axes>"
      ]
     },
     "metadata": {
      "needs_background": "light"
     },
     "output_type": "display_data"
    }
   ],
   "source": [
    "df_datetime.pivot_table(index = 'year_exposition', values = 'last_price', aggfunc = 'median').plot(kind = 'bar')"
   ]
  },
  {
   "cell_type": "markdown",
   "metadata": {},
   "source": [
    "При рассмотрении соотношения цены и дня, месяца, года, я не увидел никаких аномальных отклонений. C учетом что за 2014 год маленькая выборка (всего 137 квартир), и при рассмотрении медионных значений она дает выбросы, срежем ее.\n",
    "\n",
    "При рассмотрении графика медианных цен по месяцам с начала 2015 года мы видим определенные колебания цен, но стабильной периодичности каждый год нет, возможно это просто случайные колебания, а возможно связано с событиями на рынке недвижимости.\n",
    "\n",
    "По годам мы видим что после 2015 годы цены немного упали, 2016 - 2018 годы, держались стабильно, а в 2019 снова выросли. Никаких закономерностей и это странно. Поскольку мы уже выяснили что цена сильно зависит от площади, давайте выделим квартиры с диапазоном в котором продается больше всего квартир, и посмотрим что получится.\n",
    "\n",
    "Из интересных моментов которые мы видим до среза, квартиры чаще продают весной и осенью, а летом и зимой квартир выставляется в полтора - два раза меньше. Также в будние дни квартир на продажу поступает в два раза больше чем в выходные. Также при просмотре кол-ва квартир по годам можно сказать что наша организация за два года увеличила количество клиентов почти в 4 раза."
   ]
  },
  {
   "cell_type": "code",
   "execution_count": 33,
   "metadata": {},
   "outputs": [
    {
     "data": {
      "text/plain": [
       "<AxesSubplot:xlabel='year_exposition'>"
      ]
     },
     "execution_count": 33,
     "metadata": {},
     "output_type": "execute_result"
    },
    {
     "data": {
      "image/png": "[encoded data removed]",
      "text/plain": [
       "<Figure size 936x936 with 1 Axes>"
      ]
     },
     "metadata": {
      "needs_background": "light"
     },
     "output_type": "display_data"
    }
   ],
   "source": [
    "df_datetime_for_area = df_datetime.query('total_area > 30 and total_area < 100')\n",
    "df_datetime_for_area.pivot_table(index = 'year_exposition', values = 'last_price', aggfunc = 'median').plot(kind = 'bar', figsize = (13, 13))"
   ]
  },
  {
   "cell_type": "markdown",
   "metadata": {},
   "source": [
    "Если мы спишем завышение цены квартир в 2015 году за счет малого количества выставленных на продажу квартир в том году, то мы можем сделать предположение что с годами цены на квартиры растут, что логично объясняется ежегодной инфляцией. "
   ]
  },
  {
   "cell_type": "code",
   "execution_count": 34,
   "metadata": {
    "scrolled": true
   },
   "outputs": [
    {
     "data": {
      "text/plain": [
       "Санкт-Петербург            15721\n",
       "посёлок Мурино               522\n",
       "посёлок Шушары               440\n",
       "Всеволожск                   398\n",
       "Пушкин                       369\n",
       "Колпино                      338\n",
       "посёлок Парголово            327\n",
       "Гатчина                      307\n",
       "деревня Кудрово              299\n",
       "Выборг                       237\n",
       "Петергоф                     201\n",
       "Сестрорецк                   183\n",
       "Красное Село                 178\n",
       "Кудрово                      173\n",
       "деревня Новое Девяткино      144\n",
       "Сертолово                    142\n",
       "Ломоносов                    133\n",
       "Кириши                       125\n",
       "Сланцы                       112\n",
       "Волхов                       111\n",
       "Тосно                        104\n",
       "Кингисепп                    104\n",
       "Кронштадт                     96\n",
       "Никольское                    93\n",
       "Коммунар                      89\n",
       "Сосновый Бор                  87\n",
       "Кировск                       84\n",
       "Отрадное                      80\n",
       "посёлок Бугры                 69\n",
       "посёлок Металлострой          66\n",
       "Name: locality_name, dtype: int64"
      ]
     },
     "execution_count": 34,
     "metadata": {},
     "output_type": "execute_result"
    }
   ],
   "source": [
    "dframe['locality_name'].value_counts().head(30)\n",
    "\n"
   ]
  },
  {
   "cell_type": "code",
   "execution_count": 35,
   "metadata": {},
   "outputs": [],
   "source": [
    "def city_converse(row):\n",
    "    last_word = []\n",
    "    try:\n",
    "        if len(row.split()) == 1:\n",
    "            return(row)\n",
    "        if len(row.split()) > 1:\n",
    "            last_word = row.split()\n",
    "            return(last_word[len(row.split()) - 1])\n",
    "    except:\n",
    "        return('error')\n",
    "    "
   ]
  },
  {
   "cell_type": "code",
   "execution_count": 36,
   "metadata": {},
   "outputs": [],
   "source": [
    "dframe['locality_name'] = dframe['locality_name'].apply(city_converse)"
   ]
  },
  {
   "cell_type": "code",
   "execution_count": 37,
   "metadata": {},
   "outputs": [
    {
     "data": {
      "text/plain": [
       "Санкт-Петербург    15721\n",
       "Мурино               590\n",
       "Кудрово              472\n",
       "Шушары               440\n",
       "Всеволожск           398\n",
       "Пушкин               369\n",
       "Колпино              338\n",
       "Парголово            327\n",
       "Гатчина              307\n",
       "Выборг               237\n",
       "Name: locality_name, dtype: int64"
      ]
     },
     "execution_count": 37,
     "metadata": {},
     "output_type": "execute_result"
    }
   ],
   "source": [
    "dframe['locality_name'].value_counts().head(10)"
   ]
  },
  {
   "cell_type": "code",
   "execution_count": 38,
   "metadata": {},
   "outputs": [],
   "source": [
    "df_top10_city = dframe.query('locality_name == (\"Санкт-Петербург\", \"Мурино\", \"Шушары\", \"Всеволожск\", \"Пушкин\", \"Колпино\", \"Парголово\", \"Гатчина\", \"Кудрово\", \"Выборг\") ')"
   ]
  },
  {
   "cell_type": "code",
   "execution_count": 39,
   "metadata": {},
   "outputs": [
    {
     "data": {
      "text/html": [
       "<div>\n",
       "<style scoped>\n",
       "    .dataframe tbody tr th:only-of-type {\n",
       "        vertical-align: middle;\n",
       "    }\n",
       "\n",
       "    .dataframe tbody tr th {\n",
       "        vertical-align: top;\n",
       "    }\n",
       "\n",
       "    .dataframe thead th {\n",
       "        text-align: right;\n",
       "    }\n",
       "</style>\n",
       "<table border=\"1\" class=\"dataframe\">\n",
       "  <thead>\n",
       "    <tr style=\"text-align: right;\">\n",
       "      <th></th>\n",
       "      <th>price_sqrt</th>\n",
       "    </tr>\n",
       "    <tr>\n",
       "      <th>locality_name</th>\n",
       "      <th></th>\n",
       "    </tr>\n",
       "  </thead>\n",
       "  <tbody>\n",
       "    <tr>\n",
       "      <th>Санкт-Петербург</th>\n",
       "      <td>114848.565231</td>\n",
       "    </tr>\n",
       "    <tr>\n",
       "      <th>Пушкин</th>\n",
       "      <td>103125.373984</td>\n",
       "    </tr>\n",
       "    <tr>\n",
       "      <th>Кудрово</th>\n",
       "      <td>95324.476695</td>\n",
       "    </tr>\n",
       "    <tr>\n",
       "      <th>Парголово</th>\n",
       "      <td>90175.489297</td>\n",
       "    </tr>\n",
       "    <tr>\n",
       "      <th>Мурино</th>\n",
       "      <td>86087.055932</td>\n",
       "    </tr>\n",
       "    <tr>\n",
       "      <th>Шушары</th>\n",
       "      <td>78676.904545</td>\n",
       "    </tr>\n",
       "    <tr>\n",
       "      <th>Колпино</th>\n",
       "      <td>75424.150888</td>\n",
       "    </tr>\n",
       "    <tr>\n",
       "      <th>Гатчина</th>\n",
       "      <td>68745.693811</td>\n",
       "    </tr>\n",
       "    <tr>\n",
       "      <th>Всеволожск</th>\n",
       "      <td>68654.007538</td>\n",
       "    </tr>\n",
       "    <tr>\n",
       "      <th>Выборг</th>\n",
       "      <td>58141.489451</td>\n",
       "    </tr>\n",
       "  </tbody>\n",
       "</table>\n",
       "</div>"
      ],
      "text/plain": [
       "                    price_sqrt\n",
       "locality_name                 \n",
       "Санкт-Петербург  114848.565231\n",
       "Пушкин           103125.373984\n",
       "Кудрово           95324.476695\n",
       "Парголово         90175.489297\n",
       "Мурино            86087.055932\n",
       "Шушары            78676.904545\n",
       "Колпино           75424.150888\n",
       "Гатчина           68745.693811\n",
       "Всеволожск        68654.007538\n",
       "Выборг            58141.489451"
      ]
     },
     "execution_count": 39,
     "metadata": {},
     "output_type": "execute_result"
    }
   ],
   "source": [
    "df_top10_city.pivot_table(index = 'locality_name', values = 'price_sqrt').sort_values(by = 'price_sqrt', ascending = False)"
   ]
  },
  {
   "cell_type": "markdown",
   "metadata": {},
   "source": [
    "При рассмотрении 10 городов у которых больше всего квартир в нашей таблице, мы выяснили что самая высокая цена за квадратный метр в Санкт Петербурге, а самая низкая в Выборге. Приступим к изучению квартир по Санкт Петербургу."
   ]
  },
  {
   "cell_type": "code",
   "execution_count": 40,
   "metadata": {},
   "outputs": [
    {
     "name": "stdout",
     "output_type": "stream",
     "text": [
      "<class 'pandas.core.frame.DataFrame'>\n",
      "RangeIndex: 15660 entries, 0 to 15659\n",
      "Data columns (total 19 columns):\n",
      " #   Column                Non-Null Count  Dtype         \n",
      "---  ------                --------------  -----         \n",
      " 0   last_price            15660 non-null  int64         \n",
      " 1   total_area            15660 non-null  float64       \n",
      " 2   first_day_exposition  15660 non-null  datetime64[ns]\n",
      " 3   rooms                 15660 non-null  int64         \n",
      " 4   ceiling_height        10073 non-null  float64       \n",
      " 5   floors_total          15591 non-null  float64       \n",
      " 6   living_area           15660 non-null  float64       \n",
      " 7   floor                 15660 non-null  int64         \n",
      " 8   kitchen_area          15660 non-null  float64       \n",
      " 9   locality_name         15660 non-null  object        \n",
      " 10  cityCenters_nearest   15660 non-null  float64       \n",
      " 11  days_exposition       13613 non-null  float64       \n",
      " 12  price_sqrt            15660 non-null  int64         \n",
      " 13  weekday_exposition    15660 non-null  int64         \n",
      " 14  month_exposition      15660 non-null  int64         \n",
      " 15  year_exposition       15660 non-null  int64         \n",
      " 16  class_floor           15660 non-null  object        \n",
      " 17  k_living_area         15660 non-null  float64       \n",
      " 18  k_kitchen_area        15660 non-null  float64       \n",
      "dtypes: datetime64[ns](1), float64(9), int64(7), object(2)\n",
      "memory usage: 2.3+ MB\n"
     ]
    }
   ],
   "source": [
    "df_spb = dframe.query('locality_name == \"Санкт-Петербург\" and cityCenters_nearest >= 0').reset_index(drop = True)\n",
    "df_spb.info()"
   ]
  },
  {
   "cell_type": "code",
   "execution_count": 41,
   "metadata": {},
   "outputs": [],
   "source": [
    "df_spb['km_for_center'] = df_spb['cityCenters_nearest'] / 1000\n",
    "df_spb['km_for_center'] = df_spb['km_for_center'].astype('int')\n",
    "#df_spb.head(3)"
   ]
  },
  {
   "cell_type": "code",
   "execution_count": 42,
   "metadata": {},
   "outputs": [
    {
     "data": {
      "text/plain": [
       "<AxesSubplot:xlabel='km_for_center'>"
      ]
     },
     "execution_count": 42,
     "metadata": {},
     "output_type": "execute_result"
    },
    {
     "data": {
      "image/png": "[encoded data removed]",
      "text/plain": [
       "<Figure size 936x360 with 1 Axes>"
      ]
     },
     "metadata": {
      "needs_background": "light"
     },
     "output_type": "display_data"
    }
   ],
   "source": [
    "df_spb.pivot_table(index = 'km_for_center', values = 'last_price').plot(grid = True, style = 'o-', figsize = (13, 5))"
   ]
  },
  {
   "cell_type": "markdown",
   "metadata": {},
   "source": [
    "Исходя из графика мы видим что резкое снижение цены прекращается после 3 км, соответственно можно сделать вывод что центральный район Санкт Петербурга имеет радиус 3км. Также далее происходит еще одно изменение на 8 км от центра, могу предположить что это расстояние до которого ходит метро, и как следствие квартиры находящиеся более 8 км от центра значительно падают в цене относительно расположеных близко к метро."
   ]
  },
  {
   "cell_type": "code",
   "execution_count": 43,
   "metadata": {},
   "outputs": [],
   "source": [
    "df_spb_center = df_spb.query('km_for_center <= 3').reset_index(drop = True)\n",
    "#df_spb_center.describe()"
   ]
  },
  {
   "cell_type": "code",
   "execution_count": 44,
   "metadata": {},
   "outputs": [
    {
     "data": {
      "text/plain": [
       "<AxesSubplot:>"
      ]
     },
     "execution_count": 44,
     "metadata": {},
     "output_type": "execute_result"
    },
    {
     "data": {
      "image/png": "[encoded data removed]",
      "text/plain": [
       "<Figure size 432x288 with 1 Axes>"
      ]
     },
     "metadata": {
      "needs_background": "light"
     },
     "output_type": "display_data"
    }
   ],
   "source": [
    "df_spb_center['total_area'].hist(bins = 50, range = (0, 200))"
   ]
  },
  {
   "cell_type": "code",
   "execution_count": 45,
   "metadata": {},
   "outputs": [
    {
     "data": {
      "text/plain": [
       "<AxesSubplot:>"
      ]
     },
     "execution_count": 45,
     "metadata": {},
     "output_type": "execute_result"
    },
    {
     "data": {
      "image/png": "[encoded data removed]",
      "text/plain": [
       "<Figure size 432x288 with 1 Axes>"
      ]
     },
     "metadata": {
      "needs_background": "light"
     },
     "output_type": "display_data"
    }
   ],
   "source": [
    "df_spb_center['last_price'].hist(bins = 50, range = (0, 20000000))"
   ]
  },
  {
   "cell_type": "code",
   "execution_count": 46,
   "metadata": {},
   "outputs": [
    {
     "data": {
      "text/plain": [
       "<AxesSubplot:>"
      ]
     },
     "execution_count": 46,
     "metadata": {},
     "output_type": "execute_result"
    },
    {
     "data": {
      "image/png": "[encoded data removed]",
      "text/plain": [
       "<Figure size 432x288 with 1 Axes>"
      ]
     },
     "metadata": {
      "needs_background": "light"
     },
     "output_type": "display_data"
    }
   ],
   "source": [
    "df_spb_center['rooms'].hist(bins = 9, range = (0, 8))"
   ]
  },
  {
   "cell_type": "code",
   "execution_count": 47,
   "metadata": {},
   "outputs": [
    {
     "data": {
      "text/plain": [
       "<AxesSubplot:>"
      ]
     },
     "execution_count": 47,
     "metadata": {},
     "output_type": "execute_result"
    },
    {
     "data": {
      "image/png": "[encoded data removed]",
      "text/plain": [
       "<Figure size 432x288 with 1 Axes>"
      ]
     },
     "metadata": {
      "needs_background": "light"
     },
     "output_type": "display_data"
    }
   ],
   "source": [
    "df_spb_center['ceiling_height'].hist(bins = 20, range = (2.4, 3.5))"
   ]
  },
  {
   "cell_type": "markdown",
   "metadata": {},
   "source": [
    "При анализе параметров квартир в центральной части Санкт Петербурга мы видим что квартиры по площади больше чем при выборке всего СПБ с пригородами, также в центре сильно меньше кол-во однокомнатных квартир, зато больше квартир с 4 и более комнатами. Это может быть связано с тем что квартиры в центре строились в большинстве своем давно и раньше не было такого спроса на однушки. Цены в центре города в среднем в 2 раза выше чем в полной таблице по городу. А по высоте потолков большую часть составляют потолки высотой 3 метра и выше, возможно это один из факторов почему в центральном районе квертиры дороже аж в два раза. "
   ]
  },
  {
   "cell_type": "code",
   "execution_count": 48,
   "metadata": {},
   "outputs": [
    {
     "data": {
      "text/html": [
       "<div>\n",
       "<style scoped>\n",
       "    .dataframe tbody tr th:only-of-type {\n",
       "        vertical-align: middle;\n",
       "    }\n",
       "\n",
       "    .dataframe tbody tr th {\n",
       "        vertical-align: top;\n",
       "    }\n",
       "\n",
       "    .dataframe thead th {\n",
       "        text-align: right;\n",
       "    }\n",
       "</style>\n",
       "<table border=\"1\" class=\"dataframe\">\n",
       "  <thead>\n",
       "    <tr style=\"text-align: right;\">\n",
       "      <th></th>\n",
       "      <th>last_price</th>\n",
       "      <th>rooms</th>\n",
       "      <th>cityCenters_nearest</th>\n",
       "    </tr>\n",
       "  </thead>\n",
       "  <tbody>\n",
       "    <tr>\n",
       "      <th>last_price</th>\n",
       "      <td>1.000000</td>\n",
       "      <td>0.244498</td>\n",
       "      <td>-0.093782</td>\n",
       "    </tr>\n",
       "    <tr>\n",
       "      <th>rooms</th>\n",
       "      <td>0.244498</td>\n",
       "      <td>1.000000</td>\n",
       "      <td>-0.050776</td>\n",
       "    </tr>\n",
       "    <tr>\n",
       "      <th>cityCenters_nearest</th>\n",
       "      <td>-0.093782</td>\n",
       "      <td>-0.050776</td>\n",
       "      <td>1.000000</td>\n",
       "    </tr>\n",
       "  </tbody>\n",
       "</table>\n",
       "</div>"
      ],
      "text/plain": [
       "                     last_price     rooms  cityCenters_nearest\n",
       "last_price             1.000000  0.244498            -0.093782\n",
       "rooms                  0.244498  1.000000            -0.050776\n",
       "cityCenters_nearest   -0.093782 -0.050776             1.000000"
      ]
     },
     "execution_count": 48,
     "metadata": {},
     "output_type": "execute_result"
    }
   ],
   "source": [
    "df_spb_center[['last_price', 'rooms', 'cityCenters_nearest']].corr()"
   ]
  },
  {
   "cell_type": "code",
   "execution_count": 49,
   "metadata": {},
   "outputs": [
    {
     "data": {
      "text/html": [
       "<div>\n",
       "<style scoped>\n",
       "    .dataframe tbody tr th:only-of-type {\n",
       "        vertical-align: middle;\n",
       "    }\n",
       "\n",
       "    .dataframe tbody tr th {\n",
       "        vertical-align: top;\n",
       "    }\n",
       "\n",
       "    .dataframe thead th {\n",
       "        text-align: right;\n",
       "    }\n",
       "</style>\n",
       "<table border=\"1\" class=\"dataframe\">\n",
       "  <thead>\n",
       "    <tr style=\"text-align: right;\">\n",
       "      <th></th>\n",
       "      <th>last_price</th>\n",
       "    </tr>\n",
       "    <tr>\n",
       "      <th>class_floor</th>\n",
       "      <th></th>\n",
       "    </tr>\n",
       "  </thead>\n",
       "  <tbody>\n",
       "    <tr>\n",
       "      <th>другой</th>\n",
       "      <td>1.633633e+07</td>\n",
       "    </tr>\n",
       "    <tr>\n",
       "      <th>первый</th>\n",
       "      <td>9.586390e+06</td>\n",
       "    </tr>\n",
       "    <tr>\n",
       "      <th>последний</th>\n",
       "      <td>1.910997e+07</td>\n",
       "    </tr>\n",
       "  </tbody>\n",
       "</table>\n",
       "</div>"
      ],
      "text/plain": [
       "               last_price\n",
       "class_floor              \n",
       "другой       1.633633e+07\n",
       "первый       9.586390e+06\n",
       "последний    1.910997e+07"
      ]
     },
     "execution_count": 49,
     "metadata": {},
     "output_type": "execute_result"
    }
   ],
   "source": [
    "df_spb_center.pivot_table(index = 'class_floor', values = 'last_price')"
   ]
  },
  {
   "cell_type": "markdown",
   "metadata": {},
   "source": [
    "В отличии от всего города в центральном районе Санкт Петербурга, цены на недвижимость не сильно зависят от года, или кол-ва комнат, вероятно это связано с тем что в центре в основном большие квартиры с различными нестандартными планировками, это все таки исторический центр города и здания здесь в основном старые. Также историческая часть города объясняет низкую корреляцию цены от расстояния до центра, каждая квартира в центре имеет какие то свои плюсы по близости к достопримечательностям. Из нестандартного, в центральном районе последние этажи стоят дороже других, могу предположить что решающий фактор в этом случае вид из окна на достопримечательности.\n",
    "\n",
    "В части дней и месяцов продаж, ситуация не отличается от основной таблицы, квартиры чаще всего продаются в конце зимы - начале весны и осенью, как в периоды когда меньше всего туристов. Квартиры в основном выставляются на продажу в будние дни. А в соотношении по годам мы можем все также увидеть что к 2017 и 2018 году у нашего сервиса увеличилось кол-во пользователей."
   ]
  },
  {
   "cell_type": "markdown",
   "metadata": {},
   "source": [
    "## Общий вывод"
   ]
  },
  {
   "cell_type": "markdown",
   "metadata": {},
   "source": [
    "Как итог мы можем сделать следующие выводы:\n",
    "\n",
    "1) Чем больше площадь квартиры и кол-во комнат в ней - тем она дороже.\n",
    "\n",
    "2) Одним из самых важных факторов стоимости недвижимости является расстояние до центра.\n",
    "\n",
    "3) В центральном районе стоимость недвижимости стабильно держится на одном и том же уровне, и тут основным фактором стоимости является площадь.\n",
    "\n",
    "4) Квартиры на первых этажах как правило дешевле.\n",
    "\n",
    "5) Важным фактором формирования цены является наличие рядом метро."
   ]
  }
 ],
 "metadata": {
  "ExecuteTimeLog": [
   {
    "duration": 713,
    "start_time": "2021-07-16T14:34:16.218Z"
   },
   {
    "duration": 85,
    "start_time": "2021-07-16T14:34:19.734Z"
   },
   {
    "duration": 106,
    "start_time": "2021-07-16T14:35:38.884Z"
   },
   {
    "duration": 16,
    "start_time": "2021-07-16T14:36:19.017Z"
   },
   {
    "duration": 102,
    "start_time": "2021-07-16T14:36:40.624Z"
   },
   {
    "duration": 568,
    "start_time": "2021-07-17T12:34:06.469Z"
   },
   {
    "duration": 92,
    "start_time": "2021-07-17T12:34:07.039Z"
   },
   {
    "duration": 12,
    "start_time": "2021-07-17T12:34:07.133Z"
   },
   {
    "duration": 86,
    "start_time": "2021-07-17T12:34:07.147Z"
   },
   {
    "duration": 8,
    "start_time": "2021-07-17T12:34:12.907Z"
   },
   {
    "duration": 44,
    "start_time": "2021-07-17T12:35:09.443Z"
   },
   {
    "duration": 21,
    "start_time": "2021-07-17T13:08:40.570Z"
   },
   {
    "duration": 6,
    "start_time": "2021-07-17T13:37:19.213Z"
   },
   {
    "duration": 244,
    "start_time": "2021-07-17T14:01:51.055Z"
   },
   {
    "duration": 3,
    "start_time": "2021-07-17T14:03:07.181Z"
   },
   {
    "duration": 13,
    "start_time": "2021-07-17T14:03:17.080Z"
   },
   {
    "duration": 182,
    "start_time": "2021-07-17T14:03:42.319Z"
   },
   {
    "duration": 198,
    "start_time": "2021-07-17T14:05:06.361Z"
   },
   {
    "duration": 189,
    "start_time": "2021-07-17T14:06:45.242Z"
   },
   {
    "duration": 179,
    "start_time": "2021-07-17T14:06:57.263Z"
   },
   {
    "duration": 197,
    "start_time": "2021-07-17T14:07:04.023Z"
   },
   {
    "duration": 7,
    "start_time": "2021-07-17T14:08:48.493Z"
   },
   {
    "duration": 13,
    "start_time": "2021-07-17T14:14:03.213Z"
   },
   {
    "duration": 1221,
    "start_time": "2021-07-17T15:06:04.286Z"
   },
   {
    "duration": 513,
    "start_time": "2021-07-17T15:06:34.527Z"
   },
   {
    "duration": 93,
    "start_time": "2021-07-17T15:06:35.042Z"
   },
   {
    "duration": 10,
    "start_time": "2021-07-17T15:06:35.137Z"
   },
   {
    "duration": 86,
    "start_time": "2021-07-17T15:06:35.149Z"
   },
   {
    "duration": 4,
    "start_time": "2021-07-17T15:06:35.237Z"
   },
   {
    "duration": 13,
    "start_time": "2021-07-17T15:06:35.243Z"
   },
   {
    "duration": 1288,
    "start_time": "2021-07-17T15:06:39.811Z"
   },
   {
    "duration": 13,
    "start_time": "2021-07-17T15:07:30.540Z"
   },
   {
    "duration": 4,
    "start_time": "2021-07-17T15:08:22.128Z"
   },
   {
    "duration": 10,
    "start_time": "2021-07-17T15:08:24.130Z"
   },
   {
    "duration": 21,
    "start_time": "2021-07-17T16:33:57.137Z"
   },
   {
    "duration": 22,
    "start_time": "2021-07-17T16:40:00.704Z"
   },
   {
    "duration": 21,
    "start_time": "2021-07-17T16:45:58.167Z"
   },
   {
    "duration": 181,
    "start_time": "2021-07-17T18:05:54.067Z"
   },
   {
    "duration": 7,
    "start_time": "2021-07-17T18:06:00.144Z"
   },
   {
    "duration": 4,
    "start_time": "2021-07-17T18:08:36.210Z"
   },
   {
    "duration": 4,
    "start_time": "2021-07-17T18:11:54.027Z"
   },
   {
    "duration": 67,
    "start_time": "2021-07-17T18:12:29.728Z"
   },
   {
    "duration": 5,
    "start_time": "2021-07-17T18:12:39.314Z"
   },
   {
    "duration": 5,
    "start_time": "2021-07-17T18:13:35.689Z"
   },
   {
    "duration": 3,
    "start_time": "2021-07-17T18:14:50.709Z"
   },
   {
    "duration": 6,
    "start_time": "2021-07-17T18:16:00.334Z"
   },
   {
    "duration": 5,
    "start_time": "2021-07-17T18:16:08.314Z"
   },
   {
    "duration": 8,
    "start_time": "2021-07-17T18:30:31.719Z"
   },
   {
    "duration": 4,
    "start_time": "2021-07-17T18:32:28.910Z"
   },
   {
    "duration": 5,
    "start_time": "2021-07-17T18:32:35.435Z"
   },
   {
    "duration": 8,
    "start_time": "2021-07-17T18:32:46.805Z"
   },
   {
    "duration": 5,
    "start_time": "2021-07-17T18:33:00.529Z"
   },
   {
    "duration": 6,
    "start_time": "2021-07-17T18:33:03.507Z"
   },
   {
    "duration": 5,
    "start_time": "2021-07-17T18:33:43.830Z"
   },
   {
    "duration": 5,
    "start_time": "2021-07-17T18:34:41.851Z"
   },
   {
    "duration": 20,
    "start_time": "2021-07-17T18:40:50.306Z"
   },
   {
    "duration": 17,
    "start_time": "2021-07-17T18:41:00.652Z"
   },
   {
    "duration": 11,
    "start_time": "2021-07-18T01:07:14.225Z"
   },
   {
    "duration": 15,
    "start_time": "2021-07-18T01:07:27.696Z"
   },
   {
    "duration": 15,
    "start_time": "2021-07-18T01:08:11.758Z"
   },
   {
    "duration": 5,
    "start_time": "2021-07-18T01:08:38.164Z"
   },
   {
    "duration": 6,
    "start_time": "2021-07-18T01:13:23.435Z"
   },
   {
    "duration": 13,
    "start_time": "2021-07-18T01:13:35.972Z"
   },
   {
    "duration": 12,
    "start_time": "2021-07-18T01:14:36.638Z"
   },
   {
    "duration": 15,
    "start_time": "2021-07-18T01:14:38.930Z"
   },
   {
    "duration": 771,
    "start_time": "2021-07-18T11:34:54.613Z"
   },
   {
    "duration": 145,
    "start_time": "2021-07-18T11:34:55.386Z"
   },
   {
    "duration": 15,
    "start_time": "2021-07-18T11:34:55.534Z"
   },
   {
    "duration": 127,
    "start_time": "2021-07-18T11:34:55.552Z"
   },
   {
    "duration": 7,
    "start_time": "2021-07-18T11:34:55.681Z"
   },
   {
    "duration": 8,
    "start_time": "2021-07-18T11:34:55.701Z"
   },
   {
    "duration": 28,
    "start_time": "2021-07-18T11:34:55.712Z"
   },
   {
    "duration": 4,
    "start_time": "2021-07-18T11:34:55.743Z"
   },
   {
    "duration": 6,
    "start_time": "2021-07-18T11:34:55.750Z"
   },
   {
    "duration": 43,
    "start_time": "2021-07-18T11:34:55.759Z"
   },
   {
    "duration": 7,
    "start_time": "2021-07-18T11:34:55.806Z"
   },
   {
    "duration": 25,
    "start_time": "2021-07-18T11:34:55.816Z"
   },
   {
    "duration": 7,
    "start_time": "2021-07-18T11:34:55.843Z"
   },
   {
    "duration": 17,
    "start_time": "2021-07-18T11:35:00.443Z"
   },
   {
    "duration": 4,
    "start_time": "2021-07-18T11:41:49.583Z"
   },
   {
    "duration": 836,
    "start_time": "2021-07-18T11:43:11.594Z"
   },
   {
    "duration": 806,
    "start_time": "2021-07-18T11:43:21.847Z"
   },
   {
    "duration": 883,
    "start_time": "2021-07-18T11:43:52.669Z"
   },
   {
    "duration": 832,
    "start_time": "2021-07-18T11:44:02.330Z"
   },
   {
    "duration": 819,
    "start_time": "2021-07-18T11:45:23.729Z"
   },
   {
    "duration": 5,
    "start_time": "2021-07-18T12:05:15.495Z"
   },
   {
    "duration": 27,
    "start_time": "2021-07-18T12:06:06.449Z"
   },
   {
    "duration": 19,
    "start_time": "2021-07-18T12:07:49.826Z"
   },
   {
    "duration": 6,
    "start_time": "2021-07-18T12:08:31.687Z"
   },
   {
    "duration": 375,
    "start_time": "2021-07-19T00:23:00.404Z"
   },
   {
    "duration": 735,
    "start_time": "2021-07-19T00:23:10.499Z"
   },
   {
    "duration": 133,
    "start_time": "2021-07-19T00:23:11.237Z"
   },
   {
    "duration": 20,
    "start_time": "2021-07-19T00:23:11.375Z"
   },
   {
    "duration": 147,
    "start_time": "2021-07-19T00:23:11.399Z"
   },
   {
    "duration": 17,
    "start_time": "2021-07-19T00:23:11.550Z"
   },
   {
    "duration": 8,
    "start_time": "2021-07-19T00:23:11.570Z"
   },
   {
    "duration": 25,
    "start_time": "2021-07-19T00:23:11.581Z"
   },
   {
    "duration": 5,
    "start_time": "2021-07-19T00:23:11.608Z"
   },
   {
    "duration": 45,
    "start_time": "2021-07-19T00:23:11.617Z"
   },
   {
    "duration": 17,
    "start_time": "2021-07-19T00:23:11.666Z"
   },
   {
    "duration": 5,
    "start_time": "2021-07-19T00:23:11.686Z"
   },
   {
    "duration": 26,
    "start_time": "2021-07-19T00:23:11.694Z"
   },
   {
    "duration": 43,
    "start_time": "2021-07-19T00:23:11.723Z"
   },
   {
    "duration": 21,
    "start_time": "2021-07-19T00:23:11.769Z"
   },
   {
    "duration": 4,
    "start_time": "2021-07-19T00:23:11.793Z"
   },
   {
    "duration": 865,
    "start_time": "2021-07-19T00:23:11.800Z"
   },
   {
    "duration": 7,
    "start_time": "2021-07-19T00:23:12.668Z"
   },
   {
    "duration": 666,
    "start_time": "2021-07-19T00:23:14.947Z"
   },
   {
    "duration": 944,
    "start_time": "2021-07-19T00:23:40.759Z"
   },
   {
    "duration": 562,
    "start_time": "2021-07-19T00:24:09.812Z"
   },
   {
    "duration": 564,
    "start_time": "2021-07-19T00:28:54.328Z"
   },
   {
    "duration": 299,
    "start_time": "2021-07-19T00:29:25.279Z"
   },
   {
    "duration": 515,
    "start_time": "2021-07-19T00:30:47.709Z"
   },
   {
    "duration": 552,
    "start_time": "2021-07-19T00:31:36.862Z"
   },
   {
    "duration": 6,
    "start_time": "2021-07-19T00:33:55.329Z"
   },
   {
    "duration": 704,
    "start_time": "2021-07-19T00:36:18.974Z"
   },
   {
    "duration": 295,
    "start_time": "2021-07-19T00:54:25.099Z"
   },
   {
    "duration": 561,
    "start_time": "2021-07-19T00:54:36.383Z"
   },
   {
    "duration": 319,
    "start_time": "2021-07-19T00:55:36.469Z"
   },
   {
    "duration": 48,
    "start_time": "2021-07-19T00:56:29.797Z"
   },
   {
    "duration": 48,
    "start_time": "2021-07-19T00:58:51.608Z"
   },
   {
    "duration": 326,
    "start_time": "2021-07-19T01:01:41.738Z"
   },
   {
    "duration": 330,
    "start_time": "2021-07-19T01:03:36.101Z"
   },
   {
    "duration": 539,
    "start_time": "2021-07-19T01:04:03.832Z"
   },
   {
    "duration": 511,
    "start_time": "2021-07-19T01:04:18.137Z"
   },
   {
    "duration": 545,
    "start_time": "2021-07-19T01:04:26.006Z"
   },
   {
    "duration": 951,
    "start_time": "2021-07-19T01:04:56.243Z"
   },
   {
    "duration": 826,
    "start_time": "2021-07-19T01:05:13.496Z"
   },
   {
    "duration": 805,
    "start_time": "2021-07-19T01:05:39.108Z"
   },
   {
    "duration": 818,
    "start_time": "2021-07-19T01:05:56.337Z"
   },
   {
    "duration": 417,
    "start_time": "2021-07-19T01:06:06.183Z"
   },
   {
    "duration": 706,
    "start_time": "2021-07-19T01:10:37.101Z"
   },
   {
    "duration": 133,
    "start_time": "2021-07-19T01:10:37.810Z"
   },
   {
    "duration": 24,
    "start_time": "2021-07-19T01:10:37.946Z"
   },
   {
    "duration": 127,
    "start_time": "2021-07-19T01:10:37.973Z"
   },
   {
    "duration": 6,
    "start_time": "2021-07-19T01:10:38.103Z"
   },
   {
    "duration": 17,
    "start_time": "2021-07-19T01:10:38.112Z"
   },
   {
    "duration": 41,
    "start_time": "2021-07-19T01:10:38.131Z"
   },
   {
    "duration": 7,
    "start_time": "2021-07-19T01:10:40.681Z"
   },
   {
    "duration": 7,
    "start_time": "2021-07-19T01:11:04.747Z"
   },
   {
    "duration": 6,
    "start_time": "2021-07-19T01:11:29.167Z"
   },
   {
    "duration": 4,
    "start_time": "2021-07-19T01:11:59.519Z"
   },
   {
    "duration": 121,
    "start_time": "2021-07-19T01:11:59.526Z"
   },
   {
    "duration": 15,
    "start_time": "2021-07-19T01:11:59.662Z"
   },
   {
    "duration": 126,
    "start_time": "2021-07-19T01:11:59.680Z"
   },
   {
    "duration": 7,
    "start_time": "2021-07-19T01:11:59.808Z"
   },
   {
    "duration": 8,
    "start_time": "2021-07-19T01:11:59.818Z"
   },
   {
    "duration": 45,
    "start_time": "2021-07-19T01:11:59.828Z"
   },
   {
    "duration": 6,
    "start_time": "2021-07-19T01:11:59.877Z"
   },
   {
    "duration": 9,
    "start_time": "2021-07-19T01:11:59.885Z"
   },
   {
    "duration": 14,
    "start_time": "2021-07-19T01:11:59.896Z"
   },
   {
    "duration": 51,
    "start_time": "2021-07-19T01:11:59.912Z"
   },
   {
    "duration": 25,
    "start_time": "2021-07-19T01:11:59.965Z"
   },
   {
    "duration": 7,
    "start_time": "2021-07-19T01:11:59.993Z"
   },
   {
    "duration": 65,
    "start_time": "2021-07-19T01:12:00.003Z"
   },
   {
    "duration": 5,
    "start_time": "2021-07-19T01:12:00.071Z"
   },
   {
    "duration": 808,
    "start_time": "2021-07-19T01:12:00.078Z"
   },
   {
    "duration": 8,
    "start_time": "2021-07-19T01:12:00.888Z"
   },
   {
    "duration": 733,
    "start_time": "2021-07-19T01:12:00.898Z"
   },
   {
    "duration": 584,
    "start_time": "2021-07-19T01:12:01.633Z"
   },
   {
    "duration": 337,
    "start_time": "2021-07-19T01:12:02.220Z"
   },
   {
    "duration": 294,
    "start_time": "2021-07-19T01:12:27.871Z"
   },
   {
    "duration": 723,
    "start_time": "2021-07-19T01:13:10.807Z"
   },
   {
    "duration": 136,
    "start_time": "2021-07-19T01:13:11.533Z"
   },
   {
    "duration": 15,
    "start_time": "2021-07-19T01:13:11.672Z"
   },
   {
    "duration": 148,
    "start_time": "2021-07-19T01:13:11.690Z"
   },
   {
    "duration": 6,
    "start_time": "2021-07-19T01:13:11.841Z"
   },
   {
    "duration": 15,
    "start_time": "2021-07-19T01:13:11.849Z"
   },
   {
    "duration": 20,
    "start_time": "2021-07-19T01:13:11.866Z"
   },
   {
    "duration": 3,
    "start_time": "2021-07-19T01:13:11.889Z"
   },
   {
    "duration": 10,
    "start_time": "2021-07-19T01:13:11.896Z"
   },
   {
    "duration": 60,
    "start_time": "2021-07-19T01:13:11.909Z"
   },
   {
    "duration": 6,
    "start_time": "2021-07-19T01:13:11.972Z"
   },
   {
    "duration": 29,
    "start_time": "2021-07-19T01:13:11.980Z"
   },
   {
    "duration": 53,
    "start_time": "2021-07-19T01:13:12.012Z"
   },
   {
    "duration": 21,
    "start_time": "2021-07-19T01:13:12.068Z"
   },
   {
    "duration": 4,
    "start_time": "2021-07-19T01:13:12.092Z"
   },
   {
    "duration": 840,
    "start_time": "2021-07-19T01:13:12.099Z"
   },
   {
    "duration": 21,
    "start_time": "2021-07-19T01:13:12.941Z"
   },
   {
    "duration": 734,
    "start_time": "2021-07-19T01:13:12.964Z"
   },
   {
    "duration": 596,
    "start_time": "2021-07-19T01:13:13.700Z"
   },
   {
    "duration": 354,
    "start_time": "2021-07-19T01:13:14.299Z"
   },
   {
    "duration": 296,
    "start_time": "2021-07-19T01:13:19.689Z"
   },
   {
    "duration": 332,
    "start_time": "2021-07-19T01:14:27.612Z"
   },
   {
    "duration": 329,
    "start_time": "2021-07-19T01:17:21.290Z"
   },
   {
    "duration": 340,
    "start_time": "2021-07-19T01:17:34.363Z"
   },
   {
    "duration": 21,
    "start_time": "2021-07-19T01:24:26.549Z"
   },
   {
    "duration": 7,
    "start_time": "2021-07-19T01:40:40.304Z"
   },
   {
    "duration": 6,
    "start_time": "2021-07-19T01:41:15.424Z"
   },
   {
    "duration": 6,
    "start_time": "2021-07-19T01:42:24.604Z"
   },
   {
    "duration": 3,
    "start_time": "2021-07-19T01:42:49.153Z"
   },
   {
    "duration": 549,
    "start_time": "2021-07-19T01:42:53.736Z"
   },
   {
    "duration": 3060,
    "start_time": "2021-07-19T02:09:05.976Z"
   },
   {
    "duration": 657,
    "start_time": "2021-07-19T02:09:46.325Z"
   },
   {
    "duration": 397,
    "start_time": "2021-07-19T02:10:03.890Z"
   },
   {
    "duration": 488,
    "start_time": "2021-07-19T02:21:06.972Z"
   },
   {
    "duration": 22,
    "start_time": "2021-07-19T02:21:12.807Z"
   },
   {
    "duration": 16,
    "start_time": "2021-07-19T02:21:28.409Z"
   },
   {
    "duration": 48,
    "start_time": "2021-07-19T02:21:33.965Z"
   },
   {
    "duration": 48,
    "start_time": "2021-07-19T02:22:35.361Z"
   },
   {
    "duration": 46,
    "start_time": "2021-07-19T02:22:56.621Z"
   },
   {
    "duration": 1016,
    "start_time": "2021-07-19T02:23:17.237Z"
   },
   {
    "duration": 646,
    "start_time": "2021-07-19T02:23:38.309Z"
   },
   {
    "duration": 724,
    "start_time": "2021-07-19T02:29:02.583Z"
   },
   {
    "duration": 736,
    "start_time": "2021-07-19T02:30:36.278Z"
   },
   {
    "duration": 13,
    "start_time": "2021-07-19T02:30:52.597Z"
   },
   {
    "duration": 136,
    "start_time": "2021-07-19T02:35:28.655Z"
   },
   {
    "duration": 45,
    "start_time": "2021-07-19T02:36:08.675Z"
   },
   {
    "duration": 47,
    "start_time": "2021-07-19T02:40:37.355Z"
   },
   {
    "duration": 47,
    "start_time": "2021-07-19T02:41:35.343Z"
   },
   {
    "duration": 46,
    "start_time": "2021-07-19T02:43:24.379Z"
   },
   {
    "duration": 3,
    "start_time": "2021-07-19T02:44:36.695Z"
   },
   {
    "duration": 3389,
    "start_time": "2021-07-19T02:56:15.530Z"
   },
   {
    "duration": 560,
    "start_time": "2021-07-19T02:56:32.056Z"
   },
   {
    "duration": 589,
    "start_time": "2021-07-19T02:57:14.560Z"
   },
   {
    "duration": 12,
    "start_time": "2021-07-19T03:03:02.532Z"
   },
   {
    "duration": 374,
    "start_time": "2021-07-19T03:03:17.294Z"
   },
   {
    "duration": 97,
    "start_time": "2021-07-19T03:03:40.296Z"
   },
   {
    "duration": 95,
    "start_time": "2021-07-19T03:06:02.386Z"
   },
   {
    "duration": 7214,
    "start_time": "2021-07-19T03:11:01.702Z"
   },
   {
    "duration": 854,
    "start_time": "2021-07-19T03:13:22.082Z"
   },
   {
    "duration": 969,
    "start_time": "2021-07-19T03:13:52.813Z"
   },
   {
    "duration": 4,
    "start_time": "2021-07-19T03:14:27.964Z"
   },
   {
    "duration": 300,
    "start_time": "2021-07-19T03:22:19.131Z"
   },
   {
    "duration": 566,
    "start_time": "2021-07-19T03:23:21.755Z"
   },
   {
    "duration": 591,
    "start_time": "2021-07-19T03:24:42.716Z"
   },
   {
    "duration": 554,
    "start_time": "2021-07-19T03:25:28.719Z"
   },
   {
    "duration": 569,
    "start_time": "2021-07-19T03:25:45.397Z"
   },
   {
    "duration": 319,
    "start_time": "2021-07-19T03:25:58.571Z"
   },
   {
    "duration": 419,
    "start_time": "2021-07-19T03:26:10.427Z"
   },
   {
    "duration": 394,
    "start_time": "2021-07-19T03:26:29.612Z"
   },
   {
    "duration": 8621,
    "start_time": "2021-07-19T03:29:42.283Z"
   },
   {
    "duration": 8405,
    "start_time": "2021-07-19T03:29:56.579Z"
   },
   {
    "duration": 9,
    "start_time": "2021-07-19T03:30:22.123Z"
   },
   {
    "duration": 407,
    "start_time": "2021-07-19T03:32:05.638Z"
   },
   {
    "duration": 9,
    "start_time": "2021-07-19T03:32:17.944Z"
   },
   {
    "duration": 412,
    "start_time": "2021-07-19T03:32:40.834Z"
   },
   {
    "duration": 10,
    "start_time": "2021-07-19T03:33:09.796Z"
   },
   {
    "duration": 9,
    "start_time": "2021-07-19T03:33:35.675Z"
   },
   {
    "duration": 95,
    "start_time": "2021-07-19T03:54:27.287Z"
   },
   {
    "duration": 417,
    "start_time": "2021-07-19T03:55:13.745Z"
   },
   {
    "duration": 294,
    "start_time": "2021-07-19T03:55:39.991Z"
   },
   {
    "duration": 554,
    "start_time": "2021-07-19T03:55:53.986Z"
   },
   {
    "duration": 557,
    "start_time": "2021-07-19T03:56:18.157Z"
   },
   {
    "duration": 3,
    "start_time": "2021-07-19T03:56:34.803Z"
   },
   {
    "duration": 804,
    "start_time": "2021-07-19T10:31:04.099Z"
   },
   {
    "duration": 122,
    "start_time": "2021-07-19T10:31:04.906Z"
   },
   {
    "duration": 26,
    "start_time": "2021-07-19T10:31:05.032Z"
   },
   {
    "duration": 120,
    "start_time": "2021-07-19T10:31:05.062Z"
   },
   {
    "duration": 8,
    "start_time": "2021-07-19T10:31:05.185Z"
   },
   {
    "duration": 9,
    "start_time": "2021-07-19T10:31:05.195Z"
   },
   {
    "duration": 49,
    "start_time": "2021-07-19T10:31:05.207Z"
   },
   {
    "duration": 3,
    "start_time": "2021-07-19T10:31:05.261Z"
   },
   {
    "duration": 8,
    "start_time": "2021-07-19T10:31:05.268Z"
   },
   {
    "duration": 10,
    "start_time": "2021-07-19T10:31:05.279Z"
   },
   {
    "duration": 6,
    "start_time": "2021-07-19T10:31:05.292Z"
   },
   {
    "duration": 66,
    "start_time": "2021-07-19T10:31:05.301Z"
   },
   {
    "duration": 7,
    "start_time": "2021-07-19T10:31:05.369Z"
   },
   {
    "duration": 24,
    "start_time": "2021-07-19T10:31:05.378Z"
   },
   {
    "duration": 4,
    "start_time": "2021-07-19T10:31:05.404Z"
   },
   {
    "duration": 756,
    "start_time": "2021-07-19T10:31:05.410Z"
   },
   {
    "duration": 6,
    "start_time": "2021-07-19T10:31:06.168Z"
   },
   {
    "duration": 592,
    "start_time": "2021-07-19T10:31:06.176Z"
   },
   {
    "duration": 538,
    "start_time": "2021-07-19T10:31:06.770Z"
   },
   {
    "duration": 319,
    "start_time": "2021-07-19T10:31:07.311Z"
   },
   {
    "duration": 327,
    "start_time": "2021-07-19T10:31:07.632Z"
   },
   {
    "duration": 389,
    "start_time": "2021-07-19T10:31:07.961Z"
   },
   {
    "duration": 11,
    "start_time": "2021-07-19T10:31:08.358Z"
   },
   {
    "duration": 7,
    "start_time": "2021-07-19T10:31:08.372Z"
   },
   {
    "duration": 9,
    "start_time": "2021-07-19T10:31:08.382Z"
   },
   {
    "duration": 425,
    "start_time": "2021-07-19T10:31:08.394Z"
   },
   {
    "duration": 8,
    "start_time": "2021-07-19T10:31:08.822Z"
   },
   {
    "duration": 4,
    "start_time": "2021-07-19T10:31:11.447Z"
   },
   {
    "duration": 351,
    "start_time": "2021-07-19T11:20:55.014Z"
   },
   {
    "duration": 15,
    "start_time": "2021-07-19T11:26:30.227Z"
   },
   {
    "duration": 19,
    "start_time": "2021-07-19T11:27:25.780Z"
   },
   {
    "duration": 7746,
    "start_time": "2021-07-19T11:29:26.425Z"
   },
   {
    "duration": 106,
    "start_time": "2021-07-19T12:50:36.678Z"
   },
   {
    "duration": 11,
    "start_time": "2021-07-19T12:50:50.471Z"
   },
   {
    "duration": 21,
    "start_time": "2021-07-19T12:55:10.616Z"
   },
   {
    "duration": 8255,
    "start_time": "2021-07-19T12:59:44.105Z"
   },
   {
    "duration": 20,
    "start_time": "2021-07-19T13:08:23.185Z"
   },
   {
    "duration": 8302,
    "start_time": "2021-07-19T13:08:36.342Z"
   },
   {
    "duration": 21,
    "start_time": "2021-07-19T13:27:40.915Z"
   },
   {
    "duration": 285,
    "start_time": "2021-07-19T13:29:07.741Z"
   },
   {
    "duration": 24,
    "start_time": "2021-07-19T13:29:39.089Z"
   },
   {
    "duration": 350,
    "start_time": "2021-07-19T13:41:35.259Z"
   },
   {
    "duration": 523,
    "start_time": "2021-07-19T13:41:49.427Z"
   },
   {
    "duration": 23,
    "start_time": "2021-07-19T13:42:00.186Z"
   },
   {
    "duration": 685,
    "start_time": "2021-07-19T16:59:47.125Z"
   },
   {
    "duration": 87,
    "start_time": "2021-07-19T16:59:47.812Z"
   },
   {
    "duration": 11,
    "start_time": "2021-07-19T16:59:47.902Z"
   },
   {
    "duration": 79,
    "start_time": "2021-07-19T16:59:47.915Z"
   },
   {
    "duration": 4,
    "start_time": "2021-07-19T16:59:47.996Z"
   },
   {
    "duration": 6,
    "start_time": "2021-07-19T16:59:48.002Z"
   },
   {
    "duration": 12,
    "start_time": "2021-07-19T16:59:48.010Z"
   },
   {
    "duration": 17,
    "start_time": "2021-07-19T16:59:48.024Z"
   },
   {
    "duration": 4,
    "start_time": "2021-07-19T16:59:48.043Z"
   },
   {
    "duration": 5,
    "start_time": "2021-07-19T16:59:48.048Z"
   },
   {
    "duration": 4,
    "start_time": "2021-07-19T16:59:48.055Z"
   },
   {
    "duration": 20,
    "start_time": "2021-07-19T16:59:48.060Z"
   },
   {
    "duration": 4,
    "start_time": "2021-07-19T16:59:48.082Z"
   },
   {
    "duration": 14,
    "start_time": "2021-07-19T16:59:48.087Z"
   },
   {
    "duration": 3,
    "start_time": "2021-07-19T16:59:48.102Z"
   },
   {
    "duration": 672,
    "start_time": "2021-07-19T16:59:48.106Z"
   },
   {
    "duration": 5,
    "start_time": "2021-07-19T16:59:48.779Z"
   },
   {
    "duration": 366,
    "start_time": "2021-07-19T16:59:48.785Z"
   },
   {
    "duration": 316,
    "start_time": "2021-07-19T16:59:49.153Z"
   },
   {
    "duration": 182,
    "start_time": "2021-07-19T16:59:49.470Z"
   },
   {
    "duration": 184,
    "start_time": "2021-07-19T16:59:49.653Z"
   },
   {
    "duration": 230,
    "start_time": "2021-07-19T16:59:49.841Z"
   },
   {
    "duration": 9,
    "start_time": "2021-07-19T16:59:50.074Z"
   },
   {
    "duration": 7,
    "start_time": "2021-07-19T16:59:50.084Z"
   },
   {
    "duration": 8,
    "start_time": "2021-07-19T16:59:50.093Z"
   },
   {
    "duration": 237,
    "start_time": "2021-07-19T16:59:50.103Z"
   },
   {
    "duration": 6,
    "start_time": "2021-07-19T16:59:50.342Z"
   },
   {
    "duration": 6,
    "start_time": "2021-07-19T16:59:50.350Z"
   },
   {
    "duration": 16,
    "start_time": "2021-07-19T16:59:50.357Z"
   },
   {
    "duration": 16,
    "start_time": "2021-07-19T16:59:50.374Z"
   },
   {
    "duration": 4961,
    "start_time": "2021-07-19T16:59:50.391Z"
   },
   {
    "duration": 14,
    "start_time": "2021-07-19T16:59:55.353Z"
   },
   {
    "duration": 5126,
    "start_time": "2021-07-19T16:59:55.369Z"
   },
   {
    "duration": 14,
    "start_time": "2021-07-19T17:00:00.497Z"
   },
   {
    "duration": 4,
    "start_time": "2021-07-19T17:00:11.352Z"
   },
   {
    "duration": 10,
    "start_time": "2021-07-19T17:00:37.643Z"
   },
   {
    "duration": 14,
    "start_time": "2021-07-19T17:02:46.664Z"
   },
   {
    "duration": 23,
    "start_time": "2021-07-19T17:04:10.264Z"
   },
   {
    "duration": 447,
    "start_time": "2021-07-19T21:33:23.693Z"
   },
   {
    "duration": 844,
    "start_time": "2021-07-19T21:33:36.665Z"
   },
   {
    "duration": 119,
    "start_time": "2021-07-19T21:33:37.512Z"
   },
   {
    "duration": 20,
    "start_time": "2021-07-19T21:33:37.634Z"
   },
   {
    "duration": 114,
    "start_time": "2021-07-19T21:33:37.658Z"
   },
   {
    "duration": 7,
    "start_time": "2021-07-19T21:33:37.774Z"
   },
   {
    "duration": 10,
    "start_time": "2021-07-19T21:33:37.783Z"
   },
   {
    "duration": 20,
    "start_time": "2021-07-19T21:33:37.795Z"
   },
   {
    "duration": 3,
    "start_time": "2021-07-19T21:33:37.818Z"
   },
   {
    "duration": 8,
    "start_time": "2021-07-19T21:33:37.856Z"
   },
   {
    "duration": 11,
    "start_time": "2021-07-19T21:33:37.868Z"
   },
   {
    "duration": 5,
    "start_time": "2021-07-19T21:33:37.881Z"
   },
   {
    "duration": 27,
    "start_time": "2021-07-19T21:33:37.888Z"
   },
   {
    "duration": 7,
    "start_time": "2021-07-19T21:33:37.918Z"
   },
   {
    "duration": 17,
    "start_time": "2021-07-19T21:33:37.955Z"
   },
   {
    "duration": 5,
    "start_time": "2021-07-19T21:33:37.974Z"
   },
   {
    "duration": 781,
    "start_time": "2021-07-19T21:33:37.981Z"
   },
   {
    "duration": 7,
    "start_time": "2021-07-19T21:33:38.764Z"
   },
   {
    "duration": 674,
    "start_time": "2021-07-19T21:33:38.773Z"
   },
   {
    "duration": 714,
    "start_time": "2021-07-19T21:33:39.450Z"
   },
   {
    "duration": 315,
    "start_time": "2021-07-19T21:33:40.167Z"
   },
   {
    "duration": 339,
    "start_time": "2021-07-19T21:33:40.484Z"
   },
   {
    "duration": 399,
    "start_time": "2021-07-19T21:33:40.825Z"
   },
   {
    "duration": 11,
    "start_time": "2021-07-19T21:33:41.227Z"
   },
   {
    "duration": 15,
    "start_time": "2021-07-19T21:33:41.241Z"
   },
   {
    "duration": 5,
    "start_time": "2021-07-19T21:33:41.258Z"
   },
   {
    "duration": 420,
    "start_time": "2021-07-19T21:33:41.266Z"
   },
   {
    "duration": 9,
    "start_time": "2021-07-19T21:33:41.691Z"
   },
   {
    "duration": 9,
    "start_time": "2021-07-19T21:33:41.702Z"
   },
   {
    "duration": 22,
    "start_time": "2021-07-19T21:33:41.713Z"
   },
   {
    "duration": 30,
    "start_time": "2021-07-19T21:33:41.737Z"
   },
   {
    "duration": 7981,
    "start_time": "2021-07-19T21:33:41.769Z"
   },
   {
    "duration": 23,
    "start_time": "2021-07-19T21:33:49.755Z"
   },
   {
    "duration": 8132,
    "start_time": "2021-07-19T21:33:49.780Z"
   },
   {
    "duration": 42,
    "start_time": "2021-07-19T21:33:57.915Z"
   },
   {
    "duration": 811,
    "start_time": "2021-07-19T21:50:17.892Z"
   },
   {
    "duration": 713,
    "start_time": "2021-07-19T21:51:41.489Z"
   },
   {
    "duration": 791,
    "start_time": "2021-07-19T21:54:50.195Z"
   },
   {
    "duration": 10,
    "start_time": "2021-07-19T22:01:54.608Z"
   },
   {
    "duration": 10,
    "start_time": "2021-07-19T22:05:27.874Z"
   },
   {
    "duration": 10,
    "start_time": "2021-07-19T22:07:44.208Z"
   },
   {
    "duration": 20,
    "start_time": "2021-07-19T22:11:20.054Z"
   },
   {
    "duration": 12,
    "start_time": "2021-07-19T22:43:46.470Z"
   },
   {
    "duration": 11,
    "start_time": "2021-07-19T22:44:05.066Z"
   },
   {
    "duration": 106,
    "start_time": "2021-07-19T22:51:49.943Z"
   },
   {
    "duration": 93,
    "start_time": "2021-07-19T22:53:12.063Z"
   },
   {
    "duration": 92,
    "start_time": "2021-07-19T22:53:51.418Z"
   },
   {
    "duration": 98,
    "start_time": "2021-07-19T22:54:05.619Z"
   },
   {
    "duration": 11,
    "start_time": "2021-07-19T22:54:53.345Z"
   },
   {
    "duration": 36,
    "start_time": "2021-07-19T22:55:14.412Z"
   },
   {
    "duration": 33,
    "start_time": "2021-07-19T22:55:49.734Z"
   },
   {
    "duration": 36,
    "start_time": "2021-07-19T22:57:54.082Z"
   },
   {
    "duration": 14,
    "start_time": "2021-07-19T22:58:18.782Z"
   },
   {
    "duration": 22,
    "start_time": "2021-07-19T23:00:40.496Z"
   },
   {
    "duration": 21,
    "start_time": "2021-07-19T23:01:46.741Z"
   },
   {
    "duration": 819,
    "start_time": "2021-07-20T19:52:34.111Z"
   },
   {
    "duration": 117,
    "start_time": "2021-07-20T19:52:34.932Z"
   },
   {
    "duration": 16,
    "start_time": "2021-07-20T19:52:35.052Z"
   },
   {
    "duration": 112,
    "start_time": "2021-07-20T19:52:35.083Z"
   },
   {
    "duration": 6,
    "start_time": "2021-07-20T19:52:35.198Z"
   },
   {
    "duration": 10,
    "start_time": "2021-07-20T19:52:35.206Z"
   },
   {
    "duration": 21,
    "start_time": "2021-07-20T19:52:35.218Z"
   },
   {
    "duration": 3,
    "start_time": "2021-07-20T19:52:35.243Z"
   },
   {
    "duration": 40,
    "start_time": "2021-07-20T19:52:35.248Z"
   },
   {
    "duration": 12,
    "start_time": "2021-07-20T19:52:35.290Z"
   },
   {
    "duration": 6,
    "start_time": "2021-07-20T19:52:35.305Z"
   },
   {
    "duration": 27,
    "start_time": "2021-07-20T19:52:35.313Z"
   },
   {
    "duration": 5,
    "start_time": "2021-07-20T19:52:35.343Z"
   },
   {
    "duration": 46,
    "start_time": "2021-07-20T19:52:35.351Z"
   },
   {
    "duration": 4,
    "start_time": "2021-07-20T19:52:35.399Z"
   },
   {
    "duration": 771,
    "start_time": "2021-07-20T19:52:35.405Z"
   },
   {
    "duration": 7,
    "start_time": "2021-07-20T19:52:36.182Z"
   },
   {
    "duration": 609,
    "start_time": "2021-07-20T19:52:36.192Z"
   },
   {
    "duration": 565,
    "start_time": "2021-07-20T19:52:36.803Z"
   },
   {
    "duration": 330,
    "start_time": "2021-07-20T19:52:37.370Z"
   },
   {
    "duration": 345,
    "start_time": "2021-07-20T19:52:37.703Z"
   },
   {
    "duration": 409,
    "start_time": "2021-07-20T19:52:38.051Z"
   },
   {
    "duration": 23,
    "start_time": "2021-07-20T19:52:38.465Z"
   },
   {
    "duration": 3,
    "start_time": "2021-07-20T19:52:38.491Z"
   },
   {
    "duration": 11,
    "start_time": "2021-07-20T19:52:38.496Z"
   },
   {
    "duration": 416,
    "start_time": "2021-07-20T19:52:38.510Z"
   },
   {
    "duration": 9,
    "start_time": "2021-07-20T19:52:38.929Z"
   },
   {
    "duration": 5,
    "start_time": "2021-07-20T19:52:38.941Z"
   },
   {
    "duration": 39,
    "start_time": "2021-07-20T19:52:38.949Z"
   },
   {
    "duration": 17,
    "start_time": "2021-07-20T19:52:38.990Z"
   },
   {
    "duration": 7911,
    "start_time": "2021-07-20T19:52:39.010Z"
   },
   {
    "duration": 21,
    "start_time": "2021-07-20T19:52:46.924Z"
   },
   {
    "duration": 8035,
    "start_time": "2021-07-20T19:52:46.947Z"
   },
   {
    "duration": 21,
    "start_time": "2021-07-20T19:52:54.984Z"
   },
   {
    "duration": 5,
    "start_time": "2021-07-20T19:52:55.007Z"
   },
   {
    "duration": 18,
    "start_time": "2021-07-20T19:52:55.014Z"
   },
   {
    "duration": 16,
    "start_time": "2021-07-20T19:52:55.034Z"
   },
   {
    "duration": 22,
    "start_time": "2021-07-20T19:52:58.991Z"
   },
   {
    "duration": 10,
    "start_time": "2021-07-20T19:53:39.330Z"
   },
   {
    "duration": 21,
    "start_time": "2021-07-20T19:56:18.353Z"
   },
   {
    "duration": 733,
    "start_time": "2021-07-20T20:01:21.451Z"
   },
   {
    "duration": 1254,
    "start_time": "2021-07-20T20:02:08.146Z"
   },
   {
    "duration": 20,
    "start_time": "2021-07-20T20:07:10.089Z"
   },
   {
    "duration": 20,
    "start_time": "2021-07-20T20:07:42.941Z"
   },
   {
    "duration": 20,
    "start_time": "2021-07-20T20:08:02.786Z"
   },
   {
    "duration": 19,
    "start_time": "2021-07-20T20:08:20.322Z"
   },
   {
    "duration": 6,
    "start_time": "2021-07-20T20:09:38.661Z"
   },
   {
    "duration": 5,
    "start_time": "2021-07-20T20:11:39.711Z"
   },
   {
    "duration": 897,
    "start_time": "2021-07-20T20:12:02.680Z"
   },
   {
    "duration": 117,
    "start_time": "2021-07-20T20:12:03.580Z"
   },
   {
    "duration": 16,
    "start_time": "2021-07-20T20:12:03.700Z"
   },
   {
    "duration": 128,
    "start_time": "2021-07-20T20:12:03.719Z"
   },
   {
    "duration": 6,
    "start_time": "2021-07-20T20:12:03.850Z"
   },
   {
    "duration": 26,
    "start_time": "2021-07-20T20:12:03.859Z"
   },
   {
    "duration": 19,
    "start_time": "2021-07-20T20:12:03.888Z"
   },
   {
    "duration": 3,
    "start_time": "2021-07-20T20:12:03.911Z"
   },
   {
    "duration": 9,
    "start_time": "2021-07-20T20:12:03.916Z"
   },
   {
    "duration": 14,
    "start_time": "2021-07-20T20:12:03.927Z"
   },
   {
    "duration": 5,
    "start_time": "2021-07-20T20:12:03.943Z"
   },
   {
    "duration": 53,
    "start_time": "2021-07-20T20:12:03.951Z"
   },
   {
    "duration": 6,
    "start_time": "2021-07-20T20:12:04.006Z"
   },
   {
    "duration": 20,
    "start_time": "2021-07-20T20:12:04.015Z"
   },
   {
    "duration": 4,
    "start_time": "2021-07-20T20:12:04.037Z"
   },
   {
    "duration": 806,
    "start_time": "2021-07-20T20:12:04.043Z"
   },
   {
    "duration": 7,
    "start_time": "2021-07-20T20:12:04.852Z"
   },
   {
    "duration": 628,
    "start_time": "2021-07-20T20:12:04.861Z"
   },
   {
    "duration": 571,
    "start_time": "2021-07-20T20:12:05.492Z"
   },
   {
    "duration": 333,
    "start_time": "2021-07-20T20:12:06.066Z"
   },
   {
    "duration": 334,
    "start_time": "2021-07-20T20:12:06.402Z"
   },
   {
    "duration": 406,
    "start_time": "2021-07-20T20:12:06.739Z"
   },
   {
    "duration": 11,
    "start_time": "2021-07-20T20:12:07.150Z"
   },
   {
    "duration": 19,
    "start_time": "2021-07-20T20:12:07.164Z"
   },
   {
    "duration": 9,
    "start_time": "2021-07-20T20:12:07.185Z"
   },
   {
    "duration": 408,
    "start_time": "2021-07-20T20:12:07.196Z"
   },
   {
    "duration": 9,
    "start_time": "2021-07-20T20:12:07.607Z"
   },
   {
    "duration": 8,
    "start_time": "2021-07-20T20:12:07.618Z"
   },
   {
    "duration": 18,
    "start_time": "2021-07-20T20:12:07.629Z"
   },
   {
    "duration": 38,
    "start_time": "2021-07-20T20:12:07.650Z"
   },
   {
    "duration": 7911,
    "start_time": "2021-07-20T20:12:07.690Z"
   },
   {
    "duration": 21,
    "start_time": "2021-07-20T20:12:15.604Z"
   },
   {
    "duration": 7831,
    "start_time": "2021-07-20T20:12:15.627Z"
   },
   {
    "duration": 30,
    "start_time": "2021-07-20T20:12:23.460Z"
   },
   {
    "duration": 5,
    "start_time": "2021-07-20T20:12:23.492Z"
   },
   {
    "duration": 18,
    "start_time": "2021-07-20T20:12:23.500Z"
   },
   {
    "duration": 11,
    "start_time": "2021-07-20T20:12:23.521Z"
   },
   {
    "duration": 58,
    "start_time": "2021-07-20T20:12:23.535Z"
   },
   {
    "duration": 22,
    "start_time": "2021-07-20T20:12:23.595Z"
   },
   {
    "duration": 7,
    "start_time": "2021-07-20T20:12:39.319Z"
   },
   {
    "duration": 28,
    "start_time": "2021-07-20T20:18:09.873Z"
   },
   {
    "duration": 7,
    "start_time": "2021-07-20T20:19:26.654Z"
   },
   {
    "duration": 23,
    "start_time": "2021-07-20T20:20:33.882Z"
   },
   {
    "duration": 7,
    "start_time": "2021-07-20T20:20:49.708Z"
   },
   {
    "duration": 6,
    "start_time": "2021-07-20T20:21:10.895Z"
   },
   {
    "duration": 14,
    "start_time": "2021-07-20T20:21:26.007Z"
   },
   {
    "duration": 23,
    "start_time": "2021-07-20T20:22:26.926Z"
   },
   {
    "duration": 6,
    "start_time": "2021-07-20T20:22:30.457Z"
   },
   {
    "duration": 26,
    "start_time": "2021-07-20T20:22:51.181Z"
   },
   {
    "duration": 26,
    "start_time": "2021-07-20T20:24:23.722Z"
   },
   {
    "duration": 21,
    "start_time": "2021-07-20T20:25:42.510Z"
   },
   {
    "duration": 335,
    "start_time": "2021-07-20T20:27:23.458Z"
   },
   {
    "duration": 9154,
    "start_time": "2021-07-20T20:32:00.572Z"
   },
   {
    "duration": 397,
    "start_time": "2021-07-20T20:32:19.637Z"
   },
   {
    "duration": 11223,
    "start_time": "2021-07-20T20:32:32.899Z"
   },
   {
    "duration": 316,
    "start_time": "2021-07-20T20:34:08.191Z"
   },
   {
    "duration": 6,
    "start_time": "2021-07-20T20:34:59.134Z"
   },
   {
    "duration": 368,
    "start_time": "2021-07-20T20:35:20.233Z"
   },
   {
    "duration": 498,
    "start_time": "2021-07-20T20:35:37.887Z"
   },
   {
    "duration": 363,
    "start_time": "2021-07-20T20:36:05.965Z"
   },
   {
    "duration": 87,
    "start_time": "2021-07-20T21:25:21.663Z"
   },
   {
    "duration": 551,
    "start_time": "2021-07-20T21:32:03.297Z"
   },
   {
    "duration": 410,
    "start_time": "2021-07-20T21:32:30.608Z"
   },
   {
    "duration": 548,
    "start_time": "2021-07-20T21:34:04.426Z"
   },
   {
    "duration": 518,
    "start_time": "2021-07-20T21:34:14.447Z"
   },
   {
    "duration": 297,
    "start_time": "2021-07-20T21:35:46.202Z"
   },
   {
    "duration": 311,
    "start_time": "2021-07-20T21:37:33.400Z"
   },
   {
    "duration": 327,
    "start_time": "2021-07-20T23:41:20.270Z"
   },
   {
    "duration": 15,
    "start_time": "2021-07-20T23:46:46.464Z"
   },
   {
    "duration": 1731,
    "start_time": "2021-07-20T23:47:32.066Z"
   },
   {
    "duration": 21,
    "start_time": "2021-07-20T23:48:55.458Z"
   },
   {
    "duration": 421,
    "start_time": "2021-07-20T23:51:15.488Z"
   },
   {
    "duration": 397,
    "start_time": "2021-07-20T23:51:35.600Z"
   },
   {
    "duration": 418,
    "start_time": "2021-07-20T23:51:52.981Z"
   },
   {
    "duration": 9,
    "start_time": "2021-07-20T23:52:03.973Z"
   },
   {
    "duration": 9,
    "start_time": "2021-07-20T23:52:25.276Z"
   },
   {
    "duration": 8,
    "start_time": "2021-07-20T23:53:11.401Z"
   },
   {
    "duration": 21,
    "start_time": "2021-07-20T23:55:07.711Z"
   },
   {
    "duration": 574,
    "start_time": "2021-07-21T19:55:16.537Z"
   },
   {
    "duration": 83,
    "start_time": "2021-07-21T19:55:19.562Z"
   },
   {
    "duration": 11,
    "start_time": "2021-07-21T19:55:22.774Z"
   },
   {
    "duration": 69,
    "start_time": "2021-07-21T19:55:25.715Z"
   },
   {
    "duration": 5,
    "start_time": "2021-07-21T19:55:40.852Z"
   },
   {
    "duration": 5,
    "start_time": "2021-07-21T19:55:45.435Z"
   },
   {
    "duration": 16,
    "start_time": "2021-07-21T19:55:48.789Z"
   },
   {
    "duration": 11,
    "start_time": "2021-07-21T19:56:15.939Z"
   },
   {
    "duration": 2,
    "start_time": "2021-07-21T19:57:22.581Z"
   },
   {
    "duration": 5,
    "start_time": "2021-07-21T19:57:25.967Z"
   },
   {
    "duration": 5,
    "start_time": "2021-07-21T19:57:28.944Z"
   },
   {
    "duration": 5,
    "start_time": "2021-07-21T19:57:30.983Z"
   },
   {
    "duration": 19,
    "start_time": "2021-07-21T19:57:33.764Z"
   },
   {
    "duration": 4,
    "start_time": "2021-07-21T19:57:38.981Z"
   },
   {
    "duration": 13,
    "start_time": "2021-07-21T19:57:42.024Z"
   },
   {
    "duration": 3,
    "start_time": "2021-07-21T19:57:46.858Z"
   },
   {
    "duration": 442,
    "start_time": "2021-07-21T19:57:49.826Z"
   },
   {
    "duration": 5,
    "start_time": "2021-07-21T19:57:53.889Z"
   },
   {
    "duration": 381,
    "start_time": "2021-07-21T19:57:59.124Z"
   },
   {
    "duration": 334,
    "start_time": "2021-07-21T19:58:03.277Z"
   },
   {
    "duration": 193,
    "start_time": "2021-07-21T19:59:33.993Z"
   },
   {
    "duration": 187,
    "start_time": "2021-07-21T19:59:38.337Z"
   },
   {
    "duration": 230,
    "start_time": "2021-07-21T19:59:43.697Z"
   },
   {
    "duration": 9,
    "start_time": "2021-07-21T19:59:46.751Z"
   },
   {
    "duration": 2,
    "start_time": "2021-07-21T19:59:51.375Z"
   },
   {
    "duration": 2,
    "start_time": "2021-07-21T19:59:56.396Z"
   },
   {
    "duration": 249,
    "start_time": "2021-07-21T19:59:58.300Z"
   },
   {
    "duration": 7,
    "start_time": "2021-07-21T20:00:01.616Z"
   },
   {
    "duration": 2,
    "start_time": "2021-07-21T20:00:04.392Z"
   },
   {
    "duration": 248,
    "start_time": "2021-07-21T20:00:07.442Z"
   },
   {
    "duration": 12,
    "start_time": "2021-07-21T20:00:26.299Z"
   },
   {
    "duration": 10,
    "start_time": "2021-07-21T20:00:32.584Z"
   },
   {
    "duration": 5017,
    "start_time": "2021-07-21T20:00:35.728Z"
   },
   {
    "duration": 16,
    "start_time": "2021-07-21T20:00:45.118Z"
   },
   {
    "duration": 5063,
    "start_time": "2021-07-21T20:00:48.113Z"
   },
   {
    "duration": 14,
    "start_time": "2021-07-21T20:00:58.942Z"
   },
   {
    "duration": 4,
    "start_time": "2021-07-21T20:01:02.837Z"
   },
   {
    "duration": 9,
    "start_time": "2021-07-21T20:01:14.199Z"
   },
   {
    "duration": 10,
    "start_time": "2021-07-21T20:01:18.778Z"
   },
   {
    "duration": 16,
    "start_time": "2021-07-21T20:01:23.398Z"
   },
   {
    "duration": 18,
    "start_time": "2021-07-21T20:01:35.096Z"
   },
   {
    "duration": 6,
    "start_time": "2021-07-21T20:01:38.447Z"
   },
   {
    "duration": 229,
    "start_time": "2021-07-21T20:01:41.105Z"
   },
   {
    "duration": 7,
    "start_time": "2021-07-21T20:02:05.196Z"
   },
   {
    "duration": 256,
    "start_time": "2021-07-21T20:02:09.812Z"
   },
   {
    "duration": 353,
    "start_time": "2021-07-21T20:02:16.311Z"
   },
   {
    "duration": 188,
    "start_time": "2021-07-21T20:02:20.148Z"
   },
   {
    "duration": 257,
    "start_time": "2021-07-21T20:02:23.576Z"
   },
   {
    "duration": 10,
    "start_time": "2021-07-21T20:02:29.692Z"
   },
   {
    "duration": 12,
    "start_time": "2021-07-21T20:02:31.965Z"
   },
   {
    "duration": 3,
    "start_time": "2021-07-21T20:02:34.922Z"
   },
   {
    "duration": 9,
    "start_time": "2021-07-21T21:54:44.679Z"
   },
   {
    "duration": 10,
    "start_time": "2021-07-21T21:54:48.927Z"
   },
   {
    "duration": 2634,
    "start_time": "2021-07-21T21:54:55.909Z"
   },
   {
    "duration": 2563,
    "start_time": "2021-07-21T21:55:07.392Z"
   },
   {
    "duration": 210,
    "start_time": "2021-07-21T21:55:29.642Z"
   },
   {
    "duration": 12,
    "start_time": "2021-07-21T21:55:44.380Z"
   },
   {
    "duration": 2681,
    "start_time": "2021-07-21T21:56:01.424Z"
   },
   {
    "duration": 194,
    "start_time": "2021-07-21T21:57:35.161Z"
   },
   {
    "duration": 209,
    "start_time": "2021-07-21T22:10:33.922Z"
   },
   {
    "duration": 191,
    "start_time": "2021-07-21T22:12:26.984Z"
   },
   {
    "duration": 21,
    "start_time": "2021-07-21T22:12:40.781Z"
   },
   {
    "duration": 612,
    "start_time": "2021-07-21T22:18:11.800Z"
   },
   {
    "duration": 93,
    "start_time": "2021-07-21T22:18:12.413Z"
   },
   {
    "duration": 10,
    "start_time": "2021-07-21T22:18:12.508Z"
   },
   {
    "duration": 79,
    "start_time": "2021-07-21T22:18:12.519Z"
   },
   {
    "duration": 4,
    "start_time": "2021-07-21T22:18:12.600Z"
   },
   {
    "duration": 7,
    "start_time": "2021-07-21T22:18:12.606Z"
   },
   {
    "duration": 12,
    "start_time": "2021-07-21T22:18:12.615Z"
   },
   {
    "duration": 2,
    "start_time": "2021-07-21T22:18:12.629Z"
   },
   {
    "duration": 7,
    "start_time": "2021-07-21T22:18:12.633Z"
   },
   {
    "duration": 6,
    "start_time": "2021-07-21T22:18:12.641Z"
   },
   {
    "duration": 7,
    "start_time": "2021-07-21T22:18:12.648Z"
   },
   {
    "duration": 40,
    "start_time": "2021-07-21T22:18:12.656Z"
   },
   {
    "duration": 5,
    "start_time": "2021-07-21T22:18:12.697Z"
   },
   {
    "duration": 17,
    "start_time": "2021-07-21T22:18:12.703Z"
   },
   {
    "duration": 3,
    "start_time": "2021-07-21T22:18:12.721Z"
   },
   {
    "duration": 464,
    "start_time": "2021-07-21T22:18:12.726Z"
   },
   {
    "duration": 4,
    "start_time": "2021-07-21T22:18:13.192Z"
   },
   {
    "duration": 390,
    "start_time": "2021-07-21T22:18:13.197Z"
   },
   {
    "duration": 342,
    "start_time": "2021-07-21T22:18:13.589Z"
   },
   {
    "duration": 201,
    "start_time": "2021-07-21T22:18:13.933Z"
   },
   {
    "duration": 204,
    "start_time": "2021-07-21T22:18:14.136Z"
   },
   {
    "duration": 270,
    "start_time": "2021-07-21T22:18:14.341Z"
   },
   {
    "duration": 8,
    "start_time": "2021-07-21T22:18:14.614Z"
   },
   {
    "duration": 2,
    "start_time": "2021-07-21T22:18:14.624Z"
   },
   {
    "duration": 5,
    "start_time": "2021-07-21T22:18:14.627Z"
   },
   {
    "duration": 275,
    "start_time": "2021-07-21T22:18:14.633Z"
   },
   {
    "duration": 7,
    "start_time": "2021-07-21T22:18:14.909Z"
   },
   {
    "duration": 2,
    "start_time": "2021-07-21T22:18:14.917Z"
   },
   {
    "duration": 10,
    "start_time": "2021-07-21T22:18:14.921Z"
   },
   {
    "duration": 8,
    "start_time": "2021-07-21T22:18:14.933Z"
   },
   {
    "duration": 2698,
    "start_time": "2021-07-21T22:18:14.942Z"
   },
   {
    "duration": 13,
    "start_time": "2021-07-21T22:18:17.642Z"
   },
   {
    "duration": 2750,
    "start_time": "2021-07-21T22:18:17.656Z"
   },
   {
    "duration": 235,
    "start_time": "2021-07-21T22:18:20.407Z"
   },
   {
    "duration": 185,
    "start_time": "2021-07-21T22:18:49.804Z"
   },
   {
    "duration": 181,
    "start_time": "2021-07-21T22:19:10.687Z"
   },
   {
    "duration": 210,
    "start_time": "2021-07-21T22:19:17.373Z"
   },
   {
    "duration": 10,
    "start_time": "2021-07-21T22:19:56.033Z"
   },
   {
    "duration": 20,
    "start_time": "2021-07-21T22:20:00.563Z"
   },
   {
    "duration": 331,
    "start_time": "2021-07-22T23:24:03.274Z"
   },
   {
    "duration": 867,
    "start_time": "2021-07-22T23:24:26.731Z"
   },
   {
    "duration": 124,
    "start_time": "2021-07-22T23:24:27.600Z"
   },
   {
    "duration": 30,
    "start_time": "2021-07-22T23:24:27.727Z"
   },
   {
    "duration": 100,
    "start_time": "2021-07-22T23:24:27.773Z"
   },
   {
    "duration": 7,
    "start_time": "2021-07-22T23:24:27.875Z"
   },
   {
    "duration": 9,
    "start_time": "2021-07-22T23:24:27.884Z"
   },
   {
    "duration": 18,
    "start_time": "2021-07-22T23:24:27.896Z"
   },
   {
    "duration": 2,
    "start_time": "2021-07-22T23:24:27.916Z"
   },
   {
    "duration": 5,
    "start_time": "2021-07-22T23:24:27.957Z"
   },
   {
    "duration": 10,
    "start_time": "2021-07-22T23:24:27.965Z"
   },
   {
    "duration": 5,
    "start_time": "2021-07-22T23:24:27.978Z"
   },
   {
    "duration": 24,
    "start_time": "2021-07-22T23:24:27.985Z"
   },
   {
    "duration": 44,
    "start_time": "2021-07-22T23:24:28.012Z"
   },
   {
    "duration": 18,
    "start_time": "2021-07-22T23:24:28.059Z"
   },
   {
    "duration": 4,
    "start_time": "2021-07-22T23:24:28.079Z"
   },
   {
    "duration": 780,
    "start_time": "2021-07-22T23:24:28.085Z"
   },
   {
    "duration": 7,
    "start_time": "2021-07-22T23:24:28.867Z"
   },
   {
    "duration": 606,
    "start_time": "2021-07-22T23:24:28.876Z"
   },
   {
    "duration": 541,
    "start_time": "2021-07-22T23:24:29.485Z"
   },
   {
    "duration": 332,
    "start_time": "2021-07-22T23:24:30.028Z"
   },
   {
    "duration": 336,
    "start_time": "2021-07-22T23:24:30.363Z"
   },
   {
    "duration": 405,
    "start_time": "2021-07-22T23:24:30.701Z"
   },
   {
    "duration": 12,
    "start_time": "2021-07-22T23:24:31.108Z"
   },
   {
    "duration": 25,
    "start_time": "2021-07-22T23:24:31.122Z"
   },
   {
    "duration": 19,
    "start_time": "2021-07-22T23:24:31.149Z"
   },
   {
    "duration": 396,
    "start_time": "2021-07-22T23:24:31.171Z"
   },
   {
    "duration": 11,
    "start_time": "2021-07-22T23:24:31.573Z"
   },
   {
    "duration": 13,
    "start_time": "2021-07-22T23:24:31.588Z"
   },
   {
    "duration": 25,
    "start_time": "2021-07-22T23:24:31.604Z"
   },
   {
    "duration": 31,
    "start_time": "2021-07-22T23:24:31.632Z"
   },
   {
    "duration": 6254,
    "start_time": "2021-07-22T23:24:31.666Z"
   },
   {
    "duration": 35,
    "start_time": "2021-07-22T23:24:37.923Z"
   },
   {
    "duration": 4811,
    "start_time": "2021-07-22T23:24:37.960Z"
   },
   {
    "duration": 245,
    "start_time": "2021-07-22T23:24:48.423Z"
   },
   {
    "duration": 294,
    "start_time": "2021-07-22T23:28:53.792Z"
   },
   {
    "duration": 282,
    "start_time": "2021-07-22T23:37:10.879Z"
   },
   {
    "duration": 705,
    "start_time": "2021-07-22T23:53:47.040Z"
   },
   {
    "duration": 96,
    "start_time": "2021-07-23T00:00:47.117Z"
   },
   {
    "duration": 380,
    "start_time": "2021-07-23T00:00:54.168Z"
   },
   {
    "duration": 21,
    "start_time": "2021-07-23T00:01:30.526Z"
   },
   {
    "duration": 21,
    "start_time": "2021-07-23T00:02:00.328Z"
   },
   {
    "duration": 286,
    "start_time": "2021-07-23T00:03:19.015Z"
   },
   {
    "duration": 266,
    "start_time": "2021-07-23T00:03:33.442Z"
   },
   {
    "duration": 21,
    "start_time": "2021-07-23T00:04:25.467Z"
   },
   {
    "duration": 278,
    "start_time": "2021-07-23T00:05:03.603Z"
   },
   {
    "duration": 24,
    "start_time": "2021-07-23T00:05:47.392Z"
   },
   {
    "duration": 399,
    "start_time": "2021-07-23T00:06:07.380Z"
   },
   {
    "duration": 36,
    "start_time": "2021-07-23T00:08:00.564Z"
   },
   {
    "duration": 31,
    "start_time": "2021-07-23T00:08:38.765Z"
   },
   {
    "duration": 348,
    "start_time": "2021-07-23T00:09:53.979Z"
   },
   {
    "duration": 1223,
    "start_time": "2021-07-23T00:10:24.253Z"
   },
   {
    "duration": 417,
    "start_time": "2021-07-23T00:11:36.803Z"
   },
   {
    "duration": 300,
    "start_time": "2021-07-23T00:11:56.943Z"
   },
   {
    "duration": 1290,
    "start_time": "2021-07-23T00:12:04.738Z"
   },
   {
    "duration": 1260,
    "start_time": "2021-07-23T00:14:49.046Z"
   },
   {
    "duration": 245,
    "start_time": "2021-07-23T00:25:36.793Z"
   },
   {
    "duration": 2740,
    "start_time": "2021-07-23T21:58:40.079Z"
   },
   {
    "duration": 117,
    "start_time": "2021-07-23T21:58:42.821Z"
   },
   {
    "duration": 23,
    "start_time": "2021-07-23T21:58:42.941Z"
   },
   {
    "duration": 110,
    "start_time": "2021-07-23T21:58:42.966Z"
   },
   {
    "duration": 6,
    "start_time": "2021-07-23T21:58:43.079Z"
   },
   {
    "duration": 24,
    "start_time": "2021-07-23T21:58:43.088Z"
   },
   {
    "duration": 24,
    "start_time": "2021-07-23T21:58:43.114Z"
   },
   {
    "duration": 3,
    "start_time": "2021-07-23T21:58:43.142Z"
   },
   {
    "duration": 12,
    "start_time": "2021-07-23T21:58:43.157Z"
   },
   {
    "duration": 11,
    "start_time": "2021-07-23T21:58:43.171Z"
   },
   {
    "duration": 17,
    "start_time": "2021-07-23T21:58:43.184Z"
   },
   {
    "duration": 36,
    "start_time": "2021-07-23T21:58:43.203Z"
   },
   {
    "duration": 6,
    "start_time": "2021-07-23T21:58:43.241Z"
   },
   {
    "duration": 23,
    "start_time": "2021-07-23T21:58:43.255Z"
   },
   {
    "duration": 4,
    "start_time": "2021-07-23T21:58:43.280Z"
   },
   {
    "duration": 761,
    "start_time": "2021-07-23T21:58:43.286Z"
   },
   {
    "duration": 10,
    "start_time": "2021-07-23T21:58:44.049Z"
   },
   {
    "duration": 569,
    "start_time": "2021-07-23T21:58:44.061Z"
   },
   {
    "duration": 534,
    "start_time": "2021-07-23T21:58:44.633Z"
   },
   {
    "duration": 302,
    "start_time": "2021-07-23T21:58:45.169Z"
   },
   {
    "duration": 320,
    "start_time": "2021-07-23T21:58:45.473Z"
   },
   {
    "duration": 392,
    "start_time": "2021-07-23T21:58:45.796Z"
   },
   {
    "duration": 11,
    "start_time": "2021-07-23T21:58:46.195Z"
   },
   {
    "duration": 3,
    "start_time": "2021-07-23T21:58:46.210Z"
   },
   {
    "duration": 5,
    "start_time": "2021-07-23T21:58:46.215Z"
   },
   {
    "duration": 416,
    "start_time": "2021-07-23T21:58:46.222Z"
   },
   {
    "duration": 17,
    "start_time": "2021-07-23T21:58:46.640Z"
   },
   {
    "duration": 3,
    "start_time": "2021-07-23T21:58:46.659Z"
   },
   {
    "duration": 15,
    "start_time": "2021-07-23T21:58:46.664Z"
   },
   {
    "duration": 12,
    "start_time": "2021-07-23T21:58:46.682Z"
   },
   {
    "duration": 3982,
    "start_time": "2021-07-23T21:58:46.696Z"
   },
   {
    "duration": 17,
    "start_time": "2021-07-23T21:58:50.680Z"
   },
   {
    "duration": 4320,
    "start_time": "2021-07-23T21:58:50.699Z"
   },
   {
    "duration": 265,
    "start_time": "2021-07-23T21:58:55.021Z"
   },
   {
    "duration": 299,
    "start_time": "2021-07-23T21:58:55.288Z"
   },
   {
    "duration": 1269,
    "start_time": "2021-07-23T21:58:55.589Z"
   },
   {
    "duration": 243,
    "start_time": "2021-07-23T21:59:22.415Z"
   },
   {
    "duration": 118,
    "start_time": "2021-07-23T22:39:23.945Z"
   },
   {
    "duration": 505,
    "start_time": "2021-07-23T22:39:48.364Z"
   },
   {
    "duration": 1388,
    "start_time": "2021-07-23T22:40:01.236Z"
   },
   {
    "duration": 362,
    "start_time": "2021-07-23T22:40:05.678Z"
   },
   {
    "duration": 10,
    "start_time": "2021-07-23T22:40:08.582Z"
   },
   {
    "duration": 1213,
    "start_time": "2021-07-23T22:41:24.382Z"
   },
   {
    "duration": 109,
    "start_time": "2021-07-23T22:42:36.067Z"
   },
   {
    "duration": 245,
    "start_time": "2021-07-23T22:42:41.445Z"
   },
   {
    "duration": 24,
    "start_time": "2021-07-23T22:43:06.254Z"
   },
   {
    "duration": 496,
    "start_time": "2021-07-23T22:43:51.162Z"
   },
   {
    "duration": 17,
    "start_time": "2021-07-23T22:46:06.292Z"
   },
   {
    "duration": 1249,
    "start_time": "2021-07-23T22:46:23.815Z"
   },
   {
    "duration": 10,
    "start_time": "2021-07-24T01:16:51.621Z"
   },
   {
    "duration": 11,
    "start_time": "2021-07-24T01:17:04.471Z"
   },
   {
    "duration": 10,
    "start_time": "2021-07-24T01:34:51.272Z"
   },
   {
    "duration": 334,
    "start_time": "2021-07-24T10:59:37.620Z"
   },
   {
    "duration": 835,
    "start_time": "2021-07-24T10:59:48.801Z"
   },
   {
    "duration": 121,
    "start_time": "2021-07-24T10:59:49.638Z"
   },
   {
    "duration": 22,
    "start_time": "2021-07-24T10:59:49.762Z"
   },
   {
    "duration": 118,
    "start_time": "2021-07-24T10:59:49.787Z"
   },
   {
    "duration": 6,
    "start_time": "2021-07-24T10:59:49.908Z"
   },
   {
    "duration": 10,
    "start_time": "2021-07-24T10:59:49.916Z"
   },
   {
    "duration": 21,
    "start_time": "2021-07-24T10:59:49.928Z"
   },
   {
    "duration": 3,
    "start_time": "2021-07-24T10:59:49.951Z"
   },
   {
    "duration": 6,
    "start_time": "2021-07-24T10:59:49.986Z"
   },
   {
    "duration": 13,
    "start_time": "2021-07-24T10:59:49.995Z"
   },
   {
    "duration": 5,
    "start_time": "2021-07-24T10:59:50.010Z"
   },
   {
    "duration": 28,
    "start_time": "2021-07-24T10:59:50.017Z"
   },
   {
    "duration": 7,
    "start_time": "2021-07-24T10:59:50.047Z"
   },
   {
    "duration": 17,
    "start_time": "2021-07-24T10:59:50.082Z"
   },
   {
    "duration": 4,
    "start_time": "2021-07-24T10:59:50.101Z"
   },
   {
    "duration": 786,
    "start_time": "2021-07-24T10:59:50.107Z"
   },
   {
    "duration": 6,
    "start_time": "2021-07-24T10:59:50.895Z"
   },
   {
    "duration": 613,
    "start_time": "2021-07-24T10:59:50.904Z"
   },
   {
    "duration": 566,
    "start_time": "2021-07-24T10:59:51.519Z"
   },
   {
    "duration": 419,
    "start_time": "2021-07-24T10:59:52.088Z"
   },
   {
    "duration": 354,
    "start_time": "2021-07-24T10:59:52.509Z"
   },
   {
    "duration": 423,
    "start_time": "2021-07-24T10:59:52.866Z"
   },
   {
    "duration": 12,
    "start_time": "2021-07-24T10:59:53.292Z"
   },
   {
    "duration": 8,
    "start_time": "2021-07-24T10:59:53.307Z"
   },
   {
    "duration": 9,
    "start_time": "2021-07-24T10:59:53.318Z"
   },
   {
    "duration": 442,
    "start_time": "2021-07-24T10:59:53.329Z"
   },
   {
    "duration": 14,
    "start_time": "2021-07-24T10:59:53.776Z"
   },
   {
    "duration": 10,
    "start_time": "2021-07-24T10:59:53.793Z"
   },
   {
    "duration": 24,
    "start_time": "2021-07-24T10:59:53.805Z"
   },
   {
    "duration": 27,
    "start_time": "2021-07-24T10:59:53.831Z"
   },
   {
    "duration": 4334,
    "start_time": "2021-07-24T10:59:53.861Z"
   },
   {
    "duration": 17,
    "start_time": "2021-07-24T10:59:58.198Z"
   },
   {
    "duration": 4370,
    "start_time": "2021-07-24T10:59:58.217Z"
   },
   {
    "duration": 292,
    "start_time": "2021-07-24T11:00:02.590Z"
   },
   {
    "duration": 332,
    "start_time": "2021-07-24T11:00:02.884Z"
   },
   {
    "duration": 1401,
    "start_time": "2021-07-24T11:00:03.218Z"
   },
   {
    "duration": 285,
    "start_time": "2021-07-24T11:00:04.621Z"
   },
   {
    "duration": 722,
    "start_time": "2021-07-24T11:00:04.908Z"
   },
   {
    "duration": 8,
    "start_time": "2021-07-24T11:00:09.614Z"
   },
   {
    "duration": 94,
    "start_time": "2021-07-24T11:15:17.391Z"
   },
   {
    "duration": 342,
    "start_time": "2021-07-24T11:16:13.387Z"
   },
   {
    "duration": 4,
    "start_time": "2021-07-24T11:18:37.541Z"
   },
   {
    "duration": 1367,
    "start_time": "2021-07-24T11:21:13.305Z"
   },
   {
    "duration": 291,
    "start_time": "2021-07-24T11:28:06.225Z"
   },
   {
    "duration": 273,
    "start_time": "2021-07-24T11:28:21.766Z"
   },
   {
    "duration": 23,
    "start_time": "2021-07-24T11:28:40.548Z"
   },
   {
    "duration": 247,
    "start_time": "2021-07-24T11:30:56.770Z"
   },
   {
    "duration": 10,
    "start_time": "2021-07-24T11:32:45.732Z"
   },
   {
    "duration": 1411,
    "start_time": "2021-07-24T11:32:48.281Z"
   },
   {
    "duration": 773,
    "start_time": "2021-07-24T11:33:52.831Z"
   },
   {
    "duration": 122,
    "start_time": "2021-07-24T11:33:53.607Z"
   },
   {
    "duration": 17,
    "start_time": "2021-07-24T11:33:53.731Z"
   },
   {
    "duration": 122,
    "start_time": "2021-07-24T11:33:53.752Z"
   },
   {
    "duration": 11,
    "start_time": "2021-07-24T11:33:53.876Z"
   },
   {
    "duration": 20,
    "start_time": "2021-07-24T11:33:53.890Z"
   },
   {
    "duration": 22,
    "start_time": "2021-07-24T11:33:53.913Z"
   },
   {
    "duration": 3,
    "start_time": "2021-07-24T11:33:53.937Z"
   },
   {
    "duration": 20,
    "start_time": "2021-07-24T11:33:53.944Z"
   },
   {
    "duration": 17,
    "start_time": "2021-07-24T11:33:53.968Z"
   },
   {
    "duration": 14,
    "start_time": "2021-07-24T11:33:53.987Z"
   },
   {
    "duration": 28,
    "start_time": "2021-07-24T11:33:54.003Z"
   },
   {
    "duration": 6,
    "start_time": "2021-07-24T11:33:54.034Z"
   },
   {
    "duration": 40,
    "start_time": "2021-07-24T11:33:54.042Z"
   },
   {
    "duration": 4,
    "start_time": "2021-07-24T11:33:54.085Z"
   },
   {
    "duration": 801,
    "start_time": "2021-07-24T11:33:54.091Z"
   },
   {
    "duration": 7,
    "start_time": "2021-07-24T11:33:54.894Z"
   },
   {
    "duration": 636,
    "start_time": "2021-07-24T11:33:54.904Z"
   },
   {
    "duration": 558,
    "start_time": "2021-07-24T11:33:55.543Z"
   },
   {
    "duration": 325,
    "start_time": "2021-07-24T11:33:56.104Z"
   },
   {
    "duration": 351,
    "start_time": "2021-07-24T11:33:56.432Z"
   },
   {
    "duration": 414,
    "start_time": "2021-07-24T11:33:56.785Z"
   },
   {
    "duration": 13,
    "start_time": "2021-07-24T11:33:57.202Z"
   },
   {
    "duration": 3,
    "start_time": "2021-07-24T11:33:57.218Z"
   },
   {
    "duration": 13,
    "start_time": "2021-07-24T11:33:57.223Z"
   },
   {
    "duration": 439,
    "start_time": "2021-07-24T11:33:57.238Z"
   },
   {
    "duration": 12,
    "start_time": "2021-07-24T11:33:57.688Z"
   },
   {
    "duration": 4,
    "start_time": "2021-07-24T11:33:57.703Z"
   },
   {
    "duration": 19,
    "start_time": "2021-07-24T11:33:57.711Z"
   },
   {
    "duration": 49,
    "start_time": "2021-07-24T11:33:57.733Z"
   },
   {
    "duration": 4329,
    "start_time": "2021-07-24T11:33:57.785Z"
   },
   {
    "duration": 18,
    "start_time": "2021-07-24T11:34:02.116Z"
   },
   {
    "duration": 4016,
    "start_time": "2021-07-24T11:34:02.136Z"
   },
   {
    "duration": 276,
    "start_time": "2021-07-24T11:34:06.154Z"
   },
   {
    "duration": 317,
    "start_time": "2021-07-24T11:34:06.433Z"
   },
   {
    "duration": 1354,
    "start_time": "2021-07-24T11:34:06.752Z"
   },
   {
    "duration": 285,
    "start_time": "2021-07-24T11:34:08.108Z"
   },
   {
    "duration": 522,
    "start_time": "2021-07-24T11:34:08.396Z"
   },
   {
    "duration": 9,
    "start_time": "2021-07-24T11:40:53.167Z"
   },
   {
    "duration": 1405,
    "start_time": "2021-07-24T11:41:21.298Z"
   },
   {
    "duration": 3026,
    "start_time": "2021-07-24T11:42:40.863Z"
   },
   {
    "duration": 3184,
    "start_time": "2021-07-24T11:43:50.004Z"
   },
   {
    "duration": 2926,
    "start_time": "2021-07-24T11:43:58.291Z"
   },
   {
    "duration": 5,
    "start_time": "2021-07-24T11:47:41.984Z"
   },
   {
    "duration": 1273,
    "start_time": "2021-07-24T11:48:10.275Z"
   },
   {
    "duration": 9,
    "start_time": "2021-07-24T11:50:33.618Z"
   },
   {
    "duration": 12,
    "start_time": "2021-07-24T11:56:18.683Z"
   },
   {
    "duration": 10,
    "start_time": "2021-07-24T11:56:55.054Z"
   },
   {
    "duration": 354,
    "start_time": "2021-07-24T12:09:44.780Z"
   },
   {
    "duration": 108,
    "start_time": "2021-07-24T12:39:46.618Z"
   },
   {
    "duration": 12,
    "start_time": "2021-07-24T12:41:55.446Z"
   },
   {
    "duration": 10,
    "start_time": "2021-07-24T12:43:54.952Z"
   },
   {
    "duration": 111,
    "start_time": "2021-07-24T12:52:51.023Z"
   },
   {
    "duration": 98,
    "start_time": "2021-07-24T12:53:20.482Z"
   },
   {
    "duration": 107,
    "start_time": "2021-07-24T12:53:51.763Z"
   },
   {
    "duration": 1470,
    "start_time": "2021-07-24T12:54:52.948Z"
   },
   {
    "duration": 278,
    "start_time": "2021-07-24T13:04:05.420Z"
   },
   {
    "duration": 266,
    "start_time": "2021-07-24T13:04:50.402Z"
   },
   {
    "duration": 10,
    "start_time": "2021-07-24T13:05:09.506Z"
   },
   {
    "duration": 294,
    "start_time": "2021-07-24T13:06:01.943Z"
   },
   {
    "duration": 7,
    "start_time": "2021-07-24T13:39:30.535Z"
   },
   {
    "duration": 225,
    "start_time": "2021-07-24T13:41:24.424Z"
   },
   {
    "duration": 6,
    "start_time": "2021-07-24T13:41:40.719Z"
   },
   {
    "duration": 290,
    "start_time": "2021-07-24T13:48:04.172Z"
   },
   {
    "duration": 8,
    "start_time": "2021-07-24T13:48:27.481Z"
   },
   {
    "duration": 7,
    "start_time": "2021-07-24T13:48:57.767Z"
   },
   {
    "duration": 90,
    "start_time": "2021-07-24T13:52:41.044Z"
   },
   {
    "duration": 6,
    "start_time": "2021-07-24T13:52:53.012Z"
   },
   {
    "duration": 6,
    "start_time": "2021-07-24T13:53:00.282Z"
   },
   {
    "duration": 24,
    "start_time": "2021-07-24T13:53:31.658Z"
   },
   {
    "duration": 25,
    "start_time": "2021-07-24T13:53:49.213Z"
   },
   {
    "duration": 22,
    "start_time": "2021-07-24T13:54:08.564Z"
   },
   {
    "duration": 903,
    "start_time": "2021-07-24T23:41:48.994Z"
   },
   {
    "duration": 124,
    "start_time": "2021-07-24T23:41:49.901Z"
   },
   {
    "duration": 14,
    "start_time": "2021-07-24T23:41:50.028Z"
   },
   {
    "duration": 122,
    "start_time": "2021-07-24T23:41:50.045Z"
   },
   {
    "duration": 6,
    "start_time": "2021-07-24T23:41:50.170Z"
   },
   {
    "duration": 21,
    "start_time": "2021-07-24T23:41:50.179Z"
   },
   {
    "duration": 24,
    "start_time": "2021-07-24T23:41:50.203Z"
   },
   {
    "duration": 3,
    "start_time": "2021-07-24T23:41:50.230Z"
   },
   {
    "duration": 7,
    "start_time": "2021-07-24T23:41:50.237Z"
   },
   {
    "duration": 11,
    "start_time": "2021-07-24T23:41:50.247Z"
   },
   {
    "duration": 5,
    "start_time": "2021-07-24T23:41:50.260Z"
   },
   {
    "duration": 24,
    "start_time": "2021-07-24T23:41:50.300Z"
   },
   {
    "duration": 7,
    "start_time": "2021-07-24T23:41:50.326Z"
   },
   {
    "duration": 18,
    "start_time": "2021-07-24T23:41:50.335Z"
   },
   {
    "duration": 4,
    "start_time": "2021-07-24T23:41:50.355Z"
   },
   {
    "duration": 764,
    "start_time": "2021-07-24T23:41:50.362Z"
   },
   {
    "duration": 7,
    "start_time": "2021-07-24T23:41:51.129Z"
   },
   {
    "duration": 613,
    "start_time": "2021-07-24T23:41:51.138Z"
   },
   {
    "duration": 551,
    "start_time": "2021-07-24T23:41:51.754Z"
   },
   {
    "duration": 324,
    "start_time": "2021-07-24T23:41:52.308Z"
   },
   {
    "duration": 321,
    "start_time": "2021-07-24T23:41:52.635Z"
   },
   {
    "duration": 406,
    "start_time": "2021-07-24T23:41:52.958Z"
   },
   {
    "duration": 13,
    "start_time": "2021-07-24T23:41:53.366Z"
   },
   {
    "duration": 20,
    "start_time": "2021-07-24T23:41:53.381Z"
   },
   {
    "duration": 9,
    "start_time": "2021-07-24T23:41:53.403Z"
   },
   {
    "duration": 410,
    "start_time": "2021-07-24T23:41:53.415Z"
   },
   {
    "duration": 9,
    "start_time": "2021-07-24T23:41:53.830Z"
   },
   {
    "duration": 3,
    "start_time": "2021-07-24T23:41:53.842Z"
   },
   {
    "duration": 13,
    "start_time": "2021-07-24T23:41:53.848Z"
   },
   {
    "duration": 43,
    "start_time": "2021-07-24T23:41:53.864Z"
   },
   {
    "duration": 4042,
    "start_time": "2021-07-24T23:41:53.909Z"
   },
   {
    "duration": 19,
    "start_time": "2021-07-24T23:41:57.954Z"
   },
   {
    "duration": 4038,
    "start_time": "2021-07-24T23:41:57.976Z"
   },
   {
    "duration": 278,
    "start_time": "2021-07-24T23:42:02.017Z"
   },
   {
    "duration": 305,
    "start_time": "2021-07-24T23:42:02.301Z"
   },
   {
    "duration": 1261,
    "start_time": "2021-07-24T23:42:02.609Z"
   },
   {
    "duration": 262,
    "start_time": "2021-07-24T23:42:03.872Z"
   },
   {
    "duration": 493,
    "start_time": "2021-07-24T23:42:04.136Z"
   },
   {
    "duration": 11,
    "start_time": "2021-07-24T23:42:04.632Z"
   },
   {
    "duration": 26,
    "start_time": "2021-07-24T23:42:04.645Z"
   },
   {
    "duration": 41,
    "start_time": "2021-07-24T23:42:04.673Z"
   },
   {
    "duration": 15,
    "start_time": "2021-07-24T23:42:24.370Z"
   },
   {
    "duration": 12,
    "start_time": "2021-07-24T23:43:11.137Z"
   },
   {
    "duration": 11,
    "start_time": "2021-07-24T23:43:21.526Z"
   },
   {
    "duration": 13,
    "start_time": "2021-07-24T23:44:37.691Z"
   },
   {
    "duration": 36,
    "start_time": "2021-07-24T23:44:54.384Z"
   },
   {
    "duration": 10,
    "start_time": "2021-07-24T23:45:03.592Z"
   },
   {
    "duration": 23,
    "start_time": "2021-07-24T23:45:10.483Z"
   },
   {
    "duration": 872,
    "start_time": "2021-07-25T16:15:51.943Z"
   },
   {
    "duration": 118,
    "start_time": "2021-07-25T16:15:52.818Z"
   },
   {
    "duration": 18,
    "start_time": "2021-07-25T16:15:52.939Z"
   },
   {
    "duration": 116,
    "start_time": "2021-07-25T16:15:52.960Z"
   },
   {
    "duration": 6,
    "start_time": "2021-07-25T16:15:53.079Z"
   },
   {
    "duration": 26,
    "start_time": "2021-07-25T16:15:53.087Z"
   },
   {
    "duration": 33,
    "start_time": "2021-07-25T16:15:53.115Z"
   },
   {
    "duration": 9,
    "start_time": "2021-07-25T16:15:53.152Z"
   },
   {
    "duration": 22,
    "start_time": "2021-07-25T16:15:53.164Z"
   },
   {
    "duration": 22,
    "start_time": "2021-07-25T16:15:53.189Z"
   },
   {
    "duration": 14,
    "start_time": "2021-07-25T16:15:53.213Z"
   },
   {
    "duration": 34,
    "start_time": "2021-07-25T16:15:53.229Z"
   },
   {
    "duration": 10,
    "start_time": "2021-07-25T16:15:53.265Z"
   },
   {
    "duration": 31,
    "start_time": "2021-07-25T16:15:53.277Z"
   },
   {
    "duration": 4,
    "start_time": "2021-07-25T16:15:53.311Z"
   },
   {
    "duration": 777,
    "start_time": "2021-07-25T16:15:53.317Z"
   },
   {
    "duration": 6,
    "start_time": "2021-07-25T16:15:54.097Z"
   },
   {
    "duration": 639,
    "start_time": "2021-07-25T16:15:54.105Z"
   },
   {
    "duration": 560,
    "start_time": "2021-07-25T16:15:54.747Z"
   },
   {
    "duration": 320,
    "start_time": "2021-07-25T16:15:55.309Z"
   },
   {
    "duration": 354,
    "start_time": "2021-07-25T16:15:55.632Z"
   },
   {
    "duration": 410,
    "start_time": "2021-07-25T16:15:55.988Z"
   },
   {
    "duration": 12,
    "start_time": "2021-07-25T16:15:56.405Z"
   },
   {
    "duration": 5,
    "start_time": "2021-07-25T16:15:56.420Z"
   },
   {
    "duration": 15,
    "start_time": "2021-07-25T16:15:56.427Z"
   },
   {
    "duration": 517,
    "start_time": "2021-07-25T16:15:56.444Z"
   },
   {
    "duration": 9,
    "start_time": "2021-07-25T16:15:56.964Z"
   },
   {
    "duration": 3,
    "start_time": "2021-07-25T16:15:56.976Z"
   },
   {
    "duration": 14,
    "start_time": "2021-07-25T16:15:56.981Z"
   },
   {
    "duration": 21,
    "start_time": "2021-07-25T16:15:56.997Z"
   },
   {
    "duration": 4058,
    "start_time": "2021-07-25T16:15:57.021Z"
   },
   {
    "duration": 18,
    "start_time": "2021-07-25T16:16:01.082Z"
   },
   {
    "duration": 4221,
    "start_time": "2021-07-25T16:16:01.103Z"
   },
   {
    "duration": 270,
    "start_time": "2021-07-25T16:16:05.326Z"
   },
   {
    "duration": 326,
    "start_time": "2021-07-25T16:16:05.598Z"
   },
   {
    "duration": 1305,
    "start_time": "2021-07-25T16:16:05.926Z"
   },
   {
    "duration": 271,
    "start_time": "2021-07-25T16:16:07.234Z"
   },
   {
    "duration": 504,
    "start_time": "2021-07-25T16:16:07.508Z"
   },
   {
    "duration": 11,
    "start_time": "2021-07-25T16:16:08.014Z"
   },
   {
    "duration": 6,
    "start_time": "2021-07-25T16:16:08.027Z"
   },
   {
    "duration": 23,
    "start_time": "2021-07-25T16:16:08.056Z"
   },
   {
    "duration": 12,
    "start_time": "2021-07-25T16:16:08.082Z"
   },
   {
    "duration": 15,
    "start_time": "2021-07-25T16:16:08.096Z"
   },
   {
    "duration": 46,
    "start_time": "2021-07-25T16:16:08.114Z"
   },
   {
    "duration": 22,
    "start_time": "2021-07-25T16:16:08.162Z"
   },
   {
    "duration": 22,
    "start_time": "2021-07-25T16:16:08.187Z"
   },
   {
    "duration": 5,
    "start_time": "2021-07-25T16:16:08.212Z"
   },
   {
    "duration": 370,
    "start_time": "2021-07-25T16:16:08.255Z"
   },
   {
    "duration": 9,
    "start_time": "2021-07-25T16:16:08.627Z"
   },
   {
    "duration": 501,
    "start_time": "2021-07-25T16:16:08.638Z"
   },
   {
    "duration": 415,
    "start_time": "2021-07-25T16:16:09.141Z"
   },
   {
    "duration": 314,
    "start_time": "2021-07-25T16:16:09.558Z"
   },
   {
    "duration": 329,
    "start_time": "2021-07-25T16:16:09.875Z"
   },
   {
    "duration": 13,
    "start_time": "2021-07-25T16:16:10.206Z"
   },
   {
    "duration": 38,
    "start_time": "2021-07-25T16:16:10.221Z"
   },
   {
    "duration": 3,
    "start_time": "2021-07-25T16:16:10.262Z"
   },
   {
    "duration": 11,
    "start_time": "2021-07-25T16:16:18.767Z"
   },
   {
    "duration": 635,
    "start_time": "2023-02-06T21:59:28.989Z"
   },
   {
    "duration": 209,
    "start_time": "2023-02-06T21:59:29.626Z"
   },
   {
    "duration": 17,
    "start_time": "2023-02-06T21:59:29.836Z"
   },
   {
    "duration": 107,
    "start_time": "2023-02-06T21:59:29.855Z"
   },
   {
    "duration": 8,
    "start_time": "2023-02-06T21:59:29.964Z"
   },
   {
    "duration": 6,
    "start_time": "2023-02-06T21:59:29.973Z"
   },
   {
    "duration": 18,
    "start_time": "2023-02-06T21:59:29.981Z"
   },
   {
    "duration": 4,
    "start_time": "2023-02-06T21:59:30.001Z"
   },
   {
    "duration": 12,
    "start_time": "2023-02-06T21:59:30.006Z"
   },
   {
    "duration": 17,
    "start_time": "2023-02-06T21:59:30.020Z"
   },
   {
    "duration": 31,
    "start_time": "2023-02-06T21:59:30.040Z"
   },
   {
    "duration": 9,
    "start_time": "2023-02-06T21:59:30.073Z"
   },
   {
    "duration": 19,
    "start_time": "2023-02-06T21:59:30.084Z"
   },
   {
    "duration": 5,
    "start_time": "2023-02-06T21:59:30.104Z"
   },
   {
    "duration": 364,
    "start_time": "2023-02-06T21:59:30.110Z"
   },
   {
    "duration": 5,
    "start_time": "2023-02-06T21:59:30.476Z"
   },
   {
    "duration": 396,
    "start_time": "2023-02-06T21:59:30.482Z"
   },
   {
    "duration": 306,
    "start_time": "2023-02-06T21:59:30.880Z"
   },
   {
    "duration": 189,
    "start_time": "2023-02-06T21:59:31.188Z"
   },
   {
    "duration": 176,
    "start_time": "2023-02-06T21:59:31.379Z"
   },
   {
    "duration": 207,
    "start_time": "2023-02-06T21:59:31.561Z"
   },
   {
    "duration": 11,
    "start_time": "2023-02-06T21:59:31.770Z"
   },
   {
    "duration": 9,
    "start_time": "2023-02-06T21:59:31.782Z"
   },
   {
    "duration": 14,
    "start_time": "2023-02-06T21:59:31.792Z"
   },
   {
    "duration": 16,
    "start_time": "2023-02-06T21:59:31.808Z"
   },
   {
    "duration": 1120,
    "start_time": "2023-02-06T21:59:31.842Z"
   },
   {
    "duration": 16,
    "start_time": "2023-02-06T21:59:32.963Z"
   },
   {
    "duration": 1184,
    "start_time": "2023-02-06T21:59:32.982Z"
   },
   {
    "duration": 146,
    "start_time": "2023-02-06T21:59:34.168Z"
   },
   {
    "duration": 187,
    "start_time": "2023-02-06T21:59:34.316Z"
   },
   {
    "duration": 962,
    "start_time": "2023-02-06T21:59:34.504Z"
   },
   {
    "duration": 139,
    "start_time": "2023-02-06T21:59:35.471Z"
   },
   {
    "duration": 212,
    "start_time": "2023-02-06T21:59:35.612Z"
   },
   {
    "duration": 19,
    "start_time": "2023-02-06T21:59:35.826Z"
   },
   {
    "duration": 8,
    "start_time": "2023-02-06T21:59:35.853Z"
   },
   {
    "duration": 15,
    "start_time": "2023-02-06T21:59:35.863Z"
   },
   {
    "duration": 9,
    "start_time": "2023-02-06T21:59:35.879Z"
   },
   {
    "duration": 12,
    "start_time": "2023-02-06T21:59:35.889Z"
   },
   {
    "duration": 15,
    "start_time": "2023-02-06T21:59:35.903Z"
   },
   {
    "duration": 34,
    "start_time": "2023-02-06T21:59:35.920Z"
   },
   {
    "duration": 7,
    "start_time": "2023-02-06T21:59:35.955Z"
   },
   {
    "duration": 214,
    "start_time": "2023-02-06T21:59:35.966Z"
   },
   {
    "duration": 6,
    "start_time": "2023-02-06T21:59:36.182Z"
   },
   {
    "duration": 211,
    "start_time": "2023-02-06T21:59:36.190Z"
   },
   {
    "duration": 298,
    "start_time": "2023-02-06T21:59:36.402Z"
   },
   {
    "duration": 162,
    "start_time": "2023-02-06T21:59:36.702Z"
   },
   {
    "duration": 161,
    "start_time": "2023-02-06T21:59:36.868Z"
   },
   {
    "duration": 12,
    "start_time": "2023-02-06T21:59:37.037Z"
   },
   {
    "duration": 33,
    "start_time": "2023-02-06T21:59:37.051Z"
   }
  ],
  "kernelspec": {
   "display_name": "Python 3 (ipykernel)",
   "language": "python",
   "name": "python3"
  },
  "language_info": {
   "codemirror_mode": {
    "name": "ipython",
    "version": 3
   },
   "file_extension": ".py",
   "mimetype": "text/x-python",
   "name": "python",
   "nbconvert_exporter": "python",
   "pygments_lexer": "ipython3",
   "version": "3.9.5"
  },
  "toc": {
   "base_numbering": 1,
   "nav_menu": {},
   "number_sections": true,
   "sideBar": true,
   "skip_h1_title": true,
   "title_cell": "Содержание",
   "title_sidebar": "Contents",
   "toc_cell": true,
   "toc_position": {},
   "toc_section_display": true,
   "toc_window_display": false
  }
 },
 "nbformat": 4,
 "nbformat_minor": 2
}
