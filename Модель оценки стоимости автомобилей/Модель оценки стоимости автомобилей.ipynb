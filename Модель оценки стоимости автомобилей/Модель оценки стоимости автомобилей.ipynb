{
 "cells": [
  {
   "cell_type": "markdown",
   "metadata": {},
   "source": [
    "# Определение стоимости автомобилей"
   ]
  },
  {
   "cell_type": "markdown",
   "metadata": {},
   "source": [
    "Сервис по продаже автомобилей с пробегом «Не бит, не крашен» разрабатывает приложение для привлечения новых клиентов. В нём можно быстро узнать рыночную стоимость своего автомобиля. В вашем распоряжении исторические данные: технические характеристики, комплектации и цены автомобилей. Вам нужно построить модель для определения стоимости. \n",
    "\n",
    "Заказчику важны:\n",
    "\n",
    "- качество предсказания;\n",
    "- скорость предсказания;\n",
    "- время обучения."
   ]
  },
  {
   "cell_type": "markdown",
   "metadata": {},
   "source": [
    "## Подготовка данных"
   ]
  },
  {
   "cell_type": "code",
   "execution_count": 1,
   "metadata": {},
   "outputs": [],
   "source": [
    "import pandas as pd\n",
    "import numpy as np\n",
    "import matplotlib.pyplot as plt\n",
    "from sklearn.model_selection import train_test_split\n",
    "from sklearn.linear_model import LinearRegression\n",
    "from sklearn.metrics import accuracy_score\n",
    "from sklearn.metrics import r2_score\n",
    "from sklearn.metrics import mean_absolute_error\n",
    "from sklearn.metrics import roc_auc_score\n",
    "from sklearn.metrics import f1_score\n",
    "from sklearn.utils import shuffle\n",
    "from sklearn.metrics import roc_curve\n",
    "from sklearn.model_selection import cross_val_score\n",
    "from sklearn.metrics import mean_squared_error\n",
    "from sklearn.tree import DecisionTreeRegressor\n",
    "from sklearn.ensemble import RandomForestRegressor\n",
    "from sklearn.ensemble import RandomForestClassifier\n",
    "from sklearn.linear_model import LogisticRegression\n",
    "from sklearn.tree import DecisionTreeClassifier\n",
    "from collections import Counter\n",
    "from sklearn.metrics.scorer import make_scorer\n",
    "from sklearn.dummy import DummyRegressor\n",
    "from catboost import CatBoostClassifier\n",
    "import lightgbm as lgb\n",
    "from lightgbm import LGBMRegressor"
   ]
  },
  {
   "cell_type": "code",
   "execution_count": 2,
   "metadata": {},
   "outputs": [
    {
     "data": {
      "text/html": [
       "<div>\n",
       "<style scoped>\n",
       "    .dataframe tbody tr th:only-of-type {\n",
       "        vertical-align: middle;\n",
       "    }\n",
       "\n",
       "    .dataframe tbody tr th {\n",
       "        vertical-align: top;\n",
       "    }\n",
       "\n",
       "    .dataframe thead th {\n",
       "        text-align: right;\n",
       "    }\n",
       "</style>\n",
       "<table border=\"1\" class=\"dataframe\">\n",
       "  <thead>\n",
       "    <tr style=\"text-align: right;\">\n",
       "      <th></th>\n",
       "      <th>DateCrawled</th>\n",
       "      <th>Price</th>\n",
       "      <th>VehicleType</th>\n",
       "      <th>RegistrationYear</th>\n",
       "      <th>Gearbox</th>\n",
       "      <th>Power</th>\n",
       "      <th>Model</th>\n",
       "      <th>Kilometer</th>\n",
       "      <th>RegistrationMonth</th>\n",
       "      <th>FuelType</th>\n",
       "      <th>Brand</th>\n",
       "      <th>NotRepaired</th>\n",
       "      <th>DateCreated</th>\n",
       "      <th>NumberOfPictures</th>\n",
       "      <th>PostalCode</th>\n",
       "      <th>LastSeen</th>\n",
       "    </tr>\n",
       "  </thead>\n",
       "  <tbody>\n",
       "    <tr>\n",
       "      <td>0</td>\n",
       "      <td>2016-03-24 11:52:17</td>\n",
       "      <td>480</td>\n",
       "      <td>NaN</td>\n",
       "      <td>1993</td>\n",
       "      <td>manual</td>\n",
       "      <td>0</td>\n",
       "      <td>golf</td>\n",
       "      <td>150000</td>\n",
       "      <td>0</td>\n",
       "      <td>petrol</td>\n",
       "      <td>volkswagen</td>\n",
       "      <td>NaN</td>\n",
       "      <td>2016-03-24 00:00:00</td>\n",
       "      <td>0</td>\n",
       "      <td>70435</td>\n",
       "      <td>2016-04-07 03:16:57</td>\n",
       "    </tr>\n",
       "    <tr>\n",
       "      <td>1</td>\n",
       "      <td>2016-03-24 10:58:45</td>\n",
       "      <td>18300</td>\n",
       "      <td>coupe</td>\n",
       "      <td>2011</td>\n",
       "      <td>manual</td>\n",
       "      <td>190</td>\n",
       "      <td>NaN</td>\n",
       "      <td>125000</td>\n",
       "      <td>5</td>\n",
       "      <td>gasoline</td>\n",
       "      <td>audi</td>\n",
       "      <td>yes</td>\n",
       "      <td>2016-03-24 00:00:00</td>\n",
       "      <td>0</td>\n",
       "      <td>66954</td>\n",
       "      <td>2016-04-07 01:46:50</td>\n",
       "    </tr>\n",
       "    <tr>\n",
       "      <td>2</td>\n",
       "      <td>2016-03-14 12:52:21</td>\n",
       "      <td>9800</td>\n",
       "      <td>suv</td>\n",
       "      <td>2004</td>\n",
       "      <td>auto</td>\n",
       "      <td>163</td>\n",
       "      <td>grand</td>\n",
       "      <td>125000</td>\n",
       "      <td>8</td>\n",
       "      <td>gasoline</td>\n",
       "      <td>jeep</td>\n",
       "      <td>NaN</td>\n",
       "      <td>2016-03-14 00:00:00</td>\n",
       "      <td>0</td>\n",
       "      <td>90480</td>\n",
       "      <td>2016-04-05 12:47:46</td>\n",
       "    </tr>\n",
       "    <tr>\n",
       "      <td>3</td>\n",
       "      <td>2016-03-17 16:54:04</td>\n",
       "      <td>1500</td>\n",
       "      <td>small</td>\n",
       "      <td>2001</td>\n",
       "      <td>manual</td>\n",
       "      <td>75</td>\n",
       "      <td>golf</td>\n",
       "      <td>150000</td>\n",
       "      <td>6</td>\n",
       "      <td>petrol</td>\n",
       "      <td>volkswagen</td>\n",
       "      <td>no</td>\n",
       "      <td>2016-03-17 00:00:00</td>\n",
       "      <td>0</td>\n",
       "      <td>91074</td>\n",
       "      <td>2016-03-17 17:40:17</td>\n",
       "    </tr>\n",
       "    <tr>\n",
       "      <td>4</td>\n",
       "      <td>2016-03-31 17:25:20</td>\n",
       "      <td>3600</td>\n",
       "      <td>small</td>\n",
       "      <td>2008</td>\n",
       "      <td>manual</td>\n",
       "      <td>69</td>\n",
       "      <td>fabia</td>\n",
       "      <td>90000</td>\n",
       "      <td>7</td>\n",
       "      <td>gasoline</td>\n",
       "      <td>skoda</td>\n",
       "      <td>no</td>\n",
       "      <td>2016-03-31 00:00:00</td>\n",
       "      <td>0</td>\n",
       "      <td>60437</td>\n",
       "      <td>2016-04-06 10:17:21</td>\n",
       "    </tr>\n",
       "  </tbody>\n",
       "</table>\n",
       "</div>"
      ],
      "text/plain": [
       "           DateCrawled  Price VehicleType  RegistrationYear Gearbox  Power  \\\n",
       "0  2016-03-24 11:52:17    480         NaN              1993  manual      0   \n",
       "1  2016-03-24 10:58:45  18300       coupe              2011  manual    190   \n",
       "2  2016-03-14 12:52:21   9800         suv              2004    auto    163   \n",
       "3  2016-03-17 16:54:04   1500       small              2001  manual     75   \n",
       "4  2016-03-31 17:25:20   3600       small              2008  manual     69   \n",
       "\n",
       "   Model  Kilometer  RegistrationMonth  FuelType       Brand NotRepaired  \\\n",
       "0   golf     150000                  0    petrol  volkswagen         NaN   \n",
       "1    NaN     125000                  5  gasoline        audi         yes   \n",
       "2  grand     125000                  8  gasoline        jeep         NaN   \n",
       "3   golf     150000                  6    petrol  volkswagen          no   \n",
       "4  fabia      90000                  7  gasoline       skoda          no   \n",
       "\n",
       "           DateCreated  NumberOfPictures  PostalCode             LastSeen  \n",
       "0  2016-03-24 00:00:00                 0       70435  2016-04-07 03:16:57  \n",
       "1  2016-03-24 00:00:00                 0       66954  2016-04-07 01:46:50  \n",
       "2  2016-03-14 00:00:00                 0       90480  2016-04-05 12:47:46  \n",
       "3  2016-03-17 00:00:00                 0       91074  2016-03-17 17:40:17  \n",
       "4  2016-03-31 00:00:00                 0       60437  2016-04-06 10:17:21  "
      ]
     },
     "execution_count": 2,
     "metadata": {},
     "output_type": "execute_result"
    }
   ],
   "source": [
    "df = pd.read_csv('/datasets/autos.csv')\n",
    "df.head()"
   ]
  },
  {
   "cell_type": "code",
   "execution_count": 3,
   "metadata": {},
   "outputs": [
    {
     "name": "stdout",
     "output_type": "stream",
     "text": [
      "<class 'pandas.core.frame.DataFrame'>\n",
      "RangeIndex: 354369 entries, 0 to 354368\n",
      "Data columns (total 16 columns):\n",
      "DateCrawled          354369 non-null object\n",
      "Price                354369 non-null int64\n",
      "VehicleType          316879 non-null object\n",
      "RegistrationYear     354369 non-null int64\n",
      "Gearbox              334536 non-null object\n",
      "Power                354369 non-null int64\n",
      "Model                334664 non-null object\n",
      "Kilometer            354369 non-null int64\n",
      "RegistrationMonth    354369 non-null int64\n",
      "FuelType             321474 non-null object\n",
      "Brand                354369 non-null object\n",
      "NotRepaired          283215 non-null object\n",
      "DateCreated          354369 non-null object\n",
      "NumberOfPictures     354369 non-null int64\n",
      "PostalCode           354369 non-null int64\n",
      "LastSeen             354369 non-null object\n",
      "dtypes: int64(7), object(9)\n",
      "memory usage: 43.3+ MB\n"
     ]
    }
   ],
   "source": [
    "df.info()"
   ]
  },
  {
   "cell_type": "code",
   "execution_count": 4,
   "metadata": {},
   "outputs": [
    {
     "data": {
      "text/html": [
       "<div>\n",
       "<style scoped>\n",
       "    .dataframe tbody tr th:only-of-type {\n",
       "        vertical-align: middle;\n",
       "    }\n",
       "\n",
       "    .dataframe tbody tr th {\n",
       "        vertical-align: top;\n",
       "    }\n",
       "\n",
       "    .dataframe thead th {\n",
       "        text-align: right;\n",
       "    }\n",
       "</style>\n",
       "<table border=\"1\" class=\"dataframe\">\n",
       "  <thead>\n",
       "    <tr style=\"text-align: right;\">\n",
       "      <th></th>\n",
       "      <th>Price</th>\n",
       "      <th>RegistrationYear</th>\n",
       "      <th>Power</th>\n",
       "      <th>Kilometer</th>\n",
       "      <th>RegistrationMonth</th>\n",
       "      <th>NumberOfPictures</th>\n",
       "      <th>PostalCode</th>\n",
       "    </tr>\n",
       "  </thead>\n",
       "  <tbody>\n",
       "    <tr>\n",
       "      <td>count</td>\n",
       "      <td>354369.000000</td>\n",
       "      <td>354369.000000</td>\n",
       "      <td>354369.000000</td>\n",
       "      <td>354369.000000</td>\n",
       "      <td>354369.000000</td>\n",
       "      <td>354369.0</td>\n",
       "      <td>354369.000000</td>\n",
       "    </tr>\n",
       "    <tr>\n",
       "      <td>mean</td>\n",
       "      <td>4416.656776</td>\n",
       "      <td>2004.234448</td>\n",
       "      <td>110.094337</td>\n",
       "      <td>128211.172535</td>\n",
       "      <td>5.714645</td>\n",
       "      <td>0.0</td>\n",
       "      <td>50508.689087</td>\n",
       "    </tr>\n",
       "    <tr>\n",
       "      <td>std</td>\n",
       "      <td>4514.158514</td>\n",
       "      <td>90.227958</td>\n",
       "      <td>189.850405</td>\n",
       "      <td>37905.341530</td>\n",
       "      <td>3.726421</td>\n",
       "      <td>0.0</td>\n",
       "      <td>25783.096248</td>\n",
       "    </tr>\n",
       "    <tr>\n",
       "      <td>min</td>\n",
       "      <td>0.000000</td>\n",
       "      <td>1000.000000</td>\n",
       "      <td>0.000000</td>\n",
       "      <td>5000.000000</td>\n",
       "      <td>0.000000</td>\n",
       "      <td>0.0</td>\n",
       "      <td>1067.000000</td>\n",
       "    </tr>\n",
       "    <tr>\n",
       "      <td>25%</td>\n",
       "      <td>1050.000000</td>\n",
       "      <td>1999.000000</td>\n",
       "      <td>69.000000</td>\n",
       "      <td>125000.000000</td>\n",
       "      <td>3.000000</td>\n",
       "      <td>0.0</td>\n",
       "      <td>30165.000000</td>\n",
       "    </tr>\n",
       "    <tr>\n",
       "      <td>50%</td>\n",
       "      <td>2700.000000</td>\n",
       "      <td>2003.000000</td>\n",
       "      <td>105.000000</td>\n",
       "      <td>150000.000000</td>\n",
       "      <td>6.000000</td>\n",
       "      <td>0.0</td>\n",
       "      <td>49413.000000</td>\n",
       "    </tr>\n",
       "    <tr>\n",
       "      <td>75%</td>\n",
       "      <td>6400.000000</td>\n",
       "      <td>2008.000000</td>\n",
       "      <td>143.000000</td>\n",
       "      <td>150000.000000</td>\n",
       "      <td>9.000000</td>\n",
       "      <td>0.0</td>\n",
       "      <td>71083.000000</td>\n",
       "    </tr>\n",
       "    <tr>\n",
       "      <td>max</td>\n",
       "      <td>20000.000000</td>\n",
       "      <td>9999.000000</td>\n",
       "      <td>20000.000000</td>\n",
       "      <td>150000.000000</td>\n",
       "      <td>12.000000</td>\n",
       "      <td>0.0</td>\n",
       "      <td>99998.000000</td>\n",
       "    </tr>\n",
       "  </tbody>\n",
       "</table>\n",
       "</div>"
      ],
      "text/plain": [
       "               Price  RegistrationYear          Power      Kilometer  \\\n",
       "count  354369.000000     354369.000000  354369.000000  354369.000000   \n",
       "mean     4416.656776       2004.234448     110.094337  128211.172535   \n",
       "std      4514.158514         90.227958     189.850405   37905.341530   \n",
       "min         0.000000       1000.000000       0.000000    5000.000000   \n",
       "25%      1050.000000       1999.000000      69.000000  125000.000000   \n",
       "50%      2700.000000       2003.000000     105.000000  150000.000000   \n",
       "75%      6400.000000       2008.000000     143.000000  150000.000000   \n",
       "max     20000.000000       9999.000000   20000.000000  150000.000000   \n",
       "\n",
       "       RegistrationMonth  NumberOfPictures     PostalCode  \n",
       "count      354369.000000          354369.0  354369.000000  \n",
       "mean            5.714645               0.0   50508.689087  \n",
       "std             3.726421               0.0   25783.096248  \n",
       "min             0.000000               0.0    1067.000000  \n",
       "25%             3.000000               0.0   30165.000000  \n",
       "50%             6.000000               0.0   49413.000000  \n",
       "75%             9.000000               0.0   71083.000000  \n",
       "max            12.000000               0.0   99998.000000  "
      ]
     },
     "execution_count": 4,
     "metadata": {},
     "output_type": "execute_result"
    }
   ],
   "source": [
    "df.describe()"
   ]
  },
  {
   "cell_type": "markdown",
   "metadata": {},
   "source": [
    "Начнем с предобработки данных, перед нами следующий план действий:\n",
    "\n",
    "1) Необходимо предобразовать столбцы с датами в корректный формат\n",
    "\n",
    "2) Необходимо исследовать пропуски в данных и исследовать нет ли у нас закономерностей для их заполнения. В том числе удалить строки с нулевой ценой - поскольку это целевой признак и нам необходимо его предсказывать, будет неправильно его усреднять или чем либо заменять.\n",
    "\n",
    "3) Проверить аномальные значения (нулевые мощность, месяц регистрации, год регистрации выше возможного)\n",
    "\n",
    "4) Привести к общему виду категориальные признаки если в данных есть отличающиеся\n",
    "\n",
    "5) Далее проверим корреляцию, и уберем столбцы с корреляцией ~90% или больше. На данный момент я вижу что столбцы с датой создания анкеты и выгрузки анкеты из базы копируют друг друга.\n",
    "\n",
    "6) Перевести категориальные признаки к бинарному виду чтобы модели было проще учиться\n",
    "\n",
    "7) Если столбцы PostalCode, LastSeen, RegistrationMonth и DateCrawled к концу предобработки данных будут все еще на месте, то нужно будет взять их на карандаш, на мой взгляд данные признаки никаким образом не влияют на цену машины и просто создают лишний шум, но мое мнение может быть ошибочным. Поэтому на этапе обучения моделей, имеет смысл попробовать, будут ли модели лучше учиться при удалении этих признаков из наших данных."
   ]
  },
  {
   "cell_type": "code",
   "execution_count": 5,
   "metadata": {},
   "outputs": [
    {
     "name": "stdout",
     "output_type": "stream",
     "text": [
      "<class 'pandas.core.frame.DataFrame'>\n",
      "RangeIndex: 354369 entries, 0 to 354368\n",
      "Data columns (total 16 columns):\n",
      "DateCrawled          354369 non-null datetime64[ns]\n",
      "Price                354369 non-null int64\n",
      "VehicleType          316879 non-null object\n",
      "RegistrationYear     354369 non-null int64\n",
      "Gearbox              334536 non-null object\n",
      "Power                354369 non-null int64\n",
      "Model                334664 non-null object\n",
      "Kilometer            354369 non-null int64\n",
      "RegistrationMonth    354369 non-null int64\n",
      "FuelType             321474 non-null object\n",
      "Brand                354369 non-null object\n",
      "NotRepaired          283215 non-null object\n",
      "DateCreated          354369 non-null datetime64[ns]\n",
      "NumberOfPictures     354369 non-null int64\n",
      "PostalCode           354369 non-null int64\n",
      "LastSeen             354369 non-null datetime64[ns]\n",
      "dtypes: datetime64[ns](3), int64(7), object(6)\n",
      "memory usage: 43.3+ MB\n"
     ]
    }
   ],
   "source": [
    "df['DateCrawled'] = pd.to_datetime(df['DateCrawled'], format = '%Y-%m-%dT%H:%M:%S')\n",
    "df['DateCreated'] = pd.to_datetime(df['DateCreated'], format = '%Y-%m-%dT%H:%M:%S')\n",
    "df['LastSeen'] = pd.to_datetime(df['LastSeen'], format = '%Y-%m-%dT%H:%M:%S')\n",
    "df.info()"
   ]
  },
  {
   "cell_type": "markdown",
   "metadata": {},
   "source": [
    "Теперь пропуски. Начнем с исключения нулевой цены а дальше по порядку."
   ]
  },
  {
   "cell_type": "code",
   "execution_count": 6,
   "metadata": {
    "scrolled": true
   },
   "outputs": [
    {
     "data": {
      "text/html": [
       "<div>\n",
       "<style scoped>\n",
       "    .dataframe tbody tr th:only-of-type {\n",
       "        vertical-align: middle;\n",
       "    }\n",
       "\n",
       "    .dataframe tbody tr th {\n",
       "        vertical-align: top;\n",
       "    }\n",
       "\n",
       "    .dataframe thead th {\n",
       "        text-align: right;\n",
       "    }\n",
       "</style>\n",
       "<table border=\"1\" class=\"dataframe\">\n",
       "  <thead>\n",
       "    <tr style=\"text-align: right;\">\n",
       "      <th></th>\n",
       "      <th>Price</th>\n",
       "      <th>RegistrationYear</th>\n",
       "      <th>Power</th>\n",
       "      <th>Kilometer</th>\n",
       "      <th>RegistrationMonth</th>\n",
       "      <th>NumberOfPictures</th>\n",
       "      <th>PostalCode</th>\n",
       "    </tr>\n",
       "  </thead>\n",
       "  <tbody>\n",
       "    <tr>\n",
       "      <td>count</td>\n",
       "      <td>343597.000000</td>\n",
       "      <td>343597.000000</td>\n",
       "      <td>343597.000000</td>\n",
       "      <td>343597.000000</td>\n",
       "      <td>343597.000000</td>\n",
       "      <td>343597.0</td>\n",
       "      <td>343597.000000</td>\n",
       "    </tr>\n",
       "    <tr>\n",
       "      <td>mean</td>\n",
       "      <td>4555.121974</td>\n",
       "      <td>2004.089797</td>\n",
       "      <td>111.000192</td>\n",
       "      <td>128337.616452</td>\n",
       "      <td>5.777891</td>\n",
       "      <td>0.0</td>\n",
       "      <td>50683.358915</td>\n",
       "    </tr>\n",
       "    <tr>\n",
       "      <td>std</td>\n",
       "      <td>4515.058553</td>\n",
       "      <td>78.413225</td>\n",
       "      <td>188.177974</td>\n",
       "      <td>37521.047429</td>\n",
       "      <td>3.698186</td>\n",
       "      <td>0.0</td>\n",
       "      <td>25744.205799</td>\n",
       "    </tr>\n",
       "    <tr>\n",
       "      <td>min</td>\n",
       "      <td>1.000000</td>\n",
       "      <td>1000.000000</td>\n",
       "      <td>0.000000</td>\n",
       "      <td>5000.000000</td>\n",
       "      <td>0.000000</td>\n",
       "      <td>0.0</td>\n",
       "      <td>1067.000000</td>\n",
       "    </tr>\n",
       "    <tr>\n",
       "      <td>25%</td>\n",
       "      <td>1200.000000</td>\n",
       "      <td>1999.000000</td>\n",
       "      <td>69.000000</td>\n",
       "      <td>125000.000000</td>\n",
       "      <td>3.000000</td>\n",
       "      <td>0.0</td>\n",
       "      <td>30449.000000</td>\n",
       "    </tr>\n",
       "    <tr>\n",
       "      <td>50%</td>\n",
       "      <td>2890.000000</td>\n",
       "      <td>2003.000000</td>\n",
       "      <td>105.000000</td>\n",
       "      <td>150000.000000</td>\n",
       "      <td>6.000000</td>\n",
       "      <td>0.0</td>\n",
       "      <td>49525.000000</td>\n",
       "    </tr>\n",
       "    <tr>\n",
       "      <td>75%</td>\n",
       "      <td>6500.000000</td>\n",
       "      <td>2008.000000</td>\n",
       "      <td>143.000000</td>\n",
       "      <td>150000.000000</td>\n",
       "      <td>9.000000</td>\n",
       "      <td>0.0</td>\n",
       "      <td>71229.000000</td>\n",
       "    </tr>\n",
       "    <tr>\n",
       "      <td>max</td>\n",
       "      <td>20000.000000</td>\n",
       "      <td>9999.000000</td>\n",
       "      <td>20000.000000</td>\n",
       "      <td>150000.000000</td>\n",
       "      <td>12.000000</td>\n",
       "      <td>0.0</td>\n",
       "      <td>99998.000000</td>\n",
       "    </tr>\n",
       "  </tbody>\n",
       "</table>\n",
       "</div>"
      ],
      "text/plain": [
       "               Price  RegistrationYear          Power      Kilometer  \\\n",
       "count  343597.000000     343597.000000  343597.000000  343597.000000   \n",
       "mean     4555.121974       2004.089797     111.000192  128337.616452   \n",
       "std      4515.058553         78.413225     188.177974   37521.047429   \n",
       "min         1.000000       1000.000000       0.000000    5000.000000   \n",
       "25%      1200.000000       1999.000000      69.000000  125000.000000   \n",
       "50%      2890.000000       2003.000000     105.000000  150000.000000   \n",
       "75%      6500.000000       2008.000000     143.000000  150000.000000   \n",
       "max     20000.000000       9999.000000   20000.000000  150000.000000   \n",
       "\n",
       "       RegistrationMonth  NumberOfPictures     PostalCode  \n",
       "count      343597.000000          343597.0  343597.000000  \n",
       "mean            5.777891               0.0   50683.358915  \n",
       "std             3.698186               0.0   25744.205799  \n",
       "min             0.000000               0.0    1067.000000  \n",
       "25%             3.000000               0.0   30449.000000  \n",
       "50%             6.000000               0.0   49525.000000  \n",
       "75%             9.000000               0.0   71229.000000  \n",
       "max            12.000000               0.0   99998.000000  "
      ]
     },
     "execution_count": 6,
     "metadata": {},
     "output_type": "execute_result"
    }
   ],
   "source": [
    "df = df.drop(index = df.query('Price == 0').index).reset_index()\n",
    "df = df.drop(['index'], axis = 1)\n",
    "df.describe()"
   ]
  },
  {
   "cell_type": "code",
   "execution_count": 7,
   "metadata": {},
   "outputs": [
    {
     "data": {
      "text/html": [
       "<div>\n",
       "<style scoped>\n",
       "    .dataframe tbody tr th:only-of-type {\n",
       "        vertical-align: middle;\n",
       "    }\n",
       "\n",
       "    .dataframe tbody tr th {\n",
       "        vertical-align: top;\n",
       "    }\n",
       "\n",
       "    .dataframe thead th {\n",
       "        text-align: right;\n",
       "    }\n",
       "</style>\n",
       "<table border=\"1\" class=\"dataframe\">\n",
       "  <thead>\n",
       "    <tr style=\"text-align: right;\">\n",
       "      <th></th>\n",
       "      <th>DateCrawled</th>\n",
       "      <th>Price</th>\n",
       "      <th>VehicleType</th>\n",
       "      <th>RegistrationYear</th>\n",
       "      <th>Gearbox</th>\n",
       "      <th>Power</th>\n",
       "      <th>Model</th>\n",
       "      <th>Kilometer</th>\n",
       "      <th>RegistrationMonth</th>\n",
       "      <th>FuelType</th>\n",
       "      <th>Brand</th>\n",
       "      <th>NotRepaired</th>\n",
       "      <th>DateCreated</th>\n",
       "      <th>NumberOfPictures</th>\n",
       "      <th>PostalCode</th>\n",
       "      <th>LastSeen</th>\n",
       "    </tr>\n",
       "  </thead>\n",
       "  <tbody>\n",
       "    <tr>\n",
       "      <td>0</td>\n",
       "      <td>2016-03-24 11:52:17</td>\n",
       "      <td>480</td>\n",
       "      <td>NaN</td>\n",
       "      <td>1993</td>\n",
       "      <td>manual</td>\n",
       "      <td>0</td>\n",
       "      <td>golf</td>\n",
       "      <td>150000</td>\n",
       "      <td>0</td>\n",
       "      <td>petrol</td>\n",
       "      <td>volkswagen</td>\n",
       "      <td>NaN</td>\n",
       "      <td>2016-03-24</td>\n",
       "      <td>0</td>\n",
       "      <td>70435</td>\n",
       "      <td>2016-04-07 03:16:57</td>\n",
       "    </tr>\n",
       "    <tr>\n",
       "      <td>15</td>\n",
       "      <td>2016-04-01 12:46:46</td>\n",
       "      <td>300</td>\n",
       "      <td>NaN</td>\n",
       "      <td>2016</td>\n",
       "      <td>NaN</td>\n",
       "      <td>60</td>\n",
       "      <td>polo</td>\n",
       "      <td>150000</td>\n",
       "      <td>0</td>\n",
       "      <td>petrol</td>\n",
       "      <td>volkswagen</td>\n",
       "      <td>NaN</td>\n",
       "      <td>2016-04-01</td>\n",
       "      <td>0</td>\n",
       "      <td>38871</td>\n",
       "      <td>2016-04-01 12:46:46</td>\n",
       "    </tr>\n",
       "    <tr>\n",
       "      <td>21</td>\n",
       "      <td>2016-03-23 14:52:51</td>\n",
       "      <td>2900</td>\n",
       "      <td>NaN</td>\n",
       "      <td>2018</td>\n",
       "      <td>manual</td>\n",
       "      <td>90</td>\n",
       "      <td>meriva</td>\n",
       "      <td>150000</td>\n",
       "      <td>5</td>\n",
       "      <td>petrol</td>\n",
       "      <td>opel</td>\n",
       "      <td>no</td>\n",
       "      <td>2016-03-23</td>\n",
       "      <td>0</td>\n",
       "      <td>49716</td>\n",
       "      <td>2016-03-31 01:16:33</td>\n",
       "    </tr>\n",
       "    <tr>\n",
       "      <td>25</td>\n",
       "      <td>2016-03-10 19:38:18</td>\n",
       "      <td>5555</td>\n",
       "      <td>NaN</td>\n",
       "      <td>2017</td>\n",
       "      <td>manual</td>\n",
       "      <td>125</td>\n",
       "      <td>c4</td>\n",
       "      <td>125000</td>\n",
       "      <td>4</td>\n",
       "      <td>NaN</td>\n",
       "      <td>citroen</td>\n",
       "      <td>no</td>\n",
       "      <td>2016-03-10</td>\n",
       "      <td>0</td>\n",
       "      <td>31139</td>\n",
       "      <td>2016-03-16 09:16:46</td>\n",
       "    </tr>\n",
       "    <tr>\n",
       "      <td>30</td>\n",
       "      <td>2016-03-29 16:57:02</td>\n",
       "      <td>899</td>\n",
       "      <td>NaN</td>\n",
       "      <td>2016</td>\n",
       "      <td>manual</td>\n",
       "      <td>60</td>\n",
       "      <td>clio</td>\n",
       "      <td>150000</td>\n",
       "      <td>6</td>\n",
       "      <td>petrol</td>\n",
       "      <td>renault</td>\n",
       "      <td>NaN</td>\n",
       "      <td>2016-03-29</td>\n",
       "      <td>0</td>\n",
       "      <td>37075</td>\n",
       "      <td>2016-03-29 17:43:07</td>\n",
       "    </tr>\n",
       "    <tr>\n",
       "      <td>34</td>\n",
       "      <td>2016-03-08 07:54:46</td>\n",
       "      <td>350</td>\n",
       "      <td>NaN</td>\n",
       "      <td>2016</td>\n",
       "      <td>manual</td>\n",
       "      <td>75</td>\n",
       "      <td>golf</td>\n",
       "      <td>150000</td>\n",
       "      <td>4</td>\n",
       "      <td>petrol</td>\n",
       "      <td>volkswagen</td>\n",
       "      <td>no</td>\n",
       "      <td>2016-03-08</td>\n",
       "      <td>0</td>\n",
       "      <td>19386</td>\n",
       "      <td>2016-03-08 09:44:50</td>\n",
       "    </tr>\n",
       "    <tr>\n",
       "      <td>36</td>\n",
       "      <td>2016-03-28 17:50:15</td>\n",
       "      <td>1500</td>\n",
       "      <td>NaN</td>\n",
       "      <td>2016</td>\n",
       "      <td>NaN</td>\n",
       "      <td>0</td>\n",
       "      <td>kangoo</td>\n",
       "      <td>150000</td>\n",
       "      <td>1</td>\n",
       "      <td>gasoline</td>\n",
       "      <td>renault</td>\n",
       "      <td>no</td>\n",
       "      <td>2016-03-28</td>\n",
       "      <td>0</td>\n",
       "      <td>46483</td>\n",
       "      <td>2016-03-30 09:18:02</td>\n",
       "    </tr>\n",
       "    <tr>\n",
       "      <td>46</td>\n",
       "      <td>2016-03-25 14:40:12</td>\n",
       "      <td>7750</td>\n",
       "      <td>NaN</td>\n",
       "      <td>2017</td>\n",
       "      <td>manual</td>\n",
       "      <td>80</td>\n",
       "      <td>golf</td>\n",
       "      <td>100000</td>\n",
       "      <td>1</td>\n",
       "      <td>petrol</td>\n",
       "      <td>volkswagen</td>\n",
       "      <td>NaN</td>\n",
       "      <td>2016-03-25</td>\n",
       "      <td>0</td>\n",
       "      <td>48499</td>\n",
       "      <td>2016-03-31 21:47:44</td>\n",
       "    </tr>\n",
       "    <tr>\n",
       "      <td>49</td>\n",
       "      <td>2016-03-07 18:57:08</td>\n",
       "      <td>2000</td>\n",
       "      <td>NaN</td>\n",
       "      <td>2017</td>\n",
       "      <td>manual</td>\n",
       "      <td>90</td>\n",
       "      <td>punto</td>\n",
       "      <td>150000</td>\n",
       "      <td>11</td>\n",
       "      <td>gasoline</td>\n",
       "      <td>fiat</td>\n",
       "      <td>yes</td>\n",
       "      <td>2016-03-07</td>\n",
       "      <td>0</td>\n",
       "      <td>66115</td>\n",
       "      <td>2016-03-07 18:57:08</td>\n",
       "    </tr>\n",
       "    <tr>\n",
       "      <td>50</td>\n",
       "      <td>2016-04-04 10:57:36</td>\n",
       "      <td>1400</td>\n",
       "      <td>NaN</td>\n",
       "      <td>2016</td>\n",
       "      <td>manual</td>\n",
       "      <td>55</td>\n",
       "      <td>other</td>\n",
       "      <td>5000</td>\n",
       "      <td>1</td>\n",
       "      <td>NaN</td>\n",
       "      <td>hyundai</td>\n",
       "      <td>NaN</td>\n",
       "      <td>2016-04-04</td>\n",
       "      <td>0</td>\n",
       "      <td>34454</td>\n",
       "      <td>2016-04-06 12:45:43</td>\n",
       "    </tr>\n",
       "  </tbody>\n",
       "</table>\n",
       "</div>"
      ],
      "text/plain": [
       "           DateCrawled  Price VehicleType  RegistrationYear Gearbox  Power  \\\n",
       "0  2016-03-24 11:52:17    480         NaN              1993  manual      0   \n",
       "15 2016-04-01 12:46:46    300         NaN              2016     NaN     60   \n",
       "21 2016-03-23 14:52:51   2900         NaN              2018  manual     90   \n",
       "25 2016-03-10 19:38:18   5555         NaN              2017  manual    125   \n",
       "30 2016-03-29 16:57:02    899         NaN              2016  manual     60   \n",
       "34 2016-03-08 07:54:46    350         NaN              2016  manual     75   \n",
       "36 2016-03-28 17:50:15   1500         NaN              2016     NaN      0   \n",
       "46 2016-03-25 14:40:12   7750         NaN              2017  manual     80   \n",
       "49 2016-03-07 18:57:08   2000         NaN              2017  manual     90   \n",
       "50 2016-04-04 10:57:36   1400         NaN              2016  manual     55   \n",
       "\n",
       "     Model  Kilometer  RegistrationMonth  FuelType       Brand NotRepaired  \\\n",
       "0     golf     150000                  0    petrol  volkswagen         NaN   \n",
       "15    polo     150000                  0    petrol  volkswagen         NaN   \n",
       "21  meriva     150000                  5    petrol        opel          no   \n",
       "25      c4     125000                  4       NaN     citroen          no   \n",
       "30    clio     150000                  6    petrol     renault         NaN   \n",
       "34    golf     150000                  4    petrol  volkswagen          no   \n",
       "36  kangoo     150000                  1  gasoline     renault          no   \n",
       "46    golf     100000                  1    petrol  volkswagen         NaN   \n",
       "49   punto     150000                 11  gasoline        fiat         yes   \n",
       "50   other       5000                  1       NaN     hyundai         NaN   \n",
       "\n",
       "   DateCreated  NumberOfPictures  PostalCode            LastSeen  \n",
       "0   2016-03-24                 0       70435 2016-04-07 03:16:57  \n",
       "15  2016-04-01                 0       38871 2016-04-01 12:46:46  \n",
       "21  2016-03-23                 0       49716 2016-03-31 01:16:33  \n",
       "25  2016-03-10                 0       31139 2016-03-16 09:16:46  \n",
       "30  2016-03-29                 0       37075 2016-03-29 17:43:07  \n",
       "34  2016-03-08                 0       19386 2016-03-08 09:44:50  \n",
       "36  2016-03-28                 0       46483 2016-03-30 09:18:02  \n",
       "46  2016-03-25                 0       48499 2016-03-31 21:47:44  \n",
       "49  2016-03-07                 0       66115 2016-03-07 18:57:08  \n",
       "50  2016-04-04                 0       34454 2016-04-06 12:45:43  "
      ]
     },
     "execution_count": 7,
     "metadata": {},
     "output_type": "execute_result"
    }
   ],
   "source": [
    "#VehicleType\n",
    "df.query('VehicleType.isna()').head(10)"
   ]
  },
  {
   "cell_type": "markdown",
   "metadata": {},
   "source": [
    "Я не вижу каких либо закономерностей, между типом и другими признаками, зато вижу что есть много строк где 2 и более пропусков, я считаю что для более чистых данных следует избавиться от таких строк. У нас достаточно большая выборка чтобы мы могли себе позволить избавиться от части \"грязных\" данных."
   ]
  },
  {
   "cell_type": "code",
   "execution_count": 8,
   "metadata": {},
   "outputs": [
    {
     "name": "stdout",
     "output_type": "stream",
     "text": [
      "<class 'pandas.core.frame.DataFrame'>\n",
      "RangeIndex: 314464 entries, 0 to 314463\n",
      "Data columns (total 16 columns):\n",
      "DateCrawled          314464 non-null datetime64[ns]\n",
      "Price                314464 non-null int64\n",
      "VehicleType          309847 non-null object\n",
      "RegistrationYear     314464 non-null int64\n",
      "Gearbox              305193 non-null object\n",
      "Power                314464 non-null int64\n",
      "Model                302527 non-null object\n",
      "Kilometer            314464 non-null int64\n",
      "RegistrationMonth    314464 non-null int64\n",
      "FuelType             299957 non-null object\n",
      "Brand                314464 non-null object\n",
      "NotRepaired          266572 non-null object\n",
      "DateCreated          314464 non-null datetime64[ns]\n",
      "NumberOfPictures     314464 non-null int64\n",
      "PostalCode           314464 non-null int64\n",
      "LastSeen             314464 non-null datetime64[ns]\n",
      "dtypes: datetime64[ns](3), int64(7), object(6)\n",
      "memory usage: 38.4+ MB\n"
     ]
    }
   ],
   "source": [
    "df = df.drop(index = df.query('(VehicleType.isna() and Gearbox.isna()) or (VehicleType.isna() and Power == 0) or (VehicleType.isna() and RegistrationMonth == 0) or (VehicleType.isna() and FuelType.isna()) or (VehicleType.isna() and NotRepaired.isna()) or (VehicleType.isna() and Model.isna())').index).reset_index()\n",
    "df = df.drop(['index'], axis = 1)\n",
    "df.info()"
   ]
  },
  {
   "cell_type": "code",
   "execution_count": 9,
   "metadata": {},
   "outputs": [
    {
     "data": {
      "text/html": [
       "<div>\n",
       "<style scoped>\n",
       "    .dataframe tbody tr th:only-of-type {\n",
       "        vertical-align: middle;\n",
       "    }\n",
       "\n",
       "    .dataframe tbody tr th {\n",
       "        vertical-align: top;\n",
       "    }\n",
       "\n",
       "    .dataframe thead th {\n",
       "        text-align: right;\n",
       "    }\n",
       "</style>\n",
       "<table border=\"1\" class=\"dataframe\">\n",
       "  <thead>\n",
       "    <tr style=\"text-align: right;\">\n",
       "      <th></th>\n",
       "      <th>DateCrawled</th>\n",
       "      <th>Price</th>\n",
       "      <th>VehicleType</th>\n",
       "      <th>RegistrationYear</th>\n",
       "      <th>Gearbox</th>\n",
       "      <th>Power</th>\n",
       "      <th>Model</th>\n",
       "      <th>Kilometer</th>\n",
       "      <th>RegistrationMonth</th>\n",
       "      <th>FuelType</th>\n",
       "      <th>Brand</th>\n",
       "      <th>NotRepaired</th>\n",
       "      <th>DateCreated</th>\n",
       "      <th>NumberOfPictures</th>\n",
       "      <th>PostalCode</th>\n",
       "      <th>LastSeen</th>\n",
       "    </tr>\n",
       "  </thead>\n",
       "  <tbody>\n",
       "    <tr>\n",
       "      <td>13</td>\n",
       "      <td>2016-03-11 21:39:15</td>\n",
       "      <td>450</td>\n",
       "      <td>small</td>\n",
       "      <td>1910</td>\n",
       "      <td>NaN</td>\n",
       "      <td>0</td>\n",
       "      <td>ka</td>\n",
       "      <td>5000</td>\n",
       "      <td>0</td>\n",
       "      <td>petrol</td>\n",
       "      <td>ford</td>\n",
       "      <td>NaN</td>\n",
       "      <td>2016-03-11</td>\n",
       "      <td>0</td>\n",
       "      <td>24148</td>\n",
       "      <td>2016-03-19 08:46:47</td>\n",
       "    </tr>\n",
       "    <tr>\n",
       "      <td>27</td>\n",
       "      <td>2016-03-15 20:59:01</td>\n",
       "      <td>245</td>\n",
       "      <td>sedan</td>\n",
       "      <td>1994</td>\n",
       "      <td>NaN</td>\n",
       "      <td>0</td>\n",
       "      <td>golf</td>\n",
       "      <td>150000</td>\n",
       "      <td>2</td>\n",
       "      <td>petrol</td>\n",
       "      <td>volkswagen</td>\n",
       "      <td>no</td>\n",
       "      <td>2016-03-15</td>\n",
       "      <td>0</td>\n",
       "      <td>44145</td>\n",
       "      <td>2016-03-17 18:17:43</td>\n",
       "    </tr>\n",
       "    <tr>\n",
       "      <td>58</td>\n",
       "      <td>2016-04-01 11:56:40</td>\n",
       "      <td>1200</td>\n",
       "      <td>coupe</td>\n",
       "      <td>2001</td>\n",
       "      <td>NaN</td>\n",
       "      <td>0</td>\n",
       "      <td>astra</td>\n",
       "      <td>150000</td>\n",
       "      <td>0</td>\n",
       "      <td>NaN</td>\n",
       "      <td>opel</td>\n",
       "      <td>NaN</td>\n",
       "      <td>2016-04-01</td>\n",
       "      <td>0</td>\n",
       "      <td>47249</td>\n",
       "      <td>2016-04-07 08:46:07</td>\n",
       "    </tr>\n",
       "    <tr>\n",
       "      <td>94</td>\n",
       "      <td>2016-04-03 03:57:26</td>\n",
       "      <td>350</td>\n",
       "      <td>small</td>\n",
       "      <td>1998</td>\n",
       "      <td>NaN</td>\n",
       "      <td>0</td>\n",
       "      <td>corsa</td>\n",
       "      <td>150000</td>\n",
       "      <td>2</td>\n",
       "      <td>petrol</td>\n",
       "      <td>opel</td>\n",
       "      <td>NaN</td>\n",
       "      <td>2016-04-03</td>\n",
       "      <td>0</td>\n",
       "      <td>82110</td>\n",
       "      <td>2016-04-03 08:53:37</td>\n",
       "    </tr>\n",
       "    <tr>\n",
       "      <td>129</td>\n",
       "      <td>2016-03-27 20:47:22</td>\n",
       "      <td>6799</td>\n",
       "      <td>small</td>\n",
       "      <td>2009</td>\n",
       "      <td>NaN</td>\n",
       "      <td>60</td>\n",
       "      <td>NaN</td>\n",
       "      <td>20000</td>\n",
       "      <td>5</td>\n",
       "      <td>petrol</td>\n",
       "      <td>volkswagen</td>\n",
       "      <td>no</td>\n",
       "      <td>2016-03-27</td>\n",
       "      <td>0</td>\n",
       "      <td>89077</td>\n",
       "      <td>2016-03-27 20:47:22</td>\n",
       "    </tr>\n",
       "    <tr>\n",
       "      <td>137</td>\n",
       "      <td>2016-03-28 10:50:04</td>\n",
       "      <td>1495</td>\n",
       "      <td>wagon</td>\n",
       "      <td>2001</td>\n",
       "      <td>NaN</td>\n",
       "      <td>64</td>\n",
       "      <td>NaN</td>\n",
       "      <td>150000</td>\n",
       "      <td>9</td>\n",
       "      <td>gasoline</td>\n",
       "      <td>volkswagen</td>\n",
       "      <td>NaN</td>\n",
       "      <td>2016-03-28</td>\n",
       "      <td>0</td>\n",
       "      <td>99086</td>\n",
       "      <td>2016-04-04 11:45:46</td>\n",
       "    </tr>\n",
       "    <tr>\n",
       "      <td>160</td>\n",
       "      <td>2016-03-16 15:51:08</td>\n",
       "      <td>14000</td>\n",
       "      <td>sedan</td>\n",
       "      <td>2008</td>\n",
       "      <td>NaN</td>\n",
       "      <td>235</td>\n",
       "      <td>NaN</td>\n",
       "      <td>150000</td>\n",
       "      <td>0</td>\n",
       "      <td>NaN</td>\n",
       "      <td>bmw</td>\n",
       "      <td>no</td>\n",
       "      <td>2016-02-12</td>\n",
       "      <td>0</td>\n",
       "      <td>95131</td>\n",
       "      <td>2016-04-07 14:56:12</td>\n",
       "    </tr>\n",
       "    <tr>\n",
       "      <td>170</td>\n",
       "      <td>2016-03-08 09:56:53</td>\n",
       "      <td>3200</td>\n",
       "      <td>wagon</td>\n",
       "      <td>2006</td>\n",
       "      <td>NaN</td>\n",
       "      <td>0</td>\n",
       "      <td>a3</td>\n",
       "      <td>150000</td>\n",
       "      <td>11</td>\n",
       "      <td>gasoline</td>\n",
       "      <td>audi</td>\n",
       "      <td>no</td>\n",
       "      <td>2016-03-08</td>\n",
       "      <td>0</td>\n",
       "      <td>41748</td>\n",
       "      <td>2016-03-08 09:56:53</td>\n",
       "    </tr>\n",
       "    <tr>\n",
       "      <td>180</td>\n",
       "      <td>2016-03-13 00:56:50</td>\n",
       "      <td>2250</td>\n",
       "      <td>small</td>\n",
       "      <td>2001</td>\n",
       "      <td>NaN</td>\n",
       "      <td>41</td>\n",
       "      <td>fortwo</td>\n",
       "      <td>150000</td>\n",
       "      <td>10</td>\n",
       "      <td>gasoline</td>\n",
       "      <td>smart</td>\n",
       "      <td>no</td>\n",
       "      <td>2016-03-13</td>\n",
       "      <td>0</td>\n",
       "      <td>78224</td>\n",
       "      <td>2016-03-30 01:47:18</td>\n",
       "    </tr>\n",
       "    <tr>\n",
       "      <td>205</td>\n",
       "      <td>2016-03-26 10:48:12</td>\n",
       "      <td>130</td>\n",
       "      <td>wagon</td>\n",
       "      <td>1998</td>\n",
       "      <td>NaN</td>\n",
       "      <td>0</td>\n",
       "      <td>e_klasse</td>\n",
       "      <td>150000</td>\n",
       "      <td>0</td>\n",
       "      <td>NaN</td>\n",
       "      <td>mercedes_benz</td>\n",
       "      <td>NaN</td>\n",
       "      <td>2016-03-26</td>\n",
       "      <td>0</td>\n",
       "      <td>22047</td>\n",
       "      <td>2016-04-05 22:15:49</td>\n",
       "    </tr>\n",
       "  </tbody>\n",
       "</table>\n",
       "</div>"
      ],
      "text/plain": [
       "            DateCrawled  Price VehicleType  RegistrationYear Gearbox  Power  \\\n",
       "13  2016-03-11 21:39:15    450       small              1910     NaN      0   \n",
       "27  2016-03-15 20:59:01    245       sedan              1994     NaN      0   \n",
       "58  2016-04-01 11:56:40   1200       coupe              2001     NaN      0   \n",
       "94  2016-04-03 03:57:26    350       small              1998     NaN      0   \n",
       "129 2016-03-27 20:47:22   6799       small              2009     NaN     60   \n",
       "137 2016-03-28 10:50:04   1495       wagon              2001     NaN     64   \n",
       "160 2016-03-16 15:51:08  14000       sedan              2008     NaN    235   \n",
       "170 2016-03-08 09:56:53   3200       wagon              2006     NaN      0   \n",
       "180 2016-03-13 00:56:50   2250       small              2001     NaN     41   \n",
       "205 2016-03-26 10:48:12    130       wagon              1998     NaN      0   \n",
       "\n",
       "        Model  Kilometer  RegistrationMonth  FuelType          Brand  \\\n",
       "13         ka       5000                  0    petrol           ford   \n",
       "27       golf     150000                  2    petrol     volkswagen   \n",
       "58      astra     150000                  0       NaN           opel   \n",
       "94      corsa     150000                  2    petrol           opel   \n",
       "129       NaN      20000                  5    petrol     volkswagen   \n",
       "137       NaN     150000                  9  gasoline     volkswagen   \n",
       "160       NaN     150000                  0       NaN            bmw   \n",
       "170        a3     150000                 11  gasoline           audi   \n",
       "180    fortwo     150000                 10  gasoline          smart   \n",
       "205  e_klasse     150000                  0       NaN  mercedes_benz   \n",
       "\n",
       "    NotRepaired DateCreated  NumberOfPictures  PostalCode            LastSeen  \n",
       "13          NaN  2016-03-11                 0       24148 2016-03-19 08:46:47  \n",
       "27           no  2016-03-15                 0       44145 2016-03-17 18:17:43  \n",
       "58          NaN  2016-04-01                 0       47249 2016-04-07 08:46:07  \n",
       "94          NaN  2016-04-03                 0       82110 2016-04-03 08:53:37  \n",
       "129          no  2016-03-27                 0       89077 2016-03-27 20:47:22  \n",
       "137         NaN  2016-03-28                 0       99086 2016-04-04 11:45:46  \n",
       "160          no  2016-02-12                 0       95131 2016-04-07 14:56:12  \n",
       "170          no  2016-03-08                 0       41748 2016-03-08 09:56:53  \n",
       "180          no  2016-03-13                 0       78224 2016-03-30 01:47:18  \n",
       "205         NaN  2016-03-26                 0       22047 2016-04-05 22:15:49  "
      ]
     },
     "execution_count": 9,
     "metadata": {},
     "output_type": "execute_result"
    }
   ],
   "source": [
    "#Gearbox\n",
    "df.query('Gearbox.isna()').head(10)"
   ]
  },
  {
   "cell_type": "markdown",
   "metadata": {},
   "source": [
    "Мне кажется я просто продолжу чистить пропуски в такой же логике, поскольку каких то очевидных закономерностей здесь нет, если пропусков в строке более двух то удаляем строку."
   ]
  },
  {
   "cell_type": "code",
   "execution_count": 10,
   "metadata": {},
   "outputs": [
    {
     "name": "stdout",
     "output_type": "stream",
     "text": [
      "<class 'pandas.core.frame.DataFrame'>\n",
      "RangeIndex: 307263 entries, 0 to 307262\n",
      "Data columns (total 16 columns):\n",
      "DateCrawled          307263 non-null datetime64[ns]\n",
      "Price                307263 non-null int64\n",
      "VehicleType          302646 non-null object\n",
      "RegistrationYear     307263 non-null int64\n",
      "Gearbox              305193 non-null object\n",
      "Power                307263 non-null int64\n",
      "Model                296267 non-null object\n",
      "Kilometer            307263 non-null int64\n",
      "RegistrationMonth    307263 non-null int64\n",
      "FuelType             294649 non-null object\n",
      "Brand                307263 non-null object\n",
      "NotRepaired          263325 non-null object\n",
      "DateCreated          307263 non-null datetime64[ns]\n",
      "NumberOfPictures     307263 non-null int64\n",
      "PostalCode           307263 non-null int64\n",
      "LastSeen             307263 non-null datetime64[ns]\n",
      "dtypes: datetime64[ns](3), int64(7), object(6)\n",
      "memory usage: 37.5+ MB\n"
     ]
    }
   ],
   "source": [
    "df = df.drop(index = df.query('(Gearbox.isna() and Power == 0) or (Gearbox.isna() and RegistrationMonth == 0) or (Gearbox.isna() and FuelType.isna()) or (Gearbox.isna() and NotRepaired.isna()) or (Gearbox.isna() and Model.isna())').index).reset_index()\n",
    "df = df.drop(['index'], axis = 1)\n",
    "df.info()"
   ]
  },
  {
   "cell_type": "code",
   "execution_count": 11,
   "metadata": {},
   "outputs": [
    {
     "data": {
      "text/html": [
       "<div>\n",
       "<style scoped>\n",
       "    .dataframe tbody tr th:only-of-type {\n",
       "        vertical-align: middle;\n",
       "    }\n",
       "\n",
       "    .dataframe tbody tr th {\n",
       "        vertical-align: top;\n",
       "    }\n",
       "\n",
       "    .dataframe thead th {\n",
       "        text-align: right;\n",
       "    }\n",
       "</style>\n",
       "<table border=\"1\" class=\"dataframe\">\n",
       "  <thead>\n",
       "    <tr style=\"text-align: right;\">\n",
       "      <th></th>\n",
       "      <th>DateCrawled</th>\n",
       "      <th>Price</th>\n",
       "      <th>VehicleType</th>\n",
       "      <th>RegistrationYear</th>\n",
       "      <th>Gearbox</th>\n",
       "      <th>Power</th>\n",
       "      <th>Model</th>\n",
       "      <th>Kilometer</th>\n",
       "      <th>RegistrationMonth</th>\n",
       "      <th>FuelType</th>\n",
       "      <th>Brand</th>\n",
       "      <th>NotRepaired</th>\n",
       "      <th>DateCreated</th>\n",
       "      <th>NumberOfPictures</th>\n",
       "      <th>PostalCode</th>\n",
       "      <th>LastSeen</th>\n",
       "    </tr>\n",
       "  </thead>\n",
       "  <tbody>\n",
       "    <tr>\n",
       "      <td>43</td>\n",
       "      <td>2016-03-17 07:56:40</td>\n",
       "      <td>4700</td>\n",
       "      <td>wagon</td>\n",
       "      <td>2005</td>\n",
       "      <td>manual</td>\n",
       "      <td>0</td>\n",
       "      <td>signum</td>\n",
       "      <td>150000</td>\n",
       "      <td>0</td>\n",
       "      <td>NaN</td>\n",
       "      <td>opel</td>\n",
       "      <td>no</td>\n",
       "      <td>2016-03-17</td>\n",
       "      <td>0</td>\n",
       "      <td>88433</td>\n",
       "      <td>2016-04-04 04:17:32</td>\n",
       "    </tr>\n",
       "    <tr>\n",
       "      <td>44</td>\n",
       "      <td>2016-03-26 10:39:35</td>\n",
       "      <td>550</td>\n",
       "      <td>wagon</td>\n",
       "      <td>1999</td>\n",
       "      <td>manual</td>\n",
       "      <td>0</td>\n",
       "      <td>astra</td>\n",
       "      <td>150000</td>\n",
       "      <td>8</td>\n",
       "      <td>gasoline</td>\n",
       "      <td>opel</td>\n",
       "      <td>yes</td>\n",
       "      <td>2016-03-26</td>\n",
       "      <td>0</td>\n",
       "      <td>56759</td>\n",
       "      <td>2016-04-01 23:17:27</td>\n",
       "    </tr>\n",
       "    <tr>\n",
       "      <td>56</td>\n",
       "      <td>2016-03-08 01:36:42</td>\n",
       "      <td>800</td>\n",
       "      <td>small</td>\n",
       "      <td>1993</td>\n",
       "      <td>manual</td>\n",
       "      <td>0</td>\n",
       "      <td>polo</td>\n",
       "      <td>150000</td>\n",
       "      <td>3</td>\n",
       "      <td>petrol</td>\n",
       "      <td>volkswagen</td>\n",
       "      <td>no</td>\n",
       "      <td>2016-03-08</td>\n",
       "      <td>0</td>\n",
       "      <td>8258</td>\n",
       "      <td>2016-04-05 23:46:00</td>\n",
       "    </tr>\n",
       "    <tr>\n",
       "      <td>74</td>\n",
       "      <td>2016-03-23 11:53:21</td>\n",
       "      <td>2400</td>\n",
       "      <td>sedan</td>\n",
       "      <td>2003</td>\n",
       "      <td>manual</td>\n",
       "      <td>0</td>\n",
       "      <td>a4</td>\n",
       "      <td>150000</td>\n",
       "      <td>9</td>\n",
       "      <td>gasoline</td>\n",
       "      <td>audi</td>\n",
       "      <td>NaN</td>\n",
       "      <td>2016-03-23</td>\n",
       "      <td>0</td>\n",
       "      <td>40210</td>\n",
       "      <td>2016-03-23 11:53:21</td>\n",
       "    </tr>\n",
       "    <tr>\n",
       "      <td>80</td>\n",
       "      <td>2016-03-11 19:00:25</td>\n",
       "      <td>4290</td>\n",
       "      <td>bus</td>\n",
       "      <td>2008</td>\n",
       "      <td>manual</td>\n",
       "      <td>0</td>\n",
       "      <td>combo</td>\n",
       "      <td>150000</td>\n",
       "      <td>2</td>\n",
       "      <td>gasoline</td>\n",
       "      <td>opel</td>\n",
       "      <td>no</td>\n",
       "      <td>2016-03-11</td>\n",
       "      <td>0</td>\n",
       "      <td>23568</td>\n",
       "      <td>2016-04-05 22:45:32</td>\n",
       "    </tr>\n",
       "  </tbody>\n",
       "</table>\n",
       "</div>"
      ],
      "text/plain": [
       "           DateCrawled  Price VehicleType  RegistrationYear Gearbox  Power  \\\n",
       "43 2016-03-17 07:56:40   4700       wagon              2005  manual      0   \n",
       "44 2016-03-26 10:39:35    550       wagon              1999  manual      0   \n",
       "56 2016-03-08 01:36:42    800       small              1993  manual      0   \n",
       "74 2016-03-23 11:53:21   2400       sedan              2003  manual      0   \n",
       "80 2016-03-11 19:00:25   4290         bus              2008  manual      0   \n",
       "\n",
       "     Model  Kilometer  RegistrationMonth  FuelType       Brand NotRepaired  \\\n",
       "43  signum     150000                  0       NaN        opel          no   \n",
       "44   astra     150000                  8  gasoline        opel         yes   \n",
       "56    polo     150000                  3    petrol  volkswagen          no   \n",
       "74      a4     150000                  9  gasoline        audi         NaN   \n",
       "80   combo     150000                  2  gasoline        opel          no   \n",
       "\n",
       "   DateCreated  NumberOfPictures  PostalCode            LastSeen  \n",
       "43  2016-03-17                 0       88433 2016-04-04 04:17:32  \n",
       "44  2016-03-26                 0       56759 2016-04-01 23:17:27  \n",
       "56  2016-03-08                 0        8258 2016-04-05 23:46:00  \n",
       "74  2016-03-23                 0       40210 2016-03-23 11:53:21  \n",
       "80  2016-03-11                 0       23568 2016-04-05 22:45:32  "
      ]
     },
     "execution_count": 11,
     "metadata": {},
     "output_type": "execute_result"
    }
   ],
   "source": [
    "#Power\n",
    "df.query('Power == 0').head()"
   ]
  },
  {
   "cell_type": "markdown",
   "metadata": {},
   "source": [
    "Мощность также зависит от модификации которая нам не дана, поэтому точно заполнить ее по имеющимся признакам мы не сможем. Оставить пропущенные значения в этом столбце тоже нельзя, поскольку это важный технический параметр который имеет числовое выражение, кроме того мощность моделей имеет достаточно большой разброс, поэтому считаю что необходимо удалить все строки где не заполнен данный признак."
   ]
  },
  {
   "cell_type": "code",
   "execution_count": 12,
   "metadata": {
    "scrolled": true
   },
   "outputs": [
    {
     "name": "stdout",
     "output_type": "stream",
     "text": [
      "<class 'pandas.core.frame.DataFrame'>\n",
      "RangeIndex: 288383 entries, 0 to 288382\n",
      "Data columns (total 16 columns):\n",
      "DateCrawled          288383 non-null datetime64[ns]\n",
      "Price                288383 non-null int64\n",
      "VehicleType          283766 non-null object\n",
      "RegistrationYear     288383 non-null int64\n",
      "Gearbox              286313 non-null object\n",
      "Power                288383 non-null int64\n",
      "Model                279167 non-null object\n",
      "Kilometer            288383 non-null int64\n",
      "RegistrationMonth    288383 non-null int64\n",
      "FuelType             278120 non-null object\n",
      "Brand                288383 non-null object\n",
      "NotRepaired          252185 non-null object\n",
      "DateCreated          288383 non-null datetime64[ns]\n",
      "NumberOfPictures     288383 non-null int64\n",
      "PostalCode           288383 non-null int64\n",
      "LastSeen             288383 non-null datetime64[ns]\n",
      "dtypes: datetime64[ns](3), int64(7), object(6)\n",
      "memory usage: 35.2+ MB\n"
     ]
    }
   ],
   "source": [
    "df = df.drop(index = df.query('Power == 0').index).reset_index()\n",
    "df = df.drop(['index'], axis = 1)\n",
    "df.info()"
   ]
  },
  {
   "cell_type": "code",
   "execution_count": 13,
   "metadata": {},
   "outputs": [
    {
     "data": {
      "text/html": [
       "<div>\n",
       "<style scoped>\n",
       "    .dataframe tbody tr th:only-of-type {\n",
       "        vertical-align: middle;\n",
       "    }\n",
       "\n",
       "    .dataframe tbody tr th {\n",
       "        vertical-align: top;\n",
       "    }\n",
       "\n",
       "    .dataframe thead th {\n",
       "        text-align: right;\n",
       "    }\n",
       "</style>\n",
       "<table border=\"1\" class=\"dataframe\">\n",
       "  <thead>\n",
       "    <tr style=\"text-align: right;\">\n",
       "      <th></th>\n",
       "      <th>DateCrawled</th>\n",
       "      <th>Price</th>\n",
       "      <th>VehicleType</th>\n",
       "      <th>RegistrationYear</th>\n",
       "      <th>Gearbox</th>\n",
       "      <th>Power</th>\n",
       "      <th>Model</th>\n",
       "      <th>Kilometer</th>\n",
       "      <th>RegistrationMonth</th>\n",
       "      <th>FuelType</th>\n",
       "      <th>Brand</th>\n",
       "      <th>NotRepaired</th>\n",
       "      <th>DateCreated</th>\n",
       "      <th>NumberOfPictures</th>\n",
       "      <th>PostalCode</th>\n",
       "      <th>LastSeen</th>\n",
       "    </tr>\n",
       "  </thead>\n",
       "  <tbody>\n",
       "    <tr>\n",
       "      <td>0</td>\n",
       "      <td>2016-03-24 10:58:45</td>\n",
       "      <td>18300</td>\n",
       "      <td>coupe</td>\n",
       "      <td>2011</td>\n",
       "      <td>manual</td>\n",
       "      <td>190</td>\n",
       "      <td>NaN</td>\n",
       "      <td>125000</td>\n",
       "      <td>5</td>\n",
       "      <td>gasoline</td>\n",
       "      <td>audi</td>\n",
       "      <td>yes</td>\n",
       "      <td>2016-03-24</td>\n",
       "      <td>0</td>\n",
       "      <td>66954</td>\n",
       "      <td>2016-04-07 01:46:50</td>\n",
       "    </tr>\n",
       "    <tr>\n",
       "      <td>45</td>\n",
       "      <td>2016-03-29 15:48:15</td>\n",
       "      <td>1</td>\n",
       "      <td>suv</td>\n",
       "      <td>1994</td>\n",
       "      <td>manual</td>\n",
       "      <td>286</td>\n",
       "      <td>NaN</td>\n",
       "      <td>150000</td>\n",
       "      <td>11</td>\n",
       "      <td>NaN</td>\n",
       "      <td>sonstige_autos</td>\n",
       "      <td>NaN</td>\n",
       "      <td>2016-03-29</td>\n",
       "      <td>0</td>\n",
       "      <td>53721</td>\n",
       "      <td>2016-04-06 01:44:38</td>\n",
       "    </tr>\n",
       "    <tr>\n",
       "      <td>62</td>\n",
       "      <td>2016-04-03 12:56:45</td>\n",
       "      <td>350</td>\n",
       "      <td>small</td>\n",
       "      <td>1997</td>\n",
       "      <td>manual</td>\n",
       "      <td>54</td>\n",
       "      <td>NaN</td>\n",
       "      <td>150000</td>\n",
       "      <td>3</td>\n",
       "      <td>NaN</td>\n",
       "      <td>fiat</td>\n",
       "      <td>yes</td>\n",
       "      <td>2016-04-03</td>\n",
       "      <td>0</td>\n",
       "      <td>45665</td>\n",
       "      <td>2016-04-05 11:47:13</td>\n",
       "    </tr>\n",
       "    <tr>\n",
       "      <td>106</td>\n",
       "      <td>2016-03-27 20:51:23</td>\n",
       "      <td>1450</td>\n",
       "      <td>sedan</td>\n",
       "      <td>1992</td>\n",
       "      <td>manual</td>\n",
       "      <td>136</td>\n",
       "      <td>NaN</td>\n",
       "      <td>150000</td>\n",
       "      <td>0</td>\n",
       "      <td>NaN</td>\n",
       "      <td>audi</td>\n",
       "      <td>no</td>\n",
       "      <td>2016-03-27</td>\n",
       "      <td>0</td>\n",
       "      <td>38709</td>\n",
       "      <td>2016-04-05 20:17:31</td>\n",
       "    </tr>\n",
       "    <tr>\n",
       "      <td>149</td>\n",
       "      <td>2016-03-27 12:47:45</td>\n",
       "      <td>1200</td>\n",
       "      <td>coupe</td>\n",
       "      <td>1990</td>\n",
       "      <td>manual</td>\n",
       "      <td>45</td>\n",
       "      <td>NaN</td>\n",
       "      <td>150000</td>\n",
       "      <td>0</td>\n",
       "      <td>petrol</td>\n",
       "      <td>volkswagen</td>\n",
       "      <td>NaN</td>\n",
       "      <td>2016-03-27</td>\n",
       "      <td>0</td>\n",
       "      <td>83317</td>\n",
       "      <td>2016-04-07 08:17:08</td>\n",
       "    </tr>\n",
       "    <tr>\n",
       "      <td>216</td>\n",
       "      <td>2016-03-29 23:38:02</td>\n",
       "      <td>1500</td>\n",
       "      <td>coupe</td>\n",
       "      <td>1994</td>\n",
       "      <td>manual</td>\n",
       "      <td>116</td>\n",
       "      <td>NaN</td>\n",
       "      <td>150000</td>\n",
       "      <td>8</td>\n",
       "      <td>NaN</td>\n",
       "      <td>audi</td>\n",
       "      <td>no</td>\n",
       "      <td>2016-03-29</td>\n",
       "      <td>0</td>\n",
       "      <td>32791</td>\n",
       "      <td>2016-04-06 20:16:34</td>\n",
       "    </tr>\n",
       "    <tr>\n",
       "      <td>281</td>\n",
       "      <td>2016-03-08 08:57:34</td>\n",
       "      <td>5500</td>\n",
       "      <td>small</td>\n",
       "      <td>2012</td>\n",
       "      <td>manual</td>\n",
       "      <td>68</td>\n",
       "      <td>NaN</td>\n",
       "      <td>40000</td>\n",
       "      <td>12</td>\n",
       "      <td>NaN</td>\n",
       "      <td>peugeot</td>\n",
       "      <td>no</td>\n",
       "      <td>2016-03-08</td>\n",
       "      <td>0</td>\n",
       "      <td>24536</td>\n",
       "      <td>2016-03-21 21:44:28</td>\n",
       "    </tr>\n",
       "    <tr>\n",
       "      <td>329</td>\n",
       "      <td>2016-03-26 21:49:45</td>\n",
       "      <td>13950</td>\n",
       "      <td>other</td>\n",
       "      <td>2011</td>\n",
       "      <td>manual</td>\n",
       "      <td>140</td>\n",
       "      <td>NaN</td>\n",
       "      <td>60000</td>\n",
       "      <td>11</td>\n",
       "      <td>gasoline</td>\n",
       "      <td>alfa_romeo</td>\n",
       "      <td>no</td>\n",
       "      <td>2016-03-26</td>\n",
       "      <td>0</td>\n",
       "      <td>86830</td>\n",
       "      <td>2016-04-06 14:15:39</td>\n",
       "    </tr>\n",
       "    <tr>\n",
       "      <td>343</td>\n",
       "      <td>2016-03-20 20:45:27</td>\n",
       "      <td>3950</td>\n",
       "      <td>small</td>\n",
       "      <td>2004</td>\n",
       "      <td>auto</td>\n",
       "      <td>5</td>\n",
       "      <td>NaN</td>\n",
       "      <td>70000</td>\n",
       "      <td>5</td>\n",
       "      <td>gasoline</td>\n",
       "      <td>sonstige_autos</td>\n",
       "      <td>no</td>\n",
       "      <td>2016-03-20</td>\n",
       "      <td>0</td>\n",
       "      <td>90562</td>\n",
       "      <td>2016-04-03 04:17:08</td>\n",
       "    </tr>\n",
       "    <tr>\n",
       "      <td>347</td>\n",
       "      <td>2016-04-02 17:54:29</td>\n",
       "      <td>5800</td>\n",
       "      <td>bus</td>\n",
       "      <td>2007</td>\n",
       "      <td>manual</td>\n",
       "      <td>105</td>\n",
       "      <td>NaN</td>\n",
       "      <td>150000</td>\n",
       "      <td>11</td>\n",
       "      <td>gasoline</td>\n",
       "      <td>volkswagen</td>\n",
       "      <td>yes</td>\n",
       "      <td>2016-04-02</td>\n",
       "      <td>0</td>\n",
       "      <td>31319</td>\n",
       "      <td>2016-04-04 15:47:39</td>\n",
       "    </tr>\n",
       "  </tbody>\n",
       "</table>\n",
       "</div>"
      ],
      "text/plain": [
       "            DateCrawled  Price VehicleType  RegistrationYear Gearbox  Power  \\\n",
       "0   2016-03-24 10:58:45  18300       coupe              2011  manual    190   \n",
       "45  2016-03-29 15:48:15      1         suv              1994  manual    286   \n",
       "62  2016-04-03 12:56:45    350       small              1997  manual     54   \n",
       "106 2016-03-27 20:51:23   1450       sedan              1992  manual    136   \n",
       "149 2016-03-27 12:47:45   1200       coupe              1990  manual     45   \n",
       "216 2016-03-29 23:38:02   1500       coupe              1994  manual    116   \n",
       "281 2016-03-08 08:57:34   5500       small              2012  manual     68   \n",
       "329 2016-03-26 21:49:45  13950       other              2011  manual    140   \n",
       "343 2016-03-20 20:45:27   3950       small              2004    auto      5   \n",
       "347 2016-04-02 17:54:29   5800         bus              2007  manual    105   \n",
       "\n",
       "    Model  Kilometer  RegistrationMonth  FuelType           Brand NotRepaired  \\\n",
       "0     NaN     125000                  5  gasoline            audi         yes   \n",
       "45    NaN     150000                 11       NaN  sonstige_autos         NaN   \n",
       "62    NaN     150000                  3       NaN            fiat         yes   \n",
       "106   NaN     150000                  0       NaN            audi          no   \n",
       "149   NaN     150000                  0    petrol      volkswagen         NaN   \n",
       "216   NaN     150000                  8       NaN            audi          no   \n",
       "281   NaN      40000                 12       NaN         peugeot          no   \n",
       "329   NaN      60000                 11  gasoline      alfa_romeo          no   \n",
       "343   NaN      70000                  5  gasoline  sonstige_autos          no   \n",
       "347   NaN     150000                 11  gasoline      volkswagen         yes   \n",
       "\n",
       "    DateCreated  NumberOfPictures  PostalCode            LastSeen  \n",
       "0    2016-03-24                 0       66954 2016-04-07 01:46:50  \n",
       "45   2016-03-29                 0       53721 2016-04-06 01:44:38  \n",
       "62   2016-04-03                 0       45665 2016-04-05 11:47:13  \n",
       "106  2016-03-27                 0       38709 2016-04-05 20:17:31  \n",
       "149  2016-03-27                 0       83317 2016-04-07 08:17:08  \n",
       "216  2016-03-29                 0       32791 2016-04-06 20:16:34  \n",
       "281  2016-03-08                 0       24536 2016-03-21 21:44:28  \n",
       "329  2016-03-26                 0       86830 2016-04-06 14:15:39  \n",
       "343  2016-03-20                 0       90562 2016-04-03 04:17:08  \n",
       "347  2016-04-02                 0       31319 2016-04-04 15:47:39  "
      ]
     },
     "execution_count": 13,
     "metadata": {},
     "output_type": "execute_result"
    }
   ],
   "source": [
    "#model\n",
    "df.query('Model.isna()').head(10)"
   ]
  },
  {
   "cell_type": "code",
   "execution_count": 14,
   "metadata": {},
   "outputs": [
    {
     "name": "stdout",
     "output_type": "stream",
     "text": [
      "<class 'pandas.core.frame.DataFrame'>\n",
      "RangeIndex: 284098 entries, 0 to 284097\n",
      "Data columns (total 16 columns):\n",
      "DateCrawled          284098 non-null datetime64[ns]\n",
      "Price                284098 non-null int64\n",
      "VehicleType          279481 non-null object\n",
      "RegistrationYear     284098 non-null int64\n",
      "Gearbox              282028 non-null object\n",
      "Power                284098 non-null int64\n",
      "Model                279167 non-null object\n",
      "Kilometer            284098 non-null int64\n",
      "RegistrationMonth    284098 non-null int64\n",
      "FuelType             275468 non-null object\n",
      "Brand                284098 non-null object\n",
      "NotRepaired          250582 non-null object\n",
      "DateCreated          284098 non-null datetime64[ns]\n",
      "NumberOfPictures     284098 non-null int64\n",
      "PostalCode           284098 non-null int64\n",
      "LastSeen             284098 non-null datetime64[ns]\n",
      "dtypes: datetime64[ns](3), int64(7), object(6)\n",
      "memory usage: 34.7+ MB\n"
     ]
    }
   ],
   "source": [
    "df = df.drop(index = df.query('(Model.isna() and RegistrationMonth == 0) or (Model.isna() and FuelType.isna()) or (Model.isna() and NotRepaired.isna())').index).reset_index()\n",
    "df = df.drop(['index'], axis = 1)\n",
    "df.info()"
   ]
  },
  {
   "cell_type": "code",
   "execution_count": 15,
   "metadata": {},
   "outputs": [
    {
     "data": {
      "text/html": [
       "<div>\n",
       "<style scoped>\n",
       "    .dataframe tbody tr th:only-of-type {\n",
       "        vertical-align: middle;\n",
       "    }\n",
       "\n",
       "    .dataframe tbody tr th {\n",
       "        vertical-align: top;\n",
       "    }\n",
       "\n",
       "    .dataframe thead th {\n",
       "        text-align: right;\n",
       "    }\n",
       "</style>\n",
       "<table border=\"1\" class=\"dataframe\">\n",
       "  <thead>\n",
       "    <tr style=\"text-align: right;\">\n",
       "      <th></th>\n",
       "      <th>DateCrawled</th>\n",
       "      <th>Price</th>\n",
       "      <th>VehicleType</th>\n",
       "      <th>RegistrationYear</th>\n",
       "      <th>Gearbox</th>\n",
       "      <th>Power</th>\n",
       "      <th>Model</th>\n",
       "      <th>Kilometer</th>\n",
       "      <th>RegistrationMonth</th>\n",
       "      <th>FuelType</th>\n",
       "      <th>Brand</th>\n",
       "      <th>NotRepaired</th>\n",
       "      <th>DateCreated</th>\n",
       "      <th>NumberOfPictures</th>\n",
       "      <th>PostalCode</th>\n",
       "      <th>LastSeen</th>\n",
       "    </tr>\n",
       "  </thead>\n",
       "  <tbody>\n",
       "    <tr>\n",
       "      <td>7</td>\n",
       "      <td>2016-03-17 10:53:50</td>\n",
       "      <td>999</td>\n",
       "      <td>small</td>\n",
       "      <td>1998</td>\n",
       "      <td>manual</td>\n",
       "      <td>101</td>\n",
       "      <td>golf</td>\n",
       "      <td>150000</td>\n",
       "      <td>0</td>\n",
       "      <td>NaN</td>\n",
       "      <td>volkswagen</td>\n",
       "      <td>NaN</td>\n",
       "      <td>2016-03-17</td>\n",
       "      <td>0</td>\n",
       "      <td>27472</td>\n",
       "      <td>2016-03-31 17:17:06</td>\n",
       "    </tr>\n",
       "    <tr>\n",
       "      <td>29</td>\n",
       "      <td>2016-03-11 11:50:37</td>\n",
       "      <td>1600</td>\n",
       "      <td>other</td>\n",
       "      <td>1991</td>\n",
       "      <td>manual</td>\n",
       "      <td>75</td>\n",
       "      <td>kadett</td>\n",
       "      <td>70000</td>\n",
       "      <td>0</td>\n",
       "      <td>NaN</td>\n",
       "      <td>opel</td>\n",
       "      <td>NaN</td>\n",
       "      <td>2016-03-11</td>\n",
       "      <td>0</td>\n",
       "      <td>2943</td>\n",
       "      <td>2016-04-07 03:46:09</td>\n",
       "    </tr>\n",
       "    <tr>\n",
       "      <td>60</td>\n",
       "      <td>2016-04-01 22:39:35</td>\n",
       "      <td>250</td>\n",
       "      <td>wagon</td>\n",
       "      <td>2000</td>\n",
       "      <td>manual</td>\n",
       "      <td>155</td>\n",
       "      <td>156</td>\n",
       "      <td>150000</td>\n",
       "      <td>0</td>\n",
       "      <td>petrol</td>\n",
       "      <td>alfa_romeo</td>\n",
       "      <td>yes</td>\n",
       "      <td>2016-04-01</td>\n",
       "      <td>0</td>\n",
       "      <td>8396</td>\n",
       "      <td>2016-04-05 20:18:14</td>\n",
       "    </tr>\n",
       "    <tr>\n",
       "      <td>79</td>\n",
       "      <td>2016-03-20 12:59:39</td>\n",
       "      <td>300</td>\n",
       "      <td>convertible</td>\n",
       "      <td>1992</td>\n",
       "      <td>manual</td>\n",
       "      <td>105</td>\n",
       "      <td>escort</td>\n",
       "      <td>150000</td>\n",
       "      <td>0</td>\n",
       "      <td>NaN</td>\n",
       "      <td>ford</td>\n",
       "      <td>yes</td>\n",
       "      <td>2016-03-20</td>\n",
       "      <td>0</td>\n",
       "      <td>88515</td>\n",
       "      <td>2016-04-06 13:15:58</td>\n",
       "    </tr>\n",
       "    <tr>\n",
       "      <td>99</td>\n",
       "      <td>2016-03-26 19:37:55</td>\n",
       "      <td>300</td>\n",
       "      <td>small</td>\n",
       "      <td>2000</td>\n",
       "      <td>manual</td>\n",
       "      <td>54</td>\n",
       "      <td>corsa</td>\n",
       "      <td>150000</td>\n",
       "      <td>0</td>\n",
       "      <td>petrol</td>\n",
       "      <td>opel</td>\n",
       "      <td>NaN</td>\n",
       "      <td>2016-03-26</td>\n",
       "      <td>0</td>\n",
       "      <td>59379</td>\n",
       "      <td>2016-04-06 09:15:51</td>\n",
       "    </tr>\n",
       "  </tbody>\n",
       "</table>\n",
       "</div>"
      ],
      "text/plain": [
       "           DateCrawled  Price  VehicleType  RegistrationYear Gearbox  Power  \\\n",
       "7  2016-03-17 10:53:50    999        small              1998  manual    101   \n",
       "29 2016-03-11 11:50:37   1600        other              1991  manual     75   \n",
       "60 2016-04-01 22:39:35    250        wagon              2000  manual    155   \n",
       "79 2016-03-20 12:59:39    300  convertible              1992  manual    105   \n",
       "99 2016-03-26 19:37:55    300        small              2000  manual     54   \n",
       "\n",
       "     Model  Kilometer  RegistrationMonth FuelType       Brand NotRepaired  \\\n",
       "7     golf     150000                  0      NaN  volkswagen         NaN   \n",
       "29  kadett      70000                  0      NaN        opel         NaN   \n",
       "60     156     150000                  0   petrol  alfa_romeo         yes   \n",
       "79  escort     150000                  0      NaN        ford         yes   \n",
       "99   corsa     150000                  0   petrol        opel         NaN   \n",
       "\n",
       "   DateCreated  NumberOfPictures  PostalCode            LastSeen  \n",
       "7   2016-03-17                 0       27472 2016-03-31 17:17:06  \n",
       "29  2016-03-11                 0        2943 2016-04-07 03:46:09  \n",
       "60  2016-04-01                 0        8396 2016-04-05 20:18:14  \n",
       "79  2016-03-20                 0       88515 2016-04-06 13:15:58  \n",
       "99  2016-03-26                 0       59379 2016-04-06 09:15:51  "
      ]
     },
     "execution_count": 15,
     "metadata": {},
     "output_type": "execute_result"
    }
   ],
   "source": [
    "#RegistrationMonth\n",
    "df.query('RegistrationMonth == 0').head()"
   ]
  },
  {
   "cell_type": "code",
   "execution_count": 16,
   "metadata": {},
   "outputs": [
    {
     "name": "stdout",
     "output_type": "stream",
     "text": [
      "<class 'pandas.core.frame.DataFrame'>\n",
      "RangeIndex: 277411 entries, 0 to 277410\n",
      "Data columns (total 16 columns):\n",
      "DateCrawled          277411 non-null datetime64[ns]\n",
      "Price                277411 non-null int64\n",
      "VehicleType          272794 non-null object\n",
      "RegistrationYear     277411 non-null int64\n",
      "Gearbox              275341 non-null object\n",
      "Power                277411 non-null int64\n",
      "Model                272480 non-null object\n",
      "Kilometer            277411 non-null int64\n",
      "RegistrationMonth    277411 non-null int64\n",
      "FuelType             271034 non-null object\n",
      "Brand                277411 non-null object\n",
      "NotRepaired          249385 non-null object\n",
      "DateCreated          277411 non-null datetime64[ns]\n",
      "NumberOfPictures     277411 non-null int64\n",
      "PostalCode           277411 non-null int64\n",
      "LastSeen             277411 non-null datetime64[ns]\n",
      "dtypes: datetime64[ns](3), int64(7), object(6)\n",
      "memory usage: 33.9+ MB\n"
     ]
    }
   ],
   "source": [
    "df = df.drop(index = df.query('(RegistrationMonth == 0 and FuelType.isna()) or (RegistrationMonth == 0 and NotRepaired.isna())').index).reset_index()\n",
    "df = df.drop(['index'], axis = 1)\n",
    "df.info()"
   ]
  },
  {
   "cell_type": "code",
   "execution_count": 17,
   "metadata": {},
   "outputs": [
    {
     "data": {
      "text/html": [
       "<div>\n",
       "<style scoped>\n",
       "    .dataframe tbody tr th:only-of-type {\n",
       "        vertical-align: middle;\n",
       "    }\n",
       "\n",
       "    .dataframe tbody tr th {\n",
       "        vertical-align: top;\n",
       "    }\n",
       "\n",
       "    .dataframe thead th {\n",
       "        text-align: right;\n",
       "    }\n",
       "</style>\n",
       "<table border=\"1\" class=\"dataframe\">\n",
       "  <thead>\n",
       "    <tr style=\"text-align: right;\">\n",
       "      <th></th>\n",
       "      <th>DateCrawled</th>\n",
       "      <th>Price</th>\n",
       "      <th>VehicleType</th>\n",
       "      <th>RegistrationYear</th>\n",
       "      <th>Gearbox</th>\n",
       "      <th>Power</th>\n",
       "      <th>Model</th>\n",
       "      <th>Kilometer</th>\n",
       "      <th>RegistrationMonth</th>\n",
       "      <th>FuelType</th>\n",
       "      <th>Brand</th>\n",
       "      <th>NotRepaired</th>\n",
       "      <th>DateCreated</th>\n",
       "      <th>NumberOfPictures</th>\n",
       "      <th>PostalCode</th>\n",
       "      <th>LastSeen</th>\n",
       "    </tr>\n",
       "  </thead>\n",
       "  <tbody>\n",
       "    <tr>\n",
       "      <td>10</td>\n",
       "      <td>2016-03-21 21:37:40</td>\n",
       "      <td>2500</td>\n",
       "      <td>wagon</td>\n",
       "      <td>2004</td>\n",
       "      <td>manual</td>\n",
       "      <td>131</td>\n",
       "      <td>passat</td>\n",
       "      <td>150000</td>\n",
       "      <td>2</td>\n",
       "      <td>NaN</td>\n",
       "      <td>volkswagen</td>\n",
       "      <td>no</td>\n",
       "      <td>2016-03-21</td>\n",
       "      <td>0</td>\n",
       "      <td>90762</td>\n",
       "      <td>2016-03-23 02:50:54</td>\n",
       "    </tr>\n",
       "    <tr>\n",
       "      <td>30</td>\n",
       "      <td>2016-03-30 20:38:20</td>\n",
       "      <td>7500</td>\n",
       "      <td>sedan</td>\n",
       "      <td>2002</td>\n",
       "      <td>auto</td>\n",
       "      <td>306</td>\n",
       "      <td>e_klasse</td>\n",
       "      <td>150000</td>\n",
       "      <td>4</td>\n",
       "      <td>NaN</td>\n",
       "      <td>mercedes_benz</td>\n",
       "      <td>NaN</td>\n",
       "      <td>2016-03-30</td>\n",
       "      <td>0</td>\n",
       "      <td>33649</td>\n",
       "      <td>2016-04-03 11:44:49</td>\n",
       "    </tr>\n",
       "    <tr>\n",
       "      <td>70</td>\n",
       "      <td>2016-03-26 15:38:12</td>\n",
       "      <td>6450</td>\n",
       "      <td>bus</td>\n",
       "      <td>2008</td>\n",
       "      <td>manual</td>\n",
       "      <td>84</td>\n",
       "      <td>transporter</td>\n",
       "      <td>150000</td>\n",
       "      <td>12</td>\n",
       "      <td>NaN</td>\n",
       "      <td>volkswagen</td>\n",
       "      <td>no</td>\n",
       "      <td>2016-03-26</td>\n",
       "      <td>0</td>\n",
       "      <td>44623</td>\n",
       "      <td>2016-04-06 03:17:37</td>\n",
       "    </tr>\n",
       "    <tr>\n",
       "      <td>87</td>\n",
       "      <td>2016-03-23 12:54:52</td>\n",
       "      <td>400</td>\n",
       "      <td>sedan</td>\n",
       "      <td>2000</td>\n",
       "      <td>manual</td>\n",
       "      <td>144</td>\n",
       "      <td>omega</td>\n",
       "      <td>150000</td>\n",
       "      <td>10</td>\n",
       "      <td>NaN</td>\n",
       "      <td>opel</td>\n",
       "      <td>yes</td>\n",
       "      <td>2016-03-23</td>\n",
       "      <td>0</td>\n",
       "      <td>45968</td>\n",
       "      <td>2016-04-05 12:45:13</td>\n",
       "    </tr>\n",
       "    <tr>\n",
       "      <td>116</td>\n",
       "      <td>2016-03-08 19:58:07</td>\n",
       "      <td>1499</td>\n",
       "      <td>small</td>\n",
       "      <td>2002</td>\n",
       "      <td>manual</td>\n",
       "      <td>140</td>\n",
       "      <td>a_klasse</td>\n",
       "      <td>150000</td>\n",
       "      <td>10</td>\n",
       "      <td>NaN</td>\n",
       "      <td>mercedes_benz</td>\n",
       "      <td>no</td>\n",
       "      <td>2016-03-08</td>\n",
       "      <td>0</td>\n",
       "      <td>16727</td>\n",
       "      <td>2016-03-10 17:44:36</td>\n",
       "    </tr>\n",
       "  </tbody>\n",
       "</table>\n",
       "</div>"
      ],
      "text/plain": [
       "            DateCrawled  Price VehicleType  RegistrationYear Gearbox  Power  \\\n",
       "10  2016-03-21 21:37:40   2500       wagon              2004  manual    131   \n",
       "30  2016-03-30 20:38:20   7500       sedan              2002    auto    306   \n",
       "70  2016-03-26 15:38:12   6450         bus              2008  manual     84   \n",
       "87  2016-03-23 12:54:52    400       sedan              2000  manual    144   \n",
       "116 2016-03-08 19:58:07   1499       small              2002  manual    140   \n",
       "\n",
       "           Model  Kilometer  RegistrationMonth FuelType          Brand  \\\n",
       "10        passat     150000                  2      NaN     volkswagen   \n",
       "30      e_klasse     150000                  4      NaN  mercedes_benz   \n",
       "70   transporter     150000                 12      NaN     volkswagen   \n",
       "87         omega     150000                 10      NaN           opel   \n",
       "116     a_klasse     150000                 10      NaN  mercedes_benz   \n",
       "\n",
       "    NotRepaired DateCreated  NumberOfPictures  PostalCode            LastSeen  \n",
       "10           no  2016-03-21                 0       90762 2016-03-23 02:50:54  \n",
       "30          NaN  2016-03-30                 0       33649 2016-04-03 11:44:49  \n",
       "70           no  2016-03-26                 0       44623 2016-04-06 03:17:37  \n",
       "87          yes  2016-03-23                 0       45968 2016-04-05 12:45:13  \n",
       "116          no  2016-03-08                 0       16727 2016-03-10 17:44:36  "
      ]
     },
     "execution_count": 17,
     "metadata": {},
     "output_type": "execute_result"
    }
   ],
   "source": [
    "#FuelType\n",
    "df.query('FuelType.isna()').head()"
   ]
  },
  {
   "cell_type": "code",
   "execution_count": 18,
   "metadata": {},
   "outputs": [
    {
     "name": "stdout",
     "output_type": "stream",
     "text": [
      "<class 'pandas.core.frame.DataFrame'>\n",
      "RangeIndex: 275526 entries, 0 to 275525\n",
      "Data columns (total 16 columns):\n",
      "DateCrawled          275526 non-null datetime64[ns]\n",
      "Price                275526 non-null int64\n",
      "VehicleType          270909 non-null object\n",
      "RegistrationYear     275526 non-null int64\n",
      "Gearbox              273456 non-null object\n",
      "Power                275526 non-null int64\n",
      "Model                270595 non-null object\n",
      "Kilometer            275526 non-null int64\n",
      "RegistrationMonth    275526 non-null int64\n",
      "FuelType             271034 non-null object\n",
      "Brand                275526 non-null object\n",
      "NotRepaired          249385 non-null object\n",
      "DateCreated          275526 non-null datetime64[ns]\n",
      "NumberOfPictures     275526 non-null int64\n",
      "PostalCode           275526 non-null int64\n",
      "LastSeen             275526 non-null datetime64[ns]\n",
      "dtypes: datetime64[ns](3), int64(7), object(6)\n",
      "memory usage: 33.6+ MB\n"
     ]
    }
   ],
   "source": [
    "df = df.drop(index = df.query('(FuelType.isna() and NotRepaired.isna())').index).reset_index()\n",
    "df = df.drop(['index'], axis = 1)\n",
    "df.info()"
   ]
  },
  {
   "cell_type": "code",
   "execution_count": 19,
   "metadata": {},
   "outputs": [
    {
     "data": {
      "text/html": [
       "<div>\n",
       "<style scoped>\n",
       "    .dataframe tbody tr th:only-of-type {\n",
       "        vertical-align: middle;\n",
       "    }\n",
       "\n",
       "    .dataframe tbody tr th {\n",
       "        vertical-align: top;\n",
       "    }\n",
       "\n",
       "    .dataframe thead th {\n",
       "        text-align: right;\n",
       "    }\n",
       "</style>\n",
       "<table border=\"1\" class=\"dataframe\">\n",
       "  <thead>\n",
       "    <tr style=\"text-align: right;\">\n",
       "      <th></th>\n",
       "      <th>DateCrawled</th>\n",
       "      <th>Price</th>\n",
       "      <th>VehicleType</th>\n",
       "      <th>RegistrationYear</th>\n",
       "      <th>Gearbox</th>\n",
       "      <th>Power</th>\n",
       "      <th>Model</th>\n",
       "      <th>Kilometer</th>\n",
       "      <th>RegistrationMonth</th>\n",
       "      <th>FuelType</th>\n",
       "      <th>Brand</th>\n",
       "      <th>NotRepaired</th>\n",
       "      <th>DateCreated</th>\n",
       "      <th>NumberOfPictures</th>\n",
       "      <th>PostalCode</th>\n",
       "      <th>LastSeen</th>\n",
       "    </tr>\n",
       "  </thead>\n",
       "  <tbody>\n",
       "    <tr>\n",
       "      <td>1</td>\n",
       "      <td>2016-03-14 12:52:21</td>\n",
       "      <td>9800</td>\n",
       "      <td>suv</td>\n",
       "      <td>2004</td>\n",
       "      <td>auto</td>\n",
       "      <td>163</td>\n",
       "      <td>grand</td>\n",
       "      <td>125000</td>\n",
       "      <td>8</td>\n",
       "      <td>gasoline</td>\n",
       "      <td>jeep</td>\n",
       "      <td>NaN</td>\n",
       "      <td>2016-03-14</td>\n",
       "      <td>0</td>\n",
       "      <td>90480</td>\n",
       "      <td>2016-04-05 12:47:46</td>\n",
       "    </tr>\n",
       "    <tr>\n",
       "      <td>6</td>\n",
       "      <td>2016-04-04 23:42:13</td>\n",
       "      <td>14500</td>\n",
       "      <td>bus</td>\n",
       "      <td>2014</td>\n",
       "      <td>manual</td>\n",
       "      <td>125</td>\n",
       "      <td>c_max</td>\n",
       "      <td>30000</td>\n",
       "      <td>8</td>\n",
       "      <td>petrol</td>\n",
       "      <td>ford</td>\n",
       "      <td>NaN</td>\n",
       "      <td>2016-04-04</td>\n",
       "      <td>0</td>\n",
       "      <td>94505</td>\n",
       "      <td>2016-04-04 23:42:13</td>\n",
       "    </tr>\n",
       "    <tr>\n",
       "      <td>9</td>\n",
       "      <td>2016-03-15 22:49:09</td>\n",
       "      <td>999</td>\n",
       "      <td>wagon</td>\n",
       "      <td>1995</td>\n",
       "      <td>manual</td>\n",
       "      <td>115</td>\n",
       "      <td>passat</td>\n",
       "      <td>150000</td>\n",
       "      <td>11</td>\n",
       "      <td>petrol</td>\n",
       "      <td>volkswagen</td>\n",
       "      <td>NaN</td>\n",
       "      <td>2016-03-15</td>\n",
       "      <td>0</td>\n",
       "      <td>37269</td>\n",
       "      <td>2016-04-01 13:16:16</td>\n",
       "    </tr>\n",
       "    <tr>\n",
       "      <td>30</td>\n",
       "      <td>2016-03-24 00:52:09</td>\n",
       "      <td>12500</td>\n",
       "      <td>sedan</td>\n",
       "      <td>2006</td>\n",
       "      <td>auto</td>\n",
       "      <td>231</td>\n",
       "      <td>5er</td>\n",
       "      <td>150000</td>\n",
       "      <td>11</td>\n",
       "      <td>gasoline</td>\n",
       "      <td>bmw</td>\n",
       "      <td>NaN</td>\n",
       "      <td>2016-03-23</td>\n",
       "      <td>0</td>\n",
       "      <td>46119</td>\n",
       "      <td>2016-04-04 16:18:19</td>\n",
       "    </tr>\n",
       "    <tr>\n",
       "      <td>32</td>\n",
       "      <td>2016-03-17 12:44:43</td>\n",
       "      <td>3900</td>\n",
       "      <td>small</td>\n",
       "      <td>2008</td>\n",
       "      <td>auto</td>\n",
       "      <td>61</td>\n",
       "      <td>fortwo</td>\n",
       "      <td>80000</td>\n",
       "      <td>6</td>\n",
       "      <td>petrol</td>\n",
       "      <td>smart</td>\n",
       "      <td>NaN</td>\n",
       "      <td>2016-03-17</td>\n",
       "      <td>0</td>\n",
       "      <td>21073</td>\n",
       "      <td>2016-03-19 11:46:17</td>\n",
       "    </tr>\n",
       "  </tbody>\n",
       "</table>\n",
       "</div>"
      ],
      "text/plain": [
       "           DateCrawled  Price VehicleType  RegistrationYear Gearbox  Power  \\\n",
       "1  2016-03-14 12:52:21   9800         suv              2004    auto    163   \n",
       "6  2016-04-04 23:42:13  14500         bus              2014  manual    125   \n",
       "9  2016-03-15 22:49:09    999       wagon              1995  manual    115   \n",
       "30 2016-03-24 00:52:09  12500       sedan              2006    auto    231   \n",
       "32 2016-03-17 12:44:43   3900       small              2008    auto     61   \n",
       "\n",
       "     Model  Kilometer  RegistrationMonth  FuelType       Brand NotRepaired  \\\n",
       "1    grand     125000                  8  gasoline        jeep         NaN   \n",
       "6    c_max      30000                  8    petrol        ford         NaN   \n",
       "9   passat     150000                 11    petrol  volkswagen         NaN   \n",
       "30     5er     150000                 11  gasoline         bmw         NaN   \n",
       "32  fortwo      80000                  6    petrol       smart         NaN   \n",
       "\n",
       "   DateCreated  NumberOfPictures  PostalCode            LastSeen  \n",
       "1   2016-03-14                 0       90480 2016-04-05 12:47:46  \n",
       "6   2016-04-04                 0       94505 2016-04-04 23:42:13  \n",
       "9   2016-03-15                 0       37269 2016-04-01 13:16:16  \n",
       "30  2016-03-23                 0       46119 2016-04-04 16:18:19  \n",
       "32  2016-03-17                 0       21073 2016-03-19 11:46:17  "
      ]
     },
     "execution_count": 19,
     "metadata": {},
     "output_type": "execute_result"
    }
   ],
   "source": [
    "df.query('NotRepaired.isna()').head()"
   ]
  },
  {
   "cell_type": "code",
   "execution_count": 20,
   "metadata": {},
   "outputs": [
    {
     "data": {
      "text/plain": [
       "<matplotlib.axes._subplots.AxesSubplot at 0x7f8658719850>"
      ]
     },
     "execution_count": 20,
     "metadata": {},
     "output_type": "execute_result"
    },
    {
     "data": {
      "image/png": "[encoded data removed]",
      "text/plain": [
       "<Figure size 432x288 with 1 Axes>"
      ]
     },
     "metadata": {
      "needs_background": "light"
     },
     "output_type": "display_data"
    }
   ],
   "source": [
    "df.query('NotRepaired.isna()')['Price'].hist()"
   ]
  },
  {
   "cell_type": "code",
   "execution_count": 21,
   "metadata": {},
   "outputs": [
    {
     "data": {
      "text/plain": [
       "<matplotlib.axes._subplots.AxesSubplot at 0x7f85c8224990>"
      ]
     },
     "execution_count": 21,
     "metadata": {},
     "output_type": "execute_result"
    },
    {
     "data": {
      "image/png": "[encoded data removed]",
      "text/plain": [
       "<Figure size 432x288 with 1 Axes>"
      ]
     },
     "metadata": {
      "needs_background": "light"
     },
     "output_type": "display_data"
    }
   ],
   "source": [
    "df.query('NotRepaired == \"yes\"')['Price'].hist()"
   ]
  },
  {
   "cell_type": "code",
   "execution_count": 22,
   "metadata": {},
   "outputs": [
    {
     "data": {
      "text/plain": [
       "<matplotlib.axes._subplots.AxesSubplot at 0x7f85c81cb210>"
      ]
     },
     "execution_count": 22,
     "metadata": {},
     "output_type": "execute_result"
    },
    {
     "data": {
      "image/png": "[encoded data removed]",
      "text/plain": [
       "<Figure size 432x288 with 1 Axes>"
      ]
     },
     "metadata": {
      "needs_background": "light"
     },
     "output_type": "display_data"
    }
   ],
   "source": [
    "df.query('NotRepaired == \"no\"')['Price'].hist()"
   ]
  },
  {
   "cell_type": "markdown",
   "metadata": {},
   "source": [
    "Строки с пропущенными значениями имеют цены выше чем ремонтированные машины и ниже чем не ремонтированные, поэтому утверждать что все машины с пропущенными значениями были в ремонте нельзя, а значит просто оставляем пропуски.\n",
    "\n",
    "Теперь переходим к поиску аномальных значений."
   ]
  },
  {
   "cell_type": "code",
   "execution_count": 23,
   "metadata": {},
   "outputs": [
    {
     "data": {
      "text/html": [
       "<div>\n",
       "<style scoped>\n",
       "    .dataframe tbody tr th:only-of-type {\n",
       "        vertical-align: middle;\n",
       "    }\n",
       "\n",
       "    .dataframe tbody tr th {\n",
       "        vertical-align: top;\n",
       "    }\n",
       "\n",
       "    .dataframe thead th {\n",
       "        text-align: right;\n",
       "    }\n",
       "</style>\n",
       "<table border=\"1\" class=\"dataframe\">\n",
       "  <thead>\n",
       "    <tr style=\"text-align: right;\">\n",
       "      <th></th>\n",
       "      <th>Price</th>\n",
       "      <th>RegistrationYear</th>\n",
       "      <th>Power</th>\n",
       "      <th>Kilometer</th>\n",
       "      <th>RegistrationMonth</th>\n",
       "      <th>NumberOfPictures</th>\n",
       "      <th>PostalCode</th>\n",
       "    </tr>\n",
       "  </thead>\n",
       "  <tbody>\n",
       "    <tr>\n",
       "      <td>count</td>\n",
       "      <td>275526.000000</td>\n",
       "      <td>275526.000000</td>\n",
       "      <td>275526.000000</td>\n",
       "      <td>275526.000000</td>\n",
       "      <td>275526.000000</td>\n",
       "      <td>275526.0</td>\n",
       "      <td>275526.000000</td>\n",
       "    </tr>\n",
       "    <tr>\n",
       "      <td>mean</td>\n",
       "      <td>5046.251512</td>\n",
       "      <td>2002.996614</td>\n",
       "      <td>124.765039</td>\n",
       "      <td>127772.478822</td>\n",
       "      <td>6.248768</td>\n",
       "      <td>0.0</td>\n",
       "      <td>51373.638158</td>\n",
       "    </tr>\n",
       "    <tr>\n",
       "      <td>std</td>\n",
       "      <td>4655.026959</td>\n",
       "      <td>12.153215</td>\n",
       "      <td>182.909652</td>\n",
       "      <td>36848.214016</td>\n",
       "      <td>3.435533</td>\n",
       "      <td>0.0</td>\n",
       "      <td>25778.318242</td>\n",
       "    </tr>\n",
       "    <tr>\n",
       "      <td>min</td>\n",
       "      <td>1.000000</td>\n",
       "      <td>1600.000000</td>\n",
       "      <td>1.000000</td>\n",
       "      <td>5000.000000</td>\n",
       "      <td>0.000000</td>\n",
       "      <td>0.0</td>\n",
       "      <td>1067.000000</td>\n",
       "    </tr>\n",
       "    <tr>\n",
       "      <td>25%</td>\n",
       "      <td>1490.000000</td>\n",
       "      <td>1999.000000</td>\n",
       "      <td>80.000000</td>\n",
       "      <td>125000.000000</td>\n",
       "      <td>3.000000</td>\n",
       "      <td>0.0</td>\n",
       "      <td>30989.000000</td>\n",
       "    </tr>\n",
       "    <tr>\n",
       "      <td>50%</td>\n",
       "      <td>3450.000000</td>\n",
       "      <td>2003.000000</td>\n",
       "      <td>114.000000</td>\n",
       "      <td>150000.000000</td>\n",
       "      <td>6.000000</td>\n",
       "      <td>0.0</td>\n",
       "      <td>50668.000000</td>\n",
       "    </tr>\n",
       "    <tr>\n",
       "      <td>75%</td>\n",
       "      <td>7300.000000</td>\n",
       "      <td>2007.000000</td>\n",
       "      <td>150.000000</td>\n",
       "      <td>150000.000000</td>\n",
       "      <td>9.000000</td>\n",
       "      <td>0.0</td>\n",
       "      <td>72202.000000</td>\n",
       "    </tr>\n",
       "    <tr>\n",
       "      <td>max</td>\n",
       "      <td>20000.000000</td>\n",
       "      <td>6500.000000</td>\n",
       "      <td>20000.000000</td>\n",
       "      <td>150000.000000</td>\n",
       "      <td>12.000000</td>\n",
       "      <td>0.0</td>\n",
       "      <td>99998.000000</td>\n",
       "    </tr>\n",
       "  </tbody>\n",
       "</table>\n",
       "</div>"
      ],
      "text/plain": [
       "               Price  RegistrationYear          Power      Kilometer  \\\n",
       "count  275526.000000     275526.000000  275526.000000  275526.000000   \n",
       "mean     5046.251512       2002.996614     124.765039  127772.478822   \n",
       "std      4655.026959         12.153215     182.909652   36848.214016   \n",
       "min         1.000000       1600.000000       1.000000    5000.000000   \n",
       "25%      1490.000000       1999.000000      80.000000  125000.000000   \n",
       "50%      3450.000000       2003.000000     114.000000  150000.000000   \n",
       "75%      7300.000000       2007.000000     150.000000  150000.000000   \n",
       "max     20000.000000       6500.000000   20000.000000  150000.000000   \n",
       "\n",
       "       RegistrationMonth  NumberOfPictures     PostalCode  \n",
       "count      275526.000000          275526.0  275526.000000  \n",
       "mean            6.248768               0.0   51373.638158  \n",
       "std             3.435533               0.0   25778.318242  \n",
       "min             0.000000               0.0    1067.000000  \n",
       "25%             3.000000               0.0   30989.000000  \n",
       "50%             6.000000               0.0   50668.000000  \n",
       "75%             9.000000               0.0   72202.000000  \n",
       "max            12.000000               0.0   99998.000000  "
      ]
     },
     "execution_count": 23,
     "metadata": {},
     "output_type": "execute_result"
    }
   ],
   "source": [
    "df.describe()"
   ]
  },
  {
   "cell_type": "markdown",
   "metadata": {},
   "source": [
    "Для начала я вижу что можно удалить столбец NumberOfPictures, одинаковые значения модели не нужны.\n",
    "\n",
    "Далее нужно построить гистограммы по цене, году регистрации и мощности чтобы убрать выбросы.\n",
    "\n",
    "По километрам мы видим что стоит ограничение в 150000, логично предположить что заказчик считает что свыше этого расстояния, этот параметр на цену уже не влияет, поэтому его можно оставить как есть. \n",
    "\n",
    "Месяц регистрации 0 - это пропущенные значения, корректно мы их не заполним, просто смиримся с этим фактом."
   ]
  },
  {
   "cell_type": "code",
   "execution_count": 24,
   "metadata": {},
   "outputs": [
    {
     "data": {
      "text/html": [
       "<div>\n",
       "<style scoped>\n",
       "    .dataframe tbody tr th:only-of-type {\n",
       "        vertical-align: middle;\n",
       "    }\n",
       "\n",
       "    .dataframe tbody tr th {\n",
       "        vertical-align: top;\n",
       "    }\n",
       "\n",
       "    .dataframe thead th {\n",
       "        text-align: right;\n",
       "    }\n",
       "</style>\n",
       "<table border=\"1\" class=\"dataframe\">\n",
       "  <thead>\n",
       "    <tr style=\"text-align: right;\">\n",
       "      <th></th>\n",
       "      <th>DateCrawled</th>\n",
       "      <th>Price</th>\n",
       "      <th>VehicleType</th>\n",
       "      <th>RegistrationYear</th>\n",
       "      <th>Gearbox</th>\n",
       "      <th>Power</th>\n",
       "      <th>Model</th>\n",
       "      <th>Kilometer</th>\n",
       "      <th>RegistrationMonth</th>\n",
       "      <th>FuelType</th>\n",
       "      <th>Brand</th>\n",
       "      <th>NotRepaired</th>\n",
       "      <th>DateCreated</th>\n",
       "      <th>PostalCode</th>\n",
       "      <th>LastSeen</th>\n",
       "    </tr>\n",
       "  </thead>\n",
       "  <tbody>\n",
       "    <tr>\n",
       "      <td>0</td>\n",
       "      <td>2016-03-24 10:58:45</td>\n",
       "      <td>18300</td>\n",
       "      <td>coupe</td>\n",
       "      <td>2011</td>\n",
       "      <td>manual</td>\n",
       "      <td>190</td>\n",
       "      <td>NaN</td>\n",
       "      <td>125000</td>\n",
       "      <td>5</td>\n",
       "      <td>gasoline</td>\n",
       "      <td>audi</td>\n",
       "      <td>yes</td>\n",
       "      <td>2016-03-24</td>\n",
       "      <td>66954</td>\n",
       "      <td>2016-04-07 01:46:50</td>\n",
       "    </tr>\n",
       "    <tr>\n",
       "      <td>1</td>\n",
       "      <td>2016-03-14 12:52:21</td>\n",
       "      <td>9800</td>\n",
       "      <td>suv</td>\n",
       "      <td>2004</td>\n",
       "      <td>auto</td>\n",
       "      <td>163</td>\n",
       "      <td>grand</td>\n",
       "      <td>125000</td>\n",
       "      <td>8</td>\n",
       "      <td>gasoline</td>\n",
       "      <td>jeep</td>\n",
       "      <td>NaN</td>\n",
       "      <td>2016-03-14</td>\n",
       "      <td>90480</td>\n",
       "      <td>2016-04-05 12:47:46</td>\n",
       "    </tr>\n",
       "    <tr>\n",
       "      <td>2</td>\n",
       "      <td>2016-03-17 16:54:04</td>\n",
       "      <td>1500</td>\n",
       "      <td>small</td>\n",
       "      <td>2001</td>\n",
       "      <td>manual</td>\n",
       "      <td>75</td>\n",
       "      <td>golf</td>\n",
       "      <td>150000</td>\n",
       "      <td>6</td>\n",
       "      <td>petrol</td>\n",
       "      <td>volkswagen</td>\n",
       "      <td>no</td>\n",
       "      <td>2016-03-17</td>\n",
       "      <td>91074</td>\n",
       "      <td>2016-03-17 17:40:17</td>\n",
       "    </tr>\n",
       "    <tr>\n",
       "      <td>3</td>\n",
       "      <td>2016-03-31 17:25:20</td>\n",
       "      <td>3600</td>\n",
       "      <td>small</td>\n",
       "      <td>2008</td>\n",
       "      <td>manual</td>\n",
       "      <td>69</td>\n",
       "      <td>fabia</td>\n",
       "      <td>90000</td>\n",
       "      <td>7</td>\n",
       "      <td>gasoline</td>\n",
       "      <td>skoda</td>\n",
       "      <td>no</td>\n",
       "      <td>2016-03-31</td>\n",
       "      <td>60437</td>\n",
       "      <td>2016-04-06 10:17:21</td>\n",
       "    </tr>\n",
       "    <tr>\n",
       "      <td>4</td>\n",
       "      <td>2016-04-04 17:36:23</td>\n",
       "      <td>650</td>\n",
       "      <td>sedan</td>\n",
       "      <td>1995</td>\n",
       "      <td>manual</td>\n",
       "      <td>102</td>\n",
       "      <td>3er</td>\n",
       "      <td>150000</td>\n",
       "      <td>10</td>\n",
       "      <td>petrol</td>\n",
       "      <td>bmw</td>\n",
       "      <td>yes</td>\n",
       "      <td>2016-04-04</td>\n",
       "      <td>33775</td>\n",
       "      <td>2016-04-06 19:17:07</td>\n",
       "    </tr>\n",
       "  </tbody>\n",
       "</table>\n",
       "</div>"
      ],
      "text/plain": [
       "          DateCrawled  Price VehicleType  RegistrationYear Gearbox  Power  \\\n",
       "0 2016-03-24 10:58:45  18300       coupe              2011  manual    190   \n",
       "1 2016-03-14 12:52:21   9800         suv              2004    auto    163   \n",
       "2 2016-03-17 16:54:04   1500       small              2001  manual     75   \n",
       "3 2016-03-31 17:25:20   3600       small              2008  manual     69   \n",
       "4 2016-04-04 17:36:23    650       sedan              1995  manual    102   \n",
       "\n",
       "   Model  Kilometer  RegistrationMonth  FuelType       Brand NotRepaired  \\\n",
       "0    NaN     125000                  5  gasoline        audi         yes   \n",
       "1  grand     125000                  8  gasoline        jeep         NaN   \n",
       "2   golf     150000                  6    petrol  volkswagen          no   \n",
       "3  fabia      90000                  7  gasoline       skoda          no   \n",
       "4    3er     150000                 10    petrol         bmw         yes   \n",
       "\n",
       "  DateCreated  PostalCode            LastSeen  \n",
       "0  2016-03-24       66954 2016-04-07 01:46:50  \n",
       "1  2016-03-14       90480 2016-04-05 12:47:46  \n",
       "2  2016-03-17       91074 2016-03-17 17:40:17  \n",
       "3  2016-03-31       60437 2016-04-06 10:17:21  \n",
       "4  2016-04-04       33775 2016-04-06 19:17:07  "
      ]
     },
     "execution_count": 24,
     "metadata": {},
     "output_type": "execute_result"
    }
   ],
   "source": [
    "df = df.drop(['NumberOfPictures'], axis = 1)\n",
    "df.head()"
   ]
  },
  {
   "cell_type": "code",
   "execution_count": 25,
   "metadata": {
    "scrolled": true
   },
   "outputs": [
    {
     "data": {
      "text/plain": [
       "<matplotlib.axes._subplots.AxesSubplot at 0x7f86587196d0>"
      ]
     },
     "execution_count": 25,
     "metadata": {},
     "output_type": "execute_result"
    },
    {
     "data": {
      "image/png": "[encoded data removed]",
      "text/plain": [
       "<Figure size 432x288 with 1 Axes>"
      ]
     },
     "metadata": {
      "needs_background": "light"
     },
     "output_type": "display_data"
    }
   ],
   "source": [
    "#df['Price'].hist(bins = 30, range = (0, 20000))\n",
    "df['Price'].hist(bins = 30, range = (0, 1500))"
   ]
  },
  {
   "cell_type": "markdown",
   "metadata": {},
   "source": [
    "Тут аномалии могут быть только снизу, вверху значение вероятно ограничено 20000, распространение идет равномерно поэтому этой части данных я склонен верить. А вот снизу есть слишком маленькие значения, считаю глядя на диаграмму, что от значений цены менее 100 стоит избавиться."
   ]
  },
  {
   "cell_type": "code",
   "execution_count": 26,
   "metadata": {
    "scrolled": true
   },
   "outputs": [
    {
     "name": "stdout",
     "output_type": "stream",
     "text": [
      "<class 'pandas.core.frame.DataFrame'>\n",
      "RangeIndex: 274737 entries, 0 to 274736\n",
      "Data columns (total 15 columns):\n",
      "DateCrawled          274737 non-null datetime64[ns]\n",
      "Price                274737 non-null int64\n",
      "VehicleType          270161 non-null object\n",
      "RegistrationYear     274737 non-null int64\n",
      "Gearbox              272677 non-null object\n",
      "Power                274737 non-null int64\n",
      "Model                269829 non-null object\n",
      "Kilometer            274737 non-null int64\n",
      "RegistrationMonth    274737 non-null int64\n",
      "FuelType             270288 non-null object\n",
      "Brand                274737 non-null object\n",
      "NotRepaired          248756 non-null object\n",
      "DateCreated          274737 non-null datetime64[ns]\n",
      "PostalCode           274737 non-null int64\n",
      "LastSeen             274737 non-null datetime64[ns]\n",
      "dtypes: datetime64[ns](3), int64(6), object(6)\n",
      "memory usage: 31.4+ MB\n"
     ]
    }
   ],
   "source": [
    "df = df.drop(index = df.query('Price < 100').index).reset_index()\n",
    "df = df.drop(['index'], axis = 1)\n",
    "df.info()"
   ]
  },
  {
   "cell_type": "code",
   "execution_count": 27,
   "metadata": {},
   "outputs": [
    {
     "data": {
      "text/plain": [
       "<matplotlib.axes._subplots.AxesSubplot at 0x7f85c801f410>"
      ]
     },
     "execution_count": 27,
     "metadata": {},
     "output_type": "execute_result"
    },
    {
     "data": {
      "image/png": "[encoded data removed]",
      "text/plain": [
       "<Figure size 1224x648 with 1 Axes>"
      ]
     },
     "metadata": {
      "needs_background": "light"
     },
     "output_type": "display_data"
    }
   ],
   "source": [
    "df.pivot_table(index = 'RegistrationYear', values = 'Power', aggfunc = 'count').plot(kind = 'bar', figsize = (17, 9))"
   ]
  },
  {
   "cell_type": "markdown",
   "metadata": {},
   "source": [
    "Я думаю необходимо убрать все что больше 2018 года и меньше 1985."
   ]
  },
  {
   "cell_type": "code",
   "execution_count": 28,
   "metadata": {},
   "outputs": [
    {
     "name": "stdout",
     "output_type": "stream",
     "text": [
      "<class 'pandas.core.frame.DataFrame'>\n",
      "RangeIndex: 271610 entries, 0 to 271609\n",
      "Data columns (total 15 columns):\n",
      "DateCrawled          271610 non-null datetime64[ns]\n",
      "Price                271610 non-null int64\n",
      "VehicleType          267047 non-null object\n",
      "RegistrationYear     271610 non-null int64\n",
      "Gearbox              269579 non-null object\n",
      "Power                271610 non-null int64\n",
      "Model                267101 non-null object\n",
      "Kilometer            271610 non-null int64\n",
      "RegistrationMonth    271610 non-null int64\n",
      "FuelType             267222 non-null object\n",
      "Brand                271610 non-null object\n",
      "NotRepaired          245970 non-null object\n",
      "DateCreated          271610 non-null datetime64[ns]\n",
      "PostalCode           271610 non-null int64\n",
      "LastSeen             271610 non-null datetime64[ns]\n",
      "dtypes: datetime64[ns](3), int64(6), object(6)\n",
      "memory usage: 31.1+ MB\n"
     ]
    }
   ],
   "source": [
    "df = df.drop(index = df.query('RegistrationYear > 2018 or RegistrationYear < 1985').index).reset_index()\n",
    "df = df.drop(['index'], axis = 1)\n",
    "df.info()"
   ]
  },
  {
   "cell_type": "code",
   "execution_count": 29,
   "metadata": {},
   "outputs": [
    {
     "data": {
      "text/plain": [
       "<matplotlib.axes._subplots.AxesSubplot at 0x7f85c7dbee10>"
      ]
     },
     "execution_count": 29,
     "metadata": {},
     "output_type": "execute_result"
    },
    {
     "data": {
      "image/png": "[encoded data removed]",
      "text/plain": [
       "<Figure size 432x288 with 1 Axes>"
      ]
     },
     "metadata": {
      "needs_background": "light"
     },
     "output_type": "display_data"
    }
   ],
   "source": [
    "df['Power'].hist(bins = 50, range = (0, 500))"
   ]
  },
  {
   "cell_type": "markdown",
   "metadata": {},
   "source": [
    "Уберем все значения ниже 40 и больше 350, модель все равно не сможет предсказывать редко встречающиеся значения, а значит будем ориентироваться на большинство."
   ]
  },
  {
   "cell_type": "code",
   "execution_count": 30,
   "metadata": {
    "scrolled": true
   },
   "outputs": [
    {
     "data": {
      "text/html": [
       "<div>\n",
       "<style scoped>\n",
       "    .dataframe tbody tr th:only-of-type {\n",
       "        vertical-align: middle;\n",
       "    }\n",
       "\n",
       "    .dataframe tbody tr th {\n",
       "        vertical-align: top;\n",
       "    }\n",
       "\n",
       "    .dataframe thead th {\n",
       "        text-align: right;\n",
       "    }\n",
       "</style>\n",
       "<table border=\"1\" class=\"dataframe\">\n",
       "  <thead>\n",
       "    <tr style=\"text-align: right;\">\n",
       "      <th></th>\n",
       "      <th>Price</th>\n",
       "      <th>RegistrationYear</th>\n",
       "      <th>Power</th>\n",
       "      <th>Kilometer</th>\n",
       "      <th>RegistrationMonth</th>\n",
       "      <th>PostalCode</th>\n",
       "    </tr>\n",
       "  </thead>\n",
       "  <tbody>\n",
       "    <tr>\n",
       "      <td>count</td>\n",
       "      <td>270023.000000</td>\n",
       "      <td>270023.000000</td>\n",
       "      <td>270023.000000</td>\n",
       "      <td>270023.000000</td>\n",
       "      <td>270023.000000</td>\n",
       "      <td>270023.000000</td>\n",
       "    </tr>\n",
       "    <tr>\n",
       "      <td>mean</td>\n",
       "      <td>5017.225981</td>\n",
       "      <td>2003.314088</td>\n",
       "      <td>121.232621</td>\n",
       "      <td>128164.526726</td>\n",
       "      <td>6.259000</td>\n",
       "      <td>51394.382564</td>\n",
       "    </tr>\n",
       "    <tr>\n",
       "      <td>std</td>\n",
       "      <td>4622.400891</td>\n",
       "      <td>5.635547</td>\n",
       "      <td>51.422667</td>\n",
       "      <td>36447.683318</td>\n",
       "      <td>3.435604</td>\n",
       "      <td>25757.930060</td>\n",
       "    </tr>\n",
       "    <tr>\n",
       "      <td>min</td>\n",
       "      <td>100.000000</td>\n",
       "      <td>1985.000000</td>\n",
       "      <td>40.000000</td>\n",
       "      <td>5000.000000</td>\n",
       "      <td>0.000000</td>\n",
       "      <td>1067.000000</td>\n",
       "    </tr>\n",
       "    <tr>\n",
       "      <td>25%</td>\n",
       "      <td>1490.000000</td>\n",
       "      <td>1999.000000</td>\n",
       "      <td>80.000000</td>\n",
       "      <td>125000.000000</td>\n",
       "      <td>3.000000</td>\n",
       "      <td>31029.000000</td>\n",
       "    </tr>\n",
       "    <tr>\n",
       "      <td>50%</td>\n",
       "      <td>3400.000000</td>\n",
       "      <td>2003.000000</td>\n",
       "      <td>115.000000</td>\n",
       "      <td>150000.000000</td>\n",
       "      <td>6.000000</td>\n",
       "      <td>50676.000000</td>\n",
       "    </tr>\n",
       "    <tr>\n",
       "      <td>75%</td>\n",
       "      <td>7250.000000</td>\n",
       "      <td>2007.000000</td>\n",
       "      <td>150.000000</td>\n",
       "      <td>150000.000000</td>\n",
       "      <td>9.000000</td>\n",
       "      <td>72184.000000</td>\n",
       "    </tr>\n",
       "    <tr>\n",
       "      <td>max</td>\n",
       "      <td>20000.000000</td>\n",
       "      <td>2018.000000</td>\n",
       "      <td>350.000000</td>\n",
       "      <td>150000.000000</td>\n",
       "      <td>12.000000</td>\n",
       "      <td>99998.000000</td>\n",
       "    </tr>\n",
       "  </tbody>\n",
       "</table>\n",
       "</div>"
      ],
      "text/plain": [
       "               Price  RegistrationYear          Power      Kilometer  \\\n",
       "count  270023.000000     270023.000000  270023.000000  270023.000000   \n",
       "mean     5017.225981       2003.314088     121.232621  128164.526726   \n",
       "std      4622.400891          5.635547      51.422667   36447.683318   \n",
       "min       100.000000       1985.000000      40.000000    5000.000000   \n",
       "25%      1490.000000       1999.000000      80.000000  125000.000000   \n",
       "50%      3400.000000       2003.000000     115.000000  150000.000000   \n",
       "75%      7250.000000       2007.000000     150.000000  150000.000000   \n",
       "max     20000.000000       2018.000000     350.000000  150000.000000   \n",
       "\n",
       "       RegistrationMonth     PostalCode  \n",
       "count      270023.000000  270023.000000  \n",
       "mean            6.259000   51394.382564  \n",
       "std             3.435604   25757.930060  \n",
       "min             0.000000    1067.000000  \n",
       "25%             3.000000   31029.000000  \n",
       "50%             6.000000   50676.000000  \n",
       "75%             9.000000   72184.000000  \n",
       "max            12.000000   99998.000000  "
      ]
     },
     "execution_count": 30,
     "metadata": {},
     "output_type": "execute_result"
    }
   ],
   "source": [
    "df = df.drop(index = df.query('Power > 350 or Power < 40').index).reset_index()\n",
    "df = df.drop(['index'], axis = 1)\n",
    "df.describe()"
   ]
  },
  {
   "cell_type": "markdown",
   "metadata": {},
   "source": [
    "Теперь разберемся с категориальными признаками, нужно проверить нет ли опечаток и по разному записанных типов и потом превратить их в бинарные столбцы. Под раздачу попадают признаки: VehicleType, Gearbox, Model, FuelType, Brand, NotRepaired."
   ]
  },
  {
   "cell_type": "code",
   "execution_count": 31,
   "metadata": {},
   "outputs": [
    {
     "data": {
      "text/plain": [
       "sedan          77446\n",
       "small          64741\n",
       "wagon          55697\n",
       "bus            25126\n",
       "convertible    17388\n",
       "coupe          12833\n",
       "suv            10275\n",
       "other           1980\n",
       "Name: VehicleType, dtype: int64"
      ]
     },
     "execution_count": 31,
     "metadata": {},
     "output_type": "execute_result"
    }
   ],
   "source": [
    "df['VehicleType'].value_counts()"
   ]
  },
  {
   "cell_type": "code",
   "execution_count": 32,
   "metadata": {},
   "outputs": [
    {
     "data": {
      "text/plain": [
       "manual    213422\n",
       "auto       54587\n",
       "Name: Gearbox, dtype: int64"
      ]
     },
     "execution_count": 32,
     "metadata": {},
     "output_type": "execute_result"
    }
   ],
   "source": [
    "df['Gearbox'].value_counts()"
   ]
  },
  {
   "cell_type": "code",
   "execution_count": 33,
   "metadata": {},
   "outputs": [
    {
     "data": {
      "text/plain": [
       "golf                  22703\n",
       "other                 17602\n",
       "3er                   16401\n",
       "polo                   9815\n",
       "corsa                  9272\n",
       "                      ...  \n",
       "rangerover                3\n",
       "601                       3\n",
       "samara                    3\n",
       "range_rover_evoque        2\n",
       "serie_2                   1\n",
       "Name: Model, Length: 248, dtype: int64"
      ]
     },
     "execution_count": 33,
     "metadata": {},
     "output_type": "execute_result"
    }
   ],
   "source": [
    "df['Model'].value_counts()"
   ]
  },
  {
   "cell_type": "code",
   "execution_count": 34,
   "metadata": {},
   "outputs": [
    {
     "data": {
      "text/plain": [
       "petrol      175188\n",
       "gasoline     85331\n",
       "lpg           4410\n",
       "cng            472\n",
       "hybrid         201\n",
       "other           44\n",
       "electric        33\n",
       "Name: FuelType, dtype: int64"
      ]
     },
     "execution_count": 34,
     "metadata": {},
     "output_type": "execute_result"
    }
   ],
   "source": [
    "df['FuelType'].value_counts()"
   ]
  },
  {
   "cell_type": "code",
   "execution_count": 35,
   "metadata": {},
   "outputs": [
    {
     "data": {
      "text/plain": [
       "volkswagen        58003\n",
       "bmw               29930\n",
       "opel              29120\n",
       "mercedes_benz     25103\n",
       "audi              23711\n",
       "ford              18798\n",
       "renault           12746\n",
       "peugeot            8619\n",
       "fiat               6720\n",
       "seat               5482\n",
       "skoda              4765\n",
       "mazda              4369\n",
       "smart              4199\n",
       "citroen            3883\n",
       "toyota             3844\n",
       "nissan             3730\n",
       "hyundai            2965\n",
       "mini               2885\n",
       "volvo              2614\n",
       "mitsubishi         2253\n",
       "honda              2139\n",
       "kia                1979\n",
       "suzuki             1811\n",
       "alfa_romeo         1773\n",
       "chevrolet          1285\n",
       "chrysler           1059\n",
       "sonstige_autos      965\n",
       "dacia               773\n",
       "subaru              569\n",
       "daihatsu            544\n",
       "jeep                514\n",
       "porsche             473\n",
       "saab                444\n",
       "land_rover          424\n",
       "daewoo              377\n",
       "jaguar              375\n",
       "lancia              327\n",
       "rover               307\n",
       "lada                131\n",
       "trabant              15\n",
       "Name: Brand, dtype: int64"
      ]
     },
     "execution_count": 35,
     "metadata": {},
     "output_type": "execute_result"
    }
   ],
   "source": [
    "df['Brand'].value_counts()"
   ]
  },
  {
   "cell_type": "code",
   "execution_count": 36,
   "metadata": {},
   "outputs": [
    {
     "data": {
      "text/plain": [
       "no     218194\n",
       "yes     26390\n",
       "Name: NotRepaired, dtype: int64"
      ]
     },
     "execution_count": 36,
     "metadata": {},
     "output_type": "execute_result"
    }
   ],
   "source": [
    "df['NotRepaired'].value_counts()"
   ]
  },
  {
   "cell_type": "markdown",
   "metadata": {},
   "source": [
    "В плане опечаток в данных все хорошо, но есть проблема что моделей очень много, некоторые из них встречаются в данных тысячами но большая часть единичные, поэтому нам не хватит данных чтобы модель могла находить разницу по большинству из них, скорее всего без него предсказания будут лучше.\n",
    "\n",
    "Теперь поработаем с датами, я думаю что на продажу автомобиля день не влияет, а влияют года и месяцы, поэтому мы выведем их из столбцов с датами, а сами изначальные столбцы удалим.\n",
    "\n",
    "Далее проверим корреляцию столбцов до того как их станет очень много после преобразования категориальных признаков в числовые с помощью OHE. Если будут столбцы с корреляцией более 90% - их удалим. Если все будет нормально то переходим к OHE."
   ]
  },
  {
   "cell_type": "code",
   "execution_count": 37,
   "metadata": {},
   "outputs": [
    {
     "data": {
      "text/html": [
       "<div>\n",
       "<style scoped>\n",
       "    .dataframe tbody tr th:only-of-type {\n",
       "        vertical-align: middle;\n",
       "    }\n",
       "\n",
       "    .dataframe tbody tr th {\n",
       "        vertical-align: top;\n",
       "    }\n",
       "\n",
       "    .dataframe thead th {\n",
       "        text-align: right;\n",
       "    }\n",
       "</style>\n",
       "<table border=\"1\" class=\"dataframe\">\n",
       "  <thead>\n",
       "    <tr style=\"text-align: right;\">\n",
       "      <th></th>\n",
       "      <th>DateCrawled</th>\n",
       "      <th>Price</th>\n",
       "      <th>VehicleType</th>\n",
       "      <th>RegistrationYear</th>\n",
       "      <th>Gearbox</th>\n",
       "      <th>Power</th>\n",
       "      <th>Model</th>\n",
       "      <th>Kilometer</th>\n",
       "      <th>RegistrationMonth</th>\n",
       "      <th>FuelType</th>\n",
       "      <th>...</th>\n",
       "      <th>NotRepaired</th>\n",
       "      <th>DateCreated</th>\n",
       "      <th>PostalCode</th>\n",
       "      <th>LastSeen</th>\n",
       "      <th>DateCrawled_month</th>\n",
       "      <th>DateCrawled_year</th>\n",
       "      <th>DateCreated_month</th>\n",
       "      <th>DateCreated_year</th>\n",
       "      <th>LastSeen_month</th>\n",
       "      <th>LastSeen_year</th>\n",
       "    </tr>\n",
       "  </thead>\n",
       "  <tbody>\n",
       "    <tr>\n",
       "      <td>0</td>\n",
       "      <td>2016-03-24 10:58:45</td>\n",
       "      <td>18300</td>\n",
       "      <td>coupe</td>\n",
       "      <td>2011</td>\n",
       "      <td>manual</td>\n",
       "      <td>190</td>\n",
       "      <td>NaN</td>\n",
       "      <td>125000</td>\n",
       "      <td>5</td>\n",
       "      <td>gasoline</td>\n",
       "      <td>...</td>\n",
       "      <td>yes</td>\n",
       "      <td>2016-03-24</td>\n",
       "      <td>66954</td>\n",
       "      <td>2016-04-07 01:46:50</td>\n",
       "      <td>3</td>\n",
       "      <td>2016</td>\n",
       "      <td>3</td>\n",
       "      <td>2016</td>\n",
       "      <td>4</td>\n",
       "      <td>2016</td>\n",
       "    </tr>\n",
       "    <tr>\n",
       "      <td>1</td>\n",
       "      <td>2016-03-14 12:52:21</td>\n",
       "      <td>9800</td>\n",
       "      <td>suv</td>\n",
       "      <td>2004</td>\n",
       "      <td>auto</td>\n",
       "      <td>163</td>\n",
       "      <td>grand</td>\n",
       "      <td>125000</td>\n",
       "      <td>8</td>\n",
       "      <td>gasoline</td>\n",
       "      <td>...</td>\n",
       "      <td>NaN</td>\n",
       "      <td>2016-03-14</td>\n",
       "      <td>90480</td>\n",
       "      <td>2016-04-05 12:47:46</td>\n",
       "      <td>3</td>\n",
       "      <td>2016</td>\n",
       "      <td>3</td>\n",
       "      <td>2016</td>\n",
       "      <td>4</td>\n",
       "      <td>2016</td>\n",
       "    </tr>\n",
       "    <tr>\n",
       "      <td>2</td>\n",
       "      <td>2016-03-17 16:54:04</td>\n",
       "      <td>1500</td>\n",
       "      <td>small</td>\n",
       "      <td>2001</td>\n",
       "      <td>manual</td>\n",
       "      <td>75</td>\n",
       "      <td>golf</td>\n",
       "      <td>150000</td>\n",
       "      <td>6</td>\n",
       "      <td>petrol</td>\n",
       "      <td>...</td>\n",
       "      <td>no</td>\n",
       "      <td>2016-03-17</td>\n",
       "      <td>91074</td>\n",
       "      <td>2016-03-17 17:40:17</td>\n",
       "      <td>3</td>\n",
       "      <td>2016</td>\n",
       "      <td>3</td>\n",
       "      <td>2016</td>\n",
       "      <td>3</td>\n",
       "      <td>2016</td>\n",
       "    </tr>\n",
       "    <tr>\n",
       "      <td>3</td>\n",
       "      <td>2016-03-31 17:25:20</td>\n",
       "      <td>3600</td>\n",
       "      <td>small</td>\n",
       "      <td>2008</td>\n",
       "      <td>manual</td>\n",
       "      <td>69</td>\n",
       "      <td>fabia</td>\n",
       "      <td>90000</td>\n",
       "      <td>7</td>\n",
       "      <td>gasoline</td>\n",
       "      <td>...</td>\n",
       "      <td>no</td>\n",
       "      <td>2016-03-31</td>\n",
       "      <td>60437</td>\n",
       "      <td>2016-04-06 10:17:21</td>\n",
       "      <td>3</td>\n",
       "      <td>2016</td>\n",
       "      <td>3</td>\n",
       "      <td>2016</td>\n",
       "      <td>4</td>\n",
       "      <td>2016</td>\n",
       "    </tr>\n",
       "    <tr>\n",
       "      <td>4</td>\n",
       "      <td>2016-04-04 17:36:23</td>\n",
       "      <td>650</td>\n",
       "      <td>sedan</td>\n",
       "      <td>1995</td>\n",
       "      <td>manual</td>\n",
       "      <td>102</td>\n",
       "      <td>3er</td>\n",
       "      <td>150000</td>\n",
       "      <td>10</td>\n",
       "      <td>petrol</td>\n",
       "      <td>...</td>\n",
       "      <td>yes</td>\n",
       "      <td>2016-04-04</td>\n",
       "      <td>33775</td>\n",
       "      <td>2016-04-06 19:17:07</td>\n",
       "      <td>4</td>\n",
       "      <td>2016</td>\n",
       "      <td>4</td>\n",
       "      <td>2016</td>\n",
       "      <td>4</td>\n",
       "      <td>2016</td>\n",
       "    </tr>\n",
       "  </tbody>\n",
       "</table>\n",
       "<p>5 rows × 21 columns</p>\n",
       "</div>"
      ],
      "text/plain": [
       "          DateCrawled  Price VehicleType  RegistrationYear Gearbox  Power  \\\n",
       "0 2016-03-24 10:58:45  18300       coupe              2011  manual    190   \n",
       "1 2016-03-14 12:52:21   9800         suv              2004    auto    163   \n",
       "2 2016-03-17 16:54:04   1500       small              2001  manual     75   \n",
       "3 2016-03-31 17:25:20   3600       small              2008  manual     69   \n",
       "4 2016-04-04 17:36:23    650       sedan              1995  manual    102   \n",
       "\n",
       "   Model  Kilometer  RegistrationMonth  FuelType  ... NotRepaired DateCreated  \\\n",
       "0    NaN     125000                  5  gasoline  ...         yes  2016-03-24   \n",
       "1  grand     125000                  8  gasoline  ...         NaN  2016-03-14   \n",
       "2   golf     150000                  6    petrol  ...          no  2016-03-17   \n",
       "3  fabia      90000                  7  gasoline  ...          no  2016-03-31   \n",
       "4    3er     150000                 10    petrol  ...         yes  2016-04-04   \n",
       "\n",
       "  PostalCode            LastSeen DateCrawled_month  DateCrawled_year  \\\n",
       "0      66954 2016-04-07 01:46:50                 3              2016   \n",
       "1      90480 2016-04-05 12:47:46                 3              2016   \n",
       "2      91074 2016-03-17 17:40:17                 3              2016   \n",
       "3      60437 2016-04-06 10:17:21                 3              2016   \n",
       "4      33775 2016-04-06 19:17:07                 4              2016   \n",
       "\n",
       "   DateCreated_month  DateCreated_year  LastSeen_month  LastSeen_year  \n",
       "0                  3              2016               4           2016  \n",
       "1                  3              2016               4           2016  \n",
       "2                  3              2016               3           2016  \n",
       "3                  3              2016               4           2016  \n",
       "4                  4              2016               4           2016  \n",
       "\n",
       "[5 rows x 21 columns]"
      ]
     },
     "execution_count": 37,
     "metadata": {},
     "output_type": "execute_result"
    }
   ],
   "source": [
    "df['DateCrawled_month'] = df['DateCrawled'].dt.month\n",
    "df['DateCrawled_year'] = df['DateCrawled'].dt.year\n",
    "df['DateCreated_month'] = df['DateCreated'].dt.month\n",
    "df['DateCreated_year'] = df['DateCreated'].dt.year\n",
    "df['LastSeen_month'] = df['LastSeen'].dt.month\n",
    "df['LastSeen_year'] = df['LastSeen'].dt.year\n",
    "df.head()"
   ]
  },
  {
   "cell_type": "code",
   "execution_count": 38,
   "metadata": {},
   "outputs": [
    {
     "data": {
      "text/html": [
       "<div>\n",
       "<style scoped>\n",
       "    .dataframe tbody tr th:only-of-type {\n",
       "        vertical-align: middle;\n",
       "    }\n",
       "\n",
       "    .dataframe tbody tr th {\n",
       "        vertical-align: top;\n",
       "    }\n",
       "\n",
       "    .dataframe thead th {\n",
       "        text-align: right;\n",
       "    }\n",
       "</style>\n",
       "<table border=\"1\" class=\"dataframe\">\n",
       "  <thead>\n",
       "    <tr style=\"text-align: right;\">\n",
       "      <th></th>\n",
       "      <th>Price</th>\n",
       "      <th>RegistrationYear</th>\n",
       "      <th>Power</th>\n",
       "      <th>Kilometer</th>\n",
       "      <th>RegistrationMonth</th>\n",
       "      <th>PostalCode</th>\n",
       "      <th>DateCrawled_month</th>\n",
       "      <th>DateCrawled_year</th>\n",
       "      <th>DateCreated_month</th>\n",
       "      <th>DateCreated_year</th>\n",
       "      <th>LastSeen_month</th>\n",
       "      <th>LastSeen_year</th>\n",
       "    </tr>\n",
       "  </thead>\n",
       "  <tbody>\n",
       "    <tr>\n",
       "      <td>Price</td>\n",
       "      <td>1.000000</td>\n",
       "      <td>0.622076</td>\n",
       "      <td>0.512119</td>\n",
       "      <td>-0.405783</td>\n",
       "      <td>0.031969</td>\n",
       "      <td>0.062533</td>\n",
       "      <td>0.017511</td>\n",
       "      <td>NaN</td>\n",
       "      <td>0.015477</td>\n",
       "      <td>-0.003801</td>\n",
       "      <td>0.150529</td>\n",
       "      <td>NaN</td>\n",
       "    </tr>\n",
       "    <tr>\n",
       "      <td>RegistrationYear</td>\n",
       "      <td>0.622076</td>\n",
       "      <td>1.000000</td>\n",
       "      <td>0.139080</td>\n",
       "      <td>-0.425426</td>\n",
       "      <td>0.013200</td>\n",
       "      <td>0.031639</td>\n",
       "      <td>0.002490</td>\n",
       "      <td>NaN</td>\n",
       "      <td>0.000750</td>\n",
       "      <td>-0.000767</td>\n",
       "      <td>0.053817</td>\n",
       "      <td>NaN</td>\n",
       "    </tr>\n",
       "    <tr>\n",
       "      <td>Power</td>\n",
       "      <td>0.512119</td>\n",
       "      <td>0.139080</td>\n",
       "      <td>1.000000</td>\n",
       "      <td>0.106338</td>\n",
       "      <td>0.028571</td>\n",
       "      <td>0.054539</td>\n",
       "      <td>0.003918</td>\n",
       "      <td>NaN</td>\n",
       "      <td>0.002691</td>\n",
       "      <td>0.000003</td>\n",
       "      <td>0.060637</td>\n",
       "      <td>NaN</td>\n",
       "    </tr>\n",
       "    <tr>\n",
       "      <td>Kilometer</td>\n",
       "      <td>-0.405783</td>\n",
       "      <td>-0.425426</td>\n",
       "      <td>0.106338</td>\n",
       "      <td>1.000000</td>\n",
       "      <td>-0.005027</td>\n",
       "      <td>-0.012126</td>\n",
       "      <td>-0.004180</td>\n",
       "      <td>NaN</td>\n",
       "      <td>-0.003408</td>\n",
       "      <td>0.004655</td>\n",
       "      <td>-0.066202</td>\n",
       "      <td>NaN</td>\n",
       "    </tr>\n",
       "    <tr>\n",
       "      <td>RegistrationMonth</td>\n",
       "      <td>0.031969</td>\n",
       "      <td>0.013200</td>\n",
       "      <td>0.028571</td>\n",
       "      <td>-0.005027</td>\n",
       "      <td>1.000000</td>\n",
       "      <td>-0.002339</td>\n",
       "      <td>-0.004450</td>\n",
       "      <td>NaN</td>\n",
       "      <td>-0.004529</td>\n",
       "      <td>0.003616</td>\n",
       "      <td>-0.004245</td>\n",
       "      <td>NaN</td>\n",
       "    </tr>\n",
       "    <tr>\n",
       "      <td>PostalCode</td>\n",
       "      <td>0.062533</td>\n",
       "      <td>0.031639</td>\n",
       "      <td>0.054539</td>\n",
       "      <td>-0.012126</td>\n",
       "      <td>-0.002339</td>\n",
       "      <td>1.000000</td>\n",
       "      <td>0.011448</td>\n",
       "      <td>NaN</td>\n",
       "      <td>0.011141</td>\n",
       "      <td>0.001722</td>\n",
       "      <td>0.039545</td>\n",
       "      <td>NaN</td>\n",
       "    </tr>\n",
       "    <tr>\n",
       "      <td>DateCrawled_month</td>\n",
       "      <td>0.017511</td>\n",
       "      <td>0.002490</td>\n",
       "      <td>0.003918</td>\n",
       "      <td>-0.004180</td>\n",
       "      <td>-0.004450</td>\n",
       "      <td>0.011448</td>\n",
       "      <td>1.000000</td>\n",
       "      <td>NaN</td>\n",
       "      <td>0.969990</td>\n",
       "      <td>0.001918</td>\n",
       "      <td>0.377462</td>\n",
       "      <td>NaN</td>\n",
       "    </tr>\n",
       "    <tr>\n",
       "      <td>DateCrawled_year</td>\n",
       "      <td>NaN</td>\n",
       "      <td>NaN</td>\n",
       "      <td>NaN</td>\n",
       "      <td>NaN</td>\n",
       "      <td>NaN</td>\n",
       "      <td>NaN</td>\n",
       "      <td>NaN</td>\n",
       "      <td>NaN</td>\n",
       "      <td>NaN</td>\n",
       "      <td>NaN</td>\n",
       "      <td>NaN</td>\n",
       "      <td>NaN</td>\n",
       "    </tr>\n",
       "    <tr>\n",
       "      <td>DateCreated_month</td>\n",
       "      <td>0.015477</td>\n",
       "      <td>0.000750</td>\n",
       "      <td>0.002691</td>\n",
       "      <td>-0.003408</td>\n",
       "      <td>-0.004529</td>\n",
       "      <td>0.011141</td>\n",
       "      <td>0.969990</td>\n",
       "      <td>NaN</td>\n",
       "      <td>1.000000</td>\n",
       "      <td>-0.179282</td>\n",
       "      <td>0.366662</td>\n",
       "      <td>NaN</td>\n",
       "    </tr>\n",
       "    <tr>\n",
       "      <td>DateCreated_year</td>\n",
       "      <td>-0.003801</td>\n",
       "      <td>-0.000767</td>\n",
       "      <td>0.000003</td>\n",
       "      <td>0.004655</td>\n",
       "      <td>0.003616</td>\n",
       "      <td>0.001722</td>\n",
       "      <td>0.001918</td>\n",
       "      <td>NaN</td>\n",
       "      <td>-0.179282</td>\n",
       "      <td>1.000000</td>\n",
       "      <td>-0.001367</td>\n",
       "      <td>NaN</td>\n",
       "    </tr>\n",
       "    <tr>\n",
       "      <td>LastSeen_month</td>\n",
       "      <td>0.150529</td>\n",
       "      <td>0.053817</td>\n",
       "      <td>0.060637</td>\n",
       "      <td>-0.066202</td>\n",
       "      <td>-0.004245</td>\n",
       "      <td>0.039545</td>\n",
       "      <td>0.377462</td>\n",
       "      <td>NaN</td>\n",
       "      <td>0.366662</td>\n",
       "      <td>-0.001367</td>\n",
       "      <td>1.000000</td>\n",
       "      <td>NaN</td>\n",
       "    </tr>\n",
       "    <tr>\n",
       "      <td>LastSeen_year</td>\n",
       "      <td>NaN</td>\n",
       "      <td>NaN</td>\n",
       "      <td>NaN</td>\n",
       "      <td>NaN</td>\n",
       "      <td>NaN</td>\n",
       "      <td>NaN</td>\n",
       "      <td>NaN</td>\n",
       "      <td>NaN</td>\n",
       "      <td>NaN</td>\n",
       "      <td>NaN</td>\n",
       "      <td>NaN</td>\n",
       "      <td>NaN</td>\n",
       "    </tr>\n",
       "  </tbody>\n",
       "</table>\n",
       "</div>"
      ],
      "text/plain": [
       "                      Price  RegistrationYear     Power  Kilometer  \\\n",
       "Price              1.000000          0.622076  0.512119  -0.405783   \n",
       "RegistrationYear   0.622076          1.000000  0.139080  -0.425426   \n",
       "Power              0.512119          0.139080  1.000000   0.106338   \n",
       "Kilometer         -0.405783         -0.425426  0.106338   1.000000   \n",
       "RegistrationMonth  0.031969          0.013200  0.028571  -0.005027   \n",
       "PostalCode         0.062533          0.031639  0.054539  -0.012126   \n",
       "DateCrawled_month  0.017511          0.002490  0.003918  -0.004180   \n",
       "DateCrawled_year        NaN               NaN       NaN        NaN   \n",
       "DateCreated_month  0.015477          0.000750  0.002691  -0.003408   \n",
       "DateCreated_year  -0.003801         -0.000767  0.000003   0.004655   \n",
       "LastSeen_month     0.150529          0.053817  0.060637  -0.066202   \n",
       "LastSeen_year           NaN               NaN       NaN        NaN   \n",
       "\n",
       "                   RegistrationMonth  PostalCode  DateCrawled_month  \\\n",
       "Price                       0.031969    0.062533           0.017511   \n",
       "RegistrationYear            0.013200    0.031639           0.002490   \n",
       "Power                       0.028571    0.054539           0.003918   \n",
       "Kilometer                  -0.005027   -0.012126          -0.004180   \n",
       "RegistrationMonth           1.000000   -0.002339          -0.004450   \n",
       "PostalCode                 -0.002339    1.000000           0.011448   \n",
       "DateCrawled_month          -0.004450    0.011448           1.000000   \n",
       "DateCrawled_year                 NaN         NaN                NaN   \n",
       "DateCreated_month          -0.004529    0.011141           0.969990   \n",
       "DateCreated_year            0.003616    0.001722           0.001918   \n",
       "LastSeen_month             -0.004245    0.039545           0.377462   \n",
       "LastSeen_year                    NaN         NaN                NaN   \n",
       "\n",
       "                   DateCrawled_year  DateCreated_month  DateCreated_year  \\\n",
       "Price                           NaN           0.015477         -0.003801   \n",
       "RegistrationYear                NaN           0.000750         -0.000767   \n",
       "Power                           NaN           0.002691          0.000003   \n",
       "Kilometer                       NaN          -0.003408          0.004655   \n",
       "RegistrationMonth               NaN          -0.004529          0.003616   \n",
       "PostalCode                      NaN           0.011141          0.001722   \n",
       "DateCrawled_month               NaN           0.969990          0.001918   \n",
       "DateCrawled_year                NaN                NaN               NaN   \n",
       "DateCreated_month               NaN           1.000000         -0.179282   \n",
       "DateCreated_year                NaN          -0.179282          1.000000   \n",
       "LastSeen_month                  NaN           0.366662         -0.001367   \n",
       "LastSeen_year                   NaN                NaN               NaN   \n",
       "\n",
       "                   LastSeen_month  LastSeen_year  \n",
       "Price                    0.150529            NaN  \n",
       "RegistrationYear         0.053817            NaN  \n",
       "Power                    0.060637            NaN  \n",
       "Kilometer               -0.066202            NaN  \n",
       "RegistrationMonth       -0.004245            NaN  \n",
       "PostalCode               0.039545            NaN  \n",
       "DateCrawled_month        0.377462            NaN  \n",
       "DateCrawled_year              NaN            NaN  \n",
       "DateCreated_month        0.366662            NaN  \n",
       "DateCreated_year        -0.001367            NaN  \n",
       "LastSeen_month           1.000000            NaN  \n",
       "LastSeen_year                 NaN            NaN  "
      ]
     },
     "execution_count": 38,
     "metadata": {},
     "output_type": "execute_result"
    }
   ],
   "source": [
    "df.corr()"
   ]
  },
  {
   "cell_type": "code",
   "execution_count": 39,
   "metadata": {},
   "outputs": [
    {
     "data": {
      "text/plain": [
       "2016    270000\n",
       "2015        23\n",
       "Name: DateCreated_year, dtype: int64"
      ]
     },
     "execution_count": 39,
     "metadata": {},
     "output_type": "execute_result"
    }
   ],
   "source": [
    "df['DateCreated_year'].value_counts()"
   ]
  },
  {
   "cell_type": "code",
   "execution_count": 40,
   "metadata": {},
   "outputs": [
    {
     "data": {
      "text/plain": [
       "2016    270023\n",
       "Name: DateCrawled_year, dtype: int64"
      ]
     },
     "execution_count": 40,
     "metadata": {},
     "output_type": "execute_result"
    }
   ],
   "source": [
    "df['DateCrawled_year'].value_counts()"
   ]
  },
  {
   "cell_type": "code",
   "execution_count": 41,
   "metadata": {},
   "outputs": [
    {
     "data": {
      "text/plain": [
       "2016    270023\n",
       "Name: LastSeen_year, dtype: int64"
      ]
     },
     "execution_count": 41,
     "metadata": {},
     "output_type": "execute_result"
    }
   ],
   "source": [
    "df['LastSeen_year'].value_counts()"
   ]
  },
  {
   "cell_type": "code",
   "execution_count": 42,
   "metadata": {},
   "outputs": [
    {
     "data": {
      "text/html": [
       "<div>\n",
       "<style scoped>\n",
       "    .dataframe tbody tr th:only-of-type {\n",
       "        vertical-align: middle;\n",
       "    }\n",
       "\n",
       "    .dataframe tbody tr th {\n",
       "        vertical-align: top;\n",
       "    }\n",
       "\n",
       "    .dataframe thead th {\n",
       "        text-align: right;\n",
       "    }\n",
       "</style>\n",
       "<table border=\"1\" class=\"dataframe\">\n",
       "  <thead>\n",
       "    <tr style=\"text-align: right;\">\n",
       "      <th></th>\n",
       "      <th>Price</th>\n",
       "      <th>VehicleType</th>\n",
       "      <th>RegistrationYear</th>\n",
       "      <th>Gearbox</th>\n",
       "      <th>Power</th>\n",
       "      <th>Model</th>\n",
       "      <th>Kilometer</th>\n",
       "      <th>RegistrationMonth</th>\n",
       "      <th>FuelType</th>\n",
       "      <th>Brand</th>\n",
       "      <th>NotRepaired</th>\n",
       "      <th>PostalCode</th>\n",
       "      <th>DateCrawled_month</th>\n",
       "      <th>LastSeen_month</th>\n",
       "    </tr>\n",
       "  </thead>\n",
       "  <tbody>\n",
       "    <tr>\n",
       "      <td>0</td>\n",
       "      <td>18300</td>\n",
       "      <td>coupe</td>\n",
       "      <td>2011</td>\n",
       "      <td>manual</td>\n",
       "      <td>190</td>\n",
       "      <td>NaN</td>\n",
       "      <td>125000</td>\n",
       "      <td>5</td>\n",
       "      <td>gasoline</td>\n",
       "      <td>audi</td>\n",
       "      <td>yes</td>\n",
       "      <td>66954</td>\n",
       "      <td>3</td>\n",
       "      <td>4</td>\n",
       "    </tr>\n",
       "    <tr>\n",
       "      <td>1</td>\n",
       "      <td>9800</td>\n",
       "      <td>suv</td>\n",
       "      <td>2004</td>\n",
       "      <td>auto</td>\n",
       "      <td>163</td>\n",
       "      <td>grand</td>\n",
       "      <td>125000</td>\n",
       "      <td>8</td>\n",
       "      <td>gasoline</td>\n",
       "      <td>jeep</td>\n",
       "      <td>NaN</td>\n",
       "      <td>90480</td>\n",
       "      <td>3</td>\n",
       "      <td>4</td>\n",
       "    </tr>\n",
       "    <tr>\n",
       "      <td>2</td>\n",
       "      <td>1500</td>\n",
       "      <td>small</td>\n",
       "      <td>2001</td>\n",
       "      <td>manual</td>\n",
       "      <td>75</td>\n",
       "      <td>golf</td>\n",
       "      <td>150000</td>\n",
       "      <td>6</td>\n",
       "      <td>petrol</td>\n",
       "      <td>volkswagen</td>\n",
       "      <td>no</td>\n",
       "      <td>91074</td>\n",
       "      <td>3</td>\n",
       "      <td>3</td>\n",
       "    </tr>\n",
       "    <tr>\n",
       "      <td>3</td>\n",
       "      <td>3600</td>\n",
       "      <td>small</td>\n",
       "      <td>2008</td>\n",
       "      <td>manual</td>\n",
       "      <td>69</td>\n",
       "      <td>fabia</td>\n",
       "      <td>90000</td>\n",
       "      <td>7</td>\n",
       "      <td>gasoline</td>\n",
       "      <td>skoda</td>\n",
       "      <td>no</td>\n",
       "      <td>60437</td>\n",
       "      <td>3</td>\n",
       "      <td>4</td>\n",
       "    </tr>\n",
       "    <tr>\n",
       "      <td>4</td>\n",
       "      <td>650</td>\n",
       "      <td>sedan</td>\n",
       "      <td>1995</td>\n",
       "      <td>manual</td>\n",
       "      <td>102</td>\n",
       "      <td>3er</td>\n",
       "      <td>150000</td>\n",
       "      <td>10</td>\n",
       "      <td>petrol</td>\n",
       "      <td>bmw</td>\n",
       "      <td>yes</td>\n",
       "      <td>33775</td>\n",
       "      <td>4</td>\n",
       "      <td>4</td>\n",
       "    </tr>\n",
       "  </tbody>\n",
       "</table>\n",
       "</div>"
      ],
      "text/plain": [
       "   Price VehicleType  RegistrationYear Gearbox  Power  Model  Kilometer  \\\n",
       "0  18300       coupe              2011  manual    190    NaN     125000   \n",
       "1   9800         suv              2004    auto    163  grand     125000   \n",
       "2   1500       small              2001  manual     75   golf     150000   \n",
       "3   3600       small              2008  manual     69  fabia      90000   \n",
       "4    650       sedan              1995  manual    102    3er     150000   \n",
       "\n",
       "   RegistrationMonth  FuelType       Brand NotRepaired  PostalCode  \\\n",
       "0                  5  gasoline        audi         yes       66954   \n",
       "1                  8  gasoline        jeep         NaN       90480   \n",
       "2                  6    petrol  volkswagen          no       91074   \n",
       "3                  7  gasoline       skoda          no       60437   \n",
       "4                 10    petrol         bmw         yes       33775   \n",
       "\n",
       "   DateCrawled_month  LastSeen_month  \n",
       "0                  3               4  \n",
       "1                  3               4  \n",
       "2                  3               3  \n",
       "3                  3               4  \n",
       "4                  4               4  "
      ]
     },
     "execution_count": 42,
     "metadata": {},
     "output_type": "execute_result"
    }
   ],
   "source": [
    "df = df.drop(['DateCreated_year', 'DateCrawled_year', 'LastSeen_year', 'DateCreated_month', 'DateCrawled', 'DateCreated', 'LastSeen'], axis = 1)\n",
    "df.head()"
   ]
  },
  {
   "cell_type": "code",
   "execution_count": 43,
   "metadata": {
    "scrolled": true
   },
   "outputs": [
    {
     "data": {
      "text/html": [
       "<div>\n",
       "<style scoped>\n",
       "    .dataframe tbody tr th:only-of-type {\n",
       "        vertical-align: middle;\n",
       "    }\n",
       "\n",
       "    .dataframe tbody tr th {\n",
       "        vertical-align: top;\n",
       "    }\n",
       "\n",
       "    .dataframe thead th {\n",
       "        text-align: right;\n",
       "    }\n",
       "</style>\n",
       "<table border=\"1\" class=\"dataframe\">\n",
       "  <thead>\n",
       "    <tr style=\"text-align: right;\">\n",
       "      <th></th>\n",
       "      <th>Price</th>\n",
       "      <th>RegistrationYear</th>\n",
       "      <th>Power</th>\n",
       "      <th>Kilometer</th>\n",
       "      <th>PostalCode</th>\n",
       "      <th>VehicleType_convertible</th>\n",
       "      <th>VehicleType_coupe</th>\n",
       "      <th>VehicleType_other</th>\n",
       "      <th>VehicleType_sedan</th>\n",
       "      <th>VehicleType_small</th>\n",
       "      <th>...</th>\n",
       "      <th>RegistrationMonth_5</th>\n",
       "      <th>RegistrationMonth_6</th>\n",
       "      <th>RegistrationMonth_7</th>\n",
       "      <th>RegistrationMonth_8</th>\n",
       "      <th>RegistrationMonth_9</th>\n",
       "      <th>RegistrationMonth_10</th>\n",
       "      <th>RegistrationMonth_11</th>\n",
       "      <th>RegistrationMonth_12</th>\n",
       "      <th>DateCrawled_month_4</th>\n",
       "      <th>LastSeen_month_4</th>\n",
       "    </tr>\n",
       "  </thead>\n",
       "  <tbody>\n",
       "    <tr>\n",
       "      <td>0</td>\n",
       "      <td>18300</td>\n",
       "      <td>2011</td>\n",
       "      <td>190</td>\n",
       "      <td>125000</td>\n",
       "      <td>66954</td>\n",
       "      <td>0</td>\n",
       "      <td>1</td>\n",
       "      <td>0</td>\n",
       "      <td>0</td>\n",
       "      <td>0</td>\n",
       "      <td>...</td>\n",
       "      <td>1</td>\n",
       "      <td>0</td>\n",
       "      <td>0</td>\n",
       "      <td>0</td>\n",
       "      <td>0</td>\n",
       "      <td>0</td>\n",
       "      <td>0</td>\n",
       "      <td>0</td>\n",
       "      <td>0</td>\n",
       "      <td>1</td>\n",
       "    </tr>\n",
       "    <tr>\n",
       "      <td>1</td>\n",
       "      <td>9800</td>\n",
       "      <td>2004</td>\n",
       "      <td>163</td>\n",
       "      <td>125000</td>\n",
       "      <td>90480</td>\n",
       "      <td>0</td>\n",
       "      <td>0</td>\n",
       "      <td>0</td>\n",
       "      <td>0</td>\n",
       "      <td>0</td>\n",
       "      <td>...</td>\n",
       "      <td>0</td>\n",
       "      <td>0</td>\n",
       "      <td>0</td>\n",
       "      <td>1</td>\n",
       "      <td>0</td>\n",
       "      <td>0</td>\n",
       "      <td>0</td>\n",
       "      <td>0</td>\n",
       "      <td>0</td>\n",
       "      <td>1</td>\n",
       "    </tr>\n",
       "    <tr>\n",
       "      <td>2</td>\n",
       "      <td>1500</td>\n",
       "      <td>2001</td>\n",
       "      <td>75</td>\n",
       "      <td>150000</td>\n",
       "      <td>91074</td>\n",
       "      <td>0</td>\n",
       "      <td>0</td>\n",
       "      <td>0</td>\n",
       "      <td>0</td>\n",
       "      <td>1</td>\n",
       "      <td>...</td>\n",
       "      <td>0</td>\n",
       "      <td>1</td>\n",
       "      <td>0</td>\n",
       "      <td>0</td>\n",
       "      <td>0</td>\n",
       "      <td>0</td>\n",
       "      <td>0</td>\n",
       "      <td>0</td>\n",
       "      <td>0</td>\n",
       "      <td>0</td>\n",
       "    </tr>\n",
       "    <tr>\n",
       "      <td>3</td>\n",
       "      <td>3600</td>\n",
       "      <td>2008</td>\n",
       "      <td>69</td>\n",
       "      <td>90000</td>\n",
       "      <td>60437</td>\n",
       "      <td>0</td>\n",
       "      <td>0</td>\n",
       "      <td>0</td>\n",
       "      <td>0</td>\n",
       "      <td>1</td>\n",
       "      <td>...</td>\n",
       "      <td>0</td>\n",
       "      <td>0</td>\n",
       "      <td>1</td>\n",
       "      <td>0</td>\n",
       "      <td>0</td>\n",
       "      <td>0</td>\n",
       "      <td>0</td>\n",
       "      <td>0</td>\n",
       "      <td>0</td>\n",
       "      <td>1</td>\n",
       "    </tr>\n",
       "    <tr>\n",
       "      <td>4</td>\n",
       "      <td>650</td>\n",
       "      <td>1995</td>\n",
       "      <td>102</td>\n",
       "      <td>150000</td>\n",
       "      <td>33775</td>\n",
       "      <td>0</td>\n",
       "      <td>0</td>\n",
       "      <td>0</td>\n",
       "      <td>1</td>\n",
       "      <td>0</td>\n",
       "      <td>...</td>\n",
       "      <td>0</td>\n",
       "      <td>0</td>\n",
       "      <td>0</td>\n",
       "      <td>0</td>\n",
       "      <td>0</td>\n",
       "      <td>1</td>\n",
       "      <td>0</td>\n",
       "      <td>0</td>\n",
       "      <td>1</td>\n",
       "      <td>1</td>\n",
       "    </tr>\n",
       "  </tbody>\n",
       "</table>\n",
       "<p>5 rows × 73 columns</p>\n",
       "</div>"
      ],
      "text/plain": [
       "   Price  RegistrationYear  Power  Kilometer  PostalCode  \\\n",
       "0  18300              2011    190     125000       66954   \n",
       "1   9800              2004    163     125000       90480   \n",
       "2   1500              2001     75     150000       91074   \n",
       "3   3600              2008     69      90000       60437   \n",
       "4    650              1995    102     150000       33775   \n",
       "\n",
       "   VehicleType_convertible  VehicleType_coupe  VehicleType_other  \\\n",
       "0                        0                  1                  0   \n",
       "1                        0                  0                  0   \n",
       "2                        0                  0                  0   \n",
       "3                        0                  0                  0   \n",
       "4                        0                  0                  0   \n",
       "\n",
       "   VehicleType_sedan  VehicleType_small  ...  RegistrationMonth_5  \\\n",
       "0                  0                  0  ...                    1   \n",
       "1                  0                  0  ...                    0   \n",
       "2                  0                  1  ...                    0   \n",
       "3                  0                  1  ...                    0   \n",
       "4                  1                  0  ...                    0   \n",
       "\n",
       "   RegistrationMonth_6  RegistrationMonth_7  RegistrationMonth_8  \\\n",
       "0                    0                    0                    0   \n",
       "1                    0                    0                    1   \n",
       "2                    1                    0                    0   \n",
       "3                    0                    1                    0   \n",
       "4                    0                    0                    0   \n",
       "\n",
       "   RegistrationMonth_9  RegistrationMonth_10  RegistrationMonth_11  \\\n",
       "0                    0                     0                     0   \n",
       "1                    0                     0                     0   \n",
       "2                    0                     0                     0   \n",
       "3                    0                     0                     0   \n",
       "4                    0                     1                     0   \n",
       "\n",
       "   RegistrationMonth_12  DateCrawled_month_4  LastSeen_month_4  \n",
       "0                     0                    0                 1  \n",
       "1                     0                    0                 1  \n",
       "2                     0                    0                 0  \n",
       "3                     0                    0                 1  \n",
       "4                     0                    1                 1  \n",
       "\n",
       "[5 rows x 73 columns]"
      ]
     },
     "execution_count": 43,
     "metadata": {},
     "output_type": "execute_result"
    }
   ],
   "source": [
    "df_num = pd.get_dummies(df, columns = ['VehicleType', 'Gearbox', 'FuelType', 'Brand', 'NotRepaired', 'RegistrationMonth', 'DateCrawled_month', 'LastSeen_month'], drop_first=True)\n",
    "df_num = df_num.drop(['Model'], axis = 1)\n",
    "df_num.head()"
   ]
  },
  {
   "cell_type": "markdown",
   "metadata": {},
   "source": [
    "И на этом с предобработкой данных я считаю можно закончить. Пора переходить к обучению моделей."
   ]
  },
  {
   "cell_type": "markdown",
   "metadata": {},
   "source": [
    "## Обучение моделей"
   ]
  },
  {
   "cell_type": "markdown",
   "metadata": {},
   "source": [
    "Для обучения моделей мы должны:\n",
    "\n",
    "1) разделить наши данные на тренировочную и тестовую выборки.\n",
    "\n",
    "2) обучить несколько моделей, и подобрать к ним параметры. Пусть это будет решаюшее дерево, случайный лес, линейная регрессия, и LightGBM. Качество моделей согласно задания будем определять с помощью RMSE. Также при обучении выводить время выполнения ячейки.\n",
    "\n",
    "3) Проверить как повлияет на обучение удаление столбцов Model, PostalCode, DateCrawled_month_4, LastSeen_month_4"
   ]
  },
  {
   "cell_type": "code",
   "execution_count": 44,
   "metadata": {},
   "outputs": [],
   "source": [
    "features = df_num.drop('Price', axis = 1)\n",
    "target = df_num['Price']\n",
    "features_train, features_valid, target_train, target_valid = train_test_split(features, \n",
    "                                       target, test_size = 0.25, random_state=12345)"
   ]
  },
  {
   "cell_type": "code",
   "execution_count": 45,
   "metadata": {},
   "outputs": [
    {
     "name": "stdout",
     "output_type": "stream",
     "text": [
      "Лучший результат: 1787.9838460368926 Глубина дерева: 15\n",
      "CPU times: user 1min 57s, sys: 2.48 s, total: 1min 59s\n",
      "Wall time: 2min\n"
     ]
    }
   ],
   "source": [
    "%%time\n",
    "best_result_1 = 10000\n",
    "best_depth_1 = 0\n",
    "for depth_1 in range(1, 50):\n",
    "    model_1 = DecisionTreeRegressor(random_state = 12345, max_depth = depth_1)\n",
    "    model_1.fit(features_train, target_train)\n",
    "    answer_1 = model_1.predict(features_valid)\n",
    "    result_1 = mean_squared_error(answer_1, target_valid) ** 0.5\n",
    "    if result_1 < best_result_1:\n",
    "        best_model_1 = model_1\n",
    "        best_result_1 = result_1\n",
    "        best_depth_1 = depth_1\n",
    "\n",
    "print(\"Лучший результат:\", best_result_1, \"Глубина дерева:\", best_depth_1)"
   ]
  },
  {
   "cell_type": "code",
   "execution_count": 46,
   "metadata": {},
   "outputs": [
    {
     "name": "stdout",
     "output_type": "stream",
     "text": [
      "CPU times: user 2.05 s, sys: 36 ms, total: 2.09 s\n",
      "Wall time: 2.1 s\n"
     ]
    },
    {
     "data": {
      "text/plain": [
       "DecisionTreeRegressor(criterion='mse', max_depth=15, max_features=None,\n",
       "                      max_leaf_nodes=None, min_impurity_decrease=0.0,\n",
       "                      min_impurity_split=None, min_samples_leaf=1,\n",
       "                      min_samples_split=2, min_weight_fraction_leaf=0.0,\n",
       "                      presort=False, random_state=12345, splitter='best')"
      ]
     },
     "execution_count": 46,
     "metadata": {},
     "output_type": "execute_result"
    }
   ],
   "source": [
    "%%time\n",
    "model_1_1 = DecisionTreeRegressor(random_state = 12345, max_depth = 15)\n",
    "model_1_1.fit(features_train, target_train)"
   ]
  },
  {
   "cell_type": "code",
   "execution_count": 47,
   "metadata": {},
   "outputs": [
    {
     "name": "stdout",
     "output_type": "stream",
     "text": [
      "CPU times: user 24.1 ms, sys: 12.1 ms, total: 36.2 ms\n",
      "Wall time: 34.6 ms\n"
     ]
    },
    {
     "data": {
      "text/plain": [
       "1787.9838460368926"
      ]
     },
     "execution_count": 47,
     "metadata": {},
     "output_type": "execute_result"
    }
   ],
   "source": [
    "%%time\n",
    "answer_1_1 = model_1_1.predict(features_valid)\n",
    "result_1_1 = mean_squared_error(answer_1_1, target_valid) ** 0.5\n",
    "result_1_1"
   ]
  },
  {
   "cell_type": "code",
   "execution_count": 48,
   "metadata": {},
   "outputs": [],
   "source": [
    "my_scorer = make_scorer(mean_squared_error)"
   ]
  },
  {
   "cell_type": "code",
   "execution_count": 49,
   "metadata": {},
   "outputs": [
    {
     "name": "stdout",
     "output_type": "stream",
     "text": [
      "CPU times: user 1min, sys: 208 ms, total: 1min 1s\n",
      "Wall time: 1min 1s\n"
     ]
    },
    {
     "data": {
      "text/plain": [
       "1650.433628464765"
      ]
     },
     "execution_count": 49,
     "metadata": {},
     "output_type": "execute_result"
    }
   ],
   "source": [
    "%%time\n",
    "model_2 = RandomForestRegressor(random_state = 12345, n_estimators = 13, max_depth = 15)\n",
    "np.mean(cross_val_score(model_2, features_train, target_train, scoring=my_scorer, cv = 4)) ** 0.5"
   ]
  },
  {
   "cell_type": "code",
   "execution_count": 50,
   "metadata": {},
   "outputs": [
    {
     "name": "stdout",
     "output_type": "stream",
     "text": [
      "CPU times: user 17.4 s, sys: 55.9 ms, total: 17.5 s\n",
      "Wall time: 18.2 s\n"
     ]
    },
    {
     "data": {
      "text/plain": [
       "RandomForestRegressor(bootstrap=True, criterion='mse', max_depth=15,\n",
       "                      max_features='auto', max_leaf_nodes=None,\n",
       "                      min_impurity_decrease=0.0, min_impurity_split=None,\n",
       "                      min_samples_leaf=1, min_samples_split=2,\n",
       "                      min_weight_fraction_leaf=0.0, n_estimators=13,\n",
       "                      n_jobs=None, oob_score=False, random_state=12345,\n",
       "                      verbose=0, warm_start=False)"
      ]
     },
     "execution_count": 50,
     "metadata": {},
     "output_type": "execute_result"
    }
   ],
   "source": [
    "%%time\n",
    "model_2 = RandomForestRegressor(random_state = 12345, n_estimators = 13, max_depth = 15)\n",
    "model_2.fit(features_train, target_train)"
   ]
  },
  {
   "cell_type": "code",
   "execution_count": 51,
   "metadata": {},
   "outputs": [
    {
     "name": "stdout",
     "output_type": "stream",
     "text": [
      "CPU times: user 177 ms, sys: 16 ms, total: 193 ms\n",
      "Wall time: 199 ms\n"
     ]
    },
    {
     "data": {
      "text/plain": [
       "1595.332859112454"
      ]
     },
     "execution_count": 51,
     "metadata": {},
     "output_type": "execute_result"
    }
   ],
   "source": [
    "%%time\n",
    "answer_2 = model_2.predict(features_valid)\n",
    "result_2 = mean_squared_error(answer_2, target_valid) ** 0.5\n",
    "result_2"
   ]
  },
  {
   "cell_type": "code",
   "execution_count": 52,
   "metadata": {},
   "outputs": [
    {
     "name": "stdout",
     "output_type": "stream",
     "text": [
      "CPU times: user 2.74 s, sys: 850 ms, total: 3.59 s\n",
      "Wall time: 3.54 s\n"
     ]
    },
    {
     "data": {
      "text/plain": [
       "LinearRegression(copy_X=True, fit_intercept=True, n_jobs=None, normalize=False)"
      ]
     },
     "execution_count": 52,
     "metadata": {},
     "output_type": "execute_result"
    }
   ],
   "source": [
    "%%time\n",
    "model_3 = LinearRegression()\n",
    "model_3.fit(features_train, target_train)"
   ]
  },
  {
   "cell_type": "code",
   "execution_count": 53,
   "metadata": {},
   "outputs": [
    {
     "name": "stdout",
     "output_type": "stream",
     "text": [
      "CPU times: user 39 ms, sys: 44.1 ms, total: 83.1 ms\n",
      "Wall time: 120 ms\n"
     ]
    },
    {
     "data": {
      "text/plain": [
       "2475.1232339735166"
      ]
     },
     "execution_count": 53,
     "metadata": {},
     "output_type": "execute_result"
    }
   ],
   "source": [
    "%%time\n",
    "answer_3 = model_3.predict(features_valid)\n",
    "result_3 = mean_squared_error(answer_3, target_valid) ** 0.5\n",
    "result_3"
   ]
  },
  {
   "cell_type": "code",
   "execution_count": 54,
   "metadata": {},
   "outputs": [
    {
     "name": "stdout",
     "output_type": "stream",
     "text": [
      "CPU times: user 11.9 s, sys: 111 ms, total: 12 s\n",
      "Wall time: 12.2 s\n"
     ]
    },
    {
     "data": {
      "text/plain": [
       "LGBMRegressor(boosting_type='gbdt', class_weight=None, colsample_bytree=1.0,\n",
       "              importance_type='split', learning_rate=0.1, max_depth=-1,\n",
       "              min_child_samples=20, min_child_weight=0.001, min_split_gain=0.0,\n",
       "              n_estimators=100, n_jobs=-1, num_leaves=70, objective=None,\n",
       "              random_state=None, reg_alpha=0.0, reg_lambda=0.0, silent=True,\n",
       "              subsample=1.0, subsample_for_bin=200000, subsample_freq=0)"
      ]
     },
     "execution_count": 54,
     "metadata": {},
     "output_type": "execute_result"
    }
   ],
   "source": [
    "%%time\n",
    "model_4 = LGBMRegressor(num_leaves = 70, learning_rate=0.1)\n",
    "model_4.fit(features_train, target_train)"
   ]
  },
  {
   "cell_type": "code",
   "execution_count": 55,
   "metadata": {},
   "outputs": [
    {
     "name": "stdout",
     "output_type": "stream",
     "text": [
      "CPU times: user 733 ms, sys: 3.17 ms, total: 736 ms\n",
      "Wall time: 705 ms\n"
     ]
    },
    {
     "data": {
      "text/plain": [
       "1524.612056191437"
      ]
     },
     "execution_count": 55,
     "metadata": {},
     "output_type": "execute_result"
    }
   ],
   "source": [
    "%%time\n",
    "answer_4 = model_4.predict(features_valid)\n",
    "result_4 = mean_squared_error(answer_4, target_valid) ** 0.5\n",
    "result_4"
   ]
  },
  {
   "cell_type": "markdown",
   "metadata": {},
   "source": [
    "## Анализ моделей"
   ]
  },
  {
   "cell_type": "markdown",
   "metadata": {},
   "source": [
    "В итоге лучшие результаты по точности показала модель с градиентным бустингом, хоть и обогнала модель случайного леса всего чуть-чуть, по скорости обучения градиентный бустинг также выигрывает, единственное преимущество случайного леса в том, что он быстрее предсказывает. Самой быстрой и по обучению и по предсказанию оказалась модель решающего дерева, она успела обучиться почти за 2 секунды, и показала результат не сильно уступающий другим по качеству. Самый слабый результат в части точности из исследуемых показала себя линейная регрессия, и при этом отстала от решающего древа по скорости.\n",
    "Как итог, я считаю, что заказчику нужно будет предложить два варианта: и решающее древо и градиентный бустинг, смотря что ему важнее скорость или точность на примере имеющихся результатов. "
   ]
  },
  {
   "cell_type": "code",
   "execution_count": null,
   "metadata": {},
   "outputs": [],
   "source": []
  }
 ],
 "metadata": {
  "ExecuteTimeLog": [
   {
    "duration": 1410,
    "start_time": "2021-11-12T22:18:49.211Z"
   },
   {
    "duration": 774,
    "start_time": "2021-11-12T22:18:50.623Z"
   },
   {
    "duration": 110,
    "start_time": "2021-11-12T22:19:18.820Z"
   },
   {
    "duration": 93,
    "start_time": "2021-11-12T22:19:34.401Z"
   },
   {
    "duration": 1527,
    "start_time": "2021-11-13T11:36:01.687Z"
   },
   {
    "duration": 1100,
    "start_time": "2021-11-13T11:36:04.347Z"
   },
   {
    "duration": 173,
    "start_time": "2021-11-13T11:36:05.450Z"
   },
   {
    "duration": 127,
    "start_time": "2021-11-13T11:36:06.589Z"
   },
   {
    "duration": 376,
    "start_time": "2021-11-13T11:39:24.899Z"
   },
   {
    "duration": 128,
    "start_time": "2021-11-13T11:39:52.959Z"
   },
   {
    "duration": 39,
    "start_time": "2021-11-13T11:40:31.025Z"
   },
   {
    "duration": 1455,
    "start_time": "2021-11-13T11:41:38.467Z"
   },
   {
    "duration": 1137,
    "start_time": "2021-11-13T11:41:39.924Z"
   },
   {
    "duration": 165,
    "start_time": "2021-11-13T11:41:41.065Z"
   },
   {
    "duration": 134,
    "start_time": "2021-11-13T11:41:41.233Z"
   },
   {
    "duration": 500,
    "start_time": "2021-11-13T11:41:41.483Z"
   },
   {
    "duration": 71,
    "start_time": "2021-11-13T11:42:46.046Z"
   },
   {
    "duration": 56,
    "start_time": "2021-11-13T11:43:03.582Z"
   },
   {
    "duration": 40,
    "start_time": "2021-11-13T11:46:16.168Z"
   },
   {
    "duration": 478,
    "start_time": "2021-11-13T11:46:26.287Z"
   },
   {
    "duration": 37,
    "start_time": "2021-11-13T11:46:32.154Z"
   },
   {
    "duration": 53,
    "start_time": "2021-11-13T11:46:43.797Z"
   },
   {
    "duration": 53,
    "start_time": "2021-11-13T11:48:26.845Z"
   },
   {
    "duration": 53,
    "start_time": "2021-11-13T11:50:36.651Z"
   },
   {
    "duration": 56,
    "start_time": "2021-11-13T11:50:48.366Z"
   },
   {
    "duration": 222,
    "start_time": "2021-11-13T11:57:17.684Z"
   },
   {
    "duration": 53,
    "start_time": "2021-11-13T11:57:23.061Z"
   },
   {
    "duration": 36,
    "start_time": "2021-11-13T12:02:15.742Z"
   },
   {
    "duration": 27,
    "start_time": "2021-11-13T12:02:34.223Z"
   },
   {
    "duration": 290,
    "start_time": "2021-11-13T12:06:58.165Z"
   },
   {
    "duration": 52,
    "start_time": "2021-11-13T12:07:54.470Z"
   },
   {
    "duration": 84,
    "start_time": "2021-11-13T12:14:29.480Z"
   },
   {
    "duration": 113,
    "start_time": "2021-11-13T12:22:03.759Z"
   },
   {
    "duration": 97,
    "start_time": "2021-11-13T12:22:53.238Z"
   },
   {
    "duration": 95,
    "start_time": "2021-11-13T12:23:00.979Z"
   },
   {
    "duration": 338,
    "start_time": "2021-11-13T12:23:12.303Z"
   },
   {
    "duration": 169,
    "start_time": "2021-11-13T12:24:08.141Z"
   },
   {
    "duration": 101,
    "start_time": "2021-11-13T12:24:27.879Z"
   },
   {
    "duration": 106,
    "start_time": "2021-11-13T12:24:43.925Z"
   },
   {
    "duration": 170,
    "start_time": "2021-11-13T12:24:59.193Z"
   },
   {
    "duration": 169,
    "start_time": "2021-11-13T12:25:14.498Z"
   },
   {
    "duration": 386,
    "start_time": "2021-11-13T12:27:33.908Z"
   },
   {
    "duration": 44,
    "start_time": "2021-11-13T12:29:44.479Z"
   },
   {
    "duration": 1515,
    "start_time": "2021-11-13T12:32:15.007Z"
   },
   {
    "duration": 1202,
    "start_time": "2021-11-13T12:32:16.525Z"
   },
   {
    "duration": 180,
    "start_time": "2021-11-13T12:32:17.731Z"
   },
   {
    "duration": 153,
    "start_time": "2021-11-13T12:32:17.915Z"
   },
   {
    "duration": 499,
    "start_time": "2021-11-13T12:32:18.071Z"
   },
   {
    "duration": 295,
    "start_time": "2021-11-13T12:32:18.572Z"
   },
   {
    "duration": 62,
    "start_time": "2021-11-13T12:32:18.870Z"
   },
   {
    "duration": 427,
    "start_time": "2021-11-13T12:32:22.785Z"
   },
   {
    "duration": 51,
    "start_time": "2021-11-13T12:32:34.892Z"
   },
   {
    "duration": 363,
    "start_time": "2021-11-13T12:57:51.822Z"
   },
   {
    "duration": 30,
    "start_time": "2021-11-13T12:59:24.470Z"
   },
   {
    "duration": 48,
    "start_time": "2021-11-13T12:59:38.925Z"
   },
   {
    "duration": 32,
    "start_time": "2021-11-13T13:04:22.778Z"
   },
   {
    "duration": 229,
    "start_time": "2021-11-13T13:10:09.467Z"
   },
   {
    "duration": 2393,
    "start_time": "2021-11-14T22:18:20.922Z"
   },
   {
    "duration": 1171,
    "start_time": "2021-11-14T22:18:23.318Z"
   },
   {
    "duration": 173,
    "start_time": "2021-11-14T22:18:24.492Z"
   },
   {
    "duration": 138,
    "start_time": "2021-11-14T22:18:24.668Z"
   },
   {
    "duration": 508,
    "start_time": "2021-11-14T22:18:24.809Z"
   },
   {
    "duration": 315,
    "start_time": "2021-11-14T22:18:25.319Z"
   },
   {
    "duration": 66,
    "start_time": "2021-11-14T22:18:25.637Z"
   },
   {
    "duration": 450,
    "start_time": "2021-11-14T22:18:25.707Z"
   },
   {
    "duration": 55,
    "start_time": "2021-11-14T22:18:26.159Z"
   },
   {
    "duration": 398,
    "start_time": "2021-11-14T22:18:26.217Z"
   },
   {
    "duration": 49,
    "start_time": "2021-11-14T22:18:26.618Z"
   },
   {
    "duration": 254,
    "start_time": "2021-11-14T22:18:26.670Z"
   },
   {
    "duration": 44,
    "start_time": "2021-11-14T22:18:28.951Z"
   },
   {
    "duration": 46,
    "start_time": "2021-11-14T22:18:41.062Z"
   },
   {
    "duration": 276,
    "start_time": "2021-11-14T22:21:37.391Z"
   },
   {
    "duration": 37,
    "start_time": "2021-11-14T22:22:39.461Z"
   },
   {
    "duration": 411,
    "start_time": "2021-11-14T22:23:10.557Z"
   },
   {
    "duration": 19,
    "start_time": "2021-11-14T22:23:15.988Z"
   },
   {
    "duration": 35,
    "start_time": "2021-11-14T23:14:59.346Z"
   },
   {
    "duration": 251,
    "start_time": "2021-11-14T23:15:50.822Z"
   },
   {
    "duration": 41,
    "start_time": "2021-11-14T23:16:42.802Z"
   },
   {
    "duration": 220,
    "start_time": "2021-11-14T23:17:43.233Z"
   },
   {
    "duration": 45,
    "start_time": "2021-11-14T23:18:26.857Z"
   },
   {
    "duration": 1434,
    "start_time": "2021-11-14T23:24:48.241Z"
   },
   {
    "duration": 6400,
    "start_time": "2021-11-14T23:25:01.604Z"
   },
   {
    "duration": 329,
    "start_time": "2021-11-14T23:26:44.199Z"
   },
   {
    "duration": 404,
    "start_time": "2021-11-14T23:27:43.709Z"
   },
   {
    "duration": 557,
    "start_time": "2021-11-14T23:28:10.049Z"
   },
   {
    "duration": 346,
    "start_time": "2021-11-14T23:28:40.666Z"
   },
   {
    "duration": 342,
    "start_time": "2021-11-14T23:28:41.839Z"
   },
   {
    "duration": 357,
    "start_time": "2021-11-14T23:28:44.777Z"
   },
   {
    "duration": 198,
    "start_time": "2021-11-14T23:34:02.677Z"
   },
   {
    "duration": 47,
    "start_time": "2021-11-15T01:01:59.241Z"
   },
   {
    "duration": 553,
    "start_time": "2021-11-15T01:10:02.229Z"
   },
   {
    "duration": 416,
    "start_time": "2021-11-15T01:10:32.153Z"
   },
   {
    "duration": 394,
    "start_time": "2021-11-15T01:10:56.468Z"
   },
   {
    "duration": 358,
    "start_time": "2021-11-15T01:11:09.535Z"
   },
   {
    "duration": 1006,
    "start_time": "2021-11-15T01:11:48.265Z"
   },
   {
    "duration": 301,
    "start_time": "2021-11-15T01:12:09.599Z"
   },
   {
    "duration": 326,
    "start_time": "2021-11-15T01:12:29.313Z"
   },
   {
    "duration": 347,
    "start_time": "2021-11-15T01:12:51.131Z"
   },
   {
    "duration": 378,
    "start_time": "2021-11-15T01:13:10.963Z"
   },
   {
    "duration": 398,
    "start_time": "2021-11-15T01:14:28.482Z"
   },
   {
    "duration": 367,
    "start_time": "2021-11-15T01:15:02.639Z"
   },
   {
    "duration": 210,
    "start_time": "2021-11-15T01:20:06.819Z"
   },
   {
    "duration": 555,
    "start_time": "2021-11-15T01:21:38.477Z"
   },
   {
    "duration": 449,
    "start_time": "2021-11-15T01:22:14.837Z"
   },
   {
    "duration": 396,
    "start_time": "2021-11-15T01:22:26.228Z"
   },
   {
    "duration": 338,
    "start_time": "2021-11-15T01:22:33.223Z"
   },
   {
    "duration": 455,
    "start_time": "2021-11-15T01:22:40.959Z"
   },
   {
    "duration": 548,
    "start_time": "2021-11-15T01:22:55.287Z"
   },
   {
    "duration": 565,
    "start_time": "2021-11-15T01:23:07.264Z"
   },
   {
    "duration": 13,
    "start_time": "2021-11-15T01:24:10.178Z"
   },
   {
    "duration": 1605,
    "start_time": "2021-11-15T01:26:24.233Z"
   },
   {
    "duration": 1713,
    "start_time": "2021-11-15T01:27:19.319Z"
   },
   {
    "duration": 1906,
    "start_time": "2021-11-15T01:27:27.400Z"
   },
   {
    "duration": 1912,
    "start_time": "2021-11-15T01:27:40.193Z"
   },
   {
    "duration": 271,
    "start_time": "2021-11-15T01:32:12.733Z"
   },
   {
    "duration": 266,
    "start_time": "2021-11-15T01:32:22.617Z"
   },
   {
    "duration": 276,
    "start_time": "2021-11-15T01:32:50.218Z"
   },
   {
    "duration": 2785,
    "start_time": "2021-11-15T01:33:31.078Z"
   },
   {
    "duration": 218,
    "start_time": "2021-11-15T01:36:40.428Z"
   },
   {
    "duration": 204,
    "start_time": "2021-11-15T01:38:20.203Z"
   },
   {
    "duration": 386,
    "start_time": "2021-11-15T01:41:17.236Z"
   },
   {
    "duration": 357,
    "start_time": "2021-11-15T01:41:33.594Z"
   },
   {
    "duration": 422,
    "start_time": "2021-11-15T01:41:59.533Z"
   },
   {
    "duration": 386,
    "start_time": "2021-11-15T01:59:31.099Z"
   },
   {
    "duration": 210,
    "start_time": "2021-11-15T01:59:58.703Z"
   },
   {
    "duration": 37,
    "start_time": "2021-11-15T02:07:01.614Z"
   },
   {
    "duration": 63,
    "start_time": "2021-11-15T02:07:35.957Z"
   },
   {
    "duration": 65,
    "start_time": "2021-11-15T02:08:03.940Z"
   },
   {
    "duration": 4834,
    "start_time": "2021-11-15T02:09:27.972Z"
   },
   {
    "duration": 41,
    "start_time": "2021-11-15T02:11:13.419Z"
   },
   {
    "duration": 38,
    "start_time": "2021-11-15T02:11:46.594Z"
   },
   {
    "duration": 40,
    "start_time": "2021-11-15T02:13:14.092Z"
   },
   {
    "duration": 43,
    "start_time": "2021-11-15T02:14:14.945Z"
   },
   {
    "duration": 213,
    "start_time": "2021-11-15T03:04:10.887Z"
   },
   {
    "duration": 230,
    "start_time": "2021-11-15T03:06:29.381Z"
   },
   {
    "duration": 3615,
    "start_time": "2021-11-15T03:07:57.586Z"
   },
   {
    "duration": 1489,
    "start_time": "2021-11-15T03:10:41.770Z"
   },
   {
    "duration": 1267,
    "start_time": "2021-11-15T03:10:43.262Z"
   },
   {
    "duration": 195,
    "start_time": "2021-11-15T03:10:44.532Z"
   },
   {
    "duration": 142,
    "start_time": "2021-11-15T03:10:44.729Z"
   },
   {
    "duration": 510,
    "start_time": "2021-11-15T03:10:44.874Z"
   },
   {
    "duration": 313,
    "start_time": "2021-11-15T03:10:45.386Z"
   },
   {
    "duration": 68,
    "start_time": "2021-11-15T03:10:45.701Z"
   },
   {
    "duration": 428,
    "start_time": "2021-11-15T03:10:45.773Z"
   },
   {
    "duration": 47,
    "start_time": "2021-11-15T03:10:46.204Z"
   },
   {
    "duration": 389,
    "start_time": "2021-11-15T03:10:46.267Z"
   },
   {
    "duration": 40,
    "start_time": "2021-11-15T03:10:46.658Z"
   },
   {
    "duration": 268,
    "start_time": "2021-11-15T03:10:46.700Z"
   },
   {
    "duration": 46,
    "start_time": "2021-11-15T03:10:46.970Z"
   },
   {
    "duration": 317,
    "start_time": "2021-11-15T03:10:47.018Z"
   },
   {
    "duration": 47,
    "start_time": "2021-11-15T03:10:47.337Z"
   },
   {
    "duration": 267,
    "start_time": "2021-11-15T03:10:47.387Z"
   },
   {
    "duration": 70,
    "start_time": "2021-11-15T03:10:47.658Z"
   },
   {
    "duration": 458,
    "start_time": "2021-11-15T03:10:47.732Z"
   },
   {
    "duration": 45,
    "start_time": "2021-11-15T03:10:48.192Z"
   },
   {
    "duration": 566,
    "start_time": "2021-11-15T03:10:48.239Z"
   },
   {
    "duration": 554,
    "start_time": "2021-11-15T03:10:48.808Z"
   },
   {
    "duration": 576,
    "start_time": "2021-11-15T03:10:49.368Z"
   },
   {
    "duration": 165,
    "start_time": "2021-11-15T03:10:49.952Z"
   },
   {
    "duration": 81,
    "start_time": "2021-11-15T03:10:50.121Z"
   },
   {
    "duration": 620,
    "start_time": "2021-11-15T03:10:50.205Z"
   },
   {
    "duration": 328,
    "start_time": "2021-11-15T03:10:50.828Z"
   },
   {
    "duration": 3326,
    "start_time": "2021-11-15T03:10:51.159Z"
   },
   {
    "duration": 300,
    "start_time": "2021-11-15T03:10:54.488Z"
   },
   {
    "duration": 709,
    "start_time": "2021-11-15T03:10:54.791Z"
   },
   {
    "duration": 322,
    "start_time": "2021-11-15T03:10:55.503Z"
   },
   {
    "duration": 69,
    "start_time": "2021-11-15T03:10:55.828Z"
   },
   {
    "duration": 78,
    "start_time": "2021-11-15T03:10:55.900Z"
   },
   {
    "duration": 66,
    "start_time": "2021-11-15T03:10:55.982Z"
   },
   {
    "duration": 63,
    "start_time": "2021-11-15T03:10:56.069Z"
   },
   {
    "duration": 83,
    "start_time": "2021-11-15T03:10:56.135Z"
   },
   {
    "duration": 73,
    "start_time": "2021-11-15T03:10:56.222Z"
   },
   {
    "duration": 79,
    "start_time": "2021-11-15T03:11:03.457Z"
   },
   {
    "duration": 398,
    "start_time": "2021-11-15T03:15:04.573Z"
   },
   {
    "duration": 1493,
    "start_time": "2021-11-15T03:23:34.824Z"
   },
   {
    "duration": 1186,
    "start_time": "2021-11-15T03:23:36.319Z"
   },
   {
    "duration": 183,
    "start_time": "2021-11-15T03:23:37.508Z"
   },
   {
    "duration": 136,
    "start_time": "2021-11-15T03:23:37.694Z"
   },
   {
    "duration": 520,
    "start_time": "2021-11-15T03:23:37.833Z"
   },
   {
    "duration": 298,
    "start_time": "2021-11-15T03:23:38.356Z"
   },
   {
    "duration": 59,
    "start_time": "2021-11-15T03:23:38.667Z"
   },
   {
    "duration": 451,
    "start_time": "2021-11-15T03:23:38.729Z"
   },
   {
    "duration": 47,
    "start_time": "2021-11-15T03:23:39.184Z"
   },
   {
    "duration": 397,
    "start_time": "2021-11-15T03:23:39.235Z"
   },
   {
    "duration": 47,
    "start_time": "2021-11-15T03:23:39.634Z"
   },
   {
    "duration": 230,
    "start_time": "2021-11-15T03:23:39.684Z"
   },
   {
    "duration": 56,
    "start_time": "2021-11-15T03:23:39.917Z"
   },
   {
    "duration": 317,
    "start_time": "2021-11-15T03:23:39.976Z"
   },
   {
    "duration": 32,
    "start_time": "2021-11-15T03:23:40.295Z"
   },
   {
    "duration": 300,
    "start_time": "2021-11-15T03:23:40.330Z"
   },
   {
    "duration": 58,
    "start_time": "2021-11-15T03:23:40.633Z"
   },
   {
    "duration": 249,
    "start_time": "2021-11-15T03:23:40.694Z"
   },
   {
    "duration": 69,
    "start_time": "2021-11-15T03:23:40.945Z"
   },
   {
    "duration": 357,
    "start_time": "2021-11-15T03:23:41.016Z"
   },
   {
    "duration": 349,
    "start_time": "2021-11-15T03:23:41.376Z"
   },
   {
    "duration": 388,
    "start_time": "2021-11-15T03:23:41.728Z"
   },
   {
    "duration": 114,
    "start_time": "2021-11-15T03:23:42.119Z"
   },
   {
    "duration": 62,
    "start_time": "2021-11-15T03:23:42.236Z"
   },
   {
    "duration": 386,
    "start_time": "2021-11-15T03:23:42.301Z"
   },
   {
    "duration": 235,
    "start_time": "2021-11-15T03:23:42.690Z"
   },
   {
    "duration": 2079,
    "start_time": "2021-11-15T03:23:42.931Z"
   },
   {
    "duration": 229,
    "start_time": "2021-11-15T03:23:45.013Z"
   },
   {
    "duration": 462,
    "start_time": "2021-11-15T03:23:45.245Z"
   },
   {
    "duration": 226,
    "start_time": "2021-11-15T03:23:45.710Z"
   },
   {
    "duration": 53,
    "start_time": "2021-11-15T03:23:45.939Z"
   },
   {
    "duration": 38,
    "start_time": "2021-11-15T03:23:45.995Z"
   },
   {
    "duration": 71,
    "start_time": "2021-11-15T03:23:46.035Z"
   },
   {
    "duration": 44,
    "start_time": "2021-11-15T03:23:46.108Z"
   },
   {
    "duration": 56,
    "start_time": "2021-11-15T03:23:46.154Z"
   },
   {
    "duration": 62,
    "start_time": "2021-11-15T03:23:46.212Z"
   },
   {
    "duration": 245,
    "start_time": "2021-11-15T03:24:01.254Z"
   },
   {
    "duration": 161,
    "start_time": "2021-11-15T03:24:29.071Z"
   },
   {
    "duration": 94,
    "start_time": "2021-11-15T03:26:37.549Z"
   },
   {
    "duration": 14,
    "start_time": "2021-11-15T03:29:21.258Z"
   },
   {
    "duration": 12,
    "start_time": "2021-11-15T03:29:45.820Z"
   },
   {
    "duration": 12,
    "start_time": "2021-11-15T03:31:08.456Z"
   },
   {
    "duration": 13,
    "start_time": "2021-11-15T03:31:09.474Z"
   },
   {
    "duration": 10,
    "start_time": "2021-11-15T03:33:24.663Z"
   },
   {
    "duration": 47,
    "start_time": "2021-11-15T03:34:43.575Z"
   },
   {
    "duration": 1495,
    "start_time": "2021-11-15T03:35:47.404Z"
   },
   {
    "duration": 1133,
    "start_time": "2021-11-15T03:35:48.901Z"
   },
   {
    "duration": 172,
    "start_time": "2021-11-15T03:35:50.037Z"
   },
   {
    "duration": 141,
    "start_time": "2021-11-15T03:35:50.211Z"
   },
   {
    "duration": 496,
    "start_time": "2021-11-15T03:35:50.355Z"
   },
   {
    "duration": 308,
    "start_time": "2021-11-15T03:35:50.854Z"
   },
   {
    "duration": 54,
    "start_time": "2021-11-15T03:35:51.168Z"
   },
   {
    "duration": 449,
    "start_time": "2021-11-15T03:35:51.228Z"
   },
   {
    "duration": 52,
    "start_time": "2021-11-15T03:35:51.681Z"
   },
   {
    "duration": 415,
    "start_time": "2021-11-15T03:35:51.736Z"
   },
   {
    "duration": 44,
    "start_time": "2021-11-15T03:35:52.154Z"
   },
   {
    "duration": 264,
    "start_time": "2021-11-15T03:35:52.201Z"
   },
   {
    "duration": 48,
    "start_time": "2021-11-15T03:35:52.468Z"
   },
   {
    "duration": 292,
    "start_time": "2021-11-15T03:35:52.519Z"
   },
   {
    "duration": 34,
    "start_time": "2021-11-15T03:35:52.813Z"
   },
   {
    "duration": 274,
    "start_time": "2021-11-15T03:35:52.849Z"
   },
   {
    "duration": 54,
    "start_time": "2021-11-15T03:35:53.126Z"
   },
   {
    "duration": 230,
    "start_time": "2021-11-15T03:35:53.182Z"
   },
   {
    "duration": 54,
    "start_time": "2021-11-15T03:35:53.415Z"
   },
   {
    "duration": 490,
    "start_time": "2021-11-15T03:35:53.471Z"
   },
   {
    "duration": 352,
    "start_time": "2021-11-15T03:35:53.967Z"
   },
   {
    "duration": 378,
    "start_time": "2021-11-15T03:35:54.321Z"
   },
   {
    "duration": 122,
    "start_time": "2021-11-15T03:35:54.704Z"
   },
   {
    "duration": 61,
    "start_time": "2021-11-15T03:35:54.829Z"
   },
   {
    "duration": 406,
    "start_time": "2021-11-15T03:35:54.892Z"
   },
   {
    "duration": 196,
    "start_time": "2021-11-15T03:35:55.300Z"
   },
   {
    "duration": 2042,
    "start_time": "2021-11-15T03:35:55.498Z"
   },
   {
    "duration": 230,
    "start_time": "2021-11-15T03:35:57.543Z"
   },
   {
    "duration": 448,
    "start_time": "2021-11-15T03:35:57.775Z"
   },
   {
    "duration": 212,
    "start_time": "2021-11-15T03:35:58.225Z"
   },
   {
    "duration": 39,
    "start_time": "2021-11-15T03:35:58.440Z"
   },
   {
    "duration": 35,
    "start_time": "2021-11-15T03:35:58.482Z"
   },
   {
    "duration": 60,
    "start_time": "2021-11-15T03:35:58.520Z"
   },
   {
    "duration": 39,
    "start_time": "2021-11-15T03:35:58.584Z"
   },
   {
    "duration": 64,
    "start_time": "2021-11-15T03:35:58.627Z"
   },
   {
    "duration": 38,
    "start_time": "2021-11-15T03:35:58.694Z"
   },
   {
    "duration": 290,
    "start_time": "2021-11-15T03:35:58.735Z"
   },
   {
    "duration": 157,
    "start_time": "2021-11-15T03:35:59.027Z"
   },
   {
    "duration": 11,
    "start_time": "2021-11-15T03:35:59.186Z"
   },
   {
    "duration": 10,
    "start_time": "2021-11-15T03:35:59.200Z"
   },
   {
    "duration": 11,
    "start_time": "2021-11-15T03:35:59.212Z"
   },
   {
    "duration": 40,
    "start_time": "2021-11-15T03:36:04.107Z"
   },
   {
    "duration": 242,
    "start_time": "2021-11-15T03:37:42.598Z"
   },
   {
    "duration": 154,
    "start_time": "2021-11-15T04:28:42.116Z"
   },
   {
    "duration": 1434,
    "start_time": "2021-11-15T17:44:35.627Z"
   },
   {
    "duration": 1135,
    "start_time": "2021-11-15T17:44:37.064Z"
   },
   {
    "duration": 166,
    "start_time": "2021-11-15T17:44:38.202Z"
   },
   {
    "duration": 129,
    "start_time": "2021-11-15T17:44:38.370Z"
   },
   {
    "duration": 460,
    "start_time": "2021-11-15T17:44:38.502Z"
   },
   {
    "duration": 296,
    "start_time": "2021-11-15T17:44:38.965Z"
   },
   {
    "duration": 62,
    "start_time": "2021-11-15T17:44:39.264Z"
   },
   {
    "duration": 537,
    "start_time": "2021-11-15T17:44:39.330Z"
   },
   {
    "duration": 55,
    "start_time": "2021-11-15T17:44:39.870Z"
   },
   {
    "duration": 387,
    "start_time": "2021-11-15T17:44:39.927Z"
   },
   {
    "duration": 34,
    "start_time": "2021-11-15T17:44:40.317Z"
   },
   {
    "duration": 269,
    "start_time": "2021-11-15T17:44:40.353Z"
   },
   {
    "duration": 65,
    "start_time": "2021-11-15T17:44:40.624Z"
   },
   {
    "duration": 325,
    "start_time": "2021-11-15T17:44:40.691Z"
   },
   {
    "duration": 34,
    "start_time": "2021-11-15T17:44:41.019Z"
   },
   {
    "duration": 295,
    "start_time": "2021-11-15T17:44:41.056Z"
   },
   {
    "duration": 62,
    "start_time": "2021-11-15T17:44:41.354Z"
   },
   {
    "duration": 236,
    "start_time": "2021-11-15T17:44:41.419Z"
   },
   {
    "duration": 60,
    "start_time": "2021-11-15T17:44:41.659Z"
   },
   {
    "duration": 359,
    "start_time": "2021-11-15T17:44:41.723Z"
   },
   {
    "duration": 357,
    "start_time": "2021-11-15T17:44:42.085Z"
   },
   {
    "duration": 392,
    "start_time": "2021-11-15T17:44:42.445Z"
   },
   {
    "duration": 118,
    "start_time": "2021-11-15T17:44:42.845Z"
   },
   {
    "duration": 55,
    "start_time": "2021-11-15T17:44:42.967Z"
   },
   {
    "duration": 408,
    "start_time": "2021-11-15T17:44:43.025Z"
   },
   {
    "duration": 231,
    "start_time": "2021-11-15T17:44:43.436Z"
   },
   {
    "duration": 1985,
    "start_time": "2021-11-15T17:44:43.671Z"
   },
   {
    "duration": 228,
    "start_time": "2021-11-15T17:44:45.659Z"
   },
   {
    "duration": 432,
    "start_time": "2021-11-15T17:44:45.890Z"
   },
   {
    "duration": 209,
    "start_time": "2021-11-15T17:44:46.324Z"
   },
   {
    "duration": 47,
    "start_time": "2021-11-15T17:44:46.536Z"
   },
   {
    "duration": 38,
    "start_time": "2021-11-15T17:44:46.586Z"
   },
   {
    "duration": 63,
    "start_time": "2021-11-15T17:44:46.627Z"
   },
   {
    "duration": 35,
    "start_time": "2021-11-15T17:44:46.692Z"
   },
   {
    "duration": 67,
    "start_time": "2021-11-15T17:44:46.730Z"
   },
   {
    "duration": 36,
    "start_time": "2021-11-15T17:44:46.799Z"
   },
   {
    "duration": 257,
    "start_time": "2021-11-15T17:44:46.838Z"
   },
   {
    "duration": 172,
    "start_time": "2021-11-15T17:44:47.097Z"
   },
   {
    "duration": 20,
    "start_time": "2021-11-15T17:44:47.272Z"
   },
   {
    "duration": 13,
    "start_time": "2021-11-15T17:44:47.295Z"
   },
   {
    "duration": 11,
    "start_time": "2021-11-15T17:44:47.311Z"
   },
   {
    "duration": 84,
    "start_time": "2021-11-15T17:44:47.325Z"
   },
   {
    "duration": 357,
    "start_time": "2021-11-15T17:44:47.411Z"
   },
   {
    "duration": 282,
    "start_time": "2021-11-15T17:45:00.168Z"
   },
   {
    "duration": 1243,
    "start_time": "2021-11-15T18:00:14.437Z"
   },
   {
    "duration": 1106,
    "start_time": "2021-11-15T18:01:38.100Z"
   },
   {
    "duration": 365,
    "start_time": "2021-11-15T18:07:44.646Z"
   },
   {
    "duration": 1020,
    "start_time": "2021-11-15T18:16:14.595Z"
   },
   {
    "duration": 1136,
    "start_time": "2021-11-15T18:16:56.775Z"
   },
   {
    "duration": 829,
    "start_time": "2021-11-15T18:20:48.901Z"
   },
   {
    "duration": 332,
    "start_time": "2021-11-15T18:21:15.454Z"
   },
   {
    "duration": 263,
    "start_time": "2021-11-15T18:21:34.774Z"
   },
   {
    "duration": 313,
    "start_time": "2021-11-15T18:21:52.186Z"
   },
   {
    "duration": 865,
    "start_time": "2021-11-15T18:23:17.541Z"
   },
   {
    "duration": 76,
    "start_time": "2021-11-15T18:25:22.357Z"
   },
   {
    "duration": 362,
    "start_time": "2021-11-15T18:25:29.312Z"
   },
   {
    "duration": 269,
    "start_time": "2021-11-15T18:25:30.609Z"
   },
   {
    "duration": 265,
    "start_time": "2021-11-15T18:25:43.518Z"
   },
   {
    "duration": 1056,
    "start_time": "2021-11-15T18:26:11.240Z"
   },
   {
    "duration": 1006,
    "start_time": "2021-11-15T18:26:21.067Z"
   },
   {
    "duration": 1060,
    "start_time": "2021-11-15T18:26:38.528Z"
   },
   {
    "duration": 1022,
    "start_time": "2021-11-15T18:27:44.508Z"
   },
   {
    "duration": 191711,
    "start_time": "2021-11-15T18:27:59.391Z"
   },
   {
    "duration": 149962,
    "start_time": "2021-11-15T18:42:38.257Z"
   },
   {
    "duration": 1482,
    "start_time": "2021-11-15T20:03:16.240Z"
   },
   {
    "duration": 1213,
    "start_time": "2021-11-15T20:03:17.725Z"
   },
   {
    "duration": 175,
    "start_time": "2021-11-15T20:03:18.941Z"
   },
   {
    "duration": 130,
    "start_time": "2021-11-15T20:03:19.118Z"
   },
   {
    "duration": 492,
    "start_time": "2021-11-15T20:03:19.250Z"
   },
   {
    "duration": 306,
    "start_time": "2021-11-15T20:03:19.744Z"
   },
   {
    "duration": 66,
    "start_time": "2021-11-15T20:03:20.052Z"
   },
   {
    "duration": 532,
    "start_time": "2021-11-15T20:03:20.122Z"
   },
   {
    "duration": 61,
    "start_time": "2021-11-15T20:03:20.657Z"
   },
   {
    "duration": 389,
    "start_time": "2021-11-15T20:03:20.720Z"
   },
   {
    "duration": 33,
    "start_time": "2021-11-15T20:03:21.111Z"
   },
   {
    "duration": 260,
    "start_time": "2021-11-15T20:03:21.146Z"
   },
   {
    "duration": 44,
    "start_time": "2021-11-15T20:03:21.409Z"
   },
   {
    "duration": 299,
    "start_time": "2021-11-15T20:03:21.455Z"
   },
   {
    "duration": 43,
    "start_time": "2021-11-15T20:03:21.757Z"
   },
   {
    "duration": 261,
    "start_time": "2021-11-15T20:03:21.802Z"
   },
   {
    "duration": 52,
    "start_time": "2021-11-15T20:03:22.065Z"
   },
   {
    "duration": 228,
    "start_time": "2021-11-15T20:03:22.119Z"
   },
   {
    "duration": 61,
    "start_time": "2021-11-15T20:03:22.350Z"
   },
   {
    "duration": 349,
    "start_time": "2021-11-15T20:03:22.413Z"
   },
   {
    "duration": 391,
    "start_time": "2021-11-15T20:03:22.765Z"
   },
   {
    "duration": 383,
    "start_time": "2021-11-15T20:03:23.159Z"
   },
   {
    "duration": 110,
    "start_time": "2021-11-15T20:03:23.547Z"
   },
   {
    "duration": 57,
    "start_time": "2021-11-15T20:03:23.659Z"
   },
   {
    "duration": 401,
    "start_time": "2021-11-15T20:03:23.718Z"
   },
   {
    "duration": 191,
    "start_time": "2021-11-15T20:03:24.122Z"
   },
   {
    "duration": 2177,
    "start_time": "2021-11-15T20:03:24.316Z"
   },
   {
    "duration": 212,
    "start_time": "2021-11-15T20:03:26.495Z"
   },
   {
    "duration": 420,
    "start_time": "2021-11-15T20:03:26.709Z"
   },
   {
    "duration": 198,
    "start_time": "2021-11-15T20:03:27.131Z"
   },
   {
    "duration": 52,
    "start_time": "2021-11-15T20:03:27.331Z"
   },
   {
    "duration": 36,
    "start_time": "2021-11-15T20:03:27.385Z"
   },
   {
    "duration": 62,
    "start_time": "2021-11-15T20:03:27.424Z"
   },
   {
    "duration": 36,
    "start_time": "2021-11-15T20:03:27.488Z"
   },
   {
    "duration": 63,
    "start_time": "2021-11-15T20:03:27.526Z"
   },
   {
    "duration": 44,
    "start_time": "2021-11-15T20:03:27.591Z"
   },
   {
    "duration": 45,
    "start_time": "2021-11-15T20:03:27.638Z"
   },
   {
    "duration": 232,
    "start_time": "2021-11-15T20:03:27.685Z"
   },
   {
    "duration": 167,
    "start_time": "2021-11-15T20:03:27.919Z"
   },
   {
    "duration": 12,
    "start_time": "2021-11-15T20:03:28.088Z"
   },
   {
    "duration": 12,
    "start_time": "2021-11-15T20:03:28.103Z"
   },
   {
    "duration": 10,
    "start_time": "2021-11-15T20:03:28.118Z"
   },
   {
    "duration": 84,
    "start_time": "2021-11-15T20:03:28.130Z"
   },
   {
    "duration": 274,
    "start_time": "2021-11-15T20:03:28.216Z"
   },
   {
    "duration": 267,
    "start_time": "2021-11-15T20:03:28.493Z"
   },
   {
    "duration": 151328,
    "start_time": "2021-11-15T20:03:28.763Z"
   },
   {
    "duration": 4299,
    "start_time": "2021-11-15T20:31:21.847Z"
   },
   {
    "duration": 6122,
    "start_time": "2021-11-15T20:35:37.652Z"
   },
   {
    "duration": 6238,
    "start_time": "2021-11-15T20:35:58.478Z"
   },
   {
    "duration": 6218,
    "start_time": "2021-11-15T20:36:27.810Z"
   },
   {
    "duration": 3204112,
    "start_time": "2021-11-15T20:38:10.584Z"
   },
   {
    "duration": 18482,
    "start_time": "2021-11-15T21:43:44.804Z"
   },
   {
    "duration": 17047,
    "start_time": "2021-11-15T21:49:01.035Z"
   },
   {
    "duration": 1848,
    "start_time": "2021-11-16T16:12:12.734Z"
   },
   {
    "duration": 1513,
    "start_time": "2021-11-16T16:12:14.585Z"
   },
   {
    "duration": 277,
    "start_time": "2021-11-16T16:12:16.103Z"
   },
   {
    "duration": 171,
    "start_time": "2021-11-16T16:12:16.383Z"
   },
   {
    "duration": 502,
    "start_time": "2021-11-16T16:12:16.557Z"
   },
   {
    "duration": 301,
    "start_time": "2021-11-16T16:12:17.061Z"
   },
   {
    "duration": 68,
    "start_time": "2021-11-16T16:12:17.364Z"
   },
   {
    "duration": 432,
    "start_time": "2021-11-16T16:12:17.434Z"
   },
   {
    "duration": 60,
    "start_time": "2021-11-16T16:12:17.870Z"
   },
   {
    "duration": 395,
    "start_time": "2021-11-16T16:12:17.934Z"
   },
   {
    "duration": 33,
    "start_time": "2021-11-16T16:12:18.331Z"
   },
   {
    "duration": 235,
    "start_time": "2021-11-16T16:12:18.366Z"
   },
   {
    "duration": 57,
    "start_time": "2021-11-16T16:12:18.604Z"
   },
   {
    "duration": 310,
    "start_time": "2021-11-16T16:12:18.663Z"
   },
   {
    "duration": 53,
    "start_time": "2021-11-16T16:12:18.976Z"
   },
   {
    "duration": 267,
    "start_time": "2021-11-16T16:12:19.032Z"
   },
   {
    "duration": 55,
    "start_time": "2021-11-16T16:12:19.302Z"
   },
   {
    "duration": 242,
    "start_time": "2021-11-16T16:12:19.360Z"
   },
   {
    "duration": 56,
    "start_time": "2021-11-16T16:12:19.605Z"
   },
   {
    "duration": 353,
    "start_time": "2021-11-16T16:12:19.663Z"
   },
   {
    "duration": 371,
    "start_time": "2021-11-16T16:12:20.018Z"
   },
   {
    "duration": 567,
    "start_time": "2021-11-16T16:12:20.391Z"
   },
   {
    "duration": 122,
    "start_time": "2021-11-16T16:12:20.961Z"
   },
   {
    "duration": 67,
    "start_time": "2021-11-16T16:12:21.086Z"
   },
   {
    "duration": 384,
    "start_time": "2021-11-16T16:12:21.157Z"
   },
   {
    "duration": 222,
    "start_time": "2021-11-16T16:12:21.544Z"
   },
   {
    "duration": 1999,
    "start_time": "2021-11-16T16:12:21.772Z"
   },
   {
    "duration": 228,
    "start_time": "2021-11-16T16:12:23.774Z"
   },
   {
    "duration": 433,
    "start_time": "2021-11-16T16:12:24.004Z"
   },
   {
    "duration": 208,
    "start_time": "2021-11-16T16:12:24.439Z"
   },
   {
    "duration": 44,
    "start_time": "2021-11-16T16:12:24.651Z"
   },
   {
    "duration": 62,
    "start_time": "2021-11-16T16:12:24.697Z"
   },
   {
    "duration": 45,
    "start_time": "2021-11-16T16:12:24.762Z"
   },
   {
    "duration": 45,
    "start_time": "2021-11-16T16:12:24.829Z"
   },
   {
    "duration": 54,
    "start_time": "2021-11-16T16:12:24.877Z"
   },
   {
    "duration": 39,
    "start_time": "2021-11-16T16:12:24.935Z"
   },
   {
    "duration": 65,
    "start_time": "2021-11-16T16:12:24.977Z"
   },
   {
    "duration": 297,
    "start_time": "2021-11-16T16:12:25.045Z"
   },
   {
    "duration": 271,
    "start_time": "2021-11-16T16:12:25.344Z"
   },
   {
    "duration": 21,
    "start_time": "2021-11-16T16:12:25.618Z"
   },
   {
    "duration": 13,
    "start_time": "2021-11-16T16:12:25.641Z"
   },
   {
    "duration": 18,
    "start_time": "2021-11-16T16:12:25.656Z"
   },
   {
    "duration": 80,
    "start_time": "2021-11-16T16:12:25.677Z"
   },
   {
    "duration": 362,
    "start_time": "2021-11-16T16:12:25.760Z"
   },
   {
    "duration": 377,
    "start_time": "2021-11-16T16:12:26.129Z"
   },
   {
    "duration": 173251,
    "start_time": "2021-11-16T16:12:26.508Z"
   },
   {
    "duration": 3670,
    "start_time": "2021-11-16T16:15:19.762Z"
   },
   {
    "duration": 63,
    "start_time": "2021-11-16T16:15:23.436Z"
   },
   {
    "duration": 54,
    "start_time": "2021-11-16T16:25:16.230Z"
   },
   {
    "duration": 51,
    "start_time": "2021-11-16T16:26:45.400Z"
   },
   {
    "duration": 1422,
    "start_time": "2021-11-16T16:27:25.646Z"
   },
   {
    "duration": 1139,
    "start_time": "2021-11-16T16:27:27.070Z"
   },
   {
    "duration": 172,
    "start_time": "2021-11-16T16:27:28.212Z"
   },
   {
    "duration": 132,
    "start_time": "2021-11-16T16:27:28.387Z"
   },
   {
    "duration": 502,
    "start_time": "2021-11-16T16:27:28.530Z"
   },
   {
    "duration": 302,
    "start_time": "2021-11-16T16:27:29.034Z"
   },
   {
    "duration": 52,
    "start_time": "2021-11-16T16:27:29.339Z"
   },
   {
    "duration": 450,
    "start_time": "2021-11-16T16:27:29.395Z"
   },
   {
    "duration": 47,
    "start_time": "2021-11-16T16:27:29.850Z"
   },
   {
    "duration": 509,
    "start_time": "2021-11-16T16:27:29.900Z"
   },
   {
    "duration": 54,
    "start_time": "2021-11-16T16:27:30.411Z"
   },
   {
    "duration": 377,
    "start_time": "2021-11-16T16:27:30.467Z"
   },
   {
    "duration": 69,
    "start_time": "2021-11-16T16:27:30.847Z"
   },
   {
    "duration": 417,
    "start_time": "2021-11-16T16:27:30.918Z"
   },
   {
    "duration": 38,
    "start_time": "2021-11-16T16:27:31.338Z"
   },
   {
    "duration": 262,
    "start_time": "2021-11-16T16:27:31.378Z"
   },
   {
    "duration": 42,
    "start_time": "2021-11-16T16:27:31.642Z"
   },
   {
    "duration": 222,
    "start_time": "2021-11-16T16:27:31.687Z"
   },
   {
    "duration": 58,
    "start_time": "2021-11-16T16:27:31.912Z"
   },
   {
    "duration": 507,
    "start_time": "2021-11-16T16:27:31.972Z"
   },
   {
    "duration": 350,
    "start_time": "2021-11-16T16:27:32.481Z"
   },
   {
    "duration": 412,
    "start_time": "2021-11-16T16:27:32.834Z"
   },
   {
    "duration": 120,
    "start_time": "2021-11-16T16:27:33.255Z"
   },
   {
    "duration": 74,
    "start_time": "2021-11-16T16:27:33.379Z"
   },
   {
    "duration": 487,
    "start_time": "2021-11-16T16:27:33.456Z"
   },
   {
    "duration": 305,
    "start_time": "2021-11-16T16:27:33.946Z"
   },
   {
    "duration": 2784,
    "start_time": "2021-11-16T16:27:34.254Z"
   },
   {
    "duration": 310,
    "start_time": "2021-11-16T16:27:37.042Z"
   },
   {
    "duration": 678,
    "start_time": "2021-11-16T16:27:37.356Z"
   },
   {
    "duration": 266,
    "start_time": "2021-11-16T16:27:38.037Z"
   },
   {
    "duration": 74,
    "start_time": "2021-11-16T16:27:38.306Z"
   },
   {
    "duration": 67,
    "start_time": "2021-11-16T16:27:38.383Z"
   },
   {
    "duration": 93,
    "start_time": "2021-11-16T16:27:38.459Z"
   },
   {
    "duration": 81,
    "start_time": "2021-11-16T16:27:38.555Z"
   },
   {
    "duration": 59,
    "start_time": "2021-11-16T16:27:38.638Z"
   },
   {
    "duration": 52,
    "start_time": "2021-11-16T16:27:38.699Z"
   },
   {
    "duration": 254,
    "start_time": "2021-11-16T16:27:38.754Z"
   },
   {
    "duration": 162,
    "start_time": "2021-11-16T16:27:39.010Z"
   },
   {
    "duration": 11,
    "start_time": "2021-11-16T16:27:39.174Z"
   },
   {
    "duration": 25,
    "start_time": "2021-11-16T16:27:39.188Z"
   },
   {
    "duration": 33,
    "start_time": "2021-11-16T16:27:39.215Z"
   },
   {
    "duration": 56,
    "start_time": "2021-11-16T16:27:39.251Z"
   },
   {
    "duration": 264,
    "start_time": "2021-11-16T16:27:39.309Z"
   },
   {
    "duration": 159,
    "start_time": "2021-11-16T16:27:39.576Z"
   },
   {
    "duration": 479,
    "start_time": "2021-11-16T16:27:39.737Z"
   },
   {
    "duration": 310,
    "start_time": "2021-11-16T16:27:40.218Z"
   },
   {
    "duration": 197,
    "start_time": "2021-11-16T16:27:40.531Z"
   },
   {
    "duration": 266,
    "start_time": "2021-11-16T16:33:59.085Z"
   },
   {
    "duration": 266,
    "start_time": "2021-11-16T16:34:22.623Z"
   },
   {
    "duration": 238,
    "start_time": "2021-11-16T16:34:29.957Z"
   },
   {
    "duration": 155654,
    "start_time": "2021-11-16T16:34:31.351Z"
   },
   {
    "duration": 2560,
    "start_time": "2021-11-16T16:37:07.008Z"
   },
   {
    "duration": 75,
    "start_time": "2021-11-16T16:37:09.571Z"
   },
   {
    "duration": 257,
    "start_time": "2021-11-16T21:22:14.702Z"
   },
   {
    "duration": 3,
    "start_time": "2021-11-16T21:22:40.622Z"
   },
   {
    "duration": 14662,
    "start_time": "2021-11-16T21:22:45.670Z"
   },
   {
    "duration": 47553,
    "start_time": "2021-11-16T21:25:14.594Z"
   },
   {
    "duration": 49025,
    "start_time": "2021-11-16T21:26:13.404Z"
   },
   {
    "duration": 48012,
    "start_time": "2021-11-16T21:27:48.451Z"
   },
   {
    "duration": 200,
    "start_time": "2021-11-16T21:29:33.379Z"
   },
   {
    "duration": 5,
    "start_time": "2021-11-16T21:29:53.897Z"
   },
   {
    "duration": 47850,
    "start_time": "2021-11-16T21:29:54.903Z"
   },
   {
    "duration": 13676,
    "start_time": "2021-11-16T21:30:42.756Z"
   },
   {
    "duration": 48216,
    "start_time": "2021-11-16T21:31:41.261Z"
   },
   {
    "duration": 14252,
    "start_time": "2021-11-16T21:32:29.480Z"
   },
   {
    "duration": 28871,
    "start_time": "2021-11-16T21:34:48.008Z"
   },
   {
    "duration": 44012,
    "start_time": "2021-11-16T21:37:26.524Z"
   },
   {
    "duration": 38559,
    "start_time": "2021-11-16T21:46:57.319Z"
   },
   {
    "duration": 34655,
    "start_time": "2021-11-16T21:47:47.205Z"
   },
   {
    "duration": 304,
    "start_time": "2021-11-16T21:48:56.301Z"
   },
   {
    "duration": 154,
    "start_time": "2021-11-16T21:49:04.508Z"
   },
   {
    "duration": 229,
    "start_time": "2021-11-16T21:49:13.393Z"
   },
   {
    "duration": 52842,
    "start_time": "2021-11-16T21:49:33.377Z"
   },
   {
    "duration": 63798,
    "start_time": "2021-11-16T21:50:52.615Z"
   },
   {
    "duration": 286,
    "start_time": "2021-11-16T22:13:29.442Z"
   },
   {
    "duration": 51999,
    "start_time": "2021-11-16T22:16:02.008Z"
   },
   {
    "duration": 4754,
    "start_time": "2021-11-16T22:18:09.383Z"
   },
   {
    "duration": 40,
    "start_time": "2021-11-16T22:18:19.214Z"
   },
   {
    "duration": 21259,
    "start_time": "2021-11-16T22:19:41.474Z"
   },
   {
    "duration": 276,
    "start_time": "2021-11-16T22:20:04.430Z"
   },
   {
    "duration": 342,
    "start_time": "2021-11-16T22:22:11.045Z"
   },
   {
    "duration": 69,
    "start_time": "2021-11-16T22:22:29.280Z"
   },
   {
    "duration": 6292,
    "start_time": "2021-11-16T22:22:40.324Z"
   },
   {
    "duration": 84,
    "start_time": "2021-11-16T22:23:52.192Z"
   },
   {
    "duration": 114,
    "start_time": "2021-11-16T22:26:49.917Z"
   },
   {
    "duration": 146,
    "start_time": "2021-11-16T22:27:16.586Z"
   },
   {
    "duration": 3971,
    "start_time": "2021-11-16T22:27:22.766Z"
   },
   {
    "duration": 21,
    "start_time": "2021-11-16T22:33:21.393Z"
   },
   {
    "duration": 322,
    "start_time": "2021-11-16T22:41:03.672Z"
   },
   {
    "duration": 8,
    "start_time": "2021-11-16T22:41:10.987Z"
   },
   {
    "duration": 11094,
    "start_time": "2021-11-16T22:41:16.637Z"
   },
   {
    "duration": 191,
    "start_time": "2021-11-16T22:41:37.457Z"
   },
   {
    "duration": 753,
    "start_time": "2021-11-16T22:42:00.598Z"
   },
   {
    "duration": 1155,
    "start_time": "2021-11-17T16:16:16.352Z"
   },
   {
    "duration": 778,
    "start_time": "2021-11-17T16:16:17.509Z"
   },
   {
    "duration": 150,
    "start_time": "2021-11-17T16:16:18.289Z"
   },
   {
    "duration": 96,
    "start_time": "2021-11-17T16:16:18.441Z"
   },
   {
    "duration": 358,
    "start_time": "2021-11-17T16:16:18.539Z"
   },
   {
    "duration": 208,
    "start_time": "2021-11-17T16:16:18.899Z"
   },
   {
    "duration": 34,
    "start_time": "2021-11-17T16:16:19.108Z"
   },
   {
    "duration": 316,
    "start_time": "2021-11-17T16:16:19.145Z"
   },
   {
    "duration": 31,
    "start_time": "2021-11-17T16:16:19.463Z"
   },
   {
    "duration": 276,
    "start_time": "2021-11-17T16:16:19.495Z"
   },
   {
    "duration": 21,
    "start_time": "2021-11-17T16:16:19.772Z"
   },
   {
    "duration": 226,
    "start_time": "2021-11-17T16:16:19.795Z"
   },
   {
    "duration": 30,
    "start_time": "2021-11-17T16:16:20.023Z"
   },
   {
    "duration": 254,
    "start_time": "2021-11-17T16:16:20.055Z"
   },
   {
    "duration": 19,
    "start_time": "2021-11-17T16:16:20.311Z"
   },
   {
    "duration": 175,
    "start_time": "2021-11-17T16:16:20.331Z"
   },
   {
    "duration": 28,
    "start_time": "2021-11-17T16:16:20.508Z"
   },
   {
    "duration": 170,
    "start_time": "2021-11-17T16:16:20.538Z"
   },
   {
    "duration": 31,
    "start_time": "2021-11-17T16:16:20.710Z"
   },
   {
    "duration": 219,
    "start_time": "2021-11-17T16:16:20.743Z"
   },
   {
    "duration": 218,
    "start_time": "2021-11-17T16:16:20.964Z"
   },
   {
    "duration": 249,
    "start_time": "2021-11-17T16:16:21.183Z"
   },
   {
    "duration": 92,
    "start_time": "2021-11-17T16:16:21.437Z"
   },
   {
    "duration": 27,
    "start_time": "2021-11-17T16:16:21.531Z"
   },
   {
    "duration": 229,
    "start_time": "2021-11-17T16:16:21.560Z"
   },
   {
    "duration": 143,
    "start_time": "2021-11-17T16:16:21.791Z"
   },
   {
    "duration": 1226,
    "start_time": "2021-11-17T16:16:21.936Z"
   },
   {
    "duration": 150,
    "start_time": "2021-11-17T16:16:23.164Z"
   },
   {
    "duration": 272,
    "start_time": "2021-11-17T16:16:23.315Z"
   },
   {
    "duration": 155,
    "start_time": "2021-11-17T16:16:23.589Z"
   },
   {
    "duration": 29,
    "start_time": "2021-11-17T16:16:23.746Z"
   },
   {
    "duration": 43,
    "start_time": "2021-11-17T16:16:23.777Z"
   },
   {
    "duration": 50,
    "start_time": "2021-11-17T16:16:23.821Z"
   },
   {
    "duration": 42,
    "start_time": "2021-11-17T16:16:23.872Z"
   },
   {
    "duration": 51,
    "start_time": "2021-11-17T16:16:23.916Z"
   },
   {
    "duration": 50,
    "start_time": "2021-11-17T16:16:23.969Z"
   },
   {
    "duration": 168,
    "start_time": "2021-11-17T16:16:24.021Z"
   },
   {
    "duration": 116,
    "start_time": "2021-11-17T16:16:24.191Z"
   },
   {
    "duration": 7,
    "start_time": "2021-11-17T16:16:24.309Z"
   },
   {
    "duration": 19,
    "start_time": "2021-11-17T16:16:24.317Z"
   },
   {
    "duration": 7,
    "start_time": "2021-11-17T16:16:24.337Z"
   },
   {
    "duration": 23,
    "start_time": "2021-11-17T16:16:24.346Z"
   },
   {
    "duration": 237,
    "start_time": "2021-11-17T16:16:24.370Z"
   },
   {
    "duration": 165,
    "start_time": "2021-11-17T16:16:24.609Z"
   },
   {
    "duration": 129027,
    "start_time": "2021-11-17T16:16:24.776Z"
   },
   {
    "duration": 2239,
    "start_time": "2021-11-17T16:18:33.807Z"
   },
   {
    "duration": 42,
    "start_time": "2021-11-17T16:18:36.047Z"
   },
   {
    "duration": 4,
    "start_time": "2021-11-17T16:18:36.107Z"
   },
   {
    "duration": 55771,
    "start_time": "2021-11-17T16:18:36.113Z"
   },
   {
    "duration": 19036,
    "start_time": "2021-11-17T16:19:31.886Z"
   },
   {
    "duration": 242,
    "start_time": "2021-11-17T16:19:50.924Z"
   },
   {
    "duration": 389,
    "start_time": "2021-11-17T16:19:51.167Z"
   },
   {
    "duration": 956,
    "start_time": "2021-11-17T16:19:51.558Z"
   },
   {
    "duration": 9792,
    "start_time": "2021-11-17T16:19:52.516Z"
   },
   {
    "duration": 561,
    "start_time": "2021-11-17T18:52:52.048Z"
   },
   {
    "duration": 3105,
    "start_time": "2021-11-17T18:54:08.611Z"
   },
   {
    "duration": 111,
    "start_time": "2021-11-17T18:54:11.808Z"
   },
   {
    "duration": 1241,
    "start_time": "2021-11-17T19:18:25.772Z"
   },
   {
    "duration": 75,
    "start_time": "2021-11-17T19:18:29.945Z"
   },
   {
    "duration": 20428,
    "start_time": "2021-11-17T19:18:37.388Z"
   },
   {
    "duration": 198,
    "start_time": "2021-11-17T19:18:57.819Z"
   },
   {
    "duration": 267,
    "start_time": "2021-11-17T19:19:43.403Z"
   },
   {
    "duration": 82,
    "start_time": "2021-11-17T19:19:43.931Z"
   },
   {
    "duration": 935,
    "start_time": "2021-11-17T19:19:55.717Z"
   },
   {
    "duration": 946,
    "start_time": "2021-11-17T19:20:14.693Z"
   },
   {
    "duration": 4755,
    "start_time": "2021-11-17T19:22:05.753Z"
   },
   {
    "duration": 398,
    "start_time": "2021-11-17T19:22:10.510Z"
   },
   {
    "duration": 6461,
    "start_time": "2021-11-17T19:22:20.747Z"
   },
   {
    "duration": 440,
    "start_time": "2021-11-17T19:22:29.874Z"
   },
   {
    "duration": 6441,
    "start_time": "2021-11-17T19:23:12.772Z"
   },
   {
    "duration": 500,
    "start_time": "2021-11-17T19:23:19.215Z"
   },
   {
    "duration": 9023,
    "start_time": "2021-11-17T19:23:28.392Z"
   },
   {
    "duration": 600,
    "start_time": "2021-11-17T19:23:37.417Z"
   },
   {
    "duration": 8787,
    "start_time": "2021-11-17T19:27:33.821Z"
   },
   {
    "duration": 601,
    "start_time": "2021-11-17T19:27:42.611Z"
   },
   {
    "duration": 369,
    "start_time": "2021-11-17T19:30:42.622Z"
   },
   {
    "duration": 228,
    "start_time": "2021-11-17T19:30:43.704Z"
   },
   {
    "duration": 8757,
    "start_time": "2021-11-17T19:30:53.853Z"
   },
   {
    "duration": 226,
    "start_time": "2021-11-17T19:32:30.453Z"
   },
   {
    "duration": 6573,
    "start_time": "2021-11-17T19:32:37.837Z"
   },
   {
    "duration": 400,
    "start_time": "2021-11-17T19:32:44.412Z"
   },
   {
    "duration": 6965,
    "start_time": "2021-11-17T20:00:23.952Z"
   },
   {
    "duration": 458,
    "start_time": "2021-11-17T20:00:31.007Z"
   },
   {
    "duration": 6350,
    "start_time": "2021-11-17T20:00:46.565Z"
   },
   {
    "duration": 492,
    "start_time": "2021-11-17T20:00:52.917Z"
   },
   {
    "duration": 7428,
    "start_time": "2021-11-17T20:01:53.482Z"
   },
   {
    "duration": 402,
    "start_time": "2021-11-17T20:02:00.912Z"
   },
   {
    "duration": 71589,
    "start_time": "2021-11-17T20:02:12.822Z"
   },
   {
    "duration": 402,
    "start_time": "2021-11-17T20:03:24.413Z"
   },
   {
    "duration": 6486,
    "start_time": "2021-11-17T20:10:27.627Z"
   },
   {
    "duration": 356,
    "start_time": "2021-11-17T20:10:45.765Z"
   },
   {
    "duration": 6187,
    "start_time": "2021-11-17T20:10:50.229Z"
   },
   {
    "duration": 403,
    "start_time": "2021-11-17T20:10:56.417Z"
   },
   {
    "duration": 9272,
    "start_time": "2021-11-17T20:11:07.136Z"
   },
   {
    "duration": 599,
    "start_time": "2021-11-17T20:11:16.410Z"
   },
   {
    "duration": 10461,
    "start_time": "2021-11-17T20:11:25.247Z"
   },
   {
    "duration": 600,
    "start_time": "2021-11-17T20:11:35.710Z"
   },
   {
    "duration": 9314,
    "start_time": "2021-11-17T20:15:09.600Z"
   },
   {
    "duration": 604,
    "start_time": "2021-11-17T20:15:18.916Z"
   },
   {
    "duration": 12022,
    "start_time": "2021-11-17T20:15:25.586Z"
   },
   {
    "duration": 611,
    "start_time": "2021-11-17T20:15:37.610Z"
   },
   {
    "duration": 12218,
    "start_time": "2021-11-17T20:17:04.898Z"
   },
   {
    "duration": 707,
    "start_time": "2021-11-17T20:17:17.117Z"
   },
   {
    "duration": 10912,
    "start_time": "2021-11-17T20:18:18.212Z"
   },
   {
    "duration": 491,
    "start_time": "2021-11-17T20:18:29.126Z"
   },
   {
    "duration": 13787,
    "start_time": "2021-11-17T20:18:41.333Z"
   },
   {
    "duration": 599,
    "start_time": "2021-11-17T20:18:55.121Z"
   },
   {
    "duration": 12570,
    "start_time": "2021-11-17T20:19:01.637Z"
   },
   {
    "duration": 799,
    "start_time": "2021-11-17T20:19:14.209Z"
   },
   {
    "duration": 232,
    "start_time": "2021-11-17T20:32:49.347Z"
   },
   {
    "duration": 242,
    "start_time": "2021-11-17T20:33:16.260Z"
   },
   {
    "duration": 238,
    "start_time": "2021-11-17T20:33:34.668Z"
   },
   {
    "duration": 14303,
    "start_time": "2021-11-17T20:38:10.314Z"
   },
   {
    "duration": 790,
    "start_time": "2021-11-17T20:38:24.619Z"
   },
   {
    "duration": 1248,
    "start_time": "2021-11-17T20:47:20.575Z"
   },
   {
    "duration": 785,
    "start_time": "2021-11-17T20:47:21.825Z"
   },
   {
    "duration": 125,
    "start_time": "2021-11-17T20:47:22.612Z"
   },
   {
    "duration": 104,
    "start_time": "2021-11-17T20:47:22.739Z"
   },
   {
    "duration": 339,
    "start_time": "2021-11-17T20:47:22.845Z"
   },
   {
    "duration": 206,
    "start_time": "2021-11-17T20:47:23.186Z"
   },
   {
    "duration": 45,
    "start_time": "2021-11-17T20:47:23.394Z"
   },
   {
    "duration": 305,
    "start_time": "2021-11-17T20:47:23.441Z"
   },
   {
    "duration": 32,
    "start_time": "2021-11-17T20:47:23.748Z"
   },
   {
    "duration": 285,
    "start_time": "2021-11-17T20:47:23.782Z"
   },
   {
    "duration": 22,
    "start_time": "2021-11-17T20:47:24.069Z"
   },
   {
    "duration": 179,
    "start_time": "2021-11-17T20:47:24.092Z"
   },
   {
    "duration": 34,
    "start_time": "2021-11-17T20:47:24.273Z"
   },
   {
    "duration": 197,
    "start_time": "2021-11-17T20:47:24.309Z"
   },
   {
    "duration": 23,
    "start_time": "2021-11-17T20:47:24.508Z"
   },
   {
    "duration": 180,
    "start_time": "2021-11-17T20:47:24.533Z"
   },
   {
    "duration": 28,
    "start_time": "2021-11-17T20:47:24.714Z"
   },
   {
    "duration": 167,
    "start_time": "2021-11-17T20:47:24.744Z"
   },
   {
    "duration": 30,
    "start_time": "2021-11-17T20:47:24.912Z"
   },
   {
    "duration": 216,
    "start_time": "2021-11-17T20:47:24.943Z"
   },
   {
    "duration": 196,
    "start_time": "2021-11-17T20:47:25.160Z"
   },
   {
    "duration": 214,
    "start_time": "2021-11-17T20:47:25.358Z"
   },
   {
    "duration": 89,
    "start_time": "2021-11-17T20:47:25.576Z"
   },
   {
    "duration": 39,
    "start_time": "2021-11-17T20:47:25.667Z"
   },
   {
    "duration": 219,
    "start_time": "2021-11-17T20:47:25.708Z"
   },
   {
    "duration": 161,
    "start_time": "2021-11-17T20:47:25.930Z"
   },
   {
    "duration": 1232,
    "start_time": "2021-11-17T20:47:26.093Z"
   },
   {
    "duration": 162,
    "start_time": "2021-11-17T20:47:27.327Z"
   },
   {
    "duration": 293,
    "start_time": "2021-11-17T20:47:27.491Z"
   },
   {
    "duration": 150,
    "start_time": "2021-11-17T20:47:27.786Z"
   },
   {
    "duration": 27,
    "start_time": "2021-11-17T20:47:27.937Z"
   },
   {
    "duration": 44,
    "start_time": "2021-11-17T20:47:27.966Z"
   },
   {
    "duration": 29,
    "start_time": "2021-11-17T20:47:28.012Z"
   },
   {
    "duration": 29,
    "start_time": "2021-11-17T20:47:28.042Z"
   },
   {
    "duration": 45,
    "start_time": "2021-11-17T20:47:28.073Z"
   },
   {
    "duration": 27,
    "start_time": "2021-11-17T20:47:28.119Z"
   },
   {
    "duration": 173,
    "start_time": "2021-11-17T20:47:28.147Z"
   },
   {
    "duration": 124,
    "start_time": "2021-11-17T20:47:28.321Z"
   },
   {
    "duration": 7,
    "start_time": "2021-11-17T20:47:28.447Z"
   },
   {
    "duration": 17,
    "start_time": "2021-11-17T20:47:28.456Z"
   },
   {
    "duration": 7,
    "start_time": "2021-11-17T20:47:28.475Z"
   },
   {
    "duration": 40,
    "start_time": "2021-11-17T20:47:28.484Z"
   },
   {
    "duration": 225,
    "start_time": "2021-11-17T20:47:28.527Z"
   },
   {
    "duration": 157,
    "start_time": "2021-11-17T20:47:28.753Z"
   },
   {
    "duration": 120376,
    "start_time": "2021-11-17T20:47:28.911Z"
   },
   {
    "duration": 2105,
    "start_time": "2021-11-17T20:49:29.289Z"
   },
   {
    "duration": 40,
    "start_time": "2021-11-17T20:49:31.396Z"
   },
   {
    "duration": 3,
    "start_time": "2021-11-17T20:49:31.438Z"
   },
   {
    "duration": 61798,
    "start_time": "2021-11-17T20:49:31.442Z"
   },
   {
    "duration": 18224,
    "start_time": "2021-11-17T20:50:33.241Z"
   },
   {
    "duration": 204,
    "start_time": "2021-11-17T20:50:51.466Z"
   },
   {
    "duration": 3638,
    "start_time": "2021-11-17T20:50:51.672Z"
   },
   {
    "duration": 197,
    "start_time": "2021-11-17T20:50:55.312Z"
   },
   {
    "duration": 12199,
    "start_time": "2021-11-17T20:50:55.511Z"
   },
   {
    "duration": 710,
    "start_time": "2021-11-17T20:51:07.712Z"
   },
   {
    "duration": 107,
    "start_time": "2021-11-18T07:02:41.290Z"
   }
  ],
  "kernelspec": {
   "display_name": "Python 3 (ipykernel)",
   "language": "python",
   "name": "python3"
  },
  "language_info": {
   "codemirror_mode": {
    "name": "ipython",
    "version": 3
   },
   "file_extension": ".py",
   "mimetype": "text/x-python",
   "name": "python",
   "nbconvert_exporter": "python",
   "pygments_lexer": "ipython3",
   "version": "3.9.5"
  },
  "toc": {
   "base_numbering": 1,
   "nav_menu": {},
   "number_sections": true,
   "sideBar": true,
   "skip_h1_title": true,
   "title_cell": "Table of Contents",
   "title_sidebar": "Contents",
   "toc_cell": false,
   "toc_position": {},
   "toc_section_display": true,
   "toc_window_display": false
  }
 },
 "nbformat": 4,
 "nbformat_minor": 2
}
