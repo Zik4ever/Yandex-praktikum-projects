{
 "cells": [
  {
   "cell_type": "markdown",
   "metadata": {},
   "source": [
    "# Выбор локации для скважины"
   ]
  },
  {
   "cell_type": "markdown",
   "metadata": {},
   "source": [
    "Допустим, вы работаете в добывающей компании «ГлавРосГосНефть». Нужно решить, где бурить новую скважину.\n",
    "\n",
    "Вам предоставлены пробы нефти в трёх регионах: в каждом 10 000 месторождений, где измерили качество нефти и объём её запасов. Постройте модель машинного обучения, которая поможет определить регион, где добыча принесёт наибольшую прибыль. Проанализируйте возможную прибыль и риски техникой *Bootstrap.*\n",
    "\n",
    "Шаги для выбора локации:\n",
    "\n",
    "- В избранном регионе ищут месторождения, для каждого определяют значения признаков;\n",
    "- Строят модель и оценивают объём запасов;\n",
    "- Выбирают месторождения с самым высокими оценками значений. Количество месторождений зависит от бюджета компании и стоимости разработки одной скважины;\n",
    "- Прибыль равна суммарной прибыли отобранных месторождений.\n",
    "\n",
    "Условия задачи:\n",
    "\n",
    "1) Для обучения модели подходит только линейная регрессия (остальные — недостаточно предсказуемые).\n",
    "\n",
    "2) При разведке региона исследуют 500 точек, из которых с помощью машинного обучения выбирают 200 лучших для разработки.\n",
    "\n",
    "3) Бюджет на разработку скважин в регионе — 10 млрд рублей.\n",
    "\n",
    "4) При нынешних ценах один баррель сырья приносит 450 рублей дохода. Доход с каждой единицы продукта составляет 450 тыс. рублей, поскольку объём указан в тысячах баррелей.\n",
    "\n",
    "5) После оценки рисков нужно оставить лишь те регионы, в которых вероятность убытков меньше 2.5%. Среди них выбирают регион с наибольшей средней прибылью.\n",
    "\n",
    "Описание данных:\n",
    "\n",
    "1) id — уникальный идентификатор скважины;\n",
    "\n",
    "2) f0, f1, f2 — три признака точек (неважно, что они означают, но сами признаки значимы);\n",
    "\n",
    "3) product — объём запасов в скважине (тыс. баррелей)."
   ]
  },
  {
   "cell_type": "markdown",
   "metadata": {},
   "source": [
    "## Загрузка и подготовка данных"
   ]
  },
  {
   "cell_type": "code",
   "execution_count": 1,
   "metadata": {},
   "outputs": [],
   "source": [
    "import pandas as pd\n",
    "import numpy as np\n",
    "from sklearn.model_selection import train_test_split\n",
    "from sklearn.linear_model import LinearRegression\n",
    "from sklearn.metrics import accuracy_score\n",
    "import matplotlib.pyplot as plt\n",
    "from sklearn.metrics import r2_score\n",
    "from sklearn.metrics import mean_absolute_error\n",
    "from sklearn.metrics import roc_auc_score\n",
    "from sklearn.metrics import f1_score\n",
    "from sklearn.utils import shuffle\n",
    "from sklearn.metrics import roc_curve\n",
    "from sklearn.model_selection import cross_val_score\n",
    "from sklearn.metrics import mean_squared_error"
   ]
  },
  {
   "cell_type": "code",
   "execution_count": 2,
   "metadata": {},
   "outputs": [
    {
     "data": {
      "text/html": [
       "<div>\n",
       "<style scoped>\n",
       "    .dataframe tbody tr th:only-of-type {\n",
       "        vertical-align: middle;\n",
       "    }\n",
       "\n",
       "    .dataframe tbody tr th {\n",
       "        vertical-align: top;\n",
       "    }\n",
       "\n",
       "    .dataframe thead th {\n",
       "        text-align: right;\n",
       "    }\n",
       "</style>\n",
       "<table border=\"1\" class=\"dataframe\">\n",
       "  <thead>\n",
       "    <tr style=\"text-align: right;\">\n",
       "      <th></th>\n",
       "      <th>id</th>\n",
       "      <th>f0</th>\n",
       "      <th>f1</th>\n",
       "      <th>f2</th>\n",
       "      <th>product</th>\n",
       "    </tr>\n",
       "  </thead>\n",
       "  <tbody>\n",
       "    <tr>\n",
       "      <td>0</td>\n",
       "      <td>txEyH</td>\n",
       "      <td>0.705745</td>\n",
       "      <td>-0.497823</td>\n",
       "      <td>1.221170</td>\n",
       "      <td>105.280062</td>\n",
       "    </tr>\n",
       "    <tr>\n",
       "      <td>1</td>\n",
       "      <td>2acmU</td>\n",
       "      <td>1.334711</td>\n",
       "      <td>-0.340164</td>\n",
       "      <td>4.365080</td>\n",
       "      <td>73.037750</td>\n",
       "    </tr>\n",
       "    <tr>\n",
       "      <td>2</td>\n",
       "      <td>409Wp</td>\n",
       "      <td>1.022732</td>\n",
       "      <td>0.151990</td>\n",
       "      <td>1.419926</td>\n",
       "      <td>85.265647</td>\n",
       "    </tr>\n",
       "    <tr>\n",
       "      <td>3</td>\n",
       "      <td>iJLyR</td>\n",
       "      <td>-0.032172</td>\n",
       "      <td>0.139033</td>\n",
       "      <td>2.978566</td>\n",
       "      <td>168.620776</td>\n",
       "    </tr>\n",
       "    <tr>\n",
       "      <td>4</td>\n",
       "      <td>Xdl7t</td>\n",
       "      <td>1.988431</td>\n",
       "      <td>0.155413</td>\n",
       "      <td>4.751769</td>\n",
       "      <td>154.036647</td>\n",
       "    </tr>\n",
       "  </tbody>\n",
       "</table>\n",
       "</div>"
      ],
      "text/plain": [
       "      id        f0        f1        f2     product\n",
       "0  txEyH  0.705745 -0.497823  1.221170  105.280062\n",
       "1  2acmU  1.334711 -0.340164  4.365080   73.037750\n",
       "2  409Wp  1.022732  0.151990  1.419926   85.265647\n",
       "3  iJLyR -0.032172  0.139033  2.978566  168.620776\n",
       "4  Xdl7t  1.988431  0.155413  4.751769  154.036647"
      ]
     },
     "execution_count": 2,
     "metadata": {},
     "output_type": "execute_result"
    }
   ],
   "source": [
    "data_1 = pd.read_csv('/datasets/geo_data_0.csv')\n",
    "data_2 = pd.read_csv('/datasets/geo_data_1.csv')\n",
    "data_3 = pd.read_csv('/datasets/geo_data_2.csv')\n",
    "data_1.head()"
   ]
  },
  {
   "cell_type": "code",
   "execution_count": 3,
   "metadata": {},
   "outputs": [
    {
     "data": {
      "text/html": [
       "<div>\n",
       "<style scoped>\n",
       "    .dataframe tbody tr th:only-of-type {\n",
       "        vertical-align: middle;\n",
       "    }\n",
       "\n",
       "    .dataframe tbody tr th {\n",
       "        vertical-align: top;\n",
       "    }\n",
       "\n",
       "    .dataframe thead th {\n",
       "        text-align: right;\n",
       "    }\n",
       "</style>\n",
       "<table border=\"1\" class=\"dataframe\">\n",
       "  <thead>\n",
       "    <tr style=\"text-align: right;\">\n",
       "      <th></th>\n",
       "      <th>id</th>\n",
       "      <th>f0</th>\n",
       "      <th>f1</th>\n",
       "      <th>f2</th>\n",
       "      <th>product</th>\n",
       "    </tr>\n",
       "  </thead>\n",
       "  <tbody>\n",
       "    <tr>\n",
       "      <td>0</td>\n",
       "      <td>kBEdx</td>\n",
       "      <td>-15.001348</td>\n",
       "      <td>-8.276000</td>\n",
       "      <td>-0.005876</td>\n",
       "      <td>3.179103</td>\n",
       "    </tr>\n",
       "    <tr>\n",
       "      <td>1</td>\n",
       "      <td>62mP7</td>\n",
       "      <td>14.272088</td>\n",
       "      <td>-3.475083</td>\n",
       "      <td>0.999183</td>\n",
       "      <td>26.953261</td>\n",
       "    </tr>\n",
       "    <tr>\n",
       "      <td>2</td>\n",
       "      <td>vyE1P</td>\n",
       "      <td>6.263187</td>\n",
       "      <td>-5.948386</td>\n",
       "      <td>5.001160</td>\n",
       "      <td>134.766305</td>\n",
       "    </tr>\n",
       "    <tr>\n",
       "      <td>3</td>\n",
       "      <td>KcrkZ</td>\n",
       "      <td>-13.081196</td>\n",
       "      <td>-11.506057</td>\n",
       "      <td>4.999415</td>\n",
       "      <td>137.945408</td>\n",
       "    </tr>\n",
       "    <tr>\n",
       "      <td>4</td>\n",
       "      <td>AHL4O</td>\n",
       "      <td>12.702195</td>\n",
       "      <td>-8.147433</td>\n",
       "      <td>5.004363</td>\n",
       "      <td>134.766305</td>\n",
       "    </tr>\n",
       "  </tbody>\n",
       "</table>\n",
       "</div>"
      ],
      "text/plain": [
       "      id         f0         f1        f2     product\n",
       "0  kBEdx -15.001348  -8.276000 -0.005876    3.179103\n",
       "1  62mP7  14.272088  -3.475083  0.999183   26.953261\n",
       "2  vyE1P   6.263187  -5.948386  5.001160  134.766305\n",
       "3  KcrkZ -13.081196 -11.506057  4.999415  137.945408\n",
       "4  AHL4O  12.702195  -8.147433  5.004363  134.766305"
      ]
     },
     "execution_count": 3,
     "metadata": {},
     "output_type": "execute_result"
    }
   ],
   "source": [
    "data_2.head()"
   ]
  },
  {
   "cell_type": "code",
   "execution_count": 4,
   "metadata": {},
   "outputs": [
    {
     "data": {
      "text/html": [
       "<div>\n",
       "<style scoped>\n",
       "    .dataframe tbody tr th:only-of-type {\n",
       "        vertical-align: middle;\n",
       "    }\n",
       "\n",
       "    .dataframe tbody tr th {\n",
       "        vertical-align: top;\n",
       "    }\n",
       "\n",
       "    .dataframe thead th {\n",
       "        text-align: right;\n",
       "    }\n",
       "</style>\n",
       "<table border=\"1\" class=\"dataframe\">\n",
       "  <thead>\n",
       "    <tr style=\"text-align: right;\">\n",
       "      <th></th>\n",
       "      <th>id</th>\n",
       "      <th>f0</th>\n",
       "      <th>f1</th>\n",
       "      <th>f2</th>\n",
       "      <th>product</th>\n",
       "    </tr>\n",
       "  </thead>\n",
       "  <tbody>\n",
       "    <tr>\n",
       "      <td>0</td>\n",
       "      <td>fwXo0</td>\n",
       "      <td>-1.146987</td>\n",
       "      <td>0.963328</td>\n",
       "      <td>-0.828965</td>\n",
       "      <td>27.758673</td>\n",
       "    </tr>\n",
       "    <tr>\n",
       "      <td>1</td>\n",
       "      <td>WJtFt</td>\n",
       "      <td>0.262778</td>\n",
       "      <td>0.269839</td>\n",
       "      <td>-2.530187</td>\n",
       "      <td>56.069697</td>\n",
       "    </tr>\n",
       "    <tr>\n",
       "      <td>2</td>\n",
       "      <td>ovLUW</td>\n",
       "      <td>0.194587</td>\n",
       "      <td>0.289035</td>\n",
       "      <td>-5.586433</td>\n",
       "      <td>62.871910</td>\n",
       "    </tr>\n",
       "    <tr>\n",
       "      <td>3</td>\n",
       "      <td>q6cA6</td>\n",
       "      <td>2.236060</td>\n",
       "      <td>-0.553760</td>\n",
       "      <td>0.930038</td>\n",
       "      <td>114.572842</td>\n",
       "    </tr>\n",
       "    <tr>\n",
       "      <td>4</td>\n",
       "      <td>WPMUX</td>\n",
       "      <td>-0.515993</td>\n",
       "      <td>1.716266</td>\n",
       "      <td>5.899011</td>\n",
       "      <td>149.600746</td>\n",
       "    </tr>\n",
       "  </tbody>\n",
       "</table>\n",
       "</div>"
      ],
      "text/plain": [
       "      id        f0        f1        f2     product\n",
       "0  fwXo0 -1.146987  0.963328 -0.828965   27.758673\n",
       "1  WJtFt  0.262778  0.269839 -2.530187   56.069697\n",
       "2  ovLUW  0.194587  0.289035 -5.586433   62.871910\n",
       "3  q6cA6  2.236060 -0.553760  0.930038  114.572842\n",
       "4  WPMUX -0.515993  1.716266  5.899011  149.600746"
      ]
     },
     "execution_count": 4,
     "metadata": {},
     "output_type": "execute_result"
    }
   ],
   "source": [
    "data_3.head()"
   ]
  },
  {
   "cell_type": "code",
   "execution_count": 5,
   "metadata": {},
   "outputs": [
    {
     "name": "stdout",
     "output_type": "stream",
     "text": [
      "<class 'pandas.core.frame.DataFrame'>\n",
      "RangeIndex: 100000 entries, 0 to 99999\n",
      "Data columns (total 5 columns):\n",
      "id         100000 non-null object\n",
      "f0         100000 non-null float64\n",
      "f1         100000 non-null float64\n",
      "f2         100000 non-null float64\n",
      "product    100000 non-null float64\n",
      "dtypes: float64(4), object(1)\n",
      "memory usage: 3.8+ MB\n"
     ]
    }
   ],
   "source": [
    "data_1.info()"
   ]
  },
  {
   "cell_type": "code",
   "execution_count": 6,
   "metadata": {},
   "outputs": [
    {
     "name": "stdout",
     "output_type": "stream",
     "text": [
      "<class 'pandas.core.frame.DataFrame'>\n",
      "RangeIndex: 100000 entries, 0 to 99999\n",
      "Data columns (total 5 columns):\n",
      "id         100000 non-null object\n",
      "f0         100000 non-null float64\n",
      "f1         100000 non-null float64\n",
      "f2         100000 non-null float64\n",
      "product    100000 non-null float64\n",
      "dtypes: float64(4), object(1)\n",
      "memory usage: 3.8+ MB\n"
     ]
    }
   ],
   "source": [
    "data_2.info()"
   ]
  },
  {
   "cell_type": "code",
   "execution_count": 7,
   "metadata": {},
   "outputs": [
    {
     "name": "stdout",
     "output_type": "stream",
     "text": [
      "<class 'pandas.core.frame.DataFrame'>\n",
      "RangeIndex: 100000 entries, 0 to 99999\n",
      "Data columns (total 5 columns):\n",
      "id         100000 non-null object\n",
      "f0         100000 non-null float64\n",
      "f1         100000 non-null float64\n",
      "f2         100000 non-null float64\n",
      "product    100000 non-null float64\n",
      "dtypes: float64(4), object(1)\n",
      "memory usage: 3.8+ MB\n"
     ]
    }
   ],
   "source": [
    "data_3.info()"
   ]
  },
  {
   "cell_type": "code",
   "execution_count": 8,
   "metadata": {},
   "outputs": [
    {
     "data": {
      "text/html": [
       "<div>\n",
       "<style scoped>\n",
       "    .dataframe tbody tr th:only-of-type {\n",
       "        vertical-align: middle;\n",
       "    }\n",
       "\n",
       "    .dataframe tbody tr th {\n",
       "        vertical-align: top;\n",
       "    }\n",
       "\n",
       "    .dataframe thead th {\n",
       "        text-align: right;\n",
       "    }\n",
       "</style>\n",
       "<table border=\"1\" class=\"dataframe\">\n",
       "  <thead>\n",
       "    <tr style=\"text-align: right;\">\n",
       "      <th></th>\n",
       "      <th>f0</th>\n",
       "      <th>f1</th>\n",
       "      <th>f2</th>\n",
       "      <th>product</th>\n",
       "    </tr>\n",
       "  </thead>\n",
       "  <tbody>\n",
       "    <tr>\n",
       "      <td>count</td>\n",
       "      <td>100000.000000</td>\n",
       "      <td>100000.000000</td>\n",
       "      <td>100000.000000</td>\n",
       "      <td>100000.000000</td>\n",
       "    </tr>\n",
       "    <tr>\n",
       "      <td>mean</td>\n",
       "      <td>0.500419</td>\n",
       "      <td>0.250143</td>\n",
       "      <td>2.502647</td>\n",
       "      <td>92.500000</td>\n",
       "    </tr>\n",
       "    <tr>\n",
       "      <td>std</td>\n",
       "      <td>0.871832</td>\n",
       "      <td>0.504433</td>\n",
       "      <td>3.248248</td>\n",
       "      <td>44.288691</td>\n",
       "    </tr>\n",
       "    <tr>\n",
       "      <td>min</td>\n",
       "      <td>-1.408605</td>\n",
       "      <td>-0.848218</td>\n",
       "      <td>-12.088328</td>\n",
       "      <td>0.000000</td>\n",
       "    </tr>\n",
       "    <tr>\n",
       "      <td>25%</td>\n",
       "      <td>-0.072580</td>\n",
       "      <td>-0.200881</td>\n",
       "      <td>0.287748</td>\n",
       "      <td>56.497507</td>\n",
       "    </tr>\n",
       "    <tr>\n",
       "      <td>50%</td>\n",
       "      <td>0.502360</td>\n",
       "      <td>0.250252</td>\n",
       "      <td>2.515969</td>\n",
       "      <td>91.849972</td>\n",
       "    </tr>\n",
       "    <tr>\n",
       "      <td>75%</td>\n",
       "      <td>1.073581</td>\n",
       "      <td>0.700646</td>\n",
       "      <td>4.715088</td>\n",
       "      <td>128.564089</td>\n",
       "    </tr>\n",
       "    <tr>\n",
       "      <td>max</td>\n",
       "      <td>2.362331</td>\n",
       "      <td>1.343769</td>\n",
       "      <td>16.003790</td>\n",
       "      <td>185.364347</td>\n",
       "    </tr>\n",
       "  </tbody>\n",
       "</table>\n",
       "</div>"
      ],
      "text/plain": [
       "                  f0             f1             f2        product\n",
       "count  100000.000000  100000.000000  100000.000000  100000.000000\n",
       "mean        0.500419       0.250143       2.502647      92.500000\n",
       "std         0.871832       0.504433       3.248248      44.288691\n",
       "min        -1.408605      -0.848218     -12.088328       0.000000\n",
       "25%        -0.072580      -0.200881       0.287748      56.497507\n",
       "50%         0.502360       0.250252       2.515969      91.849972\n",
       "75%         1.073581       0.700646       4.715088     128.564089\n",
       "max         2.362331       1.343769      16.003790     185.364347"
      ]
     },
     "execution_count": 8,
     "metadata": {},
     "output_type": "execute_result"
    }
   ],
   "source": [
    "data_1.describe()"
   ]
  },
  {
   "cell_type": "code",
   "execution_count": 9,
   "metadata": {},
   "outputs": [
    {
     "data": {
      "text/html": [
       "<div>\n",
       "<style scoped>\n",
       "    .dataframe tbody tr th:only-of-type {\n",
       "        vertical-align: middle;\n",
       "    }\n",
       "\n",
       "    .dataframe tbody tr th {\n",
       "        vertical-align: top;\n",
       "    }\n",
       "\n",
       "    .dataframe thead th {\n",
       "        text-align: right;\n",
       "    }\n",
       "</style>\n",
       "<table border=\"1\" class=\"dataframe\">\n",
       "  <thead>\n",
       "    <tr style=\"text-align: right;\">\n",
       "      <th></th>\n",
       "      <th>f0</th>\n",
       "      <th>f1</th>\n",
       "      <th>f2</th>\n",
       "      <th>product</th>\n",
       "    </tr>\n",
       "  </thead>\n",
       "  <tbody>\n",
       "    <tr>\n",
       "      <td>count</td>\n",
       "      <td>100000.000000</td>\n",
       "      <td>100000.000000</td>\n",
       "      <td>100000.000000</td>\n",
       "      <td>100000.000000</td>\n",
       "    </tr>\n",
       "    <tr>\n",
       "      <td>mean</td>\n",
       "      <td>1.141296</td>\n",
       "      <td>-4.796579</td>\n",
       "      <td>2.494541</td>\n",
       "      <td>68.825000</td>\n",
       "    </tr>\n",
       "    <tr>\n",
       "      <td>std</td>\n",
       "      <td>8.965932</td>\n",
       "      <td>5.119872</td>\n",
       "      <td>1.703572</td>\n",
       "      <td>45.944423</td>\n",
       "    </tr>\n",
       "    <tr>\n",
       "      <td>min</td>\n",
       "      <td>-31.609576</td>\n",
       "      <td>-26.358598</td>\n",
       "      <td>-0.018144</td>\n",
       "      <td>0.000000</td>\n",
       "    </tr>\n",
       "    <tr>\n",
       "      <td>25%</td>\n",
       "      <td>-6.298551</td>\n",
       "      <td>-8.267985</td>\n",
       "      <td>1.000021</td>\n",
       "      <td>26.953261</td>\n",
       "    </tr>\n",
       "    <tr>\n",
       "      <td>50%</td>\n",
       "      <td>1.153055</td>\n",
       "      <td>-4.813172</td>\n",
       "      <td>2.011479</td>\n",
       "      <td>57.085625</td>\n",
       "    </tr>\n",
       "    <tr>\n",
       "      <td>75%</td>\n",
       "      <td>8.621015</td>\n",
       "      <td>-1.332816</td>\n",
       "      <td>3.999904</td>\n",
       "      <td>107.813044</td>\n",
       "    </tr>\n",
       "    <tr>\n",
       "      <td>max</td>\n",
       "      <td>29.421755</td>\n",
       "      <td>18.734063</td>\n",
       "      <td>5.019721</td>\n",
       "      <td>137.945408</td>\n",
       "    </tr>\n",
       "  </tbody>\n",
       "</table>\n",
       "</div>"
      ],
      "text/plain": [
       "                  f0             f1             f2        product\n",
       "count  100000.000000  100000.000000  100000.000000  100000.000000\n",
       "mean        1.141296      -4.796579       2.494541      68.825000\n",
       "std         8.965932       5.119872       1.703572      45.944423\n",
       "min       -31.609576     -26.358598      -0.018144       0.000000\n",
       "25%        -6.298551      -8.267985       1.000021      26.953261\n",
       "50%         1.153055      -4.813172       2.011479      57.085625\n",
       "75%         8.621015      -1.332816       3.999904     107.813044\n",
       "max        29.421755      18.734063       5.019721     137.945408"
      ]
     },
     "execution_count": 9,
     "metadata": {},
     "output_type": "execute_result"
    }
   ],
   "source": [
    "data_2.describe()"
   ]
  },
  {
   "cell_type": "code",
   "execution_count": 10,
   "metadata": {},
   "outputs": [
    {
     "data": {
      "text/html": [
       "<div>\n",
       "<style scoped>\n",
       "    .dataframe tbody tr th:only-of-type {\n",
       "        vertical-align: middle;\n",
       "    }\n",
       "\n",
       "    .dataframe tbody tr th {\n",
       "        vertical-align: top;\n",
       "    }\n",
       "\n",
       "    .dataframe thead th {\n",
       "        text-align: right;\n",
       "    }\n",
       "</style>\n",
       "<table border=\"1\" class=\"dataframe\">\n",
       "  <thead>\n",
       "    <tr style=\"text-align: right;\">\n",
       "      <th></th>\n",
       "      <th>f0</th>\n",
       "      <th>f1</th>\n",
       "      <th>f2</th>\n",
       "      <th>product</th>\n",
       "    </tr>\n",
       "  </thead>\n",
       "  <tbody>\n",
       "    <tr>\n",
       "      <td>count</td>\n",
       "      <td>100000.000000</td>\n",
       "      <td>100000.000000</td>\n",
       "      <td>100000.000000</td>\n",
       "      <td>100000.000000</td>\n",
       "    </tr>\n",
       "    <tr>\n",
       "      <td>mean</td>\n",
       "      <td>0.002023</td>\n",
       "      <td>-0.002081</td>\n",
       "      <td>2.495128</td>\n",
       "      <td>95.000000</td>\n",
       "    </tr>\n",
       "    <tr>\n",
       "      <td>std</td>\n",
       "      <td>1.732045</td>\n",
       "      <td>1.730417</td>\n",
       "      <td>3.473445</td>\n",
       "      <td>44.749921</td>\n",
       "    </tr>\n",
       "    <tr>\n",
       "      <td>min</td>\n",
       "      <td>-8.760004</td>\n",
       "      <td>-7.084020</td>\n",
       "      <td>-11.970335</td>\n",
       "      <td>0.000000</td>\n",
       "    </tr>\n",
       "    <tr>\n",
       "      <td>25%</td>\n",
       "      <td>-1.162288</td>\n",
       "      <td>-1.174820</td>\n",
       "      <td>0.130359</td>\n",
       "      <td>59.450441</td>\n",
       "    </tr>\n",
       "    <tr>\n",
       "      <td>50%</td>\n",
       "      <td>0.009424</td>\n",
       "      <td>-0.009482</td>\n",
       "      <td>2.484236</td>\n",
       "      <td>94.925613</td>\n",
       "    </tr>\n",
       "    <tr>\n",
       "      <td>75%</td>\n",
       "      <td>1.158535</td>\n",
       "      <td>1.163678</td>\n",
       "      <td>4.858794</td>\n",
       "      <td>130.595027</td>\n",
       "    </tr>\n",
       "    <tr>\n",
       "      <td>max</td>\n",
       "      <td>7.238262</td>\n",
       "      <td>7.844801</td>\n",
       "      <td>16.739402</td>\n",
       "      <td>190.029838</td>\n",
       "    </tr>\n",
       "  </tbody>\n",
       "</table>\n",
       "</div>"
      ],
      "text/plain": [
       "                  f0             f1             f2        product\n",
       "count  100000.000000  100000.000000  100000.000000  100000.000000\n",
       "mean        0.002023      -0.002081       2.495128      95.000000\n",
       "std         1.732045       1.730417       3.473445      44.749921\n",
       "min        -8.760004      -7.084020     -11.970335       0.000000\n",
       "25%        -1.162288      -1.174820       0.130359      59.450441\n",
       "50%         0.009424      -0.009482       2.484236      94.925613\n",
       "75%         1.158535       1.163678       4.858794     130.595027\n",
       "max         7.238262       7.844801      16.739402     190.029838"
      ]
     },
     "execution_count": 10,
     "metadata": {},
     "output_type": "execute_result"
    }
   ],
   "source": [
    "data_3.describe()"
   ]
  },
  {
   "cell_type": "markdown",
   "metadata": {},
   "source": [
    "На данный момент мы видим что в таблицах данные заполнены полностью, дополнительной предобработки не требуется. Также поскольку в условии задачи сказано что все показатели важны мы не можем ничего убрать или поменять. Похоже что по подготовке данных это все. Единственное будет необходимо убрать id из признаков, иначе модель не сможет обучиться.\n",
    "\n",
    "Также хочу добавить что на первый взгляд мы видим что на первом и третьем месторождении у нас среднее значительно выше чем у второго, а поскольку кол-во строк в датасетах одинаковое, можно сделать вывод что в первом и третьем месторождении запасов больше, и их разработка более выгодна. Можно было бы еще попытаться сравнить другие параметры, но мы не знаем насколько хорошо или плохо то что они большие или маленькие, обратим внимание что у второго региона разброс параметров меньше чем у других, вероятно это скажется на точности модели. Проверим."
   ]
  },
  {
   "cell_type": "markdown",
   "metadata": {},
   "source": [
    "## Обучение и проверка модели"
   ]
  },
  {
   "cell_type": "code",
   "execution_count": 11,
   "metadata": {},
   "outputs": [],
   "source": [
    "features_1 = data_1.drop(['id','product'], axis = 1)\n",
    "target_1 = data_1['product']\n",
    "features_train_1, features_valid_1, target_train_1, target_valid_1 = train_test_split(features_1, target_1, \n",
    "                                                                   test_size = 0.25, random_state=12345)"
   ]
  },
  {
   "cell_type": "code",
   "execution_count": 12,
   "metadata": {},
   "outputs": [],
   "source": [
    "features_2 = data_2.drop(['id','product'], axis = 1)\n",
    "target_2 = data_2['product']\n",
    "features_train_2, features_valid_2, target_train_2, target_valid_2 = train_test_split(features_2, target_2, \n",
    "                                                                     test_size = 0.25, random_state=12345)"
   ]
  },
  {
   "cell_type": "code",
   "execution_count": 13,
   "metadata": {},
   "outputs": [],
   "source": [
    "features_3 = data_3.drop(['id','product'], axis = 1)\n",
    "target_3 = data_3['product']\n",
    "features_train_3, features_valid_3, target_train_3, target_valid_3 = train_test_split(features_3, target_3, \n",
    "                                                                      test_size = 0.25, random_state=12345)"
   ]
  },
  {
   "cell_type": "code",
   "execution_count": 14,
   "metadata": {},
   "outputs": [
    {
     "data": {
      "text/plain": [
       "92.59256778438038"
      ]
     },
     "execution_count": 14,
     "metadata": {},
     "output_type": "execute_result"
    }
   ],
   "source": [
    "model_1 = LinearRegression()\n",
    "model_1.fit(features_train_1, target_train_1)\n",
    "predicted_valid_1 = model_1.predict(features_valid_1)\n",
    "predicted_valid_1.mean()"
   ]
  },
  {
   "cell_type": "code",
   "execution_count": 15,
   "metadata": {},
   "outputs": [
    {
     "data": {
      "text/plain": [
       "37.5794217150813"
      ]
     },
     "execution_count": 15,
     "metadata": {},
     "output_type": "execute_result"
    }
   ],
   "source": [
    "rmse_1 = mean_squared_error(target_valid_1, predicted_valid_1) ** 0.5\n",
    "rmse_1"
   ]
  },
  {
   "cell_type": "code",
   "execution_count": 16,
   "metadata": {},
   "outputs": [
    {
     "data": {
      "text/plain": [
       "68.728546895446"
      ]
     },
     "execution_count": 16,
     "metadata": {},
     "output_type": "execute_result"
    }
   ],
   "source": [
    "model_2 = LinearRegression()\n",
    "model_2.fit(features_train_2, target_train_2)\n",
    "predicted_valid_2 = model_2.predict(features_valid_2)\n",
    "predicted_valid_2.mean()"
   ]
  },
  {
   "cell_type": "code",
   "execution_count": 17,
   "metadata": {},
   "outputs": [
    {
     "data": {
      "text/plain": [
       "0.893099286775616"
      ]
     },
     "execution_count": 17,
     "metadata": {},
     "output_type": "execute_result"
    }
   ],
   "source": [
    "rmse_2 = mean_squared_error(target_valid_2, predicted_valid_2) ** 0.5\n",
    "rmse_2"
   ]
  },
  {
   "cell_type": "code",
   "execution_count": 18,
   "metadata": {},
   "outputs": [
    {
     "data": {
      "text/plain": [
       "94.96504596800489"
      ]
     },
     "execution_count": 18,
     "metadata": {},
     "output_type": "execute_result"
    }
   ],
   "source": [
    "model_3 = LinearRegression()\n",
    "model_3.fit(features_train_3, target_train_3)\n",
    "predicted_valid_3 = model_3.predict(features_valid_3)\n",
    "predicted_valid_3.mean()"
   ]
  },
  {
   "cell_type": "code",
   "execution_count": 19,
   "metadata": {},
   "outputs": [
    {
     "data": {
      "text/plain": [
       "40.02970873393434"
      ]
     },
     "execution_count": 19,
     "metadata": {},
     "output_type": "execute_result"
    }
   ],
   "source": [
    "rmse_3 = mean_squared_error(target_valid_3, predicted_valid_3) ** 0.5\n",
    "rmse_3"
   ]
  },
  {
   "cell_type": "markdown",
   "metadata": {},
   "source": [
    "Мы видим что в первом и третьем регионе модель предсказывает большее количество сырья чем во втором, но при этом среднее квадратичное отклонение в них тоже выше. Для того чтобы принять решение, какой регион лучше подходит для разработки требуется посчитать прибыль в деньгах и оценить риски, чем мы сейчас и займемся.\n",
    "\n",
    "На данный момент я предполагаю что первый и третий регион будут выгоднее для разработки, потому что среднее квадратичное отклонение подразумевает, что отклонение будет и в большую и в меньшую сторону, т.е. в них в среднем будет от 55 до примерно 130 тысяч баррелей против разброса 68 - 70 тысяч баррелей во втором регионе, что в свою очередь в худшем случае меньше всего на 20-25%, а в лучшем больше почти в два раза. Пока моим фаворитом является третий регион."
   ]
  },
  {
   "cell_type": "markdown",
   "metadata": {},
   "source": [
    "## Подготовка к расчёту прибыли"
   ]
  },
  {
   "cell_type": "markdown",
   "metadata": {},
   "source": [
    "Для начала обозначим константы, уменьшив суммы на \"000\", чтобы было проще считать. Далее посчитаем сколько необходимо добыть тысяч баррелей, чтобы как минимум не терпеть убытки. С учетом что по условиям задачи у нас бюджет 1 млрд и необходимо выбрать 200 точек, предположим что стоимость разработки одной скважины 5 млн рублей, и в эту сумму входит себистоимость\\аммортизация оборудования, налоги и найм рабочих."
   ]
  },
  {
   "cell_type": "code",
   "execution_count": 20,
   "metadata": {},
   "outputs": [],
   "source": [
    "investition = 10000000\n",
    "price_for_kbarrel = 450\n",
    "number_points = 200\n",
    "price_for_point = investition / number_points"
   ]
  },
  {
   "cell_type": "code",
   "execution_count": 21,
   "metadata": {},
   "outputs": [
    {
     "data": {
      "text/plain": [
       "22222.222222222223"
      ]
     },
     "execution_count": 21,
     "metadata": {},
     "output_type": "execute_result"
    }
   ],
   "source": [
    "need_oil_total = investition / price_for_kbarrel\n",
    "need_oil_total"
   ]
  },
  {
   "cell_type": "code",
   "execution_count": 22,
   "metadata": {},
   "outputs": [
    {
     "data": {
      "text/plain": [
       "111.11111111111111"
      ]
     },
     "execution_count": 22,
     "metadata": {},
     "output_type": "execute_result"
    }
   ],
   "source": [
    "need_oil_per_point = (price_for_point) / price_for_kbarrel\n",
    "need_oil_per_point"
   ]
  },
  {
   "cell_type": "markdown",
   "metadata": {},
   "source": [
    "Итого, для того чтобы добыча нефти из скважины не была убыточна, достаточно всего 13 тысяч бареллей нефти, и в принципе, судя по среднему которое мы нашли, все три региона будут являться прибыльными для добычи. Раз мы выяснили что прибыльны будут все, то давайте посчитаем какую прибыль нам принесут регионы если пользоваться предсказаниями модели."
   ]
  },
  {
   "cell_type": "code",
   "execution_count": 23,
   "metadata": {},
   "outputs": [],
   "source": [
    "def value_on_region(predict, answer):\n",
    "    predict_series = pd.Series(predict)\n",
    "    answer_reset = answer.reset_index().drop('index', axis = 1)\n",
    "    sort_predict = predict_series.sort_values(ascending = False)\n",
    "    sort_answer = answer_reset['product'][sort_predict.index][:200]\n",
    "    print('В данном регионе согласно предсказанию модели будет добыто', sort_answer.sum(), 'тысяч баррелей нефти')\n",
    "    print('Что в итоге принесет чистую прибыль в размере:')\n",
    "    return((sort_answer.sum() * price_for_kbarrel) - investition)"
   ]
  },
  {
   "cell_type": "code",
   "execution_count": 24,
   "metadata": {},
   "outputs": [
    {
     "name": "stdout",
     "output_type": "stream",
     "text": [
      "В данном регионе согласно предсказанию модели будет добыто 29601.835651421894 тысяч баррелей нефти\n",
      "Что в итоге принесет чистую прибыль в размере:\n"
     ]
    },
    {
     "data": {
      "text/plain": [
       "3320826.0431398526"
      ]
     },
     "execution_count": 24,
     "metadata": {},
     "output_type": "execute_result"
    }
   ],
   "source": [
    "value_on_region(predicted_valid_1, target_valid_1)"
   ]
  },
  {
   "cell_type": "code",
   "execution_count": 25,
   "metadata": {},
   "outputs": [
    {
     "name": "stdout",
     "output_type": "stream",
     "text": [
      "В данном регионе согласно предсказанию модели будет добыто 27589.081548181137 тысяч баррелей нефти\n",
      "Что в итоге принесет чистую прибыль в размере:\n"
     ]
    },
    {
     "data": {
      "text/plain": [
       "2415086.6966815125"
      ]
     },
     "execution_count": 25,
     "metadata": {},
     "output_type": "execute_result"
    }
   ],
   "source": [
    "value_on_region(predicted_valid_2, target_valid_2)"
   ]
  },
  {
   "cell_type": "code",
   "execution_count": 26,
   "metadata": {},
   "outputs": [
    {
     "name": "stdout",
     "output_type": "stream",
     "text": [
      "В данном регионе согласно предсказанию модели будет добыто 28245.22214133296 тысяч баррелей нефти\n",
      "Что в итоге принесет чистую прибыль в размере:\n"
     ]
    },
    {
     "data": {
      "text/plain": [
       "2710349.9635998327"
      ]
     },
     "execution_count": 26,
     "metadata": {},
     "output_type": "execute_result"
    }
   ],
   "source": [
    "value_on_region(predicted_valid_3, target_valid_3)"
   ]
  },
  {
   "cell_type": "markdown",
   "metadata": {},
   "source": [
    "По результатам нашего исследования мы видим, что на основе предсказаний модели каждый регион принесет хорошую прибыль, и самым прибыльным из них по результатам теста будет первый регион. Но это не дает нам возможности оценить риски и нормальность распределения, ведь при выборе скважин выбор будет всего из 500 точек, и для проверки этого мы можем использовать bootstrep."
   ]
  },
  {
   "cell_type": "markdown",
   "metadata": {},
   "source": [
    "## Расчёт прибыли и рисков "
   ]
  },
  {
   "cell_type": "markdown",
   "metadata": {},
   "source": [
    "Напишем функцию бутстрепа чтобы не переписывать ее для каждого региона, выведем 95% доверительные интервалы и посмотрим какие у нас риски потерпеть убытки в этих регионах."
   ]
  },
  {
   "cell_type": "code",
   "execution_count": 27,
   "metadata": {},
   "outputs": [],
   "source": [
    "def bootstrep_value(probabilities, target):\n",
    "    values = []\n",
    "    state = np.random.RandomState(12345)\n",
    "    for i in range(1000):\n",
    "        probabilities_to_series = pd.Series(probabilities)\n",
    "        target_to_reset = target.reset_index().drop('index', axis = 1)\n",
    "        subsample_target = target_to_reset.sample(n=500, replace=False, random_state=state)\n",
    "        subsample_probabilities = probabilities_to_series[subsample_target.index]\n",
    "        sort_predict = subsample_probabilities.sort_values(ascending = False)\n",
    "        sort_answer = subsample_target['product'][sort_predict.index][:200]\n",
    "        values.append((sort_answer.sum() * price_for_kbarrel) - investition)\n",
    "    return(values)"
   ]
  },
  {
   "cell_type": "code",
   "execution_count": 28,
   "metadata": {},
   "outputs": [],
   "source": [
    "values_1_region = bootstrep_value(predicted_valid_1, target_valid_1)"
   ]
  },
  {
   "cell_type": "code",
   "execution_count": 29,
   "metadata": {},
   "outputs": [
    {
     "name": "stdout",
     "output_type": "stream",
     "text": [
      "95% доверительный интервал прибыли находится в диапазоне от -126947.63803180121 до 879613.9678477967 тыс.руб.\n"
     ]
    }
   ],
   "source": [
    "values_1_region = pd.DataFrame(values_1_region)\n",
    "values_1_region.set_axis(['values'],axis = 'columns',inplace = True)\n",
    "min_1 = values_1_region['values'].quantile(0.025)\n",
    "max_1 = values_1_region['values'].quantile(0.975)\n",
    "print('95% доверительный интервал прибыли находится в диапазоне от', min_1, 'до', max_1, 'тыс.руб.')"
   ]
  },
  {
   "cell_type": "code",
   "execution_count": 30,
   "metadata": {},
   "outputs": [
    {
     "name": "stdout",
     "output_type": "stream",
     "text": [
      "Риск убытков составляет 7.199999999999999 %\n"
     ]
    }
   ],
   "source": [
    "print('Риск убытков составляет',\n",
    "      values_1_region.query('values < 0')['values'].count() / values_1_region['values'].count() * 100, '%')"
   ]
  },
  {
   "cell_type": "code",
   "execution_count": 31,
   "metadata": {},
   "outputs": [
    {
     "name": "stdout",
     "output_type": "stream",
     "text": [
      "95% доверительный интервал прибыли находится в диапазоне от 70899.38493535544 до 892985.24970006 тыс.руб.\n"
     ]
    }
   ],
   "source": [
    "values_2_region = bootstrep_value(predicted_valid_2, target_valid_2)\n",
    "values_2_region = pd.DataFrame(values_2_region)\n",
    "values_2_region.set_axis(['values'],axis = 'columns',inplace = True)\n",
    "min_2 = values_2_region['values'].quantile(0.025)\n",
    "max_2 = values_2_region['values'].quantile(0.975)\n",
    "print('95% доверительный интервал прибыли находится в диапазоне от', min_2, 'до', max_2, 'тыс.руб.')"
   ]
  },
  {
   "cell_type": "code",
   "execution_count": 32,
   "metadata": {},
   "outputs": [
    {
     "name": "stdout",
     "output_type": "stream",
     "text": [
      "Риск убытков составляет 1.4000000000000001 %\n"
     ]
    }
   ],
   "source": [
    "print('Риск убытков составляет',\n",
    "      values_2_region.query('values < 0')['values'].count() / values_2_region['values'].count() * 100, '%')"
   ]
  },
  {
   "cell_type": "code",
   "execution_count": 33,
   "metadata": {},
   "outputs": [
    {
     "name": "stdout",
     "output_type": "stream",
     "text": [
      "95% доверительный интервал прибыли находится в диапазоне от -143659.30684827152 до 963026.1544863078 тыс.руб.\n"
     ]
    }
   ],
   "source": [
    "values_3_region = bootstrep_value(predicted_valid_3, target_valid_3)\n",
    "values_3_region = pd.DataFrame(values_3_region)\n",
    "values_3_region.set_axis(['values'],axis = 'columns',inplace = True)\n",
    "min_3 = values_3_region['values'].quantile(0.025)\n",
    "max_3 = values_3_region['values'].quantile(0.975)\n",
    "print('95% доверительный интервал прибыли находится в диапазоне от', min_3, 'до', max_3, 'тыс.руб.')"
   ]
  },
  {
   "cell_type": "code",
   "execution_count": 34,
   "metadata": {},
   "outputs": [
    {
     "name": "stdout",
     "output_type": "stream",
     "text": [
      "Риск убытков составляет 7.1 %\n"
     ]
    }
   ],
   "source": [
    "print('Риск убытков составляет',\n",
    "      values_3_region.query('values < 0')['values'].count() / values_3_region['values'].count() * 100, '%')"
   ]
  },
  {
   "cell_type": "code",
   "execution_count": 35,
   "metadata": {},
   "outputs": [
    {
     "data": {
      "text/plain": [
       "values    380710.890709\n",
       "dtype: float64"
      ]
     },
     "execution_count": 35,
     "metadata": {},
     "output_type": "execute_result"
    }
   ],
   "source": [
    "values_1_region.mean()"
   ]
  },
  {
   "cell_type": "code",
   "execution_count": 36,
   "metadata": {},
   "outputs": [
    {
     "data": {
      "text/plain": [
       "values    448231.065148\n",
       "dtype: float64"
      ]
     },
     "execution_count": 36,
     "metadata": {},
     "output_type": "execute_result"
    }
   ],
   "source": [
    "values_2_region.mean()"
   ]
  },
  {
   "cell_type": "code",
   "execution_count": 37,
   "metadata": {},
   "outputs": [
    {
     "data": {
      "text/plain": [
       "values    402796.587172\n",
       "dtype: float64"
      ]
     },
     "execution_count": 37,
     "metadata": {},
     "output_type": "execute_result"
    }
   ],
   "source": [
    "values_3_region.mean()"
   ]
  },
  {
   "cell_type": "markdown",
   "metadata": {},
   "source": [
    "Мы получили 95% доверительные интервали по всем трем регионам, и судя по результатам проверки бутстрепом у нас самые маленькие риски и самая высокая средняя прибыль во втором регионе, хотя когда мы просто брали среднее по всей выборке результат был прямо противоположный. Все было определенно не зря."
   ]
  },
  {
   "cell_type": "markdown",
   "metadata": {},
   "source": [
    "## Вывод:\n",
    "\n",
    "Итого на основании проведенного исследования, можно сделать вывод что самые прибыльные регионы это второй и третий. В третьем регионе есть шанс заработать больше, а во втором все выглядит в разы безопаснее. Я считаю что в данной ситуации лучше выбрать второй регион, потому что в его доверительном интервале значительно меньше разброс, и почти в 5 раз меньше риски убытков, да и среднее у него выше. Мне кажется при таких прогнозах выбор очевиден."
   ]
  },
  {
   "cell_type": "code",
   "execution_count": null,
   "metadata": {},
   "outputs": [],
   "source": []
  }
 ],
 "metadata": {
  "ExecuteTimeLog": [
   {
    "duration": 319,
    "start_time": "2021-09-28T12:47:29.400Z"
   },
   {
    "duration": 1037,
    "start_time": "2021-09-28T12:47:31.849Z"
   },
   {
    "duration": 359,
    "start_time": "2021-09-28T12:47:32.888Z"
   },
   {
    "duration": 10,
    "start_time": "2021-09-28T12:48:55.190Z"
   },
   {
    "duration": 12,
    "start_time": "2021-09-28T12:49:18.898Z"
   },
   {
    "duration": 13,
    "start_time": "2021-09-28T12:49:27.277Z"
   },
   {
    "duration": 38,
    "start_time": "2021-09-28T12:49:41.071Z"
   },
   {
    "duration": 41,
    "start_time": "2021-09-28T12:50:18.347Z"
   },
   {
    "duration": 33,
    "start_time": "2021-09-28T12:50:43.961Z"
   },
   {
    "duration": 80,
    "start_time": "2021-09-28T13:20:47.744Z"
   },
   {
    "duration": 55,
    "start_time": "2021-09-28T13:21:26.678Z"
   },
   {
    "duration": 252,
    "start_time": "2021-09-28T13:21:39.514Z"
   },
   {
    "duration": 203,
    "start_time": "2021-09-28T13:22:05.776Z"
   },
   {
    "duration": 198,
    "start_time": "2021-09-28T13:22:12.920Z"
   },
   {
    "duration": 60,
    "start_time": "2021-09-28T13:22:59.984Z"
   },
   {
    "duration": 208,
    "start_time": "2021-09-28T13:23:07.877Z"
   },
   {
    "duration": 242,
    "start_time": "2021-09-28T13:23:35.877Z"
   },
   {
    "duration": 1037,
    "start_time": "2021-09-28T13:24:04.645Z"
   },
   {
    "duration": 383,
    "start_time": "2021-09-28T13:24:05.737Z"
   },
   {
    "duration": 11,
    "start_time": "2021-09-28T13:24:06.816Z"
   },
   {
    "duration": 10,
    "start_time": "2021-09-28T13:24:07.355Z"
   },
   {
    "duration": 12,
    "start_time": "2021-09-28T13:24:07.880Z"
   },
   {
    "duration": 40,
    "start_time": "2021-09-28T13:24:08.389Z"
   },
   {
    "duration": 39,
    "start_time": "2021-09-28T13:24:08.817Z"
   },
   {
    "duration": 35,
    "start_time": "2021-09-28T13:24:09.349Z"
   },
   {
    "duration": 290,
    "start_time": "2021-09-28T13:24:11.503Z"
   },
   {
    "duration": 9,
    "start_time": "2021-09-28T13:25:50.816Z"
   },
   {
    "duration": 10,
    "start_time": "2021-09-28T13:26:00.473Z"
   },
   {
    "duration": 25,
    "start_time": "2021-09-28T13:26:06.361Z"
   },
   {
    "duration": 25,
    "start_time": "2021-09-28T13:26:08.945Z"
   },
   {
    "duration": 24,
    "start_time": "2021-09-28T13:26:09.603Z"
   },
   {
    "duration": 7,
    "start_time": "2021-09-28T14:33:35.881Z"
   },
   {
    "duration": 189,
    "start_time": "2021-09-28T14:35:26.693Z"
   },
   {
    "duration": 21,
    "start_time": "2021-09-28T14:51:49.908Z"
   },
   {
    "duration": 19,
    "start_time": "2021-09-28T14:52:24.609Z"
   },
   {
    "duration": 16,
    "start_time": "2021-09-28T14:52:25.193Z"
   },
   {
    "duration": 187,
    "start_time": "2021-09-28T14:52:32.134Z"
   },
   {
    "duration": 21,
    "start_time": "2021-09-28T14:52:47.140Z"
   },
   {
    "duration": 15,
    "start_time": "2021-09-28T14:53:00.144Z"
   },
   {
    "duration": 13,
    "start_time": "2021-09-28T14:53:59.376Z"
   },
   {
    "duration": 13,
    "start_time": "2021-09-28T14:54:00.313Z"
   },
   {
    "duration": 100,
    "start_time": "2021-09-28T14:57:36.104Z"
   },
   {
    "duration": 99,
    "start_time": "2021-09-28T14:57:36.401Z"
   },
   {
    "duration": 14,
    "start_time": "2021-09-28T14:57:36.797Z"
   },
   {
    "duration": 14,
    "start_time": "2021-09-28T14:58:50.679Z"
   },
   {
    "duration": 6,
    "start_time": "2021-09-28T14:58:58.734Z"
   },
   {
    "duration": 13,
    "start_time": "2021-09-28T14:59:47.884Z"
   },
   {
    "duration": 5,
    "start_time": "2021-09-28T14:59:49.128Z"
   },
   {
    "duration": 14,
    "start_time": "2021-09-28T14:59:50.050Z"
   },
   {
    "duration": 5,
    "start_time": "2021-09-28T14:59:50.994Z"
   },
   {
    "duration": 12,
    "start_time": "2021-09-28T15:01:20.156Z"
   },
   {
    "duration": 14,
    "start_time": "2021-09-28T15:01:27.803Z"
   },
   {
    "duration": 14,
    "start_time": "2021-09-28T15:01:38.521Z"
   },
   {
    "duration": 1563,
    "start_time": "2021-09-28T19:43:45.652Z"
   },
   {
    "duration": 491,
    "start_time": "2021-09-28T19:43:47.218Z"
   },
   {
    "duration": 14,
    "start_time": "2021-09-28T19:43:47.713Z"
   },
   {
    "duration": 45,
    "start_time": "2021-09-28T19:43:47.731Z"
   },
   {
    "duration": 21,
    "start_time": "2021-09-28T19:43:47.779Z"
   },
   {
    "duration": 18,
    "start_time": "2021-09-28T19:43:47.803Z"
   },
   {
    "duration": 18,
    "start_time": "2021-09-28T19:43:47.869Z"
   },
   {
    "duration": 88,
    "start_time": "2021-09-28T19:43:47.890Z"
   },
   {
    "duration": 52,
    "start_time": "2021-09-28T19:43:47.982Z"
   },
   {
    "duration": 71,
    "start_time": "2021-09-28T19:43:48.037Z"
   },
   {
    "duration": 19,
    "start_time": "2021-09-28T19:43:48.111Z"
   },
   {
    "duration": 52,
    "start_time": "2021-09-28T19:43:48.133Z"
   },
   {
    "duration": 21,
    "start_time": "2021-09-28T19:43:48.187Z"
   },
   {
    "duration": 66,
    "start_time": "2021-09-28T19:43:48.211Z"
   },
   {
    "duration": 92,
    "start_time": "2021-09-28T19:43:48.280Z"
   },
   {
    "duration": 194,
    "start_time": "2021-09-28T19:43:48.376Z"
   },
   {
    "duration": 7,
    "start_time": "2021-09-28T19:43:48.572Z"
   },
   {
    "duration": 89,
    "start_time": "2021-09-28T19:43:48.581Z"
   },
   {
    "duration": 95,
    "start_time": "2021-09-28T19:43:48.674Z"
   },
   {
    "duration": 4,
    "start_time": "2021-09-28T19:45:24.393Z"
   },
   {
    "duration": 411,
    "start_time": "2021-09-28T19:45:25.458Z"
   },
   {
    "duration": 6,
    "start_time": "2021-09-28T19:45:51.416Z"
   },
   {
    "duration": 6,
    "start_time": "2021-09-28T19:45:52.809Z"
   },
   {
    "duration": 5,
    "start_time": "2021-09-28T19:46:55.363Z"
   },
   {
    "duration": 5,
    "start_time": "2021-09-28T19:46:57.273Z"
   },
   {
    "duration": 6,
    "start_time": "2021-09-28T19:46:58.260Z"
   },
   {
    "duration": 309,
    "start_time": "2021-09-28T21:45:08.869Z"
   },
   {
    "duration": 295,
    "start_time": "2021-09-28T21:45:21.841Z"
   },
   {
    "duration": 6,
    "start_time": "2021-09-28T21:45:46.586Z"
   },
   {
    "duration": 4,
    "start_time": "2021-09-28T21:47:07.110Z"
   },
   {
    "duration": 12,
    "start_time": "2021-09-28T21:47:19.941Z"
   },
   {
    "duration": 621,
    "start_time": "2021-09-28T21:49:20.450Z"
   },
   {
    "duration": 281,
    "start_time": "2021-09-28T21:49:27.032Z"
   },
   {
    "duration": 6385,
    "start_time": "2021-09-28T21:52:00.357Z"
   },
   {
    "duration": 12,
    "start_time": "2021-09-28T21:52:54.531Z"
   },
   {
    "duration": 264,
    "start_time": "2021-09-28T21:53:46.875Z"
   },
   {
    "duration": 1112,
    "start_time": "2021-09-28T21:54:21.116Z"
   },
   {
    "duration": 241,
    "start_time": "2021-09-28T21:54:37.581Z"
   },
   {
    "duration": 248,
    "start_time": "2021-09-28T21:54:43.832Z"
   },
   {
    "duration": 19,
    "start_time": "2021-09-28T21:54:57.454Z"
   },
   {
    "duration": 18,
    "start_time": "2021-09-28T21:55:13.339Z"
   },
   {
    "duration": 18,
    "start_time": "2021-09-28T21:56:05.439Z"
   },
   {
    "duration": 18,
    "start_time": "2021-09-28T21:58:49.904Z"
   },
   {
    "duration": 333,
    "start_time": "2021-09-28T21:59:32.004Z"
   },
   {
    "duration": 14,
    "start_time": "2021-09-28T21:59:53.808Z"
   },
   {
    "duration": 11,
    "start_time": "2021-09-28T22:01:11.608Z"
   },
   {
    "duration": 16,
    "start_time": "2021-09-28T22:01:34.767Z"
   },
   {
    "duration": 22,
    "start_time": "2021-09-28T22:01:51.412Z"
   },
   {
    "duration": 21,
    "start_time": "2021-09-28T22:02:18.056Z"
   },
   {
    "duration": 264,
    "start_time": "2021-09-28T22:03:22.376Z"
   },
   {
    "duration": 369,
    "start_time": "2021-09-28T22:04:28.664Z"
   },
   {
    "duration": 312,
    "start_time": "2021-09-28T22:05:01.813Z"
   },
   {
    "duration": 22,
    "start_time": "2021-09-28T22:05:34.157Z"
   },
   {
    "duration": 21,
    "start_time": "2021-09-28T22:05:49.443Z"
   },
   {
    "duration": 21,
    "start_time": "2021-09-28T22:05:56.699Z"
   },
   {
    "duration": 17,
    "start_time": "2021-09-28T22:07:19.928Z"
   },
   {
    "duration": 8184,
    "start_time": "2021-09-28T22:07:56.805Z"
   },
   {
    "duration": 19,
    "start_time": "2021-09-28T22:08:15.919Z"
   },
   {
    "duration": 16,
    "start_time": "2021-09-28T22:08:27.617Z"
   },
   {
    "duration": 13,
    "start_time": "2021-09-28T22:14:10.569Z"
   },
   {
    "duration": 19,
    "start_time": "2021-09-28T22:14:30.056Z"
   },
   {
    "duration": 22,
    "start_time": "2021-09-28T22:14:38.359Z"
   },
   {
    "duration": 296,
    "start_time": "2021-09-28T22:14:48.076Z"
   },
   {
    "duration": 22,
    "start_time": "2021-09-28T22:17:12.914Z"
   },
   {
    "duration": 22,
    "start_time": "2021-09-28T22:18:07.053Z"
   },
   {
    "duration": 8304,
    "start_time": "2021-09-28T22:18:58.779Z"
   },
   {
    "duration": 8,
    "start_time": "2021-09-28T22:20:26.456Z"
   },
   {
    "duration": 7,
    "start_time": "2021-09-28T22:20:57.049Z"
   },
   {
    "duration": 8,
    "start_time": "2021-09-28T22:21:05.496Z"
   },
   {
    "duration": 18,
    "start_time": "2021-09-28T22:21:18.007Z"
   },
   {
    "duration": 13,
    "start_time": "2021-09-28T22:21:26.353Z"
   },
   {
    "duration": 14,
    "start_time": "2021-09-28T22:22:01.374Z"
   },
   {
    "duration": 16,
    "start_time": "2021-09-28T22:22:06.417Z"
   },
   {
    "duration": 12,
    "start_time": "2021-09-28T22:22:22.799Z"
   },
   {
    "duration": 13,
    "start_time": "2021-09-28T22:22:48.947Z"
   },
   {
    "duration": 306,
    "start_time": "2021-09-28T22:23:15.064Z"
   },
   {
    "duration": 292,
    "start_time": "2021-09-28T22:23:21.440Z"
   },
   {
    "duration": 1016,
    "start_time": "2021-09-28T22:24:17.869Z"
   },
   {
    "duration": 1153,
    "start_time": "2021-09-28T22:24:23.138Z"
   },
   {
    "duration": 16,
    "start_time": "2021-09-28T22:25:38.923Z"
   },
   {
    "duration": 281,
    "start_time": "2021-09-28T22:26:01.028Z"
   },
   {
    "duration": 277,
    "start_time": "2021-09-28T22:26:25.140Z"
   },
   {
    "duration": 12,
    "start_time": "2021-09-28T22:26:44.099Z"
   },
   {
    "duration": 270,
    "start_time": "2021-09-28T22:27:03.549Z"
   },
   {
    "duration": 17,
    "start_time": "2021-09-28T22:27:12.373Z"
   },
   {
    "duration": 22,
    "start_time": "2021-09-28T22:27:46.431Z"
   },
   {
    "duration": 19,
    "start_time": "2021-09-28T22:28:46.422Z"
   },
   {
    "duration": 19,
    "start_time": "2021-09-28T22:29:02.821Z"
   },
   {
    "duration": 19,
    "start_time": "2021-09-28T22:29:54.344Z"
   },
   {
    "duration": 20,
    "start_time": "2021-09-28T22:30:13.132Z"
   },
   {
    "duration": 6,
    "start_time": "2021-09-28T22:42:22.477Z"
   },
   {
    "duration": 18,
    "start_time": "2021-09-28T22:43:32.781Z"
   },
   {
    "duration": 5,
    "start_time": "2021-09-28T22:45:08.103Z"
   },
   {
    "duration": 18,
    "start_time": "2021-09-28T22:45:09.001Z"
   },
   {
    "duration": 105,
    "start_time": "2021-09-28T22:46:36.883Z"
   },
   {
    "duration": 5,
    "start_time": "2021-09-28T22:47:23.909Z"
   },
   {
    "duration": 18,
    "start_time": "2021-09-28T22:47:26.294Z"
   },
   {
    "duration": 6,
    "start_time": "2021-09-28T22:47:57.922Z"
   },
   {
    "duration": 19,
    "start_time": "2021-09-28T22:47:58.580Z"
   },
   {
    "duration": 5,
    "start_time": "2021-09-28T22:48:52.980Z"
   },
   {
    "duration": 19,
    "start_time": "2021-09-28T22:48:53.863Z"
   },
   {
    "duration": 6,
    "start_time": "2021-09-28T22:49:31.996Z"
   },
   {
    "duration": 18,
    "start_time": "2021-09-28T22:49:32.415Z"
   },
   {
    "duration": 113,
    "start_time": "2021-09-28T22:50:04.479Z"
   },
   {
    "duration": 5,
    "start_time": "2021-09-28T22:50:42.384Z"
   },
   {
    "duration": 18,
    "start_time": "2021-09-28T22:50:46.498Z"
   },
   {
    "duration": 22,
    "start_time": "2021-09-28T22:51:17.153Z"
   },
   {
    "duration": 17,
    "start_time": "2021-09-28T22:51:32.531Z"
   },
   {
    "duration": 1355,
    "start_time": "2021-09-29T22:15:29.332Z"
   },
   {
    "duration": 457,
    "start_time": "2021-09-29T22:15:30.690Z"
   },
   {
    "duration": 11,
    "start_time": "2021-09-29T22:15:31.150Z"
   },
   {
    "duration": 27,
    "start_time": "2021-09-29T22:15:31.164Z"
   },
   {
    "duration": 20,
    "start_time": "2021-09-29T22:15:31.193Z"
   },
   {
    "duration": 13,
    "start_time": "2021-09-29T22:15:31.216Z"
   },
   {
    "duration": 54,
    "start_time": "2021-09-29T22:15:31.232Z"
   },
   {
    "duration": 52,
    "start_time": "2021-09-29T22:15:31.289Z"
   },
   {
    "duration": 80,
    "start_time": "2021-09-29T22:15:31.347Z"
   },
   {
    "duration": 75,
    "start_time": "2021-09-29T22:15:31.431Z"
   },
   {
    "duration": 21,
    "start_time": "2021-09-29T22:15:31.509Z"
   },
   {
    "duration": 50,
    "start_time": "2021-09-29T22:15:31.532Z"
   },
   {
    "duration": 21,
    "start_time": "2021-09-29T22:15:31.584Z"
   },
   {
    "duration": 175,
    "start_time": "2021-09-29T22:15:31.608Z"
   },
   {
    "duration": 8,
    "start_time": "2021-09-29T22:15:31.787Z"
   },
   {
    "duration": 89,
    "start_time": "2021-09-29T22:15:31.797Z"
   },
   {
    "duration": 98,
    "start_time": "2021-09-29T22:15:31.889Z"
   },
   {
    "duration": 16,
    "start_time": "2021-09-29T22:15:31.989Z"
   },
   {
    "duration": 98,
    "start_time": "2021-09-29T22:15:32.085Z"
   },
   {
    "duration": 4,
    "start_time": "2021-09-29T22:15:32.185Z"
   },
   {
    "duration": 11,
    "start_time": "2021-09-29T22:15:32.192Z"
   },
   {
    "duration": 7,
    "start_time": "2021-09-29T22:15:32.205Z"
   },
   {
    "duration": 7,
    "start_time": "2021-09-29T22:15:32.214Z"
   },
   {
    "duration": 65,
    "start_time": "2021-09-29T22:15:32.224Z"
   },
   {
    "duration": 15,
    "start_time": "2021-09-29T22:15:32.292Z"
   },
   {
    "duration": 18,
    "start_time": "2021-09-29T22:15:34.424Z"
   },
   {
    "duration": 5,
    "start_time": "2021-09-29T22:17:21.114Z"
   },
   {
    "duration": 566,
    "start_time": "2021-09-29T22:17:27.392Z"
   },
   {
    "duration": 248,
    "start_time": "2021-09-29T22:17:50.527Z"
   },
   {
    "duration": 9,
    "start_time": "2021-09-29T22:20:46.750Z"
   },
   {
    "duration": 279,
    "start_time": "2021-09-29T22:24:22.061Z"
   },
   {
    "duration": 14,
    "start_time": "2021-09-29T22:24:34.162Z"
   },
   {
    "duration": 17,
    "start_time": "2021-09-29T22:25:00.641Z"
   },
   {
    "duration": 18,
    "start_time": "2021-09-29T22:25:43.324Z"
   },
   {
    "duration": 25,
    "start_time": "2021-09-29T22:26:11.279Z"
   },
   {
    "duration": 15,
    "start_time": "2021-09-29T22:26:41.493Z"
   },
   {
    "duration": 16,
    "start_time": "2021-09-29T22:27:30.803Z"
   },
   {
    "duration": 20,
    "start_time": "2021-09-29T22:29:36.827Z"
   },
   {
    "duration": 21,
    "start_time": "2021-09-29T22:29:55.046Z"
   },
   {
    "duration": 20,
    "start_time": "2021-09-29T22:32:23.099Z"
   },
   {
    "duration": 8009,
    "start_time": "2021-09-29T22:34:01.340Z"
   },
   {
    "duration": 8177,
    "start_time": "2021-09-29T22:35:02.016Z"
   },
   {
    "duration": 8084,
    "start_time": "2021-09-29T22:37:14.504Z"
   },
   {
    "duration": 7762,
    "start_time": "2021-09-29T22:37:34.904Z"
   },
   {
    "duration": 6,
    "start_time": "2021-09-29T23:05:15.942Z"
   },
   {
    "duration": 7538,
    "start_time": "2021-09-29T23:06:05.187Z"
   },
   {
    "duration": 7681,
    "start_time": "2021-09-29T23:07:19.651Z"
   },
   {
    "duration": 295,
    "start_time": "2021-09-29T23:09:18.451Z"
   },
   {
    "duration": 6,
    "start_time": "2021-09-29T23:09:30.643Z"
   },
   {
    "duration": 8,
    "start_time": "2021-09-29T23:09:37.521Z"
   },
   {
    "duration": 9,
    "start_time": "2021-09-29T23:13:07.820Z"
   },
   {
    "duration": 5250,
    "start_time": "2021-09-29T23:13:30.375Z"
   },
   {
    "duration": 8,
    "start_time": "2021-09-29T23:13:40.182Z"
   },
   {
    "duration": 8,
    "start_time": "2021-09-29T23:13:52.799Z"
   },
   {
    "duration": 7,
    "start_time": "2021-09-29T23:14:03.806Z"
   },
   {
    "duration": 10,
    "start_time": "2021-09-29T23:15:57.310Z"
   },
   {
    "duration": 9,
    "start_time": "2021-09-29T23:16:15.072Z"
   },
   {
    "duration": 9,
    "start_time": "2021-09-29T23:21:51.680Z"
   },
   {
    "duration": 10,
    "start_time": "2021-09-29T23:22:20.808Z"
   },
   {
    "duration": 11,
    "start_time": "2021-09-29T23:22:43.455Z"
   },
   {
    "duration": 16,
    "start_time": "2021-09-29T23:24:09.595Z"
   },
   {
    "duration": 11,
    "start_time": "2021-09-29T23:24:32.454Z"
   },
   {
    "duration": 10,
    "start_time": "2021-09-29T23:24:37.692Z"
   },
   {
    "duration": 14,
    "start_time": "2021-09-29T23:24:42.501Z"
   },
   {
    "duration": 13,
    "start_time": "2021-09-29T23:25:29.296Z"
   },
   {
    "duration": 11,
    "start_time": "2021-09-29T23:25:44.775Z"
   },
   {
    "duration": 8,
    "start_time": "2021-09-29T23:26:06.418Z"
   },
   {
    "duration": 11,
    "start_time": "2021-09-29T23:26:27.132Z"
   },
   {
    "duration": 7,
    "start_time": "2021-09-29T23:26:34.770Z"
   },
   {
    "duration": 7576,
    "start_time": "2021-09-29T23:27:42.308Z"
   },
   {
    "duration": 7,
    "start_time": "2021-09-29T23:27:58.009Z"
   },
   {
    "duration": 7609,
    "start_time": "2021-09-29T23:28:56.587Z"
   },
   {
    "duration": 7,
    "start_time": "2021-09-29T23:29:15.937Z"
   },
   {
    "duration": 1404,
    "start_time": "2021-09-29T23:44:30.763Z"
   },
   {
    "duration": 443,
    "start_time": "2021-09-29T23:44:32.170Z"
   },
   {
    "duration": 13,
    "start_time": "2021-09-29T23:44:32.616Z"
   },
   {
    "duration": 13,
    "start_time": "2021-09-29T23:44:32.632Z"
   },
   {
    "duration": 46,
    "start_time": "2021-09-29T23:44:32.647Z"
   },
   {
    "duration": 13,
    "start_time": "2021-09-29T23:44:32.696Z"
   },
   {
    "duration": 15,
    "start_time": "2021-09-29T23:44:32.711Z"
   },
   {
    "duration": 101,
    "start_time": "2021-09-29T23:44:32.730Z"
   },
   {
    "duration": 70,
    "start_time": "2021-09-29T23:44:32.834Z"
   },
   {
    "duration": 45,
    "start_time": "2021-09-29T23:44:32.907Z"
   },
   {
    "duration": 43,
    "start_time": "2021-09-29T23:44:32.954Z"
   },
   {
    "duration": 24,
    "start_time": "2021-09-29T23:44:32.999Z"
   },
   {
    "duration": 62,
    "start_time": "2021-09-29T23:44:33.025Z"
   },
   {
    "duration": 22,
    "start_time": "2021-09-29T23:44:33.090Z"
   },
   {
    "duration": 10,
    "start_time": "2021-09-29T23:44:33.184Z"
   },
   {
    "duration": 21,
    "start_time": "2021-09-29T23:44:33.284Z"
   },
   {
    "duration": 80,
    "start_time": "2021-09-29T23:44:33.307Z"
   },
   {
    "duration": 105,
    "start_time": "2021-09-29T23:44:33.391Z"
   },
   {
    "duration": 87,
    "start_time": "2021-09-29T23:44:33.500Z"
   },
   {
    "duration": 97,
    "start_time": "2021-09-29T23:44:33.590Z"
   },
   {
    "duration": 8,
    "start_time": "2021-09-29T23:44:33.690Z"
   },
   {
    "duration": 15,
    "start_time": "2021-09-29T23:44:33.701Z"
   },
   {
    "duration": 6,
    "start_time": "2021-09-29T23:44:33.722Z"
   },
   {
    "duration": 69,
    "start_time": "2021-09-29T23:44:33.731Z"
   },
   {
    "duration": 19,
    "start_time": "2021-09-29T23:44:33.803Z"
   },
   {
    "duration": 56,
    "start_time": "2021-09-29T23:44:33.825Z"
   },
   {
    "duration": 10,
    "start_time": "2021-09-29T23:44:33.884Z"
   },
   {
    "duration": 7530,
    "start_time": "2021-09-29T23:44:33.897Z"
   },
   {
    "duration": 13,
    "start_time": "2021-09-29T23:44:41.430Z"
   },
   {
    "duration": 38,
    "start_time": "2021-09-29T23:44:41.446Z"
   },
   {
    "duration": 7779,
    "start_time": "2021-09-29T23:44:41.487Z"
   },
   {
    "duration": 19,
    "start_time": "2021-09-29T23:44:49.269Z"
   },
   {
    "duration": 7623,
    "start_time": "2021-09-29T23:44:49.291Z"
   },
   {
    "duration": 8,
    "start_time": "2021-09-29T23:45:06.214Z"
   },
   {
    "duration": 1082,
    "start_time": "2021-09-30T01:44:35.694Z"
   },
   {
    "duration": 829,
    "start_time": "2021-09-30T01:44:36.778Z"
   },
   {
    "duration": 8,
    "start_time": "2021-09-30T01:44:37.608Z"
   },
   {
    "duration": 10,
    "start_time": "2021-09-30T01:44:37.618Z"
   },
   {
    "duration": 10,
    "start_time": "2021-09-30T01:44:37.629Z"
   },
   {
    "duration": 9,
    "start_time": "2021-09-30T01:44:37.640Z"
   },
   {
    "duration": 8,
    "start_time": "2021-09-30T01:44:37.650Z"
   },
   {
    "duration": 65,
    "start_time": "2021-09-30T01:44:37.660Z"
   },
   {
    "duration": 31,
    "start_time": "2021-09-30T01:44:37.728Z"
   },
   {
    "duration": 33,
    "start_time": "2021-09-30T01:44:37.789Z"
   },
   {
    "duration": 15,
    "start_time": "2021-09-30T01:44:38.583Z"
   },
   {
    "duration": 17,
    "start_time": "2021-09-30T01:45:39.505Z"
   },
   {
    "duration": 16,
    "start_time": "2021-09-30T01:45:40.358Z"
   },
   {
    "duration": 18,
    "start_time": "2021-09-30T01:45:40.529Z"
   },
   {
    "duration": 16,
    "start_time": "2021-09-30T01:45:40.695Z"
   },
   {
    "duration": 5,
    "start_time": "2021-09-30T01:45:40.900Z"
   },
   {
    "duration": 14,
    "start_time": "2021-09-30T01:45:41.029Z"
   },
   {
    "duration": 6,
    "start_time": "2021-09-30T01:45:41.752Z"
   },
   {
    "duration": 12,
    "start_time": "2021-09-30T01:45:41.933Z"
   },
   {
    "duration": 6,
    "start_time": "2021-09-30T01:45:42.102Z"
   },
   {
    "duration": 3,
    "start_time": "2021-09-30T01:47:33.648Z"
   },
   {
    "duration": 4,
    "start_time": "2021-09-30T01:47:33.825Z"
   },
   {
    "duration": 4,
    "start_time": "2021-09-30T01:47:34.030Z"
   },
   {
    "duration": 4,
    "start_time": "2021-09-30T01:47:34.808Z"
   },
   {
    "duration": 3,
    "start_time": "2021-09-30T01:51:39.520Z"
   },
   {
    "duration": 4,
    "start_time": "2021-09-30T01:51:40.356Z"
   },
   {
    "duration": 4,
    "start_time": "2021-09-30T01:51:41.048Z"
   },
   {
    "duration": 3,
    "start_time": "2021-09-30T01:51:49.277Z"
   },
   {
    "duration": 3,
    "start_time": "2021-09-30T01:51:49.753Z"
   },
   {
    "duration": 5,
    "start_time": "2021-09-30T01:51:50.342Z"
   },
   {
    "duration": 4,
    "start_time": "2021-09-30T01:51:53.446Z"
   },
   {
    "duration": 12,
    "start_time": "2021-09-30T01:51:53.964Z"
   },
   {
    "duration": 12,
    "start_time": "2021-09-30T01:51:54.763Z"
   },
   {
    "duration": 12,
    "start_time": "2021-09-30T01:51:55.240Z"
   },
   {
    "duration": 4,
    "start_time": "2021-09-30T01:51:59.874Z"
   },
   {
    "duration": 4766,
    "start_time": "2021-09-30T01:52:00.342Z"
   },
   {
    "duration": 9,
    "start_time": "2021-09-30T01:52:05.110Z"
   },
   {
    "duration": 5,
    "start_time": "2021-09-30T01:52:06.916Z"
   },
   {
    "duration": 4715,
    "start_time": "2021-09-30T01:52:13.115Z"
   },
   {
    "duration": 4,
    "start_time": "2021-09-30T01:52:17.832Z"
   },
   {
    "duration": 4690,
    "start_time": "2021-09-30T01:52:17.838Z"
   },
   {
    "duration": 4,
    "start_time": "2021-09-30T01:52:22.530Z"
   },
   {
    "duration": 3,
    "start_time": "2021-09-30T01:53:05.892Z"
   },
   {
    "duration": 4,
    "start_time": "2021-09-30T01:53:06.531Z"
   },
   {
    "duration": 4,
    "start_time": "2021-09-30T01:53:07.071Z"
   },
   {
    "duration": 3,
    "start_time": "2021-09-30T01:53:15.049Z"
   },
   {
    "duration": 6,
    "start_time": "2021-09-30T01:53:15.247Z"
   },
   {
    "duration": 4,
    "start_time": "2021-09-30T01:53:15.415Z"
   },
   {
    "duration": 4,
    "start_time": "2021-09-30T01:53:17.208Z"
   },
   {
    "duration": 12,
    "start_time": "2021-09-30T01:53:17.390Z"
   },
   {
    "duration": 12,
    "start_time": "2021-09-30T01:53:17.700Z"
   },
   {
    "duration": 13,
    "start_time": "2021-09-30T01:53:17.982Z"
   },
   {
    "duration": 5,
    "start_time": "2021-09-30T12:36:45.043Z"
   },
   {
    "duration": 16,
    "start_time": "2021-09-30T12:36:50.409Z"
   },
   {
    "duration": 7,
    "start_time": "2021-09-30T12:36:51.357Z"
   },
   {
    "duration": 1445,
    "start_time": "2021-09-30T18:52:55.255Z"
   },
   {
    "duration": 962,
    "start_time": "2021-09-30T18:52:56.703Z"
   },
   {
    "duration": 12,
    "start_time": "2021-09-30T18:52:57.668Z"
   },
   {
    "duration": 46,
    "start_time": "2021-09-30T18:52:57.683Z"
   },
   {
    "duration": 36,
    "start_time": "2021-09-30T18:52:57.732Z"
   },
   {
    "duration": 31,
    "start_time": "2021-09-30T18:52:57.771Z"
   },
   {
    "duration": 33,
    "start_time": "2021-09-30T18:52:57.805Z"
   },
   {
    "duration": 55,
    "start_time": "2021-09-30T18:52:57.842Z"
   },
   {
    "duration": 65,
    "start_time": "2021-09-30T18:52:57.900Z"
   },
   {
    "duration": 76,
    "start_time": "2021-09-30T18:52:57.967Z"
   },
   {
    "duration": 20,
    "start_time": "2021-09-30T18:52:58.046Z"
   },
   {
    "duration": 43,
    "start_time": "2021-09-30T18:52:58.069Z"
   },
   {
    "duration": 38,
    "start_time": "2021-09-30T18:52:58.114Z"
   },
   {
    "duration": 74,
    "start_time": "2021-09-30T18:52:58.154Z"
   },
   {
    "duration": 96,
    "start_time": "2021-09-30T18:52:58.231Z"
   },
   {
    "duration": 22,
    "start_time": "2021-09-30T18:52:58.329Z"
   },
   {
    "duration": 100,
    "start_time": "2021-09-30T18:52:58.426Z"
   },
   {
    "duration": 92,
    "start_time": "2021-09-30T18:52:58.529Z"
   },
   {
    "duration": 102,
    "start_time": "2021-09-30T18:52:58.625Z"
   },
   {
    "duration": 9,
    "start_time": "2021-09-30T18:52:58.729Z"
   },
   {
    "duration": 24,
    "start_time": "2021-09-30T18:52:58.741Z"
   },
   {
    "duration": 17,
    "start_time": "2021-09-30T18:52:58.767Z"
   },
   {
    "duration": 14,
    "start_time": "2021-09-30T18:52:58.790Z"
   },
   {
    "duration": 33,
    "start_time": "2021-09-30T18:52:58.807Z"
   },
   {
    "duration": 18,
    "start_time": "2021-09-30T18:52:58.844Z"
   },
   {
    "duration": 5,
    "start_time": "2021-09-30T18:53:23.415Z"
   },
   {
    "duration": 16,
    "start_time": "2021-09-30T18:53:28.501Z"
   },
   {
    "duration": 17,
    "start_time": "2021-09-30T18:53:29.323Z"
   },
   {
    "duration": 15,
    "start_time": "2021-09-30T18:53:30.593Z"
   },
   {
    "duration": 5,
    "start_time": "2021-09-30T18:54:04.268Z"
   },
   {
    "duration": 5,
    "start_time": "2021-09-30T18:55:27.508Z"
   },
   {
    "duration": 18,
    "start_time": "2021-09-30T18:55:29.126Z"
   },
   {
    "duration": 19,
    "start_time": "2021-09-30T18:55:33.329Z"
   },
   {
    "duration": 17,
    "start_time": "2021-09-30T18:55:38.128Z"
   },
   {
    "duration": 7,
    "start_time": "2021-09-30T18:56:02.020Z"
   },
   {
    "duration": 7940,
    "start_time": "2021-09-30T18:56:08.233Z"
   },
   {
    "duration": 11,
    "start_time": "2021-09-30T18:56:17.052Z"
   },
   {
    "duration": 7,
    "start_time": "2021-09-30T18:56:36.207Z"
   },
   {
    "duration": 7936,
    "start_time": "2021-09-30T18:56:38.258Z"
   },
   {
    "duration": 12,
    "start_time": "2021-09-30T18:56:47.220Z"
   },
   {
    "duration": 8,
    "start_time": "2021-09-30T18:56:50.272Z"
   },
   {
    "duration": 8112,
    "start_time": "2021-09-30T18:56:52.482Z"
   },
   {
    "duration": 8,
    "start_time": "2021-09-30T18:57:30.569Z"
   },
   {
    "duration": 8005,
    "start_time": "2021-09-30T18:57:34.271Z"
   },
   {
    "duration": 7,
    "start_time": "2021-09-30T18:57:43.178Z"
   },
   {
    "duration": 21,
    "start_time": "2021-09-30T18:58:35.058Z"
   },
   {
    "duration": 10,
    "start_time": "2021-09-30T18:58:52.984Z"
   },
   {
    "duration": 9,
    "start_time": "2021-09-30T19:00:24.410Z"
   },
   {
    "duration": 12,
    "start_time": "2021-09-30T19:02:02.723Z"
   },
   {
    "duration": 8,
    "start_time": "2021-09-30T19:03:05.918Z"
   },
   {
    "duration": 8116,
    "start_time": "2021-09-30T19:04:02.854Z"
   },
   {
    "duration": 8,
    "start_time": "2021-09-30T19:04:22.437Z"
   },
   {
    "duration": 8174,
    "start_time": "2021-09-30T19:04:44.100Z"
   },
   {
    "duration": 9,
    "start_time": "2021-09-30T19:04:54.098Z"
   },
   {
    "duration": 1393,
    "start_time": "2021-09-30T19:25:09.143Z"
   },
   {
    "duration": 516,
    "start_time": "2021-09-30T19:25:10.539Z"
   },
   {
    "duration": 17,
    "start_time": "2021-09-30T19:25:11.059Z"
   },
   {
    "duration": 44,
    "start_time": "2021-09-30T19:25:11.080Z"
   },
   {
    "duration": 25,
    "start_time": "2021-09-30T19:25:11.127Z"
   },
   {
    "duration": 14,
    "start_time": "2021-09-30T19:25:11.154Z"
   },
   {
    "duration": 56,
    "start_time": "2021-09-30T19:25:11.170Z"
   },
   {
    "duration": 51,
    "start_time": "2021-09-30T19:25:11.228Z"
   },
   {
    "duration": 77,
    "start_time": "2021-09-30T19:25:11.283Z"
   },
   {
    "duration": 71,
    "start_time": "2021-09-30T19:25:11.365Z"
   },
   {
    "duration": 23,
    "start_time": "2021-09-30T19:25:11.439Z"
   },
   {
    "duration": 64,
    "start_time": "2021-09-30T19:25:11.464Z"
   },
   {
    "duration": 25,
    "start_time": "2021-09-30T19:25:11.530Z"
   },
   {
    "duration": 164,
    "start_time": "2021-09-30T19:25:11.558Z"
   },
   {
    "duration": 7,
    "start_time": "2021-09-30T19:25:11.725Z"
   },
   {
    "duration": 91,
    "start_time": "2021-09-30T19:25:11.734Z"
   },
   {
    "duration": 96,
    "start_time": "2021-09-30T19:25:11.828Z"
   },
   {
    "duration": 18,
    "start_time": "2021-09-30T19:25:11.926Z"
   },
   {
    "duration": 98,
    "start_time": "2021-09-30T19:25:12.026Z"
   },
   {
    "duration": 4,
    "start_time": "2021-09-30T19:25:12.127Z"
   },
   {
    "duration": 10,
    "start_time": "2021-09-30T19:25:12.134Z"
   },
   {
    "duration": 6,
    "start_time": "2021-09-30T19:25:12.147Z"
   },
   {
    "duration": 9,
    "start_time": "2021-09-30T19:25:12.155Z"
   },
   {
    "duration": 69,
    "start_time": "2021-09-30T19:25:12.166Z"
   },
   {
    "duration": 18,
    "start_time": "2021-09-30T19:25:12.238Z"
   },
   {
    "duration": 17,
    "start_time": "2021-09-30T19:25:12.258Z"
   },
   {
    "duration": 47,
    "start_time": "2021-09-30T19:25:12.280Z"
   },
   {
    "duration": 8226,
    "start_time": "2021-09-30T19:25:12.329Z"
   },
   {
    "duration": 11,
    "start_time": "2021-09-30T19:25:20.558Z"
   },
   {
    "duration": 15,
    "start_time": "2021-09-30T19:25:20.571Z"
   },
   {
    "duration": 7979,
    "start_time": "2021-09-30T19:25:20.589Z"
   },
   {
    "duration": 8,
    "start_time": "2021-09-30T19:25:28.570Z"
   },
   {
    "duration": 8263,
    "start_time": "2021-09-30T19:25:28.581Z"
   },
   {
    "duration": 9,
    "start_time": "2021-09-30T19:25:51.290Z"
   },
   {
    "duration": 6,
    "start_time": "2021-09-30T19:28:50.247Z"
   },
   {
    "duration": 2004,
    "start_time": "2021-10-01T09:46:33.399Z"
   },
   {
    "duration": 448,
    "start_time": "2021-10-01T09:46:35.405Z"
   },
   {
    "duration": 13,
    "start_time": "2021-10-01T09:46:35.856Z"
   },
   {
    "duration": 22,
    "start_time": "2021-10-01T09:46:35.871Z"
   },
   {
    "duration": 17,
    "start_time": "2021-10-01T09:46:35.895Z"
   },
   {
    "duration": 13,
    "start_time": "2021-10-01T09:46:35.915Z"
   },
   {
    "duration": 13,
    "start_time": "2021-10-01T09:46:35.931Z"
   },
   {
    "duration": 51,
    "start_time": "2021-10-01T09:46:35.984Z"
   },
   {
    "duration": 71,
    "start_time": "2021-10-01T09:46:36.038Z"
   },
   {
    "duration": 46,
    "start_time": "2021-10-01T09:46:36.112Z"
   },
   {
    "duration": 38,
    "start_time": "2021-10-01T09:46:36.160Z"
   },
   {
    "duration": 21,
    "start_time": "2021-10-01T09:46:36.201Z"
   },
   {
    "duration": 22,
    "start_time": "2021-10-01T09:46:36.294Z"
   },
   {
    "duration": 37,
    "start_time": "2021-10-01T09:46:36.445Z"
   },
   {
    "duration": 8,
    "start_time": "2021-10-01T09:46:36.611Z"
   },
   {
    "duration": 16,
    "start_time": "2021-10-01T09:46:36.765Z"
   },
   {
    "duration": 7,
    "start_time": "2021-10-01T09:46:36.983Z"
   },
   {
    "duration": 16,
    "start_time": "2021-10-01T09:46:37.058Z"
   },
   {
    "duration": 6,
    "start_time": "2021-10-01T09:46:37.283Z"
   },
   {
    "duration": 4,
    "start_time": "2021-10-01T09:46:38.069Z"
   },
   {
    "duration": 6,
    "start_time": "2021-10-01T09:46:38.260Z"
   },
   {
    "duration": 5,
    "start_time": "2021-10-01T09:46:38.633Z"
   },
   {
    "duration": 5,
    "start_time": "2021-10-01T09:46:39.385Z"
   },
   {
    "duration": 19,
    "start_time": "2021-10-01T09:46:39.742Z"
   },
   {
    "duration": 19,
    "start_time": "2021-10-01T09:46:40.377Z"
   },
   {
    "duration": 19,
    "start_time": "2021-10-01T09:46:40.566Z"
   },
   {
    "duration": 5,
    "start_time": "2021-10-01T09:46:41.327Z"
   },
   {
    "duration": 7866,
    "start_time": "2021-10-01T09:46:42.762Z"
   },
   {
    "duration": 11,
    "start_time": "2021-10-01T09:46:50.631Z"
   },
   {
    "duration": 15,
    "start_time": "2021-10-01T09:46:50.645Z"
   },
   {
    "duration": 8147,
    "start_time": "2021-10-01T09:46:50.662Z"
   },
   {
    "duration": 7,
    "start_time": "2021-10-01T09:46:58.812Z"
   },
   {
    "duration": 7772,
    "start_time": "2021-10-01T09:46:58.822Z"
   },
   {
    "duration": 8,
    "start_time": "2021-10-01T09:47:06.597Z"
   },
   {
    "duration": 7,
    "start_time": "2021-10-01T09:48:32.223Z"
   },
   {
    "duration": 10,
    "start_time": "2021-10-01T09:48:59.357Z"
   },
   {
    "duration": 7,
    "start_time": "2021-10-01T09:50:54.527Z"
   },
   {
    "duration": 1481,
    "start_time": "2021-10-01T12:26:00.075Z"
   },
   {
    "duration": 512,
    "start_time": "2021-10-01T12:26:01.558Z"
   },
   {
    "duration": 13,
    "start_time": "2021-10-01T12:26:02.073Z"
   },
   {
    "duration": 28,
    "start_time": "2021-10-01T12:26:02.090Z"
   },
   {
    "duration": 21,
    "start_time": "2021-10-01T12:26:02.120Z"
   },
   {
    "duration": 28,
    "start_time": "2021-10-01T12:26:02.144Z"
   },
   {
    "duration": 24,
    "start_time": "2021-10-01T12:26:02.175Z"
   },
   {
    "duration": 79,
    "start_time": "2021-10-01T12:26:02.201Z"
   },
   {
    "duration": 55,
    "start_time": "2021-10-01T12:26:02.285Z"
   },
   {
    "duration": 65,
    "start_time": "2021-10-01T12:26:02.343Z"
   },
   {
    "duration": 23,
    "start_time": "2021-10-01T12:26:02.412Z"
   },
   {
    "duration": 48,
    "start_time": "2021-10-01T12:26:02.438Z"
   },
   {
    "duration": 26,
    "start_time": "2021-10-01T12:26:02.488Z"
   },
   {
    "duration": 61,
    "start_time": "2021-10-01T12:26:02.516Z"
   },
   {
    "duration": 92,
    "start_time": "2021-10-01T12:26:02.580Z"
   },
   {
    "duration": 93,
    "start_time": "2021-10-01T12:26:02.674Z"
   },
   {
    "duration": 98,
    "start_time": "2021-10-01T12:26:02.771Z"
   },
   {
    "duration": 95,
    "start_time": "2021-10-01T12:26:02.872Z"
   },
   {
    "duration": 10,
    "start_time": "2021-10-01T12:26:02.971Z"
   },
   {
    "duration": 6,
    "start_time": "2021-10-01T12:26:03.068Z"
   },
   {
    "duration": 9,
    "start_time": "2021-10-01T12:26:03.076Z"
   },
   {
    "duration": 8,
    "start_time": "2021-10-01T12:26:03.087Z"
   },
   {
    "duration": 13,
    "start_time": "2021-10-01T12:26:03.098Z"
   },
   {
    "duration": 55,
    "start_time": "2021-10-01T12:26:03.114Z"
   },
   {
    "duration": 23,
    "start_time": "2021-10-01T12:26:03.172Z"
   },
   {
    "duration": 37,
    "start_time": "2021-10-01T12:26:03.198Z"
   },
   {
    "duration": 34,
    "start_time": "2021-10-01T12:26:03.242Z"
   },
   {
    "duration": 9262,
    "start_time": "2021-10-01T12:26:03.279Z"
   },
   {
    "duration": 24,
    "start_time": "2021-10-01T12:26:12.543Z"
   },
   {
    "duration": 14,
    "start_time": "2021-10-01T12:26:12.570Z"
   },
   {
    "duration": 9164,
    "start_time": "2021-10-01T12:26:12.587Z"
   },
   {
    "duration": 15,
    "start_time": "2021-10-01T12:26:21.753Z"
   },
   {
    "duration": 8829,
    "start_time": "2021-10-01T12:26:21.771Z"
   },
   {
    "duration": 9,
    "start_time": "2021-10-01T12:26:30.602Z"
   },
   {
    "duration": 22,
    "start_time": "2021-10-01T12:26:30.613Z"
   },
   {
    "duration": 23,
    "start_time": "2021-10-01T12:26:30.637Z"
   },
   {
    "duration": 7,
    "start_time": "2021-10-01T12:29:30.410Z"
   }
  ],
  "kernelspec": {
   "display_name": "Python 3 (ipykernel)",
   "language": "python",
   "name": "python3"
  },
  "language_info": {
   "codemirror_mode": {
    "name": "ipython",
    "version": 3
   },
   "file_extension": ".py",
   "mimetype": "text/x-python",
   "name": "python",
   "nbconvert_exporter": "python",
   "pygments_lexer": "ipython3",
   "version": "3.9.5"
  },
  "toc": {
   "base_numbering": 1,
   "nav_menu": {},
   "number_sections": true,
   "sideBar": true,
   "skip_h1_title": true,
   "title_cell": "Table of Contents",
   "title_sidebar": "Contents",
   "toc_cell": false,
   "toc_position": {},
   "toc_section_display": true,
   "toc_window_display": false
  }
 },
 "nbformat": 4,
 "nbformat_minor": 2
}
