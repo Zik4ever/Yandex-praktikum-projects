{
 "cells": [
  {
   "cell_type": "markdown",
   "metadata": {},
   "source": [
    "# Исследование надёжности заёмщиков\n",
    "\n",
    "Заказчик — кредитный отдел банка. Нужно разобраться, влияет ли семейное положение и количество детей клиента на факт погашения кредита в срок. Входные данные от банка — статистика о платёжеспособности клиентов.\n",
    "\n",
    "Результаты исследования будут учтены при построении модели **кредитного скоринга** — специальной системы, которая оценивает способность потенциального заёмщика вернуть кредит банку."
   ]
  },
  {
   "cell_type": "markdown",
   "metadata": {},
   "source": [
    "## Шаг 1. Откройте файл с данными и изучите общую информацию"
   ]
  },
  {
   "cell_type": "code",
   "execution_count": 1,
   "metadata": {},
   "outputs": [
    {
     "name": "stdout",
     "output_type": "stream",
     "text": [
      "<class 'pandas.core.frame.DataFrame'>\n",
      "RangeIndex: 21525 entries, 0 to 21524\n",
      "Data columns (total 12 columns):\n",
      " #   Column            Non-Null Count  Dtype  \n",
      "---  ------            --------------  -----  \n",
      " 0   children          21525 non-null  int64  \n",
      " 1   days_employed     19351 non-null  float64\n",
      " 2   dob_years         21525 non-null  int64  \n",
      " 3   education         21525 non-null  object \n",
      " 4   education_id      21525 non-null  int64  \n",
      " 5   family_status     21525 non-null  object \n",
      " 6   family_status_id  21525 non-null  int64  \n",
      " 7   gender            21525 non-null  object \n",
      " 8   income_type       21525 non-null  object \n",
      " 9   debt              21525 non-null  int64  \n",
      " 10  total_income      19351 non-null  float64\n",
      " 11  purpose           21525 non-null  object \n",
      "dtypes: float64(2), int64(5), object(5)\n",
      "memory usage: 2.0+ MB\n"
     ]
    },
    {
     "data": {
      "text/html": [
       "<div>\n",
       "<style scoped>\n",
       "    .dataframe tbody tr th:only-of-type {\n",
       "        vertical-align: middle;\n",
       "    }\n",
       "\n",
       "    .dataframe tbody tr th {\n",
       "        vertical-align: top;\n",
       "    }\n",
       "\n",
       "    .dataframe thead th {\n",
       "        text-align: right;\n",
       "    }\n",
       "</style>\n",
       "<table border=\"1\" class=\"dataframe\">\n",
       "  <thead>\n",
       "    <tr style=\"text-align: right;\">\n",
       "      <th></th>\n",
       "      <th>children</th>\n",
       "      <th>days_employed</th>\n",
       "      <th>dob_years</th>\n",
       "      <th>education</th>\n",
       "      <th>education_id</th>\n",
       "      <th>family_status</th>\n",
       "      <th>family_status_id</th>\n",
       "      <th>gender</th>\n",
       "      <th>income_type</th>\n",
       "      <th>debt</th>\n",
       "      <th>total_income</th>\n",
       "      <th>purpose</th>\n",
       "    </tr>\n",
       "  </thead>\n",
       "  <tbody>\n",
       "    <tr>\n",
       "      <th>0</th>\n",
       "      <td>1</td>\n",
       "      <td>-8437.673028</td>\n",
       "      <td>42</td>\n",
       "      <td>высшее</td>\n",
       "      <td>0</td>\n",
       "      <td>женат / замужем</td>\n",
       "      <td>0</td>\n",
       "      <td>F</td>\n",
       "      <td>сотрудник</td>\n",
       "      <td>0</td>\n",
       "      <td>253875.639453</td>\n",
       "      <td>покупка жилья</td>\n",
       "    </tr>\n",
       "    <tr>\n",
       "      <th>1</th>\n",
       "      <td>1</td>\n",
       "      <td>-4024.803754</td>\n",
       "      <td>36</td>\n",
       "      <td>среднее</td>\n",
       "      <td>1</td>\n",
       "      <td>женат / замужем</td>\n",
       "      <td>0</td>\n",
       "      <td>F</td>\n",
       "      <td>сотрудник</td>\n",
       "      <td>0</td>\n",
       "      <td>112080.014102</td>\n",
       "      <td>приобретение автомобиля</td>\n",
       "    </tr>\n",
       "    <tr>\n",
       "      <th>2</th>\n",
       "      <td>0</td>\n",
       "      <td>-5623.422610</td>\n",
       "      <td>33</td>\n",
       "      <td>Среднее</td>\n",
       "      <td>1</td>\n",
       "      <td>женат / замужем</td>\n",
       "      <td>0</td>\n",
       "      <td>M</td>\n",
       "      <td>сотрудник</td>\n",
       "      <td>0</td>\n",
       "      <td>145885.952297</td>\n",
       "      <td>покупка жилья</td>\n",
       "    </tr>\n",
       "    <tr>\n",
       "      <th>3</th>\n",
       "      <td>3</td>\n",
       "      <td>-4124.747207</td>\n",
       "      <td>32</td>\n",
       "      <td>среднее</td>\n",
       "      <td>1</td>\n",
       "      <td>женат / замужем</td>\n",
       "      <td>0</td>\n",
       "      <td>M</td>\n",
       "      <td>сотрудник</td>\n",
       "      <td>0</td>\n",
       "      <td>267628.550329</td>\n",
       "      <td>дополнительное образование</td>\n",
       "    </tr>\n",
       "    <tr>\n",
       "      <th>4</th>\n",
       "      <td>0</td>\n",
       "      <td>340266.072047</td>\n",
       "      <td>53</td>\n",
       "      <td>среднее</td>\n",
       "      <td>1</td>\n",
       "      <td>гражданский брак</td>\n",
       "      <td>1</td>\n",
       "      <td>F</td>\n",
       "      <td>пенсионер</td>\n",
       "      <td>0</td>\n",
       "      <td>158616.077870</td>\n",
       "      <td>сыграть свадьбу</td>\n",
       "    </tr>\n",
       "  </tbody>\n",
       "</table>\n",
       "</div>"
      ],
      "text/plain": [
       "   children  days_employed  dob_years education  education_id  \\\n",
       "0         1   -8437.673028         42    высшее             0   \n",
       "1         1   -4024.803754         36   среднее             1   \n",
       "2         0   -5623.422610         33   Среднее             1   \n",
       "3         3   -4124.747207         32   среднее             1   \n",
       "4         0  340266.072047         53   среднее             1   \n",
       "\n",
       "      family_status  family_status_id gender income_type  debt   total_income  \\\n",
       "0   женат / замужем                 0      F   сотрудник     0  253875.639453   \n",
       "1   женат / замужем                 0      F   сотрудник     0  112080.014102   \n",
       "2   женат / замужем                 0      M   сотрудник     0  145885.952297   \n",
       "3   женат / замужем                 0      M   сотрудник     0  267628.550329   \n",
       "4  гражданский брак                 1      F   пенсионер     0  158616.077870   \n",
       "\n",
       "                      purpose  \n",
       "0               покупка жилья  \n",
       "1     приобретение автомобиля  \n",
       "2               покупка жилья  \n",
       "3  дополнительное образование  \n",
       "4             сыграть свадьбу  "
      ]
     },
     "execution_count": 1,
     "metadata": {},
     "output_type": "execute_result"
    }
   ],
   "source": [
    "import pandas as pd\n",
    "data = pd.read_csv('/datasets/data.csv')\n",
    "data.info()\n",
    "data.head(5)"
   ]
  },
  {
   "cell_type": "markdown",
   "metadata": {},
   "source": [
    "**Вывод**"
   ]
  },
  {
   "cell_type": "markdown",
   "metadata": {},
   "source": [
    "Исходя из общей информации мы видим, что в данных есть пропуски в столбцах days_employed и total_income, также даже исходя из первых 5 строчек мы видим что в столбце о стаже появляются аномальные значения превышающие срок жизни человека, а так же есть непонятки в части положительных\\отрицательных значений. Однако мы видим что число пропусков у этих двух столбцов совпадает и имеет смысл проверить есть ли тут какая то закономерность. Если закономерности не будет, то для решения поставленных задач стаж людей нам не интересен, и я считаю что данный столбец можно удалить. \n",
    "Что касается дохода, этот столбец для решения задачи нам нужен, и пустые значения будет нужно заменить средним или медианным значением в зависимости от наличия в данных сильно выделяющихся значений.\n",
    "Что касается причины пропущенных значений, исходя из столбца \"стаж\", поскольку в нем и положительные и отрицательные значения, предполагаю что это сводные данные из разных программ где он считается по разным алгоритмам."
   ]
  },
  {
   "cell_type": "markdown",
   "metadata": {},
   "source": [
    "## Шаг 2. Предобработка данных"
   ]
  },
  {
   "cell_type": "markdown",
   "metadata": {},
   "source": [
    "### Обработка пропусков"
   ]
  },
  {
   "cell_type": "code",
   "execution_count": 2,
   "metadata": {},
   "outputs": [
    {
     "data": {
      "text/html": [
       "<div>\n",
       "<style scoped>\n",
       "    .dataframe tbody tr th:only-of-type {\n",
       "        vertical-align: middle;\n",
       "    }\n",
       "\n",
       "    .dataframe tbody tr th {\n",
       "        vertical-align: top;\n",
       "    }\n",
       "\n",
       "    .dataframe thead th {\n",
       "        text-align: right;\n",
       "    }\n",
       "</style>\n",
       "<table border=\"1\" class=\"dataframe\">\n",
       "  <thead>\n",
       "    <tr style=\"text-align: right;\">\n",
       "      <th></th>\n",
       "      <th>children</th>\n",
       "      <th>days_employed</th>\n",
       "      <th>dob_years</th>\n",
       "      <th>education</th>\n",
       "      <th>education_id</th>\n",
       "      <th>family_status</th>\n",
       "      <th>family_status_id</th>\n",
       "      <th>gender</th>\n",
       "      <th>income_type</th>\n",
       "      <th>debt</th>\n",
       "      <th>total_income</th>\n",
       "      <th>purpose</th>\n",
       "    </tr>\n",
       "  </thead>\n",
       "  <tbody>\n",
       "    <tr>\n",
       "      <th>21497</th>\n",
       "      <td>0</td>\n",
       "      <td>NaN</td>\n",
       "      <td>48</td>\n",
       "      <td>ВЫСШЕЕ</td>\n",
       "      <td>0</td>\n",
       "      <td>женат / замужем</td>\n",
       "      <td>0</td>\n",
       "      <td>F</td>\n",
       "      <td>компаньон</td>\n",
       "      <td>0</td>\n",
       "      <td>NaN</td>\n",
       "      <td>строительство недвижимости</td>\n",
       "    </tr>\n",
       "    <tr>\n",
       "      <th>21502</th>\n",
       "      <td>1</td>\n",
       "      <td>NaN</td>\n",
       "      <td>42</td>\n",
       "      <td>среднее</td>\n",
       "      <td>1</td>\n",
       "      <td>женат / замужем</td>\n",
       "      <td>0</td>\n",
       "      <td>F</td>\n",
       "      <td>сотрудник</td>\n",
       "      <td>0</td>\n",
       "      <td>NaN</td>\n",
       "      <td>строительство жилой недвижимости</td>\n",
       "    </tr>\n",
       "    <tr>\n",
       "      <th>21510</th>\n",
       "      <td>2</td>\n",
       "      <td>NaN</td>\n",
       "      <td>28</td>\n",
       "      <td>среднее</td>\n",
       "      <td>1</td>\n",
       "      <td>женат / замужем</td>\n",
       "      <td>0</td>\n",
       "      <td>F</td>\n",
       "      <td>сотрудник</td>\n",
       "      <td>0</td>\n",
       "      <td>NaN</td>\n",
       "      <td>приобретение автомобиля</td>\n",
       "    </tr>\n",
       "  </tbody>\n",
       "</table>\n",
       "</div>"
      ],
      "text/plain": [
       "       children  days_employed  dob_years education  education_id  \\\n",
       "21497         0            NaN         48    ВЫСШЕЕ             0   \n",
       "21502         1            NaN         42   среднее             1   \n",
       "21510         2            NaN         28   среднее             1   \n",
       "\n",
       "         family_status  family_status_id gender income_type  debt  \\\n",
       "21497  женат / замужем                 0      F   компаньон     0   \n",
       "21502  женат / замужем                 0      F   сотрудник     0   \n",
       "21510  женат / замужем                 0      F   сотрудник     0   \n",
       "\n",
       "       total_income                           purpose  \n",
       "21497           NaN        строительство недвижимости  \n",
       "21502           NaN  строительство жилой недвижимости  \n",
       "21510           NaN           приобретение автомобиля  "
      ]
     },
     "execution_count": 2,
     "metadata": {},
     "output_type": "execute_result"
    }
   ],
   "source": [
    "data[data['days_employed'].isna()].tail(3)\n",
    "#data[data['days_employed'].isna()&data['total_income'].isna()].count()"
   ]
  },
  {
   "cell_type": "markdown",
   "metadata": {},
   "source": [
    "Исходя из того что видим, можно сказать что пропущенные значения у стажа и дохода совпадают по строчкам. Можно сделать вывод что информация по данным клиентам бралась из источника где эти два типа данных не заполнялись. Однако в решении наших задач эта информация никак не поможет, остальные значения по этим строкам не имеют закономерностей, поэтому удаляем столбец стаж и приводим к среднему пропущенные значения дохода."
   ]
  },
  {
   "cell_type": "code",
   "execution_count": 3,
   "metadata": {},
   "outputs": [],
   "source": [
    "data = data.drop(['days_employed'], axis = 1)"
   ]
  },
  {
   "cell_type": "code",
   "execution_count": 4,
   "metadata": {},
   "outputs": [
    {
     "data": {
      "text/plain": [
       "сотрудник          11119\n",
       "компаньон           5085\n",
       "пенсионер           3856\n",
       "госслужащий         1459\n",
       "предприниматель        2\n",
       "безработный            2\n",
       "в декрете              1\n",
       "студент                1\n",
       "Name: income_type, dtype: int64"
      ]
     },
     "execution_count": 4,
     "metadata": {},
     "output_type": "execute_result"
    }
   ],
   "source": [
    "data['income_type'].value_counts()"
   ]
  },
  {
   "cell_type": "code",
   "execution_count": 5,
   "metadata": {},
   "outputs": [],
   "source": [
    "data = data.drop(index = [5936])"
   ]
  },
  {
   "cell_type": "code",
   "execution_count": 6,
   "metadata": {},
   "outputs": [],
   "source": [
    "#поскольку разница между min и max отличается в 10 раз, считаю что медиана больше подойдет для нашего исследования\n",
    "median_income_gos = data[data['income_type'] == 'госслужащий']['total_income'].median() # 150448\n",
    "median_income_pensioner = data[data['income_type'] == 'пенсионер']['total_income'].median() # 119514\n",
    "median_income_companion = data[data['income_type'] == 'компаньон']['total_income'].median() # 172358\n",
    "median_income_worker = data[data['income_type'] == 'сотрудник']['total_income'].median() # 142594"
   ]
  },
  {
   "cell_type": "code",
   "execution_count": 7,
   "metadata": {},
   "outputs": [],
   "source": [
    "def change_zero(row):\n",
    "    income_type = row['income_type']\n",
    "    total_income = row['total_income']\n",
    "    if income_type == 'госслужащий':\n",
    "        if total_income == 'замена':\n",
    "            return(median_income_gos)\n",
    "    if income_type == 'пенсионер':\n",
    "        if total_income == 'замена':\n",
    "            return(median_income_pensioner)\n",
    "    if income_type == 'сотрудник':\n",
    "        if total_income == 'замена':\n",
    "            return(median_income_worker)\n",
    "    if income_type == 'компаньон':\n",
    "        if total_income == 'замена':\n",
    "            return(median_income_companion)\n",
    "    return(total_income)\n",
    "data['total_income'] = data['total_income'].fillna('замена')\n",
    "data['total_income'] = data.apply(change_zero, axis = 1)"
   ]
  },
  {
   "cell_type": "code",
   "execution_count": 8,
   "metadata": {},
   "outputs": [
    {
     "name": "stdout",
     "output_type": "stream",
     "text": [
      "<class 'pandas.core.frame.DataFrame'>\n",
      "Int64Index: 21524 entries, 0 to 21524\n",
      "Data columns (total 11 columns):\n",
      " #   Column            Non-Null Count  Dtype  \n",
      "---  ------            --------------  -----  \n",
      " 0   children          21524 non-null  int64  \n",
      " 1   dob_years         21524 non-null  int64  \n",
      " 2   education         21524 non-null  object \n",
      " 3   education_id      21524 non-null  int64  \n",
      " 4   family_status     21524 non-null  object \n",
      " 5   family_status_id  21524 non-null  int64  \n",
      " 6   gender            21524 non-null  object \n",
      " 7   income_type       21524 non-null  object \n",
      " 8   debt              21524 non-null  int64  \n",
      " 9   total_income      21524 non-null  float64\n",
      " 10  purpose           21524 non-null  object \n",
      "dtypes: float64(1), int64(5), object(5)\n",
      "memory usage: 2.0+ MB\n"
     ]
    }
   ],
   "source": [
    "data.info()"
   ]
  },
  {
   "cell_type": "markdown",
   "metadata": {},
   "source": [
    "**Вывод**"
   ]
  },
  {
   "cell_type": "markdown",
   "metadata": {},
   "source": [
    "Мы избавились от пропусков в нашей таблице. Приступим к замене типа данных."
   ]
  },
  {
   "cell_type": "markdown",
   "metadata": {},
   "source": [
    "### Замена типа данных"
   ]
  },
  {
   "cell_type": "code",
   "execution_count": 9,
   "metadata": {},
   "outputs": [
    {
     "name": "stdout",
     "output_type": "stream",
     "text": [
      "<class 'pandas.core.frame.DataFrame'>\n",
      "Int64Index: 21524 entries, 0 to 21524\n",
      "Data columns (total 11 columns):\n",
      " #   Column            Non-Null Count  Dtype \n",
      "---  ------            --------------  ----- \n",
      " 0   children          21524 non-null  int64 \n",
      " 1   dob_years         21524 non-null  int64 \n",
      " 2   education         21524 non-null  object\n",
      " 3   education_id      21524 non-null  int64 \n",
      " 4   family_status     21524 non-null  object\n",
      " 5   family_status_id  21524 non-null  int64 \n",
      " 6   gender            21524 non-null  object\n",
      " 7   income_type       21524 non-null  object\n",
      " 8   debt              21524 non-null  int64 \n",
      " 9   total_income      21524 non-null  int64 \n",
      " 10  purpose           21524 non-null  object\n",
      "dtypes: int64(6), object(5)\n",
      "memory usage: 2.0+ MB\n"
     ]
    }
   ],
   "source": [
    "data['total_income'] = data['total_income'].astype('int')\n",
    "data.info()"
   ]
  },
  {
   "cell_type": "markdown",
   "metadata": {},
   "source": [
    "**Вывод**"
   ]
  },
  {
   "cell_type": "markdown",
   "metadata": {},
   "source": [
    "Мы заменили тип данных в столбце \"доход\", на целые числа с целью повышения точности при выборке до рубля."
   ]
  },
  {
   "cell_type": "markdown",
   "metadata": {},
   "source": [
    "### Обработка дубликатов"
   ]
  },
  {
   "cell_type": "code",
   "execution_count": 10,
   "metadata": {},
   "outputs": [
    {
     "data": {
      "text/html": [
       "<div>\n",
       "<style scoped>\n",
       "    .dataframe tbody tr th:only-of-type {\n",
       "        vertical-align: middle;\n",
       "    }\n",
       "\n",
       "    .dataframe tbody tr th {\n",
       "        vertical-align: top;\n",
       "    }\n",
       "\n",
       "    .dataframe thead th {\n",
       "        text-align: right;\n",
       "    }\n",
       "</style>\n",
       "<table border=\"1\" class=\"dataframe\">\n",
       "  <thead>\n",
       "    <tr style=\"text-align: right;\">\n",
       "      <th></th>\n",
       "      <th>children</th>\n",
       "      <th>dob_years</th>\n",
       "      <th>education</th>\n",
       "      <th>education_id</th>\n",
       "      <th>family_status</th>\n",
       "      <th>family_status_id</th>\n",
       "      <th>gender</th>\n",
       "      <th>income_type</th>\n",
       "      <th>debt</th>\n",
       "      <th>total_income</th>\n",
       "      <th>purpose</th>\n",
       "    </tr>\n",
       "  </thead>\n",
       "  <tbody>\n",
       "    <tr>\n",
       "      <th>0</th>\n",
       "      <td>1</td>\n",
       "      <td>42</td>\n",
       "      <td>высшее</td>\n",
       "      <td>0</td>\n",
       "      <td>женат / замужем</td>\n",
       "      <td>0</td>\n",
       "      <td>F</td>\n",
       "      <td>сотрудник</td>\n",
       "      <td>0</td>\n",
       "      <td>253875</td>\n",
       "      <td>покупка жилья</td>\n",
       "    </tr>\n",
       "    <tr>\n",
       "      <th>1</th>\n",
       "      <td>1</td>\n",
       "      <td>36</td>\n",
       "      <td>среднее</td>\n",
       "      <td>1</td>\n",
       "      <td>женат / замужем</td>\n",
       "      <td>0</td>\n",
       "      <td>F</td>\n",
       "      <td>сотрудник</td>\n",
       "      <td>0</td>\n",
       "      <td>112080</td>\n",
       "      <td>приобретение автомобиля</td>\n",
       "    </tr>\n",
       "    <tr>\n",
       "      <th>2</th>\n",
       "      <td>0</td>\n",
       "      <td>33</td>\n",
       "      <td>Среднее</td>\n",
       "      <td>1</td>\n",
       "      <td>женат / замужем</td>\n",
       "      <td>0</td>\n",
       "      <td>M</td>\n",
       "      <td>сотрудник</td>\n",
       "      <td>0</td>\n",
       "      <td>145885</td>\n",
       "      <td>покупка жилья</td>\n",
       "    </tr>\n",
       "    <tr>\n",
       "      <th>3</th>\n",
       "      <td>3</td>\n",
       "      <td>32</td>\n",
       "      <td>среднее</td>\n",
       "      <td>1</td>\n",
       "      <td>женат / замужем</td>\n",
       "      <td>0</td>\n",
       "      <td>M</td>\n",
       "      <td>сотрудник</td>\n",
       "      <td>0</td>\n",
       "      <td>267628</td>\n",
       "      <td>дополнительное образование</td>\n",
       "    </tr>\n",
       "    <tr>\n",
       "      <th>4</th>\n",
       "      <td>0</td>\n",
       "      <td>53</td>\n",
       "      <td>среднее</td>\n",
       "      <td>1</td>\n",
       "      <td>гражданский брак</td>\n",
       "      <td>1</td>\n",
       "      <td>F</td>\n",
       "      <td>пенсионер</td>\n",
       "      <td>0</td>\n",
       "      <td>158616</td>\n",
       "      <td>сыграть свадьбу</td>\n",
       "    </tr>\n",
       "    <tr>\n",
       "      <th>5</th>\n",
       "      <td>0</td>\n",
       "      <td>27</td>\n",
       "      <td>высшее</td>\n",
       "      <td>0</td>\n",
       "      <td>гражданский брак</td>\n",
       "      <td>1</td>\n",
       "      <td>M</td>\n",
       "      <td>компаньон</td>\n",
       "      <td>0</td>\n",
       "      <td>255763</td>\n",
       "      <td>покупка жилья</td>\n",
       "    </tr>\n",
       "    <tr>\n",
       "      <th>6</th>\n",
       "      <td>0</td>\n",
       "      <td>43</td>\n",
       "      <td>высшее</td>\n",
       "      <td>0</td>\n",
       "      <td>женат / замужем</td>\n",
       "      <td>0</td>\n",
       "      <td>F</td>\n",
       "      <td>компаньон</td>\n",
       "      <td>0</td>\n",
       "      <td>240525</td>\n",
       "      <td>операции с жильем</td>\n",
       "    </tr>\n",
       "    <tr>\n",
       "      <th>7</th>\n",
       "      <td>0</td>\n",
       "      <td>50</td>\n",
       "      <td>СРЕДНЕЕ</td>\n",
       "      <td>1</td>\n",
       "      <td>женат / замужем</td>\n",
       "      <td>0</td>\n",
       "      <td>M</td>\n",
       "      <td>сотрудник</td>\n",
       "      <td>0</td>\n",
       "      <td>135823</td>\n",
       "      <td>образование</td>\n",
       "    </tr>\n",
       "    <tr>\n",
       "      <th>8</th>\n",
       "      <td>2</td>\n",
       "      <td>35</td>\n",
       "      <td>ВЫСШЕЕ</td>\n",
       "      <td>0</td>\n",
       "      <td>гражданский брак</td>\n",
       "      <td>1</td>\n",
       "      <td>F</td>\n",
       "      <td>сотрудник</td>\n",
       "      <td>0</td>\n",
       "      <td>95856</td>\n",
       "      <td>на проведение свадьбы</td>\n",
       "    </tr>\n",
       "    <tr>\n",
       "      <th>9</th>\n",
       "      <td>0</td>\n",
       "      <td>41</td>\n",
       "      <td>среднее</td>\n",
       "      <td>1</td>\n",
       "      <td>женат / замужем</td>\n",
       "      <td>0</td>\n",
       "      <td>M</td>\n",
       "      <td>сотрудник</td>\n",
       "      <td>0</td>\n",
       "      <td>144425</td>\n",
       "      <td>покупка жилья для семьи</td>\n",
       "    </tr>\n",
       "  </tbody>\n",
       "</table>\n",
       "</div>"
      ],
      "text/plain": [
       "   children  dob_years education  education_id     family_status  \\\n",
       "0         1         42    высшее             0   женат / замужем   \n",
       "1         1         36   среднее             1   женат / замужем   \n",
       "2         0         33   Среднее             1   женат / замужем   \n",
       "3         3         32   среднее             1   женат / замужем   \n",
       "4         0         53   среднее             1  гражданский брак   \n",
       "5         0         27    высшее             0  гражданский брак   \n",
       "6         0         43    высшее             0   женат / замужем   \n",
       "7         0         50   СРЕДНЕЕ             1   женат / замужем   \n",
       "8         2         35    ВЫСШЕЕ             0  гражданский брак   \n",
       "9         0         41   среднее             1   женат / замужем   \n",
       "\n",
       "   family_status_id gender income_type  debt  total_income  \\\n",
       "0                 0      F   сотрудник     0        253875   \n",
       "1                 0      F   сотрудник     0        112080   \n",
       "2                 0      M   сотрудник     0        145885   \n",
       "3                 0      M   сотрудник     0        267628   \n",
       "4                 1      F   пенсионер     0        158616   \n",
       "5                 1      M   компаньон     0        255763   \n",
       "6                 0      F   компаньон     0        240525   \n",
       "7                 0      M   сотрудник     0        135823   \n",
       "8                 1      F   сотрудник     0         95856   \n",
       "9                 0      M   сотрудник     0        144425   \n",
       "\n",
       "                      purpose  \n",
       "0               покупка жилья  \n",
       "1     приобретение автомобиля  \n",
       "2               покупка жилья  \n",
       "3  дополнительное образование  \n",
       "4             сыграть свадьбу  \n",
       "5               покупка жилья  \n",
       "6           операции с жильем  \n",
       "7                 образование  \n",
       "8       на проведение свадьбы  \n",
       "9     покупка жилья для семьи  "
      ]
     },
     "execution_count": 10,
     "metadata": {},
     "output_type": "execute_result"
    }
   ],
   "source": [
    "data.head(10)"
   ]
  },
  {
   "cell_type": "markdown",
   "metadata": {},
   "source": [
    "Итак, для того чтобы избавиться от дубликатов необходимо привести все данные таблицы в порядок, а для этого необходимо:\n",
    "1) Проверить числовые данные на наличие артефактов и недопустимых значений. По возможности исправить их.\n",
    "\n",
    "2) Привести в порядок стобцы с типом 'object'. Привести данные в один регистр, вид, классификацию (с помощью стемминга или лемматизации).\n",
    "\n",
    "3) Применить методы по поиску и исключению дубликатов.\n",
    "\n",
    "4) Вы великолепны."
   ]
  },
  {
   "cell_type": "code",
   "execution_count": 11,
   "metadata": {},
   "outputs": [
    {
     "data": {
      "text/plain": [
       " 0     14148\n",
       " 1      4818\n",
       " 2      2055\n",
       " 3       330\n",
       " 20       76\n",
       "-1        47\n",
       " 4        41\n",
       " 5         9\n",
       "Name: children, dtype: int64"
      ]
     },
     "execution_count": 11,
     "metadata": {},
     "output_type": "execute_result"
    }
   ],
   "source": [
    "data['children'].value_counts()     "
   ]
  },
  {
   "cell_type": "code",
   "execution_count": 12,
   "metadata": {},
   "outputs": [
    {
     "data": {
      "text/html": [
       "<div>\n",
       "<style scoped>\n",
       "    .dataframe tbody tr th:only-of-type {\n",
       "        vertical-align: middle;\n",
       "    }\n",
       "\n",
       "    .dataframe tbody tr th {\n",
       "        vertical-align: top;\n",
       "    }\n",
       "\n",
       "    .dataframe thead th {\n",
       "        text-align: right;\n",
       "    }\n",
       "</style>\n",
       "<table border=\"1\" class=\"dataframe\">\n",
       "  <thead>\n",
       "    <tr style=\"text-align: right;\">\n",
       "      <th></th>\n",
       "      <th>children</th>\n",
       "      <th>dob_years</th>\n",
       "      <th>education</th>\n",
       "      <th>education_id</th>\n",
       "      <th>family_status</th>\n",
       "      <th>family_status_id</th>\n",
       "      <th>gender</th>\n",
       "      <th>income_type</th>\n",
       "      <th>debt</th>\n",
       "      <th>total_income</th>\n",
       "      <th>purpose</th>\n",
       "    </tr>\n",
       "  </thead>\n",
       "  <tbody>\n",
       "    <tr>\n",
       "      <th>291</th>\n",
       "      <td>-1</td>\n",
       "      <td>46</td>\n",
       "      <td>среднее</td>\n",
       "      <td>1</td>\n",
       "      <td>гражданский брак</td>\n",
       "      <td>1</td>\n",
       "      <td>F</td>\n",
       "      <td>сотрудник</td>\n",
       "      <td>0</td>\n",
       "      <td>102816</td>\n",
       "      <td>профильное образование</td>\n",
       "    </tr>\n",
       "    <tr>\n",
       "      <th>705</th>\n",
       "      <td>-1</td>\n",
       "      <td>50</td>\n",
       "      <td>среднее</td>\n",
       "      <td>1</td>\n",
       "      <td>женат / замужем</td>\n",
       "      <td>0</td>\n",
       "      <td>F</td>\n",
       "      <td>госслужащий</td>\n",
       "      <td>0</td>\n",
       "      <td>137882</td>\n",
       "      <td>приобретение автомобиля</td>\n",
       "    </tr>\n",
       "    <tr>\n",
       "      <th>742</th>\n",
       "      <td>-1</td>\n",
       "      <td>57</td>\n",
       "      <td>среднее</td>\n",
       "      <td>1</td>\n",
       "      <td>женат / замужем</td>\n",
       "      <td>0</td>\n",
       "      <td>F</td>\n",
       "      <td>сотрудник</td>\n",
       "      <td>0</td>\n",
       "      <td>64268</td>\n",
       "      <td>дополнительное образование</td>\n",
       "    </tr>\n",
       "    <tr>\n",
       "      <th>800</th>\n",
       "      <td>-1</td>\n",
       "      <td>54</td>\n",
       "      <td>среднее</td>\n",
       "      <td>1</td>\n",
       "      <td>Не женат / не замужем</td>\n",
       "      <td>4</td>\n",
       "      <td>F</td>\n",
       "      <td>пенсионер</td>\n",
       "      <td>0</td>\n",
       "      <td>86293</td>\n",
       "      <td>дополнительное образование</td>\n",
       "    </tr>\n",
       "    <tr>\n",
       "      <th>941</th>\n",
       "      <td>-1</td>\n",
       "      <td>57</td>\n",
       "      <td>Среднее</td>\n",
       "      <td>1</td>\n",
       "      <td>женат / замужем</td>\n",
       "      <td>0</td>\n",
       "      <td>F</td>\n",
       "      <td>пенсионер</td>\n",
       "      <td>0</td>\n",
       "      <td>118514</td>\n",
       "      <td>на покупку своего автомобиля</td>\n",
       "    </tr>\n",
       "  </tbody>\n",
       "</table>\n",
       "</div>"
      ],
      "text/plain": [
       "     children  dob_years education  education_id          family_status  \\\n",
       "291        -1         46   среднее             1       гражданский брак   \n",
       "705        -1         50   среднее             1        женат / замужем   \n",
       "742        -1         57   среднее             1        женат / замужем   \n",
       "800        -1         54   среднее             1  Не женат / не замужем   \n",
       "941        -1         57   Среднее             1        женат / замужем   \n",
       "\n",
       "     family_status_id gender  income_type  debt  total_income  \\\n",
       "291                 1      F    сотрудник     0        102816   \n",
       "705                 0      F  госслужащий     0        137882   \n",
       "742                 0      F    сотрудник     0         64268   \n",
       "800                 4      F    пенсионер     0         86293   \n",
       "941                 0      F    пенсионер     0        118514   \n",
       "\n",
       "                          purpose  \n",
       "291        профильное образование  \n",
       "705       приобретение автомобиля  \n",
       "742    дополнительное образование  \n",
       "800    дополнительное образование  \n",
       "941  на покупку своего автомобиля  "
      ]
     },
     "execution_count": 12,
     "metadata": {},
     "output_type": "execute_result"
    }
   ],
   "source": [
    "data[data['children'] == -1].head(5) "
   ]
  },
  {
   "cell_type": "code",
   "execution_count": 13,
   "metadata": {},
   "outputs": [
    {
     "data": {
      "text/html": [
       "<div>\n",
       "<style scoped>\n",
       "    .dataframe tbody tr th:only-of-type {\n",
       "        vertical-align: middle;\n",
       "    }\n",
       "\n",
       "    .dataframe tbody tr th {\n",
       "        vertical-align: top;\n",
       "    }\n",
       "\n",
       "    .dataframe thead th {\n",
       "        text-align: right;\n",
       "    }\n",
       "</style>\n",
       "<table border=\"1\" class=\"dataframe\">\n",
       "  <thead>\n",
       "    <tr style=\"text-align: right;\">\n",
       "      <th></th>\n",
       "      <th>children</th>\n",
       "      <th>dob_years</th>\n",
       "      <th>education</th>\n",
       "      <th>education_id</th>\n",
       "      <th>family_status</th>\n",
       "      <th>family_status_id</th>\n",
       "      <th>gender</th>\n",
       "      <th>income_type</th>\n",
       "      <th>debt</th>\n",
       "      <th>total_income</th>\n",
       "      <th>purpose</th>\n",
       "    </tr>\n",
       "  </thead>\n",
       "  <tbody>\n",
       "    <tr>\n",
       "      <th>606</th>\n",
       "      <td>20</td>\n",
       "      <td>21</td>\n",
       "      <td>среднее</td>\n",
       "      <td>1</td>\n",
       "      <td>женат / замужем</td>\n",
       "      <td>0</td>\n",
       "      <td>M</td>\n",
       "      <td>компаньон</td>\n",
       "      <td>0</td>\n",
       "      <td>145334</td>\n",
       "      <td>покупка жилья</td>\n",
       "    </tr>\n",
       "    <tr>\n",
       "      <th>720</th>\n",
       "      <td>20</td>\n",
       "      <td>44</td>\n",
       "      <td>среднее</td>\n",
       "      <td>1</td>\n",
       "      <td>женат / замужем</td>\n",
       "      <td>0</td>\n",
       "      <td>F</td>\n",
       "      <td>компаньон</td>\n",
       "      <td>0</td>\n",
       "      <td>112998</td>\n",
       "      <td>покупка недвижимости</td>\n",
       "    </tr>\n",
       "    <tr>\n",
       "      <th>1074</th>\n",
       "      <td>20</td>\n",
       "      <td>56</td>\n",
       "      <td>среднее</td>\n",
       "      <td>1</td>\n",
       "      <td>женат / замужем</td>\n",
       "      <td>0</td>\n",
       "      <td>F</td>\n",
       "      <td>сотрудник</td>\n",
       "      <td>1</td>\n",
       "      <td>229518</td>\n",
       "      <td>получение образования</td>\n",
       "    </tr>\n",
       "    <tr>\n",
       "      <th>2510</th>\n",
       "      <td>20</td>\n",
       "      <td>59</td>\n",
       "      <td>высшее</td>\n",
       "      <td>0</td>\n",
       "      <td>вдовец / вдова</td>\n",
       "      <td>2</td>\n",
       "      <td>F</td>\n",
       "      <td>сотрудник</td>\n",
       "      <td>0</td>\n",
       "      <td>264474</td>\n",
       "      <td>операции с коммерческой недвижимостью</td>\n",
       "    </tr>\n",
       "    <tr>\n",
       "      <th>2941</th>\n",
       "      <td>20</td>\n",
       "      <td>0</td>\n",
       "      <td>среднее</td>\n",
       "      <td>1</td>\n",
       "      <td>женат / замужем</td>\n",
       "      <td>0</td>\n",
       "      <td>F</td>\n",
       "      <td>сотрудник</td>\n",
       "      <td>0</td>\n",
       "      <td>199739</td>\n",
       "      <td>на покупку автомобиля</td>\n",
       "    </tr>\n",
       "  </tbody>\n",
       "</table>\n",
       "</div>"
      ],
      "text/plain": [
       "      children  dob_years education  education_id    family_status  \\\n",
       "606         20         21   среднее             1  женат / замужем   \n",
       "720         20         44   среднее             1  женат / замужем   \n",
       "1074        20         56   среднее             1  женат / замужем   \n",
       "2510        20         59    высшее             0   вдовец / вдова   \n",
       "2941        20          0   среднее             1  женат / замужем   \n",
       "\n",
       "      family_status_id gender income_type  debt  total_income  \\\n",
       "606                  0      M   компаньон     0        145334   \n",
       "720                  0      F   компаньон     0        112998   \n",
       "1074                 0      F   сотрудник     1        229518   \n",
       "2510                 2      F   сотрудник     0        264474   \n",
       "2941                 0      F   сотрудник     0        199739   \n",
       "\n",
       "                                    purpose  \n",
       "606                           покупка жилья  \n",
       "720                    покупка недвижимости  \n",
       "1074                  получение образования  \n",
       "2510  операции с коммерческой недвижимостью  \n",
       "2941                  на покупку автомобиля  "
      ]
     },
     "execution_count": 13,
     "metadata": {},
     "output_type": "execute_result"
    }
   ],
   "source": [
    "data[data['children'] == 20].head(5)"
   ]
  },
  {
   "cell_type": "markdown",
   "metadata": {},
   "source": [
    "Вижу 3 возможных объяснения:\n",
    "1) Здесь должно стоять значение \"0\".\n",
    "\n",
    "2) Здесь должно стоять значение \"2\".\n",
    "\n",
    "3) Клиент дал заведомо ложную информацию, а 20 это максимальное допустимое значение в базе. (чтобы обмануть алгоритм и получить согласие банка на кредит? Можно дать обратную связь банку что если их алгоритм согласования кредитов дает преимущество при наличии большого кол-ва детей, то кто то это заметил и пользуется, в следствии чего банку необходимо пересмотреть алгоритм и добавить как минимум проверку по возрасту).\n",
    "\n",
    "Закономерностей с данными других столбцов я не нашел.(прим. для ревьюера: я менял значения столбцов на все возможные, а не только 'family_status', просто не вижу смысла засорять проект кучей однотипных строчек).\n",
    "\n",
    "Как итог, поскольку остальная часть данных в основном выглядит адекватно, для нашего исследования можно принять за кол-во детей медианное значение (равное нулю, что также является одним из вариантов значения которое должно быть), чтобы итоговые результаты не пострадали. К счастью таких клиентов у нас всего 0,3% от общего количества, поэтому качество выводов пострадать не должно. Ну и необходимо дать обратную связь банку конечно же."
   ]
  },
  {
   "cell_type": "code",
   "execution_count": 14,
   "metadata": {},
   "outputs": [
    {
     "data": {
      "text/plain": [
       "0    14224\n",
       "1     4865\n",
       "2     2055\n",
       "3      330\n",
       "4       41\n",
       "5        9\n",
       "Name: children, dtype: int64"
      ]
     },
     "execution_count": 14,
     "metadata": {},
     "output_type": "execute_result"
    }
   ],
   "source": [
    "data['children'] = data['children'].replace(-1, 1)\n",
    "data['children'] = data['children'].replace(20, 0)\n",
    "data['children'].value_counts()"
   ]
  },
  {
   "cell_type": "code",
   "execution_count": 15,
   "metadata": {},
   "outputs": [],
   "source": [
    "mean_dob_years = data['dob_years'].mean().astype('int')"
   ]
  },
  {
   "cell_type": "markdown",
   "metadata": {},
   "source": [
    "Очевидно что все люди берущие кредиты совершеннолетние, поэтому единственное артефактное значение \"0\" заменим за среднее, в данном случае разброс в возрасте не такой критичный и среднее нам подойдет больше медианы. Также категоризируем данные на 3 группы \"молодежь\" - от 18 до 35, \"средний возраст\" - от 36 до 64 лет, \"пенсионер\" - 65 и более, чтобы в будущем было проще проводить аналитику."
   ]
  },
  {
   "cell_type": "code",
   "execution_count": 16,
   "metadata": {},
   "outputs": [],
   "source": [
    "data['dob_years'] = data['dob_years'].replace(0, mean_dob_years)\n",
    "def age_group(row):\n",
    "    if row <= 35:\n",
    "        return('молодежь')\n",
    "    if row <= 64:\n",
    "        return('средний возраст')\n",
    "    return('пенсионер')"
   ]
  },
  {
   "cell_type": "code",
   "execution_count": 17,
   "metadata": {},
   "outputs": [
    {
     "data": {
      "text/html": [
       "<div>\n",
       "<style scoped>\n",
       "    .dataframe tbody tr th:only-of-type {\n",
       "        vertical-align: middle;\n",
       "    }\n",
       "\n",
       "    .dataframe tbody tr th {\n",
       "        vertical-align: top;\n",
       "    }\n",
       "\n",
       "    .dataframe thead th {\n",
       "        text-align: right;\n",
       "    }\n",
       "</style>\n",
       "<table border=\"1\" class=\"dataframe\">\n",
       "  <thead>\n",
       "    <tr style=\"text-align: right;\">\n",
       "      <th></th>\n",
       "      <th>children</th>\n",
       "      <th>dob_years</th>\n",
       "      <th>education</th>\n",
       "      <th>education_id</th>\n",
       "      <th>family_status</th>\n",
       "      <th>family_status_id</th>\n",
       "      <th>gender</th>\n",
       "      <th>income_type</th>\n",
       "      <th>debt</th>\n",
       "      <th>total_income</th>\n",
       "      <th>purpose</th>\n",
       "      <th>age_group</th>\n",
       "    </tr>\n",
       "  </thead>\n",
       "  <tbody>\n",
       "    <tr>\n",
       "      <th>0</th>\n",
       "      <td>1</td>\n",
       "      <td>42</td>\n",
       "      <td>высшее</td>\n",
       "      <td>0</td>\n",
       "      <td>женат / замужем</td>\n",
       "      <td>0</td>\n",
       "      <td>F</td>\n",
       "      <td>сотрудник</td>\n",
       "      <td>0</td>\n",
       "      <td>253875</td>\n",
       "      <td>покупка жилья</td>\n",
       "      <td>средний возраст</td>\n",
       "    </tr>\n",
       "    <tr>\n",
       "      <th>1</th>\n",
       "      <td>1</td>\n",
       "      <td>36</td>\n",
       "      <td>среднее</td>\n",
       "      <td>1</td>\n",
       "      <td>женат / замужем</td>\n",
       "      <td>0</td>\n",
       "      <td>F</td>\n",
       "      <td>сотрудник</td>\n",
       "      <td>0</td>\n",
       "      <td>112080</td>\n",
       "      <td>приобретение автомобиля</td>\n",
       "      <td>средний возраст</td>\n",
       "    </tr>\n",
       "    <tr>\n",
       "      <th>2</th>\n",
       "      <td>0</td>\n",
       "      <td>33</td>\n",
       "      <td>Среднее</td>\n",
       "      <td>1</td>\n",
       "      <td>женат / замужем</td>\n",
       "      <td>0</td>\n",
       "      <td>M</td>\n",
       "      <td>сотрудник</td>\n",
       "      <td>0</td>\n",
       "      <td>145885</td>\n",
       "      <td>покупка жилья</td>\n",
       "      <td>молодежь</td>\n",
       "    </tr>\n",
       "    <tr>\n",
       "      <th>3</th>\n",
       "      <td>3</td>\n",
       "      <td>32</td>\n",
       "      <td>среднее</td>\n",
       "      <td>1</td>\n",
       "      <td>женат / замужем</td>\n",
       "      <td>0</td>\n",
       "      <td>M</td>\n",
       "      <td>сотрудник</td>\n",
       "      <td>0</td>\n",
       "      <td>267628</td>\n",
       "      <td>дополнительное образование</td>\n",
       "      <td>молодежь</td>\n",
       "    </tr>\n",
       "    <tr>\n",
       "      <th>4</th>\n",
       "      <td>0</td>\n",
       "      <td>53</td>\n",
       "      <td>среднее</td>\n",
       "      <td>1</td>\n",
       "      <td>гражданский брак</td>\n",
       "      <td>1</td>\n",
       "      <td>F</td>\n",
       "      <td>пенсионер</td>\n",
       "      <td>0</td>\n",
       "      <td>158616</td>\n",
       "      <td>сыграть свадьбу</td>\n",
       "      <td>средний возраст</td>\n",
       "    </tr>\n",
       "  </tbody>\n",
       "</table>\n",
       "</div>"
      ],
      "text/plain": [
       "   children  dob_years education  education_id     family_status  \\\n",
       "0         1         42    высшее             0   женат / замужем   \n",
       "1         1         36   среднее             1   женат / замужем   \n",
       "2         0         33   Среднее             1   женат / замужем   \n",
       "3         3         32   среднее             1   женат / замужем   \n",
       "4         0         53   среднее             1  гражданский брак   \n",
       "\n",
       "   family_status_id gender income_type  debt  total_income  \\\n",
       "0                 0      F   сотрудник     0        253875   \n",
       "1                 0      F   сотрудник     0        112080   \n",
       "2                 0      M   сотрудник     0        145885   \n",
       "3                 0      M   сотрудник     0        267628   \n",
       "4                 1      F   пенсионер     0        158616   \n",
       "\n",
       "                      purpose        age_group  \n",
       "0               покупка жилья  средний возраст  \n",
       "1     приобретение автомобиля  средний возраст  \n",
       "2               покупка жилья         молодежь  \n",
       "3  дополнительное образование         молодежь  \n",
       "4             сыграть свадьбу  средний возраст  "
      ]
     },
     "execution_count": 17,
     "metadata": {},
     "output_type": "execute_result"
    }
   ],
   "source": [
    "data['age_group'] = data['dob_years'].apply(age_group)\n",
    "data.head(5)"
   ]
  },
  {
   "cell_type": "code",
   "execution_count": 18,
   "metadata": {},
   "outputs": [
    {
     "data": {
      "text/plain": [
       "1    15233\n",
       "0     5259\n",
       "2      744\n",
       "3      282\n",
       "4        6\n",
       "Name: education_id, dtype: int64"
      ]
     },
     "execution_count": 18,
     "metadata": {},
     "output_type": "execute_result"
    }
   ],
   "source": [
    "#education_id\n",
    "data['education_id'].value_counts()\n",
    "#data[data['education_id'] == 0].head(5)"
   ]
  },
  {
   "cell_type": "code",
   "execution_count": 19,
   "metadata": {},
   "outputs": [
    {
     "data": {
      "text/plain": [
       "среднее                13750\n",
       "высшее                  4717\n",
       "СРЕДНЕЕ                  772\n",
       "Среднее                  711\n",
       "неоконченное высшее      668\n",
       "ВЫСШЕЕ                   274\n",
       "Высшее                   268\n",
       "начальное                250\n",
       "Неоконченное высшее       47\n",
       "НЕОКОНЧЕННОЕ ВЫСШЕЕ       29\n",
       "НАЧАЛЬНОЕ                 17\n",
       "Начальное                 15\n",
       "ученая степень             4\n",
       "Ученая степень             1\n",
       "УЧЕНАЯ СТЕПЕНЬ             1\n",
       "Name: education, dtype: int64"
      ]
     },
     "execution_count": 19,
     "metadata": {},
     "output_type": "execute_result"
    }
   ],
   "source": [
    "#education\n",
    "data['education'].value_counts()"
   ]
  },
  {
   "cell_type": "markdown",
   "metadata": {},
   "source": [
    "В столбце \"идентификаторов образования\" артефактов не найдено, но необходимо проверить на соответствие значений с столбцом \"образование\". В столбце \"Образование\" все значения имеют один вид, кроме высоты букв, поэтому мы просто превратим все буквы в строчные. Если количество значений сойдется, перейдем к следующим столбцам."
   ]
  },
  {
   "cell_type": "code",
   "execution_count": 20,
   "metadata": {},
   "outputs": [
    {
     "data": {
      "text/plain": [
       "среднее                15233\n",
       "высшее                  5259\n",
       "неоконченное высшее      744\n",
       "начальное                282\n",
       "ученая степень             6\n",
       "Name: education, dtype: int64"
      ]
     },
     "execution_count": 20,
     "metadata": {},
     "output_type": "execute_result"
    }
   ],
   "source": [
    "data['education'] = data['education'].str.lower()\n",
    "data['education'].value_counts() # Значения сходятся"
   ]
  },
  {
   "cell_type": "code",
   "execution_count": 21,
   "metadata": {},
   "outputs": [
    {
     "data": {
      "text/plain": [
       "женат / замужем          12379\n",
       "гражданский брак          4177\n",
       "Не женат / не замужем     2813\n",
       "в разводе                 1195\n",
       "вдовец / вдова             960\n",
       "Name: family_status, dtype: int64"
      ]
     },
     "execution_count": 21,
     "metadata": {},
     "output_type": "execute_result"
    }
   ],
   "source": [
    "#family_status\n",
    "data['family_status'].value_counts() # С такими данными можно работать"
   ]
  },
  {
   "cell_type": "code",
   "execution_count": 22,
   "metadata": {},
   "outputs": [
    {
     "data": {
      "text/plain": [
       "0    12379\n",
       "1     4177\n",
       "4     2813\n",
       "3     1195\n",
       "2      960\n",
       "Name: family_status_id, dtype: int64"
      ]
     },
     "execution_count": 22,
     "metadata": {},
     "output_type": "execute_result"
    }
   ],
   "source": [
    "#family_status_id\n",
    "data['family_status_id'].value_counts() # Значения сходятся с предидущим столбцом, работаем дальше"
   ]
  },
  {
   "cell_type": "code",
   "execution_count": 23,
   "metadata": {},
   "outputs": [
    {
     "data": {
      "text/html": [
       "<div>\n",
       "<style scoped>\n",
       "    .dataframe tbody tr th:only-of-type {\n",
       "        vertical-align: middle;\n",
       "    }\n",
       "\n",
       "    .dataframe tbody tr th {\n",
       "        vertical-align: top;\n",
       "    }\n",
       "\n",
       "    .dataframe thead th {\n",
       "        text-align: right;\n",
       "    }\n",
       "</style>\n",
       "<table border=\"1\" class=\"dataframe\">\n",
       "  <thead>\n",
       "    <tr style=\"text-align: right;\">\n",
       "      <th></th>\n",
       "      <th>children</th>\n",
       "      <th>dob_years</th>\n",
       "      <th>education</th>\n",
       "      <th>education_id</th>\n",
       "      <th>family_status</th>\n",
       "      <th>family_status_id</th>\n",
       "      <th>gender</th>\n",
       "      <th>income_type</th>\n",
       "      <th>debt</th>\n",
       "      <th>total_income</th>\n",
       "      <th>purpose</th>\n",
       "      <th>age_group</th>\n",
       "    </tr>\n",
       "  </thead>\n",
       "  <tbody>\n",
       "    <tr>\n",
       "      <th>10701</th>\n",
       "      <td>0</td>\n",
       "      <td>24</td>\n",
       "      <td>неоконченное высшее</td>\n",
       "      <td>2</td>\n",
       "      <td>гражданский брак</td>\n",
       "      <td>1</td>\n",
       "      <td>XNA</td>\n",
       "      <td>компаньон</td>\n",
       "      <td>0</td>\n",
       "      <td>203905</td>\n",
       "      <td>покупка недвижимости</td>\n",
       "      <td>молодежь</td>\n",
       "    </tr>\n",
       "  </tbody>\n",
       "</table>\n",
       "</div>"
      ],
      "text/plain": [
       "       children  dob_years            education  education_id  \\\n",
       "10701         0         24  неоконченное высшее             2   \n",
       "\n",
       "          family_status  family_status_id gender income_type  debt  \\\n",
       "10701  гражданский брак                 1    XNA   компаньон     0   \n",
       "\n",
       "       total_income               purpose age_group  \n",
       "10701        203905  покупка недвижимости  молодежь  "
      ]
     },
     "execution_count": 23,
     "metadata": {},
     "output_type": "execute_result"
    }
   ],
   "source": [
    "#gender\n",
    "data[data['gender'] == 'XNA']"
   ]
  },
  {
   "cell_type": "markdown",
   "metadata": {},
   "source": [
    "В данном столбце есть один артефакт, но поскольку перед нами не стоит вопрос о влиянии пола на погашение кредита, можно закрыть на него глаза. В конце концов в трансгендерах нет ничего плохого. Если такой вопрос возникнет, нужно будет просто создать табличку где эта строка исключена."
   ]
  },
  {
   "cell_type": "code",
   "execution_count": 24,
   "metadata": {},
   "outputs": [
    {
     "data": {
      "text/plain": [
       "сотрудник          11119\n",
       "компаньон           5085\n",
       "пенсионер           3856\n",
       "госслужащий         1459\n",
       "безработный            2\n",
       "предприниматель        1\n",
       "в декрете              1\n",
       "студент                1\n",
       "Name: income_type, dtype: int64"
      ]
     },
     "execution_count": 24,
     "metadata": {},
     "output_type": "execute_result"
    }
   ],
   "source": [
    "#income_type\n",
    "data['income_type'].value_counts()"
   ]
  },
  {
   "cell_type": "markdown",
   "metadata": {},
   "source": [
    "Тип дохода клиентов в данном исследовании нам тоже не особо принципиален. При необходимости исследования данных по месту получения дохода я бы просто убрал строки со значениями 2 и меньше, потому что они являются частными и не отразят реальную статистику. Столбец с доходом мы уже поправили, но для дальнейшего анализа нужно разделить его на категории."
   ]
  },
  {
   "cell_type": "code",
   "execution_count": 28,
   "metadata": {},
   "outputs": [
    {
     "data": {
      "text/plain": [
       "count    2.152400e+04\n",
       "mean     1.652093e+05\n",
       "std      9.801952e+04\n",
       "min      2.066700e+04\n",
       "25%      1.077958e+05\n",
       "50%      1.425940e+05\n",
       "75%      1.955445e+05\n",
       "max      2.265604e+06\n",
       "Name: total_income, dtype: float64"
      ]
     },
     "execution_count": 28,
     "metadata": {},
     "output_type": "execute_result"
    }
   ],
   "source": [
    "#total_income\n",
    "data['total_income'].describe()"
   ]
  },
  {
   "cell_type": "markdown",
   "metadata": {},
   "source": [
    "Для того чтобы разбить доходы клиентов на категории, необходимо понимать какое реальное среднее значение, я считаю что правильнее всего будет взять медианное значение за среднее (145000), и разделить на следующие категории:\n",
    "\n",
    "1) Низкие (< 85к)\n",
    "\n",
    "2) Ниже средних (85-125к)\n",
    "\n",
    "3) Средние (125-165к)\n",
    "\n",
    "4) Выше средних (165-205к)\n",
    "\n",
    "5) Высокие (>200к)"
   ]
  },
  {
   "cell_type": "code",
   "execution_count": 30,
   "metadata": {},
   "outputs": [
    {
     "data": {
      "text/html": [
       "<div>\n",
       "<style scoped>\n",
       "    .dataframe tbody tr th:only-of-type {\n",
       "        vertical-align: middle;\n",
       "    }\n",
       "\n",
       "    .dataframe tbody tr th {\n",
       "        vertical-align: top;\n",
       "    }\n",
       "\n",
       "    .dataframe thead th {\n",
       "        text-align: right;\n",
       "    }\n",
       "</style>\n",
       "<table border=\"1\" class=\"dataframe\">\n",
       "  <thead>\n",
       "    <tr style=\"text-align: right;\">\n",
       "      <th></th>\n",
       "      <th>children</th>\n",
       "      <th>dob_years</th>\n",
       "      <th>education</th>\n",
       "      <th>education_id</th>\n",
       "      <th>family_status</th>\n",
       "      <th>family_status_id</th>\n",
       "      <th>gender</th>\n",
       "      <th>income_type</th>\n",
       "      <th>debt</th>\n",
       "      <th>total_income</th>\n",
       "      <th>purpose</th>\n",
       "      <th>age_group</th>\n",
       "      <th>income_group</th>\n",
       "    </tr>\n",
       "  </thead>\n",
       "  <tbody>\n",
       "    <tr>\n",
       "      <th>0</th>\n",
       "      <td>1</td>\n",
       "      <td>42</td>\n",
       "      <td>высшее</td>\n",
       "      <td>0</td>\n",
       "      <td>женат / замужем</td>\n",
       "      <td>0</td>\n",
       "      <td>F</td>\n",
       "      <td>сотрудник</td>\n",
       "      <td>0</td>\n",
       "      <td>253875</td>\n",
       "      <td>покупка жилья</td>\n",
       "      <td>средний возраст</td>\n",
       "      <td>Высокие (&gt;200к)</td>\n",
       "    </tr>\n",
       "    <tr>\n",
       "      <th>1</th>\n",
       "      <td>1</td>\n",
       "      <td>36</td>\n",
       "      <td>среднее</td>\n",
       "      <td>1</td>\n",
       "      <td>женат / замужем</td>\n",
       "      <td>0</td>\n",
       "      <td>F</td>\n",
       "      <td>сотрудник</td>\n",
       "      <td>0</td>\n",
       "      <td>112080</td>\n",
       "      <td>приобретение автомобиля</td>\n",
       "      <td>средний возраст</td>\n",
       "      <td>Ниже средних (85-125к)</td>\n",
       "    </tr>\n",
       "    <tr>\n",
       "      <th>2</th>\n",
       "      <td>0</td>\n",
       "      <td>33</td>\n",
       "      <td>среднее</td>\n",
       "      <td>1</td>\n",
       "      <td>женат / замужем</td>\n",
       "      <td>0</td>\n",
       "      <td>M</td>\n",
       "      <td>сотрудник</td>\n",
       "      <td>0</td>\n",
       "      <td>145885</td>\n",
       "      <td>покупка жилья</td>\n",
       "      <td>молодежь</td>\n",
       "      <td>Средние (125-165к)</td>\n",
       "    </tr>\n",
       "    <tr>\n",
       "      <th>3</th>\n",
       "      <td>3</td>\n",
       "      <td>32</td>\n",
       "      <td>среднее</td>\n",
       "      <td>1</td>\n",
       "      <td>женат / замужем</td>\n",
       "      <td>0</td>\n",
       "      <td>M</td>\n",
       "      <td>сотрудник</td>\n",
       "      <td>0</td>\n",
       "      <td>267628</td>\n",
       "      <td>дополнительное образование</td>\n",
       "      <td>молодежь</td>\n",
       "      <td>Высокие (&gt;200к)</td>\n",
       "    </tr>\n",
       "    <tr>\n",
       "      <th>4</th>\n",
       "      <td>0</td>\n",
       "      <td>53</td>\n",
       "      <td>среднее</td>\n",
       "      <td>1</td>\n",
       "      <td>гражданский брак</td>\n",
       "      <td>1</td>\n",
       "      <td>F</td>\n",
       "      <td>пенсионер</td>\n",
       "      <td>0</td>\n",
       "      <td>158616</td>\n",
       "      <td>сыграть свадьбу</td>\n",
       "      <td>средний возраст</td>\n",
       "      <td>Средние (125-165к)</td>\n",
       "    </tr>\n",
       "  </tbody>\n",
       "</table>\n",
       "</div>"
      ],
      "text/plain": [
       "   children  dob_years education  education_id     family_status  \\\n",
       "0         1         42    высшее             0   женат / замужем   \n",
       "1         1         36   среднее             1   женат / замужем   \n",
       "2         0         33   среднее             1   женат / замужем   \n",
       "3         3         32   среднее             1   женат / замужем   \n",
       "4         0         53   среднее             1  гражданский брак   \n",
       "\n",
       "   family_status_id gender income_type  debt  total_income  \\\n",
       "0                 0      F   сотрудник     0        253875   \n",
       "1                 0      F   сотрудник     0        112080   \n",
       "2                 0      M   сотрудник     0        145885   \n",
       "3                 0      M   сотрудник     0        267628   \n",
       "4                 1      F   пенсионер     0        158616   \n",
       "\n",
       "                      purpose        age_group            income_group  \n",
       "0               покупка жилья  средний возраст         Высокие (>200к)  \n",
       "1     приобретение автомобиля  средний возраст  Ниже средних (85-125к)  \n",
       "2               покупка жилья         молодежь      Средние (125-165к)  \n",
       "3  дополнительное образование         молодежь         Высокие (>200к)  \n",
       "4             сыграть свадьбу  средний возраст      Средние (125-165к)  "
      ]
     },
     "execution_count": 30,
     "metadata": {},
     "output_type": "execute_result"
    }
   ],
   "source": [
    "def income_group(row):\n",
    "    if row <= 85000:\n",
    "        return('Низкие (< 85к)')\n",
    "    if row <= 125000:\n",
    "        return('Ниже средних (85-125к)')\n",
    "    if row <= 165000:\n",
    "        return('Средние (125-165к)')\n",
    "    if row <= 205000:\n",
    "        return('Выше средних (165-205к)')\n",
    "    return('Высокие (>200к)')\n",
    "data['income_group'] = data['total_income'].apply(income_group)\n",
    "data.head(5)"
   ]
  },
  {
   "cell_type": "code",
   "execution_count": 31,
   "metadata": {},
   "outputs": [
    {
     "name": "stdout",
     "output_type": "stream",
     "text": [
      "<class 'pandas.core.frame.DataFrame'>\n",
      "RangeIndex: 21453 entries, 0 to 21452\n",
      "Data columns (total 13 columns):\n",
      " #   Column            Non-Null Count  Dtype \n",
      "---  ------            --------------  ----- \n",
      " 0   children          21453 non-null  int64 \n",
      " 1   dob_years         21453 non-null  int64 \n",
      " 2   education         21453 non-null  object\n",
      " 3   education_id      21453 non-null  int64 \n",
      " 4   family_status     21453 non-null  object\n",
      " 5   family_status_id  21453 non-null  int64 \n",
      " 6   gender            21453 non-null  object\n",
      " 7   income_type       21453 non-null  object\n",
      " 8   debt              21453 non-null  int64 \n",
      " 9   total_income      21453 non-null  int64 \n",
      " 10  purpose           21453 non-null  object\n",
      " 11  age_group         21453 non-null  object\n",
      " 12  income_group      21453 non-null  object\n",
      "dtypes: int64(6), object(7)\n",
      "memory usage: 2.1+ MB\n"
     ]
    }
   ],
   "source": [
    "data = data.drop_duplicates().reset_index(drop = True)\n",
    "data.info()"
   ]
  },
  {
   "cell_type": "markdown",
   "metadata": {},
   "source": [
    "**Вывод**"
   ]
  },
  {
   "cell_type": "markdown",
   "metadata": {},
   "source": [
    "На данный момент мы привели в порядок все столбцы кроме цели кредита, но даже это уже позволило нам избавится от 71 дубликата. Далее необходимо привести в порядок столбец цели кредита через леммизацию и приведению к 4 основным категориям: 1) недвижимость 2) автомобиль 3) свадьба 4) образование. Возможно после замены значений в этом столбце мы сможем избавиться от еще большего числа дубликатов."
   ]
  },
  {
   "cell_type": "markdown",
   "metadata": {},
   "source": [
    "### Лемматизация"
   ]
  },
  {
   "cell_type": "code",
   "execution_count": 32,
   "metadata": {},
   "outputs": [
    {
     "data": {
      "text/plain": [
       "0                 [покупка,  , жилье, \\n]\n",
       "1       [приобретение,  , автомобиль, \\n]\n",
       "2                 [покупка,  , жилье, \\n]\n",
       "3    [дополнительный,  , образование, \\n]\n",
       "4               [сыграть,  , свадьба, \\n]\n",
       "Name: purpose, dtype: object"
      ]
     },
     "execution_count": 32,
     "metadata": {},
     "output_type": "execute_result"
    }
   ],
   "source": [
    "from pymystem3 import Mystem\n",
    "m = Mystem() \n",
    "def lemmatizing(row):\n",
    "    try:\n",
    "        lemma = m.lemmatize(row)\n",
    "        return(lemma)\n",
    "    except:\n",
    "        return('error')\n",
    "data_lemma = data['purpose'].apply(lemmatizing)\n",
    "data_lemma.head(5)"
   ]
  },
  {
   "cell_type": "code",
   "execution_count": 33,
   "metadata": {},
   "outputs": [
    {
     "data": {
      "text/plain": [
       "Counter({'покупка': 5896,\n",
       "         ' ': 33568,\n",
       "         'жилье': 4460,\n",
       "         '\\n': 21453,\n",
       "         'приобретение': 461,\n",
       "         'автомобиль': 4306,\n",
       "         'дополнительный': 906,\n",
       "         'образование': 4013,\n",
       "         'сыграть': 765,\n",
       "         'свадьба': 2324,\n",
       "         'операция': 2604,\n",
       "         'с': 2918,\n",
       "         'на': 2222,\n",
       "         'проведение': 768,\n",
       "         'для': 1289,\n",
       "         'семья': 638,\n",
       "         'недвижимость': 6350,\n",
       "         'коммерческий': 1311,\n",
       "         'жилой': 1229,\n",
       "         'строительство': 1878,\n",
       "         'собственный': 635,\n",
       "         'подержать': 478,\n",
       "         'свой': 2230,\n",
       "         'со': 627,\n",
       "         'заниматься': 904,\n",
       "         'сделка': 941,\n",
       "         'подержанный': 486,\n",
       "         'получение': 1314,\n",
       "         'высокий': 1374,\n",
       "         'профильный': 436,\n",
       "         'сдача': 651,\n",
       "         'ремонт': 607})"
      ]
     },
     "execution_count": 33,
     "metadata": {},
     "output_type": "execute_result"
    }
   ],
   "source": [
    "from collections import Counter\n",
    "lemm_spisok = []\n",
    "purpose = data['purpose']\n",
    "for element in purpose:\n",
    "    lemm_spisok.extend(m.lemmatize(element))\n",
    "Counter(lemm_spisok)"
   ]
  },
  {
   "cell_type": "markdown",
   "metadata": {},
   "source": [
    "**Вывод**"
   ]
  },
  {
   "cell_type": "markdown",
   "metadata": {},
   "source": [
    "После проведения лемматизации, мы видим что в категорию \"недвижимость\" необходимо включить строки включающие в себя леммы \"жилье\", \"жилой\" и \"недвижимость\"; а в категории \"автомобиль\", \"свадьба\" и \"образование\", строки с аналогичными леммами."
   ]
  },
  {
   "cell_type": "markdown",
   "metadata": {},
   "source": [
    "### Категоризация данных"
   ]
  },
  {
   "cell_type": "code",
   "execution_count": 34,
   "metadata": {},
   "outputs": [],
   "source": [
    "def category(row):\n",
    "    try:\n",
    "        if 'жилье' in row:\n",
    "            return('недвижимость')\n",
    "        if 'недвижимость' in row:\n",
    "            return('недвижимость')\n",
    "        if 'жилое' in row:\n",
    "            return('недвижимость')\n",
    "        if 'автомобиль' in row:\n",
    "            return('автомобиль')\n",
    "        if 'свадьба' in row:\n",
    "            return('свадьба')\n",
    "        if 'образование' in row:\n",
    "            return('образование')\n",
    "    except:\n",
    "        return('error')\n",
    "data['category_purpose'] = data_lemma.apply(category)"
   ]
  },
  {
   "cell_type": "markdown",
   "metadata": {},
   "source": [
    "Поскольку цели кредита у нас категоризированы, столбец \"purpose\" нам уже не нужен и можно его удалить чтобы провести более точный поиск по дубликатам."
   ]
  },
  {
   "cell_type": "code",
   "execution_count": 35,
   "metadata": {},
   "outputs": [],
   "source": [
    "data = data.drop(['purpose'], axis = 1)"
   ]
  },
  {
   "cell_type": "code",
   "execution_count": 36,
   "metadata": {},
   "outputs": [
    {
     "data": {
      "text/plain": [
       "(21114, 13)"
      ]
     },
     "execution_count": 36,
     "metadata": {},
     "output_type": "execute_result"
    }
   ],
   "source": [
    "data = data.drop_duplicates().reset_index(drop = True)\n",
    "data.shape"
   ]
  },
  {
   "cell_type": "markdown",
   "metadata": {},
   "source": [
    "**Вывод**"
   ]
  },
  {
   "cell_type": "markdown",
   "metadata": {},
   "source": [
    "Мы закончили с предобработкой данных, избавились от всех дупликатов, пропущенных значений и артефактов которые могли бы помешать нам найти ответы на поставленные вопросы. Теперь можно приступить к исследованию данных с учетом поставленных задач."
   ]
  },
  {
   "cell_type": "markdown",
   "metadata": {},
   "source": [
    "## Шаг 3. Ответьте на вопросы"
   ]
  },
  {
   "cell_type": "markdown",
   "metadata": {},
   "source": [
    "- Есть ли зависимость между наличием детей и возвратом кредита в срок?"
   ]
  },
  {
   "cell_type": "code",
   "execution_count": 37,
   "metadata": {},
   "outputs": [
    {
     "data": {
      "text/html": [
       "<div>\n",
       "<style scoped>\n",
       "    .dataframe tbody tr th:only-of-type {\n",
       "        vertical-align: middle;\n",
       "    }\n",
       "\n",
       "    .dataframe tbody tr th {\n",
       "        vertical-align: top;\n",
       "    }\n",
       "\n",
       "    .dataframe thead th {\n",
       "        text-align: right;\n",
       "    }\n",
       "</style>\n",
       "<table border=\"1\" class=\"dataframe\">\n",
       "  <thead>\n",
       "    <tr style=\"text-align: right;\">\n",
       "      <th>children</th>\n",
       "      <th>0</th>\n",
       "      <th>1</th>\n",
       "      <th>2</th>\n",
       "      <th>3</th>\n",
       "      <th>4</th>\n",
       "      <th>5</th>\n",
       "    </tr>\n",
       "  </thead>\n",
       "  <tbody>\n",
       "    <tr>\n",
       "      <th>debt</th>\n",
       "      <td>0.076906</td>\n",
       "      <td>0.092766</td>\n",
       "      <td>0.095145</td>\n",
       "      <td>0.082067</td>\n",
       "      <td>0.1</td>\n",
       "      <td>0.0</td>\n",
       "    </tr>\n",
       "  </tbody>\n",
       "</table>\n",
       "</div>"
      ],
      "text/plain": [
       "children         0         1         2         3    4    5\n",
       "debt      0.076906  0.092766  0.095145  0.082067  0.1  0.0"
      ]
     },
     "execution_count": 37,
     "metadata": {},
     "output_type": "execute_result"
    }
   ],
   "source": [
    "pivot_data_children_debt = data.pivot_table(columns='children', values='debt')\n",
    "pivot_data_children_debt"
   ]
  },
  {
   "cell_type": "code",
   "execution_count": 38,
   "metadata": {},
   "outputs": [
    {
     "data": {
      "text/plain": [
       "0.0823624135644596"
      ]
     },
     "execution_count": 38,
     "metadata": {},
     "output_type": "execute_result"
    }
   ],
   "source": [
    "sum_debt = data['debt'].sum() \n",
    "sum_clients = len(data['debt'])\n",
    "percent_debt = sum_debt / sum_clients\n",
    "percent_debt #получим процент клиентов которые не оплачивают кредиты вовремя из общего кол-ва"
   ]
  },
  {
   "cell_type": "markdown",
   "metadata": {},
   "source": [
    "**Вывод**"
   ]
  },
  {
   "cell_type": "markdown",
   "metadata": {},
   "source": [
    "Как нам показывает таблица с данными, клиентам без детей как правило проще оплачивать кредиты в срок чем клиентам с одним ребенком, разница между ними составляет 1,6%, а также на 1,8% по сравнению с клиентами у которых два ребенка. \n",
    "\n",
    "Однако также по таблице видно что, клиенты у которых трое и более детей начинают относятся к вопросу финансов более ответственно, процент просрочек начинает уменьшаться. Клиентов с четырьмя и пятью детьми, в выборке не так много, поэтому данные по ним не показательны, но даже если мы возьмем по ним среднее, получится что то около 8% что является лучшим показателем чем у клиентов с одним или двумя детьми."
   ]
  },
  {
   "cell_type": "markdown",
   "metadata": {},
   "source": [
    "- Есть ли зависимость между семейным положением и возвратом кредита в срок?"
   ]
  },
  {
   "cell_type": "code",
   "execution_count": 39,
   "metadata": {
    "scrolled": true
   },
   "outputs": [
    {
     "data": {
      "text/plain": [
       "<AxesSubplot:>"
      ]
     },
     "execution_count": 39,
     "metadata": {},
     "output_type": "execute_result"
    },
    {
     "data": {
      "image/png": "[encoded data removed]",
      "text/plain": [
       "<Figure size 432x288 with 1 Axes>"
      ]
     },
     "metadata": {
      "needs_background": "light"
     },
     "output_type": "display_data"
    }
   ],
   "source": [
    "pivot_data_family_status_debt = data.pivot_table(columns='family_status', values='debt')\n",
    "pivot_data_family_status_debt.plot(kind=\"bar\")"
   ]
  },
  {
   "cell_type": "markdown",
   "metadata": {},
   "source": [
    "**Вывод**"
   ]
  },
  {
   "cell_type": "markdown",
   "metadata": {},
   "source": [
    "Исходя из графиков мы видим, что люди которые не оформляют свои отношения официально, более склонны к просрочке кредитов, по сравнению с теми, кто был женат. Разница составляет порядка 2-3%.   "
   ]
  },
  {
   "cell_type": "markdown",
   "metadata": {},
   "source": [
    "- Есть ли зависимость между уровнем дохода и возвратом кредита в срок?"
   ]
  },
  {
   "cell_type": "code",
   "execution_count": 40,
   "metadata": {},
   "outputs": [
    {
     "data": {
      "text/plain": [
       "<AxesSubplot:>"
      ]
     },
     "execution_count": 40,
     "metadata": {},
     "output_type": "execute_result"
    },
    {
     "data": {
      "image/png": "[encoded data removed]",
      "text/plain": [
       "<Figure size 432x288 with 1 Axes>"
      ]
     },
     "metadata": {
      "needs_background": "light"
     },
     "output_type": "display_data"
    }
   ],
   "source": [
    "pivot_data_income_group_debt = data.pivot_table(columns='income_group', values='debt')\n",
    "pivot_data_income_group_debt.plot(kind=\"bar\")"
   ]
  },
  {
   "cell_type": "markdown",
   "metadata": {},
   "source": [
    "**Вывод**"
   ]
  },
  {
   "cell_type": "markdown",
   "metadata": {},
   "source": [
    "Люди с самыми низкими и с самыми высокими доходами являются более ответственными в плане своевременного погашения кредитов, чем люди, доход которых в нашей базе данных приближен к среднему на 1,5-2%. \n",
    "\n",
    "Это можно объяснить тем что люди с низкими доходами должны более точно планировать траты, чтобы хватало на жизнь, а для людей с высокими доходами выплата кредитов не составляет проблему, в то время как люди со средними доходами могут позволить себе не следить за тратами, но периодически не укладываться в свой бюджет."
   ]
  },
  {
   "cell_type": "markdown",
   "metadata": {},
   "source": [
    "- Как разные цели кредита влияют на его возврат в срок?"
   ]
  },
  {
   "cell_type": "code",
   "execution_count": 41,
   "metadata": {},
   "outputs": [
    {
     "data": {
      "text/html": [
       "<div>\n",
       "<style scoped>\n",
       "    .dataframe tbody tr th:only-of-type {\n",
       "        vertical-align: middle;\n",
       "    }\n",
       "\n",
       "    .dataframe tbody tr th {\n",
       "        vertical-align: top;\n",
       "    }\n",
       "\n",
       "    .dataframe thead th {\n",
       "        text-align: right;\n",
       "    }\n",
       "</style>\n",
       "<table border=\"1\" class=\"dataframe\">\n",
       "  <thead>\n",
       "    <tr style=\"text-align: right;\">\n",
       "      <th>category_purpose</th>\n",
       "      <th>автомобиль</th>\n",
       "      <th>недвижимость</th>\n",
       "      <th>образование</th>\n",
       "      <th>свадьба</th>\n",
       "    </tr>\n",
       "  </thead>\n",
       "  <tbody>\n",
       "    <tr>\n",
       "      <th>debt</th>\n",
       "      <td>0.094101</td>\n",
       "      <td>0.073874</td>\n",
       "      <td>0.09334</td>\n",
       "      <td>0.080659</td>\n",
       "    </tr>\n",
       "  </tbody>\n",
       "</table>\n",
       "</div>"
      ],
      "text/plain": [
       "category_purpose  автомобиль  недвижимость  образование   свадьба\n",
       "debt                0.094101      0.073874      0.09334  0.080659"
      ]
     },
     "execution_count": 41,
     "metadata": {},
     "output_type": "execute_result"
    }
   ],
   "source": [
    "pivot_data_purpose_debt = data.pivot_table(columns='category_purpose', values='debt')\n",
    "pivot_data_purpose_debt"
   ]
  },
  {
   "cell_type": "markdown",
   "metadata": {},
   "source": [
    "**Вывод**"
   ]
  },
  {
   "cell_type": "markdown",
   "metadata": {},
   "source": [
    "Меньше всего просрочек происходит по кредитам связанным с недвижимостью, на втором месте идут свадьбы, и больше всего просрочек происходит по кредитам на автомобили и образование. \n",
    "\n",
    "На основании этого можно сделать вывод, что чем больше сумма кредита, тем с большей вероятностью он будет погашен без просрочек. Возможно именно поэтому банки не любят давать кредиты на маленькие суммы, а ипотеки одобряют большинству."
   ]
  },
  {
   "cell_type": "markdown",
   "metadata": {},
   "source": [
    "## Шаг 4. Общий вывод"
   ]
  },
  {
   "cell_type": "markdown",
   "metadata": {},
   "source": [
    "Мы провели анализ данных кредитного отдела банка, и сделали выводы: \n",
    "\n",
    "1) что наиболее ответственно к вопросу погашения кредитов относятся женатые клиенты без детей\n",
    "\n",
    "2) люди со средним доходом более склонны к просрочкам\n",
    "\n",
    "3) чем больше сумма кредита тем больше вероятность его своевременного погашения\n",
    "\n",
    "4) необходимо проверить алгоритмы кредитного отдела, на ошибки в одобрении кредитов при высоком кол-ве детей"
   ]
  },
  {
   "cell_type": "code",
   "execution_count": null,
   "metadata": {},
   "outputs": [],
   "source": []
  }
 ],
 "metadata": {
  "ExecuteTimeLog": [
   {
    "duration": 894,
    "start_time": "2021-06-29T17:27:27.264Z"
   },
   {
    "duration": 86,
    "start_time": "2021-06-29T17:28:03.274Z"
   },
   {
    "duration": 74,
    "start_time": "2021-06-29T17:39:13.359Z"
   },
   {
    "duration": 73,
    "start_time": "2021-06-29T17:39:53.242Z"
   },
   {
    "duration": 71,
    "start_time": "2021-06-29T17:40:05.952Z"
   },
   {
    "duration": 75,
    "start_time": "2021-06-29T17:40:19.075Z"
   },
   {
    "duration": 68,
    "start_time": "2021-06-29T17:41:09.425Z"
   },
   {
    "duration": 501,
    "start_time": "2021-06-29T17:43:37.632Z"
   },
   {
    "duration": 86,
    "start_time": "2021-06-29T17:44:18.706Z"
   },
   {
    "duration": 80,
    "start_time": "2021-06-29T17:45:45.475Z"
   },
   {
    "duration": 72,
    "start_time": "2021-06-29T17:52:55.319Z"
   },
   {
    "duration": 69,
    "start_time": "2021-06-29T17:53:43.409Z"
   },
   {
    "duration": 885,
    "start_time": "2021-06-29T19:52:19.003Z"
   },
   {
    "duration": 487,
    "start_time": "2021-06-29T21:13:39.677Z"
   },
   {
    "duration": 7,
    "start_time": "2021-06-29T21:14:09.207Z"
   },
   {
    "duration": 8,
    "start_time": "2021-06-29T21:15:36.869Z"
   },
   {
    "duration": 100,
    "start_time": "2021-06-29T21:20:00.388Z"
   },
   {
    "duration": 37,
    "start_time": "2021-06-29T21:20:14.243Z"
   },
   {
    "duration": 10,
    "start_time": "2021-06-29T21:21:17.061Z"
   },
   {
    "duration": 8,
    "start_time": "2021-06-29T21:22:05.691Z"
   },
   {
    "duration": 7,
    "start_time": "2021-06-29T21:22:53.482Z"
   },
   {
    "duration": 8,
    "start_time": "2021-06-29T21:23:29.292Z"
   },
   {
    "duration": 7,
    "start_time": "2021-06-29T21:23:36.728Z"
   },
   {
    "duration": 12,
    "start_time": "2021-06-29T21:23:45.799Z"
   },
   {
    "duration": 7,
    "start_time": "2021-06-29T21:25:26.312Z"
   },
   {
    "duration": 6,
    "start_time": "2021-06-29T21:25:36.484Z"
   },
   {
    "duration": 5,
    "start_time": "2021-06-29T21:27:20.269Z"
   },
   {
    "duration": 6,
    "start_time": "2021-06-29T21:27:35.102Z"
   },
   {
    "duration": 282,
    "start_time": "2021-06-29T21:29:20.833Z"
   },
   {
    "duration": 290,
    "start_time": "2021-06-29T21:29:29.091Z"
   },
   {
    "duration": 6,
    "start_time": "2021-06-29T21:29:52.424Z"
   },
   {
    "duration": 7,
    "start_time": "2021-06-29T21:32:42.972Z"
   },
   {
    "duration": 7,
    "start_time": "2021-06-29T21:34:05.377Z"
   },
   {
    "duration": 6,
    "start_time": "2021-06-29T21:36:16.314Z"
   },
   {
    "duration": 18,
    "start_time": "2021-06-29T21:37:02.114Z"
   },
   {
    "duration": 6,
    "start_time": "2021-06-29T21:38:44.499Z"
   },
   {
    "duration": 5,
    "start_time": "2021-06-29T21:38:58.405Z"
   },
   {
    "duration": 15,
    "start_time": "2021-06-29T21:41:25.412Z"
   },
   {
    "duration": 21,
    "start_time": "2021-06-29T21:47:53.268Z"
   },
   {
    "duration": 21,
    "start_time": "2021-06-29T21:48:30.416Z"
   },
   {
    "duration": 33,
    "start_time": "2021-06-29T21:50:03.221Z"
   },
   {
    "duration": 21,
    "start_time": "2021-06-29T21:50:24.431Z"
   },
   {
    "duration": 22,
    "start_time": "2021-06-29T21:52:26.199Z"
   },
   {
    "duration": 12,
    "start_time": "2021-06-29T21:52:43.923Z"
   },
   {
    "duration": 21,
    "start_time": "2021-06-29T21:55:21.063Z"
   },
   {
    "duration": 12,
    "start_time": "2021-06-29T21:58:01.906Z"
   },
   {
    "duration": 22,
    "start_time": "2021-06-29T22:27:29.821Z"
   },
   {
    "duration": 22,
    "start_time": "2021-06-29T22:36:44.913Z"
   },
   {
    "duration": 311,
    "start_time": "2021-06-29T22:36:58.131Z"
   },
   {
    "duration": 311,
    "start_time": "2021-06-29T22:37:09.947Z"
   },
   {
    "duration": 357,
    "start_time": "2021-06-29T22:37:20.540Z"
   },
   {
    "duration": 307,
    "start_time": "2021-06-29T22:37:43.053Z"
   },
   {
    "duration": 90,
    "start_time": "2021-06-29T22:37:49.926Z"
   },
   {
    "duration": 23,
    "start_time": "2021-06-29T22:37:57.859Z"
   },
   {
    "duration": 32,
    "start_time": "2021-06-29T22:38:01.212Z"
   },
   {
    "duration": 12,
    "start_time": "2021-06-29T22:39:30.975Z"
   },
   {
    "duration": 31,
    "start_time": "2021-06-29T22:39:50.668Z"
   },
   {
    "duration": 22,
    "start_time": "2021-06-29T22:40:02.151Z"
   },
   {
    "duration": 22,
    "start_time": "2021-06-29T22:40:08.852Z"
   },
   {
    "duration": 6,
    "start_time": "2021-06-29T22:40:20.590Z"
   },
   {
    "duration": 16,
    "start_time": "2021-06-29T22:40:40.311Z"
   },
   {
    "duration": 9,
    "start_time": "2021-06-29T22:41:07.874Z"
   },
   {
    "duration": 18,
    "start_time": "2021-06-29T22:41:17.585Z"
   },
   {
    "duration": 6,
    "start_time": "2021-06-29T22:42:12.554Z"
   },
   {
    "duration": 6,
    "start_time": "2021-06-29T22:42:22.458Z"
   },
   {
    "duration": 6,
    "start_time": "2021-06-29T22:42:28.061Z"
   },
   {
    "duration": 6,
    "start_time": "2021-06-29T22:42:45.252Z"
   },
   {
    "duration": 8,
    "start_time": "2021-06-29T22:43:14.080Z"
   },
   {
    "duration": 7063,
    "start_time": "2021-06-29T22:54:33.015Z"
   },
   {
    "duration": 88,
    "start_time": "2021-06-29T22:54:42.507Z"
   },
   {
    "duration": 86,
    "start_time": "2021-06-29T22:55:01.827Z"
   },
   {
    "duration": 19,
    "start_time": "2021-06-29T22:55:01.915Z"
   },
   {
    "duration": 31,
    "start_time": "2021-06-29T22:55:01.937Z"
   },
   {
    "duration": 861,
    "start_time": "2021-06-29T22:55:51.952Z"
   },
   {
    "duration": 18,
    "start_time": "2021-06-29T22:55:52.816Z"
   },
   {
    "duration": 7,
    "start_time": "2021-06-29T22:55:52.837Z"
   },
   {
    "duration": 24,
    "start_time": "2021-06-29T22:55:52.846Z"
   },
   {
    "duration": 114,
    "start_time": "2021-06-29T22:55:52.872Z"
   },
   {
    "duration": 9,
    "start_time": "2021-06-29T22:57:28.630Z"
   },
   {
    "duration": 8,
    "start_time": "2021-06-29T22:58:14.445Z"
   },
   {
    "duration": 372,
    "start_time": "2021-06-29T22:58:36.982Z"
   },
   {
    "duration": 6,
    "start_time": "2021-06-29T22:58:56.644Z"
   },
   {
    "duration": 15,
    "start_time": "2021-06-29T22:59:24.117Z"
   },
   {
    "duration": 6,
    "start_time": "2021-06-29T23:00:00.854Z"
   },
   {
    "duration": 11,
    "start_time": "2021-06-29T23:00:14.147Z"
   },
   {
    "duration": 5,
    "start_time": "2021-06-29T23:00:32.359Z"
   },
   {
    "duration": 14,
    "start_time": "2021-06-29T23:01:24.588Z"
   },
   {
    "duration": 4,
    "start_time": "2021-06-29T23:01:35.109Z"
   },
   {
    "duration": 14,
    "start_time": "2021-06-29T23:04:48.407Z"
   },
   {
    "duration": 352,
    "start_time": "2021-06-30T20:50:53.407Z"
   },
   {
    "duration": 886,
    "start_time": "2021-06-30T20:51:58.393Z"
   },
   {
    "duration": 29,
    "start_time": "2021-06-30T20:51:59.282Z"
   },
   {
    "duration": 6,
    "start_time": "2021-06-30T20:51:59.316Z"
   },
   {
    "duration": 13,
    "start_time": "2021-06-30T20:51:59.325Z"
   },
   {
    "duration": 6,
    "start_time": "2021-06-30T20:51:59.340Z"
   },
   {
    "duration": 18,
    "start_time": "2021-06-30T20:51:59.349Z"
   },
   {
    "duration": 32,
    "start_time": "2021-06-30T20:51:59.369Z"
   },
   {
    "duration": 5,
    "start_time": "2021-06-30T20:52:45.969Z"
   },
   {
    "duration": 17,
    "start_time": "2021-06-30T20:53:02.210Z"
   },
   {
    "duration": 373,
    "start_time": "2021-06-30T20:56:15.721Z"
   },
   {
    "duration": 17,
    "start_time": "2021-06-30T20:56:21.600Z"
   },
   {
    "duration": 18,
    "start_time": "2021-06-30T21:01:05.130Z"
   },
   {
    "duration": 24,
    "start_time": "2021-06-30T21:17:20.050Z"
   },
   {
    "duration": 319,
    "start_time": "2021-06-30T21:18:19.294Z"
   },
   {
    "duration": 8,
    "start_time": "2021-06-30T21:18:36.572Z"
   },
   {
    "duration": 37,
    "start_time": "2021-06-30T21:23:31.017Z"
   },
   {
    "duration": 30,
    "start_time": "2021-06-30T21:29:58.553Z"
   },
   {
    "duration": 19,
    "start_time": "2021-06-30T21:30:55.941Z"
   },
   {
    "duration": 19,
    "start_time": "2021-06-30T21:31:07.361Z"
   },
   {
    "duration": 17,
    "start_time": "2021-06-30T21:31:19.349Z"
   },
   {
    "duration": 13,
    "start_time": "2021-06-30T21:42:21.867Z"
   },
   {
    "duration": 9,
    "start_time": "2021-06-30T21:43:03.126Z"
   },
   {
    "duration": 21,
    "start_time": "2021-06-30T21:43:20.591Z"
   },
   {
    "duration": 26,
    "start_time": "2021-06-30T21:44:46.733Z"
   },
   {
    "duration": 985,
    "start_time": "2021-06-30T21:46:27.532Z"
   },
   {
    "duration": 301,
    "start_time": "2021-06-30T21:46:40.946Z"
   },
   {
    "duration": 13,
    "start_time": "2021-06-30T21:46:58.260Z"
   },
   {
    "duration": 9,
    "start_time": "2021-06-30T21:47:22.404Z"
   },
   {
    "duration": 11,
    "start_time": "2021-06-30T21:47:35.558Z"
   },
   {
    "duration": 20,
    "start_time": "2021-06-30T21:48:02.579Z"
   },
   {
    "duration": 10,
    "start_time": "2021-06-30T21:50:58.933Z"
   },
   {
    "duration": 24,
    "start_time": "2021-06-30T21:51:23.402Z"
   },
   {
    "duration": 10,
    "start_time": "2021-06-30T22:05:58.756Z"
   },
   {
    "duration": 11,
    "start_time": "2021-06-30T22:06:42.655Z"
   },
   {
    "duration": 21,
    "start_time": "2021-06-30T22:06:58.366Z"
   },
   {
    "duration": 12,
    "start_time": "2021-06-30T22:08:30.304Z"
   },
   {
    "duration": 13,
    "start_time": "2021-06-30T22:09:37.209Z"
   },
   {
    "duration": 8,
    "start_time": "2021-06-30T22:11:35.138Z"
   },
   {
    "duration": 7,
    "start_time": "2021-06-30T22:11:48.091Z"
   },
   {
    "duration": 23,
    "start_time": "2021-06-30T22:15:27.195Z"
   },
   {
    "duration": 12,
    "start_time": "2021-06-30T22:18:58.704Z"
   },
   {
    "duration": 14,
    "start_time": "2021-06-30T22:22:34.597Z"
   },
   {
    "duration": 818,
    "start_time": "2021-07-01T20:17:12.643Z"
   },
   {
    "duration": 20,
    "start_time": "2021-07-01T20:17:13.463Z"
   },
   {
    "duration": 7,
    "start_time": "2021-07-01T20:17:13.486Z"
   },
   {
    "duration": 10,
    "start_time": "2021-07-01T20:17:13.497Z"
   },
   {
    "duration": 9,
    "start_time": "2021-07-01T20:17:13.509Z"
   },
   {
    "duration": 48,
    "start_time": "2021-07-01T20:17:13.520Z"
   },
   {
    "duration": 16,
    "start_time": "2021-07-01T20:17:13.570Z"
   },
   {
    "duration": 17,
    "start_time": "2021-07-01T20:17:13.588Z"
   },
   {
    "duration": 9,
    "start_time": "2021-07-01T20:17:13.609Z"
   },
   {
    "duration": 44,
    "start_time": "2021-07-01T20:17:13.620Z"
   },
   {
    "duration": 19,
    "start_time": "2021-07-01T20:17:13.667Z"
   },
   {
    "duration": 13,
    "start_time": "2021-07-01T20:17:13.689Z"
   },
   {
    "duration": 6,
    "start_time": "2021-07-01T20:17:13.704Z"
   },
   {
    "duration": 10,
    "start_time": "2021-07-01T20:28:00.828Z"
   },
   {
    "duration": 812,
    "start_time": "2021-07-01T20:43:48.418Z"
   },
   {
    "duration": 31,
    "start_time": "2021-07-01T20:43:49.233Z"
   },
   {
    "duration": 7,
    "start_time": "2021-07-01T20:43:49.267Z"
   },
   {
    "duration": 14,
    "start_time": "2021-07-01T20:43:49.276Z"
   },
   {
    "duration": 13,
    "start_time": "2021-07-01T20:43:49.292Z"
   },
   {
    "duration": 16,
    "start_time": "2021-07-01T20:43:49.307Z"
   },
   {
    "duration": 43,
    "start_time": "2021-07-01T20:43:49.325Z"
   },
   {
    "duration": 17,
    "start_time": "2021-07-01T20:43:49.372Z"
   },
   {
    "duration": 13,
    "start_time": "2021-07-01T20:43:49.391Z"
   },
   {
    "duration": 22,
    "start_time": "2021-07-01T20:43:49.406Z"
   },
   {
    "duration": 41,
    "start_time": "2021-07-01T20:43:49.430Z"
   },
   {
    "duration": 11,
    "start_time": "2021-07-01T20:43:49.474Z"
   },
   {
    "duration": 10,
    "start_time": "2021-07-01T20:43:49.487Z"
   },
   {
    "duration": 7,
    "start_time": "2021-07-01T20:46:43.336Z"
   },
   {
    "duration": 6,
    "start_time": "2021-07-01T20:47:31.671Z"
   },
   {
    "duration": 334,
    "start_time": "2021-07-01T20:49:26.065Z"
   },
   {
    "duration": 266,
    "start_time": "2021-07-01T20:49:34.627Z"
   },
   {
    "duration": 10,
    "start_time": "2021-07-01T20:50:22.653Z"
   },
   {
    "duration": 14,
    "start_time": "2021-07-01T20:50:38.477Z"
   },
   {
    "duration": 267,
    "start_time": "2021-07-01T20:51:34.961Z"
   },
   {
    "duration": 265,
    "start_time": "2021-07-01T20:51:54.247Z"
   },
   {
    "duration": 4,
    "start_time": "2021-07-01T20:51:57.728Z"
   },
   {
    "duration": 8,
    "start_time": "2021-07-01T20:52:00.074Z"
   },
   {
    "duration": 9,
    "start_time": "2021-07-01T20:52:16.066Z"
   },
   {
    "duration": 5,
    "start_time": "2021-07-01T20:53:27.192Z"
   },
   {
    "duration": 6,
    "start_time": "2021-07-01T21:14:13.911Z"
   },
   {
    "duration": 27,
    "start_time": "2021-07-01T21:16:23.098Z"
   },
   {
    "duration": 6,
    "start_time": "2021-07-01T21:17:36.808Z"
   },
   {
    "duration": 25,
    "start_time": "2021-07-01T21:17:39.029Z"
   },
   {
    "duration": 8,
    "start_time": "2021-07-01T21:19:52.289Z"
   },
   {
    "duration": 31,
    "start_time": "2021-07-01T21:21:48.132Z"
   },
   {
    "duration": 19,
    "start_time": "2021-07-01T21:22:03.403Z"
   },
   {
    "duration": 22,
    "start_time": "2021-07-01T21:22:11.582Z"
   },
   {
    "duration": 20,
    "start_time": "2021-07-01T21:22:19.596Z"
   },
   {
    "duration": 18,
    "start_time": "2021-07-01T21:22:47.585Z"
   },
   {
    "duration": 18,
    "start_time": "2021-07-01T21:22:55.240Z"
   },
   {
    "duration": 13,
    "start_time": "2021-07-01T21:23:09.924Z"
   },
   {
    "duration": 20,
    "start_time": "2021-07-01T21:23:18.567Z"
   },
   {
    "duration": 10,
    "start_time": "2021-07-01T21:24:37.017Z"
   },
   {
    "duration": 11,
    "start_time": "2021-07-01T21:24:48.057Z"
   },
   {
    "duration": 8,
    "start_time": "2021-07-01T21:25:12.390Z"
   },
   {
    "duration": 11,
    "start_time": "2021-07-01T21:25:14.312Z"
   },
   {
    "duration": 18,
    "start_time": "2021-07-01T22:32:30.994Z"
   },
   {
    "duration": 14,
    "start_time": "2021-07-01T22:32:39.804Z"
   },
   {
    "duration": 48,
    "start_time": "2021-07-01T22:39:12.949Z"
   },
   {
    "duration": 20,
    "start_time": "2021-07-01T22:40:46.442Z"
   },
   {
    "duration": 25,
    "start_time": "2021-07-01T22:40:56.279Z"
   },
   {
    "duration": 284,
    "start_time": "2021-07-01T22:43:50.960Z"
   },
   {
    "duration": 23,
    "start_time": "2021-07-01T22:43:59.501Z"
   },
   {
    "duration": 10,
    "start_time": "2021-07-01T22:45:32.977Z"
   },
   {
    "duration": 8,
    "start_time": "2021-07-01T22:49:10.416Z"
   },
   {
    "duration": 10,
    "start_time": "2021-07-01T22:51:51.161Z"
   },
   {
    "duration": 17,
    "start_time": "2021-07-01T22:53:15.571Z"
   },
   {
    "duration": 10,
    "start_time": "2021-07-01T23:02:24.928Z"
   },
   {
    "duration": 385,
    "start_time": "2021-07-02T23:08:43.150Z"
   },
   {
    "duration": 888,
    "start_time": "2021-07-02T23:08:59.577Z"
   },
   {
    "duration": 22,
    "start_time": "2021-07-02T23:09:00.468Z"
   },
   {
    "duration": 7,
    "start_time": "2021-07-02T23:09:00.494Z"
   },
   {
    "duration": 8,
    "start_time": "2021-07-02T23:09:00.504Z"
   },
   {
    "duration": 8,
    "start_time": "2021-07-02T23:09:00.515Z"
   },
   {
    "duration": 56,
    "start_time": "2021-07-02T23:09:00.525Z"
   },
   {
    "duration": 34,
    "start_time": "2021-07-02T23:09:00.584Z"
   },
   {
    "duration": 18,
    "start_time": "2021-07-02T23:09:00.621Z"
   },
   {
    "duration": 27,
    "start_time": "2021-07-02T23:09:00.643Z"
   },
   {
    "duration": 19,
    "start_time": "2021-07-02T23:09:00.672Z"
   },
   {
    "duration": 24,
    "start_time": "2021-07-02T23:09:00.694Z"
   },
   {
    "duration": 18,
    "start_time": "2021-07-02T23:09:00.721Z"
   },
   {
    "duration": 27,
    "start_time": "2021-07-02T23:09:00.741Z"
   },
   {
    "duration": 16,
    "start_time": "2021-07-02T23:09:00.771Z"
   },
   {
    "duration": 37,
    "start_time": "2021-07-02T23:09:00.790Z"
   },
   {
    "duration": 7,
    "start_time": "2021-07-02T23:09:00.829Z"
   },
   {
    "duration": 36,
    "start_time": "2021-07-02T23:09:00.838Z"
   },
   {
    "duration": 36,
    "start_time": "2021-07-02T23:09:00.876Z"
   },
   {
    "duration": 15,
    "start_time": "2021-07-02T23:09:00.915Z"
   },
   {
    "duration": 19,
    "start_time": "2021-07-02T23:09:00.932Z"
   },
   {
    "duration": 35,
    "start_time": "2021-07-02T23:09:00.954Z"
   },
   {
    "duration": 9,
    "start_time": "2021-07-02T23:09:00.991Z"
   },
   {
    "duration": 22,
    "start_time": "2021-07-02T23:09:01.004Z"
   },
   {
    "duration": 396,
    "start_time": "2021-07-02T23:44:06.803Z"
   },
   {
    "duration": 27,
    "start_time": "2021-07-02T23:44:15.429Z"
   },
   {
    "duration": 51,
    "start_time": "2021-07-02T23:49:28.086Z"
   },
   {
    "duration": 43,
    "start_time": "2021-07-02T23:49:47.256Z"
   },
   {
    "duration": 9,
    "start_time": "2021-07-02T23:54:03.452Z"
   },
   {
    "duration": 860,
    "start_time": "2021-07-03T11:23:02.525Z"
   },
   {
    "duration": 31,
    "start_time": "2021-07-03T11:23:03.388Z"
   },
   {
    "duration": 7,
    "start_time": "2021-07-03T11:23:03.422Z"
   },
   {
    "duration": 17,
    "start_time": "2021-07-03T11:23:03.432Z"
   },
   {
    "duration": 11,
    "start_time": "2021-07-03T11:23:03.451Z"
   },
   {
    "duration": 37,
    "start_time": "2021-07-03T11:23:03.465Z"
   },
   {
    "duration": 20,
    "start_time": "2021-07-03T11:23:03.505Z"
   },
   {
    "duration": 19,
    "start_time": "2021-07-03T11:23:03.529Z"
   },
   {
    "duration": 12,
    "start_time": "2021-07-03T11:23:03.551Z"
   },
   {
    "duration": 53,
    "start_time": "2021-07-03T11:23:03.566Z"
   },
   {
    "duration": 20,
    "start_time": "2021-07-03T11:23:03.622Z"
   },
   {
    "duration": 12,
    "start_time": "2021-07-03T11:23:03.645Z"
   },
   {
    "duration": 44,
    "start_time": "2021-07-03T11:23:03.659Z"
   },
   {
    "duration": 17,
    "start_time": "2021-07-03T11:23:03.706Z"
   },
   {
    "duration": 25,
    "start_time": "2021-07-03T11:23:03.726Z"
   },
   {
    "duration": 7,
    "start_time": "2021-07-03T11:23:03.754Z"
   },
   {
    "duration": 9,
    "start_time": "2021-07-03T11:23:03.763Z"
   },
   {
    "duration": 52,
    "start_time": "2021-07-03T11:23:03.775Z"
   },
   {
    "duration": 11,
    "start_time": "2021-07-03T11:23:03.830Z"
   },
   {
    "duration": 12,
    "start_time": "2021-07-03T11:23:03.844Z"
   },
   {
    "duration": 24,
    "start_time": "2021-07-03T11:23:03.901Z"
   },
   {
    "duration": 9,
    "start_time": "2021-07-03T11:23:03.928Z"
   },
   {
    "duration": 74,
    "start_time": "2021-07-03T11:23:03.942Z"
   },
   {
    "duration": 112,
    "start_time": "2021-07-03T11:23:04.019Z"
   },
   {
    "duration": 409,
    "start_time": "2021-07-03T11:24:46.176Z"
   },
   {
    "duration": 924,
    "start_time": "2021-07-03T11:25:25.612Z"
   },
   {
    "duration": 970,
    "start_time": "2021-07-03T11:25:38.794Z"
   },
   {
    "duration": 5,
    "start_time": "2021-07-03T11:34:07.373Z"
   },
   {
    "duration": 4718,
    "start_time": "2021-07-03T11:35:38.313Z"
   },
   {
    "duration": 3896,
    "start_time": "2021-07-03T11:35:56.693Z"
   },
   {
    "duration": 118,
    "start_time": "2021-07-03T11:36:45.756Z"
   },
   {
    "duration": 4087,
    "start_time": "2021-07-03T11:36:52.930Z"
   },
   {
    "duration": 4055,
    "start_time": "2021-07-03T12:03:34.368Z"
   },
   {
    "duration": 4576,
    "start_time": "2021-07-03T12:04:18.857Z"
   },
   {
    "duration": 10,
    "start_time": "2021-07-03T12:05:22.559Z"
   },
   {
    "duration": 6,
    "start_time": "2021-07-03T12:05:33.790Z"
   },
   {
    "duration": 4095,
    "start_time": "2021-07-03T12:11:00.731Z"
   },
   {
    "duration": 3838,
    "start_time": "2021-07-03T12:19:20.366Z"
   },
   {
    "duration": 254,
    "start_time": "2021-07-03T12:20:03.622Z"
   },
   {
    "duration": 87,
    "start_time": "2021-07-03T12:20:38.377Z"
   },
   {
    "duration": 3556,
    "start_time": "2021-07-03T12:20:46.802Z"
   },
   {
    "duration": 3521,
    "start_time": "2021-07-03T12:29:45.041Z"
   },
   {
    "duration": 3491,
    "start_time": "2021-07-03T12:32:55.622Z"
   },
   {
    "duration": 3613,
    "start_time": "2021-07-03T12:34:06.960Z"
   },
   {
    "duration": 3492,
    "start_time": "2021-07-03T12:35:03.423Z"
   },
   {
    "duration": 3600,
    "start_time": "2021-07-03T12:35:16.590Z"
   },
   {
    "duration": 3707,
    "start_time": "2021-07-03T12:36:07.037Z"
   },
   {
    "duration": 3551,
    "start_time": "2021-07-03T12:37:52.555Z"
   },
   {
    "duration": 3538,
    "start_time": "2021-07-03T12:38:05.037Z"
   },
   {
    "duration": 4067,
    "start_time": "2021-07-03T12:38:16.873Z"
   },
   {
    "duration": 3836,
    "start_time": "2021-07-03T12:39:48.629Z"
   },
   {
    "duration": 4187,
    "start_time": "2021-07-03T12:40:32.057Z"
   },
   {
    "duration": 4016,
    "start_time": "2021-07-03T12:41:02.844Z"
   },
   {
    "duration": 3845,
    "start_time": "2021-07-03T12:42:55.695Z"
   },
   {
    "duration": 3514,
    "start_time": "2021-07-03T12:43:24.212Z"
   },
   {
    "duration": 3478,
    "start_time": "2021-07-03T12:45:02.488Z"
   },
   {
    "duration": 793,
    "start_time": "2021-07-03T12:45:15.234Z"
   },
   {
    "duration": 18,
    "start_time": "2021-07-03T12:45:16.030Z"
   },
   {
    "duration": 9,
    "start_time": "2021-07-03T12:45:16.052Z"
   },
   {
    "duration": 7,
    "start_time": "2021-07-03T12:45:16.064Z"
   },
   {
    "duration": 29,
    "start_time": "2021-07-03T12:45:16.073Z"
   },
   {
    "duration": 15,
    "start_time": "2021-07-03T12:45:16.104Z"
   },
   {
    "duration": 16,
    "start_time": "2021-07-03T12:45:16.121Z"
   },
   {
    "duration": 16,
    "start_time": "2021-07-03T12:45:16.141Z"
   },
   {
    "duration": 44,
    "start_time": "2021-07-03T12:45:16.161Z"
   },
   {
    "duration": 23,
    "start_time": "2021-07-03T12:45:16.208Z"
   },
   {
    "duration": 18,
    "start_time": "2021-07-03T12:45:16.235Z"
   },
   {
    "duration": 10,
    "start_time": "2021-07-03T12:45:16.256Z"
   },
   {
    "duration": 5,
    "start_time": "2021-07-03T12:45:16.301Z"
   },
   {
    "duration": 8,
    "start_time": "2021-07-03T12:45:16.308Z"
   },
   {
    "duration": 26,
    "start_time": "2021-07-03T12:45:16.318Z"
   },
   {
    "duration": 7,
    "start_time": "2021-07-03T12:45:16.347Z"
   },
   {
    "duration": 51,
    "start_time": "2021-07-03T12:45:16.357Z"
   },
   {
    "duration": 24,
    "start_time": "2021-07-03T12:45:16.410Z"
   },
   {
    "duration": 9,
    "start_time": "2021-07-03T12:45:16.437Z"
   },
   {
    "duration": 18,
    "start_time": "2021-07-03T12:45:16.448Z"
   },
   {
    "duration": 46,
    "start_time": "2021-07-03T12:45:16.468Z"
   },
   {
    "duration": 8,
    "start_time": "2021-07-03T12:45:16.517Z"
   },
   {
    "duration": 70,
    "start_time": "2021-07-03T12:45:16.530Z"
   },
   {
    "duration": 10,
    "start_time": "2021-07-03T12:45:16.603Z"
   },
   {
    "duration": 4436,
    "start_time": "2021-07-03T12:45:16.616Z"
   },
   {
    "duration": 6,
    "start_time": "2021-07-03T12:45:21.054Z"
   },
   {
    "duration": 3467,
    "start_time": "2021-07-03T12:45:53.035Z"
   },
   {
    "duration": 3919,
    "start_time": "2021-07-03T12:46:49.762Z"
   },
   {
    "duration": 3778,
    "start_time": "2021-07-03T12:47:48.602Z"
   },
   {
    "duration": 3952,
    "start_time": "2021-07-03T12:51:03.856Z"
   },
   {
    "duration": 5,
    "start_time": "2021-07-03T12:51:15.950Z"
   },
   {
    "duration": 3784,
    "start_time": "2021-07-03T12:51:19.521Z"
   },
   {
    "duration": 3,
    "start_time": "2021-07-03T12:52:13.186Z"
   },
   {
    "duration": 936,
    "start_time": "2021-07-03T12:52:20.711Z"
   },
   {
    "duration": 18,
    "start_time": "2021-07-03T12:52:21.650Z"
   },
   {
    "duration": 32,
    "start_time": "2021-07-03T12:52:21.671Z"
   },
   {
    "duration": 8,
    "start_time": "2021-07-03T12:52:21.705Z"
   },
   {
    "duration": 5,
    "start_time": "2021-07-03T12:52:21.716Z"
   },
   {
    "duration": 17,
    "start_time": "2021-07-03T12:52:21.723Z"
   },
   {
    "duration": 19,
    "start_time": "2021-07-03T12:52:21.742Z"
   },
   {
    "duration": 21,
    "start_time": "2021-07-03T12:52:21.802Z"
   },
   {
    "duration": 14,
    "start_time": "2021-07-03T12:52:21.828Z"
   },
   {
    "duration": 23,
    "start_time": "2021-07-03T12:52:21.845Z"
   },
   {
    "duration": 49,
    "start_time": "2021-07-03T12:52:21.871Z"
   },
   {
    "duration": 17,
    "start_time": "2021-07-03T12:52:21.922Z"
   },
   {
    "duration": 4,
    "start_time": "2021-07-03T12:52:21.942Z"
   },
   {
    "duration": 14,
    "start_time": "2021-07-03T12:52:21.949Z"
   },
   {
    "duration": 68,
    "start_time": "2021-07-03T12:52:21.966Z"
   },
   {
    "duration": 10,
    "start_time": "2021-07-03T12:52:22.037Z"
   },
   {
    "duration": 19,
    "start_time": "2021-07-03T12:52:22.050Z"
   },
   {
    "duration": 56,
    "start_time": "2021-07-03T12:52:22.071Z"
   },
   {
    "duration": 10,
    "start_time": "2021-07-03T12:52:22.129Z"
   },
   {
    "duration": 14,
    "start_time": "2021-07-03T12:52:22.142Z"
   },
   {
    "duration": 62,
    "start_time": "2021-07-03T12:52:22.159Z"
   },
   {
    "duration": 23,
    "start_time": "2021-07-03T12:52:22.224Z"
   },
   {
    "duration": 70,
    "start_time": "2021-07-03T12:52:22.253Z"
   },
   {
    "duration": 6,
    "start_time": "2021-07-03T12:52:22.326Z"
   },
   {
    "duration": 5135,
    "start_time": "2021-07-03T12:52:22.334Z"
   },
   {
    "duration": 3,
    "start_time": "2021-07-03T12:52:27.472Z"
   },
   {
    "duration": 63,
    "start_time": "2021-07-03T12:53:15.783Z"
   },
   {
    "duration": 55,
    "start_time": "2021-07-03T12:54:55.827Z"
   },
   {
    "duration": 96,
    "start_time": "2021-07-03T12:58:24.020Z"
   },
   {
    "duration": 60,
    "start_time": "2021-07-03T12:58:42.142Z"
   },
   {
    "duration": 54,
    "start_time": "2021-07-03T12:59:43.617Z"
   },
   {
    "duration": 54,
    "start_time": "2021-07-03T12:59:49.855Z"
   },
   {
    "duration": 57,
    "start_time": "2021-07-03T13:00:36.135Z"
   },
   {
    "duration": 1381,
    "start_time": "2021-07-03T13:01:10.111Z"
   },
   {
    "duration": 56,
    "start_time": "2021-07-03T13:01:22.532Z"
   },
   {
    "duration": 56,
    "start_time": "2021-07-03T13:01:32.976Z"
   },
   {
    "duration": 3839,
    "start_time": "2021-07-03T13:01:45.970Z"
   },
   {
    "duration": 809,
    "start_time": "2021-07-03T13:02:40.630Z"
   },
   {
    "duration": 20,
    "start_time": "2021-07-03T13:02:41.441Z"
   },
   {
    "duration": 9,
    "start_time": "2021-07-03T13:02:41.464Z"
   },
   {
    "duration": 30,
    "start_time": "2021-07-03T13:02:41.476Z"
   },
   {
    "duration": 5,
    "start_time": "2021-07-03T13:02:41.509Z"
   },
   {
    "duration": 17,
    "start_time": "2021-07-03T13:02:41.516Z"
   },
   {
    "duration": 17,
    "start_time": "2021-07-03T13:02:41.536Z"
   },
   {
    "duration": 50,
    "start_time": "2021-07-03T13:02:41.557Z"
   },
   {
    "duration": 11,
    "start_time": "2021-07-03T13:02:41.610Z"
   },
   {
    "duration": 17,
    "start_time": "2021-07-03T13:02:41.624Z"
   },
   {
    "duration": 19,
    "start_time": "2021-07-03T13:02:41.644Z"
   },
   {
    "duration": 43,
    "start_time": "2021-07-03T13:02:41.665Z"
   },
   {
    "duration": 4,
    "start_time": "2021-07-03T13:02:41.711Z"
   },
   {
    "duration": 12,
    "start_time": "2021-07-03T13:02:41.717Z"
   },
   {
    "duration": 33,
    "start_time": "2021-07-03T13:02:41.731Z"
   },
   {
    "duration": 35,
    "start_time": "2021-07-03T13:02:41.767Z"
   },
   {
    "duration": 10,
    "start_time": "2021-07-03T13:02:41.805Z"
   },
   {
    "duration": 29,
    "start_time": "2021-07-03T13:02:41.817Z"
   },
   {
    "duration": 13,
    "start_time": "2021-07-03T13:02:41.848Z"
   },
   {
    "duration": 40,
    "start_time": "2021-07-03T13:02:41.863Z"
   },
   {
    "duration": 27,
    "start_time": "2021-07-03T13:02:41.905Z"
   },
   {
    "duration": 9,
    "start_time": "2021-07-03T13:02:41.935Z"
   },
   {
    "duration": 73,
    "start_time": "2021-07-03T13:02:41.948Z"
   },
   {
    "duration": 9,
    "start_time": "2021-07-03T13:02:42.024Z"
   },
   {
    "duration": 4500,
    "start_time": "2021-07-03T13:02:42.036Z"
   },
   {
    "duration": 69,
    "start_time": "2021-07-03T13:02:46.539Z"
   },
   {
    "duration": 3873,
    "start_time": "2021-07-03T13:03:28.323Z"
   },
   {
    "duration": 332,
    "start_time": "2021-07-03T13:04:15.012Z"
   },
   {
    "duration": 474,
    "start_time": "2021-07-03T13:04:14.874Z"
   },
   {
    "duration": 853,
    "start_time": "2021-07-03T13:04:31.574Z"
   },
   {
    "duration": 19,
    "start_time": "2021-07-03T13:04:32.430Z"
   },
   {
    "duration": 14,
    "start_time": "2021-07-03T13:04:32.453Z"
   },
   {
    "duration": 12,
    "start_time": "2021-07-03T13:04:32.470Z"
   },
   {
    "duration": 20,
    "start_time": "2021-07-03T13:04:32.484Z"
   },
   {
    "duration": 20,
    "start_time": "2021-07-03T13:04:32.506Z"
   },
   {
    "duration": 17,
    "start_time": "2021-07-03T13:04:32.529Z"
   },
   {
    "duration": 17,
    "start_time": "2021-07-03T13:04:32.548Z"
   },
   {
    "duration": 8,
    "start_time": "2021-07-03T13:04:32.601Z"
   },
   {
    "duration": 20,
    "start_time": "2021-07-03T13:04:32.612Z"
   },
   {
    "duration": 22,
    "start_time": "2021-07-03T13:04:32.635Z"
   },
   {
    "duration": 43,
    "start_time": "2021-07-03T13:04:32.659Z"
   },
   {
    "duration": 4,
    "start_time": "2021-07-03T13:04:32.704Z"
   },
   {
    "duration": 14,
    "start_time": "2021-07-03T13:04:32.711Z"
   },
   {
    "duration": 28,
    "start_time": "2021-07-03T13:04:32.728Z"
   },
   {
    "duration": 8,
    "start_time": "2021-07-03T13:04:32.758Z"
   },
   {
    "duration": 39,
    "start_time": "2021-07-03T13:04:32.769Z"
   },
   {
    "duration": 29,
    "start_time": "2021-07-03T13:04:32.810Z"
   },
   {
    "duration": 9,
    "start_time": "2021-07-03T13:04:32.841Z"
   },
   {
    "duration": 15,
    "start_time": "2021-07-03T13:04:32.852Z"
   },
   {
    "duration": 47,
    "start_time": "2021-07-03T13:04:32.870Z"
   },
   {
    "duration": 10,
    "start_time": "2021-07-03T13:04:32.920Z"
   },
   {
    "duration": 72,
    "start_time": "2021-07-03T13:04:32.932Z"
   },
   {
    "duration": 12,
    "start_time": "2021-07-03T13:04:33.006Z"
   },
   {
    "duration": 4545,
    "start_time": "2021-07-03T13:04:37.957Z"
   },
   {
    "duration": 71,
    "start_time": "2021-07-03T13:23:50.305Z"
   },
   {
    "duration": 61,
    "start_time": "2021-07-03T13:24:08.190Z"
   },
   {
    "duration": 4203,
    "start_time": "2021-07-03T13:24:26.986Z"
   },
   {
    "duration": 3,
    "start_time": "2021-07-03T13:25:28.199Z"
   },
   {
    "duration": 4263,
    "start_time": "2021-07-03T13:25:31.149Z"
   },
   {
    "duration": 964,
    "start_time": "2021-07-03T13:32:32.638Z"
   },
   {
    "duration": 19,
    "start_time": "2021-07-03T13:32:33.605Z"
   },
   {
    "duration": 10,
    "start_time": "2021-07-03T13:32:33.629Z"
   },
   {
    "duration": 9,
    "start_time": "2021-07-03T13:32:33.642Z"
   },
   {
    "duration": 7,
    "start_time": "2021-07-03T13:32:33.653Z"
   },
   {
    "duration": 59,
    "start_time": "2021-07-03T13:32:33.662Z"
   },
   {
    "duration": 26,
    "start_time": "2021-07-03T13:32:33.724Z"
   },
   {
    "duration": 50,
    "start_time": "2021-07-03T13:32:33.756Z"
   },
   {
    "duration": 12,
    "start_time": "2021-07-03T13:32:33.811Z"
   },
   {
    "duration": 19,
    "start_time": "2021-07-03T13:32:33.825Z"
   },
   {
    "duration": 57,
    "start_time": "2021-07-03T13:32:33.847Z"
   },
   {
    "duration": 19,
    "start_time": "2021-07-03T13:32:33.908Z"
   },
   {
    "duration": 6,
    "start_time": "2021-07-03T13:32:33.931Z"
   },
   {
    "duration": 7,
    "start_time": "2021-07-03T13:32:33.941Z"
   },
   {
    "duration": 66,
    "start_time": "2021-07-03T13:32:33.950Z"
   },
   {
    "duration": 8,
    "start_time": "2021-07-03T13:32:34.020Z"
   },
   {
    "duration": 10,
    "start_time": "2021-07-03T13:32:34.031Z"
   },
   {
    "duration": 25,
    "start_time": "2021-07-03T13:32:34.043Z"
   },
   {
    "duration": 42,
    "start_time": "2021-07-03T13:32:34.070Z"
   },
   {
    "duration": 13,
    "start_time": "2021-07-03T13:32:34.116Z"
   },
   {
    "duration": 24,
    "start_time": "2021-07-03T13:32:34.131Z"
   },
   {
    "duration": 18,
    "start_time": "2021-07-03T13:32:34.158Z"
   },
   {
    "duration": 51,
    "start_time": "2021-07-03T13:32:34.204Z"
   },
   {
    "duration": 9,
    "start_time": "2021-07-03T13:32:34.258Z"
   },
   {
    "duration": 4940,
    "start_time": "2021-07-03T13:32:34.270Z"
   },
   {
    "duration": 1473,
    "start_time": "2021-07-03T13:32:43.314Z"
   },
   {
    "duration": 2145,
    "start_time": "2021-07-03T13:35:08.110Z"
   },
   {
    "duration": 4144,
    "start_time": "2021-07-03T13:35:54.479Z"
   },
   {
    "duration": 4307,
    "start_time": "2021-07-03T13:42:41.822Z"
   },
   {
    "duration": 4439,
    "start_time": "2021-07-03T13:43:00.181Z"
   },
   {
    "duration": 4293,
    "start_time": "2021-07-03T13:43:21.256Z"
   },
   {
    "duration": 4078,
    "start_time": "2021-07-03T13:44:45.979Z"
   },
   {
    "duration": 4874,
    "start_time": "2021-07-03T13:44:57.213Z"
   },
   {
    "duration": 4026,
    "start_time": "2021-07-03T13:45:40.525Z"
   },
   {
    "duration": 4143,
    "start_time": "2021-07-03T13:45:57.872Z"
   },
   {
    "duration": 4238,
    "start_time": "2021-07-03T13:46:14.561Z"
   },
   {
    "duration": 3862,
    "start_time": "2021-07-03T13:46:33.786Z"
   },
   {
    "duration": 4268,
    "start_time": "2021-07-03T13:56:50.550Z"
   },
   {
    "duration": 4329,
    "start_time": "2021-07-03T13:58:19.697Z"
   },
   {
    "duration": 3881,
    "start_time": "2021-07-03T13:58:42.342Z"
   },
   {
    "duration": 3952,
    "start_time": "2021-07-03T14:09:16.523Z"
   },
   {
    "duration": 3916,
    "start_time": "2021-07-03T14:09:43.020Z"
   },
   {
    "duration": 10,
    "start_time": "2021-07-03T14:12:59.807Z"
   },
   {
    "duration": 4131,
    "start_time": "2021-07-03T14:30:50.537Z"
   },
   {
    "duration": 3928,
    "start_time": "2021-07-03T14:31:24.041Z"
   },
   {
    "duration": 3996,
    "start_time": "2021-07-03T14:33:28.136Z"
   },
   {
    "duration": 3989,
    "start_time": "2021-07-03T14:34:36.630Z"
   },
   {
    "duration": 4250,
    "start_time": "2021-07-03T14:47:00.277Z"
   },
   {
    "duration": 4195,
    "start_time": "2021-07-03T14:48:22.878Z"
   },
   {
    "duration": 4456,
    "start_time": "2021-07-03T14:48:51.083Z"
   },
   {
    "duration": 3609,
    "start_time": "2021-07-03T14:50:18.738Z"
   },
   {
    "duration": 3945,
    "start_time": "2021-07-03T14:51:29.095Z"
   },
   {
    "duration": 7806,
    "start_time": "2021-07-03T14:59:58.760Z"
   },
   {
    "duration": 8272,
    "start_time": "2021-07-03T15:03:05.431Z"
   },
   {
    "duration": 6650,
    "start_time": "2021-07-03T15:04:39.919Z"
   },
   {
    "duration": 4568,
    "start_time": "2021-07-03T15:04:56.249Z"
   },
   {
    "duration": 1971,
    "start_time": "2021-07-03T15:05:40.220Z"
   },
   {
    "duration": 12,
    "start_time": "2021-07-03T15:06:03.841Z"
   },
   {
    "duration": 2191,
    "start_time": "2021-07-03T15:06:29.449Z"
   },
   {
    "duration": 817,
    "start_time": "2021-07-03T15:06:56.249Z"
   },
   {
    "duration": 36,
    "start_time": "2021-07-03T15:06:57.070Z"
   },
   {
    "duration": 7,
    "start_time": "2021-07-03T15:06:57.111Z"
   },
   {
    "duration": 8,
    "start_time": "2021-07-03T15:06:57.122Z"
   },
   {
    "duration": 5,
    "start_time": "2021-07-03T15:06:57.132Z"
   },
   {
    "duration": 23,
    "start_time": "2021-07-03T15:06:57.140Z"
   },
   {
    "duration": 25,
    "start_time": "2021-07-03T15:06:57.202Z"
   },
   {
    "duration": 25,
    "start_time": "2021-07-03T15:06:57.230Z"
   },
   {
    "duration": 41,
    "start_time": "2021-07-03T15:06:57.260Z"
   },
   {
    "duration": 17,
    "start_time": "2021-07-03T15:06:57.304Z"
   },
   {
    "duration": 20,
    "start_time": "2021-07-03T15:06:57.324Z"
   },
   {
    "duration": 12,
    "start_time": "2021-07-03T15:06:57.347Z"
   },
   {
    "duration": 39,
    "start_time": "2021-07-03T15:06:57.362Z"
   },
   {
    "duration": 13,
    "start_time": "2021-07-03T15:06:57.403Z"
   },
   {
    "duration": 26,
    "start_time": "2021-07-03T15:06:57.419Z"
   },
   {
    "duration": 7,
    "start_time": "2021-07-03T15:06:57.448Z"
   },
   {
    "duration": 46,
    "start_time": "2021-07-03T15:06:57.457Z"
   },
   {
    "duration": 27,
    "start_time": "2021-07-03T15:06:57.505Z"
   },
   {
    "duration": 14,
    "start_time": "2021-07-03T15:06:57.535Z"
   },
   {
    "duration": 12,
    "start_time": "2021-07-03T15:06:57.551Z"
   },
   {
    "duration": 52,
    "start_time": "2021-07-03T15:06:57.565Z"
   },
   {
    "duration": 10,
    "start_time": "2021-07-03T15:06:57.620Z"
   },
   {
    "duration": 32,
    "start_time": "2021-07-03T15:06:57.632Z"
   },
   {
    "duration": 4519,
    "start_time": "2021-07-03T15:06:57.666Z"
   },
   {
    "duration": 1964,
    "start_time": "2021-07-03T15:07:09.974Z"
   },
   {
    "duration": 874,
    "start_time": "2021-07-03T15:08:23.763Z"
   },
   {
    "duration": 19,
    "start_time": "2021-07-03T15:08:24.640Z"
   },
   {
    "duration": 7,
    "start_time": "2021-07-03T15:08:24.663Z"
   },
   {
    "duration": 28,
    "start_time": "2021-07-03T15:08:24.673Z"
   },
   {
    "duration": 7,
    "start_time": "2021-07-03T15:08:24.704Z"
   },
   {
    "duration": 19,
    "start_time": "2021-07-03T15:08:24.714Z"
   },
   {
    "duration": 18,
    "start_time": "2021-07-03T15:08:24.736Z"
   },
   {
    "duration": 55,
    "start_time": "2021-07-03T15:08:24.760Z"
   },
   {
    "duration": 9,
    "start_time": "2021-07-03T15:08:24.818Z"
   },
   {
    "duration": 17,
    "start_time": "2021-07-03T15:08:24.830Z"
   },
   {
    "duration": 64,
    "start_time": "2021-07-03T15:08:24.850Z"
   },
   {
    "duration": 10,
    "start_time": "2021-07-03T15:08:24.916Z"
   },
   {
    "duration": 4,
    "start_time": "2021-07-03T15:08:24.929Z"
   },
   {
    "duration": 7,
    "start_time": "2021-07-03T15:08:24.935Z"
   },
   {
    "duration": 74,
    "start_time": "2021-07-03T15:08:24.944Z"
   },
   {
    "duration": 7,
    "start_time": "2021-07-03T15:08:25.020Z"
   },
   {
    "duration": 11,
    "start_time": "2021-07-03T15:08:25.030Z"
   },
   {
    "duration": 63,
    "start_time": "2021-07-03T15:08:25.043Z"
   },
   {
    "duration": 9,
    "start_time": "2021-07-03T15:08:25.108Z"
   },
   {
    "duration": 10,
    "start_time": "2021-07-03T15:08:25.119Z"
   },
   {
    "duration": 21,
    "start_time": "2021-07-03T15:08:25.133Z"
   },
   {
    "duration": 12,
    "start_time": "2021-07-03T15:08:25.200Z"
   },
   {
    "duration": 44,
    "start_time": "2021-07-03T15:08:25.215Z"
   },
   {
    "duration": 4823,
    "start_time": "2021-07-03T15:08:45.762Z"
   },
   {
    "duration": 4332,
    "start_time": "2021-07-03T15:08:53.794Z"
   },
   {
    "duration": 823,
    "start_time": "2021-07-03T16:50:41.312Z"
   },
   {
    "duration": 22,
    "start_time": "2021-07-03T16:50:42.138Z"
   },
   {
    "duration": 6,
    "start_time": "2021-07-03T16:50:42.164Z"
   },
   {
    "duration": 30,
    "start_time": "2021-07-03T16:50:42.174Z"
   },
   {
    "duration": 6,
    "start_time": "2021-07-03T16:50:42.207Z"
   },
   {
    "duration": 27,
    "start_time": "2021-07-03T16:50:42.216Z"
   },
   {
    "duration": 18,
    "start_time": "2021-07-03T16:50:42.245Z"
   },
   {
    "duration": 51,
    "start_time": "2021-07-03T16:50:42.265Z"
   },
   {
    "duration": 16,
    "start_time": "2021-07-03T16:50:42.322Z"
   },
   {
    "duration": 23,
    "start_time": "2021-07-03T16:50:42.342Z"
   },
   {
    "duration": 53,
    "start_time": "2021-07-03T16:50:42.368Z"
   },
   {
    "duration": 28,
    "start_time": "2021-07-03T16:50:42.424Z"
   },
   {
    "duration": 12,
    "start_time": "2021-07-03T16:50:42.455Z"
   },
   {
    "duration": 15,
    "start_time": "2021-07-03T16:50:42.470Z"
   },
   {
    "duration": 28,
    "start_time": "2021-07-03T16:50:42.487Z"
   },
   {
    "duration": 9,
    "start_time": "2021-07-03T16:50:42.518Z"
   },
   {
    "duration": 11,
    "start_time": "2021-07-03T16:50:42.530Z"
   },
   {
    "duration": 59,
    "start_time": "2021-07-03T16:50:42.544Z"
   },
   {
    "duration": 13,
    "start_time": "2021-07-03T16:50:42.606Z"
   },
   {
    "duration": 15,
    "start_time": "2021-07-03T16:50:42.622Z"
   },
   {
    "duration": 25,
    "start_time": "2021-07-03T16:50:42.641Z"
   },
   {
    "duration": 40,
    "start_time": "2021-07-03T16:50:42.669Z"
   },
   {
    "duration": 51,
    "start_time": "2021-07-03T16:50:42.712Z"
   },
   {
    "duration": 4737,
    "start_time": "2021-07-03T16:50:42.766Z"
   },
   {
    "duration": 4464,
    "start_time": "2021-07-03T16:51:14.311Z"
   },
   {
    "duration": 3531,
    "start_time": "2021-07-03T16:51:23.921Z"
   },
   {
    "duration": 25,
    "start_time": "2021-07-03T17:08:31.340Z"
   },
   {
    "duration": 25,
    "start_time": "2021-07-03T17:09:52.491Z"
   },
   {
    "duration": 28,
    "start_time": "2021-07-03T17:10:51.093Z"
   },
   {
    "duration": 39,
    "start_time": "2021-07-03T17:17:36.122Z"
   },
   {
    "duration": 36,
    "start_time": "2021-07-03T17:18:20.029Z"
   },
   {
    "duration": 24,
    "start_time": "2021-07-03T17:26:39.605Z"
   },
   {
    "duration": 294,
    "start_time": "2021-07-03T17:26:52.917Z"
   },
   {
    "duration": 20,
    "start_time": "2021-07-03T17:28:03.605Z"
   },
   {
    "duration": 36,
    "start_time": "2021-07-03T17:28:14.007Z"
   },
   {
    "duration": 849,
    "start_time": "2021-07-03T17:29:07.055Z"
   },
   {
    "duration": 19,
    "start_time": "2021-07-03T17:29:07.907Z"
   },
   {
    "duration": 13,
    "start_time": "2021-07-03T17:29:07.929Z"
   },
   {
    "duration": 9,
    "start_time": "2021-07-03T17:29:07.945Z"
   },
   {
    "duration": 7,
    "start_time": "2021-07-03T17:29:07.956Z"
   },
   {
    "duration": 43,
    "start_time": "2021-07-03T17:29:07.966Z"
   },
   {
    "duration": 22,
    "start_time": "2021-07-03T17:29:08.011Z"
   },
   {
    "duration": 18,
    "start_time": "2021-07-03T17:29:08.036Z"
   },
   {
    "duration": 9,
    "start_time": "2021-07-03T17:29:08.057Z"
   },
   {
    "duration": 50,
    "start_time": "2021-07-03T17:29:08.068Z"
   },
   {
    "duration": 27,
    "start_time": "2021-07-03T17:29:08.120Z"
   },
   {
    "duration": 12,
    "start_time": "2021-07-03T17:29:08.149Z"
   },
   {
    "duration": 4,
    "start_time": "2021-07-03T17:29:08.163Z"
   },
   {
    "duration": 33,
    "start_time": "2021-07-03T17:29:08.169Z"
   },
   {
    "duration": 25,
    "start_time": "2021-07-03T17:29:08.204Z"
   },
   {
    "duration": 15,
    "start_time": "2021-07-03T17:29:08.232Z"
   },
   {
    "duration": 11,
    "start_time": "2021-07-03T17:29:08.249Z"
   },
   {
    "duration": 55,
    "start_time": "2021-07-03T17:29:08.262Z"
   },
   {
    "duration": 10,
    "start_time": "2021-07-03T17:29:08.319Z"
   },
   {
    "duration": 13,
    "start_time": "2021-07-03T17:29:08.332Z"
   },
   {
    "duration": 53,
    "start_time": "2021-07-03T17:29:08.348Z"
   },
   {
    "duration": 10,
    "start_time": "2021-07-03T17:29:08.404Z"
   },
   {
    "duration": 44,
    "start_time": "2021-07-03T17:29:08.418Z"
   },
   {
    "duration": 4654,
    "start_time": "2021-07-03T17:29:08.464Z"
   },
   {
    "duration": 3556,
    "start_time": "2021-07-03T17:29:13.122Z"
   },
   {
    "duration": 39,
    "start_time": "2021-07-03T17:29:25.809Z"
   },
   {
    "duration": 44,
    "start_time": "2021-07-03T17:30:11.896Z"
   },
   {
    "duration": 402,
    "start_time": "2021-07-03T17:30:37.727Z"
   },
   {
    "duration": 843,
    "start_time": "2021-07-03T17:33:40.388Z"
   },
   {
    "duration": 21,
    "start_time": "2021-07-03T17:33:41.234Z"
   },
   {
    "duration": 7,
    "start_time": "2021-07-03T17:33:41.259Z"
   },
   {
    "duration": 36,
    "start_time": "2021-07-03T17:33:41.270Z"
   },
   {
    "duration": 8,
    "start_time": "2021-07-03T17:33:41.308Z"
   },
   {
    "duration": 17,
    "start_time": "2021-07-03T17:33:41.319Z"
   },
   {
    "duration": 20,
    "start_time": "2021-07-03T17:33:41.339Z"
   },
   {
    "duration": 17,
    "start_time": "2021-07-03T17:33:41.404Z"
   },
   {
    "duration": 12,
    "start_time": "2021-07-03T17:33:41.426Z"
   },
   {
    "duration": 20,
    "start_time": "2021-07-03T17:33:41.442Z"
   },
   {
    "duration": 19,
    "start_time": "2021-07-03T17:33:41.502Z"
   },
   {
    "duration": 11,
    "start_time": "2021-07-03T17:33:41.524Z"
   },
   {
    "duration": 4,
    "start_time": "2021-07-03T17:33:41.537Z"
   },
   {
    "duration": 7,
    "start_time": "2021-07-03T17:33:41.544Z"
   },
   {
    "duration": 68,
    "start_time": "2021-07-03T17:33:41.554Z"
   },
   {
    "duration": 18,
    "start_time": "2021-07-03T17:33:41.624Z"
   },
   {
    "duration": 15,
    "start_time": "2021-07-03T17:33:41.644Z"
   },
   {
    "duration": 40,
    "start_time": "2021-07-03T17:33:41.661Z"
   },
   {
    "duration": 10,
    "start_time": "2021-07-03T17:33:41.704Z"
   },
   {
    "duration": 15,
    "start_time": "2021-07-03T17:33:41.716Z"
   },
   {
    "duration": 21,
    "start_time": "2021-07-03T17:33:41.733Z"
   },
   {
    "duration": 9,
    "start_time": "2021-07-03T17:33:41.757Z"
   },
   {
    "duration": 53,
    "start_time": "2021-07-03T17:33:41.804Z"
   },
   {
    "duration": 4507,
    "start_time": "2021-07-03T17:33:41.861Z"
   },
   {
    "duration": 3574,
    "start_time": "2021-07-03T17:33:46.370Z"
   },
   {
    "duration": 22,
    "start_time": "2021-07-03T17:33:49.948Z"
   },
   {
    "duration": 35,
    "start_time": "2021-07-03T17:33:49.973Z"
   },
   {
    "duration": 19,
    "start_time": "2021-07-03T17:33:54.739Z"
   },
   {
    "duration": 17,
    "start_time": "2021-07-03T17:34:02.997Z"
   },
   {
    "duration": 23,
    "start_time": "2021-07-03T17:35:44.572Z"
   },
   {
    "duration": 22,
    "start_time": "2021-07-03T17:35:57.647Z"
   },
   {
    "duration": 22,
    "start_time": "2021-07-03T17:36:23.977Z"
   },
   {
    "duration": 382,
    "start_time": "2021-07-03T17:37:57.543Z"
   },
   {
    "duration": 311,
    "start_time": "2021-07-03T17:38:04.887Z"
   },
   {
    "duration": 32,
    "start_time": "2021-07-03T17:38:17.211Z"
   },
   {
    "duration": 317,
    "start_time": "2021-07-03T17:47:36.038Z"
   },
   {
    "duration": 277,
    "start_time": "2021-07-03T17:47:46.744Z"
   },
   {
    "duration": 24,
    "start_time": "2021-07-03T17:48:22.170Z"
   },
   {
    "duration": 32,
    "start_time": "2021-07-03T17:49:05.433Z"
   },
   {
    "duration": 293,
    "start_time": "2021-07-03T17:50:24.997Z"
   },
   {
    "duration": 203,
    "start_time": "2021-07-03T17:50:39.205Z"
   },
   {
    "duration": 286,
    "start_time": "2021-07-03T17:52:09.575Z"
   },
   {
    "duration": 31,
    "start_time": "2021-07-03T17:53:19.081Z"
   },
   {
    "duration": 270,
    "start_time": "2021-07-03T17:53:59.453Z"
   },
   {
    "duration": 32,
    "start_time": "2021-07-03T17:54:12.174Z"
   },
   {
    "duration": 27,
    "start_time": "2021-07-03T17:54:41.786Z"
   },
   {
    "duration": 31,
    "start_time": "2021-07-03T17:55:48.643Z"
   },
   {
    "duration": 32,
    "start_time": "2021-07-03T18:03:06.992Z"
   },
   {
    "duration": 315,
    "start_time": "2021-07-03T18:09:51.320Z"
   },
   {
    "duration": 6,
    "start_time": "2021-07-03T18:10:37.751Z"
   },
   {
    "duration": 8,
    "start_time": "2021-07-03T18:11:10.406Z"
   },
   {
    "duration": 7,
    "start_time": "2021-07-03T18:12:02.358Z"
   },
   {
    "duration": 4,
    "start_time": "2021-07-03T18:13:03.461Z"
   },
   {
    "duration": 6,
    "start_time": "2021-07-03T18:13:16.174Z"
   },
   {
    "duration": 27,
    "start_time": "2021-07-03T18:18:07.869Z"
   },
   {
    "duration": 34,
    "start_time": "2021-07-03T18:34:58.958Z"
   },
   {
    "duration": 28,
    "start_time": "2021-07-03T18:35:50.837Z"
   },
   {
    "duration": 415,
    "start_time": "2021-07-03T18:38:48.330Z"
   },
   {
    "duration": 6,
    "start_time": "2021-07-03T18:49:52.253Z"
   },
   {
    "duration": 7,
    "start_time": "2021-07-03T18:50:48.174Z"
   },
   {
    "duration": 6,
    "start_time": "2021-07-03T18:51:16.135Z"
   },
   {
    "duration": 7,
    "start_time": "2021-07-03T18:52:34.358Z"
   },
   {
    "duration": 5,
    "start_time": "2021-07-03T19:01:50.734Z"
   },
   {
    "duration": 7231,
    "start_time": "2021-07-03T19:02:51.632Z"
   },
   {
    "duration": 868,
    "start_time": "2021-07-03T19:03:20.280Z"
   },
   {
    "duration": 19,
    "start_time": "2021-07-03T19:03:21.151Z"
   },
   {
    "duration": 28,
    "start_time": "2021-07-03T19:03:21.173Z"
   },
   {
    "duration": 10,
    "start_time": "2021-07-03T19:03:21.205Z"
   },
   {
    "duration": 7,
    "start_time": "2021-07-03T19:03:21.218Z"
   },
   {
    "duration": 21,
    "start_time": "2021-07-03T19:03:21.227Z"
   },
   {
    "duration": 19,
    "start_time": "2021-07-03T19:03:21.251Z"
   },
   {
    "duration": 17,
    "start_time": "2021-07-03T19:03:21.303Z"
   },
   {
    "duration": 9,
    "start_time": "2021-07-03T19:03:21.323Z"
   },
   {
    "duration": 23,
    "start_time": "2021-07-03T19:03:21.334Z"
   },
   {
    "duration": 54,
    "start_time": "2021-07-03T19:03:21.360Z"
   },
   {
    "duration": 16,
    "start_time": "2021-07-03T19:03:21.417Z"
   },
   {
    "duration": 4,
    "start_time": "2021-07-03T19:03:21.435Z"
   },
   {
    "duration": 8,
    "start_time": "2021-07-03T19:03:21.441Z"
   },
   {
    "duration": 51,
    "start_time": "2021-07-03T19:03:21.451Z"
   },
   {
    "duration": 9,
    "start_time": "2021-07-03T19:03:21.504Z"
   },
   {
    "duration": 18,
    "start_time": "2021-07-03T19:03:21.515Z"
   },
   {
    "duration": 34,
    "start_time": "2021-07-03T19:03:21.536Z"
   },
   {
    "duration": 32,
    "start_time": "2021-07-03T19:03:21.573Z"
   },
   {
    "duration": 13,
    "start_time": "2021-07-03T19:03:21.608Z"
   },
   {
    "duration": 22,
    "start_time": "2021-07-03T19:03:21.624Z"
   },
   {
    "duration": 11,
    "start_time": "2021-07-03T19:03:21.649Z"
   },
   {
    "duration": 37,
    "start_time": "2021-07-03T19:03:21.664Z"
   },
   {
    "duration": 6939,
    "start_time": "2021-07-03T19:03:21.705Z"
   },
   {
    "duration": 1681,
    "start_time": "2021-07-03T19:03:26.965Z"
   },
   {
    "duration": 1675,
    "start_time": "2021-07-03T19:03:26.973Z"
   },
   {
    "duration": 1674,
    "start_time": "2021-07-03T19:03:26.975Z"
   },
   {
    "duration": 1674,
    "start_time": "2021-07-03T19:03:26.977Z"
   },
   {
    "duration": 1673,
    "start_time": "2021-07-03T19:03:26.979Z"
   },
   {
    "duration": 1673,
    "start_time": "2021-07-03T19:03:26.981Z"
   },
   {
    "duration": 1670,
    "start_time": "2021-07-03T19:03:26.985Z"
   },
   {
    "duration": 1670,
    "start_time": "2021-07-03T19:03:26.987Z"
   },
   {
    "duration": 1668,
    "start_time": "2021-07-03T19:03:26.990Z"
   },
   {
    "duration": 781,
    "start_time": "2021-07-03T19:05:34.446Z"
   },
   {
    "duration": 19,
    "start_time": "2021-07-03T19:05:35.230Z"
   },
   {
    "duration": 11,
    "start_time": "2021-07-03T19:05:35.252Z"
   },
   {
    "duration": 12,
    "start_time": "2021-07-03T19:05:35.265Z"
   },
   {
    "duration": 23,
    "start_time": "2021-07-03T19:05:35.279Z"
   },
   {
    "duration": 20,
    "start_time": "2021-07-03T19:05:35.305Z"
   },
   {
    "duration": 18,
    "start_time": "2021-07-03T19:05:35.327Z"
   },
   {
    "duration": 17,
    "start_time": "2021-07-03T19:05:35.349Z"
   },
   {
    "duration": 9,
    "start_time": "2021-07-03T19:05:35.400Z"
   },
   {
    "duration": 23,
    "start_time": "2021-07-03T19:05:35.411Z"
   },
   {
    "duration": 23,
    "start_time": "2021-07-03T19:05:35.437Z"
   },
   {
    "duration": 37,
    "start_time": "2021-07-03T19:05:35.463Z"
   },
   {
    "duration": 5,
    "start_time": "2021-07-03T19:05:35.502Z"
   },
   {
    "duration": 17,
    "start_time": "2021-07-03T19:05:35.509Z"
   },
   {
    "duration": 34,
    "start_time": "2021-07-03T19:05:35.528Z"
   },
   {
    "duration": 7,
    "start_time": "2021-07-03T19:05:35.565Z"
   },
   {
    "duration": 36,
    "start_time": "2021-07-03T19:05:35.574Z"
   },
   {
    "duration": 27,
    "start_time": "2021-07-03T19:05:35.612Z"
   },
   {
    "duration": 12,
    "start_time": "2021-07-03T19:05:35.642Z"
   },
   {
    "duration": 11,
    "start_time": "2021-07-03T19:05:35.657Z"
   },
   {
    "duration": 51,
    "start_time": "2021-07-03T19:05:35.671Z"
   },
   {
    "duration": 11,
    "start_time": "2021-07-03T19:05:35.725Z"
   },
   {
    "duration": 3,
    "start_time": "2021-07-03T19:05:35.743Z"
   },
   {
    "duration": 72,
    "start_time": "2021-07-03T19:05:35.749Z"
   },
   {
    "duration": 56,
    "start_time": "2021-07-03T19:05:35.824Z"
   },
   {
    "duration": 4456,
    "start_time": "2021-07-03T19:05:35.883Z"
   },
   {
    "duration": 3617,
    "start_time": "2021-07-03T19:05:40.342Z"
   },
   {
    "duration": 22,
    "start_time": "2021-07-03T19:05:43.961Z"
   },
   {
    "duration": 27,
    "start_time": "2021-07-03T19:05:43.985Z"
   },
   {
    "duration": 38,
    "start_time": "2021-07-03T19:05:44.015Z"
   },
   {
    "duration": 61,
    "start_time": "2021-07-03T19:05:44.056Z"
   },
   {
    "duration": 7,
    "start_time": "2021-07-03T19:05:44.120Z"
   },
   {
    "duration": 407,
    "start_time": "2021-07-03T19:05:44.130Z"
   },
   {
    "duration": 345,
    "start_time": "2021-07-03T19:07:30.319Z"
   },
   {
    "duration": 351,
    "start_time": "2021-07-03T19:10:18.464Z"
   },
   {
    "duration": 1694,
    "start_time": "2021-07-03T19:15:28.843Z"
   },
   {
    "duration": 301,
    "start_time": "2021-07-03T19:15:36.563Z"
   },
   {
    "duration": 323,
    "start_time": "2021-07-03T19:16:05.500Z"
   },
   {
    "duration": 31,
    "start_time": "2021-07-03T19:23:18.941Z"
   },
   {
    "duration": 299,
    "start_time": "2021-07-03T19:24:06.417Z"
   },
   {
    "duration": 836,
    "start_time": "2021-07-03T19:25:06.239Z"
   },
   {
    "duration": 25,
    "start_time": "2021-07-03T19:25:07.078Z"
   },
   {
    "duration": 6,
    "start_time": "2021-07-03T19:25:07.106Z"
   },
   {
    "duration": 8,
    "start_time": "2021-07-03T19:25:07.115Z"
   },
   {
    "duration": 7,
    "start_time": "2021-07-03T19:25:07.125Z"
   },
   {
    "duration": 16,
    "start_time": "2021-07-03T19:25:07.134Z"
   },
   {
    "duration": 50,
    "start_time": "2021-07-03T19:25:07.152Z"
   },
   {
    "duration": 18,
    "start_time": "2021-07-03T19:25:07.204Z"
   },
   {
    "duration": 9,
    "start_time": "2021-07-03T19:25:07.227Z"
   },
   {
    "duration": 19,
    "start_time": "2021-07-03T19:25:07.240Z"
   },
   {
    "duration": 55,
    "start_time": "2021-07-03T19:25:07.262Z"
   },
   {
    "duration": 14,
    "start_time": "2021-07-03T19:25:07.320Z"
   },
   {
    "duration": 5,
    "start_time": "2021-07-03T19:25:07.338Z"
   },
   {
    "duration": 12,
    "start_time": "2021-07-03T19:25:07.345Z"
   },
   {
    "duration": 59,
    "start_time": "2021-07-03T19:25:07.359Z"
   },
   {
    "duration": 11,
    "start_time": "2021-07-03T19:25:07.421Z"
   },
   {
    "duration": 11,
    "start_time": "2021-07-03T19:25:07.434Z"
   },
   {
    "duration": 63,
    "start_time": "2021-07-03T19:25:07.447Z"
   },
   {
    "duration": 10,
    "start_time": "2021-07-03T19:25:07.513Z"
   },
   {
    "duration": 14,
    "start_time": "2021-07-03T19:25:07.525Z"
   },
   {
    "duration": 22,
    "start_time": "2021-07-03T19:25:07.542Z"
   },
   {
    "duration": 37,
    "start_time": "2021-07-03T19:25:07.567Z"
   },
   {
    "duration": 7,
    "start_time": "2021-07-03T19:25:07.607Z"
   },
   {
    "duration": 36,
    "start_time": "2021-07-03T19:25:07.617Z"
   },
   {
    "duration": 78,
    "start_time": "2021-07-03T19:25:07.656Z"
   },
   {
    "duration": 4495,
    "start_time": "2021-07-03T19:25:07.736Z"
   },
   {
    "duration": 3567,
    "start_time": "2021-07-03T19:25:12.236Z"
   },
   {
    "duration": 21,
    "start_time": "2021-07-03T19:25:15.806Z"
   },
   {
    "duration": 24,
    "start_time": "2021-07-03T19:25:15.830Z"
   },
   {
    "duration": 48,
    "start_time": "2021-07-03T19:25:15.857Z"
   },
   {
    "duration": 32,
    "start_time": "2021-07-03T19:25:15.908Z"
   },
   {
    "duration": 7,
    "start_time": "2021-07-03T19:25:15.943Z"
   },
   {
    "duration": 432,
    "start_time": "2021-07-03T19:25:15.953Z"
   },
   {
    "duration": 379,
    "start_time": "2021-07-03T19:25:45.672Z"
   },
   {
    "duration": 840,
    "start_time": "2021-07-03T19:26:51.107Z"
   },
   {
    "duration": 22,
    "start_time": "2021-07-03T19:26:51.951Z"
   },
   {
    "duration": 30,
    "start_time": "2021-07-03T19:26:51.977Z"
   },
   {
    "duration": 8,
    "start_time": "2021-07-03T19:26:52.010Z"
   },
   {
    "duration": 6,
    "start_time": "2021-07-03T19:26:52.021Z"
   },
   {
    "duration": 17,
    "start_time": "2021-07-03T19:26:52.029Z"
   },
   {
    "duration": 54,
    "start_time": "2021-07-03T19:26:52.048Z"
   },
   {
    "duration": 18,
    "start_time": "2021-07-03T19:26:52.106Z"
   },
   {
    "duration": 8,
    "start_time": "2021-07-03T19:26:52.127Z"
   },
   {
    "duration": 19,
    "start_time": "2021-07-03T19:26:52.137Z"
   },
   {
    "duration": 59,
    "start_time": "2021-07-03T19:26:52.159Z"
   },
   {
    "duration": 12,
    "start_time": "2021-07-03T19:26:52.220Z"
   },
   {
    "duration": 5,
    "start_time": "2021-07-03T19:26:52.234Z"
   },
   {
    "duration": 8,
    "start_time": "2021-07-03T19:26:52.241Z"
   },
   {
    "duration": 64,
    "start_time": "2021-07-03T19:26:52.252Z"
   },
   {
    "duration": 7,
    "start_time": "2021-07-03T19:26:52.319Z"
   },
   {
    "duration": 11,
    "start_time": "2021-07-03T19:26:52.329Z"
   },
   {
    "duration": 23,
    "start_time": "2021-07-03T19:26:52.343Z"
   },
   {
    "duration": 37,
    "start_time": "2021-07-03T19:26:52.369Z"
   },
   {
    "duration": 8,
    "start_time": "2021-07-03T19:26:52.409Z"
   },
   {
    "duration": 21,
    "start_time": "2021-07-03T19:26:52.419Z"
   },
   {
    "duration": 8,
    "start_time": "2021-07-03T19:26:52.442Z"
   },
   {
    "duration": 49,
    "start_time": "2021-07-03T19:26:52.455Z"
   },
   {
    "duration": 32,
    "start_time": "2021-07-03T19:26:52.507Z"
   },
   {
    "duration": 73,
    "start_time": "2021-07-03T19:26:52.542Z"
   },
   {
    "duration": 4427,
    "start_time": "2021-07-03T19:26:52.618Z"
   },
   {
    "duration": 3723,
    "start_time": "2021-07-03T19:26:57.048Z"
   },
   {
    "duration": 31,
    "start_time": "2021-07-03T19:27:00.774Z"
   },
   {
    "duration": 31,
    "start_time": "2021-07-03T19:27:00.807Z"
   },
   {
    "duration": 37,
    "start_time": "2021-07-03T19:27:00.841Z"
   },
   {
    "duration": 34,
    "start_time": "2021-07-03T19:27:00.881Z"
   },
   {
    "duration": 6,
    "start_time": "2021-07-03T19:27:00.918Z"
   },
   {
    "duration": 399,
    "start_time": "2021-07-03T19:27:00.927Z"
   },
   {
    "duration": 428,
    "start_time": "2021-07-03T19:28:32.680Z"
   },
   {
    "duration": 30,
    "start_time": "2021-07-03T19:29:09.398Z"
   },
   {
    "duration": 28,
    "start_time": "2021-07-03T19:29:24.062Z"
   },
   {
    "duration": 321,
    "start_time": "2021-07-03T19:29:57.723Z"
   },
   {
    "duration": 289,
    "start_time": "2021-07-03T19:39:34.917Z"
   },
   {
    "duration": 25,
    "start_time": "2021-07-03T19:39:55.445Z"
   },
   {
    "duration": 18,
    "start_time": "2021-07-03T19:41:03.604Z"
   },
   {
    "duration": 24,
    "start_time": "2021-07-03T19:42:01.842Z"
   },
   {
    "duration": 91,
    "start_time": "2021-07-03T19:50:57.255Z"
   },
   {
    "duration": 285,
    "start_time": "2021-07-03T19:51:10.892Z"
   },
   {
    "duration": 261,
    "start_time": "2021-07-03T19:52:35.710Z"
   },
   {
    "duration": 973,
    "start_time": "2021-07-03T19:53:54.667Z"
   },
   {
    "duration": 288,
    "start_time": "2021-07-03T19:54:16.378Z"
   },
   {
    "duration": 267,
    "start_time": "2021-07-03T19:54:37.721Z"
   },
   {
    "duration": 856,
    "start_time": "2021-07-04T07:00:09.458Z"
   },
   {
    "duration": 19,
    "start_time": "2021-07-04T07:00:10.317Z"
   },
   {
    "duration": 7,
    "start_time": "2021-07-04T07:00:10.340Z"
   },
   {
    "duration": 15,
    "start_time": "2021-07-04T07:00:10.350Z"
   },
   {
    "duration": 34,
    "start_time": "2021-07-04T07:00:10.368Z"
   },
   {
    "duration": 17,
    "start_time": "2021-07-04T07:00:10.405Z"
   },
   {
    "duration": 24,
    "start_time": "2021-07-04T07:00:10.426Z"
   },
   {
    "duration": 61,
    "start_time": "2021-07-04T07:00:10.453Z"
   },
   {
    "duration": 10,
    "start_time": "2021-07-04T07:00:10.520Z"
   },
   {
    "duration": 25,
    "start_time": "2021-07-04T07:00:10.534Z"
   },
   {
    "duration": 58,
    "start_time": "2021-07-04T07:00:10.561Z"
   },
   {
    "duration": 12,
    "start_time": "2021-07-04T07:00:10.622Z"
   },
   {
    "duration": 5,
    "start_time": "2021-07-04T07:00:10.637Z"
   },
   {
    "duration": 10,
    "start_time": "2021-07-04T07:00:10.645Z"
   },
   {
    "duration": 60,
    "start_time": "2021-07-04T07:00:10.657Z"
   },
   {
    "duration": 8,
    "start_time": "2021-07-04T07:00:10.720Z"
   },
   {
    "duration": 11,
    "start_time": "2021-07-04T07:00:10.730Z"
   },
   {
    "duration": 58,
    "start_time": "2021-07-04T07:00:10.744Z"
   },
   {
    "duration": 10,
    "start_time": "2021-07-04T07:00:10.805Z"
   },
   {
    "duration": 9,
    "start_time": "2021-07-04T07:00:10.818Z"
   },
   {
    "duration": 21,
    "start_time": "2021-07-04T07:00:10.829Z"
   },
   {
    "duration": 49,
    "start_time": "2021-07-04T07:00:10.852Z"
   },
   {
    "duration": 3,
    "start_time": "2021-07-04T07:00:10.903Z"
   },
   {
    "duration": 30,
    "start_time": "2021-07-04T07:00:10.909Z"
   },
   {
    "duration": 77,
    "start_time": "2021-07-04T07:00:10.942Z"
   },
   {
    "duration": 4697,
    "start_time": "2021-07-04T07:00:11.022Z"
   },
   {
    "duration": 3876,
    "start_time": "2021-07-04T07:00:15.726Z"
   },
   {
    "duration": 22,
    "start_time": "2021-07-04T07:00:19.604Z"
   },
   {
    "duration": 13,
    "start_time": "2021-07-04T07:00:19.628Z"
   },
   {
    "duration": 67,
    "start_time": "2021-07-04T07:00:19.644Z"
   },
   {
    "duration": 23,
    "start_time": "2021-07-04T07:00:19.714Z"
   },
   {
    "duration": 7,
    "start_time": "2021-07-04T07:00:19.739Z"
   },
   {
    "duration": 440,
    "start_time": "2021-07-04T07:00:19.748Z"
   },
   {
    "duration": 359,
    "start_time": "2021-07-04T07:00:20.190Z"
   },
   {
    "duration": 24,
    "start_time": "2021-07-04T07:00:20.551Z"
   },
   {
    "duration": 320,
    "start_time": "2021-07-04T10:38:21.631Z"
   },
   {
    "duration": 799,
    "start_time": "2021-07-04T10:38:37.604Z"
   },
   {
    "duration": 18,
    "start_time": "2021-07-04T10:38:38.406Z"
   },
   {
    "duration": 27,
    "start_time": "2021-07-04T10:38:38.427Z"
   },
   {
    "duration": 10,
    "start_time": "2021-07-04T10:38:41.966Z"
   },
   {
    "duration": 17,
    "start_time": "2021-07-04T10:39:54.330Z"
   },
   {
    "duration": 23,
    "start_time": "2021-07-04T10:41:00.337Z"
   },
   {
    "duration": 19,
    "start_time": "2021-07-04T10:41:27.316Z"
   },
   {
    "duration": 18,
    "start_time": "2021-07-04T10:43:03.638Z"
   },
   {
    "duration": 34,
    "start_time": "2021-07-04T10:44:31.788Z"
   },
   {
    "duration": 21,
    "start_time": "2021-07-04T10:46:58.127Z"
   },
   {
    "duration": 11,
    "start_time": "2021-07-04T10:47:24.205Z"
   },
   {
    "duration": 18,
    "start_time": "2021-07-04T10:48:01.478Z"
   },
   {
    "duration": 12,
    "start_time": "2021-07-04T10:50:47.484Z"
   },
   {
    "duration": 12,
    "start_time": "2021-07-04T10:51:15.099Z"
   },
   {
    "duration": 10,
    "start_time": "2021-07-04T10:51:42.331Z"
   },
   {
    "duration": 344,
    "start_time": "2021-07-04T10:52:02.339Z"
   },
   {
    "duration": 871,
    "start_time": "2021-07-04T10:52:12.131Z"
   },
   {
    "duration": 20,
    "start_time": "2021-07-04T10:52:13.004Z"
   },
   {
    "duration": 27,
    "start_time": "2021-07-04T10:52:13.027Z"
   },
   {
    "duration": 14,
    "start_time": "2021-07-04T10:52:13.057Z"
   },
   {
    "duration": 26,
    "start_time": "2021-07-04T10:52:18.809Z"
   },
   {
    "duration": 925,
    "start_time": "2021-07-04T10:55:40.599Z"
   },
   {
    "duration": 30,
    "start_time": "2021-07-04T10:55:41.527Z"
   },
   {
    "duration": 8,
    "start_time": "2021-07-04T10:55:41.561Z"
   },
   {
    "duration": 21,
    "start_time": "2021-07-04T10:55:41.572Z"
   },
   {
    "duration": 17,
    "start_time": "2021-07-04T10:55:54.373Z"
   },
   {
    "duration": 20,
    "start_time": "2021-07-04T10:56:19.211Z"
   },
   {
    "duration": 11,
    "start_time": "2021-07-04T11:01:19.560Z"
   },
   {
    "duration": 6598,
    "start_time": "2021-07-04T11:01:49.766Z"
   },
   {
    "duration": 14,
    "start_time": "2021-07-04T11:02:25.921Z"
   },
   {
    "duration": 11,
    "start_time": "2021-07-04T11:03:12.470Z"
   },
   {
    "duration": 11,
    "start_time": "2021-07-04T11:03:37.418Z"
   },
   {
    "duration": 14,
    "start_time": "2021-07-04T11:04:36.397Z"
   },
   {
    "duration": 14,
    "start_time": "2021-07-04T11:05:20.628Z"
   },
   {
    "duration": 21,
    "start_time": "2021-07-04T11:08:16.325Z"
   },
   {
    "duration": 19,
    "start_time": "2021-07-04T11:09:41.140Z"
   },
   {
    "duration": 817,
    "start_time": "2021-07-04T11:10:25.870Z"
   },
   {
    "duration": 25,
    "start_time": "2021-07-04T11:10:26.690Z"
   },
   {
    "duration": 9,
    "start_time": "2021-07-04T11:10:26.719Z"
   },
   {
    "duration": 33,
    "start_time": "2021-07-04T11:10:26.731Z"
   },
   {
    "duration": 10,
    "start_time": "2021-07-04T11:10:26.767Z"
   },
   {
    "duration": 23,
    "start_time": "2021-07-04T11:10:26.779Z"
   },
   {
    "duration": 16,
    "start_time": "2021-07-04T11:10:29.205Z"
   },
   {
    "duration": 143,
    "start_time": "2021-07-04T11:26:06.165Z"
   },
   {
    "duration": 6,
    "start_time": "2021-07-04T11:26:41.388Z"
   },
   {
    "duration": 601,
    "start_time": "2021-07-04T11:29:27.182Z"
   },
   {
    "duration": 667,
    "start_time": "2021-07-04T11:30:12.389Z"
   },
   {
    "duration": 16,
    "start_time": "2021-07-04T11:30:23.082Z"
   },
   {
    "duration": 649,
    "start_time": "2021-07-04T11:31:33.793Z"
   },
   {
    "duration": 663,
    "start_time": "2021-07-04T11:40:58.479Z"
   },
   {
    "duration": 644,
    "start_time": "2021-07-04T21:08:44.397Z"
   },
   {
    "duration": 12,
    "start_time": "2021-07-04T21:08:45.043Z"
   },
   {
    "duration": 6,
    "start_time": "2021-07-04T21:08:45.057Z"
   },
   {
    "duration": 28,
    "start_time": "2021-07-04T21:08:45.065Z"
   },
   {
    "duration": 7,
    "start_time": "2021-07-04T21:08:45.095Z"
   },
   {
    "duration": 19,
    "start_time": "2021-07-04T21:08:45.104Z"
   },
   {
    "duration": 58,
    "start_time": "2021-07-04T21:08:48.233Z"
   },
   {
    "duration": 58,
    "start_time": "2021-07-04T21:12:49.611Z"
   },
   {
    "duration": 58,
    "start_time": "2021-07-04T21:31:19.364Z"
   },
   {
    "duration": 71,
    "start_time": "2021-07-04T21:31:38.625Z"
   },
   {
    "duration": 71,
    "start_time": "2021-07-04T21:34:15.658Z"
   },
   {
    "duration": 7,
    "start_time": "2021-07-04T21:34:38.665Z"
   },
   {
    "duration": 16,
    "start_time": "2021-07-04T21:34:58.638Z"
   },
   {
    "duration": 18,
    "start_time": "2021-07-04T21:35:08.388Z"
   },
   {
    "duration": 342,
    "start_time": "2021-07-04T21:35:26.384Z"
   },
   {
    "duration": 10,
    "start_time": "2021-07-04T21:35:31.604Z"
   },
   {
    "duration": 331,
    "start_time": "2021-07-04T21:38:33.705Z"
   },
   {
    "duration": 11,
    "start_time": "2021-07-04T21:38:37.765Z"
   },
   {
    "duration": 7,
    "start_time": "2021-07-04T21:39:33.879Z"
   },
   {
    "duration": 13,
    "start_time": "2021-07-04T21:41:51.705Z"
   },
   {
    "duration": 17,
    "start_time": "2021-07-04T21:42:07.209Z"
   },
   {
    "duration": 10,
    "start_time": "2021-07-04T21:42:31.371Z"
   },
   {
    "duration": 18,
    "start_time": "2021-07-04T21:42:45.102Z"
   },
   {
    "duration": 338,
    "start_time": "2021-07-04T21:46:32.861Z"
   },
   {
    "duration": 334,
    "start_time": "2021-07-04T21:47:40.557Z"
   },
   {
    "duration": 17,
    "start_time": "2021-07-04T21:47:54.490Z"
   },
   {
    "duration": 336,
    "start_time": "2021-07-04T21:48:16.323Z"
   },
   {
    "duration": 349,
    "start_time": "2021-07-04T21:48:22.091Z"
   },
   {
    "duration": 344,
    "start_time": "2021-07-04T21:49:43.764Z"
   },
   {
    "duration": 335,
    "start_time": "2021-07-04T21:50:08.425Z"
   },
   {
    "duration": 359,
    "start_time": "2021-07-04T21:50:19.386Z"
   },
   {
    "duration": 585,
    "start_time": "2021-07-04T21:50:57.923Z"
   },
   {
    "duration": 12,
    "start_time": "2021-07-04T21:50:58.510Z"
   },
   {
    "duration": 5,
    "start_time": "2021-07-04T21:50:58.524Z"
   },
   {
    "duration": 9,
    "start_time": "2021-07-04T21:50:58.530Z"
   },
   {
    "duration": 7,
    "start_time": "2021-07-04T21:50:58.541Z"
   },
   {
    "duration": 39,
    "start_time": "2021-07-04T21:50:58.550Z"
   },
   {
    "duration": 333,
    "start_time": "2021-07-04T21:51:02.987Z"
   },
   {
    "duration": 16,
    "start_time": "2021-07-04T21:51:52.334Z"
   },
   {
    "duration": 641,
    "start_time": "2021-07-04T21:56:29.158Z"
   },
   {
    "duration": 13,
    "start_time": "2021-07-04T21:56:29.801Z"
   },
   {
    "duration": 4,
    "start_time": "2021-07-04T21:56:29.816Z"
   },
   {
    "duration": 9,
    "start_time": "2021-07-04T21:56:29.822Z"
   },
   {
    "duration": 9,
    "start_time": "2021-07-04T21:56:29.832Z"
   },
   {
    "duration": 15,
    "start_time": "2021-07-04T21:56:29.843Z"
   },
   {
    "duration": 583,
    "start_time": "2021-07-04T21:56:32.519Z"
   },
   {
    "duration": 540,
    "start_time": "2021-07-04T21:57:13.111Z"
   },
   {
    "duration": 341,
    "start_time": "2021-07-04T21:57:38.650Z"
   },
   {
    "duration": 355,
    "start_time": "2021-07-04T21:59:21.786Z"
   },
   {
    "duration": 360,
    "start_time": "2021-07-04T22:00:16.925Z"
   },
   {
    "duration": 343,
    "start_time": "2021-07-04T22:00:33.162Z"
   },
   {
    "duration": 346,
    "start_time": "2021-07-04T22:01:04.519Z"
   },
   {
    "duration": 349,
    "start_time": "2021-07-04T22:01:32.387Z"
   },
   {
    "duration": 348,
    "start_time": "2021-07-04T22:03:17.469Z"
   },
   {
    "duration": 242,
    "start_time": "2021-07-04T22:40:54.222Z"
   },
   {
    "duration": 647,
    "start_time": "2021-07-04T22:41:12.869Z"
   },
   {
    "duration": 12,
    "start_time": "2021-07-04T22:41:13.518Z"
   },
   {
    "duration": 5,
    "start_time": "2021-07-04T22:41:13.532Z"
   },
   {
    "duration": 9,
    "start_time": "2021-07-04T22:41:13.538Z"
   },
   {
    "duration": 6,
    "start_time": "2021-07-04T22:41:13.549Z"
   },
   {
    "duration": 38,
    "start_time": "2021-07-04T22:41:13.557Z"
   },
   {
    "duration": 355,
    "start_time": "2021-07-04T22:41:15.997Z"
   },
   {
    "duration": 343,
    "start_time": "2021-07-04T22:42:30.655Z"
   },
   {
    "duration": 339,
    "start_time": "2021-07-04T22:42:46.642Z"
   },
   {
    "duration": 339,
    "start_time": "2021-07-04T22:43:43.172Z"
   },
   {
    "duration": 11,
    "start_time": "2021-07-04T22:44:03.882Z"
   },
   {
    "duration": 623,
    "start_time": "2021-07-04T22:45:10.691Z"
   },
   {
    "duration": 14,
    "start_time": "2021-07-04T22:45:11.315Z"
   },
   {
    "duration": 31,
    "start_time": "2021-07-04T22:45:11.331Z"
   },
   {
    "duration": 17,
    "start_time": "2021-07-04T22:45:11.364Z"
   },
   {
    "duration": 33,
    "start_time": "2021-07-04T22:45:11.382Z"
   },
   {
    "duration": 33,
    "start_time": "2021-07-04T22:45:11.417Z"
   },
   {
    "duration": 353,
    "start_time": "2021-07-04T22:45:17.434Z"
   },
   {
    "duration": 363,
    "start_time": "2021-07-04T22:45:48.008Z"
   },
   {
    "duration": 335,
    "start_time": "2021-07-04T22:45:56.226Z"
   },
   {
    "duration": 644,
    "start_time": "2021-07-04T22:46:59.177Z"
   },
   {
    "duration": 11,
    "start_time": "2021-07-04T22:46:59.823Z"
   },
   {
    "duration": 4,
    "start_time": "2021-07-04T22:46:59.836Z"
   },
   {
    "duration": 8,
    "start_time": "2021-07-04T22:46:59.842Z"
   },
   {
    "duration": 9,
    "start_time": "2021-07-04T22:46:59.852Z"
   },
   {
    "duration": 33,
    "start_time": "2021-07-04T22:46:59.862Z"
   },
   {
    "duration": 338,
    "start_time": "2021-07-04T22:47:01.781Z"
   },
   {
    "duration": 648,
    "start_time": "2021-07-04T22:48:16.367Z"
   },
   {
    "duration": 12,
    "start_time": "2021-07-04T22:48:17.016Z"
   },
   {
    "duration": 5,
    "start_time": "2021-07-04T22:48:17.030Z"
   },
   {
    "duration": 9,
    "start_time": "2021-07-04T22:48:17.036Z"
   },
   {
    "duration": 8,
    "start_time": "2021-07-04T22:48:17.047Z"
   },
   {
    "duration": 34,
    "start_time": "2021-07-04T22:48:17.057Z"
   },
   {
    "duration": 336,
    "start_time": "2021-07-04T22:48:19.319Z"
   },
   {
    "duration": 333,
    "start_time": "2021-07-04T22:48:38.515Z"
   },
   {
    "duration": 589,
    "start_time": "2021-07-04T22:48:50.724Z"
   },
   {
    "duration": 11,
    "start_time": "2021-07-04T22:48:51.315Z"
   },
   {
    "duration": 4,
    "start_time": "2021-07-04T22:48:51.328Z"
   },
   {
    "duration": 12,
    "start_time": "2021-07-04T22:48:51.334Z"
   },
   {
    "duration": 9,
    "start_time": "2021-07-04T22:48:51.348Z"
   },
   {
    "duration": 31,
    "start_time": "2021-07-04T22:48:51.359Z"
   },
   {
    "duration": 339,
    "start_time": "2021-07-04T22:48:56.445Z"
   },
   {
    "duration": 325,
    "start_time": "2021-07-04T22:50:17.000Z"
   },
   {
    "duration": 342,
    "start_time": "2021-07-04T22:50:28.747Z"
   },
   {
    "duration": 342,
    "start_time": "2021-07-04T22:50:43.804Z"
   },
   {
    "duration": 329,
    "start_time": "2021-07-04T22:52:16.026Z"
   },
   {
    "duration": 322,
    "start_time": "2021-07-04T22:52:42.501Z"
   },
   {
    "duration": 67,
    "start_time": "2021-07-04T22:53:44.033Z"
   },
   {
    "duration": 13,
    "start_time": "2021-07-04T22:53:44.102Z"
   },
   {
    "duration": 5,
    "start_time": "2021-07-04T22:53:44.116Z"
   },
   {
    "duration": 8,
    "start_time": "2021-07-04T22:53:44.122Z"
   },
   {
    "duration": 9,
    "start_time": "2021-07-04T22:53:44.132Z"
   },
   {
    "duration": 49,
    "start_time": "2021-07-04T22:53:44.142Z"
   },
   {
    "duration": 349,
    "start_time": "2021-07-04T22:53:44.193Z"
   },
   {
    "duration": 10,
    "start_time": "2021-07-04T22:53:44.545Z"
   },
   {
    "duration": 11,
    "start_time": "2021-07-04T22:53:44.557Z"
   },
   {
    "duration": 25,
    "start_time": "2021-07-04T22:53:44.569Z"
   },
   {
    "duration": 5,
    "start_time": "2021-07-04T22:53:44.595Z"
   },
   {
    "duration": 12,
    "start_time": "2021-07-04T22:53:44.602Z"
   },
   {
    "duration": 19,
    "start_time": "2021-07-04T22:53:44.616Z"
   },
   {
    "duration": 9,
    "start_time": "2021-07-04T22:53:44.637Z"
   },
   {
    "duration": 5,
    "start_time": "2021-07-04T22:53:44.647Z"
   },
   {
    "duration": 32,
    "start_time": "2021-07-04T22:53:44.653Z"
   },
   {
    "duration": 16,
    "start_time": "2021-07-04T22:53:44.686Z"
   },
   {
    "duration": 8,
    "start_time": "2021-07-04T22:53:44.703Z"
   },
   {
    "duration": 6,
    "start_time": "2021-07-04T22:53:44.712Z"
   },
   {
    "duration": 17,
    "start_time": "2021-07-04T22:53:44.720Z"
   },
   {
    "duration": 7,
    "start_time": "2021-07-04T22:53:44.738Z"
   },
   {
    "duration": 40,
    "start_time": "2021-07-04T22:53:44.746Z"
   },
   {
    "duration": 13,
    "start_time": "2021-07-04T22:53:44.789Z"
   },
   {
    "duration": 7,
    "start_time": "2021-07-04T22:53:44.803Z"
   },
   {
    "duration": 3,
    "start_time": "2021-07-04T22:53:44.811Z"
   },
   {
    "duration": 19,
    "start_time": "2021-07-04T22:53:44.816Z"
   },
   {
    "duration": 60,
    "start_time": "2021-07-04T22:53:44.837Z"
   },
   {
    "duration": 3317,
    "start_time": "2021-07-04T22:53:44.899Z"
   },
   {
    "duration": 2697,
    "start_time": "2021-07-04T22:53:48.218Z"
   },
   {
    "duration": 15,
    "start_time": "2021-07-04T22:53:50.917Z"
   },
   {
    "duration": 12,
    "start_time": "2021-07-04T22:53:50.934Z"
   },
   {
    "duration": 44,
    "start_time": "2021-07-04T22:53:50.948Z"
   },
   {
    "duration": 19,
    "start_time": "2021-07-04T22:53:50.994Z"
   },
   {
    "duration": 6,
    "start_time": "2021-07-04T22:53:51.015Z"
   },
   {
    "duration": 333,
    "start_time": "2021-07-04T22:53:51.022Z"
   },
   {
    "duration": 180,
    "start_time": "2021-07-04T22:53:51.357Z"
   },
   {
    "duration": 14,
    "start_time": "2021-07-04T22:53:51.539Z"
   },
   {
    "duration": 1201,
    "start_time": "2021-07-05T05:53:34.480Z"
   },
   {
    "duration": 30,
    "start_time": "2021-07-05T05:53:35.684Z"
   },
   {
    "duration": 10,
    "start_time": "2021-07-05T05:53:35.718Z"
   },
   {
    "duration": 16,
    "start_time": "2021-07-05T05:53:35.764Z"
   },
   {
    "duration": 12,
    "start_time": "2021-07-05T05:53:35.783Z"
   },
   {
    "duration": 65,
    "start_time": "2021-07-05T05:53:35.799Z"
   },
   {
    "duration": 1323,
    "start_time": "2021-07-05T05:53:35.868Z"
   },
   {
    "duration": 23,
    "start_time": "2021-07-05T05:53:37.195Z"
   },
   {
    "duration": 49,
    "start_time": "2021-07-05T05:53:37.226Z"
   },
   {
    "duration": 30,
    "start_time": "2021-07-05T05:53:37.279Z"
   },
   {
    "duration": 27,
    "start_time": "2021-07-05T05:53:37.311Z"
   },
   {
    "duration": 29,
    "start_time": "2021-07-05T05:53:37.362Z"
   },
   {
    "duration": 27,
    "start_time": "2021-07-05T05:53:37.394Z"
   },
   {
    "duration": 50,
    "start_time": "2021-07-05T05:53:37.424Z"
   },
   {
    "duration": 5,
    "start_time": "2021-07-05T05:53:37.477Z"
   },
   {
    "duration": 14,
    "start_time": "2021-07-05T05:53:37.485Z"
   },
   {
    "duration": 69,
    "start_time": "2021-07-05T05:53:37.502Z"
   },
   {
    "duration": 11,
    "start_time": "2021-07-05T05:53:37.574Z"
   },
   {
    "duration": 15,
    "start_time": "2021-07-05T05:53:37.588Z"
   },
   {
    "duration": 75,
    "start_time": "2021-07-05T05:53:37.606Z"
   },
   {
    "duration": 15,
    "start_time": "2021-07-05T05:53:37.684Z"
   },
   {
    "duration": 11,
    "start_time": "2021-07-05T05:53:37.703Z"
   },
   {
    "duration": 59,
    "start_time": "2021-07-05T05:53:37.717Z"
   },
   {
    "duration": 14,
    "start_time": "2021-07-05T05:53:37.779Z"
   },
   {
    "duration": 4,
    "start_time": "2021-07-05T05:53:37.797Z"
   },
   {
    "duration": 79,
    "start_time": "2021-07-05T05:53:37.804Z"
   },
   {
    "duration": 91,
    "start_time": "2021-07-05T05:53:37.891Z"
   },
   {
    "duration": 5643,
    "start_time": "2021-07-05T05:53:37.986Z"
   },
   {
    "duration": 4186,
    "start_time": "2021-07-05T05:53:43.632Z"
   },
   {
    "duration": 21,
    "start_time": "2021-07-05T05:53:47.820Z"
   },
   {
    "duration": 32,
    "start_time": "2021-07-05T05:53:47.844Z"
   },
   {
    "duration": 34,
    "start_time": "2021-07-05T05:53:47.878Z"
   },
   {
    "duration": 51,
    "start_time": "2021-07-05T05:53:47.914Z"
   },
   {
    "duration": 14,
    "start_time": "2021-07-05T05:53:47.968Z"
   },
   {
    "duration": 423,
    "start_time": "2021-07-05T05:53:47.984Z"
   },
   {
    "duration": 352,
    "start_time": "2021-07-05T05:53:48.410Z"
   },
   {
    "duration": 22,
    "start_time": "2021-07-05T05:53:48.764Z"
   },
   {
    "duration": 444,
    "start_time": "2021-07-05T05:58:11.651Z"
   },
   {
    "duration": 1022,
    "start_time": "2021-07-05T05:58:21.206Z"
   },
   {
    "duration": 728,
    "start_time": "2021-07-05T05:58:31.658Z"
   },
   {
    "duration": 1020,
    "start_time": "2021-07-05T05:58:52.288Z"
   },
   {
    "duration": 565,
    "start_time": "2023-02-06T21:10:20.038Z"
   },
   {
    "duration": 12,
    "start_time": "2023-02-06T21:10:20.606Z"
   },
   {
    "duration": 5,
    "start_time": "2023-02-06T21:10:20.620Z"
   },
   {
    "duration": 8,
    "start_time": "2023-02-06T21:10:20.626Z"
   },
   {
    "duration": 17,
    "start_time": "2023-02-06T21:10:20.636Z"
   },
   {
    "duration": 18,
    "start_time": "2023-02-06T21:10:20.654Z"
   },
   {
    "duration": 201,
    "start_time": "2023-02-06T21:10:20.673Z"
   },
   {
    "duration": 14,
    "start_time": "2023-02-06T21:10:20.876Z"
   },
   {
    "duration": 14,
    "start_time": "2023-02-06T21:10:20.891Z"
   },
   {
    "duration": 10,
    "start_time": "2023-02-06T21:10:20.908Z"
   },
   {
    "duration": 6,
    "start_time": "2023-02-06T21:10:20.945Z"
   },
   {
    "duration": 17,
    "start_time": "2023-02-06T21:10:20.954Z"
   },
   {
    "duration": 10,
    "start_time": "2023-02-06T21:10:20.973Z"
   },
   {
    "duration": 7,
    "start_time": "2023-02-06T21:10:20.985Z"
   },
   {
    "duration": 3,
    "start_time": "2023-02-06T21:10:20.993Z"
   },
   {
    "duration": 8,
    "start_time": "2023-02-06T21:10:20.997Z"
   },
   {
    "duration": 39,
    "start_time": "2023-02-06T21:10:21.006Z"
   },
   {
    "duration": 8,
    "start_time": "2023-02-06T21:10:21.048Z"
   },
   {
    "duration": 9,
    "start_time": "2023-02-06T21:10:21.058Z"
   },
   {
    "duration": 16,
    "start_time": "2023-02-06T21:10:21.069Z"
   },
   {
    "duration": 6,
    "start_time": "2023-02-06T21:10:21.086Z"
   },
   {
    "duration": 7,
    "start_time": "2023-02-06T21:10:21.093Z"
   },
   {
    "duration": 54,
    "start_time": "2023-02-06T21:10:21.101Z"
   },
   {
    "duration": 6,
    "start_time": "2023-02-06T21:10:24.123Z"
   },
   {
    "duration": 61,
    "start_time": "2023-02-06T21:10:56.058Z"
   },
   {
    "duration": 15,
    "start_time": "2023-02-06T21:11:09.556Z"
   },
   {
    "duration": 29,
    "start_time": "2023-02-06T21:13:25.830Z"
   },
   {
    "duration": 9,
    "start_time": "2023-02-06T21:14:13.664Z"
   },
   {
    "duration": 29,
    "start_time": "2023-02-06T21:14:36.663Z"
   },
   {
    "duration": 24,
    "start_time": "2023-02-06T21:14:42.134Z"
   },
   {
    "duration": 34,
    "start_time": "2023-02-06T21:14:43.390Z"
   },
   {
    "duration": 4002,
    "start_time": "2023-02-06T21:14:48.186Z"
   },
   {
    "duration": 2889,
    "start_time": "2023-02-06T21:14:52.190Z"
   },
   {
    "duration": 13,
    "start_time": "2023-02-06T21:15:06.153Z"
   },
   {
    "duration": 9,
    "start_time": "2023-02-06T21:15:25.887Z"
   },
   {
    "duration": 23,
    "start_time": "2023-02-06T21:15:26.282Z"
   },
   {
    "duration": 17,
    "start_time": "2023-02-06T21:15:29.847Z"
   },
   {
    "duration": 6,
    "start_time": "2023-02-06T21:15:30.656Z"
   },
   {
    "duration": 522,
    "start_time": "2023-02-06T21:15:40.766Z"
   },
   {
    "duration": 217,
    "start_time": "2023-02-06T21:15:51.905Z"
   },
   {
    "duration": 18,
    "start_time": "2023-02-06T21:16:00.552Z"
   }
  ],
  "kernelspec": {
   "display_name": "Python 3 (ipykernel)",
   "language": "python",
   "name": "python3"
  },
  "language_info": {
   "codemirror_mode": {
    "name": "ipython",
    "version": 3
   },
   "file_extension": ".py",
   "mimetype": "text/x-python",
   "name": "python",
   "nbconvert_exporter": "python",
   "pygments_lexer": "ipython3",
   "version": "3.9.5"
  },
  "toc": {
   "base_numbering": 1,
   "nav_menu": {},
   "number_sections": true,
   "sideBar": true,
   "skip_h1_title": true,
   "title_cell": "Table of Contents",
   "title_sidebar": "Contents",
   "toc_cell": false,
   "toc_position": {},
   "toc_section_display": true,
   "toc_window_display": false
  }
 },
 "nbformat": 4,
 "nbformat_minor": 2
}
