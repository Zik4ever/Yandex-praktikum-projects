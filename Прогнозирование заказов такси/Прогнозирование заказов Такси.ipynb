{
 "cells": [
  {
   "cell_type": "markdown",
   "metadata": {
    "toc": true
   },
   "source": [
    "<h1>Содержание<span class=\"tocSkip\"></span></h1>\n",
    "<div class=\"toc\"><ul class=\"toc-item\"><li><span><a href=\"#Подготовка\" data-toc-modified-id=\"Подготовка-1\"><span class=\"toc-item-num\">1&nbsp;&nbsp;</span>Подготовка</a></span></li><li><span><a href=\"#Анализ\" data-toc-modified-id=\"Анализ-2\"><span class=\"toc-item-num\">2&nbsp;&nbsp;</span>Анализ</a></span></li><li><span><a href=\"#Обучение\" data-toc-modified-id=\"Обучение-3\"><span class=\"toc-item-num\">3&nbsp;&nbsp;</span>Обучение</a></span></li><li><span><a href=\"#Тестирование\" data-toc-modified-id=\"Тестирование-4\"><span class=\"toc-item-num\">4&nbsp;&nbsp;</span>Тестирование</a></span><ul class=\"toc-item\"><li><span><a href=\"#Вывод:\" data-toc-modified-id=\"Вывод:-4.1\"><span class=\"toc-item-num\">4.1&nbsp;&nbsp;</span>Вывод:</a></span></li></ul></li><li><span><a href=\"#Чек-лист-проверки\" data-toc-modified-id=\"Чек-лист-проверки-5\"><span class=\"toc-item-num\">5&nbsp;&nbsp;</span>Чек-лист проверки</a></span></li></ul></div>"
   ]
  },
  {
   "cell_type": "markdown",
   "metadata": {},
   "source": [
    "#  Прогнозирование заказов такси"
   ]
  },
  {
   "cell_type": "markdown",
   "metadata": {},
   "source": [
    "Компания «Чётенькое такси» собрала исторические данные о заказах такси в аэропортах. Чтобы привлекать больше водителей в период пиковой нагрузки, нужно спрогнозировать количество заказов такси на следующий час. Постройте модель для такого предсказания.\n",
    "\n",
    "Значение метрики *RMSE* на тестовой выборке должно быть не больше 48.\n",
    "\n",
    "Вам нужно:\n",
    "\n",
    "1. Загрузить данные и выполнить их ресемплирование по одному часу.\n",
    "2. Проанализировать данные.\n",
    "3. Обучить разные модели с различными гиперпараметрами. Сделать тестовую выборку размером 10% от исходных данных.\n",
    "4. Проверить данные на тестовой выборке и сделать выводы.\n",
    "\n",
    "\n",
    "Данные лежат в файле `taxi.csv`. Количество заказов находится в столбце `num_orders` (от англ. *number of orders*, «число заказов»)."
   ]
  },
  {
   "cell_type": "markdown",
   "metadata": {},
   "source": [
    "## Подготовка"
   ]
  },
  {
   "cell_type": "code",
   "execution_count": 1,
   "metadata": {},
   "outputs": [],
   "source": [
    "import pandas as pd\n",
    "import numpy as np\n",
    "import matplotlib.pyplot as plt\n",
    "from sklearn.model_selection import train_test_split\n",
    "from sklearn.linear_model import LinearRegression\n",
    "from sklearn.metrics import accuracy_score\n",
    "from sklearn.metrics import r2_score\n",
    "from sklearn.metrics import mean_absolute_error\n",
    "from sklearn.metrics import roc_auc_score\n",
    "from sklearn.metrics import f1_score\n",
    "from sklearn.utils import shuffle\n",
    "from sklearn.metrics import roc_curve\n",
    "from sklearn.model_selection import cross_val_score\n",
    "from sklearn.metrics import mean_squared_error\n",
    "from sklearn.tree import DecisionTreeRegressor\n",
    "from sklearn.ensemble import RandomForestRegressor\n",
    "from sklearn.ensemble import RandomForestClassifier\n",
    "from sklearn.linear_model import LogisticRegression\n",
    "from sklearn.tree import DecisionTreeClassifier\n",
    "from collections import Counter\n",
    "from sklearn.metrics.scorer import make_scorer\n",
    "from sklearn.dummy import DummyRegressor\n",
    "from catboost import CatBoostClassifier\n",
    "import lightgbm as lgb\n",
    "from lightgbm import LGBMRegressor\n",
    "from statsmodels.tsa.seasonal import seasonal_decompose"
   ]
  },
  {
   "cell_type": "code",
   "execution_count": 2,
   "metadata": {},
   "outputs": [
    {
     "data": {
      "text/html": [
       "<div>\n",
       "<style scoped>\n",
       "    .dataframe tbody tr th:only-of-type {\n",
       "        vertical-align: middle;\n",
       "    }\n",
       "\n",
       "    .dataframe tbody tr th {\n",
       "        vertical-align: top;\n",
       "    }\n",
       "\n",
       "    .dataframe thead th {\n",
       "        text-align: right;\n",
       "    }\n",
       "</style>\n",
       "<table border=\"1\" class=\"dataframe\">\n",
       "  <thead>\n",
       "    <tr style=\"text-align: right;\">\n",
       "      <th></th>\n",
       "      <th>num_orders</th>\n",
       "    </tr>\n",
       "    <tr>\n",
       "      <th>datetime</th>\n",
       "      <th></th>\n",
       "    </tr>\n",
       "  </thead>\n",
       "  <tbody>\n",
       "    <tr>\n",
       "      <td>2018-03-01 00:00:00</td>\n",
       "      <td>9</td>\n",
       "    </tr>\n",
       "    <tr>\n",
       "      <td>2018-03-01 00:10:00</td>\n",
       "      <td>14</td>\n",
       "    </tr>\n",
       "    <tr>\n",
       "      <td>2018-03-01 00:20:00</td>\n",
       "      <td>28</td>\n",
       "    </tr>\n",
       "    <tr>\n",
       "      <td>2018-03-01 00:30:00</td>\n",
       "      <td>20</td>\n",
       "    </tr>\n",
       "    <tr>\n",
       "      <td>2018-03-01 00:40:00</td>\n",
       "      <td>32</td>\n",
       "    </tr>\n",
       "  </tbody>\n",
       "</table>\n",
       "</div>"
      ],
      "text/plain": [
       "                     num_orders\n",
       "datetime                       \n",
       "2018-03-01 00:00:00           9\n",
       "2018-03-01 00:10:00          14\n",
       "2018-03-01 00:20:00          28\n",
       "2018-03-01 00:30:00          20\n",
       "2018-03-01 00:40:00          32"
      ]
     },
     "execution_count": 2,
     "metadata": {},
     "output_type": "execute_result"
    }
   ],
   "source": [
    "df = pd.read_csv('/datasets/taxi.csv', index_col=[0], parse_dates=[0])\n",
    "df.head()"
   ]
  },
  {
   "cell_type": "code",
   "execution_count": 3,
   "metadata": {},
   "outputs": [
    {
     "name": "stdout",
     "output_type": "stream",
     "text": [
      "<class 'pandas.core.frame.DataFrame'>\n",
      "DatetimeIndex: 26496 entries, 2018-03-01 00:00:00 to 2018-08-31 23:50:00\n",
      "Data columns (total 1 columns):\n",
      "num_orders    26496 non-null int64\n",
      "dtypes: int64(1)\n",
      "memory usage: 414.0 KB\n"
     ]
    }
   ],
   "source": [
    "df.info()"
   ]
  },
  {
   "cell_type": "code",
   "execution_count": 4,
   "metadata": {},
   "outputs": [],
   "source": [
    "df = df.resample('1H').sum()"
   ]
  },
  {
   "cell_type": "code",
   "execution_count": 5,
   "metadata": {},
   "outputs": [
    {
     "data": {
      "text/html": [
       "<div>\n",
       "<style scoped>\n",
       "    .dataframe tbody tr th:only-of-type {\n",
       "        vertical-align: middle;\n",
       "    }\n",
       "\n",
       "    .dataframe tbody tr th {\n",
       "        vertical-align: top;\n",
       "    }\n",
       "\n",
       "    .dataframe thead th {\n",
       "        text-align: right;\n",
       "    }\n",
       "</style>\n",
       "<table border=\"1\" class=\"dataframe\">\n",
       "  <thead>\n",
       "    <tr style=\"text-align: right;\">\n",
       "      <th></th>\n",
       "      <th>num_orders</th>\n",
       "    </tr>\n",
       "  </thead>\n",
       "  <tbody>\n",
       "    <tr>\n",
       "      <td>count</td>\n",
       "      <td>4416.000000</td>\n",
       "    </tr>\n",
       "    <tr>\n",
       "      <td>mean</td>\n",
       "      <td>84.422781</td>\n",
       "    </tr>\n",
       "    <tr>\n",
       "      <td>std</td>\n",
       "      <td>45.023853</td>\n",
       "    </tr>\n",
       "    <tr>\n",
       "      <td>min</td>\n",
       "      <td>0.000000</td>\n",
       "    </tr>\n",
       "    <tr>\n",
       "      <td>25%</td>\n",
       "      <td>54.000000</td>\n",
       "    </tr>\n",
       "    <tr>\n",
       "      <td>50%</td>\n",
       "      <td>78.000000</td>\n",
       "    </tr>\n",
       "    <tr>\n",
       "      <td>75%</td>\n",
       "      <td>107.000000</td>\n",
       "    </tr>\n",
       "    <tr>\n",
       "      <td>max</td>\n",
       "      <td>462.000000</td>\n",
       "    </tr>\n",
       "  </tbody>\n",
       "</table>\n",
       "</div>"
      ],
      "text/plain": [
       "        num_orders\n",
       "count  4416.000000\n",
       "mean     84.422781\n",
       "std      45.023853\n",
       "min       0.000000\n",
       "25%      54.000000\n",
       "50%      78.000000\n",
       "75%     107.000000\n",
       "max     462.000000"
      ]
     },
     "execution_count": 5,
     "metadata": {},
     "output_type": "execute_result"
    }
   ],
   "source": [
    "df.describe()"
   ]
  },
  {
   "cell_type": "markdown",
   "metadata": {},
   "source": [
    "Данные загружены, библиотеки и функции импортированы, ресемплирование по часу выполнено. Переходим к анализу данных."
   ]
  },
  {
   "cell_type": "markdown",
   "metadata": {},
   "source": [
    "## Анализ"
   ]
  },
  {
   "cell_type": "markdown",
   "metadata": {},
   "source": [
    "Давайте посмотрим как ведут себя данные, их скользящее среднее, тренды и сезонность."
   ]
  },
  {
   "cell_type": "code",
   "execution_count": 6,
   "metadata": {},
   "outputs": [
    {
     "data": {
      "text/plain": [
       "<matplotlib.axes._subplots.AxesSubplot at 0x7f8ff04c43d0>"
      ]
     },
     "execution_count": 6,
     "metadata": {},
     "output_type": "execute_result"
    },
    {
     "data": {
      "image/png": "[encoded data removed]",
      "text/plain": [
       "<Figure size 432x288 with 1 Axes>"
      ]
     },
     "metadata": {
      "needs_background": "light"
     },
     "output_type": "display_data"
    },
    {
     "data": {
      "image/png": "[encoded data removed]",
      "text/plain": [
       "<Figure size 432x288 with 1 Axes>"
      ]
     },
     "metadata": {
      "needs_background": "light"
     },
     "output_type": "display_data"
    }
   ],
   "source": [
    "df.rolling(100).mean().plot()\n",
    "df.plot()"
   ]
  },
  {
   "cell_type": "markdown",
   "metadata": {},
   "source": [
    "Мы видим по росту среднего, что с марта по август 2018 года среднее количество заказов такси увеличилось в 2.5 раза. По самому графику данных это гораздо менее заметно."
   ]
  },
  {
   "cell_type": "code",
   "execution_count": 7,
   "metadata": {},
   "outputs": [
    {
     "data": {
      "text/plain": [
       "<matplotlib.axes._subplots.AxesSubplot at 0x7f8ff03f8a90>"
      ]
     },
     "execution_count": 7,
     "metadata": {},
     "output_type": "execute_result"
    },
    {
     "data": {
      "image/png": "[encoded data removed]",
      "text/plain": [
       "<Figure size 864x360 with 1 Axes>"
      ]
     },
     "metadata": {
      "needs_background": "light"
     },
     "output_type": "display_data"
    }
   ],
   "source": [
    "decomposed = seasonal_decompose(df)\n",
    "decomposed.seasonal['2018-03-01':'2018-03-08'].plot(ax = plt.gca(), figsize = (12, 5))"
   ]
  },
  {
   "cell_type": "code",
   "execution_count": 8,
   "metadata": {},
   "outputs": [
    {
     "data": {
      "text/plain": [
       "<matplotlib.axes._subplots.AxesSubplot at 0x7f8fefc912d0>"
      ]
     },
     "execution_count": 8,
     "metadata": {},
     "output_type": "execute_result"
    },
    {
     "data": {
      "image/png": "[encoded data removed]",
      "text/plain": [
       "<Figure size 864x360 with 1 Axes>"
      ]
     },
     "metadata": {
      "needs_background": "light"
     },
     "output_type": "display_data"
    }
   ],
   "source": [
    "decomposed.trend['2018-03-01':'2018-03-21'].plot(ax = plt.gca(), figsize = (12, 5))"
   ]
  },
  {
   "cell_type": "code",
   "execution_count": 9,
   "metadata": {},
   "outputs": [
    {
     "data": {
      "text/plain": [
       "<matplotlib.axes._subplots.AxesSubplot at 0x7f90803be4d0>"
      ]
     },
     "execution_count": 9,
     "metadata": {},
     "output_type": "execute_result"
    },
    {
     "data": {
      "image/png": "[encoded data removed]",
      "text/plain": [
       "<Figure size 864x360 with 1 Axes>"
      ]
     },
     "metadata": {
      "needs_background": "light"
     },
     "output_type": "display_data"
    }
   ],
   "source": [
    "decomposed.seasonal['2018-08-01':'2018-08-08'].plot(ax = plt.gca(), figsize = (12, 5))"
   ]
  },
  {
   "cell_type": "code",
   "execution_count": 10,
   "metadata": {},
   "outputs": [
    {
     "data": {
      "text/plain": [
       "<matplotlib.axes._subplots.AxesSubplot at 0x7f8fefc79ed0>"
      ]
     },
     "execution_count": 10,
     "metadata": {},
     "output_type": "execute_result"
    },
    {
     "data": {
      "image/png": "[encoded data removed]",
      "text/plain": [
       "<Figure size 864x360 with 1 Axes>"
      ]
     },
     "metadata": {
      "needs_background": "light"
     },
     "output_type": "display_data"
    }
   ],
   "source": [
    "decomposed.trend['2018-08-01':'2018-08-21'].plot(ax = plt.gca(), figsize = (12, 5))"
   ]
  },
  {
   "cell_type": "markdown",
   "metadata": {},
   "source": [
    "По этим графикам мы можем сказать что сезонность по часам работы очень простая и логичная - люди пользуются услугами такси с утра до ночи, с повышением спроса 1) с утра когда едут на работу, 2) в обед, 3) когда поздно возвращаются с работы или какого то мероприятия.\n",
    "\n",
    "Что касается трендов, то глядя на календарь 2018 года мы можем заметить что и в марте и в августе самые большие скачки заказов вверх происходят в пятницу и субботу когда люди развлекаются после рабочей недели и в понедельник видимо им сложно вовремя проснуться на работу. Всю остальную неделю график находится значительно ниже, и чаще всего занимает свое минимальное положение в воскресенье.\n",
    "\n",
    "В принципе изменение спроса вполне понятно, давайте перейдем к обучению моделей."
   ]
  },
  {
   "cell_type": "markdown",
   "metadata": {},
   "source": [
    "## Обучение"
   ]
  },
  {
   "cell_type": "markdown",
   "metadata": {},
   "source": [
    "Для начала выведем с помощью функций временного ряда признаки с помощью которых будет обучаться модель, затем обучим 4 модели (решающее древо, случайный лес, линейная регрессия и LightGBM), подберем им оптимальные параметры и перейдем к тестированию.\n",
    "\n",
    "Что касается создания признаков, я считаю что поскольку у нас на графике скользящего среднего график сильно возрастает, нам будет нужно больше разностей временного ряда чтобы модель видела увеличение заказов с течением времени, и соответственно при проверке обучения моделей, нам нужно будет не только менять гиперпараметры моделей но и параметры создания признаков."
   ]
  },
  {
   "cell_type": "code",
   "execution_count": 11,
   "metadata": {},
   "outputs": [],
   "source": [
    "def make_features(data, max_lag, rolling_mean_size):\n",
    "    data['dayofweek'] = data.index.dayofweek\n",
    "    for lag in range(1, max_lag + 1):\n",
    "        data['lag_{}'.format(lag)] = data['num_orders'].shift(lag)\n",
    "    data['rolling_mean'] = data['num_orders'].shift().rolling(rolling_mean_size).mean()\n",
    "    return(data)"
   ]
  },
  {
   "cell_type": "code",
   "execution_count": 12,
   "metadata": {},
   "outputs": [
    {
     "data": {
      "text/html": [
       "<div>\n",
       "<style scoped>\n",
       "    .dataframe tbody tr th:only-of-type {\n",
       "        vertical-align: middle;\n",
       "    }\n",
       "\n",
       "    .dataframe tbody tr th {\n",
       "        vertical-align: top;\n",
       "    }\n",
       "\n",
       "    .dataframe thead th {\n",
       "        text-align: right;\n",
       "    }\n",
       "</style>\n",
       "<table border=\"1\" class=\"dataframe\">\n",
       "  <thead>\n",
       "    <tr style=\"text-align: right;\">\n",
       "      <th></th>\n",
       "      <th>num_orders</th>\n",
       "      <th>dayofweek</th>\n",
       "      <th>lag_1</th>\n",
       "      <th>lag_2</th>\n",
       "      <th>lag_3</th>\n",
       "      <th>lag_4</th>\n",
       "      <th>lag_5</th>\n",
       "      <th>lag_6</th>\n",
       "      <th>lag_7</th>\n",
       "      <th>lag_8</th>\n",
       "      <th>...</th>\n",
       "      <th>lag_16</th>\n",
       "      <th>lag_17</th>\n",
       "      <th>lag_18</th>\n",
       "      <th>lag_19</th>\n",
       "      <th>lag_20</th>\n",
       "      <th>lag_21</th>\n",
       "      <th>lag_22</th>\n",
       "      <th>lag_23</th>\n",
       "      <th>lag_24</th>\n",
       "      <th>rolling_mean</th>\n",
       "    </tr>\n",
       "    <tr>\n",
       "      <th>datetime</th>\n",
       "      <th></th>\n",
       "      <th></th>\n",
       "      <th></th>\n",
       "      <th></th>\n",
       "      <th></th>\n",
       "      <th></th>\n",
       "      <th></th>\n",
       "      <th></th>\n",
       "      <th></th>\n",
       "      <th></th>\n",
       "      <th></th>\n",
       "      <th></th>\n",
       "      <th></th>\n",
       "      <th></th>\n",
       "      <th></th>\n",
       "      <th></th>\n",
       "      <th></th>\n",
       "      <th></th>\n",
       "      <th></th>\n",
       "      <th></th>\n",
       "      <th></th>\n",
       "    </tr>\n",
       "  </thead>\n",
       "  <tbody>\n",
       "    <tr>\n",
       "      <td>2018-03-01 00:00:00</td>\n",
       "      <td>124</td>\n",
       "      <td>3</td>\n",
       "      <td>NaN</td>\n",
       "      <td>NaN</td>\n",
       "      <td>NaN</td>\n",
       "      <td>NaN</td>\n",
       "      <td>NaN</td>\n",
       "      <td>NaN</td>\n",
       "      <td>NaN</td>\n",
       "      <td>NaN</td>\n",
       "      <td>...</td>\n",
       "      <td>NaN</td>\n",
       "      <td>NaN</td>\n",
       "      <td>NaN</td>\n",
       "      <td>NaN</td>\n",
       "      <td>NaN</td>\n",
       "      <td>NaN</td>\n",
       "      <td>NaN</td>\n",
       "      <td>NaN</td>\n",
       "      <td>NaN</td>\n",
       "      <td>NaN</td>\n",
       "    </tr>\n",
       "    <tr>\n",
       "      <td>2018-03-01 01:00:00</td>\n",
       "      <td>85</td>\n",
       "      <td>3</td>\n",
       "      <td>124.0</td>\n",
       "      <td>NaN</td>\n",
       "      <td>NaN</td>\n",
       "      <td>NaN</td>\n",
       "      <td>NaN</td>\n",
       "      <td>NaN</td>\n",
       "      <td>NaN</td>\n",
       "      <td>NaN</td>\n",
       "      <td>...</td>\n",
       "      <td>NaN</td>\n",
       "      <td>NaN</td>\n",
       "      <td>NaN</td>\n",
       "      <td>NaN</td>\n",
       "      <td>NaN</td>\n",
       "      <td>NaN</td>\n",
       "      <td>NaN</td>\n",
       "      <td>NaN</td>\n",
       "      <td>NaN</td>\n",
       "      <td>NaN</td>\n",
       "    </tr>\n",
       "    <tr>\n",
       "      <td>2018-03-01 02:00:00</td>\n",
       "      <td>71</td>\n",
       "      <td>3</td>\n",
       "      <td>85.0</td>\n",
       "      <td>124.0</td>\n",
       "      <td>NaN</td>\n",
       "      <td>NaN</td>\n",
       "      <td>NaN</td>\n",
       "      <td>NaN</td>\n",
       "      <td>NaN</td>\n",
       "      <td>NaN</td>\n",
       "      <td>...</td>\n",
       "      <td>NaN</td>\n",
       "      <td>NaN</td>\n",
       "      <td>NaN</td>\n",
       "      <td>NaN</td>\n",
       "      <td>NaN</td>\n",
       "      <td>NaN</td>\n",
       "      <td>NaN</td>\n",
       "      <td>NaN</td>\n",
       "      <td>NaN</td>\n",
       "      <td>NaN</td>\n",
       "    </tr>\n",
       "    <tr>\n",
       "      <td>2018-03-01 03:00:00</td>\n",
       "      <td>66</td>\n",
       "      <td>3</td>\n",
       "      <td>71.0</td>\n",
       "      <td>85.0</td>\n",
       "      <td>124.0</td>\n",
       "      <td>NaN</td>\n",
       "      <td>NaN</td>\n",
       "      <td>NaN</td>\n",
       "      <td>NaN</td>\n",
       "      <td>NaN</td>\n",
       "      <td>...</td>\n",
       "      <td>NaN</td>\n",
       "      <td>NaN</td>\n",
       "      <td>NaN</td>\n",
       "      <td>NaN</td>\n",
       "      <td>NaN</td>\n",
       "      <td>NaN</td>\n",
       "      <td>NaN</td>\n",
       "      <td>NaN</td>\n",
       "      <td>NaN</td>\n",
       "      <td>NaN</td>\n",
       "    </tr>\n",
       "    <tr>\n",
       "      <td>2018-03-01 04:00:00</td>\n",
       "      <td>43</td>\n",
       "      <td>3</td>\n",
       "      <td>66.0</td>\n",
       "      <td>71.0</td>\n",
       "      <td>85.0</td>\n",
       "      <td>124.0</td>\n",
       "      <td>NaN</td>\n",
       "      <td>NaN</td>\n",
       "      <td>NaN</td>\n",
       "      <td>NaN</td>\n",
       "      <td>...</td>\n",
       "      <td>NaN</td>\n",
       "      <td>NaN</td>\n",
       "      <td>NaN</td>\n",
       "      <td>NaN</td>\n",
       "      <td>NaN</td>\n",
       "      <td>NaN</td>\n",
       "      <td>NaN</td>\n",
       "      <td>NaN</td>\n",
       "      <td>NaN</td>\n",
       "      <td>NaN</td>\n",
       "    </tr>\n",
       "  </tbody>\n",
       "</table>\n",
       "<p>5 rows × 27 columns</p>\n",
       "</div>"
      ],
      "text/plain": [
       "                     num_orders  dayofweek  lag_1  lag_2  lag_3  lag_4  lag_5  \\\n",
       "datetime                                                                        \n",
       "2018-03-01 00:00:00         124          3    NaN    NaN    NaN    NaN    NaN   \n",
       "2018-03-01 01:00:00          85          3  124.0    NaN    NaN    NaN    NaN   \n",
       "2018-03-01 02:00:00          71          3   85.0  124.0    NaN    NaN    NaN   \n",
       "2018-03-01 03:00:00          66          3   71.0   85.0  124.0    NaN    NaN   \n",
       "2018-03-01 04:00:00          43          3   66.0   71.0   85.0  124.0    NaN   \n",
       "\n",
       "                     lag_6  lag_7  lag_8  ...  lag_16  lag_17  lag_18  lag_19  \\\n",
       "datetime                                  ...                                   \n",
       "2018-03-01 00:00:00    NaN    NaN    NaN  ...     NaN     NaN     NaN     NaN   \n",
       "2018-03-01 01:00:00    NaN    NaN    NaN  ...     NaN     NaN     NaN     NaN   \n",
       "2018-03-01 02:00:00    NaN    NaN    NaN  ...     NaN     NaN     NaN     NaN   \n",
       "2018-03-01 03:00:00    NaN    NaN    NaN  ...     NaN     NaN     NaN     NaN   \n",
       "2018-03-01 04:00:00    NaN    NaN    NaN  ...     NaN     NaN     NaN     NaN   \n",
       "\n",
       "                     lag_20  lag_21  lag_22  lag_23  lag_24  rolling_mean  \n",
       "datetime                                                                   \n",
       "2018-03-01 00:00:00     NaN     NaN     NaN     NaN     NaN           NaN  \n",
       "2018-03-01 01:00:00     NaN     NaN     NaN     NaN     NaN           NaN  \n",
       "2018-03-01 02:00:00     NaN     NaN     NaN     NaN     NaN           NaN  \n",
       "2018-03-01 03:00:00     NaN     NaN     NaN     NaN     NaN           NaN  \n",
       "2018-03-01 04:00:00     NaN     NaN     NaN     NaN     NaN           NaN  \n",
       "\n",
       "[5 rows x 27 columns]"
      ]
     },
     "execution_count": 12,
     "metadata": {},
     "output_type": "execute_result"
    }
   ],
   "source": [
    "df = make_features(df, 24, 24)\n",
    "df.head()"
   ]
  },
  {
   "cell_type": "code",
   "execution_count": 13,
   "metadata": {},
   "outputs": [],
   "source": [
    "train, test = train_test_split(df, shuffle=False, test_size=0.1)\n",
    "train = train.dropna()\n",
    "features_train = train.drop(['num_orders'], axis=1)\n",
    "target_train = train['num_orders']\n",
    "features_test = test.drop(['num_orders'], axis=1)\n",
    "target_test = test['num_orders']"
   ]
  },
  {
   "cell_type": "code",
   "execution_count": 14,
   "metadata": {},
   "outputs": [
    {
     "name": "stdout",
     "output_type": "stream",
     "text": [
      "Лучший результат: 55.120566197906754 Глубина дерева: 8\n",
      "CPU times: user 4.44 s, sys: 168 µs, total: 4.44 s\n",
      "Wall time: 4.55 s\n"
     ]
    }
   ],
   "source": [
    "%%time\n",
    "best_result_1 = 10000\n",
    "best_depth_1 = 0\n",
    "for depth_1 in range(1, 50):\n",
    "    model_1 = DecisionTreeRegressor(random_state = 12345, max_depth = depth_1)\n",
    "    model_1.fit(features_train, target_train)\n",
    "    answer_1 = model_1.predict(features_test)\n",
    "    result_1 = mean_squared_error(answer_1, target_test) ** 0.5\n",
    "    if result_1 < best_result_1:\n",
    "        best_model_1 = model_1\n",
    "        best_result_1 = result_1\n",
    "        best_depth_1 = depth_1\n",
    "\n",
    "print(\"Лучший результат:\", best_result_1, \"Глубина дерева:\", best_depth_1)"
   ]
  },
  {
   "cell_type": "code",
   "execution_count": 15,
   "metadata": {},
   "outputs": [
    {
     "name": "stdout",
     "output_type": "stream",
     "text": [
      "CPU times: user 1.3 s, sys: 11.4 ms, total: 1.31 s\n",
      "Wall time: 1.33 s\n"
     ]
    },
    {
     "data": {
      "text/plain": [
       "26.79649717831357"
      ]
     },
     "execution_count": 15,
     "metadata": {},
     "output_type": "execute_result"
    }
   ],
   "source": [
    "%%time\n",
    "my_scorer = make_scorer(mean_squared_error)\n",
    "model_2 = RandomForestRegressor(random_state = 12345, n_estimators = 13, max_depth = 7)\n",
    "np.mean(cross_val_score(model_2, features_train, target_train, scoring=my_scorer, cv = 4)) ** 0.5"
   ]
  },
  {
   "cell_type": "code",
   "execution_count": 16,
   "metadata": {},
   "outputs": [
    {
     "name": "stdout",
     "output_type": "stream",
     "text": [
      "CPU times: user 27 ms, sys: 60.2 ms, total: 87.1 ms\n",
      "Wall time: 91.6 ms\n"
     ]
    },
    {
     "data": {
      "text/plain": [
       "44.99004167816794"
      ]
     },
     "execution_count": 16,
     "metadata": {},
     "output_type": "execute_result"
    }
   ],
   "source": [
    "%%time\n",
    "model_3 = LinearRegression()\n",
    "model_3.fit(features_train, target_train)\n",
    "answer_3 = model_3.predict(features_test)\n",
    "result_3 = mean_squared_error(answer_3, target_test) ** 0.5\n",
    "result_3"
   ]
  },
  {
   "cell_type": "code",
   "execution_count": 17,
   "metadata": {},
   "outputs": [
    {
     "name": "stdout",
     "output_type": "stream",
     "text": [
      "CPU times: user 1.78 s, sys: 74.1 ms, total: 1.85 s\n",
      "Wall time: 1.91 s\n"
     ]
    },
    {
     "data": {
      "text/plain": [
       "42.2727031118916"
      ]
     },
     "execution_count": 17,
     "metadata": {},
     "output_type": "execute_result"
    }
   ],
   "source": [
    "%%time\n",
    "model_4 = LGBMRegressor()\n",
    "model_4.fit(features_train, target_train)\n",
    "answer_4 = model_4.predict(features_test)\n",
    "result_4 = mean_squared_error(answer_4, target_test) ** 0.5\n",
    "result_4"
   ]
  },
  {
   "cell_type": "markdown",
   "metadata": {},
   "source": [
    "На данный момент нашим требованиям удовлетворяют три модели, давайте проверим как отработает модель с тестовыми данными."
   ]
  },
  {
   "cell_type": "markdown",
   "metadata": {},
   "source": [
    "## Тестирование"
   ]
  },
  {
   "cell_type": "code",
   "execution_count": 18,
   "metadata": {},
   "outputs": [
    {
     "data": {
      "text/plain": [
       "45.63193862226019"
      ]
     },
     "execution_count": 18,
     "metadata": {},
     "output_type": "execute_result"
    }
   ],
   "source": [
    "model_rfr = RandomForestRegressor(random_state = 12345, n_estimators = 21, max_depth = 8)\n",
    "model_rfr.fit(features_train, target_train)\n",
    "answer_rfr = model_rfr.predict(features_test)\n",
    "result_rfr = mean_squared_error(answer_rfr, target_test) ** 0.5\n",
    "result_rfr"
   ]
  },
  {
   "cell_type": "code",
   "execution_count": 19,
   "metadata": {},
   "outputs": [
    {
     "data": {
      "text/plain": [
       "Text(0, 0.5, 'Количество заказов')"
      ]
     },
     "execution_count": 19,
     "metadata": {},
     "output_type": "execute_result"
    },
    {
     "data": {
      "image/png": "[encoded data removed]",
      "text/plain": [
       "<Figure size 936x360 with 1 Axes>"
      ]
     },
     "metadata": {
      "needs_background": "light"
     },
     "output_type": "display_data"
    }
   ],
   "source": [
    "df_rfr = pd.DataFrame(target_test)\n",
    "df_rfr['predict'] = answer_rfr\n",
    "df_rfr['2018-08-17':'2018-08-21'].plot(figsize = (13, 5))\n",
    "plt.title('График сравнения факта и предсказания')\n",
    "plt.xlabel(\"Время\")\n",
    "plt.ylabel(\"Количество заказов\")"
   ]
  },
  {
   "cell_type": "code",
   "execution_count": 20,
   "metadata": {},
   "outputs": [
    {
     "data": {
      "text/plain": [
       "44.99004167816794"
      ]
     },
     "execution_count": 20,
     "metadata": {},
     "output_type": "execute_result"
    }
   ],
   "source": [
    "model_lr = LinearRegression()\n",
    "model_lr.fit(features_train, target_train)\n",
    "answer_lr = model_lr.predict(features_test)\n",
    "result_lr = mean_squared_error(answer_lr, target_test) ** 0.5\n",
    "result_lr"
   ]
  },
  {
   "cell_type": "code",
   "execution_count": 21,
   "metadata": {},
   "outputs": [
    {
     "data": {
      "text/plain": [
       "Text(0, 0.5, 'Количество заказов')"
      ]
     },
     "execution_count": 21,
     "metadata": {},
     "output_type": "execute_result"
    },
    {
     "data": {
      "image/png": "[encoded data removed]",
      "text/plain": [
       "<Figure size 936x360 with 1 Axes>"
      ]
     },
     "metadata": {
      "needs_background": "light"
     },
     "output_type": "display_data"
    }
   ],
   "source": [
    "df_lr = pd.DataFrame(target_test)\n",
    "df_lr['predict'] = answer_lr\n",
    "df_lr['2018-08-17':'2018-08-21'].plot(figsize = (13, 5))\n",
    "plt.title('График сравнения факта и предсказания')\n",
    "plt.xlabel(\"Время\")\n",
    "plt.ylabel(\"Количество заказов\")"
   ]
  },
  {
   "cell_type": "code",
   "execution_count": 22,
   "metadata": {},
   "outputs": [
    {
     "data": {
      "text/plain": [
       "42.2727031118916"
      ]
     },
     "execution_count": 22,
     "metadata": {},
     "output_type": "execute_result"
    }
   ],
   "source": [
    "model_gbm = LGBMRegressor()\n",
    "model_gbm.fit(features_train, target_train)\n",
    "answer_gbm = model_gbm.predict(features_test)\n",
    "result_gbm = mean_squared_error(answer_gbm, target_test) ** 0.5\n",
    "result_gbm"
   ]
  },
  {
   "cell_type": "code",
   "execution_count": 23,
   "metadata": {},
   "outputs": [
    {
     "data": {
      "text/plain": [
       "Text(0, 0.5, 'Количество заказов')"
      ]
     },
     "execution_count": 23,
     "metadata": {},
     "output_type": "execute_result"
    },
    {
     "data": {
      "image/png": "[encoded data removed]",
      "text/plain": [
       "<Figure size 936x360 with 1 Axes>"
      ]
     },
     "metadata": {
      "needs_background": "light"
     },
     "output_type": "display_data"
    }
   ],
   "source": [
    "df_gbm = pd.DataFrame(target_test)\n",
    "df_gbm['predict'] = answer_gbm\n",
    "df_gbm['2018-08-17':'2018-08-21'].plot(figsize = (13, 5))\n",
    "plt.title('График сравнения факта и предсказания')\n",
    "plt.xlabel(\"Время\")\n",
    "plt.ylabel(\"Количество заказов\")"
   ]
  },
  {
   "cell_type": "markdown",
   "metadata": {},
   "source": [
    "### Вывод:\n",
    "\n",
    "Были обучены три модели, которые смогли предсказать количество заказов на тестовой выборке c необходимой точностью, самую высокую из них показала модель градиентного бустинга. Теперь можно будет представить все три модели заказчику с графиками сравнения факта и предсказаний, и пусть заказчик сам решает предсказания какой модели ему нравится больше. По графикам видно что модель градиентного бустинга предсказывает более усредненные результаты, чаще всего с занижением к реальному кол-ву заказов и как мне кажется бизнесу лучше ориентироваться на заниженые предсказания чтобы не ошибиться в части расходов и прибыли, а модель случайного леса лучше чувствует тренды, но за счет этого менее точна т.к. более склонна к выбросам."
   ]
  },
  {
   "cell_type": "code",
   "execution_count": null,
   "metadata": {},
   "outputs": [],
   "source": []
  }
 ],
 "metadata": {
  "ExecuteTimeLog": [
   {
    "duration": 1133,
    "start_time": "2021-11-21T21:01:31.274Z"
   },
   {
    "duration": 40,
    "start_time": "2021-11-21T21:01:32.409Z"
   },
   {
    "duration": 6,
    "start_time": "2021-11-21T21:01:32.451Z"
   },
   {
    "duration": 13,
    "start_time": "2021-11-21T21:01:32.781Z"
   },
   {
    "duration": 40,
    "start_time": "2021-11-21T21:30:34.498Z"
   },
   {
    "duration": 5,
    "start_time": "2021-11-21T21:30:37.292Z"
   },
   {
    "duration": 11,
    "start_time": "2021-11-21T21:30:41.480Z"
   },
   {
    "duration": 4,
    "start_time": "2021-11-21T21:31:12.778Z"
   },
   {
    "duration": 36,
    "start_time": "2021-11-21T21:31:14.818Z"
   },
   {
    "duration": 6,
    "start_time": "2021-11-21T21:31:15.719Z"
   },
   {
    "duration": 12,
    "start_time": "2021-11-21T21:31:16.542Z"
   },
   {
    "duration": 9,
    "start_time": "2021-11-21T21:32:56.826Z"
   },
   {
    "duration": 10,
    "start_time": "2021-11-21T21:32:57.321Z"
   },
   {
    "duration": 1153,
    "start_time": "2021-11-22T21:41:42.628Z"
   },
   {
    "duration": 87,
    "start_time": "2021-11-22T21:41:43.783Z"
   },
   {
    "duration": 5,
    "start_time": "2021-11-22T21:41:43.873Z"
   },
   {
    "duration": 9,
    "start_time": "2021-11-22T21:41:43.880Z"
   },
   {
    "duration": 11,
    "start_time": "2021-11-22T21:41:43.890Z"
   },
   {
    "duration": 4,
    "start_time": "2021-11-22T21:41:43.903Z"
   },
   {
    "duration": 5,
    "start_time": "2021-11-22T21:52:43.215Z"
   },
   {
    "duration": 527,
    "start_time": "2021-11-22T21:52:59.112Z"
   },
   {
    "duration": 505,
    "start_time": "2021-11-22T21:53:37.537Z"
   },
   {
    "duration": 394,
    "start_time": "2021-11-22T22:04:25.446Z"
   },
   {
    "duration": 86,
    "start_time": "2021-11-22T22:04:43.702Z"
   },
   {
    "duration": 283,
    "start_time": "2021-11-22T22:04:48.119Z"
   },
   {
    "duration": 269,
    "start_time": "2021-11-22T22:05:21.836Z"
   },
   {
    "duration": 175,
    "start_time": "2021-11-22T22:05:45.909Z"
   },
   {
    "duration": 239,
    "start_time": "2021-11-22T22:07:06.170Z"
   },
   {
    "duration": 226,
    "start_time": "2021-11-22T22:07:14.290Z"
   },
   {
    "duration": 208,
    "start_time": "2021-11-22T22:08:22.125Z"
   },
   {
    "duration": 271,
    "start_time": "2021-11-22T22:10:39.385Z"
   },
   {
    "duration": 221,
    "start_time": "2021-11-22T22:12:51.285Z"
   },
   {
    "duration": 272,
    "start_time": "2021-11-22T22:13:40.749Z"
   },
   {
    "duration": 4,
    "start_time": "2021-11-22T22:44:06.723Z"
   },
   {
    "duration": 268,
    "start_time": "2021-11-22T22:45:39.941Z"
   },
   {
    "duration": 7567,
    "start_time": "2021-11-22T22:45:59.341Z"
   },
   {
    "duration": 4,
    "start_time": "2021-11-22T22:46:41.276Z"
   },
   {
    "duration": 21,
    "start_time": "2021-11-22T22:46:43.035Z"
   },
   {
    "duration": 10,
    "start_time": "2021-11-22T23:15:11.617Z"
   },
   {
    "duration": 1228,
    "start_time": "2021-11-22T23:22:28.033Z"
   },
   {
    "duration": 51,
    "start_time": "2021-11-22T23:24:19.655Z"
   },
   {
    "duration": 229,
    "start_time": "2021-11-22T23:25:02.929Z"
   },
   {
    "duration": 145,
    "start_time": "2021-11-22T23:25:22.877Z"
   },
   {
    "duration": 121,
    "start_time": "2021-11-22T23:25:28.558Z"
   },
   {
    "duration": 227,
    "start_time": "2021-11-22T23:25:35.477Z"
   },
   {
    "duration": 10,
    "start_time": "2021-11-22T23:27:02.191Z"
   },
   {
    "duration": 1876,
    "start_time": "2021-11-22T23:27:45.750Z"
   },
   {
    "duration": 1860,
    "start_time": "2021-11-22T23:27:59.006Z"
   },
   {
    "duration": 1279,
    "start_time": "2021-11-22T23:28:21.773Z"
   },
   {
    "duration": 722,
    "start_time": "2021-11-22T23:28:31.130Z"
   },
   {
    "duration": 666,
    "start_time": "2021-11-22T23:29:33.085Z"
   },
   {
    "duration": 809,
    "start_time": "2021-11-22T23:29:41.754Z"
   },
   {
    "duration": 2081,
    "start_time": "2021-11-22T23:50:10.064Z"
   },
   {
    "duration": 69,
    "start_time": "2021-11-22T23:53:45.359Z"
   },
   {
    "duration": 48,
    "start_time": "2021-11-22T23:54:03.464Z"
   },
   {
    "duration": 92,
    "start_time": "2021-11-22T23:54:08.751Z"
   },
   {
    "duration": 148,
    "start_time": "2021-11-22T23:54:19.484Z"
   },
   {
    "duration": 22,
    "start_time": "2021-11-22T23:58:03.423Z"
   },
   {
    "duration": 10,
    "start_time": "2021-11-22T23:58:04.083Z"
   },
   {
    "duration": 1768,
    "start_time": "2021-11-22T23:58:04.766Z"
   },
   {
    "duration": 355,
    "start_time": "2021-11-22T23:58:08.097Z"
   },
   {
    "duration": 523,
    "start_time": "2021-11-22T23:58:25.509Z"
   },
   {
    "duration": 10,
    "start_time": "2021-11-22T23:58:27.527Z"
   },
   {
    "duration": 2120,
    "start_time": "2021-11-22T23:58:32.227Z"
   },
   {
    "duration": 18,
    "start_time": "2021-11-22T23:59:02.894Z"
   },
   {
    "duration": 9,
    "start_time": "2021-11-22T23:59:03.530Z"
   },
   {
    "duration": 1800,
    "start_time": "2021-11-22T23:59:04.403Z"
   },
   {
    "duration": 526,
    "start_time": "2021-11-22T23:59:06.205Z"
   },
   {
    "duration": 11,
    "start_time": "2021-11-22T23:59:22.070Z"
   },
   {
    "duration": 2518,
    "start_time": "2021-11-22T23:59:24.031Z"
   },
   {
    "duration": 16,
    "start_time": "2021-11-22T23:59:59.489Z"
   },
   {
    "duration": 9,
    "start_time": "2021-11-23T00:00:00.123Z"
   },
   {
    "duration": 1849,
    "start_time": "2021-11-23T00:00:00.674Z"
   },
   {
    "duration": 530,
    "start_time": "2021-11-23T00:00:02.525Z"
   },
   {
    "duration": 10,
    "start_time": "2021-11-23T00:00:03.057Z"
   },
   {
    "duration": 2379,
    "start_time": "2021-11-23T00:00:03.070Z"
   },
   {
    "duration": 26,
    "start_time": "2021-11-23T00:00:33.436Z"
   },
   {
    "duration": 9,
    "start_time": "2021-11-23T00:00:34.785Z"
   },
   {
    "duration": 2527,
    "start_time": "2021-11-23T00:00:45.408Z"
   },
   {
    "duration": 741,
    "start_time": "2021-11-23T00:00:47.944Z"
   },
   {
    "duration": 157,
    "start_time": "2021-11-23T00:00:48.687Z"
   },
   {
    "duration": 2819,
    "start_time": "2021-11-23T00:00:48.847Z"
   },
   {
    "duration": 23,
    "start_time": "2021-11-23T00:01:08.489Z"
   },
   {
    "duration": 9,
    "start_time": "2021-11-23T00:01:09.013Z"
   },
   {
    "duration": 2613,
    "start_time": "2021-11-23T00:01:09.414Z"
   },
   {
    "duration": 770,
    "start_time": "2021-11-23T00:01:12.028Z"
   },
   {
    "duration": 57,
    "start_time": "2021-11-23T00:01:12.800Z"
   },
   {
    "duration": 8190,
    "start_time": "2021-11-23T00:01:12.859Z"
   },
   {
    "duration": 32,
    "start_time": "2021-11-23T00:01:34.457Z"
   },
   {
    "duration": 9,
    "start_time": "2021-11-23T00:01:35.141Z"
   },
   {
    "duration": 2876,
    "start_time": "2021-11-23T00:01:35.674Z"
   },
   {
    "duration": 904,
    "start_time": "2021-11-23T00:01:38.552Z"
   },
   {
    "duration": 13,
    "start_time": "2021-11-23T00:01:39.458Z"
   },
   {
    "duration": 3390,
    "start_time": "2021-11-23T00:01:39.473Z"
   },
   {
    "duration": 24,
    "start_time": "2021-11-23T00:01:52.904Z"
   },
   {
    "duration": 11,
    "start_time": "2021-11-23T00:01:53.748Z"
   },
   {
    "duration": 2551,
    "start_time": "2021-11-23T00:01:54.337Z"
   },
   {
    "duration": 758,
    "start_time": "2021-11-23T00:01:56.890Z"
   },
   {
    "duration": 98,
    "start_time": "2021-11-23T00:01:57.651Z"
   },
   {
    "duration": 2913,
    "start_time": "2021-11-23T00:01:57.751Z"
   },
   {
    "duration": 25,
    "start_time": "2021-11-23T00:02:09.825Z"
   },
   {
    "duration": 12,
    "start_time": "2021-11-23T00:02:09.983Z"
   },
   {
    "duration": 2624,
    "start_time": "2021-11-23T00:02:10.176Z"
   },
   {
    "duration": 777,
    "start_time": "2021-11-23T00:02:12.802Z"
   },
   {
    "duration": 69,
    "start_time": "2021-11-23T00:02:13.581Z"
   },
   {
    "duration": 2707,
    "start_time": "2021-11-23T00:02:13.652Z"
   },
   {
    "duration": 25,
    "start_time": "2021-11-23T00:02:26.774Z"
   },
   {
    "duration": 10,
    "start_time": "2021-11-23T00:02:27.536Z"
   },
   {
    "duration": 2951,
    "start_time": "2021-11-23T00:02:27.720Z"
   },
   {
    "duration": 858,
    "start_time": "2021-11-23T00:02:30.673Z"
   },
   {
    "duration": 118,
    "start_time": "2021-11-23T00:02:31.533Z"
   },
   {
    "duration": 2512,
    "start_time": "2021-11-23T00:02:31.743Z"
   },
   {
    "duration": 469,
    "start_time": "2021-11-23T00:02:34.257Z"
   },
   {
    "duration": 1653,
    "start_time": "2021-11-23T00:03:54.005Z"
   },
   {
    "duration": 573,
    "start_time": "2021-11-23T00:04:03.720Z"
   },
   {
    "duration": 499,
    "start_time": "2021-11-23T00:10:59.569Z"
   },
   {
    "duration": 740,
    "start_time": "2021-11-23T00:11:05.117Z"
   },
   {
    "duration": 1014,
    "start_time": "2021-11-23T00:11:13.126Z"
   },
   {
    "duration": 1504,
    "start_time": "2021-11-23T00:11:19.813Z"
   },
   {
    "duration": 2263,
    "start_time": "2021-11-23T00:11:27.041Z"
   },
   {
    "duration": 4563,
    "start_time": "2021-11-23T00:11:36.148Z"
   },
   {
    "duration": 2230,
    "start_time": "2021-11-23T00:12:09.906Z"
   },
   {
    "duration": 626,
    "start_time": "2021-11-23T00:12:41.179Z"
   },
   {
    "duration": 2600,
    "start_time": "2021-11-23T00:14:31.559Z"
   },
   {
    "duration": 2908,
    "start_time": "2021-11-23T00:14:48.145Z"
   },
   {
    "duration": 3132,
    "start_time": "2021-11-23T00:15:12.017Z"
   },
   {
    "duration": 2155,
    "start_time": "2021-11-23T00:15:20.602Z"
   },
   {
    "duration": 2850,
    "start_time": "2021-11-23T00:15:32.310Z"
   },
   {
    "duration": 2713,
    "start_time": "2021-11-23T00:15:45.233Z"
   },
   {
    "duration": 2811,
    "start_time": "2021-11-23T00:15:54.634Z"
   },
   {
    "duration": 1182,
    "start_time": "2021-11-23T00:21:12.444Z"
   },
   {
    "duration": 43,
    "start_time": "2021-11-23T00:21:13.628Z"
   },
   {
    "duration": 5,
    "start_time": "2021-11-23T00:21:13.673Z"
   },
   {
    "duration": 22,
    "start_time": "2021-11-23T00:21:13.680Z"
   },
   {
    "duration": 23,
    "start_time": "2021-11-23T00:21:13.704Z"
   },
   {
    "duration": 499,
    "start_time": "2021-11-23T00:21:13.729Z"
   },
   {
    "duration": 229,
    "start_time": "2021-11-23T00:21:14.229Z"
   },
   {
    "duration": 274,
    "start_time": "2021-11-23T00:21:14.461Z"
   },
   {
    "duration": 287,
    "start_time": "2021-11-23T00:21:14.737Z"
   },
   {
    "duration": 274,
    "start_time": "2021-11-23T00:21:15.026Z"
   },
   {
    "duration": 4,
    "start_time": "2021-11-23T00:21:15.302Z"
   },
   {
    "duration": 54,
    "start_time": "2021-11-23T00:21:15.308Z"
   },
   {
    "duration": 11,
    "start_time": "2021-11-23T00:21:15.363Z"
   },
   {
    "duration": 2983,
    "start_time": "2021-11-23T00:21:15.375Z"
   },
   {
    "duration": 1688,
    "start_time": "2021-11-23T00:21:18.360Z"
   },
   {
    "duration": 196,
    "start_time": "2021-11-23T00:21:20.050Z"
   },
   {
    "duration": 3009,
    "start_time": "2021-11-23T00:21:20.248Z"
   },
   {
    "duration": 643,
    "start_time": "2021-11-23T00:21:23.258Z"
   },
   {
    "duration": 3042,
    "start_time": "2021-11-23T00:21:23.903Z"
   },
   {
    "duration": 2146,
    "start_time": "2021-11-23T01:29:11.906Z"
   },
   {
    "duration": 194,
    "start_time": "2021-11-23T01:29:13.860Z"
   },
   {
    "duration": 184,
    "start_time": "2021-11-23T01:29:13.871Z"
   },
   {
    "duration": 180,
    "start_time": "2021-11-23T01:29:13.876Z"
   },
   {
    "duration": 187,
    "start_time": "2021-11-23T01:29:14.220Z"
   },
   {
    "duration": 1410,
    "start_time": "2021-11-23T01:29:27.678Z"
   },
   {
    "duration": 52,
    "start_time": "2021-11-23T01:29:33.715Z"
   },
   {
    "duration": 6,
    "start_time": "2021-11-23T01:29:33.902Z"
   },
   {
    "duration": 12,
    "start_time": "2021-11-23T01:29:34.504Z"
   },
   {
    "duration": 11,
    "start_time": "2021-11-23T01:29:35.389Z"
   },
   {
    "duration": 536,
    "start_time": "2021-11-23T01:30:21.099Z"
   },
   {
    "duration": 345,
    "start_time": "2021-11-23T01:30:22.477Z"
   },
   {
    "duration": 484,
    "start_time": "2021-11-23T01:30:23.152Z"
   },
   {
    "duration": 242,
    "start_time": "2021-11-23T01:30:23.919Z"
   },
   {
    "duration": 281,
    "start_time": "2021-11-23T01:30:24.556Z"
   },
   {
    "duration": 4,
    "start_time": "2021-11-23T01:31:23.995Z"
   },
   {
    "duration": 36,
    "start_time": "2021-11-23T01:31:24.502Z"
   },
   {
    "duration": 12,
    "start_time": "2021-11-23T01:31:25.055Z"
   },
   {
    "duration": 3034,
    "start_time": "2021-11-23T01:31:25.773Z"
   },
   {
    "duration": 347,
    "start_time": "2021-11-23T01:31:28.809Z"
   },
   {
    "duration": 40,
    "start_time": "2021-11-23T01:31:29.158Z"
   },
   {
    "duration": 3008,
    "start_time": "2021-11-23T01:31:29.200Z"
   },
   {
    "duration": 635,
    "start_time": "2021-11-23T01:31:32.209Z"
   },
   {
    "duration": 3162,
    "start_time": "2021-11-23T01:31:32.845Z"
   },
   {
    "duration": 1542,
    "start_time": "2021-11-23T22:35:35.012Z"
   },
   {
    "duration": 54,
    "start_time": "2021-11-23T22:35:36.556Z"
   },
   {
    "duration": 18,
    "start_time": "2021-11-23T22:35:36.613Z"
   },
   {
    "duration": 15,
    "start_time": "2021-11-23T22:35:36.635Z"
   },
   {
    "duration": 19,
    "start_time": "2021-11-23T22:35:36.653Z"
   },
   {
    "duration": 908,
    "start_time": "2021-11-23T22:35:36.675Z"
   },
   {
    "duration": 500,
    "start_time": "2021-11-23T22:35:37.586Z"
   },
   {
    "duration": 517,
    "start_time": "2021-11-23T22:35:38.089Z"
   },
   {
    "duration": 483,
    "start_time": "2021-11-23T22:35:38.610Z"
   },
   {
    "duration": 490,
    "start_time": "2021-11-23T22:35:39.097Z"
   },
   {
    "duration": 9,
    "start_time": "2021-11-23T22:35:39.590Z"
   },
   {
    "duration": 46,
    "start_time": "2021-11-23T22:35:39.602Z"
   },
   {
    "duration": 15,
    "start_time": "2021-11-23T22:35:39.651Z"
   },
   {
    "duration": 870,
    "start_time": "2021-11-23T22:35:39.669Z"
   },
   {
    "duration": 530,
    "start_time": "2021-11-23T22:35:40.542Z"
   },
   {
    "duration": 11,
    "start_time": "2021-11-23T22:35:41.074Z"
   },
   {
    "duration": 7243,
    "start_time": "2021-11-23T22:35:41.088Z"
   },
   {
    "duration": 196,
    "start_time": "2021-11-23T22:35:48.334Z"
   },
   {
    "duration": 2201,
    "start_time": "2021-11-23T22:35:48.533Z"
   },
   {
    "duration": 239,
    "start_time": "2021-11-23T22:36:38.884Z"
   },
   {
    "duration": 13,
    "start_time": "2021-11-23T22:36:46.276Z"
   },
   {
    "duration": 2949,
    "start_time": "2021-11-23T22:36:50.483Z"
   },
   {
    "duration": 1955,
    "start_time": "2021-11-23T22:36:58.677Z"
   },
   {
    "duration": 3563,
    "start_time": "2021-11-23T22:37:11.479Z"
   },
   {
    "duration": 2683,
    "start_time": "2021-11-23T22:37:23.248Z"
   },
   {
    "duration": 2127,
    "start_time": "2021-11-23T22:37:31.508Z"
   },
   {
    "duration": 1943,
    "start_time": "2021-11-23T22:37:41.105Z"
   },
   {
    "duration": 73,
    "start_time": "2021-11-23T22:37:58.128Z"
   },
   {
    "duration": 122,
    "start_time": "2021-11-23T22:38:04.520Z"
   },
   {
    "duration": 251,
    "start_time": "2021-11-23T22:38:11.038Z"
   },
   {
    "duration": 514,
    "start_time": "2021-11-23T22:38:17.435Z"
   },
   {
    "duration": 51,
    "start_time": "2021-11-23T22:39:02.583Z"
   },
   {
    "duration": 15,
    "start_time": "2021-11-23T22:39:04.716Z"
   },
   {
    "duration": 4106,
    "start_time": "2021-11-23T22:39:05.227Z"
   },
   {
    "duration": 847,
    "start_time": "2021-11-23T22:39:09.335Z"
   },
   {
    "duration": 148,
    "start_time": "2021-11-23T22:39:10.185Z"
   },
   {
    "duration": 3895,
    "start_time": "2021-11-23T22:39:10.337Z"
   },
   {
    "duration": 1952,
    "start_time": "2021-11-23T22:39:14.234Z"
   },
   {
    "duration": 3358,
    "start_time": "2021-11-23T22:39:16.189Z"
   },
   {
    "duration": 2998,
    "start_time": "2021-11-23T22:39:55.351Z"
   },
   {
    "duration": 3052,
    "start_time": "2021-11-23T22:40:12.885Z"
   },
   {
    "duration": 3481,
    "start_time": "2021-11-23T22:40:25.965Z"
   },
   {
    "duration": 3643,
    "start_time": "2021-11-23T22:40:38.899Z"
   },
   {
    "duration": 3480,
    "start_time": "2021-11-23T22:40:48.068Z"
   },
   {
    "duration": 1223,
    "start_time": "2021-11-23T22:41:16.465Z"
   },
   {
    "duration": 1502,
    "start_time": "2021-11-23T22:41:29.361Z"
   },
   {
    "duration": 860,
    "start_time": "2021-11-23T22:41:36.398Z"
   },
   {
    "duration": 204,
    "start_time": "2021-11-23T22:41:48.297Z"
   },
   {
    "duration": 202,
    "start_time": "2021-11-23T22:41:54.037Z"
   },
   {
    "duration": 470,
    "start_time": "2021-11-23T22:41:59.568Z"
   },
   {
    "duration": 579,
    "start_time": "2021-11-23T22:42:10.637Z"
   },
   {
    "duration": 721,
    "start_time": "2021-11-23T22:42:24.545Z"
   },
   {
    "duration": 635,
    "start_time": "2021-11-23T22:42:31.256Z"
   },
   {
    "duration": 559,
    "start_time": "2021-11-23T22:42:37.020Z"
   },
   {
    "duration": 580,
    "start_time": "2021-11-23T22:42:43.456Z"
   },
   {
    "duration": 611,
    "start_time": "2021-11-23T22:42:50.911Z"
   },
   {
    "duration": 582,
    "start_time": "2021-11-23T22:42:57.886Z"
   },
   {
    "duration": 41,
    "start_time": "2021-11-23T22:45:55.759Z"
   },
   {
    "duration": 14,
    "start_time": "2021-11-23T22:45:57.291Z"
   },
   {
    "duration": 3775,
    "start_time": "2021-11-23T22:45:57.692Z"
   },
   {
    "duration": 1145,
    "start_time": "2021-11-23T22:46:01.470Z"
   },
   {
    "duration": 213,
    "start_time": "2021-11-23T22:46:02.618Z"
   },
   {
    "duration": 3513,
    "start_time": "2021-11-23T22:46:02.833Z"
   },
   {
    "duration": 642,
    "start_time": "2021-11-23T22:46:06.348Z"
   },
   {
    "duration": 3459,
    "start_time": "2021-11-23T22:46:06.993Z"
   },
   {
    "duration": 41,
    "start_time": "2021-11-23T22:46:39.579Z"
   },
   {
    "duration": 15,
    "start_time": "2021-11-23T22:46:40.176Z"
   },
   {
    "duration": 3877,
    "start_time": "2021-11-23T22:46:40.337Z"
   },
   {
    "duration": 1131,
    "start_time": "2021-11-23T22:46:44.216Z"
   },
   {
    "duration": 182,
    "start_time": "2021-11-23T22:46:45.350Z"
   },
   {
    "duration": 3601,
    "start_time": "2021-11-23T22:46:45.536Z"
   },
   {
    "duration": 636,
    "start_time": "2021-11-23T22:46:49.139Z"
   },
   {
    "duration": 3564,
    "start_time": "2021-11-23T22:46:49.778Z"
   },
   {
    "duration": 44,
    "start_time": "2021-11-23T22:49:31.900Z"
   },
   {
    "duration": 16,
    "start_time": "2021-11-23T22:49:32.471Z"
   },
   {
    "duration": 4488,
    "start_time": "2021-11-23T22:49:32.650Z"
   },
   {
    "duration": 1354,
    "start_time": "2021-11-23T22:49:37.141Z"
   },
   {
    "duration": 234,
    "start_time": "2021-11-23T22:49:38.499Z"
   },
   {
    "duration": 3994,
    "start_time": "2021-11-23T22:49:38.737Z"
   },
   {
    "duration": 708,
    "start_time": "2021-11-23T22:49:42.734Z"
   },
   {
    "duration": 3787,
    "start_time": "2021-11-23T22:49:43.444Z"
   },
   {
    "duration": 6,
    "start_time": "2021-11-23T23:00:06.641Z"
   },
   {
    "duration": 46,
    "start_time": "2021-11-23T23:00:19.583Z"
   },
   {
    "duration": 61,
    "start_time": "2021-11-23T23:02:02.448Z"
   },
   {
    "duration": 6,
    "start_time": "2021-11-23T23:02:38.602Z"
   },
   {
    "duration": 43,
    "start_time": "2021-11-23T23:02:40.709Z"
   },
   {
    "duration": 14,
    "start_time": "2021-11-23T23:02:41.524Z"
   },
   {
    "duration": 4848,
    "start_time": "2021-11-23T23:02:41.709Z"
   },
   {
    "duration": 1387,
    "start_time": "2021-11-23T23:02:46.561Z"
   },
   {
    "duration": 179,
    "start_time": "2021-11-23T23:02:47.951Z"
   },
   {
    "duration": 4304,
    "start_time": "2021-11-23T23:02:48.133Z"
   },
   {
    "duration": 772,
    "start_time": "2021-11-23T23:02:52.440Z"
   },
   {
    "duration": 3832,
    "start_time": "2021-11-23T23:02:53.214Z"
   },
   {
    "duration": 719,
    "start_time": "2021-11-23T23:04:43.026Z"
   },
   {
    "duration": 133,
    "start_time": "2021-11-23T23:07:04.196Z"
   },
   {
    "duration": 7,
    "start_time": "2021-11-23T23:09:39.857Z"
   },
   {
    "duration": 371,
    "start_time": "2021-11-23T23:09:54.708Z"
   },
   {
    "duration": 251,
    "start_time": "2021-11-23T23:11:05.452Z"
   },
   {
    "duration": 271,
    "start_time": "2021-11-23T23:12:20.224Z"
   },
   {
    "duration": 439,
    "start_time": "2021-11-23T23:14:02.146Z"
   },
   {
    "duration": 269,
    "start_time": "2021-11-23T23:14:07.492Z"
   },
   {
    "duration": 14,
    "start_time": "2021-11-23T23:15:48.489Z"
   },
   {
    "duration": 16,
    "start_time": "2021-11-23T23:16:27.054Z"
   },
   {
    "duration": 8,
    "start_time": "2021-11-23T23:16:47.379Z"
   },
   {
    "duration": 416,
    "start_time": "2021-11-23T23:16:55.025Z"
   },
   {
    "duration": 312,
    "start_time": "2021-11-23T23:17:09.826Z"
   },
   {
    "duration": 367,
    "start_time": "2021-11-23T23:18:01.493Z"
   },
   {
    "duration": 387,
    "start_time": "2021-11-23T23:19:14.906Z"
   },
   {
    "duration": 358,
    "start_time": "2021-11-23T23:20:07.837Z"
   },
   {
    "duration": 1650,
    "start_time": "2021-11-23T23:20:49.592Z"
   },
   {
    "duration": 1695,
    "start_time": "2021-11-23T23:21:04.447Z"
   },
   {
    "duration": 352,
    "start_time": "2021-11-23T23:21:13.135Z"
   },
   {
    "duration": 376,
    "start_time": "2021-11-23T23:24:08.824Z"
   },
   {
    "duration": 574,
    "start_time": "2021-11-23T23:24:26.330Z"
   },
   {
    "duration": 382,
    "start_time": "2021-11-23T23:24:33.519Z"
   },
   {
    "duration": 5,
    "start_time": "2021-11-23T23:36:33.693Z"
   },
   {
    "duration": 44,
    "start_time": "2021-11-23T23:36:36.753Z"
   },
   {
    "duration": 14,
    "start_time": "2021-11-23T23:36:49.835Z"
   },
   {
    "duration": 4824,
    "start_time": "2021-11-23T23:36:50.009Z"
   },
   {
    "duration": 1401,
    "start_time": "2021-11-23T23:36:54.835Z"
   },
   {
    "duration": 101,
    "start_time": "2021-11-23T23:36:56.239Z"
   },
   {
    "duration": 1699,
    "start_time": "2021-11-23T23:36:56.430Z"
   },
   {
    "duration": 738,
    "start_time": "2021-11-23T23:36:58.132Z"
   },
   {
    "duration": 405,
    "start_time": "2021-11-23T23:36:58.873Z"
   },
   {
    "duration": 150,
    "start_time": "2021-11-23T23:36:59.280Z"
   },
   {
    "duration": 461,
    "start_time": "2021-11-23T23:36:59.435Z"
   },
   {
    "duration": 1743,
    "start_time": "2021-11-23T23:36:59.899Z"
   },
   {
    "duration": 412,
    "start_time": "2021-11-23T23:37:01.644Z"
   },
   {
    "duration": 5,
    "start_time": "2021-11-23T23:37:34.526Z"
   },
   {
    "duration": 41,
    "start_time": "2021-11-23T23:37:35.397Z"
   },
   {
    "duration": 14,
    "start_time": "2021-11-23T23:37:35.757Z"
   },
   {
    "duration": 4760,
    "start_time": "2021-11-23T23:37:35.927Z"
   },
   {
    "duration": 1603,
    "start_time": "2021-11-23T23:37:40.690Z"
   },
   {
    "duration": 135,
    "start_time": "2021-11-23T23:37:42.296Z"
   },
   {
    "duration": 1811,
    "start_time": "2021-11-23T23:37:42.435Z"
   },
   {
    "duration": 808,
    "start_time": "2021-11-23T23:37:44.250Z"
   },
   {
    "duration": 393,
    "start_time": "2021-11-23T23:37:45.061Z"
   },
   {
    "duration": 172,
    "start_time": "2021-11-23T23:37:45.457Z"
   },
   {
    "duration": 442,
    "start_time": "2021-11-23T23:37:45.633Z"
   },
   {
    "duration": 1658,
    "start_time": "2021-11-23T23:37:46.078Z"
   },
   {
    "duration": 415,
    "start_time": "2021-11-23T23:37:47.739Z"
   },
   {
    "duration": 55,
    "start_time": "2021-11-23T23:56:37.252Z"
   },
   {
    "duration": 17,
    "start_time": "2021-11-23T23:56:37.686Z"
   },
   {
    "duration": 7058,
    "start_time": "2021-11-23T23:56:37.860Z"
   },
   {
    "duration": 1977,
    "start_time": "2021-11-23T23:56:44.921Z"
   },
   {
    "duration": 232,
    "start_time": "2021-11-23T23:56:46.900Z"
   },
   {
    "duration": 1998,
    "start_time": "2021-11-23T23:56:47.135Z"
   },
   {
    "duration": 1040,
    "start_time": "2021-11-23T23:56:49.136Z"
   },
   {
    "duration": 393,
    "start_time": "2021-11-23T23:56:50.178Z"
   },
   {
    "duration": 257,
    "start_time": "2021-11-23T23:56:50.573Z"
   },
   {
    "duration": 401,
    "start_time": "2021-11-23T23:56:50.833Z"
   },
   {
    "duration": 2911,
    "start_time": "2021-11-23T23:56:51.237Z"
   },
   {
    "duration": 455,
    "start_time": "2021-11-23T23:56:54.150Z"
   },
   {
    "duration": 38,
    "start_time": "2021-11-23T23:57:14.977Z"
   },
   {
    "duration": 14,
    "start_time": "2021-11-23T23:57:15.282Z"
   },
   {
    "duration": 6954,
    "start_time": "2021-11-23T23:57:15.440Z"
   },
   {
    "duration": 1970,
    "start_time": "2021-11-23T23:57:22.396Z"
   },
   {
    "duration": 168,
    "start_time": "2021-11-23T23:57:24.370Z"
   },
   {
    "duration": 2400,
    "start_time": "2021-11-23T23:57:24.631Z"
   },
   {
    "duration": 1151,
    "start_time": "2021-11-23T23:57:27.033Z"
   },
   {
    "duration": 390,
    "start_time": "2021-11-23T23:57:28.186Z"
   },
   {
    "duration": 252,
    "start_time": "2021-11-23T23:57:28.579Z"
   },
   {
    "duration": 472,
    "start_time": "2021-11-23T23:57:28.837Z"
   },
   {
    "duration": 2027,
    "start_time": "2021-11-23T23:57:29.311Z"
   },
   {
    "duration": 419,
    "start_time": "2021-11-23T23:57:31.341Z"
   },
   {
    "duration": 42,
    "start_time": "2021-11-23T23:57:54.170Z"
   },
   {
    "duration": 14,
    "start_time": "2021-11-23T23:57:54.670Z"
   },
   {
    "duration": 6868,
    "start_time": "2021-11-23T23:57:54.839Z"
   },
   {
    "duration": 2076,
    "start_time": "2021-11-23T23:58:01.710Z"
   },
   {
    "duration": 241,
    "start_time": "2021-11-23T23:58:03.790Z"
   },
   {
    "duration": 2094,
    "start_time": "2021-11-23T23:58:04.036Z"
   },
   {
    "duration": 1028,
    "start_time": "2021-11-23T23:58:06.133Z"
   },
   {
    "duration": 389,
    "start_time": "2021-11-23T23:58:07.163Z"
   },
   {
    "duration": 84,
    "start_time": "2021-11-23T23:58:07.554Z"
   },
   {
    "duration": 498,
    "start_time": "2021-11-23T23:58:07.731Z"
   },
   {
    "duration": 2111,
    "start_time": "2021-11-23T23:58:08.233Z"
   },
   {
    "duration": 423,
    "start_time": "2021-11-23T23:58:10.346Z"
   },
   {
    "duration": 4,
    "start_time": "2021-11-23T23:58:34.849Z"
   },
   {
    "duration": 46,
    "start_time": "2021-11-23T23:58:42.546Z"
   },
   {
    "duration": 14,
    "start_time": "2021-11-23T23:58:42.880Z"
   },
   {
    "duration": 6971,
    "start_time": "2021-11-23T23:58:43.032Z"
   },
   {
    "duration": 1962,
    "start_time": "2021-11-23T23:58:50.006Z"
   },
   {
    "duration": 66,
    "start_time": "2021-11-23T23:58:51.970Z"
   },
   {
    "duration": 2307,
    "start_time": "2021-11-23T23:58:52.039Z"
   },
   {
    "duration": 1081,
    "start_time": "2021-11-23T23:58:54.349Z"
   },
   {
    "duration": 396,
    "start_time": "2021-11-23T23:58:55.433Z"
   },
   {
    "duration": 200,
    "start_time": "2021-11-23T23:58:55.831Z"
   },
   {
    "duration": 399,
    "start_time": "2021-11-23T23:58:56.036Z"
   },
   {
    "duration": 1993,
    "start_time": "2021-11-23T23:58:56.438Z"
   },
   {
    "duration": 403,
    "start_time": "2021-11-23T23:58:58.433Z"
   },
   {
    "duration": 41,
    "start_time": "2021-11-23T23:59:21.901Z"
   },
   {
    "duration": 13,
    "start_time": "2021-11-23T23:59:22.222Z"
   },
   {
    "duration": 6841,
    "start_time": "2021-11-23T23:59:22.389Z"
   },
   {
    "duration": 1971,
    "start_time": "2021-11-23T23:59:29.233Z"
   },
   {
    "duration": 225,
    "start_time": "2021-11-23T23:59:31.207Z"
   },
   {
    "duration": 2113,
    "start_time": "2021-11-23T23:59:31.435Z"
   },
   {
    "duration": 1093,
    "start_time": "2021-11-23T23:59:33.551Z"
   },
   {
    "duration": 386,
    "start_time": "2021-11-23T23:59:34.646Z"
   },
   {
    "duration": 196,
    "start_time": "2021-11-23T23:59:35.035Z"
   },
   {
    "duration": 442,
    "start_time": "2021-11-23T23:59:35.236Z"
   },
   {
    "duration": 1952,
    "start_time": "2021-11-23T23:59:35.681Z"
   },
   {
    "duration": 399,
    "start_time": "2021-11-23T23:59:37.635Z"
   },
   {
    "duration": 1564,
    "start_time": "2021-11-24T00:00:40.695Z"
   },
   {
    "duration": 56,
    "start_time": "2021-11-24T00:00:42.261Z"
   },
   {
    "duration": 17,
    "start_time": "2021-11-24T00:00:42.319Z"
   },
   {
    "duration": 15,
    "start_time": "2021-11-24T00:00:42.339Z"
   },
   {
    "duration": 18,
    "start_time": "2021-11-24T00:00:42.356Z"
   },
   {
    "duration": 922,
    "start_time": "2021-11-24T00:00:42.377Z"
   },
   {
    "duration": 398,
    "start_time": "2021-11-24T00:00:43.301Z"
   },
   {
    "duration": 495,
    "start_time": "2021-11-24T00:00:43.702Z"
   },
   {
    "duration": 481,
    "start_time": "2021-11-24T00:00:44.200Z"
   },
   {
    "duration": 477,
    "start_time": "2021-11-24T00:00:44.684Z"
   },
   {
    "duration": 5,
    "start_time": "2021-11-24T00:00:45.163Z"
   },
   {
    "duration": 79,
    "start_time": "2021-11-24T00:00:45.171Z"
   },
   {
    "duration": 15,
    "start_time": "2021-11-24T00:00:45.253Z"
   },
   {
    "duration": 3540,
    "start_time": "2021-11-24T00:00:45.270Z"
   },
   {
    "duration": 1003,
    "start_time": "2021-11-24T00:00:48.813Z"
   },
   {
    "duration": 17,
    "start_time": "2021-11-24T00:00:49.829Z"
   },
   {
    "duration": 1698,
    "start_time": "2021-11-24T00:00:49.849Z"
   },
   {
    "duration": 581,
    "start_time": "2021-11-24T00:00:51.549Z"
   },
   {
    "duration": 392,
    "start_time": "2021-11-24T00:00:52.132Z"
   },
   {
    "duration": 17,
    "start_time": "2021-11-24T00:00:52.529Z"
   },
   {
    "duration": 544,
    "start_time": "2021-11-24T00:00:52.548Z"
   },
   {
    "duration": 1536,
    "start_time": "2021-11-24T00:00:53.095Z"
   },
   {
    "duration": 406,
    "start_time": "2021-11-24T00:00:54.635Z"
   },
   {
    "duration": 8,
    "start_time": "2021-11-24T00:01:09.391Z"
   },
   {
    "duration": 80,
    "start_time": "2021-11-24T00:01:09.401Z"
   },
   {
    "duration": 7,
    "start_time": "2021-11-24T00:01:09.484Z"
   },
   {
    "duration": 12,
    "start_time": "2021-11-24T00:01:09.494Z"
   },
   {
    "duration": 34,
    "start_time": "2021-11-24T00:01:09.508Z"
   },
   {
    "duration": 895,
    "start_time": "2021-11-24T00:01:09.545Z"
   },
   {
    "duration": 420,
    "start_time": "2021-11-24T00:01:10.443Z"
   },
   {
    "duration": 497,
    "start_time": "2021-11-24T00:01:10.866Z"
   },
   {
    "duration": 389,
    "start_time": "2021-11-24T00:01:11.367Z"
   },
   {
    "duration": 589,
    "start_time": "2021-11-24T00:01:11.759Z"
   },
   {
    "duration": 5,
    "start_time": "2021-11-24T00:01:12.350Z"
   },
   {
    "duration": 74,
    "start_time": "2021-11-24T00:01:12.358Z"
   },
   {
    "duration": 14,
    "start_time": "2021-11-24T00:01:12.435Z"
   },
   {
    "duration": 3395,
    "start_time": "2021-11-24T00:01:12.452Z"
   },
   {
    "duration": 991,
    "start_time": "2021-11-24T00:01:15.850Z"
   },
   {
    "duration": 17,
    "start_time": "2021-11-24T00:01:16.844Z"
   },
   {
    "duration": 1511,
    "start_time": "2021-11-24T00:01:16.931Z"
   },
   {
    "duration": 560,
    "start_time": "2021-11-24T00:01:18.444Z"
   },
   {
    "duration": 389,
    "start_time": "2021-11-24T00:01:19.006Z"
   },
   {
    "duration": 40,
    "start_time": "2021-11-24T00:01:19.398Z"
   },
   {
    "duration": 538,
    "start_time": "2021-11-24T00:01:19.442Z"
   },
   {
    "duration": 1463,
    "start_time": "2021-11-24T00:01:19.983Z"
   },
   {
    "duration": 450,
    "start_time": "2021-11-24T00:01:21.448Z"
   },
   {
    "duration": 1587,
    "start_time": "2021-11-24T00:01:52.118Z"
   },
   {
    "duration": 54,
    "start_time": "2021-11-24T00:01:53.707Z"
   },
   {
    "duration": 8,
    "start_time": "2021-11-24T00:01:53.764Z"
   },
   {
    "duration": 13,
    "start_time": "2021-11-24T00:01:53.775Z"
   },
   {
    "duration": 53,
    "start_time": "2021-11-24T00:01:53.791Z"
   },
   {
    "duration": 902,
    "start_time": "2021-11-24T00:01:53.846Z"
   },
   {
    "duration": 392,
    "start_time": "2021-11-24T00:01:54.750Z"
   },
   {
    "duration": 501,
    "start_time": "2021-11-24T00:01:55.144Z"
   },
   {
    "duration": 469,
    "start_time": "2021-11-24T00:01:55.649Z"
   },
   {
    "duration": 493,
    "start_time": "2021-11-24T00:01:56.122Z"
   },
   {
    "duration": 18,
    "start_time": "2021-11-24T00:01:56.618Z"
   },
   {
    "duration": 97,
    "start_time": "2021-11-24T00:01:56.639Z"
   },
   {
    "duration": 22,
    "start_time": "2021-11-24T00:01:56.739Z"
   },
   {
    "duration": 6635,
    "start_time": "2021-11-24T00:01:56.764Z"
   },
   {
    "duration": 1880,
    "start_time": "2021-11-24T00:02:03.402Z"
   },
   {
    "duration": 244,
    "start_time": "2021-11-24T00:02:05.285Z"
   },
   {
    "duration": 1918,
    "start_time": "2021-11-24T00:02:05.532Z"
   },
   {
    "duration": 1084,
    "start_time": "2021-11-24T00:02:07.452Z"
   },
   {
    "duration": 395,
    "start_time": "2021-11-24T00:02:08.539Z"
   },
   {
    "duration": 194,
    "start_time": "2021-11-24T00:02:08.936Z"
   },
   {
    "duration": 400,
    "start_time": "2021-11-24T00:02:09.133Z"
   },
   {
    "duration": 1910,
    "start_time": "2021-11-24T00:02:09.535Z"
   },
   {
    "duration": 440,
    "start_time": "2021-11-24T00:02:11.447Z"
   },
   {
    "duration": 1539,
    "start_time": "2021-11-24T00:02:41.105Z"
   },
   {
    "duration": 55,
    "start_time": "2021-11-24T00:02:42.647Z"
   },
   {
    "duration": 24,
    "start_time": "2021-11-24T00:02:42.705Z"
   },
   {
    "duration": 23,
    "start_time": "2021-11-24T00:02:42.732Z"
   },
   {
    "duration": 38,
    "start_time": "2021-11-24T00:02:42.757Z"
   },
   {
    "duration": 892,
    "start_time": "2021-11-24T00:02:42.797Z"
   },
   {
    "duration": 394,
    "start_time": "2021-11-24T00:02:43.691Z"
   },
   {
    "duration": 482,
    "start_time": "2021-11-24T00:02:44.088Z"
   },
   {
    "duration": 459,
    "start_time": "2021-11-24T00:02:44.573Z"
   },
   {
    "duration": 498,
    "start_time": "2021-11-24T00:02:45.034Z"
   },
   {
    "duration": 5,
    "start_time": "2021-11-24T00:02:45.534Z"
   },
   {
    "duration": 87,
    "start_time": "2021-11-24T00:02:45.542Z"
   },
   {
    "duration": 17,
    "start_time": "2021-11-24T00:02:45.631Z"
   },
   {
    "duration": 4633,
    "start_time": "2021-11-24T00:02:45.650Z"
   },
   {
    "duration": 1331,
    "start_time": "2021-11-24T00:02:50.285Z"
   },
   {
    "duration": 202,
    "start_time": "2021-11-24T00:02:51.629Z"
   },
   {
    "duration": 1712,
    "start_time": "2021-11-24T00:02:51.833Z"
   },
   {
    "duration": 748,
    "start_time": "2021-11-24T00:02:53.547Z"
   },
   {
    "duration": 402,
    "start_time": "2021-11-24T00:02:54.297Z"
   },
   {
    "duration": 229,
    "start_time": "2021-11-24T00:02:54.702Z"
   },
   {
    "duration": 410,
    "start_time": "2021-11-24T00:02:54.933Z"
   },
   {
    "duration": 1690,
    "start_time": "2021-11-24T00:02:55.346Z"
   },
   {
    "duration": 407,
    "start_time": "2021-11-24T00:02:57.040Z"
   },
   {
    "duration": 775,
    "start_time": "2021-11-24T00:03:56.013Z"
   },
   {
    "duration": 1566,
    "start_time": "2021-11-24T00:04:38.089Z"
   },
   {
    "duration": 54,
    "start_time": "2021-11-24T00:04:39.658Z"
   },
   {
    "duration": 19,
    "start_time": "2021-11-24T00:04:39.715Z"
   },
   {
    "duration": 15,
    "start_time": "2021-11-24T00:04:39.736Z"
   },
   {
    "duration": 16,
    "start_time": "2021-11-24T00:04:39.753Z"
   },
   {
    "duration": 906,
    "start_time": "2021-11-24T00:04:39.771Z"
   },
   {
    "duration": 390,
    "start_time": "2021-11-24T00:04:40.679Z"
   },
   {
    "duration": 479,
    "start_time": "2021-11-24T00:04:41.071Z"
   },
   {
    "duration": 470,
    "start_time": "2021-11-24T00:04:41.554Z"
   },
   {
    "duration": 575,
    "start_time": "2021-11-24T00:04:42.027Z"
   },
   {
    "duration": 5,
    "start_time": "2021-11-24T00:04:42.605Z"
   },
   {
    "duration": 73,
    "start_time": "2021-11-24T00:04:42.613Z"
   },
   {
    "duration": 45,
    "start_time": "2021-11-24T00:04:42.688Z"
   },
   {
    "duration": 4559,
    "start_time": "2021-11-24T00:04:42.735Z"
   },
   {
    "duration": 1336,
    "start_time": "2021-11-24T00:04:47.296Z"
   },
   {
    "duration": 101,
    "start_time": "2021-11-24T00:04:48.635Z"
   },
   {
    "duration": 1991,
    "start_time": "2021-11-24T00:04:48.738Z"
   },
   {
    "duration": 902,
    "start_time": "2021-11-24T00:04:50.732Z"
   },
   {
    "duration": 394,
    "start_time": "2021-11-24T00:04:51.636Z"
   },
   {
    "duration": 97,
    "start_time": "2021-11-24T00:04:52.032Z"
   },
   {
    "duration": 471,
    "start_time": "2021-11-24T00:04:52.132Z"
   },
   {
    "duration": 1925,
    "start_time": "2021-11-24T00:04:52.606Z"
   },
   {
    "duration": 409,
    "start_time": "2021-11-24T00:04:54.534Z"
   }
  ],
  "kernelspec": {
   "display_name": "Python 3 (ipykernel)",
   "language": "python",
   "name": "python3"
  },
  "language_info": {
   "codemirror_mode": {
    "name": "ipython",
    "version": 3
   },
   "file_extension": ".py",
   "mimetype": "text/x-python",
   "name": "python",
   "nbconvert_exporter": "python",
   "pygments_lexer": "ipython3",
   "version": "3.9.5"
  },
  "toc": {
   "base_numbering": 1,
   "nav_menu": {},
   "number_sections": true,
   "sideBar": true,
   "skip_h1_title": true,
   "title_cell": "Содержание",
   "title_sidebar": "Contents",
   "toc_cell": true,
   "toc_position": {},
   "toc_section_display": true,
   "toc_window_display": true
  }
 },
 "nbformat": 4,
 "nbformat_minor": 2
}
