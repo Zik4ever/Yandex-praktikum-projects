{
 "cells": [
  {
   "cell_type": "markdown",
   "metadata": {},
   "source": [
    "# Рекомендация тарифов"
   ]
  },
  {
   "cell_type": "markdown",
   "metadata": {},
   "source": [
    "Оператор мобильной связи «Мегалайн» выяснил: многие клиенты пользуются архивными тарифами. Они хотят построить систему, способную проанализировать поведение клиентов и предложить пользователям новый тариф: «Смарт» или «Ультра».\n",
    "\n",
    "В вашем распоряжении данные о поведении клиентов, которые уже перешли на эти тарифы (из проекта курса «Статистический анализ данных»). Нужно построить модель для задачи классификации, которая выберет подходящий тариф. Предобработка данных не понадобится — вы её уже сделали.\n",
    "\n",
    "Постройте модель с максимально большим значением *accuracy*. Чтобы сдать проект успешно, нужно довести долю правильных ответов по крайней мере до 0.75. Проверьте *accuracy* на тестовой выборке самостоятельно.\n",
    "\n",
    "Каждый объект в наборе данных — это информация о поведении одного пользователя за месяц. Известно:\n",
    "\n",
    "1) сalls — количество звонков\n",
    "\n",
    "2) minutes — суммарная длительность звонков в минутах\n",
    "\n",
    "3) messages — количество sms-сообщений\n",
    "\n",
    "4) mb_used — израсходованный интернет-трафик в Мб\n",
    "\n",
    "5) is_ultra — каким тарифом пользовался в течение месяца («Ультра» — 1, «Смарт» — 0)"
   ]
  },
  {
   "cell_type": "markdown",
   "metadata": {},
   "source": [
    "## Откройте и изучите файл"
   ]
  },
  {
   "cell_type": "code",
   "execution_count": 1,
   "metadata": {},
   "outputs": [],
   "source": [
    "import pandas as pd\n",
    "from sklearn.model_selection import train_test_split \n",
    "from sklearn.ensemble import RandomForestClassifier\n",
    "from sklearn.linear_model import LogisticRegression\n",
    "from sklearn.tree import DecisionTreeClassifier\n",
    "from sklearn.metrics import accuracy_score\n",
    "import matplotlib.pyplot as plt"
   ]
  },
  {
   "cell_type": "code",
   "execution_count": 2,
   "metadata": {},
   "outputs": [
    {
     "data": {
      "text/html": [
       "<div>\n",
       "<style scoped>\n",
       "    .dataframe tbody tr th:only-of-type {\n",
       "        vertical-align: middle;\n",
       "    }\n",
       "\n",
       "    .dataframe tbody tr th {\n",
       "        vertical-align: top;\n",
       "    }\n",
       "\n",
       "    .dataframe thead th {\n",
       "        text-align: right;\n",
       "    }\n",
       "</style>\n",
       "<table border=\"1\" class=\"dataframe\">\n",
       "  <thead>\n",
       "    <tr style=\"text-align: right;\">\n",
       "      <th></th>\n",
       "      <th>calls</th>\n",
       "      <th>minutes</th>\n",
       "      <th>messages</th>\n",
       "      <th>mb_used</th>\n",
       "      <th>is_ultra</th>\n",
       "    </tr>\n",
       "  </thead>\n",
       "  <tbody>\n",
       "    <tr>\n",
       "      <td>0</td>\n",
       "      <td>40.0</td>\n",
       "      <td>311.90</td>\n",
       "      <td>83.0</td>\n",
       "      <td>19915.42</td>\n",
       "      <td>0</td>\n",
       "    </tr>\n",
       "    <tr>\n",
       "      <td>1</td>\n",
       "      <td>85.0</td>\n",
       "      <td>516.75</td>\n",
       "      <td>56.0</td>\n",
       "      <td>22696.96</td>\n",
       "      <td>0</td>\n",
       "    </tr>\n",
       "    <tr>\n",
       "      <td>2</td>\n",
       "      <td>77.0</td>\n",
       "      <td>467.66</td>\n",
       "      <td>86.0</td>\n",
       "      <td>21060.45</td>\n",
       "      <td>0</td>\n",
       "    </tr>\n",
       "    <tr>\n",
       "      <td>3</td>\n",
       "      <td>106.0</td>\n",
       "      <td>745.53</td>\n",
       "      <td>81.0</td>\n",
       "      <td>8437.39</td>\n",
       "      <td>1</td>\n",
       "    </tr>\n",
       "    <tr>\n",
       "      <td>4</td>\n",
       "      <td>66.0</td>\n",
       "      <td>418.74</td>\n",
       "      <td>1.0</td>\n",
       "      <td>14502.75</td>\n",
       "      <td>0</td>\n",
       "    </tr>\n",
       "  </tbody>\n",
       "</table>\n",
       "</div>"
      ],
      "text/plain": [
       "   calls  minutes  messages   mb_used  is_ultra\n",
       "0   40.0   311.90      83.0  19915.42         0\n",
       "1   85.0   516.75      56.0  22696.96         0\n",
       "2   77.0   467.66      86.0  21060.45         0\n",
       "3  106.0   745.53      81.0   8437.39         1\n",
       "4   66.0   418.74       1.0  14502.75         0"
      ]
     },
     "execution_count": 2,
     "metadata": {},
     "output_type": "execute_result"
    }
   ],
   "source": [
    "df = pd.read_csv('/datasets/users_behavior.csv')\n",
    "df.head()"
   ]
  },
  {
   "cell_type": "code",
   "execution_count": 3,
   "metadata": {},
   "outputs": [
    {
     "name": "stdout",
     "output_type": "stream",
     "text": [
      "<class 'pandas.core.frame.DataFrame'>\n",
      "RangeIndex: 3214 entries, 0 to 3213\n",
      "Data columns (total 5 columns):\n",
      "calls       3214 non-null float64\n",
      "minutes     3214 non-null float64\n",
      "messages    3214 non-null float64\n",
      "mb_used     3214 non-null float64\n",
      "is_ultra    3214 non-null int64\n",
      "dtypes: float64(4), int64(1)\n",
      "memory usage: 125.7 KB\n"
     ]
    }
   ],
   "source": [
    "df.info()"
   ]
  },
  {
   "cell_type": "code",
   "execution_count": 4,
   "metadata": {},
   "outputs": [
    {
     "data": {
      "text/html": [
       "<div>\n",
       "<style scoped>\n",
       "    .dataframe tbody tr th:only-of-type {\n",
       "        vertical-align: middle;\n",
       "    }\n",
       "\n",
       "    .dataframe tbody tr th {\n",
       "        vertical-align: top;\n",
       "    }\n",
       "\n",
       "    .dataframe thead th {\n",
       "        text-align: right;\n",
       "    }\n",
       "</style>\n",
       "<table border=\"1\" class=\"dataframe\">\n",
       "  <thead>\n",
       "    <tr style=\"text-align: right;\">\n",
       "      <th></th>\n",
       "      <th>calls</th>\n",
       "      <th>minutes</th>\n",
       "      <th>messages</th>\n",
       "      <th>mb_used</th>\n",
       "      <th>is_ultra</th>\n",
       "    </tr>\n",
       "  </thead>\n",
       "  <tbody>\n",
       "    <tr>\n",
       "      <td>count</td>\n",
       "      <td>3214.000000</td>\n",
       "      <td>3214.000000</td>\n",
       "      <td>3214.000000</td>\n",
       "      <td>3214.000000</td>\n",
       "      <td>3214.000000</td>\n",
       "    </tr>\n",
       "    <tr>\n",
       "      <td>mean</td>\n",
       "      <td>63.038892</td>\n",
       "      <td>438.208787</td>\n",
       "      <td>38.281269</td>\n",
       "      <td>17207.673836</td>\n",
       "      <td>0.306472</td>\n",
       "    </tr>\n",
       "    <tr>\n",
       "      <td>std</td>\n",
       "      <td>33.236368</td>\n",
       "      <td>234.569872</td>\n",
       "      <td>36.148326</td>\n",
       "      <td>7570.968246</td>\n",
       "      <td>0.461100</td>\n",
       "    </tr>\n",
       "    <tr>\n",
       "      <td>min</td>\n",
       "      <td>0.000000</td>\n",
       "      <td>0.000000</td>\n",
       "      <td>0.000000</td>\n",
       "      <td>0.000000</td>\n",
       "      <td>0.000000</td>\n",
       "    </tr>\n",
       "    <tr>\n",
       "      <td>25%</td>\n",
       "      <td>40.000000</td>\n",
       "      <td>274.575000</td>\n",
       "      <td>9.000000</td>\n",
       "      <td>12491.902500</td>\n",
       "      <td>0.000000</td>\n",
       "    </tr>\n",
       "    <tr>\n",
       "      <td>50%</td>\n",
       "      <td>62.000000</td>\n",
       "      <td>430.600000</td>\n",
       "      <td>30.000000</td>\n",
       "      <td>16943.235000</td>\n",
       "      <td>0.000000</td>\n",
       "    </tr>\n",
       "    <tr>\n",
       "      <td>75%</td>\n",
       "      <td>82.000000</td>\n",
       "      <td>571.927500</td>\n",
       "      <td>57.000000</td>\n",
       "      <td>21424.700000</td>\n",
       "      <td>1.000000</td>\n",
       "    </tr>\n",
       "    <tr>\n",
       "      <td>max</td>\n",
       "      <td>244.000000</td>\n",
       "      <td>1632.060000</td>\n",
       "      <td>224.000000</td>\n",
       "      <td>49745.730000</td>\n",
       "      <td>1.000000</td>\n",
       "    </tr>\n",
       "  </tbody>\n",
       "</table>\n",
       "</div>"
      ],
      "text/plain": [
       "             calls      minutes     messages       mb_used     is_ultra\n",
       "count  3214.000000  3214.000000  3214.000000   3214.000000  3214.000000\n",
       "mean     63.038892   438.208787    38.281269  17207.673836     0.306472\n",
       "std      33.236368   234.569872    36.148326   7570.968246     0.461100\n",
       "min       0.000000     0.000000     0.000000      0.000000     0.000000\n",
       "25%      40.000000   274.575000     9.000000  12491.902500     0.000000\n",
       "50%      62.000000   430.600000    30.000000  16943.235000     0.000000\n",
       "75%      82.000000   571.927500    57.000000  21424.700000     1.000000\n",
       "max     244.000000  1632.060000   224.000000  49745.730000     1.000000"
      ]
     },
     "execution_count": 4,
     "metadata": {},
     "output_type": "execute_result"
    }
   ],
   "source": [
    "df.describe()"
   ]
  },
  {
   "cell_type": "code",
   "execution_count": 5,
   "metadata": {},
   "outputs": [
    {
     "data": {
      "text/plain": [
       "Text(0, 0.5, 'Количество клиентов')"
      ]
     },
     "execution_count": 5,
     "metadata": {},
     "output_type": "execute_result"
    },
    {
     "data": {
      "image/png": "[encoded data removed]",
      "text/plain": [
       "<Figure size 432x288 with 1 Axes>"
      ]
     },
     "metadata": {
      "needs_background": "light"
     },
     "output_type": "display_data"
    }
   ],
   "source": [
    "df['minutes'].hist(bins = 30)\n",
    "plt.title('Распределение используемых минут')\n",
    "plt.xlabel(\"Количество минут\")\n",
    "plt.ylabel(\"Количество клиентов\")"
   ]
  },
  {
   "cell_type": "code",
   "execution_count": 6,
   "metadata": {},
   "outputs": [
    {
     "data": {
      "text/plain": [
       "Text(0, 0.5, 'Количество клиентов')"
      ]
     },
     "execution_count": 6,
     "metadata": {},
     "output_type": "execute_result"
    },
    {
     "data": {
      "image/png": "[encoded data removed]",
      "text/plain": [
       "<Figure size 432x288 with 1 Axes>"
      ]
     },
     "metadata": {
      "needs_background": "light"
     },
     "output_type": "display_data"
    }
   ],
   "source": [
    "df['mb_used'].hist(bins = 30)\n",
    "plt.title('Распределение интернет трафика')\n",
    "plt.xlabel(\"Количество мегабайт\")\n",
    "plt.ylabel(\"Количество клиентов\")"
   ]
  },
  {
   "cell_type": "code",
   "execution_count": 7,
   "metadata": {},
   "outputs": [
    {
     "data": {
      "text/plain": [
       "array([[<matplotlib.axes._subplots.AxesSubplot object at 0x7efbde61dd10>,\n",
       "        <matplotlib.axes._subplots.AxesSubplot object at 0x7efbde5b6c90>,\n",
       "        <matplotlib.axes._subplots.AxesSubplot object at 0x7efbde56d250>,\n",
       "        <matplotlib.axes._subplots.AxesSubplot object at 0x7efbde51f9d0>,\n",
       "        <matplotlib.axes._subplots.AxesSubplot object at 0x7efbde4e2210>],\n",
       "       [<matplotlib.axes._subplots.AxesSubplot object at 0x7efbde4949d0>,\n",
       "        <matplotlib.axes._subplots.AxesSubplot object at 0x7efbde45edd0>,\n",
       "        <matplotlib.axes._subplots.AxesSubplot object at 0x7efbde40da10>,\n",
       "        <matplotlib.axes._subplots.AxesSubplot object at 0x7efbde42c1d0>,\n",
       "        <matplotlib.axes._subplots.AxesSubplot object at 0x7efbde3dfa90>],\n",
       "       [<matplotlib.axes._subplots.AxesSubplot object at 0x7efbde3c1290>,\n",
       "        <matplotlib.axes._subplots.AxesSubplot object at 0x7efbde376a90>,\n",
       "        <matplotlib.axes._subplots.AxesSubplot object at 0x7efbde3352d0>,\n",
       "        <matplotlib.axes._subplots.AxesSubplot object at 0x7efbde2ebad0>,\n",
       "        <matplotlib.axes._subplots.AxesSubplot object at 0x7efbde2ab310>],\n",
       "       [<matplotlib.axes._subplots.AxesSubplot object at 0x7efbde262b10>,\n",
       "        <matplotlib.axes._subplots.AxesSubplot object at 0x7efbde221350>,\n",
       "        <matplotlib.axes._subplots.AxesSubplot object at 0x7efbde1d4b50>,\n",
       "        <matplotlib.axes._subplots.AxesSubplot object at 0x7efbde190390>,\n",
       "        <matplotlib.axes._subplots.AxesSubplot object at 0x7efbde146b90>],\n",
       "       [<matplotlib.axes._subplots.AxesSubplot object at 0x7efbde1073d0>,\n",
       "        <matplotlib.axes._subplots.AxesSubplot object at 0x7efbde13cbd0>,\n",
       "        <matplotlib.axes._subplots.AxesSubplot object at 0x7efbde0fc410>,\n",
       "        <matplotlib.axes._subplots.AxesSubplot object at 0x7efbde0b1c10>,\n",
       "        <matplotlib.axes._subplots.AxesSubplot object at 0x7efbde071450>]],\n",
       "      dtype=object)"
      ]
     },
     "execution_count": 7,
     "metadata": {},
     "output_type": "execute_result"
    },
    {
     "data": {
      "image/png": "[encoded data removed]",
      "text/plain": [
       "<Figure size 648x648 with 25 Axes>"
      ]
     },
     "metadata": {
      "needs_background": "light"
     },
     "output_type": "display_data"
    }
   ],
   "source": [
    "pd.plotting.scatter_matrix(df, figsize=(9, 9))"
   ]
  },
  {
   "cell_type": "markdown",
   "metadata": {},
   "source": [
    "Поскольку между звонками и минутами есть ярко выраженная кореляция, для того чтобы облегчить модели задачу можем убрать один из столбцов, и поскольку наш тариф ограничивается в минутах а не в количестве звонков, то количество звонков можно убрать."
   ]
  },
  {
   "cell_type": "code",
   "execution_count": 8,
   "metadata": {},
   "outputs": [],
   "source": [
    "df = df.drop('calls', axis = 1)"
   ]
  },
  {
   "cell_type": "markdown",
   "metadata": {},
   "source": [
    "Все данные на месте, распределены в целом нормально, высокие и нулевые значения вполне объяснимы тем что некоторые пользователи не пользуются некоторыми услугами связи, а некоторые тратят много трафика. В принципе ни в 50 гб интернета, ни в 27 часах разговора по телефону за месяц, не вижу ничего аномального. Задача ясна, лишний столбец удален, поехали к выборкам."
   ]
  },
  {
   "cell_type": "markdown",
   "metadata": {},
   "source": [
    "## Разбейте данные на выборки"
   ]
  },
  {
   "cell_type": "markdown",
   "metadata": {},
   "source": [
    "Разделим таблицу на признаки и цели, а потом разделим их на обучающую, валидационную и тестовую выборки в соотношении 60%, 20%, 20%."
   ]
  },
  {
   "cell_type": "code",
   "execution_count": 9,
   "metadata": {},
   "outputs": [],
   "source": [
    "features = df.drop('is_ultra', axis = 1)"
   ]
  },
  {
   "cell_type": "code",
   "execution_count": 10,
   "metadata": {},
   "outputs": [],
   "source": [
    "target = df['is_ultra']"
   ]
  },
  {
   "cell_type": "code",
   "execution_count": 11,
   "metadata": {},
   "outputs": [],
   "source": [
    "features_train_valid, features_test, target_train_valid, target_test = train_test_split(features, \n",
    "                                                                target, test_size = 0.2, random_state=12345, stratify = target)"
   ]
  },
  {
   "cell_type": "code",
   "execution_count": 12,
   "metadata": {},
   "outputs": [],
   "source": [
    "features_train, features_valid, target_train, target_valid = train_test_split(features_train_valid, \n",
    "                                       target_train_valid, test_size = 0.25, random_state=12345, stratify = target_train_valid)"
   ]
  },
  {
   "cell_type": "markdown",
   "metadata": {},
   "source": [
    "## Исследуйте модели"
   ]
  },
  {
   "cell_type": "markdown",
   "metadata": {},
   "source": [
    "Теперь перед нами стоит задача обучить модель классификации, у нас есть три варианта 1) древо выбора, 2) лес деревьев, 3) Логистическая регрессия. Давайте попробуем все три и выберем лучшую с лучшими параметрами, пока исходя из курса теории лучше всего себя показал лес деревьев."
   ]
  },
  {
   "cell_type": "code",
   "execution_count": 13,
   "metadata": {},
   "outputs": [
    {
     "name": "stdout",
     "output_type": "stream",
     "text": [
      "max_depth = 1 : 0.7589424572317263\n",
      "max_depth = 2 : 0.7838258164852255\n",
      "max_depth = 3 : 0.8040435458786936\n",
      "max_depth = 4 : 0.8102643856920684\n",
      "max_depth = 5 : 0.807153965785381\n",
      "max_depth = 6 : 0.8009331259720062\n",
      "max_depth = 7 : 0.8040435458786936\n",
      "max_depth = 8 : 0.7993779160186625\n",
      "max_depth = 9 : 0.8087091757387247\n",
      "max_depth = 10 : 0.8118195956454122\n",
      "max_depth = 11 : 0.8087091757387247\n",
      "max_depth = 12 : 0.8102643856920684\n",
      "max_depth = 13 : 0.807153965785381\n",
      "max_depth = 14 : 0.8040435458786936\n",
      "max_depth = 15 : 0.80248833592535\n",
      "max_depth = 16 : 0.7884914463452566\n",
      "max_depth = 17 : 0.7884914463452566\n",
      "max_depth = 18 : 0.7729393468118196\n",
      "max_depth = 19 : 0.7807153965785381\n"
     ]
    }
   ],
   "source": [
    "for i in range(1, 20):\n",
    "    model = DecisionTreeClassifier(random_state=12345, max_depth = i)\n",
    "    model.fit(features_train, target_train)\n",
    "    answer = model.predict(features_valid)\n",
    "    accuracy = accuracy_score(target_valid, answer)\n",
    "    print('max_depth = {} : {}'.format(i, accuracy))"
   ]
  },
  {
   "cell_type": "markdown",
   "metadata": {},
   "source": [
    "Лес деревьев"
   ]
  },
  {
   "cell_type": "code",
   "execution_count": 14,
   "metadata": {},
   "outputs": [
    {
     "name": "stdout",
     "output_type": "stream",
     "text": [
      "Высшая точность: 0.8227060653188181 Количество деревьев: 20 Максимальная глубина: 10\n"
     ]
    }
   ],
   "source": [
    "best_model_2 = None\n",
    "best_accuracy = 0\n",
    "best_est = 0\n",
    "best_depth_2 = 0\n",
    "for est in range(10, 51, 10):\n",
    "    for depth_2 in range (1, 11):\n",
    "        model_2 = RandomForestClassifier(random_state = 12345, n_estimators = est, max_depth = depth_2)\n",
    "        model_2.fit(features_train, target_train) \n",
    "        answer = model_2.predict(features_valid)\n",
    "        accuracy_2 = accuracy_score(target_valid, answer)\n",
    "        if best_accuracy < accuracy_2:\n",
    "            best_model_2 = model_2\n",
    "            best_accuracy = accuracy_2\n",
    "            best_est = est\n",
    "            best_depth_2 = depth_2\n",
    "print(\"Высшая точность:\", best_accuracy, \"Количество деревьев:\", best_est, \"Максимальная глубина:\", depth_2)"
   ]
  },
  {
   "cell_type": "code",
   "execution_count": 15,
   "metadata": {},
   "outputs": [
    {
     "name": "stderr",
     "output_type": "stream",
     "text": [
      "/opt/conda/lib/python3.7/site-packages/sklearn/linear_model/logistic.py:432: FutureWarning: Default solver will be changed to 'lbfgs' in 0.22. Specify a solver to silence this warning.\n",
      "  FutureWarning)\n"
     ]
    },
    {
     "data": {
      "text/plain": [
       "0.7045101088646968"
      ]
     },
     "execution_count": 15,
     "metadata": {},
     "output_type": "execute_result"
    }
   ],
   "source": [
    "model_3 = LogisticRegression(random_state = 12345)\n",
    "model_3.fit(features_train, target_train) \n",
    "accuracy_3 = model_3.score(features_valid, target_valid)\n",
    "accuracy_3"
   ]
  },
  {
   "cell_type": "markdown",
   "metadata": {},
   "source": [
    "Как и в теории, лучше всего себя показала модель с лесом деревьев с максимальным количеством ветвей. Но высока вероятность что модель с таким количеством ветвей переобучена. На примере модели с одним деревом мы видим что первая точка максимума достигается уже при 4 ветвях, поэтому попробуем взять 4 ветви и 20 деревьев, будем надеяться модель с такими параметрами покажет результат ощутимо лучше одного дерева, будет достаточно быстро давать ответ и не будет переобучена как наш большой лес."
   ]
  },
  {
   "cell_type": "code",
   "execution_count": 16,
   "metadata": {},
   "outputs": [
    {
     "data": {
      "text/plain": [
       "0.8164852255054432"
      ]
     },
     "execution_count": 16,
     "metadata": {},
     "output_type": "execute_result"
    }
   ],
   "source": [
    "final_model = RandomForestClassifier(random_state = 12345, n_estimators = 20, max_depth = 4)\n",
    "final_model.fit(features_train, target_train) \n",
    "final_answer = final_model.predict(features_valid)\n",
    "final_accuracy = accuracy_score(target_valid, final_answer)\n",
    "final_accuracy"
   ]
  },
  {
   "cell_type": "markdown",
   "metadata": {},
   "source": [
    "Модель выбрана, давайте проверим ее на тестовой выборке."
   ]
  },
  {
   "cell_type": "markdown",
   "metadata": {},
   "source": [
    "## Проверьте модель на тестовой выборке"
   ]
  },
  {
   "cell_type": "code",
   "execution_count": 17,
   "metadata": {},
   "outputs": [
    {
     "data": {
      "text/plain": [
       "0.7962674961119751"
      ]
     },
     "execution_count": 17,
     "metadata": {},
     "output_type": "execute_result"
    }
   ],
   "source": [
    "test = final_model.predict(features_test)\n",
    "test_accuracy = accuracy_score(target_test, test)\n",
    "test_accuracy"
   ]
  },
  {
   "cell_type": "code",
   "execution_count": 18,
   "metadata": {},
   "outputs": [
    {
     "data": {
      "text/plain": [
       "0.7978227060653188"
      ]
     },
     "execution_count": 18,
     "metadata": {},
     "output_type": "execute_result"
    }
   ],
   "source": [
    "final_model_plus = RandomForestClassifier(random_state = 12345, n_estimators = 20, max_depth = 4)\n",
    "final_model_plus.fit(features_train_valid, target_train_valid)\n",
    "test_plus = final_model_plus.predict(features_test)\n",
    "test_accuracy_plus = accuracy_score(target_test, test_plus)\n",
    "test_accuracy_plus"
   ]
  },
  {
   "cell_type": "markdown",
   "metadata": {},
   "source": [
    "И в результате у нас точность теста получилась почти как у валидационной выборки, так что считаю можно направлять модель на проверку. \n",
    "\n",
    "Также мы видим что добавление валидационной выборки к тренировочной почти не повлияло на точность, что говорит о том что тренировочная выборка вполне достаточна по размеру для качественного обучения модели."
   ]
  },
  {
   "cell_type": "markdown",
   "metadata": {},
   "source": [
    "## (бонус) Проверьте модели на адекватность"
   ]
  },
  {
   "cell_type": "markdown",
   "metadata": {},
   "source": [
    "А можно ссылку где более понятно и доступно объясняют проверку модели на адекватность?\n",
    "Интернет мне подсказал два варианта 1) С помощью критерия Фишера (понятное описание которого я не нашел) 2) по средним значениям отклика системы. Правильно понимаю что второй вариант подразумевает проверку модели через предсказание разных выборок которые можно получить изменением параметра random_state, и после этого сравнение среднего от этих предсказаний с нашим результатом? "
   ]
  },
  {
   "cell_type": "code",
   "execution_count": 19,
   "metadata": {},
   "outputs": [
    {
     "data": {
      "text/plain": [
       "0    0.693528\n",
       "1    0.306472\n",
       "Name: is_ultra, dtype: float64"
      ]
     },
     "execution_count": 19,
     "metadata": {},
     "output_type": "execute_result"
    }
   ],
   "source": [
    "df['is_ultra'].value_counts(normalize=True)"
   ]
  },
  {
   "cell_type": "markdown",
   "metadata": {},
   "source": [
    "## Вывод:\n",
    "\n",
    "В ходе работы над проектом мы испытали модели 1) Решающее дерево, 2) Лес деревьев, 3) Логистическая регрессия. По итогу нашего исследования мы подтвердили пройденную в теории информацию, что самую высокую точность предсказания из перечисленных показывает модель обученная \"лесом деревьев\". И в конце мы получили адекватную модель которая предсказывает тариф клиента с точностью почти 80% по результатам тестов, что является выполнением поставленной задачи."
   ]
  },
  {
   "cell_type": "code",
   "execution_count": null,
   "metadata": {},
   "outputs": [],
   "source": []
  }
 ],
 "metadata": {
  "ExecuteTimeLog": [
   {
    "duration": 1242,
    "start_time": "2021-08-29T10:19:21.356Z"
   },
   {
    "duration": 35,
    "start_time": "2021-08-29T10:19:23.862Z"
   },
   {
    "duration": 5,
    "start_time": "2021-08-29T10:27:07.573Z"
   },
   {
    "duration": 3,
    "start_time": "2021-08-29T10:27:09.034Z"
   },
   {
    "duration": 6,
    "start_time": "2021-08-29T10:27:09.736Z"
   },
   {
    "duration": 8,
    "start_time": "2021-08-29T10:28:31.178Z"
   },
   {
    "duration": 440,
    "start_time": "2021-08-29T10:54:08.049Z"
   },
   {
    "duration": 3,
    "start_time": "2021-08-29T10:55:14.004Z"
   },
   {
    "duration": 28,
    "start_time": "2021-08-29T10:55:14.985Z"
   },
   {
    "duration": 4,
    "start_time": "2021-08-29T10:55:16.275Z"
   },
   {
    "duration": 3,
    "start_time": "2021-08-29T10:55:16.747Z"
   },
   {
    "duration": 5,
    "start_time": "2021-08-29T10:55:17.441Z"
   },
   {
    "duration": 5,
    "start_time": "2021-08-29T10:55:18.054Z"
   },
   {
    "duration": 28,
    "start_time": "2021-08-29T10:55:19.746Z"
   },
   {
    "duration": 56,
    "start_time": "2021-08-29T10:55:39.895Z"
   },
   {
    "duration": 412,
    "start_time": "2021-08-29T11:37:07.242Z"
   },
   {
    "duration": 4258,
    "start_time": "2021-08-29T11:37:31.670Z"
   },
   {
    "duration": 3767,
    "start_time": "2021-08-29T11:37:50.466Z"
   },
   {
    "duration": 13,
    "start_time": "2021-08-29T12:37:46.812Z"
   },
   {
    "duration": 13,
    "start_time": "2021-08-29T12:38:13.517Z"
   },
   {
    "duration": 1389,
    "start_time": "2021-08-29T12:38:28.698Z"
   },
   {
    "duration": 40,
    "start_time": "2021-08-29T12:38:30.091Z"
   },
   {
    "duration": 5,
    "start_time": "2021-08-29T12:38:30.134Z"
   },
   {
    "duration": 19,
    "start_time": "2021-08-29T12:38:30.142Z"
   },
   {
    "duration": 29,
    "start_time": "2021-08-29T12:38:30.163Z"
   },
   {
    "duration": 13,
    "start_time": "2021-08-29T12:38:30.196Z"
   },
   {
    "duration": 76,
    "start_time": "2021-08-29T12:38:30.212Z"
   },
   {
    "duration": 4508,
    "start_time": "2021-08-29T12:38:30.292Z"
   },
   {
    "duration": 22,
    "start_time": "2021-08-29T12:38:48.884Z"
   },
   {
    "duration": 169,
    "start_time": "2021-08-29T12:42:23.306Z"
   },
   {
    "duration": 1052,
    "start_time": "2021-08-30T18:07:34.865Z"
   },
   {
    "duration": 29,
    "start_time": "2021-08-30T18:07:35.919Z"
   },
   {
    "duration": 3,
    "start_time": "2021-08-30T18:07:35.950Z"
   },
   {
    "duration": 5,
    "start_time": "2021-08-30T18:07:35.955Z"
   },
   {
    "duration": 7,
    "start_time": "2021-08-30T18:07:35.961Z"
   },
   {
    "duration": 7,
    "start_time": "2021-08-30T18:07:35.969Z"
   },
   {
    "duration": 136,
    "start_time": "2021-08-30T18:07:35.977Z"
   },
   {
    "duration": 3111,
    "start_time": "2021-08-30T18:07:36.114Z"
   },
   {
    "duration": 11,
    "start_time": "2021-08-30T18:07:41.684Z"
   },
   {
    "duration": 7,
    "start_time": "2021-08-30T18:30:12.824Z"
   },
   {
    "duration": 28566,
    "start_time": "2021-08-30T18:54:17.748Z"
   },
   {
    "duration": 3097,
    "start_time": "2021-08-30T19:07:30.433Z"
   },
   {
    "duration": 56,
    "start_time": "2021-08-30T20:06:02.113Z"
   },
   {
    "duration": 10,
    "start_time": "2021-08-30T20:09:31.918Z"
   },
   {
    "duration": 1352,
    "start_time": "2021-08-30T21:20:42.462Z"
   },
   {
    "duration": 39,
    "start_time": "2021-08-30T21:20:43.816Z"
   },
   {
    "duration": 8,
    "start_time": "2021-08-30T21:20:43.858Z"
   },
   {
    "duration": 17,
    "start_time": "2021-08-30T21:20:43.869Z"
   },
   {
    "duration": 10,
    "start_time": "2021-08-30T21:20:43.888Z"
   },
   {
    "duration": 8,
    "start_time": "2021-08-30T21:20:43.906Z"
   },
   {
    "duration": 7,
    "start_time": "2021-08-30T21:20:43.917Z"
   },
   {
    "duration": 236,
    "start_time": "2021-08-30T21:20:43.928Z"
   },
   {
    "duration": 5098,
    "start_time": "2021-08-30T21:20:44.167Z"
   },
   {
    "duration": 32,
    "start_time": "2021-08-30T21:20:49.267Z"
   },
   {
    "duration": 101,
    "start_time": "2021-08-30T21:20:49.302Z"
   },
   {
    "duration": 11,
    "start_time": "2021-08-30T21:20:49.405Z"
   },
   {
    "duration": 1689,
    "start_time": "2021-08-31T21:28:14.629Z"
   },
   {
    "duration": 40,
    "start_time": "2021-08-31T21:28:16.321Z"
   },
   {
    "duration": 10,
    "start_time": "2021-08-31T21:28:16.367Z"
   },
   {
    "duration": 34,
    "start_time": "2021-08-31T21:29:05.828Z"
   },
   {
    "duration": 127,
    "start_time": "2021-08-31T21:37:36.210Z"
   },
   {
    "duration": 31,
    "start_time": "2021-08-31T21:37:36.772Z"
   },
   {
    "duration": 9,
    "start_time": "2021-08-31T21:37:37.360Z"
   },
   {
    "duration": 34,
    "start_time": "2021-08-31T21:37:38.086Z"
   },
   {
    "duration": 4920,
    "start_time": "2021-08-31T21:37:49.810Z"
   },
   {
    "duration": 359,
    "start_time": "2021-08-31T21:41:51.993Z"
   },
   {
    "duration": 403,
    "start_time": "2021-08-31T21:43:13.224Z"
   },
   {
    "duration": 5,
    "start_time": "2021-08-31T21:47:21.629Z"
   },
   {
    "duration": 5,
    "start_time": "2021-08-31T21:49:24.864Z"
   },
   {
    "duration": 4,
    "start_time": "2021-08-31T21:49:25.468Z"
   },
   {
    "duration": 8,
    "start_time": "2021-08-31T21:49:51.786Z"
   },
   {
    "duration": 7,
    "start_time": "2021-08-31T21:49:56.826Z"
   },
   {
    "duration": 546,
    "start_time": "2021-08-31T21:52:03.208Z"
   },
   {
    "duration": 6,
    "start_time": "2021-08-31T21:52:18.465Z"
   },
   {
    "duration": 7,
    "start_time": "2021-08-31T21:52:33.879Z"
   },
   {
    "duration": 10,
    "start_time": "2021-08-31T21:53:16.461Z"
   },
   {
    "duration": 109,
    "start_time": "2021-08-31T21:54:11.708Z"
   },
   {
    "duration": 106,
    "start_time": "2021-08-31T21:54:20.287Z"
   },
   {
    "duration": 97,
    "start_time": "2021-08-31T21:54:29.269Z"
   },
   {
    "duration": 10,
    "start_time": "2021-08-31T21:58:19.521Z"
   },
   {
    "duration": 8,
    "start_time": "2021-08-31T21:59:02.398Z"
   },
   {
    "duration": 6,
    "start_time": "2021-08-31T21:59:13.794Z"
   },
   {
    "duration": 4,
    "start_time": "2021-08-31T21:59:14.686Z"
   },
   {
    "duration": 10,
    "start_time": "2021-08-31T21:59:15.533Z"
   },
   {
    "duration": 9,
    "start_time": "2021-08-31T21:59:16.504Z"
   },
   {
    "duration": 9,
    "start_time": "2021-08-31T22:01:56.897Z"
   },
   {
    "duration": 9,
    "start_time": "2021-08-31T22:02:06.814Z"
   },
   {
    "duration": 9,
    "start_time": "2021-08-31T22:02:42.583Z"
   },
   {
    "duration": 12,
    "start_time": "2021-08-31T22:03:04.823Z"
   },
   {
    "duration": 26,
    "start_time": "2021-08-31T22:03:19.575Z"
   },
   {
    "duration": 183,
    "start_time": "2021-08-31T22:16:34.457Z"
   },
   {
    "duration": 4565,
    "start_time": "2021-08-31T22:16:36.897Z"
   },
   {
    "duration": 405,
    "start_time": "2021-08-31T22:18:44.670Z"
   },
   {
    "duration": 419,
    "start_time": "2021-08-31T22:19:43.837Z"
   },
   {
    "duration": 17,
    "start_time": "2021-08-31T22:31:00.743Z"
   },
   {
    "duration": 66,
    "start_time": "2021-08-31T22:32:13.874Z"
   },
   {
    "duration": 17,
    "start_time": "2021-08-31T22:33:54.436Z"
   },
   {
    "duration": 70,
    "start_time": "2021-08-31T22:36:59.488Z"
   },
   {
    "duration": 16,
    "start_time": "2021-08-31T22:42:40.293Z"
   },
   {
    "duration": 1602,
    "start_time": "2021-08-31T22:51:28.168Z"
   },
   {
    "duration": 36,
    "start_time": "2021-08-31T22:51:29.773Z"
   },
   {
    "duration": 9,
    "start_time": "2021-08-31T22:51:29.812Z"
   },
   {
    "duration": 66,
    "start_time": "2021-08-31T22:51:29.825Z"
   },
   {
    "duration": 444,
    "start_time": "2021-08-31T22:51:29.894Z"
   },
   {
    "duration": 389,
    "start_time": "2021-08-31T22:51:30.342Z"
   },
   {
    "duration": 4909,
    "start_time": "2021-08-31T22:51:30.734Z"
   },
   {
    "duration": 21,
    "start_time": "2021-08-31T22:51:35.647Z"
   },
   {
    "duration": 8,
    "start_time": "2021-08-31T22:51:35.673Z"
   },
   {
    "duration": 6,
    "start_time": "2021-08-31T22:51:35.685Z"
   },
   {
    "duration": 9,
    "start_time": "2021-08-31T22:51:35.694Z"
   },
   {
    "duration": 8,
    "start_time": "2021-08-31T22:51:35.706Z"
   },
   {
    "duration": 231,
    "start_time": "2021-08-31T22:51:35.717Z"
   },
   {
    "duration": 4441,
    "start_time": "2021-08-31T22:51:35.951Z"
   },
   {
    "duration": 21,
    "start_time": "2021-08-31T22:51:40.396Z"
   },
   {
    "duration": 104,
    "start_time": "2021-08-31T22:51:40.420Z"
   },
   {
    "duration": 16,
    "start_time": "2021-08-31T22:51:40.527Z"
   },
   {
    "duration": 70,
    "start_time": "2021-08-31T22:51:40.568Z"
   },
   {
    "duration": 16,
    "start_time": "2021-08-31T22:51:40.675Z"
   }
  ],
  "kernelspec": {
   "display_name": "Python 3 (ipykernel)",
   "language": "python",
   "name": "python3"
  },
  "language_info": {
   "codemirror_mode": {
    "name": "ipython",
    "version": 3
   },
   "file_extension": ".py",
   "mimetype": "text/x-python",
   "name": "python",
   "nbconvert_exporter": "python",
   "pygments_lexer": "ipython3",
   "version": "3.9.5"
  },
  "toc": {
   "base_numbering": 1,
   "nav_menu": {},
   "number_sections": true,
   "sideBar": true,
   "skip_h1_title": true,
   "title_cell": "Table of Contents",
   "title_sidebar": "Contents",
   "toc_cell": false,
   "toc_position": {},
   "toc_section_display": true,
   "toc_window_display": false
  }
 },
 "nbformat": 4,
 "nbformat_minor": 2
}
