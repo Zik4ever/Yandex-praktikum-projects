{
 "cells": [
  {
   "cell_type": "markdown",
   "metadata": {},
   "source": [
    "# Сборный проект"
   ]
  },
  {
   "cell_type": "markdown",
   "metadata": {},
   "source": [
    "# Описание проекта\n",
    "\n",
    "Вы работаете в интернет-магазине «Стримчик», который продаёт по всему миру компьютерные игры. Из открытых источников доступны исторические данные о продажах игр, оценки пользователей и экспертов, жанры и платформы (например, Xbox или PlayStation). Вам нужно выявить определяющие успешность игры закономерности. Это позволит сделать ставку на потенциально популярный продукт и спланировать рекламные кампании.\n",
    "Перед вами данные до 2016 года. Представим, что сейчас декабрь 2016 г., и вы планируете кампанию на 2017-й. Нужно отработать принцип работы с данными. Неважно, прогнозируете ли вы продажи на 2017 год по данным 2016-го или же 2027-й — по данным 2026 года.\n",
    "В наборе данных попадается аббревиатура ESRB (Entertainment Software Rating Board) — это ассоциация, определяющая возрастной рейтинг компьютерных игр. ESRB оценивает игровой контент и присваивает ему подходящую возрастную категорию, например, «Для взрослых», «Для детей младшего возраста» или «Для подростков»."
   ]
  },
  {
   "cell_type": "markdown",
   "metadata": {},
   "source": [
    "## Изучение данных из файла"
   ]
  },
  {
   "cell_type": "code",
   "execution_count": 1,
   "metadata": {},
   "outputs": [],
   "source": [
    "import pandas as pd\n",
    "import numpy as np\n",
    "import matplotlib.pyplot as plt\n",
    "from scipy import stats as st\n",
    "import math as mt\n",
    "from math import factorial\n",
    "import seaborn as sns"
   ]
  },
  {
   "cell_type": "code",
   "execution_count": 2,
   "metadata": {},
   "outputs": [
    {
     "data": {
      "text/html": [
       "<div>\n",
       "<style scoped>\n",
       "    .dataframe tbody tr th:only-of-type {\n",
       "        vertical-align: middle;\n",
       "    }\n",
       "\n",
       "    .dataframe tbody tr th {\n",
       "        vertical-align: top;\n",
       "    }\n",
       "\n",
       "    .dataframe thead th {\n",
       "        text-align: right;\n",
       "    }\n",
       "</style>\n",
       "<table border=\"1\" class=\"dataframe\">\n",
       "  <thead>\n",
       "    <tr style=\"text-align: right;\">\n",
       "      <th></th>\n",
       "      <th>Name</th>\n",
       "      <th>Platform</th>\n",
       "      <th>Year_of_Release</th>\n",
       "      <th>Genre</th>\n",
       "      <th>NA_sales</th>\n",
       "      <th>EU_sales</th>\n",
       "      <th>JP_sales</th>\n",
       "      <th>Other_sales</th>\n",
       "      <th>Critic_Score</th>\n",
       "      <th>User_Score</th>\n",
       "      <th>Rating</th>\n",
       "    </tr>\n",
       "  </thead>\n",
       "  <tbody>\n",
       "    <tr>\n",
       "      <td>0</td>\n",
       "      <td>Wii Sports</td>\n",
       "      <td>Wii</td>\n",
       "      <td>2006.0</td>\n",
       "      <td>Sports</td>\n",
       "      <td>41.36</td>\n",
       "      <td>28.96</td>\n",
       "      <td>3.77</td>\n",
       "      <td>8.45</td>\n",
       "      <td>76.0</td>\n",
       "      <td>8</td>\n",
       "      <td>E</td>\n",
       "    </tr>\n",
       "    <tr>\n",
       "      <td>1</td>\n",
       "      <td>Super Mario Bros.</td>\n",
       "      <td>NES</td>\n",
       "      <td>1985.0</td>\n",
       "      <td>Platform</td>\n",
       "      <td>29.08</td>\n",
       "      <td>3.58</td>\n",
       "      <td>6.81</td>\n",
       "      <td>0.77</td>\n",
       "      <td>NaN</td>\n",
       "      <td>NaN</td>\n",
       "      <td>NaN</td>\n",
       "    </tr>\n",
       "    <tr>\n",
       "      <td>2</td>\n",
       "      <td>Mario Kart Wii</td>\n",
       "      <td>Wii</td>\n",
       "      <td>2008.0</td>\n",
       "      <td>Racing</td>\n",
       "      <td>15.68</td>\n",
       "      <td>12.76</td>\n",
       "      <td>3.79</td>\n",
       "      <td>3.29</td>\n",
       "      <td>82.0</td>\n",
       "      <td>8.3</td>\n",
       "      <td>E</td>\n",
       "    </tr>\n",
       "    <tr>\n",
       "      <td>3</td>\n",
       "      <td>Wii Sports Resort</td>\n",
       "      <td>Wii</td>\n",
       "      <td>2009.0</td>\n",
       "      <td>Sports</td>\n",
       "      <td>15.61</td>\n",
       "      <td>10.93</td>\n",
       "      <td>3.28</td>\n",
       "      <td>2.95</td>\n",
       "      <td>80.0</td>\n",
       "      <td>8</td>\n",
       "      <td>E</td>\n",
       "    </tr>\n",
       "    <tr>\n",
       "      <td>4</td>\n",
       "      <td>Pokemon Red/Pokemon Blue</td>\n",
       "      <td>GB</td>\n",
       "      <td>1996.0</td>\n",
       "      <td>Role-Playing</td>\n",
       "      <td>11.27</td>\n",
       "      <td>8.89</td>\n",
       "      <td>10.22</td>\n",
       "      <td>1.00</td>\n",
       "      <td>NaN</td>\n",
       "      <td>NaN</td>\n",
       "      <td>NaN</td>\n",
       "    </tr>\n",
       "  </tbody>\n",
       "</table>\n",
       "</div>"
      ],
      "text/plain": [
       "                       Name Platform  Year_of_Release         Genre  NA_sales  \\\n",
       "0                Wii Sports      Wii           2006.0        Sports     41.36   \n",
       "1         Super Mario Bros.      NES           1985.0      Platform     29.08   \n",
       "2            Mario Kart Wii      Wii           2008.0        Racing     15.68   \n",
       "3         Wii Sports Resort      Wii           2009.0        Sports     15.61   \n",
       "4  Pokemon Red/Pokemon Blue       GB           1996.0  Role-Playing     11.27   \n",
       "\n",
       "   EU_sales  JP_sales  Other_sales  Critic_Score User_Score Rating  \n",
       "0     28.96      3.77         8.45          76.0          8      E  \n",
       "1      3.58      6.81         0.77           NaN        NaN    NaN  \n",
       "2     12.76      3.79         3.29          82.0        8.3      E  \n",
       "3     10.93      3.28         2.95          80.0          8      E  \n",
       "4      8.89     10.22         1.00           NaN        NaN    NaN  "
      ]
     },
     "execution_count": 2,
     "metadata": {},
     "output_type": "execute_result"
    }
   ],
   "source": [
    "df = pd.read_csv('/datasets/games.csv')\n",
    "df.head()"
   ]
  },
  {
   "cell_type": "code",
   "execution_count": 3,
   "metadata": {},
   "outputs": [
    {
     "name": "stdout",
     "output_type": "stream",
     "text": [
      "<class 'pandas.core.frame.DataFrame'>\n",
      "RangeIndex: 16715 entries, 0 to 16714\n",
      "Data columns (total 11 columns):\n",
      "Name               16713 non-null object\n",
      "Platform           16715 non-null object\n",
      "Year_of_Release    16446 non-null float64\n",
      "Genre              16713 non-null object\n",
      "NA_sales           16715 non-null float64\n",
      "EU_sales           16715 non-null float64\n",
      "JP_sales           16715 non-null float64\n",
      "Other_sales        16715 non-null float64\n",
      "Critic_Score       8137 non-null float64\n",
      "User_Score         10014 non-null object\n",
      "Rating             9949 non-null object\n",
      "dtypes: float64(6), object(5)\n",
      "memory usage: 1.4+ MB\n"
     ]
    }
   ],
   "source": [
    "df.info()"
   ]
  },
  {
   "cell_type": "code",
   "execution_count": 4,
   "metadata": {},
   "outputs": [
    {
     "data": {
      "text/html": [
       "<div>\n",
       "<style scoped>\n",
       "    .dataframe tbody tr th:only-of-type {\n",
       "        vertical-align: middle;\n",
       "    }\n",
       "\n",
       "    .dataframe tbody tr th {\n",
       "        vertical-align: top;\n",
       "    }\n",
       "\n",
       "    .dataframe thead th {\n",
       "        text-align: right;\n",
       "    }\n",
       "</style>\n",
       "<table border=\"1\" class=\"dataframe\">\n",
       "  <thead>\n",
       "    <tr style=\"text-align: right;\">\n",
       "      <th></th>\n",
       "      <th>Year_of_Release</th>\n",
       "      <th>NA_sales</th>\n",
       "      <th>EU_sales</th>\n",
       "      <th>JP_sales</th>\n",
       "      <th>Other_sales</th>\n",
       "      <th>Critic_Score</th>\n",
       "    </tr>\n",
       "  </thead>\n",
       "  <tbody>\n",
       "    <tr>\n",
       "      <td>count</td>\n",
       "      <td>16446.000000</td>\n",
       "      <td>16715.000000</td>\n",
       "      <td>16715.000000</td>\n",
       "      <td>16715.000000</td>\n",
       "      <td>16715.000000</td>\n",
       "      <td>8137.000000</td>\n",
       "    </tr>\n",
       "    <tr>\n",
       "      <td>mean</td>\n",
       "      <td>2006.484616</td>\n",
       "      <td>0.263377</td>\n",
       "      <td>0.145060</td>\n",
       "      <td>0.077617</td>\n",
       "      <td>0.047342</td>\n",
       "      <td>68.967679</td>\n",
       "    </tr>\n",
       "    <tr>\n",
       "      <td>std</td>\n",
       "      <td>5.877050</td>\n",
       "      <td>0.813604</td>\n",
       "      <td>0.503339</td>\n",
       "      <td>0.308853</td>\n",
       "      <td>0.186731</td>\n",
       "      <td>13.938165</td>\n",
       "    </tr>\n",
       "    <tr>\n",
       "      <td>min</td>\n",
       "      <td>1980.000000</td>\n",
       "      <td>0.000000</td>\n",
       "      <td>0.000000</td>\n",
       "      <td>0.000000</td>\n",
       "      <td>0.000000</td>\n",
       "      <td>13.000000</td>\n",
       "    </tr>\n",
       "    <tr>\n",
       "      <td>25%</td>\n",
       "      <td>2003.000000</td>\n",
       "      <td>0.000000</td>\n",
       "      <td>0.000000</td>\n",
       "      <td>0.000000</td>\n",
       "      <td>0.000000</td>\n",
       "      <td>60.000000</td>\n",
       "    </tr>\n",
       "    <tr>\n",
       "      <td>50%</td>\n",
       "      <td>2007.000000</td>\n",
       "      <td>0.080000</td>\n",
       "      <td>0.020000</td>\n",
       "      <td>0.000000</td>\n",
       "      <td>0.010000</td>\n",
       "      <td>71.000000</td>\n",
       "    </tr>\n",
       "    <tr>\n",
       "      <td>75%</td>\n",
       "      <td>2010.000000</td>\n",
       "      <td>0.240000</td>\n",
       "      <td>0.110000</td>\n",
       "      <td>0.040000</td>\n",
       "      <td>0.030000</td>\n",
       "      <td>79.000000</td>\n",
       "    </tr>\n",
       "    <tr>\n",
       "      <td>max</td>\n",
       "      <td>2016.000000</td>\n",
       "      <td>41.360000</td>\n",
       "      <td>28.960000</td>\n",
       "      <td>10.220000</td>\n",
       "      <td>10.570000</td>\n",
       "      <td>98.000000</td>\n",
       "    </tr>\n",
       "  </tbody>\n",
       "</table>\n",
       "</div>"
      ],
      "text/plain": [
       "       Year_of_Release      NA_sales      EU_sales      JP_sales  \\\n",
       "count     16446.000000  16715.000000  16715.000000  16715.000000   \n",
       "mean       2006.484616      0.263377      0.145060      0.077617   \n",
       "std           5.877050      0.813604      0.503339      0.308853   \n",
       "min        1980.000000      0.000000      0.000000      0.000000   \n",
       "25%        2003.000000      0.000000      0.000000      0.000000   \n",
       "50%        2007.000000      0.080000      0.020000      0.000000   \n",
       "75%        2010.000000      0.240000      0.110000      0.040000   \n",
       "max        2016.000000     41.360000     28.960000     10.220000   \n",
       "\n",
       "        Other_sales  Critic_Score  \n",
       "count  16715.000000   8137.000000  \n",
       "mean       0.047342     68.967679  \n",
       "std        0.186731     13.938165  \n",
       "min        0.000000     13.000000  \n",
       "25%        0.000000     60.000000  \n",
       "50%        0.010000     71.000000  \n",
       "75%        0.030000     79.000000  \n",
       "max       10.570000     98.000000  "
      ]
     },
     "execution_count": 4,
     "metadata": {},
     "output_type": "execute_result"
    }
   ],
   "source": [
    "df.describe()"
   ]
  },
  {
   "cell_type": "markdown",
   "metadata": {},
   "source": [
    "Итак после рассмотрения нашей таблицы мы видим следующий фронт работ:\n",
    "\n",
    "1) Привести в нижнему регистру названия столбцов\n",
    "\n",
    "2) Посмотреть что пропущено в названии игры и жанре, если это одни и те же строки то мы никак не сможем их идентифицировать, они могут оказаться дублем, и наверно правильным решением чтобы не портить анализ будет просто от них избавиться. \n",
    "\n",
    "3) Необходимо оценить заполнение данных с типом object (название, платформа, жанр, рейтинг), по возможности избавиться от пропусков;\n",
    "\n",
    "4) Найти артефакты в столбце user_score и привести к типу float\n",
    "\n",
    "5) Привести оценку критиков и пользователей к одной числовой разрядности и сделать столбец с общим (средним рейтингом)\n",
    "\n",
    "6) Рассмотреть остальные пропуски \n",
    "\n",
    "7) Свести данные в столбец \"продаж всего\"\n",
    "\n",
    "8) Избавиться от дубликатов"
   ]
  },
  {
   "cell_type": "markdown",
   "metadata": {},
   "source": [
    "## Подготовка данных"
   ]
  },
  {
   "cell_type": "code",
   "execution_count": 5,
   "metadata": {},
   "outputs": [
    {
     "data": {
      "text/html": [
       "<div>\n",
       "<style scoped>\n",
       "    .dataframe tbody tr th:only-of-type {\n",
       "        vertical-align: middle;\n",
       "    }\n",
       "\n",
       "    .dataframe tbody tr th {\n",
       "        vertical-align: top;\n",
       "    }\n",
       "\n",
       "    .dataframe thead th {\n",
       "        text-align: right;\n",
       "    }\n",
       "</style>\n",
       "<table border=\"1\" class=\"dataframe\">\n",
       "  <thead>\n",
       "    <tr style=\"text-align: right;\">\n",
       "      <th></th>\n",
       "      <th>name</th>\n",
       "      <th>platform</th>\n",
       "      <th>year_of_release</th>\n",
       "      <th>genre</th>\n",
       "      <th>na_sales</th>\n",
       "      <th>eu_sales</th>\n",
       "      <th>jp_sales</th>\n",
       "      <th>other_sales</th>\n",
       "      <th>critic_score</th>\n",
       "      <th>user_score</th>\n",
       "      <th>rating</th>\n",
       "    </tr>\n",
       "  </thead>\n",
       "  <tbody>\n",
       "    <tr>\n",
       "      <td>0</td>\n",
       "      <td>Wii Sports</td>\n",
       "      <td>Wii</td>\n",
       "      <td>2006.0</td>\n",
       "      <td>Sports</td>\n",
       "      <td>41.36</td>\n",
       "      <td>28.96</td>\n",
       "      <td>3.77</td>\n",
       "      <td>8.45</td>\n",
       "      <td>76.0</td>\n",
       "      <td>8</td>\n",
       "      <td>E</td>\n",
       "    </tr>\n",
       "    <tr>\n",
       "      <td>1</td>\n",
       "      <td>Super Mario Bros.</td>\n",
       "      <td>NES</td>\n",
       "      <td>1985.0</td>\n",
       "      <td>Platform</td>\n",
       "      <td>29.08</td>\n",
       "      <td>3.58</td>\n",
       "      <td>6.81</td>\n",
       "      <td>0.77</td>\n",
       "      <td>NaN</td>\n",
       "      <td>NaN</td>\n",
       "      <td>NaN</td>\n",
       "    </tr>\n",
       "    <tr>\n",
       "      <td>2</td>\n",
       "      <td>Mario Kart Wii</td>\n",
       "      <td>Wii</td>\n",
       "      <td>2008.0</td>\n",
       "      <td>Racing</td>\n",
       "      <td>15.68</td>\n",
       "      <td>12.76</td>\n",
       "      <td>3.79</td>\n",
       "      <td>3.29</td>\n",
       "      <td>82.0</td>\n",
       "      <td>8.3</td>\n",
       "      <td>E</td>\n",
       "    </tr>\n",
       "    <tr>\n",
       "      <td>3</td>\n",
       "      <td>Wii Sports Resort</td>\n",
       "      <td>Wii</td>\n",
       "      <td>2009.0</td>\n",
       "      <td>Sports</td>\n",
       "      <td>15.61</td>\n",
       "      <td>10.93</td>\n",
       "      <td>3.28</td>\n",
       "      <td>2.95</td>\n",
       "      <td>80.0</td>\n",
       "      <td>8</td>\n",
       "      <td>E</td>\n",
       "    </tr>\n",
       "    <tr>\n",
       "      <td>4</td>\n",
       "      <td>Pokemon Red/Pokemon Blue</td>\n",
       "      <td>GB</td>\n",
       "      <td>1996.0</td>\n",
       "      <td>Role-Playing</td>\n",
       "      <td>11.27</td>\n",
       "      <td>8.89</td>\n",
       "      <td>10.22</td>\n",
       "      <td>1.00</td>\n",
       "      <td>NaN</td>\n",
       "      <td>NaN</td>\n",
       "      <td>NaN</td>\n",
       "    </tr>\n",
       "  </tbody>\n",
       "</table>\n",
       "</div>"
      ],
      "text/plain": [
       "                       name platform  year_of_release         genre  na_sales  \\\n",
       "0                Wii Sports      Wii           2006.0        Sports     41.36   \n",
       "1         Super Mario Bros.      NES           1985.0      Platform     29.08   \n",
       "2            Mario Kart Wii      Wii           2008.0        Racing     15.68   \n",
       "3         Wii Sports Resort      Wii           2009.0        Sports     15.61   \n",
       "4  Pokemon Red/Pokemon Blue       GB           1996.0  Role-Playing     11.27   \n",
       "\n",
       "   eu_sales  jp_sales  other_sales  critic_score user_score rating  \n",
       "0     28.96      3.77         8.45          76.0          8      E  \n",
       "1      3.58      6.81         0.77           NaN        NaN    NaN  \n",
       "2     12.76      3.79         3.29          82.0        8.3      E  \n",
       "3     10.93      3.28         2.95          80.0          8      E  \n",
       "4      8.89     10.22         1.00           NaN        NaN    NaN  "
      ]
     },
     "execution_count": 5,
     "metadata": {},
     "output_type": "execute_result"
    }
   ],
   "source": [
    "df.set_axis(['name', 'platform', 'year_of_release', 'genre', 'na_sales', 'eu_sales', 'jp_sales', 'other_sales', 'critic_score', 'user_score', 'rating'], axis = 'columns', inplace = True)\n",
    "df.head()"
   ]
  },
  {
   "cell_type": "code",
   "execution_count": 6,
   "metadata": {},
   "outputs": [
    {
     "data": {
      "text/html": [
       "<div>\n",
       "<style scoped>\n",
       "    .dataframe tbody tr th:only-of-type {\n",
       "        vertical-align: middle;\n",
       "    }\n",
       "\n",
       "    .dataframe tbody tr th {\n",
       "        vertical-align: top;\n",
       "    }\n",
       "\n",
       "    .dataframe thead th {\n",
       "        text-align: right;\n",
       "    }\n",
       "</style>\n",
       "<table border=\"1\" class=\"dataframe\">\n",
       "  <thead>\n",
       "    <tr style=\"text-align: right;\">\n",
       "      <th></th>\n",
       "      <th>name</th>\n",
       "      <th>platform</th>\n",
       "      <th>year_of_release</th>\n",
       "      <th>genre</th>\n",
       "      <th>na_sales</th>\n",
       "      <th>eu_sales</th>\n",
       "      <th>jp_sales</th>\n",
       "      <th>other_sales</th>\n",
       "      <th>critic_score</th>\n",
       "      <th>user_score</th>\n",
       "      <th>rating</th>\n",
       "    </tr>\n",
       "  </thead>\n",
       "  <tbody>\n",
       "    <tr>\n",
       "      <td>659</td>\n",
       "      <td>NaN</td>\n",
       "      <td>GEN</td>\n",
       "      <td>1993.0</td>\n",
       "      <td>NaN</td>\n",
       "      <td>1.78</td>\n",
       "      <td>0.53</td>\n",
       "      <td>0.00</td>\n",
       "      <td>0.08</td>\n",
       "      <td>NaN</td>\n",
       "      <td>NaN</td>\n",
       "      <td>NaN</td>\n",
       "    </tr>\n",
       "    <tr>\n",
       "      <td>14244</td>\n",
       "      <td>NaN</td>\n",
       "      <td>GEN</td>\n",
       "      <td>1993.0</td>\n",
       "      <td>NaN</td>\n",
       "      <td>0.00</td>\n",
       "      <td>0.00</td>\n",
       "      <td>0.03</td>\n",
       "      <td>0.00</td>\n",
       "      <td>NaN</td>\n",
       "      <td>NaN</td>\n",
       "      <td>NaN</td>\n",
       "    </tr>\n",
       "  </tbody>\n",
       "</table>\n",
       "</div>"
      ],
      "text/plain": [
       "      name platform  year_of_release genre  na_sales  eu_sales  jp_sales  \\\n",
       "659    NaN      GEN           1993.0   NaN      1.78      0.53      0.00   \n",
       "14244  NaN      GEN           1993.0   NaN      0.00      0.00      0.03   \n",
       "\n",
       "       other_sales  critic_score user_score rating  \n",
       "659           0.08           NaN        NaN    NaN  \n",
       "14244         0.00           NaN        NaN    NaN  "
      ]
     },
     "execution_count": 6,
     "metadata": {},
     "output_type": "execute_result"
    }
   ],
   "source": [
    "df.query('name.isna()')"
   ]
  },
  {
   "cell_type": "code",
   "execution_count": 7,
   "metadata": {},
   "outputs": [
    {
     "data": {
      "text/html": [
       "<div>\n",
       "<style scoped>\n",
       "    .dataframe tbody tr th:only-of-type {\n",
       "        vertical-align: middle;\n",
       "    }\n",
       "\n",
       "    .dataframe tbody tr th {\n",
       "        vertical-align: top;\n",
       "    }\n",
       "\n",
       "    .dataframe thead th {\n",
       "        text-align: right;\n",
       "    }\n",
       "</style>\n",
       "<table border=\"1\" class=\"dataframe\">\n",
       "  <thead>\n",
       "    <tr style=\"text-align: right;\">\n",
       "      <th></th>\n",
       "      <th>name</th>\n",
       "      <th>platform</th>\n",
       "      <th>year_of_release</th>\n",
       "      <th>genre</th>\n",
       "      <th>na_sales</th>\n",
       "      <th>eu_sales</th>\n",
       "      <th>jp_sales</th>\n",
       "      <th>other_sales</th>\n",
       "      <th>critic_score</th>\n",
       "      <th>user_score</th>\n",
       "      <th>rating</th>\n",
       "    </tr>\n",
       "  </thead>\n",
       "  <tbody>\n",
       "    <tr>\n",
       "      <td>145</td>\n",
       "      <td>Sonic the Hedgehog 2</td>\n",
       "      <td>GEN</td>\n",
       "      <td>1992.0</td>\n",
       "      <td>Platform</td>\n",
       "      <td>4.47</td>\n",
       "      <td>1.20</td>\n",
       "      <td>0.16</td>\n",
       "      <td>0.19</td>\n",
       "      <td>NaN</td>\n",
       "      <td>NaN</td>\n",
       "      <td>NaN</td>\n",
       "    </tr>\n",
       "    <tr>\n",
       "      <td>257</td>\n",
       "      <td>Sonic the Hedgehog</td>\n",
       "      <td>GEN</td>\n",
       "      <td>1991.0</td>\n",
       "      <td>Platform</td>\n",
       "      <td>3.03</td>\n",
       "      <td>0.91</td>\n",
       "      <td>0.26</td>\n",
       "      <td>0.13</td>\n",
       "      <td>NaN</td>\n",
       "      <td>NaN</td>\n",
       "      <td>NaN</td>\n",
       "    </tr>\n",
       "    <tr>\n",
       "      <td>564</td>\n",
       "      <td>Mortal Kombat</td>\n",
       "      <td>GEN</td>\n",
       "      <td>1992.0</td>\n",
       "      <td>Fighting</td>\n",
       "      <td>1.95</td>\n",
       "      <td>0.63</td>\n",
       "      <td>0.00</td>\n",
       "      <td>0.09</td>\n",
       "      <td>NaN</td>\n",
       "      <td>NaN</td>\n",
       "      <td>NaN</td>\n",
       "    </tr>\n",
       "    <tr>\n",
       "      <td>588</td>\n",
       "      <td>Streets of Rage</td>\n",
       "      <td>GEN</td>\n",
       "      <td>1990.0</td>\n",
       "      <td>Action</td>\n",
       "      <td>1.86</td>\n",
       "      <td>0.55</td>\n",
       "      <td>0.11</td>\n",
       "      <td>0.08</td>\n",
       "      <td>NaN</td>\n",
       "      <td>NaN</td>\n",
       "      <td>NaN</td>\n",
       "    </tr>\n",
       "    <tr>\n",
       "      <td>659</td>\n",
       "      <td>NaN</td>\n",
       "      <td>GEN</td>\n",
       "      <td>1993.0</td>\n",
       "      <td>NaN</td>\n",
       "      <td>1.78</td>\n",
       "      <td>0.53</td>\n",
       "      <td>0.00</td>\n",
       "      <td>0.08</td>\n",
       "      <td>NaN</td>\n",
       "      <td>NaN</td>\n",
       "      <td>NaN</td>\n",
       "    </tr>\n",
       "    <tr>\n",
       "      <td>832</td>\n",
       "      <td>NBA Jam</td>\n",
       "      <td>GEN</td>\n",
       "      <td>1992.0</td>\n",
       "      <td>Sports</td>\n",
       "      <td>1.75</td>\n",
       "      <td>0.25</td>\n",
       "      <td>0.00</td>\n",
       "      <td>0.05</td>\n",
       "      <td>NaN</td>\n",
       "      <td>NaN</td>\n",
       "      <td>NaN</td>\n",
       "    </tr>\n",
       "    <tr>\n",
       "      <td>960</td>\n",
       "      <td>Sonic &amp; Knuckles</td>\n",
       "      <td>GEN</td>\n",
       "      <td>1994.0</td>\n",
       "      <td>Platform</td>\n",
       "      <td>1.24</td>\n",
       "      <td>0.43</td>\n",
       "      <td>0.03</td>\n",
       "      <td>0.12</td>\n",
       "      <td>NaN</td>\n",
       "      <td>NaN</td>\n",
       "      <td>NaN</td>\n",
       "    </tr>\n",
       "    <tr>\n",
       "      <td>996</td>\n",
       "      <td>Sonic the Hedgehog 3</td>\n",
       "      <td>GEN</td>\n",
       "      <td>1994.0</td>\n",
       "      <td>Platform</td>\n",
       "      <td>1.02</td>\n",
       "      <td>0.47</td>\n",
       "      <td>0.20</td>\n",
       "      <td>0.07</td>\n",
       "      <td>NaN</td>\n",
       "      <td>NaN</td>\n",
       "      <td>NaN</td>\n",
       "    </tr>\n",
       "    <tr>\n",
       "      <td>1099</td>\n",
       "      <td>Street Fighter II': Special Champion Edition</td>\n",
       "      <td>GEN</td>\n",
       "      <td>1992.0</td>\n",
       "      <td>Fighting</td>\n",
       "      <td>1.00</td>\n",
       "      <td>0.30</td>\n",
       "      <td>0.31</td>\n",
       "      <td>0.04</td>\n",
       "      <td>NaN</td>\n",
       "      <td>NaN</td>\n",
       "      <td>NaN</td>\n",
       "    </tr>\n",
       "    <tr>\n",
       "      <td>1365</td>\n",
       "      <td>Disney's The Lion King</td>\n",
       "      <td>GEN</td>\n",
       "      <td>1994.0</td>\n",
       "      <td>Platform</td>\n",
       "      <td>0.97</td>\n",
       "      <td>0.37</td>\n",
       "      <td>0.03</td>\n",
       "      <td>0.05</td>\n",
       "      <td>NaN</td>\n",
       "      <td>NaN</td>\n",
       "      <td>NaN</td>\n",
       "    </tr>\n",
       "    <tr>\n",
       "      <td>1453</td>\n",
       "      <td>Mortal Kombat 3</td>\n",
       "      <td>GEN</td>\n",
       "      <td>1994.0</td>\n",
       "      <td>Fighting</td>\n",
       "      <td>1.03</td>\n",
       "      <td>0.27</td>\n",
       "      <td>0.00</td>\n",
       "      <td>0.04</td>\n",
       "      <td>NaN</td>\n",
       "      <td>NaN</td>\n",
       "      <td>NaN</td>\n",
       "    </tr>\n",
       "    <tr>\n",
       "      <td>1842</td>\n",
       "      <td>NBA Jam Tournament Edition</td>\n",
       "      <td>GEN</td>\n",
       "      <td>1994.0</td>\n",
       "      <td>Sports</td>\n",
       "      <td>0.95</td>\n",
       "      <td>0.14</td>\n",
       "      <td>0.00</td>\n",
       "      <td>0.03</td>\n",
       "      <td>NaN</td>\n",
       "      <td>NaN</td>\n",
       "      <td>NaN</td>\n",
       "    </tr>\n",
       "    <tr>\n",
       "      <td>6451</td>\n",
       "      <td>Virtua Racing</td>\n",
       "      <td>GEN</td>\n",
       "      <td>1994.0</td>\n",
       "      <td>Racing</td>\n",
       "      <td>0.00</td>\n",
       "      <td>0.00</td>\n",
       "      <td>0.26</td>\n",
       "      <td>0.00</td>\n",
       "      <td>NaN</td>\n",
       "      <td>NaN</td>\n",
       "      <td>NaN</td>\n",
       "    </tr>\n",
       "    <tr>\n",
       "      <td>7885</td>\n",
       "      <td>Shining Force II</td>\n",
       "      <td>GEN</td>\n",
       "      <td>1993.0</td>\n",
       "      <td>Strategy</td>\n",
       "      <td>0.00</td>\n",
       "      <td>0.00</td>\n",
       "      <td>0.19</td>\n",
       "      <td>0.00</td>\n",
       "      <td>NaN</td>\n",
       "      <td>NaN</td>\n",
       "      <td>NaN</td>\n",
       "    </tr>\n",
       "    <tr>\n",
       "      <td>8893</td>\n",
       "      <td>Super Street Fighter II</td>\n",
       "      <td>GEN</td>\n",
       "      <td>1993.0</td>\n",
       "      <td>Fighting</td>\n",
       "      <td>0.00</td>\n",
       "      <td>0.00</td>\n",
       "      <td>0.15</td>\n",
       "      <td>0.00</td>\n",
       "      <td>NaN</td>\n",
       "      <td>NaN</td>\n",
       "      <td>NaN</td>\n",
       "    </tr>\n",
       "    <tr>\n",
       "      <td>9000</td>\n",
       "      <td>Lunar 2: Eternal Blue(sales, but wrong system)</td>\n",
       "      <td>GEN</td>\n",
       "      <td>1994.0</td>\n",
       "      <td>Role-Playing</td>\n",
       "      <td>0.00</td>\n",
       "      <td>0.00</td>\n",
       "      <td>0.14</td>\n",
       "      <td>0.00</td>\n",
       "      <td>NaN</td>\n",
       "      <td>NaN</td>\n",
       "      <td>NaN</td>\n",
       "    </tr>\n",
       "    <tr>\n",
       "      <td>9563</td>\n",
       "      <td>Gunstar Heroes</td>\n",
       "      <td>GEN</td>\n",
       "      <td>1992.0</td>\n",
       "      <td>Shooter</td>\n",
       "      <td>0.00</td>\n",
       "      <td>0.00</td>\n",
       "      <td>0.13</td>\n",
       "      <td>0.00</td>\n",
       "      <td>NaN</td>\n",
       "      <td>NaN</td>\n",
       "      <td>NaN</td>\n",
       "    </tr>\n",
       "    <tr>\n",
       "      <td>9787</td>\n",
       "      <td>Ecco the Dolphin</td>\n",
       "      <td>GEN</td>\n",
       "      <td>1992.0</td>\n",
       "      <td>Adventure</td>\n",
       "      <td>0.00</td>\n",
       "      <td>0.00</td>\n",
       "      <td>0.12</td>\n",
       "      <td>0.00</td>\n",
       "      <td>NaN</td>\n",
       "      <td>NaN</td>\n",
       "      <td>NaN</td>\n",
       "    </tr>\n",
       "    <tr>\n",
       "      <td>11563</td>\n",
       "      <td>Yuu Yuu Hakusho: Makyo Toitsusen</td>\n",
       "      <td>GEN</td>\n",
       "      <td>1994.0</td>\n",
       "      <td>Fighting</td>\n",
       "      <td>0.00</td>\n",
       "      <td>0.00</td>\n",
       "      <td>0.08</td>\n",
       "      <td>0.00</td>\n",
       "      <td>NaN</td>\n",
       "      <td>NaN</td>\n",
       "      <td>NaN</td>\n",
       "    </tr>\n",
       "    <tr>\n",
       "      <td>11660</td>\n",
       "      <td>Dragon Slayer: The Legend of Heroes</td>\n",
       "      <td>GEN</td>\n",
       "      <td>1994.0</td>\n",
       "      <td>Role-Playing</td>\n",
       "      <td>0.00</td>\n",
       "      <td>0.00</td>\n",
       "      <td>0.08</td>\n",
       "      <td>0.00</td>\n",
       "      <td>NaN</td>\n",
       "      <td>NaN</td>\n",
       "      <td>NaN</td>\n",
       "    </tr>\n",
       "    <tr>\n",
       "      <td>11986</td>\n",
       "      <td>Ecco: The Tides of Time</td>\n",
       "      <td>GEN</td>\n",
       "      <td>1993.0</td>\n",
       "      <td>Adventure</td>\n",
       "      <td>0.00</td>\n",
       "      <td>0.00</td>\n",
       "      <td>0.07</td>\n",
       "      <td>0.00</td>\n",
       "      <td>NaN</td>\n",
       "      <td>NaN</td>\n",
       "      <td>NaN</td>\n",
       "    </tr>\n",
       "    <tr>\n",
       "      <td>12098</td>\n",
       "      <td>Street Fighter II': Special Champion Edition (...</td>\n",
       "      <td>GEN</td>\n",
       "      <td>1993.0</td>\n",
       "      <td>Action</td>\n",
       "      <td>0.00</td>\n",
       "      <td>0.00</td>\n",
       "      <td>0.07</td>\n",
       "      <td>0.00</td>\n",
       "      <td>NaN</td>\n",
       "      <td>NaN</td>\n",
       "      <td>NaN</td>\n",
       "    </tr>\n",
       "    <tr>\n",
       "      <td>12264</td>\n",
       "      <td>Streets of Rage 3</td>\n",
       "      <td>GEN</td>\n",
       "      <td>1993.0</td>\n",
       "      <td>Action</td>\n",
       "      <td>0.00</td>\n",
       "      <td>0.00</td>\n",
       "      <td>0.07</td>\n",
       "      <td>0.00</td>\n",
       "      <td>NaN</td>\n",
       "      <td>NaN</td>\n",
       "      <td>NaN</td>\n",
       "    </tr>\n",
       "    <tr>\n",
       "      <td>12984</td>\n",
       "      <td>Dynamite Headdy</td>\n",
       "      <td>GEN</td>\n",
       "      <td>1993.0</td>\n",
       "      <td>Platform</td>\n",
       "      <td>0.00</td>\n",
       "      <td>0.00</td>\n",
       "      <td>0.05</td>\n",
       "      <td>0.00</td>\n",
       "      <td>NaN</td>\n",
       "      <td>NaN</td>\n",
       "      <td>NaN</td>\n",
       "    </tr>\n",
       "    <tr>\n",
       "      <td>13343</td>\n",
       "      <td>Beyond Oasis</td>\n",
       "      <td>GEN</td>\n",
       "      <td>1993.0</td>\n",
       "      <td>Role-Playing</td>\n",
       "      <td>0.00</td>\n",
       "      <td>0.00</td>\n",
       "      <td>0.05</td>\n",
       "      <td>0.00</td>\n",
       "      <td>NaN</td>\n",
       "      <td>NaN</td>\n",
       "      <td>NaN</td>\n",
       "    </tr>\n",
       "    <tr>\n",
       "      <td>14085</td>\n",
       "      <td>J-League Pro Striker 2</td>\n",
       "      <td>GEN</td>\n",
       "      <td>1994.0</td>\n",
       "      <td>Sports</td>\n",
       "      <td>0.00</td>\n",
       "      <td>0.00</td>\n",
       "      <td>0.04</td>\n",
       "      <td>0.00</td>\n",
       "      <td>NaN</td>\n",
       "      <td>NaN</td>\n",
       "      <td>NaN</td>\n",
       "    </tr>\n",
       "    <tr>\n",
       "      <td>14132</td>\n",
       "      <td>Castlevania Bloodlines</td>\n",
       "      <td>GEN</td>\n",
       "      <td>1994.0</td>\n",
       "      <td>Platform</td>\n",
       "      <td>0.00</td>\n",
       "      <td>0.00</td>\n",
       "      <td>0.04</td>\n",
       "      <td>0.00</td>\n",
       "      <td>NaN</td>\n",
       "      <td>NaN</td>\n",
       "      <td>NaN</td>\n",
       "    </tr>\n",
       "    <tr>\n",
       "      <td>14244</td>\n",
       "      <td>NaN</td>\n",
       "      <td>GEN</td>\n",
       "      <td>1993.0</td>\n",
       "      <td>NaN</td>\n",
       "      <td>0.00</td>\n",
       "      <td>0.00</td>\n",
       "      <td>0.03</td>\n",
       "      <td>0.00</td>\n",
       "      <td>NaN</td>\n",
       "      <td>NaN</td>\n",
       "      <td>NaN</td>\n",
       "    </tr>\n",
       "    <tr>\n",
       "      <td>14488</td>\n",
       "      <td>Puzzle &amp; Action: Tant-R</td>\n",
       "      <td>GEN</td>\n",
       "      <td>1994.0</td>\n",
       "      <td>Misc</td>\n",
       "      <td>0.00</td>\n",
       "      <td>0.00</td>\n",
       "      <td>0.03</td>\n",
       "      <td>0.00</td>\n",
       "      <td>NaN</td>\n",
       "      <td>NaN</td>\n",
       "      <td>NaN</td>\n",
       "    </tr>\n",
       "  </tbody>\n",
       "</table>\n",
       "</div>"
      ],
      "text/plain": [
       "                                                    name platform  \\\n",
       "145                                 Sonic the Hedgehog 2      GEN   \n",
       "257                                   Sonic the Hedgehog      GEN   \n",
       "564                                        Mortal Kombat      GEN   \n",
       "588                                      Streets of Rage      GEN   \n",
       "659                                                  NaN      GEN   \n",
       "832                                              NBA Jam      GEN   \n",
       "960                                     Sonic & Knuckles      GEN   \n",
       "996                                 Sonic the Hedgehog 3      GEN   \n",
       "1099        Street Fighter II': Special Champion Edition      GEN   \n",
       "1365                              Disney's The Lion King      GEN   \n",
       "1453                                     Mortal Kombat 3      GEN   \n",
       "1842                          NBA Jam Tournament Edition      GEN   \n",
       "6451                                       Virtua Racing      GEN   \n",
       "7885                                    Shining Force II      GEN   \n",
       "8893                             Super Street Fighter II      GEN   \n",
       "9000      Lunar 2: Eternal Blue(sales, but wrong system)      GEN   \n",
       "9563                                      Gunstar Heroes      GEN   \n",
       "9787                                    Ecco the Dolphin      GEN   \n",
       "11563                   Yuu Yuu Hakusho: Makyo Toitsusen      GEN   \n",
       "11660                Dragon Slayer: The Legend of Heroes      GEN   \n",
       "11986                            Ecco: The Tides of Time      GEN   \n",
       "12098  Street Fighter II': Special Champion Edition (...      GEN   \n",
       "12264                                  Streets of Rage 3      GEN   \n",
       "12984                                    Dynamite Headdy      GEN   \n",
       "13343                                       Beyond Oasis      GEN   \n",
       "14085                             J-League Pro Striker 2      GEN   \n",
       "14132                             Castlevania Bloodlines      GEN   \n",
       "14244                                                NaN      GEN   \n",
       "14488                            Puzzle & Action: Tant-R      GEN   \n",
       "\n",
       "       year_of_release         genre  na_sales  eu_sales  jp_sales  \\\n",
       "145             1992.0      Platform      4.47      1.20      0.16   \n",
       "257             1991.0      Platform      3.03      0.91      0.26   \n",
       "564             1992.0      Fighting      1.95      0.63      0.00   \n",
       "588             1990.0        Action      1.86      0.55      0.11   \n",
       "659             1993.0           NaN      1.78      0.53      0.00   \n",
       "832             1992.0        Sports      1.75      0.25      0.00   \n",
       "960             1994.0      Platform      1.24      0.43      0.03   \n",
       "996             1994.0      Platform      1.02      0.47      0.20   \n",
       "1099            1992.0      Fighting      1.00      0.30      0.31   \n",
       "1365            1994.0      Platform      0.97      0.37      0.03   \n",
       "1453            1994.0      Fighting      1.03      0.27      0.00   \n",
       "1842            1994.0        Sports      0.95      0.14      0.00   \n",
       "6451            1994.0        Racing      0.00      0.00      0.26   \n",
       "7885            1993.0      Strategy      0.00      0.00      0.19   \n",
       "8893            1993.0      Fighting      0.00      0.00      0.15   \n",
       "9000            1994.0  Role-Playing      0.00      0.00      0.14   \n",
       "9563            1992.0       Shooter      0.00      0.00      0.13   \n",
       "9787            1992.0     Adventure      0.00      0.00      0.12   \n",
       "11563           1994.0      Fighting      0.00      0.00      0.08   \n",
       "11660           1994.0  Role-Playing      0.00      0.00      0.08   \n",
       "11986           1993.0     Adventure      0.00      0.00      0.07   \n",
       "12098           1993.0        Action      0.00      0.00      0.07   \n",
       "12264           1993.0        Action      0.00      0.00      0.07   \n",
       "12984           1993.0      Platform      0.00      0.00      0.05   \n",
       "13343           1993.0  Role-Playing      0.00      0.00      0.05   \n",
       "14085           1994.0        Sports      0.00      0.00      0.04   \n",
       "14132           1994.0      Platform      0.00      0.00      0.04   \n",
       "14244           1993.0           NaN      0.00      0.00      0.03   \n",
       "14488           1994.0          Misc      0.00      0.00      0.03   \n",
       "\n",
       "       other_sales  critic_score user_score rating  \n",
       "145           0.19           NaN        NaN    NaN  \n",
       "257           0.13           NaN        NaN    NaN  \n",
       "564           0.09           NaN        NaN    NaN  \n",
       "588           0.08           NaN        NaN    NaN  \n",
       "659           0.08           NaN        NaN    NaN  \n",
       "832           0.05           NaN        NaN    NaN  \n",
       "960           0.12           NaN        NaN    NaN  \n",
       "996           0.07           NaN        NaN    NaN  \n",
       "1099          0.04           NaN        NaN    NaN  \n",
       "1365          0.05           NaN        NaN    NaN  \n",
       "1453          0.04           NaN        NaN    NaN  \n",
       "1842          0.03           NaN        NaN    NaN  \n",
       "6451          0.00           NaN        NaN    NaN  \n",
       "7885          0.00           NaN        NaN    NaN  \n",
       "8893          0.00           NaN        NaN    NaN  \n",
       "9000          0.00           NaN        NaN    NaN  \n",
       "9563          0.00           NaN        NaN    NaN  \n",
       "9787          0.00           NaN        NaN    NaN  \n",
       "11563         0.00           NaN        NaN    NaN  \n",
       "11660         0.00           NaN        NaN    NaN  \n",
       "11986         0.00           NaN        NaN    NaN  \n",
       "12098         0.00           NaN        NaN    NaN  \n",
       "12264         0.00           NaN        NaN    NaN  \n",
       "12984         0.00           NaN        NaN    NaN  \n",
       "13343         0.00           NaN        NaN    NaN  \n",
       "14085         0.00           NaN        NaN    NaN  \n",
       "14132         0.00           NaN        NaN    NaN  \n",
       "14244         0.00           NaN        NaN    NaN  \n",
       "14488         0.00           NaN        NaN    NaN  "
      ]
     },
     "execution_count": 7,
     "metadata": {},
     "output_type": "execute_result"
    }
   ],
   "source": [
    "df.query('platform == \"GEN\"')"
   ]
  },
  {
   "cell_type": "code",
   "execution_count": 8,
   "metadata": {},
   "outputs": [],
   "source": [
    "df = df.drop(index = [659, 14244]).reset_index()\n",
    "df = df.drop(['index'], axis = 1)"
   ]
  },
  {
   "cell_type": "code",
   "execution_count": 9,
   "metadata": {},
   "outputs": [
    {
     "data": {
      "text/html": [
       "<div>\n",
       "<style scoped>\n",
       "    .dataframe tbody tr th:only-of-type {\n",
       "        vertical-align: middle;\n",
       "    }\n",
       "\n",
       "    .dataframe tbody tr th {\n",
       "        vertical-align: top;\n",
       "    }\n",
       "\n",
       "    .dataframe thead th {\n",
       "        text-align: right;\n",
       "    }\n",
       "</style>\n",
       "<table border=\"1\" class=\"dataframe\">\n",
       "  <thead>\n",
       "    <tr style=\"text-align: right;\">\n",
       "      <th></th>\n",
       "      <th>name</th>\n",
       "      <th>platform</th>\n",
       "      <th>year_of_release</th>\n",
       "      <th>genre</th>\n",
       "      <th>na_sales</th>\n",
       "      <th>eu_sales</th>\n",
       "      <th>jp_sales</th>\n",
       "      <th>other_sales</th>\n",
       "      <th>critic_score</th>\n",
       "      <th>user_score</th>\n",
       "      <th>rating</th>\n",
       "    </tr>\n",
       "  </thead>\n",
       "  <tbody>\n",
       "    <tr>\n",
       "      <td>0</td>\n",
       "      <td>Wii Sports</td>\n",
       "      <td>Wii</td>\n",
       "      <td>2006.0</td>\n",
       "      <td>Sports</td>\n",
       "      <td>41.36</td>\n",
       "      <td>28.96</td>\n",
       "      <td>3.77</td>\n",
       "      <td>8.45</td>\n",
       "      <td>76.0</td>\n",
       "      <td>8</td>\n",
       "      <td>E</td>\n",
       "    </tr>\n",
       "    <tr>\n",
       "      <td>1</td>\n",
       "      <td>Super Mario Bros.</td>\n",
       "      <td>NES</td>\n",
       "      <td>1985.0</td>\n",
       "      <td>Platform</td>\n",
       "      <td>29.08</td>\n",
       "      <td>3.58</td>\n",
       "      <td>6.81</td>\n",
       "      <td>0.77</td>\n",
       "      <td>NaN</td>\n",
       "      <td>NaN</td>\n",
       "      <td>NaN</td>\n",
       "    </tr>\n",
       "    <tr>\n",
       "      <td>2</td>\n",
       "      <td>Mario Kart Wii</td>\n",
       "      <td>Wii</td>\n",
       "      <td>2008.0</td>\n",
       "      <td>Racing</td>\n",
       "      <td>15.68</td>\n",
       "      <td>12.76</td>\n",
       "      <td>3.79</td>\n",
       "      <td>3.29</td>\n",
       "      <td>82.0</td>\n",
       "      <td>8.3</td>\n",
       "      <td>E</td>\n",
       "    </tr>\n",
       "    <tr>\n",
       "      <td>3</td>\n",
       "      <td>Wii Sports Resort</td>\n",
       "      <td>Wii</td>\n",
       "      <td>2009.0</td>\n",
       "      <td>Sports</td>\n",
       "      <td>15.61</td>\n",
       "      <td>10.93</td>\n",
       "      <td>3.28</td>\n",
       "      <td>2.95</td>\n",
       "      <td>80.0</td>\n",
       "      <td>8</td>\n",
       "      <td>E</td>\n",
       "    </tr>\n",
       "    <tr>\n",
       "      <td>4</td>\n",
       "      <td>Pokemon Red/Pokemon Blue</td>\n",
       "      <td>GB</td>\n",
       "      <td>1996.0</td>\n",
       "      <td>Role-Playing</td>\n",
       "      <td>11.27</td>\n",
       "      <td>8.89</td>\n",
       "      <td>10.22</td>\n",
       "      <td>1.00</td>\n",
       "      <td>NaN</td>\n",
       "      <td>NaN</td>\n",
       "      <td>NaN</td>\n",
       "    </tr>\n",
       "  </tbody>\n",
       "</table>\n",
       "</div>"
      ],
      "text/plain": [
       "                       name platform  year_of_release         genre  na_sales  \\\n",
       "0                Wii Sports      Wii           2006.0        Sports     41.36   \n",
       "1         Super Mario Bros.      NES           1985.0      Platform     29.08   \n",
       "2            Mario Kart Wii      Wii           2008.0        Racing     15.68   \n",
       "3         Wii Sports Resort      Wii           2009.0        Sports     15.61   \n",
       "4  Pokemon Red/Pokemon Blue       GB           1996.0  Role-Playing     11.27   \n",
       "\n",
       "   eu_sales  jp_sales  other_sales  critic_score user_score rating  \n",
       "0     28.96      3.77         8.45          76.0          8      E  \n",
       "1      3.58      6.81         0.77           NaN        NaN    NaN  \n",
       "2     12.76      3.79         3.29          82.0        8.3      E  \n",
       "3     10.93      3.28         2.95          80.0          8      E  \n",
       "4      8.89     10.22         1.00           NaN        NaN    NaN  "
      ]
     },
     "execution_count": 9,
     "metadata": {},
     "output_type": "execute_result"
    }
   ],
   "source": [
    "df.head()"
   ]
  },
  {
   "cell_type": "code",
   "execution_count": 10,
   "metadata": {},
   "outputs": [
    {
     "data": {
      "text/html": [
       "<div>\n",
       "<style scoped>\n",
       "    .dataframe tbody tr th:only-of-type {\n",
       "        vertical-align: middle;\n",
       "    }\n",
       "\n",
       "    .dataframe tbody tr th {\n",
       "        vertical-align: top;\n",
       "    }\n",
       "\n",
       "    .dataframe thead th {\n",
       "        text-align: right;\n",
       "    }\n",
       "</style>\n",
       "<table border=\"1\" class=\"dataframe\">\n",
       "  <thead>\n",
       "    <tr style=\"text-align: right;\">\n",
       "      <th></th>\n",
       "      <th>name</th>\n",
       "      <th>platform</th>\n",
       "      <th>year_of_release</th>\n",
       "      <th>genre</th>\n",
       "      <th>na_sales</th>\n",
       "      <th>eu_sales</th>\n",
       "      <th>jp_sales</th>\n",
       "      <th>other_sales</th>\n",
       "      <th>critic_score</th>\n",
       "      <th>user_score</th>\n",
       "      <th>rating</th>\n",
       "    </tr>\n",
       "  </thead>\n",
       "  <tbody>\n",
       "    <tr>\n",
       "      <td>253</td>\n",
       "      <td>Need for Speed: Most Wanted</td>\n",
       "      <td>PS2</td>\n",
       "      <td>2005.0</td>\n",
       "      <td>Racing</td>\n",
       "      <td>2.03</td>\n",
       "      <td>1.79</td>\n",
       "      <td>0.08</td>\n",
       "      <td>0.47</td>\n",
       "      <td>82.0</td>\n",
       "      <td>9.1</td>\n",
       "      <td>T</td>\n",
       "    </tr>\n",
       "    <tr>\n",
       "      <td>523</td>\n",
       "      <td>Need for Speed: Most Wanted</td>\n",
       "      <td>PS3</td>\n",
       "      <td>2012.0</td>\n",
       "      <td>Racing</td>\n",
       "      <td>0.71</td>\n",
       "      <td>1.46</td>\n",
       "      <td>0.06</td>\n",
       "      <td>0.58</td>\n",
       "      <td>NaN</td>\n",
       "      <td>NaN</td>\n",
       "      <td>NaN</td>\n",
       "    </tr>\n",
       "    <tr>\n",
       "      <td>1189</td>\n",
       "      <td>Need for Speed: Most Wanted</td>\n",
       "      <td>X360</td>\n",
       "      <td>2012.0</td>\n",
       "      <td>Racing</td>\n",
       "      <td>0.62</td>\n",
       "      <td>0.78</td>\n",
       "      <td>0.01</td>\n",
       "      <td>0.15</td>\n",
       "      <td>83.0</td>\n",
       "      <td>8.5</td>\n",
       "      <td>T</td>\n",
       "    </tr>\n",
       "    <tr>\n",
       "      <td>1590</td>\n",
       "      <td>Need for Speed: Most Wanted</td>\n",
       "      <td>X360</td>\n",
       "      <td>2005.0</td>\n",
       "      <td>Racing</td>\n",
       "      <td>1.00</td>\n",
       "      <td>0.13</td>\n",
       "      <td>0.02</td>\n",
       "      <td>0.10</td>\n",
       "      <td>83.0</td>\n",
       "      <td>8.5</td>\n",
       "      <td>T</td>\n",
       "    </tr>\n",
       "    <tr>\n",
       "      <td>1997</td>\n",
       "      <td>Need for Speed: Most Wanted</td>\n",
       "      <td>XB</td>\n",
       "      <td>2005.0</td>\n",
       "      <td>Racing</td>\n",
       "      <td>0.53</td>\n",
       "      <td>0.46</td>\n",
       "      <td>0.00</td>\n",
       "      <td>0.05</td>\n",
       "      <td>83.0</td>\n",
       "      <td>8.8</td>\n",
       "      <td>T</td>\n",
       "    </tr>\n",
       "    <tr>\n",
       "      <td>2047</td>\n",
       "      <td>Need for Speed: Most Wanted</td>\n",
       "      <td>PSV</td>\n",
       "      <td>2012.0</td>\n",
       "      <td>Racing</td>\n",
       "      <td>0.33</td>\n",
       "      <td>0.45</td>\n",
       "      <td>0.01</td>\n",
       "      <td>0.22</td>\n",
       "      <td>NaN</td>\n",
       "      <td>NaN</td>\n",
       "      <td>NaN</td>\n",
       "    </tr>\n",
       "    <tr>\n",
       "      <td>3580</td>\n",
       "      <td>Need for Speed: Most Wanted</td>\n",
       "      <td>GC</td>\n",
       "      <td>2005.0</td>\n",
       "      <td>Racing</td>\n",
       "      <td>0.43</td>\n",
       "      <td>0.11</td>\n",
       "      <td>0.00</td>\n",
       "      <td>0.02</td>\n",
       "      <td>80.0</td>\n",
       "      <td>9.1</td>\n",
       "      <td>T</td>\n",
       "    </tr>\n",
       "    <tr>\n",
       "      <td>5971</td>\n",
       "      <td>Need for Speed: Most Wanted</td>\n",
       "      <td>PC</td>\n",
       "      <td>2005.0</td>\n",
       "      <td>Racing</td>\n",
       "      <td>0.02</td>\n",
       "      <td>0.23</td>\n",
       "      <td>0.00</td>\n",
       "      <td>0.04</td>\n",
       "      <td>82.0</td>\n",
       "      <td>8.5</td>\n",
       "      <td>T</td>\n",
       "    </tr>\n",
       "    <tr>\n",
       "      <td>6272</td>\n",
       "      <td>Need for Speed: Most Wanted</td>\n",
       "      <td>WiiU</td>\n",
       "      <td>2013.0</td>\n",
       "      <td>Racing</td>\n",
       "      <td>0.13</td>\n",
       "      <td>0.12</td>\n",
       "      <td>0.00</td>\n",
       "      <td>0.02</td>\n",
       "      <td>NaN</td>\n",
       "      <td>NaN</td>\n",
       "      <td>NaN</td>\n",
       "    </tr>\n",
       "    <tr>\n",
       "      <td>6409</td>\n",
       "      <td>Need for Speed: Most Wanted</td>\n",
       "      <td>DS</td>\n",
       "      <td>2005.0</td>\n",
       "      <td>Racing</td>\n",
       "      <td>0.24</td>\n",
       "      <td>0.01</td>\n",
       "      <td>0.00</td>\n",
       "      <td>0.02</td>\n",
       "      <td>45.0</td>\n",
       "      <td>6.1</td>\n",
       "      <td>E</td>\n",
       "    </tr>\n",
       "    <tr>\n",
       "      <td>6472</td>\n",
       "      <td>Need for Speed: Most Wanted</td>\n",
       "      <td>GBA</td>\n",
       "      <td>2005.0</td>\n",
       "      <td>Racing</td>\n",
       "      <td>0.19</td>\n",
       "      <td>0.07</td>\n",
       "      <td>0.00</td>\n",
       "      <td>0.00</td>\n",
       "      <td>NaN</td>\n",
       "      <td>8.3</td>\n",
       "      <td>E</td>\n",
       "    </tr>\n",
       "    <tr>\n",
       "      <td>11714</td>\n",
       "      <td>Need for Speed: Most Wanted</td>\n",
       "      <td>PC</td>\n",
       "      <td>2012.0</td>\n",
       "      <td>Racing</td>\n",
       "      <td>0.00</td>\n",
       "      <td>0.06</td>\n",
       "      <td>0.00</td>\n",
       "      <td>0.02</td>\n",
       "      <td>82.0</td>\n",
       "      <td>8.5</td>\n",
       "      <td>T</td>\n",
       "    </tr>\n",
       "  </tbody>\n",
       "</table>\n",
       "</div>"
      ],
      "text/plain": [
       "                              name platform  year_of_release   genre  \\\n",
       "253    Need for Speed: Most Wanted      PS2           2005.0  Racing   \n",
       "523    Need for Speed: Most Wanted      PS3           2012.0  Racing   \n",
       "1189   Need for Speed: Most Wanted     X360           2012.0  Racing   \n",
       "1590   Need for Speed: Most Wanted     X360           2005.0  Racing   \n",
       "1997   Need for Speed: Most Wanted       XB           2005.0  Racing   \n",
       "2047   Need for Speed: Most Wanted      PSV           2012.0  Racing   \n",
       "3580   Need for Speed: Most Wanted       GC           2005.0  Racing   \n",
       "5971   Need for Speed: Most Wanted       PC           2005.0  Racing   \n",
       "6272   Need for Speed: Most Wanted     WiiU           2013.0  Racing   \n",
       "6409   Need for Speed: Most Wanted       DS           2005.0  Racing   \n",
       "6472   Need for Speed: Most Wanted      GBA           2005.0  Racing   \n",
       "11714  Need for Speed: Most Wanted       PC           2012.0  Racing   \n",
       "\n",
       "       na_sales  eu_sales  jp_sales  other_sales  critic_score user_score  \\\n",
       "253        2.03      1.79      0.08         0.47          82.0        9.1   \n",
       "523        0.71      1.46      0.06         0.58           NaN        NaN   \n",
       "1189       0.62      0.78      0.01         0.15          83.0        8.5   \n",
       "1590       1.00      0.13      0.02         0.10          83.0        8.5   \n",
       "1997       0.53      0.46      0.00         0.05          83.0        8.8   \n",
       "2047       0.33      0.45      0.01         0.22           NaN        NaN   \n",
       "3580       0.43      0.11      0.00         0.02          80.0        9.1   \n",
       "5971       0.02      0.23      0.00         0.04          82.0        8.5   \n",
       "6272       0.13      0.12      0.00         0.02           NaN        NaN   \n",
       "6409       0.24      0.01      0.00         0.02          45.0        6.1   \n",
       "6472       0.19      0.07      0.00         0.00           NaN        8.3   \n",
       "11714      0.00      0.06      0.00         0.02          82.0        8.5   \n",
       "\n",
       "      rating  \n",
       "253        T  \n",
       "523      NaN  \n",
       "1189       T  \n",
       "1590       T  \n",
       "1997       T  \n",
       "2047     NaN  \n",
       "3580       T  \n",
       "5971       T  \n",
       "6272     NaN  \n",
       "6409       E  \n",
       "6472       E  \n",
       "11714      T  "
      ]
     },
     "execution_count": 10,
     "metadata": {},
     "output_type": "execute_result"
    }
   ],
   "source": [
    "#df['name'].value_counts()\n",
    "df.query('name == \"Need for Speed: Most Wanted\"')"
   ]
  },
  {
   "cell_type": "markdown",
   "metadata": {},
   "source": [
    "После рассмотрения повторяющихся названий на примере НФС, мы видим что названия игр дублируются но у них имеется либо отличие по платформе, либо по году релиза. Поэтому по столбцу названий должно быть все корректно."
   ]
  },
  {
   "cell_type": "code",
   "execution_count": 11,
   "metadata": {},
   "outputs": [
    {
     "data": {
      "text/plain": [
       "PS2     2161\n",
       "DS      2151\n",
       "PS3     1331\n",
       "Wii     1320\n",
       "X360    1262\n",
       "PSP     1209\n",
       "PS      1197\n",
       "PC       974\n",
       "XB       824\n",
       "GBA      822\n",
       "GC       556\n",
       "3DS      520\n",
       "PSV      430\n",
       "PS4      392\n",
       "N64      319\n",
       "XOne     247\n",
       "SNES     239\n",
       "SAT      173\n",
       "WiiU     147\n",
       "2600     133\n",
       "GB        98\n",
       "NES       98\n",
       "DC        52\n",
       "GEN       27\n",
       "NG        12\n",
       "SCD        6\n",
       "WS         6\n",
       "3DO        3\n",
       "TG16       2\n",
       "PCFX       1\n",
       "GG         1\n",
       "Name: platform, dtype: int64"
      ]
     },
     "execution_count": 11,
     "metadata": {},
     "output_type": "execute_result"
    }
   ],
   "source": [
    "df['platform'].value_counts()"
   ]
  },
  {
   "cell_type": "markdown",
   "metadata": {},
   "source": [
    "Пропусков и дублей в столбце платформ нет. Платформы где всего несколько строк при необходимости можно будет фильтровать в дальнейшем. Смотрим дальше."
   ]
  },
  {
   "cell_type": "code",
   "execution_count": 12,
   "metadata": {},
   "outputs": [
    {
     "data": {
      "text/plain": [
       "Action          3369\n",
       "Sports          2348\n",
       "Misc            1750\n",
       "Role-Playing    1498\n",
       "Shooter         1323\n",
       "Adventure       1303\n",
       "Racing          1249\n",
       "Platform         888\n",
       "Simulation       873\n",
       "Fighting         849\n",
       "Strategy         683\n",
       "Puzzle           580\n",
       "Name: genre, dtype: int64"
      ]
     },
     "execution_count": 12,
     "metadata": {},
     "output_type": "execute_result"
    }
   ],
   "source": [
    "df['genre'].value_counts()"
   ]
  },
  {
   "cell_type": "markdown",
   "metadata": {},
   "source": [
    "С жанрами тоже все отлично."
   ]
  },
  {
   "cell_type": "code",
   "execution_count": 13,
   "metadata": {},
   "outputs": [
    {
     "data": {
      "text/plain": [
       "E       3990\n",
       "T       2961\n",
       "M       1563\n",
       "E10+    1420\n",
       "EC         8\n",
       "RP         3\n",
       "K-A        3\n",
       "AO         1\n",
       "Name: rating, dtype: int64"
      ]
     },
     "execution_count": 13,
     "metadata": {},
     "output_type": "execute_result"
    }
   ],
   "source": [
    "df['rating'].value_counts()"
   ]
  },
  {
   "cell_type": "markdown",
   "metadata": {},
   "source": [
    "Для понимания думаю стоит сделать отступление что обозначают данные аббревиатуры:\n",
    "\n",
    "1) «E» («Everyone») — «Для всех»: Содержание вполне подходит для возрастной категории от 6 лет. Первоначально \"K-A\" (\"Kids to Adults\")\n",
    "\n",
    "2) «T» («Teen») — «Подросткам»: Игра подходит для лиц от 13 лет.\n",
    "\n",
    "3) «M» («Mature») — «Для взрослых»: Материалы игры не подходят для подростков младше 17 лет.\n",
    "\n",
    "4) «E10+» («Everyone 10 and older») — «Для всех от 10 лет и старше»: Проекты с данным рейтингом могут содержать или немного больше мультипликационного или мягкого насилия, или несколько откровенные сцены, или минимальное количество крови.\n",
    "\n",
    "5) «EC» («Early childhood») — «Для детей младшего возраста»: Игра подходит для детей от 3 лет и не содержит материалов, которые родители могли бы счесть неподходящими. \n",
    "\n",
    "6) «RP» («Rating Pending») — «Рейтинг ожидается»: Продукт был отправлен в ESRB и ожидает присвоения рейтинга.\n",
    "\n",
    "7) «AO» («Adults Only 18+») — «Только для взрослых»: Содержание игры только для взрослых старше 18 лет. Продукты из данной категории могут содержать длительные сцены жестокого насилия и/или очень откровенное сексуальное содержимое, а также сцены с обнажением.\n",
    "\n",
    "Итак, при обработке этого столбца необходимо:\n",
    "\n",
    "1) Переименовать \"К-А\" в \"Е\".\n",
    "\n",
    "2) Значения 'RP' и 'АО', добавить к рейтингу 'M', поскольку этот рейтинг с большей вероятностью включает в себя все что может быть в играх, а значения 'EC' добавить к рейтингу 'E', поскольку врядли продукция для двухлетних и трехлетних значительно отличается.\n",
    "\n",
    "3) Создать функцию для замены пропущенных значений, где пропущенные значения будут проставляться в зависимости от самого повторяющегося рейтинга по жанру."
   ]
  },
  {
   "cell_type": "code",
   "execution_count": 14,
   "metadata": {},
   "outputs": [
    {
     "data": {
      "text/plain": [
       "E       4001\n",
       "T       2961\n",
       "M       1567\n",
       "E10+    1420\n",
       "Name: rating, dtype: int64"
      ]
     },
     "execution_count": 14,
     "metadata": {},
     "output_type": "execute_result"
    }
   ],
   "source": [
    "df['rating'] = df['rating'].replace('K-A', 'E')\n",
    "df['rating'] = df['rating'].replace('EC', 'E')\n",
    "df['rating'] = df['rating'].replace('RP', 'M')\n",
    "df['rating'] = df['rating'].replace('AO', 'M')\n",
    "df['rating'].value_counts()"
   ]
  },
  {
   "cell_type": "markdown",
   "metadata": {},
   "source": [
    "Определим на какие значения будем производить замену при пропусках в разных жанрах."
   ]
  },
  {
   "cell_type": "code",
   "execution_count": 15,
   "metadata": {},
   "outputs": [
    {
     "data": {
      "text/html": [
       "<div>\n",
       "<style scoped>\n",
       "    .dataframe tbody tr th:only-of-type {\n",
       "        vertical-align: middle;\n",
       "    }\n",
       "\n",
       "    .dataframe tbody tr th {\n",
       "        vertical-align: top;\n",
       "    }\n",
       "\n",
       "    .dataframe thead th {\n",
       "        text-align: right;\n",
       "    }\n",
       "</style>\n",
       "<table border=\"1\" class=\"dataframe\">\n",
       "  <thead>\n",
       "    <tr style=\"text-align: right;\">\n",
       "      <th>rating</th>\n",
       "      <th>E</th>\n",
       "      <th>E10+</th>\n",
       "      <th>M</th>\n",
       "      <th>T</th>\n",
       "    </tr>\n",
       "    <tr>\n",
       "      <th>genre</th>\n",
       "      <th></th>\n",
       "      <th></th>\n",
       "      <th></th>\n",
       "      <th></th>\n",
       "    </tr>\n",
       "  </thead>\n",
       "  <tbody>\n",
       "    <tr>\n",
       "      <td>Action</td>\n",
       "      <td>417.0</td>\n",
       "      <td>481.0</td>\n",
       "      <td>609.0</td>\n",
       "      <td>681.0</td>\n",
       "    </tr>\n",
       "    <tr>\n",
       "      <td>Adventure</td>\n",
       "      <td>164.0</td>\n",
       "      <td>68.0</td>\n",
       "      <td>99.0</td>\n",
       "      <td>115.0</td>\n",
       "    </tr>\n",
       "    <tr>\n",
       "      <td>Fighting</td>\n",
       "      <td>8.0</td>\n",
       "      <td>19.0</td>\n",
       "      <td>49.0</td>\n",
       "      <td>362.0</td>\n",
       "    </tr>\n",
       "    <tr>\n",
       "      <td>Misc</td>\n",
       "      <td>463.0</td>\n",
       "      <td>167.0</td>\n",
       "      <td>13.0</td>\n",
       "      <td>239.0</td>\n",
       "    </tr>\n",
       "    <tr>\n",
       "      <td>Platform</td>\n",
       "      <td>358.0</td>\n",
       "      <td>144.0</td>\n",
       "      <td>3.0</td>\n",
       "      <td>64.0</td>\n",
       "    </tr>\n",
       "    <tr>\n",
       "      <td>Puzzle</td>\n",
       "      <td>289.0</td>\n",
       "      <td>43.0</td>\n",
       "      <td>NaN</td>\n",
       "      <td>10.0</td>\n",
       "    </tr>\n",
       "    <tr>\n",
       "      <td>Racing</td>\n",
       "      <td>585.0</td>\n",
       "      <td>96.0</td>\n",
       "      <td>19.0</td>\n",
       "      <td>172.0</td>\n",
       "    </tr>\n",
       "    <tr>\n",
       "      <td>Role-Playing</td>\n",
       "      <td>84.0</td>\n",
       "      <td>111.0</td>\n",
       "      <td>162.0</td>\n",
       "      <td>420.0</td>\n",
       "    </tr>\n",
       "    <tr>\n",
       "      <td>Shooter</td>\n",
       "      <td>48.0</td>\n",
       "      <td>58.0</td>\n",
       "      <td>565.0</td>\n",
       "      <td>348.0</td>\n",
       "    </tr>\n",
       "    <tr>\n",
       "      <td>Simulation</td>\n",
       "      <td>325.0</td>\n",
       "      <td>48.0</td>\n",
       "      <td>5.0</td>\n",
       "      <td>190.0</td>\n",
       "    </tr>\n",
       "    <tr>\n",
       "      <td>Sports</td>\n",
       "      <td>1188.0</td>\n",
       "      <td>107.0</td>\n",
       "      <td>16.0</td>\n",
       "      <td>198.0</td>\n",
       "    </tr>\n",
       "    <tr>\n",
       "      <td>Strategy</td>\n",
       "      <td>72.0</td>\n",
       "      <td>78.0</td>\n",
       "      <td>27.0</td>\n",
       "      <td>162.0</td>\n",
       "    </tr>\n",
       "  </tbody>\n",
       "</table>\n",
       "</div>"
      ],
      "text/plain": [
       "rating             E   E10+      M      T\n",
       "genre                                    \n",
       "Action         417.0  481.0  609.0  681.0\n",
       "Adventure      164.0   68.0   99.0  115.0\n",
       "Fighting         8.0   19.0   49.0  362.0\n",
       "Misc           463.0  167.0   13.0  239.0\n",
       "Platform       358.0  144.0    3.0   64.0\n",
       "Puzzle         289.0   43.0    NaN   10.0\n",
       "Racing         585.0   96.0   19.0  172.0\n",
       "Role-Playing    84.0  111.0  162.0  420.0\n",
       "Shooter         48.0   58.0  565.0  348.0\n",
       "Simulation     325.0   48.0    5.0  190.0\n",
       "Sports        1188.0  107.0   16.0  198.0\n",
       "Strategy        72.0   78.0   27.0  162.0"
      ]
     },
     "execution_count": 15,
     "metadata": {},
     "output_type": "execute_result"
    }
   ],
   "source": [
    "df.pivot_table(index = 'genre', columns = 'rating', values = 'name', aggfunc = 'count')"
   ]
  },
  {
   "cell_type": "markdown",
   "metadata": {},
   "source": [
    "Из сводной таблицы видно следующее:\n",
    "\n",
    "1) У файтингов, ролевых игр и стратегий большая часть возрастных ограничений соответсвует рейтингу \"Т\"\n",
    "\n",
    "2) У головоломок, гонок и спорта подавляющее большинство составляет рейтинг \"Е\"\n",
    "\n",
    "3) По остальным жанрам такой явной доминации не прослеживается, поэтому придется оставить у них пропущенные значения."
   ]
  },
  {
   "cell_type": "code",
   "execution_count": 16,
   "metadata": {},
   "outputs": [],
   "source": [
    "def change_rating(row):\n",
    "    rating = row['rating']\n",
    "    genre = row['genre']\n",
    "    if rating == 'unknown' or rating == 'RP':\n",
    "        if genre == 'Fighting' or genre == 'Role-Playing' or genre == 'Strategy':\n",
    "            return('T')\n",
    "    if rating == 'unknown' or rating == 'RP':\n",
    "        if genre == 'Puzzle' or genre == 'Racing' or genre == 'Sports':\n",
    "            return('E')\n",
    "    return(rating)"
   ]
  },
  {
   "cell_type": "code",
   "execution_count": 17,
   "metadata": {},
   "outputs": [
    {
     "data": {
      "text/plain": [
       "E          5455\n",
       "T          4437\n",
       "unknown    3834\n",
       "M          1567\n",
       "E10+       1420\n",
       "Name: rating, dtype: int64"
      ]
     },
     "execution_count": 17,
     "metadata": {},
     "output_type": "execute_result"
    }
   ],
   "source": [
    "df['rating'] = df['rating'].fillna('unknown')\n",
    "df['rating'] = df.apply(change_rating, axis = 1)\n",
    "df['rating'].value_counts()"
   ]
  },
  {
   "cell_type": "markdown",
   "metadata": {},
   "source": [
    "Переходим к столбцу оценки пользователей."
   ]
  },
  {
   "cell_type": "code",
   "execution_count": 18,
   "metadata": {},
   "outputs": [
    {
     "data": {
      "text/plain": [
       "tbd    2424\n",
       "7.8     324\n",
       "8       290\n",
       "8.2     282\n",
       "8.3     254\n",
       "       ... \n",
       "1.3       2\n",
       "1         2\n",
       "1.5       2\n",
       "0         1\n",
       "9.7       1\n",
       "Name: user_score, Length: 96, dtype: int64"
      ]
     },
     "execution_count": 18,
     "metadata": {},
     "output_type": "execute_result"
    }
   ],
   "source": [
    "df['user_score'].value_counts()"
   ]
  },
  {
   "cell_type": "markdown",
   "metadata": {},
   "source": [
    "А вот мы видим что превращает столбец с оценками в тип данных object. Аббревиатура 'tbd' обозначает to be determined - пока не определён. Давайте рассмотрим эту выборку подробнее."
   ]
  },
  {
   "cell_type": "code",
   "execution_count": 19,
   "metadata": {},
   "outputs": [
    {
     "data": {
      "text/html": [
       "<div>\n",
       "<style scoped>\n",
       "    .dataframe tbody tr th:only-of-type {\n",
       "        vertical-align: middle;\n",
       "    }\n",
       "\n",
       "    .dataframe tbody tr th {\n",
       "        vertical-align: top;\n",
       "    }\n",
       "\n",
       "    .dataframe thead th {\n",
       "        text-align: right;\n",
       "    }\n",
       "</style>\n",
       "<table border=\"1\" class=\"dataframe\">\n",
       "  <thead>\n",
       "    <tr style=\"text-align: right;\">\n",
       "      <th></th>\n",
       "      <th>name</th>\n",
       "      <th>platform</th>\n",
       "      <th>year_of_release</th>\n",
       "      <th>genre</th>\n",
       "      <th>na_sales</th>\n",
       "      <th>eu_sales</th>\n",
       "      <th>jp_sales</th>\n",
       "      <th>other_sales</th>\n",
       "      <th>critic_score</th>\n",
       "      <th>user_score</th>\n",
       "      <th>rating</th>\n",
       "    </tr>\n",
       "  </thead>\n",
       "  <tbody>\n",
       "    <tr>\n",
       "      <td>119</td>\n",
       "      <td>Zumba Fitness</td>\n",
       "      <td>Wii</td>\n",
       "      <td>2010.0</td>\n",
       "      <td>Sports</td>\n",
       "      <td>3.45</td>\n",
       "      <td>2.59</td>\n",
       "      <td>0.0</td>\n",
       "      <td>0.66</td>\n",
       "      <td>NaN</td>\n",
       "      <td>tbd</td>\n",
       "      <td>E</td>\n",
       "    </tr>\n",
       "    <tr>\n",
       "      <td>301</td>\n",
       "      <td>Namco Museum: 50th Anniversary</td>\n",
       "      <td>PS2</td>\n",
       "      <td>2005.0</td>\n",
       "      <td>Misc</td>\n",
       "      <td>2.08</td>\n",
       "      <td>1.35</td>\n",
       "      <td>0.0</td>\n",
       "      <td>0.54</td>\n",
       "      <td>61.0</td>\n",
       "      <td>tbd</td>\n",
       "      <td>E10+</td>\n",
       "    </tr>\n",
       "    <tr>\n",
       "      <td>520</td>\n",
       "      <td>Zumba Fitness 2</td>\n",
       "      <td>Wii</td>\n",
       "      <td>2011.0</td>\n",
       "      <td>Sports</td>\n",
       "      <td>1.51</td>\n",
       "      <td>1.03</td>\n",
       "      <td>0.0</td>\n",
       "      <td>0.27</td>\n",
       "      <td>NaN</td>\n",
       "      <td>tbd</td>\n",
       "      <td>T</td>\n",
       "    </tr>\n",
       "    <tr>\n",
       "      <td>645</td>\n",
       "      <td>uDraw Studio</td>\n",
       "      <td>Wii</td>\n",
       "      <td>2010.0</td>\n",
       "      <td>Misc</td>\n",
       "      <td>1.65</td>\n",
       "      <td>0.57</td>\n",
       "      <td>0.0</td>\n",
       "      <td>0.20</td>\n",
       "      <td>71.0</td>\n",
       "      <td>tbd</td>\n",
       "      <td>E</td>\n",
       "    </tr>\n",
       "    <tr>\n",
       "      <td>657</td>\n",
       "      <td>Frogger's Adventures: Temple of the Frog</td>\n",
       "      <td>GBA</td>\n",
       "      <td>NaN</td>\n",
       "      <td>Adventure</td>\n",
       "      <td>2.15</td>\n",
       "      <td>0.18</td>\n",
       "      <td>0.0</td>\n",
       "      <td>0.07</td>\n",
       "      <td>73.0</td>\n",
       "      <td>tbd</td>\n",
       "      <td>E</td>\n",
       "    </tr>\n",
       "    <tr>\n",
       "      <td>...</td>\n",
       "      <td>...</td>\n",
       "      <td>...</td>\n",
       "      <td>...</td>\n",
       "      <td>...</td>\n",
       "      <td>...</td>\n",
       "      <td>...</td>\n",
       "      <td>...</td>\n",
       "      <td>...</td>\n",
       "      <td>...</td>\n",
       "      <td>...</td>\n",
       "      <td>...</td>\n",
       "    </tr>\n",
       "    <tr>\n",
       "      <td>16693</td>\n",
       "      <td>Planet Monsters</td>\n",
       "      <td>GBA</td>\n",
       "      <td>2001.0</td>\n",
       "      <td>Action</td>\n",
       "      <td>0.01</td>\n",
       "      <td>0.00</td>\n",
       "      <td>0.0</td>\n",
       "      <td>0.00</td>\n",
       "      <td>67.0</td>\n",
       "      <td>tbd</td>\n",
       "      <td>E</td>\n",
       "    </tr>\n",
       "    <tr>\n",
       "      <td>16695</td>\n",
       "      <td>Bust-A-Move 3000</td>\n",
       "      <td>GC</td>\n",
       "      <td>2003.0</td>\n",
       "      <td>Puzzle</td>\n",
       "      <td>0.01</td>\n",
       "      <td>0.00</td>\n",
       "      <td>0.0</td>\n",
       "      <td>0.00</td>\n",
       "      <td>53.0</td>\n",
       "      <td>tbd</td>\n",
       "      <td>E</td>\n",
       "    </tr>\n",
       "    <tr>\n",
       "      <td>16696</td>\n",
       "      <td>Mega Brain Boost</td>\n",
       "      <td>DS</td>\n",
       "      <td>2008.0</td>\n",
       "      <td>Puzzle</td>\n",
       "      <td>0.01</td>\n",
       "      <td>0.00</td>\n",
       "      <td>0.0</td>\n",
       "      <td>0.00</td>\n",
       "      <td>48.0</td>\n",
       "      <td>tbd</td>\n",
       "      <td>E</td>\n",
       "    </tr>\n",
       "    <tr>\n",
       "      <td>16702</td>\n",
       "      <td>Plushees</td>\n",
       "      <td>DS</td>\n",
       "      <td>2008.0</td>\n",
       "      <td>Simulation</td>\n",
       "      <td>0.01</td>\n",
       "      <td>0.00</td>\n",
       "      <td>0.0</td>\n",
       "      <td>0.00</td>\n",
       "      <td>NaN</td>\n",
       "      <td>tbd</td>\n",
       "      <td>E</td>\n",
       "    </tr>\n",
       "    <tr>\n",
       "      <td>16704</td>\n",
       "      <td>Men in Black II: Alien Escape</td>\n",
       "      <td>GC</td>\n",
       "      <td>2003.0</td>\n",
       "      <td>Shooter</td>\n",
       "      <td>0.01</td>\n",
       "      <td>0.00</td>\n",
       "      <td>0.0</td>\n",
       "      <td>0.00</td>\n",
       "      <td>NaN</td>\n",
       "      <td>tbd</td>\n",
       "      <td>T</td>\n",
       "    </tr>\n",
       "  </tbody>\n",
       "</table>\n",
       "<p>2424 rows × 11 columns</p>\n",
       "</div>"
      ],
      "text/plain": [
       "                                           name platform  year_of_release  \\\n",
       "119                               Zumba Fitness      Wii           2010.0   \n",
       "301              Namco Museum: 50th Anniversary      PS2           2005.0   \n",
       "520                             Zumba Fitness 2      Wii           2011.0   \n",
       "645                                uDraw Studio      Wii           2010.0   \n",
       "657    Frogger's Adventures: Temple of the Frog      GBA              NaN   \n",
       "...                                         ...      ...              ...   \n",
       "16693                           Planet Monsters      GBA           2001.0   \n",
       "16695                          Bust-A-Move 3000       GC           2003.0   \n",
       "16696                          Mega Brain Boost       DS           2008.0   \n",
       "16702                                  Plushees       DS           2008.0   \n",
       "16704             Men in Black II: Alien Escape       GC           2003.0   \n",
       "\n",
       "            genre  na_sales  eu_sales  jp_sales  other_sales  critic_score  \\\n",
       "119        Sports      3.45      2.59       0.0         0.66           NaN   \n",
       "301          Misc      2.08      1.35       0.0         0.54          61.0   \n",
       "520        Sports      1.51      1.03       0.0         0.27           NaN   \n",
       "645          Misc      1.65      0.57       0.0         0.20          71.0   \n",
       "657     Adventure      2.15      0.18       0.0         0.07          73.0   \n",
       "...           ...       ...       ...       ...          ...           ...   \n",
       "16693      Action      0.01      0.00       0.0         0.00          67.0   \n",
       "16695      Puzzle      0.01      0.00       0.0         0.00          53.0   \n",
       "16696      Puzzle      0.01      0.00       0.0         0.00          48.0   \n",
       "16702  Simulation      0.01      0.00       0.0         0.00           NaN   \n",
       "16704     Shooter      0.01      0.00       0.0         0.00           NaN   \n",
       "\n",
       "      user_score rating  \n",
       "119          tbd      E  \n",
       "301          tbd   E10+  \n",
       "520          tbd      T  \n",
       "645          tbd      E  \n",
       "657          tbd      E  \n",
       "...          ...    ...  \n",
       "16693        tbd      E  \n",
       "16695        tbd      E  \n",
       "16696        tbd      E  \n",
       "16702        tbd      E  \n",
       "16704        tbd      T  \n",
       "\n",
       "[2424 rows x 11 columns]"
      ]
     },
     "execution_count": 19,
     "metadata": {},
     "output_type": "execute_result"
    }
   ],
   "source": [
    "df.query('user_score == \"tbd\"')"
   ]
  },
  {
   "cell_type": "markdown",
   "metadata": {},
   "source": [
    "Поскольку обозначение tbd - значит что рейтинг не определен, и у него нет каких то характерных особенностей по другим столбцам судя по срезу, то он ничем не отличается от пропущенных значений, превратим их также в NaN чтобы со столбцом можно было полноценно работать как с числовым.  "
   ]
  },
  {
   "cell_type": "code",
   "execution_count": 20,
   "metadata": {},
   "outputs": [
    {
     "name": "stdout",
     "output_type": "stream",
     "text": [
      "<class 'pandas.core.frame.DataFrame'>\n",
      "RangeIndex: 16713 entries, 0 to 16712\n",
      "Data columns (total 11 columns):\n",
      "name               16713 non-null object\n",
      "platform           16713 non-null object\n",
      "year_of_release    16444 non-null float64\n",
      "genre              16713 non-null object\n",
      "na_sales           16713 non-null float64\n",
      "eu_sales           16713 non-null float64\n",
      "jp_sales           16713 non-null float64\n",
      "other_sales        16713 non-null float64\n",
      "critic_score       8137 non-null float64\n",
      "user_score         7590 non-null float64\n",
      "rating             16713 non-null object\n",
      "dtypes: float64(7), object(4)\n",
      "memory usage: 1.4+ MB\n"
     ]
    }
   ],
   "source": [
    "df['user_score'] = df['user_score'].replace('tbd', np.nan).astype(np.float)\n",
    "df.info()"
   ]
  },
  {
   "cell_type": "markdown",
   "metadata": {},
   "source": [
    "Пропуски с оценками пользователей и критиков мы не сможем заменить, потому что у оценок нет привязки к консоли, году или жанру, хорошие и плохие игры могут быть везде. Однако мы можем привести оценки к одной разрядности, к примеру 10 бальной, для этого нужно значения в столбце с оценкой критиков разделить на 10. Также после этого мы можем сделать функцию для итоговой оценки: где есть только одна из оценок будет использоваться она, где оценки две - будет использоваться их среднее. Это поможет немного сократить кол-во игр без оценки без потери объективности, поскольку для продаж игры оба мнения важны одинаково."
   ]
  },
  {
   "cell_type": "code",
   "execution_count": 21,
   "metadata": {},
   "outputs": [
    {
     "data": {
      "text/html": [
       "<div>\n",
       "<style scoped>\n",
       "    .dataframe tbody tr th:only-of-type {\n",
       "        vertical-align: middle;\n",
       "    }\n",
       "\n",
       "    .dataframe tbody tr th {\n",
       "        vertical-align: top;\n",
       "    }\n",
       "\n",
       "    .dataframe thead th {\n",
       "        text-align: right;\n",
       "    }\n",
       "</style>\n",
       "<table border=\"1\" class=\"dataframe\">\n",
       "  <thead>\n",
       "    <tr style=\"text-align: right;\">\n",
       "      <th></th>\n",
       "      <th>name</th>\n",
       "      <th>platform</th>\n",
       "      <th>year_of_release</th>\n",
       "      <th>genre</th>\n",
       "      <th>na_sales</th>\n",
       "      <th>eu_sales</th>\n",
       "      <th>jp_sales</th>\n",
       "      <th>other_sales</th>\n",
       "      <th>critic_score</th>\n",
       "      <th>user_score</th>\n",
       "      <th>rating</th>\n",
       "    </tr>\n",
       "  </thead>\n",
       "  <tbody>\n",
       "    <tr>\n",
       "      <td>0</td>\n",
       "      <td>Wii Sports</td>\n",
       "      <td>Wii</td>\n",
       "      <td>2006.0</td>\n",
       "      <td>Sports</td>\n",
       "      <td>41.36</td>\n",
       "      <td>28.96</td>\n",
       "      <td>3.77</td>\n",
       "      <td>8.45</td>\n",
       "      <td>7.6</td>\n",
       "      <td>8.0</td>\n",
       "      <td>E</td>\n",
       "    </tr>\n",
       "    <tr>\n",
       "      <td>1</td>\n",
       "      <td>Super Mario Bros.</td>\n",
       "      <td>NES</td>\n",
       "      <td>1985.0</td>\n",
       "      <td>Platform</td>\n",
       "      <td>29.08</td>\n",
       "      <td>3.58</td>\n",
       "      <td>6.81</td>\n",
       "      <td>0.77</td>\n",
       "      <td>NaN</td>\n",
       "      <td>NaN</td>\n",
       "      <td>unknown</td>\n",
       "    </tr>\n",
       "    <tr>\n",
       "      <td>2</td>\n",
       "      <td>Mario Kart Wii</td>\n",
       "      <td>Wii</td>\n",
       "      <td>2008.0</td>\n",
       "      <td>Racing</td>\n",
       "      <td>15.68</td>\n",
       "      <td>12.76</td>\n",
       "      <td>3.79</td>\n",
       "      <td>3.29</td>\n",
       "      <td>8.2</td>\n",
       "      <td>8.3</td>\n",
       "      <td>E</td>\n",
       "    </tr>\n",
       "    <tr>\n",
       "      <td>3</td>\n",
       "      <td>Wii Sports Resort</td>\n",
       "      <td>Wii</td>\n",
       "      <td>2009.0</td>\n",
       "      <td>Sports</td>\n",
       "      <td>15.61</td>\n",
       "      <td>10.93</td>\n",
       "      <td>3.28</td>\n",
       "      <td>2.95</td>\n",
       "      <td>8.0</td>\n",
       "      <td>8.0</td>\n",
       "      <td>E</td>\n",
       "    </tr>\n",
       "    <tr>\n",
       "      <td>4</td>\n",
       "      <td>Pokemon Red/Pokemon Blue</td>\n",
       "      <td>GB</td>\n",
       "      <td>1996.0</td>\n",
       "      <td>Role-Playing</td>\n",
       "      <td>11.27</td>\n",
       "      <td>8.89</td>\n",
       "      <td>10.22</td>\n",
       "      <td>1.00</td>\n",
       "      <td>NaN</td>\n",
       "      <td>NaN</td>\n",
       "      <td>T</td>\n",
       "    </tr>\n",
       "  </tbody>\n",
       "</table>\n",
       "</div>"
      ],
      "text/plain": [
       "                       name platform  year_of_release         genre  na_sales  \\\n",
       "0                Wii Sports      Wii           2006.0        Sports     41.36   \n",
       "1         Super Mario Bros.      NES           1985.0      Platform     29.08   \n",
       "2            Mario Kart Wii      Wii           2008.0        Racing     15.68   \n",
       "3         Wii Sports Resort      Wii           2009.0        Sports     15.61   \n",
       "4  Pokemon Red/Pokemon Blue       GB           1996.0  Role-Playing     11.27   \n",
       "\n",
       "   eu_sales  jp_sales  other_sales  critic_score  user_score   rating  \n",
       "0     28.96      3.77         8.45           7.6         8.0        E  \n",
       "1      3.58      6.81         0.77           NaN         NaN  unknown  \n",
       "2     12.76      3.79         3.29           8.2         8.3        E  \n",
       "3     10.93      3.28         2.95           8.0         8.0        E  \n",
       "4      8.89     10.22         1.00           NaN         NaN        T  "
      ]
     },
     "execution_count": 21,
     "metadata": {},
     "output_type": "execute_result"
    }
   ],
   "source": [
    "df['critic_score'] = df['critic_score'] / 10\n",
    "df.head()"
   ]
  },
  {
   "cell_type": "code",
   "execution_count": 22,
   "metadata": {},
   "outputs": [],
   "source": [
    "def total_score(row):\n",
    "    critic_score = row['critic_score']\n",
    "    user_score = row['user_score']\n",
    "    if critic_score > 0 and user_score > 0:\n",
    "        return((critic_score + user_score) / 2)\n",
    "    if critic_score > 0:\n",
    "        return(critic_score)\n",
    "    if user_score > 0:\n",
    "        return(user_score)\n",
    "    return(np.nan)"
   ]
  },
  {
   "cell_type": "code",
   "execution_count": 23,
   "metadata": {},
   "outputs": [
    {
     "name": "stdout",
     "output_type": "stream",
     "text": [
      "<class 'pandas.core.frame.DataFrame'>\n",
      "RangeIndex: 16713 entries, 0 to 16712\n",
      "Data columns (total 12 columns):\n",
      "name               16713 non-null object\n",
      "platform           16713 non-null object\n",
      "year_of_release    16444 non-null float64\n",
      "genre              16713 non-null object\n",
      "na_sales           16713 non-null float64\n",
      "eu_sales           16713 non-null float64\n",
      "jp_sales           16713 non-null float64\n",
      "other_sales        16713 non-null float64\n",
      "critic_score       8137 non-null float64\n",
      "user_score         7590 non-null float64\n",
      "rating             16713 non-null object\n",
      "total_score        8709 non-null float64\n",
      "dtypes: float64(8), object(4)\n",
      "memory usage: 1.5+ MB\n"
     ]
    }
   ],
   "source": [
    "df['total_score'] = df.apply(total_score, axis = 1)\n",
    "df.info()"
   ]
  },
  {
   "cell_type": "markdown",
   "metadata": {},
   "source": [
    "Таким образом мы уменьшили число игр без оценки, хоть и немного. Далее остался последний столбец с пропусками который мы не рассматривали, это год издания."
   ]
  },
  {
   "cell_type": "code",
   "execution_count": 24,
   "metadata": {},
   "outputs": [
    {
     "data": {
      "text/plain": [
       "PS2     34\n",
       "Wii     34\n",
       "DS      30\n",
       "X360    30\n",
       "PS3     25\n",
       "XB      21\n",
       "2600    17\n",
       "PC      17\n",
       "PSP     16\n",
       "GC      14\n",
       "GBA     11\n",
       "3DS      8\n",
       "PS       7\n",
       "N64      3\n",
       "PSV      1\n",
       "GB       1\n",
       "Name: platform, dtype: int64"
      ]
     },
     "execution_count": 24,
     "metadata": {},
     "output_type": "execute_result"
    }
   ],
   "source": [
    "df.query('year_of_release.isna()')['platform'].value_counts()"
   ]
  },
  {
   "cell_type": "markdown",
   "metadata": {},
   "source": [
    "Поскольку пропущеные значения характеры разным играм, с разными жанрами и платформам, значит у природы этих пропусков проблема не связана этими параметрами. Могу предположить что это игры которые были переизданы со старой консоли на новую, потому что на более современных консолях больше игр без года издания, по причине того что более мощное железо дает больше возможностей для выхода ремастеров.\n",
    "\n",
    "Поскольку для анализа данных нам потребуются даты выпуска игры, а мы не можем их определить, то поскольку в столбце с датой релиза у нас пропуски составляют менее 2% от общего количества, то проще всего просто удалить эти строки. "
   ]
  },
  {
   "cell_type": "code",
   "execution_count": 25,
   "metadata": {},
   "outputs": [
    {
     "name": "stdout",
     "output_type": "stream",
     "text": [
      "<class 'pandas.core.frame.DataFrame'>\n",
      "Int64Index: 16444 entries, 0 to 16712\n",
      "Data columns (total 12 columns):\n",
      "name               16444 non-null object\n",
      "platform           16444 non-null object\n",
      "year_of_release    16444 non-null int64\n",
      "genre              16444 non-null object\n",
      "na_sales           16444 non-null float64\n",
      "eu_sales           16444 non-null float64\n",
      "jp_sales           16444 non-null float64\n",
      "other_sales        16444 non-null float64\n",
      "critic_score       7983 non-null float64\n",
      "user_score         7463 non-null float64\n",
      "rating             16444 non-null object\n",
      "total_score        8551 non-null float64\n",
      "dtypes: float64(7), int64(1), object(4)\n",
      "memory usage: 1.6+ MB\n"
     ]
    }
   ],
   "source": [
    "df = df.dropna(axis='index', how='any', subset=['year_of_release'])\n",
    "df['year_of_release'] = df['year_of_release'].astype('int')\n",
    "df.info()"
   ]
  },
  {
   "cell_type": "markdown",
   "metadata": {},
   "source": [
    "Создадим столбец с итоговыми продажами и избавимся от дубликатов."
   ]
  },
  {
   "cell_type": "code",
   "execution_count": 26,
   "metadata": {},
   "outputs": [
    {
     "data": {
      "text/html": [
       "<div>\n",
       "<style scoped>\n",
       "    .dataframe tbody tr th:only-of-type {\n",
       "        vertical-align: middle;\n",
       "    }\n",
       "\n",
       "    .dataframe tbody tr th {\n",
       "        vertical-align: top;\n",
       "    }\n",
       "\n",
       "    .dataframe thead th {\n",
       "        text-align: right;\n",
       "    }\n",
       "</style>\n",
       "<table border=\"1\" class=\"dataframe\">\n",
       "  <thead>\n",
       "    <tr style=\"text-align: right;\">\n",
       "      <th></th>\n",
       "      <th>name</th>\n",
       "      <th>platform</th>\n",
       "      <th>year_of_release</th>\n",
       "      <th>genre</th>\n",
       "      <th>na_sales</th>\n",
       "      <th>eu_sales</th>\n",
       "      <th>jp_sales</th>\n",
       "      <th>other_sales</th>\n",
       "      <th>critic_score</th>\n",
       "      <th>user_score</th>\n",
       "      <th>rating</th>\n",
       "      <th>total_score</th>\n",
       "      <th>total_sales</th>\n",
       "    </tr>\n",
       "  </thead>\n",
       "  <tbody>\n",
       "    <tr>\n",
       "      <td>0</td>\n",
       "      <td>Wii Sports</td>\n",
       "      <td>Wii</td>\n",
       "      <td>2006</td>\n",
       "      <td>Sports</td>\n",
       "      <td>41.36</td>\n",
       "      <td>28.96</td>\n",
       "      <td>3.77</td>\n",
       "      <td>8.45</td>\n",
       "      <td>7.6</td>\n",
       "      <td>8.0</td>\n",
       "      <td>E</td>\n",
       "      <td>7.80</td>\n",
       "      <td>82.54</td>\n",
       "    </tr>\n",
       "    <tr>\n",
       "      <td>1</td>\n",
       "      <td>Super Mario Bros.</td>\n",
       "      <td>NES</td>\n",
       "      <td>1985</td>\n",
       "      <td>Platform</td>\n",
       "      <td>29.08</td>\n",
       "      <td>3.58</td>\n",
       "      <td>6.81</td>\n",
       "      <td>0.77</td>\n",
       "      <td>NaN</td>\n",
       "      <td>NaN</td>\n",
       "      <td>unknown</td>\n",
       "      <td>NaN</td>\n",
       "      <td>40.24</td>\n",
       "    </tr>\n",
       "    <tr>\n",
       "      <td>2</td>\n",
       "      <td>Mario Kart Wii</td>\n",
       "      <td>Wii</td>\n",
       "      <td>2008</td>\n",
       "      <td>Racing</td>\n",
       "      <td>15.68</td>\n",
       "      <td>12.76</td>\n",
       "      <td>3.79</td>\n",
       "      <td>3.29</td>\n",
       "      <td>8.2</td>\n",
       "      <td>8.3</td>\n",
       "      <td>E</td>\n",
       "      <td>8.25</td>\n",
       "      <td>35.52</td>\n",
       "    </tr>\n",
       "    <tr>\n",
       "      <td>3</td>\n",
       "      <td>Wii Sports Resort</td>\n",
       "      <td>Wii</td>\n",
       "      <td>2009</td>\n",
       "      <td>Sports</td>\n",
       "      <td>15.61</td>\n",
       "      <td>10.93</td>\n",
       "      <td>3.28</td>\n",
       "      <td>2.95</td>\n",
       "      <td>8.0</td>\n",
       "      <td>8.0</td>\n",
       "      <td>E</td>\n",
       "      <td>8.00</td>\n",
       "      <td>32.77</td>\n",
       "    </tr>\n",
       "    <tr>\n",
       "      <td>4</td>\n",
       "      <td>Pokemon Red/Pokemon Blue</td>\n",
       "      <td>GB</td>\n",
       "      <td>1996</td>\n",
       "      <td>Role-Playing</td>\n",
       "      <td>11.27</td>\n",
       "      <td>8.89</td>\n",
       "      <td>10.22</td>\n",
       "      <td>1.00</td>\n",
       "      <td>NaN</td>\n",
       "      <td>NaN</td>\n",
       "      <td>T</td>\n",
       "      <td>NaN</td>\n",
       "      <td>31.38</td>\n",
       "    </tr>\n",
       "  </tbody>\n",
       "</table>\n",
       "</div>"
      ],
      "text/plain": [
       "                       name platform  year_of_release         genre  na_sales  \\\n",
       "0                Wii Sports      Wii             2006        Sports     41.36   \n",
       "1         Super Mario Bros.      NES             1985      Platform     29.08   \n",
       "2            Mario Kart Wii      Wii             2008        Racing     15.68   \n",
       "3         Wii Sports Resort      Wii             2009        Sports     15.61   \n",
       "4  Pokemon Red/Pokemon Blue       GB             1996  Role-Playing     11.27   \n",
       "\n",
       "   eu_sales  jp_sales  other_sales  critic_score  user_score   rating  \\\n",
       "0     28.96      3.77         8.45           7.6         8.0        E   \n",
       "1      3.58      6.81         0.77           NaN         NaN  unknown   \n",
       "2     12.76      3.79         3.29           8.2         8.3        E   \n",
       "3     10.93      3.28         2.95           8.0         8.0        E   \n",
       "4      8.89     10.22         1.00           NaN         NaN        T   \n",
       "\n",
       "   total_score  total_sales  \n",
       "0         7.80        82.54  \n",
       "1          NaN        40.24  \n",
       "2         8.25        35.52  \n",
       "3         8.00        32.77  \n",
       "4          NaN        31.38  "
      ]
     },
     "execution_count": 26,
     "metadata": {},
     "output_type": "execute_result"
    }
   ],
   "source": [
    "df['total_sales'] = df['na_sales'] + df['eu_sales'] + df['jp_sales'] + df['other_sales']\n",
    "df.head()"
   ]
  },
  {
   "cell_type": "markdown",
   "metadata": {},
   "source": [
    "Давайте проверим дубликаты, в данном случае нас интересует чтобы не было одновременных повторений в столбцах name, platform, year_of_release, потому что если такие дубликаты будут, то нужно их суммировать или удалять."
   ]
  },
  {
   "cell_type": "code",
   "execution_count": 27,
   "metadata": {},
   "outputs": [
    {
     "data": {
      "text/plain": [
       "0        False\n",
       "11126    False\n",
       "11127    False\n",
       "11128    False\n",
       "11129    False\n",
       "         ...  \n",
       "5565     False\n",
       "5566     False\n",
       "5568     False\n",
       "16712    False\n",
       "16228     True\n",
       "Length: 16444, dtype: bool"
      ]
     },
     "execution_count": 27,
     "metadata": {},
     "output_type": "execute_result"
    }
   ],
   "source": [
    "df_test_duplicate = pd.DataFrame()\n",
    "df_test_duplicate['name'] = df['name']\n",
    "df_test_duplicate['platform'] = df['platform']\n",
    "df_test_duplicate['year_of_release'] = df['year_of_release']\n",
    "df_test_duplicate.duplicated().sort_values()"
   ]
  },
  {
   "cell_type": "code",
   "execution_count": 28,
   "metadata": {},
   "outputs": [
    {
     "data": {
      "text/html": [
       "<div>\n",
       "<style scoped>\n",
       "    .dataframe tbody tr th:only-of-type {\n",
       "        vertical-align: middle;\n",
       "    }\n",
       "\n",
       "    .dataframe tbody tr th {\n",
       "        vertical-align: top;\n",
       "    }\n",
       "\n",
       "    .dataframe thead th {\n",
       "        text-align: right;\n",
       "    }\n",
       "</style>\n",
       "<table border=\"1\" class=\"dataframe\">\n",
       "  <thead>\n",
       "    <tr style=\"text-align: right;\">\n",
       "      <th></th>\n",
       "      <th>name</th>\n",
       "      <th>platform</th>\n",
       "      <th>year_of_release</th>\n",
       "      <th>genre</th>\n",
       "      <th>na_sales</th>\n",
       "      <th>eu_sales</th>\n",
       "      <th>jp_sales</th>\n",
       "      <th>other_sales</th>\n",
       "      <th>critic_score</th>\n",
       "      <th>user_score</th>\n",
       "      <th>rating</th>\n",
       "      <th>total_score</th>\n",
       "      <th>total_sales</th>\n",
       "    </tr>\n",
       "  </thead>\n",
       "  <tbody>\n",
       "    <tr>\n",
       "      <td>507</td>\n",
       "      <td>Madden NFL 13</td>\n",
       "      <td>X360</td>\n",
       "      <td>2012</td>\n",
       "      <td>Sports</td>\n",
       "      <td>2.53</td>\n",
       "      <td>0.15</td>\n",
       "      <td>0.0</td>\n",
       "      <td>0.17</td>\n",
       "      <td>8.1</td>\n",
       "      <td>5.8</td>\n",
       "      <td>E</td>\n",
       "      <td>6.95</td>\n",
       "      <td>2.85</td>\n",
       "    </tr>\n",
       "    <tr>\n",
       "      <td>604</td>\n",
       "      <td>Madden NFL 13</td>\n",
       "      <td>PS3</td>\n",
       "      <td>2012</td>\n",
       "      <td>Sports</td>\n",
       "      <td>2.11</td>\n",
       "      <td>0.22</td>\n",
       "      <td>0.0</td>\n",
       "      <td>0.23</td>\n",
       "      <td>8.3</td>\n",
       "      <td>5.5</td>\n",
       "      <td>E</td>\n",
       "      <td>6.90</td>\n",
       "      <td>2.56</td>\n",
       "    </tr>\n",
       "    <tr>\n",
       "      <td>3985</td>\n",
       "      <td>Madden NFL 13</td>\n",
       "      <td>Wii</td>\n",
       "      <td>2012</td>\n",
       "      <td>Sports</td>\n",
       "      <td>0.47</td>\n",
       "      <td>0.00</td>\n",
       "      <td>0.0</td>\n",
       "      <td>0.03</td>\n",
       "      <td>NaN</td>\n",
       "      <td>7.3</td>\n",
       "      <td>E</td>\n",
       "      <td>7.30</td>\n",
       "      <td>0.50</td>\n",
       "    </tr>\n",
       "    <tr>\n",
       "      <td>5886</td>\n",
       "      <td>Madden NFL 13</td>\n",
       "      <td>PSV</td>\n",
       "      <td>2012</td>\n",
       "      <td>Sports</td>\n",
       "      <td>0.28</td>\n",
       "      <td>0.00</td>\n",
       "      <td>0.0</td>\n",
       "      <td>0.02</td>\n",
       "      <td>6.3</td>\n",
       "      <td>7.3</td>\n",
       "      <td>E</td>\n",
       "      <td>6.80</td>\n",
       "      <td>0.30</td>\n",
       "    </tr>\n",
       "    <tr>\n",
       "      <td>7065</td>\n",
       "      <td>Madden NFL 13</td>\n",
       "      <td>WiiU</td>\n",
       "      <td>2012</td>\n",
       "      <td>Sports</td>\n",
       "      <td>0.21</td>\n",
       "      <td>0.00</td>\n",
       "      <td>0.0</td>\n",
       "      <td>0.02</td>\n",
       "      <td>7.5</td>\n",
       "      <td>6.7</td>\n",
       "      <td>E</td>\n",
       "      <td>7.10</td>\n",
       "      <td>0.23</td>\n",
       "    </tr>\n",
       "    <tr>\n",
       "      <td>16228</td>\n",
       "      <td>Madden NFL 13</td>\n",
       "      <td>PS3</td>\n",
       "      <td>2012</td>\n",
       "      <td>Sports</td>\n",
       "      <td>0.00</td>\n",
       "      <td>0.01</td>\n",
       "      <td>0.0</td>\n",
       "      <td>0.00</td>\n",
       "      <td>8.3</td>\n",
       "      <td>5.5</td>\n",
       "      <td>E</td>\n",
       "      <td>6.90</td>\n",
       "      <td>0.01</td>\n",
       "    </tr>\n",
       "  </tbody>\n",
       "</table>\n",
       "</div>"
      ],
      "text/plain": [
       "                name platform  year_of_release   genre  na_sales  eu_sales  \\\n",
       "507    Madden NFL 13     X360             2012  Sports      2.53      0.15   \n",
       "604    Madden NFL 13      PS3             2012  Sports      2.11      0.22   \n",
       "3985   Madden NFL 13      Wii             2012  Sports      0.47      0.00   \n",
       "5886   Madden NFL 13      PSV             2012  Sports      0.28      0.00   \n",
       "7065   Madden NFL 13     WiiU             2012  Sports      0.21      0.00   \n",
       "16228  Madden NFL 13      PS3             2012  Sports      0.00      0.01   \n",
       "\n",
       "       jp_sales  other_sales  critic_score  user_score rating  total_score  \\\n",
       "507         0.0         0.17           8.1         5.8      E         6.95   \n",
       "604         0.0         0.23           8.3         5.5      E         6.90   \n",
       "3985        0.0         0.03           NaN         7.3      E         7.30   \n",
       "5886        0.0         0.02           6.3         7.3      E         6.80   \n",
       "7065        0.0         0.02           7.5         6.7      E         7.10   \n",
       "16228       0.0         0.00           8.3         5.5      E         6.90   \n",
       "\n",
       "       total_sales  \n",
       "507           2.85  \n",
       "604           2.56  \n",
       "3985          0.50  \n",
       "5886          0.30  \n",
       "7065          0.23  \n",
       "16228         0.01  "
      ]
     },
     "execution_count": 28,
     "metadata": {},
     "output_type": "execute_result"
    }
   ],
   "source": [
    "#df.loc[16228]\n",
    "df.query('name == \"Madden NFL 13\"')"
   ]
  },
  {
   "cell_type": "markdown",
   "metadata": {},
   "source": [
    "Мы нашли один дубль, необходимо суммировать значения и пересчитать итоговые продажи."
   ]
  },
  {
   "cell_type": "code",
   "execution_count": 29,
   "metadata": {},
   "outputs": [],
   "source": [
    "df.loc[604, 'eu_sales'] = 0.23\n",
    "df = df.drop(index = [16228]).reset_index()\n",
    "df = df.drop(['index'], axis = 1)\n",
    "df['total_sales'] = df['na_sales'] + df['eu_sales'] + df['jp_sales'] + df['other_sales']"
   ]
  },
  {
   "cell_type": "markdown",
   "metadata": {},
   "source": [
    "Мы закончили с подготовкой данных, пора браться за анализ."
   ]
  },
  {
   "cell_type": "markdown",
   "metadata": {},
   "source": [
    "## Исследовательский анализ данных"
   ]
  },
  {
   "cell_type": "markdown",
   "metadata": {},
   "source": [
    "Давайте посмотрим сколько выпускалось игр по годам."
   ]
  },
  {
   "cell_type": "code",
   "execution_count": 30,
   "metadata": {},
   "outputs": [
    {
     "data": {
      "text/plain": [
       "Text(0, 0.5, 'Количество игр')"
      ]
     },
     "execution_count": 30,
     "metadata": {},
     "output_type": "execute_result"
    },
    {
     "data": {
      "image/png": "[encoded data removed]",
      "text/plain": [
       "<Figure size 936x504 with 1 Axes>"
      ]
     },
     "metadata": {
      "needs_background": "light"
     },
     "output_type": "display_data"
    }
   ],
   "source": [
    "df.pivot_table(index = 'year_of_release', values = 'name', aggfunc = 'count').plot(kind = 'bar', figsize = (13, 7))\n",
    "plt.title('Количество выпускаемых игр по годам')\n",
    "plt.xlabel(\"Год выпуска\")\n",
    "plt.ylabel(\"Количество игр\")"
   ]
  },
  {
   "cell_type": "markdown",
   "metadata": {},
   "source": [
    "Мы видим что начиная с 90-х начался активный рост количества выпускаемых игр в год, достигая своего пика в 2008 году, а далее пошло резкое снижение данного показателя, возможно это связано с более высокими требованиями по качеству которые появлялись с улучшением производительности компьютеров и консолей. Давайте посмотрим как выпускались игры по годам в разрезе различных платформ."
   ]
  },
  {
   "cell_type": "code",
   "execution_count": 31,
   "metadata": {},
   "outputs": [
    {
     "data": {
      "text/plain": [
       "PS2     2127\n",
       "DS      2121\n",
       "PS3     1305\n",
       "Wii     1286\n",
       "X360    1232\n",
       "PSP     1193\n",
       "PS      1190\n",
       "PC       957\n",
       "GBA      811\n",
       "XB       803\n",
       "GC       542\n",
       "3DS      512\n",
       "PSV      429\n",
       "PS4      392\n",
       "N64      316\n",
       "XOne     247\n",
       "SNES     239\n",
       "SAT      173\n",
       "WiiU     147\n",
       "2600     116\n",
       "NES       98\n",
       "GB        97\n",
       "DC        52\n",
       "GEN       27\n",
       "NG        12\n",
       "SCD        6\n",
       "WS         6\n",
       "3DO        3\n",
       "TG16       2\n",
       "PCFX       1\n",
       "GG         1\n",
       "Name: platform, dtype: int64"
      ]
     },
     "execution_count": 31,
     "metadata": {},
     "output_type": "execute_result"
    }
   ],
   "source": [
    "df['platform'].value_counts()"
   ]
  },
  {
   "cell_type": "code",
   "execution_count": 32,
   "metadata": {},
   "outputs": [],
   "source": [
    "df_platform_years = df.pivot_table(index = 'year_of_release', columns = 'platform', values = 'name', aggfunc = 'count').reset_index()"
   ]
  },
  {
   "cell_type": "code",
   "execution_count": 33,
   "metadata": {},
   "outputs": [
    {
     "data": {
      "text/plain": [
       "Text(0, 0.5, 'Количество выпущенных игр')"
      ]
     },
     "execution_count": 33,
     "metadata": {},
     "output_type": "execute_result"
    },
    {
     "data": {
      "image/png": "[encoded data removed]",
      "text/plain": [
       "<Figure size 1152x864 with 1 Axes>"
      ]
     },
     "metadata": {
      "needs_background": "light"
     },
     "output_type": "display_data"
    }
   ],
   "source": [
    "df_platform_years.plot(x=\"year_of_release\", y=[\"PS2\", \"DS\", \"PS3\", 'Wii', 'X360', 'PSP', 'PS', 'PC', 'XB', 'GBA', 'GC', '3DS', 'PSV', 'PS4', 'N64', 'XOne', 'SNES', 'SAT', 'WiiU', '2600', 'GB', 'NES', 'DC', 'GEN', 'NG', 'SCD', 'WS', '3DO', 'TG16', 'GG', 'PCFX'], figsize = (16, 12))\n",
    "plt.title('Количество выпускаемых игр по годам на различных платформах')\n",
    "plt.xlabel(\"Год выпуска\")\n",
    "plt.ylabel(\"Количество выпущенных игр\")"
   ]
  },
  {
   "cell_type": "markdown",
   "metadata": {},
   "source": [
    "Исходя из графика мы видим что среднее время жизни игровой платформы (за исключением PC) около 10 лет. На основании этого мы можем сделать вывод что производить игры на старые платформы производителю не выгодно, а значит и заказывать игры старых платформ тоже невыгодно. Поскольку нас интересует чтобы игры продавались, давайте проверим этот вывод взяв более узкую выборку - платформы с самыми большими суммарными продажами и сколько лет на них выпускались игры."
   ]
  },
  {
   "cell_type": "code",
   "execution_count": 34,
   "metadata": {},
   "outputs": [
    {
     "data": {
      "text/html": [
       "<div>\n",
       "<style scoped>\n",
       "    .dataframe tbody tr th:only-of-type {\n",
       "        vertical-align: middle;\n",
       "    }\n",
       "\n",
       "    .dataframe tbody tr th {\n",
       "        vertical-align: top;\n",
       "    }\n",
       "\n",
       "    .dataframe thead th {\n",
       "        text-align: right;\n",
       "    }\n",
       "</style>\n",
       "<table border=\"1\" class=\"dataframe\">\n",
       "  <thead>\n",
       "    <tr style=\"text-align: right;\">\n",
       "      <th></th>\n",
       "      <th>platform</th>\n",
       "      <th>total_sales</th>\n",
       "    </tr>\n",
       "  </thead>\n",
       "  <tbody>\n",
       "    <tr>\n",
       "      <td>16</td>\n",
       "      <td>PS2</td>\n",
       "      <td>1233.56</td>\n",
       "    </tr>\n",
       "    <tr>\n",
       "      <td>28</td>\n",
       "      <td>X360</td>\n",
       "      <td>961.24</td>\n",
       "    </tr>\n",
       "    <tr>\n",
       "      <td>17</td>\n",
       "      <td>PS3</td>\n",
       "      <td>931.34</td>\n",
       "    </tr>\n",
       "    <tr>\n",
       "      <td>26</td>\n",
       "      <td>Wii</td>\n",
       "      <td>891.18</td>\n",
       "    </tr>\n",
       "    <tr>\n",
       "      <td>4</td>\n",
       "      <td>DS</td>\n",
       "      <td>802.78</td>\n",
       "    </tr>\n",
       "    <tr>\n",
       "      <td>15</td>\n",
       "      <td>PS</td>\n",
       "      <td>727.58</td>\n",
       "    </tr>\n",
       "    <tr>\n",
       "      <td>18</td>\n",
       "      <td>PS4</td>\n",
       "      <td>314.14</td>\n",
       "    </tr>\n",
       "    <tr>\n",
       "      <td>6</td>\n",
       "      <td>GBA</td>\n",
       "      <td>312.88</td>\n",
       "    </tr>\n",
       "    <tr>\n",
       "      <td>19</td>\n",
       "      <td>PSP</td>\n",
       "      <td>289.53</td>\n",
       "    </tr>\n",
       "    <tr>\n",
       "      <td>2</td>\n",
       "      <td>3DS</td>\n",
       "      <td>257.81</td>\n",
       "    </tr>\n",
       "  </tbody>\n",
       "</table>\n",
       "</div>"
      ],
      "text/plain": [
       "   platform  total_sales\n",
       "16      PS2      1233.56\n",
       "28     X360       961.24\n",
       "17      PS3       931.34\n",
       "26      Wii       891.18\n",
       "4        DS       802.78\n",
       "15       PS       727.58\n",
       "18      PS4       314.14\n",
       "6       GBA       312.88\n",
       "19      PSP       289.53\n",
       "2       3DS       257.81"
      ]
     },
     "execution_count": 34,
     "metadata": {},
     "output_type": "execute_result"
    }
   ],
   "source": [
    "df.pivot_table(index = 'platform', values = 'total_sales', aggfunc = 'sum').reset_index().sort_values(by = 'total_sales', ascending = False).head(10)"
   ]
  },
  {
   "cell_type": "code",
   "execution_count": 35,
   "metadata": {},
   "outputs": [],
   "source": [
    "df_top_sales = df.pivot_table(index = 'year_of_release', columns = 'platform', values = 'total_sales', aggfunc = 'sum').reset_index()"
   ]
  },
  {
   "cell_type": "code",
   "execution_count": 36,
   "metadata": {},
   "outputs": [
    {
     "data": {
      "text/plain": [
       "Text(0, 0.5, 'Количество игр')"
      ]
     },
     "execution_count": 36,
     "metadata": {},
     "output_type": "execute_result"
    },
    {
     "data": {
      "image/png": "[encoded data removed]",
      "text/plain": [
       "<Figure size 1152x864 with 1 Axes>"
      ]
     },
     "metadata": {
      "needs_background": "light"
     },
     "output_type": "display_data"
    }
   ],
   "source": [
    "df_top_sales.plot(x=\"year_of_release\", y=[\"PS2\", \"DS\", \"PS3\", 'Wii', 'X360', 'PSP', 'PS', 'PC', 'GBA', 'PS4'], figsize = (16, 12))\n",
    "plt.title('Количество выпускаемых игр по годам')\n",
    "plt.xlabel(\"Год выпуска\")\n",
    "plt.ylabel(\"Количество игр\")"
   ]
  },
  {
   "cell_type": "markdown",
   "metadata": {},
   "source": [
    "На графике мы видим аналогичную картину, срок актуальности платформы в среднем около 10 лет, и дальше продажи по ней сменяются следующим поколением консоли, это наглядно видно на примере серии плейстейшн. Поэтому для определения игр для закупки на 2017 год необходимо убрать из анализа неактуальные платформы. Поскольку к концу периода жизни консоли выпускается меньше игр, можно посчитать неактуальный период все что больше 3 лет. Также учтем что судя по графику у нас не полные данные за 2016 год, возможно это связано что не все продажи внесены в таблицу или прошел не целый год. Поэтому сделаем выборку по играм 2013 года и младше."
   ]
  },
  {
   "cell_type": "code",
   "execution_count": 37,
   "metadata": {},
   "outputs": [
    {
     "data": {
      "text/plain": [
       "PS4     392\n",
       "PSV     358\n",
       "PS3     345\n",
       "3DS     303\n",
       "XOne    247\n",
       "PC      189\n",
       "X360    186\n",
       "WiiU    115\n",
       "PSP      67\n",
       "Wii      23\n",
       "DS        8\n",
       "Name: platform, dtype: int64"
      ]
     },
     "execution_count": 37,
     "metadata": {},
     "output_type": "execute_result"
    }
   ],
   "source": [
    "df_fresh = df.query('year_of_release >= 2013')\n",
    "df_fresh['platform'].value_counts()"
   ]
  },
  {
   "cell_type": "code",
   "execution_count": 38,
   "metadata": {},
   "outputs": [
    {
     "data": {
      "text/plain": [
       "Text(0, 0.5, 'Количество игр')"
      ]
     },
     "execution_count": 38,
     "metadata": {},
     "output_type": "execute_result"
    },
    {
     "data": {
      "image/png": "[encoded data removed]",
      "text/plain": [
       "<Figure size 936x504 with 1 Axes>"
      ]
     },
     "metadata": {
      "needs_background": "light"
     },
     "output_type": "display_data"
    }
   ],
   "source": [
    "df_fresh_platform_years = df_fresh.pivot_table(index = 'year_of_release', columns = 'platform', values = 'total_sales', aggfunc = 'sum').reset_index()\n",
    "df_fresh_platform_years.plot(x=\"year_of_release\", y=[\"PS3\", \"X360\", \"3DS\", 'DS', 'PSP', 'PC', 'Wii', 'PSV', 'PS4', 'XOne', 'WiiU'], figsize = (13, 7))\n",
    "plt.title('Количество выпускаемых игр по годам с учетом выборки')\n",
    "plt.xlabel(\"Год выпуска\")\n",
    "plt.ylabel(\"Количество игр\")"
   ]
  },
  {
   "cell_type": "code",
   "execution_count": 39,
   "metadata": {},
   "outputs": [
    {
     "data": {
      "text/plain": [
       "2015    606\n",
       "2014    581\n",
       "2013    544\n",
       "2016    502\n",
       "Name: year_of_release, dtype: int64"
      ]
     },
     "execution_count": 39,
     "metadata": {},
     "output_type": "execute_result"
    }
   ],
   "source": [
    "df_fresh['year_of_release'].value_counts()"
   ]
  },
  {
   "cell_type": "markdown",
   "metadata": {},
   "source": [
    "Судя по этой выборке, есть недостоверный момент с тем что в 2016 году упало общее кол-во продаж, хотя до этого был стабильный рост. Могу предположить что данные по 16 году просто не актуализированы. Поэтому придется в своем анализе опираться на показатели продаж по 2015 год.\n",
    "\n",
    "Если судить таким образом то у нас получаются два очевидных фаворита - единственные кто появился недавно и имеют хорошую положительную динамику - это PS4 и Xone.\n",
    "\n",
    "Также мы видим относительно неплохие продажи по 3DS, их показатели падают пропорционально меньше чем у фаворитов, с учетом того что данные неактуализированы, поэтому можно предположить что они как минимум стабильно держатся на рынке и эту платформу из вида также не стоит.\n",
    "\n",
    "Давайте рассмотрим диаграмму размаха по глобальным продажам игр с разбивкой по платформам."
   ]
  },
  {
   "cell_type": "code",
   "execution_count": 40,
   "metadata": {},
   "outputs": [
    {
     "data": {
      "text/plain": [
       "Text(0, 0.5, 'Количество проданных игр в млн.')"
      ]
     },
     "execution_count": 40,
     "metadata": {},
     "output_type": "execute_result"
    },
    {
     "data": {
      "image/png": "[encoded data removed]",
      "text/plain": [
       "<Figure size 432x288 with 1 Axes>"
      ]
     },
     "metadata": {
      "needs_background": "light"
     },
     "output_type": "display_data"
    }
   ],
   "source": [
    "sns.boxplot(data = df_fresh , x = 'platform' , y = 'total_sales')\n",
    "plt.ylim(0, 2)\n",
    "plt.title('Диаграмма размаха продаваемых игр по платформам с учетом выборки')\n",
    "plt.xlabel(\"Игровые платформы\")\n",
    "plt.ylabel(\"Количество проданных игр в млн.\")"
   ]
  },
  {
   "cell_type": "code",
   "execution_count": 41,
   "metadata": {},
   "outputs": [
    {
     "data": {
      "text/plain": [
       "Text(0, 0.5, 'Количество проданных игр в млн.')"
      ]
     },
     "execution_count": 41,
     "metadata": {},
     "output_type": "execute_result"
    },
    {
     "data": {
      "image/png": "[encoded data removed]",
      "text/plain": [
       "<Figure size 432x288 with 1 Axes>"
      ]
     },
     "metadata": {
      "needs_background": "light"
     },
     "output_type": "display_data"
    }
   ],
   "source": [
    "sns.boxplot(data = df_fresh , x = 'platform' , y = 'total_sales')\n",
    "plt.ylim(0, 0.25)\n",
    "plt.title('Увеличение диаграммы размаха на нижних значениях')\n",
    "plt.xlabel(\"Игровые платформы\")\n",
    "plt.ylabel(\"Количество проданных игр в млн.\")"
   ]
  },
  {
   "cell_type": "markdown",
   "metadata": {},
   "source": [
    "На диаграмме размаха мы видим, что в границу нормального размаха входят с налучшими показателями X360, PS4 и Xone. Это в принципе подтверждает ранее сделанные выводы, а также стоит обратить внимание на 3DS, ранее мы видели что суммарные продажи по этой платформе довольно высоки, поэтому несмотря на то что медианные продажи игр этой платформы сильно уступают конкурентам, но отсутствие выбросов дает нам предположение что у этой платформы есть определенная фанатская база, которая стабильно делает хорошие продажи по большинству игр. Показатели по Wii, не совсем объективны так как ранее мы уже видели что в рассматриваемый период на консоли выходило на порядок меньше игр чем на других, но можем для себя отметить это как показатель качества.\n",
    "\n",
    "Давайте посмотрим как влияют отзывы критиков и пользователей на продажи, на примере одной платформы с наибольшим количеством отзывов."
   ]
  },
  {
   "cell_type": "code",
   "execution_count": 42,
   "metadata": {},
   "outputs": [
    {
     "data": {
      "text/html": [
       "<div>\n",
       "<style scoped>\n",
       "    .dataframe tbody tr th:only-of-type {\n",
       "        vertical-align: middle;\n",
       "    }\n",
       "\n",
       "    .dataframe tbody tr th {\n",
       "        vertical-align: top;\n",
       "    }\n",
       "\n",
       "    .dataframe thead th {\n",
       "        text-align: right;\n",
       "    }\n",
       "</style>\n",
       "<table border=\"1\" class=\"dataframe\">\n",
       "  <thead>\n",
       "    <tr style=\"text-align: right;\">\n",
       "      <th></th>\n",
       "      <th>platform</th>\n",
       "      <th>critic_score</th>\n",
       "      <th>name</th>\n",
       "      <th>total_score</th>\n",
       "      <th>user_score</th>\n",
       "      <th>koef</th>\n",
       "    </tr>\n",
       "  </thead>\n",
       "  <tbody>\n",
       "    <tr>\n",
       "      <td>2</td>\n",
       "      <td>PC</td>\n",
       "      <td>149</td>\n",
       "      <td>189</td>\n",
       "      <td>156</td>\n",
       "      <td>155</td>\n",
       "      <td>0.825397</td>\n",
       "    </tr>\n",
       "    <tr>\n",
       "      <td>9</td>\n",
       "      <td>X360</td>\n",
       "      <td>81</td>\n",
       "      <td>186</td>\n",
       "      <td>143</td>\n",
       "      <td>143</td>\n",
       "      <td>0.768817</td>\n",
       "    </tr>\n",
       "    <tr>\n",
       "      <td>10</td>\n",
       "      <td>XOne</td>\n",
       "      <td>169</td>\n",
       "      <td>247</td>\n",
       "      <td>186</td>\n",
       "      <td>182</td>\n",
       "      <td>0.753036</td>\n",
       "    </tr>\n",
       "    <tr>\n",
       "      <td>8</td>\n",
       "      <td>WiiU</td>\n",
       "      <td>70</td>\n",
       "      <td>115</td>\n",
       "      <td>81</td>\n",
       "      <td>80</td>\n",
       "      <td>0.704348</td>\n",
       "    </tr>\n",
       "    <tr>\n",
       "      <td>4</td>\n",
       "      <td>PS4</td>\n",
       "      <td>252</td>\n",
       "      <td>392</td>\n",
       "      <td>260</td>\n",
       "      <td>257</td>\n",
       "      <td>0.663265</td>\n",
       "    </tr>\n",
       "  </tbody>\n",
       "</table>\n",
       "</div>"
      ],
      "text/plain": [
       "   platform  critic_score  name  total_score  user_score      koef\n",
       "2        PC           149   189          156         155  0.825397\n",
       "9      X360            81   186          143         143  0.768817\n",
       "10     XOne           169   247          186         182  0.753036\n",
       "8      WiiU            70   115           81          80  0.704348\n",
       "4       PS4           252   392          260         257  0.663265"
      ]
     },
     "execution_count": 42,
     "metadata": {},
     "output_type": "execute_result"
    }
   ],
   "source": [
    "df_choose_platform = df_fresh.pivot_table(index = 'platform', values = ['name', 'critic_score', 'user_score', 'total_score'], aggfunc = 'count').reset_index()\n",
    "df_choose_platform['koef'] = df_choose_platform['total_score'] / df_choose_platform['name']\n",
    "df_choose_platform.sort_values(by = 'koef', ascending = False).head(5)"
   ]
  },
  {
   "cell_type": "code",
   "execution_count": 43,
   "metadata": {},
   "outputs": [
    {
     "data": {
      "text/plain": [
       "total_sales     1.000000\n",
       "critic_score    0.196030\n",
       "user_score     -0.093842\n",
       "total_score     0.032334\n",
       "Name: total_sales, dtype: float64"
      ]
     },
     "execution_count": 43,
     "metadata": {},
     "output_type": "execute_result"
    }
   ],
   "source": [
    "df_pc = df_fresh.query('platform == \"PC\"')\n",
    "df_corr_pc = pd.DataFrame()\n",
    "df_corr_pc['total_sales'] = df_pc['total_sales']\n",
    "df_corr_pc['critic_score'] = df_pc['critic_score']\n",
    "df_corr_pc['user_score'] = df_pc['user_score']\n",
    "df_corr_pc['total_score'] = df_pc['total_score']\n",
    "df_corr_pc.corr()['total_sales']"
   ]
  },
  {
   "cell_type": "code",
   "execution_count": 44,
   "metadata": {},
   "outputs": [
    {
     "data": {
      "text/plain": [
       "array([[<matplotlib.axes._subplots.AxesSubplot object at 0x7f2cba142210>,\n",
       "        <matplotlib.axes._subplots.AxesSubplot object at 0x7f2cb854ad10>,\n",
       "        <matplotlib.axes._subplots.AxesSubplot object at 0x7f2cb85019d0>,\n",
       "        <matplotlib.axes._subplots.AxesSubplot object at 0x7f2cb853ed50>],\n",
       "       [<matplotlib.axes._subplots.AxesSubplot object at 0x7f2cb84f5a10>,\n",
       "        <matplotlib.axes._subplots.AxesSubplot object at 0x7f2cb84b4d90>,\n",
       "        <matplotlib.axes._subplots.AxesSubplot object at 0x7f2cb846ba50>,\n",
       "        <matplotlib.axes._subplots.AxesSubplot object at 0x7f2cb842a290>],\n",
       "       [<matplotlib.axes._subplots.AxesSubplot object at 0x7f2cb842add0>,\n",
       "        <matplotlib.axes._subplots.AxesSubplot object at 0x7f2cb83eb790>,\n",
       "        <matplotlib.axes._subplots.AxesSubplot object at 0x7f2cb8357ad0>,\n",
       "        <matplotlib.axes._subplots.AxesSubplot object at 0x7f2cb8315e50>],\n",
       "       [<matplotlib.axes._subplots.AxesSubplot object at 0x7f2cb82ccb10>,\n",
       "        <matplotlib.axes._subplots.AxesSubplot object at 0x7f2cb828ae90>,\n",
       "        <matplotlib.axes._subplots.AxesSubplot object at 0x7f2cb8241b50>,\n",
       "        <matplotlib.axes._subplots.AxesSubplot object at 0x7f2cb8201ed0>]],\n",
       "      dtype=object)"
      ]
     },
     "execution_count": 44,
     "metadata": {},
     "output_type": "execute_result"
    },
    {
     "data": {
      "image/png": "[encoded data removed]",
      "text/plain": [
       "<Figure size 648x648 with 16 Axes>"
      ]
     },
     "metadata": {
      "needs_background": "light"
     },
     "output_type": "display_data"
    }
   ],
   "source": [
    "pd.plotting.scatter_matrix(df_corr_pc, figsize=(9, 9))"
   ]
  },
  {
   "cell_type": "markdown",
   "metadata": {},
   "source": [
    "Исходя из корреляции и диаграммы рассеяния, мы видим что у продаж слабо выраженная, но положительная корреляция с оценками критиков, а значит что при выборе игр на продажу имеет смысл ориентироваться на отзывы критиков, они влияют на мнение потенциальных покупателей, но не критично. \n",
    "\n",
    "При этом корреляция продаж с оценками пользователей вообще не влияет на продажи, показатель около 0.\n",
    "\n",
    "А теперь давайте посмотрим справедливо ли это для других платформ."
   ]
  },
  {
   "cell_type": "code",
   "execution_count": 45,
   "metadata": {},
   "outputs": [
    {
     "data": {
      "text/plain": [
       "Text(0, 0.5, 'Суммарные продажи')"
      ]
     },
     "execution_count": 45,
     "metadata": {},
     "output_type": "execute_result"
    },
    {
     "data": {
      "image/png": "[encoded data removed]",
      "text/plain": [
       "<Figure size 432x288 with 1 Axes>"
      ]
     },
     "metadata": {
      "needs_background": "light"
     },
     "output_type": "display_data"
    }
   ],
   "source": [
    "df_fresh.pivot_table(index = 'platform', values = ['user_score', 'critic_score', 'total_sales'], aggfunc = 'sum').reset_index().plot(x=\"critic_score\", y=\"total_sales\", kind=\"scatter\")\n",
    "plt.title('Зависимость продаж от оценок критиков')\n",
    "plt.xlabel(\"Суммарная оценка критиков\")\n",
    "plt.ylabel(\"Суммарные продажи\")"
   ]
  },
  {
   "cell_type": "markdown",
   "metadata": {},
   "source": [
    "В общем и целом закономерность прослеживается, чем больше оценок от критиков и чем они выше у игр на тех или иных консолях, тем лучше они продаются.\n",
    "\n",
    "А теперь давайте посмотрим как жанр влияет на продажи игры."
   ]
  },
  {
   "cell_type": "code",
   "execution_count": 46,
   "metadata": {
    "scrolled": false
   },
   "outputs": [
    {
     "data": {
      "text/plain": [
       "Text(0, 0.5, 'Медиана по продажам (в млн. копий)')"
      ]
     },
     "execution_count": 46,
     "metadata": {},
     "output_type": "execute_result"
    },
    {
     "data": {
      "image/png": "[encoded data removed]",
      "text/plain": [
       "<Figure size 432x288 with 1 Axes>"
      ]
     },
     "metadata": {
      "needs_background": "light"
     },
     "output_type": "display_data"
    }
   ],
   "source": [
    "df_fresh.pivot_table(index = 'genre', values = 'total_sales', aggfunc = 'median').reset_index().plot(x = \"genre\", y = \"total_sales\", kind = 'bar')\n",
    "plt.title('Отношение медианного уровня продаж по жанру')\n",
    "plt.xlabel(\"Жанры\")\n",
    "plt.ylabel(\"Медиана по продажам (в млн. копий)\")"
   ]
  },
  {
   "cell_type": "code",
   "execution_count": 47,
   "metadata": {},
   "outputs": [
    {
     "data": {
      "text/plain": [
       "Text(0, 0.5, 'Среднее по продажам (в млн. копий)')"
      ]
     },
     "execution_count": 47,
     "metadata": {},
     "output_type": "execute_result"
    },
    {
     "data": {
      "image/png": "[encoded data removed]",
      "text/plain": [
       "<Figure size 432x288 with 1 Axes>"
      ]
     },
     "metadata": {
      "needs_background": "light"
     },
     "output_type": "display_data"
    }
   ],
   "source": [
    "df_fresh.pivot_table(index = 'genre', values = 'total_sales', aggfunc = 'mean').reset_index().plot(x = \"genre\", y = \"total_sales\", kind = 'bar')\n",
    "plt.title('Отношение среднего уровня продаж по жанру')\n",
    "plt.xlabel(\"Жанры\")\n",
    "plt.ylabel(\"Среднее по продажам (в млн. копий)\")"
   ]
  },
  {
   "cell_type": "markdown",
   "metadata": {},
   "source": [
    "Судя по показателям самый продаваемый жанр в мире это жанр шутеры, следом за ним идут спорт и платформеры. \n",
    "\n",
    "Также на этом графике мы видим что самые плохо продаваемые игры по миру это приключения, стратегии и головоломки. \n",
    "\n",
    "Ну что поделать, видимо покупателям хватает интеллектуальной активности в реальной жизни, а в играх хочется получить эмоциональную разгрузку и кого нибудь расстрелять. Мы это уважаем и обязательно учтем при выборе игр для закупки на 2017 год."
   ]
  },
  {
   "cell_type": "markdown",
   "metadata": {},
   "source": [
    "### Вывод:"
   ]
  },
  {
   "cell_type": "markdown",
   "metadata": {},
   "source": [
    "Благодаря нашему анализу мы выяснили:\n",
    "\n",
    "1) Что консоли имеют свой срок жизни, в среднем в пределах 10 лет и для лучших продаж желательно выбирать более свежие консоли, в нашем случае это PS4, Xone и WiiU.\n",
    "\n",
    "2) Что продажи имеют определенную зависимость от оценки критиков, и чем выше оценки и чем их больше, тем с большей вероятностью игра покажет хорошие продажи.\n",
    "\n",
    "3) Также мы выделили самые популярные жанры среди покупателей.\n",
    "\n",
    "Эти выводы уже могут сильно облегчить выбор игр для продажи, но давайте проверим одинаково ли ведут себя покупатели в разных регионах. "
   ]
  },
  {
   "cell_type": "markdown",
   "metadata": {},
   "source": [
    "## Составление портретов пользователей в разных регионах\n",
    "Давайте оценим продажи по платформам в разных регионах и определим топ 5 по каждому."
   ]
  },
  {
   "cell_type": "code",
   "execution_count": 48,
   "metadata": {},
   "outputs": [
    {
     "data": {
      "text/plain": [
       "Text(0, 0.5, 'Продажи (в млн. копий)')"
      ]
     },
     "execution_count": 48,
     "metadata": {},
     "output_type": "execute_result"
    },
    {
     "data": {
      "image/png": "[encoded data removed]",
      "text/plain": [
       "<Figure size 720x504 with 1 Axes>"
      ]
     },
     "metadata": {
      "needs_background": "light"
     },
     "output_type": "display_data"
    }
   ],
   "source": [
    "df_top_5_platform_in_region = df_fresh.pivot_table(index = 'platform', values = ['na_sales', 'eu_sales', 'jp_sales'], aggfunc = 'sum')\n",
    "df_top_5_platform_in_region.reset_index().plot(kind = 'bar', x = 'platform', y = ['na_sales', 'eu_sales', 'jp_sales'], figsize = (10, 7))\n",
    "plt.title('Отношение уровня продаж на различных платформах по регионам')\n",
    "plt.xlabel(\"Платформы\")\n",
    "plt.ylabel(\"Продажи (в млн. копий)\")"
   ]
  },
  {
   "cell_type": "code",
   "execution_count": 49,
   "metadata": {},
   "outputs": [
    {
     "data": {
      "text/plain": [
       "platform\n",
       "PS4     108.74\n",
       "XOne     93.12\n",
       "X360     81.66\n",
       "PS3      63.50\n",
       "3DS      38.20\n",
       "Name: na_sales, dtype: float64"
      ]
     },
     "execution_count": 49,
     "metadata": {},
     "output_type": "execute_result"
    }
   ],
   "source": [
    "# Северная Америка\n",
    "df_top_5_platform_in_region['na_sales'].sort_values(ascending = False).head()"
   ]
  },
  {
   "cell_type": "code",
   "execution_count": 50,
   "metadata": {},
   "outputs": [
    {
     "data": {
      "text/plain": [
       "platform\n",
       "PS4     141.09\n",
       "PS3      67.81\n",
       "XOne     51.59\n",
       "X360     42.52\n",
       "3DS      30.96\n",
       "Name: eu_sales, dtype: float64"
      ]
     },
     "execution_count": 50,
     "metadata": {},
     "output_type": "execute_result"
    }
   ],
   "source": [
    "# Европа\n",
    "df_top_5_platform_in_region['eu_sales'].sort_values(ascending = False).head()"
   ]
  },
  {
   "cell_type": "code",
   "execution_count": 51,
   "metadata": {},
   "outputs": [
    {
     "data": {
      "text/plain": [
       "platform\n",
       "3DS     67.81\n",
       "PS3     23.35\n",
       "PSV     18.59\n",
       "PS4     15.96\n",
       "WiiU    10.88\n",
       "Name: jp_sales, dtype: float64"
      ]
     },
     "execution_count": 51,
     "metadata": {},
     "output_type": "execute_result"
    }
   ],
   "source": [
    "# Япония\n",
    "df_top_5_platform_in_region['jp_sales'].sort_values(ascending = False).head()"
   ]
  },
  {
   "cell_type": "markdown",
   "metadata": {},
   "source": [
    "На графике мы видим следующее: \n",
    "\n",
    "1) Продажи в Японии значительно ниже чем в Америке и Европе, вероятно потому что сам регион по размерам значительно меньше.\n",
    "\n",
    "2) Из особенностей Японских продаж мы видим что японские покупатели почти полностью игнорируют игры на PC и линейку xbox. Предположу что это происходит из-за поддержки отечественного производителя (Сони и Нинтендо) со стороны правительства.\n",
    "\n",
    "3) Также японцы отличаются тем что предпочитают портативные консоли, несмотря на более низкие продажи в целом, они лидеры по продажам платформ которые всегда можно носить с собой.\n",
    "\n",
    "4) Европа и Америка в целом схожи по предпочтениям, и у них происходят хорошие продажи игр на домашние консоли.\n",
    "\n",
    "5) Из отличий по предпочтениям европейцев и американцев можно выделить что в америке лучше всего продаются игры на xbox, а в европе на линейку Сони и ПК."
   ]
  },
  {
   "cell_type": "code",
   "execution_count": 52,
   "metadata": {},
   "outputs": [
    {
     "data": {
      "text/plain": [
       "Text(0, 0.5, 'Продажи (в млн. копий)')"
      ]
     },
     "execution_count": 52,
     "metadata": {},
     "output_type": "execute_result"
    },
    {
     "data": {
      "image/png": "[encoded data removed]",
      "text/plain": [
       "<Figure size 720x504 with 1 Axes>"
      ]
     },
     "metadata": {
      "needs_background": "light"
     },
     "output_type": "display_data"
    }
   ],
   "source": [
    "df_top_5_genre_in_region = df_fresh.pivot_table(index = 'genre', values = ['na_sales', 'eu_sales', 'jp_sales'], aggfunc = 'sum')\n",
    "df_top_5_genre_in_region.reset_index().plot(kind = 'bar', x = 'genre', y = ['na_sales', 'eu_sales', 'jp_sales'], figsize = (10, 7))\n",
    "plt.title('Отношение уровня продаж различных жанров по регионам')\n",
    "plt.xlabel(\"Платформы\")\n",
    "plt.ylabel(\"Продажи (в млн. копий)\")"
   ]
  },
  {
   "cell_type": "markdown",
   "metadata": {},
   "source": [
    "При анализе графика продаж в регионах в зависимости от жанра игр, мы можем сделать следующие выводы:\n",
    "\n",
    "1) Можно уверенно сказать что любимый жанр игр у японцев - это РПГ.\n",
    "\n",
    "2) Американцы и Европейцы и тут демонстрируют схожие вкусы, единственное на что можно обратить внимание - это то что европейцы покупают больше игр про гонки, по остальным жанрам пропорции по продажам в среднем соблюдаются.\n",
    "\n",
    "3) Ранее мы отмечали что шутеры занимают первое место по популярности, однако Япония в этом вопросе исключение из правил и при закупках это также нужно учитывать. Хотя проблема может быть в том, что на портативных консолях просто нет хорошего выбора шутеров или в которые было бы удобно играть с маленьким экраном. "
   ]
  },
  {
   "cell_type": "code",
   "execution_count": 53,
   "metadata": {},
   "outputs": [
    {
     "data": {
      "text/plain": [
       "Text(0, 0.5, 'Продажи (в млн. копий)')"
      ]
     },
     "execution_count": 53,
     "metadata": {},
     "output_type": "execute_result"
    },
    {
     "data": {
      "image/png": "[encoded data removed]",
      "text/plain": [
       "<Figure size 720x504 with 1 Axes>"
      ]
     },
     "metadata": {
      "needs_background": "light"
     },
     "output_type": "display_data"
    }
   ],
   "source": [
    "df_top_5_rating_in_region = df_fresh.pivot_table(index = 'rating', values = ['na_sales', 'eu_sales', 'jp_sales'], aggfunc = 'sum')\n",
    "df_top_5_rating_in_region.reset_index().plot(kind = 'bar', x = 'rating', y = ['na_sales', 'eu_sales', 'jp_sales'], figsize = (10, 7))\n",
    "plt.title('Отношение уровня продаж в зависимости от возрастного рейтинга по регионам')\n",
    "plt.xlabel(\"Платформы\")\n",
    "plt.ylabel(\"Продажи (в млн. копий)\")"
   ]
  },
  {
   "cell_type": "markdown",
   "metadata": {},
   "source": [
    "По возрастному рейтингу мы видим что в общем тенденция по регионам почти одинаковая, выбивается из общего вида снова только Япония. В Японии самый популярный возрастной рейтинг - это 'T', и сравнительно очень низкие показатели у рейтинга 'M'. Это объяснимо тем что в Японии есть определенные культурные особенности в плане работы, работа у взрослых японцев отнимает много времени и времени на сил и игры у них просто не остается, поэтому можно предположить что целевая аудитория в Японии это подростки. Второй вариант возникновения таких особенностей может скрываться в том что в Японии могут быть дополнительные ограничения на продажи игр с высоким возрастным рейтингом со стороны правительства, которое борется с жестокими играми. "
   ]
  },
  {
   "cell_type": "markdown",
   "metadata": {},
   "source": [
    "## Проверка гипотез"
   ]
  },
  {
   "cell_type": "markdown",
   "metadata": {},
   "source": [
    "### Средние пользовательские рейтинги платформ Xbox One и PC одинаковые\n",
    "Примем за нулевую гипотезу что средние рейтинги платформ XboxOne и PC одинаковы, в противном случае при отказе от нулевой гипотезы будем предполагать что верна обратная гипотеза - что рейтинги различаются."
   ]
  },
  {
   "cell_type": "code",
   "execution_count": 54,
   "metadata": {},
   "outputs": [],
   "source": [
    "df_score_xone = df_fresh.query('platform == \"XOne\"')\n",
    "df_score_pc = df_fresh.query('platform == \"PC\"')\n",
    "df_user_score_xone = df_score_xone['user_score'].dropna()\n",
    "df_user_score_pc = df_score_pc['user_score'].dropna()"
   ]
  },
  {
   "cell_type": "code",
   "execution_count": 55,
   "metadata": {},
   "outputs": [
    {
     "data": {
      "text/plain": [
       "1.9069968429360693"
      ]
     },
     "execution_count": 55,
     "metadata": {},
     "output_type": "execute_result"
    }
   ],
   "source": [
    "sigma_score_xone = np.std(df_user_score_xone, ddof = 1)\n",
    "dispersion_score_xone = sigma_score_xone ** 2\n",
    "dispersion_score_xone"
   ]
  },
  {
   "cell_type": "code",
   "execution_count": 56,
   "metadata": {},
   "outputs": [
    {
     "data": {
      "text/plain": [
       "3.0358927524088815"
      ]
     },
     "execution_count": 56,
     "metadata": {},
     "output_type": "execute_result"
    }
   ],
   "source": [
    "sigma_score_pc = np.std(df_user_score_pc, ddof = 1)\n",
    "dispersion_score_pc = sigma_score_pc ** 2\n",
    "dispersion_score_pc"
   ]
  },
  {
   "cell_type": "code",
   "execution_count": 57,
   "metadata": {},
   "outputs": [
    {
     "data": {
      "text/plain": [
       "6.521428571428572"
      ]
     },
     "execution_count": 57,
     "metadata": {},
     "output_type": "execute_result"
    }
   ],
   "source": [
    "# Среднее по xbox\n",
    "df_user_score_xone.mean()"
   ]
  },
  {
   "cell_type": "code",
   "execution_count": 58,
   "metadata": {},
   "outputs": [
    {
     "data": {
      "text/plain": [
       "6.2696774193548395"
      ]
     },
     "execution_count": 58,
     "metadata": {},
     "output_type": "execute_result"
    }
   ],
   "source": [
    "# Среднее по ПК\n",
    "df_user_score_pc.mean()"
   ]
  },
  {
   "cell_type": "code",
   "execution_count": 59,
   "metadata": {},
   "outputs": [
    {
     "data": {
      "text/plain": [
       "0.14759594013430463"
      ]
     },
     "execution_count": 59,
     "metadata": {},
     "output_type": "execute_result"
    }
   ],
   "source": [
    "alpha = 0.05\n",
    "result_first = st.ttest_ind(df_user_score_xone, df_user_score_pc, equal_var = False)\n",
    "result_first.pvalue"
   ]
  },
  {
   "cell_type": "code",
   "execution_count": 60,
   "metadata": {},
   "outputs": [
    {
     "name": "stdout",
     "output_type": "stream",
     "text": [
      "Не получилось отвергнуть нулевую гипотезу\n"
     ]
    }
   ],
   "source": [
    "if (result_first.pvalue < alpha):\n",
    "    print(\"Отвергаем нулевую гипотезу\")\n",
    "else:\n",
    "    print(\"Не получилось отвергнуть нулевую гипотезу\")"
   ]
  },
  {
   "cell_type": "markdown",
   "metadata": {},
   "source": [
    "Полученные значения среднего говорит о том, что вероятность равных средних рейтингов у XBox One и PC, совсем не маленькая. И на основании ттеста мы скорее можем предположить, что рейтинги игр на этих платформах близки по значению, возможно что в большинстве своем это одни и те же игры. Так что есть вероятность что наша изначальная гипотеза верна."
   ]
  },
  {
   "cell_type": "markdown",
   "metadata": {},
   "source": [
    "### Средние пользовательские рейтинги жанров Action и Sports разные.\n",
    "Примем за нулевую гипотезу что средние пользовательские рейтинги жанров Action и Sports одинаковы, в противном случае при отказе от нулевой гипотезы будем предполагать что верна обратная гипотеза - что рейтинги различаются."
   ]
  },
  {
   "cell_type": "code",
   "execution_count": 61,
   "metadata": {},
   "outputs": [],
   "source": [
    "df_score_action = df_fresh.query('genre == \"Action\"')\n",
    "df_score_sports = df_fresh.query('genre == \"Sports\"')\n",
    "df_user_score_action = df_score_action['user_score'].dropna()\n",
    "df_user_score_sports = df_score_sports['user_score'].dropna()"
   ]
  },
  {
   "cell_type": "code",
   "execution_count": 62,
   "metadata": {},
   "outputs": [
    {
     "data": {
      "text/plain": [
       "1.7693609042482703"
      ]
     },
     "execution_count": 62,
     "metadata": {},
     "output_type": "execute_result"
    }
   ],
   "source": [
    "sigma_score_action = np.std(df_user_score_action, ddof = 1)\n",
    "dispersion_score_action = sigma_score_action ** 2\n",
    "dispersion_score_action"
   ]
  },
  {
   "cell_type": "code",
   "execution_count": 63,
   "metadata": {},
   "outputs": [
    {
     "data": {
      "text/plain": [
       "3.180612814465409"
      ]
     },
     "execution_count": 63,
     "metadata": {},
     "output_type": "execute_result"
    }
   ],
   "source": [
    "sigma_score_sports = np.std(df_user_score_sports, ddof = 1)\n",
    "dispersion_score_sports = sigma_score_sports ** 2\n",
    "dispersion_score_sports"
   ]
  },
  {
   "cell_type": "code",
   "execution_count": 64,
   "metadata": {},
   "outputs": [
    {
     "data": {
      "text/plain": [
       "6.837532133676092"
      ]
     },
     "execution_count": 64,
     "metadata": {},
     "output_type": "execute_result"
    }
   ],
   "source": [
    "# Среднее Экшен\n",
    "df_user_score_action.mean()"
   ]
  },
  {
   "cell_type": "code",
   "execution_count": 65,
   "metadata": {},
   "outputs": [
    {
     "data": {
      "text/plain": [
       "5.238124999999999"
      ]
     },
     "execution_count": 65,
     "metadata": {},
     "output_type": "execute_result"
    }
   ],
   "source": [
    "# Среднее Спорт\n",
    "df_user_score_sports.mean()"
   ]
  },
  {
   "cell_type": "code",
   "execution_count": 66,
   "metadata": {},
   "outputs": [
    {
     "data": {
      "text/plain": [
       "1.4460039700704315e-20"
      ]
     },
     "execution_count": 66,
     "metadata": {},
     "output_type": "execute_result"
    }
   ],
   "source": [
    "alpha = 0.05\n",
    "result_second = st.ttest_ind(df_user_score_action, df_user_score_sports, equal_var = False)\n",
    "result_second.pvalue"
   ]
  },
  {
   "cell_type": "code",
   "execution_count": 67,
   "metadata": {},
   "outputs": [
    {
     "name": "stdout",
     "output_type": "stream",
     "text": [
      "Отвергаем нулевую гипотезу\n"
     ]
    }
   ],
   "source": [
    "if (result_second.pvalue < alpha):\n",
    "    print(\"Отвергаем нулевую гипотезу\")\n",
    "else:\n",
    "    print(\"Не получилось отвергнуть нулевую гипотезу\")"
   ]
  },
  {
   "cell_type": "markdown",
   "metadata": {},
   "source": [
    "Полученное значение pvalue говорит о том, что рейтинг игр этих двух жанров, с высокой вероятностью отличается. Мы уверенно можем отвергнуть мысль о том что что их пользовательские рейтинги равны. А значит пока мы можем продолжать считать что средние пользовательские рейтинги жанров Action и Sports разные."
   ]
  },
  {
   "cell_type": "markdown",
   "metadata": {},
   "source": [
    "## Вывод по проекту"
   ]
  },
  {
   "cell_type": "markdown",
   "metadata": {},
   "source": [
    "По итогам проведенной исследовательской работы, мы вывели целый ряд рекомендаций на которые нужно будет обращать внимание при закупке на 2017 год:\n",
    "\n",
    "1) Необходимо отдавать приоритетное значение играм на платформах XBox One и PS4, они должны показать самые высокие продажи в 2017 году. \n",
    "\n",
    "2) При выборе игр нужно обращать внимание на отзывы критиков, хорошо освещаемую игру лучше покупают.\n",
    "\n",
    "3) Нужно закупать больше игр популярных жанров, в Америке и Европе это Шутеры и Спорт, а в Японии РПГ и Экшен.\n",
    "\n",
    "4) При работе с Японским регионом нужно отдавать приоритет играм на портативные консоли, а в Америке и Европе на стационарные платформы.\n",
    "\n",
    "5) Нужно быть аккуратным при продажах в Японии игр с рейтинговыми ограничениями 17+.\n",
    "\n",
    "6) Высока вероятность что игры линейки платформ XBox в Японии не продадутся.\n",
    "\n",
    "7) Нужно учитывать что в Европе предпочитают Сони а в Америке XBox\n",
    "\n",
    "8) Ну и последнее, стоит отметить что поскольку рейтинги пользователей между PC и Xbox One с высокой вероятностью равны, можно предположить что речь идет об одинаковых играх, и это как раз причина по которой Xbox проигрывает Сони в Европе, какая то часть пользователей предпочитает играть эти же игры на своем ПК, и если эта гипотеза окажется верна, то имеет смысл продавать в Европе больше игр на PC чем в других регионах, особенно которые также выходят на XBox."
   ]
  },
  {
   "cell_type": "code",
   "execution_count": null,
   "metadata": {},
   "outputs": [],
   "source": []
  }
 ],
 "metadata": {
  "ExecuteTimeLog": [
   {
    "duration": 1422,
    "start_time": "2021-08-05T20:43:15.224Z"
   },
   {
    "duration": 75,
    "start_time": "2021-08-05T20:44:01.783Z"
   },
   {
    "duration": 15,
    "start_time": "2021-08-05T20:48:02.862Z"
   },
   {
    "duration": 44,
    "start_time": "2021-08-05T20:56:07.395Z"
   },
   {
    "duration": 10,
    "start_time": "2021-08-05T21:29:25.456Z"
   },
   {
    "duration": 549,
    "start_time": "2021-08-05T21:29:37.791Z"
   },
   {
    "duration": 396,
    "start_time": "2021-08-05T21:30:05.946Z"
   },
   {
    "duration": 451,
    "start_time": "2021-08-05T21:30:19.353Z"
   },
   {
    "duration": 16,
    "start_time": "2021-08-05T21:30:28.839Z"
   },
   {
    "duration": 15,
    "start_time": "2021-08-05T21:30:37.003Z"
   },
   {
    "duration": 30,
    "start_time": "2021-08-05T21:41:53.887Z"
   },
   {
    "duration": 22,
    "start_time": "2021-08-05T22:44:38.546Z"
   },
   {
    "duration": 33,
    "start_time": "2021-08-05T22:45:42.199Z"
   },
   {
    "duration": 9535,
    "start_time": "2021-08-05T22:51:41.667Z"
   },
   {
    "duration": 385,
    "start_time": "2021-08-05T23:02:36.007Z"
   },
   {
    "duration": 387,
    "start_time": "2021-08-05T23:02:44.174Z"
   },
   {
    "duration": 20,
    "start_time": "2021-08-05T23:07:32.877Z"
   },
   {
    "duration": 22,
    "start_time": "2021-08-05T23:07:36.380Z"
   },
   {
    "duration": 32,
    "start_time": "2021-08-05T23:07:45.380Z"
   },
   {
    "duration": 149,
    "start_time": "2021-08-05T23:15:13.747Z"
   },
   {
    "duration": 23,
    "start_time": "2021-08-05T23:15:53.725Z"
   },
   {
    "duration": 483,
    "start_time": "2021-08-05T23:16:05.555Z"
   },
   {
    "duration": 1348,
    "start_time": "2021-08-05T23:16:24.703Z"
   },
   {
    "duration": 67,
    "start_time": "2021-08-05T23:16:26.054Z"
   },
   {
    "duration": 14,
    "start_time": "2021-08-05T23:16:26.123Z"
   },
   {
    "duration": 61,
    "start_time": "2021-08-05T23:16:26.141Z"
   },
   {
    "duration": 19,
    "start_time": "2021-08-05T23:16:26.205Z"
   },
   {
    "duration": 31,
    "start_time": "2021-08-05T23:16:26.226Z"
   },
   {
    "duration": 51,
    "start_time": "2021-08-05T23:16:26.260Z"
   },
   {
    "duration": 22,
    "start_time": "2021-08-05T23:16:32.695Z"
   },
   {
    "duration": 1347,
    "start_time": "2021-08-05T23:18:01.500Z"
   },
   {
    "duration": 70,
    "start_time": "2021-08-05T23:18:02.850Z"
   },
   {
    "duration": 14,
    "start_time": "2021-08-05T23:18:02.923Z"
   },
   {
    "duration": 59,
    "start_time": "2021-08-05T23:18:02.940Z"
   },
   {
    "duration": 20,
    "start_time": "2021-08-05T23:18:03.002Z"
   },
   {
    "duration": 26,
    "start_time": "2021-08-05T23:18:03.025Z"
   },
   {
    "duration": 57,
    "start_time": "2021-08-05T23:18:03.054Z"
   },
   {
    "duration": 26,
    "start_time": "2021-08-05T23:18:06.733Z"
   },
   {
    "duration": 28,
    "start_time": "2021-08-05T23:18:23.905Z"
   },
   {
    "duration": 523,
    "start_time": "2021-08-05T23:18:27.033Z"
   },
   {
    "duration": 1309,
    "start_time": "2021-08-05T23:18:48.433Z"
   },
   {
    "duration": 68,
    "start_time": "2021-08-05T23:18:49.745Z"
   },
   {
    "duration": 16,
    "start_time": "2021-08-05T23:18:49.817Z"
   },
   {
    "duration": 69,
    "start_time": "2021-08-05T23:18:49.836Z"
   },
   {
    "duration": 21,
    "start_time": "2021-08-05T23:18:49.909Z"
   },
   {
    "duration": 54,
    "start_time": "2021-08-05T23:18:49.933Z"
   },
   {
    "duration": 35,
    "start_time": "2021-08-05T23:18:49.990Z"
   },
   {
    "duration": 10,
    "start_time": "2021-08-05T23:18:53.223Z"
   },
   {
    "duration": 19,
    "start_time": "2021-08-05T23:19:06.312Z"
   },
   {
    "duration": 570,
    "start_time": "2021-08-05T23:23:39.158Z"
   },
   {
    "duration": 431,
    "start_time": "2021-08-05T23:23:46.697Z"
   },
   {
    "duration": 383,
    "start_time": "2021-08-05T23:23:56.618Z"
   },
   {
    "duration": 1393,
    "start_time": "2021-08-05T23:26:39.546Z"
   },
   {
    "duration": 66,
    "start_time": "2021-08-05T23:26:40.942Z"
   },
   {
    "duration": 15,
    "start_time": "2021-08-05T23:26:41.011Z"
   },
   {
    "duration": 66,
    "start_time": "2021-08-05T23:26:41.029Z"
   },
   {
    "duration": 18,
    "start_time": "2021-08-05T23:26:41.097Z"
   },
   {
    "duration": 26,
    "start_time": "2021-08-05T23:26:41.117Z"
   },
   {
    "duration": 56,
    "start_time": "2021-08-05T23:26:41.145Z"
   },
   {
    "duration": 11,
    "start_time": "2021-08-05T23:26:41.204Z"
   },
   {
    "duration": 511,
    "start_time": "2021-08-05T23:26:45.652Z"
   },
   {
    "duration": 379,
    "start_time": "2021-08-05T23:33:41.559Z"
   },
   {
    "duration": 1319,
    "start_time": "2021-08-05T23:34:57.935Z"
   },
   {
    "duration": 70,
    "start_time": "2021-08-05T23:34:59.256Z"
   },
   {
    "duration": 13,
    "start_time": "2021-08-05T23:34:59.329Z"
   },
   {
    "duration": 59,
    "start_time": "2021-08-05T23:34:59.345Z"
   },
   {
    "duration": 19,
    "start_time": "2021-08-05T23:34:59.406Z"
   },
   {
    "duration": 37,
    "start_time": "2021-08-05T23:34:59.427Z"
   },
   {
    "duration": 46,
    "start_time": "2021-08-05T23:34:59.466Z"
   },
   {
    "duration": 20,
    "start_time": "2021-08-05T23:34:59.516Z"
   },
   {
    "duration": 20,
    "start_time": "2021-08-05T23:35:07.253Z"
   },
   {
    "duration": 1442,
    "start_time": "2021-08-05T23:36:02.304Z"
   },
   {
    "duration": 67,
    "start_time": "2021-08-05T23:36:03.749Z"
   },
   {
    "duration": 15,
    "start_time": "2021-08-05T23:36:03.819Z"
   },
   {
    "duration": 62,
    "start_time": "2021-08-05T23:36:03.837Z"
   },
   {
    "duration": 23,
    "start_time": "2021-08-05T23:36:03.902Z"
   },
   {
    "duration": 26,
    "start_time": "2021-08-05T23:36:03.927Z"
   },
   {
    "duration": 58,
    "start_time": "2021-08-05T23:36:03.956Z"
   },
   {
    "duration": 17,
    "start_time": "2021-08-05T23:36:04.018Z"
   },
   {
    "duration": 28,
    "start_time": "2021-08-05T23:36:10.402Z"
   },
   {
    "duration": 19,
    "start_time": "2021-08-05T23:36:28.647Z"
   },
   {
    "duration": 1437,
    "start_time": "2021-08-06T19:59:18.805Z"
   },
   {
    "duration": 65,
    "start_time": "2021-08-06T19:59:20.244Z"
   },
   {
    "duration": 14,
    "start_time": "2021-08-06T19:59:20.312Z"
   },
   {
    "duration": 68,
    "start_time": "2021-08-06T19:59:20.329Z"
   },
   {
    "duration": 20,
    "start_time": "2021-08-06T19:59:20.400Z"
   },
   {
    "duration": 42,
    "start_time": "2021-08-06T19:59:20.422Z"
   },
   {
    "duration": 31,
    "start_time": "2021-08-06T19:59:20.467Z"
   },
   {
    "duration": 20,
    "start_time": "2021-08-06T19:59:20.501Z"
   },
   {
    "duration": 19,
    "start_time": "2021-08-06T19:59:24.184Z"
   },
   {
    "duration": 18,
    "start_time": "2021-08-06T20:14:40.677Z"
   },
   {
    "duration": 387,
    "start_time": "2021-08-06T20:16:31.968Z"
   },
   {
    "duration": 26,
    "start_time": "2021-08-06T20:16:37.201Z"
   },
   {
    "duration": 11,
    "start_time": "2021-08-06T21:05:09.381Z"
   },
   {
    "duration": 17,
    "start_time": "2021-08-06T21:45:32.225Z"
   },
   {
    "duration": 10,
    "start_time": "2021-08-06T22:03:40.998Z"
   },
   {
    "duration": 10,
    "start_time": "2021-08-06T23:47:05.353Z"
   },
   {
    "duration": 35,
    "start_time": "2021-08-06T23:51:31.513Z"
   },
   {
    "duration": 15,
    "start_time": "2021-08-06T23:53:07.470Z"
   },
   {
    "duration": 35,
    "start_time": "2021-08-06T23:53:21.409Z"
   },
   {
    "duration": 12,
    "start_time": "2021-08-07T00:20:27.168Z"
   },
   {
    "duration": 23,
    "start_time": "2021-08-07T00:21:02.396Z"
   },
   {
    "duration": 60,
    "start_time": "2021-08-07T00:33:44.122Z"
   },
   {
    "duration": 37,
    "start_time": "2021-08-07T00:33:55.590Z"
   },
   {
    "duration": 5,
    "start_time": "2021-08-07T01:41:36.792Z"
   },
   {
    "duration": 5,
    "start_time": "2021-08-07T01:42:56.622Z"
   },
   {
    "duration": 484,
    "start_time": "2021-08-07T01:46:07.571Z"
   },
   {
    "duration": 1340,
    "start_time": "2021-08-07T01:52:07.784Z"
   },
   {
    "duration": 68,
    "start_time": "2021-08-07T01:52:09.127Z"
   },
   {
    "duration": 14,
    "start_time": "2021-08-07T01:52:09.198Z"
   },
   {
    "duration": 72,
    "start_time": "2021-08-07T01:52:09.216Z"
   },
   {
    "duration": 18,
    "start_time": "2021-08-07T01:52:09.291Z"
   },
   {
    "duration": 51,
    "start_time": "2021-08-07T01:52:09.312Z"
   },
   {
    "duration": 34,
    "start_time": "2021-08-07T01:52:09.366Z"
   },
   {
    "duration": 19,
    "start_time": "2021-08-07T01:52:09.402Z"
   },
   {
    "duration": 40,
    "start_time": "2021-08-07T01:52:09.424Z"
   },
   {
    "duration": 25,
    "start_time": "2021-08-07T01:52:09.467Z"
   },
   {
    "duration": 9,
    "start_time": "2021-08-07T01:52:09.495Z"
   },
   {
    "duration": 11,
    "start_time": "2021-08-07T01:52:09.506Z"
   },
   {
    "duration": 47,
    "start_time": "2021-08-07T01:52:09.519Z"
   },
   {
    "duration": 15,
    "start_time": "2021-08-07T01:52:09.568Z"
   },
   {
    "duration": 35,
    "start_time": "2021-08-07T01:52:09.586Z"
   },
   {
    "duration": 5,
    "start_time": "2021-08-07T01:52:09.623Z"
   },
   {
    "duration": 656,
    "start_time": "2021-08-07T01:52:14.854Z"
   },
   {
    "duration": 5,
    "start_time": "2021-08-07T01:53:15.615Z"
   },
   {
    "duration": 563,
    "start_time": "2021-08-07T01:53:19.807Z"
   },
   {
    "duration": 6,
    "start_time": "2021-08-07T01:55:59.774Z"
   },
   {
    "duration": 468,
    "start_time": "2021-08-07T01:56:07.397Z"
   },
   {
    "duration": 11,
    "start_time": "2021-08-07T02:05:33.004Z"
   },
   {
    "duration": 36,
    "start_time": "2021-08-07T02:09:43.052Z"
   },
   {
    "duration": 19,
    "start_time": "2021-08-07T02:40:38.856Z"
   },
   {
    "duration": 966,
    "start_time": "2021-08-07T14:22:34.791Z"
   },
   {
    "duration": 46,
    "start_time": "2021-08-07T14:22:35.759Z"
   },
   {
    "duration": 9,
    "start_time": "2021-08-07T14:22:35.807Z"
   },
   {
    "duration": 32,
    "start_time": "2021-08-07T14:22:35.818Z"
   },
   {
    "duration": 12,
    "start_time": "2021-08-07T14:22:35.851Z"
   },
   {
    "duration": 35,
    "start_time": "2021-08-07T14:22:35.865Z"
   },
   {
    "duration": 19,
    "start_time": "2021-08-07T14:22:35.902Z"
   },
   {
    "duration": 9,
    "start_time": "2021-08-07T14:22:35.924Z"
   },
   {
    "duration": 12,
    "start_time": "2021-08-07T14:22:35.935Z"
   },
   {
    "duration": 16,
    "start_time": "2021-08-07T14:22:35.949Z"
   },
   {
    "duration": 27,
    "start_time": "2021-08-07T14:22:35.967Z"
   },
   {
    "duration": 11,
    "start_time": "2021-08-07T14:22:35.995Z"
   },
   {
    "duration": 9,
    "start_time": "2021-08-07T14:22:36.008Z"
   },
   {
    "duration": 11,
    "start_time": "2021-08-07T14:22:36.018Z"
   },
   {
    "duration": 28,
    "start_time": "2021-08-07T14:22:36.030Z"
   },
   {
    "duration": 3,
    "start_time": "2021-08-07T14:22:36.060Z"
   },
   {
    "duration": 262,
    "start_time": "2021-08-07T14:22:36.064Z"
   },
   {
    "duration": 7,
    "start_time": "2021-08-07T14:22:36.327Z"
   },
   {
    "duration": 23,
    "start_time": "2021-08-07T14:22:36.335Z"
   },
   {
    "duration": 12,
    "start_time": "2021-08-07T14:22:39.133Z"
   },
   {
    "duration": 13,
    "start_time": "2021-08-07T14:58:57.912Z"
   },
   {
    "duration": 4,
    "start_time": "2021-08-07T15:03:51.802Z"
   },
   {
    "duration": 281,
    "start_time": "2021-08-07T15:04:35.847Z"
   },
   {
    "duration": 283,
    "start_time": "2021-08-07T15:22:50.057Z"
   },
   {
    "duration": 20,
    "start_time": "2021-08-07T15:27:12.455Z"
   },
   {
    "duration": 9,
    "start_time": "2021-08-07T15:30:03.859Z"
   },
   {
    "duration": 351,
    "start_time": "2021-08-07T16:34:44.547Z"
   },
   {
    "duration": 7,
    "start_time": "2021-08-07T16:35:21.315Z"
   },
   {
    "duration": 8,
    "start_time": "2021-08-07T16:35:37.548Z"
   },
   {
    "duration": 86,
    "start_time": "2021-08-07T16:43:36.492Z"
   },
   {
    "duration": 93,
    "start_time": "2021-08-07T16:44:24.500Z"
   },
   {
    "duration": 575,
    "start_time": "2021-08-07T16:45:04.653Z"
   },
   {
    "duration": 276,
    "start_time": "2021-08-07T16:45:52.159Z"
   },
   {
    "duration": 43,
    "start_time": "2021-08-07T16:46:19.493Z"
   },
   {
    "duration": 241,
    "start_time": "2021-08-07T16:46:27.352Z"
   },
   {
    "duration": 22,
    "start_time": "2021-08-07T16:47:24.524Z"
   },
   {
    "duration": 698,
    "start_time": "2021-08-07T18:53:44.872Z"
   },
   {
    "duration": 240,
    "start_time": "2021-08-07T19:11:52.832Z"
   },
   {
    "duration": 958,
    "start_time": "2021-08-07T19:12:07.005Z"
   },
   {
    "duration": 48,
    "start_time": "2021-08-07T19:12:07.965Z"
   },
   {
    "duration": 10,
    "start_time": "2021-08-07T19:12:08.015Z"
   },
   {
    "duration": 26,
    "start_time": "2021-08-07T19:12:08.027Z"
   },
   {
    "duration": 11,
    "start_time": "2021-08-07T19:12:08.055Z"
   },
   {
    "duration": 39,
    "start_time": "2021-08-07T19:12:08.067Z"
   },
   {
    "duration": 18,
    "start_time": "2021-08-07T19:12:08.107Z"
   },
   {
    "duration": 13,
    "start_time": "2021-08-07T19:12:08.127Z"
   },
   {
    "duration": 11,
    "start_time": "2021-08-07T19:12:08.141Z"
   },
   {
    "duration": 16,
    "start_time": "2021-08-07T19:12:08.154Z"
   },
   {
    "duration": 23,
    "start_time": "2021-08-07T19:12:08.172Z"
   },
   {
    "duration": 7,
    "start_time": "2021-08-07T19:12:08.197Z"
   },
   {
    "duration": 8,
    "start_time": "2021-08-07T19:12:08.206Z"
   },
   {
    "duration": 9,
    "start_time": "2021-08-07T19:12:08.215Z"
   },
   {
    "duration": 23,
    "start_time": "2021-08-07T19:12:08.225Z"
   },
   {
    "duration": 43,
    "start_time": "2021-08-07T19:12:08.249Z"
   },
   {
    "duration": 260,
    "start_time": "2021-08-07T19:12:08.294Z"
   },
   {
    "duration": 6,
    "start_time": "2021-08-07T19:12:08.556Z"
   },
   {
    "duration": 32,
    "start_time": "2021-08-07T19:12:08.564Z"
   },
   {
    "duration": 12,
    "start_time": "2021-08-07T19:12:08.598Z"
   },
   {
    "duration": 12,
    "start_time": "2021-08-07T19:12:08.612Z"
   },
   {
    "duration": 4,
    "start_time": "2021-08-07T19:12:08.626Z"
   },
   {
    "duration": 285,
    "start_time": "2021-08-07T19:12:08.634Z"
   },
   {
    "duration": 9,
    "start_time": "2021-08-07T19:12:08.921Z"
   },
   {
    "duration": 37,
    "start_time": "2021-08-07T19:12:47.467Z"
   },
   {
    "duration": 83,
    "start_time": "2021-08-07T19:12:48.098Z"
   },
   {
    "duration": 108,
    "start_time": "2021-08-07T20:00:34.046Z"
   },
   {
    "duration": 189,
    "start_time": "2021-08-07T20:01:08.286Z"
   },
   {
    "duration": 82,
    "start_time": "2021-08-07T20:01:15.062Z"
   },
   {
    "duration": 5,
    "start_time": "2021-08-07T20:01:34.991Z"
   },
   {
    "duration": 545,
    "start_time": "2021-08-07T20:01:39.211Z"
   },
   {
    "duration": 39,
    "start_time": "2021-08-07T20:03:16.937Z"
   },
   {
    "duration": 5,
    "start_time": "2021-08-07T20:03:18.244Z"
   },
   {
    "duration": 538,
    "start_time": "2021-08-07T20:03:22.512Z"
   },
   {
    "duration": 14,
    "start_time": "2021-08-07T20:03:55.763Z"
   },
   {
    "duration": 17,
    "start_time": "2021-08-07T20:04:05.359Z"
   },
   {
    "duration": 22,
    "start_time": "2021-08-07T20:04:12.028Z"
   },
   {
    "duration": 20,
    "start_time": "2021-08-07T20:04:25.089Z"
   },
   {
    "duration": 9,
    "start_time": "2021-08-07T20:04:59.951Z"
   },
   {
    "duration": 471,
    "start_time": "2021-08-07T20:05:34.095Z"
   },
   {
    "duration": 5,
    "start_time": "2021-08-07T20:06:29.618Z"
   },
   {
    "duration": 241,
    "start_time": "2021-08-07T20:06:36.845Z"
   },
   {
    "duration": 244,
    "start_time": "2021-08-07T20:09:13.742Z"
   },
   {
    "duration": 6945,
    "start_time": "2021-08-07T20:10:31.420Z"
   },
   {
    "duration": 1009,
    "start_time": "2021-08-07T20:11:08.851Z"
   },
   {
    "duration": 44,
    "start_time": "2021-08-07T20:11:09.862Z"
   },
   {
    "duration": 9,
    "start_time": "2021-08-07T20:11:09.908Z"
   },
   {
    "duration": 29,
    "start_time": "2021-08-07T20:11:09.918Z"
   },
   {
    "duration": 10,
    "start_time": "2021-08-07T20:11:09.948Z"
   },
   {
    "duration": 21,
    "start_time": "2021-08-07T20:11:09.959Z"
   },
   {
    "duration": 26,
    "start_time": "2021-08-07T20:11:09.981Z"
   },
   {
    "duration": 11,
    "start_time": "2021-08-07T20:11:10.009Z"
   },
   {
    "duration": 10,
    "start_time": "2021-08-07T20:11:10.022Z"
   },
   {
    "duration": 19,
    "start_time": "2021-08-07T20:11:10.034Z"
   },
   {
    "duration": 6,
    "start_time": "2021-08-07T20:11:10.054Z"
   },
   {
    "duration": 30,
    "start_time": "2021-08-07T20:11:10.062Z"
   },
   {
    "duration": 6,
    "start_time": "2021-08-07T20:11:10.093Z"
   },
   {
    "duration": 9,
    "start_time": "2021-08-07T20:11:10.100Z"
   },
   {
    "duration": 31,
    "start_time": "2021-08-07T20:11:10.111Z"
   },
   {
    "duration": 3,
    "start_time": "2021-08-07T20:11:10.143Z"
   },
   {
    "duration": 260,
    "start_time": "2021-08-07T20:11:10.148Z"
   },
   {
    "duration": 6,
    "start_time": "2021-08-07T20:11:10.410Z"
   },
   {
    "duration": 20,
    "start_time": "2021-08-07T20:11:10.417Z"
   },
   {
    "duration": 10,
    "start_time": "2021-08-07T20:11:10.439Z"
   },
   {
    "duration": 10,
    "start_time": "2021-08-07T20:11:10.451Z"
   },
   {
    "duration": 28,
    "start_time": "2021-08-07T20:11:10.463Z"
   },
   {
    "duration": 263,
    "start_time": "2021-08-07T20:11:10.494Z"
   },
   {
    "duration": 8,
    "start_time": "2021-08-07T20:11:10.758Z"
   },
   {
    "duration": 46,
    "start_time": "2021-08-07T20:11:10.768Z"
   },
   {
    "duration": 4,
    "start_time": "2021-08-07T20:11:10.816Z"
   },
   {
    "duration": 261,
    "start_time": "2021-08-07T20:11:10.821Z"
   },
   {
    "duration": 5948,
    "start_time": "2021-08-07T20:17:24.401Z"
   },
   {
    "duration": 12,
    "start_time": "2021-08-07T20:17:45.883Z"
   },
   {
    "duration": 10,
    "start_time": "2021-08-07T20:18:02.422Z"
   },
   {
    "duration": 8,
    "start_time": "2021-08-07T20:32:44.058Z"
   },
   {
    "duration": 10,
    "start_time": "2021-08-08T00:13:35.035Z"
   },
   {
    "duration": 7,
    "start_time": "2021-08-08T00:14:17.845Z"
   },
   {
    "duration": 10,
    "start_time": "2021-08-08T00:14:39.953Z"
   },
   {
    "duration": 4,
    "start_time": "2021-08-08T02:17:06.001Z"
   },
   {
    "duration": 13,
    "start_time": "2021-08-08T02:17:15.184Z"
   },
   {
    "duration": 12,
    "start_time": "2021-08-08T02:37:10.153Z"
   },
   {
    "duration": 974,
    "start_time": "2021-08-08T02:37:26.905Z"
   },
   {
    "duration": 46,
    "start_time": "2021-08-08T02:37:27.881Z"
   },
   {
    "duration": 9,
    "start_time": "2021-08-08T02:37:27.928Z"
   },
   {
    "duration": 29,
    "start_time": "2021-08-08T02:37:27.938Z"
   },
   {
    "duration": 10,
    "start_time": "2021-08-08T02:37:27.969Z"
   },
   {
    "duration": 16,
    "start_time": "2021-08-08T02:37:27.991Z"
   },
   {
    "duration": 16,
    "start_time": "2021-08-08T02:37:28.009Z"
   },
   {
    "duration": 11,
    "start_time": "2021-08-08T02:37:28.027Z"
   },
   {
    "duration": 10,
    "start_time": "2021-08-08T02:37:28.040Z"
   },
   {
    "duration": 16,
    "start_time": "2021-08-08T02:37:28.051Z"
   },
   {
    "duration": 26,
    "start_time": "2021-08-08T02:37:28.069Z"
   },
   {
    "duration": 7,
    "start_time": "2021-08-08T02:37:28.097Z"
   },
   {
    "duration": 8,
    "start_time": "2021-08-08T02:37:28.105Z"
   },
   {
    "duration": 9,
    "start_time": "2021-08-08T02:37:28.115Z"
   },
   {
    "duration": 22,
    "start_time": "2021-08-08T02:37:28.126Z"
   },
   {
    "duration": 3,
    "start_time": "2021-08-08T02:37:28.150Z"
   },
   {
    "duration": 268,
    "start_time": "2021-08-08T02:37:28.154Z"
   },
   {
    "duration": 6,
    "start_time": "2021-08-08T02:37:28.424Z"
   },
   {
    "duration": 24,
    "start_time": "2021-08-08T02:37:28.431Z"
   },
   {
    "duration": 10,
    "start_time": "2021-08-08T02:37:28.457Z"
   },
   {
    "duration": 23,
    "start_time": "2021-08-08T02:37:28.469Z"
   },
   {
    "duration": 3,
    "start_time": "2021-08-08T02:37:28.493Z"
   },
   {
    "duration": 257,
    "start_time": "2021-08-08T02:37:28.498Z"
   },
   {
    "duration": 19,
    "start_time": "2021-08-08T02:37:28.756Z"
   },
   {
    "duration": 8,
    "start_time": "2021-08-08T02:38:11.160Z"
   },
   {
    "duration": 38,
    "start_time": "2021-08-08T02:38:14.446Z"
   },
   {
    "duration": 20,
    "start_time": "2021-08-08T02:38:15.209Z"
   },
   {
    "duration": 245,
    "start_time": "2021-08-08T02:38:16.078Z"
   },
   {
    "duration": 10,
    "start_time": "2021-08-08T02:38:16.995Z"
   },
   {
    "duration": 15,
    "start_time": "2021-08-08T02:38:18.864Z"
   },
   {
    "duration": 25,
    "start_time": "2021-08-08T02:39:51.279Z"
   },
   {
    "duration": 296,
    "start_time": "2021-08-08T02:45:22.591Z"
   },
   {
    "duration": 3,
    "start_time": "2021-08-08T02:46:59.734Z"
   },
   {
    "duration": 8,
    "start_time": "2021-08-08T02:47:44.614Z"
   },
   {
    "duration": 13,
    "start_time": "2021-08-08T02:48:25.317Z"
   },
   {
    "duration": 13,
    "start_time": "2021-08-08T02:49:15.162Z"
   },
   {
    "duration": 15,
    "start_time": "2021-08-08T02:49:21.997Z"
   },
   {
    "duration": 14,
    "start_time": "2021-08-08T02:50:53.657Z"
   },
   {
    "duration": 15,
    "start_time": "2021-08-08T02:52:24.628Z"
   },
   {
    "duration": 5,
    "start_time": "2021-08-08T02:55:42.328Z"
   },
   {
    "duration": 15,
    "start_time": "2021-08-08T02:56:16.134Z"
   },
   {
    "duration": 17,
    "start_time": "2021-08-08T03:01:35.163Z"
   },
   {
    "duration": 16,
    "start_time": "2021-08-08T03:04:08.811Z"
   },
   {
    "duration": 992,
    "start_time": "2021-08-08T03:04:26.227Z"
   },
   {
    "duration": 47,
    "start_time": "2021-08-08T03:04:27.221Z"
   },
   {
    "duration": 8,
    "start_time": "2021-08-08T03:04:27.270Z"
   },
   {
    "duration": 33,
    "start_time": "2021-08-08T03:04:27.280Z"
   },
   {
    "duration": 10,
    "start_time": "2021-08-08T03:04:27.315Z"
   },
   {
    "duration": 17,
    "start_time": "2021-08-08T03:04:27.327Z"
   },
   {
    "duration": 17,
    "start_time": "2021-08-08T03:04:27.346Z"
   },
   {
    "duration": 9,
    "start_time": "2021-08-08T03:04:27.393Z"
   },
   {
    "duration": 11,
    "start_time": "2021-08-08T03:04:27.404Z"
   },
   {
    "duration": 18,
    "start_time": "2021-08-08T03:04:27.417Z"
   },
   {
    "duration": 12,
    "start_time": "2021-08-08T03:04:27.436Z"
   },
   {
    "duration": 11,
    "start_time": "2021-08-08T03:04:27.450Z"
   },
   {
    "duration": 35,
    "start_time": "2021-08-08T03:04:27.462Z"
   },
   {
    "duration": 11,
    "start_time": "2021-08-08T03:04:27.498Z"
   },
   {
    "duration": 23,
    "start_time": "2021-08-08T03:04:27.510Z"
   },
   {
    "duration": 3,
    "start_time": "2021-08-08T03:04:27.535Z"
   },
   {
    "duration": 281,
    "start_time": "2021-08-08T03:04:27.539Z"
   },
   {
    "duration": 6,
    "start_time": "2021-08-08T03:04:27.822Z"
   },
   {
    "duration": 22,
    "start_time": "2021-08-08T03:04:27.829Z"
   },
   {
    "duration": 11,
    "start_time": "2021-08-08T03:04:27.852Z"
   },
   {
    "duration": 32,
    "start_time": "2021-08-08T03:04:27.864Z"
   },
   {
    "duration": 3,
    "start_time": "2021-08-08T03:04:27.898Z"
   },
   {
    "duration": 267,
    "start_time": "2021-08-08T03:04:27.903Z"
   },
   {
    "duration": 7,
    "start_time": "2021-08-08T03:04:28.172Z"
   },
   {
    "duration": 46,
    "start_time": "2021-08-08T03:04:28.181Z"
   },
   {
    "duration": 5,
    "start_time": "2021-08-08T03:04:28.229Z"
   },
   {
    "duration": 263,
    "start_time": "2021-08-08T03:04:28.236Z"
   },
   {
    "duration": 9,
    "start_time": "2021-08-08T03:04:28.501Z"
   },
   {
    "duration": 13,
    "start_time": "2021-08-08T03:04:28.512Z"
   },
   {
    "duration": 13,
    "start_time": "2021-08-08T03:04:28.526Z"
   },
   {
    "duration": 15,
    "start_time": "2021-08-08T03:04:28.540Z"
   },
   {
    "duration": 16,
    "start_time": "2021-08-08T03:04:33.755Z"
   },
   {
    "duration": 1102,
    "start_time": "2021-08-08T03:07:28.965Z"
   },
   {
    "duration": 49,
    "start_time": "2021-08-08T03:07:30.069Z"
   },
   {
    "duration": 10,
    "start_time": "2021-08-08T03:07:30.120Z"
   },
   {
    "duration": 25,
    "start_time": "2021-08-08T03:07:30.132Z"
   },
   {
    "duration": 37,
    "start_time": "2021-08-08T03:07:30.159Z"
   },
   {
    "duration": 30,
    "start_time": "2021-08-08T03:07:30.198Z"
   },
   {
    "duration": 31,
    "start_time": "2021-08-08T03:07:30.230Z"
   },
   {
    "duration": 41,
    "start_time": "2021-08-08T03:07:30.264Z"
   },
   {
    "duration": 17,
    "start_time": "2021-08-08T03:07:30.309Z"
   },
   {
    "duration": 24,
    "start_time": "2021-08-08T03:07:30.328Z"
   },
   {
    "duration": 10,
    "start_time": "2021-08-08T03:07:30.353Z"
   },
   {
    "duration": 31,
    "start_time": "2021-08-08T03:07:30.365Z"
   },
   {
    "duration": 14,
    "start_time": "2021-08-08T03:07:30.398Z"
   },
   {
    "duration": 20,
    "start_time": "2021-08-08T03:07:30.414Z"
   },
   {
    "duration": 29,
    "start_time": "2021-08-08T03:07:30.436Z"
   },
   {
    "duration": 4,
    "start_time": "2021-08-08T03:07:30.466Z"
   },
   {
    "duration": 257,
    "start_time": "2021-08-08T03:07:30.471Z"
   },
   {
    "duration": 9,
    "start_time": "2021-08-08T03:07:30.731Z"
   },
   {
    "duration": 35,
    "start_time": "2021-08-08T03:07:30.742Z"
   },
   {
    "duration": 26,
    "start_time": "2021-08-08T03:07:30.779Z"
   },
   {
    "duration": 33,
    "start_time": "2021-08-08T03:07:30.807Z"
   },
   {
    "duration": 18,
    "start_time": "2021-08-08T03:07:30.842Z"
   },
   {
    "duration": 276,
    "start_time": "2021-08-08T03:07:30.863Z"
   },
   {
    "duration": 11,
    "start_time": "2021-08-08T03:07:31.142Z"
   },
   {
    "duration": 64,
    "start_time": "2021-08-08T03:07:31.155Z"
   },
   {
    "duration": 6,
    "start_time": "2021-08-08T03:07:31.221Z"
   },
   {
    "duration": 271,
    "start_time": "2021-08-08T03:07:31.229Z"
   },
   {
    "duration": 12,
    "start_time": "2021-08-08T03:07:31.502Z"
   },
   {
    "duration": 20,
    "start_time": "2021-08-08T03:07:31.516Z"
   },
   {
    "duration": 15,
    "start_time": "2021-08-08T03:07:31.538Z"
   },
   {
    "duration": 47,
    "start_time": "2021-08-08T03:07:31.555Z"
   },
   {
    "duration": 27,
    "start_time": "2021-08-08T03:07:34.999Z"
   },
   {
    "duration": 18,
    "start_time": "2021-08-08T03:12:53.151Z"
   },
   {
    "duration": 24,
    "start_time": "2021-08-08T03:14:26.254Z"
   },
   {
    "duration": 22,
    "start_time": "2021-08-08T03:15:38.912Z"
   },
   {
    "duration": 13,
    "start_time": "2021-08-08T03:15:51.409Z"
   },
   {
    "duration": 1822,
    "start_time": "2021-08-08T11:35:15.319Z"
   },
   {
    "duration": 66,
    "start_time": "2021-08-08T11:35:17.144Z"
   },
   {
    "duration": 14,
    "start_time": "2021-08-08T11:35:17.213Z"
   },
   {
    "duration": 69,
    "start_time": "2021-08-08T11:35:17.230Z"
   },
   {
    "duration": 20,
    "start_time": "2021-08-08T11:35:17.302Z"
   },
   {
    "duration": 48,
    "start_time": "2021-08-08T11:35:17.324Z"
   },
   {
    "duration": 31,
    "start_time": "2021-08-08T11:35:17.374Z"
   },
   {
    "duration": 16,
    "start_time": "2021-08-08T11:35:17.409Z"
   },
   {
    "duration": 42,
    "start_time": "2021-08-08T11:35:17.428Z"
   },
   {
    "duration": 31,
    "start_time": "2021-08-08T11:35:17.473Z"
   },
   {
    "duration": 10,
    "start_time": "2021-08-08T11:35:17.507Z"
   },
   {
    "duration": 21,
    "start_time": "2021-08-08T11:35:17.519Z"
   },
   {
    "duration": 15,
    "start_time": "2021-08-08T11:35:17.563Z"
   },
   {
    "duration": 17,
    "start_time": "2021-08-08T11:35:17.581Z"
   },
   {
    "duration": 41,
    "start_time": "2021-08-08T11:35:17.601Z"
   },
   {
    "duration": 5,
    "start_time": "2021-08-08T11:35:17.662Z"
   },
   {
    "duration": 507,
    "start_time": "2021-08-08T11:35:17.670Z"
   },
   {
    "duration": 10,
    "start_time": "2021-08-08T11:35:18.179Z"
   },
   {
    "duration": 41,
    "start_time": "2021-08-08T11:35:18.191Z"
   },
   {
    "duration": 39,
    "start_time": "2021-08-08T11:35:18.235Z"
   },
   {
    "duration": 21,
    "start_time": "2021-08-08T11:35:18.277Z"
   },
   {
    "duration": 5,
    "start_time": "2021-08-08T11:35:18.300Z"
   },
   {
    "duration": 523,
    "start_time": "2021-08-08T11:35:18.310Z"
   },
   {
    "duration": 12,
    "start_time": "2021-08-08T11:35:18.836Z"
   },
   {
    "duration": 64,
    "start_time": "2021-08-08T11:35:18.861Z"
   },
   {
    "duration": 8,
    "start_time": "2021-08-08T11:35:18.928Z"
   },
   {
    "duration": 513,
    "start_time": "2021-08-08T11:35:18.940Z"
   },
   {
    "duration": 17,
    "start_time": "2021-08-08T11:35:19.456Z"
   },
   {
    "duration": 65,
    "start_time": "2021-08-08T11:35:19.476Z"
   },
   {
    "duration": 44,
    "start_time": "2021-08-08T11:35:19.544Z"
   },
   {
    "duration": 31,
    "start_time": "2021-08-08T11:35:19.591Z"
   },
   {
    "duration": 15,
    "start_time": "2021-08-08T11:35:19.625Z"
   },
   {
    "duration": 20,
    "start_time": "2021-08-08T12:51:33.977Z"
   },
   {
    "duration": 390,
    "start_time": "2021-08-08T12:52:16.893Z"
   },
   {
    "duration": 21,
    "start_time": "2021-08-08T12:53:01.599Z"
   },
   {
    "duration": 592,
    "start_time": "2021-08-08T13:04:15.611Z"
   },
   {
    "duration": 404,
    "start_time": "2021-08-08T14:34:34.335Z"
   },
   {
    "duration": 32,
    "start_time": "2021-08-08T14:34:41.067Z"
   },
   {
    "duration": 33,
    "start_time": "2021-08-08T14:35:22.904Z"
   },
   {
    "duration": 29,
    "start_time": "2021-08-08T14:36:08.398Z"
   },
   {
    "duration": 4862,
    "start_time": "2021-08-08T14:40:06.346Z"
   },
   {
    "duration": 4701,
    "start_time": "2021-08-08T14:42:18.103Z"
   },
   {
    "duration": 19,
    "start_time": "2021-08-08T14:42:28.086Z"
   },
   {
    "duration": 65,
    "start_time": "2021-08-08T14:44:21.845Z"
   },
   {
    "duration": 334,
    "start_time": "2021-08-08T14:47:04.235Z"
   },
   {
    "duration": 291,
    "start_time": "2021-08-08T14:47:23.707Z"
   },
   {
    "duration": 67,
    "start_time": "2021-08-08T14:48:10.166Z"
   },
   {
    "duration": 567,
    "start_time": "2021-08-08T14:50:57.103Z"
   },
   {
    "duration": 826,
    "start_time": "2021-08-08T14:52:40.544Z"
   },
   {
    "duration": 802,
    "start_time": "2021-08-08T14:52:52.621Z"
   },
   {
    "duration": 10,
    "start_time": "2021-08-08T15:35:03.395Z"
   },
   {
    "duration": 923,
    "start_time": "2021-08-08T15:40:13.202Z"
   },
   {
    "duration": 68,
    "start_time": "2021-08-08T15:47:45.307Z"
   },
   {
    "duration": 1086,
    "start_time": "2021-08-08T15:47:51.657Z"
   },
   {
    "duration": 27,
    "start_time": "2021-08-08T15:49:04.111Z"
   },
   {
    "duration": 74,
    "start_time": "2021-08-08T15:49:22.777Z"
   },
   {
    "duration": 60,
    "start_time": "2021-08-08T17:01:44.092Z"
   },
   {
    "duration": 37,
    "start_time": "2021-08-08T17:02:53.122Z"
   },
   {
    "duration": 9,
    "start_time": "2021-08-08T17:06:01.102Z"
   },
   {
    "duration": 11,
    "start_time": "2021-08-08T17:06:07.026Z"
   },
   {
    "duration": 11,
    "start_time": "2021-08-08T17:06:28.871Z"
   },
   {
    "duration": 11,
    "start_time": "2021-08-08T17:06:46.068Z"
   },
   {
    "duration": 20,
    "start_time": "2021-08-08T17:11:09.609Z"
   },
   {
    "duration": 24,
    "start_time": "2021-08-08T17:14:26.480Z"
   },
   {
    "duration": 26,
    "start_time": "2021-08-08T17:15:03.476Z"
   },
   {
    "duration": 972,
    "start_time": "2021-08-08T18:43:54.768Z"
   },
   {
    "duration": 36,
    "start_time": "2021-08-08T21:51:49.547Z"
   },
   {
    "duration": 36,
    "start_time": "2021-08-08T21:51:59.527Z"
   },
   {
    "duration": 18,
    "start_time": "2021-08-08T21:53:07.165Z"
   },
   {
    "duration": 737,
    "start_time": "2021-08-08T22:00:17.025Z"
   },
   {
    "duration": 11,
    "start_time": "2021-08-08T22:03:35.102Z"
   },
   {
    "duration": 23,
    "start_time": "2021-08-08T22:10:18.979Z"
   },
   {
    "duration": 716,
    "start_time": "2021-08-08T22:10:31.326Z"
   },
   {
    "duration": 561,
    "start_time": "2021-08-08T22:33:09.658Z"
   },
   {
    "duration": 1507,
    "start_time": "2021-08-08T23:18:21.396Z"
   },
   {
    "duration": 70,
    "start_time": "2021-08-08T23:18:22.906Z"
   },
   {
    "duration": 15,
    "start_time": "2021-08-08T23:18:22.980Z"
   },
   {
    "duration": 74,
    "start_time": "2021-08-08T23:18:22.998Z"
   },
   {
    "duration": 20,
    "start_time": "2021-08-08T23:18:23.075Z"
   },
   {
    "duration": 27,
    "start_time": "2021-08-08T23:18:23.098Z"
   },
   {
    "duration": 56,
    "start_time": "2021-08-08T23:18:23.127Z"
   },
   {
    "duration": 15,
    "start_time": "2021-08-08T23:18:23.185Z"
   },
   {
    "duration": 18,
    "start_time": "2021-08-08T23:18:23.204Z"
   },
   {
    "duration": 58,
    "start_time": "2021-08-08T23:18:23.225Z"
   },
   {
    "duration": 13,
    "start_time": "2021-08-08T23:18:23.286Z"
   },
   {
    "duration": 11,
    "start_time": "2021-08-08T23:18:23.301Z"
   },
   {
    "duration": 14,
    "start_time": "2021-08-08T23:18:23.315Z"
   },
   {
    "duration": 46,
    "start_time": "2021-08-08T23:18:23.332Z"
   },
   {
    "duration": 56,
    "start_time": "2021-08-08T23:18:23.382Z"
   },
   {
    "duration": 6,
    "start_time": "2021-08-08T23:18:23.461Z"
   },
   {
    "duration": 500,
    "start_time": "2021-08-08T23:18:23.469Z"
   },
   {
    "duration": 9,
    "start_time": "2021-08-08T23:18:23.972Z"
   },
   {
    "duration": 36,
    "start_time": "2021-08-08T23:18:23.984Z"
   },
   {
    "duration": 46,
    "start_time": "2021-08-08T23:18:24.022Z"
   },
   {
    "duration": 19,
    "start_time": "2021-08-08T23:18:24.071Z"
   },
   {
    "duration": 8,
    "start_time": "2021-08-08T23:18:24.092Z"
   },
   {
    "duration": 507,
    "start_time": "2021-08-08T23:18:24.102Z"
   },
   {
    "duration": 13,
    "start_time": "2021-08-08T23:18:24.612Z"
   },
   {
    "duration": 84,
    "start_time": "2021-08-08T23:18:24.628Z"
   },
   {
    "duration": 8,
    "start_time": "2021-08-08T23:18:24.714Z"
   },
   {
    "duration": 485,
    "start_time": "2021-08-08T23:18:24.726Z"
   },
   {
    "duration": 13,
    "start_time": "2021-08-08T23:18:25.214Z"
   },
   {
    "duration": 43,
    "start_time": "2021-08-08T23:18:25.229Z"
   },
   {
    "duration": 20,
    "start_time": "2021-08-08T23:18:25.275Z"
   },
   {
    "duration": 25,
    "start_time": "2021-08-08T23:18:25.297Z"
   },
   {
    "duration": 44,
    "start_time": "2021-08-08T23:18:25.325Z"
   },
   {
    "duration": 571,
    "start_time": "2021-08-08T23:18:25.371Z"
   },
   {
    "duration": 20,
    "start_time": "2021-08-08T23:18:25.944Z"
   },
   {
    "duration": 67,
    "start_time": "2021-08-08T23:18:25.966Z"
   },
   {
    "duration": 959,
    "start_time": "2021-08-08T23:18:26.035Z"
   },
   {
    "duration": 27,
    "start_time": "2021-08-08T23:18:26.997Z"
   },
   {
    "duration": 55,
    "start_time": "2021-08-08T23:18:27.027Z"
   },
   {
    "duration": 821,
    "start_time": "2021-08-08T23:18:27.084Z"
   },
   {
    "duration": 14,
    "start_time": "2021-08-08T23:18:27.909Z"
   },
   {
    "duration": 847,
    "start_time": "2021-08-08T23:18:27.925Z"
   },
   {
    "duration": 8,
    "start_time": "2021-08-08T23:18:28.775Z"
   },
   {
    "duration": 1785,
    "start_time": "2021-08-08T23:20:02.267Z"
   },
   {
    "duration": 95,
    "start_time": "2021-08-08T23:20:04.056Z"
   },
   {
    "duration": 22,
    "start_time": "2021-08-08T23:20:04.156Z"
   },
   {
    "duration": 87,
    "start_time": "2021-08-08T23:20:04.182Z"
   },
   {
    "duration": 30,
    "start_time": "2021-08-08T23:20:04.273Z"
   },
   {
    "duration": 58,
    "start_time": "2021-08-08T23:20:04.307Z"
   },
   {
    "duration": 35,
    "start_time": "2021-08-08T23:20:04.369Z"
   },
   {
    "duration": 24,
    "start_time": "2021-08-08T23:20:04.406Z"
   },
   {
    "duration": 39,
    "start_time": "2021-08-08T23:20:04.434Z"
   },
   {
    "duration": 28,
    "start_time": "2021-08-08T23:20:04.476Z"
   },
   {
    "duration": 14,
    "start_time": "2021-08-08T23:20:04.506Z"
   },
   {
    "duration": 41,
    "start_time": "2021-08-08T23:20:04.522Z"
   },
   {
    "duration": 18,
    "start_time": "2021-08-08T23:20:04.565Z"
   },
   {
    "duration": 15,
    "start_time": "2021-08-08T23:20:04.585Z"
   },
   {
    "duration": 39,
    "start_time": "2021-08-08T23:20:04.603Z"
   },
   {
    "duration": 5,
    "start_time": "2021-08-08T23:20:04.661Z"
   },
   {
    "duration": 479,
    "start_time": "2021-08-08T23:20:04.669Z"
   },
   {
    "duration": 19,
    "start_time": "2021-08-08T23:20:05.151Z"
   },
   {
    "duration": 57,
    "start_time": "2021-08-08T23:20:05.172Z"
   },
   {
    "duration": 17,
    "start_time": "2021-08-08T23:20:05.232Z"
   },
   {
    "duration": 31,
    "start_time": "2021-08-08T23:20:05.251Z"
   },
   {
    "duration": 12,
    "start_time": "2021-08-08T23:20:05.285Z"
   },
   {
    "duration": 486,
    "start_time": "2021-08-08T23:20:05.299Z"
   },
   {
    "duration": 13,
    "start_time": "2021-08-08T23:20:05.787Z"
   },
   {
    "duration": 84,
    "start_time": "2021-08-08T23:20:05.803Z"
   },
   {
    "duration": 9,
    "start_time": "2021-08-08T23:20:05.890Z"
   },
   {
    "duration": 488,
    "start_time": "2021-08-08T23:20:05.904Z"
   },
   {
    "duration": 14,
    "start_time": "2021-08-08T23:20:06.395Z"
   },
   {
    "duration": 31,
    "start_time": "2021-08-08T23:20:06.412Z"
   },
   {
    "duration": 35,
    "start_time": "2021-08-08T23:20:06.446Z"
   },
   {
    "duration": 44,
    "start_time": "2021-08-08T23:20:06.484Z"
   },
   {
    "duration": 48,
    "start_time": "2021-08-08T23:20:06.532Z"
   },
   {
    "duration": 953,
    "start_time": "2021-08-08T23:20:06.583Z"
   },
   {
    "duration": 25,
    "start_time": "2021-08-08T23:20:07.539Z"
   },
   {
    "duration": 126,
    "start_time": "2021-08-08T23:20:07.567Z"
   },
   {
    "duration": 1425,
    "start_time": "2021-08-08T23:20:07.696Z"
   },
   {
    "duration": 52,
    "start_time": "2021-08-08T23:20:09.125Z"
   },
   {
    "duration": 32,
    "start_time": "2021-08-08T23:20:09.181Z"
   },
   {
    "duration": 1080,
    "start_time": "2021-08-08T23:20:09.216Z"
   },
   {
    "duration": 13,
    "start_time": "2021-08-08T23:20:10.298Z"
   },
   {
    "duration": 771,
    "start_time": "2021-08-08T23:20:10.314Z"
   },
   {
    "duration": 9,
    "start_time": "2021-08-08T23:20:17.100Z"
   },
   {
    "duration": 605,
    "start_time": "2021-08-08T23:25:01.789Z"
   },
   {
    "duration": 637,
    "start_time": "2021-08-08T23:27:40.925Z"
   },
   {
    "duration": 522,
    "start_time": "2021-08-08T23:27:48.005Z"
   },
   {
    "duration": 542,
    "start_time": "2021-08-08T23:30:00.424Z"
   },
   {
    "duration": 537,
    "start_time": "2021-08-08T23:32:37.764Z"
   },
   {
    "duration": 529,
    "start_time": "2021-08-08T23:32:48.727Z"
   },
   {
    "duration": 30,
    "start_time": "2021-08-08T23:47:22.701Z"
   },
   {
    "duration": 22,
    "start_time": "2021-08-08T23:48:01.786Z"
   },
   {
    "duration": 265,
    "start_time": "2021-08-08T23:52:37.322Z"
   },
   {
    "duration": 290,
    "start_time": "2021-08-08T23:53:00.957Z"
   },
   {
    "duration": 280,
    "start_time": "2021-08-08T23:53:07.519Z"
   },
   {
    "duration": 28,
    "start_time": "2021-08-08T23:53:13.627Z"
   },
   {
    "duration": 31,
    "start_time": "2021-08-08T23:53:38.261Z"
   },
   {
    "duration": 263,
    "start_time": "2021-08-08T23:59:51.503Z"
   },
   {
    "duration": 294,
    "start_time": "2021-08-09T00:00:27.625Z"
   },
   {
    "duration": 318,
    "start_time": "2021-08-09T00:01:40.399Z"
   },
   {
    "duration": 317,
    "start_time": "2021-08-09T00:01:56.160Z"
   },
   {
    "duration": 309,
    "start_time": "2021-08-09T00:02:25.729Z"
   },
   {
    "duration": 21,
    "start_time": "2021-08-09T00:02:36.199Z"
   },
   {
    "duration": 7,
    "start_time": "2021-08-09T00:03:32.386Z"
   },
   {
    "duration": 24,
    "start_time": "2021-08-09T00:03:40.305Z"
   },
   {
    "duration": 23,
    "start_time": "2021-08-09T00:03:54.215Z"
   },
   {
    "duration": 23,
    "start_time": "2021-08-09T00:04:45.401Z"
   },
   {
    "duration": 2949,
    "start_time": "2021-08-09T00:05:45.426Z"
   },
   {
    "duration": 1953,
    "start_time": "2021-08-09T14:31:58.415Z"
   },
   {
    "duration": 73,
    "start_time": "2021-08-09T14:32:00.371Z"
   },
   {
    "duration": 20,
    "start_time": "2021-08-09T14:32:00.448Z"
   },
   {
    "duration": 47,
    "start_time": "2021-08-09T14:32:00.471Z"
   },
   {
    "duration": 50,
    "start_time": "2021-08-09T14:32:00.521Z"
   },
   {
    "duration": 30,
    "start_time": "2021-08-09T14:32:00.574Z"
   },
   {
    "duration": 67,
    "start_time": "2021-08-09T14:32:00.608Z"
   },
   {
    "duration": 15,
    "start_time": "2021-08-09T14:32:00.677Z"
   },
   {
    "duration": 25,
    "start_time": "2021-08-09T14:32:00.697Z"
   },
   {
    "duration": 61,
    "start_time": "2021-08-09T14:32:00.725Z"
   },
   {
    "duration": 12,
    "start_time": "2021-08-09T14:32:00.789Z"
   },
   {
    "duration": 51,
    "start_time": "2021-08-09T14:32:00.803Z"
   },
   {
    "duration": 10,
    "start_time": "2021-08-09T14:32:00.857Z"
   },
   {
    "duration": 19,
    "start_time": "2021-08-09T14:32:00.870Z"
   },
   {
    "duration": 74,
    "start_time": "2021-08-09T14:32:00.892Z"
   },
   {
    "duration": 5,
    "start_time": "2021-08-09T14:32:00.968Z"
   },
   {
    "duration": 494,
    "start_time": "2021-08-09T14:32:00.975Z"
   },
   {
    "duration": 12,
    "start_time": "2021-08-09T14:32:01.472Z"
   },
   {
    "duration": 69,
    "start_time": "2021-08-09T14:32:01.487Z"
   },
   {
    "duration": 18,
    "start_time": "2021-08-09T14:32:01.560Z"
   },
   {
    "duration": 21,
    "start_time": "2021-08-09T14:32:01.581Z"
   },
   {
    "duration": 5,
    "start_time": "2021-08-09T14:32:01.605Z"
   },
   {
    "duration": 505,
    "start_time": "2021-08-09T14:32:01.656Z"
   },
   {
    "duration": 14,
    "start_time": "2021-08-09T14:32:02.163Z"
   },
   {
    "duration": 103,
    "start_time": "2021-08-09T14:32:02.180Z"
   },
   {
    "duration": 7,
    "start_time": "2021-08-09T14:32:02.286Z"
   },
   {
    "duration": 489,
    "start_time": "2021-08-09T14:32:02.299Z"
   },
   {
    "duration": 14,
    "start_time": "2021-08-09T14:32:02.791Z"
   },
   {
    "duration": 48,
    "start_time": "2021-08-09T14:32:02.808Z"
   },
   {
    "duration": 23,
    "start_time": "2021-08-09T14:32:02.859Z"
   },
   {
    "duration": 27,
    "start_time": "2021-08-09T14:32:02.885Z"
   },
   {
    "duration": 18,
    "start_time": "2021-08-09T14:32:02.954Z"
   },
   {
    "duration": 581,
    "start_time": "2021-08-09T14:32:02.974Z"
   },
   {
    "duration": 10,
    "start_time": "2021-08-09T14:32:03.557Z"
   },
   {
    "duration": 29,
    "start_time": "2021-08-09T14:32:03.570Z"
   },
   {
    "duration": 953,
    "start_time": "2021-08-09T14:32:03.602Z"
   },
   {
    "duration": 24,
    "start_time": "2021-08-09T14:32:04.558Z"
   },
   {
    "duration": 22,
    "start_time": "2021-08-09T14:32:04.584Z"
   },
   {
    "duration": 774,
    "start_time": "2021-08-09T14:32:04.609Z"
   },
   {
    "duration": 14,
    "start_time": "2021-08-09T14:32:05.386Z"
   },
   {
    "duration": 796,
    "start_time": "2021-08-09T14:32:05.403Z"
   },
   {
    "duration": 9,
    "start_time": "2021-08-09T14:32:06.202Z"
   },
   {
    "duration": 642,
    "start_time": "2021-08-09T14:32:06.214Z"
   },
   {
    "duration": 28,
    "start_time": "2021-08-09T14:32:06.858Z"
   },
   {
    "duration": 25,
    "start_time": "2021-08-09T14:32:06.889Z"
   },
   {
    "duration": 2744,
    "start_time": "2021-08-09T14:32:06.916Z"
   },
   {
    "duration": 27,
    "start_time": "2021-08-09T14:36:48.803Z"
   },
   {
    "duration": 26,
    "start_time": "2021-08-09T14:37:10.388Z"
   },
   {
    "duration": 23,
    "start_time": "2021-08-09T14:40:40.447Z"
   },
   {
    "duration": 25,
    "start_time": "2021-08-09T14:43:03.815Z"
   },
   {
    "duration": 26,
    "start_time": "2021-08-09T14:44:03.035Z"
   },
   {
    "duration": 419,
    "start_time": "2021-08-09T14:48:51.419Z"
   },
   {
    "duration": 424,
    "start_time": "2021-08-09T14:49:43.716Z"
   },
   {
    "duration": 21,
    "start_time": "2021-08-09T14:58:16.774Z"
   },
   {
    "duration": 301,
    "start_time": "2021-08-09T14:58:38.374Z"
   },
   {
    "duration": 336,
    "start_time": "2021-08-09T14:59:40.718Z"
   },
   {
    "duration": 1039,
    "start_time": "2021-08-09T20:29:47.809Z"
   },
   {
    "duration": 51,
    "start_time": "2021-08-09T20:29:48.849Z"
   },
   {
    "duration": 10,
    "start_time": "2021-08-09T20:29:48.902Z"
   },
   {
    "duration": 28,
    "start_time": "2021-08-09T20:29:48.914Z"
   },
   {
    "duration": 13,
    "start_time": "2021-08-09T20:29:48.944Z"
   },
   {
    "duration": 35,
    "start_time": "2021-08-09T20:29:48.958Z"
   },
   {
    "duration": 19,
    "start_time": "2021-08-09T20:29:48.995Z"
   },
   {
    "duration": 13,
    "start_time": "2021-08-09T20:29:49.016Z"
   },
   {
    "duration": 11,
    "start_time": "2021-08-09T20:29:49.031Z"
   },
   {
    "duration": 42,
    "start_time": "2021-08-09T20:29:49.044Z"
   },
   {
    "duration": 9,
    "start_time": "2021-08-09T20:29:49.087Z"
   },
   {
    "duration": 11,
    "start_time": "2021-08-09T20:29:49.097Z"
   },
   {
    "duration": 10,
    "start_time": "2021-08-09T20:29:49.109Z"
   },
   {
    "duration": 8,
    "start_time": "2021-08-09T20:29:49.120Z"
   },
   {
    "duration": 23,
    "start_time": "2021-08-09T20:29:49.130Z"
   },
   {
    "duration": 3,
    "start_time": "2021-08-09T20:29:49.155Z"
   },
   {
    "duration": 289,
    "start_time": "2021-08-09T20:29:49.185Z"
   },
   {
    "duration": 10,
    "start_time": "2021-08-09T20:29:49.475Z"
   },
   {
    "duration": 24,
    "start_time": "2021-08-09T20:29:49.486Z"
   },
   {
    "duration": 12,
    "start_time": "2021-08-09T20:29:49.511Z"
   },
   {
    "duration": 13,
    "start_time": "2021-08-09T20:29:49.525Z"
   },
   {
    "duration": 3,
    "start_time": "2021-08-09T20:29:49.539Z"
   },
   {
    "duration": 306,
    "start_time": "2021-08-09T20:29:49.544Z"
   },
   {
    "duration": 8,
    "start_time": "2021-08-09T20:29:49.852Z"
   },
   {
    "duration": 50,
    "start_time": "2021-08-09T20:29:49.861Z"
   },
   {
    "duration": 5,
    "start_time": "2021-08-09T20:29:49.912Z"
   },
   {
    "duration": 280,
    "start_time": "2021-08-09T20:29:49.920Z"
   },
   {
    "duration": 10,
    "start_time": "2021-08-09T20:29:50.202Z"
   },
   {
    "duration": 15,
    "start_time": "2021-08-09T20:29:50.213Z"
   },
   {
    "duration": 15,
    "start_time": "2021-08-09T20:29:50.230Z"
   },
   {
    "duration": 41,
    "start_time": "2021-08-09T20:29:50.247Z"
   },
   {
    "duration": 11,
    "start_time": "2021-08-09T20:29:50.290Z"
   },
   {
    "duration": 374,
    "start_time": "2021-08-09T20:29:50.303Z"
   },
   {
    "duration": 11,
    "start_time": "2021-08-09T20:29:50.679Z"
   },
   {
    "duration": 20,
    "start_time": "2021-08-09T20:29:50.692Z"
   },
   {
    "duration": 592,
    "start_time": "2021-08-09T20:29:50.713Z"
   },
   {
    "duration": 16,
    "start_time": "2021-08-09T20:29:51.307Z"
   },
   {
    "duration": 14,
    "start_time": "2021-08-09T20:29:51.325Z"
   },
   {
    "duration": 465,
    "start_time": "2021-08-09T20:29:51.341Z"
   },
   {
    "duration": 9,
    "start_time": "2021-08-09T20:29:51.807Z"
   },
   {
    "duration": 451,
    "start_time": "2021-08-09T20:29:51.818Z"
   },
   {
    "duration": 17,
    "start_time": "2021-08-09T20:29:52.270Z"
   },
   {
    "duration": 408,
    "start_time": "2021-08-09T20:29:52.288Z"
   },
   {
    "duration": 18,
    "start_time": "2021-08-09T20:29:52.698Z"
   },
   {
    "duration": 14,
    "start_time": "2021-08-09T20:29:52.717Z"
   },
   {
    "duration": 1426,
    "start_time": "2021-08-09T20:29:52.733Z"
   },
   {
    "duration": 332,
    "start_time": "2021-08-09T20:29:54.161Z"
   },
   {
    "duration": 224,
    "start_time": "2021-08-09T20:29:54.495Z"
   },
   {
    "duration": 14,
    "start_time": "2021-08-09T21:46:00.019Z"
   },
   {
    "duration": 13,
    "start_time": "2021-08-09T21:46:17.226Z"
   },
   {
    "duration": 6,
    "start_time": "2021-08-09T21:49:31.672Z"
   },
   {
    "duration": 7,
    "start_time": "2021-08-09T21:49:32.579Z"
   },
   {
    "duration": 7,
    "start_time": "2021-08-09T21:49:33.256Z"
   },
   {
    "duration": 273,
    "start_time": "2021-08-09T21:54:23.529Z"
   },
   {
    "duration": 272,
    "start_time": "2021-08-09T21:55:02.379Z"
   },
   {
    "duration": 396,
    "start_time": "2021-08-09T21:55:10.552Z"
   },
   {
    "duration": 253,
    "start_time": "2021-08-09T21:58:51.248Z"
   },
   {
    "duration": 312,
    "start_time": "2021-08-09T21:59:03.316Z"
   },
   {
    "duration": 6,
    "start_time": "2021-08-09T21:59:04.787Z"
   },
   {
    "duration": 6,
    "start_time": "2021-08-09T21:59:05.655Z"
   },
   {
    "duration": 6,
    "start_time": "2021-08-09T21:59:06.299Z"
   },
   {
    "duration": 332,
    "start_time": "2021-08-09T22:00:25.241Z"
   },
   {
    "duration": 265,
    "start_time": "2021-08-09T22:05:41.284Z"
   },
   {
    "duration": 8,
    "start_time": "2021-08-09T22:09:39.943Z"
   },
   {
    "duration": 5,
    "start_time": "2021-08-09T22:09:40.639Z"
   },
   {
    "duration": 5,
    "start_time": "2021-08-09T22:09:41.660Z"
   },
   {
    "duration": 5,
    "start_time": "2021-08-09T22:11:39.392Z"
   },
   {
    "duration": 6,
    "start_time": "2021-08-09T22:12:20.848Z"
   },
   {
    "duration": 3,
    "start_time": "2021-08-09T22:12:36.298Z"
   },
   {
    "duration": 8,
    "start_time": "2021-08-09T22:12:41.269Z"
   },
   {
    "duration": 5,
    "start_time": "2021-08-09T22:12:41.895Z"
   },
   {
    "duration": 5,
    "start_time": "2021-08-09T22:12:42.819Z"
   },
   {
    "duration": 5,
    "start_time": "2021-08-09T22:12:43.728Z"
   },
   {
    "duration": 5,
    "start_time": "2021-08-09T22:13:30.359Z"
   },
   {
    "duration": 184,
    "start_time": "2021-08-09T22:16:37.928Z"
   },
   {
    "duration": 16,
    "start_time": "2021-08-09T22:16:58.263Z"
   },
   {
    "duration": 181,
    "start_time": "2021-08-09T22:17:27.821Z"
   },
   {
    "duration": 8,
    "start_time": "2021-08-09T22:17:40.816Z"
   },
   {
    "duration": 17,
    "start_time": "2021-08-09T22:18:06.713Z"
   },
   {
    "duration": 10,
    "start_time": "2021-08-09T22:44:07.046Z"
   },
   {
    "duration": 10,
    "start_time": "2021-08-09T22:44:17.891Z"
   },
   {
    "duration": 180,
    "start_time": "2021-08-09T22:46:53.769Z"
   },
   {
    "duration": 13,
    "start_time": "2021-08-09T22:48:02.996Z"
   },
   {
    "duration": 5,
    "start_time": "2021-08-09T22:48:06.946Z"
   },
   {
    "duration": 5,
    "start_time": "2021-08-09T22:48:39.158Z"
   },
   {
    "duration": 6,
    "start_time": "2021-08-09T22:49:10.666Z"
   },
   {
    "duration": 3,
    "start_time": "2021-08-09T22:49:14.852Z"
   },
   {
    "duration": 10,
    "start_time": "2021-08-09T22:51:38.958Z"
   },
   {
    "duration": 5,
    "start_time": "2021-08-09T22:51:39.590Z"
   },
   {
    "duration": 5,
    "start_time": "2021-08-09T22:51:40.187Z"
   },
   {
    "duration": 6,
    "start_time": "2021-08-09T22:51:40.767Z"
   },
   {
    "duration": 3,
    "start_time": "2021-08-09T22:51:43.128Z"
   },
   {
    "duration": 1155,
    "start_time": "2021-08-10T00:22:16.375Z"
   },
   {
    "duration": 50,
    "start_time": "2021-08-10T00:22:17.531Z"
   },
   {
    "duration": 9,
    "start_time": "2021-08-10T00:22:17.583Z"
   },
   {
    "duration": 28,
    "start_time": "2021-08-10T00:22:17.594Z"
   },
   {
    "duration": 12,
    "start_time": "2021-08-10T00:22:17.623Z"
   },
   {
    "duration": 18,
    "start_time": "2021-08-10T00:22:17.636Z"
   },
   {
    "duration": 42,
    "start_time": "2021-08-10T00:22:17.656Z"
   },
   {
    "duration": 13,
    "start_time": "2021-08-10T00:22:17.701Z"
   },
   {
    "duration": 14,
    "start_time": "2021-08-10T00:22:17.717Z"
   },
   {
    "duration": 17,
    "start_time": "2021-08-10T00:22:17.733Z"
   },
   {
    "duration": 36,
    "start_time": "2021-08-10T00:22:17.752Z"
   },
   {
    "duration": 8,
    "start_time": "2021-08-10T00:22:17.790Z"
   },
   {
    "duration": 8,
    "start_time": "2021-08-10T00:22:17.799Z"
   },
   {
    "duration": 8,
    "start_time": "2021-08-10T00:22:17.809Z"
   },
   {
    "duration": 26,
    "start_time": "2021-08-10T00:22:17.819Z"
   },
   {
    "duration": 4,
    "start_time": "2021-08-10T00:22:17.847Z"
   },
   {
    "duration": 299,
    "start_time": "2021-08-10T00:22:17.852Z"
   },
   {
    "duration": 7,
    "start_time": "2021-08-10T00:22:18.153Z"
   },
   {
    "duration": 28,
    "start_time": "2021-08-10T00:22:18.161Z"
   },
   {
    "duration": 11,
    "start_time": "2021-08-10T00:22:18.191Z"
   },
   {
    "duration": 13,
    "start_time": "2021-08-10T00:22:18.203Z"
   },
   {
    "duration": 3,
    "start_time": "2021-08-10T00:22:18.218Z"
   },
   {
    "duration": 304,
    "start_time": "2021-08-10T00:22:18.225Z"
   },
   {
    "duration": 8,
    "start_time": "2021-08-10T00:22:18.531Z"
   },
   {
    "duration": 54,
    "start_time": "2021-08-10T00:22:18.541Z"
   },
   {
    "duration": 5,
    "start_time": "2021-08-10T00:22:18.597Z"
   },
   {
    "duration": 271,
    "start_time": "2021-08-10T00:22:18.604Z"
   },
   {
    "duration": 13,
    "start_time": "2021-08-10T00:22:18.877Z"
   },
   {
    "duration": 15,
    "start_time": "2021-08-10T00:22:18.892Z"
   },
   {
    "duration": 14,
    "start_time": "2021-08-10T00:22:18.908Z"
   },
   {
    "duration": 16,
    "start_time": "2021-08-10T00:22:18.924Z"
   },
   {
    "duration": 45,
    "start_time": "2021-08-10T00:22:18.942Z"
   },
   {
    "duration": 348,
    "start_time": "2021-08-10T00:22:18.988Z"
   },
   {
    "duration": 7,
    "start_time": "2021-08-10T00:22:19.337Z"
   },
   {
    "duration": 17,
    "start_time": "2021-08-10T00:22:19.346Z"
   },
   {
    "duration": 583,
    "start_time": "2021-08-10T00:22:19.365Z"
   },
   {
    "duration": 17,
    "start_time": "2021-08-10T00:22:19.950Z"
   },
   {
    "duration": 28,
    "start_time": "2021-08-10T00:22:19.969Z"
   },
   {
    "duration": 456,
    "start_time": "2021-08-10T00:22:19.999Z"
   },
   {
    "duration": 10,
    "start_time": "2021-08-10T00:22:20.457Z"
   },
   {
    "duration": 486,
    "start_time": "2021-08-10T00:22:20.469Z"
   },
   {
    "duration": 6,
    "start_time": "2021-08-10T00:22:20.957Z"
   },
   {
    "duration": 416,
    "start_time": "2021-08-10T00:22:20.965Z"
   },
   {
    "duration": 17,
    "start_time": "2021-08-10T00:22:21.382Z"
   },
   {
    "duration": 16,
    "start_time": "2021-08-10T00:22:21.401Z"
   },
   {
    "duration": 1495,
    "start_time": "2021-08-10T00:22:21.419Z"
   },
   {
    "duration": 295,
    "start_time": "2021-08-10T00:22:22.916Z"
   },
   {
    "duration": 234,
    "start_time": "2021-08-10T00:22:23.213Z"
   },
   {
    "duration": 321,
    "start_time": "2021-08-10T00:22:23.449Z"
   },
   {
    "duration": 14,
    "start_time": "2021-08-10T00:22:23.772Z"
   },
   {
    "duration": 6,
    "start_time": "2021-08-10T00:22:23.788Z"
   },
   {
    "duration": 6,
    "start_time": "2021-08-10T00:22:23.796Z"
   },
   {
    "duration": 340,
    "start_time": "2021-08-10T00:22:23.803Z"
   },
   {
    "duration": 368,
    "start_time": "2021-08-10T00:22:24.144Z"
   },
   {
    "duration": 10,
    "start_time": "2021-08-10T00:22:24.514Z"
   },
   {
    "duration": 9,
    "start_time": "2021-08-10T00:22:24.525Z"
   },
   {
    "duration": 5,
    "start_time": "2021-08-10T00:22:24.536Z"
   },
   {
    "duration": 6,
    "start_time": "2021-08-10T00:22:24.543Z"
   },
   {
    "duration": 9,
    "start_time": "2021-08-10T00:22:24.551Z"
   },
   {
    "duration": 9,
    "start_time": "2021-08-10T00:22:24.584Z"
   },
   {
    "duration": 4,
    "start_time": "2021-08-10T00:22:24.595Z"
   },
   {
    "duration": 5,
    "start_time": "2021-08-10T00:22:24.601Z"
   },
   {
    "duration": 7,
    "start_time": "2021-08-10T00:22:24.607Z"
   },
   {
    "duration": 3,
    "start_time": "2021-08-10T00:22:24.616Z"
   },
   {
    "duration": 1091,
    "start_time": "2021-08-10T09:13:33.186Z"
   },
   {
    "duration": 48,
    "start_time": "2021-08-10T09:13:34.279Z"
   },
   {
    "duration": 14,
    "start_time": "2021-08-10T09:13:34.330Z"
   },
   {
    "duration": 28,
    "start_time": "2021-08-10T09:13:34.347Z"
   },
   {
    "duration": 12,
    "start_time": "2021-08-10T09:13:34.377Z"
   },
   {
    "duration": 20,
    "start_time": "2021-08-10T09:13:34.391Z"
   },
   {
    "duration": 43,
    "start_time": "2021-08-10T09:13:34.413Z"
   },
   {
    "duration": 10,
    "start_time": "2021-08-10T09:13:34.458Z"
   },
   {
    "duration": 11,
    "start_time": "2021-08-10T09:13:34.470Z"
   },
   {
    "duration": 17,
    "start_time": "2021-08-10T09:13:34.482Z"
   },
   {
    "duration": 8,
    "start_time": "2021-08-10T09:13:34.500Z"
   },
   {
    "duration": 7,
    "start_time": "2021-08-10T09:13:34.541Z"
   },
   {
    "duration": 7,
    "start_time": "2021-08-10T09:13:34.549Z"
   },
   {
    "duration": 8,
    "start_time": "2021-08-10T09:13:34.558Z"
   },
   {
    "duration": 21,
    "start_time": "2021-08-10T09:13:34.567Z"
   },
   {
    "duration": 3,
    "start_time": "2021-08-10T09:13:34.590Z"
   },
   {
    "duration": 290,
    "start_time": "2021-08-10T09:13:34.595Z"
   },
   {
    "duration": 7,
    "start_time": "2021-08-10T09:13:34.887Z"
   },
   {
    "duration": 20,
    "start_time": "2021-08-10T09:13:34.896Z"
   },
   {
    "duration": 28,
    "start_time": "2021-08-10T09:13:34.918Z"
   },
   {
    "duration": 12,
    "start_time": "2021-08-10T09:13:34.947Z"
   },
   {
    "duration": 3,
    "start_time": "2021-08-10T09:13:34.960Z"
   },
   {
    "duration": 279,
    "start_time": "2021-08-10T09:13:34.967Z"
   },
   {
    "duration": 9,
    "start_time": "2021-08-10T09:13:35.248Z"
   },
   {
    "duration": 38,
    "start_time": "2021-08-10T09:13:35.259Z"
   },
   {
    "duration": 4,
    "start_time": "2021-08-10T09:13:35.299Z"
   },
   {
    "duration": 270,
    "start_time": "2021-08-10T09:13:35.305Z"
   },
   {
    "duration": 9,
    "start_time": "2021-08-10T09:13:35.576Z"
   },
   {
    "duration": 14,
    "start_time": "2021-08-10T09:13:35.587Z"
   },
   {
    "duration": 16,
    "start_time": "2021-08-10T09:13:35.602Z"
   },
   {
    "duration": 30,
    "start_time": "2021-08-10T09:13:35.620Z"
   },
   {
    "duration": 11,
    "start_time": "2021-08-10T09:13:35.652Z"
   },
   {
    "duration": 319,
    "start_time": "2021-08-10T09:13:35.664Z"
   },
   {
    "duration": 7,
    "start_time": "2021-08-10T09:13:35.985Z"
   },
   {
    "duration": 19,
    "start_time": "2021-08-10T09:13:35.994Z"
   },
   {
    "duration": 516,
    "start_time": "2021-08-10T09:13:36.015Z"
   },
   {
    "duration": 15,
    "start_time": "2021-08-10T09:13:36.540Z"
   },
   {
    "duration": 14,
    "start_time": "2021-08-10T09:13:36.556Z"
   },
   {
    "duration": 405,
    "start_time": "2021-08-10T09:13:36.571Z"
   },
   {
    "duration": 9,
    "start_time": "2021-08-10T09:13:36.978Z"
   },
   {
    "duration": 419,
    "start_time": "2021-08-10T09:13:36.989Z"
   },
   {
    "duration": 6,
    "start_time": "2021-08-10T09:13:37.409Z"
   },
   {
    "duration": 354,
    "start_time": "2021-08-10T09:13:37.417Z"
   },
   {
    "duration": 16,
    "start_time": "2021-08-10T09:13:37.773Z"
   },
   {
    "duration": 13,
    "start_time": "2021-08-10T09:13:37.791Z"
   },
   {
    "duration": 1237,
    "start_time": "2021-08-10T09:13:37.806Z"
   },
   {
    "duration": 308,
    "start_time": "2021-08-10T09:13:39.044Z"
   },
   {
    "duration": 192,
    "start_time": "2021-08-10T09:13:39.353Z"
   },
   {
    "duration": 284,
    "start_time": "2021-08-10T09:13:39.547Z"
   },
   {
    "duration": 12,
    "start_time": "2021-08-10T09:13:39.832Z"
   },
   {
    "duration": 15,
    "start_time": "2021-08-10T09:13:39.846Z"
   },
   {
    "duration": 9,
    "start_time": "2021-08-10T09:13:39.862Z"
   },
   {
    "duration": 294,
    "start_time": "2021-08-10T09:13:39.873Z"
   },
   {
    "duration": 310,
    "start_time": "2021-08-10T09:13:40.168Z"
   },
   {
    "duration": 9,
    "start_time": "2021-08-10T09:13:40.479Z"
   },
   {
    "duration": 16,
    "start_time": "2021-08-10T09:13:40.489Z"
   },
   {
    "duration": 23,
    "start_time": "2021-08-10T09:13:40.506Z"
   },
   {
    "duration": 15,
    "start_time": "2021-08-10T09:13:40.530Z"
   },
   {
    "duration": 12,
    "start_time": "2021-08-10T09:13:40.547Z"
   },
   {
    "duration": 12,
    "start_time": "2021-08-10T09:13:40.560Z"
   },
   {
    "duration": 4,
    "start_time": "2021-08-10T09:13:40.574Z"
   },
   {
    "duration": 7,
    "start_time": "2021-08-10T09:13:40.580Z"
   },
   {
    "duration": 8,
    "start_time": "2021-08-10T09:13:40.589Z"
   },
   {
    "duration": 8,
    "start_time": "2021-08-10T09:13:40.598Z"
   },
   {
    "duration": 6,
    "start_time": "2021-08-10T18:07:50.972Z"
   },
   {
    "duration": 5,
    "start_time": "2021-08-10T18:08:03.789Z"
   },
   {
    "duration": 1028,
    "start_time": "2021-08-10T22:46:13.104Z"
   },
   {
    "duration": 80,
    "start_time": "2021-08-10T22:46:14.134Z"
   },
   {
    "duration": 10,
    "start_time": "2021-08-10T22:46:14.216Z"
   },
   {
    "duration": 27,
    "start_time": "2021-08-10T22:46:14.227Z"
   },
   {
    "duration": 12,
    "start_time": "2021-08-10T22:46:14.255Z"
   },
   {
    "duration": 29,
    "start_time": "2021-08-10T22:46:14.269Z"
   },
   {
    "duration": 19,
    "start_time": "2021-08-10T22:46:14.299Z"
   },
   {
    "duration": 10,
    "start_time": "2021-08-10T22:46:14.321Z"
   },
   {
    "duration": 11,
    "start_time": "2021-08-10T22:46:14.332Z"
   },
   {
    "duration": 41,
    "start_time": "2021-08-10T22:46:14.345Z"
   },
   {
    "duration": 7,
    "start_time": "2021-08-10T22:46:14.387Z"
   },
   {
    "duration": 7,
    "start_time": "2021-08-10T22:46:14.395Z"
   },
   {
    "duration": 6,
    "start_time": "2021-08-10T22:46:14.404Z"
   },
   {
    "duration": 12,
    "start_time": "2021-08-10T22:46:17.732Z"
   },
   {
    "duration": 22,
    "start_time": "2021-08-10T22:46:56.110Z"
   },
   {
    "duration": 3,
    "start_time": "2021-08-10T22:47:00.147Z"
   },
   {
    "duration": 272,
    "start_time": "2021-08-10T22:47:20.630Z"
   },
   {
    "duration": 9,
    "start_time": "2021-08-10T22:48:27.173Z"
   },
   {
    "duration": 24,
    "start_time": "2021-08-10T22:48:29.457Z"
   },
   {
    "duration": 15,
    "start_time": "2021-08-10T22:48:33.596Z"
   },
   {
    "duration": 14,
    "start_time": "2021-08-10T22:48:37.779Z"
   },
   {
    "duration": 3,
    "start_time": "2021-08-10T22:48:40.208Z"
   },
   {
    "duration": 267,
    "start_time": "2021-08-10T22:48:41.226Z"
   },
   {
    "duration": 9,
    "start_time": "2021-08-10T22:48:47.051Z"
   },
   {
    "duration": 13,
    "start_time": "2021-08-10T23:10:58.390Z"
   },
   {
    "duration": 14,
    "start_time": "2021-08-10T23:11:55.282Z"
   },
   {
    "duration": 14,
    "start_time": "2021-08-10T23:12:50.926Z"
   },
   {
    "duration": 14,
    "start_time": "2021-08-10T23:12:53.560Z"
   },
   {
    "duration": 18,
    "start_time": "2021-08-10T23:12:57.685Z"
   },
   {
    "duration": 12,
    "start_time": "2021-08-10T23:13:05.544Z"
   },
   {
    "duration": 330,
    "start_time": "2021-08-10T23:13:30.396Z"
   },
   {
    "duration": 354,
    "start_time": "2021-08-10T23:20:27.134Z"
   },
   {
    "duration": 383,
    "start_time": "2021-08-10T23:21:10.024Z"
   },
   {
    "duration": 466,
    "start_time": "2021-08-10T23:21:24.909Z"
   },
   {
    "duration": 406,
    "start_time": "2021-08-10T23:22:44.976Z"
   },
   {
    "duration": 405,
    "start_time": "2021-08-10T23:23:06.172Z"
   },
   {
    "duration": 8,
    "start_time": "2021-08-10T23:23:26.515Z"
   },
   {
    "duration": 17,
    "start_time": "2021-08-10T23:23:30.644Z"
   },
   {
    "duration": 549,
    "start_time": "2021-08-10T23:23:33.684Z"
   },
   {
    "duration": 553,
    "start_time": "2021-08-10T23:25:16.276Z"
   },
   {
    "duration": 557,
    "start_time": "2021-08-10T23:25:31.970Z"
   },
   {
    "duration": 16,
    "start_time": "2021-08-10T23:25:44.289Z"
   },
   {
    "duration": 15,
    "start_time": "2021-08-10T23:25:45.446Z"
   },
   {
    "duration": 492,
    "start_time": "2021-08-10T23:25:48.787Z"
   },
   {
    "duration": 428,
    "start_time": "2021-08-10T23:39:09.609Z"
   },
   {
    "duration": 10,
    "start_time": "2021-08-10T23:51:59.176Z"
   },
   {
    "duration": 399,
    "start_time": "2021-08-10T23:53:48.872Z"
   },
   {
    "duration": 350,
    "start_time": "2021-08-10T23:55:05.067Z"
   },
   {
    "duration": 6,
    "start_time": "2021-08-11T00:00:32.063Z"
   },
   {
    "duration": 288,
    "start_time": "2021-08-11T00:02:14.008Z"
   },
   {
    "duration": 418,
    "start_time": "2021-08-11T00:05:01.210Z"
   },
   {
    "duration": 337,
    "start_time": "2021-08-11T00:05:13.720Z"
   },
   {
    "duration": 324,
    "start_time": "2021-08-11T00:05:28.740Z"
   },
   {
    "duration": 394,
    "start_time": "2021-08-11T00:07:53.204Z"
   },
   {
    "duration": 18,
    "start_time": "2021-08-11T00:20:42.006Z"
   },
   {
    "duration": 12,
    "start_time": "2021-08-11T00:21:32.392Z"
   },
   {
    "duration": 1172,
    "start_time": "2021-08-11T00:23:34.740Z"
   },
   {
    "duration": 292,
    "start_time": "2021-08-11T00:24:33.042Z"
   },
   {
    "duration": 194,
    "start_time": "2021-08-11T00:24:57.900Z"
   },
   {
    "duration": 209,
    "start_time": "2021-08-11T00:25:22.393Z"
   },
   {
    "duration": 201,
    "start_time": "2021-08-11T00:25:52.086Z"
   },
   {
    "duration": 193,
    "start_time": "2021-08-11T00:26:02.161Z"
   },
   {
    "duration": 215,
    "start_time": "2021-08-11T00:26:33.155Z"
   },
   {
    "duration": 408,
    "start_time": "2021-08-11T00:29:16.419Z"
   },
   {
    "duration": 209,
    "start_time": "2021-08-11T00:31:12.252Z"
   },
   {
    "duration": 217,
    "start_time": "2021-08-11T00:31:55.414Z"
   },
   {
    "duration": 276,
    "start_time": "2021-08-11T00:37:40.522Z"
   },
   {
    "duration": 324,
    "start_time": "2021-08-11T00:40:23.868Z"
   },
   {
    "duration": 6,
    "start_time": "2021-08-11T00:40:42.371Z"
   },
   {
    "duration": 6,
    "start_time": "2021-08-11T00:40:42.806Z"
   },
   {
    "duration": 7,
    "start_time": "2021-08-11T00:40:43.245Z"
   },
   {
    "duration": 318,
    "start_time": "2021-08-11T00:41:30.544Z"
   },
   {
    "duration": 308,
    "start_time": "2021-08-11T00:42:03.979Z"
   },
   {
    "duration": 318,
    "start_time": "2021-08-11T00:42:37.316Z"
   },
   {
    "duration": 260,
    "start_time": "2021-08-11T00:45:44.624Z"
   },
   {
    "duration": 9,
    "start_time": "2021-08-11T00:46:24.962Z"
   },
   {
    "duration": 4,
    "start_time": "2021-08-11T00:46:29.169Z"
   },
   {
    "duration": 5,
    "start_time": "2021-08-11T00:46:30.214Z"
   },
   {
    "duration": 6,
    "start_time": "2021-08-11T00:46:34.639Z"
   },
   {
    "duration": 3,
    "start_time": "2021-08-11T00:46:46.803Z"
   },
   {
    "duration": 5,
    "start_time": "2021-08-11T00:48:35.621Z"
   },
   {
    "duration": 5,
    "start_time": "2021-08-11T00:48:52.606Z"
   },
   {
    "duration": 9,
    "start_time": "2021-08-11T00:53:32.755Z"
   },
   {
    "duration": 6,
    "start_time": "2021-08-11T00:53:35.160Z"
   },
   {
    "duration": 5,
    "start_time": "2021-08-11T00:53:36.014Z"
   },
   {
    "duration": 5,
    "start_time": "2021-08-11T00:53:36.681Z"
   },
   {
    "duration": 3,
    "start_time": "2021-08-11T00:53:38.863Z"
   },
   {
    "duration": 5,
    "start_time": "2021-08-11T00:55:52.073Z"
   },
   {
    "duration": 4,
    "start_time": "2021-08-11T00:55:52.449Z"
   },
   {
    "duration": 1169,
    "start_time": "2021-08-11T19:26:54.558Z"
   },
   {
    "duration": 48,
    "start_time": "2021-08-11T19:26:55.729Z"
   },
   {
    "duration": 9,
    "start_time": "2021-08-11T19:26:55.779Z"
   },
   {
    "duration": 30,
    "start_time": "2021-08-11T19:26:55.790Z"
   },
   {
    "duration": 12,
    "start_time": "2021-08-11T19:26:55.821Z"
   },
   {
    "duration": 15,
    "start_time": "2021-08-11T19:26:55.835Z"
   },
   {
    "duration": 44,
    "start_time": "2021-08-11T19:26:55.852Z"
   },
   {
    "duration": 9,
    "start_time": "2021-08-11T19:26:55.899Z"
   },
   {
    "duration": 11,
    "start_time": "2021-08-11T19:26:55.910Z"
   },
   {
    "duration": 17,
    "start_time": "2021-08-11T19:26:55.923Z"
   },
   {
    "duration": 7,
    "start_time": "2021-08-11T19:26:55.941Z"
   },
   {
    "duration": 38,
    "start_time": "2021-08-11T19:26:55.949Z"
   },
   {
    "duration": 8,
    "start_time": "2021-08-11T19:26:55.988Z"
   },
   {
    "duration": 12,
    "start_time": "2021-08-11T19:26:55.997Z"
   },
   {
    "duration": 21,
    "start_time": "2021-08-11T19:26:56.010Z"
   },
   {
    "duration": 4,
    "start_time": "2021-08-11T19:26:56.032Z"
   },
   {
    "duration": 306,
    "start_time": "2021-08-11T19:26:56.037Z"
   },
   {
    "duration": 7,
    "start_time": "2021-08-11T19:26:56.345Z"
   },
   {
    "duration": 34,
    "start_time": "2021-08-11T19:26:56.354Z"
   },
   {
    "duration": 12,
    "start_time": "2021-08-11T19:26:56.389Z"
   },
   {
    "duration": 12,
    "start_time": "2021-08-11T19:26:56.402Z"
   },
   {
    "duration": 3,
    "start_time": "2021-08-11T19:26:56.416Z"
   },
   {
    "duration": 304,
    "start_time": "2021-08-11T19:26:56.422Z"
   },
   {
    "duration": 8,
    "start_time": "2021-08-11T19:26:56.729Z"
   },
   {
    "duration": 12,
    "start_time": "2021-08-11T19:26:56.738Z"
   },
   {
    "duration": 33,
    "start_time": "2021-08-11T19:26:56.752Z"
   },
   {
    "duration": 13,
    "start_time": "2021-08-11T19:26:56.787Z"
   },
   {
    "duration": 16,
    "start_time": "2021-08-11T19:26:56.801Z"
   },
   {
    "duration": 11,
    "start_time": "2021-08-11T19:26:56.819Z"
   },
   {
    "duration": 444,
    "start_time": "2021-08-11T19:26:56.831Z"
   },
   {
    "duration": 11,
    "start_time": "2021-08-11T19:26:57.277Z"
   },
   {
    "duration": 16,
    "start_time": "2021-08-11T19:26:57.290Z"
   },
   {
    "duration": 598,
    "start_time": "2021-08-11T19:26:57.308Z"
   },
   {
    "duration": 18,
    "start_time": "2021-08-11T19:26:57.908Z"
   },
   {
    "duration": 16,
    "start_time": "2021-08-11T19:26:57.928Z"
   },
   {
    "duration": 474,
    "start_time": "2021-08-11T19:26:57.945Z"
   },
   {
    "duration": 9,
    "start_time": "2021-08-11T19:26:58.420Z"
   },
   {
    "duration": 356,
    "start_time": "2021-08-11T19:26:58.431Z"
   },
   {
    "duration": 5,
    "start_time": "2021-08-11T19:26:58.789Z"
   },
   {
    "duration": 421,
    "start_time": "2021-08-11T19:26:58.796Z"
   },
   {
    "duration": 339,
    "start_time": "2021-08-11T19:26:59.219Z"
   },
   {
    "duration": 26,
    "start_time": "2021-08-11T19:26:59.559Z"
   },
   {
    "duration": 11,
    "start_time": "2021-08-11T19:26:59.587Z"
   },
   {
    "duration": 1278,
    "start_time": "2021-08-11T19:26:59.600Z"
   },
   {
    "duration": 324,
    "start_time": "2021-08-11T19:27:00.880Z"
   },
   {
    "duration": 237,
    "start_time": "2021-08-11T19:27:01.206Z"
   },
   {
    "duration": 339,
    "start_time": "2021-08-11T19:27:01.445Z"
   },
   {
    "duration": 330,
    "start_time": "2021-08-11T19:27:01.786Z"
   },
   {
    "duration": 7,
    "start_time": "2021-08-11T19:27:02.117Z"
   },
   {
    "duration": 12,
    "start_time": "2021-08-11T19:27:02.125Z"
   },
   {
    "duration": 7,
    "start_time": "2021-08-11T19:27:02.139Z"
   },
   {
    "duration": 371,
    "start_time": "2021-08-11T19:27:02.147Z"
   },
   {
    "duration": 289,
    "start_time": "2021-08-11T19:27:02.520Z"
   },
   {
    "duration": 8,
    "start_time": "2021-08-11T19:27:02.811Z"
   },
   {
    "duration": 17,
    "start_time": "2021-08-11T19:27:02.821Z"
   },
   {
    "duration": 21,
    "start_time": "2021-08-11T19:27:02.840Z"
   },
   {
    "duration": 13,
    "start_time": "2021-08-11T19:27:02.862Z"
   },
   {
    "duration": 14,
    "start_time": "2021-08-11T19:27:02.877Z"
   },
   {
    "duration": 17,
    "start_time": "2021-08-11T19:27:02.892Z"
   },
   {
    "duration": 8,
    "start_time": "2021-08-11T19:27:02.910Z"
   },
   {
    "duration": 12,
    "start_time": "2021-08-11T19:27:02.920Z"
   },
   {
    "duration": 6,
    "start_time": "2021-08-11T19:27:02.933Z"
   },
   {
    "duration": 6,
    "start_time": "2021-08-11T19:27:02.941Z"
   },
   {
    "duration": 7,
    "start_time": "2021-08-11T19:27:02.948Z"
   },
   {
    "duration": 7,
    "start_time": "2021-08-11T19:27:02.957Z"
   },
   {
    "duration": 23,
    "start_time": "2021-08-11T19:27:02.966Z"
   },
   {
    "duration": 4,
    "start_time": "2021-08-11T19:27:02.991Z"
   }
  ],
  "kernelspec": {
   "display_name": "Python 3 (ipykernel)",
   "language": "python",
   "name": "python3"
  },
  "language_info": {
   "codemirror_mode": {
    "name": "ipython",
    "version": 3
   },
   "file_extension": ".py",
   "mimetype": "text/x-python",
   "name": "python",
   "nbconvert_exporter": "python",
   "pygments_lexer": "ipython3",
   "version": "3.9.5"
  },
  "toc": {
   "base_numbering": 1,
   "nav_menu": {},
   "number_sections": true,
   "sideBar": true,
   "skip_h1_title": true,
   "title_cell": "Table of Contents",
   "title_sidebar": "Contents",
   "toc_cell": false,
   "toc_position": {},
   "toc_section_display": true,
   "toc_window_display": false
  }
 },
 "nbformat": 4,
 "nbformat_minor": 2
}
