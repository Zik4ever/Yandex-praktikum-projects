{
 "cells": [
  {
   "cell_type": "markdown",
   "metadata": {
    "toc": true
   },
   "source": [
    "<h1>Содержание<span class=\"tocSkip\"></span></h1>\n",
    "<div class=\"toc\"><ul class=\"toc-item\"><li><span><a href=\"#Подготовка-данных\" data-toc-modified-id=\"Подготовка-данных-1\"><span class=\"toc-item-num\">1&nbsp;&nbsp;</span>Подготовка данных</a></span><ul class=\"toc-item\"><li><span><a href=\"#Вывод\" data-toc-modified-id=\"Вывод-1.1\"><span class=\"toc-item-num\">1.1&nbsp;&nbsp;</span>Вывод</a></span></li></ul></li><li><span><a href=\"#Исследование-задачи\" data-toc-modified-id=\"Исследование-задачи-2\"><span class=\"toc-item-num\">2&nbsp;&nbsp;</span>Исследование задачи</a></span><ul class=\"toc-item\"><li><span><a href=\"#Вывод:\" data-toc-modified-id=\"Вывод:-2.1\"><span class=\"toc-item-num\">2.1&nbsp;&nbsp;</span>Вывод:</a></span></li></ul></li><li><span><a href=\"#Борьба-с-дисбалансом\" data-toc-modified-id=\"Борьба-с-дисбалансом-3\"><span class=\"toc-item-num\">3&nbsp;&nbsp;</span>Борьба с дисбалансом</a></span><ul class=\"toc-item\"><li><span><a href=\"#Вывод:\" data-toc-modified-id=\"Вывод:-3.1\"><span class=\"toc-item-num\">3.1&nbsp;&nbsp;</span>Вывод:</a></span></li></ul></li><li><span><a href=\"#Тестирование-модели\" data-toc-modified-id=\"Тестирование-модели-4\"><span class=\"toc-item-num\">4&nbsp;&nbsp;</span>Тестирование модели</a></span><ul class=\"toc-item\"><li><span><a href=\"#Вывод:\" data-toc-modified-id=\"Вывод:-4.1\"><span class=\"toc-item-num\">4.1&nbsp;&nbsp;</span>Вывод:</a></span></li></ul></li><li><span><a href=\"#Вывод:\" data-toc-modified-id=\"Вывод:-5\"><span class=\"toc-item-num\">5&nbsp;&nbsp;</span>Вывод:</a></span></li><li><span><a href=\"#Чек-лист-готовности-проекта\" data-toc-modified-id=\"Чек-лист-готовности-проекта-6\"><span class=\"toc-item-num\">6&nbsp;&nbsp;</span>Чек-лист готовности проекта</a></span></li></ul></div>"
   ]
  },
  {
   "cell_type": "markdown",
   "metadata": {},
   "source": [
    "# Отток клиентов"
   ]
  },
  {
   "cell_type": "markdown",
   "metadata": {},
   "source": [
    "Из «Бета-Банка» стали уходить клиенты. Каждый месяц. Немного, но заметно. Банковские маркетологи посчитали: сохранять текущих клиентов дешевле, чем привлекать новых.\n",
    "\n",
    "Нужно спрогнозировать, уйдёт клиент из банка в ближайшее время или нет. Вам предоставлены исторические данные о поведении клиентов и расторжении договоров с банком. \n",
    "\n",
    "Постройте модель с предельно большим значением *F1*-меры. Чтобы сдать проект успешно, нужно довести метрику до 0.59. Проверьте *F1*-меру на тестовой выборке самостоятельно.\n",
    "\n",
    "Дополнительно измеряйте *AUC-ROC*, сравнивайте её значение с *F1*-мерой.\n",
    "\n",
    "Источник данных: [https://www.kaggle.com/barelydedicated/bank-customer-churn-modeling](https://www.kaggle.com/barelydedicated/bank-customer-churn-modeling)"
   ]
  },
  {
   "cell_type": "markdown",
   "metadata": {},
   "source": [
    "## Подготовка данных"
   ]
  },
  {
   "cell_type": "code",
   "execution_count": 1,
   "metadata": {},
   "outputs": [],
   "source": [
    "import pandas as pd\n",
    "from sklearn.model_selection import train_test_split\n",
    "from sklearn.linear_model import LinearRegression\n",
    "from sklearn.tree import DecisionTreeRegressor\n",
    "from sklearn.ensemble import RandomForestRegressor\n",
    "from sklearn.ensemble import RandomForestClassifier\n",
    "from sklearn.linear_model import LogisticRegression\n",
    "from sklearn.tree import DecisionTreeClassifier\n",
    "from sklearn.metrics import accuracy_score\n",
    "import matplotlib.pyplot as plt\n",
    "from sklearn.metrics import r2_score\n",
    "from sklearn.metrics import mean_absolute_error\n",
    "from sklearn.metrics import roc_auc_score\n",
    "from sklearn.metrics import f1_score\n",
    "from sklearn.utils import shuffle\n",
    "from sklearn.metrics import roc_curve "
   ]
  },
  {
   "cell_type": "code",
   "execution_count": 2,
   "metadata": {},
   "outputs": [
    {
     "data": {
      "text/html": [
       "<div>\n",
       "<style scoped>\n",
       "    .dataframe tbody tr th:only-of-type {\n",
       "        vertical-align: middle;\n",
       "    }\n",
       "\n",
       "    .dataframe tbody tr th {\n",
       "        vertical-align: top;\n",
       "    }\n",
       "\n",
       "    .dataframe thead th {\n",
       "        text-align: right;\n",
       "    }\n",
       "</style>\n",
       "<table border=\"1\" class=\"dataframe\">\n",
       "  <thead>\n",
       "    <tr style=\"text-align: right;\">\n",
       "      <th></th>\n",
       "      <th>RowNumber</th>\n",
       "      <th>CustomerId</th>\n",
       "      <th>Surname</th>\n",
       "      <th>CreditScore</th>\n",
       "      <th>Geography</th>\n",
       "      <th>Gender</th>\n",
       "      <th>Age</th>\n",
       "      <th>Tenure</th>\n",
       "      <th>Balance</th>\n",
       "      <th>NumOfProducts</th>\n",
       "      <th>HasCrCard</th>\n",
       "      <th>IsActiveMember</th>\n",
       "      <th>EstimatedSalary</th>\n",
       "      <th>Exited</th>\n",
       "    </tr>\n",
       "  </thead>\n",
       "  <tbody>\n",
       "    <tr>\n",
       "      <td>0</td>\n",
       "      <td>1</td>\n",
       "      <td>15634602</td>\n",
       "      <td>Hargrave</td>\n",
       "      <td>619</td>\n",
       "      <td>France</td>\n",
       "      <td>Female</td>\n",
       "      <td>42</td>\n",
       "      <td>2.0</td>\n",
       "      <td>0.00</td>\n",
       "      <td>1</td>\n",
       "      <td>1</td>\n",
       "      <td>1</td>\n",
       "      <td>101348.88</td>\n",
       "      <td>1</td>\n",
       "    </tr>\n",
       "    <tr>\n",
       "      <td>1</td>\n",
       "      <td>2</td>\n",
       "      <td>15647311</td>\n",
       "      <td>Hill</td>\n",
       "      <td>608</td>\n",
       "      <td>Spain</td>\n",
       "      <td>Female</td>\n",
       "      <td>41</td>\n",
       "      <td>1.0</td>\n",
       "      <td>83807.86</td>\n",
       "      <td>1</td>\n",
       "      <td>0</td>\n",
       "      <td>1</td>\n",
       "      <td>112542.58</td>\n",
       "      <td>0</td>\n",
       "    </tr>\n",
       "    <tr>\n",
       "      <td>2</td>\n",
       "      <td>3</td>\n",
       "      <td>15619304</td>\n",
       "      <td>Onio</td>\n",
       "      <td>502</td>\n",
       "      <td>France</td>\n",
       "      <td>Female</td>\n",
       "      <td>42</td>\n",
       "      <td>8.0</td>\n",
       "      <td>159660.80</td>\n",
       "      <td>3</td>\n",
       "      <td>1</td>\n",
       "      <td>0</td>\n",
       "      <td>113931.57</td>\n",
       "      <td>1</td>\n",
       "    </tr>\n",
       "    <tr>\n",
       "      <td>3</td>\n",
       "      <td>4</td>\n",
       "      <td>15701354</td>\n",
       "      <td>Boni</td>\n",
       "      <td>699</td>\n",
       "      <td>France</td>\n",
       "      <td>Female</td>\n",
       "      <td>39</td>\n",
       "      <td>1.0</td>\n",
       "      <td>0.00</td>\n",
       "      <td>2</td>\n",
       "      <td>0</td>\n",
       "      <td>0</td>\n",
       "      <td>93826.63</td>\n",
       "      <td>0</td>\n",
       "    </tr>\n",
       "    <tr>\n",
       "      <td>4</td>\n",
       "      <td>5</td>\n",
       "      <td>15737888</td>\n",
       "      <td>Mitchell</td>\n",
       "      <td>850</td>\n",
       "      <td>Spain</td>\n",
       "      <td>Female</td>\n",
       "      <td>43</td>\n",
       "      <td>2.0</td>\n",
       "      <td>125510.82</td>\n",
       "      <td>1</td>\n",
       "      <td>1</td>\n",
       "      <td>1</td>\n",
       "      <td>79084.10</td>\n",
       "      <td>0</td>\n",
       "    </tr>\n",
       "  </tbody>\n",
       "</table>\n",
       "</div>"
      ],
      "text/plain": [
       "   RowNumber  CustomerId   Surname  CreditScore Geography  Gender  Age  \\\n",
       "0          1    15634602  Hargrave          619    France  Female   42   \n",
       "1          2    15647311      Hill          608     Spain  Female   41   \n",
       "2          3    15619304      Onio          502    France  Female   42   \n",
       "3          4    15701354      Boni          699    France  Female   39   \n",
       "4          5    15737888  Mitchell          850     Spain  Female   43   \n",
       "\n",
       "   Tenure    Balance  NumOfProducts  HasCrCard  IsActiveMember  \\\n",
       "0     2.0       0.00              1          1               1   \n",
       "1     1.0   83807.86              1          0               1   \n",
       "2     8.0  159660.80              3          1               0   \n",
       "3     1.0       0.00              2          0               0   \n",
       "4     2.0  125510.82              1          1               1   \n",
       "\n",
       "   EstimatedSalary  Exited  \n",
       "0        101348.88       1  \n",
       "1        112542.58       0  \n",
       "2        113931.57       1  \n",
       "3         93826.63       0  \n",
       "4         79084.10       0  "
      ]
     },
     "execution_count": 2,
     "metadata": {},
     "output_type": "execute_result"
    }
   ],
   "source": [
    "data = pd.read_csv('/datasets/Churn.csv')\n",
    "data.head()"
   ]
  },
  {
   "cell_type": "code",
   "execution_count": 3,
   "metadata": {},
   "outputs": [
    {
     "name": "stdout",
     "output_type": "stream",
     "text": [
      "<class 'pandas.core.frame.DataFrame'>\n",
      "RangeIndex: 10000 entries, 0 to 9999\n",
      "Data columns (total 14 columns):\n",
      "RowNumber          10000 non-null int64\n",
      "CustomerId         10000 non-null int64\n",
      "Surname            10000 non-null object\n",
      "CreditScore        10000 non-null int64\n",
      "Geography          10000 non-null object\n",
      "Gender             10000 non-null object\n",
      "Age                10000 non-null int64\n",
      "Tenure             9091 non-null float64\n",
      "Balance            10000 non-null float64\n",
      "NumOfProducts      10000 non-null int64\n",
      "HasCrCard          10000 non-null int64\n",
      "IsActiveMember     10000 non-null int64\n",
      "EstimatedSalary    10000 non-null float64\n",
      "Exited             10000 non-null int64\n",
      "dtypes: float64(3), int64(8), object(3)\n",
      "memory usage: 1.1+ MB\n"
     ]
    }
   ],
   "source": [
    "data.info()"
   ]
  },
  {
   "cell_type": "code",
   "execution_count": 4,
   "metadata": {},
   "outputs": [
    {
     "data": {
      "text/html": [
       "<div>\n",
       "<style scoped>\n",
       "    .dataframe tbody tr th:only-of-type {\n",
       "        vertical-align: middle;\n",
       "    }\n",
       "\n",
       "    .dataframe tbody tr th {\n",
       "        vertical-align: top;\n",
       "    }\n",
       "\n",
       "    .dataframe thead th {\n",
       "        text-align: right;\n",
       "    }\n",
       "</style>\n",
       "<table border=\"1\" class=\"dataframe\">\n",
       "  <thead>\n",
       "    <tr style=\"text-align: right;\">\n",
       "      <th></th>\n",
       "      <th>RowNumber</th>\n",
       "      <th>CustomerId</th>\n",
       "      <th>CreditScore</th>\n",
       "      <th>Age</th>\n",
       "      <th>Tenure</th>\n",
       "      <th>Balance</th>\n",
       "      <th>NumOfProducts</th>\n",
       "      <th>HasCrCard</th>\n",
       "      <th>IsActiveMember</th>\n",
       "      <th>EstimatedSalary</th>\n",
       "      <th>Exited</th>\n",
       "    </tr>\n",
       "  </thead>\n",
       "  <tbody>\n",
       "    <tr>\n",
       "      <td>count</td>\n",
       "      <td>10000.00000</td>\n",
       "      <td>1.000000e+04</td>\n",
       "      <td>10000.000000</td>\n",
       "      <td>10000.000000</td>\n",
       "      <td>9091.000000</td>\n",
       "      <td>10000.000000</td>\n",
       "      <td>10000.000000</td>\n",
       "      <td>10000.00000</td>\n",
       "      <td>10000.000000</td>\n",
       "      <td>10000.000000</td>\n",
       "      <td>10000.000000</td>\n",
       "    </tr>\n",
       "    <tr>\n",
       "      <td>mean</td>\n",
       "      <td>5000.50000</td>\n",
       "      <td>1.569094e+07</td>\n",
       "      <td>650.528800</td>\n",
       "      <td>38.921800</td>\n",
       "      <td>4.997690</td>\n",
       "      <td>76485.889288</td>\n",
       "      <td>1.530200</td>\n",
       "      <td>0.70550</td>\n",
       "      <td>0.515100</td>\n",
       "      <td>100090.239881</td>\n",
       "      <td>0.203700</td>\n",
       "    </tr>\n",
       "    <tr>\n",
       "      <td>std</td>\n",
       "      <td>2886.89568</td>\n",
       "      <td>7.193619e+04</td>\n",
       "      <td>96.653299</td>\n",
       "      <td>10.487806</td>\n",
       "      <td>2.894723</td>\n",
       "      <td>62397.405202</td>\n",
       "      <td>0.581654</td>\n",
       "      <td>0.45584</td>\n",
       "      <td>0.499797</td>\n",
       "      <td>57510.492818</td>\n",
       "      <td>0.402769</td>\n",
       "    </tr>\n",
       "    <tr>\n",
       "      <td>min</td>\n",
       "      <td>1.00000</td>\n",
       "      <td>1.556570e+07</td>\n",
       "      <td>350.000000</td>\n",
       "      <td>18.000000</td>\n",
       "      <td>0.000000</td>\n",
       "      <td>0.000000</td>\n",
       "      <td>1.000000</td>\n",
       "      <td>0.00000</td>\n",
       "      <td>0.000000</td>\n",
       "      <td>11.580000</td>\n",
       "      <td>0.000000</td>\n",
       "    </tr>\n",
       "    <tr>\n",
       "      <td>25%</td>\n",
       "      <td>2500.75000</td>\n",
       "      <td>1.562853e+07</td>\n",
       "      <td>584.000000</td>\n",
       "      <td>32.000000</td>\n",
       "      <td>2.000000</td>\n",
       "      <td>0.000000</td>\n",
       "      <td>1.000000</td>\n",
       "      <td>0.00000</td>\n",
       "      <td>0.000000</td>\n",
       "      <td>51002.110000</td>\n",
       "      <td>0.000000</td>\n",
       "    </tr>\n",
       "    <tr>\n",
       "      <td>50%</td>\n",
       "      <td>5000.50000</td>\n",
       "      <td>1.569074e+07</td>\n",
       "      <td>652.000000</td>\n",
       "      <td>37.000000</td>\n",
       "      <td>5.000000</td>\n",
       "      <td>97198.540000</td>\n",
       "      <td>1.000000</td>\n",
       "      <td>1.00000</td>\n",
       "      <td>1.000000</td>\n",
       "      <td>100193.915000</td>\n",
       "      <td>0.000000</td>\n",
       "    </tr>\n",
       "    <tr>\n",
       "      <td>75%</td>\n",
       "      <td>7500.25000</td>\n",
       "      <td>1.575323e+07</td>\n",
       "      <td>718.000000</td>\n",
       "      <td>44.000000</td>\n",
       "      <td>7.000000</td>\n",
       "      <td>127644.240000</td>\n",
       "      <td>2.000000</td>\n",
       "      <td>1.00000</td>\n",
       "      <td>1.000000</td>\n",
       "      <td>149388.247500</td>\n",
       "      <td>0.000000</td>\n",
       "    </tr>\n",
       "    <tr>\n",
       "      <td>max</td>\n",
       "      <td>10000.00000</td>\n",
       "      <td>1.581569e+07</td>\n",
       "      <td>850.000000</td>\n",
       "      <td>92.000000</td>\n",
       "      <td>10.000000</td>\n",
       "      <td>250898.090000</td>\n",
       "      <td>4.000000</td>\n",
       "      <td>1.00000</td>\n",
       "      <td>1.000000</td>\n",
       "      <td>199992.480000</td>\n",
       "      <td>1.000000</td>\n",
       "    </tr>\n",
       "  </tbody>\n",
       "</table>\n",
       "</div>"
      ],
      "text/plain": [
       "         RowNumber    CustomerId   CreditScore           Age       Tenure  \\\n",
       "count  10000.00000  1.000000e+04  10000.000000  10000.000000  9091.000000   \n",
       "mean    5000.50000  1.569094e+07    650.528800     38.921800     4.997690   \n",
       "std     2886.89568  7.193619e+04     96.653299     10.487806     2.894723   \n",
       "min        1.00000  1.556570e+07    350.000000     18.000000     0.000000   \n",
       "25%     2500.75000  1.562853e+07    584.000000     32.000000     2.000000   \n",
       "50%     5000.50000  1.569074e+07    652.000000     37.000000     5.000000   \n",
       "75%     7500.25000  1.575323e+07    718.000000     44.000000     7.000000   \n",
       "max    10000.00000  1.581569e+07    850.000000     92.000000    10.000000   \n",
       "\n",
       "             Balance  NumOfProducts    HasCrCard  IsActiveMember  \\\n",
       "count   10000.000000   10000.000000  10000.00000    10000.000000   \n",
       "mean    76485.889288       1.530200      0.70550        0.515100   \n",
       "std     62397.405202       0.581654      0.45584        0.499797   \n",
       "min         0.000000       1.000000      0.00000        0.000000   \n",
       "25%         0.000000       1.000000      0.00000        0.000000   \n",
       "50%     97198.540000       1.000000      1.00000        1.000000   \n",
       "75%    127644.240000       2.000000      1.00000        1.000000   \n",
       "max    250898.090000       4.000000      1.00000        1.000000   \n",
       "\n",
       "       EstimatedSalary        Exited  \n",
       "count     10000.000000  10000.000000  \n",
       "mean     100090.239881      0.203700  \n",
       "std       57510.492818      0.402769  \n",
       "min          11.580000      0.000000  \n",
       "25%       51002.110000      0.000000  \n",
       "50%      100193.915000      0.000000  \n",
       "75%      149388.247500      0.000000  \n",
       "max      199992.480000      1.000000  "
      ]
     },
     "execution_count": 4,
     "metadata": {},
     "output_type": "execute_result"
    }
   ],
   "source": [
    "data.describe()"
   ]
  },
  {
   "cell_type": "code",
   "execution_count": 5,
   "metadata": {},
   "outputs": [
    {
     "data": {
      "text/plain": [
       "1.0     952\n",
       "2.0     950\n",
       "8.0     933\n",
       "3.0     928\n",
       "5.0     927\n",
       "7.0     925\n",
       "4.0     885\n",
       "9.0     882\n",
       "6.0     881\n",
       "10.0    446\n",
       "0.0     382\n",
       "Name: Tenure, dtype: int64"
      ]
     },
     "execution_count": 5,
     "metadata": {},
     "output_type": "execute_result"
    }
   ],
   "source": [
    "data['Tenure'].value_counts()"
   ]
  },
  {
   "cell_type": "code",
   "execution_count": 6,
   "metadata": {},
   "outputs": [
    {
     "data": {
      "text/html": [
       "<div>\n",
       "<style scoped>\n",
       "    .dataframe tbody tr th:only-of-type {\n",
       "        vertical-align: middle;\n",
       "    }\n",
       "\n",
       "    .dataframe tbody tr th {\n",
       "        vertical-align: top;\n",
       "    }\n",
       "\n",
       "    .dataframe thead th {\n",
       "        text-align: right;\n",
       "    }\n",
       "</style>\n",
       "<table border=\"1\" class=\"dataframe\">\n",
       "  <thead>\n",
       "    <tr style=\"text-align: right;\">\n",
       "      <th></th>\n",
       "      <th>RowNumber</th>\n",
       "      <th>CustomerId</th>\n",
       "      <th>Surname</th>\n",
       "      <th>CreditScore</th>\n",
       "      <th>Geography</th>\n",
       "      <th>Gender</th>\n",
       "      <th>Age</th>\n",
       "      <th>Tenure</th>\n",
       "      <th>Balance</th>\n",
       "      <th>NumOfProducts</th>\n",
       "      <th>HasCrCard</th>\n",
       "      <th>IsActiveMember</th>\n",
       "      <th>EstimatedSalary</th>\n",
       "      <th>Exited</th>\n",
       "    </tr>\n",
       "  </thead>\n",
       "  <tbody>\n",
       "    <tr>\n",
       "      <td>30</td>\n",
       "      <td>31</td>\n",
       "      <td>15589475</td>\n",
       "      <td>Azikiwe</td>\n",
       "      <td>591</td>\n",
       "      <td>Spain</td>\n",
       "      <td>Female</td>\n",
       "      <td>39</td>\n",
       "      <td>NaN</td>\n",
       "      <td>0.00</td>\n",
       "      <td>3</td>\n",
       "      <td>1</td>\n",
       "      <td>0</td>\n",
       "      <td>140469.38</td>\n",
       "      <td>1</td>\n",
       "    </tr>\n",
       "    <tr>\n",
       "      <td>48</td>\n",
       "      <td>49</td>\n",
       "      <td>15766205</td>\n",
       "      <td>Yin</td>\n",
       "      <td>550</td>\n",
       "      <td>Germany</td>\n",
       "      <td>Male</td>\n",
       "      <td>38</td>\n",
       "      <td>NaN</td>\n",
       "      <td>103391.38</td>\n",
       "      <td>1</td>\n",
       "      <td>0</td>\n",
       "      <td>1</td>\n",
       "      <td>90878.13</td>\n",
       "      <td>0</td>\n",
       "    </tr>\n",
       "    <tr>\n",
       "      <td>51</td>\n",
       "      <td>52</td>\n",
       "      <td>15768193</td>\n",
       "      <td>Trevisani</td>\n",
       "      <td>585</td>\n",
       "      <td>Germany</td>\n",
       "      <td>Male</td>\n",
       "      <td>36</td>\n",
       "      <td>NaN</td>\n",
       "      <td>146050.97</td>\n",
       "      <td>2</td>\n",
       "      <td>0</td>\n",
       "      <td>0</td>\n",
       "      <td>86424.57</td>\n",
       "      <td>0</td>\n",
       "    </tr>\n",
       "    <tr>\n",
       "      <td>53</td>\n",
       "      <td>54</td>\n",
       "      <td>15702298</td>\n",
       "      <td>Parkhill</td>\n",
       "      <td>655</td>\n",
       "      <td>Germany</td>\n",
       "      <td>Male</td>\n",
       "      <td>41</td>\n",
       "      <td>NaN</td>\n",
       "      <td>125561.97</td>\n",
       "      <td>1</td>\n",
       "      <td>0</td>\n",
       "      <td>0</td>\n",
       "      <td>164040.94</td>\n",
       "      <td>1</td>\n",
       "    </tr>\n",
       "    <tr>\n",
       "      <td>60</td>\n",
       "      <td>61</td>\n",
       "      <td>15651280</td>\n",
       "      <td>Hunter</td>\n",
       "      <td>742</td>\n",
       "      <td>Germany</td>\n",
       "      <td>Male</td>\n",
       "      <td>35</td>\n",
       "      <td>NaN</td>\n",
       "      <td>136857.00</td>\n",
       "      <td>1</td>\n",
       "      <td>0</td>\n",
       "      <td>0</td>\n",
       "      <td>84509.57</td>\n",
       "      <td>0</td>\n",
       "    </tr>\n",
       "    <tr>\n",
       "      <td>...</td>\n",
       "      <td>...</td>\n",
       "      <td>...</td>\n",
       "      <td>...</td>\n",
       "      <td>...</td>\n",
       "      <td>...</td>\n",
       "      <td>...</td>\n",
       "      <td>...</td>\n",
       "      <td>...</td>\n",
       "      <td>...</td>\n",
       "      <td>...</td>\n",
       "      <td>...</td>\n",
       "      <td>...</td>\n",
       "      <td>...</td>\n",
       "      <td>...</td>\n",
       "    </tr>\n",
       "    <tr>\n",
       "      <td>9944</td>\n",
       "      <td>9945</td>\n",
       "      <td>15703923</td>\n",
       "      <td>Cameron</td>\n",
       "      <td>744</td>\n",
       "      <td>Germany</td>\n",
       "      <td>Male</td>\n",
       "      <td>41</td>\n",
       "      <td>NaN</td>\n",
       "      <td>190409.34</td>\n",
       "      <td>2</td>\n",
       "      <td>1</td>\n",
       "      <td>1</td>\n",
       "      <td>138361.48</td>\n",
       "      <td>0</td>\n",
       "    </tr>\n",
       "    <tr>\n",
       "      <td>9956</td>\n",
       "      <td>9957</td>\n",
       "      <td>15707861</td>\n",
       "      <td>Nucci</td>\n",
       "      <td>520</td>\n",
       "      <td>France</td>\n",
       "      <td>Female</td>\n",
       "      <td>46</td>\n",
       "      <td>NaN</td>\n",
       "      <td>85216.61</td>\n",
       "      <td>1</td>\n",
       "      <td>1</td>\n",
       "      <td>0</td>\n",
       "      <td>117369.52</td>\n",
       "      <td>1</td>\n",
       "    </tr>\n",
       "    <tr>\n",
       "      <td>9964</td>\n",
       "      <td>9965</td>\n",
       "      <td>15642785</td>\n",
       "      <td>Douglas</td>\n",
       "      <td>479</td>\n",
       "      <td>France</td>\n",
       "      <td>Male</td>\n",
       "      <td>34</td>\n",
       "      <td>NaN</td>\n",
       "      <td>117593.48</td>\n",
       "      <td>2</td>\n",
       "      <td>0</td>\n",
       "      <td>0</td>\n",
       "      <td>113308.29</td>\n",
       "      <td>0</td>\n",
       "    </tr>\n",
       "    <tr>\n",
       "      <td>9985</td>\n",
       "      <td>9986</td>\n",
       "      <td>15586914</td>\n",
       "      <td>Nepean</td>\n",
       "      <td>659</td>\n",
       "      <td>France</td>\n",
       "      <td>Male</td>\n",
       "      <td>36</td>\n",
       "      <td>NaN</td>\n",
       "      <td>123841.49</td>\n",
       "      <td>2</td>\n",
       "      <td>1</td>\n",
       "      <td>0</td>\n",
       "      <td>96833.00</td>\n",
       "      <td>0</td>\n",
       "    </tr>\n",
       "    <tr>\n",
       "      <td>9999</td>\n",
       "      <td>10000</td>\n",
       "      <td>15628319</td>\n",
       "      <td>Walker</td>\n",
       "      <td>792</td>\n",
       "      <td>France</td>\n",
       "      <td>Female</td>\n",
       "      <td>28</td>\n",
       "      <td>NaN</td>\n",
       "      <td>130142.79</td>\n",
       "      <td>1</td>\n",
       "      <td>1</td>\n",
       "      <td>0</td>\n",
       "      <td>38190.78</td>\n",
       "      <td>0</td>\n",
       "    </tr>\n",
       "  </tbody>\n",
       "</table>\n",
       "<p>909 rows × 14 columns</p>\n",
       "</div>"
      ],
      "text/plain": [
       "      RowNumber  CustomerId    Surname  CreditScore Geography  Gender  Age  \\\n",
       "30           31    15589475    Azikiwe          591     Spain  Female   39   \n",
       "48           49    15766205        Yin          550   Germany    Male   38   \n",
       "51           52    15768193  Trevisani          585   Germany    Male   36   \n",
       "53           54    15702298   Parkhill          655   Germany    Male   41   \n",
       "60           61    15651280     Hunter          742   Germany    Male   35   \n",
       "...         ...         ...        ...          ...       ...     ...  ...   \n",
       "9944       9945    15703923    Cameron          744   Germany    Male   41   \n",
       "9956       9957    15707861      Nucci          520    France  Female   46   \n",
       "9964       9965    15642785    Douglas          479    France    Male   34   \n",
       "9985       9986    15586914     Nepean          659    France    Male   36   \n",
       "9999      10000    15628319     Walker          792    France  Female   28   \n",
       "\n",
       "      Tenure    Balance  NumOfProducts  HasCrCard  IsActiveMember  \\\n",
       "30       NaN       0.00              3          1               0   \n",
       "48       NaN  103391.38              1          0               1   \n",
       "51       NaN  146050.97              2          0               0   \n",
       "53       NaN  125561.97              1          0               0   \n",
       "60       NaN  136857.00              1          0               0   \n",
       "...      ...        ...            ...        ...             ...   \n",
       "9944     NaN  190409.34              2          1               1   \n",
       "9956     NaN   85216.61              1          1               0   \n",
       "9964     NaN  117593.48              2          0               0   \n",
       "9985     NaN  123841.49              2          1               0   \n",
       "9999     NaN  130142.79              1          1               0   \n",
       "\n",
       "      EstimatedSalary  Exited  \n",
       "30          140469.38       1  \n",
       "48           90878.13       0  \n",
       "51           86424.57       0  \n",
       "53          164040.94       1  \n",
       "60           84509.57       0  \n",
       "...               ...     ...  \n",
       "9944        138361.48       0  \n",
       "9956        117369.52       1  \n",
       "9964        113308.29       0  \n",
       "9985         96833.00       0  \n",
       "9999         38190.78       0  \n",
       "\n",
       "[909 rows x 14 columns]"
      ]
     },
     "execution_count": 6,
     "metadata": {},
     "output_type": "execute_result"
    }
   ],
   "source": [
    "data.query('Tenure.isna()')"
   ]
  },
  {
   "cell_type": "markdown",
   "metadata": {},
   "source": [
    "После рассмотрения данных мы видим, что в части подготовки данных нам необходимо:\n",
    "\n",
    "1) преобразовать названия столбцов чтобы было удобнее работать\n",
    "\n",
    "2) избавится от столбцов с фамилией, индексом строки и уникальным идентификатором, поскольку эти данные не несут смысловой нагрузки для обучения модели.\n",
    "\n",
    "3) преобразовать оставшиеся данные типа object, чтобы не попасть в дамми ловушку.\n",
    "\n",
    "4) избавиться от пропусков в столбце tenure. Поскольку закономерности у пропущенных значений не прослеживаются, для этого я вижу 3 варианта: а) заполнить их случайными значениями от 0 до 10, б) заполнить их с помощью машинного обучения в) убрать их из данных. И как мне кажется самым верным путем будет решить задачу с помощью машинного обучения. Если мы уберем данные совсем, то модель получит для обучения меньше данных и это может оказать большее влияние на точность модели."
   ]
  },
  {
   "cell_type": "code",
   "execution_count": 7,
   "metadata": {},
   "outputs": [
    {
     "data": {
      "text/html": [
       "<div>\n",
       "<style scoped>\n",
       "    .dataframe tbody tr th:only-of-type {\n",
       "        vertical-align: middle;\n",
       "    }\n",
       "\n",
       "    .dataframe tbody tr th {\n",
       "        vertical-align: top;\n",
       "    }\n",
       "\n",
       "    .dataframe thead th {\n",
       "        text-align: right;\n",
       "    }\n",
       "</style>\n",
       "<table border=\"1\" class=\"dataframe\">\n",
       "  <thead>\n",
       "    <tr style=\"text-align: right;\">\n",
       "      <th></th>\n",
       "      <th>row_number</th>\n",
       "      <th>customer_id</th>\n",
       "      <th>surname</th>\n",
       "      <th>credit_score</th>\n",
       "      <th>geography</th>\n",
       "      <th>gender</th>\n",
       "      <th>age</th>\n",
       "      <th>tenure</th>\n",
       "      <th>balance</th>\n",
       "      <th>num_of_products</th>\n",
       "      <th>has_cr_card</th>\n",
       "      <th>is_active_member</th>\n",
       "      <th>estimated_salary</th>\n",
       "      <th>exited</th>\n",
       "    </tr>\n",
       "  </thead>\n",
       "  <tbody>\n",
       "    <tr>\n",
       "      <td>0</td>\n",
       "      <td>1</td>\n",
       "      <td>15634602</td>\n",
       "      <td>Hargrave</td>\n",
       "      <td>619</td>\n",
       "      <td>France</td>\n",
       "      <td>Female</td>\n",
       "      <td>42</td>\n",
       "      <td>2.0</td>\n",
       "      <td>0.00</td>\n",
       "      <td>1</td>\n",
       "      <td>1</td>\n",
       "      <td>1</td>\n",
       "      <td>101348.88</td>\n",
       "      <td>1</td>\n",
       "    </tr>\n",
       "    <tr>\n",
       "      <td>1</td>\n",
       "      <td>2</td>\n",
       "      <td>15647311</td>\n",
       "      <td>Hill</td>\n",
       "      <td>608</td>\n",
       "      <td>Spain</td>\n",
       "      <td>Female</td>\n",
       "      <td>41</td>\n",
       "      <td>1.0</td>\n",
       "      <td>83807.86</td>\n",
       "      <td>1</td>\n",
       "      <td>0</td>\n",
       "      <td>1</td>\n",
       "      <td>112542.58</td>\n",
       "      <td>0</td>\n",
       "    </tr>\n",
       "    <tr>\n",
       "      <td>2</td>\n",
       "      <td>3</td>\n",
       "      <td>15619304</td>\n",
       "      <td>Onio</td>\n",
       "      <td>502</td>\n",
       "      <td>France</td>\n",
       "      <td>Female</td>\n",
       "      <td>42</td>\n",
       "      <td>8.0</td>\n",
       "      <td>159660.80</td>\n",
       "      <td>3</td>\n",
       "      <td>1</td>\n",
       "      <td>0</td>\n",
       "      <td>113931.57</td>\n",
       "      <td>1</td>\n",
       "    </tr>\n",
       "  </tbody>\n",
       "</table>\n",
       "</div>"
      ],
      "text/plain": [
       "   row_number  customer_id   surname  credit_score geography  gender  age  \\\n",
       "0           1     15634602  Hargrave           619    France  Female   42   \n",
       "1           2     15647311      Hill           608     Spain  Female   41   \n",
       "2           3     15619304      Onio           502    France  Female   42   \n",
       "\n",
       "   tenure    balance  num_of_products  has_cr_card  is_active_member  \\\n",
       "0     2.0       0.00                1            1                 1   \n",
       "1     1.0   83807.86                1            0                 1   \n",
       "2     8.0  159660.80                3            1                 0   \n",
       "\n",
       "   estimated_salary  exited  \n",
       "0         101348.88       1  \n",
       "1         112542.58       0  \n",
       "2         113931.57       1  "
      ]
     },
     "execution_count": 7,
     "metadata": {},
     "output_type": "execute_result"
    }
   ],
   "source": [
    "data.set_axis(['row_number','customer_id','surname', 'credit_score', 'geography', 'gender', 'age',\n",
    "               'tenure', 'balance', 'num_of_products', 'has_cr_card', 'is_active_member',\n",
    "               'estimated_salary', 'exited'], axis = 'columns', inplace = True)\n",
    "data.head(3)"
   ]
  },
  {
   "cell_type": "code",
   "execution_count": 8,
   "metadata": {},
   "outputs": [],
   "source": [
    "data = data.drop(['row_number', 'customer_id', 'surname'], axis = 1)"
   ]
  },
  {
   "cell_type": "code",
   "execution_count": 9,
   "metadata": {},
   "outputs": [
    {
     "data": {
      "text/html": [
       "<div>\n",
       "<style scoped>\n",
       "    .dataframe tbody tr th:only-of-type {\n",
       "        vertical-align: middle;\n",
       "    }\n",
       "\n",
       "    .dataframe tbody tr th {\n",
       "        vertical-align: top;\n",
       "    }\n",
       "\n",
       "    .dataframe thead th {\n",
       "        text-align: right;\n",
       "    }\n",
       "</style>\n",
       "<table border=\"1\" class=\"dataframe\">\n",
       "  <thead>\n",
       "    <tr style=\"text-align: right;\">\n",
       "      <th></th>\n",
       "      <th>credit_score</th>\n",
       "      <th>age</th>\n",
       "      <th>tenure</th>\n",
       "      <th>balance</th>\n",
       "      <th>num_of_products</th>\n",
       "      <th>has_cr_card</th>\n",
       "      <th>is_active_member</th>\n",
       "      <th>estimated_salary</th>\n",
       "      <th>exited</th>\n",
       "      <th>geography_Germany</th>\n",
       "      <th>geography_Spain</th>\n",
       "      <th>gender_Male</th>\n",
       "    </tr>\n",
       "  </thead>\n",
       "  <tbody>\n",
       "    <tr>\n",
       "      <td>0</td>\n",
       "      <td>619</td>\n",
       "      <td>42</td>\n",
       "      <td>2.0</td>\n",
       "      <td>0.00</td>\n",
       "      <td>1</td>\n",
       "      <td>1</td>\n",
       "      <td>1</td>\n",
       "      <td>101348.88</td>\n",
       "      <td>1</td>\n",
       "      <td>0</td>\n",
       "      <td>0</td>\n",
       "      <td>0</td>\n",
       "    </tr>\n",
       "    <tr>\n",
       "      <td>1</td>\n",
       "      <td>608</td>\n",
       "      <td>41</td>\n",
       "      <td>1.0</td>\n",
       "      <td>83807.86</td>\n",
       "      <td>1</td>\n",
       "      <td>0</td>\n",
       "      <td>1</td>\n",
       "      <td>112542.58</td>\n",
       "      <td>0</td>\n",
       "      <td>0</td>\n",
       "      <td>1</td>\n",
       "      <td>0</td>\n",
       "    </tr>\n",
       "    <tr>\n",
       "      <td>2</td>\n",
       "      <td>502</td>\n",
       "      <td>42</td>\n",
       "      <td>8.0</td>\n",
       "      <td>159660.80</td>\n",
       "      <td>3</td>\n",
       "      <td>1</td>\n",
       "      <td>0</td>\n",
       "      <td>113931.57</td>\n",
       "      <td>1</td>\n",
       "      <td>0</td>\n",
       "      <td>0</td>\n",
       "      <td>0</td>\n",
       "    </tr>\n",
       "  </tbody>\n",
       "</table>\n",
       "</div>"
      ],
      "text/plain": [
       "   credit_score  age  tenure    balance  num_of_products  has_cr_card  \\\n",
       "0           619   42     2.0       0.00                1            1   \n",
       "1           608   41     1.0   83807.86                1            0   \n",
       "2           502   42     8.0  159660.80                3            1   \n",
       "\n",
       "   is_active_member  estimated_salary  exited  geography_Germany  \\\n",
       "0                 1         101348.88       1                  0   \n",
       "1                 1         112542.58       0                  0   \n",
       "2                 0         113931.57       1                  0   \n",
       "\n",
       "   geography_Spain  gender_Male  \n",
       "0                0            0  \n",
       "1                1            0  \n",
       "2                0            0  "
      ]
     },
     "execution_count": 9,
     "metadata": {},
     "output_type": "execute_result"
    }
   ],
   "source": [
    "data_ohe = pd.get_dummies(data, drop_first=True)\n",
    "data_ohe.head(3)"
   ]
  },
  {
   "cell_type": "markdown",
   "metadata": {},
   "source": [
    "Теперь разделим таблицу на таблицу с пропусками (которую мы будем предсказывать) и на таблицу без пропусков в столбце tenure которую мы разделим на тренировочную и валидационную выборки. Можно конечно еще разделить на тестовую, но предположительно данный столбец не несет такой важности чтобы делать на него упор, кроме того у нас не такая большая выборка, и таким образом мы увеличим объем данных для обучения модели."
   ]
  },
  {
   "cell_type": "code",
   "execution_count": 10,
   "metadata": {},
   "outputs": [],
   "source": [
    "data_tenure_bad = data_ohe.query('tenure.isna()')\n",
    "data_tenure_good = data_ohe.query('tenure.notna()')"
   ]
  },
  {
   "cell_type": "code",
   "execution_count": 11,
   "metadata": {},
   "outputs": [],
   "source": [
    "features_tenure = data_tenure_good.drop('tenure', axis = 1)\n",
    "target_tenure = data_tenure_good['tenure']\n",
    "features_train_tenure, features_valid_tenure, target_train_tenure, target_valid_tenure = train_test_split(features_tenure, \n",
    "                                       target_tenure, test_size = 0.25, random_state=12345, stratify = target_tenure)\n",
    "features_predict_tenure = data_tenure_bad.drop('tenure', axis = 1)"
   ]
  },
  {
   "cell_type": "code",
   "execution_count": 12,
   "metadata": {},
   "outputs": [
    {
     "name": "stdout",
     "output_type": "stream",
     "text": [
      "Высшая точность: 0.11834579850417949 Количество деревьев: 40 Максимальная глубина: 10\n"
     ]
    }
   ],
   "source": [
    "best_model_tenure = None\n",
    "best_accuracy_tenure = 0\n",
    "best_est_tenure = 0\n",
    "best_depth_tenure = 0\n",
    "for est_tenure in range(10, 51, 10):\n",
    "    for depth_tenure in range (1, 11):\n",
    "        model_tenure = RandomForestClassifier(random_state = 12345, n_estimators = est_tenure, max_depth = depth_tenure)\n",
    "        model_tenure.fit(features_train_tenure, target_train_tenure) \n",
    "        answer_tenure = model_tenure.predict(features_valid_tenure)\n",
    "        accuracy_tenure = accuracy_score(target_valid_tenure, answer_tenure)\n",
    "        if best_accuracy_tenure < accuracy_tenure:\n",
    "            best_model_tenure = model_tenure\n",
    "            best_accuracy_tenure = accuracy_tenure\n",
    "            best_est_tenure = est_tenure\n",
    "            best_depth_tenure = depth_tenure\n",
    "print(\"Высшая точность:\", best_accuracy_tenure, \"Количество деревьев:\", best_est_tenure, \"Максимальная глубина:\", depth_tenure)"
   ]
  },
  {
   "cell_type": "markdown",
   "metadata": {},
   "source": [
    "Точность не то чтобы высокая, но на 1,5% адекватнее, чем если бы мы проставили все пропущенные значения как самое популярное. Поскольку лучше вариантов нет - так и сделаем."
   ]
  },
  {
   "cell_type": "code",
   "execution_count": 13,
   "metadata": {},
   "outputs": [
    {
     "data": {
      "text/html": [
       "<div>\n",
       "<style scoped>\n",
       "    .dataframe tbody tr th:only-of-type {\n",
       "        vertical-align: middle;\n",
       "    }\n",
       "\n",
       "    .dataframe tbody tr th {\n",
       "        vertical-align: top;\n",
       "    }\n",
       "\n",
       "    .dataframe thead th {\n",
       "        text-align: right;\n",
       "    }\n",
       "</style>\n",
       "<table border=\"1\" class=\"dataframe\">\n",
       "  <thead>\n",
       "    <tr style=\"text-align: right;\">\n",
       "      <th></th>\n",
       "      <th>credit_score</th>\n",
       "      <th>age</th>\n",
       "      <th>balance</th>\n",
       "      <th>num_of_products</th>\n",
       "      <th>has_cr_card</th>\n",
       "      <th>is_active_member</th>\n",
       "      <th>estimated_salary</th>\n",
       "      <th>exited</th>\n",
       "      <th>geography_Germany</th>\n",
       "      <th>geography_Spain</th>\n",
       "      <th>gender_Male</th>\n",
       "      <th>tenures</th>\n",
       "    </tr>\n",
       "  </thead>\n",
       "  <tbody>\n",
       "    <tr>\n",
       "      <td>30</td>\n",
       "      <td>591</td>\n",
       "      <td>39</td>\n",
       "      <td>0.00</td>\n",
       "      <td>3</td>\n",
       "      <td>1</td>\n",
       "      <td>0</td>\n",
       "      <td>140469.38</td>\n",
       "      <td>1</td>\n",
       "      <td>0</td>\n",
       "      <td>1</td>\n",
       "      <td>0</td>\n",
       "      <td>3.0</td>\n",
       "    </tr>\n",
       "    <tr>\n",
       "      <td>48</td>\n",
       "      <td>550</td>\n",
       "      <td>38</td>\n",
       "      <td>103391.38</td>\n",
       "      <td>1</td>\n",
       "      <td>0</td>\n",
       "      <td>1</td>\n",
       "      <td>90878.13</td>\n",
       "      <td>0</td>\n",
       "      <td>1</td>\n",
       "      <td>0</td>\n",
       "      <td>1</td>\n",
       "      <td>1.0</td>\n",
       "    </tr>\n",
       "    <tr>\n",
       "      <td>51</td>\n",
       "      <td>585</td>\n",
       "      <td>36</td>\n",
       "      <td>146050.97</td>\n",
       "      <td>2</td>\n",
       "      <td>0</td>\n",
       "      <td>0</td>\n",
       "      <td>86424.57</td>\n",
       "      <td>0</td>\n",
       "      <td>1</td>\n",
       "      <td>0</td>\n",
       "      <td>1</td>\n",
       "      <td>8.0</td>\n",
       "    </tr>\n",
       "    <tr>\n",
       "      <td>53</td>\n",
       "      <td>655</td>\n",
       "      <td>41</td>\n",
       "      <td>125561.97</td>\n",
       "      <td>1</td>\n",
       "      <td>0</td>\n",
       "      <td>0</td>\n",
       "      <td>164040.94</td>\n",
       "      <td>1</td>\n",
       "      <td>1</td>\n",
       "      <td>0</td>\n",
       "      <td>1</td>\n",
       "      <td>1.0</td>\n",
       "    </tr>\n",
       "    <tr>\n",
       "      <td>60</td>\n",
       "      <td>742</td>\n",
       "      <td>35</td>\n",
       "      <td>136857.00</td>\n",
       "      <td>1</td>\n",
       "      <td>0</td>\n",
       "      <td>0</td>\n",
       "      <td>84509.57</td>\n",
       "      <td>0</td>\n",
       "      <td>1</td>\n",
       "      <td>0</td>\n",
       "      <td>1</td>\n",
       "      <td>8.0</td>\n",
       "    </tr>\n",
       "  </tbody>\n",
       "</table>\n",
       "</div>"
      ],
      "text/plain": [
       "    credit_score  age    balance  num_of_products  has_cr_card  \\\n",
       "30           591   39       0.00                3            1   \n",
       "48           550   38  103391.38                1            0   \n",
       "51           585   36  146050.97                2            0   \n",
       "53           655   41  125561.97                1            0   \n",
       "60           742   35  136857.00                1            0   \n",
       "\n",
       "    is_active_member  estimated_salary  exited  geography_Germany  \\\n",
       "30                 0         140469.38       1                  0   \n",
       "48                 1          90878.13       0                  1   \n",
       "51                 0          86424.57       0                  1   \n",
       "53                 0         164040.94       1                  1   \n",
       "60                 0          84509.57       0                  1   \n",
       "\n",
       "    geography_Spain  gender_Male  tenures  \n",
       "30                1            0      3.0  \n",
       "48                0            1      1.0  \n",
       "51                0            1      8.0  \n",
       "53                0            1      1.0  \n",
       "60                0            1      8.0  "
      ]
     },
     "execution_count": 13,
     "metadata": {},
     "output_type": "execute_result"
    }
   ],
   "source": [
    "model_tenure_end = RandomForestClassifier(random_state = 12345, n_estimators = 40, max_depth = 10)\n",
    "model_tenure_end.fit(features_tenure, target_tenure)\n",
    "features_predict_tenure['tenures'] = model_tenure_end.predict(features_predict_tenure)\n",
    "features_predict_tenure.head(5)"
   ]
  },
  {
   "cell_type": "code",
   "execution_count": 14,
   "metadata": {},
   "outputs": [
    {
     "name": "stderr",
     "output_type": "stream",
     "text": [
      "/opt/conda/lib/python3.7/site-packages/ipykernel_launcher.py:1: SettingWithCopyWarning: \n",
      "A value is trying to be set on a copy of a slice from a DataFrame.\n",
      "Try using .loc[row_indexer,col_indexer] = value instead\n",
      "\n",
      "See the caveats in the documentation: http://pandas.pydata.org/pandas-docs/stable/user_guide/indexing.html#returning-a-view-versus-a-copy\n",
      "  \"\"\"Entry point for launching an IPython kernel.\n"
     ]
    },
    {
     "data": {
      "text/html": [
       "<div>\n",
       "<style scoped>\n",
       "    .dataframe tbody tr th:only-of-type {\n",
       "        vertical-align: middle;\n",
       "    }\n",
       "\n",
       "    .dataframe tbody tr th {\n",
       "        vertical-align: top;\n",
       "    }\n",
       "\n",
       "    .dataframe thead th {\n",
       "        text-align: right;\n",
       "    }\n",
       "</style>\n",
       "<table border=\"1\" class=\"dataframe\">\n",
       "  <thead>\n",
       "    <tr style=\"text-align: right;\">\n",
       "      <th></th>\n",
       "      <th>credit_score</th>\n",
       "      <th>age</th>\n",
       "      <th>balance</th>\n",
       "      <th>num_of_products</th>\n",
       "      <th>has_cr_card</th>\n",
       "      <th>is_active_member</th>\n",
       "      <th>estimated_salary</th>\n",
       "      <th>exited</th>\n",
       "      <th>geography_Germany</th>\n",
       "      <th>geography_Spain</th>\n",
       "      <th>gender_Male</th>\n",
       "      <th>tenures</th>\n",
       "    </tr>\n",
       "  </thead>\n",
       "  <tbody>\n",
       "    <tr>\n",
       "      <td>0</td>\n",
       "      <td>619</td>\n",
       "      <td>42</td>\n",
       "      <td>0.00</td>\n",
       "      <td>1</td>\n",
       "      <td>1</td>\n",
       "      <td>1</td>\n",
       "      <td>101348.88</td>\n",
       "      <td>1</td>\n",
       "      <td>0</td>\n",
       "      <td>0</td>\n",
       "      <td>0</td>\n",
       "      <td>2.0</td>\n",
       "    </tr>\n",
       "    <tr>\n",
       "      <td>1</td>\n",
       "      <td>608</td>\n",
       "      <td>41</td>\n",
       "      <td>83807.86</td>\n",
       "      <td>1</td>\n",
       "      <td>0</td>\n",
       "      <td>1</td>\n",
       "      <td>112542.58</td>\n",
       "      <td>0</td>\n",
       "      <td>0</td>\n",
       "      <td>1</td>\n",
       "      <td>0</td>\n",
       "      <td>1.0</td>\n",
       "    </tr>\n",
       "    <tr>\n",
       "      <td>2</td>\n",
       "      <td>502</td>\n",
       "      <td>42</td>\n",
       "      <td>159660.80</td>\n",
       "      <td>3</td>\n",
       "      <td>1</td>\n",
       "      <td>0</td>\n",
       "      <td>113931.57</td>\n",
       "      <td>1</td>\n",
       "      <td>0</td>\n",
       "      <td>0</td>\n",
       "      <td>0</td>\n",
       "      <td>8.0</td>\n",
       "    </tr>\n",
       "    <tr>\n",
       "      <td>3</td>\n",
       "      <td>699</td>\n",
       "      <td>39</td>\n",
       "      <td>0.00</td>\n",
       "      <td>2</td>\n",
       "      <td>0</td>\n",
       "      <td>0</td>\n",
       "      <td>93826.63</td>\n",
       "      <td>0</td>\n",
       "      <td>0</td>\n",
       "      <td>0</td>\n",
       "      <td>0</td>\n",
       "      <td>1.0</td>\n",
       "    </tr>\n",
       "    <tr>\n",
       "      <td>4</td>\n",
       "      <td>850</td>\n",
       "      <td>43</td>\n",
       "      <td>125510.82</td>\n",
       "      <td>1</td>\n",
       "      <td>1</td>\n",
       "      <td>1</td>\n",
       "      <td>79084.10</td>\n",
       "      <td>0</td>\n",
       "      <td>0</td>\n",
       "      <td>1</td>\n",
       "      <td>0</td>\n",
       "      <td>2.0</td>\n",
       "    </tr>\n",
       "  </tbody>\n",
       "</table>\n",
       "</div>"
      ],
      "text/plain": [
       "   credit_score  age    balance  num_of_products  has_cr_card  \\\n",
       "0           619   42       0.00                1            1   \n",
       "1           608   41   83807.86                1            0   \n",
       "2           502   42  159660.80                3            1   \n",
       "3           699   39       0.00                2            0   \n",
       "4           850   43  125510.82                1            1   \n",
       "\n",
       "   is_active_member  estimated_salary  exited  geography_Germany  \\\n",
       "0                 1         101348.88       1                  0   \n",
       "1                 1         112542.58       0                  0   \n",
       "2                 0         113931.57       1                  0   \n",
       "3                 0          93826.63       0                  0   \n",
       "4                 1          79084.10       0                  0   \n",
       "\n",
       "   geography_Spain  gender_Male  tenures  \n",
       "0                0            0      2.0  \n",
       "1                1            0      1.0  \n",
       "2                0            0      8.0  \n",
       "3                0            0      1.0  \n",
       "4                1            0      2.0  "
      ]
     },
     "execution_count": 14,
     "metadata": {},
     "output_type": "execute_result"
    }
   ],
   "source": [
    "data_tenure_good['tenures'] = data_tenure_good['tenure']\n",
    "data_tenure = data_tenure_good.drop('tenure', axis = 1)\n",
    "data_tenure.head()"
   ]
  },
  {
   "cell_type": "code",
   "execution_count": 15,
   "metadata": {},
   "outputs": [
    {
     "name": "stdout",
     "output_type": "stream",
     "text": [
      "<class 'pandas.core.frame.DataFrame'>\n",
      "Int64Index: 10000 entries, 0 to 9999\n",
      "Data columns (total 12 columns):\n",
      "credit_score         10000 non-null int64\n",
      "age                  10000 non-null int64\n",
      "balance              10000 non-null float64\n",
      "num_of_products      10000 non-null int64\n",
      "has_cr_card          10000 non-null int64\n",
      "is_active_member     10000 non-null int64\n",
      "estimated_salary     10000 non-null float64\n",
      "exited               10000 non-null int64\n",
      "geography_Germany    10000 non-null uint8\n",
      "geography_Spain      10000 non-null uint8\n",
      "gender_Male          10000 non-null uint8\n",
      "tenures              10000 non-null float64\n",
      "dtypes: float64(3), int64(6), uint8(3)\n",
      "memory usage: 810.5 KB\n"
     ]
    }
   ],
   "source": [
    "df = pd.concat([data_tenure] + [features_predict_tenure])\n",
    "df.info()"
   ]
  },
  {
   "cell_type": "markdown",
   "metadata": {},
   "source": [
    "### Вывод\n",
    "\n",
    "Данные подготовлены к исследованию."
   ]
  },
  {
   "cell_type": "markdown",
   "metadata": {},
   "source": [
    "## Исследование задачи"
   ]
  },
  {
   "cell_type": "markdown",
   "metadata": {},
   "source": [
    "Проверим как обучится модель, на данных которые у нас есть. Поскольку мы уже неоднократно убедились, что решающий лес самый точный метод, из известных нам на данный момент, сразу используем его."
   ]
  },
  {
   "cell_type": "code",
   "execution_count": 16,
   "metadata": {},
   "outputs": [],
   "source": [
    "features = df.drop('exited', axis = 1)\n",
    "target = df['exited']\n",
    "features_train_valid, features_test, target_train_valid, target_test = train_test_split(features, target, \n",
    "                                                                        test_size = 0.2, random_state=12345, stratify = target)"
   ]
  },
  {
   "cell_type": "code",
   "execution_count": 17,
   "metadata": {},
   "outputs": [],
   "source": [
    "features_train, features_valid, target_train, target_valid = train_test_split(features_train_valid, \n",
    "                                       target_train_valid, test_size = 0.25, random_state=12345, stratify = target_train_valid)"
   ]
  },
  {
   "cell_type": "code",
   "execution_count": 18,
   "metadata": {},
   "outputs": [
    {
     "name": "stderr",
     "output_type": "stream",
     "text": [
      "/opt/conda/lib/python3.7/site-packages/sklearn/metrics/classification.py:1437: UndefinedMetricWarning: F-score is ill-defined and being set to 0.0 due to no predicted samples.\n",
      "  'precision', 'predicted', average, warn_for)\n",
      "/opt/conda/lib/python3.7/site-packages/sklearn/metrics/classification.py:1437: UndefinedMetricWarning: F-score is ill-defined and being set to 0.0 due to no predicted samples.\n",
      "  'precision', 'predicted', average, warn_for)\n",
      "/opt/conda/lib/python3.7/site-packages/sklearn/metrics/classification.py:1437: UndefinedMetricWarning: F-score is ill-defined and being set to 0.0 due to no predicted samples.\n",
      "  'precision', 'predicted', average, warn_for)\n",
      "/opt/conda/lib/python3.7/site-packages/sklearn/metrics/classification.py:1437: UndefinedMetricWarning: F-score is ill-defined and being set to 0.0 due to no predicted samples.\n",
      "  'precision', 'predicted', average, warn_for)\n",
      "/opt/conda/lib/python3.7/site-packages/sklearn/metrics/classification.py:1437: UndefinedMetricWarning: F-score is ill-defined and being set to 0.0 due to no predicted samples.\n",
      "  'precision', 'predicted', average, warn_for)\n"
     ]
    },
    {
     "name": "stdout",
     "output_type": "stream",
     "text": [
      "Высшая f1: 0.5847589424572317 Количество деревьев: 30 Максимальная глубина: 10\n"
     ]
    }
   ],
   "source": [
    "best_model = None\n",
    "best_f1 = 0\n",
    "best_est = 0\n",
    "best_depth = 0\n",
    "for est in range(10, 51, 10):\n",
    "    for depth in range (1, 11):\n",
    "        model = RandomForestClassifier(random_state = 12345, n_estimators = est, max_depth = depth)\n",
    "        model.fit(features_train, target_train) \n",
    "        answer = model.predict(features_valid)\n",
    "        f1 = f1_score(target_valid, answer)\n",
    "        if best_f1 < f1:\n",
    "            best_model = model\n",
    "            best_f1 = f1\n",
    "            best_est = est\n",
    "            best_depth = depth\n",
    "print(\"Высшая f1:\", best_f1, \"Количество деревьев:\", best_est, \"Максимальная глубина:\", depth)"
   ]
  },
  {
   "cell_type": "code",
   "execution_count": 19,
   "metadata": {},
   "outputs": [
    {
     "data": {
      "text/plain": [
       "0    7963\n",
       "1    2037\n",
       "Name: exited, dtype: int64"
      ]
     },
     "execution_count": 19,
     "metadata": {},
     "output_type": "execute_result"
    }
   ],
   "source": [
    "df['exited'].value_counts()"
   ]
  },
  {
   "cell_type": "markdown",
   "metadata": {},
   "source": [
    "### Вывод:\n",
    "\n",
    "Мы определили гиперпараметры для нашей модели, результат близок к тому что нужно, но все еще недостаточно, значит попробуем увеличить точность за счет снижения дисбаланса между кол-вом единиц и нолей в столбце exited - их соотношение приблизительно 1:4."
   ]
  },
  {
   "cell_type": "markdown",
   "metadata": {},
   "source": [
    "## Борьба с дисбалансом"
   ]
  },
  {
   "cell_type": "markdown",
   "metadata": {},
   "source": [
    "Я знаю три способа сбалансировать классификацию, чтобы модель смогла обучиться точнее: 1) использовать class_weight чтобы сбалансировать вес класса, 2) увеличить выборку (в данном случае положительную), 3) уменьшить выборку (в данном случае отрицательную). И для проверки какой из способов будет лучше, кроме метрики f1, у нас есть ROC кривая и метод оценки качества auc_roc считающий площадь под ROC кривой. \n",
    "\n",
    "Как мне кажется уменьшение выборки нам точно не поможет, поскольку чем больше данных и эти данные разнообразнее то тем лучше должна обучиться модель."
   ]
  },
  {
   "cell_type": "code",
   "execution_count": 20,
   "metadata": {},
   "outputs": [
    {
     "data": {
      "text/plain": [
       "0.5843750000000001"
      ]
     },
     "execution_count": 20,
     "metadata": {},
     "output_type": "execute_result"
    }
   ],
   "source": [
    "# вес класса\n",
    "model_1 = RandomForestClassifier(random_state = 12345, n_estimators = 30, max_depth = 10, class_weight = 'balanced')\n",
    "model_1.fit(features_train, target_train) \n",
    "predicted_1 = model.predict(features_valid)\n",
    "f1_score(target_valid, predicted_1)"
   ]
  },
  {
   "cell_type": "markdown",
   "metadata": {},
   "source": [
    "Пока выглядит неутешительно. Попробуем изменить выборку."
   ]
  },
  {
   "cell_type": "markdown",
   "metadata": {},
   "source": [
    "Поскольку при увеличении и уменьшении выборка меняется, подберем гиперпараметры для новых выборок отдельно."
   ]
  },
  {
   "cell_type": "code",
   "execution_count": 21,
   "metadata": {},
   "outputs": [],
   "source": [
    "# увеличение выборки\n",
    "features_train_zero = features_train[target_train == 0]\n",
    "features_train_one = features_train[target_train == 1]\n",
    "target_train_zero = target_train[target_train == 0]\n",
    "target_train_one = target_train[target_train == 1]\n",
    "\n",
    "features_upsampled = pd.concat([features_train_zero] + [features_train_one] * 3)\n",
    "target_upsampled = pd.concat([target_train_zero] + [target_train_one] * 3)\n",
    "\n",
    "features_upsampled, target_upsampled = shuffle(features_upsampled, target_upsampled, random_state=12345)"
   ]
  },
  {
   "cell_type": "code",
   "execution_count": 22,
   "metadata": {},
   "outputs": [
    {
     "name": "stdout",
     "output_type": "stream",
     "text": [
      "Высшая f1: 0.6279329608938548 Количество деревьев: 20 Максимальная глубина: 7\n"
     ]
    }
   ],
   "source": [
    "best_model_2_choose = None\n",
    "best_f1_2_choose = 0\n",
    "best_est_2_choose = 0\n",
    "best_depth_2_choose = 0\n",
    "for est in range(10, 51, 10):\n",
    "    for depth in range (1, 11):\n",
    "        model_2_choose = RandomForestClassifier(random_state = 12345, n_estimators = est, max_depth = depth)\n",
    "        model_2_choose.fit(features_upsampled, target_upsampled) \n",
    "        predicted_2_choose = model_2_choose.predict(features_valid)\n",
    "        f1_2 = f1_score(target_valid, predicted_2_choose)\n",
    "        if best_f1_2_choose < f1_2:\n",
    "            best_model_2_choose = model_2_choose\n",
    "            best_f1_2_choose = f1_2\n",
    "            best_est_2_choose = est\n",
    "            best_depth_2_choose = depth\n",
    "print(\"Высшая f1:\", best_f1_2_choose, \"Количество деревьев:\", best_est_2_choose, \"Максимальная глубина:\", best_depth_2_choose)"
   ]
  },
  {
   "cell_type": "code",
   "execution_count": 23,
   "metadata": {},
   "outputs": [
    {
     "data": {
      "text/plain": [
       "0.6279329608938548"
      ]
     },
     "execution_count": 23,
     "metadata": {},
     "output_type": "execute_result"
    }
   ],
   "source": [
    "model_2 = RandomForestClassifier(random_state = 12345, n_estimators = 20, max_depth = 7)\n",
    "model_2.fit(features_upsampled, target_upsampled) \n",
    "predicted_2 = model_2.predict(features_valid)\n",
    "f1_score(target_valid, predicted_2)"
   ]
  },
  {
   "cell_type": "markdown",
   "metadata": {},
   "source": [
    "Увеличение выборки принесло свои плоды."
   ]
  },
  {
   "cell_type": "code",
   "execution_count": 24,
   "metadata": {},
   "outputs": [],
   "source": [
    "# уменьшение выборки\n",
    "features_downsampled = pd.concat([features_train_zero.sample(frac=0.25, random_state=12345)] + [features_train_one])\n",
    "target_downsampled = pd.concat([target_train_zero.sample(frac=0.25, random_state=12345)] + [target_train_one])\n",
    "\n",
    "features_downsampled, target_downsampled = shuffle(features_downsampled, target_downsampled, random_state=12345)"
   ]
  },
  {
   "cell_type": "code",
   "execution_count": 25,
   "metadata": {},
   "outputs": [
    {
     "name": "stdout",
     "output_type": "stream",
     "text": [
      "Высшая f1: 0.5975024015369836 Количество деревьев: 50 Максимальная глубина: 10\n"
     ]
    }
   ],
   "source": [
    "best_model_3_choose = None\n",
    "best_f1_3_choose = 0\n",
    "best_est_3_choose = 0\n",
    "best_depth_3_choose = 0\n",
    "for est in range(10, 101, 10):\n",
    "    for depth in range (1, 13):\n",
    "        model_3_choose = RandomForestClassifier(random_state = 12345, n_estimators = est, max_depth = depth)\n",
    "        model_3_choose.fit(features_downsampled, target_downsampled) \n",
    "        predicted_3_choose = model_3_choose.predict(features_valid)\n",
    "        f1_3 = f1_score(target_valid, predicted_3_choose)\n",
    "        if best_f1_3_choose < f1_3:\n",
    "            best_model_3_choose = model_3_choose\n",
    "            best_f1_3_choose = f1_3\n",
    "            best_est_3_choose = est\n",
    "            best_depth_3_choose = depth\n",
    "print(\"Высшая f1:\", best_f1_3_choose, \"Количество деревьев:\", best_est_3_choose, \"Максимальная глубина:\", best_depth_3_choose)"
   ]
  },
  {
   "cell_type": "code",
   "execution_count": 26,
   "metadata": {},
   "outputs": [
    {
     "data": {
      "text/plain": [
       "0.5975024015369836"
      ]
     },
     "execution_count": 26,
     "metadata": {},
     "output_type": "execute_result"
    }
   ],
   "source": [
    "model_3 = RandomForestClassifier(random_state = 12345, n_estimators = 50, max_depth = 10)\n",
    "model_3.fit(features_downsampled, target_downsampled) \n",
    "predicted_3 = model_3.predict(features_valid)\n",
    "f1_score(target_valid, predicted_3)"
   ]
  },
  {
   "cell_type": "markdown",
   "metadata": {},
   "source": [
    "Уменьшение выборки тоже помогло, но от метода увеличения выборки все таки ощутимо отстает."
   ]
  },
  {
   "cell_type": "markdown",
   "metadata": {},
   "source": [
    "Также попробуем обучить модель логистической регрессии с этими же способами борьбы с дисбалансом и посмотрим верна ли моя гипотеза что решающий лес лучше справляется с решением таких задач."
   ]
  },
  {
   "cell_type": "code",
   "execution_count": 27,
   "metadata": {},
   "outputs": [
    {
     "data": {
      "text/plain": [
       "0.4716821639898563"
      ]
     },
     "execution_count": 27,
     "metadata": {},
     "output_type": "execute_result"
    }
   ],
   "source": [
    "# вес класса\n",
    "model_1_log_reg = LogisticRegression(random_state = 12345, solver = 'liblinear', class_weight = 'balanced')\n",
    "model_1_log_reg.fit(features_train, target_train)\n",
    "predicted_1_log_reg = model_1_log_reg.predict(features_valid)\n",
    "f1_score(target_valid, predicted_1_log_reg)"
   ]
  },
  {
   "cell_type": "code",
   "execution_count": 28,
   "metadata": {},
   "outputs": [
    {
     "data": {
      "text/plain": [
       "0.4553014553014553"
      ]
     },
     "execution_count": 28,
     "metadata": {},
     "output_type": "execute_result"
    }
   ],
   "source": [
    "# увеличение выборки\n",
    "model_2_log_reg = LogisticRegression(random_state = 12345, solver = 'liblinear')\n",
    "model_2_log_reg.fit(features_upsampled, target_upsampled)\n",
    "predicted_2_log_reg = model_2_log_reg.predict(features_valid)\n",
    "f1_score(target_valid, predicted_2_log_reg)"
   ]
  },
  {
   "cell_type": "code",
   "execution_count": 29,
   "metadata": {},
   "outputs": [
    {
     "data": {
      "text/plain": [
       "0.4437246963562753"
      ]
     },
     "execution_count": 29,
     "metadata": {},
     "output_type": "execute_result"
    }
   ],
   "source": [
    "# уменьшение выборки\n",
    "model_3_log_reg = LogisticRegression(random_state = 12345, solver = 'liblinear')\n",
    "model_3_log_reg.fit(features_downsampled, target_downsampled)\n",
    "predicted_3_log_reg = model_3_log_reg.predict(features_valid)\n",
    "f1_score(target_valid, predicted_3_log_reg)"
   ]
  },
  {
   "cell_type": "markdown",
   "metadata": {},
   "source": [
    "Результаты логистической регрессии весьма удручающие, зато мы видим что в отличии от решающего леса, балансировка веса класса дает положительный эффект для модели логистической регрессии."
   ]
  },
  {
   "cell_type": "markdown",
   "metadata": {},
   "source": [
    "Давайте проверим качество моделей с помощью auc_roc"
   ]
  },
  {
   "cell_type": "code",
   "execution_count": 30,
   "metadata": {},
   "outputs": [
    {
     "data": {
      "text/plain": [
       "0.8594141136514019"
      ]
     },
     "execution_count": 30,
     "metadata": {},
     "output_type": "execute_result"
    }
   ],
   "source": [
    "probabilities_valid_1 = model_1.predict_proba(features_valid)\n",
    "probabilities_one_valid_1 = probabilities_valid_1[:, 1]\n",
    "roc_auc_score(target_valid, probabilities_one_valid_1)"
   ]
  },
  {
   "cell_type": "code",
   "execution_count": 31,
   "metadata": {},
   "outputs": [
    {
     "data": {
      "text/plain": [
       "0.8637867451426774"
      ]
     },
     "execution_count": 31,
     "metadata": {},
     "output_type": "execute_result"
    }
   ],
   "source": [
    "probabilities_valid_2 = model_2.predict_proba(features_valid)\n",
    "probabilities_one_valid_2 = probabilities_valid_2[:, 1]\n",
    "roc_auc_score(target_valid, probabilities_one_valid_2)"
   ]
  },
  {
   "cell_type": "code",
   "execution_count": 32,
   "metadata": {},
   "outputs": [
    {
     "data": {
      "text/plain": [
       "0.8561288561288561"
      ]
     },
     "execution_count": 32,
     "metadata": {},
     "output_type": "execute_result"
    }
   ],
   "source": [
    "probabilities_valid_3 = model_3.predict_proba(features_valid)\n",
    "probabilities_one_valid_3 = probabilities_valid_3[:, 1]\n",
    "roc_auc_score(target_valid, probabilities_one_valid_3)"
   ]
  },
  {
   "cell_type": "code",
   "execution_count": 33,
   "metadata": {},
   "outputs": [
    {
     "data": {
      "text/plain": [
       "0.7598075733668953"
      ]
     },
     "execution_count": 33,
     "metadata": {},
     "output_type": "execute_result"
    }
   ],
   "source": [
    "probabilities_valid_3 = model_1_log_reg.predict_proba(features_valid)\n",
    "probabilities_one_valid_3 = probabilities_valid_3[:, 1]\n",
    "roc_auc_score(target_valid, probabilities_one_valid_3)"
   ]
  },
  {
   "cell_type": "code",
   "execution_count": 34,
   "metadata": {},
   "outputs": [
    {
     "data": {
      "text/plain": [
       "0.7157188004645632"
      ]
     },
     "execution_count": 34,
     "metadata": {},
     "output_type": "execute_result"
    }
   ],
   "source": [
    "probabilities_valid_3 = model_2_log_reg.predict_proba(features_valid)\n",
    "probabilities_one_valid_3 = probabilities_valid_3[:, 1]\n",
    "roc_auc_score(target_valid, probabilities_one_valid_3)"
   ]
  },
  {
   "cell_type": "code",
   "execution_count": 35,
   "metadata": {},
   "outputs": [
    {
     "data": {
      "text/plain": [
       "0.7190194817313462"
      ]
     },
     "execution_count": 35,
     "metadata": {},
     "output_type": "execute_result"
    }
   ],
   "source": [
    "probabilities_valid_3 = model_3_log_reg.predict_proba(features_valid)\n",
    "probabilities_one_valid_3 = probabilities_valid_3[:, 1]\n",
    "roc_auc_score(target_valid, probabilities_one_valid_3)"
   ]
  },
  {
   "cell_type": "markdown",
   "metadata": {},
   "source": [
    "### Вывод:\n",
    "\n",
    "По итогу мы видим что из трех вариантов устранения дисбалансов эффективнее всего отработали модель решающего леса и метод увеличения выборки, это подтверждает и метрика f1 и метрика auc_roc. Мы достигли необходимую точность на валидационной выборке, пора проверить что получится на тестовой."
   ]
  },
  {
   "cell_type": "markdown",
   "metadata": {},
   "source": [
    "## Тестирование модели"
   ]
  },
  {
   "cell_type": "code",
   "execution_count": 36,
   "metadata": {},
   "outputs": [
    {
     "data": {
      "text/plain": [
       "0.5944700460829493"
      ]
     },
     "execution_count": 36,
     "metadata": {},
     "output_type": "execute_result"
    }
   ],
   "source": [
    "predicted_test = model_2.predict(features_test)\n",
    "f1_score(target_test, predicted_test)"
   ]
  },
  {
   "cell_type": "markdown",
   "metadata": {},
   "source": [
    "Как мы видим нужный уровень качества модели мы получили, давайте проверим станет ли он выше если мы обучим модель с этими же параметрами объединив тренировочную и валидационные выборки."
   ]
  },
  {
   "cell_type": "code",
   "execution_count": 37,
   "metadata": {},
   "outputs": [
    {
     "data": {
      "text/plain": [
       "0.6069295101553166"
      ]
     },
     "execution_count": 37,
     "metadata": {},
     "output_type": "execute_result"
    }
   ],
   "source": [
    "features_train_valid_zero = features_train_valid[target_train_valid == 0]\n",
    "features_train_valid_one = features_train_valid[target_train_valid == 1]\n",
    "target_train_valid_zero = target_train_valid[target_train_valid == 0]\n",
    "target_train_valid_one = target_train_valid[target_train_valid == 1]\n",
    "\n",
    "features_upsampled_final = pd.concat([features_train_valid_zero] + [features_train_valid_one] * 3)\n",
    "target_upsampled_final = pd.concat([target_train_valid_zero] + [target_train_valid_one] * 3)\n",
    "\n",
    "features_upsampled_final, target_upsampled_final = shuffle(features_upsampled_final, target_upsampled_final, random_state=12345)\n",
    "\n",
    "model_final = RandomForestClassifier(random_state = 12345, n_estimators = 30, max_depth = 10)\n",
    "model_final.fit(features_upsampled_final, target_upsampled_final) \n",
    "predicted_final = model_final.predict(features_test)\n",
    "f1_score(target_test, predicted_final)"
   ]
  },
  {
   "cell_type": "markdown",
   "metadata": {},
   "source": [
    "Одна сотая, а все равно приятно."
   ]
  },
  {
   "cell_type": "markdown",
   "metadata": {},
   "source": [
    "И в финале посмотрим на roc-кривую и метрику auc-roc."
   ]
  },
  {
   "cell_type": "code",
   "execution_count": 38,
   "metadata": {},
   "outputs": [
    {
     "data": {
      "text/plain": [
       "0.8421981303337235"
      ]
     },
     "execution_count": 38,
     "metadata": {},
     "output_type": "execute_result"
    }
   ],
   "source": [
    "probabilities_valid_final = model_final.predict_proba(features_test)\n",
    "probabilities_one_valid_final = probabilities_valid_final[:, 1]\n",
    "roc_auc_score(target_test, probabilities_one_valid_final)"
   ]
  },
  {
   "cell_type": "code",
   "execution_count": 39,
   "metadata": {},
   "outputs": [
    {
     "data": {
      "image/png": "[encoded data removed]",
      "text/plain": [
       "<Figure size 432x288 with 1 Axes>"
      ]
     },
     "metadata": {
      "needs_background": "light"
     },
     "output_type": "display_data"
    }
   ],
   "source": [
    "fpr, tpr, thresholds = roc_curve(target_test, probabilities_one_valid_final)\n",
    "plt.figure()\n",
    "plt.plot(fpr, tpr)\n",
    "plt.plot([0, 1], [0, 1], linestyle='--')\n",
    "plt.xlim([0, 1])\n",
    "plt.ylim([0, 1])\n",
    "plt.xlabel(\"False Positive Rate\")\n",
    "plt.ylabel(\"True Positive Rate\")\n",
    "plt.title(\"ROC-кривая\")\n",
    "plt.show()"
   ]
  },
  {
   "cell_type": "markdown",
   "metadata": {},
   "source": [
    "### Вывод:\n",
    "\n",
    "Мы получили необходимое значение f1 метрики, и с помощью увеличения выборки даже немного его улучшили. Однако итоговая метрика auc_roc при этом стала немного хуже. Вопрос какая из метрик в данном случае важнее для оценки модели, полагаю философский и оба варианта имеют место быть. "
   ]
  },
  {
   "cell_type": "markdown",
   "metadata": {},
   "source": [
    "## Вывод:\n",
    "\n"
   ]
  },
  {
   "cell_type": "markdown",
   "metadata": {},
   "source": [
    "Мы исследовали данные банка и построили предсказательную модель, подобрали оптимальные гиперпараметры. Далее для повышения точности модели мы поработали с балансом в данных, и благодаря оценке качества модели метрикой auc_roc, решили что в данном случае будет оптимален метод увеличения выборки. Провели тест модели, получили удовлетворительные результаты, и улучшили их еще немного с помощью увеличения тренировочной выборки за счет валидационной."
   ]
  },
  {
   "cell_type": "code",
   "execution_count": null,
   "metadata": {},
   "outputs": [],
   "source": []
  }
 ],
 "metadata": {
  "ExecuteTimeLog": [
   {
    "duration": 1457,
    "start_time": "2021-09-11T15:54:02.776Z"
   },
   {
    "duration": 35,
    "start_time": "2021-09-11T15:54:04.986Z"
   },
   {
    "duration": 51,
    "start_time": "2021-09-11T15:54:15.681Z"
   },
   {
    "duration": 12,
    "start_time": "2021-09-11T15:55:00.283Z"
   },
   {
    "duration": 66,
    "start_time": "2021-09-11T15:55:31.135Z"
   },
   {
    "duration": 7100,
    "start_time": "2021-09-11T16:05:41.422Z"
   },
   {
    "duration": 9,
    "start_time": "2021-09-11T16:06:02.164Z"
   },
   {
    "duration": 1026,
    "start_time": "2021-09-11T16:11:27.726Z"
   },
   {
    "duration": 38,
    "start_time": "2021-09-11T16:11:35.561Z"
   },
   {
    "duration": 1159,
    "start_time": "2021-09-12T18:22:09.627Z"
   },
   {
    "duration": 40,
    "start_time": "2021-09-12T18:22:10.788Z"
   },
   {
    "duration": 9,
    "start_time": "2021-09-12T18:22:10.830Z"
   },
   {
    "duration": 46,
    "start_time": "2021-09-12T18:22:10.841Z"
   },
   {
    "duration": 6,
    "start_time": "2021-09-12T18:22:10.888Z"
   },
   {
    "duration": 31,
    "start_time": "2021-09-12T18:22:10.895Z"
   },
   {
    "duration": 12,
    "start_time": "2021-09-12T18:22:14.834Z"
   },
   {
    "duration": 4,
    "start_time": "2021-09-12T18:27:43.491Z"
   },
   {
    "duration": 10,
    "start_time": "2021-09-12T18:28:05.235Z"
   },
   {
    "duration": 21,
    "start_time": "2021-09-12T18:31:31.610Z"
   },
   {
    "duration": 501,
    "start_time": "2021-09-12T18:34:47.737Z"
   },
   {
    "duration": 409,
    "start_time": "2021-09-12T18:35:07.311Z"
   },
   {
    "duration": 14,
    "start_time": "2021-09-12T18:36:06.358Z"
   },
   {
    "duration": 17,
    "start_time": "2021-09-12T18:36:58.543Z"
   },
   {
    "duration": 19,
    "start_time": "2021-09-12T18:37:10.604Z"
   },
   {
    "duration": 353,
    "start_time": "2021-09-12T19:01:43.046Z"
   },
   {
    "duration": 13,
    "start_time": "2021-09-12T19:02:10.707Z"
   },
   {
    "duration": 7215,
    "start_time": "2021-09-12T20:05:42.264Z"
   },
   {
    "duration": 368,
    "start_time": "2021-09-12T20:57:22.282Z"
   },
   {
    "duration": 10,
    "start_time": "2021-09-12T20:58:49.133Z"
   },
   {
    "duration": 15,
    "start_time": "2021-09-12T21:02:33.213Z"
   },
   {
    "duration": 9122,
    "start_time": "2021-09-12T21:02:51.029Z"
   },
   {
    "duration": 1165,
    "start_time": "2021-09-12T21:03:14.420Z"
   },
   {
    "duration": 40,
    "start_time": "2021-09-12T21:03:15.587Z"
   },
   {
    "duration": 9,
    "start_time": "2021-09-12T21:03:15.629Z"
   },
   {
    "duration": 49,
    "start_time": "2021-09-12T21:03:15.639Z"
   },
   {
    "duration": 6,
    "start_time": "2021-09-12T21:03:15.690Z"
   },
   {
    "duration": 22,
    "start_time": "2021-09-12T21:03:15.698Z"
   },
   {
    "duration": 11,
    "start_time": "2021-09-12T21:03:15.721Z"
   },
   {
    "duration": 7,
    "start_time": "2021-09-12T21:03:15.734Z"
   },
   {
    "duration": 46,
    "start_time": "2021-09-12T21:03:15.744Z"
   },
   {
    "duration": 11,
    "start_time": "2021-09-12T21:03:15.792Z"
   },
   {
    "duration": 17,
    "start_time": "2021-09-12T21:03:15.804Z"
   },
   {
    "duration": 7135,
    "start_time": "2021-09-12T21:03:15.823Z"
   },
   {
    "duration": 352,
    "start_time": "2021-09-12T21:03:22.959Z"
   },
   {
    "duration": 15,
    "start_time": "2021-09-12T21:04:31.409Z"
   },
   {
    "duration": 14,
    "start_time": "2021-09-12T21:06:33.823Z"
   },
   {
    "duration": 14,
    "start_time": "2021-09-12T21:15:16.840Z"
   },
   {
    "duration": 8,
    "start_time": "2021-09-12T21:35:24.274Z"
   },
   {
    "duration": 429,
    "start_time": "2021-09-12T22:09:35.614Z"
   },
   {
    "duration": 389,
    "start_time": "2021-09-12T22:10:06.444Z"
   },
   {
    "duration": 13,
    "start_time": "2021-09-12T22:11:01.523Z"
   },
   {
    "duration": 11,
    "start_time": "2021-09-12T22:12:22.910Z"
   },
   {
    "duration": 5829,
    "start_time": "2021-09-12T22:19:15.746Z"
   },
   {
    "duration": 6,
    "start_time": "2021-09-12T23:50:06.454Z"
   },
   {
    "duration": 1444,
    "start_time": "2021-09-13T22:15:26.774Z"
   },
   {
    "duration": 51,
    "start_time": "2021-09-13T22:15:28.221Z"
   },
   {
    "duration": 12,
    "start_time": "2021-09-13T22:15:28.282Z"
   },
   {
    "duration": 60,
    "start_time": "2021-09-13T22:15:28.296Z"
   },
   {
    "duration": 26,
    "start_time": "2021-09-13T22:15:28.358Z"
   },
   {
    "duration": 36,
    "start_time": "2021-09-13T22:15:28.387Z"
   },
   {
    "duration": 19,
    "start_time": "2021-09-13T22:15:28.425Z"
   },
   {
    "duration": 37,
    "start_time": "2021-09-13T22:15:28.448Z"
   },
   {
    "duration": 34,
    "start_time": "2021-09-13T22:15:28.488Z"
   },
   {
    "duration": 16,
    "start_time": "2021-09-13T22:15:28.524Z"
   },
   {
    "duration": 45,
    "start_time": "2021-09-13T22:15:28.542Z"
   },
   {
    "duration": 9707,
    "start_time": "2021-09-13T22:15:28.589Z"
   },
   {
    "duration": 494,
    "start_time": "2021-09-13T22:15:38.298Z"
   },
   {
    "duration": 22,
    "start_time": "2021-09-13T22:15:38.794Z"
   },
   {
    "duration": 17,
    "start_time": "2021-09-13T22:15:38.819Z"
   },
   {
    "duration": 50,
    "start_time": "2021-09-13T22:15:38.839Z"
   },
   {
    "duration": 11,
    "start_time": "2021-09-13T22:15:38.892Z"
   },
   {
    "duration": 8498,
    "start_time": "2021-09-13T22:15:38.906Z"
   },
   {
    "duration": 9,
    "start_time": "2021-09-13T22:15:50.623Z"
   },
   {
    "duration": 1618,
    "start_time": "2021-09-13T22:38:22.993Z"
   },
   {
    "duration": 246,
    "start_time": "2021-09-13T22:38:52.991Z"
   },
   {
    "duration": 386,
    "start_time": "2021-09-13T22:50:09.179Z"
   },
   {
    "duration": 255,
    "start_time": "2021-09-13T22:50:26.492Z"
   },
   {
    "duration": 6,
    "start_time": "2021-09-13T22:50:56.006Z"
   },
   {
    "duration": 323,
    "start_time": "2021-09-13T22:51:03.878Z"
   },
   {
    "duration": 344,
    "start_time": "2021-09-13T22:51:27.007Z"
   },
   {
    "duration": 244,
    "start_time": "2021-09-13T23:53:42.579Z"
   },
   {
    "duration": 136,
    "start_time": "2021-09-13T23:55:18.843Z"
   },
   {
    "duration": 1559,
    "start_time": "2021-09-14T00:32:15.677Z"
   },
   {
    "duration": 23,
    "start_time": "2021-09-14T00:32:33.344Z"
   },
   {
    "duration": 23,
    "start_time": "2021-09-14T00:33:12.617Z"
   },
   {
    "duration": 22,
    "start_time": "2021-09-14T00:33:32.811Z"
   },
   {
    "duration": 267,
    "start_time": "2021-09-14T00:45:32.699Z"
   },
   {
    "duration": 22,
    "start_time": "2021-09-14T00:46:12.167Z"
   },
   {
    "duration": 309,
    "start_time": "2021-09-14T00:46:29.205Z"
   },
   {
    "duration": 22,
    "start_time": "2021-09-14T00:46:33.290Z"
   },
   {
    "duration": 281,
    "start_time": "2021-09-14T00:53:36.355Z"
   },
   {
    "duration": 397,
    "start_time": "2021-09-14T00:53:49.297Z"
   },
   {
    "duration": 257,
    "start_time": "2021-09-14T00:55:23.536Z"
   },
   {
    "duration": 333,
    "start_time": "2021-09-14T00:55:52.640Z"
   },
   {
    "duration": 23,
    "start_time": "2021-09-14T00:56:05.742Z"
   },
   {
    "duration": 23,
    "start_time": "2021-09-14T00:56:11.026Z"
   },
   {
    "duration": 395,
    "start_time": "2021-09-14T00:56:17.768Z"
   },
   {
    "duration": 413,
    "start_time": "2021-09-14T00:56:27.736Z"
   },
   {
    "duration": 1308,
    "start_time": "2021-09-14T00:57:08.980Z"
   },
   {
    "duration": 50,
    "start_time": "2021-09-14T00:57:10.291Z"
   },
   {
    "duration": 12,
    "start_time": "2021-09-14T00:57:10.344Z"
   },
   {
    "duration": 73,
    "start_time": "2021-09-14T00:57:10.359Z"
   },
   {
    "duration": 9,
    "start_time": "2021-09-14T00:57:10.434Z"
   },
   {
    "duration": 56,
    "start_time": "2021-09-14T00:57:10.445Z"
   },
   {
    "duration": 17,
    "start_time": "2021-09-14T00:57:10.504Z"
   },
   {
    "duration": 9,
    "start_time": "2021-09-14T00:57:10.523Z"
   },
   {
    "duration": 51,
    "start_time": "2021-09-14T00:57:10.535Z"
   },
   {
    "duration": 15,
    "start_time": "2021-09-14T00:57:10.589Z"
   },
   {
    "duration": 16,
    "start_time": "2021-09-14T00:57:10.606Z"
   },
   {
    "duration": 9380,
    "start_time": "2021-09-14T00:57:10.625Z"
   },
   {
    "duration": 484,
    "start_time": "2021-09-14T00:57:20.007Z"
   },
   {
    "duration": 22,
    "start_time": "2021-09-14T00:57:20.493Z"
   },
   {
    "duration": 16,
    "start_time": "2021-09-14T00:57:20.518Z"
   },
   {
    "duration": 46,
    "start_time": "2021-09-14T00:57:20.536Z"
   },
   {
    "duration": 12,
    "start_time": "2021-09-14T00:57:20.585Z"
   },
   {
    "duration": 7867,
    "start_time": "2021-09-14T00:57:20.599Z"
   },
   {
    "duration": 15,
    "start_time": "2021-09-14T00:57:28.469Z"
   },
   {
    "duration": 290,
    "start_time": "2021-09-14T00:57:28.486Z"
   },
   {
    "duration": 340,
    "start_time": "2021-09-14T00:57:28.778Z"
   },
   {
    "duration": 178,
    "start_time": "2021-09-14T00:57:29.120Z"
   },
   {
    "duration": 29,
    "start_time": "2021-09-14T00:57:29.301Z"
   },
   {
    "duration": 52,
    "start_time": "2021-09-14T00:57:29.332Z"
   },
   {
    "duration": 26,
    "start_time": "2021-09-14T00:57:29.388Z"
   },
   {
    "duration": 28,
    "start_time": "2021-09-14T00:57:29.416Z"
   },
   {
    "duration": 568,
    "start_time": "2021-09-14T00:57:29.481Z"
   },
   {
    "duration": 23,
    "start_time": "2021-09-14T01:08:52.403Z"
   },
   {
    "duration": 1403,
    "start_time": "2021-09-14T23:34:56.592Z"
   },
   {
    "duration": 53,
    "start_time": "2021-09-14T23:34:57.997Z"
   },
   {
    "duration": 11,
    "start_time": "2021-09-14T23:34:58.053Z"
   },
   {
    "duration": 64,
    "start_time": "2021-09-14T23:34:58.067Z"
   },
   {
    "duration": 8,
    "start_time": "2021-09-14T23:34:58.134Z"
   },
   {
    "duration": 67,
    "start_time": "2021-09-14T23:34:58.144Z"
   },
   {
    "duration": 16,
    "start_time": "2021-09-14T23:34:58.214Z"
   },
   {
    "duration": 6,
    "start_time": "2021-09-14T23:34:58.233Z"
   },
   {
    "duration": 45,
    "start_time": "2021-09-14T23:34:58.243Z"
   },
   {
    "duration": 26,
    "start_time": "2021-09-14T23:34:58.291Z"
   },
   {
    "duration": 16,
    "start_time": "2021-09-14T23:34:58.319Z"
   },
   {
    "duration": 6948,
    "start_time": "2021-09-14T23:34:58.337Z"
   },
   {
    "duration": 1509,
    "start_time": "2021-09-14T23:35:03.780Z"
   },
   {
    "duration": 1508,
    "start_time": "2021-09-14T23:35:03.782Z"
   },
   {
    "duration": 1507,
    "start_time": "2021-09-14T23:35:03.788Z"
   },
   {
    "duration": 1506,
    "start_time": "2021-09-14T23:35:03.791Z"
   },
   {
    "duration": 1506,
    "start_time": "2021-09-14T23:35:03.793Z"
   },
   {
    "duration": 1506,
    "start_time": "2021-09-14T23:35:03.796Z"
   },
   {
    "duration": 1506,
    "start_time": "2021-09-14T23:35:03.798Z"
   },
   {
    "duration": 1506,
    "start_time": "2021-09-14T23:35:03.800Z"
   },
   {
    "duration": 1491,
    "start_time": "2021-09-14T23:35:03.818Z"
   },
   {
    "duration": 1489,
    "start_time": "2021-09-14T23:35:03.822Z"
   },
   {
    "duration": 1488,
    "start_time": "2021-09-14T23:35:03.824Z"
   },
   {
    "duration": 1487,
    "start_time": "2021-09-14T23:35:03.826Z"
   },
   {
    "duration": 1487,
    "start_time": "2021-09-14T23:35:03.828Z"
   },
   {
    "duration": 1486,
    "start_time": "2021-09-14T23:35:03.830Z"
   },
   {
    "duration": 1486,
    "start_time": "2021-09-14T23:35:03.832Z"
   },
   {
    "duration": 1484,
    "start_time": "2021-09-14T23:35:03.835Z"
   },
   {
    "duration": 1382,
    "start_time": "2021-09-14T23:35:21.772Z"
   },
   {
    "duration": 59,
    "start_time": "2021-09-14T23:35:23.157Z"
   },
   {
    "duration": 12,
    "start_time": "2021-09-14T23:35:23.219Z"
   },
   {
    "duration": 77,
    "start_time": "2021-09-14T23:35:23.234Z"
   },
   {
    "duration": 10,
    "start_time": "2021-09-14T23:35:23.314Z"
   },
   {
    "duration": 59,
    "start_time": "2021-09-14T23:35:23.326Z"
   },
   {
    "duration": 21,
    "start_time": "2021-09-14T23:35:23.389Z"
   },
   {
    "duration": 5,
    "start_time": "2021-09-14T23:35:23.413Z"
   },
   {
    "duration": 37,
    "start_time": "2021-09-14T23:35:23.421Z"
   },
   {
    "duration": 31,
    "start_time": "2021-09-14T23:35:26.983Z"
   },
   {
    "duration": 19,
    "start_time": "2021-09-14T23:35:36.631Z"
   },
   {
    "duration": 17,
    "start_time": "2021-09-14T23:36:41.514Z"
   },
   {
    "duration": 9181,
    "start_time": "2021-09-14T23:36:42.501Z"
   },
   {
    "duration": 445,
    "start_time": "2021-09-14T23:36:55.254Z"
   },
   {
    "duration": 21,
    "start_time": "2021-09-14T23:36:56.670Z"
   },
   {
    "duration": 17,
    "start_time": "2021-09-14T23:36:57.386Z"
   },
   {
    "duration": 15,
    "start_time": "2021-09-14T23:38:24.710Z"
   },
   {
    "duration": 12,
    "start_time": "2021-09-14T23:38:26.883Z"
   },
   {
    "duration": 7854,
    "start_time": "2021-09-14T23:38:28.097Z"
   },
   {
    "duration": 9,
    "start_time": "2021-09-14T23:38:37.928Z"
   },
   {
    "duration": 240,
    "start_time": "2021-09-14T23:38:42.972Z"
   },
   {
    "duration": 311,
    "start_time": "2021-09-14T23:38:44.089Z"
   },
   {
    "duration": 140,
    "start_time": "2021-09-14T23:38:45.120Z"
   },
   {
    "duration": 24898,
    "start_time": "2021-09-14T23:51:29.403Z"
   },
   {
    "duration": 24906,
    "start_time": "2021-09-14T23:53:37.132Z"
   },
   {
    "duration": 48505,
    "start_time": "2021-09-14T23:55:54.538Z"
   },
   {
    "duration": 10294,
    "start_time": "2021-09-14T23:58:43.542Z"
   },
   {
    "duration": 300,
    "start_time": "2021-09-14T23:59:25.021Z"
   },
   {
    "duration": 2009,
    "start_time": "2021-09-15T00:01:28.451Z"
   },
   {
    "duration": 10141,
    "start_time": "2021-09-15T00:01:47.270Z"
   },
   {
    "duration": 169,
    "start_time": "2021-09-15T00:02:26.235Z"
   },
   {
    "duration": 4877,
    "start_time": "2021-09-15T00:04:37.262Z"
   },
   {
    "duration": 22244,
    "start_time": "2021-09-15T00:05:08.187Z"
   },
   {
    "duration": 361,
    "start_time": "2021-09-15T00:06:13.776Z"
   },
   {
    "duration": 161,
    "start_time": "2021-09-15T00:27:24.328Z"
   },
   {
    "duration": 97,
    "start_time": "2021-09-15T00:27:34.190Z"
   },
   {
    "duration": 69,
    "start_time": "2021-09-15T00:28:53.214Z"
   },
   {
    "duration": 22,
    "start_time": "2021-09-15T00:31:47.872Z"
   },
   {
    "duration": 16,
    "start_time": "2021-09-15T00:31:48.577Z"
   },
   {
    "duration": 32,
    "start_time": "2021-09-15T00:31:49.568Z"
   },
   {
    "duration": 75,
    "start_time": "2021-09-15T00:32:52.109Z"
   },
   {
    "duration": 13,
    "start_time": "2021-09-15T00:32:52.768Z"
   },
   {
    "duration": 14,
    "start_time": "2021-09-15T00:32:53.493Z"
   },
   {
    "duration": 17,
    "start_time": "2021-09-15T00:33:44.272Z"
   },
   {
    "duration": 397,
    "start_time": "2021-09-15T00:34:40.797Z"
   },
   {
    "duration": 5,
    "start_time": "2021-09-15T00:39:39.622Z"
   },
   {
    "duration": 24,
    "start_time": "2021-09-15T00:41:25.479Z"
   },
   {
    "duration": 231,
    "start_time": "2021-09-15T00:41:36.164Z"
   },
   {
    "duration": 232,
    "start_time": "2021-09-15T00:42:45.490Z"
   },
   {
    "duration": 1353,
    "start_time": "2021-09-15T00:43:11.000Z"
   },
   {
    "duration": 49,
    "start_time": "2021-09-15T00:43:12.356Z"
   },
   {
    "duration": 11,
    "start_time": "2021-09-15T00:43:12.408Z"
   },
   {
    "duration": 77,
    "start_time": "2021-09-15T00:43:12.421Z"
   },
   {
    "duration": 8,
    "start_time": "2021-09-15T00:43:12.501Z"
   },
   {
    "duration": 45,
    "start_time": "2021-09-15T00:43:12.511Z"
   },
   {
    "duration": 26,
    "start_time": "2021-09-15T00:43:12.558Z"
   },
   {
    "duration": 13,
    "start_time": "2021-09-15T00:43:12.586Z"
   },
   {
    "duration": 31,
    "start_time": "2021-09-15T00:43:12.603Z"
   },
   {
    "duration": 14,
    "start_time": "2021-09-15T00:43:12.637Z"
   },
   {
    "duration": 41,
    "start_time": "2021-09-15T00:43:12.653Z"
   },
   {
    "duration": 9105,
    "start_time": "2021-09-15T00:43:12.697Z"
   },
   {
    "duration": 492,
    "start_time": "2021-09-15T00:43:21.806Z"
   },
   {
    "duration": 21,
    "start_time": "2021-09-15T00:43:22.301Z"
   },
   {
    "duration": 16,
    "start_time": "2021-09-15T00:43:22.324Z"
   },
   {
    "duration": 50,
    "start_time": "2021-09-15T00:43:22.342Z"
   },
   {
    "duration": 11,
    "start_time": "2021-09-15T00:43:22.395Z"
   },
   {
    "duration": 7900,
    "start_time": "2021-09-15T00:43:22.408Z"
   },
   {
    "duration": 7,
    "start_time": "2021-09-15T00:43:30.310Z"
   },
   {
    "duration": 263,
    "start_time": "2021-09-15T00:43:30.320Z"
   },
   {
    "duration": 21,
    "start_time": "2021-09-15T00:43:30.586Z"
   },
   {
    "duration": 10441,
    "start_time": "2021-09-15T00:43:30.610Z"
   },
   {
    "duration": 180,
    "start_time": "2021-09-15T00:43:41.054Z"
   },
   {
    "duration": 14,
    "start_time": "2021-09-15T00:43:41.237Z"
   },
   {
    "duration": 22742,
    "start_time": "2021-09-15T00:43:41.253Z"
   },
   {
    "duration": 239,
    "start_time": "2021-09-15T00:44:03.999Z"
   },
   {
    "duration": 146,
    "start_time": "2021-09-15T00:44:04.245Z"
   },
   {
    "duration": 200,
    "start_time": "2021-09-15T00:44:04.484Z"
   },
   {
    "duration": 196,
    "start_time": "2021-09-15T00:44:04.688Z"
   },
   {
    "duration": 113,
    "start_time": "2021-09-15T00:44:04.887Z"
   },
   {
    "duration": 17,
    "start_time": "2021-09-15T00:44:05.003Z"
   },
   {
    "duration": 59,
    "start_time": "2021-09-15T00:44:05.023Z"
   },
   {
    "duration": 14,
    "start_time": "2021-09-15T00:44:05.085Z"
   },
   {
    "duration": 98,
    "start_time": "2021-09-15T00:44:05.185Z"
   },
   {
    "duration": 106,
    "start_time": "2021-09-15T00:44:05.286Z"
   },
   {
    "duration": 17,
    "start_time": "2021-09-15T00:44:05.483Z"
   },
   {
    "duration": 459,
    "start_time": "2021-09-15T00:44:05.502Z"
   },
   {
    "duration": 34,
    "start_time": "2021-09-15T00:44:05.964Z"
   },
   {
    "duration": 250,
    "start_time": "2021-09-15T00:44:06.000Z"
   }
  ],
  "kernelspec": {
   "display_name": "Python 3 (ipykernel)",
   "language": "python",
   "name": "python3"
  },
  "language_info": {
   "codemirror_mode": {
    "name": "ipython",
    "version": 3
   },
   "file_extension": ".py",
   "mimetype": "text/x-python",
   "name": "python",
   "nbconvert_exporter": "python",
   "pygments_lexer": "ipython3",
   "version": "3.9.5"
  },
  "toc": {
   "base_numbering": 1,
   "nav_menu": {},
   "number_sections": true,
   "sideBar": true,
   "skip_h1_title": true,
   "title_cell": "Содержание",
   "title_sidebar": "Contents",
   "toc_cell": true,
   "toc_position": {},
   "toc_section_display": true,
   "toc_window_display": false
  }
 },
 "nbformat": 4,
 "nbformat_minor": 2
}
