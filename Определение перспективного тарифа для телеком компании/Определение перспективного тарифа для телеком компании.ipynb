{
 "cells": [
  {
   "cell_type": "markdown",
   "metadata": {},
   "source": [
    "# Определение перспективного тарифа для телеком компании\n",
    "\n",
    "Вы аналитик компании «Мегалайн» — федерального оператора сотовой связи. Клиентам предлагают два тарифных плана: «Смарт» и «Ультра». Чтобы скорректировать рекламный бюджет, коммерческий департамент хочет понять, какой тариф приносит больше денег.\n",
    "\n",
    "Вам предстоит сделать предварительный анализ тарифов на небольшой выборке клиентов. В вашем распоряжении данные 500 пользователей «Мегалайна»: кто они, откуда, каким тарифом пользуются, сколько звонков и сообщений каждый отправил за 2018 год. Нужно проанализировать поведение клиентов и сделать вывод — какой тариф лучше."
   ]
  },
  {
   "cell_type": "markdown",
   "metadata": {},
   "source": [
    "# Описание тарифов\n",
    "\n",
    "<b>Тариф «Смарт» </b>\n",
    "\n",
    "Ежемесячная плата: 550 рублей\n",
    "\n",
    "Включено 500 минут разговора, 50 сообщений и 15 Гб интернет-трафика\n",
    "\n",
    "Стоимость услуг сверх тарифного пакета: 1. минута разговора: 3 рубля («Мегалайн» всегда округляет вверх значения минут и мегабайтов. Если пользователь проговорил всего 1 секунду, в тарифе засчитывается целая минута); 2. сообщение: 3 рубля; 3. 1 Гб интернет-трафика: 200 рублей.\n",
    "\n",
    "<b>Тариф «Ультра» </b>\n",
    "\n",
    "Ежемесячная плата: 1950 рублей\n",
    "\n",
    "Включено 3000 минут разговора, 1000 сообщений и 30 Гб интернет-трафика\n",
    "\n",
    "Стоимость услуг сверх тарифного пакета: 1. минута разговора: 1 рубль; 2. сообщение: 1 рубль; 3. 1 Гб интернет-трафика: 150 рублей.\n",
    "\n",
    "<b>Примечание: </b>\n",
    "\n",
    "«Мегалайн» всегда округляет секунды до минут, а мегабайты — до гигабайт. Каждый звонок округляется отдельно: даже если он длился всего 1 секунду, будет засчитан как 1 минута.\n",
    "\n",
    "Для веб-трафика отдельные сессии не считаются. Вместо этого общая сумма за месяц округляется в бо́льшую сторону. Если абонент использует 1025 мегабайт в этом месяце, с него возьмут плату за 2 гигабайта."
   ]
  },
  {
   "cell_type": "markdown",
   "metadata": {},
   "source": [
    "## Изучение данных из файла"
   ]
  },
  {
   "cell_type": "code",
   "execution_count": 1,
   "metadata": {},
   "outputs": [],
   "source": [
    "import pandas as pd\n",
    "import numpy as np\n",
    "import matplotlib.pyplot as plt\n",
    "from scipy import stats as st\n",
    "import math as mt\n",
    "from math import factorial"
   ]
  },
  {
   "cell_type": "code",
   "execution_count": 2,
   "metadata": {},
   "outputs": [
    {
     "data": {
      "text/html": [
       "<div>\n",
       "<style scoped>\n",
       "    .dataframe tbody tr th:only-of-type {\n",
       "        vertical-align: middle;\n",
       "    }\n",
       "\n",
       "    .dataframe tbody tr th {\n",
       "        vertical-align: top;\n",
       "    }\n",
       "\n",
       "    .dataframe thead th {\n",
       "        text-align: right;\n",
       "    }\n",
       "</style>\n",
       "<table border=\"1\" class=\"dataframe\">\n",
       "  <thead>\n",
       "    <tr style=\"text-align: right;\">\n",
       "      <th></th>\n",
       "      <th>id</th>\n",
       "      <th>call_date</th>\n",
       "      <th>duration</th>\n",
       "      <th>user_id</th>\n",
       "    </tr>\n",
       "  </thead>\n",
       "  <tbody>\n",
       "    <tr>\n",
       "      <td>0</td>\n",
       "      <td>1000_0</td>\n",
       "      <td>2018-07-25</td>\n",
       "      <td>0.00</td>\n",
       "      <td>1000</td>\n",
       "    </tr>\n",
       "    <tr>\n",
       "      <td>1</td>\n",
       "      <td>1000_1</td>\n",
       "      <td>2018-08-17</td>\n",
       "      <td>0.00</td>\n",
       "      <td>1000</td>\n",
       "    </tr>\n",
       "    <tr>\n",
       "      <td>2</td>\n",
       "      <td>1000_2</td>\n",
       "      <td>2018-06-11</td>\n",
       "      <td>2.85</td>\n",
       "      <td>1000</td>\n",
       "    </tr>\n",
       "    <tr>\n",
       "      <td>3</td>\n",
       "      <td>1000_3</td>\n",
       "      <td>2018-09-21</td>\n",
       "      <td>13.80</td>\n",
       "      <td>1000</td>\n",
       "    </tr>\n",
       "    <tr>\n",
       "      <td>4</td>\n",
       "      <td>1000_4</td>\n",
       "      <td>2018-12-15</td>\n",
       "      <td>5.18</td>\n",
       "      <td>1000</td>\n",
       "    </tr>\n",
       "  </tbody>\n",
       "</table>\n",
       "</div>"
      ],
      "text/plain": [
       "       id   call_date  duration  user_id\n",
       "0  1000_0  2018-07-25      0.00     1000\n",
       "1  1000_1  2018-08-17      0.00     1000\n",
       "2  1000_2  2018-06-11      2.85     1000\n",
       "3  1000_3  2018-09-21     13.80     1000\n",
       "4  1000_4  2018-12-15      5.18     1000"
      ]
     },
     "execution_count": 2,
     "metadata": {},
     "output_type": "execute_result"
    }
   ],
   "source": [
    "df_calls = pd.read_csv('/datasets/calls.csv')\n",
    "df_calls.head()"
   ]
  },
  {
   "cell_type": "code",
   "execution_count": 3,
   "metadata": {},
   "outputs": [
    {
     "name": "stdout",
     "output_type": "stream",
     "text": [
      "<class 'pandas.core.frame.DataFrame'>\n",
      "RangeIndex: 202607 entries, 0 to 202606\n",
      "Data columns (total 4 columns):\n",
      "id           202607 non-null object\n",
      "call_date    202607 non-null object\n",
      "duration     202607 non-null float64\n",
      "user_id      202607 non-null int64\n",
      "dtypes: float64(1), int64(1), object(2)\n",
      "memory usage: 6.2+ MB\n"
     ]
    }
   ],
   "source": [
    "df_calls.info()"
   ]
  },
  {
   "cell_type": "code",
   "execution_count": 4,
   "metadata": {},
   "outputs": [
    {
     "data": {
      "text/html": [
       "<div>\n",
       "<style scoped>\n",
       "    .dataframe tbody tr th:only-of-type {\n",
       "        vertical-align: middle;\n",
       "    }\n",
       "\n",
       "    .dataframe tbody tr th {\n",
       "        vertical-align: top;\n",
       "    }\n",
       "\n",
       "    .dataframe thead th {\n",
       "        text-align: right;\n",
       "    }\n",
       "</style>\n",
       "<table border=\"1\" class=\"dataframe\">\n",
       "  <thead>\n",
       "    <tr style=\"text-align: right;\">\n",
       "      <th></th>\n",
       "      <th>duration</th>\n",
       "      <th>user_id</th>\n",
       "    </tr>\n",
       "  </thead>\n",
       "  <tbody>\n",
       "    <tr>\n",
       "      <td>count</td>\n",
       "      <td>202607.000000</td>\n",
       "      <td>202607.000000</td>\n",
       "    </tr>\n",
       "    <tr>\n",
       "      <td>mean</td>\n",
       "      <td>6.755887</td>\n",
       "      <td>1253.940619</td>\n",
       "    </tr>\n",
       "    <tr>\n",
       "      <td>std</td>\n",
       "      <td>5.843365</td>\n",
       "      <td>144.722751</td>\n",
       "    </tr>\n",
       "    <tr>\n",
       "      <td>min</td>\n",
       "      <td>0.000000</td>\n",
       "      <td>1000.000000</td>\n",
       "    </tr>\n",
       "    <tr>\n",
       "      <td>25%</td>\n",
       "      <td>1.300000</td>\n",
       "      <td>1126.000000</td>\n",
       "    </tr>\n",
       "    <tr>\n",
       "      <td>50%</td>\n",
       "      <td>6.000000</td>\n",
       "      <td>1260.000000</td>\n",
       "    </tr>\n",
       "    <tr>\n",
       "      <td>75%</td>\n",
       "      <td>10.700000</td>\n",
       "      <td>1379.000000</td>\n",
       "    </tr>\n",
       "    <tr>\n",
       "      <td>max</td>\n",
       "      <td>38.000000</td>\n",
       "      <td>1499.000000</td>\n",
       "    </tr>\n",
       "  </tbody>\n",
       "</table>\n",
       "</div>"
      ],
      "text/plain": [
       "            duration        user_id\n",
       "count  202607.000000  202607.000000\n",
       "mean        6.755887    1253.940619\n",
       "std         5.843365     144.722751\n",
       "min         0.000000    1000.000000\n",
       "25%         1.300000    1126.000000\n",
       "50%         6.000000    1260.000000\n",
       "75%        10.700000    1379.000000\n",
       "max        38.000000    1499.000000"
      ]
     },
     "execution_count": 4,
     "metadata": {},
     "output_type": "execute_result"
    }
   ],
   "source": [
    "df_calls.describe()"
   ]
  },
  {
   "cell_type": "code",
   "execution_count": 5,
   "metadata": {},
   "outputs": [
    {
     "data": {
      "text/html": [
       "<div>\n",
       "<style scoped>\n",
       "    .dataframe tbody tr th:only-of-type {\n",
       "        vertical-align: middle;\n",
       "    }\n",
       "\n",
       "    .dataframe tbody tr th {\n",
       "        vertical-align: top;\n",
       "    }\n",
       "\n",
       "    .dataframe thead th {\n",
       "        text-align: right;\n",
       "    }\n",
       "</style>\n",
       "<table border=\"1\" class=\"dataframe\">\n",
       "  <thead>\n",
       "    <tr style=\"text-align: right;\">\n",
       "      <th></th>\n",
       "      <th>id</th>\n",
       "      <th>call_date</th>\n",
       "      <th>duration</th>\n",
       "      <th>user_id</th>\n",
       "    </tr>\n",
       "  </thead>\n",
       "  <tbody>\n",
       "    <tr>\n",
       "      <td>0</td>\n",
       "      <td>1000_0</td>\n",
       "      <td>2018-07-25</td>\n",
       "      <td>0.0</td>\n",
       "      <td>1000</td>\n",
       "    </tr>\n",
       "    <tr>\n",
       "      <td>1</td>\n",
       "      <td>1000_1</td>\n",
       "      <td>2018-08-17</td>\n",
       "      <td>0.0</td>\n",
       "      <td>1000</td>\n",
       "    </tr>\n",
       "    <tr>\n",
       "      <td>5</td>\n",
       "      <td>1000_5</td>\n",
       "      <td>2018-11-02</td>\n",
       "      <td>0.0</td>\n",
       "      <td>1000</td>\n",
       "    </tr>\n",
       "    <tr>\n",
       "      <td>6</td>\n",
       "      <td>1000_6</td>\n",
       "      <td>2018-10-18</td>\n",
       "      <td>0.0</td>\n",
       "      <td>1000</td>\n",
       "    </tr>\n",
       "    <tr>\n",
       "      <td>9</td>\n",
       "      <td>1000_9</td>\n",
       "      <td>2018-08-15</td>\n",
       "      <td>0.0</td>\n",
       "      <td>1000</td>\n",
       "    </tr>\n",
       "    <tr>\n",
       "      <td>...</td>\n",
       "      <td>...</td>\n",
       "      <td>...</td>\n",
       "      <td>...</td>\n",
       "      <td>...</td>\n",
       "    </tr>\n",
       "    <tr>\n",
       "      <td>202590</td>\n",
       "      <td>1499_203</td>\n",
       "      <td>2018-12-03</td>\n",
       "      <td>0.0</td>\n",
       "      <td>1499</td>\n",
       "    </tr>\n",
       "    <tr>\n",
       "      <td>202592</td>\n",
       "      <td>1499_205</td>\n",
       "      <td>2018-10-13</td>\n",
       "      <td>0.0</td>\n",
       "      <td>1499</td>\n",
       "    </tr>\n",
       "    <tr>\n",
       "      <td>202593</td>\n",
       "      <td>1499_206</td>\n",
       "      <td>2018-12-26</td>\n",
       "      <td>0.0</td>\n",
       "      <td>1499</td>\n",
       "    </tr>\n",
       "    <tr>\n",
       "      <td>202594</td>\n",
       "      <td>1499_207</td>\n",
       "      <td>2018-10-28</td>\n",
       "      <td>0.0</td>\n",
       "      <td>1499</td>\n",
       "    </tr>\n",
       "    <tr>\n",
       "      <td>202596</td>\n",
       "      <td>1499_209</td>\n",
       "      <td>2018-12-16</td>\n",
       "      <td>0.0</td>\n",
       "      <td>1499</td>\n",
       "    </tr>\n",
       "  </tbody>\n",
       "</table>\n",
       "<p>39613 rows × 4 columns</p>\n",
       "</div>"
      ],
      "text/plain": [
       "              id   call_date  duration  user_id\n",
       "0         1000_0  2018-07-25       0.0     1000\n",
       "1         1000_1  2018-08-17       0.0     1000\n",
       "5         1000_5  2018-11-02       0.0     1000\n",
       "6         1000_6  2018-10-18       0.0     1000\n",
       "9         1000_9  2018-08-15       0.0     1000\n",
       "...          ...         ...       ...      ...\n",
       "202590  1499_203  2018-12-03       0.0     1499\n",
       "202592  1499_205  2018-10-13       0.0     1499\n",
       "202593  1499_206  2018-12-26       0.0     1499\n",
       "202594  1499_207  2018-10-28       0.0     1499\n",
       "202596  1499_209  2018-12-16       0.0     1499\n",
       "\n",
       "[39613 rows x 4 columns]"
      ]
     },
     "execution_count": 5,
     "metadata": {},
     "output_type": "execute_result"
    }
   ],
   "source": [
    "df_calls.query('duration == 0')"
   ]
  },
  {
   "cell_type": "markdown",
   "metadata": {},
   "source": [
    "Поскольку в задании было прописано что звонки с нулевой продолжительностью - это пропущенные, не будем обращать на них внимание, это вполне нормально."
   ]
  },
  {
   "cell_type": "code",
   "execution_count": 6,
   "metadata": {},
   "outputs": [
    {
     "data": {
      "text/html": [
       "<div>\n",
       "<style scoped>\n",
       "    .dataframe tbody tr th:only-of-type {\n",
       "        vertical-align: middle;\n",
       "    }\n",
       "\n",
       "    .dataframe tbody tr th {\n",
       "        vertical-align: top;\n",
       "    }\n",
       "\n",
       "    .dataframe thead th {\n",
       "        text-align: right;\n",
       "    }\n",
       "</style>\n",
       "<table border=\"1\" class=\"dataframe\">\n",
       "  <thead>\n",
       "    <tr style=\"text-align: right;\">\n",
       "      <th></th>\n",
       "      <th>Unnamed: 0</th>\n",
       "      <th>id</th>\n",
       "      <th>mb_used</th>\n",
       "      <th>session_date</th>\n",
       "      <th>user_id</th>\n",
       "    </tr>\n",
       "  </thead>\n",
       "  <tbody>\n",
       "    <tr>\n",
       "      <td>0</td>\n",
       "      <td>0</td>\n",
       "      <td>1000_0</td>\n",
       "      <td>112.95</td>\n",
       "      <td>2018-11-25</td>\n",
       "      <td>1000</td>\n",
       "    </tr>\n",
       "    <tr>\n",
       "      <td>1</td>\n",
       "      <td>1</td>\n",
       "      <td>1000_1</td>\n",
       "      <td>1052.81</td>\n",
       "      <td>2018-09-07</td>\n",
       "      <td>1000</td>\n",
       "    </tr>\n",
       "    <tr>\n",
       "      <td>2</td>\n",
       "      <td>2</td>\n",
       "      <td>1000_2</td>\n",
       "      <td>1197.26</td>\n",
       "      <td>2018-06-25</td>\n",
       "      <td>1000</td>\n",
       "    </tr>\n",
       "    <tr>\n",
       "      <td>3</td>\n",
       "      <td>3</td>\n",
       "      <td>1000_3</td>\n",
       "      <td>550.27</td>\n",
       "      <td>2018-08-22</td>\n",
       "      <td>1000</td>\n",
       "    </tr>\n",
       "    <tr>\n",
       "      <td>4</td>\n",
       "      <td>4</td>\n",
       "      <td>1000_4</td>\n",
       "      <td>302.56</td>\n",
       "      <td>2018-09-24</td>\n",
       "      <td>1000</td>\n",
       "    </tr>\n",
       "    <tr>\n",
       "      <td>5</td>\n",
       "      <td>5</td>\n",
       "      <td>1000_5</td>\n",
       "      <td>399.97</td>\n",
       "      <td>2018-10-02</td>\n",
       "      <td>1000</td>\n",
       "    </tr>\n",
       "    <tr>\n",
       "      <td>6</td>\n",
       "      <td>6</td>\n",
       "      <td>1000_6</td>\n",
       "      <td>540.08</td>\n",
       "      <td>2018-09-07</td>\n",
       "      <td>1000</td>\n",
       "    </tr>\n",
       "    <tr>\n",
       "      <td>7</td>\n",
       "      <td>7</td>\n",
       "      <td>1000_7</td>\n",
       "      <td>415.70</td>\n",
       "      <td>2018-07-11</td>\n",
       "      <td>1000</td>\n",
       "    </tr>\n",
       "    <tr>\n",
       "      <td>8</td>\n",
       "      <td>8</td>\n",
       "      <td>1000_8</td>\n",
       "      <td>505.40</td>\n",
       "      <td>2018-10-08</td>\n",
       "      <td>1000</td>\n",
       "    </tr>\n",
       "    <tr>\n",
       "      <td>9</td>\n",
       "      <td>9</td>\n",
       "      <td>1000_9</td>\n",
       "      <td>345.54</td>\n",
       "      <td>2018-09-03</td>\n",
       "      <td>1000</td>\n",
       "    </tr>\n",
       "  </tbody>\n",
       "</table>\n",
       "</div>"
      ],
      "text/plain": [
       "   Unnamed: 0      id  mb_used session_date  user_id\n",
       "0           0  1000_0   112.95   2018-11-25     1000\n",
       "1           1  1000_1  1052.81   2018-09-07     1000\n",
       "2           2  1000_2  1197.26   2018-06-25     1000\n",
       "3           3  1000_3   550.27   2018-08-22     1000\n",
       "4           4  1000_4   302.56   2018-09-24     1000\n",
       "5           5  1000_5   399.97   2018-10-02     1000\n",
       "6           6  1000_6   540.08   2018-09-07     1000\n",
       "7           7  1000_7   415.70   2018-07-11     1000\n",
       "8           8  1000_8   505.40   2018-10-08     1000\n",
       "9           9  1000_9   345.54   2018-09-03     1000"
      ]
     },
     "execution_count": 6,
     "metadata": {},
     "output_type": "execute_result"
    }
   ],
   "source": [
    "df_internet = pd.read_csv('/datasets/internet.csv')\n",
    "df_internet.head(10)"
   ]
  },
  {
   "cell_type": "code",
   "execution_count": 7,
   "metadata": {},
   "outputs": [
    {
     "name": "stdout",
     "output_type": "stream",
     "text": [
      "<class 'pandas.core.frame.DataFrame'>\n",
      "RangeIndex: 149396 entries, 0 to 149395\n",
      "Data columns (total 5 columns):\n",
      "Unnamed: 0      149396 non-null int64\n",
      "id              149396 non-null object\n",
      "mb_used         149396 non-null float64\n",
      "session_date    149396 non-null object\n",
      "user_id         149396 non-null int64\n",
      "dtypes: float64(1), int64(2), object(2)\n",
      "memory usage: 5.7+ MB\n"
     ]
    }
   ],
   "source": [
    "df_internet.info()"
   ]
  },
  {
   "cell_type": "code",
   "execution_count": 8,
   "metadata": {},
   "outputs": [
    {
     "data": {
      "text/html": [
       "<div>\n",
       "<style scoped>\n",
       "    .dataframe tbody tr th:only-of-type {\n",
       "        vertical-align: middle;\n",
       "    }\n",
       "\n",
       "    .dataframe tbody tr th {\n",
       "        vertical-align: top;\n",
       "    }\n",
       "\n",
       "    .dataframe thead th {\n",
       "        text-align: right;\n",
       "    }\n",
       "</style>\n",
       "<table border=\"1\" class=\"dataframe\">\n",
       "  <thead>\n",
       "    <tr style=\"text-align: right;\">\n",
       "      <th></th>\n",
       "      <th>Unnamed: 0</th>\n",
       "      <th>mb_used</th>\n",
       "      <th>user_id</th>\n",
       "    </tr>\n",
       "  </thead>\n",
       "  <tbody>\n",
       "    <tr>\n",
       "      <td>count</td>\n",
       "      <td>149396.000000</td>\n",
       "      <td>149396.000000</td>\n",
       "      <td>149396.000000</td>\n",
       "    </tr>\n",
       "    <tr>\n",
       "      <td>mean</td>\n",
       "      <td>74697.500000</td>\n",
       "      <td>370.192426</td>\n",
       "      <td>1252.099842</td>\n",
       "    </tr>\n",
       "    <tr>\n",
       "      <td>std</td>\n",
       "      <td>43127.054745</td>\n",
       "      <td>278.300951</td>\n",
       "      <td>144.050823</td>\n",
       "    </tr>\n",
       "    <tr>\n",
       "      <td>min</td>\n",
       "      <td>0.000000</td>\n",
       "      <td>0.000000</td>\n",
       "      <td>1000.000000</td>\n",
       "    </tr>\n",
       "    <tr>\n",
       "      <td>25%</td>\n",
       "      <td>37348.750000</td>\n",
       "      <td>138.187500</td>\n",
       "      <td>1130.000000</td>\n",
       "    </tr>\n",
       "    <tr>\n",
       "      <td>50%</td>\n",
       "      <td>74697.500000</td>\n",
       "      <td>348.015000</td>\n",
       "      <td>1251.000000</td>\n",
       "    </tr>\n",
       "    <tr>\n",
       "      <td>75%</td>\n",
       "      <td>112046.250000</td>\n",
       "      <td>559.552500</td>\n",
       "      <td>1380.000000</td>\n",
       "    </tr>\n",
       "    <tr>\n",
       "      <td>max</td>\n",
       "      <td>149395.000000</td>\n",
       "      <td>1724.830000</td>\n",
       "      <td>1499.000000</td>\n",
       "    </tr>\n",
       "  </tbody>\n",
       "</table>\n",
       "</div>"
      ],
      "text/plain": [
       "          Unnamed: 0        mb_used        user_id\n",
       "count  149396.000000  149396.000000  149396.000000\n",
       "mean    74697.500000     370.192426    1252.099842\n",
       "std     43127.054745     278.300951     144.050823\n",
       "min         0.000000       0.000000    1000.000000\n",
       "25%     37348.750000     138.187500    1130.000000\n",
       "50%     74697.500000     348.015000    1251.000000\n",
       "75%    112046.250000     559.552500    1380.000000\n",
       "max    149395.000000    1724.830000    1499.000000"
      ]
     },
     "execution_count": 8,
     "metadata": {},
     "output_type": "execute_result"
    }
   ],
   "source": [
    "df_internet.describe()"
   ]
  },
  {
   "cell_type": "code",
   "execution_count": 9,
   "metadata": {},
   "outputs": [
    {
     "data": {
      "text/html": [
       "<div>\n",
       "<style scoped>\n",
       "    .dataframe tbody tr th:only-of-type {\n",
       "        vertical-align: middle;\n",
       "    }\n",
       "\n",
       "    .dataframe tbody tr th {\n",
       "        vertical-align: top;\n",
       "    }\n",
       "\n",
       "    .dataframe thead th {\n",
       "        text-align: right;\n",
       "    }\n",
       "</style>\n",
       "<table border=\"1\" class=\"dataframe\">\n",
       "  <thead>\n",
       "    <tr style=\"text-align: right;\">\n",
       "      <th></th>\n",
       "      <th>Unnamed: 0</th>\n",
       "      <th>id</th>\n",
       "      <th>mb_used</th>\n",
       "      <th>session_date</th>\n",
       "      <th>user_id</th>\n",
       "    </tr>\n",
       "  </thead>\n",
       "  <tbody>\n",
       "    <tr>\n",
       "      <td>11</td>\n",
       "      <td>11</td>\n",
       "      <td>1000_11</td>\n",
       "      <td>0.0</td>\n",
       "      <td>2018-08-28</td>\n",
       "      <td>1000</td>\n",
       "    </tr>\n",
       "    <tr>\n",
       "      <td>38</td>\n",
       "      <td>38</td>\n",
       "      <td>1000_38</td>\n",
       "      <td>0.0</td>\n",
       "      <td>2018-11-27</td>\n",
       "      <td>1000</td>\n",
       "    </tr>\n",
       "    <tr>\n",
       "      <td>46</td>\n",
       "      <td>46</td>\n",
       "      <td>1000_46</td>\n",
       "      <td>0.0</td>\n",
       "      <td>2018-06-30</td>\n",
       "      <td>1000</td>\n",
       "    </tr>\n",
       "    <tr>\n",
       "      <td>67</td>\n",
       "      <td>67</td>\n",
       "      <td>1000_67</td>\n",
       "      <td>0.0</td>\n",
       "      <td>2018-06-16</td>\n",
       "      <td>1000</td>\n",
       "    </tr>\n",
       "    <tr>\n",
       "      <td>72</td>\n",
       "      <td>72</td>\n",
       "      <td>1000_72</td>\n",
       "      <td>0.0</td>\n",
       "      <td>2018-06-15</td>\n",
       "      <td>1000</td>\n",
       "    </tr>\n",
       "    <tr>\n",
       "      <td>...</td>\n",
       "      <td>...</td>\n",
       "      <td>...</td>\n",
       "      <td>...</td>\n",
       "      <td>...</td>\n",
       "      <td>...</td>\n",
       "    </tr>\n",
       "    <tr>\n",
       "      <td>149380</td>\n",
       "      <td>149380</td>\n",
       "      <td>1499_141</td>\n",
       "      <td>0.0</td>\n",
       "      <td>2018-12-11</td>\n",
       "      <td>1499</td>\n",
       "    </tr>\n",
       "    <tr>\n",
       "      <td>149381</td>\n",
       "      <td>149381</td>\n",
       "      <td>1499_142</td>\n",
       "      <td>0.0</td>\n",
       "      <td>2018-11-01</td>\n",
       "      <td>1499</td>\n",
       "    </tr>\n",
       "    <tr>\n",
       "      <td>149383</td>\n",
       "      <td>149383</td>\n",
       "      <td>1499_144</td>\n",
       "      <td>0.0</td>\n",
       "      <td>2018-11-27</td>\n",
       "      <td>1499</td>\n",
       "    </tr>\n",
       "    <tr>\n",
       "      <td>149386</td>\n",
       "      <td>149386</td>\n",
       "      <td>1499_147</td>\n",
       "      <td>0.0</td>\n",
       "      <td>2018-10-21</td>\n",
       "      <td>1499</td>\n",
       "    </tr>\n",
       "    <tr>\n",
       "      <td>149393</td>\n",
       "      <td>149393</td>\n",
       "      <td>1499_154</td>\n",
       "      <td>0.0</td>\n",
       "      <td>2018-10-27</td>\n",
       "      <td>1499</td>\n",
       "    </tr>\n",
       "  </tbody>\n",
       "</table>\n",
       "<p>19598 rows × 5 columns</p>\n",
       "</div>"
      ],
      "text/plain": [
       "        Unnamed: 0        id  mb_used session_date  user_id\n",
       "11              11   1000_11      0.0   2018-08-28     1000\n",
       "38              38   1000_38      0.0   2018-11-27     1000\n",
       "46              46   1000_46      0.0   2018-06-30     1000\n",
       "67              67   1000_67      0.0   2018-06-16     1000\n",
       "72              72   1000_72      0.0   2018-06-15     1000\n",
       "...            ...       ...      ...          ...      ...\n",
       "149380      149380  1499_141      0.0   2018-12-11     1499\n",
       "149381      149381  1499_142      0.0   2018-11-01     1499\n",
       "149383      149383  1499_144      0.0   2018-11-27     1499\n",
       "149386      149386  1499_147      0.0   2018-10-21     1499\n",
       "149393      149393  1499_154      0.0   2018-10-27     1499\n",
       "\n",
       "[19598 rows x 5 columns]"
      ]
     },
     "execution_count": 9,
     "metadata": {},
     "output_type": "execute_result"
    }
   ],
   "source": [
    "df_internet.query('mb_used == 0')"
   ]
  },
  {
   "cell_type": "markdown",
   "metadata": {},
   "source": [
    "С учетом что нулевых использований интернета достаточно много, а данные в столбце мегабайт имеют округление до сотых, могу сделать 2 предположения о природе данных нулей:\n",
    "\n",
    "1) Клиент потратил сильно меньше 1 мб, и при округлении получился ноль. Примером такого потребления трафика может быть отправка текстовых сообщений в мессенджере.\n",
    "\n",
    "2) Клиент использовал интернет в целях в которых оператор позволяет пользоваться безлимитом, но нам при постановке задания о таких акциях\\услугах забыли упомянуть. К примеру оператор установил безлимит для использования интернета в социальных сетях.\n",
    "\n",
    "В обоих случаях это не должно существенно повлиять на аналитику данных, потому что расчет и аналитику мы будем делать на основании гигабайтов, что на порядки выше возможной погрешности из-за килобайтов. "
   ]
  },
  {
   "cell_type": "code",
   "execution_count": 10,
   "metadata": {},
   "outputs": [
    {
     "data": {
      "text/html": [
       "<div>\n",
       "<style scoped>\n",
       "    .dataframe tbody tr th:only-of-type {\n",
       "        vertical-align: middle;\n",
       "    }\n",
       "\n",
       "    .dataframe tbody tr th {\n",
       "        vertical-align: top;\n",
       "    }\n",
       "\n",
       "    .dataframe thead th {\n",
       "        text-align: right;\n",
       "    }\n",
       "</style>\n",
       "<table border=\"1\" class=\"dataframe\">\n",
       "  <thead>\n",
       "    <tr style=\"text-align: right;\">\n",
       "      <th></th>\n",
       "      <th>id</th>\n",
       "      <th>message_date</th>\n",
       "      <th>user_id</th>\n",
       "    </tr>\n",
       "  </thead>\n",
       "  <tbody>\n",
       "    <tr>\n",
       "      <td>0</td>\n",
       "      <td>1000_0</td>\n",
       "      <td>2018-06-27</td>\n",
       "      <td>1000</td>\n",
       "    </tr>\n",
       "    <tr>\n",
       "      <td>1</td>\n",
       "      <td>1000_1</td>\n",
       "      <td>2018-10-08</td>\n",
       "      <td>1000</td>\n",
       "    </tr>\n",
       "    <tr>\n",
       "      <td>2</td>\n",
       "      <td>1000_2</td>\n",
       "      <td>2018-08-04</td>\n",
       "      <td>1000</td>\n",
       "    </tr>\n",
       "    <tr>\n",
       "      <td>3</td>\n",
       "      <td>1000_3</td>\n",
       "      <td>2018-06-16</td>\n",
       "      <td>1000</td>\n",
       "    </tr>\n",
       "    <tr>\n",
       "      <td>4</td>\n",
       "      <td>1000_4</td>\n",
       "      <td>2018-12-05</td>\n",
       "      <td>1000</td>\n",
       "    </tr>\n",
       "  </tbody>\n",
       "</table>\n",
       "</div>"
      ],
      "text/plain": [
       "       id message_date  user_id\n",
       "0  1000_0   2018-06-27     1000\n",
       "1  1000_1   2018-10-08     1000\n",
       "2  1000_2   2018-08-04     1000\n",
       "3  1000_3   2018-06-16     1000\n",
       "4  1000_4   2018-12-05     1000"
      ]
     },
     "execution_count": 10,
     "metadata": {},
     "output_type": "execute_result"
    }
   ],
   "source": [
    "df_messages = pd.read_csv('/datasets/messages.csv')\n",
    "df_messages.head()"
   ]
  },
  {
   "cell_type": "code",
   "execution_count": 11,
   "metadata": {},
   "outputs": [
    {
     "name": "stdout",
     "output_type": "stream",
     "text": [
      "<class 'pandas.core.frame.DataFrame'>\n",
      "RangeIndex: 123036 entries, 0 to 123035\n",
      "Data columns (total 3 columns):\n",
      "id              123036 non-null object\n",
      "message_date    123036 non-null object\n",
      "user_id         123036 non-null int64\n",
      "dtypes: int64(1), object(2)\n",
      "memory usage: 2.8+ MB\n"
     ]
    }
   ],
   "source": [
    "df_messages.info()"
   ]
  },
  {
   "cell_type": "code",
   "execution_count": 12,
   "metadata": {},
   "outputs": [
    {
     "data": {
      "text/html": [
       "<div>\n",
       "<style scoped>\n",
       "    .dataframe tbody tr th:only-of-type {\n",
       "        vertical-align: middle;\n",
       "    }\n",
       "\n",
       "    .dataframe tbody tr th {\n",
       "        vertical-align: top;\n",
       "    }\n",
       "\n",
       "    .dataframe thead th {\n",
       "        text-align: right;\n",
       "    }\n",
       "</style>\n",
       "<table border=\"1\" class=\"dataframe\">\n",
       "  <thead>\n",
       "    <tr style=\"text-align: right;\">\n",
       "      <th></th>\n",
       "      <th>user_id</th>\n",
       "    </tr>\n",
       "  </thead>\n",
       "  <tbody>\n",
       "    <tr>\n",
       "      <td>count</td>\n",
       "      <td>123036.000000</td>\n",
       "    </tr>\n",
       "    <tr>\n",
       "      <td>mean</td>\n",
       "      <td>1256.989410</td>\n",
       "    </tr>\n",
       "    <tr>\n",
       "      <td>std</td>\n",
       "      <td>143.523967</td>\n",
       "    </tr>\n",
       "    <tr>\n",
       "      <td>min</td>\n",
       "      <td>1000.000000</td>\n",
       "    </tr>\n",
       "    <tr>\n",
       "      <td>25%</td>\n",
       "      <td>1134.000000</td>\n",
       "    </tr>\n",
       "    <tr>\n",
       "      <td>50%</td>\n",
       "      <td>1271.000000</td>\n",
       "    </tr>\n",
       "    <tr>\n",
       "      <td>75%</td>\n",
       "      <td>1381.000000</td>\n",
       "    </tr>\n",
       "    <tr>\n",
       "      <td>max</td>\n",
       "      <td>1499.000000</td>\n",
       "    </tr>\n",
       "  </tbody>\n",
       "</table>\n",
       "</div>"
      ],
      "text/plain": [
       "             user_id\n",
       "count  123036.000000\n",
       "mean     1256.989410\n",
       "std       143.523967\n",
       "min      1000.000000\n",
       "25%      1134.000000\n",
       "50%      1271.000000\n",
       "75%      1381.000000\n",
       "max      1499.000000"
      ]
     },
     "execution_count": 12,
     "metadata": {},
     "output_type": "execute_result"
    }
   ],
   "source": [
    "df_messages.describe()"
   ]
  },
  {
   "cell_type": "code",
   "execution_count": 13,
   "metadata": {},
   "outputs": [
    {
     "data": {
      "text/html": [
       "<div>\n",
       "<style scoped>\n",
       "    .dataframe tbody tr th:only-of-type {\n",
       "        vertical-align: middle;\n",
       "    }\n",
       "\n",
       "    .dataframe tbody tr th {\n",
       "        vertical-align: top;\n",
       "    }\n",
       "\n",
       "    .dataframe thead th {\n",
       "        text-align: right;\n",
       "    }\n",
       "</style>\n",
       "<table border=\"1\" class=\"dataframe\">\n",
       "  <thead>\n",
       "    <tr style=\"text-align: right;\">\n",
       "      <th></th>\n",
       "      <th>messages_included</th>\n",
       "      <th>mb_per_month_included</th>\n",
       "      <th>minutes_included</th>\n",
       "      <th>rub_monthly_fee</th>\n",
       "      <th>rub_per_gb</th>\n",
       "      <th>rub_per_message</th>\n",
       "      <th>rub_per_minute</th>\n",
       "      <th>tariff_name</th>\n",
       "    </tr>\n",
       "  </thead>\n",
       "  <tbody>\n",
       "    <tr>\n",
       "      <td>0</td>\n",
       "      <td>50</td>\n",
       "      <td>15360</td>\n",
       "      <td>500</td>\n",
       "      <td>550</td>\n",
       "      <td>200</td>\n",
       "      <td>3</td>\n",
       "      <td>3</td>\n",
       "      <td>smart</td>\n",
       "    </tr>\n",
       "    <tr>\n",
       "      <td>1</td>\n",
       "      <td>1000</td>\n",
       "      <td>30720</td>\n",
       "      <td>3000</td>\n",
       "      <td>1950</td>\n",
       "      <td>150</td>\n",
       "      <td>1</td>\n",
       "      <td>1</td>\n",
       "      <td>ultra</td>\n",
       "    </tr>\n",
       "  </tbody>\n",
       "</table>\n",
       "</div>"
      ],
      "text/plain": [
       "   messages_included  mb_per_month_included  minutes_included  \\\n",
       "0                 50                  15360               500   \n",
       "1               1000                  30720              3000   \n",
       "\n",
       "   rub_monthly_fee  rub_per_gb  rub_per_message  rub_per_minute tariff_name  \n",
       "0              550         200                3               3       smart  \n",
       "1             1950         150                1               1       ultra  "
      ]
     },
     "execution_count": 13,
     "metadata": {},
     "output_type": "execute_result"
    }
   ],
   "source": [
    "df_tarif = pd.read_csv('/datasets/tariffs.csv')\n",
    "df_tarif.head()"
   ]
  },
  {
   "cell_type": "code",
   "execution_count": 14,
   "metadata": {},
   "outputs": [
    {
     "data": {
      "text/html": [
       "<div>\n",
       "<style scoped>\n",
       "    .dataframe tbody tr th:only-of-type {\n",
       "        vertical-align: middle;\n",
       "    }\n",
       "\n",
       "    .dataframe tbody tr th {\n",
       "        vertical-align: top;\n",
       "    }\n",
       "\n",
       "    .dataframe thead th {\n",
       "        text-align: right;\n",
       "    }\n",
       "</style>\n",
       "<table border=\"1\" class=\"dataframe\">\n",
       "  <thead>\n",
       "    <tr style=\"text-align: right;\">\n",
       "      <th></th>\n",
       "      <th>user_id</th>\n",
       "      <th>age</th>\n",
       "      <th>churn_date</th>\n",
       "      <th>city</th>\n",
       "      <th>first_name</th>\n",
       "      <th>last_name</th>\n",
       "      <th>reg_date</th>\n",
       "      <th>tariff</th>\n",
       "    </tr>\n",
       "  </thead>\n",
       "  <tbody>\n",
       "    <tr>\n",
       "      <td>0</td>\n",
       "      <td>1000</td>\n",
       "      <td>52</td>\n",
       "      <td>NaN</td>\n",
       "      <td>Краснодар</td>\n",
       "      <td>Рафаил</td>\n",
       "      <td>Верещагин</td>\n",
       "      <td>2018-05-25</td>\n",
       "      <td>ultra</td>\n",
       "    </tr>\n",
       "    <tr>\n",
       "      <td>1</td>\n",
       "      <td>1001</td>\n",
       "      <td>41</td>\n",
       "      <td>NaN</td>\n",
       "      <td>Москва</td>\n",
       "      <td>Иван</td>\n",
       "      <td>Ежов</td>\n",
       "      <td>2018-11-01</td>\n",
       "      <td>smart</td>\n",
       "    </tr>\n",
       "    <tr>\n",
       "      <td>2</td>\n",
       "      <td>1002</td>\n",
       "      <td>59</td>\n",
       "      <td>NaN</td>\n",
       "      <td>Стерлитамак</td>\n",
       "      <td>Евгений</td>\n",
       "      <td>Абрамович</td>\n",
       "      <td>2018-06-17</td>\n",
       "      <td>smart</td>\n",
       "    </tr>\n",
       "    <tr>\n",
       "      <td>3</td>\n",
       "      <td>1003</td>\n",
       "      <td>23</td>\n",
       "      <td>NaN</td>\n",
       "      <td>Москва</td>\n",
       "      <td>Белла</td>\n",
       "      <td>Белякова</td>\n",
       "      <td>2018-08-17</td>\n",
       "      <td>ultra</td>\n",
       "    </tr>\n",
       "    <tr>\n",
       "      <td>4</td>\n",
       "      <td>1004</td>\n",
       "      <td>68</td>\n",
       "      <td>NaN</td>\n",
       "      <td>Новокузнецк</td>\n",
       "      <td>Татьяна</td>\n",
       "      <td>Авдеенко</td>\n",
       "      <td>2018-05-14</td>\n",
       "      <td>ultra</td>\n",
       "    </tr>\n",
       "  </tbody>\n",
       "</table>\n",
       "</div>"
      ],
      "text/plain": [
       "   user_id  age churn_date         city first_name  last_name    reg_date  \\\n",
       "0     1000   52        NaN    Краснодар     Рафаил  Верещагин  2018-05-25   \n",
       "1     1001   41        NaN       Москва       Иван       Ежов  2018-11-01   \n",
       "2     1002   59        NaN  Стерлитамак    Евгений  Абрамович  2018-06-17   \n",
       "3     1003   23        NaN       Москва      Белла   Белякова  2018-08-17   \n",
       "4     1004   68        NaN  Новокузнецк    Татьяна   Авдеенко  2018-05-14   \n",
       "\n",
       "  tariff  \n",
       "0  ultra  \n",
       "1  smart  \n",
       "2  smart  \n",
       "3  ultra  \n",
       "4  ultra  "
      ]
     },
     "execution_count": 14,
     "metadata": {},
     "output_type": "execute_result"
    }
   ],
   "source": [
    "df_users = pd.read_csv('/datasets/users.csv')\n",
    "df_users.head()"
   ]
  },
  {
   "cell_type": "code",
   "execution_count": 15,
   "metadata": {},
   "outputs": [
    {
     "name": "stdout",
     "output_type": "stream",
     "text": [
      "<class 'pandas.core.frame.DataFrame'>\n",
      "RangeIndex: 500 entries, 0 to 499\n",
      "Data columns (total 8 columns):\n",
      "user_id       500 non-null int64\n",
      "age           500 non-null int64\n",
      "churn_date    38 non-null object\n",
      "city          500 non-null object\n",
      "first_name    500 non-null object\n",
      "last_name     500 non-null object\n",
      "reg_date      500 non-null object\n",
      "tariff        500 non-null object\n",
      "dtypes: int64(2), object(6)\n",
      "memory usage: 31.4+ KB\n"
     ]
    }
   ],
   "source": [
    "df_users.info()"
   ]
  },
  {
   "cell_type": "code",
   "execution_count": 16,
   "metadata": {},
   "outputs": [
    {
     "data": {
      "text/html": [
       "<div>\n",
       "<style scoped>\n",
       "    .dataframe tbody tr th:only-of-type {\n",
       "        vertical-align: middle;\n",
       "    }\n",
       "\n",
       "    .dataframe tbody tr th {\n",
       "        vertical-align: top;\n",
       "    }\n",
       "\n",
       "    .dataframe thead th {\n",
       "        text-align: right;\n",
       "    }\n",
       "</style>\n",
       "<table border=\"1\" class=\"dataframe\">\n",
       "  <thead>\n",
       "    <tr style=\"text-align: right;\">\n",
       "      <th></th>\n",
       "      <th>user_id</th>\n",
       "      <th>age</th>\n",
       "    </tr>\n",
       "  </thead>\n",
       "  <tbody>\n",
       "    <tr>\n",
       "      <td>count</td>\n",
       "      <td>500.000000</td>\n",
       "      <td>500.00000</td>\n",
       "    </tr>\n",
       "    <tr>\n",
       "      <td>mean</td>\n",
       "      <td>1249.500000</td>\n",
       "      <td>46.58800</td>\n",
       "    </tr>\n",
       "    <tr>\n",
       "      <td>std</td>\n",
       "      <td>144.481833</td>\n",
       "      <td>16.66763</td>\n",
       "    </tr>\n",
       "    <tr>\n",
       "      <td>min</td>\n",
       "      <td>1000.000000</td>\n",
       "      <td>18.00000</td>\n",
       "    </tr>\n",
       "    <tr>\n",
       "      <td>25%</td>\n",
       "      <td>1124.750000</td>\n",
       "      <td>32.00000</td>\n",
       "    </tr>\n",
       "    <tr>\n",
       "      <td>50%</td>\n",
       "      <td>1249.500000</td>\n",
       "      <td>46.00000</td>\n",
       "    </tr>\n",
       "    <tr>\n",
       "      <td>75%</td>\n",
       "      <td>1374.250000</td>\n",
       "      <td>62.00000</td>\n",
       "    </tr>\n",
       "    <tr>\n",
       "      <td>max</td>\n",
       "      <td>1499.000000</td>\n",
       "      <td>75.00000</td>\n",
       "    </tr>\n",
       "  </tbody>\n",
       "</table>\n",
       "</div>"
      ],
      "text/plain": [
       "           user_id        age\n",
       "count   500.000000  500.00000\n",
       "mean   1249.500000   46.58800\n",
       "std     144.481833   16.66763\n",
       "min    1000.000000   18.00000\n",
       "25%    1124.750000   32.00000\n",
       "50%    1249.500000   46.00000\n",
       "75%    1374.250000   62.00000\n",
       "max    1499.000000   75.00000"
      ]
     },
     "execution_count": 16,
     "metadata": {},
     "output_type": "execute_result"
    }
   ],
   "source": [
    "df_users.describe()"
   ]
  },
  {
   "cell_type": "markdown",
   "metadata": {},
   "source": [
    "### Вывод"
   ]
  },
  {
   "cell_type": "markdown",
   "metadata": {},
   "source": [
    "Данные в хорошем состоянии, пропущенных значений нет. Единственное для анализа будет необходимо привести столбцы с датами к типу дат и поскольку каждый звонок округляется до целого числа минут необходимо также поправить данные в таблице по звонкам. По интернету и сообщениям суммировать трафик по месяцам.\n",
    "\n",
    "В итоге необходимо свести все данные по звонкам, сообщениям и мегабайтам, в одну сводную таблицу по месяцам и пользователям чтобы дальше можно было высчитать сумму которую они платят в месяц."
   ]
  },
  {
   "cell_type": "markdown",
   "metadata": {},
   "source": [
    "## Подготовка данных"
   ]
  },
  {
   "cell_type": "code",
   "execution_count": 17,
   "metadata": {},
   "outputs": [],
   "source": [
    "df_calls['call_date'] = pd.to_datetime(df_calls['call_date'], format = '%Y-%m-%d')"
   ]
  },
  {
   "cell_type": "code",
   "execution_count": 18,
   "metadata": {},
   "outputs": [],
   "source": [
    "df_internet['session_date'] = pd.to_datetime(df_internet['session_date'], format = '%Y-%m-%d')"
   ]
  },
  {
   "cell_type": "code",
   "execution_count": 19,
   "metadata": {},
   "outputs": [],
   "source": [
    "df_messages['message_date'] = pd.to_datetime(df_messages['message_date'], format = '%Y-%m-%d')"
   ]
  },
  {
   "cell_type": "code",
   "execution_count": 20,
   "metadata": {},
   "outputs": [],
   "source": [
    "df_users['reg_date'] = pd.to_datetime(df_users['reg_date'], format = '%Y-%m-%d')\n",
    "df_users['churn_date'] = pd.to_datetime(df_users['churn_date'], format = '%Y-%m-%d')\n",
    "df_users['month_reg'] = df_users['reg_date'].dt.month\n",
    "df_users['month_churn'] = df_users['churn_date'].dt.month"
   ]
  },
  {
   "cell_type": "markdown",
   "metadata": {},
   "source": [
    "Все пользователи подключились в 2018 году, значит на год можно не обращать внимания. Отключались тоже в 2018, поэтому в рамках нашего исследования за пустые значения можно обозначить число 12, так как те кто не отключался пользовались услугами 12 месяцев."
   ]
  },
  {
   "cell_type": "code",
   "execution_count": 21,
   "metadata": {},
   "outputs": [
    {
     "data": {
      "text/html": [
       "<div>\n",
       "<style scoped>\n",
       "    .dataframe tbody tr th:only-of-type {\n",
       "        vertical-align: middle;\n",
       "    }\n",
       "\n",
       "    .dataframe tbody tr th {\n",
       "        vertical-align: top;\n",
       "    }\n",
       "\n",
       "    .dataframe thead th {\n",
       "        text-align: right;\n",
       "    }\n",
       "</style>\n",
       "<table border=\"1\" class=\"dataframe\">\n",
       "  <thead>\n",
       "    <tr style=\"text-align: right;\">\n",
       "      <th></th>\n",
       "      <th>user_id</th>\n",
       "      <th>age</th>\n",
       "      <th>churn_date</th>\n",
       "      <th>city</th>\n",
       "      <th>first_name</th>\n",
       "      <th>last_name</th>\n",
       "      <th>reg_date</th>\n",
       "      <th>tariff</th>\n",
       "      <th>month_reg</th>\n",
       "      <th>month_churn</th>\n",
       "    </tr>\n",
       "  </thead>\n",
       "  <tbody>\n",
       "    <tr>\n",
       "      <td>0</td>\n",
       "      <td>1000</td>\n",
       "      <td>52</td>\n",
       "      <td>NaT</td>\n",
       "      <td>Краснодар</td>\n",
       "      <td>Рафаил</td>\n",
       "      <td>Верещагин</td>\n",
       "      <td>2018-05-25</td>\n",
       "      <td>ultra</td>\n",
       "      <td>5</td>\n",
       "      <td>12</td>\n",
       "    </tr>\n",
       "    <tr>\n",
       "      <td>1</td>\n",
       "      <td>1001</td>\n",
       "      <td>41</td>\n",
       "      <td>NaT</td>\n",
       "      <td>Москва</td>\n",
       "      <td>Иван</td>\n",
       "      <td>Ежов</td>\n",
       "      <td>2018-11-01</td>\n",
       "      <td>smart</td>\n",
       "      <td>11</td>\n",
       "      <td>12</td>\n",
       "    </tr>\n",
       "    <tr>\n",
       "      <td>2</td>\n",
       "      <td>1002</td>\n",
       "      <td>59</td>\n",
       "      <td>NaT</td>\n",
       "      <td>Стерлитамак</td>\n",
       "      <td>Евгений</td>\n",
       "      <td>Абрамович</td>\n",
       "      <td>2018-06-17</td>\n",
       "      <td>smart</td>\n",
       "      <td>6</td>\n",
       "      <td>12</td>\n",
       "    </tr>\n",
       "    <tr>\n",
       "      <td>3</td>\n",
       "      <td>1003</td>\n",
       "      <td>23</td>\n",
       "      <td>NaT</td>\n",
       "      <td>Москва</td>\n",
       "      <td>Белла</td>\n",
       "      <td>Белякова</td>\n",
       "      <td>2018-08-17</td>\n",
       "      <td>ultra</td>\n",
       "      <td>8</td>\n",
       "      <td>12</td>\n",
       "    </tr>\n",
       "    <tr>\n",
       "      <td>4</td>\n",
       "      <td>1004</td>\n",
       "      <td>68</td>\n",
       "      <td>NaT</td>\n",
       "      <td>Новокузнецк</td>\n",
       "      <td>Татьяна</td>\n",
       "      <td>Авдеенко</td>\n",
       "      <td>2018-05-14</td>\n",
       "      <td>ultra</td>\n",
       "      <td>5</td>\n",
       "      <td>12</td>\n",
       "    </tr>\n",
       "  </tbody>\n",
       "</table>\n",
       "</div>"
      ],
      "text/plain": [
       "   user_id  age churn_date         city first_name  last_name   reg_date  \\\n",
       "0     1000   52        NaT    Краснодар     Рафаил  Верещагин 2018-05-25   \n",
       "1     1001   41        NaT       Москва       Иван       Ежов 2018-11-01   \n",
       "2     1002   59        NaT  Стерлитамак    Евгений  Абрамович 2018-06-17   \n",
       "3     1003   23        NaT       Москва      Белла   Белякова 2018-08-17   \n",
       "4     1004   68        NaT  Новокузнецк    Татьяна   Авдеенко 2018-05-14   \n",
       "\n",
       "  tariff  month_reg  month_churn  \n",
       "0  ultra          5           12  \n",
       "1  smart         11           12  \n",
       "2  smart          6           12  \n",
       "3  ultra          8           12  \n",
       "4  ultra          5           12  "
      ]
     },
     "execution_count": 21,
     "metadata": {},
     "output_type": "execute_result"
    }
   ],
   "source": [
    "df_users['month_churn'] = df_users['month_churn'].fillna(12).astype('int')\n",
    "df_users.head()"
   ]
  },
  {
   "cell_type": "code",
   "execution_count": 22,
   "metadata": {},
   "outputs": [],
   "source": [
    "df_calls['month'] = df_calls['call_date'].dt.month"
   ]
  },
  {
   "cell_type": "code",
   "execution_count": 23,
   "metadata": {},
   "outputs": [
    {
     "data": {
      "text/html": [
       "<div>\n",
       "<style scoped>\n",
       "    .dataframe tbody tr th:only-of-type {\n",
       "        vertical-align: middle;\n",
       "    }\n",
       "\n",
       "    .dataframe tbody tr th {\n",
       "        vertical-align: top;\n",
       "    }\n",
       "\n",
       "    .dataframe thead th {\n",
       "        text-align: right;\n",
       "    }\n",
       "</style>\n",
       "<table border=\"1\" class=\"dataframe\">\n",
       "  <thead>\n",
       "    <tr style=\"text-align: right;\">\n",
       "      <th></th>\n",
       "      <th>user_id</th>\n",
       "      <th>month</th>\n",
       "      <th>duration</th>\n",
       "    </tr>\n",
       "  </thead>\n",
       "  <tbody>\n",
       "    <tr>\n",
       "      <td>count</td>\n",
       "      <td>3174.000000</td>\n",
       "      <td>3174.000000</td>\n",
       "      <td>3174.000000</td>\n",
       "    </tr>\n",
       "    <tr>\n",
       "      <td>mean</td>\n",
       "      <td>1251.555766</td>\n",
       "      <td>8.311594</td>\n",
       "      <td>63.833333</td>\n",
       "    </tr>\n",
       "    <tr>\n",
       "      <td>std</td>\n",
       "      <td>144.470630</td>\n",
       "      <td>2.910625</td>\n",
       "      <td>32.678036</td>\n",
       "    </tr>\n",
       "    <tr>\n",
       "      <td>min</td>\n",
       "      <td>1000.000000</td>\n",
       "      <td>1.000000</td>\n",
       "      <td>1.000000</td>\n",
       "    </tr>\n",
       "    <tr>\n",
       "      <td>25%</td>\n",
       "      <td>1126.000000</td>\n",
       "      <td>6.000000</td>\n",
       "      <td>41.000000</td>\n",
       "    </tr>\n",
       "    <tr>\n",
       "      <td>50%</td>\n",
       "      <td>1254.000000</td>\n",
       "      <td>9.000000</td>\n",
       "      <td>63.000000</td>\n",
       "    </tr>\n",
       "    <tr>\n",
       "      <td>75%</td>\n",
       "      <td>1378.000000</td>\n",
       "      <td>11.000000</td>\n",
       "      <td>83.000000</td>\n",
       "    </tr>\n",
       "    <tr>\n",
       "      <td>max</td>\n",
       "      <td>1499.000000</td>\n",
       "      <td>12.000000</td>\n",
       "      <td>244.000000</td>\n",
       "    </tr>\n",
       "  </tbody>\n",
       "</table>\n",
       "</div>"
      ],
      "text/plain": [
       "           user_id        month     duration\n",
       "count  3174.000000  3174.000000  3174.000000\n",
       "mean   1251.555766     8.311594    63.833333\n",
       "std     144.470630     2.910625    32.678036\n",
       "min    1000.000000     1.000000     1.000000\n",
       "25%    1126.000000     6.000000    41.000000\n",
       "50%    1254.000000     9.000000    63.000000\n",
       "75%    1378.000000    11.000000    83.000000\n",
       "max    1499.000000    12.000000   244.000000"
      ]
     },
     "execution_count": 23,
     "metadata": {},
     "output_type": "execute_result"
    }
   ],
   "source": [
    "df_calls_count = df_calls.pivot_table(index = ['user_id', 'month'], values = 'duration', aggfunc = 'count').reset_index()\n",
    "df_calls_count.describe()"
   ]
  },
  {
   "cell_type": "code",
   "execution_count": 24,
   "metadata": {},
   "outputs": [
    {
     "data": {
      "text/html": [
       "<div>\n",
       "<style scoped>\n",
       "    .dataframe tbody tr th:only-of-type {\n",
       "        vertical-align: middle;\n",
       "    }\n",
       "\n",
       "    .dataframe tbody tr th {\n",
       "        vertical-align: top;\n",
       "    }\n",
       "\n",
       "    .dataframe thead th {\n",
       "        text-align: right;\n",
       "    }\n",
       "</style>\n",
       "<table border=\"1\" class=\"dataframe\">\n",
       "  <thead>\n",
       "    <tr style=\"text-align: right;\">\n",
       "      <th></th>\n",
       "      <th>user_id</th>\n",
       "      <th>month</th>\n",
       "      <th>duration</th>\n",
       "    </tr>\n",
       "  </thead>\n",
       "  <tbody>\n",
       "    <tr>\n",
       "      <td>0</td>\n",
       "      <td>1000</td>\n",
       "      <td>5</td>\n",
       "      <td>159</td>\n",
       "    </tr>\n",
       "    <tr>\n",
       "      <td>1</td>\n",
       "      <td>1000</td>\n",
       "      <td>6</td>\n",
       "      <td>172</td>\n",
       "    </tr>\n",
       "    <tr>\n",
       "      <td>2</td>\n",
       "      <td>1000</td>\n",
       "      <td>7</td>\n",
       "      <td>340</td>\n",
       "    </tr>\n",
       "    <tr>\n",
       "      <td>3</td>\n",
       "      <td>1000</td>\n",
       "      <td>8</td>\n",
       "      <td>408</td>\n",
       "    </tr>\n",
       "    <tr>\n",
       "      <td>4</td>\n",
       "      <td>1000</td>\n",
       "      <td>9</td>\n",
       "      <td>466</td>\n",
       "    </tr>\n",
       "  </tbody>\n",
       "</table>\n",
       "</div>"
      ],
      "text/plain": [
       "   user_id  month  duration\n",
       "0     1000      5       159\n",
       "1     1000      6       172\n",
       "2     1000      7       340\n",
       "3     1000      8       408\n",
       "4     1000      9       466"
      ]
     },
     "execution_count": 24,
     "metadata": {},
     "output_type": "execute_result"
    }
   ],
   "source": [
    "df_calls['duration'] = df_calls['duration'].apply(np.ceil).astype('int')\n",
    "df_calls_pivot = df_calls.pivot_table(index = ['user_id', 'month'], values = 'duration', aggfunc = 'sum').reset_index()\n",
    "df_calls_pivot.head()"
   ]
  },
  {
   "cell_type": "code",
   "execution_count": 25,
   "metadata": {},
   "outputs": [
    {
     "data": {
      "text/html": [
       "<div>\n",
       "<style scoped>\n",
       "    .dataframe tbody tr th:only-of-type {\n",
       "        vertical-align: middle;\n",
       "    }\n",
       "\n",
       "    .dataframe tbody tr th {\n",
       "        vertical-align: top;\n",
       "    }\n",
       "\n",
       "    .dataframe thead th {\n",
       "        text-align: right;\n",
       "    }\n",
       "</style>\n",
       "<table border=\"1\" class=\"dataframe\">\n",
       "  <thead>\n",
       "    <tr style=\"text-align: right;\">\n",
       "      <th></th>\n",
       "      <th>user_id</th>\n",
       "      <th>month</th>\n",
       "      <th>mb_used</th>\n",
       "    </tr>\n",
       "  </thead>\n",
       "  <tbody>\n",
       "    <tr>\n",
       "      <td>0</td>\n",
       "      <td>1000</td>\n",
       "      <td>5</td>\n",
       "      <td>2253.49</td>\n",
       "    </tr>\n",
       "    <tr>\n",
       "      <td>1</td>\n",
       "      <td>1000</td>\n",
       "      <td>6</td>\n",
       "      <td>23233.77</td>\n",
       "    </tr>\n",
       "    <tr>\n",
       "      <td>2</td>\n",
       "      <td>1000</td>\n",
       "      <td>7</td>\n",
       "      <td>14003.64</td>\n",
       "    </tr>\n",
       "    <tr>\n",
       "      <td>3</td>\n",
       "      <td>1000</td>\n",
       "      <td>8</td>\n",
       "      <td>14055.93</td>\n",
       "    </tr>\n",
       "    <tr>\n",
       "      <td>4</td>\n",
       "      <td>1000</td>\n",
       "      <td>9</td>\n",
       "      <td>14568.91</td>\n",
       "    </tr>\n",
       "  </tbody>\n",
       "</table>\n",
       "</div>"
      ],
      "text/plain": [
       "   user_id  month   mb_used\n",
       "0     1000      5   2253.49\n",
       "1     1000      6  23233.77\n",
       "2     1000      7  14003.64\n",
       "3     1000      8  14055.93\n",
       "4     1000      9  14568.91"
      ]
     },
     "execution_count": 25,
     "metadata": {},
     "output_type": "execute_result"
    }
   ],
   "source": [
    "df_internet['month'] = df_internet['session_date'].dt.month\n",
    "df_internet_pivot = df_internet.pivot_table(index = ['user_id', 'month'], values = 'mb_used', aggfunc = 'sum').reset_index()\n",
    "df_internet_pivot.head()"
   ]
  },
  {
   "cell_type": "code",
   "execution_count": 26,
   "metadata": {},
   "outputs": [
    {
     "data": {
      "text/html": [
       "<div>\n",
       "<style scoped>\n",
       "    .dataframe tbody tr th:only-of-type {\n",
       "        vertical-align: middle;\n",
       "    }\n",
       "\n",
       "    .dataframe tbody tr th {\n",
       "        vertical-align: top;\n",
       "    }\n",
       "\n",
       "    .dataframe thead th {\n",
       "        text-align: right;\n",
       "    }\n",
       "</style>\n",
       "<table border=\"1\" class=\"dataframe\">\n",
       "  <thead>\n",
       "    <tr style=\"text-align: right;\">\n",
       "      <th></th>\n",
       "      <th>user_id</th>\n",
       "      <th>month</th>\n",
       "      <th>messages</th>\n",
       "    </tr>\n",
       "  </thead>\n",
       "  <tbody>\n",
       "    <tr>\n",
       "      <td>0</td>\n",
       "      <td>1000</td>\n",
       "      <td>5</td>\n",
       "      <td>22</td>\n",
       "    </tr>\n",
       "    <tr>\n",
       "      <td>1</td>\n",
       "      <td>1000</td>\n",
       "      <td>6</td>\n",
       "      <td>60</td>\n",
       "    </tr>\n",
       "    <tr>\n",
       "      <td>2</td>\n",
       "      <td>1000</td>\n",
       "      <td>7</td>\n",
       "      <td>75</td>\n",
       "    </tr>\n",
       "    <tr>\n",
       "      <td>3</td>\n",
       "      <td>1000</td>\n",
       "      <td>8</td>\n",
       "      <td>81</td>\n",
       "    </tr>\n",
       "    <tr>\n",
       "      <td>4</td>\n",
       "      <td>1000</td>\n",
       "      <td>9</td>\n",
       "      <td>57</td>\n",
       "    </tr>\n",
       "  </tbody>\n",
       "</table>\n",
       "</div>"
      ],
      "text/plain": [
       "   user_id  month  messages\n",
       "0     1000      5        22\n",
       "1     1000      6        60\n",
       "2     1000      7        75\n",
       "3     1000      8        81\n",
       "4     1000      9        57"
      ]
     },
     "execution_count": 26,
     "metadata": {},
     "output_type": "execute_result"
    }
   ],
   "source": [
    "df_messages['message_month'] = df_messages['message_date'].dt.month\n",
    "df_messages_pivot = df_messages.pivot_table(index = ['user_id', 'message_month'], values = 'message_date', aggfunc = 'count').reset_index()\n",
    "df_messages_pivot.set_axis(['user_id', 'month', 'messages'], axis = 'columns', inplace = True)\n",
    "df_messages_pivot.head()"
   ]
  },
  {
   "cell_type": "markdown",
   "metadata": {},
   "source": [
    "Теперь нам надо свести все данные в одну таблицу, для этого нам нужно:\n",
    "\n",
    "1) создать дата фрейм со столбцами о потраченных в каждый месяц минутах, мегабайтах и сообщениях. Преобразовать пропуски в 0, т.к. это значит пользователь не пользовался этой услугой.\n",
    "\n",
    "3) притянуть информацию о тарифах по id_user.\n",
    "\n",
    "4) добавить столбцы с расчетом итоговой потраченной суммы пользователем в месяц.\n",
    "\n",
    "5) далее можно переходить к аналитике, построению гипотез и проверке гипотез."
   ]
  },
  {
   "cell_type": "code",
   "execution_count": 27,
   "metadata": {},
   "outputs": [
    {
     "data": {
      "text/html": [
       "<div>\n",
       "<style scoped>\n",
       "    .dataframe tbody tr th:only-of-type {\n",
       "        vertical-align: middle;\n",
       "    }\n",
       "\n",
       "    .dataframe tbody tr th {\n",
       "        vertical-align: top;\n",
       "    }\n",
       "\n",
       "    .dataframe thead th {\n",
       "        text-align: right;\n",
       "    }\n",
       "</style>\n",
       "<table border=\"1\" class=\"dataframe\">\n",
       "  <thead>\n",
       "    <tr style=\"text-align: right;\">\n",
       "      <th></th>\n",
       "      <th>user_id</th>\n",
       "      <th>month</th>\n",
       "      <th>duration</th>\n",
       "      <th>mb_used</th>\n",
       "      <th>messages</th>\n",
       "      <th>city</th>\n",
       "      <th>tariff</th>\n",
       "    </tr>\n",
       "  </thead>\n",
       "  <tbody>\n",
       "    <tr>\n",
       "      <td>0</td>\n",
       "      <td>1000</td>\n",
       "      <td>5.0</td>\n",
       "      <td>159.0</td>\n",
       "      <td>2253.49</td>\n",
       "      <td>22.0</td>\n",
       "      <td>Краснодар</td>\n",
       "      <td>ultra</td>\n",
       "    </tr>\n",
       "    <tr>\n",
       "      <td>1</td>\n",
       "      <td>1000</td>\n",
       "      <td>6.0</td>\n",
       "      <td>172.0</td>\n",
       "      <td>23233.77</td>\n",
       "      <td>60.0</td>\n",
       "      <td>Краснодар</td>\n",
       "      <td>ultra</td>\n",
       "    </tr>\n",
       "    <tr>\n",
       "      <td>2</td>\n",
       "      <td>1000</td>\n",
       "      <td>7.0</td>\n",
       "      <td>340.0</td>\n",
       "      <td>14003.64</td>\n",
       "      <td>75.0</td>\n",
       "      <td>Краснодар</td>\n",
       "      <td>ultra</td>\n",
       "    </tr>\n",
       "    <tr>\n",
       "      <td>3</td>\n",
       "      <td>1000</td>\n",
       "      <td>8.0</td>\n",
       "      <td>408.0</td>\n",
       "      <td>14055.93</td>\n",
       "      <td>81.0</td>\n",
       "      <td>Краснодар</td>\n",
       "      <td>ultra</td>\n",
       "    </tr>\n",
       "    <tr>\n",
       "      <td>4</td>\n",
       "      <td>1000</td>\n",
       "      <td>9.0</td>\n",
       "      <td>466.0</td>\n",
       "      <td>14568.91</td>\n",
       "      <td>57.0</td>\n",
       "      <td>Краснодар</td>\n",
       "      <td>ultra</td>\n",
       "    </tr>\n",
       "  </tbody>\n",
       "</table>\n",
       "</div>"
      ],
      "text/plain": [
       "   user_id  month  duration   mb_used  messages       city tariff\n",
       "0     1000    5.0     159.0   2253.49      22.0  Краснодар  ultra\n",
       "1     1000    6.0     172.0  23233.77      60.0  Краснодар  ultra\n",
       "2     1000    7.0     340.0  14003.64      75.0  Краснодар  ultra\n",
       "3     1000    8.0     408.0  14055.93      81.0  Краснодар  ultra\n",
       "4     1000    9.0     466.0  14568.91      57.0  Краснодар  ultra"
      ]
     },
     "execution_count": 27,
     "metadata": {},
     "output_type": "execute_result"
    }
   ],
   "source": [
    "total = df_calls_pivot.merge(df_internet_pivot, on = ['user_id', 'month'], how = 'outer')\n",
    "total = total.merge(df_messages_pivot, on = ['user_id', 'month'], how = 'outer')\n",
    "total = total.merge(df_users, on = 'user_id', how = 'outer')\n",
    "total = total.drop(['age', 'churn_date', 'first_name', 'last_name', 'reg_date', 'month_reg', 'month_churn'], axis = 1)\n",
    "total.head()"
   ]
  },
  {
   "cell_type": "code",
   "execution_count": 28,
   "metadata": {},
   "outputs": [
    {
     "data": {
      "text/html": [
       "<div>\n",
       "<style scoped>\n",
       "    .dataframe tbody tr th:only-of-type {\n",
       "        vertical-align: middle;\n",
       "    }\n",
       "\n",
       "    .dataframe tbody tr th {\n",
       "        vertical-align: top;\n",
       "    }\n",
       "\n",
       "    .dataframe thead th {\n",
       "        text-align: right;\n",
       "    }\n",
       "</style>\n",
       "<table border=\"1\" class=\"dataframe\">\n",
       "  <thead>\n",
       "    <tr style=\"text-align: right;\">\n",
       "      <th></th>\n",
       "      <th>user_id</th>\n",
       "      <th>month</th>\n",
       "      <th>duration</th>\n",
       "      <th>mb_used</th>\n",
       "      <th>messages</th>\n",
       "      <th>city</th>\n",
       "      <th>tariff</th>\n",
       "    </tr>\n",
       "  </thead>\n",
       "  <tbody>\n",
       "    <tr>\n",
       "      <td>3214</td>\n",
       "      <td>1128</td>\n",
       "      <td>NaN</td>\n",
       "      <td>0</td>\n",
       "      <td>0</td>\n",
       "      <td>0</td>\n",
       "      <td>Волжский</td>\n",
       "      <td>ultra</td>\n",
       "    </tr>\n",
       "    <tr>\n",
       "      <td>3215</td>\n",
       "      <td>1371</td>\n",
       "      <td>NaN</td>\n",
       "      <td>0</td>\n",
       "      <td>0</td>\n",
       "      <td>0</td>\n",
       "      <td>Омск</td>\n",
       "      <td>smart</td>\n",
       "    </tr>\n",
       "  </tbody>\n",
       "</table>\n",
       "</div>"
      ],
      "text/plain": [
       "      user_id  month  duration  mb_used  messages      city tariff\n",
       "3214     1128    NaN         0        0         0  Волжский  ultra\n",
       "3215     1371    NaN         0        0         0      Омск  smart"
      ]
     },
     "execution_count": 28,
     "metadata": {},
     "output_type": "execute_result"
    }
   ],
   "source": [
    "total['duration'] = total['duration'].fillna(0).astype('int')\n",
    "total['mb_used'] = total['mb_used'].fillna(0).astype('int')\n",
    "total['messages'] = total['messages'].fillna(0).astype('int')\n",
    "total.query('month.isna()')"
   ]
  },
  {
   "cell_type": "code",
   "execution_count": 29,
   "metadata": {},
   "outputs": [
    {
     "name": "stdout",
     "output_type": "stream",
     "text": [
      "<class 'pandas.core.frame.DataFrame'>\n",
      "Int64Index: 3216 entries, 0 to 3215\n",
      "Data columns (total 7 columns):\n",
      "user_id     3216 non-null int64\n",
      "month       3216 non-null float64\n",
      "duration    3216 non-null int64\n",
      "mb_used     3216 non-null int64\n",
      "messages    3216 non-null int64\n",
      "city        3216 non-null object\n",
      "tariff      3216 non-null object\n",
      "dtypes: float64(1), int64(4), object(2)\n",
      "memory usage: 201.0+ KB\n"
     ]
    }
   ],
   "source": [
    "#df_users.query('user_id == 1128 or user_id == 1371')\n",
    "#Поскольку данные клиенты хоть и не пользовались услугами связи, но были подключены к тарифу - они все равно заплатили месяц абонентской платы\n",
    "#Поэтому можем заменить эти пропущенные значения на 12\n",
    "total['month'] = total['month'].fillna(12)\n",
    "total.info()"
   ]
  },
  {
   "cell_type": "code",
   "execution_count": 30,
   "metadata": {},
   "outputs": [
    {
     "data": {
      "text/html": [
       "<div>\n",
       "<style scoped>\n",
       "    .dataframe tbody tr th:only-of-type {\n",
       "        vertical-align: middle;\n",
       "    }\n",
       "\n",
       "    .dataframe tbody tr th {\n",
       "        vertical-align: top;\n",
       "    }\n",
       "\n",
       "    .dataframe thead th {\n",
       "        text-align: right;\n",
       "    }\n",
       "</style>\n",
       "<table border=\"1\" class=\"dataframe\">\n",
       "  <thead>\n",
       "    <tr style=\"text-align: right;\">\n",
       "      <th></th>\n",
       "      <th>user_id</th>\n",
       "      <th>month</th>\n",
       "      <th>duration</th>\n",
       "      <th>mb_used</th>\n",
       "      <th>messages</th>\n",
       "      <th>city</th>\n",
       "      <th>tariff</th>\n",
       "      <th>messages_included</th>\n",
       "      <th>mb_per_month_included</th>\n",
       "      <th>minutes_included</th>\n",
       "      <th>rub_monthly_fee</th>\n",
       "      <th>rub_per_gb</th>\n",
       "      <th>rub_per_message</th>\n",
       "      <th>rub_per_minute</th>\n",
       "    </tr>\n",
       "  </thead>\n",
       "  <tbody>\n",
       "    <tr>\n",
       "      <td>0</td>\n",
       "      <td>1000</td>\n",
       "      <td>5.0</td>\n",
       "      <td>159</td>\n",
       "      <td>2253</td>\n",
       "      <td>22</td>\n",
       "      <td>Краснодар</td>\n",
       "      <td>ultra</td>\n",
       "      <td>1000</td>\n",
       "      <td>30720</td>\n",
       "      <td>3000</td>\n",
       "      <td>1950</td>\n",
       "      <td>150</td>\n",
       "      <td>1</td>\n",
       "      <td>1</td>\n",
       "    </tr>\n",
       "    <tr>\n",
       "      <td>1</td>\n",
       "      <td>1000</td>\n",
       "      <td>6.0</td>\n",
       "      <td>172</td>\n",
       "      <td>23233</td>\n",
       "      <td>60</td>\n",
       "      <td>Краснодар</td>\n",
       "      <td>ultra</td>\n",
       "      <td>1000</td>\n",
       "      <td>30720</td>\n",
       "      <td>3000</td>\n",
       "      <td>1950</td>\n",
       "      <td>150</td>\n",
       "      <td>1</td>\n",
       "      <td>1</td>\n",
       "    </tr>\n",
       "    <tr>\n",
       "      <td>2</td>\n",
       "      <td>1000</td>\n",
       "      <td>7.0</td>\n",
       "      <td>340</td>\n",
       "      <td>14003</td>\n",
       "      <td>75</td>\n",
       "      <td>Краснодар</td>\n",
       "      <td>ultra</td>\n",
       "      <td>1000</td>\n",
       "      <td>30720</td>\n",
       "      <td>3000</td>\n",
       "      <td>1950</td>\n",
       "      <td>150</td>\n",
       "      <td>1</td>\n",
       "      <td>1</td>\n",
       "    </tr>\n",
       "    <tr>\n",
       "      <td>3</td>\n",
       "      <td>1000</td>\n",
       "      <td>8.0</td>\n",
       "      <td>408</td>\n",
       "      <td>14055</td>\n",
       "      <td>81</td>\n",
       "      <td>Краснодар</td>\n",
       "      <td>ultra</td>\n",
       "      <td>1000</td>\n",
       "      <td>30720</td>\n",
       "      <td>3000</td>\n",
       "      <td>1950</td>\n",
       "      <td>150</td>\n",
       "      <td>1</td>\n",
       "      <td>1</td>\n",
       "    </tr>\n",
       "    <tr>\n",
       "      <td>4</td>\n",
       "      <td>1000</td>\n",
       "      <td>9.0</td>\n",
       "      <td>466</td>\n",
       "      <td>14568</td>\n",
       "      <td>57</td>\n",
       "      <td>Краснодар</td>\n",
       "      <td>ultra</td>\n",
       "      <td>1000</td>\n",
       "      <td>30720</td>\n",
       "      <td>3000</td>\n",
       "      <td>1950</td>\n",
       "      <td>150</td>\n",
       "      <td>1</td>\n",
       "      <td>1</td>\n",
       "    </tr>\n",
       "  </tbody>\n",
       "</table>\n",
       "</div>"
      ],
      "text/plain": [
       "   user_id  month  duration  mb_used  messages       city tariff  \\\n",
       "0     1000    5.0       159     2253        22  Краснодар  ultra   \n",
       "1     1000    6.0       172    23233        60  Краснодар  ultra   \n",
       "2     1000    7.0       340    14003        75  Краснодар  ultra   \n",
       "3     1000    8.0       408    14055        81  Краснодар  ultra   \n",
       "4     1000    9.0       466    14568        57  Краснодар  ultra   \n",
       "\n",
       "   messages_included  mb_per_month_included  minutes_included  \\\n",
       "0               1000                  30720              3000   \n",
       "1               1000                  30720              3000   \n",
       "2               1000                  30720              3000   \n",
       "3               1000                  30720              3000   \n",
       "4               1000                  30720              3000   \n",
       "\n",
       "   rub_monthly_fee  rub_per_gb  rub_per_message  rub_per_minute  \n",
       "0             1950         150                1               1  \n",
       "1             1950         150                1               1  \n",
       "2             1950         150                1               1  \n",
       "3             1950         150                1               1  \n",
       "4             1950         150                1               1  "
      ]
     },
     "execution_count": 30,
     "metadata": {},
     "output_type": "execute_result"
    }
   ],
   "source": [
    "df_tarif.set_axis(['messages_included', 'mb_per_month_included', 'minutes_included', 'rub_monthly_fee', 'rub_per_gb', 'rub_per_message', 'rub_per_minute', 'tariff'], axis = 'columns', inplace = True)\n",
    "total = total.merge(df_tarif, on = 'tariff', how = 'outer')\n",
    "total.head()"
   ]
  },
  {
   "cell_type": "code",
   "execution_count": 31,
   "metadata": {},
   "outputs": [
    {
     "data": {
      "text/html": [
       "<div>\n",
       "<style scoped>\n",
       "    .dataframe tbody tr th:only-of-type {\n",
       "        vertical-align: middle;\n",
       "    }\n",
       "\n",
       "    .dataframe tbody tr th {\n",
       "        vertical-align: top;\n",
       "    }\n",
       "\n",
       "    .dataframe thead th {\n",
       "        text-align: right;\n",
       "    }\n",
       "</style>\n",
       "<table border=\"1\" class=\"dataframe\">\n",
       "  <thead>\n",
       "    <tr style=\"text-align: right;\">\n",
       "      <th></th>\n",
       "      <th>user_id</th>\n",
       "      <th>month</th>\n",
       "      <th>duration</th>\n",
       "      <th>mb_used</th>\n",
       "      <th>messages</th>\n",
       "      <th>city</th>\n",
       "      <th>tariff</th>\n",
       "      <th>messages_included</th>\n",
       "      <th>mb_per_month_included</th>\n",
       "      <th>minutes_included</th>\n",
       "      <th>rub_monthly_fee</th>\n",
       "      <th>rub_per_gb</th>\n",
       "      <th>rub_per_message</th>\n",
       "      <th>rub_per_minute</th>\n",
       "      <th>over_minute</th>\n",
       "      <th>over_mb</th>\n",
       "      <th>over_messages</th>\n",
       "    </tr>\n",
       "  </thead>\n",
       "  <tbody>\n",
       "    <tr>\n",
       "      <td>0</td>\n",
       "      <td>1000</td>\n",
       "      <td>5.0</td>\n",
       "      <td>159</td>\n",
       "      <td>2253</td>\n",
       "      <td>22</td>\n",
       "      <td>Краснодар</td>\n",
       "      <td>ultra</td>\n",
       "      <td>1000</td>\n",
       "      <td>30720</td>\n",
       "      <td>3000</td>\n",
       "      <td>1950</td>\n",
       "      <td>150</td>\n",
       "      <td>1</td>\n",
       "      <td>1</td>\n",
       "      <td>-2841</td>\n",
       "      <td>-28467</td>\n",
       "      <td>-978</td>\n",
       "    </tr>\n",
       "    <tr>\n",
       "      <td>1</td>\n",
       "      <td>1000</td>\n",
       "      <td>6.0</td>\n",
       "      <td>172</td>\n",
       "      <td>23233</td>\n",
       "      <td>60</td>\n",
       "      <td>Краснодар</td>\n",
       "      <td>ultra</td>\n",
       "      <td>1000</td>\n",
       "      <td>30720</td>\n",
       "      <td>3000</td>\n",
       "      <td>1950</td>\n",
       "      <td>150</td>\n",
       "      <td>1</td>\n",
       "      <td>1</td>\n",
       "      <td>-2828</td>\n",
       "      <td>-7487</td>\n",
       "      <td>-940</td>\n",
       "    </tr>\n",
       "    <tr>\n",
       "      <td>2</td>\n",
       "      <td>1000</td>\n",
       "      <td>7.0</td>\n",
       "      <td>340</td>\n",
       "      <td>14003</td>\n",
       "      <td>75</td>\n",
       "      <td>Краснодар</td>\n",
       "      <td>ultra</td>\n",
       "      <td>1000</td>\n",
       "      <td>30720</td>\n",
       "      <td>3000</td>\n",
       "      <td>1950</td>\n",
       "      <td>150</td>\n",
       "      <td>1</td>\n",
       "      <td>1</td>\n",
       "      <td>-2660</td>\n",
       "      <td>-16717</td>\n",
       "      <td>-925</td>\n",
       "    </tr>\n",
       "    <tr>\n",
       "      <td>3</td>\n",
       "      <td>1000</td>\n",
       "      <td>8.0</td>\n",
       "      <td>408</td>\n",
       "      <td>14055</td>\n",
       "      <td>81</td>\n",
       "      <td>Краснодар</td>\n",
       "      <td>ultra</td>\n",
       "      <td>1000</td>\n",
       "      <td>30720</td>\n",
       "      <td>3000</td>\n",
       "      <td>1950</td>\n",
       "      <td>150</td>\n",
       "      <td>1</td>\n",
       "      <td>1</td>\n",
       "      <td>-2592</td>\n",
       "      <td>-16665</td>\n",
       "      <td>-919</td>\n",
       "    </tr>\n",
       "    <tr>\n",
       "      <td>4</td>\n",
       "      <td>1000</td>\n",
       "      <td>9.0</td>\n",
       "      <td>466</td>\n",
       "      <td>14568</td>\n",
       "      <td>57</td>\n",
       "      <td>Краснодар</td>\n",
       "      <td>ultra</td>\n",
       "      <td>1000</td>\n",
       "      <td>30720</td>\n",
       "      <td>3000</td>\n",
       "      <td>1950</td>\n",
       "      <td>150</td>\n",
       "      <td>1</td>\n",
       "      <td>1</td>\n",
       "      <td>-2534</td>\n",
       "      <td>-16152</td>\n",
       "      <td>-943</td>\n",
       "    </tr>\n",
       "  </tbody>\n",
       "</table>\n",
       "</div>"
      ],
      "text/plain": [
       "   user_id  month  duration  mb_used  messages       city tariff  \\\n",
       "0     1000    5.0       159     2253        22  Краснодар  ultra   \n",
       "1     1000    6.0       172    23233        60  Краснодар  ultra   \n",
       "2     1000    7.0       340    14003        75  Краснодар  ultra   \n",
       "3     1000    8.0       408    14055        81  Краснодар  ultra   \n",
       "4     1000    9.0       466    14568        57  Краснодар  ultra   \n",
       "\n",
       "   messages_included  mb_per_month_included  minutes_included  \\\n",
       "0               1000                  30720              3000   \n",
       "1               1000                  30720              3000   \n",
       "2               1000                  30720              3000   \n",
       "3               1000                  30720              3000   \n",
       "4               1000                  30720              3000   \n",
       "\n",
       "   rub_monthly_fee  rub_per_gb  rub_per_message  rub_per_minute  over_minute  \\\n",
       "0             1950         150                1               1        -2841   \n",
       "1             1950         150                1               1        -2828   \n",
       "2             1950         150                1               1        -2660   \n",
       "3             1950         150                1               1        -2592   \n",
       "4             1950         150                1               1        -2534   \n",
       "\n",
       "   over_mb  over_messages  \n",
       "0   -28467           -978  \n",
       "1    -7487           -940  \n",
       "2   -16717           -925  \n",
       "3   -16665           -919  \n",
       "4   -16152           -943  "
      ]
     },
     "execution_count": 31,
     "metadata": {},
     "output_type": "execute_result"
    }
   ],
   "source": [
    "total['over_minute'] = total['duration'] - total['minutes_included']\n",
    "total['over_mb'] = total['mb_used'] - total['mb_per_month_included']\n",
    "total['over_messages'] = total['messages'] - total['messages_included']\n",
    "total.head()"
   ]
  },
  {
   "cell_type": "code",
   "execution_count": 32,
   "metadata": {},
   "outputs": [
    {
     "data": {
      "text/html": [
       "<div>\n",
       "<style scoped>\n",
       "    .dataframe tbody tr th:only-of-type {\n",
       "        vertical-align: middle;\n",
       "    }\n",
       "\n",
       "    .dataframe tbody tr th {\n",
       "        vertical-align: top;\n",
       "    }\n",
       "\n",
       "    .dataframe thead th {\n",
       "        text-align: right;\n",
       "    }\n",
       "</style>\n",
       "<table border=\"1\" class=\"dataframe\">\n",
       "  <thead>\n",
       "    <tr style=\"text-align: right;\">\n",
       "      <th></th>\n",
       "      <th>user_id</th>\n",
       "      <th>month</th>\n",
       "      <th>duration</th>\n",
       "      <th>mb_used</th>\n",
       "      <th>messages</th>\n",
       "      <th>city</th>\n",
       "      <th>tariff</th>\n",
       "      <th>messages_included</th>\n",
       "      <th>mb_per_month_included</th>\n",
       "      <th>minutes_included</th>\n",
       "      <th>rub_monthly_fee</th>\n",
       "      <th>rub_per_gb</th>\n",
       "      <th>rub_per_message</th>\n",
       "      <th>rub_per_minute</th>\n",
       "      <th>over_minute</th>\n",
       "      <th>over_mb</th>\n",
       "      <th>over_messages</th>\n",
       "      <th>over_gb</th>\n",
       "      <th>total_price</th>\n",
       "      <th>gb_used</th>\n",
       "    </tr>\n",
       "  </thead>\n",
       "  <tbody>\n",
       "    <tr>\n",
       "      <td>0</td>\n",
       "      <td>1000</td>\n",
       "      <td>5.0</td>\n",
       "      <td>159</td>\n",
       "      <td>2253</td>\n",
       "      <td>22</td>\n",
       "      <td>Краснодар</td>\n",
       "      <td>ultra</td>\n",
       "      <td>1000</td>\n",
       "      <td>30720</td>\n",
       "      <td>3000</td>\n",
       "      <td>1950</td>\n",
       "      <td>150</td>\n",
       "      <td>1</td>\n",
       "      <td>1</td>\n",
       "      <td>0</td>\n",
       "      <td>0</td>\n",
       "      <td>0</td>\n",
       "      <td>0</td>\n",
       "      <td>1950</td>\n",
       "      <td>3</td>\n",
       "    </tr>\n",
       "    <tr>\n",
       "      <td>1</td>\n",
       "      <td>1000</td>\n",
       "      <td>6.0</td>\n",
       "      <td>172</td>\n",
       "      <td>23233</td>\n",
       "      <td>60</td>\n",
       "      <td>Краснодар</td>\n",
       "      <td>ultra</td>\n",
       "      <td>1000</td>\n",
       "      <td>30720</td>\n",
       "      <td>3000</td>\n",
       "      <td>1950</td>\n",
       "      <td>150</td>\n",
       "      <td>1</td>\n",
       "      <td>1</td>\n",
       "      <td>0</td>\n",
       "      <td>0</td>\n",
       "      <td>0</td>\n",
       "      <td>0</td>\n",
       "      <td>1950</td>\n",
       "      <td>23</td>\n",
       "    </tr>\n",
       "    <tr>\n",
       "      <td>2</td>\n",
       "      <td>1000</td>\n",
       "      <td>7.0</td>\n",
       "      <td>340</td>\n",
       "      <td>14003</td>\n",
       "      <td>75</td>\n",
       "      <td>Краснодар</td>\n",
       "      <td>ultra</td>\n",
       "      <td>1000</td>\n",
       "      <td>30720</td>\n",
       "      <td>3000</td>\n",
       "      <td>1950</td>\n",
       "      <td>150</td>\n",
       "      <td>1</td>\n",
       "      <td>1</td>\n",
       "      <td>0</td>\n",
       "      <td>0</td>\n",
       "      <td>0</td>\n",
       "      <td>0</td>\n",
       "      <td>1950</td>\n",
       "      <td>14</td>\n",
       "    </tr>\n",
       "    <tr>\n",
       "      <td>3</td>\n",
       "      <td>1000</td>\n",
       "      <td>8.0</td>\n",
       "      <td>408</td>\n",
       "      <td>14055</td>\n",
       "      <td>81</td>\n",
       "      <td>Краснодар</td>\n",
       "      <td>ultra</td>\n",
       "      <td>1000</td>\n",
       "      <td>30720</td>\n",
       "      <td>3000</td>\n",
       "      <td>1950</td>\n",
       "      <td>150</td>\n",
       "      <td>1</td>\n",
       "      <td>1</td>\n",
       "      <td>0</td>\n",
       "      <td>0</td>\n",
       "      <td>0</td>\n",
       "      <td>0</td>\n",
       "      <td>1950</td>\n",
       "      <td>14</td>\n",
       "    </tr>\n",
       "    <tr>\n",
       "      <td>4</td>\n",
       "      <td>1000</td>\n",
       "      <td>9.0</td>\n",
       "      <td>466</td>\n",
       "      <td>14568</td>\n",
       "      <td>57</td>\n",
       "      <td>Краснодар</td>\n",
       "      <td>ultra</td>\n",
       "      <td>1000</td>\n",
       "      <td>30720</td>\n",
       "      <td>3000</td>\n",
       "      <td>1950</td>\n",
       "      <td>150</td>\n",
       "      <td>1</td>\n",
       "      <td>1</td>\n",
       "      <td>0</td>\n",
       "      <td>0</td>\n",
       "      <td>0</td>\n",
       "      <td>0</td>\n",
       "      <td>1950</td>\n",
       "      <td>15</td>\n",
       "    </tr>\n",
       "  </tbody>\n",
       "</table>\n",
       "</div>"
      ],
      "text/plain": [
       "   user_id  month  duration  mb_used  messages       city tariff  \\\n",
       "0     1000    5.0       159     2253        22  Краснодар  ultra   \n",
       "1     1000    6.0       172    23233        60  Краснодар  ultra   \n",
       "2     1000    7.0       340    14003        75  Краснодар  ultra   \n",
       "3     1000    8.0       408    14055        81  Краснодар  ultra   \n",
       "4     1000    9.0       466    14568        57  Краснодар  ultra   \n",
       "\n",
       "   messages_included  mb_per_month_included  minutes_included  \\\n",
       "0               1000                  30720              3000   \n",
       "1               1000                  30720              3000   \n",
       "2               1000                  30720              3000   \n",
       "3               1000                  30720              3000   \n",
       "4               1000                  30720              3000   \n",
       "\n",
       "   rub_monthly_fee  rub_per_gb  rub_per_message  rub_per_minute  over_minute  \\\n",
       "0             1950         150                1               1            0   \n",
       "1             1950         150                1               1            0   \n",
       "2             1950         150                1               1            0   \n",
       "3             1950         150                1               1            0   \n",
       "4             1950         150                1               1            0   \n",
       "\n",
       "   over_mb  over_messages  over_gb  total_price  gb_used  \n",
       "0        0              0        0         1950        3  \n",
       "1        0              0        0         1950       23  \n",
       "2        0              0        0         1950       14  \n",
       "3        0              0        0         1950       14  \n",
       "4        0              0        0         1950       15  "
      ]
     },
     "execution_count": 32,
     "metadata": {},
     "output_type": "execute_result"
    }
   ],
   "source": [
    "def for_null(row):\n",
    "    if row > 0:\n",
    "        return(row)\n",
    "    if row <= 0:\n",
    "        return(0)\n",
    "total['over_minute'] = total['over_minute'].apply(for_null)\n",
    "total['over_mb'] = total['over_mb'].apply(for_null)\n",
    "total['over_messages'] = total['over_messages'].apply(for_null)\n",
    "total['over_gb'] = (total['over_mb'] / 1024).apply(np.ceil).astype('int')\n",
    "total['total_price'] = total['rub_monthly_fee'] + (total['over_minute'] * total['rub_per_minute']) + (total['over_gb'] * total['rub_per_gb']) + (total['over_messages'] * total['rub_per_message'])\n",
    "total['gb_used'] = (total['mb_used'] / 1024).apply(np.ceil).astype('int')\n",
    "total.head()"
   ]
  },
  {
   "cell_type": "code",
   "execution_count": 33,
   "metadata": {},
   "outputs": [
    {
     "data": {
      "text/html": [
       "<div>\n",
       "<style scoped>\n",
       "    .dataframe tbody tr th:only-of-type {\n",
       "        vertical-align: middle;\n",
       "    }\n",
       "\n",
       "    .dataframe tbody tr th {\n",
       "        vertical-align: top;\n",
       "    }\n",
       "\n",
       "    .dataframe thead th {\n",
       "        text-align: right;\n",
       "    }\n",
       "</style>\n",
       "<table border=\"1\" class=\"dataframe\">\n",
       "  <thead>\n",
       "    <tr style=\"text-align: right;\">\n",
       "      <th></th>\n",
       "      <th>user_id</th>\n",
       "      <th>month</th>\n",
       "      <th>duration</th>\n",
       "      <th>mb_used</th>\n",
       "      <th>messages</th>\n",
       "      <th>city</th>\n",
       "      <th>tariff</th>\n",
       "      <th>over_minute</th>\n",
       "      <th>over_messages</th>\n",
       "      <th>over_gb</th>\n",
       "      <th>total_price</th>\n",
       "      <th>gb_used</th>\n",
       "    </tr>\n",
       "  </thead>\n",
       "  <tbody>\n",
       "    <tr>\n",
       "      <td>0</td>\n",
       "      <td>1000</td>\n",
       "      <td>5.0</td>\n",
       "      <td>159</td>\n",
       "      <td>2253</td>\n",
       "      <td>22</td>\n",
       "      <td>Краснодар</td>\n",
       "      <td>ultra</td>\n",
       "      <td>0</td>\n",
       "      <td>0</td>\n",
       "      <td>0</td>\n",
       "      <td>1950</td>\n",
       "      <td>3</td>\n",
       "    </tr>\n",
       "    <tr>\n",
       "      <td>1</td>\n",
       "      <td>1000</td>\n",
       "      <td>6.0</td>\n",
       "      <td>172</td>\n",
       "      <td>23233</td>\n",
       "      <td>60</td>\n",
       "      <td>Краснодар</td>\n",
       "      <td>ultra</td>\n",
       "      <td>0</td>\n",
       "      <td>0</td>\n",
       "      <td>0</td>\n",
       "      <td>1950</td>\n",
       "      <td>23</td>\n",
       "    </tr>\n",
       "    <tr>\n",
       "      <td>2</td>\n",
       "      <td>1000</td>\n",
       "      <td>7.0</td>\n",
       "      <td>340</td>\n",
       "      <td>14003</td>\n",
       "      <td>75</td>\n",
       "      <td>Краснодар</td>\n",
       "      <td>ultra</td>\n",
       "      <td>0</td>\n",
       "      <td>0</td>\n",
       "      <td>0</td>\n",
       "      <td>1950</td>\n",
       "      <td>14</td>\n",
       "    </tr>\n",
       "    <tr>\n",
       "      <td>3</td>\n",
       "      <td>1000</td>\n",
       "      <td>8.0</td>\n",
       "      <td>408</td>\n",
       "      <td>14055</td>\n",
       "      <td>81</td>\n",
       "      <td>Краснодар</td>\n",
       "      <td>ultra</td>\n",
       "      <td>0</td>\n",
       "      <td>0</td>\n",
       "      <td>0</td>\n",
       "      <td>1950</td>\n",
       "      <td>14</td>\n",
       "    </tr>\n",
       "    <tr>\n",
       "      <td>4</td>\n",
       "      <td>1000</td>\n",
       "      <td>9.0</td>\n",
       "      <td>466</td>\n",
       "      <td>14568</td>\n",
       "      <td>57</td>\n",
       "      <td>Краснодар</td>\n",
       "      <td>ultra</td>\n",
       "      <td>0</td>\n",
       "      <td>0</td>\n",
       "      <td>0</td>\n",
       "      <td>1950</td>\n",
       "      <td>15</td>\n",
       "    </tr>\n",
       "  </tbody>\n",
       "</table>\n",
       "</div>"
      ],
      "text/plain": [
       "   user_id  month  duration  mb_used  messages       city tariff  over_minute  \\\n",
       "0     1000    5.0       159     2253        22  Краснодар  ultra            0   \n",
       "1     1000    6.0       172    23233        60  Краснодар  ultra            0   \n",
       "2     1000    7.0       340    14003        75  Краснодар  ultra            0   \n",
       "3     1000    8.0       408    14055        81  Краснодар  ultra            0   \n",
       "4     1000    9.0       466    14568        57  Краснодар  ultra            0   \n",
       "\n",
       "   over_messages  over_gb  total_price  gb_used  \n",
       "0              0        0         1950        3  \n",
       "1              0        0         1950       23  \n",
       "2              0        0         1950       14  \n",
       "3              0        0         1950       14  \n",
       "4              0        0         1950       15  "
      ]
     },
     "execution_count": 33,
     "metadata": {},
     "output_type": "execute_result"
    }
   ],
   "source": [
    "df_total = total.drop(['messages_included', 'mb_per_month_included', 'minutes_included', 'rub_monthly_fee', 'rub_per_gb', 'rub_per_message', 'rub_per_minute', 'over_mb'], axis = 1)\n",
    "df_total.head()"
   ]
  },
  {
   "cell_type": "markdown",
   "metadata": {},
   "source": [
    "### Вывод"
   ]
  },
  {
   "cell_type": "markdown",
   "metadata": {},
   "source": [
    "Мы привели таблицы к виду подготовленному для исследования, посчитали итоговый расход в месяц у каждого клиента. Пора приступать к анализу данных."
   ]
  },
  {
   "cell_type": "markdown",
   "metadata": {},
   "source": [
    "## Аналитика данных"
   ]
  },
  {
   "cell_type": "code",
   "execution_count": 34,
   "metadata": {},
   "outputs": [],
   "source": [
    "df_smart = df_total.query('tariff == \"smart\"')\n",
    "df_ultra = df_total.query('tariff == \"ultra\"')"
   ]
  },
  {
   "cell_type": "markdown",
   "metadata": {},
   "source": [
    "Сравним кол-во потребляемых услуг, между клиентами двух тарифов."
   ]
  },
  {
   "cell_type": "code",
   "execution_count": 35,
   "metadata": {},
   "outputs": [
    {
     "data": {
      "text/plain": [
       "Text(0, 0.5, 'Кол-во записей')"
      ]
     },
     "execution_count": 35,
     "metadata": {},
     "output_type": "execute_result"
    },
    {
     "data": {
      "image/png": "[encoded data removed]",
      "text/plain": [
       "<Figure size 432x288 with 1 Axes>"
      ]
     },
     "metadata": {
      "needs_background": "light"
     },
     "output_type": "display_data"
    }
   ],
   "source": [
    "df_smart['duration'].hist(bins = 50, range = (0, 1000))\n",
    "plt.title('Продолжительность разговоров на тарифе \"Смарт\" за месяц')\n",
    "plt.xlabel(\"Кол-во минут\")\n",
    "plt.ylabel(\"Кол-во записей\")"
   ]
  },
  {
   "cell_type": "code",
   "execution_count": 36,
   "metadata": {},
   "outputs": [
    {
     "data": {
      "text/plain": [
       "Text(0, 0.5, 'Кол-во записей')"
      ]
     },
     "execution_count": 36,
     "metadata": {},
     "output_type": "execute_result"
    },
    {
     "data": {
      "image/png": "[encoded data removed]",
      "text/plain": [
       "<Figure size 432x288 with 1 Axes>"
      ]
     },
     "metadata": {
      "needs_background": "light"
     },
     "output_type": "display_data"
    }
   ],
   "source": [
    "df_ultra['duration'].hist(bins = 50, range = (0, 1500))\n",
    "plt.title('Продолжительность разговоров на тарифе \"Ультра\" за месяц')\n",
    "plt.xlabel(\"Кол-во минут\")\n",
    "plt.ylabel(\"Кол-во записей\")"
   ]
  },
  {
   "cell_type": "code",
   "execution_count": 37,
   "metadata": {},
   "outputs": [
    {
     "data": {
      "text/plain": [
       "Text(0, 0.5, 'Кол-во записей')"
      ]
     },
     "execution_count": 37,
     "metadata": {},
     "output_type": "execute_result"
    },
    {
     "data": {
      "image/png": "[encoded data removed]",
      "text/plain": [
       "<Figure size 432x288 with 1 Axes>"
      ]
     },
     "metadata": {
      "needs_background": "light"
     },
     "output_type": "display_data"
    }
   ],
   "source": [
    "df_smart['gb_used'].hist(bins = 40, range = (0, 40))\n",
    "plt.title('Потребление интернет трафика на тарифе \"Смарт\" за месяц')\n",
    "plt.xlabel(\"Кол-во гигабайт\")\n",
    "plt.ylabel(\"Кол-во записей\")"
   ]
  },
  {
   "cell_type": "code",
   "execution_count": 38,
   "metadata": {},
   "outputs": [
    {
     "data": {
      "text/plain": [
       "Text(0, 0.5, 'Кол-во записей')"
      ]
     },
     "execution_count": 38,
     "metadata": {},
     "output_type": "execute_result"
    },
    {
     "data": {
      "image/png": "[encoded data removed]",
      "text/plain": [
       "<Figure size 432x288 with 1 Axes>"
      ]
     },
     "metadata": {
      "needs_background": "light"
     },
     "output_type": "display_data"
    }
   ],
   "source": [
    "df_ultra['gb_used'].hist(bins = 50, range = (0, 50))\n",
    "plt.title('Потребление интернет трафика на тарифе \"Ультра\" за месяц')\n",
    "plt.xlabel(\"Кол-во гигабайт\")\n",
    "plt.ylabel(\"Кол-во записей\")"
   ]
  },
  {
   "cell_type": "code",
   "execution_count": 39,
   "metadata": {},
   "outputs": [
    {
     "data": {
      "text/plain": [
       "Text(0, 0.5, 'Кол-во записей')"
      ]
     },
     "execution_count": 39,
     "metadata": {},
     "output_type": "execute_result"
    },
    {
     "data": {
      "image/png": "[encoded data removed]",
      "text/plain": [
       "<Figure size 432x288 with 1 Axes>"
      ]
     },
     "metadata": {
      "needs_background": "light"
     },
     "output_type": "display_data"
    }
   ],
   "source": [
    "df_smart['messages'].hist(bins = 30, range = (0, 120))\n",
    "plt.title('Использование сообщений на тарифе \"Смарт\" за месяц')\n",
    "plt.xlabel(\"Кол-во сообщений\")\n",
    "plt.ylabel(\"Кол-во записей\")"
   ]
  },
  {
   "cell_type": "code",
   "execution_count": 40,
   "metadata": {},
   "outputs": [
    {
     "data": {
      "text/plain": [
       "Text(0, 0.5, 'Кол-во записей')"
      ]
     },
     "execution_count": 40,
     "metadata": {},
     "output_type": "execute_result"
    },
    {
     "data": {
      "image/png": "[encoded data removed]",
      "text/plain": [
       "<Figure size 432x288 with 1 Axes>"
      ]
     },
     "metadata": {
      "needs_background": "light"
     },
     "output_type": "display_data"
    }
   ],
   "source": [
    "df_ultra['messages'].hist(bins = 30, range = (0, 200))\n",
    "plt.title('Использование сообщений на тарифе \"Ультра\" за месяц')\n",
    "plt.xlabel(\"Кол-во сообщений\")\n",
    "plt.ylabel(\"Кол-во записей\")"
   ]
  },
  {
   "cell_type": "markdown",
   "metadata": {},
   "source": [
    "Благодаря графикам, мы видим, что большая часть пользователей тарифа смарт звонят от 200 до 600 минут, после 500 минут заложеных в тариф кол-во клиентов потребляющих больше начинает снижаться, и к показателю 1000 минут спускается почти до 0. Пользователи тарифа ультра, судя по графику распределены примерно равномерно, единственное есть скачок на показателе 0, т.е. есть большое кол-во людей, которые не звонят вообще, а равномерное распределение объясняется тем что клиенты просто не успевают потратать весь объем тарифного пакета и им нет причин сдерживаться в продолжительности разговора, по стравнению с тарифом смарт.\n",
    "\n",
    "В части потребления интернет трафика, мы видим что пользователи обоих тарифов потребляют в среднем от 10 до 30 гб. Мы также видим, что больше половины пользователей тарифа смарт превышают установленный тарифом лимит и переплачивают за дополнительные гигабайты, в случае если пользователи тарифа смарт окажутся выгоднее для компании, я считаю это одним из основных факторов. С учетом расценок на потребленный трафик сверх тарифа, на месте людей потребляющих в среднем более 20 гб в месяц на тарифе смарт, я бы задумался о переходе на тариф ультра.   \n",
    "\n",
    "А в части отправки сообщений, ситуация похожа на ситуцию со звонками - после лимита у пользователей тарифа смарт снижается кол-во клиентов отправляющих более 50 сообщений, а в тарифе ультра распределение более плавное хоть и также идет на убывание, судя по графику пользователи тарифа ультра не доходят до предела никогда. Отдельно хочется отметить что сообщения не самая популярная услуга, порядка трети пользователей не пользуются сообщениями вообще.\n",
    "\n",
    "А теперь давайте оценим использование услуг связи методом трех сигм."
   ]
  },
  {
   "cell_type": "code",
   "execution_count": 41,
   "metadata": {},
   "outputs": [],
   "source": [
    "#звонки\n",
    "mu_calls_smart = df_smart['duration'].mean()\n",
    "sigma_calls_smart = np.std(df_smart['duration'], ddof = 1)\n",
    "lim_calls_smart = mu_calls_smart + (3 * sigma_calls_smart)\n",
    "dispersion_calls_smart = sigma_calls_smart ** 2"
   ]
  },
  {
   "cell_type": "code",
   "execution_count": 42,
   "metadata": {},
   "outputs": [],
   "source": [
    "mu_calls_ultra = df_ultra['duration'].mean()\n",
    "sigma_calls_ultra = np.std(df_ultra['duration'], ddof = 1)\n",
    "dispersion_calls_ultra = sigma_calls_ultra ** 2\n",
    "lim_calls_ultra = mu_calls_ultra + (3 * sigma_calls_ultra)"
   ]
  },
  {
   "cell_type": "code",
   "execution_count": 43,
   "metadata": {},
   "outputs": [],
   "source": [
    "#интернет\n",
    "mu_internet_smart = df_smart['gb_used'].mean()\n",
    "sigma_internet_smart = np.std(df_smart['gb_used'], ddof = 1)\n",
    "lim_internet_smart = mu_internet_smart + (3 * sigma_internet_smart)\n",
    "dispersion_internet_smart = sigma_internet_smart ** 2"
   ]
  },
  {
   "cell_type": "code",
   "execution_count": 44,
   "metadata": {},
   "outputs": [],
   "source": [
    "mu_internet_ultra = df_ultra['gb_used'].mean()\n",
    "sigma_internet_ultra = np.std(df_ultra['gb_used'], ddof = 1)\n",
    "lim_internet_ultra = mu_internet_ultra + (3 * sigma_internet_ultra)\n",
    "dispersion_internet_ultra = sigma_internet_ultra ** 2"
   ]
  },
  {
   "cell_type": "code",
   "execution_count": 45,
   "metadata": {},
   "outputs": [],
   "source": [
    "#сообщения\n",
    "mu_messages_smart = df_smart['messages'].mean()\n",
    "sigma_messages_smart = np.std(df_smart['messages'], ddof = 1)\n",
    "lim_messages_smart = mu_messages_smart + (3 * sigma_messages_smart)\n",
    "dispersion_messages_smart = sigma_messages_smart ** 2"
   ]
  },
  {
   "cell_type": "code",
   "execution_count": 46,
   "metadata": {},
   "outputs": [],
   "source": [
    "mu_messages_ultra = df_ultra['messages'].mean()\n",
    "sigma_messages_ultra = np.std(df_ultra['messages'], ddof = 1)\n",
    "lim_messages_ultra = mu_messages_ultra + (3 * sigma_messages_ultra)\n",
    "dispersion_messages_ultra = sigma_messages_ultra ** 2"
   ]
  },
  {
   "cell_type": "code",
   "execution_count": 47,
   "metadata": {},
   "outputs": [
    {
     "data": {
      "text/html": [
       "<div>\n",
       "<style scoped>\n",
       "    .dataframe tbody tr th:only-of-type {\n",
       "        vertical-align: middle;\n",
       "    }\n",
       "\n",
       "    .dataframe tbody tr th {\n",
       "        vertical-align: top;\n",
       "    }\n",
       "\n",
       "    .dataframe thead th {\n",
       "        text-align: right;\n",
       "    }\n",
       "</style>\n",
       "<table border=\"1\" class=\"dataframe\">\n",
       "  <thead>\n",
       "    <tr style=\"text-align: right;\">\n",
       "      <th></th>\n",
       "      <th>name</th>\n",
       "      <th>smart</th>\n",
       "      <th>ultra</th>\n",
       "    </tr>\n",
       "  </thead>\n",
       "  <tbody>\n",
       "    <tr>\n",
       "      <td>0</td>\n",
       "      <td>mu calls</td>\n",
       "      <td>417.747534</td>\n",
       "      <td>526.089249</td>\n",
       "    </tr>\n",
       "    <tr>\n",
       "      <td>1</td>\n",
       "      <td>sigma call</td>\n",
       "      <td>190.476754</td>\n",
       "      <td>317.887549</td>\n",
       "    </tr>\n",
       "    <tr>\n",
       "      <td>2</td>\n",
       "      <td>dispersion call</td>\n",
       "      <td>36281.393836</td>\n",
       "      <td>101052.493549</td>\n",
       "    </tr>\n",
       "    <tr>\n",
       "      <td>3</td>\n",
       "      <td>lim call</td>\n",
       "      <td>989.177796</td>\n",
       "      <td>1479.751895</td>\n",
       "    </tr>\n",
       "    <tr>\n",
       "      <td>4</td>\n",
       "      <td>mu internet</td>\n",
       "      <td>16.321525</td>\n",
       "      <td>19.474645</td>\n",
       "    </tr>\n",
       "    <tr>\n",
       "      <td>5</td>\n",
       "      <td>sigma internet</td>\n",
       "      <td>5.756167</td>\n",
       "      <td>9.868057</td>\n",
       "    </tr>\n",
       "    <tr>\n",
       "      <td>6</td>\n",
       "      <td>dispersion internet</td>\n",
       "      <td>33.133453</td>\n",
       "      <td>97.378544</td>\n",
       "    </tr>\n",
       "    <tr>\n",
       "      <td>7</td>\n",
       "      <td>lim internet</td>\n",
       "      <td>33.590024</td>\n",
       "      <td>49.078815</td>\n",
       "    </tr>\n",
       "    <tr>\n",
       "      <td>8</td>\n",
       "      <td>mu messages</td>\n",
       "      <td>33.369058</td>\n",
       "      <td>49.313387</td>\n",
       "    </tr>\n",
       "    <tr>\n",
       "      <td>9</td>\n",
       "      <td>sigma messages</td>\n",
       "      <td>28.230396</td>\n",
       "      <td>47.806040</td>\n",
       "    </tr>\n",
       "    <tr>\n",
       "      <td>10</td>\n",
       "      <td>dispersion messages</td>\n",
       "      <td>796.955256</td>\n",
       "      <td>2285.417425</td>\n",
       "    </tr>\n",
       "    <tr>\n",
       "      <td>11</td>\n",
       "      <td>lim messages</td>\n",
       "      <td>118.060246</td>\n",
       "      <td>192.731506</td>\n",
       "    </tr>\n",
       "  </tbody>\n",
       "</table>\n",
       "</div>"
      ],
      "text/plain": [
       "                   name         smart          ultra\n",
       "0              mu calls    417.747534     526.089249\n",
       "1            sigma call    190.476754     317.887549\n",
       "2       dispersion call  36281.393836  101052.493549\n",
       "3              lim call    989.177796    1479.751895\n",
       "4           mu internet     16.321525      19.474645\n",
       "5        sigma internet      5.756167       9.868057\n",
       "6   dispersion internet     33.133453      97.378544\n",
       "7          lim internet     33.590024      49.078815\n",
       "8           mu messages     33.369058      49.313387\n",
       "9        sigma messages     28.230396      47.806040\n",
       "10  dispersion messages    796.955256    2285.417425\n",
       "11         lim messages    118.060246     192.731506"
      ]
     },
     "execution_count": 47,
     "metadata": {},
     "output_type": "execute_result"
    }
   ],
   "source": [
    "table_ultra_smart = pd.DataFrame({'name': ['mu calls', 'sigma call', 'dispersion call', 'lim call', 'mu internet', 'sigma internet', 'dispersion internet', 'lim internet', 'mu messages', 'sigma messages', 'dispersion messages', 'lim messages'], \n",
    "                                'smart': [mu_calls_smart, sigma_calls_smart, dispersion_calls_smart, lim_calls_smart, mu_internet_smart, sigma_internet_smart, dispersion_internet_smart, lim_internet_smart, mu_messages_smart, sigma_messages_smart, dispersion_messages_smart, lim_messages_smart],\n",
    "                                'ultra': [mu_calls_ultra, sigma_calls_ultra, dispersion_calls_ultra, lim_calls_ultra, mu_internet_ultra, sigma_internet_ultra, dispersion_internet_ultra, lim_internet_ultra, mu_messages_ultra, sigma_messages_ultra, dispersion_messages_ultra, lim_messages_ultra]\n",
    "                                })\n",
    "table_ultra_smart"
   ]
  },
  {
   "cell_type": "markdown",
   "metadata": {},
   "source": [
    "Рассчитаные параметры подтверждают выводы сделаные по гистограммам, единственное дополнительно дают представление о разбросе данных. Согласно закону трех сигм, с наибольшей вероятностью:\n",
    "\n",
    "1) В 84% случаев смарт клиенты разговаривают в пределах 608 минут, и 99%  в пределах 989 минут\n",
    "\n",
    "2) В 84% случаев тарифа смарт клиенты используют порядка 23 гб, и 99%  в пределах 34 гб\n",
    "\n",
    "3) В 84% случаев тарифа смарт клиенты отправляют в пределах 62 сообщений, и 99%  в пределах 119 сообщений\n",
    "\n",
    "4) В 84% случаев тарифа ультра клиенты разговаривают в пределах 843 минут, и 99%  в пределах 1480 минут\n",
    "\n",
    "5) В 84% случаев тарифа ультра клиенты используют в пределах 30 гб, и 99%  в пределах 50 гб\n",
    "\n",
    "6) В 84% случаев тарифа ультра клиенты отправляют в пределах 98 сообщений, и 99%  в пределах 193 сообщений\n",
    "\n",
    "Давайте рассмотрим параметры по оплате тарифов"
   ]
  },
  {
   "cell_type": "code",
   "execution_count": 48,
   "metadata": {},
   "outputs": [
    {
     "data": {
      "text/plain": [
       "<matplotlib.legend.Legend at 0x7f735af0b510>"
      ]
     },
     "execution_count": 48,
     "metadata": {},
     "output_type": "execute_result"
    },
    {
     "data": {
      "image/png": "[encoded data removed]",
      "text/plain": [
       "<Figure size 432x288 with 1 Axes>"
      ]
     },
     "metadata": {
      "needs_background": "light"
     },
     "output_type": "display_data"
    }
   ],
   "source": [
    "df_smart['total_price'].hist(bins = 17, range = (500, 4000), label='Тариф Смарт')\n",
    "df_ultra['total_price'].hist(bins = 17, range = (500, 4000), alpha = 0.7, label='Тариф Ультра')\n",
    "plt.title('Сравнение оплаты пользователей двух тарифов')\n",
    "plt.xlabel(\"Месячная оплата\")\n",
    "plt.ylabel(\"Кол-во записей\")\n",
    "plt.legend()"
   ]
  },
  {
   "cell_type": "markdown",
   "metadata": {},
   "source": [
    "По таким графикам сделать вывод уже не получится, большая часть клиентов предпочитает не выходить за рамки тарифа что дает нам два самых большие значения, на фоне которых все остальные слишком малы чтобы оценить их на глаз. А даже если мы увеличим графики, уберем выделяющиеся значения, то это все равно не даст нам понимания клиенты какого тарифа приносят большую прибыль для компании. "
   ]
  },
  {
   "cell_type": "code",
   "execution_count": 49,
   "metadata": {},
   "outputs": [],
   "source": [
    "sum_smart_price = df_smart['total_price'].sum().astype('int')\n",
    "count_smart_price = df_smart['total_price'].count().astype('int')\n",
    "mu_smart_price = df_smart['total_price'].mean().astype('int')\n",
    "median_smart_price = df_smart['total_price'].median().astype('int')\n",
    "sigma_smart_price = np.std(df_smart['total_price'], ddof = 1).astype('int')\n",
    "dispersion_smart_price = (sigma_smart_price ** 2).astype('int')"
   ]
  },
  {
   "cell_type": "code",
   "execution_count": 50,
   "metadata": {},
   "outputs": [],
   "source": [
    "sum_ultra_price = df_ultra['total_price'].sum().astype('int')\n",
    "count_ultra_price = df_ultra['total_price'].count().astype('int')\n",
    "mu_ultra_price = df_ultra['total_price'].mean().astype('int')\n",
    "median_ultra_price = df_ultra['total_price'].median().astype('int')\n",
    "sigma_ultra_price = np.std(df_ultra['total_price'], ddof = 1).astype('int')\n",
    "dispersion_ultra_price = (sigma_ultra_price ** 2).astype('int')"
   ]
  },
  {
   "cell_type": "code",
   "execution_count": 51,
   "metadata": {},
   "outputs": [
    {
     "data": {
      "text/html": [
       "<div>\n",
       "<style scoped>\n",
       "    .dataframe tbody tr th:only-of-type {\n",
       "        vertical-align: middle;\n",
       "    }\n",
       "\n",
       "    .dataframe tbody tr th {\n",
       "        vertical-align: top;\n",
       "    }\n",
       "\n",
       "    .dataframe thead th {\n",
       "        text-align: right;\n",
       "    }\n",
       "</style>\n",
       "<table border=\"1\" class=\"dataframe\">\n",
       "  <thead>\n",
       "    <tr style=\"text-align: right;\">\n",
       "      <th></th>\n",
       "      <th>name</th>\n",
       "      <th>smart</th>\n",
       "      <th>ultra</th>\n",
       "    </tr>\n",
       "  </thead>\n",
       "  <tbody>\n",
       "    <tr>\n",
       "      <td>0</td>\n",
       "      <td>Сумма</td>\n",
       "      <td>2875901</td>\n",
       "      <td>2041050</td>\n",
       "    </tr>\n",
       "    <tr>\n",
       "      <td>1</td>\n",
       "      <td>Количество записей</td>\n",
       "      <td>2230</td>\n",
       "      <td>986</td>\n",
       "    </tr>\n",
       "    <tr>\n",
       "      <td>2</td>\n",
       "      <td>Среднее (Мю)</td>\n",
       "      <td>1289</td>\n",
       "      <td>2070</td>\n",
       "    </tr>\n",
       "    <tr>\n",
       "      <td>3</td>\n",
       "      <td>Медиана</td>\n",
       "      <td>1021</td>\n",
       "      <td>1950</td>\n",
       "    </tr>\n",
       "    <tr>\n",
       "      <td>4</td>\n",
       "      <td>Сигма</td>\n",
       "      <td>818</td>\n",
       "      <td>376</td>\n",
       "    </tr>\n",
       "    <tr>\n",
       "      <td>5</td>\n",
       "      <td>Дисперсия</td>\n",
       "      <td>669124</td>\n",
       "      <td>141376</td>\n",
       "    </tr>\n",
       "  </tbody>\n",
       "</table>\n",
       "</div>"
      ],
      "text/plain": [
       "                 name    smart    ultra\n",
       "0               Сумма  2875901  2041050\n",
       "1  Количество записей     2230      986\n",
       "2        Среднее (Мю)     1289     2070\n",
       "3             Медиана     1021     1950\n",
       "4               Сигма      818      376\n",
       "5           Дисперсия   669124   141376"
      ]
     },
     "execution_count": 51,
     "metadata": {},
     "output_type": "execute_result"
    }
   ],
   "source": [
    "table_ultra_smart_price = pd.DataFrame({'name': ['Сумма', 'Количество записей', 'Среднее (Мю)', 'Медиана', 'Сигма', 'Дисперсия'], \n",
    "                                'smart': [sum_smart_price, count_smart_price, mu_smart_price, median_smart_price, sigma_smart_price, dispersion_smart_price],\n",
    "                                'ultra': [sum_ultra_price, count_ultra_price, mu_ultra_price, median_ultra_price, sigma_ultra_price, dispersion_ultra_price]\n",
    "                                })\n",
    "table_ultra_smart_price"
   ]
  },
  {
   "cell_type": "markdown",
   "metadata": {},
   "source": [
    "Исходя из ручного исследования данной выборки мы видим что большую часть дохода за 2018 год принесли пользователи тарифа смарт, это произошло во многом потому, что в данной выборке количество месяцев потребления тарифа смарт превышают тариф ультра более чем в два раза. При этом тариф ультра имеет более высокие показатели среднего и медианного значения. При таком поверхностном исследовании данных я бы сделал предположение что выгоднее вкладываться в рекламу тарифа ультра, поскольку новый пользователь в среднем каждый месяц приносит больше дохода."
   ]
  },
  {
   "cell_type": "markdown",
   "metadata": {},
   "source": [
    "## Проверка гипотез"
   ]
  },
  {
   "cell_type": "markdown",
   "metadata": {},
   "source": [
    "### средняя выручка пользователей тарифов «Ультра» и «Смарт» различаются;"
   ]
  },
  {
   "cell_type": "markdown",
   "metadata": {},
   "source": [
    "Примем за нулевую гипотезу что средняя выручка от пользователей двух тарифов одинакова, в противном случае при отказе от нулевой гипотезы будем предполагать что верна обратная гипотеза - что выручка различается."
   ]
  },
  {
   "cell_type": "code",
   "execution_count": 52,
   "metadata": {},
   "outputs": [
    {
     "data": {
      "text/plain": [
       "1.927011394420941e-250"
      ]
     },
     "execution_count": 52,
     "metadata": {},
     "output_type": "execute_result"
    }
   ],
   "source": [
    "alpha = 0.05\n",
    "result_first = st.ttest_ind(df_smart['total_price'], df_ultra['total_price'], equal_var = False)\n",
    "result_first.pvalue"
   ]
  },
  {
   "cell_type": "code",
   "execution_count": 53,
   "metadata": {},
   "outputs": [
    {
     "name": "stdout",
     "output_type": "stream",
     "text": [
      "Отвергаем нулевую гипотезу\n"
     ]
    }
   ],
   "source": [
    "if (result_first.pvalue < alpha):\n",
    "    print(\"Отвергаем нулевую гипотезу\")\n",
    "else:\n",
    "    print(\"Не получилось отвергнуть нулевую гипотезу\")"
   ]
  },
  {
   "cell_type": "markdown",
   "metadata": {},
   "source": [
    "Полученное значение pvalue говорит о том, что средняя выручнка от клиентов этих двух тарифов, с высокой вероятностью отличается, о чем мы говорили ранее при рассмотрении данных. Мы уверенно можем отвергнуть мысль о том что что их средняя выручка одинакова."
   ]
  },
  {
   "cell_type": "markdown",
   "metadata": {},
   "source": [
    "### средняя выручка пользователи из Москвы отличается от выручки пользователей из других регионов."
   ]
  },
  {
   "cell_type": "code",
   "execution_count": 54,
   "metadata": {},
   "outputs": [
    {
     "data": {
      "text/html": [
       "<div>\n",
       "<style scoped>\n",
       "    .dataframe tbody tr th:only-of-type {\n",
       "        vertical-align: middle;\n",
       "    }\n",
       "\n",
       "    .dataframe tbody tr th {\n",
       "        vertical-align: top;\n",
       "    }\n",
       "\n",
       "    .dataframe thead th {\n",
       "        text-align: right;\n",
       "    }\n",
       "</style>\n",
       "<table border=\"1\" class=\"dataframe\">\n",
       "  <thead>\n",
       "    <tr style=\"text-align: right;\">\n",
       "      <th></th>\n",
       "      <th>user_id</th>\n",
       "      <th>month</th>\n",
       "      <th>duration</th>\n",
       "      <th>mb_used</th>\n",
       "      <th>messages</th>\n",
       "      <th>over_minute</th>\n",
       "      <th>over_messages</th>\n",
       "      <th>over_gb</th>\n",
       "      <th>total_price</th>\n",
       "      <th>gb_used</th>\n",
       "    </tr>\n",
       "  </thead>\n",
       "  <tbody>\n",
       "    <tr>\n",
       "      <td>count</td>\n",
       "      <td>611.000000</td>\n",
       "      <td>611.000000</td>\n",
       "      <td>611.000000</td>\n",
       "      <td>611.000000</td>\n",
       "      <td>611.000000</td>\n",
       "      <td>611.000000</td>\n",
       "      <td>611.000000</td>\n",
       "      <td>611.000000</td>\n",
       "      <td>611.000000</td>\n",
       "      <td>611.000000</td>\n",
       "    </tr>\n",
       "    <tr>\n",
       "      <td>mean</td>\n",
       "      <td>1268.872340</td>\n",
       "      <td>8.432079</td>\n",
       "      <td>469.150573</td>\n",
       "      <td>17963.374795</td>\n",
       "      <td>37.877250</td>\n",
       "      <td>24.924714</td>\n",
       "      <td>2.512275</td>\n",
       "      <td>2.070376</td>\n",
       "      <td>1546.713584</td>\n",
       "      <td>18.050736</td>\n",
       "    </tr>\n",
       "    <tr>\n",
       "      <td>std</td>\n",
       "      <td>137.530432</td>\n",
       "      <td>2.888057</td>\n",
       "      <td>241.535044</td>\n",
       "      <td>7844.992114</td>\n",
       "      <td>37.160304</td>\n",
       "      <td>64.196759</td>\n",
       "      <td>8.619522</td>\n",
       "      <td>3.230483</td>\n",
       "      <td>752.088071</td>\n",
       "      <td>7.645788</td>\n",
       "    </tr>\n",
       "    <tr>\n",
       "      <td>min</td>\n",
       "      <td>1001.000000</td>\n",
       "      <td>1.000000</td>\n",
       "      <td>0.000000</td>\n",
       "      <td>365.000000</td>\n",
       "      <td>0.000000</td>\n",
       "      <td>0.000000</td>\n",
       "      <td>0.000000</td>\n",
       "      <td>0.000000</td>\n",
       "      <td>550.000000</td>\n",
       "      <td>1.000000</td>\n",
       "    </tr>\n",
       "    <tr>\n",
       "      <td>25%</td>\n",
       "      <td>1171.000000</td>\n",
       "      <td>6.000000</td>\n",
       "      <td>304.000000</td>\n",
       "      <td>12612.000000</td>\n",
       "      <td>6.500000</td>\n",
       "      <td>0.000000</td>\n",
       "      <td>0.000000</td>\n",
       "      <td>0.000000</td>\n",
       "      <td>780.500000</td>\n",
       "      <td>13.000000</td>\n",
       "    </tr>\n",
       "    <tr>\n",
       "      <td>50%</td>\n",
       "      <td>1291.000000</td>\n",
       "      <td>9.000000</td>\n",
       "      <td>453.000000</td>\n",
       "      <td>17537.000000</td>\n",
       "      <td>29.000000</td>\n",
       "      <td>0.000000</td>\n",
       "      <td>0.000000</td>\n",
       "      <td>0.000000</td>\n",
       "      <td>1750.000000</td>\n",
       "      <td>18.000000</td>\n",
       "    </tr>\n",
       "    <tr>\n",
       "      <td>75%</td>\n",
       "      <td>1385.000000</td>\n",
       "      <td>11.000000</td>\n",
       "      <td>620.500000</td>\n",
       "      <td>22114.500000</td>\n",
       "      <td>57.000000</td>\n",
       "      <td>0.000000</td>\n",
       "      <td>0.000000</td>\n",
       "      <td>4.000000</td>\n",
       "      <td>1950.000000</td>\n",
       "      <td>22.000000</td>\n",
       "    </tr>\n",
       "    <tr>\n",
       "      <td>max</td>\n",
       "      <td>1490.000000</td>\n",
       "      <td>12.000000</td>\n",
       "      <td>1321.000000</td>\n",
       "      <td>44296.000000</td>\n",
       "      <td>191.000000</td>\n",
       "      <td>522.000000</td>\n",
       "      <td>59.000000</td>\n",
       "      <td>20.000000</td>\n",
       "      <td>5321.000000</td>\n",
       "      <td>44.000000</td>\n",
       "    </tr>\n",
       "  </tbody>\n",
       "</table>\n",
       "</div>"
      ],
      "text/plain": [
       "           user_id       month     duration       mb_used    messages  \\\n",
       "count   611.000000  611.000000   611.000000    611.000000  611.000000   \n",
       "mean   1268.872340    8.432079   469.150573  17963.374795   37.877250   \n",
       "std     137.530432    2.888057   241.535044   7844.992114   37.160304   \n",
       "min    1001.000000    1.000000     0.000000    365.000000    0.000000   \n",
       "25%    1171.000000    6.000000   304.000000  12612.000000    6.500000   \n",
       "50%    1291.000000    9.000000   453.000000  17537.000000   29.000000   \n",
       "75%    1385.000000   11.000000   620.500000  22114.500000   57.000000   \n",
       "max    1490.000000   12.000000  1321.000000  44296.000000  191.000000   \n",
       "\n",
       "       over_minute  over_messages     over_gb  total_price     gb_used  \n",
       "count   611.000000     611.000000  611.000000   611.000000  611.000000  \n",
       "mean     24.924714       2.512275    2.070376  1546.713584   18.050736  \n",
       "std      64.196759       8.619522    3.230483   752.088071    7.645788  \n",
       "min       0.000000       0.000000    0.000000   550.000000    1.000000  \n",
       "25%       0.000000       0.000000    0.000000   780.500000   13.000000  \n",
       "50%       0.000000       0.000000    0.000000  1750.000000   18.000000  \n",
       "75%       0.000000       0.000000    4.000000  1950.000000   22.000000  \n",
       "max     522.000000      59.000000   20.000000  5321.000000   44.000000  "
      ]
     },
     "execution_count": 54,
     "metadata": {},
     "output_type": "execute_result"
    }
   ],
   "source": [
    "df_moscow = df_total.query('city == \"Москва\"')\n",
    "df_other = df_total.query('city != \"Москва\"')\n",
    "df_moscow.describe()"
   ]
  },
  {
   "cell_type": "code",
   "execution_count": 55,
   "metadata": {},
   "outputs": [
    {
     "data": {
      "text/html": [
       "<div>\n",
       "<style scoped>\n",
       "    .dataframe tbody tr th:only-of-type {\n",
       "        vertical-align: middle;\n",
       "    }\n",
       "\n",
       "    .dataframe tbody tr th {\n",
       "        vertical-align: top;\n",
       "    }\n",
       "\n",
       "    .dataframe thead th {\n",
       "        text-align: right;\n",
       "    }\n",
       "</style>\n",
       "<table border=\"1\" class=\"dataframe\">\n",
       "  <thead>\n",
       "    <tr style=\"text-align: right;\">\n",
       "      <th></th>\n",
       "      <th>user_id</th>\n",
       "      <th>month</th>\n",
       "      <th>duration</th>\n",
       "      <th>mb_used</th>\n",
       "      <th>messages</th>\n",
       "      <th>over_minute</th>\n",
       "      <th>over_messages</th>\n",
       "      <th>over_gb</th>\n",
       "      <th>total_price</th>\n",
       "      <th>gb_used</th>\n",
       "    </tr>\n",
       "  </thead>\n",
       "  <tbody>\n",
       "    <tr>\n",
       "      <td>count</td>\n",
       "      <td>2605.000000</td>\n",
       "      <td>2605.000000</td>\n",
       "      <td>2605.000000</td>\n",
       "      <td>2605.000000</td>\n",
       "      <td>2605.000000</td>\n",
       "      <td>2605.000000</td>\n",
       "      <td>2605.000000</td>\n",
       "      <td>2605.000000</td>\n",
       "      <td>2605.000000</td>\n",
       "      <td>2605.000000</td>\n",
       "    </tr>\n",
       "    <tr>\n",
       "      <td>mean</td>\n",
       "      <td>1247.535125</td>\n",
       "      <td>8.293282</td>\n",
       "      <td>446.698656</td>\n",
       "      <td>17016.521689</td>\n",
       "      <td>38.346641</td>\n",
       "      <td>29.754319</td>\n",
       "      <td>4.373512</td>\n",
       "      <td>2.374664</td>\n",
       "      <td>1524.725144</td>\n",
       "      <td>17.109405</td>\n",
       "    </tr>\n",
       "    <tr>\n",
       "      <td>std</td>\n",
       "      <td>145.994150</td>\n",
       "      <td>2.910066</td>\n",
       "      <td>242.076254</td>\n",
       "      <td>7507.647480</td>\n",
       "      <td>35.915233</td>\n",
       "      <td>74.966636</td>\n",
       "      <td>12.057459</td>\n",
       "      <td>3.574763</td>\n",
       "      <td>808.745680</td>\n",
       "      <td>7.344701</td>\n",
       "    </tr>\n",
       "    <tr>\n",
       "      <td>min</td>\n",
       "      <td>1000.000000</td>\n",
       "      <td>1.000000</td>\n",
       "      <td>0.000000</td>\n",
       "      <td>0.000000</td>\n",
       "      <td>0.000000</td>\n",
       "      <td>0.000000</td>\n",
       "      <td>0.000000</td>\n",
       "      <td>0.000000</td>\n",
       "      <td>550.000000</td>\n",
       "      <td>0.000000</td>\n",
       "    </tr>\n",
       "    <tr>\n",
       "      <td>25%</td>\n",
       "      <td>1120.000000</td>\n",
       "      <td>6.000000</td>\n",
       "      <td>280.000000</td>\n",
       "      <td>12450.000000</td>\n",
       "      <td>9.000000</td>\n",
       "      <td>0.000000</td>\n",
       "      <td>0.000000</td>\n",
       "      <td>0.000000</td>\n",
       "      <td>750.000000</td>\n",
       "      <td>13.000000</td>\n",
       "    </tr>\n",
       "    <tr>\n",
       "      <td>50%</td>\n",
       "      <td>1241.000000</td>\n",
       "      <td>9.000000</td>\n",
       "      <td>440.000000</td>\n",
       "      <td>16848.000000</td>\n",
       "      <td>30.000000</td>\n",
       "      <td>0.000000</td>\n",
       "      <td>0.000000</td>\n",
       "      <td>0.000000</td>\n",
       "      <td>1583.000000</td>\n",
       "      <td>17.000000</td>\n",
       "    </tr>\n",
       "    <tr>\n",
       "      <td>75%</td>\n",
       "      <td>1377.000000</td>\n",
       "      <td>11.000000</td>\n",
       "      <td>584.000000</td>\n",
       "      <td>21231.000000</td>\n",
       "      <td>57.000000</td>\n",
       "      <td>0.000000</td>\n",
       "      <td>0.000000</td>\n",
       "      <td>4.000000</td>\n",
       "      <td>1950.000000</td>\n",
       "      <td>21.000000</td>\n",
       "    </tr>\n",
       "    <tr>\n",
       "      <td>max</td>\n",
       "      <td>1499.000000</td>\n",
       "      <td>12.000000</td>\n",
       "      <td>1673.000000</td>\n",
       "      <td>49745.000000</td>\n",
       "      <td>224.000000</td>\n",
       "      <td>935.000000</td>\n",
       "      <td>93.000000</td>\n",
       "      <td>23.000000</td>\n",
       "      <td>6770.000000</td>\n",
       "      <td>49.000000</td>\n",
       "    </tr>\n",
       "  </tbody>\n",
       "</table>\n",
       "</div>"
      ],
      "text/plain": [
       "           user_id        month     duration       mb_used     messages  \\\n",
       "count  2605.000000  2605.000000  2605.000000   2605.000000  2605.000000   \n",
       "mean   1247.535125     8.293282   446.698656  17016.521689    38.346641   \n",
       "std     145.994150     2.910066   242.076254   7507.647480    35.915233   \n",
       "min    1000.000000     1.000000     0.000000      0.000000     0.000000   \n",
       "25%    1120.000000     6.000000   280.000000  12450.000000     9.000000   \n",
       "50%    1241.000000     9.000000   440.000000  16848.000000    30.000000   \n",
       "75%    1377.000000    11.000000   584.000000  21231.000000    57.000000   \n",
       "max    1499.000000    12.000000  1673.000000  49745.000000   224.000000   \n",
       "\n",
       "       over_minute  over_messages      over_gb  total_price      gb_used  \n",
       "count  2605.000000    2605.000000  2605.000000  2605.000000  2605.000000  \n",
       "mean     29.754319       4.373512     2.374664  1524.725144    17.109405  \n",
       "std      74.966636      12.057459     3.574763   808.745680     7.344701  \n",
       "min       0.000000       0.000000     0.000000   550.000000     0.000000  \n",
       "25%       0.000000       0.000000     0.000000   750.000000    13.000000  \n",
       "50%       0.000000       0.000000     0.000000  1583.000000    17.000000  \n",
       "75%       0.000000       0.000000     4.000000  1950.000000    21.000000  \n",
       "max     935.000000      93.000000    23.000000  6770.000000    49.000000  "
      ]
     },
     "execution_count": 55,
     "metadata": {},
     "output_type": "execute_result"
    }
   ],
   "source": [
    "df_other.describe()"
   ]
  },
  {
   "cell_type": "code",
   "execution_count": 56,
   "metadata": {},
   "outputs": [
    {
     "data": {
      "text/plain": [
       "565636.467011886"
      ]
     },
     "execution_count": 56,
     "metadata": {},
     "output_type": "execute_result"
    }
   ],
   "source": [
    "sigma_moscow_price = np.std(df_moscow['total_price'], ddof = 1)\n",
    "sigma_moscow_price ** 2"
   ]
  },
  {
   "cell_type": "code",
   "execution_count": 57,
   "metadata": {},
   "outputs": [
    {
     "data": {
      "text/plain": [
       "654069.574962777"
      ]
     },
     "execution_count": 57,
     "metadata": {},
     "output_type": "execute_result"
    }
   ],
   "source": [
    "sigma_other_price = np.std(df_other['total_price'], ddof = 1)\n",
    "sigma_other_price ** 2"
   ]
  },
  {
   "cell_type": "markdown",
   "metadata": {},
   "source": [
    "Примем за нулевую гипотезу, то что средняя выручка от пользователей из Москвы такая же как и у других городов, в противном случае, при отказе от нулевой гипотезы будем считать что выручка различается. "
   ]
  },
  {
   "cell_type": "code",
   "execution_count": 58,
   "metadata": {},
   "outputs": [
    {
     "data": {
      "text/plain": [
       "0.5216952110000278"
      ]
     },
     "execution_count": 58,
     "metadata": {},
     "output_type": "execute_result"
    }
   ],
   "source": [
    "result_second = st.ttest_ind(df_moscow['total_price'], df_other['total_price'], equal_var = False)\n",
    "result_second.pvalue"
   ]
  },
  {
   "cell_type": "code",
   "execution_count": 59,
   "metadata": {},
   "outputs": [
    {
     "name": "stdout",
     "output_type": "stream",
     "text": [
      "Не получилось отвергнуть нулевую гипотезу\n"
     ]
    }
   ],
   "source": [
    "if (result_second.pvalue < alpha):\n",
    "    print(\"Отвергаем нулевую гипотезу\")\n",
    "else:\n",
    "    print(\"Не получилось отвергнуть нулевую гипотезу\")"
   ]
  },
  {
   "cell_type": "markdown",
   "metadata": {},
   "source": [
    "Полученное значение pvalue говорит о том, что вероятность равной средней выручки в Москве и других регионах, составляет порядка 50% и на основании данной выборки мы не можем достоверно это утверждать. Поскольку тарифы одинаковы для разных городов и показатели среднего и медианы между двумя таблицами имеют довольно близкие значения, я склоняюсь к тому что потребности людей независимо от города схожи, и выручка вполне может стремиться к одинаковой."
   ]
  },
  {
   "cell_type": "markdown",
   "metadata": {},
   "source": [
    "## Общий вывод"
   ]
  },
  {
   "cell_type": "markdown",
   "metadata": {},
   "source": [
    "После анализа данных, я бы рекомендовал руководству данной компании проводить более агрессивную рекламную кампанию тарифа Ультра, потому что как мы убедились гипотеза о равенстве выручки этих двух тарифов не верна, а также судя по показателям данной выборки, в среднем каждый клиент тарифа ультра приносит больше прибыли.  "
   ]
  },
  {
   "cell_type": "code",
   "execution_count": null,
   "metadata": {},
   "outputs": [],
   "source": []
  }
 ],
 "metadata": {
  "ExecuteTimeLog": [
   {
    "duration": 1373,
    "start_time": "2021-07-29T22:01:18.259Z"
   },
   {
    "duration": 206,
    "start_time": "2021-07-29T22:02:32.994Z"
   },
   {
    "duration": 227,
    "start_time": "2021-07-29T22:03:32.507Z"
   },
   {
    "duration": 186,
    "start_time": "2021-07-29T22:04:32.363Z"
   },
   {
    "duration": 119,
    "start_time": "2021-07-29T22:06:06.853Z"
   },
   {
    "duration": 26,
    "start_time": "2021-07-29T22:07:18.297Z"
   },
   {
    "duration": 45,
    "start_time": "2021-07-29T22:08:10.018Z"
   },
   {
    "duration": 246,
    "start_time": "2021-07-29T22:10:45.419Z"
   },
   {
    "duration": 361,
    "start_time": "2021-07-29T22:11:39.657Z"
   },
   {
    "duration": 210,
    "start_time": "2021-07-29T22:14:49.026Z"
   },
   {
    "duration": 209,
    "start_time": "2021-07-29T22:15:10.605Z"
   },
   {
    "duration": 187,
    "start_time": "2021-07-29T22:15:24.818Z"
   },
   {
    "duration": 198,
    "start_time": "2021-07-29T22:15:48.175Z"
   },
   {
    "duration": 228,
    "start_time": "2021-07-29T22:16:03.583Z"
   },
   {
    "duration": 199,
    "start_time": "2021-07-29T22:16:06.986Z"
   },
   {
    "duration": 205,
    "start_time": "2021-07-29T22:16:21.501Z"
   },
   {
    "duration": 205,
    "start_time": "2021-07-29T22:16:32.036Z"
   },
   {
    "duration": 146,
    "start_time": "2021-07-29T22:17:34.758Z"
   },
   {
    "duration": 163,
    "start_time": "2021-07-29T22:17:41.876Z"
   },
   {
    "duration": 130,
    "start_time": "2021-07-29T22:17:51.979Z"
   },
   {
    "duration": 131,
    "start_time": "2021-07-29T22:19:28.975Z"
   },
   {
    "duration": 155,
    "start_time": "2021-07-29T22:19:38.093Z"
   },
   {
    "duration": 138,
    "start_time": "2021-07-29T22:19:50.043Z"
   },
   {
    "duration": 39,
    "start_time": "2021-07-29T22:20:51.559Z"
   },
   {
    "duration": 44,
    "start_time": "2021-07-29T22:21:09.628Z"
   },
   {
    "duration": 37,
    "start_time": "2021-07-29T22:21:24.615Z"
   },
   {
    "duration": 1084,
    "start_time": "2021-07-31T11:40:33.421Z"
   },
   {
    "duration": 211,
    "start_time": "2021-07-31T11:40:34.507Z"
   },
   {
    "duration": 140,
    "start_time": "2021-07-31T11:40:34.722Z"
   },
   {
    "duration": 108,
    "start_time": "2021-07-31T11:40:34.863Z"
   },
   {
    "duration": 23,
    "start_time": "2021-07-31T11:40:34.973Z"
   },
   {
    "duration": 57,
    "start_time": "2021-07-31T11:40:38.045Z"
   },
   {
    "duration": 142,
    "start_time": "2021-07-31T11:40:45.608Z"
   },
   {
    "duration": 296,
    "start_time": "2021-07-31T11:51:51.532Z"
   },
   {
    "duration": 21,
    "start_time": "2021-07-31T11:52:01.776Z"
   },
   {
    "duration": 14,
    "start_time": "2021-07-31T11:52:14.639Z"
   },
   {
    "duration": 19,
    "start_time": "2021-07-31T11:52:26.927Z"
   },
   {
    "duration": 31,
    "start_time": "2021-07-31T11:52:53.912Z"
   },
   {
    "duration": 25,
    "start_time": "2021-07-31T11:52:57.999Z"
   },
   {
    "duration": 8,
    "start_time": "2021-07-31T11:53:01.958Z"
   },
   {
    "duration": 63,
    "start_time": "2021-07-31T11:54:04.713Z"
   },
   {
    "duration": 55,
    "start_time": "2021-07-31T11:54:40.839Z"
   },
   {
    "duration": 10,
    "start_time": "2021-07-31T11:54:55.797Z"
   },
   {
    "duration": 27,
    "start_time": "2021-07-31T11:59:37.757Z"
   },
   {
    "duration": 32,
    "start_time": "2021-07-31T12:01:27.233Z"
   },
   {
    "duration": 1003,
    "start_time": "2021-07-31T12:02:00.064Z"
   },
   {
    "duration": 166,
    "start_time": "2021-07-31T12:02:01.069Z"
   },
   {
    "duration": 135,
    "start_time": "2021-07-31T12:02:01.237Z"
   },
   {
    "duration": 93,
    "start_time": "2021-07-31T12:02:01.373Z"
   },
   {
    "duration": 22,
    "start_time": "2021-07-31T12:02:01.468Z"
   },
   {
    "duration": 61,
    "start_time": "2021-07-31T12:02:01.492Z"
   },
   {
    "duration": 42,
    "start_time": "2021-07-31T12:02:01.555Z"
   },
   {
    "duration": 34,
    "start_time": "2021-07-31T12:02:01.599Z"
   },
   {
    "duration": 25,
    "start_time": "2021-07-31T12:02:01.636Z"
   },
   {
    "duration": 26,
    "start_time": "2021-07-31T12:02:01.663Z"
   },
   {
    "duration": 30,
    "start_time": "2021-07-31T12:02:06.256Z"
   },
   {
    "duration": 290,
    "start_time": "2021-07-31T12:56:02.300Z"
   },
   {
    "duration": 164,
    "start_time": "2021-07-31T13:03:16.651Z"
   },
   {
    "duration": 163,
    "start_time": "2021-07-31T13:03:30.084Z"
   },
   {
    "duration": 198,
    "start_time": "2021-07-31T13:06:24.879Z"
   },
   {
    "duration": 186,
    "start_time": "2021-07-31T13:18:38.120Z"
   },
   {
    "duration": 181,
    "start_time": "2021-07-31T13:22:50.592Z"
   },
   {
    "duration": 192,
    "start_time": "2021-07-31T13:25:08.840Z"
   },
   {
    "duration": 5,
    "start_time": "2021-07-31T13:25:26.979Z"
   },
   {
    "duration": 9,
    "start_time": "2021-07-31T13:25:48.704Z"
   },
   {
    "duration": 1076,
    "start_time": "2021-07-31T13:26:29.984Z"
   },
   {
    "duration": 165,
    "start_time": "2021-07-31T13:26:31.062Z"
   },
   {
    "duration": 139,
    "start_time": "2021-07-31T13:26:31.229Z"
   },
   {
    "duration": 94,
    "start_time": "2021-07-31T13:26:31.370Z"
   },
   {
    "duration": 22,
    "start_time": "2021-07-31T13:26:31.466Z"
   },
   {
    "duration": 49,
    "start_time": "2021-07-31T13:26:31.490Z"
   },
   {
    "duration": 43,
    "start_time": "2021-07-31T13:26:31.540Z"
   },
   {
    "duration": 34,
    "start_time": "2021-07-31T13:26:31.584Z"
   },
   {
    "duration": 26,
    "start_time": "2021-07-31T13:26:31.620Z"
   },
   {
    "duration": 9,
    "start_time": "2021-07-31T13:26:31.648Z"
   },
   {
    "duration": 54,
    "start_time": "2021-07-31T13:26:31.659Z"
   },
   {
    "duration": 12,
    "start_time": "2021-07-31T13:26:36.591Z"
   },
   {
    "duration": 27,
    "start_time": "2021-07-31T13:27:07.290Z"
   },
   {
    "duration": 27,
    "start_time": "2021-07-31T13:27:12.413Z"
   },
   {
    "duration": 11,
    "start_time": "2021-07-31T13:27:18.290Z"
   },
   {
    "duration": 27,
    "start_time": "2021-07-31T13:27:20.257Z"
   },
   {
    "duration": 11,
    "start_time": "2021-07-31T13:27:22.592Z"
   },
   {
    "duration": 9,
    "start_time": "2021-07-31T13:29:15.109Z"
   },
   {
    "duration": 8,
    "start_time": "2021-07-31T13:29:16.279Z"
   },
   {
    "duration": 6,
    "start_time": "2021-07-31T13:29:17.195Z"
   },
   {
    "duration": 5,
    "start_time": "2021-07-31T13:29:17.837Z"
   },
   {
    "duration": 22,
    "start_time": "2021-07-31T13:29:20.246Z"
   },
   {
    "duration": 4,
    "start_time": "2021-07-31T13:29:21.987Z"
   },
   {
    "duration": 23,
    "start_time": "2021-07-31T13:31:29.365Z"
   },
   {
    "duration": 268,
    "start_time": "2021-07-31T13:37:39.226Z"
   },
   {
    "duration": 53,
    "start_time": "2021-07-31T13:37:52.381Z"
   },
   {
    "duration": 63,
    "start_time": "2021-07-31T13:42:11.743Z"
   },
   {
    "duration": 56,
    "start_time": "2021-07-31T13:42:18.870Z"
   },
   {
    "duration": 185,
    "start_time": "2021-07-31T13:42:30.921Z"
   },
   {
    "duration": 8,
    "start_time": "2021-07-31T13:43:41.414Z"
   },
   {
    "duration": 5,
    "start_time": "2021-07-31T13:44:19.921Z"
   },
   {
    "duration": 8,
    "start_time": "2021-07-31T13:44:35.205Z"
   },
   {
    "duration": 10,
    "start_time": "2021-07-31T13:44:50.683Z"
   },
   {
    "duration": 44,
    "start_time": "2021-07-31T13:49:35.785Z"
   },
   {
    "duration": 39,
    "start_time": "2021-07-31T13:51:35.200Z"
   },
   {
    "duration": 41,
    "start_time": "2021-07-31T13:51:59.608Z"
   },
   {
    "duration": 4181,
    "start_time": "2021-07-31T14:02:13.131Z"
   },
   {
    "duration": 21,
    "start_time": "2021-07-31T14:02:29.936Z"
   },
   {
    "duration": 35,
    "start_time": "2021-07-31T14:04:32.558Z"
   },
   {
    "duration": 206,
    "start_time": "2021-07-31T14:17:24.821Z"
   },
   {
    "duration": 29,
    "start_time": "2021-07-31T14:20:16.888Z"
   },
   {
    "duration": 31,
    "start_time": "2021-07-31T14:20:28.251Z"
   },
   {
    "duration": 40,
    "start_time": "2021-07-31T14:55:58.582Z"
   },
   {
    "duration": 48,
    "start_time": "2021-07-31T14:56:22.685Z"
   },
   {
    "duration": 27,
    "start_time": "2021-07-31T14:57:22.113Z"
   },
   {
    "duration": 28,
    "start_time": "2021-07-31T14:57:36.055Z"
   },
   {
    "duration": 1001,
    "start_time": "2021-07-31T14:57:55.688Z"
   },
   {
    "duration": 158,
    "start_time": "2021-07-31T14:57:56.691Z"
   },
   {
    "duration": 129,
    "start_time": "2021-07-31T14:57:56.852Z"
   },
   {
    "duration": 94,
    "start_time": "2021-07-31T14:57:56.985Z"
   },
   {
    "duration": 23,
    "start_time": "2021-07-31T14:57:57.082Z"
   },
   {
    "duration": 68,
    "start_time": "2021-07-31T14:57:57.107Z"
   },
   {
    "duration": 31,
    "start_time": "2021-07-31T14:57:57.177Z"
   },
   {
    "duration": 23,
    "start_time": "2021-07-31T14:57:57.210Z"
   },
   {
    "duration": 18,
    "start_time": "2021-07-31T14:57:57.235Z"
   },
   {
    "duration": 6,
    "start_time": "2021-07-31T14:57:57.255Z"
   },
   {
    "duration": 49,
    "start_time": "2021-07-31T14:57:57.263Z"
   },
   {
    "duration": 6,
    "start_time": "2021-07-31T14:57:57.314Z"
   },
   {
    "duration": 73,
    "start_time": "2021-07-31T14:57:57.322Z"
   },
   {
    "duration": 38,
    "start_time": "2021-07-31T14:57:59.789Z"
   },
   {
    "duration": 23,
    "start_time": "2021-07-31T14:58:21.918Z"
   },
   {
    "duration": 11,
    "start_time": "2021-07-31T14:58:26.153Z"
   },
   {
    "duration": 20,
    "start_time": "2021-07-31T14:58:43.614Z"
   },
   {
    "duration": 11,
    "start_time": "2021-07-31T14:59:00.336Z"
   },
   {
    "duration": 12,
    "start_time": "2021-07-31T14:59:52.606Z"
   },
   {
    "duration": 38,
    "start_time": "2021-07-31T15:05:40.128Z"
   },
   {
    "duration": 38,
    "start_time": "2021-07-31T15:07:11.222Z"
   },
   {
    "duration": 35,
    "start_time": "2021-07-31T15:07:20.833Z"
   },
   {
    "duration": 45,
    "start_time": "2021-07-31T15:08:01.244Z"
   },
   {
    "duration": 9,
    "start_time": "2021-07-31T15:46:41.311Z"
   },
   {
    "duration": 13,
    "start_time": "2021-07-31T15:46:55.471Z"
   },
   {
    "duration": 921,
    "start_time": "2021-08-01T00:58:19.839Z"
   },
   {
    "duration": 163,
    "start_time": "2021-08-01T00:58:20.761Z"
   },
   {
    "duration": 131,
    "start_time": "2021-08-01T00:58:20.926Z"
   },
   {
    "duration": 93,
    "start_time": "2021-08-01T00:58:21.059Z"
   },
   {
    "duration": 22,
    "start_time": "2021-08-01T00:58:21.153Z"
   },
   {
    "duration": 55,
    "start_time": "2021-08-01T00:58:21.177Z"
   },
   {
    "duration": 31,
    "start_time": "2021-08-01T00:58:21.233Z"
   },
   {
    "duration": 22,
    "start_time": "2021-08-01T00:58:21.265Z"
   },
   {
    "duration": 17,
    "start_time": "2021-08-01T00:58:21.288Z"
   },
   {
    "duration": 17,
    "start_time": "2021-08-01T00:58:24.160Z"
   },
   {
    "duration": 22,
    "start_time": "2021-08-01T00:58:28.976Z"
   },
   {
    "duration": 40,
    "start_time": "2021-08-01T00:58:33.893Z"
   },
   {
    "duration": 43,
    "start_time": "2021-08-01T00:58:34.955Z"
   },
   {
    "duration": 36,
    "start_time": "2021-08-01T00:58:35.978Z"
   },
   {
    "duration": 17,
    "start_time": "2021-08-01T00:59:22.389Z"
   },
   {
    "duration": 12,
    "start_time": "2021-08-01T00:59:49.235Z"
   },
   {
    "duration": 13,
    "start_time": "2021-08-01T01:02:11.000Z"
   },
   {
    "duration": 18,
    "start_time": "2021-08-01T01:02:57.321Z"
   },
   {
    "duration": 12,
    "start_time": "2021-08-01T01:03:36.245Z"
   },
   {
    "duration": 962,
    "start_time": "2021-08-01T01:05:02.595Z"
   },
   {
    "duration": 158,
    "start_time": "2021-08-01T01:05:03.559Z"
   },
   {
    "duration": 127,
    "start_time": "2021-08-01T01:05:03.719Z"
   },
   {
    "duration": 90,
    "start_time": "2021-08-01T01:05:03.848Z"
   },
   {
    "duration": 22,
    "start_time": "2021-08-01T01:05:03.940Z"
   },
   {
    "duration": 48,
    "start_time": "2021-08-01T01:05:03.964Z"
   },
   {
    "duration": 29,
    "start_time": "2021-08-01T01:05:04.014Z"
   },
   {
    "duration": 23,
    "start_time": "2021-08-01T01:05:04.045Z"
   },
   {
    "duration": 18,
    "start_time": "2021-08-01T01:05:04.069Z"
   },
   {
    "duration": 18,
    "start_time": "2021-08-01T01:05:04.088Z"
   },
   {
    "duration": 22,
    "start_time": "2021-08-01T01:05:04.107Z"
   },
   {
    "duration": 61,
    "start_time": "2021-08-01T01:05:04.131Z"
   },
   {
    "duration": 43,
    "start_time": "2021-08-01T01:05:04.194Z"
   },
   {
    "duration": 3,
    "start_time": "2021-08-01T01:05:11.772Z"
   },
   {
    "duration": 153,
    "start_time": "2021-08-01T01:05:11.777Z"
   },
   {
    "duration": 129,
    "start_time": "2021-08-01T01:05:11.932Z"
   },
   {
    "duration": 90,
    "start_time": "2021-08-01T01:05:12.063Z"
   },
   {
    "duration": 23,
    "start_time": "2021-08-01T01:05:12.154Z"
   },
   {
    "duration": 47,
    "start_time": "2021-08-01T01:05:12.178Z"
   },
   {
    "duration": 24,
    "start_time": "2021-08-01T01:05:12.227Z"
   },
   {
    "duration": 19,
    "start_time": "2021-08-01T01:05:12.252Z"
   },
   {
    "duration": 15,
    "start_time": "2021-08-01T01:05:12.273Z"
   },
   {
    "duration": 17,
    "start_time": "2021-08-01T01:05:12.290Z"
   },
   {
    "duration": 21,
    "start_time": "2021-08-01T01:05:12.309Z"
   },
   {
    "duration": 55,
    "start_time": "2021-08-01T01:05:12.331Z"
   },
   {
    "duration": 43,
    "start_time": "2021-08-01T01:05:12.387Z"
   },
   {
    "duration": 1001,
    "start_time": "2021-08-01T01:05:27.357Z"
   },
   {
    "duration": 154,
    "start_time": "2021-08-01T01:05:28.359Z"
   },
   {
    "duration": 132,
    "start_time": "2021-08-01T01:05:28.515Z"
   },
   {
    "duration": 89,
    "start_time": "2021-08-01T01:05:28.648Z"
   },
   {
    "duration": 22,
    "start_time": "2021-08-01T01:05:28.738Z"
   },
   {
    "duration": 45,
    "start_time": "2021-08-01T01:05:28.761Z"
   },
   {
    "duration": 30,
    "start_time": "2021-08-01T01:05:28.808Z"
   },
   {
    "duration": 23,
    "start_time": "2021-08-01T01:05:28.840Z"
   },
   {
    "duration": 21,
    "start_time": "2021-08-01T01:05:28.865Z"
   },
   {
    "duration": 16,
    "start_time": "2021-08-01T01:05:28.888Z"
   },
   {
    "duration": 21,
    "start_time": "2021-08-01T01:05:28.905Z"
   },
   {
    "duration": 59,
    "start_time": "2021-08-01T01:05:28.927Z"
   },
   {
    "duration": 44,
    "start_time": "2021-08-01T01:05:28.987Z"
   },
   {
    "duration": 35,
    "start_time": "2021-08-01T01:05:31.757Z"
   },
   {
    "duration": 7,
    "start_time": "2021-08-01T01:21:23.238Z"
   },
   {
    "duration": 3,
    "start_time": "2021-08-01T01:44:52.231Z"
   },
   {
    "duration": 2503,
    "start_time": "2021-08-01T01:45:40.017Z"
   },
   {
    "duration": 3,
    "start_time": "2021-08-01T01:46:15.537Z"
   },
   {
    "duration": 2434,
    "start_time": "2021-08-01T01:46:18.721Z"
   },
   {
    "duration": 2671,
    "start_time": "2021-08-01T01:46:57.628Z"
   },
   {
    "duration": 9,
    "start_time": "2021-08-01T01:50:02.275Z"
   },
   {
    "duration": 17,
    "start_time": "2021-08-01T01:50:17.499Z"
   },
   {
    "duration": 17,
    "start_time": "2021-08-01T01:50:33.998Z"
   },
   {
    "duration": 2414,
    "start_time": "2021-08-01T01:50:41.662Z"
   },
   {
    "duration": 4,
    "start_time": "2021-08-01T01:52:05.335Z"
   },
   {
    "duration": 3,
    "start_time": "2021-08-01T01:52:06.122Z"
   },
   {
    "duration": 2426,
    "start_time": "2021-08-01T01:52:09.599Z"
   },
   {
    "duration": 2403,
    "start_time": "2021-08-01T01:52:51.181Z"
   },
   {
    "duration": 351,
    "start_time": "2021-08-01T02:00:34.604Z"
   },
   {
    "duration": 4,
    "start_time": "2021-08-01T02:02:54.715Z"
   },
   {
    "duration": 371,
    "start_time": "2021-08-01T02:02:57.520Z"
   },
   {
    "duration": 2,
    "start_time": "2021-08-01T02:03:07.391Z"
   },
   {
    "duration": 345,
    "start_time": "2021-08-01T02:03:08.140Z"
   },
   {
    "duration": 3,
    "start_time": "2021-08-01T02:04:54.147Z"
   },
   {
    "duration": 18,
    "start_time": "2021-08-01T02:04:55.616Z"
   },
   {
    "duration": 22,
    "start_time": "2021-08-01T02:05:15.476Z"
   },
   {
    "duration": 267,
    "start_time": "2021-08-01T02:05:46.253Z"
   },
   {
    "duration": 21,
    "start_time": "2021-08-01T02:06:02.762Z"
   },
   {
    "duration": 4,
    "start_time": "2021-08-01T02:12:19.547Z"
   },
   {
    "duration": 4,
    "start_time": "2021-08-01T02:12:25.157Z"
   },
   {
    "duration": 3,
    "start_time": "2021-08-01T02:18:15.496Z"
   },
   {
    "duration": 21,
    "start_time": "2021-08-01T02:18:17.977Z"
   },
   {
    "duration": 3,
    "start_time": "2021-08-01T02:19:23.425Z"
   },
   {
    "duration": 20,
    "start_time": "2021-08-01T02:19:25.967Z"
   },
   {
    "duration": 3,
    "start_time": "2021-08-01T02:19:40.103Z"
   },
   {
    "duration": 22,
    "start_time": "2021-08-01T02:19:42.222Z"
   },
   {
    "duration": 3,
    "start_time": "2021-08-01T02:20:29.967Z"
   },
   {
    "duration": 22,
    "start_time": "2021-08-01T02:20:30.621Z"
   },
   {
    "duration": 21,
    "start_time": "2021-08-01T02:20:45.189Z"
   },
   {
    "duration": 3,
    "start_time": "2021-08-01T02:21:49.571Z"
   },
   {
    "duration": 19,
    "start_time": "2021-08-01T02:21:50.276Z"
   },
   {
    "duration": 3,
    "start_time": "2021-08-01T02:22:12.103Z"
   },
   {
    "duration": 18,
    "start_time": "2021-08-01T02:22:13.006Z"
   },
   {
    "duration": 65,
    "start_time": "2021-08-01T02:22:26.693Z"
   },
   {
    "duration": 3,
    "start_time": "2021-08-01T02:23:13.616Z"
   },
   {
    "duration": 19,
    "start_time": "2021-08-01T02:23:15.445Z"
   },
   {
    "duration": 62,
    "start_time": "2021-08-01T02:23:37.231Z"
   },
   {
    "duration": 3,
    "start_time": "2021-08-01T02:24:28.282Z"
   },
   {
    "duration": 3,
    "start_time": "2021-08-01T02:24:41.935Z"
   },
   {
    "duration": 22,
    "start_time": "2021-08-01T02:24:43.514Z"
   },
   {
    "duration": 4,
    "start_time": "2021-08-01T02:27:18.557Z"
   },
   {
    "duration": 351,
    "start_time": "2021-08-01T02:27:19.539Z"
   },
   {
    "duration": 4,
    "start_time": "2021-08-01T02:27:33.906Z"
   },
   {
    "duration": 19,
    "start_time": "2021-08-01T02:27:39.724Z"
   },
   {
    "duration": 3,
    "start_time": "2021-08-01T02:27:47.839Z"
   },
   {
    "duration": 20,
    "start_time": "2021-08-01T02:27:48.716Z"
   },
   {
    "duration": 3,
    "start_time": "2021-08-01T02:28:02.945Z"
   },
   {
    "duration": 21,
    "start_time": "2021-08-01T02:28:03.703Z"
   },
   {
    "duration": 3,
    "start_time": "2021-08-01T02:28:10.171Z"
   },
   {
    "duration": 21,
    "start_time": "2021-08-01T02:28:11.413Z"
   },
   {
    "duration": 3,
    "start_time": "2021-08-01T02:29:05.968Z"
   },
   {
    "duration": 19,
    "start_time": "2021-08-01T02:29:06.713Z"
   },
   {
    "duration": 59,
    "start_time": "2021-08-01T02:33:55.960Z"
   },
   {
    "duration": 21,
    "start_time": "2021-08-01T02:33:56.767Z"
   },
   {
    "duration": 63,
    "start_time": "2021-08-01T02:34:04.809Z"
   },
   {
    "duration": 3,
    "start_time": "2021-08-01T02:34:22.803Z"
   },
   {
    "duration": 20,
    "start_time": "2021-08-01T02:34:23.864Z"
   },
   {
    "duration": 3,
    "start_time": "2021-08-01T02:34:36.343Z"
   },
   {
    "duration": 20,
    "start_time": "2021-08-01T02:34:37.156Z"
   },
   {
    "duration": 3,
    "start_time": "2021-08-01T02:35:38.902Z"
   },
   {
    "duration": 3,
    "start_time": "2021-08-01T02:36:49.701Z"
   },
   {
    "duration": 19,
    "start_time": "2021-08-01T02:36:50.369Z"
   },
   {
    "duration": 4,
    "start_time": "2021-08-01T02:38:55.906Z"
   },
   {
    "duration": 19,
    "start_time": "2021-08-01T02:38:56.656Z"
   },
   {
    "duration": 3,
    "start_time": "2021-08-01T02:40:57.126Z"
   },
   {
    "duration": 25,
    "start_time": "2021-08-01T02:40:57.696Z"
   },
   {
    "duration": 3,
    "start_time": "2021-08-01T02:43:07.143Z"
   },
   {
    "duration": 35,
    "start_time": "2021-08-01T02:43:08.270Z"
   },
   {
    "duration": 60,
    "start_time": "2021-08-01T02:45:59.860Z"
   },
   {
    "duration": 63,
    "start_time": "2021-08-01T02:46:31.511Z"
   },
   {
    "duration": 4,
    "start_time": "2021-08-01T02:47:47.721Z"
   },
   {
    "duration": 4,
    "start_time": "2021-08-01T02:48:06.673Z"
   },
   {
    "duration": 63,
    "start_time": "2021-08-01T02:48:38.542Z"
   },
   {
    "duration": 3,
    "start_time": "2021-08-01T02:48:54.310Z"
   },
   {
    "duration": 26,
    "start_time": "2021-08-01T02:48:55.873Z"
   },
   {
    "duration": 4,
    "start_time": "2021-08-01T02:49:30.230Z"
   },
   {
    "duration": 27,
    "start_time": "2021-08-01T02:49:30.598Z"
   },
   {
    "duration": 3,
    "start_time": "2021-08-01T02:49:57.645Z"
   },
   {
    "duration": 27,
    "start_time": "2021-08-01T02:49:58.354Z"
   },
   {
    "duration": 3,
    "start_time": "2021-08-01T02:51:27.776Z"
   },
   {
    "duration": 28,
    "start_time": "2021-08-01T02:51:28.553Z"
   },
   {
    "duration": 3,
    "start_time": "2021-08-01T02:58:00.703Z"
   },
   {
    "duration": 25,
    "start_time": "2021-08-01T02:58:02.233Z"
   },
   {
    "duration": 3,
    "start_time": "2021-08-01T03:00:40.526Z"
   },
   {
    "duration": 24,
    "start_time": "2021-08-01T03:00:41.093Z"
   },
   {
    "duration": 30,
    "start_time": "2021-08-01T03:17:56.600Z"
   },
   {
    "duration": 41,
    "start_time": "2021-08-01T03:18:10.683Z"
   },
   {
    "duration": 37,
    "start_time": "2021-08-01T03:19:48.146Z"
   },
   {
    "duration": 43,
    "start_time": "2021-08-01T03:19:52.114Z"
   },
   {
    "duration": 9,
    "start_time": "2021-08-01T03:22:53.586Z"
   },
   {
    "duration": 13,
    "start_time": "2021-08-01T03:23:03.078Z"
   },
   {
    "duration": 11,
    "start_time": "2021-08-01T03:23:13.803Z"
   },
   {
    "duration": 12,
    "start_time": "2021-08-01T03:24:23.677Z"
   },
   {
    "duration": 10,
    "start_time": "2021-08-01T03:25:25.190Z"
   },
   {
    "duration": 10,
    "start_time": "2021-08-01T03:25:31.375Z"
   },
   {
    "duration": 10,
    "start_time": "2021-08-01T03:25:40.621Z"
   },
   {
    "duration": 10,
    "start_time": "2021-08-01T03:26:00.558Z"
   },
   {
    "duration": 18,
    "start_time": "2021-08-01T03:29:37.701Z"
   },
   {
    "duration": 195,
    "start_time": "2021-08-01T03:34:54.055Z"
   },
   {
    "duration": 184,
    "start_time": "2021-08-01T03:35:04.522Z"
   },
   {
    "duration": 192,
    "start_time": "2021-08-01T03:36:24.748Z"
   },
   {
    "duration": 8,
    "start_time": "2021-08-01T03:36:44.434Z"
   },
   {
    "duration": 11,
    "start_time": "2021-08-01T03:37:21.520Z"
   },
   {
    "duration": 187,
    "start_time": "2021-08-01T03:37:52.685Z"
   },
   {
    "duration": 139,
    "start_time": "2021-08-01T03:40:00.243Z"
   },
   {
    "duration": 66,
    "start_time": "2021-08-01T03:42:30.819Z"
   },
   {
    "duration": 27,
    "start_time": "2021-08-01T03:43:13.021Z"
   },
   {
    "duration": 26,
    "start_time": "2021-08-01T03:45:58.812Z"
   },
   {
    "duration": 917,
    "start_time": "2021-08-01T03:47:29.050Z"
   },
   {
    "duration": 166,
    "start_time": "2021-08-01T03:47:29.969Z"
   },
   {
    "duration": 134,
    "start_time": "2021-08-01T03:47:30.137Z"
   },
   {
    "duration": 94,
    "start_time": "2021-08-01T03:47:30.273Z"
   },
   {
    "duration": 23,
    "start_time": "2021-08-01T03:47:30.369Z"
   },
   {
    "duration": 77,
    "start_time": "2021-08-01T03:47:30.394Z"
   },
   {
    "duration": 45,
    "start_time": "2021-08-01T03:47:30.473Z"
   },
   {
    "duration": 24,
    "start_time": "2021-08-01T03:47:30.520Z"
   },
   {
    "duration": 18,
    "start_time": "2021-08-01T03:47:30.547Z"
   },
   {
    "duration": 31,
    "start_time": "2021-08-01T03:47:30.567Z"
   },
   {
    "duration": 42,
    "start_time": "2021-08-01T03:47:30.600Z"
   },
   {
    "duration": 44,
    "start_time": "2021-08-01T03:47:30.643Z"
   },
   {
    "duration": 48,
    "start_time": "2021-08-01T03:47:30.688Z"
   },
   {
    "duration": 54,
    "start_time": "2021-08-01T03:47:30.737Z"
   },
   {
    "duration": 25,
    "start_time": "2021-08-01T03:47:33.421Z"
   },
   {
    "duration": 1336,
    "start_time": "2021-08-01T11:25:49.090Z"
   },
   {
    "duration": 220,
    "start_time": "2021-08-01T11:25:50.428Z"
   },
   {
    "duration": 181,
    "start_time": "2021-08-01T11:25:50.651Z"
   },
   {
    "duration": 121,
    "start_time": "2021-08-01T11:25:50.835Z"
   },
   {
    "duration": 24,
    "start_time": "2021-08-01T11:25:50.959Z"
   },
   {
    "duration": 42,
    "start_time": "2021-08-01T11:25:50.987Z"
   },
   {
    "duration": 43,
    "start_time": "2021-08-01T11:25:51.031Z"
   },
   {
    "duration": 32,
    "start_time": "2021-08-01T11:25:51.076Z"
   },
   {
    "duration": 25,
    "start_time": "2021-08-01T11:25:51.111Z"
   },
   {
    "duration": 49,
    "start_time": "2021-08-01T11:25:51.138Z"
   },
   {
    "duration": 43,
    "start_time": "2021-08-01T11:25:51.189Z"
   },
   {
    "duration": 6,
    "start_time": "2021-08-01T11:25:51.234Z"
   },
   {
    "duration": 76,
    "start_time": "2021-08-01T11:25:51.243Z"
   },
   {
    "duration": 84,
    "start_time": "2021-08-01T11:25:51.322Z"
   },
   {
    "duration": 70,
    "start_time": "2021-08-01T11:25:51.409Z"
   },
   {
    "duration": 43,
    "start_time": "2021-08-01T11:25:51.482Z"
   },
   {
    "duration": 5,
    "start_time": "2021-08-01T11:25:51.528Z"
   },
   {
    "duration": 1337,
    "start_time": "2021-08-01T11:27:00.504Z"
   },
   {
    "duration": 219,
    "start_time": "2021-08-01T11:27:01.844Z"
   },
   {
    "duration": 179,
    "start_time": "2021-08-01T11:27:02.068Z"
   },
   {
    "duration": 124,
    "start_time": "2021-08-01T11:27:02.250Z"
   },
   {
    "duration": 25,
    "start_time": "2021-08-01T11:27:02.377Z"
   },
   {
    "duration": 38,
    "start_time": "2021-08-01T11:27:02.405Z"
   },
   {
    "duration": 44,
    "start_time": "2021-08-01T11:27:02.445Z"
   },
   {
    "duration": 34,
    "start_time": "2021-08-01T11:27:02.491Z"
   },
   {
    "duration": 45,
    "start_time": "2021-08-01T11:27:02.529Z"
   },
   {
    "duration": 39,
    "start_time": "2021-08-01T11:27:02.577Z"
   },
   {
    "duration": 59,
    "start_time": "2021-08-01T11:27:02.619Z"
   },
   {
    "duration": 52,
    "start_time": "2021-08-01T11:27:02.680Z"
   },
   {
    "duration": 64,
    "start_time": "2021-08-01T11:29:13.510Z"
   },
   {
    "duration": 60,
    "start_time": "2021-08-01T11:30:31.777Z"
   },
   {
    "duration": 64,
    "start_time": "2021-08-01T11:30:32.578Z"
   },
   {
    "duration": 52,
    "start_time": "2021-08-01T11:30:33.136Z"
   },
   {
    "duration": 41,
    "start_time": "2021-08-01T11:30:34.717Z"
   },
   {
    "duration": 5,
    "start_time": "2021-08-01T11:30:35.738Z"
   },
   {
    "duration": 6162,
    "start_time": "2021-08-01T11:32:28.390Z"
   },
   {
    "duration": 9,
    "start_time": "2021-08-01T11:32:37.482Z"
   },
   {
    "duration": 8,
    "start_time": "2021-08-01T11:32:46.471Z"
   },
   {
    "duration": 8,
    "start_time": "2021-08-01T11:33:03.670Z"
   },
   {
    "duration": 8,
    "start_time": "2021-08-01T11:33:16.163Z"
   },
   {
    "duration": 10,
    "start_time": "2021-08-01T11:34:18.806Z"
   },
   {
    "duration": 37,
    "start_time": "2021-08-01T11:34:32.298Z"
   },
   {
    "duration": 13,
    "start_time": "2021-08-01T11:34:54.787Z"
   },
   {
    "duration": 16,
    "start_time": "2021-08-01T11:36:32.612Z"
   },
   {
    "duration": 269,
    "start_time": "2021-08-01T11:37:35.756Z"
   },
   {
    "duration": 10,
    "start_time": "2021-08-01T11:38:23.533Z"
   },
   {
    "duration": 21,
    "start_time": "2021-08-01T11:43:03.791Z"
   },
   {
    "duration": 18,
    "start_time": "2021-08-01T11:43:23.603Z"
   },
   {
    "duration": 19,
    "start_time": "2021-08-01T11:46:50.705Z"
   },
   {
    "duration": 10,
    "start_time": "2021-08-01T12:01:54.155Z"
   },
   {
    "duration": 241,
    "start_time": "2021-08-01T12:08:36.932Z"
   },
   {
    "duration": 12,
    "start_time": "2021-08-01T12:12:58.836Z"
   },
   {
    "duration": 29,
    "start_time": "2021-08-01T12:13:10.617Z"
   },
   {
    "duration": 1393,
    "start_time": "2021-08-01T12:14:34.457Z"
   },
   {
    "duration": 1168,
    "start_time": "2021-08-01T12:14:35.852Z"
   },
   {
    "duration": 188,
    "start_time": "2021-08-01T12:14:37.024Z"
   },
   {
    "duration": 129,
    "start_time": "2021-08-01T12:14:37.216Z"
   },
   {
    "duration": 24,
    "start_time": "2021-08-01T12:14:37.348Z"
   },
   {
    "duration": 61,
    "start_time": "2021-08-01T12:14:37.375Z"
   },
   {
    "duration": 45,
    "start_time": "2021-08-01T12:14:37.438Z"
   },
   {
    "duration": 34,
    "start_time": "2021-08-01T12:14:37.486Z"
   },
   {
    "duration": 27,
    "start_time": "2021-08-01T12:14:37.523Z"
   },
   {
    "duration": 42,
    "start_time": "2021-08-01T12:14:37.553Z"
   },
   {
    "duration": 35,
    "start_time": "2021-08-01T12:14:37.597Z"
   },
   {
    "duration": 86,
    "start_time": "2021-08-01T12:14:37.635Z"
   },
   {
    "duration": 76,
    "start_time": "2021-08-01T12:14:37.723Z"
   },
   {
    "duration": 71,
    "start_time": "2021-08-01T12:14:37.801Z"
   },
   {
    "duration": 52,
    "start_time": "2021-08-01T12:14:37.874Z"
   },
   {
    "duration": 60,
    "start_time": "2021-08-01T12:14:37.928Z"
   },
   {
    "duration": 25,
    "start_time": "2021-08-01T12:14:37.990Z"
   },
   {
    "duration": 10,
    "start_time": "2021-08-01T12:14:38.017Z"
   },
   {
    "duration": 23,
    "start_time": "2021-08-01T12:14:41.278Z"
   },
   {
    "duration": 6062,
    "start_time": "2021-08-01T12:29:06.632Z"
   },
   {
    "duration": 1416,
    "start_time": "2021-08-01T12:30:31.130Z"
   },
   {
    "duration": 239,
    "start_time": "2021-08-01T12:30:32.549Z"
   },
   {
    "duration": 194,
    "start_time": "2021-08-01T12:30:32.792Z"
   },
   {
    "duration": 133,
    "start_time": "2021-08-01T12:30:32.988Z"
   },
   {
    "duration": 25,
    "start_time": "2021-08-01T12:30:33.123Z"
   },
   {
    "duration": 57,
    "start_time": "2021-08-01T12:30:33.151Z"
   },
   {
    "duration": 45,
    "start_time": "2021-08-01T12:30:33.211Z"
   },
   {
    "duration": 34,
    "start_time": "2021-08-01T12:30:33.259Z"
   },
   {
    "duration": 27,
    "start_time": "2021-08-01T12:30:33.297Z"
   },
   {
    "duration": 47,
    "start_time": "2021-08-01T12:30:33.327Z"
   },
   {
    "duration": 43,
    "start_time": "2021-08-01T12:30:33.377Z"
   },
   {
    "duration": 92,
    "start_time": "2021-08-01T12:30:33.422Z"
   },
   {
    "duration": 80,
    "start_time": "2021-08-01T12:30:33.517Z"
   },
   {
    "duration": 81,
    "start_time": "2021-08-01T12:30:33.600Z"
   },
   {
    "duration": 56,
    "start_time": "2021-08-01T12:30:33.684Z"
   },
   {
    "duration": 66,
    "start_time": "2021-08-01T12:30:33.742Z"
   },
   {
    "duration": 28,
    "start_time": "2021-08-01T12:30:33.811Z"
   },
   {
    "duration": 35,
    "start_time": "2021-08-01T12:30:33.841Z"
   },
   {
    "duration": 28,
    "start_time": "2021-08-01T12:30:33.879Z"
   },
   {
    "duration": 9,
    "start_time": "2021-08-01T12:31:00.949Z"
   },
   {
    "duration": 22,
    "start_time": "2021-08-01T12:31:09.898Z"
   },
   {
    "duration": 4,
    "start_time": "2021-08-01T12:36:23.137Z"
   },
   {
    "duration": 1221,
    "start_time": "2021-08-01T12:37:58.542Z"
   },
   {
    "duration": 22,
    "start_time": "2021-08-01T12:38:34.181Z"
   },
   {
    "duration": 27,
    "start_time": "2021-08-01T12:39:33.681Z"
   },
   {
    "duration": 86,
    "start_time": "2021-08-01T12:39:52.526Z"
   },
   {
    "duration": 32,
    "start_time": "2021-08-01T12:46:07.472Z"
   },
   {
    "duration": 93,
    "start_time": "2021-08-01T12:46:19.993Z"
   },
   {
    "duration": 36,
    "start_time": "2021-08-01T12:50:50.998Z"
   },
   {
    "duration": 217,
    "start_time": "2021-08-01T13:00:02.730Z"
   },
   {
    "duration": 17,
    "start_time": "2021-08-01T13:00:09.958Z"
   },
   {
    "duration": 1620,
    "start_time": "2021-08-01T16:15:13.161Z"
   },
   {
    "duration": 364,
    "start_time": "2021-08-01T16:15:14.787Z"
   },
   {
    "duration": 220,
    "start_time": "2021-08-01T16:15:15.155Z"
   },
   {
    "duration": 153,
    "start_time": "2021-08-01T16:15:15.378Z"
   },
   {
    "duration": 41,
    "start_time": "2021-08-01T16:15:15.534Z"
   },
   {
    "duration": 1517,
    "start_time": "2021-08-01T16:15:35.600Z"
   },
   {
    "duration": 264,
    "start_time": "2021-08-01T16:15:37.120Z"
   },
   {
    "duration": 302,
    "start_time": "2021-08-01T16:15:37.388Z"
   },
   {
    "duration": 205,
    "start_time": "2021-08-01T16:15:37.698Z"
   },
   {
    "duration": 34,
    "start_time": "2021-08-01T16:15:37.906Z"
   },
   {
    "duration": 55,
    "start_time": "2021-08-01T16:15:37.943Z"
   },
   {
    "duration": 53,
    "start_time": "2021-08-01T16:15:38.001Z"
   },
   {
    "duration": 60,
    "start_time": "2021-08-01T16:15:38.056Z"
   },
   {
    "duration": 26,
    "start_time": "2021-08-01T16:15:38.121Z"
   },
   {
    "duration": 38,
    "start_time": "2021-08-01T16:15:38.171Z"
   },
   {
    "duration": 60,
    "start_time": "2021-08-01T16:15:38.212Z"
   },
   {
    "duration": 76,
    "start_time": "2021-08-01T16:15:38.275Z"
   },
   {
    "duration": 71,
    "start_time": "2021-08-01T16:15:38.354Z"
   },
   {
    "duration": 107,
    "start_time": "2021-08-01T16:15:38.428Z"
   },
   {
    "duration": 79,
    "start_time": "2021-08-01T16:15:38.538Z"
   },
   {
    "duration": 86,
    "start_time": "2021-08-01T16:15:38.620Z"
   },
   {
    "duration": 27,
    "start_time": "2021-08-01T16:15:38.708Z"
   },
   {
    "duration": 43,
    "start_time": "2021-08-01T16:15:38.737Z"
   },
   {
    "duration": 37,
    "start_time": "2021-08-01T16:15:38.783Z"
   },
   {
    "duration": 28,
    "start_time": "2021-08-01T16:15:38.823Z"
   },
   {
    "duration": 75,
    "start_time": "2021-08-01T16:15:38.853Z"
   },
   {
    "duration": 20,
    "start_time": "2021-08-01T16:15:46.313Z"
   },
   {
    "duration": 474,
    "start_time": "2021-08-01T16:19:41.981Z"
   },
   {
    "duration": 22,
    "start_time": "2021-08-01T16:20:51.309Z"
   },
   {
    "duration": 12,
    "start_time": "2021-08-01T16:21:26.839Z"
   },
   {
    "duration": 400,
    "start_time": "2021-08-01T17:54:08.595Z"
   },
   {
    "duration": 399,
    "start_time": "2021-08-01T17:55:22.719Z"
   },
   {
    "duration": 413,
    "start_time": "2021-08-01T17:55:36.212Z"
   },
   {
    "duration": 427,
    "start_time": "2021-08-01T17:56:07.063Z"
   },
   {
    "duration": 416,
    "start_time": "2021-08-01T17:56:16.306Z"
   },
   {
    "duration": 355,
    "start_time": "2021-08-01T17:57:12.374Z"
   },
   {
    "duration": 390,
    "start_time": "2021-08-01T17:57:21.943Z"
   },
   {
    "duration": 415,
    "start_time": "2021-08-01T17:57:27.959Z"
   },
   {
    "duration": 671,
    "start_time": "2021-08-01T17:59:19.481Z"
   },
   {
    "duration": 119,
    "start_time": "2021-08-01T18:00:40.005Z"
   },
   {
    "duration": 20,
    "start_time": "2021-08-01T18:00:40.777Z"
   },
   {
    "duration": 11,
    "start_time": "2021-08-01T18:00:43.705Z"
   },
   {
    "duration": 389,
    "start_time": "2021-08-01T18:00:44.686Z"
   },
   {
    "duration": 405,
    "start_time": "2021-08-01T18:00:45.915Z"
   },
   {
    "duration": 398,
    "start_time": "2021-08-01T18:00:47.155Z"
   },
   {
    "duration": 304,
    "start_time": "2021-08-01T18:01:09.196Z"
   },
   {
    "duration": 358,
    "start_time": "2021-08-01T18:01:21.483Z"
   },
   {
    "duration": 348,
    "start_time": "2021-08-01T18:02:15.659Z"
   },
   {
    "duration": 362,
    "start_time": "2021-08-01T18:02:32.979Z"
   },
   {
    "duration": 395,
    "start_time": "2021-08-01T18:02:45.493Z"
   },
   {
    "duration": 390,
    "start_time": "2021-08-01T18:03:32.777Z"
   },
   {
    "duration": 384,
    "start_time": "2021-08-01T18:03:53.621Z"
   },
   {
    "duration": 411,
    "start_time": "2021-08-01T18:04:01.659Z"
   },
   {
    "duration": 496,
    "start_time": "2021-08-01T18:04:07.091Z"
   },
   {
    "duration": 367,
    "start_time": "2021-08-01T18:09:22.641Z"
   },
   {
    "duration": 401,
    "start_time": "2021-08-01T18:09:30.828Z"
   },
   {
    "duration": 434,
    "start_time": "2021-08-01T18:09:41.327Z"
   },
   {
    "duration": 357,
    "start_time": "2021-08-01T18:09:54.075Z"
   },
   {
    "duration": 361,
    "start_time": "2021-08-01T18:10:07.449Z"
   },
   {
    "duration": 349,
    "start_time": "2021-08-01T18:10:18.988Z"
   },
   {
    "duration": 366,
    "start_time": "2021-08-01T18:10:35.568Z"
   },
   {
    "duration": 371,
    "start_time": "2021-08-01T18:10:47.922Z"
   },
   {
    "duration": 7,
    "start_time": "2021-08-01T22:48:56.247Z"
   },
   {
    "duration": 7,
    "start_time": "2021-08-01T22:49:24.956Z"
   },
   {
    "duration": 8,
    "start_time": "2021-08-01T22:59:20.234Z"
   },
   {
    "duration": 9,
    "start_time": "2021-08-01T23:01:10.344Z"
   },
   {
    "duration": 6,
    "start_time": "2021-08-01T23:03:24.794Z"
   },
   {
    "duration": 8,
    "start_time": "2021-08-01T23:03:49.310Z"
   },
   {
    "duration": 8,
    "start_time": "2021-08-01T23:04:06.187Z"
   },
   {
    "duration": 13,
    "start_time": "2021-08-01T23:04:24.165Z"
   },
   {
    "duration": 16,
    "start_time": "2021-08-01T23:04:41.565Z"
   },
   {
    "duration": 13,
    "start_time": "2021-08-01T23:10:38.470Z"
   },
   {
    "duration": 12,
    "start_time": "2021-08-01T23:10:52.666Z"
   },
   {
    "duration": 8,
    "start_time": "2021-08-01T23:11:07.737Z"
   },
   {
    "duration": 7,
    "start_time": "2021-08-01T23:11:23.859Z"
   },
   {
    "duration": 7,
    "start_time": "2021-08-01T23:13:01.014Z"
   },
   {
    "duration": 7,
    "start_time": "2021-08-01T23:13:19.316Z"
   },
   {
    "duration": 11,
    "start_time": "2021-08-01T23:13:30.665Z"
   },
   {
    "duration": 9,
    "start_time": "2021-08-01T23:13:45.477Z"
   },
   {
    "duration": 8,
    "start_time": "2021-08-01T23:16:27.114Z"
   },
   {
    "duration": 8,
    "start_time": "2021-08-01T23:16:40.307Z"
   },
   {
    "duration": 7,
    "start_time": "2021-08-01T23:16:54.379Z"
   },
   {
    "duration": 8,
    "start_time": "2021-08-01T23:17:09.511Z"
   },
   {
    "duration": 8,
    "start_time": "2021-08-01T23:18:59.753Z"
   },
   {
    "duration": 13,
    "start_time": "2021-08-01T23:19:11.166Z"
   },
   {
    "duration": 11,
    "start_time": "2021-08-01T23:19:25.065Z"
   },
   {
    "duration": 8,
    "start_time": "2021-08-01T23:19:38.340Z"
   },
   {
    "duration": 1289,
    "start_time": "2021-08-02T19:32:02.030Z"
   },
   {
    "duration": 207,
    "start_time": "2021-08-02T19:32:03.322Z"
   },
   {
    "duration": 172,
    "start_time": "2021-08-02T19:32:03.532Z"
   },
   {
    "duration": 120,
    "start_time": "2021-08-02T19:32:03.707Z"
   },
   {
    "duration": 24,
    "start_time": "2021-08-02T19:32:03.830Z"
   },
   {
    "duration": 37,
    "start_time": "2021-08-02T19:32:03.856Z"
   },
   {
    "duration": 40,
    "start_time": "2021-08-02T19:32:03.895Z"
   },
   {
    "duration": 45,
    "start_time": "2021-08-02T19:32:03.939Z"
   },
   {
    "duration": 26,
    "start_time": "2021-08-02T19:32:03.987Z"
   },
   {
    "duration": 28,
    "start_time": "2021-08-02T19:32:04.015Z"
   },
   {
    "duration": 62,
    "start_time": "2021-08-02T19:32:04.045Z"
   },
   {
    "duration": 60,
    "start_time": "2021-08-02T19:32:04.109Z"
   },
   {
    "duration": 59,
    "start_time": "2021-08-02T19:32:04.172Z"
   },
   {
    "duration": 80,
    "start_time": "2021-08-02T19:32:04.233Z"
   },
   {
    "duration": 47,
    "start_time": "2021-08-02T19:32:04.316Z"
   },
   {
    "duration": 53,
    "start_time": "2021-08-02T19:32:04.366Z"
   },
   {
    "duration": 27,
    "start_time": "2021-08-02T19:32:04.421Z"
   },
   {
    "duration": 35,
    "start_time": "2021-08-02T19:32:04.451Z"
   },
   {
    "duration": 24,
    "start_time": "2021-08-02T19:32:04.489Z"
   },
   {
    "duration": 26,
    "start_time": "2021-08-02T19:32:04.516Z"
   },
   {
    "duration": 71,
    "start_time": "2021-08-02T19:32:04.544Z"
   },
   {
    "duration": 20,
    "start_time": "2021-08-02T19:32:04.617Z"
   },
   {
    "duration": 10,
    "start_time": "2021-08-02T19:32:04.642Z"
   },
   {
    "duration": 437,
    "start_time": "2021-08-02T19:32:04.683Z"
   },
   {
    "duration": 411,
    "start_time": "2021-08-02T19:32:05.122Z"
   },
   {
    "duration": 403,
    "start_time": "2021-08-02T19:32:05.535Z"
   },
   {
    "duration": 399,
    "start_time": "2021-08-02T19:32:05.941Z"
   },
   {
    "duration": 364,
    "start_time": "2021-08-02T19:32:06.343Z"
   },
   {
    "duration": 376,
    "start_time": "2021-08-02T19:32:06.709Z"
   },
   {
    "duration": 5,
    "start_time": "2021-08-02T19:32:07.087Z"
   },
   {
    "duration": 7,
    "start_time": "2021-08-02T19:32:07.095Z"
   },
   {
    "duration": 9,
    "start_time": "2021-08-02T19:32:07.105Z"
   },
   {
    "duration": 10,
    "start_time": "2021-08-02T19:32:07.116Z"
   },
   {
    "duration": 8,
    "start_time": "2021-08-02T19:32:07.128Z"
   },
   {
    "duration": 43,
    "start_time": "2021-08-02T19:32:07.139Z"
   },
   {
    "duration": 109,
    "start_time": "2021-08-02T19:32:47.118Z"
   },
   {
    "duration": 503,
    "start_time": "2021-08-02T19:33:28.523Z"
   },
   {
    "duration": 720,
    "start_time": "2021-08-02T19:34:34.763Z"
   },
   {
    "duration": 407,
    "start_time": "2021-08-02T19:36:41.037Z"
   },
   {
    "duration": 597,
    "start_time": "2021-08-02T19:37:42.864Z"
   },
   {
    "duration": 573,
    "start_time": "2021-08-02T19:44:16.176Z"
   },
   {
    "duration": 643,
    "start_time": "2021-08-02T19:45:09.500Z"
   },
   {
    "duration": 522,
    "start_time": "2021-08-02T19:45:18.496Z"
   },
   {
    "duration": 535,
    "start_time": "2021-08-02T19:45:26.136Z"
   },
   {
    "duration": 6,
    "start_time": "2021-08-02T20:01:29.716Z"
   },
   {
    "duration": 6,
    "start_time": "2021-08-02T20:02:35.925Z"
   },
   {
    "duration": 7,
    "start_time": "2021-08-02T20:03:41.010Z"
   },
   {
    "duration": 8,
    "start_time": "2021-08-02T20:12:02.828Z"
   },
   {
    "duration": 7,
    "start_time": "2021-08-02T20:14:52.945Z"
   },
   {
    "duration": 9,
    "start_time": "2021-08-02T20:15:31.156Z"
   },
   {
    "duration": 10,
    "start_time": "2021-08-02T20:16:38.467Z"
   },
   {
    "duration": 10,
    "start_time": "2021-08-02T20:16:45.910Z"
   },
   {
    "duration": 11,
    "start_time": "2021-08-02T20:17:19.264Z"
   },
   {
    "duration": 1352,
    "start_time": "2021-08-02T22:35:01.376Z"
   },
   {
    "duration": 219,
    "start_time": "2021-08-02T22:35:02.731Z"
   },
   {
    "duration": 167,
    "start_time": "2021-08-02T22:35:02.954Z"
   },
   {
    "duration": 113,
    "start_time": "2021-08-02T22:35:03.124Z"
   },
   {
    "duration": 25,
    "start_time": "2021-08-02T22:35:03.239Z"
   },
   {
    "duration": 42,
    "start_time": "2021-08-02T22:35:03.266Z"
   },
   {
    "duration": 41,
    "start_time": "2021-08-02T22:35:03.311Z"
   },
   {
    "duration": 44,
    "start_time": "2021-08-02T22:35:03.354Z"
   },
   {
    "duration": 25,
    "start_time": "2021-08-02T22:35:03.402Z"
   },
   {
    "duration": 29,
    "start_time": "2021-08-02T22:35:03.430Z"
   },
   {
    "duration": 33,
    "start_time": "2021-08-02T22:35:03.484Z"
   },
   {
    "duration": 83,
    "start_time": "2021-08-02T22:35:03.520Z"
   },
   {
    "duration": 54,
    "start_time": "2021-08-02T22:35:03.606Z"
   },
   {
    "duration": 75,
    "start_time": "2021-08-02T22:35:03.662Z"
   },
   {
    "duration": 73,
    "start_time": "2021-08-02T22:35:03.740Z"
   },
   {
    "duration": 39,
    "start_time": "2021-08-02T22:35:03.816Z"
   },
   {
    "duration": 47,
    "start_time": "2021-08-02T22:35:03.858Z"
   },
   {
    "duration": 12,
    "start_time": "2021-08-02T22:35:03.908Z"
   },
   {
    "duration": 25,
    "start_time": "2021-08-02T22:35:03.923Z"
   },
   {
    "duration": 25,
    "start_time": "2021-08-02T22:35:03.984Z"
   },
   {
    "duration": 37,
    "start_time": "2021-08-02T22:35:04.012Z"
   },
   {
    "duration": 48,
    "start_time": "2021-08-02T22:35:04.051Z"
   },
   {
    "duration": 10,
    "start_time": "2021-08-02T22:35:04.101Z"
   },
   {
    "duration": 375,
    "start_time": "2021-08-02T22:35:04.113Z"
   },
   {
    "duration": 388,
    "start_time": "2021-08-02T22:35:04.490Z"
   },
   {
    "duration": 360,
    "start_time": "2021-08-02T22:35:04.883Z"
   },
   {
    "duration": 364,
    "start_time": "2021-08-02T22:35:05.248Z"
   },
   {
    "duration": 356,
    "start_time": "2021-08-02T22:35:05.614Z"
   },
   {
    "duration": 369,
    "start_time": "2021-08-02T22:35:05.972Z"
   },
   {
    "duration": 6,
    "start_time": "2021-08-02T22:35:06.343Z"
   },
   {
    "duration": 11,
    "start_time": "2021-08-02T22:35:06.351Z"
   },
   {
    "duration": 18,
    "start_time": "2021-08-02T22:35:06.365Z"
   },
   {
    "duration": 5,
    "start_time": "2021-08-02T22:35:06.386Z"
   },
   {
    "duration": 6,
    "start_time": "2021-08-02T22:35:06.394Z"
   },
   {
    "duration": 6,
    "start_time": "2021-08-02T22:35:06.403Z"
   },
   {
    "duration": 546,
    "start_time": "2021-08-02T22:35:06.412Z"
   },
   {
    "duration": 11,
    "start_time": "2021-08-02T22:38:08.968Z"
   },
   {
    "duration": 10,
    "start_time": "2021-08-02T22:38:13.083Z"
   },
   {
    "duration": 11,
    "start_time": "2021-08-02T23:36:40.118Z"
   },
   {
    "duration": 11,
    "start_time": "2021-08-02T23:37:27.792Z"
   },
   {
    "duration": 7,
    "start_time": "2021-08-02T23:38:57.493Z"
   },
   {
    "duration": 338,
    "start_time": "2021-08-02T23:39:06.284Z"
   },
   {
    "duration": 250,
    "start_time": "2021-08-02T23:39:25.472Z"
   },
   {
    "duration": 4,
    "start_time": "2021-08-02T23:39:32.236Z"
   },
   {
    "duration": 10,
    "start_time": "2021-08-03T00:11:21.357Z"
   },
   {
    "duration": 120,
    "start_time": "2021-08-03T00:11:40.402Z"
   },
   {
    "duration": 60,
    "start_time": "2021-08-03T00:12:13.829Z"
   },
   {
    "duration": 308,
    "start_time": "2021-08-03T00:14:44.994Z"
   },
   {
    "duration": 56,
    "start_time": "2021-08-03T00:14:50.876Z"
   },
   {
    "duration": 49,
    "start_time": "2021-08-03T00:14:51.819Z"
   },
   {
    "duration": 6,
    "start_time": "2021-08-03T00:14:52.586Z"
   },
   {
    "duration": 7,
    "start_time": "2021-08-03T00:15:22.451Z"
   },
   {
    "duration": 7,
    "start_time": "2021-08-03T00:22:42.006Z"
   },
   {
    "duration": 5,
    "start_time": "2021-08-03T00:22:47.395Z"
   },
   {
    "duration": 7,
    "start_time": "2021-08-03T00:34:57.029Z"
   },
   {
    "duration": 5,
    "start_time": "2021-08-03T00:34:58.219Z"
   },
   {
    "duration": 1449,
    "start_time": "2021-08-03T17:29:05.510Z"
   },
   {
    "duration": 241,
    "start_time": "2021-08-03T17:29:06.962Z"
   },
   {
    "duration": 205,
    "start_time": "2021-08-03T17:29:07.207Z"
   },
   {
    "duration": 129,
    "start_time": "2021-08-03T17:29:07.415Z"
   },
   {
    "duration": 36,
    "start_time": "2021-08-03T17:29:07.546Z"
   },
   {
    "duration": 50,
    "start_time": "2021-08-03T17:29:07.585Z"
   },
   {
    "duration": 52,
    "start_time": "2021-08-03T17:29:07.638Z"
   },
   {
    "duration": 35,
    "start_time": "2021-08-03T17:29:07.694Z"
   },
   {
    "duration": 40,
    "start_time": "2021-08-03T17:29:07.733Z"
   },
   {
    "duration": 29,
    "start_time": "2021-08-03T17:29:07.776Z"
   },
   {
    "duration": 65,
    "start_time": "2021-08-03T17:29:07.807Z"
   },
   {
    "duration": 92,
    "start_time": "2021-08-03T17:29:07.877Z"
   },
   {
    "duration": 57,
    "start_time": "2021-08-03T17:29:07.972Z"
   },
   {
    "duration": 87,
    "start_time": "2021-08-03T17:29:08.031Z"
   },
   {
    "duration": 100,
    "start_time": "2021-08-03T17:29:08.121Z"
   },
   {
    "duration": 82,
    "start_time": "2021-08-03T17:29:08.224Z"
   },
   {
    "duration": 44,
    "start_time": "2021-08-03T17:29:08.310Z"
   },
   {
    "duration": 14,
    "start_time": "2021-08-03T17:29:08.357Z"
   },
   {
    "duration": 25,
    "start_time": "2021-08-03T17:29:08.375Z"
   },
   {
    "duration": 55,
    "start_time": "2021-08-03T17:29:08.403Z"
   },
   {
    "duration": 45,
    "start_time": "2021-08-03T17:29:08.461Z"
   },
   {
    "duration": 51,
    "start_time": "2021-08-03T17:29:08.509Z"
   },
   {
    "duration": 15,
    "start_time": "2021-08-03T17:29:08.565Z"
   },
   {
    "duration": 442,
    "start_time": "2021-08-03T17:29:08.584Z"
   },
   {
    "duration": 550,
    "start_time": "2021-08-03T17:29:09.029Z"
   },
   {
    "duration": 424,
    "start_time": "2021-08-03T17:29:09.582Z"
   },
   {
    "duration": 417,
    "start_time": "2021-08-03T17:29:10.008Z"
   },
   {
    "duration": 384,
    "start_time": "2021-08-03T17:29:10.428Z"
   },
   {
    "duration": 397,
    "start_time": "2021-08-03T17:29:10.814Z"
   },
   {
    "duration": 5,
    "start_time": "2021-08-03T17:29:11.214Z"
   },
   {
    "duration": 17,
    "start_time": "2021-08-03T17:29:11.222Z"
   },
   {
    "duration": 25,
    "start_time": "2021-08-03T17:29:11.241Z"
   },
   {
    "duration": 32,
    "start_time": "2021-08-03T17:29:11.269Z"
   },
   {
    "duration": 11,
    "start_time": "2021-08-03T17:29:11.303Z"
   },
   {
    "duration": 27,
    "start_time": "2021-08-03T17:29:11.316Z"
   },
   {
    "duration": 675,
    "start_time": "2021-08-03T17:29:11.345Z"
   },
   {
    "duration": 11,
    "start_time": "2021-08-03T17:29:12.022Z"
   },
   {
    "duration": 28,
    "start_time": "2021-08-03T17:29:12.035Z"
   },
   {
    "duration": 25,
    "start_time": "2021-08-03T17:29:12.066Z"
   },
   {
    "duration": 20,
    "start_time": "2021-08-03T17:29:12.094Z"
   },
   {
    "duration": 101,
    "start_time": "2021-08-03T17:29:12.116Z"
   },
   {
    "duration": 90,
    "start_time": "2021-08-03T17:29:12.222Z"
   },
   {
    "duration": 6,
    "start_time": "2021-08-03T17:29:12.314Z"
   },
   {
    "duration": 18,
    "start_time": "2021-08-03T17:29:12.322Z"
   },
   {
    "duration": 15,
    "start_time": "2021-08-03T17:29:12.355Z"
   },
   {
    "duration": 22,
    "start_time": "2021-08-03T17:29:12.373Z"
   },
   {
    "duration": 377,
    "start_time": "2021-08-03T18:10:09.689Z"
   },
   {
    "duration": 489,
    "start_time": "2021-08-03T18:10:17.595Z"
   },
   {
    "duration": 247,
    "start_time": "2021-08-03T19:17:48.978Z"
   },
   {
    "duration": 1003,
    "start_time": "2021-08-03T19:17:54.556Z"
   },
   {
    "duration": 145,
    "start_time": "2021-08-03T19:17:55.561Z"
   },
   {
    "duration": 124,
    "start_time": "2021-08-03T19:17:55.708Z"
   },
   {
    "duration": 85,
    "start_time": "2021-08-03T19:17:55.834Z"
   },
   {
    "duration": 20,
    "start_time": "2021-08-03T19:17:55.921Z"
   },
   {
    "duration": 32,
    "start_time": "2021-08-03T19:17:55.943Z"
   },
   {
    "duration": 32,
    "start_time": "2021-08-03T19:17:55.977Z"
   },
   {
    "duration": 29,
    "start_time": "2021-08-03T19:17:56.012Z"
   },
   {
    "duration": 24,
    "start_time": "2021-08-03T19:17:56.044Z"
   },
   {
    "duration": 36,
    "start_time": "2021-08-03T19:17:56.070Z"
   },
   {
    "duration": 29,
    "start_time": "2021-08-03T19:17:56.108Z"
   },
   {
    "duration": 66,
    "start_time": "2021-08-03T19:17:56.139Z"
   },
   {
    "duration": 38,
    "start_time": "2021-08-03T19:17:56.206Z"
   },
   {
    "duration": 58,
    "start_time": "2021-08-03T19:17:56.246Z"
   },
   {
    "duration": 45,
    "start_time": "2021-08-03T19:17:56.306Z"
   },
   {
    "duration": 51,
    "start_time": "2021-08-03T19:17:56.353Z"
   },
   {
    "duration": 18,
    "start_time": "2021-08-03T19:17:56.406Z"
   },
   {
    "duration": 7,
    "start_time": "2021-08-03T19:17:56.425Z"
   },
   {
    "duration": 16,
    "start_time": "2021-08-03T19:17:56.433Z"
   },
   {
    "duration": 14,
    "start_time": "2021-08-03T19:17:56.450Z"
   },
   {
    "duration": 23,
    "start_time": "2021-08-03T19:17:56.492Z"
   },
   {
    "duration": 18,
    "start_time": "2021-08-03T19:17:56.517Z"
   },
   {
    "duration": 7,
    "start_time": "2021-08-03T19:17:56.537Z"
   },
   {
    "duration": 227,
    "start_time": "2021-08-03T19:17:56.546Z"
   },
   {
    "duration": 237,
    "start_time": "2021-08-03T19:17:56.774Z"
   },
   {
    "duration": 219,
    "start_time": "2021-08-03T19:17:57.012Z"
   },
   {
    "duration": 213,
    "start_time": "2021-08-03T19:17:57.232Z"
   },
   {
    "duration": 210,
    "start_time": "2021-08-03T19:17:57.447Z"
   },
   {
    "duration": 199,
    "start_time": "2021-08-03T19:17:57.658Z"
   },
   {
    "duration": 3,
    "start_time": "2021-08-03T19:17:57.859Z"
   },
   {
    "duration": 7,
    "start_time": "2021-08-03T19:17:57.863Z"
   },
   {
    "duration": 6,
    "start_time": "2021-08-03T19:17:57.871Z"
   },
   {
    "duration": 21,
    "start_time": "2021-08-03T19:17:57.879Z"
   },
   {
    "duration": 5,
    "start_time": "2021-08-03T19:17:57.901Z"
   },
   {
    "duration": 7,
    "start_time": "2021-08-03T19:17:57.908Z"
   },
   {
    "duration": 296,
    "start_time": "2021-08-03T19:17:57.916Z"
   },
   {
    "duration": 6,
    "start_time": "2021-08-03T19:17:58.214Z"
   },
   {
    "duration": 17,
    "start_time": "2021-08-03T19:17:58.222Z"
   },
   {
    "duration": 14,
    "start_time": "2021-08-03T19:17:58.241Z"
   },
   {
    "duration": 6,
    "start_time": "2021-08-03T19:17:58.256Z"
   },
   {
    "duration": 36,
    "start_time": "2021-08-03T19:17:58.264Z"
   },
   {
    "duration": 30,
    "start_time": "2021-08-03T19:17:58.301Z"
   },
   {
    "duration": 4,
    "start_time": "2021-08-03T19:17:58.332Z"
   },
   {
    "duration": 9,
    "start_time": "2021-08-03T19:17:58.337Z"
   },
   {
    "duration": 8,
    "start_time": "2021-08-03T19:17:58.347Z"
   },
   {
    "duration": 4,
    "start_time": "2021-08-03T19:18:00.896Z"
   },
   {
    "duration": 336,
    "start_time": "2021-08-03T19:18:11.230Z"
   },
   {
    "duration": 207,
    "start_time": "2021-08-03T19:18:17.779Z"
   },
   {
    "duration": 191,
    "start_time": "2021-08-03T19:18:27.884Z"
   },
   {
    "duration": 67,
    "start_time": "2021-08-03T19:41:14.799Z"
   },
   {
    "duration": 10,
    "start_time": "2021-08-03T19:43:20.528Z"
   },
   {
    "duration": 208,
    "start_time": "2021-08-03T23:10:12.423Z"
   },
   {
    "duration": 327,
    "start_time": "2021-08-03T23:10:51.761Z"
   },
   {
    "duration": 610,
    "start_time": "2021-08-03T23:13:10.235Z"
   },
   {
    "duration": 328,
    "start_time": "2021-08-03T23:13:26.080Z"
   },
   {
    "duration": 339,
    "start_time": "2021-08-03T23:14:29.569Z"
   },
   {
    "duration": 226,
    "start_time": "2021-08-03T23:15:23.079Z"
   },
   {
    "duration": 239,
    "start_time": "2021-08-03T23:15:41.756Z"
   },
   {
    "duration": 310,
    "start_time": "2021-08-03T23:16:30.164Z"
   },
   {
    "duration": 318,
    "start_time": "2021-08-03T23:17:05.908Z"
   },
   {
    "duration": 304,
    "start_time": "2021-08-03T23:17:23.035Z"
   },
   {
    "duration": 307,
    "start_time": "2021-08-03T23:19:19.592Z"
   },
   {
    "duration": 219,
    "start_time": "2021-08-03T23:23:56.946Z"
   },
   {
    "duration": 216,
    "start_time": "2021-08-03T23:24:28.261Z"
   },
   {
    "duration": 196,
    "start_time": "2021-08-03T23:25:35.221Z"
   },
   {
    "duration": 206,
    "start_time": "2021-08-03T23:27:44.626Z"
   },
   {
    "duration": 227,
    "start_time": "2021-08-03T23:29:39.198Z"
   },
   {
    "duration": 226,
    "start_time": "2021-08-03T23:30:02.642Z"
   },
   {
    "duration": 1031,
    "start_time": "2021-08-04T08:26:49.325Z"
   },
   {
    "duration": 142,
    "start_time": "2021-08-04T08:26:50.358Z"
   },
   {
    "duration": 125,
    "start_time": "2021-08-04T08:26:50.502Z"
   },
   {
    "duration": 86,
    "start_time": "2021-08-04T08:26:50.629Z"
   },
   {
    "duration": 20,
    "start_time": "2021-08-04T08:26:50.717Z"
   },
   {
    "duration": 39,
    "start_time": "2021-08-04T08:26:50.738Z"
   },
   {
    "duration": 28,
    "start_time": "2021-08-04T08:26:50.778Z"
   },
   {
    "duration": 20,
    "start_time": "2021-08-04T08:26:50.808Z"
   },
   {
    "duration": 17,
    "start_time": "2021-08-04T08:26:50.830Z"
   },
   {
    "duration": 17,
    "start_time": "2021-08-04T08:26:50.849Z"
   },
   {
    "duration": 41,
    "start_time": "2021-08-04T08:26:50.868Z"
   },
   {
    "duration": 41,
    "start_time": "2021-08-04T08:26:50.911Z"
   },
   {
    "duration": 57,
    "start_time": "2021-08-04T08:26:50.954Z"
   },
   {
    "duration": 42,
    "start_time": "2021-08-04T08:26:51.013Z"
   },
   {
    "duration": 45,
    "start_time": "2021-08-04T08:26:51.057Z"
   },
   {
    "duration": 25,
    "start_time": "2021-08-04T08:26:51.104Z"
   },
   {
    "duration": 16,
    "start_time": "2021-08-04T08:26:51.131Z"
   },
   {
    "duration": 7,
    "start_time": "2021-08-04T08:26:51.149Z"
   },
   {
    "duration": 43,
    "start_time": "2021-08-04T08:26:51.157Z"
   },
   {
    "duration": 13,
    "start_time": "2021-08-04T08:26:51.201Z"
   },
   {
    "duration": 23,
    "start_time": "2021-08-04T08:26:51.215Z"
   },
   {
    "duration": 10,
    "start_time": "2021-08-04T08:26:51.239Z"
   },
   {
    "duration": 6,
    "start_time": "2021-08-04T08:26:51.252Z"
   },
   {
    "duration": 245,
    "start_time": "2021-08-04T08:26:51.259Z"
   },
   {
    "duration": 232,
    "start_time": "2021-08-04T08:26:51.505Z"
   },
   {
    "duration": 229,
    "start_time": "2021-08-04T08:26:51.738Z"
   },
   {
    "duration": 229,
    "start_time": "2021-08-04T08:26:51.969Z"
   },
   {
    "duration": 215,
    "start_time": "2021-08-04T08:26:52.200Z"
   },
   {
    "duration": 208,
    "start_time": "2021-08-04T08:26:52.416Z"
   },
   {
    "duration": 4,
    "start_time": "2021-08-04T08:26:52.626Z"
   },
   {
    "duration": 6,
    "start_time": "2021-08-04T08:26:52.631Z"
   },
   {
    "duration": 4,
    "start_time": "2021-08-04T08:26:52.639Z"
   },
   {
    "duration": 4,
    "start_time": "2021-08-04T08:26:52.645Z"
   },
   {
    "duration": 6,
    "start_time": "2021-08-04T08:26:52.650Z"
   },
   {
    "duration": 6,
    "start_time": "2021-08-04T08:26:52.658Z"
   },
   {
    "duration": 31,
    "start_time": "2021-08-04T08:26:52.665Z"
   },
   {
    "duration": 239,
    "start_time": "2021-08-04T08:26:52.698Z"
   },
   {
    "duration": 7,
    "start_time": "2021-08-04T08:26:52.938Z"
   },
   {
    "duration": 14,
    "start_time": "2021-08-04T08:26:52.947Z"
   },
   {
    "duration": 14,
    "start_time": "2021-08-04T08:26:52.963Z"
   },
   {
    "duration": 16,
    "start_time": "2021-08-04T08:26:52.978Z"
   },
   {
    "duration": 51,
    "start_time": "2021-08-04T08:26:52.995Z"
   },
   {
    "duration": 28,
    "start_time": "2021-08-04T08:26:53.048Z"
   },
   {
    "duration": 4,
    "start_time": "2021-08-04T08:26:53.078Z"
   },
   {
    "duration": 15,
    "start_time": "2021-08-04T08:26:53.083Z"
   },
   {
    "duration": 10,
    "start_time": "2021-08-04T08:26:53.099Z"
   },
   {
    "duration": 7,
    "start_time": "2021-08-04T08:26:53.111Z"
   },
   {
    "duration": 15,
    "start_time": "2021-08-04T08:37:02.001Z"
   },
   {
    "duration": 1419,
    "start_time": "2021-08-04T10:31:00.028Z"
   },
   {
    "duration": 257,
    "start_time": "2021-08-04T10:31:01.449Z"
   },
   {
    "duration": 28,
    "start_time": "2021-08-04T10:31:01.711Z"
   },
   {
    "duration": 65,
    "start_time": "2021-08-04T10:31:01.743Z"
   },
   {
    "duration": 201,
    "start_time": "2021-08-04T10:31:01.811Z"
   },
   {
    "duration": 22,
    "start_time": "2021-08-04T10:31:02.015Z"
   },
   {
    "duration": 71,
    "start_time": "2021-08-04T10:31:02.039Z"
   },
   {
    "duration": 133,
    "start_time": "2021-08-04T10:31:02.112Z"
   },
   {
    "duration": 24,
    "start_time": "2021-08-04T10:31:02.249Z"
   },
   {
    "duration": 33,
    "start_time": "2021-08-04T10:31:02.277Z"
   },
   {
    "duration": 25,
    "start_time": "2021-08-04T10:31:02.313Z"
   },
   {
    "duration": 58,
    "start_time": "2021-08-04T10:31:02.341Z"
   },
   {
    "duration": 9,
    "start_time": "2021-08-04T10:31:02.401Z"
   },
   {
    "duration": 33,
    "start_time": "2021-08-04T10:31:02.413Z"
   },
   {
    "duration": 12,
    "start_time": "2021-08-04T10:31:06.483Z"
   },
   {
    "duration": 426,
    "start_time": "2021-08-04T10:42:08.912Z"
   },
   {
    "duration": 26,
    "start_time": "2021-08-04T10:42:35.002Z"
   },
   {
    "duration": 26,
    "start_time": "2021-08-04T10:46:15.904Z"
   },
   {
    "duration": 4,
    "start_time": "2021-08-04T11:28:44.930Z"
   },
   {
    "duration": 268,
    "start_time": "2021-08-04T11:28:44.937Z"
   },
   {
    "duration": 28,
    "start_time": "2021-08-04T11:28:45.208Z"
   },
   {
    "duration": 60,
    "start_time": "2021-08-04T11:28:45.239Z"
   },
   {
    "duration": 22,
    "start_time": "2021-08-04T11:28:45.302Z"
   },
   {
    "duration": 206,
    "start_time": "2021-08-04T11:28:45.326Z"
   },
   {
    "duration": 23,
    "start_time": "2021-08-04T11:28:45.534Z"
   },
   {
    "duration": 45,
    "start_time": "2021-08-04T11:28:45.560Z"
   },
   {
    "duration": 24,
    "start_time": "2021-08-04T11:28:45.608Z"
   },
   {
    "duration": 168,
    "start_time": "2021-08-04T11:28:45.635Z"
   },
   {
    "duration": 19,
    "start_time": "2021-08-04T11:28:45.806Z"
   },
   {
    "duration": 47,
    "start_time": "2021-08-04T11:28:45.828Z"
   },
   {
    "duration": 26,
    "start_time": "2021-08-04T11:28:45.878Z"
   },
   {
    "duration": 50,
    "start_time": "2021-08-04T11:28:45.906Z"
   },
   {
    "duration": 12,
    "start_time": "2021-08-04T11:28:45.958Z"
   },
   {
    "duration": 43,
    "start_time": "2021-08-04T11:28:45.972Z"
   },
   {
    "duration": 59,
    "start_time": "2021-08-04T11:28:46.017Z"
   },
   {
    "duration": 32,
    "start_time": "2021-08-04T11:28:46.080Z"
   },
   {
    "duration": 27,
    "start_time": "2021-08-04T11:28:46.115Z"
   },
   {
    "duration": 41,
    "start_time": "2021-08-04T11:28:46.145Z"
   },
   {
    "duration": 24,
    "start_time": "2021-08-04T11:28:46.189Z"
   },
   {
    "duration": 35,
    "start_time": "2021-08-04T11:28:46.216Z"
   },
   {
    "duration": 83,
    "start_time": "2021-08-04T11:28:46.256Z"
   },
   {
    "duration": 73,
    "start_time": "2021-08-04T11:28:46.342Z"
   },
   {
    "duration": 80,
    "start_time": "2021-08-04T11:28:46.418Z"
   },
   {
    "duration": 52,
    "start_time": "2021-08-04T11:28:46.501Z"
   },
   {
    "duration": 64,
    "start_time": "2021-08-04T11:28:46.555Z"
   },
   {
    "duration": 53,
    "start_time": "2021-08-04T11:28:46.621Z"
   },
   {
    "duration": 13,
    "start_time": "2021-08-04T11:28:46.677Z"
   },
   {
    "duration": 32,
    "start_time": "2021-08-04T11:28:46.693Z"
   },
   {
    "duration": 61,
    "start_time": "2021-08-04T11:28:46.727Z"
   },
   {
    "duration": 39,
    "start_time": "2021-08-04T11:28:46.791Z"
   },
   {
    "duration": 18,
    "start_time": "2021-08-04T11:28:46.833Z"
   },
   {
    "duration": 25,
    "start_time": "2021-08-04T11:28:46.853Z"
   },
   {
    "duration": 457,
    "start_time": "2021-08-04T11:28:46.881Z"
   },
   {
    "duration": 461,
    "start_time": "2021-08-04T11:28:47.341Z"
   },
   {
    "duration": 463,
    "start_time": "2021-08-04T11:28:47.804Z"
   },
   {
    "duration": 446,
    "start_time": "2021-08-04T11:28:48.270Z"
   },
   {
    "duration": 416,
    "start_time": "2021-08-04T11:28:48.719Z"
   },
   {
    "duration": 416,
    "start_time": "2021-08-04T11:28:49.138Z"
   },
   {
    "duration": 11,
    "start_time": "2021-08-04T11:28:49.556Z"
   },
   {
    "duration": 7,
    "start_time": "2021-08-04T11:28:49.571Z"
   },
   {
    "duration": 7,
    "start_time": "2021-08-04T11:28:49.583Z"
   },
   {
    "duration": 10,
    "start_time": "2021-08-04T11:28:49.593Z"
   },
   {
    "duration": 7,
    "start_time": "2021-08-04T11:28:49.606Z"
   },
   {
    "duration": 8,
    "start_time": "2021-08-04T11:28:49.615Z"
   },
   {
    "duration": 59,
    "start_time": "2021-08-04T11:28:49.625Z"
   },
   {
    "duration": 448,
    "start_time": "2021-08-04T11:28:49.687Z"
   },
   {
    "duration": 7,
    "start_time": "2021-08-04T11:28:50.138Z"
   },
   {
    "duration": 36,
    "start_time": "2021-08-04T11:28:50.147Z"
   },
   {
    "duration": 14,
    "start_time": "2021-08-04T11:28:56.673Z"
   },
   {
    "duration": 8,
    "start_time": "2021-08-04T11:30:13.347Z"
   },
   {
    "duration": 7,
    "start_time": "2021-08-04T11:30:14.227Z"
   },
   {
    "duration": 14,
    "start_time": "2021-08-04T11:30:14.834Z"
   },
   {
    "duration": 8,
    "start_time": "2021-08-04T11:30:33.489Z"
   },
   {
    "duration": 13,
    "start_time": "2021-08-04T11:30:33.901Z"
   },
   {
    "duration": 5,
    "start_time": "2021-08-04T11:46:16.262Z"
   },
   {
    "duration": 282,
    "start_time": "2021-08-04T11:46:16.270Z"
   },
   {
    "duration": 37,
    "start_time": "2021-08-04T11:46:16.556Z"
   },
   {
    "duration": 36,
    "start_time": "2021-08-04T11:46:16.597Z"
   },
   {
    "duration": 52,
    "start_time": "2021-08-04T11:46:16.636Z"
   },
   {
    "duration": 187,
    "start_time": "2021-08-04T11:46:16.691Z"
   },
   {
    "duration": 22,
    "start_time": "2021-08-04T11:46:16.881Z"
   },
   {
    "duration": 62,
    "start_time": "2021-08-04T11:46:16.907Z"
   },
   {
    "duration": 24,
    "start_time": "2021-08-04T11:46:16.972Z"
   },
   {
    "duration": 133,
    "start_time": "2021-08-04T11:46:16.998Z"
   },
   {
    "duration": 19,
    "start_time": "2021-08-04T11:46:17.133Z"
   },
   {
    "duration": 19,
    "start_time": "2021-08-04T11:46:17.167Z"
   },
   {
    "duration": 26,
    "start_time": "2021-08-04T11:46:17.189Z"
   },
   {
    "duration": 50,
    "start_time": "2021-08-04T11:46:17.218Z"
   },
   {
    "duration": 10,
    "start_time": "2021-08-04T11:46:17.271Z"
   },
   {
    "duration": 25,
    "start_time": "2021-08-04T11:46:17.284Z"
   },
   {
    "duration": 76,
    "start_time": "2021-08-04T11:46:17.312Z"
   },
   {
    "duration": 33,
    "start_time": "2021-08-04T11:46:17.391Z"
   },
   {
    "duration": 47,
    "start_time": "2021-08-04T11:46:17.426Z"
   },
   {
    "duration": 14,
    "start_time": "2021-08-04T11:46:17.476Z"
   },
   {
    "duration": 20,
    "start_time": "2021-08-04T11:46:17.492Z"
   },
   {
    "duration": 69,
    "start_time": "2021-08-04T11:46:17.515Z"
   },
   {
    "duration": 58,
    "start_time": "2021-08-04T11:46:17.592Z"
   },
   {
    "duration": 59,
    "start_time": "2021-08-04T11:46:17.653Z"
   },
   {
    "duration": 76,
    "start_time": "2021-08-04T11:46:17.714Z"
   },
   {
    "duration": 49,
    "start_time": "2021-08-04T11:46:17.792Z"
   },
   {
    "duration": 62,
    "start_time": "2021-08-04T11:46:17.843Z"
   },
   {
    "duration": 25,
    "start_time": "2021-08-04T11:46:17.907Z"
   },
   {
    "duration": 38,
    "start_time": "2021-08-04T11:46:17.935Z"
   },
   {
    "duration": 25,
    "start_time": "2021-08-04T11:46:17.975Z"
   },
   {
    "duration": 25,
    "start_time": "2021-08-04T11:46:18.002Z"
   },
   {
    "duration": 70,
    "start_time": "2021-08-04T11:46:18.029Z"
   },
   {
    "duration": 24,
    "start_time": "2021-08-04T11:46:18.101Z"
   },
   {
    "duration": 10,
    "start_time": "2021-08-04T11:46:18.128Z"
   },
   {
    "duration": 541,
    "start_time": "2021-08-04T11:46:18.140Z"
   },
   {
    "duration": 445,
    "start_time": "2021-08-04T11:46:18.683Z"
   },
   {
    "duration": 437,
    "start_time": "2021-08-04T11:46:19.130Z"
   },
   {
    "duration": 441,
    "start_time": "2021-08-04T11:46:19.569Z"
   },
   {
    "duration": 419,
    "start_time": "2021-08-04T11:46:20.013Z"
   },
   {
    "duration": 407,
    "start_time": "2021-08-04T11:46:20.435Z"
   },
   {
    "duration": 5,
    "start_time": "2021-08-04T11:46:20.844Z"
   },
   {
    "duration": 15,
    "start_time": "2021-08-04T11:46:20.852Z"
   },
   {
    "duration": 16,
    "start_time": "2021-08-04T11:46:20.869Z"
   },
   {
    "duration": 22,
    "start_time": "2021-08-04T11:46:20.887Z"
   },
   {
    "duration": 19,
    "start_time": "2021-08-04T11:46:20.911Z"
   },
   {
    "duration": 14,
    "start_time": "2021-08-04T11:46:20.932Z"
   },
   {
    "duration": 20,
    "start_time": "2021-08-04T11:46:20.948Z"
   },
   {
    "duration": 455,
    "start_time": "2021-08-04T11:46:20.970Z"
   },
   {
    "duration": 7,
    "start_time": "2021-08-04T11:46:21.428Z"
   },
   {
    "duration": 9,
    "start_time": "2021-08-04T11:46:21.437Z"
   },
   {
    "duration": 32,
    "start_time": "2021-08-04T11:46:21.448Z"
   },
   {
    "duration": 7,
    "start_time": "2021-08-04T11:46:21.482Z"
   },
   {
    "duration": 8,
    "start_time": "2021-08-04T11:46:21.491Z"
   },
   {
    "duration": 87,
    "start_time": "2021-08-04T11:46:21.501Z"
   },
   {
    "duration": 52,
    "start_time": "2021-08-04T11:46:21.590Z"
   },
   {
    "duration": 23,
    "start_time": "2021-08-04T11:46:21.644Z"
   },
   {
    "duration": 6,
    "start_time": "2021-08-04T11:46:21.669Z"
   },
   {
    "duration": 6,
    "start_time": "2021-08-04T11:46:21.678Z"
   },
   {
    "duration": 4,
    "start_time": "2021-08-04T11:46:24.293Z"
   },
   {
    "duration": 1393,
    "start_time": "2021-08-05T11:10:47.463Z"
   },
   {
    "duration": 227,
    "start_time": "2021-08-05T11:10:48.858Z"
   },
   {
    "duration": 27,
    "start_time": "2021-08-05T11:10:49.089Z"
   },
   {
    "duration": 47,
    "start_time": "2021-08-05T11:10:49.119Z"
   },
   {
    "duration": 41,
    "start_time": "2021-08-05T11:10:49.169Z"
   },
   {
    "duration": 197,
    "start_time": "2021-08-05T11:10:49.213Z"
   },
   {
    "duration": 23,
    "start_time": "2021-08-05T11:10:49.412Z"
   },
   {
    "duration": 55,
    "start_time": "2021-08-05T11:10:49.440Z"
   },
   {
    "duration": 25,
    "start_time": "2021-08-05T11:10:49.498Z"
   },
   {
    "duration": 140,
    "start_time": "2021-08-05T11:10:49.525Z"
   },
   {
    "duration": 19,
    "start_time": "2021-08-05T11:10:49.667Z"
   },
   {
    "duration": 18,
    "start_time": "2021-08-05T11:10:49.688Z"
   },
   {
    "duration": 26,
    "start_time": "2021-08-05T11:10:49.709Z"
   },
   {
    "duration": 71,
    "start_time": "2021-08-05T11:10:49.737Z"
   },
   {
    "duration": 8,
    "start_time": "2021-08-05T11:10:49.811Z"
   },
   {
    "duration": 28,
    "start_time": "2021-08-05T11:10:49.821Z"
   },
   {
    "duration": 60,
    "start_time": "2021-08-05T11:10:49.851Z"
   },
   {
    "duration": 33,
    "start_time": "2021-08-05T11:10:49.913Z"
   },
   {
    "duration": 47,
    "start_time": "2021-08-05T11:10:49.949Z"
   },
   {
    "duration": 12,
    "start_time": "2021-08-05T11:10:49.998Z"
   },
   {
    "duration": 26,
    "start_time": "2021-08-05T11:10:50.012Z"
   },
   {
    "duration": 58,
    "start_time": "2021-08-05T11:10:50.041Z"
   },
   {
    "duration": 66,
    "start_time": "2021-08-05T11:10:50.104Z"
   },
   {
    "duration": 63,
    "start_time": "2021-08-05T11:10:50.173Z"
   },
   {
    "duration": 82,
    "start_time": "2021-08-05T11:10:50.239Z"
   },
   {
    "duration": 64,
    "start_time": "2021-08-05T11:10:50.324Z"
   },
   {
    "duration": 42,
    "start_time": "2021-08-05T11:10:50.391Z"
   },
   {
    "duration": 22,
    "start_time": "2021-08-05T11:10:50.436Z"
   },
   {
    "duration": 11,
    "start_time": "2021-08-05T11:10:50.485Z"
   },
   {
    "duration": 24,
    "start_time": "2021-08-05T11:10:50.498Z"
   },
   {
    "duration": 24,
    "start_time": "2021-08-05T11:10:50.525Z"
   },
   {
    "duration": 74,
    "start_time": "2021-08-05T11:10:50.551Z"
   },
   {
    "duration": 20,
    "start_time": "2021-08-05T11:10:50.627Z"
   },
   {
    "duration": 41,
    "start_time": "2021-08-05T11:10:50.649Z"
   },
   {
    "duration": 453,
    "start_time": "2021-08-05T11:10:50.693Z"
   },
   {
    "duration": 463,
    "start_time": "2021-08-05T11:10:51.149Z"
   },
   {
    "duration": 470,
    "start_time": "2021-08-05T11:10:51.615Z"
   },
   {
    "duration": 450,
    "start_time": "2021-08-05T11:10:52.088Z"
   },
   {
    "duration": 415,
    "start_time": "2021-08-05T11:10:52.541Z"
   },
   {
    "duration": 414,
    "start_time": "2021-08-05T11:10:52.960Z"
   },
   {
    "duration": 10,
    "start_time": "2021-08-05T11:10:53.377Z"
   },
   {
    "duration": 8,
    "start_time": "2021-08-05T11:10:53.389Z"
   },
   {
    "duration": 7,
    "start_time": "2021-08-05T11:10:53.400Z"
   },
   {
    "duration": 9,
    "start_time": "2021-08-05T11:10:53.409Z"
   },
   {
    "duration": 13,
    "start_time": "2021-08-05T11:10:53.420Z"
   },
   {
    "duration": 11,
    "start_time": "2021-08-05T11:10:53.436Z"
   },
   {
    "duration": 44,
    "start_time": "2021-08-05T11:10:53.449Z"
   },
   {
    "duration": 452,
    "start_time": "2021-08-05T11:10:53.495Z"
   },
   {
    "duration": 8,
    "start_time": "2021-08-05T11:10:53.950Z"
   },
   {
    "duration": 25,
    "start_time": "2021-08-05T11:10:53.961Z"
   },
   {
    "duration": 20,
    "start_time": "2021-08-05T11:10:53.989Z"
   },
   {
    "duration": 9,
    "start_time": "2021-08-05T11:10:54.012Z"
   },
   {
    "duration": 7,
    "start_time": "2021-08-05T11:10:54.024Z"
   },
   {
    "duration": 98,
    "start_time": "2021-08-05T11:10:54.034Z"
   },
   {
    "duration": 70,
    "start_time": "2021-08-05T11:10:54.135Z"
   },
   {
    "duration": 6,
    "start_time": "2021-08-05T11:10:54.207Z"
   },
   {
    "duration": 9,
    "start_time": "2021-08-05T11:10:54.215Z"
   },
   {
    "duration": 9,
    "start_time": "2021-08-05T11:10:54.226Z"
   },
   {
    "duration": 7,
    "start_time": "2021-08-05T11:10:54.237Z"
   }
  ],
  "kernelspec": {
   "display_name": "Python 3 (ipykernel)",
   "language": "python",
   "name": "python3"
  },
  "language_info": {
   "codemirror_mode": {
    "name": "ipython",
    "version": 3
   },
   "file_extension": ".py",
   "mimetype": "text/x-python",
   "name": "python",
   "nbconvert_exporter": "python",
   "pygments_lexer": "ipython3",
   "version": "3.9.5"
  },
  "toc": {
   "base_numbering": 1,
   "nav_menu": {},
   "number_sections": true,
   "sideBar": true,
   "skip_h1_title": true,
   "title_cell": "Table of Contents",
   "title_sidebar": "Contents",
   "toc_cell": false,
   "toc_position": {},
   "toc_section_display": true,
   "toc_window_display": false
  }
 },
 "nbformat": 4,
 "nbformat_minor": 2
}
