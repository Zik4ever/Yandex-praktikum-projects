{
 "cells": [
  {
   "cell_type": "markdown",
   "metadata": {
    "toc": true
   },
   "source": [
    "<h1>Содержание<span class=\"tocSkip\"></span></h1>\n",
    "<div class=\"toc\"><ul class=\"toc-item\"><li><span><a href=\"#Подготовка\" data-toc-modified-id=\"Подготовка-1\"><span class=\"toc-item-num\">1&nbsp;&nbsp;</span>Подготовка</a></span></li><li><span><a href=\"#Обучение\" data-toc-modified-id=\"Обучение-2\"><span class=\"toc-item-num\">2&nbsp;&nbsp;</span>Обучение</a></span></li><li><span><a href=\"#Выводы\" data-toc-modified-id=\"Выводы-3\"><span class=\"toc-item-num\">3&nbsp;&nbsp;</span>Выводы</a></span></li><li><span><a href=\"#Чек-лист-проверки\" data-toc-modified-id=\"Чек-лист-проверки-4\"><span class=\"toc-item-num\">4&nbsp;&nbsp;</span>Чек-лист проверки</a></span></li></ul></div>"
   ]
  },
  {
   "cell_type": "markdown",
   "metadata": {},
   "source": [
    "# Проект для «Викишоп»"
   ]
  },
  {
   "cell_type": "markdown",
   "metadata": {},
   "source": [
    "Интернет-магазин «Викишоп» запускает новый сервис. Теперь пользователи могут редактировать и дополнять описания товаров, как в вики-сообществах. То есть клиенты предлагают свои правки и комментируют изменения других. Магазину нужен инструмент, который будет искать токсичные комментарии и отправлять их на модерацию. \n",
    "\n",
    "Обучите модель классифицировать комментарии на позитивные и негативные. В вашем распоряжении набор данных с разметкой о токсичности правок.\n",
    "\n",
    "Постройте модель со значением метрики качества *F1* не меньше 0.75. \n",
    "\n",
    "**Инструкция по выполнению проекта**\n",
    "\n",
    "1. Загрузите и подготовьте данные.\n",
    "2. Обучите разные модели. \n",
    "3. Сделайте выводы.\n",
    "\n",
    "Для выполнения проекта применять *BERT* необязательно, но вы можете попробовать.\n",
    "\n",
    "**Описание данных**\n",
    "\n",
    "Данные находятся в файле `toxic_comments.csv`. Столбец *text* в нём содержит текст комментария, а *toxic* — целевой признак."
   ]
  },
  {
   "cell_type": "markdown",
   "metadata": {},
   "source": [
    "## Подготовка"
   ]
  },
  {
   "cell_type": "code",
   "execution_count": 1,
   "metadata": {},
   "outputs": [],
   "source": [
    "import pandas as pd\n",
    "import numpy as np\n",
    "import matplotlib.pyplot as plt\n",
    "from sklearn.model_selection import train_test_split\n",
    "from sklearn.linear_model import LinearRegression\n",
    "from sklearn.metrics import accuracy_score\n",
    "from sklearn.metrics import r2_score\n",
    "from sklearn.metrics import mean_absolute_error\n",
    "from sklearn.metrics import roc_auc_score\n",
    "from sklearn.metrics import f1_score\n",
    "from sklearn.utils import shuffle\n",
    "from sklearn.metrics import roc_curve\n",
    "from sklearn.model_selection import cross_val_score\n",
    "from sklearn.metrics import mean_squared_error\n",
    "from sklearn.tree import DecisionTreeRegressor\n",
    "from sklearn.ensemble import RandomForestRegressor\n",
    "from sklearn.ensemble import RandomForestClassifier\n",
    "from sklearn.linear_model import LogisticRegression\n",
    "from sklearn.tree import DecisionTreeClassifier\n",
    "from collections import Counter\n",
    "from sklearn.dummy import DummyRegressor\n",
    "from catboost import CatBoostClassifier\n",
    "import lightgbm as lgb\n",
    "from lightgbm import LGBMRegressor\n",
    "from pymystem3 import Mystem\n",
    "import re\n",
    "from sklearn.feature_extraction.text import CountVectorizer\n",
    "import nltk\n",
    "from nltk.corpus import stopwords\n",
    "from sklearn.feature_extraction.text import TfidfVectorizer\n",
    "from nltk.stem import WordNetLemmatizer\n",
    "from lightgbm import LGBMClassifier"
   ]
  },
  {
   "cell_type": "code",
   "execution_count": 2,
   "metadata": {},
   "outputs": [
    {
     "data": {
      "text/html": [
       "<div>\n",
       "<style scoped>\n",
       "    .dataframe tbody tr th:only-of-type {\n",
       "        vertical-align: middle;\n",
       "    }\n",
       "\n",
       "    .dataframe tbody tr th {\n",
       "        vertical-align: top;\n",
       "    }\n",
       "\n",
       "    .dataframe thead th {\n",
       "        text-align: right;\n",
       "    }\n",
       "</style>\n",
       "<table border=\"1\" class=\"dataframe\">\n",
       "  <thead>\n",
       "    <tr style=\"text-align: right;\">\n",
       "      <th></th>\n",
       "      <th>text</th>\n",
       "      <th>toxic</th>\n",
       "    </tr>\n",
       "  </thead>\n",
       "  <tbody>\n",
       "    <tr>\n",
       "      <td>0</td>\n",
       "      <td>Explanation\\nWhy the edits made under my usern...</td>\n",
       "      <td>0</td>\n",
       "    </tr>\n",
       "    <tr>\n",
       "      <td>1</td>\n",
       "      <td>D'aww! He matches this background colour I'm s...</td>\n",
       "      <td>0</td>\n",
       "    </tr>\n",
       "    <tr>\n",
       "      <td>2</td>\n",
       "      <td>Hey man, I'm really not trying to edit war. It...</td>\n",
       "      <td>0</td>\n",
       "    </tr>\n",
       "    <tr>\n",
       "      <td>3</td>\n",
       "      <td>\"\\nMore\\nI can't make any real suggestions on ...</td>\n",
       "      <td>0</td>\n",
       "    </tr>\n",
       "    <tr>\n",
       "      <td>4</td>\n",
       "      <td>You, sir, are my hero. Any chance you remember...</td>\n",
       "      <td>0</td>\n",
       "    </tr>\n",
       "  </tbody>\n",
       "</table>\n",
       "</div>"
      ],
      "text/plain": [
       "                                                text  toxic\n",
       "0  Explanation\\nWhy the edits made under my usern...      0\n",
       "1  D'aww! He matches this background colour I'm s...      0\n",
       "2  Hey man, I'm really not trying to edit war. It...      0\n",
       "3  \"\\nMore\\nI can't make any real suggestions on ...      0\n",
       "4  You, sir, are my hero. Any chance you remember...      0"
      ]
     },
     "execution_count": 2,
     "metadata": {},
     "output_type": "execute_result"
    }
   ],
   "source": [
    "df = pd.read_csv('/datasets/toxic_comments.csv')\n",
    "df.head()"
   ]
  },
  {
   "cell_type": "code",
   "execution_count": 3,
   "metadata": {},
   "outputs": [
    {
     "name": "stdout",
     "output_type": "stream",
     "text": [
      "<class 'pandas.core.frame.DataFrame'>\n",
      "RangeIndex: 159571 entries, 0 to 159570\n",
      "Data columns (total 2 columns):\n",
      "text     159571 non-null object\n",
      "toxic    159571 non-null int64\n",
      "dtypes: int64(1), object(1)\n",
      "memory usage: 2.4+ MB\n"
     ]
    }
   ],
   "source": [
    "df.info()"
   ]
  },
  {
   "cell_type": "code",
   "execution_count": 4,
   "metadata": {},
   "outputs": [
    {
     "data": {
      "text/html": [
       "<div>\n",
       "<style scoped>\n",
       "    .dataframe tbody tr th:only-of-type {\n",
       "        vertical-align: middle;\n",
       "    }\n",
       "\n",
       "    .dataframe tbody tr th {\n",
       "        vertical-align: top;\n",
       "    }\n",
       "\n",
       "    .dataframe thead th {\n",
       "        text-align: right;\n",
       "    }\n",
       "</style>\n",
       "<table border=\"1\" class=\"dataframe\">\n",
       "  <thead>\n",
       "    <tr style=\"text-align: right;\">\n",
       "      <th></th>\n",
       "      <th>toxic</th>\n",
       "    </tr>\n",
       "  </thead>\n",
       "  <tbody>\n",
       "    <tr>\n",
       "      <td>count</td>\n",
       "      <td>159571.000000</td>\n",
       "    </tr>\n",
       "    <tr>\n",
       "      <td>mean</td>\n",
       "      <td>0.101679</td>\n",
       "    </tr>\n",
       "    <tr>\n",
       "      <td>std</td>\n",
       "      <td>0.302226</td>\n",
       "    </tr>\n",
       "    <tr>\n",
       "      <td>min</td>\n",
       "      <td>0.000000</td>\n",
       "    </tr>\n",
       "    <tr>\n",
       "      <td>25%</td>\n",
       "      <td>0.000000</td>\n",
       "    </tr>\n",
       "    <tr>\n",
       "      <td>50%</td>\n",
       "      <td>0.000000</td>\n",
       "    </tr>\n",
       "    <tr>\n",
       "      <td>75%</td>\n",
       "      <td>0.000000</td>\n",
       "    </tr>\n",
       "    <tr>\n",
       "      <td>max</td>\n",
       "      <td>1.000000</td>\n",
       "    </tr>\n",
       "  </tbody>\n",
       "</table>\n",
       "</div>"
      ],
      "text/plain": [
       "               toxic\n",
       "count  159571.000000\n",
       "mean        0.101679\n",
       "std         0.302226\n",
       "min         0.000000\n",
       "25%         0.000000\n",
       "50%         0.000000\n",
       "75%         0.000000\n",
       "max         1.000000"
      ]
     },
     "execution_count": 4,
     "metadata": {},
     "output_type": "execute_result"
    }
   ],
   "source": [
    "df.describe()"
   ]
  },
  {
   "cell_type": "code",
   "execution_count": 5,
   "metadata": {},
   "outputs": [
    {
     "data": {
      "text/plain": [
       "text     159571\n",
       "toxic         2\n",
       "dtype: int64"
      ]
     },
     "execution_count": 5,
     "metadata": {},
     "output_type": "execute_result"
    }
   ],
   "source": [
    "df.nunique()"
   ]
  },
  {
   "cell_type": "markdown",
   "metadata": {},
   "source": [
    "Из первичного анализа данных мы видим что у нас в наличии достаточно объемный датафрейм с сообщениями на английском языке, пропусков нет, баланс токсичных и не токсичных где то около 1 к 9, возможно для улучшения модели потребуется сбалансировать их. А пока у нас следующий план действий:\n",
    "\n",
    "1) Подобрать бибилиотеку для лемматизации текстов. Pymystem насколько я помню заточен на работу с русскими текстами, но нам ничего не мешает попробовать. Из того что давалось в теории я склоняюсь к nltk.\n",
    "\n",
    "2) Написать функции для отчистки, лемматизации и избавления от стоп слов.\n",
    "\n",
    "3) Преобразовать предложения в матрицы.\n",
    "\n",
    "4) Сделать сбалансированную выборку данных.\n",
    "\n",
    "5) Разделить на выборки и обучить модели."
   ]
  },
  {
   "cell_type": "code",
   "execution_count": 6,
   "metadata": {},
   "outputs": [],
   "source": [
    "corpus = list(df['text'])"
   ]
  },
  {
   "cell_type": "code",
   "execution_count": 7,
   "metadata": {},
   "outputs": [],
   "source": [
    "def clear_text(text):\n",
    "    eng_text = re.sub(r'[^a-zA-Z]', ' ', text)\n",
    "    eng_text_split = eng_text.split()\n",
    "    text = ' '.join(eng_text_split)\n",
    "    return(text)"
   ]
  },
  {
   "cell_type": "code",
   "execution_count": 8,
   "metadata": {},
   "outputs": [],
   "source": [
    "def lemmatizer(text):\n",
    "    m = Mystem()\n",
    "    lemm_list = m.lemmatize(text)\n",
    "    lemm_text = ' '.join(lemm_list)  \n",
    "    return lemm_text"
   ]
  },
  {
   "cell_type": "markdown",
   "metadata": {},
   "source": [
    "Сделаем переменную для проверки функций."
   ]
  },
  {
   "cell_type": "code",
   "execution_count": 9,
   "metadata": {},
   "outputs": [
    {
     "name": "stdout",
     "output_type": "stream",
     "text": [
      "Explanation Why the edits made under my username Hardcore Metallica Fan were reverted They weren t vandalisms just closure on some GAs after I voted at New York Dolls FAC And please don t remove the template from the talk page since I m retired now\n"
     ]
    },
    {
     "data": {
      "text/plain": [
       "'Explanation   Why   the   edits   made   under   my   username   Hardcore   Metallica   Fan   were   reverted   They   weren   t   vandalisms   just   closure   on   some   GAs   after   I   voted   at   New   York   Dolls   FAC   And   please   don   t   remove   the   template   from   the   talk   page   since   I   m   retired   now \\n'"
      ]
     },
     "execution_count": 9,
     "metadata": {},
     "output_type": "execute_result"
    }
   ],
   "source": [
    "c_corpus = clear_text(corpus[0])\n",
    "print(c_corpus)\n",
    "lemmatizer(c_corpus)"
   ]
  },
  {
   "cell_type": "markdown",
   "metadata": {},
   "source": [
    "Cудя по данному примеру, pymystem не особо подходит для лемматизации английский текстов, в таком случае лемматизируем с помощью nltk."
   ]
  },
  {
   "cell_type": "code",
   "execution_count": 10,
   "metadata": {},
   "outputs": [
    {
     "name": "stderr",
     "output_type": "stream",
     "text": [
      "[nltk_data] Downloading package stopwords to /home/jovyan/nltk_data...\n",
      "[nltk_data]   Unzipping corpora/stopwords.zip.\n"
     ]
    }
   ],
   "source": [
    "nltk.download('stopwords')\n",
    "stop_words = set(stopwords.words('english'))"
   ]
  },
  {
   "cell_type": "code",
   "execution_count": 11,
   "metadata": {},
   "outputs": [],
   "source": [
    "lemmatizer = WordNetLemmatizer()"
   ]
  },
  {
   "cell_type": "code",
   "execution_count": 12,
   "metadata": {},
   "outputs": [],
   "source": [
    "def lemmatize_nltk(sentence):\n",
    "    word_list = nltk.word_tokenize(sentence)\n",
    "    lemmatized_output = ' '.join([lemmatizer.lemmatize(w) for w in word_list])\n",
    "    return(lemmatized_output)"
   ]
  },
  {
   "cell_type": "code",
   "execution_count": 13,
   "metadata": {},
   "outputs": [
    {
     "data": {
      "text/plain": [
       "'Explanation Why the edits made under my username Hardcore Metallica Fan were reverted They weren t vandalism just closure on some GAs after I voted at New York Dolls FAC And please don t remove the template from the talk page since I m retired now'"
      ]
     },
     "execution_count": 13,
     "metadata": {},
     "output_type": "execute_result"
    }
   ],
   "source": [
    "lemmatize_nltk(c_corpus)"
   ]
  },
  {
   "cell_type": "code",
   "execution_count": 14,
   "metadata": {},
   "outputs": [],
   "source": [
    "def stop_words_cleaning(sentence):\n",
    "    filtered_sentence = []\n",
    "    word_list = nltk.word_tokenize(sentence)\n",
    "    for w in word_list:\n",
    "        if w not in stop_words:\n",
    "            filtered_sentence.append(w)\n",
    "    clear_sentence = ' '.join(filtered_sentence)\n",
    "    return(clear_sentence)"
   ]
  },
  {
   "cell_type": "code",
   "execution_count": 15,
   "metadata": {},
   "outputs": [
    {
     "data": {
      "text/plain": [
       "'Explanation Why edits made username Hardcore Metallica Fan reverted They vandalisms closure GAs I voted New York Dolls FAC And please remove template talk page since I retired'"
      ]
     },
     "execution_count": 15,
     "metadata": {},
     "output_type": "execute_result"
    }
   ],
   "source": [
    "stop_words_cleaning(c_corpus)"
   ]
  },
  {
   "cell_type": "code",
   "execution_count": 16,
   "metadata": {
    "scrolled": true
   },
   "outputs": [
    {
     "data": {
      "text/plain": [
       "['Explanation Why edits made username Hardcore Metallica Fan reverted They vandalism closure GAs I voted New York Dolls FAC And please remove template talk page since I retired',\n",
       " 'D aww He match background colour I seemingly stuck Thanks talk January UTC',\n",
       " 'Hey man I really trying edit war It guy constantly removing relevant information talking edits instead talk page He seems care formatting actual info',\n",
       " 'More I make real suggestion improvement I wondered section statistic later subsection type accident I think reference may need tidying exact format ie date format etc I later one else first preference formatting style reference want please let know There appears backlog article review I guess may delay reviewer turn It listed relevant form eg Wikipedia Good article nomination Transport',\n",
       " 'You sir hero Any chance remember page',\n",
       " 'Congratulations well use tool well talk',\n",
       " 'COCKSUCKER BEFORE YOU PISS AROUND ON MY WORK',\n",
       " 'Your vandalism Matt Shirvington article reverted Please banned',\n",
       " 'Sorry word nonsense offensive Anyway I intending write anything article wow would jump vandalism I merely requesting encyclopedic one use school reference I selective breeding page almost stub It point animal breeding short messy article give info There must someone around expertise eugenics',\n",
       " 'alignment subject contrary DuLithgow',\n",
       " 'Fair use rationale Image Wonju jpg Thanks uploading Image Wonju jpg I notice image page specifies image used fair use explanation rationale use Wikipedia article constitutes fair use In addition boilerplate fair use template must also write image description page specific explanation rationale using image article consistent fair use Please go image description page edit include fair use rationale If uploaded fair use medium consider checking specified fair use rationale page You find list image page edited clicking contribution link located top Wikipedia page logged selecting Image dropdown box Note fair use image uploaded May lacking explanation deleted one week uploaded described criterion speedy deletion If question please ask Media copyright question page Thank talk contribs Unspecified source Image Wonju jpg Thanks uploading Image Wonju jpg I noticed file description page currently specify created content copyright status unclear If create file need specify owner copyright If obtained website link website taken together restatement website term use content usually sufficient information However copyright holder different website publisher copyright also acknowledged As well adding source please add proper copyright licensing tag file one already If created took picture audio video tag used release GFDL If believe medium meet criterion Wikipedia Fair use use tag one tag listed Wikipedia Image copyright tag Fair use See Wikipedia Image copyright tag full list copyright tag use If uploaded file consider checking specified source tagged You find list file uploaded following link Unsourced untagged image may deleted one week tagged described criterion speedy deletion If image copyrighted non free license per Wikipedia Fair use image deleted hour If question please ask Media copyright question page Thank talk contribs',\n",
       " 'bbq man let discus maybe phone',\n",
       " 'Hey talk What exclusive group WP TALIBANS good destroying self appointed purist GANG UP one asks question abt ANTI SOCIAL DESTRUCTIVE non contribution WP Ask Sityush clean behavior issue nonsensical warning',\n",
       " 'Before start throwing accusation warning let review edit making ad hominem attack going strengthen argument merely make look like abusing power admin Now edit relevant probably single talked event int news late His absence notable since living ex president attend That certainly notable dedicating aircracft carrier I intend revert edit hope attracting attention admin willing look issue throw accusation around quite liberally Perhaps achieve level civility rational discussion topic resolve matter peacefully',\n",
       " 'Oh girl started argument She stuck nose belong I believe argument Yvesnimmo But like I said situation settled I apologized Thanks',\n",
       " 'Juelz Santanas Age In Juelz Santana year old came February th make Juelz turn making song The Diplomats The third neff signed Cam label Roc A Fella In year old coming single Santana Town Down So yes born He really could older Lloyd Banks And could birthday passed The homie neff year old Juelz death god forbid thinking equal Go caculator stop changing year birth My god',\n",
       " 'Bye Don look come think comming back Tosser',\n",
       " 'REDIRECT Talk Voydan Pop Georgiev Chernodrinski',\n",
       " 'The Mitsurugi point made sense argue include Hindi Ryo Sakazaki page include information',\n",
       " 'Don mean bother I see writing something regarding removing anything posted oh well acctually discus even better I like ask take closer look Premature wrestling death catagory men listed surely men belong together catagory Is anything think catagory besides delting',\n",
       " 'Regarding recent edits Once please read WP FILMPLOT editing film article Your edits simply good entirely many unnecessary detail bad writing Please stop damage The',\n",
       " 'Good know About yeah I studying Deepu',\n",
       " 'Snowflakes NOT always symmetrical Under Geometry stated A snowflake always six symmetric arm This assertion simply true According Kenneth Libbrecht The rather unattractive irregular crystal far common variety http www caltech edu atomic snowcrystals myth myth htm perfection Someone really need take look site get FACTS I still see decent number falsity page forgive Im new dont want edit anything',\n",
       " 'The Signpost September Read Signpost full Single page Unsubscribe',\n",
       " 'Re considering st paragraph edit I understand reason recent edit article I sure data necessarily wrong Rather I persuaded strategy introducing academic honor first paragraph unhelpful approach specific subject I note article sitting Justices similarly enhanced I also believe change improvement In support view edit reverted I would invite anyone visit article written following pair jurist A Benjamin Cardozo A Learned Hand B John Marshall Harlan B John Marshall Harlan II The question becomes Would current version Wikipedia article one either pair improved academic credential introductory paragraph I think Perhaps help repeat wry argument Kathleen Sullivan Stanford Law make suggests Harvard Law faculty wonder Antonin Scalia avoided learning others managed grasp process judging I would hope anecdote gently illustrates point Less humorous even stronger argument one Clarence Thomas make mention wanting return law degree Yale At minimum I questioning edit It deserves reconsidered',\n",
       " 'Radial symmetry Several extinct lineage included Echinodermata bilateral Homostelea even asymmetrical Cothurnocystis Stylophora',\n",
       " 'There need apologize A Wikipedia article made reconciling knowledge subject different source done history study archaeology study I guess I could scan page e mail could ask someone translate page',\n",
       " 'Yes mother child case Michael Jackson studied motif reasoning judged upon character harshly Wacko Jacko Don tell ignore incriminate I going continue refuting bullshit Jayjg keep throwing Jun UTC',\n",
       " 'Ok But take bit work I quite picture Do example I base Duck',\n",
       " 'A barnstar The Real Life Barnstar let u star',\n",
       " 'How could I post block expires The funny thing think I uncivil',\n",
       " 'Not sure heading Fight Freedom contain',\n",
       " 'Praise looked article month ago much improved',\n",
       " 'I able post list quickly I already text file hard drive I meaning get around updating sound list time As far generating interest I spent four year trying drum interest freely licensed full length classical music Unfortunately attempt failed I still effectively one The classical music wikiproject interested Wikipedia talk WikiProject Classical music Archive Need help Wikipedia talk WikiProject Music Archive I could use helpWikipedia talk WikiProject Music Archive Raulbot C music list So I really given trying interest others The sound list featured digg back http digg com music Wikipedia free classical music downloads It got diggs IMO impressive',\n",
       " 'Well process thing subpages His RfA listed NoSeptember page find look September I think I difference El C sure surprised see block I left note c',\n",
       " 'Not making straw man argument I never claimed O Donohue position rather practitioner researcher field ignored DSM position exactly quote say also something O Donohue agrees Again I combating notion absurd part claim pedophilia sexual orientation Since many researcher hold position would unfair call absurd The disorder part divided field argue disorder At end day value judgment Cantor pointed earlier thread scientific judgement If choose make value judgment article stated clearly pretend scientific basis',\n",
       " 'Mainland Asia includes lower basin China Yangtze River well Korea But specific fine I found citation comprehensive DNA study Hammer rather generarizations speculation far Citation Yayoi culture brought Japan migrant Korea turn trace root southeast Asia south China DNA study Hammer Describes Yayoi migration Korea based O SRY gene gene close lineage haplogroups O M O M Reiterates entire O haplogroup proposed Southeast Asian origin Their definition Southeast Asia includes southern China Then hypothesizes dispersal Neolithic farmer Southeast Asia also brought haplogroup O lineage Korea eventually Japan In concluding paragraph state propose Yayoi Y chromosome descend prehistoric farmer origin southeastern Asia perhaps going back origin agriculture region Hammer DNA study based global sample consisted male Asian population including six population sampled across Japanese archipelago',\n",
       " 'pretty much everyone warren county surrounding region born glen fall hospital included however sure qualifies anyone glen fall native rachel ray believe actually town lake luzerne The preceding unsigned comment added August UTC',\n",
       " 'Hi Explicit block O Fenian edit warring Giant Causeway wp He made several edits described terrorism',\n",
       " 'Notability Rurika Kasuga A tag placed Rurika Kasuga requesting speedily deleted Wikipedia This done article seems person group people band club company web content indicate subject notable article subject included Wikipedia Under criterion speedy deletion article assert notability may deleted time Please see guideline generally accepted notable indicate subject article notable may contest tagging To add top page existing db tag leave note article talk page explaining position Please remove speedy deletion tag hesitate add information article would confirm subject notability guideline For guideline specific type article may want check criterion biography web site band company Feel free leave note talk page question',\n",
       " 'Sure lead must briefly summarize Armenia history I simply added I found necessary If anyone think sentence redundant lead welcome remove make edits talk',\n",
       " 'TFD I think eced I think responded without seeing others response I added something response know saw mine T C WP CHICAGO WP FOUR',\n",
       " 'You gay antisemmitian Archangel WHite Tiger Meow Greetingshhh Uh two way erased comment WW holocaust brutally slaying Jews gay Gypsys Slavs anyone If anti semitian shave head bald go skinhead meeting If doubt word Bible homosexuality deadly sin make pentagram tatoo forehead go satanistic mass gay pal First last warning fucking gay I appreciate nazi shwain would write page I wish talk anymore Beware Dark Side',\n",
       " 'FUCK YOUR FILTHY MOTHER IN THE ASS DRY',\n",
       " 'I Sorry I sorry I screwed around someone talk page It bad I know template talk page help assert dominance I know I bow almighty administrator But I going go play outside mom',\n",
       " 'I believe Lisak criticism present conforms NPV rule Lisak neutral point view begin If offer polygraph even concerned review polygraph result shock complainant thinking lie uncovered recantation still perfectly valid If know telling truth argue machine investigator Also part Kanin research followup recanted story possible verify false recantation In followup recanted version event matched accused said happened Arguing Lisak respected PHD baseless Kanin respected PHD I agree edit neutral possible though apologize Still something must done',\n",
       " 'You point ammended appropriate encyclopedic notability significance',\n",
       " 'In word lazy actually point anything Until change approach tag go',\n",
       " 'As claim stalking absolute rubbish serf aggravate situation I assumed good faith good intention part never suggested seen reason suggest might ulterior motive mass adding link one specific company web page Nor matter I ever made suggestion administrative matter even mentioned role Clearly party disagreement I would rate would conflict interest I would ask thus extend good faith toward rather making spurious unfounded accusation chatspy',\n",
       " 'Jmabel regard predominant scholary consensus allegedly claim despite Third Way rhetoric fascism power functioned rather consistently right wing force As far I aware owning numerous book subject scholary consensus The consensus developed respected scholar fascism write manner bias interest group Roger Griffin Hamish McDonald Roger Eatwell Zeev Sternhell recongise fascism Third Way reference show The dissenter I aware seem think fascism absoutely leftist connection merely radical right system street level socialist want put much distance movement possible This course come educated people position write book For example even foremost scholary expert Fascism former member Communist Party Socialist Party Italy Renzo De Felice try cover socialistic origin third way status This man wrote definitive seven volume piece Mussolini',\n",
       " 'BI said wanted talk At bottom lead section written Its promoter speculated skyhook concept could cost competitive realistically thought achievable using space elevator skyhook competitive rotating tether concept In addition rotating skyhook fact deemed engineeringly feasible using presently available material Regarding In addition rotating skyhook fact deemed engineeringly feasible using presently available material That statement appears come Ref page The full quote If mass tether alone started exceed time mass payload indication particular scenario considered engineeringly feasible using presently available material although application might become feasible near future better material become available higher tensile strength higher operational temperature It go say As shall see presently available commercial material suffice make HASTOL tether needed The primary message want leave Reader We need magic material like Buckminster Fuller carbon nanotube make space tether facility HASTOL system Existing material So would appear misread reference The tether mass time mass payload mass upper limit problem Systems tether mass le time payload mass built presently available commercial material To reinforce Conclusion report state The fundamental conclusion Phase I HASTOL study effort concept technically feasible We evaluated number alternate system configuration allow hypersonic air breathing vehicle technology combined orbiting spinning space tether technology provide method moving payload surface Earth Earth orbit For one HASTOL architecture concept developed design solution using existing near term technology We expect number HASTOL architecture concept prove similarly technically feasible subjected detailed design study The system completely reusable potential drastically reducing cost Earth orbit space access Regarding skyhook competitive rotating tether concept A Boeing report possibillity combining skyhook hypersonic plane concluded In general non spinning tether HyperSkyhook concept look competitive spinning tether concept The full quote HyperSkyhook In Zubrin proposed Hypersonic Skyhook solution mismatch attainable atmospheric speed hypersonic airplane orbital speed space tether Since orbital speed space tether decrease increasing altitu',\n",
       " 'GET FUCKED UP GET FUCKEEED UP GOT A DRINK THAT YOU CANT PUT DOWN GET FUCK UP GET FUCKED UP I M FUCKED UP RIGHT NOW',\n",
       " 'Are threatening disputing neutrality I know country quite common bully way discussion push outcome want But Russia',\n",
       " 'Thanks Undeletion I hoped I researching status Texas government including local government copyright status slow going Apparently work Florida government usually public domain similar article Texas I guess I research old fashioned non lazy actually reliable way Or ask copyright help desk like suggested In meantime I using fair use rationale since valid image used article Thanks',\n",
       " 'Awesome Then I simply disregard notice Thanks',\n",
       " 'Stupid peace shit stop deleting stuff asshole go die fall hole go hell',\n",
       " 'Tony Sidaway obviously fistfuckee He love arm as',\n",
       " 'GA Review II I sorry say I fail article GAN The several major problem brought article previous GA assessment issued As said article WP LEAD longer The History Media attention Academics Student Government Demographics Trivia Additional Information section deficient citiations Also Triva Additional information integrated rest article Again please look WP WIAGA fix problem renominate GA class However I assessed article B class meet B class criterion My regard',\n",
       " 'My Band Page deletion You thought I gone Deleting comment I posted talk page delete feeling hasty decision delete page You sir still cock sucking douche fuck Sit back second think life become Done That take long Nope Because I certainly aware life shitstorm sitting front computer masturbating fictional creature Your attempt get rid mediocre best You constantly sucking dick failure You want personal attack huh Well bad Fuckcock McDickerson You got one From You go ahead delete profile wikipedia I make another one come right back Syrthiss talk page insult dick How could shatter dream innocent eighteen year old college freshman trying make name band Does make happy Fucking people overweight single old man dead end job Did spot perhaps someone else going follow dream trying hold back somebody else could suffer like Yes I make empty threat I saying anything along line hurt eat child within sister womb I say asshole son bitch mother fucking cock sucker So go eat food drown sorrow premature ejaculating bald headed fuck You something nice maybe go grab couple Horny Goat Weeds local convenience store jack little longer three minute tonight Sincerely An Asshole That Better Than You In Every Way',\n",
       " 'Why believe fat Artie Did see recent appearence Tonight Show Jay Leno He look absolutely AWFUL If I put money I say Artie Lange miss candidate Dead pool Kindly keep malicious finger comment Everytime remove I repost',\n",
       " 'Locking page would also violate WP NEWBIES Whether like conservative Wikipedians',\n",
       " 'A Bisexual like homosexual heterosexual defined sexual activity Much like year old boy attracted girl sexually never sex still straight A person actually sexually attracted aroused sex well opposite sex bisexual',\n",
       " 'REDIRECT Talk Frank Herbert Mason',\n",
       " 'Christian arab Hi Could please stop enforcing category Christian arab non arabic Christians living middle east This wrong We middle eastern Christians though arab gone Arabization need stop We arab We ethnicity forced called Christian arab If Christian European born middle east called Christian arab reason alone Please understand Syriac Christians e Assyrian ancestry speak Aramaic though lot forgetting As someone speaks Aramaic respect fact appease muslim want call everyone arab middle east We closely related arab Saudiarabia We ethnicity please stop forcing upon u alien arab ethnicity That oppression Talk Jun UTC',\n",
       " 'DH Dude ABC officially say THIS name episode I know already episode name ABC say Everybody Says Don',\n",
       " 'All edits good Cunts like revert good edits stupid understand write well revert edits decided bear playground grudge problem Maybe one day realise damage noble project',\n",
       " 'NeilN bang You harassed If edit disruptively get reverted Talk',\n",
       " 'I went around time certainly case time Later stopped taking child young age',\n",
       " 'There must chemical imbalance brain Are ok The gibberish guy writing really make feel sorry Don ever go law school You would legal profession bad',\n",
       " 'Parzival trying scare ThAtSo How say comment ThAtSo insulting ThAtSo trying suggest original research Wikipedia And right',\n",
       " 'Oppose As article stand properly reference WP REFERENCE guideline If issue resolved I issue moved mainspace',\n",
       " 'I would appreciate apology I see unlikely If Please waste time longer attempt trying justify either Plasma Physics transgression toward bother longer issue I SHALL LEAVE YOU ALONE seek others deserve considerate attention',\n",
       " 'They NOT original research pointed episode',\n",
       " 'Ambiguous So Mabuska Irish mean one thing I qoute Thanks Preceding unsigned comment added Of course The word Irish invented establishment Irish Free State Talk Quote want depends context term used whether applicable Note said citizenship ethnicity never mentioned nationality real key meaning The nationality meaning term predominantly used form Wikipedia In nationality term refers Republic Ireland But already know sure talk In nationality term refers Republic Ireland country nationality term refers Ireland Preceding unsigned comment added Oh wow Ireland Ireland state whose official description Republic Ireland Whats point inane conversation talk Ireland whose official name Ireland Preceding unsigned comment added http www constitution ie report ConstitutionofIreland pdf reading Also I see http www constitution ie report mbunreachtnaheireann pdf speak Preceding unsigned comment added',\n",
       " 'While magazine masthead say TIME corporate name Time Inc You easily look On hand ABN AMRO always corporate name You look well',\n",
       " 'Take belated piffling prevarication elsewhere Too late',\n",
       " 'That I looking look like around dick talk page though It nothing bad though look like inability express properly Thank concern also Cheers',\n",
       " 'In direction really necessary name US state recognize Why give number state This American encyclopedia universal one I see every single US state recognize named ix',\n",
       " 'December UTC You must play Metal Gear Solid often GW Arsenal Gear A I went haywire Solid Snake uploaded Emma virus',\n",
       " 'Hi I back Last warning Stop undoing edits die',\n",
       " 'Minimization textile effluent A proposed deletion template added article Minimization textile effluent suggesting deleted according proposed deletion process All contribution appreciated article may satisfy Wikipedia criterion inclusion deletion notice explain see also What Wikipedia Wikipedia deletion policy You may prevent proposed deletion removing notice please explain disagree proposed deletion edit summary talk page Also please consider improving article address issue raised Even though removing deletion notice prevent deletion proposed deletion process article may still deleted match speedy deletion criterion sent Articles Deletion may deleted consensus delete reached If agree deletion article person made substantial edits page please add top Minimization textile effluent',\n",
       " 'Is scientific attribute event A cause B cause B deliberate designed sort intelligent intent Don answer question beyond Well problem answering beyond example completely rigged There several major fundamental problem First completely fail mention fact intelligence behind ID quite literally earth Natural science might look honeycomb see built bee find odd looking fossilized honeycomb theorize made odd looking bee That fundamentally different saying made something earth ID core notion something OUTSIDE system observe cause This science sense word mythology When Paul Bunyan wrestling match babe blue ox kicked much dirt created great lake No evidence paul ox remain mean really Second natural science take approach knowledge nothing known scientific law unless irrefutable Theories must heavy supporting empirical data back ID turn head end run around knowledge play game probability If one say flagellum bacteria could formed naturally hell ID proponent come sort mathematically accurate PROBABILITY flagellum naturally forming bacteria If understand statistic ID jump right hurdle take anything complete detailed natural explanation jam statistic say well improbable happen someone MUST designed This perversion science You assign probability something understand ID making number Finally example A B B deliberate design well good rigged example except respect life earth B unknown Your A B example might qualify forensic science A dead body B bullet heart You see bunch dead body bullet heart next time see body bullet heart probably figure killed You life earth You ONE scenario A case observe test So sense A B scientific never actually observed B btw B teh intelligent designer NEVER observed So sense science',\n",
       " 'Screwjob Hey noticed comment Montreal Screwjob discussion page I decided since nobody except someone account objected said I would atleast change page little make fair I wanted tell I thought would like know I changed word top first paragraph added something second one If bothered thats fine I thought since fighting nothing even said I might aswell tell',\n",
       " 'April Thank experimenting page Andy Griffith Wikipedia Your test worked reverted removed Please use sandbox test want Take look welcome page would like learn contributing encyclopedia',\n",
       " 'Christ IQ selected therefore every population IQ Never cease amaze',\n",
       " 'Can prove If better knowledge English language would obvious',\n",
       " 'Would shut run wikipedia especially stupid kid',\n",
       " 'Oh vandalising xD See Greetings',\n",
       " 'Website Hey I thinking getting website display picture cheapest thing I could find I know others Fir Diliff guy website think legit Could provide better alternative Help guild member also appreciated Thanks talk',\n",
       " 'Thanks reading',\n",
       " 'Personal attack Fruit Brute VfD My apology I critical I feel many comment made Fruit Brute VfD debate far reasonable There diplomatic way disagree assertion initial sentence lie make look even juvenile Learn face goofed go long way life The attack age certainly border personal attack Were Bart forty sixty eighty would included comment juvenile I expect apologise anyone I want make clear I consider comment VfD debate inappropriate I think many member community would agree talk Feb UTC',\n",
       " 'Transliteration Russian place name In writing Moscow Metro Malayalam Wikipedia finding difficult correctly transliterate Russian place name For example pronounce Park Kultury PAARK KALTTARI PAARK KALCHCHARI perhaps something completely different Can somebody please help transliterating list given http ml wikipedia org wiki I putting list I want clutter page Thanks',\n",
       " 'Almost got I look see real talk',\n",
       " 'How one defame someone think Fort Hood Shooting justified God law',\n",
       " 'LACK OF BALANCE This article seriously balance It would benefit greatly introduction additional information negative aspect T Just record sort balance problem uncommon dependence work particular author For example testing evaluation T US Army Ordnance Dept exposed serious problem tank This type information included article bring back balance',\n",
       " 'Thanks I see violating clearly stated Wikipedia policy problem people reviewed elsewhere Finishing one wiki project todsy spending rest day important personal blog entry Then I go find discussion James Petras fascinating discussion use term Jewish Lobby I put back deleted Dissident Voice article right away per Talk Jewish lobby WP V comparing Jewish Virtual Library Dissident Voice Carol Moore talk',\n",
       " 'Hi Thanks kind word See around Talk',\n",
       " 'Collusion poker This regarded heinous form cheating poker perhaps mention example warranted',\n",
       " 'Thanks much however resolved today I write anything edit summary CAMERA put ad edit summary box equalvoice talk',\n",
       " 'You right get username able impact I saying And seem familiar everything probably username Just get one take second talk contribs',\n",
       " 'However Moonlite edit noted golden daph optus Wake wikkis So funny',\n",
       " 'Check following website http www iranchamber com personality farabi farabi php http www islam org br C A al farabi htm http www superbeyin com sohbet sohbet htm',\n",
       " 'believe one already put page Dilbert Desktop Games I',\n",
       " 'Well I asked provide diffs within one hour next edit made edit talk page provide diffs I requested within one hour edit I sanctioned failing provide requested diffs timely manner week still done Consequently request lift sanction denied',\n",
       " 'What page shoudld important character DON T reoccur Void Black Doom Mephiles etc',\n",
       " 'A pair jew hating weiner nazi schmuck',\n",
       " 'I tend think list longer rest article problem Either history characteristic expanded list culled I personally like consensus reached Tripel article others included We decided country origin highlighted example There Trappist Abbey Foreign Foreign includes non Belgium example This way article article encyclopedia list People find list anywhere article reference Also style statistic bad When say style statistic sound like prescription description An encyclopedia follow latter former used citation follow And find valid one style country origin',\n",
       " 'What If religiously politically motivated push issue please refrain talking page I interested Otherwise feel free talk relevant edits science Deleet talk I would prefer following user never post Maunus aunus snun w WeijiBaikeBianji This guy published psychology researcher right Perhaps know access library best source You point often It come across mind bendingly condescending Also I suspect editor racist See wiki',\n",
       " 'I vandalizing I fun man sense humor think I vandalizing stuff lemonparty org site',\n",
       " 'Welcome Wikipedia bla Discover Ekopedia practical encyclopedia alternative life technique bla Discover Ekopedia practical encyclopedia alternative life technique',\n",
       " 'Including appropriate mention Solomon article without level support',\n",
       " 'Comment I could verify claim talk',\n",
       " 'Czech Republic Central Europe The state article part reason people making confusion Especially ridiculous would replace mention North Caucasus favor north slope Caucasus Mountains isnt even geographical area denoting mountain region Countries located within continent yet reason refuse allow article denoted continent This single factor alone would made massive difference reader I tired arguing people essentially wiki squatter refusing nudge given article',\n",
       " 'Thanks Josette I enjoyed meeting I shocked decision begin reflect consensus Does one Grand Poobah make alone Serves right stealing time pressing real world duty indulge fun hobby I learned lesson waste time like I stick fixing little thing I run across I read article information',\n",
       " 'Paleontologists agree organic remains must buried quickly preserved long enough come fossilized However term fossilized precise term There several factor metamorphic mineral process occur organic remains result typically called fossil One major factor concern kind organism fossilized vertebrate invertebrate radiolarian sponge plant pollen foot print etc And multiple process may include permineralization recrystalization carbonization replacement dissolving diagenesis etc Talking fossilization complex issue however quick burial questioned The major question long take process work organic reamins environment found Experimental taphonomy resulted assortment remains becoming fossilized various process lab course implies given right condition vast age issue The metamorphic process ongoing equilibrium met chemical enviroument burial site mineral organic remains Flood catastrophic geologist expect organic remains buried flood completely fossilized within one year period flood rather year process working Much work need done taphonomy organic remains Yet one interprets even result depend upon world view choose believe',\n",
       " 'Also I think Vegetable Basket need Wikipedia page',\n",
       " 'Bigfoot Reference The magazine better known Engineering Mining Journal may difficult time finding depending live I ran across article year ago researching something else made copy It clearly derived press account treat incident joke My whole point citing show incident whatever entirely created year fact If leave email I scan page email PDF',\n",
       " 'Also see cant trust Murkoth Ramunni http book google com book id HHev U GfpEC pg PA dq Thiyya matrilineal hl en sa X ei TlpPUd aH mWiQLgvIDgBA ved CDYQ AEwAQ v onepage q Thiyya matrilineal f false',\n",
       " 'Chart performance Single Ladies Put Ring It Please take advice split paragraph section FAs generally short paragraph It hard boring ingest much information splitting paragraph improve flow TALK',\n",
       " 'hahahaha good one I removed',\n",
       " 'Having said I temporarily removed request based Cyde advice pending request consensus asked talk page I urge anyone reading vote know community want',\n",
       " 'Conformity healthy I may missed article seem address conformity healthy behaviour Such way conform grammar understood conform law recognise need orderly society',\n",
       " 'Hi I new wikipedia Read pandemic today I impressed quality information knowledge easily available elsewhere easily accessible format Thank creating content making accessible',\n",
       " 'Should say something view educationalist socialist political commentator Link http www langandlit ualberta ca Fall SteigelBainbridge html mention bit stood election candidate Respect',\n",
       " 'Sandbox Don take template sandbox It say remove reason Jan UTC',\n",
       " 'heh bit copy Wikipedia WikiProject Professional wrestling I thought look bit tidy better way',\n",
       " 'Ahh Hello Witzeman Symbols Characters Greek Cyrillic IPA My Famous Article witze happiness wikipedia The Witzeman great honour passed generation many family regardless race age character knowledge The outside world know little elusive character honour Witzeman For ever Witzeman said great honour although quality needed job never disclosed A person may Witzeman many year called former Witzemans via dream Associates Witzeman known certain Babe Cool much lesser known Witzewoman The Present Witzeman year old boy namely Benjamin Woods said become Witzeman felt awesome radiance top right bumcheek He told great number people testimony promised year come History The present world come enlightned knowledge Witzeman present year former Witzemen public honour abide formality conservativism time The term Witzeman compound word adjective Witze man witze th century term person extreme humour radiant intelligence Unfortuneatly Witze also sometimes associated bad wind unspeakable reason Proper History As early th century Witzemen considered outcast young child encouraged poke stick This led st Witzeman Rebellion current Witzeman follower attempted coup take local Council chess team This rebellion disgraced Witzeman follower embarassingly pronounced gaga Government meeting year The period early dark time Witzemans history However good time come Witzeman Many normal people took part mass demonstration protest Witzeman building great moment history Great Rebellion This several Witzeman sprinted round Visitors Gallery House Commons wearing clown mask otherwise completely naked This thought act circambulation However many people witnessed shocking behaviour mentally spiritually emotionallly scarred life This group people included many young child forced go asylum state mental instability suffering trauma It time Government finally took positive action Witzeman In bill right Witzeman signed stating Witzemen allowed pleased Although formal agreement many journalist viewed letter submission Government Witzeman behaviour Witzeman follower became twisted',\n",
       " 'OK finished planned cleanup todo page The entry removed copied investigated entry page record looked talk',\n",
       " 'On Dec NIST scientist said collapse tower magnitude seismically significant See Dr Wood The Scientific Method Applied Thermite Hypothesis paper tripod site mp link',\n",
       " 'The statement drawn Watchtower literature honestly clandescently hypocrisy drawn Watchtower literature via Ray Franz argument literature imposed Wikipedia article It much coincidence le follower Ray Franz going come reference Wa literature exactly connection Ray Franz make without first seen connection made Ray Franz literature Natural Nature',\n",
       " 'Sorry I checked come Dulas Bay Somehow I missed Dulas disambiguation page completely Apologies even getting particularly late night The onset swine flu perhaps',\n",
       " 'TCM I find evidence acupressure TCM rather derived TCM If one object I place citation note article',\n",
       " 'Well still need expansion area citation others image going get pic Stanley Cup banner tonight Hitmen game forgot camera thorough review copy edit someone better flair word I work progress lute',\n",
       " 'A redirect somewhere hurt though I still think candidate ideal But pass notability threshold day basic material still work',\n",
       " 'Meivazhi I go restarting Meivazhi article style standard Wikipedia article Someone would probably deleted pretty quickly stayed form posted I grateful could help Talk Meivazhi accuracy Unfortunately I remove link The conflict interest guideline advise editor linking site also Wikipedia attribution policy WP ATT requires information come third party published source rather personal website Do know good newspaper book account Meivazhi PS What salaimanimudi indlist com site A personal site member',\n",
       " 'Though certainly small article inconsequential warrant subsuming within Flame Trees article It discography article stand alone May',\n",
       " 'Yeah let merge content Not sure Devil Canyon type codename',\n",
       " 'Image YourTransitAd jpg I think I may able get better photo ad If I able okay I use replace current one I want check first anything',\n",
       " 'A cookie A cookie',\n",
       " 'LMAO n b Go listen manele',\n",
       " 'December UTC Yep LOL Reformist Party Serbia Reformist Party another go th last parliamentary election winning le vote notable actually mentioned By way something little people figured new Constitution Serbia brought enable Kosovo secession The Constitution barred possibility Kumanovo Military Technical Agreement signed NATO FRY SRS broke coalition SPS government collapsed causing new election unconstitutional act highest treason enough tried maximum sentence Radicals demanded death trial Serbia tried treason among reason This constitution release authority weight go prison recognize form loss sovereignty Kosovo',\n",
       " 'New WikiProject Novels initiative We begun new initiative WikiProject Novels improvement drive As member listed notified Please see Wikipedia talk WikiProject Novels Improvement Drive Wikipedia WikiProject Novels Collaboration detail Also I would like remind keep eye project talk page Wikipedia talk WikiProject Novels Thanks',\n",
       " 'Reply Are facetious would relayed message Jza MRSC word stern there If would like evidence claim made talk I glad provide You also failed provide diffs message regard word claiming offesive perhaps WP Assume good faith The two user constantly harass follow article making disruptive edits violation numerous Wikipedia guideline WP HARASS one For example removal third party reference article suit POV without entering edit summary considered Wikipedia guideline bad faith violation WP BLANK The violation WP NEO adding derogatory neologism article organisation personally agree despite made aware policy despite reference said organisation described said neologislm despite community majority constantly removing derogatory term The tag team practise shown used numerous editor edit article British culture trad county Again would like evidence ask It would seem however looking message talkpage especially lovely intertude UK mediation section Jza messaged somebody seems familiar violation WP CANVAS Specifically section Wikipedia CANVAS Campaigning may interest If going admin may I suggest please make familiar policy guideline I referenced message Rather accusing user cyberstalked personal attack Systematic bias acceptable make sure policy upheld chip sake friend Thanks',\n",
       " 'P S It polite talk people behind back please remove comment Mrph talk page Vaughan You right I went check previous edit found page Marvel site spelled Vaughn I finding many spell correctly Thanks edits',\n",
       " 'The Block Hi wondering confirmed Darren Jolly contestant The Block Thanks',\n",
       " 'Opinion Please Pt II As SRQ continues make personal remark said may I assume help WP RFC U Also I believe violated RR rule today Edit warring one accurate word ridiculous edit warring general Let make stop May I also ask wrong honest statement I made talk page mean hasty refactoring I appreciate assistance welcome question BTW pivotal accurate well referenced entry become peacock My understanding refers unneceessary editorializing precise vital info sequence event Thanks',\n",
       " 'Azari Azerbaijani Azari iranian azerbaijani turkic nation',\n",
       " 'Userbox Hello A userbox using Template User queerrights moved user space per WP GUS The new link leave question may still talk page Thank',\n",
       " 'If actually take time little bit research Bloodofox instead jumping perceive avenue pursue vendetta realised would colleague Kiyoweap probability kelpie water horse uisge different term used different place entity Which I challenged Kiyoweap produce something decent uisge I guarantee unable Corbett',\n",
       " 'From I seen editor Eric elephant room issue baiting poking bear whatever hell want call passive aggressive baiting No one want touch one even though uncivil hell appears tactic choice whenever someone want get rid someone get way That part saddens darkness',\n",
       " 'Socialistm There two important feature Smith concept invisible hand First Smith advocating social policy people act self interest rather describing observed economic reality people act interest Second Smith claiming self interest beneficial effect community He argue self interest always good merely argued view self interest necessarily bad It worth noting upon death Smith left much personal wealth charity Good Let make sure put forth idea Adam Smith socialist That wikipedia way',\n",
       " 'SORRY PUCK BUT NO ONE EVER SAID DICK WAS NUMBER ONE But clearly listed second Batman master detective martial artist trained mentioned combat discplines No need mention skill ability battle lost thats encylopia supposed Also problem going low end showing HIGH end showing proven match meta like Slade pinned Shiva one earliest appearences',\n",
       " 'The Alpha version multiplayer The Beta version',\n",
       " 'PD I seen apart article Coat arm Sahrawi Arab Democratic Republic also different article named Coat arm Western Sahara That show clearly user politically driven intention bad faith although claim neutral If neutral logically would work Coat arm Western Sahara article intead trying merge two article messing',\n",
       " 'We treating forum A question arose appropriately answered End story',\n",
       " 'Military history WikiProject Newsletter Issue II The April issue project newsletter You may read issue change format future issue delivered following link Thanks',\n",
       " 'Between unblock submission response le minute prof administrator pay enough attention case',\n",
       " 'Your request unblocked granted following reason Allowing username change GianLuigiPalermo Please put request Wikipedia Changing username soon possible avoid blocking Request handled Unblocking administrator Please check active autoblocks user accepting unblock request',\n",
       " 'Once I responded MileMoney reasoning edit I gave reasoning edit Yes absolutely relevant page There place discussion income inequality Progressive Tax article',\n",
       " 'UNBLOCK ME OR I LL GET MY LAWYERS ON TO YOU FOR BLOCKING MY CONSTITUTIONAL RIGHT TO FREE SPEECH',\n",
       " 'Attributing classifying personality Invitation Your input Culture Lithuania welcomed Some problem defining personality attributing certain well known ideological system may raise I propose quite liberal variant definition may connected one certain word Necessity however follow certain classifying remains My initial idea branch one concerning period Lithuanian national Renaissance period Some artist writer cultural worker period often described modernist This definition false concrete thing added specific Lithuania We distinguish leading idea Nat Renaissance later modernism known u Cultural aspiration later Nat Ren may defined modernism cultural context Lithuania But accented also expression Lithuanian cultural heritage expression may seen something simply typically Lithuanian I mean author iurlionis seen modernist Lithuanian context also even representative Lithuanian culture European World wide context A parallel example may taken literature India Poet Tagore well known Nobel price winner known u representative culture India Making India understandable closer western people concerned main input Western culture But country seen modernist changing traditional cultural form especially stagnated one This way also Lithuanian cultural leader N Ren could seen modernist broadening cultural form changing stagnated one Lithuanian context They also seen modernist wider context acquainting Western people Lithuanian culture direct input Western culture iurlionis best example In way later Lithuanian modernist depended mostly later generation approximately th decade th century concerned part Western modernistic movement main purpose looking generally introduce Western European idea Lithuanian cultural life see table We see two different movement two different world outlook The problem movement collaborated especially political wing interchange idea well seen So many researcher pay attention difference Especially Soviet period national idea officially forbidden mixture description movement allowed E g philosopher Ram na Bytautas clearly depends first generation often described liberal And may understood sense second generation idea liberalism period generation artist writer philosopher etc context Lithuania European context The National Renaissance period younger generation approx painter composer iurlionis painter Kazys imonis poet philosopher Vilius Storastas Vyd na dramatist Sofija Kymantait iurlionien poet Adomas Jak ta Motiejus Gustaitis Liudas Gira composer Stasys imkus philosopher Ram na Bytautas reformer innovator Lithuanian culture Representatives Lithuanian culture almost unknown The period WWI WWII post war year poet V Mykolaitis Putinas Kazys Binkis writer Ignas einius Jurk na artist ar group philosopher Juozas Girnius Modernists introducing new Western idea Lithuanian cultural life Central European modernism Note Lists personality complete made precisely prominence Jul UTC',\n",
       " 'Actually direct quote quotation mark attributed generally known plagiarism copyright infringement But NYT material issue well know The material Jewish Action Taskforce problem',\n",
       " 'Katelyn Faber Could weigh bottom Talk Page Katelyn Faber regarding inclusion image Template User Totalbox Thanks reverting Esperanza Newsletter Issue style border spacing px margin px px width class MainPageBG style width border px solid cef e background color f fffa vertical align top color Reach outReach program aimed allowing user bring issue Wikipedia listening sympathetic caring audience No one know feel say We expect get understanding ask No one dispute sometimes life issue much one person It fair say sometimes Wikipedia problem fall heading This place bring bruise sometimes got project attention Stress AlertsThe Stress alert program aim identifying user stressed alerting community thier stress work tandem Stressbusters trying identify cause stress eliminating Note editorWelcome new format Esperanza Newsletter came last Advisory Council meeting hope like The major change month right Council meeting sent include two featured program sum meeting Also signed Advisory Council member Have Esperanzial end March everyone class MainPageBG style width border px solid cedff background color f faff vertical align top width cellpadding cellspacing style vertical align top background color f faff The last AC meeting full log style color Future meeting held monthly fortnightly Bans Access level change apart autovoice IRC channel reported new log In IRC channel going one bot time The charter requires member edits week editing Why case clarified A new Code Conduct drafted proposed Esperanza community The NPA reform idea dropped officially Charter ammendments discussed future voted The Advisory Council going proposed expanded Advisory Council others want propose listen',\n",
       " 'Fradulent claim I certainly sockpuppet TheChief please retract fradulent claim',\n",
       " 'That quick limit discussion changing title considering previous discussion month valid reason move',\n",
       " 'July UTC P S Feel free leave message talk page need help anything simply wish say hello',\n",
       " 'And course Peiser social anthropologist He one whose recent research focused primarily social aspect climate change thus least qualified comment state consensus historian Regarding study published peer reviewed journal result appeared many reliable source In effect treated differently Peiser scientist verbally relayed conclusion directly reporter Literally ten thousand Wiki article contain reference direct quote scientist appear source medium reputable reporter',\n",
       " 'Hi Hi good day My deepest apology I made change I made change I On day I day line straightest one straight line biggest brightest highest star sky head clock strike exactly noon day The date I provided It beautiful thing I ever see I know many thing need prove I know I saw day It okay black white prove needed I My sincere apology trouble I cause I south east Asia I Asia I came traditional Chinese family pleasant day',\n",
       " 'You fired moronic wimp lazy research It make sick people like exist world',\n",
       " 'It look like violating WP NPA pretty minor I point two content conflict try Mediation Cabal By way generally easier sign typing Have stop IRC channel want advice way Talk',\n",
       " 'A pat head KC one dedicated Wikipedians I know I madly love I give Barnstar end chew bury Instead let offer metaphorical pat head That Pup see around Tropics',\n",
       " 'Note Sandbox right place experment Thanks',\n",
       " 'friesers opinion simple guess kursk turning point german retreat think he correct russian personnel improved skill glantz combination forced german retreat loss problem battle kursk tank infantry strenghts favor german week kursk german tank strenghters higher kursk zetterling',\n",
       " 'Oh I know thanks',\n",
       " 'Lois Roisman Your piece Lois Roisman omitted much background everything death I updated Please review anything want add',\n",
       " 'know sex foetus',\n",
       " 'I think Fagget get oife burn Hell I hate sorry cant sex running conndoms',\n",
       " 'May',\n",
       " 'Sorry link gave dead And I formatted harvnb plz help matter',\n",
       " 'REPLY ABOVE That loser The UN defines Vietnam part Southeast Asia And far I know Vietnam part ASEAN used part French Indochina Laos shit country Anyway culture always influenced SEA Han Chinese proper Yangtze Han Chinese fringe indigenous tribe Guangzhou Guangxi Just admit vietnamese bunch wannabe crap people ALL east asian people I spoken think Vietnam integral part SEA think backward dirty speak horrible swearing language Doesn matter crap spout Wikipedia change way people real world think',\n",
       " 'August wow understand sentance I added crucial really change content But community gotten smaller caused automobile I sourced statement asked fact information help inform people forester fall large seemingly peice information article bridge span time present usfullness edit criterion used determine reverted noted I simply added information removed removal frivilous unwarranted problem insist absence statement unjustifiable negligible I adding information A factual B sourced C informative I assume since reason remove first place Wiki Nazis relax If concerned useless edits please see edit fom th I know carried great infallable Mindmatrix imho first useless change',\n",
       " 'stupid fuck mother cunt stink',\n",
       " 'ETA John D Haynes House SarekOfVulcan talk',\n",
       " 'new userbox TABTAB id TABTAB id c White TABTAB info This user faggot TABTAB info c LightBlue TABTAB border c Black TABTAB usercategory LGBT Wikipedians TABTAB nocat TABTAB TABTAB TABTAB This template automatically categorizes user LGBT',\n",
       " 'December UTC Mendel talk change Mendel refering Conspiracy section used',\n",
       " 'Please vandalize page edit Budweiser Anheuser Busch If continue blocked editing echo',\n",
       " 'Correct Dead dead There however leves wound hence emphasis serious This POV adjective',\n",
       " 'I fixed pic anyone still feel move done THE VOICES',\n",
       " 'George W Bush approval rating graph http upload wikimedia org wikipedia common George W Bush approval rating event svg The circle September th attack look far right Think could update Why data point post omitted',\n",
       " 'Sorry interrupt I edits first likely page I asking help much maybe maybe le still kind count Amulet',\n",
       " 'Absolutely use word strongly misleading even like The structure nothing mastaba burial chamber basicly Mastaba definition entran ceinner space This structure one solid pile rock inner space entrance It ment wall fragment',\n",
       " 'I noticed neutrality article disputed In light I ask post invitation discus whether neutrality achieved deleted It highly relevant relatively urgent bearing mind rule emergency Wikipedia time convergence Truth achieved',\n",
       " 'editor care explanation accompanied reliable published source I could explain I thought dog ate cat I would get reception I provide source Stop edit warring present source talk',\n",
       " 'About Mitch moved Yggdrasill I idea',\n",
       " 'Sockpuppets impersonator The two sockpuppet impersonator account including',\n",
       " 'Oh also film named Three variation thereof listed disambig page JUST WONDERING BECAUSE IT MAKES MUCH MORE SENSE TO ME I apologize advance certain individual sensitive hear truth',\n",
       " 'Review Request Hi I like request KLM GA class review Can anyone It seems many similar stuff GA Kenya Airways Ethiopian Airlines Cheers BreaksFixes',\n",
       " 'I propose transcribed n article If anything brief mention raising TRAP MOUTH pre nasal environment would suffice I thought American thing raise nasal I I often hear Aussies quite bit well I hear English people The difference Americans tendency diphthongize well raising I really surprised broad accent Wikipedian I saying possible You right I kind thinking aloud',\n",
       " 'Homosexuals intent legitimizing behavior Therefore seize opportunity suggest famous person gay In way way life received harmless perfectly normal As generation people grow childhood maturity exposed strategy increasingly develop tolerance homosexuality In way almost universally accepted diverse alternate behavior way similar religion race nationality Lestrade',\n",
       " 'Al Messier This article non notable biography according criterion set WP BIO aeropagitica',\n",
       " 'Link Sacramento I placed wikipedia link article word Sacramento appears Another editor appears stalking reverting everything I claim I overlinking I read policy think I understand I disagree The word Sacramento linked anywhere else article I made link I think link provided good context reader know Walnut Creek thought maybe knew Sacramento Was anything wrong link I would like someone objective give opinion',\n",
       " 'Your blatant POV pushing Neither guy made contribution Italian history article shove unhistorical unconstructive modern POV face This HISTORY article HISTORY Have heard This reason many people get pissed pedantry idiocy triviality Wikipedia J sus Get f cking life',\n",
       " 'Reliable source indicate otherwise Please insert personal analysis article talk',\n",
       " 'I research thank much relevance article I think may reseacrh WP EL amke sure realise fact link deleted I willing agree people official site therefore I shall delete game site otehrs',\n",
       " 'A TotallyDisputed notice would probably appropriate given depth disagreement exists I understand highlighting statement identified dubious would constitute disfiguring article SlimVirgin also used wording recently I rather think inaccurate irrelevant information disfigurement template notice To answer second question side brought forward proposal side yet responded This sadly consistent recent pattern delay I make comment whether deliberate strategy',\n",
       " 'I abused NOTHING Your threat extremely disrespectful rule Wikipedia All I ever done tried improve quality Wikipedia article maintain standard quality I NOT treated like vandal registered muck article My account blocked I administrator',\n",
       " 'Give permanat block raseac remember Muslims dont worry image trying hurt u cant look image fake nothing Islam prophet even article lame wikipedia authentic source encyclopedia kid authenticity anyone edit write whatever think like raeasc see know Islam talk forget wiki lame authenticity recommend add pissed christ jessus article',\n",
       " 'Invite Hi I still time write article fundamental Romani culture society would permitted normal presentation beyond stereotype I hope near future I manage From last discussion I managed organize better Category Romani people country Category Romani people occupation create article Romani person',\n",
       " 'I asked question recall maybe would make le troubled account',\n",
       " 'say consensus ever reached reverted edits',\n",
       " 'I FIND IT DIFFICULT TO CONTROL MY EMOTIONS I still feel Mr Logy Wogy bad',\n",
       " 'Fuck block faggot pussy',\n",
       " 'Attacking another editor How I trying make point easy edit Wikipedia piece George Orwell page proved point It common place Wikipedians help make better lot lesser bias edits trying So mind please could remove warning',\n",
       " 'Please see ref article mentioned Wikipedia Youngest Patent holder India Moreover I mentioned news latest book real life hero providing notable reliable reference Do feel DNA group reliable notable reference Its page exists Wikipedia Do really believe ever ever provide information article bad intention In word sock meatpuppets Did asked suggested anything edit write I free man send information You free person analyse Are Wikipedia When ref article mentioned Wikipedia Youngest Patent holder India subject Why speak bad word Your word verbatim Any book review repeat India youngest patent holder youngest disabled patent holder world claim Bhati supporter pushing fails reliable source How discourage people sending information relevant reliable notable',\n",
       " 'Randroide Answers Next Step Guys I see taking step Wikipedia Requests mediation I job I always connect filtered institutional net access following step could result new undesired controversial truncation word software I want happenning Could please follow instruction link I provided Thank Randroide answer New reference Burgas At last agree something course new section good idea The false suicidal terrorist PRISA also included Come oooooon boy start writing section I want kudos The new proposed article effort made But remember NPOV source source Just like citing El Pa section doubt genuineness th bomb Cheers Indeed good point And remark COPE And moral certitude Mariano Rajoy published El Mundo I agree Larean What Randroide omits mention section th bomb added balancing reference I insisted original version created entirely POV much rest proposed article Also source added El Pais available subscriber NPOV You right Southofwatford Randroide omits section If subscription El Pa I sorry problem My institutional access also advantage like paid access El Pa many many publication book That one reason exclusive use filtered Internet access It much easier work due easy availability source Do see The truncation word offsett I think better source BTW write Randroide answer section Invading space I mind really But Risking new truncation message To avoid please write OUTSIDE Randroide answer section If think proposed article POV work make NPOV The article mine I take risk truncating reply put short The issue whether I subscribe El Pa whether people read article English Wikipedia subscribe All source used accessible reader article putting source reader able see claim article NPOV mind completely unreasonable All source used accessible reader article Very funny Southofwatford I going follow joke Please propose also deletion book source know always someone without book Delete reference TV radio station user Brazil TV radio home Delete reference spanish know user know spanish It pleasure read kind funny joke really I good laugh User Southofwatford How strange find funny source providing enable user find information sourced deliberately choose source require user pay see information funny simply bizarre Equally English Wikipedia I would argue choosing Spanish foreign language source equally valid source exists English make sense except perhaps busy laughing cynicism evident response',\n",
       " 'Hence I removed content nature suitable wikipedia proscribed WP NOT perhaps one sister project wikia',\n",
       " 'Pirating incident I removed statenment really relate episode much plus kinda topic',\n",
       " 'And check http www cla purdue edu blackmon c critical html bio',\n",
       " 'Kill nigger I hard others said included That racist sometimes say',\n",
       " 'New User Hello Gogo Dodo I new user wikipedia wanted ask new page could removed deletion list My new page Kaburst still lot want I think reason considered start like wiktionary yeah give time make better Thanks',\n",
       " 'Regarding edits made December UTC Jos Mourinho Thank experimenting Wikipedia Your test worked reverted removed Please use sandbox test may want Take look welcome page learn contributing encyclopedia If IP address shared multiple user ignore warning make unconstructive edits',\n",
       " 'December Hello welcome Although everyone welcome contribute least one recent edits one made Smoke bomb edit appear constructive reverted removed Thank',\n",
       " 'You wrong Although I blocked occasion I never blocked Sockpuppetry Vandalism It dispute multiple topic various sock user Hkelkar user VandalPetrol permabanned I never used account If permitted edit get account deleted say indeffed No Blast',\n",
       " 'deleted personal attack',\n",
       " 'Please please continue Tell really think',\n",
       " 'An important message Block I live The mess made Parker v District Columbia Wikipedia rise level sophisticated Blog The Controversy section belong first place fact non expert issuing warning indicates Wikipedia become sandbox idiot Sorry I polite long short',\n",
       " 'I moving talk page',\n",
       " 'Very well I see consensus formed show indeed POv bad judgement part Thanks comment anyway Coldplay Exp rt Let talk',\n",
       " 'http www user bigpond com MONTDALE page html Heritage village macedonian Sources claim village pure Slavic',\n",
       " 'The organization sub topic Culture thrown way towards end economy tourism inappropriate The information section unnecessarily loaded history detailed geography make uninteresting also repetitive Information interspersed sub section without regard whether fit Eg Geography section start fact UP th largest state That strictly geography belongs introduction Climate belongs towards latter part page perhaps toursim Regions city interesting combination In case Cities Uttar Pradesh interesting topic UP several interesting city region speciality like copperware Moradabad ceramic Khurja carpet Bhadohi In fact I remember used information article',\n",
       " 'I know answer Legally possible private citizen violate another private citizen civil right I know section Nelson charged federal case anyone could explain I would appreciate You argue whether outcome state murder trial justified really concern since dead letter I concerned whether subsequent civil right prosecution legal If state murder acquittal miscarriage justice first time Look Issei Sagawa Part mature understanding sort thing realize criminal justice system perfect inevitable innocent people convicted guilty people acquited time time That price pay legal system end someone make decision sometimes may necessarily get right I think going limb say Sagawa case completely beyond reasonable belief',\n",
       " 'Burn Deck If guy burn deck like I think blrude awakening Leviathan motherfucker',\n",
       " 'Decesed group member I seen article band member name sollowed deceased Whats wrong witht It little extra information people already know Surely main reason article exist first place even whole wikipedia site exists What bad adding word people name longer u It factual non opinionative slate anyway',\n",
       " 'Fatima bint Asad I noticed added large chunk article recently Could post source webpage book etc It would really helpful Thanks July UTC',\n",
       " 'I added information Mayor de Blasio announced decision Charter Schools someone removed factual information said referenced It factual referenced I tired add information reference successful I correctly added race sexuality Chirlane McCray ONCE someone person removed factual information I provided Charter Schools incredibly rude stated vandalism reported How description considered negative Who decides reverted On Chirlane McCray Wikipedia site word black I prefer African American mentioned SIX time sexuality mentioned These assertion referenced approved Wikipedia site Chirlane McCray important writing What problem',\n",
       " 'Please stop adding nonsense Wikipedia It considered vandalism If would like experiment use sandbox Thank',\n",
       " 'Well I use user page tell meyour gon na remove piss drive nut Also I making personal ttack Jimmy wale I saying bit greedy dont think He got million dollar already asking',\n",
       " 'I thought I would offer advise aswell No Wikipedia Edit warring No arguing Wikipedia Administrators May I also remind three revert rule',\n",
       " 'u r tw fuck u gay boy U r smelly Fuck ur mum poopie',\n",
       " 'Its also expressly guideline sneak disallowed link discussion section Froman done YouTube propaganda link evidenced throughout page rule seem applied Froman Why go whole hog add Feith main page There plenty unencyclopedic source admin seems problem link anonymous left wing blog whatever care use seems fair game Froman',\n",
       " 'Deletion Account Ok Blueboy Editing L G NG L disabled Blueboy following reason Came back hour block picked right back judging history likely get call attention topic resolved matter addressed moderator deleting Wikipedia History item moderator BorgQueen edit Cuisine Hawaii simply provocation nothing I reknowned Chef Pacific Rim Cuisine Cuisine Hawaii Cuisine Hawaii NOT local plate lunch like saying cuisine Mexico Frozen Burritos Cuisine Canada Starbucks pastry Cuisine America McDonald Its Slanderous Vicious Spiteful main point WHY admin question DELETE THE HISTORY NOT Resolved problem addressed I TRIED discussing user directly account LOCKED THAT USER IS NOT OPEN FOR DISCUSSION OR DDEBATE THAT ADMIN SUFFERS THE GOD COMPLEX AND LOVCKED ME FROM EVEN EDITING MY OWN PAGE HENCE THE REASON I HAD TO WAIT TO BE UNBANNED TO POST HERE AND I AM NOT LEVING HERE TO BACK AND BECOME CORRUPT ADMIN FODDER BACK AON THE TOPIC PAGE UNTIL THIUS MATTER IS RESOLVED BETWEEN BORGQUEEN AND MYSELF AS I WILL NOT SUBJEGATE MYSELF TO ANY FURTHER DISCRIMINATION HAZING OR PERSONAL VENDETTAS Not likely get eh buddy listen You delete User page account wiki grommet going lock keep name content profile I facade Wikipedia good delete NOW grommet',\n",
       " 'listas Sabina Bavaria',\n",
       " 'Bad Redirect Please remove redirect X C page aircraft distinctly different design builder mission etc restore aircraft unique content page',\n",
       " 'info Thanks entering article There error I corrected It would nice simply cut pasted text Clear Lake article',\n",
       " 'His name Troy Tedford Troy Telford I looking orginal Discharge paper right I also orginal purple heart olc The man war hero biggest World War ever I Historian History degree recieved Dec ATU',\n",
       " 'It interesting note aircraft landed airfield Hawaii',\n",
       " 'Thanks fixing Again exquisite picture',\n",
       " 'I would like clamp',\n",
       " 'man also created new word even modern language already established',\n",
       " 'It History conveniently contribs Thank explanation big deal I upset second post waving sneer growing thicker skin finger waggle profanity treating insensate piece internet polemic rather fellow human attempting give honest account An account Mackensen promptly removed say Well I understand trying contribute workshop bad idea first place running full tilt Tony Sidaway managing avoid IRC whole month immeasureable improvement quality life Anyway I always seen somebody stand underdog I remember praising addition edit Harassment guideline I sad see mutuality respect talk',\n",
       " 'type soap box',\n",
       " 'Yes indeed I replaced second one summary Women right talk',\n",
       " 'Anyone text search see article rely mainly one source publisher In fact grand total two citation referencing publisher pure fact issue number item part library',\n",
       " 'Gore response Can anybody find Gore response Bush malaprop Why Gore inventor darn thing club silly one',\n",
       " 'Pls give reply yes',\n",
       " 'Neither two added cite support assertion Misconception Hyphens dash glyph It remains unsourced near I tell one person making claim despite claim consensus Unsourced material get removed That wiki policy I given month find source reword entry reflects source actually say I restoring citation needed tag source day entry removed',\n",
       " 'short summary referencing essential FAQs organization I noticed also disclosed association Frank userpage thanks It make working knowing coming lot easier If question review article feel free leave message send email Cheers sonia',\n",
       " 'For information already reported Fair minded Talk refusal allow relevant information factual posted You obviously biased party inappropriate representative Wikipedia',\n",
       " 'Same File SeanKilpatrick jpg File ConnorBarwinCincy png',\n",
       " 'Y r Pat',\n",
       " 'Thanks copy edit OMG read professional I appreciate lot Yeah I knew would problem Okay back story Danny body paint robot sketch During party theme black light one everybody could see Danny still paint washed something To sure Jack black light switch apartment Liz came turned resulted Liz paint see Or whatever I said make sense read paint still Danny black light attack Yeah I thought maybe people saw GA note leave message Though work user left message regarding article I reviewed This work future I make better I still gotten chance see I see I need know happened stuff Well I got news lost I started watching DVD telling I never see wrestling move I cry I sad The night Raw I lost cried Whatever I think cool Shawn mind I Not really I still see face like quality I think play Randy like Triple H know good crowd still heel ish Maybe cause new people heel need face know Speaking Randy today birthday turned Well remember first punted victim Shawn nice see Cody storyline Nici You welcome Danielson Miz I guess Hit',\n",
       " 'width style background transparent width style background color style width border px solid background color vertical align top Hello Lceliku Welcome Wikipedia Please remember sign name talk page clicking using four tilde automatically produce username date Also please best always fill edit summary field Below useful link facilitate involvement Happy editing width style background color style width border background color vertical align top Getting started Introduction The five pillar Wikipedia How edit page Intuitive guide Wikipedia Finding way around Table content Department directory Editing article How develop article Manual Style style width border background color vertical align top width cellpadding style vertical align top background color Getting help style color Frequently asked question Cheatsheet Where ask question Help page New contributor help page Article Wizard Wizard help create article',\n",
       " 'I know got big supporter X file like seen almost every episode mention Mulder father Scull baby Can watched carefully William Mulder son frequently referenced final episode Just top head Guard What thinking Mulder My son His mother Scully Our son Mulder I gave Our son I afraid could never forgive Not mention meaningful look Mulder Scully give officiator hearing asks Agent Scully true Mulder lover got pregnant love child',\n",
       " 'Citation R f Saumur v The City Quebec S C R Endorsement Rosemary deCaires',\n",
       " 'Education PLEASE keep list college Pittsburgh list college IN Pittsburgh If familar area edit list Greensburg Washington McCandless California NOT Pittsburgh Please offended I enforce Also Pittsburgh mailing address mean school Pittsburgh The address extends far place minute ride away Thanks',\n",
       " 'Until find way put cite page back I throught',\n",
       " 'We descendant Otman Baba trough Mehmed Ali Karako Sunni Muslim Alevis',\n",
       " 'Could clarify Do want start RFC I see one listed page history Talk Rasmussen Reports',\n",
       " 'Atheism full bias shit',\n",
       " 'You beat Just wanted say good work beating revert Ned Kelly article I always enjoy I know someone else hunt vandal Happy Hunting Cheers Pro',\n",
       " 'You removed link reference used health study say reduced use MMR vaccine Waldorf kid fewer allergy section immunization WTF Would data whole California count The private public Waldorf school California Personal Belief Exemption rate kindergarten class Regardless official position I assert would article official position lie order Waldorf education appear like complete cult Waldorf student grossly vaccinated That fact article',\n",
       " 'Thanks I take deep breath go intro tomorrow I identified source phrase London border showed boundary contested footnote I clarified diaspora section justify statement reference Victoria History article West Ham East Ham Hopefully I struggle justification without substantially changing outcome previous discussion Then move onto standardising reference probably section section',\n",
       " 'German Article day Dear Jimbo German wikipedia proud present article day http de wikipedia org wiki Wikipedia Hauptseite Really thrilling really amazing worth glimpse http de wikipedia org wiki Fremdk C B rper Anus und Rektum You might improve German reading lot learn Yours sincerly',\n",
       " 'I agree like I aready stated peripheral main article But nevertheless important I merely underlienes mythomania propagated side My interest historical reality Dab actually analyze situation rather offerring usual smart alec remark Lontech arguements shot piece summarily everytime happens engages tangential irrational behaviour Commonsense tell long lasting state kingdom Dardania Roman time We allow intro paragraph read like KLA recruiting web site',\n",
       " 'I found one Sort anyhow The web site JewsForLife org loading I article Catholic source I going remove erroneous sentence In hindsight would great minor content issue could resolved reference first place',\n",
       " 'I provided plenty reference material yet provided none All writing Chamar section come source verifiable Yet provided none You one ECCENTRIC IDIOLOGY You still provided ANY VERIFIABLE source show RAMDASIA CHAMAR different Chamars took weaving known RAMDASIA A simple google search RAMDASIA CHAMAR provide countless link bal',\n",
       " 'Block evading IP blocked Guy',\n",
       " 'I see number citation PubMed',\n",
       " 'Hey spreading misconception trying spread false information people You even know battle lost cheapest person earth Bloody ignorant fool Check source spreading rumor',\n",
       " 'I add admin considering I blocked hour user Sarek Vulcan week ago background thats relevant I learned lesson Pax talk',\n",
       " 'Change Username Usurpations request Request Still In Progress Mb Mmitra Hi I requested Change Username using Usurpations Mb Mmitra It almost day date request still show In progress would like know much time take complete request long would take complete Please reply soon possible Thank You Link Mb Mmitra',\n",
       " 'UTC December',\n",
       " 'Because otherwise POV look Flemish linguistics case',\n",
       " 'Yes mainspring used clock well Please feel free bold help improve article',\n",
       " 'getting normal term used German politician way I got',\n",
       " 'Keep original title Xbox although additional like like XBOX X box redirect article',\n",
       " 'And Let know crawled arses Dick Laurent dead',\n",
       " 'The problem people keep trying state BSAs policy There policy say homosexual scout member To state otherwise lie OR Just contraversy page allow state lie add OR list thing misinterpretation rule thing like try say scouting scouting need sure scouting actually say Even misinterpretation rule need source Just editor might misinterprete rule mean anyone mainstream Can find source somewhere homosexual youth removed program openly homosexual youth Then insert Unless actual policy BSA say openly homosexual youth member added OR',\n",
       " 'Level message Hello thank experimenting Wikipedia Your test worked reverted removed Please use sandbox test may wish I encourage also take look welcome page learn contributing encyclopedia Thank interest Wikipedia',\n",
       " 'I focussing science moment leading revolution',\n",
       " 'Another question style information stripping occur whenever shape edited le intrusive edits moving shape around If even highlighting selecting shape Inkscape make unusable I even messing Inkscape',\n",
       " 'Article Ed Morrissey Hi I moved article Ed Morrissey Captain Quarters Ed Morrissey started bringing date Would able take look please fix defect spot Thanks CWC',\n",
       " 'I see running around several TALK page accusing several others EDIT WARS Please go prove else first one blocked Moreover prove POV defeated going around making accusation good way Communist',\n",
       " 'Yes I received confirmation e mail username e mail address password Uuuh',\n",
       " 'I currently blocked editing I unable add tag however I take picture',\n",
       " 'user worthless goddamn faggot fuck faggot',\n",
       " 'It unsourced aesthetic opinion therefore violates WP NOR WP NPOV',\n",
       " 'Image Popclassic jpg I tagged Image Popclassic jpg provide fair use rationale If believe image acceptable fair use according Wikipedia policy please provide rationale explaining much accordance fair use rationale guideline image description page Please also consider using one tag listed Wikipedia Image copyright tag Fair use Thank Man',\n",
       " 'Fuck You NOT administrator You DON T authority tell',\n",
       " 'How adorably disingenuous',\n",
       " 'Well ridiculous fact I suspect Calton please block I dont care',\n",
       " 'Orangemike Time move collateral target I suggest User FisherQueen girl protected',\n",
       " 'Windows Phone upgradeability Hi Gregory I reverted change Windows phone article Neither Microsoft partner made official statement whether device running Windows Phone upgradeable Windows Phone The reference given another user blog relying Hearsay',\n",
       " 'Btw whatever decision adminstration wish take He remember block harsh given first violation since joined wikipedia',\n",
       " 'I tried objective possible treat author head someone first tongue English I think Davies borderline notable article I spent hour googling Davies earlier today found nothing except translated lot stuff Well I done lot stuff life I even borderline notable small field nothing warrant article especially one precisley nothing link like one Frankly I hope author make notable I respond gentlemanly politesse I help',\n",
       " 'Shiny thing What Brilliant Idea Barnstar For actively seeking every possible way help user especially I honestly think would work I hereby award c',\n",
       " 'Will make change engineering article',\n",
       " 'Thanks I apologize comment I like know I understand position Nov UTC',\n",
       " 'Appearance historical fiction The young Richard Steele appears character William Makepeace Thackeray novel Henry Esmond Is appropriate mention article reckon',\n",
       " 'CU Scibaby Why wasting time CUing Scibaby account WP DUCK I indef blocking sight CU request make reference politics I know talk',\n",
       " 'Per WP AE blocked indefinitely persistent disruption project including vandalism disruptive editing sock puppetry per Wikipedia Requests arbitration Macedonia Discretionary sanction If believe block unjustified please request one normal manner talk',\n",
       " 'I sure worked article Arcayne fine You two seem problem seek edit xenotalk',\n",
       " 'Fuck Fuck award go fuck',\n",
       " 'Sorry edit conflict I glad able salvage edits As question structuring yes I think think way divide article section subsection Also intro may need fleshing confronting reader technical term like dendrite axon I look Smithfarm Apr UTC Very cool Happy hear still article I also research extend talk contr Apr UTC',\n",
       " 'February UTC Comment proposal change something Someone added requested move banner section clearly one',\n",
       " 'Best Clans Runescape The Gladiatorz Been best clan r year The Clan The British Elites Damage Inc An average clan',\n",
       " 'I even know begin replying Talk',\n",
       " 'Please vandalize page edit Hyperopia If continue blocked editing fisto',\n",
       " 'Keep eye one care OK People put want clean want one care God freakin stupid Omnigan',\n",
       " 'episode list keep episode list reference',\n",
       " 'next hour',\n",
       " 'rant Presently witnessing open war Croatian Dinaric culture Croatian Left often portrays culture primitive rural even fashist service Conservative HDZ party Croatian writer Predrag Raos instance performed gusle instrument Zagreb several occasion year one intention ridicule instrument rich poetic tradition Another apostle Croatian Left Miljenko Jergovi refers political opponent Right gusle player Some even claim Serbian origin Croatian Dinaric culture following line traditional greater Serbian propagabda tokavian people culture Serbian However Croatian Dinaric folklore rich gusle heritage primarly Croatian Dalmatian costal region historically associated culture For example first written document popular folk hero traditional gusle music Marko Kraljevi associated Dalmatian island Hvar Petar Hektorovi book Ribanje ribarsko prigovaranje Also first historical document mentioned gusle player instrument originated Dubrovnik Even contemporary Croatian writer born Dubrovnik Stijepo Mijovi Ko tell u story uncle also Dubrovnik area could memorize numerous gusle song Stijepo Mijovi Ko Gusle Glasnik May p Dubrovnik also home Anica Begin born Kalafatovi daughter famous gusle player Ante Although illiterate able recite heart immense number gusle song recorded antology Croatian folk poetry Not far Dubrovnik another coastal city Makarska also bastion Croatian gusle music Actually region could considered Capital Croatian gusle player This Mediterranean area also gave birth Andrija Ka Mio th century Catholic priest viewed father gusle player Croatia beyond To honour Ka work Ivan Me trovi famous Croatian sculptor built sculpture America showing Ka priestly clothes playing gusle instrument In addition Ka Makarska Littoral produced great many follower Croatian gusle music According dr fra Karlo Juri quote work Croatian folklorist Stipan Banovi Zaostrog alone produced great number gusle player starting Stipan Kosovi Kudri culminating known Mate Banovi Trli As Dalmatian woman play gusle considered male activity yet actively involved spreading gusle music imitating sound Olinko Delorko researcher Dalmatian folk poetry state book Ljuba Ivanova Dalmatian folk poetry collection obtained woman especially one island Hvar The Zadar Littoral also witnessed strong gusle tradition English writer Maude M Holbach travelling Zadar region first decade th century state book Dalmatia The Land Where East Meets West gusle national instrument region As Dinaric dance took place market certain festival picturesque interesting worth going long way see survival ancient custom probably unique Europe p This admiration Dinaric folk music particularly gusle seen Dalmatian Litteral Hinterland Matija Murko researcher literary music form reported trip Dalmatia saw child barely three year old playing gusle Eduard Osrede ki Hrvatske narodne juna ke pjesme eljezno Be p Now let take look name Dalmatian sport club organization Hajduk Junak Gusar Alkar Uskok sinjska alka etc What common Of course name refer heroic gusle tradition region Having mind one wonder proud Croatian heritage become almost extinct Why gusle player today Is result unavoidable urbanization modern Croatian society peasant culture considered inferior global rock n roll culture If tamburitza music Northern Croatia gained wide acceptance Croatian establishment Dinaric counterpart gusle music looked upon suspicion open hatre',\n",
       " 'The total population million match e sum referenced populationsbelow infoboxImages Infobox',\n",
       " 'convicted felon',\n",
       " 'MATT HARDY IS SO FUCKY Italic text Media Example ogg MATT HARDY IS SO FUCKY',\n",
       " 'lol censorship You really disappointed NPOV core policy talk contribs',\n",
       " 'MfD nomination Wikipedia Try best Wikipedia Try best page substantially contributed nominated deletion Your opinion matter welcome please participate discussion adding comment Wikipedia Miscellany deletion Wikipedia Try best please sure sign comment four tilde You free edit content Wikipedia Try best discussion remove miscellany deletion template top page removal end deletion discussion Thank contribution talk',\n",
       " 'REDIRECT Talk List South Carolina Stingrays season',\n",
       " 'care blocked myspace pulse music board would concerned',\n",
       " 'http www theatlantic com entertainment archive linsanity internet made jeremy lin star le week Source explaining star',\n",
       " 'God dead I mean startle anyone God dead We worry anymore Just thought I would let everyone know Well goodbye good luck newfound crisis faith',\n",
       " 'Hello I back Bongwarrior user page attacked minute',\n",
       " 'I always Requests page protection I detect missing errant template see administrator correct',\n",
       " 'Unsure stage clear wording actually discussed',\n",
       " 'Marvin Kitman Don Make Me Laugh appear exist The citation much early history laugh track appears exist The publication Channels Communication exist three journal database I searched',\n",
       " 'Have seen reference claim moron This source It POV Once I time I reduce Pashtun nationalist POVs Wiki give order uncle cousin execution Pashtuns entire northern Afghanistan Gardez Jalalabad Lashkargah Logar Paghman Laghman Kunduz Herat Farah whereever immigrant descandants violent Kuchis settled took non Pashtun land away traditional Tajik country',\n",
       " 'RfA question Simply curious question intended submit talk',\n",
       " 'When say irrigiation structure exactly mean I live irrigated block us overhead sprinkers I far nearest channel Thye look throughout Sunraysia I got little spare time grab shot though I think I get far Dareton Got request talk',\n",
       " 'THIS WIIL BE MY LAST USE OF THIS ACOUNT PLEASE DELETE IT',\n",
       " 'RR Violation PatrickFlaherty User user PatrickFlaherty reverting sourced post He also violating RR Raila Odinga',\n",
       " 'I wasnt really attacking regarding Lisa Williams article Hmpzzz Do know Lisa see dead people I psychic power know see future Send Lisa Williams Finland locked jail scam artist',\n",
       " 'Yes definite value documenting Scientific Instrument Module I believe belongs Service module sector subsection It really payload actually part spacecraft service interrupt flow I plan move Apollo Program Mission type section I think really belongs I edit sector subsection improve wording flow bit',\n",
       " 'Thank Hei William Hope fan Guess I back new IP ready vandalize everything regarding William Hope sh stop maybe delay stopping So let salute William Hope lunacy shoving p ni mouth',\n",
       " 'Yes Quite persistent I create article Other new user going get lost discussion T C',\n",
       " 'Fuck User The Bohemian Shinobis yeah right bitch You piece shit',\n",
       " 'Yes look much better At top page say This article need additional citation verification may britannica encyclopedia could help adding citation I dunno Cheers',\n",
       " 'Okay I give another whirl via email If worst come worst e I get reply soon I always use new account I ignored way keep stalking tied busy chasing around rather trying delete content Take care',\n",
       " 'North Eastern Region Jharkhand Wiki say North Eastern Region Jharkhand Angika region However official language thesis district Jharkhand Angika Hindi Santali This confusing So need clarification come district Jharkhand official language Hindi Santali could Angika region Only district would Angika region official language Angika',\n",
       " 'The vote Campbell Case primary reason Russian Treaties Baldwin careful emphasise Treaties substance objection Standfordham wrote King October I saw Mr Baldwin reply question Do want turn Government said Yes Campbell issue Russian Treaties country generally condemns He see alternative dissolution always expected wished though opposed hastening Government fall And true House Commons Baldwin stricture based Campbell case Newcastle October congratulated MacDonald agreement achieved conference London Dawes Plan reparation spent rest speech alternately pouring scorn Labour party subservience extremist tearing piece Russian agreement But final debate October mean Parliamentary occasion Two day meeting something suave qui puet Cabinet decided take vote confidence preferring go Campbell case defeat Russian Treaties might give left wing much prominence Middlemas Barnes p',\n",
       " 'Jayjg stop Spin public relation tactic',\n",
       " 'No I quoted Bryant talk popular secondary creator They literally paragraph Talk',\n",
       " 'Future Perfect Sunrise',\n",
       " 'In general outside sourcing exceed inside sourcing If entire section without reference enough The lede refers dire need would generally seen top Look APO article idea speak group',\n",
       " 'That rather feeble premise argue showing excessive number photo prominently showing different woman vagina compared one human male penis way page equivalent article male genitalia This demonstrates overwhelming male bias editorial content Wikipedia',\n",
       " 'OKAY I tried delete offensive sentence beginning Mr Irving socalled holocaust denier He say acknowledges many jew killed war however go along million jew killed figure reckons number lower And really come David right question anything relating history WW speciality actually make living questioning critically examining source I also decided delete account loosing court case David launched several libel case libel damage English Sunday Newspaper The fact time lost something figure head CV Many people also find extraordinary judge deside person IS belief hold',\n",
       " 'There I made bold Thats better Lemmey talk',\n",
       " 'After father started taken Melfalan Now nearly half year health condition good I consulting Doctors',\n",
       " 'I pretty sure incident already included And I know handle riot',\n",
       " 'I afraid broken link',\n",
       " 'Ok Maybe want comment Talk page It interestig know',\n",
       " 'Oppose I find hard believe requires RFC wikiworld',\n",
       " 'History Can someone provide information regarding contracting AC service area AC Transit used serve city corridor city basically kicked AC Transit run service Part reason AC Transit serving suburb spending money underutilized service urban area That history reflected article talk',\n",
       " 'Please create elephant nonsense page talk',\n",
       " 'I Preceding undated comment added I talk contribs We care WIKINEWS even considers Dr Rafizadeh expert interviewed hin http en wikinews org wiki Wikinews interview Scott Lucas Eyal Zisser Majid Rafizadeh risk US military intervention Syria We simply care We care even publishes CNN NYT quoted CNN New York Times like http www cnn com opinion iran rouhani syria rafizadeh index html http globalpublicsquare blog cnn com job key middle east revolutionary wave http edition cnn com world meast syria shiite Does matter even BBC World service made bio http www bbc co uk programme p gsjfk Dos matter CNN France International wrote family member killed http www france com en syria majid rafizadeh kidnap family targetted civil war shabiha opposition bashar assad I talk contribs never change opinion talk always right We also dont care published almost national international outlet including scholarly academic work like http scholar google com scholar hl en q majid rafizadeh btnG sdt C sdtp I talk right We Jewish right never change opinion whatever evidence show',\n",
       " 'Are ok Dear I notice absent Wikipedia day It uncharacteristic I hope ill Please accept good wish I wanted see fine Regards',\n",
       " 'Congratulations Third May reaching FA still April thanks input',\n",
       " 'Paula White Joel Osteen Marbled Cat others These image correctly retrived information given image necessary Some even I gave full permission use wikipedia mcelite',\n",
       " 'It success It phenomenon go back least year day Sousa Johann Strauss However look Article Milestones section see survived fewer four deletion discussion And require credible source fancruft removed sight andemu',\n",
       " 'hate topic hate hate person mean like person Your hate turn love',\n",
       " 'PAGE I TRIED TO CREATE IS NOW AN ACTUAL PAGE LOL YOU BANNED ME FOR NOTHING',\n",
       " 'Your Report Thank making report Wikipedia Administrator intervention vandalism Reporting removing vandalism vital functioning Wikipedia user encouraged revert warn report vandalism However administrator generally able block user received recent final warning one mention user may blocked recently vandalized warning given The reported user yet blocked appears occurred yet If user continues vandalize even final warning please report AIV noticeboard Thank talk',\n",
       " 'NPOV Please stop adding related Moroccan issue Sahrawi article trying look neutral I revert edition clear POV pushing',\n",
       " 'Upgraded Human Language Families wikicolors png Human Language Families wikicolors File',\n",
       " 'A kitten good person',\n",
       " 'Ok peer viewed month published Academic archive On line DiVA permanent URI urn nbn se kau diva Wallin H p An investigation friction graph ranking ability regarding galling phenomenon dry SOFS contact Adhesive material transfer friction A free pdf document available www diva portal org found www uppsok libris kb se use search word galling Harald Wallin direct libris link',\n",
       " 'POV pushing Faustian inserted article The UPA cooperation Jews extensive enough according former head Office Counter Soviet Disinformation USIA Soviet propaganda work complained Zionist membership UPA Seems complete POV muddy water picture UPA organisation friendly Jews instead organisation collaborated Germans exterminating Jewish people',\n",
       " 'REDIRECT Talk A Voice Within album',\n",
       " 'WP BLP Violations I removed another reverts placed defamatory uncited material Cherokee Freedmen Controversy WP COI may apply since seem edit African American related article Freedmen controversy Your dishonest edit summary top',\n",
       " 'Are anderthals Are anderthals discription quran anybody thought',\n",
       " 'The discussion first outdoor tree electric light strange kidding obscure town NC I think make much sense especially since sentence immediately preceding establish city electrically lighted outdoor Christmas tree early year th century The article cited North Carolina town read carefully really state tradition outdoor lighted tree IN THAT SPECIFIC TOWN began town claim first place tree I old enough around though I small boy I tell neighbor Southern California lighted outdoor tree prior one thought remarkable unusual The history questionable say least',\n",
       " 'What come next Once feel like gotten past dispute stage I would say someone post Request page unprotection move new version You might also mention admin merge Naked short selling Workshop keep page history Or I later tonight really matter Talk',\n",
       " 'REDIRECT Talk The Best Apocalypse',\n",
       " 'Just dropping I thought I leave little feedback A featured picture always put main page noted WP POTD For example semi nude Michele Merkin used found cheesy Wikipedia Picture day Unused note several picture used depict much gore scatological nature A featured picture rating essentially indicating community feel image high quality high encyclopedic value On side note POTD seems Thanks taking trace Pink Oboe',\n",
       " 'Some source listed NY Mag CBS News Fox News interview Leighton speaking subject directly Teen Vogue US Weekly TV Guide interview article San Francisco Gate newspaper town Leighton grew Naples Daily news If consider reliable source problem If want I find source valid reliable newspaper magazine Everything valid sourced removed story HER life Wikipedia encyclopedia fact posted FACT',\n",
       " 'The reason presence template based inconclusiveness user page The presence template contested',\n",
       " 'Ho ho ho Merry Christmas I shoulda known Piccirilli Brothers actiually executed Ward pediment sculpture Stock Exchange Happy Christmas Carptrash',\n",
       " 'I saw reference I added note see note name republic',\n",
       " 'Hey Jim Good see around You right I consensus tending towards delete clear delete two Times India source one source Times India visible search engine What would like I list AfD might prefer Message',\n",
       " 'And mere fellow editor I problem But since seems let power admin go head I issue Please read remains Talk page need example I moderator popular internet discussion board I would never ignore valid question user',\n",
       " 'gon na help u He logged want talk talk page',\n",
       " 'They look great Mar UTC',\n",
       " 'April UTC Wikipedia Colours much thanks fixing improving table code No reason maybe add info found value common cs style embedded highly repetitively know way around mediawiki asking everywhere cs guru clean redundancy Main Page wikicode like dont enough already eh many project minion',\n",
       " 'Dear Mokele You right tell people die fire Just IP address used vandilism mean talk people like You fact bigger loser person block',\n",
       " 'You new message last change notice result User Arkyan User Avraham targeting website result editorial dispute whether include Theodore Roosevelt view US political corruption Unholy Alliance page e The unholy alliance phrase used platform Progressive Party United States written The unholy alliance concept elaborated upon autobiography Their recent edits may reviewed Special Contributions Arkyan Special Contributions Avraham reverted appropriate',\n",
       " 'Peter Roman Can one place remove Argentinian Chap Prophecy part replace information place coat arm Any question e mail Tarcisio Pietro Evasio Bertone incharge Vatican February March thus Prophesy St Malachi fulfilled',\n",
       " 'RfC You pretty much blew respect tried demand I give adminship My position simple AfDs invalid They filed I fixed mistake',\n",
       " 'I delete material complies WP policy according POV interpretation Wiki BADASS Woo U',\n",
       " 'revert edits',\n",
       " 'Canonicity general I involved long discussion Talk Stargate device whether Stargate movie thing Stargate series Centrx arguing discussing Stargate one article deceitful I think argument valid course looking stuff web I discovered fan movie apparently consider SG series somehow illegitimate non canon I familiar Stargate fan community show I feel comfortable adding discussion directly article Does anyone know detail widespread apparent schism Jul UTC',\n",
       " 'Capitalization Please stop changing lower case common noun upper case company Company WP MOSCAPS note Wikipedia avoids unnecessary capitalization proper noun first word sentence capitalized much yack',\n",
       " 'See claim three http onlinelibrary wiley com doi mepo full s That reliable source',\n",
       " 'If community manager first conflict interest editing second power say explicitly site release date Otherwise despite may position incompatible Wikipedia policy SWATJester Son Defender',\n",
       " 'Please vandalize page edit Boiling point elevation If continue blocked editing',\n",
       " 'Rants policy Hi I think reformat User Shanes Why tag evil The vandalism protection tag least idea sort proposal reformat multiple distracting protection tag le distracting corner icon example redirecting well probably move later former case The corner icon work beautifully much le distracting clicking follow page explaining lock I fully agree large box text distracting unnecessary This especially true non user Wikipedia user read article probably constitutes majority Wikipedia reader They probably care edit article would concern may confuse tag article content Thanks',\n",
       " 'Hi Collectonian obviously appropriate I agree warning given Vicenarian',\n",
       " 'A request future please sign tag Photography workshop page While bot currently e Preceding unsigned comment added',\n",
       " 'I revised translation Spanish going back earlier edit Subsequent edits Spanish language Wikipedia seem intended mainly insert link primarily succeeded deleting chunk original text rendering result ungrammatical somewhat insensible I taken translation incorporated previously omitted text gone whole make idiomatic English It quite yet hopefully serviceable',\n",
       " 'I sorry like answer I accept wording indeed word article reflect reflected source Would patient happy almost successful operation I care even le Yugoslav Media I Yugoslav politics It may want hear either All I repeat way world Yugoslav troop operating independent command offensive Its laughable even I way substantiate I said Journalists may write want ask military officer tell inconceivable size op comms',\n",
       " 'Capital gain tax',\n",
       " 'This included Criticism summary section since section content far remotely truthful summary criticism point view fork article It clearly suggests reader basically criticism Apple related product management way Now Apple Inc admitted fact use child labour clearly far far serious type criticism everything currently mentioned main article criticism summary section The explicit word child labor mentioned article',\n",
       " 'Merge Both article merged Operibus anteire',\n",
       " 'Everywhere Though I might start going thru secure server time I similar issue popups userinfo grabber xenotalk',\n",
       " 'I agree need keep unclear concept wording better alternative exists Also I ask revert using source reason source actually book authorship WP COI WP SPS come mind TxT',\n",
       " 'Hi The route Japan often mi read First I argument JAL flew Tokyo JALways But I would like challenge route Jetstar take It said Jetstar flew Kansai Brisbane This true must connect Sydney Although would stay aeroplane flight number BNE KIX change Sydney meaning direct flight EG Flight SYD KIX FLIGHT KIX SYD via BNE That work If sure please check Qantas schedualing I wont edit page fear I banned',\n",
       " 'Support I Sikh Wikipedians Wikipedia support Singh correct I completely agree Sikh Historian I busy moment need get Harrybabar permanently blocked happen vandalism unacceptable',\n",
       " 'Thank RACIST experimenting page Katherine Heigl Wikipedia Your test worked reverted removed Please use sandbox test may want Take look welcome page learn contributing encyclopedia Now go FUCK YOURSELF YOU RACIST CANUCK ASSHOLE U HAVE NOTHING BETTER TO DO THAN CENSOR THE TRUTH U GODDAMN KKKKANUCK PIECE O TRASH DICKHEAD MORON MOTHERFUCKER LOL YOU CANUCKS R REAL RETARDS FUK OFF DICKWEED EDIT ANOTHER OF MY EIDTS AND YOU LL BE EXPEL FROM WIKI BY JIMBO YOU SOB DICKHEAD SO WATCH IT MOFO PIECE OF GARBAGE RACIST MOFO ASSHOLE IM TRYINBG TO BE NICE HERE SO TAKE WHAT SAY AS A COMPLIMENT Yamla',\n",
       " 'Bulgars omg admin protect people vandalise Bulgars article attacker pan slavic ultra nationalist dont want see word beginning Turk help remove reliable source Old Bulgars changing slav hand great',\n",
       " 'You must logged upload file So In word I sign add thing entry To hell This place ROT I care',\n",
       " 'McKinsey Company I think best route would drop note WP BUSINESS T C WP FOUR WP CHICAGO WP WAWARD',\n",
       " 'Message Long time talk I pottering around Wiki suddenly I thought So anyway ya going I hope get along Anyway issue I Wikipedia A user stalking asking innapprpriate question Do idea I could I know user also Australia Could police thing Cheers',\n",
       " 'Thanks From point view difference parallel two concept One parallel concept intending territory homogeneous population The difference concept racial hygiene intending homogeneous population regarding criterium race whatever race might concept ethnically homogeneous state intending homogeneous population regarding criterium ethnicity A second difference concept racial hygiene led extreme form method political practice history example holocaust expulsion also extinction million people industrially organised process User Nov th',\n",
       " 'Well I see FutPerf getting quite angry insulting editor also And goal make point First Bulgarian Empire Second Bulgarian Empire Bulgarian least related help long term strategy invention Macedonian nation state think Bulgarian Tsar Samuel etc existed antiquity middle age That Tropcho correctly pointed direct political continuity completely unimportant info box country care info box neither Spain Germany Ireland Poland etc What important show Bulgaria formed thru age',\n",
       " 'Salutations J A P welcome Wikipedia Perhaps might find WP HOCKEY interest',\n",
       " 'Be careful call moron',\n",
       " 'Leadbeater Biography SmackBot problem Rich Regarding C W Leadbeater biography article http en wikipedia org wiki Charles Webster Leadbeater Dec Philosophus improperly reverted extensive revision Dec I removed smear slander article yet accuses NPOV problem No editor right revert good faith contribution another editor I undo improper revert As made minor edit two since edits probably lost also Please communicate specifically fault find text maybe work compromise wording knowledgeable subject If knowledgeable business editing article',\n",
       " 'Quoting Hoppe first Detailing Kinsella important point At diff I put Democracy section Hoppe earlier comment first followed Kinsella said e Stephan Kinsella writes Hoppe critic accused Hoppe homophobia bigotry like based passage Kinsella wrote Hoppe discussion physically removing homosexual group applied private covenant based community centered around traditional value He shared letter Hope wrote saying gay couple street mind business would expelled openly hostile basic heterosexual private property basis society As I said edit summary choose totally take comment context attack NOT mean Wikipedia used purpose talkie talkie',\n",
       " 'The fact matter Toei Bandai using Gorenger exclusively refer first Super Sentai series since least Every subsequent series ending ranger You see sort thing print material released lately Gorenger others Turboranger Zyuranger Dairanger Kakuranger Ohranger Carranger Megaranger Timeranger Gaoranger Abaranger Dekaranger Magiranger Gekiranger I believe Gorenger also plastered across vehicle Ryulong',\n",
       " 'mark nutley suggested Instead people edit warring really ought use newest source Three five million number died Ukraine heavily Ukrainian populated northern Kuban among richest grain producing area Europe Norman M Naimark Stalin Genocides Princeton University Press August p http book google com book id F UwF eqb AC lpg PP pg PA v onepage q f false',\n",
       " 'I see help If saw blocked reason victorious feel like keep telling administrator please use talk page go administrator noticeboard initial complaint posted add yet another post Concerning advice I need familiarize apply right back especially regarding WP CONS please understand consensus product prior discussion piece Wikipedia text stayed unedited',\n",
       " 'Gay The existence CDVF proof sad twat He also ugly willy face',\n",
       " 'Unfortunately judging previous warning people rather unusual view personal attack Pointing individual accusing using sockpuppets incorrect fact two main people making accusation harassing month used sockpuppets meat puppet getting around edit conflict stack vote Request Admin proceding pointed several editor time certainly considered personal attack Pointing admins actual policy basis make block personal attack fact confirmed overruling block Frankly looking personal attack try AGF violating attack action based upon limited information actually misleading information given individual David Gerard claiming I trolling defending false accusation others It clear number people need realize thing accusing trying justify block exactly behind pretense trying solve thing If want start blocking incivility I might suggest removing David Gerard action Elonka falsely claiming I using sockpuppets I harassing sysop whose talk page say going go around blocking people question asked fact I caught restoring placing illegal information pirate software article talk page Rules apply everyone number people getting away pretty flagrant violation trying rationalize away labeling alleged problem editor taking sort responsibility action',\n",
       " 'Looks good I think nice pic Midtown across East River would best possible addition montage one currently available wiki common',\n",
       " 'Perhaps question philosophy mathematics regular WikiProject Math philosopher mathematics c',\n",
       " 'Except fact information table NO confirmation number episode put clutter NOT vandalism',\n",
       " 'Right may star bar',\n",
       " 'Perhaps GoodDay could provide diff thought I unaware BTW I hope move going went ok',\n",
       " 'It also unfair I respond allegation talk',\n",
       " 'I NEVER FUCKING MADE THIS MOTHER FUCKING ARTICLE I JUST FUCKING EDITED IT AND THAT WAS A FUCKING LONG TIME AGO FUCKING ASSHOLES PISSING ME OFF',\n",
       " 'Has anyone ever considered including tag team edit warring RR violation When two people act tandem unintentionally intentionally make revert four time may technically violate RR rule certainly spirit This problem side edit war Canada page precisely I wanted avoid Dominion page Would easier warn editor rather shut page week time done Canada case I sure would cure escalation problem without blocking access page Any comment',\n",
       " 'Fucked wrong muchacho July UTC',\n",
       " 'Thanks unblock would compromise I live margin creating article various subject see deleted It form performance art Many get deleted Medieval philosophy still History Logic name I one people know I like like',\n",
       " 'Yes I hope get GA status future WP MOSTV state fictional character storyline come first information creation characterization It make sense read storyline character involved going production The style used article book film television show episode',\n",
       " 'Hi Im fucking bitch',\n",
       " 'Please educate article copyright infringement source Once established could explain best rectify situation Thank',\n",
       " 'Men ranking Figure While nice look miss key time Olympics World Championships That title IIHF list post olympics ranking ranking presumably post WC To exclude period incorrect time Canada ranked st overall Russia nd The issue happen year ranking change twice Olympics WC',\n",
       " 'There many broken nostril pancreas',\n",
       " 'That last line new version better YPOV This new version complicates issue make article le simple read Tell MUST Boston mentioned cultural business hub This seems heart bias It appears want viewer get reading Boston somehow nerve center city New England revolves around look Why MUST illusion page',\n",
       " 'UTC It sound wrong first read present tense ee read used past tense reworded whole thing past tense discussing already published work opposed work published yet published Arnfj r Bjarmason Sep',\n",
       " 'And took time answer',\n",
       " 'Yobot incorrect DEFAULTSORT Hi Yobot incorrect DEFAULTSORT It puzzling recognize article person Among clue included birth death date top well Yobot substituted additionally include correct DEFAULTSORT XA Ab AM',\n",
       " 'Biased unreliable emotionally written armenin wiki editor Pls stop using wikipedia dirty propaganda lobbying purpose There genocide THis amyth advanced armenian church armenian fundamentalist fascist A nation subject egnocide several hero see statue yerevan Irevan jew The resolution act sold congressman want appease armenian lobby reliable valid neutral content It kjust piece dirty lie fact presented written christian missionary working kill Turks Kurds You claim subject genocide much want But thing never happen Some armenian fundamentalist fascist killing Kurds Turks Azerbaijanis killed great son Turkic nation I proud Go propogate lie much YOu achieve nothing raman',\n",
       " 'Add Mobile porn additional WP ALSO link',\n",
       " 'Smer SD Why Slovak party Smer SD Non Inscrits They regular Socialists They used PES settled pretty long ago Liberal Nationalist',\n",
       " 'UTC Has anyone considered matter stuff made actually interact time time travel If I travel back time would I frozen isolated spacetime whilst everything else around travel backwards time I also physically biologically travel back time I get younger younger disappear I yet created thus defeating Grandfather Paradox Although possible signal information travel backwards forward time possibility automatically extend matter know ie particle giving rise electron proton neutron ultimately biological being July',\n",
       " 'I want offer tremendous thank suggestion I believe paramount successful inclusion RantMedia I vastly improved article since AfD nomination well since yesterday afternoon I clear necessary done article truly first really answer question going take So bottom heart thank T C',\n",
       " 'I laugh watching supposedly BRITISH national news guy barely ankle snow implying Ragnarok upon u yet day tree blown main road blocked snow Scotland seem noteworthy Scotland routinely get ignored national news even people north England complaining fuss made southern oriented news Tourists appear amazed thing falling apart something like My mother good giggle reporter live Trafalgar Square couple inch snow beside main road barely ankle deep Lance Tyrell',\n",
       " 'A friendly advice refer kindly use Cult Free Cult',\n",
       " 'Great link IMO American people whole good decent called leader fully controlled Elite bent domination control This whistelblower say talk',\n",
       " 'Queen University As stated previously I quite pertrubed quite honest frustrated would remove section pertaining university tradition Do personal vendetta institution dislike For whatever reason removed compliation material regarding Jackets tradition I find odd considering similar tradition allowed remain university Wikipedia page Mindlessly deleting material without group consent constitutes vandalism I sure intention malicious short sighted move part Please allow u discus greater detail',\n",
       " 'January UTC The argument WP NATURAL seems rely showing name common need prove name common Numbers might help bit Also told Gohatto rather name film Japan turned false Incidentally Ryuhei Matsuda seems look like mother father What think Also authentic portrayal Shinsengumi film Do historical insight',\n",
       " 'Unspecified source Image Metropolitan Moscow Makariy Nevskiy jpg Thanks uploading Image Metropolitan Moscow Makariy Nevskiy jpg I noticed file description page currently specify created content copyright status unclear If create file need specify owner copyright If obtained website link website taken together restatement website term use content usually sufficient information However copyright holder different website publisher copyright also acknowledged As well adding source please add proper copyright licensing tag file one already If created took picture audio video tag used release GFDL If believe medium meet criterion Wikipedia Fair use use tag one tag listed Wikipedia Image copyright tag Fair use See Wikipedia Image copyright tag full list copyright tag use If uploaded file consider checking specified source tagged You find list file uploaded following link Unsourced untagged image may deleted one week tagged described criterion speedy deletion If image copyrighted non free license per Wikipedia Fair use image deleted hour If question please ask Media copyright question page Thank Do want opt receiving notice hi',\n",
       " 'Percent Koreans eat Dog Meat Koreans tried Not regular Korean Food Diet Don genearalize finger point Koreans eat Dogmeat That true',\n",
       " 'Support Lets protect save page User Balagonj This page full error invalid reference',\n",
       " 'Apparently I thought Tom offline filed edit warring report YellowMonkey picked Tom mentioned page protection We see stick',\n",
       " 'Newsletter draft ready Hi Dank I prepared initial draft drive wrap newsletter Wikipedia WikiProject Guild Copy Editors Newsletters April could find time check go would super Thanks',\n",
       " 'omitted entirely',\n",
       " 'Is true description booger prove',\n",
       " 'Stay talk page stalker',\n",
       " 'Anthony de Mello Hi I need page written Anthony de Mello It currently redirects priest Do suggestion dab title cricketer',\n",
       " 'Thanks And happy new year Let talk',\n",
       " 'mature way Central posted',\n",
       " 'Stop Vandalizing USERPAGE I know someone',\n",
       " 'Oppose I think merge good idea',\n",
       " 'Maybe lead conclusion TAIP aircraft remained Africa return back ferrying soldier The article colaco net also shed light',\n",
       " 'Thanks Thanks thanks I leave watchlist I found archive full vandalism back Given slashdotted I suspect see bit I might get someone else fully protect continues I COI I would also like thank keeping open mind Changing vote encouraging sign Good Faith Regards',\n",
       " 'Hello If interested could really use help',\n",
       " 'F K ALL RIDES AT WORLDS OF FUN I hate ride Worlds Fun sh tty boring All ride operator WOF fired sued hanged Burn WOF coaster Arrest WOF park operator Assassinate WOF customer I heard boy died Timberwolf August That stupid Worlds Fun nown better built sh ride Worlds Of Fun care money prophet moar customer Burn sh park F K YOU RIDES WorldS Of Fun dangerouser GRround Zero Area Worlds Fun burn Hell',\n",
       " 'As Job Sure thing soon I find time Also I notifyed NovaNova asking start editing http en wikipedia org wiki Croatisation This guy know lot Croats history',\n",
       " 'Oh ok I wanted see people thought Anyway CSD Hey like talk page I hope mind talk ER',\n",
       " 'Wrong The capital Podgorica always since July The seat government parliament AND PRESIDENT Podgorica Cetinje seat Kingdom Montenegro exile And besides capital city embassy Podgorica see Cetinje Besides one Montenegro world say Cetinje capital Montenenegro instead say Podgorica And also consitution adopted outdated new one due next year',\n",
       " 'Mark II subsec I removed Mark IIx subsection made bulleted list There reason eye subsec one line information',\n",
       " 'Can concise listing The listing invention profoundly vague Why group different category together Why even mention thing chinese received purely outside source There much complete well managed list chinese development I yet find along transmitted globally whether place like Europe got purely Chinese This really need attention people remote expertise I guess somewhat Needham work profoundly rare private collection cited like arrogant bigoted as cry chinese nationalism yet went onto say invented noodle And besides thing like cannon porcelain listed invention Who developed independently',\n",
       " 'In history could consensus view mainstream view theology mainstream consensus view since theology depends upon church membership theologian Historical scholarship aim universality objectivity theology make claim It true million believe JEDP birthed hell would believe knew JEDP mean principle view notable Enns said fringe view academe even among scholar actually disagree JEDP The source used build Wikipedia academic source therefore JEDP st century offspring given default weight inside academia view fundamentalist treated according WP UNDUE This mean Wikipedia could say fundamentalist theologically wrong Wikipedia theology entitled say inside historical scholarship fringe view Of course exclude serious scholarship done religious faculty since Ehrman said one bestseller US mainline Protestant Catholic theological seminary divinity school teach mandatory historical criticism class So sense scholar faculty thoroughly acquainted historical criticism built career upon assumption Only fundamentalist seminary divinity school choose default historical criticism They free cut claim mainstream historian',\n",
       " 'Well sorry attacking edits exactly wow seriously snotty people wikipedia And yes need separate featured single DEFINITLY',\n",
       " 'TfD nomination Template SilentRedirect Template SilentRedirect nominated deletion You invited comment discussion Wikipedia Templates deletion Template SilentRedirect Thank talk Watermarks I shall remove obvious one le obvious one stay I allowed watermark image anything whatsoever I wish even contradiction wish use WP bandwidth uploading effect I anything evening get deleted I shall reupload Yours without respect talk email You could grace reply I said I deal evening one watermark visible page So talk email I planning upload le obtrusive watermark Image Bliss parody jpg talk email It vandalism I used external link per instruction incidentally I bound follow I certainly verge requesting mediation disrupting life never mind WP make point I tell one time image better none If wish get pix concerned image damn welcome try GFDL therefore ground removal talk email PS I shall add external link image remove I shall make formal complaint Wikimedia Foundation Information Commissioner London talk email conduct little matter While I discussing issue user let keep civil please Thanks talk I disagree Rob far little Images watermarked way appropriate Wikipedia This encyclop dia pet image project If TheDoctor happy play ball go elsewhere talk I proposing change image use policy forbid watermarked image Please voice opinion Wikipedia talk Image use policy User created image Thanks talk I edit United Kingdom Computer Misuse Act editing information online illegal without permission The button top every page say Edit page among thing constitutes permission policy guideline form condition Since condition image legal right Q E D talk email True therefore addition fails logic Also Wikimedia server right delete ID Apologies Ed invading talk page load rubbish Wikipedia legal obligation whatsoever host image regardless whether meet policy I idea flawed logic presume fact edit Wikipedia mean edits must legally accepted If Computer Misuse Act state editing information online illegal without permission implies editing permission legal nothing Furthermore logic I legal right edit Wikipedia remove image I fail see earth intend tell lawyer I imagine Wikimedia board concerned talk Ignoring gibberish',\n",
       " 'ARTPOP album Hello thank contribution I make message good faith Please make hidden comment like stating editor blocked remove redirect I position asking I saying could turnaway new contributor aware rule feeling bitten In case I think kind user talk page message would appropriate effective Also edit reverted I reverted back version also removed block warning appropriate admin block user removed redirect specially hidden message warning Feel free correct wrong Again I write good faith Cheers Huntley',\n",
       " 'Crown Prince Wouldn Prince Elect Denmark elective monarchy time',\n",
       " 'Hamish MacDonald disambiguation Hello Just let know two entry one name one similar name I tagged deletion using Template db disambig If question please let know Best wish',\n",
       " 'My cent someone close Korean American community It pretty standard practice give American Korean name first I know sure case surprised It probably explained book',\n",
       " 'Died I think better settle matter instead going back forth So IP user claim whole thing hoax died Europe year ago Hawaii obit First Forevermissed user submitted website Do know family personally know somebody know family We like get elaborate explainantion behind claim dead year ago I see supposed obituary pretty detailed Are rest biographical information accurate though And picture',\n",
       " 'August UTC Dear The hour block placed account yesterday personal attack expired I must say I happy block I harbor hard feeling towards If check previous contribution see I productive editor Wikipedia I like let know I guilty personal attack I goaded two individual In order avoid future block I promise engage anymore personal attack I goaded troll two individual I simply ignore repeatedly reverting comment I made concerning statement made Hugo Chavez article I found biased My issue concern nastiness uncivility He far possessive article created becomes angry edits made article After multiple revision LEGITIMATE edits I made article I told leave alone He proceeded foul discussion page unwanted unsolicited comment When I objected goaded calling profanity While I respect role Wikipedia Administrator I like respectfully request future exercise better discretion blocking user based one sided information Thank understanding',\n",
       " 'Links Results A mess link anywhere except actual book',\n",
       " 'It added Glebe Park link though I might wikified I never actually I afraid I much help moment though I meaning go look',\n",
       " 'Go away Why revert edit Blowdart user talk page Surely thats privelege Users like give wikipedia bad name Stop busybody',\n",
       " 'head ways pound feel like play dow dont tuch fall',\n",
       " 'Sarek Vulcan Unfortunately ban fact Sarek Vulcan Unfortunately ban fact Fact Lawrencenkhoo told Wikipedia company keep retained profit bank Fact That absolutely untrue Fact Sarek Vulcan ban stating Fact Sarek Vulcan ban ban fact',\n",
       " 'Keep chin Darwinism accepted night There appears sense AAT origin sort cut hypothesis ancestor went swinging tree prairie eon later take sedentary life style could edit Wikipedia face book etc day One watch little kid beach The first time wave throw bottom elbow may well cry time wait get water It home sea edge environment hard wired gene Unfortunately rise sea level since time mean evidence coastal community may never found Keep plugging away old hypothesis fade away',\n",
       " 'Nazi filth impolite Jan UTC',\n",
       " 'Interesting I checked case number Kunzang Lhamo cited used Wiki since original research But going step I find case number San Bernadino Open Access either civil criminal record',\n",
       " 'The transcluded part GA review seem update main talk page article correctly May click go subpage get date version Sorry looong You skim content related stuff I guess',\n",
       " 'Protecting Causes Palestinian exodus Hi Can explain talk page protected article There edit warring going heavy standard article Also I participant mediation case concern actually use one source page irrelevant present edit warring Therefore I wondering motivation Regards',\n",
       " 'Hello I check personal page often Please leave message discussion page Tks Marvio',\n",
       " 'My thanks I note I dressed everything nice editor I like work way deleting messy post talk page Well mess mess Again thanks Stephen Please take gratuitous ingratiating imacowboy',\n",
       " 'I care say I believe one sentence anymore',\n",
       " 'Anytime want nightcap tell',\n",
       " 'Meet Local Vietnam TV Series Factual Documentary min Meet Local Spain TV Series Factual Documentary min Meet Local Tasmania TV Series Factual Documentary min Meet Local Ireland TV Series Factual Documentary min The Way Camino de Santiago Feature Factual Documentary min African Stories Online Factual Documentary min Overlander Multimedia ABC The Outback Boxing Troupe Online Factual Documentary min Overlander Multimedia ABC Australia Production Company Returning Home A Story Ararat Online Factual Documentary min Overlander Multimedia ABC Meet Local East Coast Australia TV Series Factual Documentary min Meet Local Outback Australia TV Series Factual Documentary min',\n",
       " 'Globalization Ivytrash I Ivy anything That home I born raised block Harvard Square greatest place country I interested globalization I look square see smoking ruin home When happens I hope globalization comfort enough',\n",
       " 'He self confessed approved observation see e g history Soviet partisan BTW first object',\n",
       " 'And btw speaking Armenian genocide follow wikipedia convention common name I agree Assyrian common name also proven many time change name current article Assyrian genocide Seyfo',\n",
       " 'To quote If Wikipedia article link page someone concerned article contains inaccurate statement Such statement followed following warning dubious discus The accuracy statement may cause concern It contains unlikely information without providing reference It contains information particularly difficult verify Please DO NOT remove dubious reference edits would guideline',\n",
       " 'Belarus developed country Hahaha nothing say',\n",
       " 'Censorship Islamist Terrorism Try censor monger Properly cited information deleted',\n",
       " 'If would like write article Bill father including rise CEO Commonwealth Edison feel free This article Bill We writing chatty book lenth biography stating fact biographical article Wikipedia The detail father career irrelevant although eventual stature CEO This yet another issue already resolved',\n",
       " 'Thanks Really cool tool purpose like I userpage Best Tally ho',\n",
       " 'It funny would say exactly thing Astarti anonymous user ip greece user WilliamThweatt Accusing people without reason allowed wikipedia As per wikipedia rule free ask investigation In fact kindly ask If vandalism persists seek arbitration I kindly ask moderator see reverts confident conclude mal intentioned clear nationalistic agenda guy something common greek',\n",
       " 'I watched entire series I agree entire article several suzumiya haruhi article somebody know haruhi personally sort view So Im going fix',\n",
       " 'Agreed take stab It also need major formatting cleanup Wikifying sound much like fan conversation reference either YouTube link personal communication I trying least pare BEST MUSICIAN EVER statement could use help discography section',\n",
       " 'Vandalism e g type edit somebody said The Stig leaving I reverted basically I reverted source suggest leaving I know vandalism I want carry editing Wiki I love place amazing please make leave I explained please please unblock Thanks',\n",
       " 'Baer didnt invent video game This jewish propaganda supported wiki troll named Goldberg Go figure Hey goldberg try educating http www youtube com watch v EfBwz SiK',\n",
       " 'I tell argument newseventsguy It YOUR retroactive reversion simple edit trying include secondary independent verification sedimentary nanodiamonds Younger Dryas sediment Bement Madden et al WITHOUT DISCUSSION reference I notice NOT YET included reference list still time This ADMIT ignorant peer review literature controversy Any attempt simple reference list edits page stomped le five admittedly biased ignorant editor The honorable thing would recuse editing page I But I seen happening Good luck already made complete fool',\n",
       " 'HELLO HOW DO I GET SOMEBODY TO FIX SHIT AROUND HERE',\n",
       " 'Dictionaries How dare call contribution spam I Kurd I made lsit kurdish dictionary bloody turkish nationalist atoricity commiting bone breaking Nazi watch folk slimy Turk trying censor internet undemocratic Turkey prison cell wikipedia stupid Turk And bugger want membership EEC',\n",
       " 'Apparently editor agree edits I made justified A group meat puppet working team revert article POV caused block At issue advert tag justified placed article one editor replaced replaced another editor replaced Three editor far indicated tag belongs I sure forth editor going weigh side The article riddled brochure language Please note I removing brochure language right lock article There still lot need come advert tag removed Additionally I believe I broke RR rule requires fourth reversion',\n",
       " 'While I agree Indus valley civilisation correct name civilisation passage quoted neccecarily factual term saying Second proof mighty Sarasvati Rigveda fact dry river identification open doubt Apart fact proof indicate Saraswati exist dry river including geological fact dried The evidence also point fact NOT tributary Indus refuting point passage quoted fact drew water Sutlej Yamuna river system And though large number site found along river system none scale Harrapa Mohenjodaro leaving Indus Valley tag correct one Saraswati exist today timing disputed existence Wheter vedic indic v Harrapan non vedic disputed today existence',\n",
       " 'December UTC Thanks I started working Pranagnihotra Upanishad I unable get full text Deussen Sixty Upanishads page appear book Google url Can suggest url give full text In meanwhile I completed short article Sharabha Upanishad may like see add edit Nvvchar',\n",
       " 'I insulted people en wiki criterion provoke filter set You simply abusing power people handed',\n",
       " 'Excellent That would great The comment found peer review also helpful I time actually act upon suggestion Cheers Hello',\n",
       " 'How know dead Its plane crashed Jeezz quit busting nut folk',\n",
       " 'Afican Union site vandalism Dear BracketBot I wrote note inform editor performing act vandalism website African Union http en wikipedia org wiki African Union Please I would appreciate could tell I report action Board Index name http en wikipedia org wiki User Knisfo',\n",
       " 'You know Jimbo Why get life instead sitting front computer day The high priestess knowledge indeed',\n",
       " 'All statement need referenced Leaving article unreferenced every section open door original research introduction factually inaccurate information To point one thing I bring Consolidated Appropriations Act First number tag creation article need tagged reason number remove flag Second reference link provided article one information various subpages It appears entirety article found deeper link It possible came well I tell I also note style summary taken never meant encyclopedic article riddled grammatical error mostly incomplete sentence On creation opening read Consolidated Appropriations Act H R bill passed th United States Congress I never heard usage rather assume incorrect another editor changed lead also missing important determiner In case take look Vesey',\n",
       " 'Ok I ask For experience think portal',\n",
       " 'Sitush anyone assume good faith writing much Yadavs page It evident discussion conveniently selecting source negative conveniently rejecting source positive You person spamming article vandalizing Yes I contribute article Wiki let first correct thing Yadav much wrong going You got Ikonoblast banned got banned get anyone banned differs biased stand Yadavs I going give I follow WP policy ensure I get thing corrected Yadav dont let fowler personal view dominate page Peace',\n",
       " 'December UTC Don worry I told I back I continue defend ya Yup got proof work When I first saw I like That reliable source cause I remember reverted source one time But I looked article saw Ref I like Oh shit I reverted I glad went going back I glad two word gone save Question Would like expand lead SS member Hit',\n",
       " 'November UTC I agree Clearly Santilak using usual bag trick SantiLak please discus article courteously professionally',\n",
       " 'Ok I like pyx lax track much indeed If could point towards greek trad music would great greawt Here Irish Non visto Provvedi',\n",
       " 'pitchfork already Jun UTC',\n",
       " 'Again reinstated sentence Nobels first paragraph reason stated If others disagree defining characteristic Bx Science indicated right front summary paragraph discus rather playing edit game removing text without either edit summary discussion talk page',\n",
       " 'I disappointed successful run',\n",
       " 'Elvis Crying Chapel Feudalist',\n",
       " 'Please refrain adding nonsense Wikipedia Fisting It considered vandalism If would like experiment use sandbox tlka',\n",
       " 'Elizabeth Hi lil romeo I one biggest fan I really like I always dream night I would like come Dallas Tx Ignacio Zaragoza give concert Elementary school I th grade I year old I want come help homework See later I write soon By',\n",
       " 'Hi Fracophonie Thanks taking time write long message I appreciate In term I said age I mean cause offense I thought I read somewhere make decision I think I getting confused check user privilege I already read policy read rest later today I troll I need time get used acronym policy etc From started writing article favourite website turned massive thing I expecting I really time argue debate usrs since clear want deleted despite I said For example one user wrote another site called Amirite net This Amirite com This precisely I keep responding AFC delete page In term rest I agree course I apologise I unblocked apologise On side note I actually French Jewish shame gay part though',\n",
       " 'Welcome Hello Soundchu welcome Wikipedia Thank contribution I hope like place decide stay Here page might find helpful The five pillar Wikipedia Tutorial How edit page How develop article How create first article using Article Wizard wish Manual Style I hope enjoy editing Wikipedian Please sign message discussion page using four tilde automatically insert username date If need help check Wikipedia Questions ask talk page ask question page place help question Again welcome WikHead',\n",
       " 'I removed content tagged uncited Mattisse If every commonly known fact need cite editor en passent want nominate FARC appears problem I much suspect Mattisse motif frankly I tired bothered explore Perhaps one probabtionary mentor interested I would care deal',\n",
       " 'Is Jeff Garcia gay',\n",
       " 'That sufficient need explicit permission use text copyrighted someone else licence suitable Wikipedia Please read guide requesting formalizing permission use copyrighted work Wikipedia Note addition copyright requirement article must still comply notability guideline advertising prohibition avoid conflict interest talk',\n",
       " 'The section useful info stay clearly wrong',\n",
       " 'Comment So stuck week broken link Since acknowledge move mistake uncontroversial please revert If anyone want dispute opera primary topic proper requested move discussion done first place If willing able today I ask another administrator',\n",
       " 'It need included context well I try dig source User Talk Review',\n",
       " 'Tim firstly I appreciate taking time discus issue offline willingness debate length despite majority view favour Yes I certainly agree friend important describe jurisidictions firm present clearly massive diffence say office French Japanese jurisdiction Chinese U S jurisdiction since legal regulatory system different well commercial characteristic market Beyond however remains firm view big difference law firm office say Paris Toulouse even though jurisdiction I appreciate situation U S slightly complex since federal state jurisdiction Even within state big difference legal market different city though To give example San Jose market lot smaller overall Los Angeles market also quite different profile whole lot specialist niche focused high tech To give another example UK law firm could never regarded truly top tier office London even office every big city In fact top tier UK firm DLA Piper yet regarded one despite size one UK office London although office overseas Saying DLA office across United States Egypt South Africa Kenya Thailand China would view still mean loss valuable information reader We could fall back using description like major financial centre major commercial centre combination major financial centre major commercial centre introducing view unnecesssary element vagueness imprecision even original research I accept DLA office right borderline many office make practical list article However I also feel important general point principal information office location law firm valuable information aid reader article understanding subject included much possible',\n",
       " 'No problem If think problem someone siting I mistress prof point far site actual encyclopedia It forum encyclopedia Big difference And even piss page Thank god I single chick bitching would another attorney fee I handing sue whoever owns site I done bitching mistress thing My whole page error first line last line joke First line last line wrong',\n",
       " 'Sprecher Brewery I took tour christmas visiting sister We charged extra glass Their website may updated IS current pricing',\n",
       " 'iPad talk page Why remove IP edit talk page It spam',\n",
       " 'Speedy deletion Andrew takao A tag placed Andrew takao requesting speedily deleted Wikipedia This done section A criterion speedy deletion article appears person group people indicate subject notable article subject included encyclopedia Under criterion speedy deletion article indicate subject importance significance may deleted time Please see guideline generally accepted notable well subject specific notability guideline biography If think notice placed error may contest deletion adding top page existing speedy deletion db tag coupled adding note talk page explaining position aware tagged speedy deletion article meet criterion may deleted without delay Please remove speedy deletion tag hesitate add information article would would render conformance Wikipedia policy guideline',\n",
       " 'Image Image deletion warning Image Metroid Prime Hunter title screen top display jpg listed Wikipedia Images medium deletion If feel image deleted please go voice opinion August UTC',\n",
       " 'The real personal attack repeated undoing edits everyone else',\n",
       " 'Nope I read guide appealing time The user question IS engaged harassment I long enough know I prove He immediately placed threatening notice blocking permanently user page reverted article I midst editing second pas even preview change changed mind real wiki sin since onus proving Doris Day available PD archive org usual span pre Bern expired long ago decided REAL sin Original Research oh no continued revert based Does OR add clutter Sure user question REALLY concerned quality article extraneous detail WHY DIDN T HE SHE EVEN NOTICE two paragraph already comprising entire article dealt Norman Schwarzkopf unrelated book unrelated ice cream store name I tell user engaged good faith goodwill editing normal back forth lead better article He involved blocking input article Why Was personal preserve existing content article including false claim extraneous material even concerned ther subject hand I speculate I guess sort power trip wiki bullying I really time I made fair number good edits year usually refrained saying anything directly related content improving article I could pretend user I wasting time I really stake pretense I stake improving article either dog race I see improved made informative As long term wikipedia user editor I see problem jumping fixing something I almost expect sort pushback completely minor edits good target minor stub like article The problem people user question get away sort behavior getting away wikipedia becomes much poorer place playground filled bully rather library learn share Also I recal ever called bot I think put word mouth perhaps inadvertently His behavior malicious probably malware normal human collection problem I think user warned trying gatekeeper quite qualified point anyway chilling effect across wikipedia I egnage battle wikipedia rule acronym I continue write English read article wikipedia English think way improve English I fully aware term vandlism used misused rest wikijargon Nothing new sun If read edits I made carefully note time reverts history action user see I mark I know going I know I I expect motivation interesting Respond anything say',\n",
       " 'communist state three call socialist state communist word westerner use name changed',\n",
       " 'Boze Hadleigh journalist interviewer writer primarily gossip homosexual Hollywood',\n",
       " 'IMDb content user submitted often subject incorrect speculation rumor The use IMDb Wikipedia referencing considered unacceptable strongly discouraged Wikipedia WikiProject Film Resources self published medium largely acceptable This includes website whose content largely user generated including Internet Movie Database IMDB WP USERG As I said long standing consensus If disagree I encourage take Wikipedia Reliable source Noticeboard',\n",
       " 'I new mean communicating I sure I expressing right form However I reviewing recent MA nomination expected go web next couple month In process I developed database corrected lat long decimal degree based Google Earth photo assessor map nomination file I would like share way Alternatively find way EASILY check correct existing coordinate Mass Wiki Lists Would useful anyone',\n",
       " 'Y kgtp actually reverted vandalism I',\n",
       " 'Yes I read I ask provide back story Not matter least one religion bad But better proof claim ChatNoir',\n",
       " 'I think error gram kilogram So kg I editing article til better result If I wrong please change back Dec UTC',\n",
       " 'Vince FYI Yellowfrogs Longdendale Councillor Sean Parker Perry frequent purveyor Greenwash four square behind destruction Swallows Wood via support bypass He vigourously editing wikpedia page Longdendale Bypass Roy Oldham page order boost fake green credential obfuscate neutrality article He get nasty get pissed threatens spurious legal action fortunately legally illiterate put',\n",
       " 'Summary situation User ShimShem taken dislike article tried numerous method either get deleted name changed Completely invalid speedy deletion request Invalid DRV request Nominated deletion via AfD despite fact passed AfD year fact AfD withdrawn Keep The current AFD stand Keep despite ShimShem wikilawyered way became clear going kept decided name change would better Changed name band article told take talk After brief non discussion talk moved article anyway reverted I originally unsure motif editor completely desperate delete move article I noted interested Tamil subject one M I A artist guessed believed two could confused Their subsequent creation article M I A redirect M I A artist proved far I concerned As whether band actually called MIA M I A differs The band us M I A heading website us combination elsewhere Since case source likely laziness much R E M regularly referred REM since article existed backlinks go version let disruptive user get way article stay',\n",
       " 'It unnecessairy source matter many soldier killed What matter Safavids deposed Besides mentioning information WITHOUT making remark brutality Afghan force example complete massacre Safavid family including woman child well massacre civilian population Isfahan Bam village Khorasan considered POV Besides shown source claim soldier killed And edits matter YOU believe matter Wikipedia rule You posted message without editting ANYTHING abusing article history message board Use REAL message board instead',\n",
       " 'Whoever wrote Plot I feel terrible whoever watch movie detail write plot line Who ever took time write plot section must traumatized life However missing part Milo son laying belly unconscious bed Milo anally rape several masked men watch Also use knife sword scene This truly one sick film No artistic message This film basicly middle finger sick minded film maker The cast must tricked participating disgusting film There artistic gore classic film Begotten Listen DON T WATCH THIS FILM NO MATTER HOW MUCH YOU ARE TEMPTED',\n",
       " 'As asked admins comment I refrain I however remove personal attack anyone wish discus action please email Windows',\n",
       " 'Can compromise I think budget salmon least Netherlands fish affordable Dutch called salmon trout So far good S Marshall Fortunately one yet discovered used run drug cartel danced nightclub la Henry LaFarge A Shot Dark Ssshh I telling Oh I ask RfA proper use citation template Later',\n",
       " 'Sorry I sure take care He quite history actually legal case involving Dayton Daily News Wikipedia risk edits page affiliated company The actual sockpuppet puppet hdayejr',\n",
       " 'We agree disagree relative merit fish character red seabream part family Sparidae anyway So usage outside North America right',\n",
       " 'Large ship typically launched water hull completed mean construction work finished Usually still significant amount work done including finishing interior ship building superstructure etc Take look Image SMS Seydliz construction jpg example see ship already water significant amount work done superstructure You also read Ship naming launching information launching Hope help',\n",
       " 'point I predictably ignored stonewalled seems Wikipedia staff official response direct questioning Justin Berry issue One might think hired Scott McClellan handle PR Clearly aware untenability position really hoping go away Sorry guy',\n",
       " 'You need prove notability using reliable source Just festivity large organized part country make notable Also need change username one probably blocked soon violating username policy name web site business talk',\n",
       " 'meter sigh concern Only Mr meter reverted contribution mine given article far I single chance develop His article called falsetto falsetto It may arrogance know There huge contrary regarding definition falsetto There many sign entirely different falsetto compare info Mr meter anxiously protects In England Italy Spain th century described entirely different type falsetto On top Mr meter perhaps never heard Pavarotti singing falsetto falsetto Ian Gillan Singing King Diamond based falsetto What Michael Kiske Is falsetto Mariah Carey Whitney Houston sing falsetto Does falsetto sound breathy Not Isn published note Maybe meter look Why It would fit article He would admit ONLY source Vennard probably chair something else falsetto drunk meter quickly opened two three book thing swallowed World The whole physiology falsetto based encyclopedia Well perhaps enough Wikipedia But No There much regarding physiology Much much And allow idiot like meter develop Wikipedia people reader Wikipedia read shit Where prof research regarding female falsetto y Mr Know Everything Feel free block I desire write',\n",
       " 'You also forgotten Premier Leagues But still written English',\n",
       " 'Please replace Wikipedia page blank content Blank page harmful Wikipedia tendency confuse reader If duplicate article please redirect appropriate existing page If page vandalised please revert last legitimate version If feel content page inappropriate please edit page replace appropriate content If believe hope page please see deletion policy proceed Thanks contributing Wikipedia talk',\n",
       " 'What motherfucking piece crap fuckhead blocking u',\n",
       " 'UTC That I made table I classed everyone independent unless I could confirm party identification According DLP intended run constituency According least candidate I able identify two far need identify December',\n",
       " 'Removed POV I removed undo criticism Secretary Boutwell POV Wikipedia meant bash person reputation whether alive dead The following removed article Boutwell little withdraw paper currency circulation shaping financial policy forestall either inflation deflation Intellectual critic saw action want guiding principle lack solid theoretical knowledge He believed knowledge far convenient justify theory knowledge deception Henry Adams wrote much quoted analysis He believed common school political science ledger cash book Adam Smith Mill one might believe multiplication table Laplace Newton By natural logic made disbelief higher branch political science basis political practice thus grounding action ignorance carried principle remotest conclusion Henry Adams The Session North American Review July p But corrupt time spoke well Boutwell nobody thought made money Cabinet post either friend Living within salary lodged boarding house throughout tenure His pleasure lay writing lecture playing billiards poker though never money Chicago Times March He inaccessible man uninfluenced fear favor affection hope reward burst brillian exhibition love hatred New England politician wrote brother Henry F French Benjamin B French March Benjamin B French Papers Library Congress Boutwell financial policy le dogmatic pragmatic Liberal reformer hoped would embrace civil service reform rush country towards resumption specie payment Boutwell appointed subordinate basis merit part little rein spoil system outside Washington remaining friendly term party boss',\n",
       " 'You sir imbecile pervert',\n",
       " 'recaptcha defamatory relates computer system living person ReCAPTCHA force user solve Captcha access whatever service question Forced labor definition slave labor going revert reversion please report vandalism also please send threatening message tia',\n",
       " 'Question Possible Citation I sorry I missed question I pay much attention page In response question let start repeating boilerplate formulation The job Wikipedia editor verifiably summarize reliable source using neutral point view I yet worked original research WP NOR say integrate otherwise reliable information arrive novel conclusion Comparing two list drawing conclusion difference similarity likely original research We integrate information long arrive new theory Another principle remember vagueness improves accuracy The precise harder accurate Getting detail Predators Editors website appears reliable source use source The Bauer site even somewhat unreliable may used limited fashion primary source Bauer I familiar enough topic make pronouncement would correct However I would say proposed text appears reasonable The source sufficient original conclusion made The website takedown issue confusing able summarize find reliable source Overall opinion le say subject better Attack article encouraged While must show subject wart enlarge wart ignore better feature Balance part NPOV able summarize find reliable source There reliable source said said blog flame war It alleged website takdown instigated Bauer It clear factor forum IP known It root cause article player involved via blog I see objective Bauer I sorry I get back Usenet stuff et al I somewhat overloaded work Personally I think article better I first saw thanks lot effort part primary editor article bring best source present way seem like lynch mob Y good job enough editor either side ensure something resembling nuetral get posted I glad help try make article neater I mean sound brusque summary field lot cram Thanks note I appreciate I would say Karen saying I called name fabrication I never done thing whether able insult call name Wikipedia repeatedly without consequence I accused Jule carrying water TNH Absolutewrite That namecalling long stretch I really weary attack This mob rule While avi seems genuine hanging tough insulting tribe The threat real escalating hour Blaming make point le valid Nobody like piled crowd It Internet equivalent stoning This fabrication I get awfully tired called troll part mob cult group troll self interested partisan blog comment commando thing I could point I wanted depress You also made theoretical comment nosy fat ugly Putting word front make le insult I tried polite continue response And please notice like abi Avi Avraham admin abi ML commenter belief kindness I counseled piling Talk contribs Those ad hominem name Karen Yet linked thread Teresa caled psycho You hear said private I asked NOT spoken negatively thread Making Light It obvious two pro TNH absolutewrite That self interest backed fact run counseling Well avi make decisons sh',\n",
       " 'Infobox hurricane season It pretty much complete I need make documentation possibly tweak thing may pop You might want test question suggestion I go ahead address',\n",
       " 'Show Wikipedia say table width wide Collectonian Why answer question',\n",
       " 'Why article marked fixing I hoping would guideline talk page research edits The article look okay cursory reading non Wiki reader',\n",
       " 'Castro lite WebLuis continues revert watered preferred image Castro He backed edits fact whined personal attack nonexistent empty statement Mar UTC',\n",
       " 'Antonov revert If like red link removal add table I made Also reverted edit I added logo Antonov said edit summary',\n",
       " 'Another crap article Parrots promotion website capoeira school say myth origin And also persecution thing By late capoeira became word street brawling Thus authority prohibit sanction practice capoeira In banning capoeira banning outright street brawl It Mestre Bimba presented art Luta Regional Baiana No decent carioca would eager sympathise capoeira malandrismo I could attempt alter article become mess',\n",
       " 'I never edited content comment please correct false accusation',\n",
       " 'REDIRECT Talk Jos Manuel Rojas',\n",
       " 'I agree clearly The medium make spouse household name There nothing stop But Jim rightly point Rein notable political spouse prominence businesswoman potential conflict interest trying avoid Nick',\n",
       " 'For Security Reasons edit war As I said edit summary term For Security Reasons ambiguous properly established source Further unnecessary You crystal ball know I said earlier Janes perfect The reason MG manufacturer alter part interchange US BATFE make Suddenly Glock different Yeah I guess like Glock compensated pistol acting like compensated pistol I wonder actually shoot bullet',\n",
       " 'This represents immaturity consistence disruptive behaviour talk',\n",
       " 'Macedonian Slavic Bulgarian possibly Notes Republic Of Macedonia Recognises language dialect Macedonian language Greece eg Recognises speaker slavophone greek Bulgaria Believes Macedonian Dopia Slavic Macedonian part Bulgarian Diasystem European Bureau Lesser Used Languages Recognised Language Macedonian Ethnologue The comprehensive guide world language http www ethnologue org show country asp name GR go clarification Altough know stance various Governments anyone current source please add I hope table clearer still need NGO Albania EU etc please add constructive comment',\n",
       " 'If feel I acting manor inconsistent responsibility post something Wikipedia Administrators noticeboard Incidents If want make change University Wisconsin Madison reliable source reference support change post reference change This Tutorial may help reference If question ask',\n",
       " 'Part editing encyclopedia reducing extraordinary claim ordinary fact I assume meant derogatory fashion',\n",
       " 'CfD nomination Category Wikipedia administrator I nominated deletion Your opinion matter welcome please participate discussion adding comment discussion page Thank',\n",
       " 'I also sock puppet account SUPRISE sincerely The man track Internet kill',\n",
       " 'All source needed provided need read article I guess read Once prove even reading article Every edit backed source came I NOT going provide detail merely civillain editor Wikipedia staff member You info need within PIRA text edits If actual Wikipedia staff member want specific I happy provide Look obviously Anti IRA hack making thing support bias I neither pro anti IRA I bias I merely report fact I checking page daily continue submit PIRA entry far accurate factually supported We several time day wish accept fact mine superior version deal It I edit regular basis Or agree incorporate fatcxs mine one article But three area The number Loyalists killed The number IRA victim broken Janes Intelligence online CFR IRA RussianMafia connection documented multiple book newspaper source These three thing verifiable remain',\n",
       " 'Are fucker mother fucker nothing block University computer Go suck cock',\n",
       " 'It one many book various band I thought Cult Rockers I checked Supertramp I seek source quote',\n",
       " 'HELLO You disgrace humanity Stop wasting valuable Internet resource killing fucking planet throw PC PS like fark kinda life Wikipedia A VERY SAD AND LONELY ONE LOL Life short find something better',\n",
       " 'I explained reasoning block User talk Gwen Gale User Professional Assassin',\n",
       " 'When article created album disambiguation page created',\n",
       " 'That would pretty odd declassified document mention movie created event movie document related The declassified document synthesized movie unless want prove conspiracy synthesis odd It perfectly valid use document relate historical event verify happened use primary source ideal wikipedia Since ideal I left talk page someone want research find ideal reference',\n",
       " 'Your retarded bot Your bot entirely automated wrong You leave unattented script running site like idiotic suppose scripting ability perfect ever make proper edits Banning help anything dipshit since I many IPs I want',\n",
       " 'two reversion Hezbollah Could explain talk page reverted edit twice',\n",
       " 'DISLIKE RACISM AND I CAN SEE THAT YOU HAS PROBLEMS WITH PEOPLE WHO SPEAKS SPANISH YOU ARE AN ANTISEMITE TOO',\n",
       " 'The name Yuen Lou look variation Yuen Lo name Jackie used sifu opera school',\n",
       " 'User talk Wikireader Archive Archive Mar',\n",
       " 'I realize article quite say I thought said If anyone find citation stating exists proper subfield isomorphic I would interested seeing could reinclude clause citation',\n",
       " 'I cherry pick anything official fact While essentially every CNN program double digit pmET home Piers Morgan Tonight pmET home Erin Burnett OutFront worst performance demo year http www mediabistro com tvnewser may rating cnn hit year low b',\n",
       " 'Direct Indirect relation Is correct say technically degree shot elevation reach longest distance degree reach distance degree shot If could lower shot considered direct fire higher shot considered indirect fire If I think great explanation one way viewing thing',\n",
       " 'Title section revert Hi I office earlier I noticed warning restoring title section I sorry Of course I revert Just clarify I opened new section indeed alert contributor behaving way line example ownership behaviour described In return title section twisted something unrelated one message erased It first time I see people editing signed contribution talk page This look crazy',\n",
       " 'Noel expert Please convince Whig history fan lazy mind Bonnie Prince Charlie want dissolve Union United Kingdom began Stuarts opposed Hanoverians Tell Whigs rewrote history blame everything Stuarts credited ultimate failure positive contribution foundation Great Britain Stewart Tudor blood The Sovereign Realm else kingdom The British might well living republic least Parliamentarians way Even Hanoverian heir recognise Stuarts founded UK Please debate thanks',\n",
       " 'Warning Earth I like leave access talk page perhaps six month convince u try inclined But making hard If continue abusive comment I revoke talk page access',\n",
       " 'jaeger regardless people decided erens name jaeger like calling light death note raito least anime people dubbing take care correctly pronounce foreing name ie except mikasa jaeger mean hunter german word guess eren series',\n",
       " 'Thank experimenting Wikipedia Your test worked reverted removed Please use sandbox test may want Take look welcome page learn contributing encyclopedia A link edit I reverted found link If believe edit reverted please contact talk',\n",
       " 'Please discus factual accurate biographical information Courtney Ford vandalism I look forward hearing evidence',\n",
       " 'I think entire article tagged politicized part future trend speculative My point scientist learner increasingly using know teacher Yes probably make educated guess better anyone else still educated guess Also notice I totally spewing unnecessary carbon statement I think article superbly miss point pollution waste ALL TYPES stupid way go thing better way known making guinea pig planet specie point',\n",
       " 'Used Car Expert page image Thank note image Used Car Expert magazine I copyright owner gave permission picture email',\n",
       " 'However still error assert work equation handicapped',\n",
       " 'First widely established use Exile quotation presented legitimate Second I Mark Ames This autheticated numerous admins user Wikipedia personally met Third cite paragraph Spy magazine primary example POV creative fact What precisely creative fact paragraph That eXile admired Spy magazine That Spy magazine employed team lawyer defend spurious lawsuit That Spy Magazine went bankrupt All claim paragraph verifiably true',\n",
       " 'Pretty humorous comment someone promotes far leftist blog Daily Kos user page',\n",
       " 'Seems',\n",
       " 'Don evasive I shall repeat How many people argued deletion Don lock page get way',\n",
       " 'Edit request October The Arctic Monkeys played Walk Wild Side honour Lou Reed Echo Arena Liverpool day musician death http www rollingstone com music video arctic monkey cover lou reed walk wild side',\n",
       " 'Welcome Hello welcome Wikipedia Thank contribution I hope like place decide stay Here page might find helpful The five pillar Wikipedia How edit page Help page Tutorial How write great article Manual Style I hope enjoy editing Wikipedian Please sign name talk page using four tilde automatically produce name date If need help check Wikipedia Questions ask talk page ask question place helpme question talk page Again welcome talk',\n",
       " 'Gurch interesting fellow Just take comment heart take advice board Talk',\n",
       " 'IT WASNT VANDALISM DICKHEAD',\n",
       " 'You need understand help Wikipedia political mission attack brazilian press I crazy I see crazy people day Brazil',\n",
       " 'season issue Not sure removed edits season futurama issue I think merit The total lack season info confusing sure season info replaced movie information You could informed least removed discussion comment',\n",
       " 'Philosopher RFC philosopher Wiktionary A person devoted studying producing result philosophy I going make case must call Stefan Molyneux philosopher without qualifier lead This done endorsement statement level achievement acceptance philosophy career Note Not source I use article present The point first convince RFC respondent philosopher accurate widely accepted make sure reliable one place Definitions Obviously source going use slightly different phrasing Some call explicitly philosopher view philosophy I think consider phrase given equivalent Using one word philosopher lead sentence cover political ethical theistic specialization one word elaborate later article philosophical conversation philosophy show used describe Freedomain Radio series libertarian libertarian thinker Libertarianism classification political philosophy anarcho capitalist Anarcho capitalism political philosophy voluntaryist Voluntaryism sometimes voluntarism libertarian philosophy athiest Arguments atheism range philosophical social historical approach ethic Ethics sometimes known philosophical ethic ethical theory moral theory moral philosophy branch philosophy Secular ethic Secular ethic branch moral philosophy Primary source As Stefan Molyneux living person give great weight say focus work stated profession unless reliable evidence contradict obviously want host sort fringe claim If dispute say though absolutely must strong basis open Wikipedia discredit liability BLPs held strong standard first place I think case strong ample evidence calling philosopher justified correct He modern philosopher explores via modern online medium obviously new phenomenon understandable different old school philosopher used Freedomain Radio About page Master Thesis analyzing political implication philosophy I fascinated philosophy particularly moral theory since mid teen I left career software entrepreneur executive pursue philosophy full time work Freedomain Radio I written number novel well many free book philosophy Freedomain Radio show Molyneux host tagline The Largest Most Popular Philosophical Conversation World Molyneux book show endeavoring produce tangible written result field philosophy particularly Universally Preferable Behaviour UPB A Rational Proof Secular Ethics Against Gods A Concise Guide Atheism Agnosticism two deep dive fundamental philosophy Strong Atheism The Case Evacuating Middle Ground article Why I Am Philosopher video A response question childhood motivation pursuing philosophy An Introduction Philosophy part video course produced Molyneux describing basic philosophical concept Reality Knowledge Truth Gods Religion Ethics Politics Unsolvable Philosophical Questions Solved video tackle great philosophical question considered unanswerable Proofs God Destroyed Philosophical Atheist video A Philosophical Review discus major philosophical political economic social development video http www youtube com watch v udLsGJbw Hs Philosophy Questio',\n",
       " 'WP FILM December Newsletter The December issue WikiProject Film newsletter published You may read newsletter change format future issue delivered unsubscribe notification following link If idea improving newsletter please leave message talk page Happy editing talk contrib',\n",
       " 'January UTC NO NOT uncivil Try UUser Lbrun called user waste sperm moron etc Block one truly uncivil Rikara I recommend cool Yelling arguing going get anything Take breather come back feeling calmer Otherwise find talk page protected forced take breather I seen nothing sort user since renamed least current situation Blah v v',\n",
       " 'You Suck If undelete page Barry Dejay I',\n",
       " 'See Internet Explorer Market share history overview year version IE u time come like But others using problem fine I worried specific workplace come howl',\n",
       " 'I like example given following post http theautomaticearth blogspot com july real black real swan html',\n",
       " 'Curse Wikipedia respect God Wikipedia full lie dangerously evil half truth Wikipedia respect religion The following user Wikipedia namely Redtigerxyz Priyanath Emperor Genius Raj Wikidas Wikiveer DaGizza committed blasphemy sacrilage Curse upon perish I curse following user Wikipedia namely Redtigerxyz Priyanath Emperor Genius Raj Wikidas Wikiveer DaGizza perish I curse Wikipedia entirely perish I beg forgiveness Supreme God Lord Vishnu choosing blasphemous Wikipedia website write truth A true devote Supreme Lord Vishnu hurt curse never go vain I never edit read go evil Wikipedia website forever Delete user id edits evil Wikipedians Mr DaGizza Male Chauvinist Pig misogynist core call administrator Ridiculous Mr DaGizza curse existance A man like respect woman worthless existance You Wikipedians useless people You burden civilized world You even worth hatred You Wikipedians must ignored Curse',\n",
       " 'Hahaha dont actually believe bullshit telling right You talking access country representative government Kim Jong Un Those two totally different thing although I could understand stupidity since North Koreans think Kim Jong un governement im saying Go Troll somewhere else kid',\n",
       " 'Blocking Mardyks Guess Loser Know cockblocker Hahahaha M',\n",
       " 'I want use I understand FayssalF insists NAccount I could wrote using account maybe would kept instead NAccount',\n",
       " 'Deletion Minority Posts Nice try trying silence slave stay I know attempted block yet I come Wikipedia every day I something life As see failed Again In attempting silence refusing answer qusetion Why purposely hunt post African Americans delete refuse access sporting good store And person contacted attempt block named Rebelguy No racial agenda I made hard copy failed racially motivated attempt punish turned NAACP',\n",
       " 'Thank I wanted say',\n",
       " 'Well never answered question specific intention Talk Mystery Science Theater Episodes Experiments v Movies Can I assume posting title intention create individual MST K episode article I record believing could useful prepared time significant work I stretched way thin right talk',\n",
       " 'Nigel Per wiki standard use external link Is proper context article useful tasteful informative factual etc Is functional link likely continue functional link Each link considered merit using following guideline As number external link article grows longer assessment become stricter When doubt appropriateness adding new link make suggestion article talkpage discus editor I generally avoid external link except take directly home page aircraft question link take directly NASM page particular P make external link appropiate Agree page need reference',\n",
       " 'Edit request Maksudfsa March Just minor edit I added Azerbaijanis list describes turk first paragraph second largest turkic ethnic group The Turks Turkics people residing northern central western Asia Mongolia southern Siberia northwestern China part eastern Europe They speak language belonging Turkic language family Turkic people Encyclop dia Britannica Online Academic Edition They share varying degree certain cultural trait historical background The term Turkic represents broad ethno linguistic group people including existing society Azerbaijanis Chuvashes Kazakhs Tatars Kyrgyzs Turkish Turkmen Uyghur Uzbeks Bashkirs Qashqai Gagauzs Yakuts Crimean Karaites Krymchaks Karakalpaks Karachays Nogais well past civilization Kumans Kipchaks Avars Turgeshs Seljuks Khazars Ottomans Mamluks Timurids possibly Xiongnu Huns Timur The Columbia Encyclopedia Sixth Edition Columbia University Press Encyclopaedia Britannica article Consolidation expansion Indo Timurids Online Edition',\n",
       " 'Nobody care Seriously It self referential trivia Guy',\n",
       " 'understand see see scholarship see stealing grasping greed animalistic try culture switch math wil like levantian math amanbir',\n",
       " 'I guess u know Greek cuz took u forever translate second u read carefully say anything u',\n",
       " 'You never met photographed Keith Wigdor Whoever I asking interfere article Keith Wigdor You resource connection unless somehow deceptive really sort expert artist Dec UTC',\n",
       " 'Holocaust denial If actual proof Jeff Rense advocate holocaust denial category Holocaust denier removed',\n",
       " 'Wikipedia administrator defending mass murdering psychopath',\n",
       " 'Censorship It understanding supposed warn someone asking administrator block So consider warning Don delete comment',\n",
       " 'April Your attitude comment appreciated Please remain civil',\n",
       " 'request help request help Hi Cat perviously I noticed strong anti Greek bias several article related Macedonia I issue Furper Beam seem admins heavily favour FYROM I officially complained notice board threat block edit behavior unusually close relationship obvious FYROM POV member Wikipedia specifically Balkanfever http en wikipedia org wiki Wikipedia Administrators noticeboard This anon apparently User Crossthets C apparent POV Pusher C evidence As I said verbatim Politis talk page This difficult battle far I alone moment I newbie I said one admins notice board I feel like someone reporting bad cop policeman ball However I still plan follow soon precise listing I perceive non NPOV behavior admins I noticed researching issue also problem Would possible list problem talk page I add report show I alone Furthermore since around longer probably know Greeks around Would possible also contact ask also problem two add incident list perhaps get contact others Where one person could bullied threat blocking concern many taken much seriously I check back couple day Have courage Regards',\n",
       " 'I certain injury sickness regardless occurred',\n",
       " 'I told I comment want',\n",
       " 'Wikipedia Articles deletion Cheongye Kwan Your post AFD new martial art bother This version time based post You posted I read article quite honest feel satisfy Wikipedia guideline reliably sourced Since I believe notability article satisfied It independent source And refute argument posed Wayne determined Phillip Rhee source martial art localised Please consider concern post raise Simple matter like reference notability noobie basic AFDs routine moderately experienced user bread butter admin In fact cursory check show almost everything stated I word Unreal close The eleven independent source stated established notability non localization time Three reference coates robinson shaw certainly topic even existed related passing piece news founder team completely different sport event Two reference st half davy white almost certainly identical identically irrelevant topic notability The promoter personal page local town website almost certainly self published official village website A casual interview non notable possibly non reliable university magazine apparently promoter travel see expert different sport tangential tiny sentence mention discussed new sport Lau Philip LA interview entry marked Reference support Written Reference chris cook rhee obviously request founder friend colleague write letter support never published anyway cited read even possibly valid evidence A short writeup local information kind award first black belt school local paper In brief sport existed even remotely topic much le sourced material substantial coverage precisely zero coverage claim personal I think great guy letter support evidently solicited written request zero evidence verifiable existence certainly way reliably sourced independent self written briefest non mention non reliable source pretty much I discussed topic college magazine interview local press coverage course even news day evidence anything beyond course name taught twice weekly local village hall Your assessment AFD It reliably sourced style border c c c solid px width There barely one reliable source sport even exists first place local newspaper mention meet village hall tuesday friday awarded first black belt Probably via self promotional input There zero reliable sourcing rest That cited page evidence notability style border c c c solid px width They mention even date time topic existed online version provided How earth could reliably evidence That source independent style border c c c solid px width claim please support letter exist even stated personal reference unpublished uncited clearly self written web page local village web host That cite show non localized style border c c c solid px width The page list link checked cite yet say citation prof The reference openly stated Cambridge University Bristol Taekwando big indication actual source When link provided request turn',\n",
       " 'Hebrew Name Lydia Appologies Til Eulenspiegel I thought one idiot user page indicates actually well struggling Genesis TAB And Mizraim begot Ludim Anamim Lehabim Naphtuhim You see Ludim Mitzraim confused Lud son Shem far east Best wish keep good work',\n",
       " 'considered irrationally laid waste six month life I dedicated project',\n",
       " 'Did scout source prior prod Eh Dr Blofeld',\n",
       " 'You wasted time Take advice Pull head as Be real spend rest life sucking as Have nice life Goodbye mailbox',\n",
       " 'class wikitable style border px solid aa background f f f padding font size Parliamentary Bloc Alliances Leader Seats Percentage Source National Alliance State Law Coalition National Iraqi Alliance Ibrahim al Jaafari al Iraqiya al Iraqiyya Hassan al Jibburi Kurdistan Blocs Coalition Kurdistani List Kurdistan Islamic Union Islamic Group Kurdistan Fuad Masum Center Current al Tawafuq Unity Alliance Iraq unknown Gorran Bloc Gorran Movement Shorsh HajiAl Iraqiya brengt oppositie en Talabani dichterbij elkaar Azady nl National Rafidain List Assyrian Democratic Movement Yonadam Kanna CSAPC Chaldean Syriac AssyrianPopular Council Sarkis Aghajan Independents',\n",
       " 'I also told count using admin tool deciding content misrepresentation policy norm sanctioned past',\n",
       " 'Welcome Hello welcome Wikipedia Thank contribution one made Nogeoldae I hope like place decide stay Here page might like see The five pillar Wikipedia Help page Tutorial How edit page How develop article How create first article using Article Wizard wish Manual Style You welcome continue editing without logging many editor recommend create account Doing free requires personal information provides several benefit ability create article For full outline explanation benefit come creating account please see page If edit without username IP address used identify instead In case I hope enjoy editing Wikipedian Please sign comment talk page using four tilde automatically produce IP address username logged date If need help check Wikipedia Questions ask help Teahouse ask talk page ask question place helpme question page Again welcome',\n",
       " 'stradbroke galleon portuguese hallo Moondyne I admit I signed onto Wikipedia I aware concensus community knowledge Nazis I aware I make appropriate adjustment I obviously mistaken impression Wikipedia venue sharing fact knowledge information The notion Stradbroke Galleon story pet theory mine total rubbish written discussed investigated year historian historical group Royal Historical Society Queensland Maritime Archaeology Association Queensland many numerous include There exists various library book community large body written oral history concerning galleon story I attempted fairly accurately place WP domain The fact story accepted mainstream academic valid reason deletion either contribution What occured classic example manipulation information resource vested interest group e Hesperian friend representative mainstream view Hesperian complain medium coverage I recieved never appeared WP contribution I made Hesperian mention medium coverage demonstrates core reason Hesperian antagonistic attitude simple old fashioned professional jealousy Thus valid historical data deliberately surpressed Hesperian personal reason For example Portuguese walking stick handle found Aboriginal midden identified Spanish Musuem offical story told UQ Archaeology PhD student relevant theory Portuguese discovery Australia This kind knowledge suppression Wiki I guess care appear part happy little click sucked Hesperian little band mate pity history full suppression information vested interest group I expect Wiki different Still dissapointing Happy trail',\n",
       " 'AGF requires think reverting user preferred version It might look better allow another admin make edit',\n",
       " 'Accents Although cartoon established Mario Luigi Brooklyn fact commonly accepted fan despite never mentioned game Toad seemed speak thicker Brooklyn accent The accent mentioned game TV show presumably licensed product Until Nintendo decided go Italian accent fan assumed TV show later movie accent official standing Only Nintendo product included digitized recorded speech anyone realize Nintendo intended Italian Italian American It principle updated canon Star Trek Star Wars licensed product run',\n",
       " 'Delete No way I consider trophy',\n",
       " 'Actually Bzfoster unable edit article semi protected well PC Log try',\n",
       " 'I believe I obeyed community rule I understand rule personal attack But appeares applied unjustly instance I provided countless hour academic research input Wikipedia Please assume good faith part blocking admin I intelligent adult I naturally assume good faith party demonstrate It seems one side affair',\n",
       " 'Please add unsourced negative controversial biographical material page edit Stuart Tyson Smith If continue blocked editing',\n",
       " 'Preceding unsigned comment added talk contribs',\n",
       " 'Or French Walloons Surprise article French people clearly label Walloon distinct ethnic group Perhaps best make comparison After screwing time I done rewrite part article mainly word sentence left right make distinction relation Dutch Flemish clearer The article switched constantly part Dutch part Dutch Flemish together This clearer The major thing left adjust graph number Dutch since still al include Flemish',\n",
       " 'You need sign RSN post',\n",
       " 'A thing get straight Firstly I like You look like smug little prick Secondly I like ethnicity Not one little bit I like explain count Thirdly dog bit bender',\n",
       " 'Procedure Do I ask award Michelle Obama already million view year Anthony Davis basketball million T C WP FOUR WP CHICAGO WP WAWARD',\n",
       " 'Adding link I add thank link entire page also marked spam reason one familiar one hundred year old industry And still explain link page http en wikipedia org wiki Natural building relevant mine',\n",
       " 'Please accuse member vandalism I mind change word unique prominent remove story dream etc vandalised page made statement biased saying Dr Qadri sent referendum I reverted whole edit You also reciently vandalised page removing name Yemeni scholar recieved Dr Qadri Ijaza including picture clear form vandalism accusing member vandalism vandalise page What I clearly vandalism I reverted edit change made brought page back previous form So would first kindly read rule wikipedia find definition vandalism accusing experienced user You still new wikipedia I afraid need learn work different rule wikipedia making edits',\n",
       " 'I know pronounced Turkish The question whether specific pronunciation dominant English If best include English transcription pronunciation audio file',\n",
       " 'Oh sorry I actually found page I forgot anyway It actually note going rewrite text Suppose slipped mind',\n",
       " 'June Please vandalize page edit Bugatti Veyron If continue blocked editing talk',\n",
       " 'Terri Schiavo Rorschach Test Now perhaps see utility Terri Schiavo Rorschach Test You dangle pretty slender alive aware young face front Power Players Left Right see respond If respond inappropriately make note rat laboratory That make Wikiepda powerful And true NPOV notable fair',\n",
       " 'ok stop lame seriously go watch pokemon',\n",
       " 'Past Masters v Rarities I creating chart use includes U S album since many difference early album As U S fan I faced issue whether U S album U K album iPod I post chart talk page others judge whether worthy including I realize problem including lack Canadian album My purpose simply record first ALBUM appearance U K U S song I notice number U K song listed Past Masters actually first appeared Rarities The Beatles album I know reason purpose list first appearance album Can someone explain Or changed Rarities',\n",
       " 'Simpsons movie poster Did create Simpsons movie poster image source somewhere else',\n",
       " 'Help Hey help something I uploaded image Wikipedia http en wikipedia org wiki File Stikky cemetary San Jose jpg I contacted photographer gave permission use Wikipedia I wondering proper licensing would Thanks advance',\n",
       " 'Looks good It would nice see county lot better current one Good job',\n",
       " 'The debunkers pretending objective sceptic besides proving lack knowledge lack integrity various Astrology page also personally attacking talk page When I dare try defend block Wikipedia So much honest dialogue They win argument fairly resort dirty trick',\n",
       " 'Reviewing block You said I also like ask future sake fairness due process decline unblock request user block unless request pure nonsense abusive From ethical review block meant carried rd party Will I thought pretty clear case given editor user page GNAA etc etc etc unblock request pure nonsense Also I impression unblock request would still visible reviewed admins I careful future',\n",
       " 'Regarding edits made December UTC Kanpur Please add inappropriate external link Wikipedia Wikipedia mere directory link used advertising promotion Inappropriate link include limited link personal web site link web site affiliated link exist attract visitor web site promote product See external link guideline spam policy explanation link considered appropriate If feel link added article please discus article talk page rather adding See welcome page learn Wikipedia Thank talk',\n",
       " 'Come Was really necessary I understand coming sound like whiney bitch When website anyone edit sort stuff come territory And really expect anyone people troll WP PW read comment Talk Royal Rumble talk page matter I confident active member WP PW added WrestleMania XXIV watch list So something liking added removed Simple And putting people reading talk page quit Endless Dan',\n",
       " 'I see anti semitism If guy give lecture New York synagogue knock country every single minute using every opportunity influential newspaper New York Post one state interest personal You find intellectual person among neoconservative New York Post Michelle Malkin Andrea Peyser Deborah Orin may rest peace although I know rotting hell essayist one make great company Amir Taheri This guy mind I agree Iran regime wrong regime Shah Amir Taheri longing owned Keyhan regime better Islamic Revolution justified Look intriduce Amir Taheri article New York Post Based Europe memeber Benador Associates Is Europe small Is small town Why say based world journalist Or may breakfast London Christian Amanpour James Rubin eating lunch Jerusalem lecture dinner anti Irani Jews Forest Hills New York emailing full hatred article New York Post Isn stupid How saysomebody based Europe Asia Africa',\n",
       " 'Why confusion controversy real world preclude writing good Wikipedia topic Ackoz suggests real world yet hashed truth expulsion therefore impossible u know truth thus impossible u write I reject stance I think difficult quite possible write quality Wikipedia article topic murky controversial Where many Wikipedia editor get wrong believe Wikipedia job report truth This wrong Wikipedia job report truth precisely difficult determine truth Any attempt original research Instead truth Wikipedia aim verifiability Put different way Wikipedia committed recording state human knowledge opinion opinion reliable source If truth clear uncontroversial easy u report If truth murky controversial challenging possible u report different reliable source assert think topic EVEN reliable source conflict Where Wikipedia editor get trouble start siding one side controversy asserting side selected represents THE TRUTH one perspective POV topic hand I trying hit NPOV sweet spot difficult midst running polemical debate two side Obviously user Jadger Wikiferdi want discus fact want u agree POV discussion NPOV edits That I quit discussion form article talk',\n",
       " 'I intend disruptive I genuineley upset word constantly I tried make look like april fool joke explanation made look like uptight weirdo',\n",
       " 'Regarding Loyalmoonie LGBT category Looked editor seems pushing anti LGBT agenda They done similar stuff Sailor Moon made official looking warning editor This quote bizarre quite telling To insert category would ultimately give people may even support LGBT movement reading article assumption every person enjoy Sailor Moon homosexual support SSM I personally watch read Sailor Moon know much I confident enough add category reasoning removal flawed regardless sourced part article female homosexuality talk',\n",
       " 'Matt mattsanchez info go live Monday among thing see invitation interviewed This time nowhere hide Let see victim coward',\n",
       " 'Okay I found document demonstrates SCIMD listing WHO WHO site trouble including text',\n",
       " 'Valerie Poxleitner Valeri Poxleitner A K A Lights If',\n",
       " 'Shamash Sun I agree merge Sammash Shamash since Shamash likely correct Tracking root word clearly Assyrian origin addition common vocabulary morph substitute Sh S thus nowadays spelled Shams Modern Arabic',\n",
       " 'I feel like I idea maybe user come thing address concern talk contribs',\n",
       " 'October UTC The original nominator I trying restore article others saying found merged stand With original nominator deletion working keep article admitting mistaken nominating article noteworthy character restore If someone want make legitimate nomination deletion fine',\n",
       " 'What chart looking I see anything portraying timing User talk Spinningspark Spark',\n",
       " 'Agreed although mean bloating alternative title yet another word I concentrating Polish attitude clearly provides starting point article hand Obviously article written supra national perspective least Czech experience need included Czechoslovakia functioning democracy region closer tie West Poland betrayed much obvious tangible way Poland The West politically accepted country territorial mutilation case Poland That said I sure inclusion country Finland Baltics Yugoslavia even Ukraine never independent first place good idea While West could arguably done assist society war I think article focus Poland Czechoslovakia order dilute whole issue After dissident Germany Soviet Union harbouring grudge towards Western politician appeasement policy Oct UTC',\n",
       " 'Hello Setanta I ask think proposal first put forward Matt Lewis July Template talk Country data Northern Ireland I confess I expert N Ireland I believe could solve problem N Ireland flag represent wiki I made comment article Cheers',\n",
       " 'American Psychologist additional resource I see listed reference citation American Psychologist article January discus subject',\n",
       " 'Regarding Verifiability mediation appreciate due recent event user talk newbyguesses February I jn pickle Is I know go forward What become belief need Who care take account position accounting difference u see stand highest degree individual really individual individually way real people different definitely individual like every body else belief despite evidence contrary Comment content contributor I dream Either way whatever scare horse wake kiddy comfortably snoozing You know make sense cause I say irrefutably talk',\n",
       " 'authority threatning block saying information company work even know anything airliner bello basically said hard comprehend',\n",
       " 'The real problem sneering contemptuous attitude reveal first sentence last post It originally followed others similar vein deleted Yes I cut paste quotation I also select appropriate one case one would well consider I return I time probably weekend',\n",
       " 'He appear bit fantasist To fair carved nice little career fool mug buy book believe say But like many people contributing page I come background whenever name mentioned response always Dave No one ever heard book started coming',\n",
       " 'dar Ok bear Penelopism religion It new religion But religion Penelopism extrememly important Penelopists We want word u People fond belief We want way show mean harm Now Spaghetti Monster Church That even real religion Penelopism So please Tell Spaghetti Monster done Penelopism What Penelopism wikipedia Because I trouble understanding And I apologize dar dar dar However much fun I done whatsit',\n",
       " 'I intended go page',\n",
       " 'DXRAW come come ever How odd DXRAW go away follwing article ExtraDry appears editing list Aussie Aussie Aussie Oi Oi Oi Free Hugs Campaign Newington College Australian Army Cadets John Cena So really cheer loving free hugging Newington teacher cadet master hots John Cena shirt It time came DXRAW',\n",
       " 'This accusation uncalled I reverted one edit My second edit add reference revert',\n",
       " 'Do help jew Schnider Final warning',\n",
       " 'kudos destroying article copyright superstar really deserve nobel prize copyright',\n",
       " 'Welcome Hello welcome Wikipedia We appreciate encyclopedic contribution recent contribution seem advertising promotional purpose Wikipedia allow advertising For information see Policy neutral point view Guideline spam Guideline external link Guideline conflict interest If still question new contributor help page write helpme message along question someone along answer shortly You may also find following page useful general introduction Wikipedia The five pillar Wikipedia How edit page Help page Tutorial How write great article Manual Style I hope enjoy editing Wikipedia Please sign name talk page using four tilde automatically produce name date Feel free write note bottom want get touch Again welcome',\n",
       " 'The spelling Tacarimba La Tumba Del Fuego Santa Maliga Sacategas Lo Onto Del Sol Y Cruz one stated lyric vocal score Side By Side By Sondheim available rental This version song however misspells Llanfair PG presumably approximate pronunciation lyric today last I spreading rather spending It would seem therefore source considered canonical This rendering place name accord Millicent Martin recording Side By Side By Sondheim cast album however The published version song contained The Hansen Treasury Stephen Sondheim Songs Charles Hansen Music Books lyric printed Tacarembo la Tumbe del Fuego Santa Malipas Zacatecas la Junta del Sol Cruz printed source opposed handwritten vocal score presumably considered definitive Linda Lavin pronunciation original cast recording The Mad Show song written follows spelling would suggest printed version correct As fictional place name however discussion correct spelling pronunciation academic one best',\n",
       " 'Don peddle crap please Hate see another article get disputed neutrality due',\n",
       " 'Howd Homeonttherange Your typical problem literal The term Personal Union special limited Constitutional term It refers two States e country recognise Monarch Head State however UNION OF THEIR PARLIAMENTS Some example The Union Kalmar Its member Kingdoms Denmark Norway Sweden This gave rise termUnited Scandinavia In I believe Sweden left Union The resulting left Union Denmark Norway dissolved allied Napolean tunrned badly',\n",
       " 'I think one DayZ mod one DayZ video game DayZ disambiguation page',\n",
       " 'pushing anti MRM POV',\n",
       " 'You really rebel guy rebelguys Time get oral prostitute',\n",
       " 'Fine smarty pant But wait finally announce Then see I right know everything',\n",
       " 'AMBER TAYLOR FOREVER AMBER TAYLOR FOREVER',\n",
       " 'Kosovo template hi Can please take look template Shouldn Albanian language mentioned first since population Albanians I changed Serb nationalist keep reverting edit I hope I disturbing one I consider quiet neutral',\n",
       " 'Of course true Dub say depaaarted likely f gone',\n",
       " 'I think little disingenuous Zet claim division lost fighting troop far destroyed fighting capacity close nil',\n",
       " 'Muslim Men Harassment MM page It amazing three muslim men jumped page right I added number thing minute three men muslim cleaned Does woman working human right Pakistan really get skin badly Wow So sweetie bloody busy get busy stop harassing woman Are threatened',\n",
       " 'width style background transparent width style background color style width border px solid background color vertical align top Hello Madstar Welcome Wikipedia Please remember sign name talk page clicking using four tilde automatically produce username date Also please best always fill edit summary field Below useful link facilitate involvement Happy editing discussion width style background color style width border background color vertical align top Getting started Introduction The five pillar Wikipedia How edit page Finding way around Table content Department directory Editing article How develop article Manual Style style width border background color vertical align top width cellpadding style vertical align top background color Getting help style color Frequently asked question Cheatsheet Where ask question Help page New contributor help page',\n",
       " 'August UTC Hey look like rehab program take Socafan community banned Your approach worked REAL well Talk',\n",
       " 'PKK fighter past decade entering living Syria fight Turkish territory match guerilla war specialized Turkish regime Rebels army far behind ability training match PKK fighter',\n",
       " 'OMD THL H Depeche Mode ABC New Romantic never self identify Romantics fan consider romantic yet individual insists keeping listing page Fans band keep removing simply wrong Stick Visage blitZ band article perpetual edit war',\n",
       " 'Tried productive look contribution hit head wall spoiled greek child probably pay Greek Government purposely keep vandalizing Albania related page keep iritating albanian editor explode get banned As historian I blush I find quoted reliable information wikipedia page quality editor source Time move French page lot reader still language go Till next time Wikipedia suck',\n",
       " 'Ricky Gardiner Woody man thanks quick action addition article stub I created yonks ago get rid red link Bowie Pop article What draw people like u defence rock I think Nick D member Military Music project well Then riff Lust Life came Bowie interpretation armed force radio theme Cheers',\n",
       " 'Triple crown cleared OK got broom dusted stuff Cheers talk contribs',\n",
       " 'If agree Master Bigode rule x image back side image erased without consensus He never discussed back image erased blue What I went user homepage Wolftengu I said picture homepage big within guideline I removed placed somewhere else I also removed another image would agree someone homepage would outraged However Wolftengu seem playing unfair cop notifiying discussion wrong What point Do DX involvement disallow X x image even image DX smaller form',\n",
       " 'As rollbacker particularly problematic You aware editor edit war may lose privilege regardless mean used edit war',\n",
       " 'What non american school mosque synagogue etc etc Wikipedia America centric',\n",
       " 'Thanks fixing',\n",
       " 'No really We may ask mention fat fire source cremation million reconsidered though along item The fat cremation wiki fact citable www hdot Emory U le Lipstadt doubtful If science applied holocaust say tinfoilers flat earthers denier would overjoyed Be careful get nutty fringe tinfoil label end You get permit bring shovel',\n",
       " 'Celebrities Talk fave celebs even crush',\n",
       " 'You know I thinking Nobody really attacked I revealed age After I announced I I subject constant storm harassment abuse The thing go I The Sandbox I Before people knew age care After I told age hated It amusing idiot Soapboxers think teenager responsible decline The Soapbox like ever good begin This funny adult dumbest people Mauricio Chuppah Redneckgirl Pinky Scooby GG ForeverLostTinkerbell greenrabbit StarRocketsInFlight Bree Robinson enigma CocaineNightmares TokyoDome Chad Ocho Cinco Steve Lake adult The teenage poster typically smartest one Let see G Dawg Head Banging Brunette ClassicAge Metropolis even though bipolar weirdo ChrisScript name All I ever see adult posting rate poo ballz smell funny whoz hawter ur mom like rape little girl HEY GUYZ LOOK AT ME IM AN ATTENTION WHORE The adult poster immature moronic savage bully mental capacity retarded year old Whereas teenager thoughtful intelligent mature often profound But subject constant schoolyard bullying idiot adult poster think somehow superior born dropped head earlier Soapbox logic never fails amuse',\n",
       " 'TM How astute remember civility key That verbal licking gave really failed break skin MAYBE JUST MAYBE WE CAN GET ALONG HOW ABOUT THAT',\n",
       " 'Sofia Added I Sofia Bulgaria Our city also joined initative I included',\n",
       " 'Would mind focusing content rather contributer',\n",
       " 'decline A bit close comfort one Try avoid company name altogether We get bit edgy account appear represent organisation',\n",
       " 'Weatherman better writing A lot change made recently Weatherman page notably awkward apparent reason I particularly concerned change adjective surrounding organization event characterized time rearranged sentence read quite poorly Plus seem get really carried away wikilinking reader really need link know bomb',\n",
       " 'Non lead Shouldn title page Supporting Minor instead Non Lead',\n",
       " 'I agree Leontes though I began attempting compromise last night considering one else backing In interest building consensus however I note political descriptor absence reliable third party source inappropriate article I also note commenters appear confusing electoral vote website electoral vote author This Wikipedia article website NOT author article',\n",
       " 'Dispatch review I added comment I think wonderful dispatch clear We needed something like long time',\n",
       " 'I vote Christ Pantocrator though could nice wider crop',\n",
       " 'Here idea Go fuck cumshitter',\n",
       " 'Your assistance please The record show deleted File HMCS Fennel K jpg The entry left deletion log said listed WP PUI day I strongly suspect free image Crown copyright Canada protects image first year WW ended year ago So crown copyright image would free image I like request userification information template information associated image review possible clarification whatever problem got listed WP PUI first place Could please userify',\n",
       " 'listas Manos Family',\n",
       " 'So despite equivocation still wrong People remove vile vicious hate speech whilst remaining right side policy You made clear statement Wikipedia policy I proved wrong And denied unblock request result misinformation I know expecting apology Wikipedia administrator waste time future stay away okay I prefer deal admins know rule',\n",
       " 'Speedy deletion Phi Rho Eta A tag placed Phi Rho Eta requesting speedily deleted Wikipedia This done section G criterion speedy deletion article appears blatant copyright infringement For legal reason accept copyrighted text image borrowed web site printed material consequence addition likely deleted You may use external website source information source sentence This part crucial say word If external website belongs want allow Wikipedia use text mean allowing people modify must include external site statement I name author article article name I release content term GNU Free Documentation License Version later You might want look Wikipedia policy guideline detail ask question If think notice placed error may contest deletion adding top article existing speedy deletion db tag coupled adding note article talk page explaining position aware tagged speedy deletion article meet criterion may deleted without delay Please remove speedy deletion tag hesitate add information article would would render conformance Wikipedia policy guideline',\n",
       " 'WILL MY MOTHERFUCKING SAFETY BE GUARANTEED I FUCKING HOPE SO I M BRINGING MY OWN FUCKIN WEAPONS PAY ME WHEN I GET BACK MOTHERFUCKERS OH YEAH I VE GOT A JOKE A FAMILY HUSBAND WIFE SON DAUGHTER DOG WALKS INTO AN AGENT S OFFICE AND TELLS HIM THAT THEY VE GOT A GREAT VAUDEVILLE ROUTINE HE SAYS WE DON T HIRE KIDDY ACTS AND THEY SAY BUT WE RE REALLY GOOD AND SO THE AGENT SAYS FINE LET ME SEE WHAT YOU VE GOT BUT IF YOU SUCK I M THROWING YOU OUT SO THE FAMILY GETS READY THE DAUGHTER HITS THE CD PLAYER AND CIRCUS MUSIC BEGINS PLAYING THE FATHER JUMP KICKS THE SON IN THE HEAD AND STOMS HIS FACE IN THE GROUND UNTIL IT S A BLOODY PULP THEN PROCEEDS TO JERK OFF AND CUM ALL OVER HIS SHATTERED SKULL MEANWHILE THE MOTHER BEGINS VIOLENTLY FINGER FUCKING THE DAUGHTER AS THE DOG FUCKS THE MOTHER IN THE ASS HOLE THIS IS THE POINT WHEN THE FATHER TAKES THE LEFTOVER BRAIN MATTER FROM THE SON S HEAD AND SHOVES IT INTO THE MOTHER S PUSSY THEN BEGINS FUCKING HER PUSSY WHILE SIMULTANEOUSLY STICKING HIS FINGER DOWN THE DAUGHTER S THROAT UNTIL SHE VOMITS ALL OVER THEM BOTH THEN THE DOG BITES THE MOTHER S HAND OFF AS SHE S FINGER FUCKING THE DAUGHTER LEAVING HER HAND IN THE DAUGHTER S PUSSY AS BLOOD SQUIRTS ALL OVER THE PLACE THE FATHER TAKES BLOOD FROM THE GROUND SMEARS IT ALL OVER THE MOTHER S CHEST BENDS OVER AND BEGINS SHITTING ALL OVER THE OPEN WOUND WHERE HER HAND USED TO BE BEFORE THE DOG BIT IT OFF THEY TAKE THE DOG AND SHOVE IT IN A MICROWAVE HEATING IT UP UNTIL IT EXPLODES THEN TAKE THE DOG REMAINS MIX IT WITH THE FATHER S SHIT THE SON S HEAD WOUND AND THE FATHER S CUM AND SHOVE IT INTO THE DAUGHTER S MOUTH THEN THE FATHER RIPS THE SON S DICK OFF AND FUCKS THE DAUGHTER WITH IT AS THE MOTHER LOCATE S THE SON S TESTICLES BREAKS THEM OPEN AND DRINKS THE SPERM THAT COMES OUT THEN THE FAMILY LINES UP AND SAYS TA DA THERE S SILENCE FROM THE AGENT UNTIL HE FINALLY SAYS I LOVE IT WHAT DO YOU CALL THAT AND THE FAMILY SAYS WE CALL IT THE ARISTOCRATS',\n",
       " 'Requested move Canada national football team disambiguation There I recently moved American football team used carry moniker Canada national football team Canada national American football team I consider move request successful vindication move b b',\n",
       " 'I think Clockback suggested reference Ainsworth involvement IMG long something along line brief flirtation would better I think IMG reference need short somewhere early career section posted article expanded little otherwise article might appear weighty I think last point important seemed consensus reached number Wikipedia editor much wrangling gnashing teeth But bedside brief dalliance Marxism overall consideration political career pale insignificance compared controversially thrust third choice candidate position Defence Secretary time crisis British Army term number casualty sustained lack resource This simply reflected Ainsworth article I tried reflecting follows His appointment formed part chaotic cabinet reshuffle Prime Minister considered least three candidate appointing Ainsworth dismissed speculative opinion Off riorob even though point view easily significant event Ainsworth biography Perhaps reach consensus better reference found I suspect difficult included I want stress meant ad hominem slight Ainsworth merely drawing attention fact appointment equivalent throwing someone deep end indeed difficult time since appointment Actually reflects worse Brown farcical reshuffle',\n",
       " 'Greek love I looking way extricate honorably mess I leaving note closed AfD I made commitment instructed closing statement There two editor long sought delete eviscerate article one used series user name unacknowledged current user page available first glance may appear talk page two editor suppress camp I complain coordination Other editor including I simply longer I changed position validity article I accused various talk page never appropriate notice board edit warring ownership disruption even pedophilia implication trying carry community decided I done I need limit time Wikipedia present wish time spent pleasantly productively When I made commitment though grief keep I asking anything I explaining I keep word given AfD Wow mess Certainly hard feeling end clear endeavored good faith improve article I found knowing walk away essential skill real world Sometimes presence despite best intention harmful rather helpful sometimes dispute worth anymore Best luck future endeavor Mailchimp I bothered I think Mailchimp speedy deletion mistake It cite one important email marketing program stating importance something supposed original problem The criterion specifies credible claim significance Wordpress page reliable source However I would certainly object restored redirect several momnths today Talkback talk Just hunch Call intuition I guessing username direct challenge patrolling admin guy block based username contribution speaks volume nonsense louder hunch returning editor username Just cent Cheers There plenty legitimate reason returning editor username blatant violation policy If evidence socking file WP SPI Recreation article Shay Carl I would like request article Shay Carl recreated see deleted Talk Shay Carl reason note Talk Shay Carl delete A notibility Well',\n",
       " 'Where defendant figure coming Nuremberg Vietnam An American Tragedy Telford Taylor U S Chief Counsel Nuremberg mention',\n",
       " 'Oh hey response That cool I personally feel fortitude call TTN obvious flaw warrant dozen Barnstars I see coming If insist keeping block I would like formally request reason account blocking changed reflect real reason instead noted common vandal Maybe reason along line pain as like one guy Nakon talk page stated On subject maybe blocked use cuss word technically worse anything I ever said',\n",
       " 'NO You right express opinion consider Hasbara crap You right identify Hasbara crap',\n",
       " 'GA Review This review transcluded Talk Battle Rowton Heath GA The edit link section used add comment review Reviewer YES I take look next day start make comment YES',\n",
       " 'evidence Please make sure make familiar note suspect editing evidence page',\n",
       " 'AfD Please see Wikipedia Articles deletion Revelations Guidelines notability outlined generally WP N specifically song WP NSONG Thank',\n",
       " 'Organizations class Start importance Low maindykdate need infobox Yes need image Yes attention WikiProject',\n",
       " 'Actions la la land real world consequence',\n",
       " 'Dean Wormer Works Racists Jena LA I continue update posting Jena LA reflect fact thier famous person note SEGREGATIONIST DEMOCRAT fact historically accurate description',\n",
       " 'Woopsies oh thank soooo much I know I PROMISE never ever ok',\n",
       " 'everyone info particularly admins believe latest sock puppet Igor head',\n",
       " 'Why giving warning Before someone mark vandalism I want least read Why vandalism I understand I new Wikipedia I trying figure PLEASE DO NOT MARK THIS AS VANDALISM I anything wrong I need answer somebody Please help',\n",
       " 'Gift card downloads Re As December possible use gift card purchase MP even though gift card FAQ claim Yes Amazon com gift card used buy Amazon MP Unbox downloads strictly speaking false statement able pay order gift card time One person already removed line reverted Is good way go providing verification',\n",
       " 'I thinking deleting War Terror Operation Enduring Freedom Horn Africa Operation Enduring Freedom Phillipines redundant I like people vote',\n",
       " 'No useful information topic good idea Only screenshot allowed per game really relay something',\n",
       " 'My experience came talk page I understood Wikipedia I post anything article related personal experience That like nd day almost two month ago All reference verifiable There nothing article law suit put jail engaging pro se litigation I put experience Judge Edward Nottingham article either although judge I went way search reference expressing various side issue For instance I wrote ABA asked input fact asked work article I also posted issue involved mediation settlement pro s citing reference lawyer point view Those reference deleted someone I remember know At point reference I posted soft blog quoting transcript quoting former federal judge I know sure valid transcript The guy run blog rd year law student business selling data service exclusively lawyer Even stuff deleted pro se frustration I reference I read Wikipedia discussion source blog used context I believe I original research All I search Internet reference article I really know unbundled attorney service amount pro se litigation I started working article I already thinking form based filing I started thinking anyway experience ECF date back Also I younger I worked system analyst I get info Laws Liberties MA year ago Wikipedia already article probably would come anyway Same U N covenantcan really hide I add b together prove point least consciously Like today I reviewing appellate procedure seemed th Circuit pro se friendly tone I think Judge Learned Hand fifth circuit And reason I know one time I went every federal circuit searched word pro se I trying see history putting pro s jail pro se No What I found circuit denied pro se appeal without even saying Judge Learned Hand seemed pro se friendly I believe posting thing pro se litigant getting unfair advantage soap boxing I understand wanting win thru competition though law business I entrepreneur I know Federal Judicial Center I started working article That book appellate procedure I found looking reference article The manual complex litigation I found looking reference article Arguing help clarify issue One thing I started thinking lot past week slavery affected history pro se litigation I ordered book Slave Nation library I got yet But I look pro se law different state I think free state slave state border state Also issue related Indians western state The labor union movement lot I think So history workman comp course related union',\n",
       " 'try passing illegaly border USA mexico end prison communist',\n",
       " 'unsourced personal commentary A new account added look like unsourced personal commentary',\n",
       " 'Your comment indented response mine I one removed discussion',\n",
       " 'When I looked Cato edit simply removal reference addition another donor change language Without edit summary explain change unjustified Your clarification certainly help Thanks also adding reference Summers Frankly I look source removed added My main concern unexplained edits Summaries important And I saw message concern back message reminder Most importantly incorrect think rule add unsourced material One core content policy WP V WP RS allows u carry policy Happy editing',\n",
       " 'We know everyone watch update Theres REASON listed Complaints',\n",
       " 'I though article It simply untrue men consistently referred Jews womabn child Many passage refer generally Jews clearly meaning men woman child Only one sentence corresponds criticism The screening population however resulted Jews Jewish woman Jewish child Jews Jewish woman shot co operation Security Service This particular sentence rewritten I sentence grammatically confusing whoever wrote may wish check I understood correctly',\n",
       " 'Hello Long time shart',\n",
       " 'Other Bush article referenced George W Bush None following article mentioned George W Bush perhaps Bush Brain How Karl Rove Made George W Bush Presidential Domestic policy George W Bush administration Early life George W Bush Economic policy George W Bush administration Electoral history George W Bush Fictionalized portrayal George W Bush Foreign policy George W Bush administration George W Bush Iraq War George W Bush Governor Texas George W Bush Cabinet George W Bush presidential campaign George W Bush presidential campaign George W Bush Presidential Library George W Bush pretzel incident George W Bush substance abuse controversy George W Bush Supreme Court candidate George W Bush first term President United States George W Bush second term President United States List book film George W Bush List George W Bush legislation program List nickname used George W Bush List people pardoned George W Bush Mahmoud Ahmadinejad letter George W Bush Movement impeach George W Bush Presidency George W Bush Professional life George W Bush Public perception George W Bush Religious faith George W Bush The Lies George W Bush Mastering Politics Deception',\n",
       " 'A third term significant simply rare The electorate party often behalf former disillusioned party leader time thus kick Read Margaret Thatcher',\n",
       " 'Some baklava A Gift hope reconsider indefinete block A traditional food middle east made best afghanistan Metalman',\n",
       " 'Referring Catherine I told uncertain term I could NOT refer anyone living dead st name WP female title referred throughout article ie Lady Amy Lady Dudley Amy Robsart even though Lady Amy wrong married daughter knight title wrong Northumberland attainted child lost style offspring earl duke become Lady Dudley Elizabeth I knighted Robert Dudley near end Amy life Lady Amy Dudley legally longer wife son earl duke I thought simpler refer Amy throughout rather explain change occurred name style told WP rule though I pointed link Noblewomen usually called st name round far I see even surname something Mary Boleyn called Mary Lady Carey Lady Stafford Catherine Neville called Catherine Duchess Norfolk etc royal As male I told referred title ie Leicester last name ie Dudley I banging head keyboard going one say king time refers Plantagenet keep changing title ie Henry Bolingbroke going Earl Derby Duke Hereford Duke Lancaster King England So Kate get consistently referred Catherine throughout article without title appended I month I would appreciate someone could actually explain main interest British history I quite confused',\n",
       " 'Mevins say I changing elegant profile shot Bruce better picture soon I upload I appreciate ordinary Jay Bruce fan I Jay biggest fan Thanks attention I think Jay would agree picture Wikipedia little furthering career nice try',\n",
       " 'They cunt It worth editing article concerning serious issue All side consist either people employed edit people strong opinion never ever change They advocate stance something interesting instead using encyclopedia book knowledge contributing sure know Soon centralization net larger larger site independent information general extinguished Wikipedia project started nerd professional within set field become altar knowledge depth true insight sacrificed becoming sound magnifier yellow press popular science The new tool intended auto translate article one Wikipedia extinguish national wikipedias niche provide multilingual capacity ability cross check fact perspective With small independent site left free university page left real knowledge privilege know use academic search engine money pay',\n",
       " 'I said say like thugstep bizness If think quite range refenreces web page stay non notable welcome tell admin deleted',\n",
       " 'Although extend modern era might want look Ancient higher learning institution see relates Chinese higher learning institution',\n",
       " 'Do harass editor basis You posted baseless warning threat user page Do post thing page Otherwise I complain administrator even Jim Wales I',\n",
       " 'The Comma Is correct title first series Yes Minister without comma I believe Yes Prime Minister ever comma Unless objection I moving page',\n",
       " 'Excellent And please damage book account sure It interesting question Where camera That fair question To jump conclusion impossible ludicrous But typical moonbats The picture useful another reason show similar relative position LEM antenna Apollo flight web page argues object Apollo In case antenna degree angle away LEM near photo distant photo website consistent despite website claim contrary The moonbats isolate specific item evidence one see broader picture phony argument get shown',\n",
       " 'Content subsumed Maneesh page entry different spelling And REDIRECT',\n",
       " 'Ditto congrats best',\n",
       " 'part video show It say lot small village prostitution karaoke joint one single orangutan It say common everywhere though',\n",
       " 'Fuck Smith Please notified die I want dance grave',\n",
       " 'I seen post I replaced pop punk reference rock day',\n",
       " 'Please avoid using abusive edit summary per Wikipedia Civility Wikipedia No personal attack Thanks happy editing Please make personal attack people Minneapolis Minnesota Wikipedia policy personal attack In case user engage personal attack may blocked editing admins banned arbitration committee Comment content contributor people Please resolve dispute appropriately Thank',\n",
       " 'DECT really new technology It newer standard TDM TDMA FDMA digital telephone used lot longer life DECT DECT successor CT Japan PHS similar course GSM D AMPS others extensively used across world decade half To suggest special health issue DECT would definitely placing undue weight subject DECT considerably lower power analog system replaces transmission inherently even use TD nature system mean system transmitting continuously As I believe I said nothing wrong properly researched article health effect low power radio technology link See also section article That article course look nothing like section I yanked There nothing DECT however merit special section DECT danger especially new technology otherwise serious level concern expressed anyone authoritative issue',\n",
       " 'I shit face fuck',\n",
       " 'You retarded',\n",
       " 'Users using sockpuppets discussion Note user nightscream soliciting sockpuppets Toure Neblett join discussion http en wikipedia org wiki User talk Halaqah Hi Halaqah This surprising considering nightscream slimy debating tactic ad hominem smear It look like reality one two actual people opposed teh inclusion last name rest sockpuppets Though I guess demonstrates Nightscream one Toure sockpuppets FYI I using user name simply make clear I sockpuppet',\n",
       " 'Thanks Stephan interpretation Mr Nice Guy removed content discussing talk page concerned content reliability I thought I read editor supposed bring discussion first reach consensus instead deleting sourced material',\n",
       " 'I made fixing STEM article',\n",
       " 'Alex Albrecht removed addition Alex Albrecht page totally relevant',\n",
       " 'tank bioelectrical impedance analysis etc I fail see either two picture recently added improve article way',\n",
       " 'The image missing Wikipedia hour I hit rollback among thing restored Patrick Stewart I removed see made valid edits I also linked Harold Wilson Prime Minister Prime Minister United Kingdom The deletion done GMT time server You register could bypass invalid message Cheers Talk',\n",
       " 'Amazing thank much',\n",
       " 'Groin You sad fuck I going restore edit going leave else I wil knee groin prick',\n",
       " 'May Your behavior talkpage Honor Harrington par You know take defeat grace start behaving childishly Let warn next childish edit likely result mention WP ANI user review',\n",
       " 'Video Game For pete sake I see false video game article one time I throw cat window whoever stop funny clever making moron I bet person changed test card date',\n",
       " 'Palmisano playing Iowa State free pas I think I pretty sure Division I As far list coach go I sure articleworthy list level competition opposed folded general Malone College Athletics article I file AfD compromise anyway Seeing digging uncovering notability folk want full week',\n",
       " 'History KalliKids created Karen Bach March',\n",
       " 'Massacre I note Kent State massacre redirects page similar massacre history wherein government force murdered civilian protesting government policy termed massacre There legitimate reason aside sensitivity extremist viewpoint United States continue calling article Kent State shooting It changed Kent State massacre A cheap acknowledgement lead paragraph insufficient I would appreciate discussion move I initiate move soon enough',\n",
       " 'July Please stop If continue vandalize Wikipedia blocked editing',\n",
       " 'Notice Objection proposed deletion In accordance rule I hereby notify objection proposed deletion subject article Office Court Administrator v Floro Jr',\n",
       " 'Barnes Aus',\n",
       " 'May UTC TimySmidge',\n",
       " 'Two thing It make difference validity edits editor anon going around reverting person edits en masse like one yield time consuming problem',\n",
       " 'Hi nice everyone listen well ive year afew problem two worst mamogram year ago dec said call doctor emediatly needed view presedgures incounculsive possable fir cause like xray havent able go way get plus high blood pressure thets running last time Around thats high hospital xray tech seceritary said didnt get doc To get referral soon possible time would late thing I late want long left daughter one opelousas la one hawiyei one walker la would like see fore die partner want spend much left love kid partnermore life self im looking help get doctor dont money income speak zero partner seperated right helping father cancer also lawsute getting hurt bought truck brouther alot fixing also help dAd let neffews daughter drive hour ago cause hot license wrecked comepletly dont vihicile help u everyone say god dont give u anything cant handle understand need help one That may could help anything thought id try ask never asked much pride im running time please one help email apriljohnson gmail com site please need help anyone god blesss everyone time need I hope someone may able help thank lissen age also sept',\n",
       " 'HE LIKES ITIN THE ASS BY MUHAMAD ALI AND KELLY HAS A GIANT PENIS AND ALSO FUCKED COLUMBUS',\n",
       " 'Here diffs edits report Talk',\n",
       " 'Aug UTC',\n",
       " 'Just shut stay shut Don edit anymore',\n",
       " 'OH GET A LIFE YOU PRICK',\n",
       " 'What else specifically want know',\n",
       " 'Rajputs Rajasthanis right P Prof Hancock study mention Romani people closely related Punjabis Rajputs I pretty sure Rajasthanis He call Proto Romani Rajputic The distinction important partly descended Rajputs never really confined one part India would explain linguistic variation within Indic word Romani For example use instead aa end masculine noun adjective Romani This certainly characteristic Gujarati Sindhi characteristic Rajasthani language Anyway I wrong making last change I made I happy revert Oh course',\n",
       " 'IF would care discus SPECIFICALLY bias incorrectly cited irrelevant page I hear say Until seeing search term NDAA brings reader page I continue include present information reguarding BUDGET BILL This LAST TIME I repeat Abusing power yield ground',\n",
       " 'Words Encouragement user Damemk case dispute user engaged Bulgarian Nationalistic Propaganda Damemk You come conclusion Bulgarian th Century Nationalistic Propaganda English Wikipedia User Laveol one prominent editor Wikipedia contributing false information article Republic Macedonia Macedonian Nation History Language Culture Sports else He spending lot time working cause pushing Bulgarian Nature article domain Republic Macedonia How far gone pushing propaganda see Wikipedia WikiProject ROMacedonia listed member So word concern Macedonian Articles English Wikipedia great damage done User Laveol user Bulgarian Anti Macedonian Propaganda Hopefully internet access becoming affordable people Republic Macedonia thing go right direction Removing Bulgarian Propaganda Macedonian article cleaning false fabricated information giving fact world view Macedonian Science source I much time hopefully able find coming period I open collaboration effort goal I expecting user Laveol continue Bulgarian Nationalistic Propaganda polluting domain domain Republic Macedonia simply able find way continue work agenda Ours try remove false claim contribute Facts Macedonia Macedonian Nation History Lanugage Culture Sports Damemk I hope write something least show User talk Damemk User talk Ejanev user Some insight user name Ejanev The user I using contribute Wikipedia Ejanev It composed first letter name Emil last name Janev User Damemk separate user Probably user name comming Dame Macedonian First name mk code Republic Macedonia It happen I Canada I born Republic Macedonia lived I moved USA first Canada year And yes false information Bulgarian Nationalistic Propaganda originating th century st century used negate Macedonian Nation attribute user Laveol reason editing action Wikipedia I user editor Republic Macedonia Macedonian origin view Bulgarian Nationalistic Propaganda already infiltrated Macedonian article You watch contribution Special Contributions Laveol see action engagement negating Macedonian Nation attribute',\n",
       " 'At Bookfinder com I found Probabilistic Reasoning Intelligent Systems Networks Plausible Inference Softcover ISBN Publisher Morgan Kaufmann Pub Bookfinder',\n",
       " 'Just clarify I referring particular neutral state Aerith incorrect Talk',\n",
       " 'Thank experimenting Wikipedia Your test worked reverted removed Please use sandbox test may want Take look welcome page learn contributing encyclopedia talk contrb',\n",
       " 'The article Sebastien Larroud speedily deleted Wikipedia This done article seemed person group people band club company web content indicate subject notable article subject included Wikipedia Under criterion speedy deletion article assert notability may deleted time If indicate subject really notable free create article making sure cite verifiable source Please see guideline generally accepted notable specific type article may want check criterion biography web site band company Feel free leave note talk page question talk',\n",
       " 'GBA I found Game Boy Advance version released There mention article As know current Acclaim right series information may scarce',\n",
       " 'Proposed move Asheville Civic Center talk page hosting discussion U S Cellular Center Asheville North Carolina U S Cellular Center U S Cellular Center Cedar Rapids Iowa Both facility name talk contribution',\n",
       " 'No need follow Policy Taivo instead following far important policy WP NPOV Remain Neutral There international dispute country name FYROM used many organization worldwide wikipedia abandon usage since extensively used describe State Skopje Especially article directly related country use FYROM name refer',\n",
       " 'The two big thing would citation verify serialized Weekly one reliable site English say Shonen Jump since one start serialization used note started serialization If mention continuation one shot story I find RS Japanese English online confirms The Horii reason adding mini medal Info anime based mentioned really needed main article could really help anime article Jinnai',\n",
       " 'REDIRECT Talk Colt Lightning Revolver',\n",
       " 'No nothing like I wanted clean clutter There lot bot comment welcome message old username I could archived I suppose I think anything particularly worth saving age',\n",
       " 'Why article got jumped Hi I sorry jump contribution moment put trouble simply sort thing Wikipedia These link one template notice put one place reason article nominated deletion Wikipedia dictionary Articles neologism need strong evidence term widely used Wikipedia thing made one day More advice contribtuing link Welcome paragraph The list Bad Article Ideas worth looking Regards',\n",
       " 'Therefore I reverting vandalism exception three edit rule mentioned edit warring page',\n",
       " 'user attacking user Baki keep reverting edits without consensus giving reason also performed ethnic mudslinging direction please help',\n",
       " 'Not Thracian pretty simple year away',\n",
       " 'Im flattered I truly I couple week consider established user Please talk behind back like little school child',\n",
       " 'Chicadee think article name moved chickadee',\n",
       " 'P S Are b tard',\n",
       " 'Ohhh I sorry I hurt little feeling Let shed couple tear together LOL What joke I bet feel pretty important pathetic little wikipedia volunteer Have fun living mother basement drawing comic book lowlife',\n",
       " 'New image problem You uploaded several image dubious copyright claim You said Hindu newspaper licensed GFDL What made think The Hindu publishes image GFDL If simply invented license order way upload image please say I quickly delete If I expect provide proof within next day showing newspaper placed image license If neither blocked',\n",
       " 'Bunchofgrapes Request You Please Cease Revert Warring Bunchofgrapes I respectfully ask please stop instant reverts edits If problem edits knowledge explaining wrong sourced material edits rather making blind statement designed allow revert reason And please cite source You seem able cite anything would back instant reverts accusatory tone telling others reverting made several instant reverts explaination edit added source Please cease cite source edit material according Jimbo Wales NPOV make sure source verifiable reverts Thanks',\n",
       " 'And problem neo',\n",
       " 'Wow big man Can take little criticism upset failure become admin So Looks closest person run admin Wikipedia Well played DietLimeCola Hey I blocked le time far better reason OH MY GOD SOME GIRL WAS LOOKING AT WIKIPEDIA FOR HER PAPER AND I DIDN T SEE THE TEACHER SO I COULDN T TATTLE SO I TOOK MATTERS IN TO MY OWN HANDS I also help notice sad quickly noticed update Do sit computer waiting update Please tell watchlist page All everything summed simple saying',\n",
       " 'Glen cool glen cool bloke love nice guy',\n",
       " 'Parodies Not intentionally surely',\n",
       " 'Pandur The name derives pandur Sumerian term long necked lute Source knowledge instrument since ancient Greek Mantineia marble th century BC exhibited National Archaeological Museum Athens depicting mythical contest Apollo Marsyas Greek Pandouris played muse seated rock National Archaeological Museum Athens e book Latsis Foundation p Lutes present ancient Greece Pandura first appearance Greece They also present Mesopotamia since Akkadian era third millennium BCE',\n",
       " 'I accept comment spirit offered Terminology matter hard find correct word It another editor sought distinguish civilised behaviour Indians point even one accepts distinction non Indians committed absurdly large atrocity In addition I could pointed Mystic massacre completely point example butchery shocked Native population None le tribal Mongols tribal American Indians civilization reasonable definition',\n",
       " 'No I dont agree info saying Since hurry edit page dont fix info sourced broken link',\n",
       " 'I thought personal attack welcome long revert I thought restoring mentioning ground indef block could junior miss admin missinformed I arrived time',\n",
       " 'Replacement PLEASE DO NOT EDIT BELOW THIS NOTE THE WHOLE SUPRA SECTION WILL DISAPPEAR AGAIN ONCE I AM ABLE TO POST ON THE ARTICLE TALK PAGE This includes Shell Had blocked I would able place answer This disappear tomorrow put Because Shell falsely blocked I save reply certain article talk page Hence I save entire page minus archived section POV concern Im surprised article called anti semetic trace Islamic perspective You know opposed piece Zionist propaganda passed fair balanced This entire article full baseless jewish propaganda It well documented Banu Qurayza executed treason That merited death penalty commited treason The Quarash tribe Muslims fought outright enemy persecuting start But Qurayza signed peace treaty broke aiding enemy This article contains soo much jewish propaganda think executed reason doubt aim Here great example Look citation According Stillman Muhammad chose Sa ibn Mua dh pronounce judgment precedent set Banu Qaynuqa Banu Nadir Sa took hint condemned adult male death hapless woman child slavery Furthermore Stillman infers Abu Lubaba gesture Muhammad decided fate Qurayza even surrender This author Norman A Stillman Zionist Jew biased Why used quote Islamic article And baseless conjecture allowed used fact There article Criticisms Islam Jews others write whatever want But hand editing Islamic article Because I looked Jewish article I noticed dont allow dissent You cant put Muslim perspective evil act commited Jews without disappearing instantly So standard MUST applied Islamic article Islamic article must written Islamic point view jew write response appropriate criticism Islam article If I personally edit Jewish article fill conjecture history And I find non Jewish admin arbitrate Islamic article Good day Please read talk page specifically place treason traitor mentioned still believe need mention treason provide reliable source discus It easy article neutral mention POVs require people like participate We work academic source personal conjecture Changes Devotus issue Dear Devotus I still issue change Bat Yeor Ramadan I appreciate try shift balance removing book side I agree removal Bat Yeor academic scholar though book controversial beyond pale currently serve reference article controversy would noted As Ramadan I issue well remove literature section would remove article serf reference This due insistence User Bless sin He certainly like removal We remove literature section retaining article While first version needlessly verbose noted new one endorses view Paret Watt The article say BQ killed religious reason fact since good case whole conflict caused religious difference Also want repeat thing already said coverage siege demise e g claim attacking M rear Also please abide one resolved conflict We fought hard long word like massacre execution neither appear unless unavoidable The common practice thing unacceptable',\n",
       " 'OK Steve honest I really like present form So I issue present one',\n",
       " 'Hello January You keep vandalizing article adding misleading edit summary Please stop It help build encyclopedia waste people time Since repeatedly selectively remove message talk page I know many warning already received I thus consider third warning report next time vandalize article Thank understanding talk',\n",
       " 'I think depends circumstance someone gold medal competition Gibraltar anthem would appropriate rather God save Queen',\n",
       " 'He He seems insistent adding pointless rambling talk page forum make cut http en wikipedia org w index php title Talk AXM rifle diff oldid He keep reverting removal',\n",
       " 'So I guess explanation WP CSD T still Zero Once failed explain page weas deleted WP CSD T threatened inquirer block Poor form Extremely poor form',\n",
       " 'proton reach fusion distance',\n",
       " 'Beauty pageant Just interest beauty pageant contestant mean notable please go trying delete stuff ignorant topic dealing I happen think ton article meet Wikipedia standard individual merit particularly comic etc I wise enough know I truly understand significance I leave alone A much prudent avenue would bring issue appropriate WikiProject WikiProject Beauty Pageants address yoru concern first instance One example continual use term model describe used one editor incorrect somewhat demeaning',\n",
       " 'On Mohammed Al Bayati qualification With regard edits past day I think Mohammed Al Bayati qualification tangentially relevant purpose text placed right prove Mohammed Al Bayati qualified review autopsy report This I think violates NPOV If qualification included come criticism controversy section quoted whoever accused Mohammed Al Bayati qualified review autopsy report cited If nobody made accusation original synthesis removed',\n",
       " 'No reason split There absolutely reason Alamo Bowl broadcaster split Alamo Bowl That list stub kb long The main article kb long much table list well within limit WP SIZE A single article kb long permitted reason article split Talk',\n",
       " 'Please sign comment Thanks',\n",
       " 'Alyssa Flash At time writing Sarita TNA iMPACT debut coming wrestling one Alyssa Flash note I might spelling Alyssa wrong I see nowhere list',\n",
       " 'Roma people Hungary appalling social economic situation Roma account percent Hungary million people mean',\n",
       " 'Fuck murdering scum',\n",
       " 'In addition I asking please stop accusing thing I havent done I sock puppeting I think taking matter personally abusing power',\n",
       " 'adding rational remove tag',\n",
       " 'wow guess one guy god forbid One love',\n",
       " 'It Phil Plait claimed radio program Joe Rogan ALL shuttle astronaut ever gone space van allen belt min http www youtube com watch v tvIC QDSnIc If thats misleading propaganda dunno website removed source',\n",
       " 'Lamia Joreige Hi Lea first like tell contribution invaluable presenting often overlooked subject kudos I see started aforementioned article I watchlist yet I know mistake You must take notice rule WP check WP Notability know better protect material add meta deletionists Cheers',\n",
       " 'I receive massage',\n",
       " 'I TAKE OFFENSE I take great offense pompous sanctimonious twit think one allowed express appreciation woman like Gibson Girl fine featured achingly beautiful creature I know kind totalitarian feminazi dystopian agenda trying foist people This encyclopedia based free speech free exchange information bogus political correctness schoolmarmish thought policing I take Gibson Girl anyday',\n",
       " 'Padua User Tag Someone design Padua College User Tag much like following one Maroons State Origin July UTC',\n",
       " 'Ion G Nemes talk June',\n",
       " 'gay motherfucker know live going sand face going beat pulp chicken shagger',\n",
       " 'Ok Dennis Brown thanks telling I taking bit way serious ill careful time stupid bot',\n",
       " 'way I might even know article talking',\n",
       " 'The problem sfc record There credible sci challenge This new section absurdly US centered possibly stand This global record talking You need credible scientific paper picture station As far I know sfcstations stuff merely documented problem station sitings maintenance etc There even beginning attempt quantifying influence plus minus might record If interested paper effect switching north wall screen stevenson screen thatched hut africa etc etc',\n",
       " 'Could please comment Talk Thought identification Re John Norseen Lockheed Martin I beside trying update information I believe relevent It look like several user hang ANI Fringe working together remove well sourced valid topic material show state military research thought identification Outside comment would greatly appreciated Thanks',\n",
       " 'Mediation Hello I Atyndall I volunteered take mediation case discussion I remain neutral side argument endeavor solve dispute After look discussion I found QuizzicalBee adding sentence According Chesler U S embassy repeatedly refused help leave country longer recognized U S citizen Hurmata reverting back She report U S embassy repeatedly refused help leave country Hurmata object QuizzicalBee sentence think source incorrect guard would allowed Chesler embassy first hand account Chesler qualify reliable source QB object saying maybe US citizenship could revoked US Afgan government time perhaps past guard may denied entry claim presumed true proven false Hurmata countered citation threat QB referring one cited QB state evidence disproving claim valid Could involved user please place verify statement correct suggest correct Thankyou talk',\n",
       " 'Well Arthur I printed paper condition fact Ultra Power say correction It seems paper incorrect rather correct pointless You already identified worst problem The third condition requires incontinuity f integer value However problem disappears consider special case e So let We want function f satisfying f e f n exp f n defined widely possible We observe n n present problem f f To extend f positive real number clearly sufficient define f interval length And want f continuously differentiable The paper requires f continuously differentiable equivalently This obviously whacky worry e Next obvious explained reason require f monotone interval From functional equation f x ln f x get f x f x f x Hence f f f f f must constant Not surprisingly function get way patched together smaller piece relatively unnatural way f x exp x exp x x Thus I learned paper correct solution problem probably minimum derivative',\n",
       " 'The Rangers FC This name Newco Rangers wikipedia page called The Rangers FC everywhere SFL SFA SPL BBC etc website League table TV They must Registered use The Rangers FC differentiate Rangers FC still SPL membership',\n",
       " 'Wikipedia Categories discussion Log April Wikipedia book Following horribly chaos April I resubmitted thing discussion talk contribs physic book',\n",
       " 'FlexPay Tax Law Just comment I interested seeing expansion artcile regarding tax surrounding FlexPay account',\n",
       " 'No problem talk',\n",
       " 'If win get evil people government private force well perhaps nuclear blast across US Europe btw MONGO really HS wikipedia',\n",
       " 'I seen',\n",
       " 'Najib Effendi al Yasin I suggest use paragraph indentation article Najib Effendi al Yasin recently created reach normal looking page Happy editting',\n",
       " 'Lol know meant Whichever president came Hafez new president assad considerable foreground support support would freaked coup They would claimed instability would arise assad supporter trying use defense What trying say although Bashar assad good economic international policy Syria fear non baathist potentially elected Syria economic international policy change iran would still major factor Syrian life considering buisness deal stake cultural exchange would change social freedom better Also every country revolution still alive today The Muslim brotherhood Syria weak even weaker islamist prescence Libya The rebel Libya support see yet could hardly take control without NATO What chance Syrian Muslim brotherhood None If anything nonviolent protest weaken resolve Muslim brotherhood making le influence everyday life Syrians As know I pro Syria Armenia pro Assad Unlike Armenia people like Sargsyan Kopcharyan democratically elected Assad one ran allowed',\n",
       " 'CFR perfectly accurate source The Council On Foreign Relations CFR ORG recognized legitimate think tank study international terrorisim United Staes Govt claim Not Credible idiotic They legitimate online newspaper source They studied Northern Ireland compliled list UDA UVF killed IRA INLA vice versa These fact good included article',\n",
       " 'Lead What summary summary supposed substantially shorter text summarize case Salvatore Giunta It simply copy whole sentances body text As editor ass article currently stand hypothetical future stance If article grows lead adjusted accordingly In case lead section I favored indeed summarize important part MOH In case read WP LEAD The lead biography necessarily supposed summarize life story subject assert thier claim notability The two sentances I favored without overly repetitive wordsdeeds',\n",
       " 'Unblock I make renewed effort give personal attack But course I question unwarranted blockage might well imagine Why IP editor tend get raw end deal admins tend lean towards side someone editing account someone editing without one especially area label personal attack harassment given IP editor much named editor thing For exampleand yep maybe guessed question Why supposedly okay according someone name like say escape orbit dish personal attack give one back I lowly IP editor Specifically supposedly okay give personal attack putting false stuff keyboard making ludicrous claim reason wanting old style ebaY logo go next current one ebay lead I wanted even though total lie supposedly okay call kind slander stupid Here another one Why supposedly okay smiley girl falsely accuse edits vandalism differed guy preferred I say reversion vandalism I get trouble personal attack I IP editor Ready one Then fine named editor give one u IP editor warning template I IPer thing named editor like I partially smiley girl I get dinged Oh cause personal attack Oh bad harassment Oh yeah one Remember rule edit warring general meaning even breaking RR say I right I edit warring defense Well apply meeting called consensus since thing case concrete correctness based whether match called consensus wanted thing say Well named friend smiley edit warring put thing back exclusive partial consensus want say AND since editing already established NOT vandalism even though disagrees ignore mentioned edit warring rule give pas anyway I IP editor exclusive consensus thing edit warring even though thing smiley remember right matching consensus defense rule',\n",
       " 'If Serbia recognise Abkhazia South Ossetia I surprised Georgia recognises Kosovo retaliation',\n",
       " 'subtle question possibly could',\n",
       " 'Trying measure number cafe This one place I frustrated Wikipedia ban original research The article absurdly low least six cafe Ave alley I know number come consider cafe seems well within reasonable definition scene includes Solstice Cafe Zoe The original Allegro alley parallel Ave arguably second location College Inn also count The Ugly Mug half block The Cafe corner nd used Roma I recall new name Sureshot The Continental Caffe Apassionato WOW Bubble Tea Shinka Tea Company Yunnie Bubble Tea Pochi Tea Gingko Tea House Tully Starbucks Wannabee one block Still Life Ave Grand Illusion technically entrance around corner clearly effectively Ave This even count hangout mainly bar restaurant takeout food joint count thing like U Bookstore Bulldog News busy espresso operation count ice cream stand And I sure I missing something offhand Talk',\n",
       " 'Actually undue weight also result zero weight As whole issue insinuation extrapolation given event Just article outright say Edwards father father listed quite clear intent Now editor familiar consider FNC fanboy appolgist regarding conservative republican objection clearly partisan point view That said violation several WP policy',\n",
       " 'I found Chronological list PC Engine game I thought release date page Japan since seperate List TurboGrafx game The change made ok though since I see IGN listed way',\n",
       " 'I agree Fundamentally whether take pill patch ring key hormonal main article At point oral contraceptive either redirect hormononal contraception unles sufficient material justify existence',\n",
       " 'That desterbing project school explain wasnt Bill Gates year ago',\n",
       " 'The source local guide book source',\n",
       " 'chill inty mate',\n",
       " 'A Tale Tub Main page Hey Geogre check know A Tale Tub featured Main page Sunday Talk Nov UTC',\n",
       " 'Added C class I would like add B class question raised talk page',\n",
       " 'No problem Thanks letting know talk',\n",
       " 'Batman I Batman You Spiderman I win',\n",
       " 'Geometry love Good day Can search source article Geometry Love Probably article contain interesting fact DYK',\n",
       " 'Exactly I removed section I noticed posting chen',\n",
       " 'Please unblock delete page I request unblock talk page immediately permanently delete content You free permanently block contributing Wikipedia I intention case If would like reason block prove I violated rule need preserve talk page Here another deliberate intentionally provocative violation rule old school personal insult You loathsome sanctimonious hypocritical ignorant twit If state uncontrolled combustion I would take trouble extinguish flame urinating I hope satisfactory',\n",
       " 'That true first edit however second one honest mistake',\n",
       " 'That problem facing article well I love see get featured article status I keep running fact really whole lot good verifiable info easily available easy come picture usable though I suspect one two known image would fall fair use There couple website basically regurgitate section McGregor book There certain irony fact guy labored anonymous solitude life project loved dearly died destitute making several people rather wealthy',\n",
       " 'You funney man',\n",
       " 'Furthermore threat made block individual adding editing well researched information would directly negate sole intention Wikipedia',\n",
       " 'Wikipedia full fool Who take money make people work free Wikipedia You might well ban fool What taking long Wiki stupid place Jimbo Cult',\n",
       " 'They seem reliable enough topic anyways like many major news source going covering thing site cover',\n",
       " 'In response feedback Yoa see Wikipedia Changing username',\n",
       " 'opinion And proof I anti Newsom Whether support gay porn day violated state law issuing Gay marriage license contradiction state law These fact slander fiction',\n",
       " 'That admission begs question Is better punish adolescent boy going engage bullying behaviour extend welcome talk',\n",
       " 'French speaker Paris Can anybody explain French speaker concentrate heavily cultural life Paris What mean Sep UTC',\n",
       " 'Why changing SOMALI PEOPLE WIKI SERIOUSLY THAT PAGE IS BIASED TO ONE CLAN I ADDED A MORE DIVERSE REPRESENTATION OF SOMALI PEOPLE YOU STUPID CRIMINAL',\n",
       " 'Davkal I agree would suggest discus gloat know likely come back start harassing agagin Apparently hour left someone bit head talk page comment left article',\n",
       " 'Thanks Thanks tip Buddy walkie talkie KY highway page I currently cleaning page Please edit Thanks Let Go Mets Stats Your first barnstar style border px solid gray background color fdffe rowspan valign middle rowspan style font size x large padding vertical align middle height em The Tireless Contributor Barnstar style vertical align middle border top px solid gray I hereby award BigrTex tireless contributor barnstar due outstanding amount high quality edits Hikaru',\n",
       " 'Transistor The transistor page Principle Operation section physicist know want share b know work I thinking came fairly decent concept work I put WIKI I think guy got jealous I discussing pretty much nothing PS language pathetic naughty naughty boy I eat',\n",
       " 'I like see print since listed day without URL',\n",
       " 'proposed deletion process following concern Wikipedia used place guide walk All contribution appreciated article may satisfy Wikipedia criterion inclusion deletion notice explain see also What Wikipedia Wikipedia deletion policy You may prevent proposed deletion removing notice please explain disagree proposed deletion edit summary talk page Please consider improving article address issue raised even though removing deletion notice prevent deletion proposed deletion process article may still deleted match speedy deletion criterion sent Articles Deletion may deleted consensus delete reached',\n",
       " 'Hmmm There way I see I remember code gabsadds',\n",
       " 'This article already exists see Liger Pro',\n",
       " 'Feather There citation quill looked past Therefore opinion',\n",
       " 'Bakan Why Abbie Bakan even mentioned article Based worthless rag cited source article nothing shill Lenin rest commie gang In rag show egregious pro Communist bias even bother check fact much le look cause Kronstadt rebellion even cite reliable historical source subject She also discredit absurd accusation White conspiracy overthrow Soviet government even rebellion motivated anti semitic racism among sailor Furthermore claim made rag based case begging question since Lenin Communist regime good major premise Kronstadt rebellion harmed said regime minor premise suppressing rebellion justified Last least mere fact aforementioned rag first published self admitted socialist party definition mean source DOES NOT meet EITHER WP NPOV OR WP RS If source continue used Wikipedia article whole project soon turn Commiepedia',\n",
       " 'Messages talk page AfD Placing message Users talk page hope gaining support unacceptable practice agin hinders AfD process',\n",
       " 'trivia advise look word good dictionary jay mr townsley marriage important business dynasty obviously noteworthy noted prominently article linked cheer',\n",
       " 'Might I remind ENGLISH language Wikipedia greater precedence I Perhaps think going edit Ja Wikipedia taking aggressive attitude Especially since problem example name easily fixed You clearly incapable appreciating improvement I made English perhaps best person judge',\n",
       " 'Speedy deletion David Fork A tag placed David Fork requesting speedily deleted Wikipedia This done section A criterion speedy deletion short article providing little context reader Please see Wikipedia Stub minimum information standard short article Also please note article must notable subject provide reference reliable source verify content If think notice placed error may contest deletion adding top page existing speedy deletion db tag coupled adding note talk page explaining position aware tagged speedy deletion article meet criterion may deleted without delay Please remove speedy deletion tag hesitate add information article would would render conformance Wikipedia policy guideline u want',\n",
       " 'Your suggestion editing article completely workable working per Wikipedia guideline Jayjg SlimVirgin started deleting large relevant chunk article reverting punitive gesture If agree concentrate making article better instead punishing reason article locked I agree start extremely innocuous definition preamble statement agree However definition anyone good unless conveys sort information If one word could agree associated terrorism would better definition intimidate instance',\n",
       " 'Speaking without knowing I talking OK bout original comment I made Everlast entry constantly vandalized Eminem fan written month ago dumb as got involved site The feud started Dilated Peoples track That I believed verse Everlast contributed still The jab taken back forth deserve synopsis Your idiotic little comment album sale excessive unnecessary It belongs fact everyone know artist agrees ever got Everlast would knock living shit outta Eminem And THAT came Eminem fan site',\n",
       " 'Our Talk Archives',\n",
       " 'Speedy deletion Spunga A tag placed Spunga requesting speedily deleted Wikipedia This done section G criterion speedy deletion article appears repost material previously deleted following deletion debate article deletion Under specified criterion article substantially identical content article deleted debate change content address reason material previously deleted may deleted time If think notice placed error may contest deletion adding top page existing speedy deletion db tag coupled adding note article talk page explaining position aware tagged speedy deletion article meet criterion may deleted without delay Please remove speedy deletion tag hesitate add information article would would render conformance Wikipedia policy guideline talk',\n",
       " 'Plus natural born citizen I going assume But care anyway',\n",
       " 'Unblocked last time Ok fuck I mean best possible way Good luck good night',\n",
       " 'I understand position think point perfectly valid However I deem Ia Chi u creation Wikipedia even lack historical source effect English language I think tomorrow Thank explaining position accurate detail Best regard nd',\n",
       " 'studid cock sucker u stop callin ok frank Garrett eatin worm crawl outa mom pussy fucking retardo hit I retardo',\n",
       " 'Thanks User talk Biggity constructive edits Indef block perhaps Mahalo',\n",
       " 'For anyone interested accurate deliberately misleading information ten string guitar e garbage doubt soon presented see www myspace com tenstringguitar Tthough temporary site hidden removed google search listing shady dealing truth prevail',\n",
       " 'You said I determined page regress I delete anything inappropriate jeopardizes good progess made A completely inappropriate post middle sensitive discussion threatens The problem sole arbiter talk page The post innocuous violate condition arbitration decision Nor affect flow discussion page In fact appropriate response would ignore By removing encourage reaction You accuse wikilawyering absurd The guideline help u However violate guideline also several policy It kind heavy handed action encourages people persist problem edits It long standing convention remove user post three year I never seen done vandalism Unless give much better reason I going reinstate deleted text',\n",
       " 'The Glourious People Republic China carried survey Great Wall It surprise Chinese invention Wall exist day One day Great Wall stretch way around World Anyway let add detail dear government survey',\n",
       " 'FisherQueen would kindly stop following every move deleting thing MY user page Havent got anything better piss people Wikipedia',\n",
       " 'So Jim Burton child molesting faggot I see still u yet another day making total buffoon usual I know sadder extreme hypocritical arrogance show lecturing world ethical principle claimed right abuse child You ethical principle save life exactly Roman poet said harlot doth always rebuke chaste Will ever drop dead might breathe little easier kid sake You truly disgust every word write',\n",
       " 'Having read Will Beback I already changed structure separate someone view separate section I suggest Further restructuring welcome Details per section later',\n",
       " 'Nevermind The assimilated puppy Sorry bother Cheese Wine',\n",
       " 'I fixed link It took second Now leave I report administrator',\n",
       " 'As I told deliberate personal attack In belief message interpreted wrongly although I asumed good faith posting As I mentioned',\n",
       " 'Please remove content page without explanation edit Vole If continue blocked editing royal court',\n",
       " 'Deleted American Criminal category It incredible fact article might lead misguided soul think American Criminal Category There lively discussion category talk page category even expansive reading category countenance',\n",
       " 'MILLINOS OF HUNJAN looking hunjan template hunjan fight back concept art bull shit tharkarn waste man',\n",
       " 'Just add Kansas Bear When I said You made elementry mistake calling treaty fact congrass Is left usual post regarded three deligations pressent treaty Arass Papal meditiation The treaty Arass private treaty deligations Burgundy France made military alliance Again debatting Burgundian recognition stop changing subject You clearly giving fallactious statement I feel post utterly questionable If happend remeber month ago agreed congrass treaty Arass different I corrected statement regarded three deligations bieng pressent treaty Arass P S Stop childish personal attack I aqsked give source regarding Burgundy didnt recognize Henry King France give ref regarding treaty Arass mixing post If cant handle fact Burgundy recognised Henry King France I already reverted dual monarchy article You ashamed Fallactious remark nd utterly questionable unsourced fact',\n",
       " 'er using two usernames vote poll I idea talking I used usernames I never voted poll I vandal I vandalised anything I may added content someone else agree This vandalism The correct reponse discussion debate achieve conscensus Again I sockpuppet puppetmaster I fully open I person By Wikipedia defintion I sockpuppet puppermaster may wnat use different defintion opinion mudslinging hardly appropriate Administrator',\n",
       " 'Raffaele request lawyer interrogated Nov refused request allowed call father Page Amanda denied food water bathroom break nap night interrogation Nov Page Wikid Actually looking Murder In Italy I see ton additional information Amanda Raffaele interrogation could included So I work listing detail tomorrow',\n",
       " 'Yes I like suggestion also It look pretty good leading next sentence bering strait crossing conforms rest article since later get detail prehistoric migrator I edit Yee suggestion',\n",
       " 'Seriously Alex article edge deleted There one deletion discussion arguing kept If want hope keeping article online instead spending time editing talk page click link go deletion discussion make argument',\n",
       " 'Fu ck ing trollreasons',\n",
       " 'Some day I going remember laugh HA HA HA HA HA Never forget I incredible power I powerful possibly imagine Let close conversation bidding fond farewell',\n",
       " 'You probably noticed table faction approach could keep eye game central information game faction update table would great I basing similar table A class Age Empires III show sort information go without falling gameguide trap',\n",
       " 'SR CL U bud bin A way Like long time like time outa mind long Gooood shit mo latah dat Soon az Ah gitz back heah sum de brotherz n sistahs sez Hance dead alive We send Zion Ranger check condition Ah sez Whoa Led gib holler Dis hollerin Bro De Zion Rangerz dem dat de walkin tru wallz Not De wall walkin dude gon na R Bro harm jes checkin EE ben gentle remindah kum fuhst U readin id A leedle postin dis n dat go GOOD Doan fohget cut sum ZZzz aftah tad postin Sleep good n doan fergit ta dream Sumptin might kum jes ta BDH wrapt roun wid delta wave n kupla otha carrierz diz cuss lAtah Chow Bro',\n",
       " 'call neither Maybe missed lifetime chance see u Talk',\n",
       " 'Henry David Thoreau page It considered vandalism If would like experiment use sandbox Thank',\n",
       " 'rather crude ancestor vaccine The source biography Louis XVI Louis XVI le Roi Bienfaisant Jean de Viguerie various often contradictory influence french government prior revolution section devoted innoculation royal family make note intendant Franche Comte financed physician province later used Washington continental army The truth He actually died December It even say book I Facts About George Washington George Washington owned acre land Washington lived NEW YORK AND PHILDELPHIA DURING HIS PREIDENCY The preceding unsigned comment added GA zh wikipedia Please add Link GA zh interwiki section Thanks',\n",
       " 'The objectionable textbook material The ad refer controversy Wheaton school early surrounding series textbook called Impressions They also contained writing parent believed featured theme occult witchcraft violence disrespect parental authority Here discussion one offending piece yarn called A Wart Snake Fig Tree kind pardody The Twelve Days Christmas creepy crawlies spider snake stuff A Wart Snake Fig Tree I wonder Roskam stance Harry Potter Holloween',\n",
       " 'No I mean point biographical article though would good I mean answer right discussion page What town born Which school go Also regarding top I disagree I think article could quite bit expansion could article individual mentioned As greatest living magician I admit I never heard name How judging say Max Maven better David Copperfield Is award industry press personal opinion technique',\n",
       " 'Okay truly needed sort criticism praise quote etc Thank talk',\n",
       " 'Haha fine I mean allowed I selfish I guess I really appreciate kindness though And I really respect asked signature borrowed one let know gave credit So I feel badly since asked feel really badly haha But I help figure nice one pick fun color Have great day happy Wikying',\n",
       " 'Leave alone I told already leave alone fuck fucking thing Or find hounding amusing Id u mothafuckin asshole I ban',\n",
       " 'Bloc voting Countries large population non national may televote influenced considerably This cited reason apparent bloc voting Balkan country former Yugoslavia This full blown crazy What non national mean These country similar culture speak language The star Croatia popular Serbia vice versa People national country largest proportion country refugee country really explain Croatia would always give highest pt Serbia Macedonia Serbia conflict speak For example I Bosnian Serb voting Croatian Serbian song unusual But I Bosnian non national I passport BiH family never lived Serbia history It really mutual intelligibility Scandinavian bloc vote time It language sensibility',\n",
       " 'PETA self published source Please explain PETA website self published',\n",
       " 'Please vandalize page edit Morrissey If continue blocked editing Impala',\n",
       " 'August UTC There WP RS affirm veracity DI doubtful claim either That WP RS either way Therefore verifiable fact Picard original signer consented agreed DI published interpretation political position vi vi PBS subsequent political purpose regarding taught school All verifiable record original signer called skeptical examination evidence scientific theory DI unverifiable claim fraudulently spin consensual agreement support interpretation political agenda fact rule Wikipedia All rest DI propaganda utter hogwash fraudulently perpetrated DI without verifiably demonstrated consent original individual In view WP BLP Do No Harm clause unverified claim DI must promoted fact content effect must immediately expunged per WP BLP',\n",
       " 'Email Thanks email message received Guyovski I received similar though openly threatening email Guyovski well',\n",
       " 'It fabrication intent defame That point It belongs Dan Savage article',\n",
       " 'Perhaps overlooked discussion Steve Moore credential another aspect Newsweek article By saying Knox supporter hurt expressing opinion Nadeau effectively stated decision Italian court influenced anger anti American sentiment rather evidence alone I know Nadeau experience Italy qualifies make assessment taking RS make statement would great insult Italian jurisprudence anything Knox supporter said I wholly concur pablo opinion piece place article',\n",
       " 'Other attraction What water place animal place',\n",
       " 'I fear Jossi may correct If Watts btw died said Rawat probably meant praise e emphasis would sacred judging knowledge Watts oeuvre He rather anti intellectual',\n",
       " 'Ooooh Well fix Because look mess right I think certified Switzerland yet So New Zealand Australia',\n",
       " 'Omg love Dch Who I love Pac Sun',\n",
       " 'I removed It contributes NOTHING article',\n",
       " 'Hi Writingrights Welcome Wikipedia I hope like place I sure want stay Before getting depth may want read Five pillar Wikipedia simplified ruleset If need help title new article check naming convention help formatting page visit manual style If need help look Wikipedia Help FAQ plus find answer check Village Pump Wikipedia related question Reference Desk general question There still help Tutorial Policy Library Plus forget visit Community Portal And question feel free post user talk page place helpme talk page someone help shortly TAB Additional tip TABTAB Here extra tip help get around pedia If want play around new Wiki skill Sandbox TAB You sign name using three tilde If use four add datestamp Five get datestamp You may want add new user log TAB If ever think page image deleted please list vote deletion page There also vote undeletion page want retrieve something think deleted If still entirely confused would like get better grasp wikipedia skill IRC client mind getting one check Bootcamp It sound like fun help editing skill If bored want find something try Random page button sidebar check Open Task message Community Portal Happy Wiki ing talk contribs Click respond message',\n",
       " 'It common knowledge Karaims Karaite Jews boast descent Khazars realize believe On oq whence came mixing Carian mercenary Caphtor Kolhkis Khazar ancestor fact remnant lost Ten Tribes Israel formed priesthood It precisely reason Karaite Jewish scholar like Jacob Ben Reuben Byzanteum Yefet ben Ali Jeshua ben Judah call u bastard writing The following editor',\n",
       " 'April UTC Then rewrite expand article I much rather full article bad article full template As William edits I going vote content matter time I never looked article sent link I equipped choose one version another My vote purely layout aesthetic including template Maybe later I spent time unfamiliar article I make statement content',\n",
       " 'I trying inject humour evidenced winky face ridiculous overblown unnecessarily dramatic situation If took time familiarize situation would see person I insulted attacking cited factual contribution actively censoring explanation I retaliated insulting I thought conduct insult worthy time would sane individual familiar Wikipedia insult rule however I since realized I wrong site allow harsh word I use even used ordeal Wikipedia place edit constructive brought greater knowledge subject topic But fact I insulted another user edit summary regrettable I know If seriously think edit linked constitutes better insult',\n",
       " 'title redirect Altona Hamburg I w change moment many link bother',\n",
       " ...]"
      ]
     },
     "execution_count": 16,
     "metadata": {},
     "output_type": "execute_result"
    }
   ],
   "source": [
    "lemmatize_text = []\n",
    "for i in range(len(corpus)):\n",
    "    lemmatize_text.append(lemmatize_nltk(stop_words_cleaning(clear_text(corpus[i]))))\n",
    "lemmatize_text"
   ]
  },
  {
   "cell_type": "code",
   "execution_count": 17,
   "metadata": {},
   "outputs": [],
   "source": [
    "df['lemm_text'] = lemmatize_text"
   ]
  },
  {
   "cell_type": "markdown",
   "metadata": {},
   "source": [
    "Мы получили лемматизированный текст который в дальнейшем превратим в признаки, теперь сделаем сбалансированные выборки для проверки на каких данных обучение пройдет качественнее. Поскольку у нас достаточно большая выборка, я считаю что в данном случае будет правильнее пойти на ее уменьшение, так как если мы пойдем на увеличение то вес многих слов кратно увеличится."
   ]
  },
  {
   "cell_type": "code",
   "execution_count": 18,
   "metadata": {},
   "outputs": [],
   "source": [
    "features = df['lemm_text']\n",
    "target = df['toxic']"
   ]
  },
  {
   "cell_type": "code",
   "execution_count": 19,
   "metadata": {},
   "outputs": [],
   "source": [
    "features_train, features_test, target_train, target_test = train_test_split(features, \n",
    "                                       target, test_size = 0.3, random_state=12345, stratify = target)"
   ]
  },
  {
   "cell_type": "code",
   "execution_count": 21,
   "metadata": {},
   "outputs": [],
   "source": [
    "features_selection, features_valid, target_selection, target_valid = train_test_split(features_train, \n",
    "                                       target_train, test_size = 0.25, random_state=12345, stratify = target_train)"
   ]
  },
  {
   "cell_type": "code",
   "execution_count": 22,
   "metadata": {},
   "outputs": [],
   "source": [
    "def downsample(features, target, fraction):\n",
    "    features_zeros = features[target == 0]\n",
    "    features_ones = features[target == 1]\n",
    "    target_zeros = target[target == 0]\n",
    "    target_ones = target[target == 1]\n",
    "\n",
    "    features_downsampled = pd.concat(\n",
    "        [features_zeros.sample(frac=fraction, random_state=12345)] + [features_ones])\n",
    "    target_downsampled = pd.concat(\n",
    "        [target_zeros.sample(frac=fraction, random_state=12345)] + [target_ones])\n",
    "    \n",
    "    features_downsampled, target_downsampled = shuffle(\n",
    "        features_downsampled, target_downsampled, random_state=12345)\n",
    "    \n",
    "    return features_downsampled, target_downsampled"
   ]
  },
  {
   "cell_type": "code",
   "execution_count": 23,
   "metadata": {},
   "outputs": [
    {
     "data": {
      "text/plain": [
       "0    13044\n",
       "1    11357\n",
       "Name: toxic, dtype: int64"
      ]
     },
     "execution_count": 23,
     "metadata": {},
     "output_type": "execute_result"
    }
   ],
   "source": [
    "feature_balance, target_balance = downsample(features_train, target_train, 0.13)\n",
    "target_balance.value_counts()"
   ]
  },
  {
   "cell_type": "markdown",
   "metadata": {},
   "source": [
    "Подготовим признаки для двух выборок"
   ]
  },
  {
   "cell_type": "code",
   "execution_count": 24,
   "metadata": {},
   "outputs": [
    {
     "data": {
      "text/plain": [
       "<111699x132749 sparse matrix of type '<class 'numpy.float64'>'\n",
       "\twith 3204017 stored elements in Compressed Sparse Row format>"
      ]
     },
     "execution_count": 24,
     "metadata": {},
     "output_type": "execute_result"
    }
   ],
   "source": [
    "features_train_vector = TfidfVectorizer().fit_transform(features_train)\n",
    "features_train_vector"
   ]
  },
  {
   "cell_type": "code",
   "execution_count": 25,
   "metadata": {},
   "outputs": [
    {
     "data": {
      "text/plain": [
       "<47872x132749 sparse matrix of type '<class 'numpy.float64'>'\n",
       "\twith 1347446 stored elements in Compressed Sparse Row format>"
      ]
     },
     "execution_count": 25,
     "metadata": {},
     "output_type": "execute_result"
    }
   ],
   "source": [
    "features_test_vector = TfidfVectorizer().fit(features_train).transform(features_test)\n",
    "features_test_vector"
   ]
  },
  {
   "cell_type": "code",
   "execution_count": 26,
   "metadata": {},
   "outputs": [
    {
     "data": {
      "text/plain": [
       "<83774x112417 sparse matrix of type '<class 'numpy.float64'>'\n",
       "\twith 2411117 stored elements in Compressed Sparse Row format>"
      ]
     },
     "execution_count": 26,
     "metadata": {},
     "output_type": "execute_result"
    }
   ],
   "source": [
    "features_selection_vector = TfidfVectorizer().fit_transform(features_selection)\n",
    "features_selection_vector"
   ]
  },
  {
   "cell_type": "code",
   "execution_count": 27,
   "metadata": {},
   "outputs": [
    {
     "data": {
      "text/plain": [
       "<27925x112417 sparse matrix of type '<class 'numpy.float64'>'\n",
       "\twith 771342 stored elements in Compressed Sparse Row format>"
      ]
     },
     "execution_count": 27,
     "metadata": {},
     "output_type": "execute_result"
    }
   ],
   "source": [
    "features_valid_vector = TfidfVectorizer().fit(features_selection).transform(features_valid)\n",
    "features_valid_vector"
   ]
  },
  {
   "cell_type": "code",
   "execution_count": 28,
   "metadata": {},
   "outputs": [
    {
     "data": {
      "text/plain": [
       "<24401x50062 sparse matrix of type '<class 'numpy.float64'>'\n",
       "\twith 620618 stored elements in Compressed Sparse Row format>"
      ]
     },
     "execution_count": 28,
     "metadata": {},
     "output_type": "execute_result"
    }
   ],
   "source": [
    "features_train_balance_vector = TfidfVectorizer().fit_transform(feature_balance)\n",
    "features_train_balance_vector"
   ]
  },
  {
   "cell_type": "code",
   "execution_count": 29,
   "metadata": {},
   "outputs": [
    {
     "data": {
      "text/plain": [
       "<47872x50062 sparse matrix of type '<class 'numpy.float64'>'\n",
       "\twith 1313025 stored elements in Compressed Sparse Row format>"
      ]
     },
     "execution_count": 29,
     "metadata": {},
     "output_type": "execute_result"
    }
   ],
   "source": [
    "features_test_balance_vector = TfidfVectorizer().fit(feature_balance).transform(features_test)\n",
    "features_test_balance_vector"
   ]
  },
  {
   "cell_type": "markdown",
   "metadata": {},
   "source": [
    "Данные подготовлены, давайте посмотрим что покажет модель."
   ]
  },
  {
   "cell_type": "markdown",
   "metadata": {},
   "source": [
    "## Обучение"
   ]
  },
  {
   "cell_type": "code",
   "execution_count": 30,
   "metadata": {},
   "outputs": [
    {
     "name": "stderr",
     "output_type": "stream",
     "text": [
      "/opt/conda/lib/python3.7/site-packages/sklearn/linear_model/sag.py:337: ConvergenceWarning: The max_iter was reached which means the coef_ did not converge\n",
      "  \"the coef_ did not converge\", ConvergenceWarning)\n"
     ]
    },
    {
     "name": "stdout",
     "output_type": "stream",
     "text": [
      "Лучшая оценка качества модели методом методом f1: 0.7665255617062845 Достигается при параметре С =  2.9000000000000004\n"
     ]
    }
   ],
   "source": [
    "best_result = 0.75\n",
    "best_c = 0\n",
    "for i in range(1, 31, 1):\n",
    "    model_1 = LogisticRegression(solver = 'saga', class_weight = 'balanced', C = i * 0.1)\n",
    "    model_1.fit(features_selection_vector, target_selection)\n",
    "    answer_1 = model_1.predict(features_valid_vector)\n",
    "    result_1 = f1_score(answer_1, target_valid)\n",
    "    if result_1 > best_result:\n",
    "        best_model_1 = model_1\n",
    "        best_result = result_1\n",
    "        best_c = i * 0.1\n",
    "\n",
    "print(\"Лучшая оценка качества модели методом методом f1:\", best_result, \"Достигается при параметре С = \", best_c)"
   ]
  },
  {
   "cell_type": "code",
   "execution_count": 31,
   "metadata": {},
   "outputs": [
    {
     "data": {
      "text/plain": [
       "0.78647476340694"
      ]
     },
     "execution_count": 31,
     "metadata": {},
     "output_type": "execute_result"
    }
   ],
   "source": [
    "model_log = LogisticRegression(solver = 'saga', class_weight = 'balanced', C = best_c)\n",
    "model_log.fit(features_train_vector, target_train)\n",
    "answer_log = model_log.predict(features_test_vector)\n",
    "f1_score(answer_log, target_test)"
   ]
  },
  {
   "cell_type": "code",
   "execution_count": 32,
   "metadata": {},
   "outputs": [
    {
     "data": {
      "text/plain": [
       "0.7068143100511073"
      ]
     },
     "execution_count": 32,
     "metadata": {},
     "output_type": "execute_result"
    }
   ],
   "source": [
    "model_log_balance = LogisticRegression(solver = 'liblinear')\n",
    "model_log_balance.fit(features_train_balance_vector, target_balance)\n",
    "answer_log_balance = model_log_balance.predict(features_test_balance_vector)\n",
    "f1_score(answer_log_balance, target_test)"
   ]
  },
  {
   "cell_type": "code",
   "execution_count": 33,
   "metadata": {},
   "outputs": [
    {
     "data": {
      "text/plain": [
       "0.706803834463409"
      ]
     },
     "execution_count": 33,
     "metadata": {},
     "output_type": "execute_result"
    }
   ],
   "source": [
    "model_tree = DecisionTreeClassifier(random_state=12345, max_depth = 71)\n",
    "model_tree.fit(features_train_vector, target_train)\n",
    "answer_tree = model_tree.predict(features_test_vector)\n",
    "f1_score(answer_tree, target_test)"
   ]
  },
  {
   "cell_type": "code",
   "execution_count": 34,
   "metadata": {},
   "outputs": [
    {
     "data": {
      "text/plain": [
       "0.5459202341748994"
      ]
     },
     "execution_count": 34,
     "metadata": {},
     "output_type": "execute_result"
    }
   ],
   "source": [
    "model_tree_balance = DecisionTreeClassifier(random_state=12345, max_depth = 85)\n",
    "model_tree_balance.fit(features_train_balance_vector, target_balance)\n",
    "answer_tree_balance = model_tree_balance.predict(features_test_balance_vector)\n",
    "f1_score(answer_tree_balance, target_test)"
   ]
  },
  {
   "cell_type": "code",
   "execution_count": 35,
   "metadata": {},
   "outputs": [
    {
     "data": {
      "text/plain": [
       "0.11583011583011583"
      ]
     },
     "execution_count": 35,
     "metadata": {},
     "output_type": "execute_result"
    }
   ],
   "source": [
    "model_forest = RandomForestClassifier(random_state = 12345, n_estimators = 5, max_depth = 51)\n",
    "model_forest.fit(features_train_vector, target_train)\n",
    "answer_forest = model_forest.predict(features_test_vector)\n",
    "f1_score(answer_forest, target_test)"
   ]
  },
  {
   "cell_type": "code",
   "execution_count": 36,
   "metadata": {},
   "outputs": [
    {
     "data": {
      "text/plain": [
       "0.5857626026735384"
      ]
     },
     "execution_count": 36,
     "metadata": {},
     "output_type": "execute_result"
    }
   ],
   "source": [
    "model_forest_balance = RandomForestClassifier(random_state = 12345, n_estimators = 17, max_depth = 51)\n",
    "model_forest_balance.fit(features_train_balance_vector, target_balance)\n",
    "answer_forest_balance = model_forest_balance.predict(features_test_balance_vector)\n",
    "f1_score(answer_forest_balance, target_test)"
   ]
  },
  {
   "cell_type": "markdown",
   "metadata": {},
   "source": [
    "Модели обучены, необходимая точность соблюдается."
   ]
  },
  {
   "cell_type": "markdown",
   "metadata": {},
   "source": [
    "## Выводы"
   ]
  },
  {
   "cell_type": "markdown",
   "metadata": {},
   "source": [
    "В рамках данного проекта мы обучили модель отвечающую необходимым условиям точности. Лучше всего себя показывают модели логистической регрессии. Модели случайного леса в данном случае сильно проигрывают, у решающего дерева ситуация получше, но все равно уступает логистической регрессии. Также нужно отметить что при работе с выборкой где целевые признаки были сбалансированы все модели показывают результаты хуже чем когда выборка бралась полностью с дисбалансом в целевом признаке."
   ]
  },
  {
   "cell_type": "code",
   "execution_count": null,
   "metadata": {},
   "outputs": [],
   "source": []
  }
 ],
 "metadata": {
  "ExecuteTimeLog": [
   {
    "duration": 1335,
    "start_time": "2021-12-03T10:37:08.861Z"
   },
   {
    "duration": 614,
    "start_time": "2021-12-03T10:38:12.304Z"
   },
   {
    "duration": 27,
    "start_time": "2021-12-03T10:39:29.229Z"
   },
   {
    "duration": 17,
    "start_time": "2021-12-03T10:39:38.953Z"
   },
   {
    "duration": 237,
    "start_time": "2021-12-03T10:39:51.622Z"
   },
   {
    "duration": 32,
    "start_time": "2021-12-03T10:40:13.603Z"
   },
   {
    "duration": 4,
    "start_time": "2021-12-03T11:34:18.184Z"
   },
   {
    "duration": 4,
    "start_time": "2021-12-03T11:34:30.610Z"
   },
   {
    "duration": 354,
    "start_time": "2021-12-03T11:35:32.967Z"
   },
   {
    "duration": 6,
    "start_time": "2021-12-03T11:35:51.823Z"
   },
   {
    "duration": 3,
    "start_time": "2021-12-03T12:51:37.321Z"
   },
   {
    "duration": 483,
    "start_time": "2021-12-03T12:52:58.473Z"
   },
   {
    "duration": 4,
    "start_time": "2021-12-03T12:54:33.367Z"
   },
   {
    "duration": 5247512,
    "start_time": "2021-12-03T13:10:42.653Z"
   },
   {
    "duration": -554,
    "start_time": "2021-12-03T14:38:10.721Z"
   },
   {
    "duration": 724,
    "start_time": "2021-12-03T14:38:19.888Z"
   },
   {
    "duration": 6,
    "start_time": "2021-12-03T15:17:35.153Z"
   },
   {
    "duration": 3,
    "start_time": "2021-12-03T15:18:29.833Z"
   },
   {
    "duration": 1423,
    "start_time": "2021-12-03T15:18:59.082Z"
   },
   {
    "duration": 16,
    "start_time": "2021-12-03T15:23:08.491Z"
   },
   {
    "duration": 701,
    "start_time": "2021-12-03T15:24:23.966Z"
   },
   {
    "duration": 5,
    "start_time": "2021-12-03T15:24:37.973Z"
   },
   {
    "duration": 686,
    "start_time": "2021-12-03T15:25:52.484Z"
   },
   {
    "duration": 5,
    "start_time": "2021-12-03T15:26:14.058Z"
   },
   {
    "duration": 701,
    "start_time": "2021-12-03T15:27:30.365Z"
   },
   {
    "duration": 5,
    "start_time": "2021-12-03T15:28:00.243Z"
   },
   {
    "duration": 714,
    "start_time": "2021-12-03T15:28:29.214Z"
   },
   {
    "duration": 706,
    "start_time": "2021-12-03T15:28:38.263Z"
   },
   {
    "duration": 5,
    "start_time": "2021-12-03T15:28:41.267Z"
   },
   {
    "duration": 3,
    "start_time": "2021-12-03T15:29:43.599Z"
   },
   {
    "duration": 711,
    "start_time": "2021-12-03T15:29:50.075Z"
   },
   {
    "duration": 3,
    "start_time": "2021-12-03T15:30:59.710Z"
   },
   {
    "duration": 499,
    "start_time": "2021-12-03T15:31:19.450Z"
   },
   {
    "duration": 191,
    "start_time": "2021-12-03T15:33:31.176Z"
   },
   {
    "duration": 1663,
    "start_time": "2021-12-03T15:33:46.067Z"
   },
   {
    "duration": 3472,
    "start_time": "2021-12-03T15:33:47.732Z"
   },
   {
    "duration": 28,
    "start_time": "2021-12-03T15:33:51.206Z"
   },
   {
    "duration": 16,
    "start_time": "2021-12-03T15:33:51.236Z"
   },
   {
    "duration": 259,
    "start_time": "2021-12-03T15:33:51.253Z"
   },
   {
    "duration": 31,
    "start_time": "2021-12-03T15:33:51.513Z"
   },
   {
    "duration": 5,
    "start_time": "2021-12-03T15:33:51.546Z"
   },
   {
    "duration": 5,
    "start_time": "2021-12-03T15:33:51.553Z"
   },
   {
    "duration": 692,
    "start_time": "2021-12-03T15:33:51.561Z"
   },
   {
    "duration": 197,
    "start_time": "2021-12-03T15:33:52.255Z"
   },
   {
    "duration": 2,
    "start_time": "2021-12-03T15:33:52.454Z"
   },
   {
    "duration": 1384,
    "start_time": "2021-12-03T15:33:52.458Z"
   },
   {
    "duration": 4,
    "start_time": "2021-12-03T15:33:53.844Z"
   },
   {
    "duration": 11,
    "start_time": "2021-12-03T15:33:57.584Z"
   },
   {
    "duration": 77701,
    "start_time": "2021-12-03T15:36:11.001Z"
   },
   {
    "duration": 28,
    "start_time": "2021-12-03T15:38:07.917Z"
   },
   {
    "duration": 77103,
    "start_time": "2021-12-03T15:39:38.955Z"
   },
   {
    "duration": 46,
    "start_time": "2021-12-03T15:40:56.060Z"
   },
   {
    "duration": 325,
    "start_time": "2021-12-04T03:09:04.742Z"
   },
   {
    "duration": 1760,
    "start_time": "2021-12-04T03:10:57.506Z"
   },
   {
    "duration": 778,
    "start_time": "2021-12-04T03:10:59.268Z"
   },
   {
    "duration": 34,
    "start_time": "2021-12-04T03:11:00.049Z"
   },
   {
    "duration": 45,
    "start_time": "2021-12-04T03:11:00.086Z"
   },
   {
    "duration": 360,
    "start_time": "2021-12-04T03:11:00.134Z"
   },
   {
    "duration": 51,
    "start_time": "2021-12-04T03:11:00.496Z"
   },
   {
    "duration": 22,
    "start_time": "2021-12-04T03:11:00.549Z"
   },
   {
    "duration": 21,
    "start_time": "2021-12-04T03:11:00.574Z"
   },
   {
    "duration": 987,
    "start_time": "2021-12-04T03:11:00.597Z"
   },
   {
    "duration": 354,
    "start_time": "2021-12-04T03:11:01.587Z"
   },
   {
    "duration": 5,
    "start_time": "2021-12-04T03:11:01.944Z"
   },
   {
    "duration": 10,
    "start_time": "2021-12-04T03:11:01.952Z"
   },
   {
    "duration": 2343,
    "start_time": "2021-12-04T03:11:01.965Z"
   },
   {
    "duration": 132439,
    "start_time": "2021-12-04T03:11:04.311Z"
   },
   {
    "duration": 74,
    "start_time": "2021-12-04T03:13:16.797Z"
   },
   {
    "duration": 3398,
    "start_time": "2021-12-04T03:13:16.874Z"
   },
   {
    "duration": 1697,
    "start_time": "2021-12-04T03:15:53.980Z"
   },
   {
    "duration": 888,
    "start_time": "2021-12-04T03:15:55.680Z"
   },
   {
    "duration": 33,
    "start_time": "2021-12-04T03:15:56.571Z"
   },
   {
    "duration": 38,
    "start_time": "2021-12-04T03:15:56.607Z"
   },
   {
    "duration": 341,
    "start_time": "2021-12-04T03:15:56.648Z"
   },
   {
    "duration": 44,
    "start_time": "2021-12-04T03:15:56.992Z"
   },
   {
    "duration": 9,
    "start_time": "2021-12-04T03:15:57.039Z"
   },
   {
    "duration": 9,
    "start_time": "2021-12-04T03:15:57.050Z"
   },
   {
    "duration": 993,
    "start_time": "2021-12-04T03:15:57.063Z"
   },
   {
    "duration": 135,
    "start_time": "2021-12-04T03:15:58.059Z"
   },
   {
    "duration": 3,
    "start_time": "2021-12-04T03:15:58.196Z"
   },
   {
    "duration": 8,
    "start_time": "2021-12-04T03:15:58.201Z"
   },
   {
    "duration": 2196,
    "start_time": "2021-12-04T03:15:58.211Z"
   },
   {
    "duration": 130429,
    "start_time": "2021-12-04T03:16:00.409Z"
   },
   {
    "duration": 43,
    "start_time": "2021-12-04T03:18:10.840Z"
   },
   {
    "duration": 2946,
    "start_time": "2021-12-04T03:18:23.198Z"
   },
   {
    "duration": 453,
    "start_time": "2021-12-04T03:18:46.946Z"
   },
   {
    "duration": 14479,
    "start_time": "2021-12-04T03:21:33.769Z"
   },
   {
    "duration": 9,
    "start_time": "2021-12-04T03:24:02.616Z"
   },
   {
    "duration": 9,
    "start_time": "2021-12-04T03:25:49.946Z"
   },
   {
    "duration": 11,
    "start_time": "2021-12-04T03:27:03.494Z"
   },
   {
    "duration": 6,
    "start_time": "2021-12-04T03:27:31.324Z"
   },
   {
    "duration": 153,
    "start_time": "2021-12-04T03:35:42.425Z"
   },
   {
    "duration": 9834,
    "start_time": "2021-12-04T03:39:21.706Z"
   },
   {
    "duration": 26190,
    "start_time": "2021-12-04T03:41:56.247Z"
   },
   {
    "duration": 57957,
    "start_time": "2021-12-04T03:43:20.998Z"
   },
   {
    "duration": 79212,
    "start_time": "2021-12-04T03:46:00.413Z"
   },
   {
    "duration": 1752,
    "start_time": "2021-12-04T03:48:27.280Z"
   },
   {
    "duration": 773,
    "start_time": "2021-12-04T03:48:29.035Z"
   },
   {
    "duration": 42,
    "start_time": "2021-12-04T03:48:29.811Z"
   },
   {
    "duration": 22,
    "start_time": "2021-12-04T03:48:29.856Z"
   },
   {
    "duration": 343,
    "start_time": "2021-12-04T03:48:29.880Z"
   },
   {
    "duration": 42,
    "start_time": "2021-12-04T03:48:30.228Z"
   },
   {
    "duration": 28,
    "start_time": "2021-12-04T03:48:30.273Z"
   },
   {
    "duration": 9,
    "start_time": "2021-12-04T03:48:30.305Z"
   },
   {
    "duration": 988,
    "start_time": "2021-12-04T03:48:30.316Z"
   },
   {
    "duration": 152,
    "start_time": "2021-12-04T03:48:31.306Z"
   },
   {
    "duration": 4,
    "start_time": "2021-12-04T03:48:31.461Z"
   },
   {
    "duration": 8,
    "start_time": "2021-12-04T03:48:31.467Z"
   },
   {
    "duration": 2259,
    "start_time": "2021-12-04T03:48:31.478Z"
   },
   {
    "duration": 130019,
    "start_time": "2021-12-04T03:48:33.740Z"
   },
   {
    "duration": 40,
    "start_time": "2021-12-04T03:50:43.761Z"
   },
   {
    "duration": 2960,
    "start_time": "2021-12-04T03:50:43.830Z"
   },
   {
    "duration": 14573,
    "start_time": "2021-12-04T03:50:46.793Z"
   },
   {
    "duration": 166,
    "start_time": "2021-12-04T03:51:01.369Z"
   },
   {
    "duration": 9901,
    "start_time": "2021-12-04T03:51:01.538Z"
   },
   {
    "duration": 105422,
    "start_time": "2021-12-04T03:51:11.442Z"
   },
   {
    "duration": 1889,
    "start_time": "2021-12-04T03:56:58.767Z"
   },
   {
    "duration": 11,
    "start_time": "2021-12-04T03:57:10.317Z"
   },
   {
    "duration": 783,
    "start_time": "2021-12-04T03:57:10.330Z"
   },
   {
    "duration": 36,
    "start_time": "2021-12-04T03:57:11.116Z"
   },
   {
    "duration": 24,
    "start_time": "2021-12-04T03:57:11.155Z"
   },
   {
    "duration": 350,
    "start_time": "2021-12-04T03:57:11.181Z"
   },
   {
    "duration": 39,
    "start_time": "2021-12-04T03:57:11.534Z"
   },
   {
    "duration": 10,
    "start_time": "2021-12-04T03:57:11.576Z"
   },
   {
    "duration": 7,
    "start_time": "2021-12-04T03:57:11.589Z"
   },
   {
    "duration": 980,
    "start_time": "2021-12-04T03:57:11.628Z"
   },
   {
    "duration": 165,
    "start_time": "2021-12-04T03:57:12.611Z"
   },
   {
    "duration": 3,
    "start_time": "2021-12-04T03:57:12.779Z"
   },
   {
    "duration": 7,
    "start_time": "2021-12-04T03:57:12.784Z"
   },
   {
    "duration": 2237,
    "start_time": "2021-12-04T03:57:12.793Z"
   },
   {
    "duration": 131879,
    "start_time": "2021-12-04T03:57:15.033Z"
   },
   {
    "duration": 44,
    "start_time": "2021-12-04T03:59:26.914Z"
   },
   {
    "duration": 2988,
    "start_time": "2021-12-04T03:59:26.961Z"
   },
   {
    "duration": 14584,
    "start_time": "2021-12-04T03:59:29.952Z"
   },
   {
    "duration": 156,
    "start_time": "2021-12-04T03:59:44.539Z"
   },
   {
    "duration": 9949,
    "start_time": "2021-12-04T03:59:44.698Z"
   },
   {
    "duration": 105551,
    "start_time": "2021-12-04T03:59:54.650Z"
   },
   {
    "duration": 1687,
    "start_time": "2021-12-04T04:10:48.444Z"
   },
   {
    "duration": 797,
    "start_time": "2021-12-04T04:10:50.133Z"
   },
   {
    "duration": 32,
    "start_time": "2021-12-04T04:10:50.933Z"
   },
   {
    "duration": 22,
    "start_time": "2021-12-04T04:10:50.968Z"
   },
   {
    "duration": 344,
    "start_time": "2021-12-04T04:10:50.992Z"
   },
   {
    "duration": 39,
    "start_time": "2021-12-04T04:10:51.338Z"
   },
   {
    "duration": 9,
    "start_time": "2021-12-04T04:10:51.380Z"
   },
   {
    "duration": 4,
    "start_time": "2021-12-04T04:10:51.393Z"
   },
   {
    "duration": 999,
    "start_time": "2021-12-04T04:10:51.400Z"
   },
   {
    "duration": 228,
    "start_time": "2021-12-04T04:10:52.402Z"
   },
   {
    "duration": 4,
    "start_time": "2021-12-04T04:10:52.632Z"
   },
   {
    "duration": 9,
    "start_time": "2021-12-04T04:10:52.638Z"
   },
   {
    "duration": 2216,
    "start_time": "2021-12-04T04:10:52.649Z"
   },
   {
    "duration": 132711,
    "start_time": "2021-12-04T04:10:54.867Z"
   },
   {
    "duration": 79,
    "start_time": "2021-12-04T04:13:07.581Z"
   },
   {
    "duration": 2943,
    "start_time": "2021-12-04T04:13:07.663Z"
   },
   {
    "duration": 14555,
    "start_time": "2021-12-04T04:13:10.609Z"
   },
   {
    "duration": 168,
    "start_time": "2021-12-04T04:13:25.167Z"
   },
   {
    "duration": 9903,
    "start_time": "2021-12-04T04:13:25.337Z"
   },
   {
    "duration": 105755,
    "start_time": "2021-12-04T04:15:21.239Z"
   },
   {
    "duration": 32553,
    "start_time": "2021-12-04T04:17:06.996Z"
   },
   {
    "duration": 1986,
    "start_time": "2021-12-04T14:02:02.732Z"
   },
   {
    "duration": 1536,
    "start_time": "2021-12-04T14:02:04.721Z"
   },
   {
    "duration": 44,
    "start_time": "2021-12-04T14:02:06.261Z"
   },
   {
    "duration": 22,
    "start_time": "2021-12-04T14:02:06.308Z"
   },
   {
    "duration": 352,
    "start_time": "2021-12-04T14:02:06.332Z"
   },
   {
    "duration": 39,
    "start_time": "2021-12-04T14:02:06.686Z"
   },
   {
    "duration": 6,
    "start_time": "2021-12-04T14:02:06.727Z"
   },
   {
    "duration": 5,
    "start_time": "2021-12-04T14:02:06.737Z"
   },
   {
    "duration": 1000,
    "start_time": "2021-12-04T14:02:06.744Z"
   },
   {
    "duration": 372,
    "start_time": "2021-12-04T14:02:07.747Z"
   },
   {
    "duration": 4,
    "start_time": "2021-12-04T14:02:08.122Z"
   },
   {
    "duration": 9,
    "start_time": "2021-12-04T14:02:08.130Z"
   },
   {
    "duration": 2361,
    "start_time": "2021-12-04T14:02:08.141Z"
   },
   {
    "duration": 7,
    "start_time": "2021-12-04T14:02:22.936Z"
   },
   {
    "duration": 6,
    "start_time": "2021-12-04T14:18:00.362Z"
   },
   {
    "duration": 5,
    "start_time": "2021-12-04T14:22:47.434Z"
   },
   {
    "duration": 6,
    "start_time": "2021-12-04T14:23:37.090Z"
   },
   {
    "duration": 102,
    "start_time": "2021-12-04T14:25:45.608Z"
   },
   {
    "duration": 164626,
    "start_time": "2021-12-04T14:26:19.227Z"
   },
   {
    "duration": 41,
    "start_time": "2021-12-04T14:31:31.540Z"
   },
   {
    "duration": 2801,
    "start_time": "2021-12-04T14:31:31.923Z"
   },
   {
    "duration": 11099,
    "start_time": "2021-12-04T14:31:34.727Z"
   },
   {
    "duration": 168,
    "start_time": "2021-12-04T14:31:45.830Z"
   },
   {
    "duration": 9689,
    "start_time": "2021-12-04T14:31:46.000Z"
   },
   {
    "duration": 84914,
    "start_time": "2021-12-04T14:31:55.692Z"
   },
   {
    "duration": 20536,
    "start_time": "2021-12-04T14:33:20.609Z"
   },
   {
    "duration": 5501,
    "start_time": "2021-12-04T14:34:22.114Z"
   },
   {
    "duration": 62172,
    "start_time": "2021-12-04T14:34:36.191Z"
   },
   {
    "duration": 89527,
    "start_time": "2021-12-04T14:37:00.879Z"
   },
   {
    "duration": 552,
    "start_time": "2021-12-04T14:38:30.409Z"
   },
   {
    "duration": 9824,
    "start_time": "2021-12-04T14:50:53.344Z"
   },
   {
    "duration": 31972,
    "start_time": "2021-12-04T14:51:46.662Z"
   },
   {
    "duration": 3737,
    "start_time": "2021-12-04T14:57:09.375Z"
   },
   {
    "duration": 19343,
    "start_time": "2021-12-04T14:59:00.082Z"
   },
   {
    "duration": 12,
    "start_time": "2021-12-04T15:16:48.451Z"
   },
   {
    "duration": 6,
    "start_time": "2021-12-04T16:06:21.925Z"
   },
   {
    "duration": 4,
    "start_time": "2021-12-04T16:08:10.013Z"
   },
   {
    "duration": 29,
    "start_time": "2021-12-04T16:11:33.137Z"
   },
   {
    "duration": 26,
    "start_time": "2021-12-04T16:12:01.949Z"
   },
   {
    "duration": 49,
    "start_time": "2021-12-04T16:12:09.439Z"
   },
   {
    "duration": 113,
    "start_time": "2021-12-04T16:12:18.020Z"
   },
   {
    "duration": 407,
    "start_time": "2021-12-04T16:14:42.981Z"
   },
   {
    "duration": 2537,
    "start_time": "2021-12-04T16:15:03.612Z"
   },
   {
    "duration": 1675,
    "start_time": "2021-12-04T16:15:06.152Z"
   },
   {
    "duration": 56,
    "start_time": "2021-12-04T16:15:07.831Z"
   },
   {
    "duration": 25,
    "start_time": "2021-12-04T16:15:07.895Z"
   },
   {
    "duration": 337,
    "start_time": "2021-12-04T16:15:07.924Z"
   },
   {
    "duration": 63,
    "start_time": "2021-12-04T16:15:08.264Z"
   },
   {
    "duration": 10,
    "start_time": "2021-12-04T16:15:08.331Z"
   },
   {
    "duration": 6,
    "start_time": "2021-12-04T16:15:08.344Z"
   },
   {
    "duration": 969,
    "start_time": "2021-12-04T16:15:08.355Z"
   },
   {
    "duration": 216,
    "start_time": "2021-12-04T16:15:09.328Z"
   },
   {
    "duration": 4,
    "start_time": "2021-12-04T16:15:09.548Z"
   },
   {
    "duration": 6,
    "start_time": "2021-12-04T16:15:09.555Z"
   },
   {
    "duration": 3616,
    "start_time": "2021-12-04T16:15:09.564Z"
   },
   {
    "duration": 6,
    "start_time": "2021-12-04T16:15:13.183Z"
   },
   {
    "duration": 9,
    "start_time": "2021-12-04T16:15:13.192Z"
   },
   {
    "duration": 219553,
    "start_time": "2021-12-04T16:15:13.204Z"
   },
   {
    "duration": 72,
    "start_time": "2021-12-04T16:18:52.766Z"
   },
   {
    "duration": 17,
    "start_time": "2021-12-04T16:18:52.841Z"
   },
   {
    "duration": 97,
    "start_time": "2021-12-04T16:18:52.861Z"
   },
   {
    "duration": 25,
    "start_time": "2021-12-04T16:18:52.962Z"
   },
   {
    "duration": 103,
    "start_time": "2021-12-04T16:18:52.990Z"
   },
   {
    "duration": 3,
    "start_time": "2021-12-04T16:18:53.095Z"
   },
   {
    "duration": 2733,
    "start_time": "2021-12-04T16:18:53.101Z"
   },
   {
    "duration": 11138,
    "start_time": "2021-12-04T16:18:55.836Z"
   },
   {
    "duration": 146,
    "start_time": "2021-12-04T16:19:06.977Z"
   },
   {
    "duration": 2177,
    "start_time": "2021-12-04T16:21:20.572Z"
   },
   {
    "duration": 1361,
    "start_time": "2021-12-04T16:21:22.751Z"
   },
   {
    "duration": 31,
    "start_time": "2021-12-04T16:21:24.115Z"
   },
   {
    "duration": 37,
    "start_time": "2021-12-04T16:21:24.149Z"
   },
   {
    "duration": 324,
    "start_time": "2021-12-04T16:21:24.188Z"
   },
   {
    "duration": 35,
    "start_time": "2021-12-04T16:21:24.514Z"
   },
   {
    "duration": 6,
    "start_time": "2021-12-04T16:21:24.552Z"
   },
   {
    "duration": 22,
    "start_time": "2021-12-04T16:21:24.561Z"
   },
   {
    "duration": 945,
    "start_time": "2021-12-04T16:21:24.587Z"
   },
   {
    "duration": 166,
    "start_time": "2021-12-04T16:21:25.536Z"
   },
   {
    "duration": 4,
    "start_time": "2021-12-04T16:21:25.706Z"
   },
   {
    "duration": 6,
    "start_time": "2021-12-04T16:21:25.713Z"
   },
   {
    "duration": 2249,
    "start_time": "2021-12-04T16:21:25.721Z"
   },
   {
    "duration": 5,
    "start_time": "2021-12-04T16:21:27.973Z"
   },
   {
    "duration": 13,
    "start_time": "2021-12-04T16:21:27.980Z"
   },
   {
    "duration": 182908,
    "start_time": "2021-12-04T16:21:27.996Z"
   },
   {
    "duration": 40,
    "start_time": "2021-12-04T16:24:30.914Z"
   },
   {
    "duration": 19,
    "start_time": "2021-12-04T16:24:30.983Z"
   },
   {
    "duration": 82,
    "start_time": "2021-12-04T16:24:31.005Z"
   },
   {
    "duration": 7,
    "start_time": "2021-12-04T16:24:31.090Z"
   },
   {
    "duration": 71,
    "start_time": "2021-12-04T16:24:31.225Z"
   },
   {
    "duration": 11,
    "start_time": "2021-12-04T16:24:31.299Z"
   },
   {
    "duration": 23,
    "start_time": "2021-12-04T16:29:06.577Z"
   },
   {
    "duration": 26,
    "start_time": "2021-12-04T16:29:18.131Z"
   },
   {
    "duration": 32,
    "start_time": "2021-12-04T16:29:48.071Z"
   },
   {
    "duration": 24,
    "start_time": "2021-12-04T16:37:40.314Z"
   },
   {
    "duration": 24,
    "start_time": "2021-12-04T16:38:39.254Z"
   },
   {
    "duration": 1565,
    "start_time": "2021-12-04T16:38:50.328Z"
   },
   {
    "duration": 10,
    "start_time": "2021-12-04T16:44:56.623Z"
   },
   {
    "duration": 11,
    "start_time": "2021-12-04T16:46:04.835Z"
   },
   {
    "duration": 10,
    "start_time": "2021-12-04T16:46:19.071Z"
   },
   {
    "duration": 58,
    "start_time": "2021-12-04T16:47:17.436Z"
   },
   {
    "duration": 78,
    "start_time": "2021-12-04T16:47:25.054Z"
   },
   {
    "duration": 17,
    "start_time": "2021-12-04T16:48:13.045Z"
   },
   {
    "duration": 35,
    "start_time": "2021-12-04T16:56:07.885Z"
   },
   {
    "duration": 24,
    "start_time": "2021-12-04T16:56:23.527Z"
   },
   {
    "duration": 1725,
    "start_time": "2021-12-04T16:57:30.304Z"
   },
   {
    "duration": 779,
    "start_time": "2021-12-04T16:57:32.032Z"
   },
   {
    "duration": 31,
    "start_time": "2021-12-04T16:57:32.814Z"
   },
   {
    "duration": 42,
    "start_time": "2021-12-04T16:57:32.849Z"
   },
   {
    "duration": 323,
    "start_time": "2021-12-04T16:57:32.894Z"
   },
   {
    "duration": 40,
    "start_time": "2021-12-04T16:57:33.219Z"
   },
   {
    "duration": 21,
    "start_time": "2021-12-04T16:57:33.262Z"
   },
   {
    "duration": 5,
    "start_time": "2021-12-04T16:57:33.286Z"
   },
   {
    "duration": 956,
    "start_time": "2021-12-04T16:57:33.295Z"
   },
   {
    "duration": 149,
    "start_time": "2021-12-04T16:57:34.255Z"
   },
   {
    "duration": 3,
    "start_time": "2021-12-04T16:57:34.407Z"
   },
   {
    "duration": 6,
    "start_time": "2021-12-04T16:57:34.413Z"
   },
   {
    "duration": 2188,
    "start_time": "2021-12-04T16:57:34.421Z"
   },
   {
    "duration": 4,
    "start_time": "2021-12-04T16:57:36.612Z"
   },
   {
    "duration": 8,
    "start_time": "2021-12-04T16:57:36.619Z"
   },
   {
    "duration": 178518,
    "start_time": "2021-12-04T16:57:36.629Z"
   },
   {
    "duration": 60,
    "start_time": "2021-12-04T17:00:35.150Z"
   },
   {
    "duration": 14,
    "start_time": "2021-12-04T17:00:35.213Z"
   },
   {
    "duration": 75,
    "start_time": "2021-12-04T17:00:35.230Z"
   },
   {
    "duration": 7,
    "start_time": "2021-12-04T17:00:35.308Z"
   },
   {
    "duration": 44,
    "start_time": "2021-12-04T17:00:35.341Z"
   },
   {
    "duration": 53,
    "start_time": "2021-12-04T17:00:35.389Z"
   },
   {
    "duration": 9,
    "start_time": "2021-12-04T17:00:35.444Z"
   },
   {
    "duration": 765,
    "start_time": "2021-12-04T17:04:17.128Z"
   },
   {
    "duration": 4430,
    "start_time": "2021-12-04T17:05:15.324Z"
   },
   {
    "duration": 500,
    "start_time": "2021-12-04T17:05:21.781Z"
   },
   {
    "duration": 34,
    "start_time": "2021-12-04T17:05:37.657Z"
   },
   {
    "duration": 350,
    "start_time": "2021-12-04T17:07:36.020Z"
   },
   {
    "duration": 2210,
    "start_time": "2021-12-04T17:07:54.660Z"
   },
   {
    "duration": 1613,
    "start_time": "2021-12-04T17:07:56.873Z"
   },
   {
    "duration": 31,
    "start_time": "2021-12-04T17:07:58.489Z"
   },
   {
    "duration": 21,
    "start_time": "2021-12-04T17:07:58.523Z"
   },
   {
    "duration": 355,
    "start_time": "2021-12-04T17:07:58.546Z"
   },
   {
    "duration": 37,
    "start_time": "2021-12-04T17:07:58.903Z"
   },
   {
    "duration": 8,
    "start_time": "2021-12-04T17:07:58.942Z"
   },
   {
    "duration": 29,
    "start_time": "2021-12-04T17:07:58.953Z"
   },
   {
    "duration": 955,
    "start_time": "2021-12-04T17:07:58.988Z"
   },
   {
    "duration": 239,
    "start_time": "2021-12-04T17:07:59.947Z"
   },
   {
    "duration": 3,
    "start_time": "2021-12-04T17:08:00.189Z"
   },
   {
    "duration": 10,
    "start_time": "2021-12-04T17:08:00.195Z"
   },
   {
    "duration": 2378,
    "start_time": "2021-12-04T17:08:00.208Z"
   },
   {
    "duration": 6,
    "start_time": "2021-12-04T17:08:02.589Z"
   },
   {
    "duration": 13,
    "start_time": "2021-12-04T17:08:02.598Z"
   },
   {
    "duration": 178649,
    "start_time": "2021-12-04T17:08:02.614Z"
   },
   {
    "duration": 55,
    "start_time": "2021-12-04T17:11:01.266Z"
   },
   {
    "duration": 20,
    "start_time": "2021-12-04T17:11:01.323Z"
   },
   {
    "duration": 58,
    "start_time": "2021-12-04T17:11:01.346Z"
   },
   {
    "duration": 6,
    "start_time": "2021-12-04T17:11:01.407Z"
   },
   {
    "duration": 29,
    "start_time": "2021-12-04T17:11:01.415Z"
   },
   {
    "duration": 97,
    "start_time": "2021-12-04T17:11:01.447Z"
   },
   {
    "duration": 13,
    "start_time": "2021-12-04T17:11:01.547Z"
   },
   {
    "duration": 717,
    "start_time": "2021-12-04T17:11:01.564Z"
   },
   {
    "duration": 2849,
    "start_time": "2021-12-04T17:11:02.284Z"
   },
   {
    "duration": 49,
    "start_time": "2021-12-04T17:11:05.136Z"
   },
   {
    "duration": 16502,
    "start_time": "2021-12-04T17:11:05.187Z"
   },
   {
    "duration": 545,
    "start_time": "2021-12-04T17:11:21.691Z"
   },
   {
    "duration": 515,
    "start_time": "2021-12-04T17:12:49.091Z"
   },
   {
    "duration": 1914,
    "start_time": "2021-12-04T17:15:04.860Z"
   },
   {
    "duration": 2939,
    "start_time": "2021-12-04T17:15:18.939Z"
   },
   {
    "duration": 4061,
    "start_time": "2021-12-04T17:15:30.688Z"
   },
   {
    "duration": 6328,
    "start_time": "2021-12-04T17:15:40.772Z"
   },
   {
    "duration": 15,
    "start_time": "2021-12-04T17:17:20.987Z"
   },
   {
    "duration": 52,
    "start_time": "2021-12-04T17:17:29.490Z"
   },
   {
    "duration": 7784,
    "start_time": "2021-12-04T17:21:02.838Z"
   },
   {
    "duration": 129,
    "start_time": "2021-12-04T17:21:12.926Z"
   },
   {
    "duration": 14644,
    "start_time": "2021-12-04T17:21:19.128Z"
   },
   {
    "duration": 89734,
    "start_time": "2021-12-04T17:21:33.782Z"
   },
   {
    "duration": 8305,
    "start_time": "2021-12-04T17:23:03.520Z"
   },
   {
    "duration": 307,
    "start_time": "2021-12-04T17:26:11.715Z"
   },
   {
    "duration": 530,
    "start_time": "2021-12-04T17:26:56.559Z"
   },
   {
    "duration": 305,
    "start_time": "2021-12-04T17:26:59.888Z"
   },
   {
    "duration": 1793,
    "start_time": "2021-12-04T17:33:04.418Z"
   },
   {
    "duration": 956,
    "start_time": "2021-12-04T17:33:06.214Z"
   },
   {
    "duration": 37,
    "start_time": "2021-12-04T17:33:07.174Z"
   },
   {
    "duration": 22,
    "start_time": "2021-12-04T17:33:07.214Z"
   },
   {
    "duration": 347,
    "start_time": "2021-12-04T17:33:07.238Z"
   },
   {
    "duration": 40,
    "start_time": "2021-12-04T17:33:07.587Z"
   },
   {
    "duration": 9,
    "start_time": "2021-12-04T17:33:07.629Z"
   },
   {
    "duration": 6,
    "start_time": "2021-12-04T17:33:07.640Z"
   },
   {
    "duration": 1002,
    "start_time": "2021-12-04T17:33:07.650Z"
   },
   {
    "duration": 143,
    "start_time": "2021-12-04T17:33:08.656Z"
   },
   {
    "duration": 7,
    "start_time": "2021-12-04T17:33:08.803Z"
   },
   {
    "duration": 6,
    "start_time": "2021-12-04T17:33:08.813Z"
   },
   {
    "duration": 2961,
    "start_time": "2021-12-04T17:33:08.822Z"
   },
   {
    "duration": 5,
    "start_time": "2021-12-04T17:33:11.786Z"
   },
   {
    "duration": 16,
    "start_time": "2021-12-04T17:33:11.794Z"
   },
   {
    "duration": 193001,
    "start_time": "2021-12-04T17:33:11.813Z"
   },
   {
    "duration": 11,
    "start_time": "2021-12-04T17:36:24.816Z"
   },
   {
    "duration": 6,
    "start_time": "2021-12-04T17:36:24.829Z"
   },
   {
    "duration": 7,
    "start_time": "2021-12-04T17:36:24.837Z"
   },
   {
    "duration": 7809,
    "start_time": "2021-12-04T17:36:24.882Z"
   },
   {
    "duration": 223,
    "start_time": "2021-12-04T17:36:32.471Z"
   },
   {
    "duration": 222,
    "start_time": "2021-12-04T17:36:32.474Z"
   },
   {
    "duration": 222,
    "start_time": "2021-12-04T17:36:32.476Z"
   },
   {
    "duration": 224,
    "start_time": "2021-12-04T17:36:32.477Z"
   },
   {
    "duration": 223,
    "start_time": "2021-12-04T17:36:32.479Z"
   },
   {
    "duration": 222,
    "start_time": "2021-12-04T17:36:32.481Z"
   },
   {
    "duration": 222,
    "start_time": "2021-12-04T17:36:32.483Z"
   },
   {
    "duration": 222,
    "start_time": "2021-12-04T17:36:32.484Z"
   },
   {
    "duration": 221,
    "start_time": "2021-12-04T17:36:32.486Z"
   },
   {
    "duration": 222,
    "start_time": "2021-12-04T17:36:32.487Z"
   },
   {
    "duration": 221,
    "start_time": "2021-12-04T17:36:32.489Z"
   },
   {
    "duration": 32,
    "start_time": "2021-12-04T17:37:27.723Z"
   },
   {
    "duration": 13,
    "start_time": "2021-12-04T17:37:30.926Z"
   },
   {
    "duration": 40,
    "start_time": "2021-12-04T17:37:33.191Z"
   },
   {
    "duration": 6,
    "start_time": "2021-12-04T17:37:34.908Z"
   },
   {
    "duration": 48,
    "start_time": "2021-12-04T17:37:36.434Z"
   },
   {
    "duration": 10842,
    "start_time": "2021-12-04T17:37:38.783Z"
   },
   {
    "duration": 206,
    "start_time": "2021-12-04T17:37:49.628Z"
   },
   {
    "duration": 901,
    "start_time": "2021-12-04T17:37:49.838Z"
   },
   {
    "duration": 3672,
    "start_time": "2021-12-04T17:37:50.742Z"
   },
   {
    "duration": 41,
    "start_time": "2021-12-04T17:37:54.417Z"
   },
   {
    "duration": 15093,
    "start_time": "2021-12-04T17:37:54.460Z"
   },
   {
    "duration": 448,
    "start_time": "2021-12-04T17:38:09.555Z"
   },
   {
    "duration": 88439,
    "start_time": "2021-12-04T17:38:10.007Z"
   },
   {
    "duration": 13019,
    "start_time": "2021-12-04T17:39:38.448Z"
   },
   {
    "duration": 5563,
    "start_time": "2021-12-04T17:39:51.470Z"
   },
   {
    "duration": 6007,
    "start_time": "2021-12-04T17:39:57.035Z"
   },
   {
    "duration": 1739,
    "start_time": "2021-12-05T02:38:45.591Z"
   },
   {
    "duration": 900,
    "start_time": "2021-12-05T02:38:47.333Z"
   },
   {
    "duration": 49,
    "start_time": "2021-12-05T02:38:48.236Z"
   },
   {
    "duration": 23,
    "start_time": "2021-12-05T02:38:48.288Z"
   },
   {
    "duration": 340,
    "start_time": "2021-12-05T02:38:48.313Z"
   },
   {
    "duration": 42,
    "start_time": "2021-12-05T02:38:48.655Z"
   },
   {
    "duration": 7,
    "start_time": "2021-12-05T02:38:48.700Z"
   },
   {
    "duration": 6,
    "start_time": "2021-12-05T02:38:48.710Z"
   },
   {
    "duration": 999,
    "start_time": "2021-12-05T02:38:48.718Z"
   },
   {
    "duration": 160,
    "start_time": "2021-12-05T02:38:49.720Z"
   },
   {
    "duration": 4,
    "start_time": "2021-12-05T02:38:49.883Z"
   },
   {
    "duration": 10,
    "start_time": "2021-12-05T02:38:49.889Z"
   },
   {
    "duration": 2223,
    "start_time": "2021-12-05T02:38:49.901Z"
   },
   {
    "duration": 5,
    "start_time": "2021-12-05T02:38:52.126Z"
   },
   {
    "duration": 14,
    "start_time": "2021-12-05T02:38:52.134Z"
   },
   {
    "duration": 164884,
    "start_time": "2021-12-05T02:38:52.151Z"
   },
   {
    "duration": 64,
    "start_time": "2021-12-05T02:41:37.038Z"
   },
   {
    "duration": 8,
    "start_time": "2021-12-05T02:41:37.105Z"
   },
   {
    "duration": 114,
    "start_time": "2021-12-05T02:41:37.116Z"
   },
   {
    "duration": 5,
    "start_time": "2021-12-05T02:43:38.451Z"
   },
   {
    "duration": 42,
    "start_time": "2021-12-05T02:44:53.890Z"
   },
   {
    "duration": 5530,
    "start_time": "2021-12-05T02:49:31.505Z"
   },
   {
    "duration": 7410,
    "start_time": "2021-12-05T02:54:50.392Z"
   },
   {
    "duration": 8,
    "start_time": "2021-12-05T02:55:17.582Z"
   },
   {
    "duration": 18926,
    "start_time": "2021-12-05T02:56:29.916Z"
   },
   {
    "duration": 1948,
    "start_time": "2021-12-05T02:58:06.361Z"
   },
   {
    "duration": 3270,
    "start_time": "2021-12-05T02:59:00.716Z"
   },
   {
    "duration": 3345,
    "start_time": "2021-12-05T02:59:57.960Z"
   },
   {
    "duration": 422,
    "start_time": "2021-12-05T03:04:55.623Z"
   },
   {
    "duration": 71143,
    "start_time": "2021-12-05T03:04:56.047Z"
   },
   {
    "duration": 11165,
    "start_time": "2021-12-05T03:06:07.193Z"
   },
   {
    "duration": 1541,
    "start_time": "2021-12-05T03:06:18.360Z"
   },
   {
    "duration": 2509,
    "start_time": "2021-12-05T03:06:19.904Z"
   },
   {
    "duration": 46178,
    "start_time": "2021-12-05T03:15:18.787Z"
   },
   {
    "duration": 468,
    "start_time": "2021-12-05T03:16:04.967Z"
   },
   {
    "duration": 5586,
    "start_time": "2021-12-05T03:16:05.438Z"
   },
   {
    "duration": 4455,
    "start_time": "2021-12-05T03:16:23.535Z"
   },
   {
    "duration": 2528,
    "start_time": "2021-12-05T03:16:35.275Z"
   },
   {
    "duration": 6048,
    "start_time": "2021-12-05T03:16:48.871Z"
   },
   {
    "duration": 4396,
    "start_time": "2021-12-05T03:17:11.314Z"
   },
   {
    "duration": 12221,
    "start_time": "2021-12-05T03:19:13.493Z"
   },
   {
    "duration": 7264,
    "start_time": "2021-12-05T03:19:34.514Z"
   },
   {
    "duration": 14095,
    "start_time": "2021-12-05T03:19:47.197Z"
   },
   {
    "duration": 13021,
    "start_time": "2021-12-05T03:20:10.828Z"
   },
   {
    "duration": 12697,
    "start_time": "2021-12-05T03:20:32.780Z"
   },
   {
    "duration": 36809,
    "start_time": "2021-12-05T03:21:19.674Z"
   },
   {
    "duration": 12947,
    "start_time": "2021-12-05T03:22:00.869Z"
   },
   {
    "duration": 60284,
    "start_time": "2021-12-05T03:22:17.980Z"
   },
   {
    "duration": 12831,
    "start_time": "2021-12-05T03:23:18.267Z"
   },
   {
    "duration": 12661,
    "start_time": "2021-12-05T03:25:43.899Z"
   },
   {
    "duration": 12594,
    "start_time": "2021-12-05T03:26:18.832Z"
   },
   {
    "duration": 13307,
    "start_time": "2021-12-05T03:26:43.698Z"
   },
   {
    "duration": 15051,
    "start_time": "2021-12-05T03:32:52.176Z"
   },
   {
    "duration": 453,
    "start_time": "2021-12-05T03:40:43.762Z"
   },
   {
    "duration": 3808,
    "start_time": "2021-12-05T03:42:13.169Z"
   },
   {
    "duration": 3944,
    "start_time": "2021-12-05T03:42:34.768Z"
   },
   {
    "duration": 339712,
    "start_time": "2021-12-05T03:42:55.638Z"
   },
   {
    "duration": 97,
    "start_time": "2021-12-05T03:48:35.256Z"
   },
   {
    "duration": 12686,
    "start_time": "2021-12-05T03:51:52.153Z"
   },
   {
    "duration": 17542,
    "start_time": "2021-12-05T03:53:00.210Z"
   },
   {
    "duration": 374534,
    "start_time": "2021-12-05T03:53:17.755Z"
   },
   {
    "duration": 13250,
    "start_time": "2021-12-05T04:07:19.101Z"
   },
   {
    "duration": 1729,
    "start_time": "2021-12-05T04:08:24.353Z"
   },
   {
    "duration": 780,
    "start_time": "2021-12-05T04:08:26.084Z"
   },
   {
    "duration": 47,
    "start_time": "2021-12-05T04:08:26.868Z"
   },
   {
    "duration": 22,
    "start_time": "2021-12-05T04:08:26.919Z"
   },
   {
    "duration": 355,
    "start_time": "2021-12-05T04:08:26.944Z"
   },
   {
    "duration": 40,
    "start_time": "2021-12-05T04:08:27.302Z"
   },
   {
    "duration": 5,
    "start_time": "2021-12-05T04:08:27.345Z"
   },
   {
    "duration": 5,
    "start_time": "2021-12-05T04:08:27.354Z"
   },
   {
    "duration": 969,
    "start_time": "2021-12-05T04:08:27.383Z"
   },
   {
    "duration": 216,
    "start_time": "2021-12-05T04:08:28.354Z"
   },
   {
    "duration": 4,
    "start_time": "2021-12-05T04:08:28.573Z"
   },
   {
    "duration": 7,
    "start_time": "2021-12-05T04:08:28.580Z"
   },
   {
    "duration": 2227,
    "start_time": "2021-12-05T04:08:28.589Z"
   },
   {
    "duration": 6,
    "start_time": "2021-12-05T04:08:30.819Z"
   },
   {
    "duration": 17,
    "start_time": "2021-12-05T04:08:30.827Z"
   },
   {
    "duration": 183321,
    "start_time": "2021-12-05T04:08:30.846Z"
   },
   {
    "duration": 48,
    "start_time": "2021-12-05T04:11:34.170Z"
   },
   {
    "duration": 9,
    "start_time": "2021-12-05T04:11:34.222Z"
   },
   {
    "duration": 189,
    "start_time": "2021-12-05T04:11:34.234Z"
   },
   {
    "duration": 8,
    "start_time": "2021-12-05T04:11:34.427Z"
   },
   {
    "duration": 76,
    "start_time": "2021-12-05T04:11:34.438Z"
   },
   {
    "duration": 9004,
    "start_time": "2021-12-05T04:11:34.517Z"
   },
   {
    "duration": 7757,
    "start_time": "2021-12-05T04:11:43.527Z"
   },
   {
    "duration": 1134,
    "start_time": "2021-12-05T04:11:51.287Z"
   },
   {
    "duration": 3354,
    "start_time": "2021-12-05T04:11:52.424Z"
   },
   {
    "duration": 359579,
    "start_time": "2021-12-05T04:11:55.783Z"
   },
   {
    "duration": 13204,
    "start_time": "2021-12-05T04:17:55.365Z"
   },
   {
    "duration": 3852,
    "start_time": "2021-12-05T04:18:08.572Z"
   },
   {
    "duration": 60237,
    "start_time": "2021-12-05T04:18:12.427Z"
   },
   {
    "duration": 10736,
    "start_time": "2021-12-05T04:19:12.667Z"
   },
   {
    "duration": 2622,
    "start_time": "2021-12-05T04:19:23.405Z"
   },
   {
    "duration": 2691,
    "start_time": "2021-12-05T04:19:26.030Z"
   },
   {
    "duration": 1744,
    "start_time": "2021-12-05T23:01:09.945Z"
   },
   {
    "duration": 1348,
    "start_time": "2021-12-05T23:01:11.692Z"
   },
   {
    "duration": 35,
    "start_time": "2021-12-05T23:01:13.043Z"
   },
   {
    "duration": 23,
    "start_time": "2021-12-05T23:01:13.081Z"
   },
   {
    "duration": 352,
    "start_time": "2021-12-05T23:01:13.106Z"
   },
   {
    "duration": 40,
    "start_time": "2021-12-05T23:01:13.467Z"
   },
   {
    "duration": 11,
    "start_time": "2021-12-05T23:01:13.509Z"
   },
   {
    "duration": 7,
    "start_time": "2021-12-05T23:01:13.524Z"
   },
   {
    "duration": 1005,
    "start_time": "2021-12-05T23:01:13.534Z"
   },
   {
    "duration": 358,
    "start_time": "2021-12-05T23:01:14.542Z"
   },
   {
    "duration": 3,
    "start_time": "2021-12-05T23:01:14.903Z"
   },
   {
    "duration": 10,
    "start_time": "2021-12-05T23:01:14.908Z"
   },
   {
    "duration": 2252,
    "start_time": "2021-12-05T23:01:14.920Z"
   },
   {
    "duration": 5,
    "start_time": "2021-12-05T23:01:17.174Z"
   },
   {
    "duration": 14,
    "start_time": "2021-12-05T23:01:17.181Z"
   },
   {
    "duration": 169152,
    "start_time": "2021-12-05T23:01:17.197Z"
   },
   {
    "duration": 41,
    "start_time": "2021-12-05T23:04:06.352Z"
   },
   {
    "duration": 15,
    "start_time": "2021-12-05T23:04:06.396Z"
   },
   {
    "duration": 135,
    "start_time": "2021-12-05T23:04:06.414Z"
   },
   {
    "duration": 454,
    "start_time": "2021-12-05T23:04:06.552Z"
   },
   {
    "duration": -634,
    "start_time": "2021-12-05T23:04:07.643Z"
   },
   {
    "duration": -639,
    "start_time": "2021-12-05T23:04:07.649Z"
   },
   {
    "duration": -640,
    "start_time": "2021-12-05T23:04:07.651Z"
   },
   {
    "duration": -753,
    "start_time": "2021-12-05T23:04:07.766Z"
   },
   {
    "duration": -754,
    "start_time": "2021-12-05T23:04:07.768Z"
   },
   {
    "duration": -754,
    "start_time": "2021-12-05T23:04:07.770Z"
   },
   {
    "duration": -756,
    "start_time": "2021-12-05T23:04:07.773Z"
   },
   {
    "duration": -756,
    "start_time": "2021-12-05T23:04:07.775Z"
   },
   {
    "duration": 85,
    "start_time": "2021-12-05T23:06:42.239Z"
   },
   {
    "duration": 5,
    "start_time": "2021-12-05T23:06:47.599Z"
   },
   {
    "duration": 45,
    "start_time": "2021-12-05T23:06:47.960Z"
   },
   {
    "duration": 5782,
    "start_time": "2021-12-05T23:06:49.611Z"
   },
   {
    "duration": 7808,
    "start_time": "2021-12-05T23:06:55.396Z"
   },
   {
    "duration": 4402,
    "start_time": "2021-12-05T23:07:03.207Z"
   },
   {
    "duration": 5372,
    "start_time": "2021-12-05T23:07:07.611Z"
   },
   {
    "duration": 1184,
    "start_time": "2021-12-05T23:07:12.986Z"
   },
   {
    "duration": 3390,
    "start_time": "2021-12-05T23:07:14.173Z"
   },
   {
    "duration": 277954,
    "start_time": "2021-12-05T23:08:32.025Z"
   },
   {
    "duration": 13319,
    "start_time": "2021-12-05T23:13:09.983Z"
   },
   {
    "duration": 3893,
    "start_time": "2021-12-05T23:13:23.305Z"
   },
   {
    "duration": 63830,
    "start_time": "2021-12-05T23:13:27.200Z"
   },
   {
    "duration": 12285,
    "start_time": "2021-12-05T23:14:31.032Z"
   },
   {
    "duration": 2660,
    "start_time": "2021-12-05T23:14:43.319Z"
   },
   {
    "duration": 2704,
    "start_time": "2021-12-05T23:14:45.981Z"
   }
  ],
  "kernelspec": {
   "display_name": "Python 3 (ipykernel)",
   "language": "python",
   "name": "python3"
  },
  "language_info": {
   "codemirror_mode": {
    "name": "ipython",
    "version": 3
   },
   "file_extension": ".py",
   "mimetype": "text/x-python",
   "name": "python",
   "nbconvert_exporter": "python",
   "pygments_lexer": "ipython3",
   "version": "3.9.5"
  },
  "toc": {
   "base_numbering": 1,
   "nav_menu": {},
   "number_sections": true,
   "sideBar": true,
   "skip_h1_title": true,
   "title_cell": "Содержание",
   "title_sidebar": "Contents",
   "toc_cell": true,
   "toc_position": {
    "height": "calc(100% - 180px)",
    "left": "10px",
    "top": "150px",
    "width": "302.391px"
   },
   "toc_section_display": true,
   "toc_window_display": false
  }
 },
 "nbformat": 4,
 "nbformat_minor": 2
}
